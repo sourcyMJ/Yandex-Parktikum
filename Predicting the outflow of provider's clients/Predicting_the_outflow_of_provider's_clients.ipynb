{
  "cells": [
    {
      "cell_type": "markdown",
      "id": "e0817fe6",
      "metadata": {
        "id": "e0817fe6"
      },
      "source": [
        "# Forecasting the outflow of customers of the Internet provider"
      ]
    },
    {
      "cell_type": "markdown",
      "id": "ff7ffba6",
      "metadata": {
        "id": "ff7ffba6"
      },
      "source": [
        "The telecom operator wants to learn how to predict the outflow of customers. If it turns out that the user is planning to leave, he will be offered promo codes and special terms of service. The operator's team collected personal data about some customers, information about their tariffs and contracts."
      ]
    },
    {
      "cell_type": "markdown",
      "id": "b4ef0bab",
      "metadata": {
        "id": "b4ef0bab"
      },
      "source": [
        "**Data description**"
      ]
    },
    {
      "cell_type": "markdown",
      "id": "01886d81",
      "metadata": {
        "id": "01886d81"
      },
      "source": [
        "The data consists of files received from different sources:\n",
        "\n",
        "- 'contract.csv' — information about the contract;\n",
        "- `personal.csv' — client's personal data;\n",
        "- `internet.csv' — information about internet services;\n",
        "- `phone.csv' — information about telephony services.\n",
        "\n",
        "All files contains the `CustomerID` column - personal code customer.\n",
        "\n",
        "Information about the contracts is current as of February 1, 2020."
      ]
    },
    {
      "cell_type": "markdown",
      "id": "ebc38741",
      "metadata": {
        "id": "ebc38741"
      },
      "source": [
        "### The purpose of the research"
      ]
    },
    {
      "cell_type": "markdown",
      "id": "91c74eb6",
      "metadata": {
        "id": "91c74eb6"
      },
      "source": [
        "- to build a model that will help the company predict whether its client is going to leave"
      ]
    },
    {
      "cell_type": "markdown",
      "id": "4222fcff",
      "metadata": {
        "id": "4222fcff"
      },
      "source": [
        "### Research plan"
      ]
    },
    {
      "cell_type": "markdown",
      "id": "a68d3e95",
      "metadata": {
        "id": "a68d3e95"
      },
      "source": [
        "1. Data overview:\n",
        "- Loading input data;\n",
        "- Exploring the data in accordance with the documentation.\n",
        "\n",
        "\n",
        "2. Data preprocessing:\n",
        "- Checking for data missing values and hidden duplicates;\n",
        "- Checking for outliers and suspicious data;\n",
        "- Checking the correctness of data formats;\n",
        "- Elimination of identified problems.\n",
        "\n",
        "\n",
        "3. Data analysis:\n",
        "- Combining tables by the CustomerID key, taking into account the fact that there are different numbers of IDs in the tables;\n",
        "- Search and check dependencies between data;\n",
        "- Feature engineering.\n",
        "\n",
        "\n",
        "4. Building a model:\n",
        "- Scaling of numerical features;\n",
        "- Encoding of categorical data by the OHE method;\n",
        "- Elimination of class imbalance;\n",
        "- Selection of the model using cross-validation;\n",
        "- Testing the model with the necessary condition to achieve the final metric (ROC-AUC >= 0.75).\n",
        "\n",
        "\n",
        "5. Writing the final report:\n",
        "- Description of the task, what goals were set;\n",
        "- Description of the received source data;\n",
        "- Description of errors and inaccuracies in the data;\n",
        "- Description of the actions performed with the data;\n",
        "- Description of the actions performed to write the model;\n",
        "- Argumentation of final model choice;\n",
        "- Summary of the work done, recommendations to the customer on further work with the model."
      ]
    },
    {
      "cell_type": "markdown",
      "id": "732edcf3",
      "metadata": {
        "id": "732edcf3"
      },
      "source": [
        "___\n",
        "### Data Overview\n",
        "___"
      ]
    },
    {
      "cell_type": "markdown",
      "id": "4bd9bd3a",
      "metadata": {
        "id": "4bd9bd3a"
      },
      "source": [
        "Let's make a first look at the data and import all the necessary libraries"
      ]
    },
    {
      "cell_type": "code",
      "execution_count": 4,
      "id": "69311cf2",
      "metadata": {
        "id": "69311cf2"
      },
      "outputs": [],
      "source": [
        "import warnings\n",
        "warnings.simplefilter(action='ignore', category=FutureWarning)\n",
        "import pandas as pd;\n",
        "import numpy as np;\n",
        "import seaborn as sns;\n",
        "import matplotlib.pyplot as plt;\n",
        "from datetime import datetime;\n",
        "from sklearn.preprocessing import OrdinalEncoder, StandardScaler\n",
        "from sklearn.model_selection import train_test_split\n",
        "from statsmodels.stats.outliers_influence import variance_inflation_factor\n",
        "from sklearn.linear_model import LogisticRegressionCV\n",
        "from sklearn.ensemble import RandomForestClassifier\n",
        "from sklearn.model_selection import GridSearchCV\n",
        "from catboost import CatBoostClassifier\n",
        "from sklearn.metrics import roc_auc_score, roc_curve\n",
        "from IPython.display import Image, display"
      ]
    },
    {
      "cell_type": "code",
      "execution_count": 5,
      "id": "50fe76db",
      "metadata": {
        "id": "50fe76db"
      },
      "outputs": [],
      "source": [
        "pd.options.display.max_columns = 500\n",
        "pd.options.display.max_rows = 500\n",
        "random_state = 80822"
      ]
    },
    {
      "cell_type": "markdown",
      "id": "e46da85c",
      "metadata": {
        "id": "e46da85c"
      },
      "source": [
        "Let's read the data files from the /datasets folder and save them in variables:"
      ]
    },
    {
      "cell_type": "code",
      "execution_count": 11,
      "id": "a6c9f321",
      "metadata": {
        "id": "a6c9f321"
      },
      "outputs": [],
      "source": [
        "try:\n",
        "    df_contract = pd.read_csv('//Users/vladislav/Downloads/final_provider/contract.csv')\n",
        "    df_personal = pd.read_csv('//Users/vladislav/Downloads/final_provider/personal.csv')\n",
        "    df_internet = pd.read_csv('//Users/vladislav/Downloads/final_provider/internet.csv')\n",
        "    df_phone = pd.read_csv('//Users/vladislav/Downloads/final_provider/phone.csv')\n",
        "except:\n",
        "    df_contract = pd.read_csv('/contract.csv')\n",
        "    df_personal = pd.read_csv('/personal.csv')\n",
        "    df_internet = pd.read_csv('/internet.csv')\n",
        "    df_phone = pd.read_csv('/phone.csv')    \n",
        "    "
      ]
    },
    {
      "cell_type": "code",
      "source": [
        "from google.colab import drive\n",
        "drive.mount('/content/drive')"
      ],
      "metadata": {
        "colab": {
          "base_uri": "https://localhost:8080/"
        },
        "id": "GoxVhTMb3sUj",
        "outputId": "c27aae31-bc7b-4aa6-e58d-b0cc9746e96f"
      },
      "id": "GoxVhTMb3sUj",
      "execution_count": 12,
      "outputs": [
        {
          "output_type": "stream",
          "name": "stdout",
          "text": [
            "Drive already mounted at /content/drive; to attempt to forcibly remount, call drive.mount(\"/content/drive\", force_remount=True).\n"
          ]
        }
      ]
    },
    {
      "cell_type": "markdown",
      "id": "ca6894ed",
      "metadata": {
        "id": "ca6894ed"
      },
      "source": [
        "Let's write a function for the primary exploration of datasets:"
      ]
    },
    {
      "cell_type": "code",
      "execution_count": 13,
      "id": "0510eb2d",
      "metadata": {
        "id": "0510eb2d"
      },
      "outputs": [],
      "source": [
        "def describe(df):\n",
        "    \n",
        "    display('The first 5 rows of the table', df.head()) \n",
        "    display('##############################################')\n",
        "    display(df.info())\n",
        "    display('##############################################')\n",
        "    display('Data description', df.describe(include='all').T)\n",
        "    display('##############################################')\n",
        "    display('Number of missing values', df.isna().sum())"
      ]
    },
    {
      "cell_type": "markdown",
      "id": "bfb8e950",
      "metadata": {
        "id": "bfb8e950"
      },
      "source": [
        "We can start exploring the data from the df_contracts (file with users' contracts). According to the data documentation, this table contains information about the terms of contracts:"
      ]
    },
    {
      "cell_type": "markdown",
      "id": "8b8f9c43",
      "metadata": {
        "id": "8b8f9c43"
      },
      "source": [
        "- BeginDate – start date of using the services,\n",
        "- EndDate – the end date of using the services,\n",
        "- Type – payment type: monthly, annual, etc.,\n",
        "- PaperlessBilling – cashless payment,\n",
        "- PaymentMethod – payment method,\n",
        "- MonthlyCharges – monthly expenses for services"
      ]
    },
    {
      "cell_type": "code",
      "execution_count": 14,
      "id": "e158cc4c",
      "metadata": {
        "colab": {
          "base_uri": "https://localhost:8080/",
          "height": 1000
        },
        "id": "e158cc4c",
        "outputId": "5d7ea563-361a-4620-d6b0-ef76e8454387"
      },
      "outputs": [
        {
          "output_type": "display_data",
          "data": {
            "text/plain": [
              "'The first 5 rows of the table'"
            ],
            "application/vnd.google.colaboratory.intrinsic+json": {
              "type": "string"
            }
          },
          "metadata": {}
        },
        {
          "output_type": "display_data",
          "data": {
            "text/plain": [
              "   customerID   BeginDate              EndDate            Type  \\\n",
              "0  7590-VHVEG  2020-01-01                   No  Month-to-month   \n",
              "1  5575-GNVDE  2017-04-01                   No        One year   \n",
              "2  3668-QPYBK  2019-10-01  2019-12-01 00:00:00  Month-to-month   \n",
              "3  7795-CFOCW  2016-05-01                   No        One year   \n",
              "4  9237-HQITU  2019-09-01  2019-11-01 00:00:00  Month-to-month   \n",
              "\n",
              "  PaperlessBilling              PaymentMethod  MonthlyCharges TotalCharges  \n",
              "0              Yes           Electronic check           29.85        29.85  \n",
              "1               No               Mailed check           56.95       1889.5  \n",
              "2              Yes               Mailed check           53.85       108.15  \n",
              "3               No  Bank transfer (automatic)           42.30      1840.75  \n",
              "4              Yes           Electronic check           70.70       151.65  "
            ],
            "text/html": [
              "\n",
              "  <div id=\"df-3a6bc609-e256-4ffb-9dca-63d57799a7ad\">\n",
              "    <div class=\"colab-df-container\">\n",
              "      <div>\n",
              "<style scoped>\n",
              "    .dataframe tbody tr th:only-of-type {\n",
              "        vertical-align: middle;\n",
              "    }\n",
              "\n",
              "    .dataframe tbody tr th {\n",
              "        vertical-align: top;\n",
              "    }\n",
              "\n",
              "    .dataframe thead th {\n",
              "        text-align: right;\n",
              "    }\n",
              "</style>\n",
              "<table border=\"1\" class=\"dataframe\">\n",
              "  <thead>\n",
              "    <tr style=\"text-align: right;\">\n",
              "      <th></th>\n",
              "      <th>customerID</th>\n",
              "      <th>BeginDate</th>\n",
              "      <th>EndDate</th>\n",
              "      <th>Type</th>\n",
              "      <th>PaperlessBilling</th>\n",
              "      <th>PaymentMethod</th>\n",
              "      <th>MonthlyCharges</th>\n",
              "      <th>TotalCharges</th>\n",
              "    </tr>\n",
              "  </thead>\n",
              "  <tbody>\n",
              "    <tr>\n",
              "      <th>0</th>\n",
              "      <td>7590-VHVEG</td>\n",
              "      <td>2020-01-01</td>\n",
              "      <td>No</td>\n",
              "      <td>Month-to-month</td>\n",
              "      <td>Yes</td>\n",
              "      <td>Electronic check</td>\n",
              "      <td>29.85</td>\n",
              "      <td>29.85</td>\n",
              "    </tr>\n",
              "    <tr>\n",
              "      <th>1</th>\n",
              "      <td>5575-GNVDE</td>\n",
              "      <td>2017-04-01</td>\n",
              "      <td>No</td>\n",
              "      <td>One year</td>\n",
              "      <td>No</td>\n",
              "      <td>Mailed check</td>\n",
              "      <td>56.95</td>\n",
              "      <td>1889.5</td>\n",
              "    </tr>\n",
              "    <tr>\n",
              "      <th>2</th>\n",
              "      <td>3668-QPYBK</td>\n",
              "      <td>2019-10-01</td>\n",
              "      <td>2019-12-01 00:00:00</td>\n",
              "      <td>Month-to-month</td>\n",
              "      <td>Yes</td>\n",
              "      <td>Mailed check</td>\n",
              "      <td>53.85</td>\n",
              "      <td>108.15</td>\n",
              "    </tr>\n",
              "    <tr>\n",
              "      <th>3</th>\n",
              "      <td>7795-CFOCW</td>\n",
              "      <td>2016-05-01</td>\n",
              "      <td>No</td>\n",
              "      <td>One year</td>\n",
              "      <td>No</td>\n",
              "      <td>Bank transfer (automatic)</td>\n",
              "      <td>42.30</td>\n",
              "      <td>1840.75</td>\n",
              "    </tr>\n",
              "    <tr>\n",
              "      <th>4</th>\n",
              "      <td>9237-HQITU</td>\n",
              "      <td>2019-09-01</td>\n",
              "      <td>2019-11-01 00:00:00</td>\n",
              "      <td>Month-to-month</td>\n",
              "      <td>Yes</td>\n",
              "      <td>Electronic check</td>\n",
              "      <td>70.70</td>\n",
              "      <td>151.65</td>\n",
              "    </tr>\n",
              "  </tbody>\n",
              "</table>\n",
              "</div>\n",
              "      <button class=\"colab-df-convert\" onclick=\"convertToInteractive('df-3a6bc609-e256-4ffb-9dca-63d57799a7ad')\"\n",
              "              title=\"Convert this dataframe to an interactive table.\"\n",
              "              style=\"display:none;\">\n",
              "        \n",
              "  <svg xmlns=\"http://www.w3.org/2000/svg\" height=\"24px\"viewBox=\"0 0 24 24\"\n",
              "       width=\"24px\">\n",
              "    <path d=\"M0 0h24v24H0V0z\" fill=\"none\"/>\n",
              "    <path d=\"M18.56 5.44l.94 2.06.94-2.06 2.06-.94-2.06-.94-.94-2.06-.94 2.06-2.06.94zm-11 1L8.5 8.5l.94-2.06 2.06-.94-2.06-.94L8.5 2.5l-.94 2.06-2.06.94zm10 10l.94 2.06.94-2.06 2.06-.94-2.06-.94-.94-2.06-.94 2.06-2.06.94z\"/><path d=\"M17.41 7.96l-1.37-1.37c-.4-.4-.92-.59-1.43-.59-.52 0-1.04.2-1.43.59L10.3 9.45l-7.72 7.72c-.78.78-.78 2.05 0 2.83L4 21.41c.39.39.9.59 1.41.59.51 0 1.02-.2 1.41-.59l7.78-7.78 2.81-2.81c.8-.78.8-2.07 0-2.86zM5.41 20L4 18.59l7.72-7.72 1.47 1.35L5.41 20z\"/>\n",
              "  </svg>\n",
              "      </button>\n",
              "      \n",
              "  <style>\n",
              "    .colab-df-container {\n",
              "      display:flex;\n",
              "      flex-wrap:wrap;\n",
              "      gap: 12px;\n",
              "    }\n",
              "\n",
              "    .colab-df-convert {\n",
              "      background-color: #E8F0FE;\n",
              "      border: none;\n",
              "      border-radius: 50%;\n",
              "      cursor: pointer;\n",
              "      display: none;\n",
              "      fill: #1967D2;\n",
              "      height: 32px;\n",
              "      padding: 0 0 0 0;\n",
              "      width: 32px;\n",
              "    }\n",
              "\n",
              "    .colab-df-convert:hover {\n",
              "      background-color: #E2EBFA;\n",
              "      box-shadow: 0px 1px 2px rgba(60, 64, 67, 0.3), 0px 1px 3px 1px rgba(60, 64, 67, 0.15);\n",
              "      fill: #174EA6;\n",
              "    }\n",
              "\n",
              "    [theme=dark] .colab-df-convert {\n",
              "      background-color: #3B4455;\n",
              "      fill: #D2E3FC;\n",
              "    }\n",
              "\n",
              "    [theme=dark] .colab-df-convert:hover {\n",
              "      background-color: #434B5C;\n",
              "      box-shadow: 0px 1px 3px 1px rgba(0, 0, 0, 0.15);\n",
              "      filter: drop-shadow(0px 1px 2px rgba(0, 0, 0, 0.3));\n",
              "      fill: #FFFFFF;\n",
              "    }\n",
              "  </style>\n",
              "\n",
              "      <script>\n",
              "        const buttonEl =\n",
              "          document.querySelector('#df-3a6bc609-e256-4ffb-9dca-63d57799a7ad button.colab-df-convert');\n",
              "        buttonEl.style.display =\n",
              "          google.colab.kernel.accessAllowed ? 'block' : 'none';\n",
              "\n",
              "        async function convertToInteractive(key) {\n",
              "          const element = document.querySelector('#df-3a6bc609-e256-4ffb-9dca-63d57799a7ad');\n",
              "          const dataTable =\n",
              "            await google.colab.kernel.invokeFunction('convertToInteractive',\n",
              "                                                     [key], {});\n",
              "          if (!dataTable) return;\n",
              "\n",
              "          const docLinkHtml = 'Like what you see? Visit the ' +\n",
              "            '<a target=\"_blank\" href=https://colab.research.google.com/notebooks/data_table.ipynb>data table notebook</a>'\n",
              "            + ' to learn more about interactive tables.';\n",
              "          element.innerHTML = '';\n",
              "          dataTable['output_type'] = 'display_data';\n",
              "          await google.colab.output.renderOutput(dataTable, element);\n",
              "          const docLink = document.createElement('div');\n",
              "          docLink.innerHTML = docLinkHtml;\n",
              "          element.appendChild(docLink);\n",
              "        }\n",
              "      </script>\n",
              "    </div>\n",
              "  </div>\n",
              "  "
            ]
          },
          "metadata": {}
        },
        {
          "output_type": "display_data",
          "data": {
            "text/plain": [
              "'##############################################'"
            ],
            "application/vnd.google.colaboratory.intrinsic+json": {
              "type": "string"
            }
          },
          "metadata": {}
        },
        {
          "output_type": "stream",
          "name": "stdout",
          "text": [
            "<class 'pandas.core.frame.DataFrame'>\n",
            "RangeIndex: 7043 entries, 0 to 7042\n",
            "Data columns (total 8 columns):\n",
            " #   Column            Non-Null Count  Dtype  \n",
            "---  ------            --------------  -----  \n",
            " 0   customerID        7043 non-null   object \n",
            " 1   BeginDate         7043 non-null   object \n",
            " 2   EndDate           7043 non-null   object \n",
            " 3   Type              7043 non-null   object \n",
            " 4   PaperlessBilling  7043 non-null   object \n",
            " 5   PaymentMethod     7043 non-null   object \n",
            " 6   MonthlyCharges    7043 non-null   float64\n",
            " 7   TotalCharges      7043 non-null   object \n",
            "dtypes: float64(1), object(7)\n",
            "memory usage: 440.3+ KB\n"
          ]
        },
        {
          "output_type": "display_data",
          "data": {
            "text/plain": [
              "None"
            ]
          },
          "metadata": {}
        },
        {
          "output_type": "display_data",
          "data": {
            "text/plain": [
              "'##############################################'"
            ],
            "application/vnd.google.colaboratory.intrinsic+json": {
              "type": "string"
            }
          },
          "metadata": {}
        },
        {
          "output_type": "display_data",
          "data": {
            "text/plain": [
              "'Data description'"
            ],
            "application/vnd.google.colaboratory.intrinsic+json": {
              "type": "string"
            }
          },
          "metadata": {}
        },
        {
          "output_type": "display_data",
          "data": {
            "text/plain": [
              "                   count unique               top  freq       mean        std  \\\n",
              "customerID          7043   7043        7590-VHVEG     1        NaN        NaN   \n",
              "BeginDate           7043     77        2014-02-01   366        NaN        NaN   \n",
              "EndDate             7043      5                No  5174        NaN        NaN   \n",
              "Type                7043      3    Month-to-month  3875        NaN        NaN   \n",
              "PaperlessBilling    7043      2               Yes  4171        NaN        NaN   \n",
              "PaymentMethod       7043      4  Electronic check  2365        NaN        NaN   \n",
              "MonthlyCharges    7043.0    NaN               NaN   NaN  64.761692  30.090047   \n",
              "TotalCharges        7043   6531                      11        NaN        NaN   \n",
              "\n",
              "                    min   25%    50%    75%     max  \n",
              "customerID          NaN   NaN    NaN    NaN     NaN  \n",
              "BeginDate           NaN   NaN    NaN    NaN     NaN  \n",
              "EndDate             NaN   NaN    NaN    NaN     NaN  \n",
              "Type                NaN   NaN    NaN    NaN     NaN  \n",
              "PaperlessBilling    NaN   NaN    NaN    NaN     NaN  \n",
              "PaymentMethod       NaN   NaN    NaN    NaN     NaN  \n",
              "MonthlyCharges    18.25  35.5  70.35  89.85  118.75  \n",
              "TotalCharges        NaN   NaN    NaN    NaN     NaN  "
            ],
            "text/html": [
              "\n",
              "  <div id=\"df-0fe53d55-914b-4baa-9609-b5081e0ea523\">\n",
              "    <div class=\"colab-df-container\">\n",
              "      <div>\n",
              "<style scoped>\n",
              "    .dataframe tbody tr th:only-of-type {\n",
              "        vertical-align: middle;\n",
              "    }\n",
              "\n",
              "    .dataframe tbody tr th {\n",
              "        vertical-align: top;\n",
              "    }\n",
              "\n",
              "    .dataframe thead th {\n",
              "        text-align: right;\n",
              "    }\n",
              "</style>\n",
              "<table border=\"1\" class=\"dataframe\">\n",
              "  <thead>\n",
              "    <tr style=\"text-align: right;\">\n",
              "      <th></th>\n",
              "      <th>count</th>\n",
              "      <th>unique</th>\n",
              "      <th>top</th>\n",
              "      <th>freq</th>\n",
              "      <th>mean</th>\n",
              "      <th>std</th>\n",
              "      <th>min</th>\n",
              "      <th>25%</th>\n",
              "      <th>50%</th>\n",
              "      <th>75%</th>\n",
              "      <th>max</th>\n",
              "    </tr>\n",
              "  </thead>\n",
              "  <tbody>\n",
              "    <tr>\n",
              "      <th>customerID</th>\n",
              "      <td>7043</td>\n",
              "      <td>7043</td>\n",
              "      <td>7590-VHVEG</td>\n",
              "      <td>1</td>\n",
              "      <td>NaN</td>\n",
              "      <td>NaN</td>\n",
              "      <td>NaN</td>\n",
              "      <td>NaN</td>\n",
              "      <td>NaN</td>\n",
              "      <td>NaN</td>\n",
              "      <td>NaN</td>\n",
              "    </tr>\n",
              "    <tr>\n",
              "      <th>BeginDate</th>\n",
              "      <td>7043</td>\n",
              "      <td>77</td>\n",
              "      <td>2014-02-01</td>\n",
              "      <td>366</td>\n",
              "      <td>NaN</td>\n",
              "      <td>NaN</td>\n",
              "      <td>NaN</td>\n",
              "      <td>NaN</td>\n",
              "      <td>NaN</td>\n",
              "      <td>NaN</td>\n",
              "      <td>NaN</td>\n",
              "    </tr>\n",
              "    <tr>\n",
              "      <th>EndDate</th>\n",
              "      <td>7043</td>\n",
              "      <td>5</td>\n",
              "      <td>No</td>\n",
              "      <td>5174</td>\n",
              "      <td>NaN</td>\n",
              "      <td>NaN</td>\n",
              "      <td>NaN</td>\n",
              "      <td>NaN</td>\n",
              "      <td>NaN</td>\n",
              "      <td>NaN</td>\n",
              "      <td>NaN</td>\n",
              "    </tr>\n",
              "    <tr>\n",
              "      <th>Type</th>\n",
              "      <td>7043</td>\n",
              "      <td>3</td>\n",
              "      <td>Month-to-month</td>\n",
              "      <td>3875</td>\n",
              "      <td>NaN</td>\n",
              "      <td>NaN</td>\n",
              "      <td>NaN</td>\n",
              "      <td>NaN</td>\n",
              "      <td>NaN</td>\n",
              "      <td>NaN</td>\n",
              "      <td>NaN</td>\n",
              "    </tr>\n",
              "    <tr>\n",
              "      <th>PaperlessBilling</th>\n",
              "      <td>7043</td>\n",
              "      <td>2</td>\n",
              "      <td>Yes</td>\n",
              "      <td>4171</td>\n",
              "      <td>NaN</td>\n",
              "      <td>NaN</td>\n",
              "      <td>NaN</td>\n",
              "      <td>NaN</td>\n",
              "      <td>NaN</td>\n",
              "      <td>NaN</td>\n",
              "      <td>NaN</td>\n",
              "    </tr>\n",
              "    <tr>\n",
              "      <th>PaymentMethod</th>\n",
              "      <td>7043</td>\n",
              "      <td>4</td>\n",
              "      <td>Electronic check</td>\n",
              "      <td>2365</td>\n",
              "      <td>NaN</td>\n",
              "      <td>NaN</td>\n",
              "      <td>NaN</td>\n",
              "      <td>NaN</td>\n",
              "      <td>NaN</td>\n",
              "      <td>NaN</td>\n",
              "      <td>NaN</td>\n",
              "    </tr>\n",
              "    <tr>\n",
              "      <th>MonthlyCharges</th>\n",
              "      <td>7043.0</td>\n",
              "      <td>NaN</td>\n",
              "      <td>NaN</td>\n",
              "      <td>NaN</td>\n",
              "      <td>64.761692</td>\n",
              "      <td>30.090047</td>\n",
              "      <td>18.25</td>\n",
              "      <td>35.5</td>\n",
              "      <td>70.35</td>\n",
              "      <td>89.85</td>\n",
              "      <td>118.75</td>\n",
              "    </tr>\n",
              "    <tr>\n",
              "      <th>TotalCharges</th>\n",
              "      <td>7043</td>\n",
              "      <td>6531</td>\n",
              "      <td></td>\n",
              "      <td>11</td>\n",
              "      <td>NaN</td>\n",
              "      <td>NaN</td>\n",
              "      <td>NaN</td>\n",
              "      <td>NaN</td>\n",
              "      <td>NaN</td>\n",
              "      <td>NaN</td>\n",
              "      <td>NaN</td>\n",
              "    </tr>\n",
              "  </tbody>\n",
              "</table>\n",
              "</div>\n",
              "      <button class=\"colab-df-convert\" onclick=\"convertToInteractive('df-0fe53d55-914b-4baa-9609-b5081e0ea523')\"\n",
              "              title=\"Convert this dataframe to an interactive table.\"\n",
              "              style=\"display:none;\">\n",
              "        \n",
              "  <svg xmlns=\"http://www.w3.org/2000/svg\" height=\"24px\"viewBox=\"0 0 24 24\"\n",
              "       width=\"24px\">\n",
              "    <path d=\"M0 0h24v24H0V0z\" fill=\"none\"/>\n",
              "    <path d=\"M18.56 5.44l.94 2.06.94-2.06 2.06-.94-2.06-.94-.94-2.06-.94 2.06-2.06.94zm-11 1L8.5 8.5l.94-2.06 2.06-.94-2.06-.94L8.5 2.5l-.94 2.06-2.06.94zm10 10l.94 2.06.94-2.06 2.06-.94-2.06-.94-.94-2.06-.94 2.06-2.06.94z\"/><path d=\"M17.41 7.96l-1.37-1.37c-.4-.4-.92-.59-1.43-.59-.52 0-1.04.2-1.43.59L10.3 9.45l-7.72 7.72c-.78.78-.78 2.05 0 2.83L4 21.41c.39.39.9.59 1.41.59.51 0 1.02-.2 1.41-.59l7.78-7.78 2.81-2.81c.8-.78.8-2.07 0-2.86zM5.41 20L4 18.59l7.72-7.72 1.47 1.35L5.41 20z\"/>\n",
              "  </svg>\n",
              "      </button>\n",
              "      \n",
              "  <style>\n",
              "    .colab-df-container {\n",
              "      display:flex;\n",
              "      flex-wrap:wrap;\n",
              "      gap: 12px;\n",
              "    }\n",
              "\n",
              "    .colab-df-convert {\n",
              "      background-color: #E8F0FE;\n",
              "      border: none;\n",
              "      border-radius: 50%;\n",
              "      cursor: pointer;\n",
              "      display: none;\n",
              "      fill: #1967D2;\n",
              "      height: 32px;\n",
              "      padding: 0 0 0 0;\n",
              "      width: 32px;\n",
              "    }\n",
              "\n",
              "    .colab-df-convert:hover {\n",
              "      background-color: #E2EBFA;\n",
              "      box-shadow: 0px 1px 2px rgba(60, 64, 67, 0.3), 0px 1px 3px 1px rgba(60, 64, 67, 0.15);\n",
              "      fill: #174EA6;\n",
              "    }\n",
              "\n",
              "    [theme=dark] .colab-df-convert {\n",
              "      background-color: #3B4455;\n",
              "      fill: #D2E3FC;\n",
              "    }\n",
              "\n",
              "    [theme=dark] .colab-df-convert:hover {\n",
              "      background-color: #434B5C;\n",
              "      box-shadow: 0px 1px 3px 1px rgba(0, 0, 0, 0.15);\n",
              "      filter: drop-shadow(0px 1px 2px rgba(0, 0, 0, 0.3));\n",
              "      fill: #FFFFFF;\n",
              "    }\n",
              "  </style>\n",
              "\n",
              "      <script>\n",
              "        const buttonEl =\n",
              "          document.querySelector('#df-0fe53d55-914b-4baa-9609-b5081e0ea523 button.colab-df-convert');\n",
              "        buttonEl.style.display =\n",
              "          google.colab.kernel.accessAllowed ? 'block' : 'none';\n",
              "\n",
              "        async function convertToInteractive(key) {\n",
              "          const element = document.querySelector('#df-0fe53d55-914b-4baa-9609-b5081e0ea523');\n",
              "          const dataTable =\n",
              "            await google.colab.kernel.invokeFunction('convertToInteractive',\n",
              "                                                     [key], {});\n",
              "          if (!dataTable) return;\n",
              "\n",
              "          const docLinkHtml = 'Like what you see? Visit the ' +\n",
              "            '<a target=\"_blank\" href=https://colab.research.google.com/notebooks/data_table.ipynb>data table notebook</a>'\n",
              "            + ' to learn more about interactive tables.';\n",
              "          element.innerHTML = '';\n",
              "          dataTable['output_type'] = 'display_data';\n",
              "          await google.colab.output.renderOutput(dataTable, element);\n",
              "          const docLink = document.createElement('div');\n",
              "          docLink.innerHTML = docLinkHtml;\n",
              "          element.appendChild(docLink);\n",
              "        }\n",
              "      </script>\n",
              "    </div>\n",
              "  </div>\n",
              "  "
            ]
          },
          "metadata": {}
        },
        {
          "output_type": "display_data",
          "data": {
            "text/plain": [
              "'##############################################'"
            ],
            "application/vnd.google.colaboratory.intrinsic+json": {
              "type": "string"
            }
          },
          "metadata": {}
        },
        {
          "output_type": "display_data",
          "data": {
            "text/plain": [
              "'Number of missing values'"
            ],
            "application/vnd.google.colaboratory.intrinsic+json": {
              "type": "string"
            }
          },
          "metadata": {}
        },
        {
          "output_type": "display_data",
          "data": {
            "text/plain": [
              "customerID          0\n",
              "BeginDate           0\n",
              "EndDate             0\n",
              "Type                0\n",
              "PaperlessBilling    0\n",
              "PaymentMethod       0\n",
              "MonthlyCharges      0\n",
              "TotalCharges        0\n",
              "dtype: int64"
            ]
          },
          "metadata": {}
        }
      ],
      "source": [
        "describe(df_contract)"
      ]
    },
    {
      "cell_type": "code",
      "execution_count": 15,
      "id": "ee2b8268",
      "metadata": {
        "scrolled": true,
        "colab": {
          "base_uri": "https://localhost:8080/"
        },
        "id": "ee2b8268",
        "outputId": "6127eb20-e528-48b6-bf84-4d34e5670796"
      },
      "outputs": [
        {
          "output_type": "execute_result",
          "data": {
            "text/plain": [
              "No                     5174\n",
              "2019-11-01 00:00:00     485\n",
              "2019-12-01 00:00:00     466\n",
              "2020-01-01 00:00:00     460\n",
              "2019-10-01 00:00:00     458\n",
              "Name: EndDate, dtype: int64"
            ]
          },
          "metadata": {},
          "execution_count": 15
        }
      ],
      "source": [
        "df_contract['EndDate'].value_counts()"
      ]
    },
    {
      "cell_type": "markdown",
      "id": "2b954954",
      "metadata": {
        "id": "2b954954"
      },
      "source": [
        "According to the information received about the data , it can be noted:\n",
        "- there are 7043 entries in the table;\n",
        "- the values in the *CustomerID* column are unique;\n",
        "- there are only 5 unique values in the *EndDate* column, i.e. there are only 4 unique dates. Probably the operator updated the status of contracts on these dates;\n",
        "- all columns except *MonthlyCharges* have the object format. For columns with dates and expenses, we will need to change the format;\n",
        "- there are \"No\" values in the EndDate column, which means that the contract was valid on February 1, 2020. It is necessary to replace the values with the date of the database formation."
      ]
    },
    {
      "cell_type": "markdown",
      "id": "682be5c6",
      "metadata": {
        "id": "682be5c6"
      },
      "source": [
        "Let's change the format for the start and end of the contract columns:"
      ]
    },
    {
      "cell_type": "code",
      "execution_count": 16,
      "id": "9b98c7ec",
      "metadata": {
        "scrolled": false,
        "colab": {
          "base_uri": "https://localhost:8080/"
        },
        "id": "9b98c7ec",
        "outputId": "2b65226e-ede1-4ef4-bee6-0c6ca7d82eba"
      },
      "outputs": [
        {
          "output_type": "execute_result",
          "data": {
            "text/plain": [
              "count                    7043\n",
              "unique                     77\n",
              "top       2014-02-01 00:00:00\n",
              "freq                      366\n",
              "first     2013-10-01 00:00:00\n",
              "last      2020-02-01 00:00:00\n",
              "Name: BeginDate, dtype: object"
            ]
          },
          "metadata": {},
          "execution_count": 16
        }
      ],
      "source": [
        "df_contract['BeginDate'] = pd.to_datetime(df_contract['BeginDate'], format = '%Y %m %d')\n",
        "df_contract['BeginDate'].describe(datetime_is_numeric = True)\n",
        "df_contract['BeginDate'].describe()"
      ]
    },
    {
      "cell_type": "markdown",
      "id": "3f90925a",
      "metadata": {
        "id": "3f90925a"
      },
      "source": [
        "By changing the format, it can be seen that for certain clients the contract beginning date was equal to the date of the database formation - *2020-02-01*. Therefore, it can be concluded that they did not have time to use the services of the operator.\n",
        "\n",
        "Next, for the column with the end date of the contract, we will first replace the value *No* with the database formation date - *2020-02-01*:"
      ]
    },
    {
      "cell_type": "code",
      "execution_count": 17,
      "id": "f67f58be",
      "metadata": {
        "id": "f67f58be"
      },
      "outputs": [],
      "source": [
        "df_contract['EndDate'] = df_contract['EndDate'].replace('No', '2020-02-01')"
      ]
    },
    {
      "cell_type": "markdown",
      "id": "7030ea4e",
      "metadata": {
        "id": "7030ea4e"
      },
      "source": [
        "___\n",
        "**In the future, it will be necessary to take into account that there is an imbalance of classes in the table, since there are no more than a quarter of the entire list of exited clients.**\n",
        "___"
      ]
    },
    {
      "cell_type": "code",
      "execution_count": 18,
      "id": "65c6b798",
      "metadata": {
        "colab": {
          "base_uri": "https://localhost:8080/"
        },
        "id": "65c6b798",
        "outputId": "43f1bc23-e3c0-47c0-989b-616d1876902d"
      },
      "outputs": [
        {
          "output_type": "execute_result",
          "data": {
            "text/plain": [
              "count                             7043\n",
              "mean     2020-01-11 12:56:19.696152320\n",
              "min                2019-10-01 00:00:00\n",
              "25%                2020-01-01 00:00:00\n",
              "50%                2020-02-01 00:00:00\n",
              "75%                2020-02-01 00:00:00\n",
              "max                2020-02-01 00:00:00\n",
              "Name: EndDate, dtype: object"
            ]
          },
          "metadata": {},
          "execution_count": 18
        }
      ],
      "source": [
        "df_contract['EndDate'] = pd.to_datetime(df_contract['EndDate'], format = '%Y %m %d')\n",
        "df_contract['EndDate'].describe(datetime_is_numeric = True)\n",
        "#df_contract['EndDate'].describe()"
      ]
    },
    {
      "cell_type": "code",
      "execution_count": 19,
      "id": "d8c935de",
      "metadata": {
        "colab": {
          "base_uri": "https://localhost:8080/",
          "height": 390
        },
        "id": "d8c935de",
        "outputId": "d0019a3b-090a-43cc-c749-cfae5ddb0038"
      },
      "outputs": [
        {
          "output_type": "execute_result",
          "data": {
            "text/plain": [
              "      customerID  BeginDate    EndDate      Type PaperlessBilling  \\\n",
              "488   4472-LVYGI 2020-02-01 2020-02-01  Two year              Yes   \n",
              "753   3115-CZMZD 2020-02-01 2020-02-01  Two year               No   \n",
              "936   5709-LVOEQ 2020-02-01 2020-02-01  Two year               No   \n",
              "1082  4367-NUYAO 2020-02-01 2020-02-01  Two year               No   \n",
              "1340  1371-DWPAZ 2020-02-01 2020-02-01  Two year               No   \n",
              "3331  7644-OMVMY 2020-02-01 2020-02-01  Two year               No   \n",
              "3826  3213-VVOLG 2020-02-01 2020-02-01  Two year               No   \n",
              "4380  2520-SGTTA 2020-02-01 2020-02-01  Two year               No   \n",
              "5218  2923-ARZLG 2020-02-01 2020-02-01  One year              Yes   \n",
              "6670  4075-WKNIU 2020-02-01 2020-02-01  Two year               No   \n",
              "6754  2775-SEFEE 2020-02-01 2020-02-01  Two year              Yes   \n",
              "\n",
              "                  PaymentMethod  MonthlyCharges TotalCharges  \n",
              "488   Bank transfer (automatic)           52.55               \n",
              "753                Mailed check           20.25               \n",
              "936                Mailed check           80.85               \n",
              "1082               Mailed check           25.75               \n",
              "1340    Credit card (automatic)           56.05               \n",
              "3331               Mailed check           19.85               \n",
              "3826               Mailed check           25.35               \n",
              "4380               Mailed check           20.00               \n",
              "5218               Mailed check           19.70               \n",
              "6670               Mailed check           73.35               \n",
              "6754  Bank transfer (automatic)           61.90               "
            ],
            "text/html": [
              "\n",
              "  <div id=\"df-96177e09-ef11-46b4-a0ea-a8a2f05d1894\">\n",
              "    <div class=\"colab-df-container\">\n",
              "      <div>\n",
              "<style scoped>\n",
              "    .dataframe tbody tr th:only-of-type {\n",
              "        vertical-align: middle;\n",
              "    }\n",
              "\n",
              "    .dataframe tbody tr th {\n",
              "        vertical-align: top;\n",
              "    }\n",
              "\n",
              "    .dataframe thead th {\n",
              "        text-align: right;\n",
              "    }\n",
              "</style>\n",
              "<table border=\"1\" class=\"dataframe\">\n",
              "  <thead>\n",
              "    <tr style=\"text-align: right;\">\n",
              "      <th></th>\n",
              "      <th>customerID</th>\n",
              "      <th>BeginDate</th>\n",
              "      <th>EndDate</th>\n",
              "      <th>Type</th>\n",
              "      <th>PaperlessBilling</th>\n",
              "      <th>PaymentMethod</th>\n",
              "      <th>MonthlyCharges</th>\n",
              "      <th>TotalCharges</th>\n",
              "    </tr>\n",
              "  </thead>\n",
              "  <tbody>\n",
              "    <tr>\n",
              "      <th>488</th>\n",
              "      <td>4472-LVYGI</td>\n",
              "      <td>2020-02-01</td>\n",
              "      <td>2020-02-01</td>\n",
              "      <td>Two year</td>\n",
              "      <td>Yes</td>\n",
              "      <td>Bank transfer (automatic)</td>\n",
              "      <td>52.55</td>\n",
              "      <td></td>\n",
              "    </tr>\n",
              "    <tr>\n",
              "      <th>753</th>\n",
              "      <td>3115-CZMZD</td>\n",
              "      <td>2020-02-01</td>\n",
              "      <td>2020-02-01</td>\n",
              "      <td>Two year</td>\n",
              "      <td>No</td>\n",
              "      <td>Mailed check</td>\n",
              "      <td>20.25</td>\n",
              "      <td></td>\n",
              "    </tr>\n",
              "    <tr>\n",
              "      <th>936</th>\n",
              "      <td>5709-LVOEQ</td>\n",
              "      <td>2020-02-01</td>\n",
              "      <td>2020-02-01</td>\n",
              "      <td>Two year</td>\n",
              "      <td>No</td>\n",
              "      <td>Mailed check</td>\n",
              "      <td>80.85</td>\n",
              "      <td></td>\n",
              "    </tr>\n",
              "    <tr>\n",
              "      <th>1082</th>\n",
              "      <td>4367-NUYAO</td>\n",
              "      <td>2020-02-01</td>\n",
              "      <td>2020-02-01</td>\n",
              "      <td>Two year</td>\n",
              "      <td>No</td>\n",
              "      <td>Mailed check</td>\n",
              "      <td>25.75</td>\n",
              "      <td></td>\n",
              "    </tr>\n",
              "    <tr>\n",
              "      <th>1340</th>\n",
              "      <td>1371-DWPAZ</td>\n",
              "      <td>2020-02-01</td>\n",
              "      <td>2020-02-01</td>\n",
              "      <td>Two year</td>\n",
              "      <td>No</td>\n",
              "      <td>Credit card (automatic)</td>\n",
              "      <td>56.05</td>\n",
              "      <td></td>\n",
              "    </tr>\n",
              "    <tr>\n",
              "      <th>3331</th>\n",
              "      <td>7644-OMVMY</td>\n",
              "      <td>2020-02-01</td>\n",
              "      <td>2020-02-01</td>\n",
              "      <td>Two year</td>\n",
              "      <td>No</td>\n",
              "      <td>Mailed check</td>\n",
              "      <td>19.85</td>\n",
              "      <td></td>\n",
              "    </tr>\n",
              "    <tr>\n",
              "      <th>3826</th>\n",
              "      <td>3213-VVOLG</td>\n",
              "      <td>2020-02-01</td>\n",
              "      <td>2020-02-01</td>\n",
              "      <td>Two year</td>\n",
              "      <td>No</td>\n",
              "      <td>Mailed check</td>\n",
              "      <td>25.35</td>\n",
              "      <td></td>\n",
              "    </tr>\n",
              "    <tr>\n",
              "      <th>4380</th>\n",
              "      <td>2520-SGTTA</td>\n",
              "      <td>2020-02-01</td>\n",
              "      <td>2020-02-01</td>\n",
              "      <td>Two year</td>\n",
              "      <td>No</td>\n",
              "      <td>Mailed check</td>\n",
              "      <td>20.00</td>\n",
              "      <td></td>\n",
              "    </tr>\n",
              "    <tr>\n",
              "      <th>5218</th>\n",
              "      <td>2923-ARZLG</td>\n",
              "      <td>2020-02-01</td>\n",
              "      <td>2020-02-01</td>\n",
              "      <td>One year</td>\n",
              "      <td>Yes</td>\n",
              "      <td>Mailed check</td>\n",
              "      <td>19.70</td>\n",
              "      <td></td>\n",
              "    </tr>\n",
              "    <tr>\n",
              "      <th>6670</th>\n",
              "      <td>4075-WKNIU</td>\n",
              "      <td>2020-02-01</td>\n",
              "      <td>2020-02-01</td>\n",
              "      <td>Two year</td>\n",
              "      <td>No</td>\n",
              "      <td>Mailed check</td>\n",
              "      <td>73.35</td>\n",
              "      <td></td>\n",
              "    </tr>\n",
              "    <tr>\n",
              "      <th>6754</th>\n",
              "      <td>2775-SEFEE</td>\n",
              "      <td>2020-02-01</td>\n",
              "      <td>2020-02-01</td>\n",
              "      <td>Two year</td>\n",
              "      <td>Yes</td>\n",
              "      <td>Bank transfer (automatic)</td>\n",
              "      <td>61.90</td>\n",
              "      <td></td>\n",
              "    </tr>\n",
              "  </tbody>\n",
              "</table>\n",
              "</div>\n",
              "      <button class=\"colab-df-convert\" onclick=\"convertToInteractive('df-96177e09-ef11-46b4-a0ea-a8a2f05d1894')\"\n",
              "              title=\"Convert this dataframe to an interactive table.\"\n",
              "              style=\"display:none;\">\n",
              "        \n",
              "  <svg xmlns=\"http://www.w3.org/2000/svg\" height=\"24px\"viewBox=\"0 0 24 24\"\n",
              "       width=\"24px\">\n",
              "    <path d=\"M0 0h24v24H0V0z\" fill=\"none\"/>\n",
              "    <path d=\"M18.56 5.44l.94 2.06.94-2.06 2.06-.94-2.06-.94-.94-2.06-.94 2.06-2.06.94zm-11 1L8.5 8.5l.94-2.06 2.06-.94-2.06-.94L8.5 2.5l-.94 2.06-2.06.94zm10 10l.94 2.06.94-2.06 2.06-.94-2.06-.94-.94-2.06-.94 2.06-2.06.94z\"/><path d=\"M17.41 7.96l-1.37-1.37c-.4-.4-.92-.59-1.43-.59-.52 0-1.04.2-1.43.59L10.3 9.45l-7.72 7.72c-.78.78-.78 2.05 0 2.83L4 21.41c.39.39.9.59 1.41.59.51 0 1.02-.2 1.41-.59l7.78-7.78 2.81-2.81c.8-.78.8-2.07 0-2.86zM5.41 20L4 18.59l7.72-7.72 1.47 1.35L5.41 20z\"/>\n",
              "  </svg>\n",
              "      </button>\n",
              "      \n",
              "  <style>\n",
              "    .colab-df-container {\n",
              "      display:flex;\n",
              "      flex-wrap:wrap;\n",
              "      gap: 12px;\n",
              "    }\n",
              "\n",
              "    .colab-df-convert {\n",
              "      background-color: #E8F0FE;\n",
              "      border: none;\n",
              "      border-radius: 50%;\n",
              "      cursor: pointer;\n",
              "      display: none;\n",
              "      fill: #1967D2;\n",
              "      height: 32px;\n",
              "      padding: 0 0 0 0;\n",
              "      width: 32px;\n",
              "    }\n",
              "\n",
              "    .colab-df-convert:hover {\n",
              "      background-color: #E2EBFA;\n",
              "      box-shadow: 0px 1px 2px rgba(60, 64, 67, 0.3), 0px 1px 3px 1px rgba(60, 64, 67, 0.15);\n",
              "      fill: #174EA6;\n",
              "    }\n",
              "\n",
              "    [theme=dark] .colab-df-convert {\n",
              "      background-color: #3B4455;\n",
              "      fill: #D2E3FC;\n",
              "    }\n",
              "\n",
              "    [theme=dark] .colab-df-convert:hover {\n",
              "      background-color: #434B5C;\n",
              "      box-shadow: 0px 1px 3px 1px rgba(0, 0, 0, 0.15);\n",
              "      filter: drop-shadow(0px 1px 2px rgba(0, 0, 0, 0.3));\n",
              "      fill: #FFFFFF;\n",
              "    }\n",
              "  </style>\n",
              "\n",
              "      <script>\n",
              "        const buttonEl =\n",
              "          document.querySelector('#df-96177e09-ef11-46b4-a0ea-a8a2f05d1894 button.colab-df-convert');\n",
              "        buttonEl.style.display =\n",
              "          google.colab.kernel.accessAllowed ? 'block' : 'none';\n",
              "\n",
              "        async function convertToInteractive(key) {\n",
              "          const element = document.querySelector('#df-96177e09-ef11-46b4-a0ea-a8a2f05d1894');\n",
              "          const dataTable =\n",
              "            await google.colab.kernel.invokeFunction('convertToInteractive',\n",
              "                                                     [key], {});\n",
              "          if (!dataTable) return;\n",
              "\n",
              "          const docLinkHtml = 'Like what you see? Visit the ' +\n",
              "            '<a target=\"_blank\" href=https://colab.research.google.com/notebooks/data_table.ipynb>data table notebook</a>'\n",
              "            + ' to learn more about interactive tables.';\n",
              "          element.innerHTML = '';\n",
              "          dataTable['output_type'] = 'display_data';\n",
              "          await google.colab.output.renderOutput(dataTable, element);\n",
              "          const docLink = document.createElement('div');\n",
              "          docLink.innerHTML = docLinkHtml;\n",
              "          element.appendChild(docLink);\n",
              "        }\n",
              "      </script>\n",
              "    </div>\n",
              "  </div>\n",
              "  "
            ]
          },
          "metadata": {},
          "execution_count": 19
        }
      ],
      "source": [
        "df_contract.query('BeginDate == \"2020-02-01\"')"
      ]
    },
    {
      "cell_type": "markdown",
      "id": "07975659",
      "metadata": {
        "id": "07975659"
      },
      "source": [
        "If we pay attention to new customers who have just connected to the operator, we will notice that they have indicated only the cost of the tariff in *MonthlyCharges*, and they have not yet had time to incur total expenses and the values in the column *TotalCharges* are missing. It is better to replace them with 0, then in the future there will be no difficulties with transforming this column into numerical data format."
      ]
    },
    {
      "cell_type": "code",
      "execution_count": 20,
      "id": "599fd040",
      "metadata": {
        "id": "599fd040"
      },
      "outputs": [],
      "source": [
        "df_contract.loc[(df_contract['BeginDate'] == \"2020-02-01\"), 'TotalCharges'] = 0"
      ]
    },
    {
      "cell_type": "code",
      "execution_count": 21,
      "id": "5b9985fe",
      "metadata": {
        "id": "5b9985fe"
      },
      "outputs": [],
      "source": [
        "df_contract['TotalCharges']= pd.to_numeric(df_contract['TotalCharges'], errors='coerce')"
      ]
    },
    {
      "cell_type": "markdown",
      "id": "5f69c9a5",
      "metadata": {
        "id": "5f69c9a5"
      },
      "source": [
        "This way necessary actions were taken to change the format of the data in this table. We can check that all rows in the *TotalCharges* column have changed without errors:"
      ]
    },
    {
      "cell_type": "code",
      "execution_count": 22,
      "id": "9b4c0153",
      "metadata": {
        "scrolled": false,
        "colab": {
          "base_uri": "https://localhost:8080/"
        },
        "id": "9b4c0153",
        "outputId": "c1f86ec4-4271-4900-e122-c24b6c742da0"
      },
      "outputs": [
        {
          "output_type": "execute_result",
          "data": {
            "text/plain": [
              "0"
            ]
          },
          "metadata": {},
          "execution_count": 22
        }
      ],
      "source": [
        "df_contract['TotalCharges'].isna().sum()"
      ]
    },
    {
      "cell_type": "markdown",
      "id": "acfce9c7",
      "metadata": {
        "id": "acfce9c7"
      },
      "source": [
        "To check, we can also calculate whether there was a negative difference between total and monthly costs:"
      ]
    },
    {
      "cell_type": "code",
      "execution_count": 23,
      "id": "ee183b06",
      "metadata": {
        "scrolled": true,
        "colab": {
          "base_uri": "https://localhost:8080/",
          "height": 390
        },
        "id": "ee183b06",
        "outputId": "9742a0c1-b9de-4389-afab-840a006f223f"
      },
      "outputs": [
        {
          "output_type": "execute_result",
          "data": {
            "text/plain": [
              "      customerID  BeginDate    EndDate      Type PaperlessBilling  \\\n",
              "488   4472-LVYGI 2020-02-01 2020-02-01  Two year              Yes   \n",
              "753   3115-CZMZD 2020-02-01 2020-02-01  Two year               No   \n",
              "936   5709-LVOEQ 2020-02-01 2020-02-01  Two year               No   \n",
              "1082  4367-NUYAO 2020-02-01 2020-02-01  Two year               No   \n",
              "1340  1371-DWPAZ 2020-02-01 2020-02-01  Two year               No   \n",
              "3331  7644-OMVMY 2020-02-01 2020-02-01  Two year               No   \n",
              "3826  3213-VVOLG 2020-02-01 2020-02-01  Two year               No   \n",
              "4380  2520-SGTTA 2020-02-01 2020-02-01  Two year               No   \n",
              "5218  2923-ARZLG 2020-02-01 2020-02-01  One year              Yes   \n",
              "6670  4075-WKNIU 2020-02-01 2020-02-01  Two year               No   \n",
              "6754  2775-SEFEE 2020-02-01 2020-02-01  Two year              Yes   \n",
              "\n",
              "                  PaymentMethod  MonthlyCharges  TotalCharges  ChargesDelta  \n",
              "488   Bank transfer (automatic)           52.55           0.0        -52.55  \n",
              "753                Mailed check           20.25           0.0        -20.25  \n",
              "936                Mailed check           80.85           0.0        -80.85  \n",
              "1082               Mailed check           25.75           0.0        -25.75  \n",
              "1340    Credit card (automatic)           56.05           0.0        -56.05  \n",
              "3331               Mailed check           19.85           0.0        -19.85  \n",
              "3826               Mailed check           25.35           0.0        -25.35  \n",
              "4380               Mailed check           20.00           0.0        -20.00  \n",
              "5218               Mailed check           19.70           0.0        -19.70  \n",
              "6670               Mailed check           73.35           0.0        -73.35  \n",
              "6754  Bank transfer (automatic)           61.90           0.0        -61.90  "
            ],
            "text/html": [
              "\n",
              "  <div id=\"df-262f2ce6-7478-404d-8c18-231573411767\">\n",
              "    <div class=\"colab-df-container\">\n",
              "      <div>\n",
              "<style scoped>\n",
              "    .dataframe tbody tr th:only-of-type {\n",
              "        vertical-align: middle;\n",
              "    }\n",
              "\n",
              "    .dataframe tbody tr th {\n",
              "        vertical-align: top;\n",
              "    }\n",
              "\n",
              "    .dataframe thead th {\n",
              "        text-align: right;\n",
              "    }\n",
              "</style>\n",
              "<table border=\"1\" class=\"dataframe\">\n",
              "  <thead>\n",
              "    <tr style=\"text-align: right;\">\n",
              "      <th></th>\n",
              "      <th>customerID</th>\n",
              "      <th>BeginDate</th>\n",
              "      <th>EndDate</th>\n",
              "      <th>Type</th>\n",
              "      <th>PaperlessBilling</th>\n",
              "      <th>PaymentMethod</th>\n",
              "      <th>MonthlyCharges</th>\n",
              "      <th>TotalCharges</th>\n",
              "      <th>ChargesDelta</th>\n",
              "    </tr>\n",
              "  </thead>\n",
              "  <tbody>\n",
              "    <tr>\n",
              "      <th>488</th>\n",
              "      <td>4472-LVYGI</td>\n",
              "      <td>2020-02-01</td>\n",
              "      <td>2020-02-01</td>\n",
              "      <td>Two year</td>\n",
              "      <td>Yes</td>\n",
              "      <td>Bank transfer (automatic)</td>\n",
              "      <td>52.55</td>\n",
              "      <td>0.0</td>\n",
              "      <td>-52.55</td>\n",
              "    </tr>\n",
              "    <tr>\n",
              "      <th>753</th>\n",
              "      <td>3115-CZMZD</td>\n",
              "      <td>2020-02-01</td>\n",
              "      <td>2020-02-01</td>\n",
              "      <td>Two year</td>\n",
              "      <td>No</td>\n",
              "      <td>Mailed check</td>\n",
              "      <td>20.25</td>\n",
              "      <td>0.0</td>\n",
              "      <td>-20.25</td>\n",
              "    </tr>\n",
              "    <tr>\n",
              "      <th>936</th>\n",
              "      <td>5709-LVOEQ</td>\n",
              "      <td>2020-02-01</td>\n",
              "      <td>2020-02-01</td>\n",
              "      <td>Two year</td>\n",
              "      <td>No</td>\n",
              "      <td>Mailed check</td>\n",
              "      <td>80.85</td>\n",
              "      <td>0.0</td>\n",
              "      <td>-80.85</td>\n",
              "    </tr>\n",
              "    <tr>\n",
              "      <th>1082</th>\n",
              "      <td>4367-NUYAO</td>\n",
              "      <td>2020-02-01</td>\n",
              "      <td>2020-02-01</td>\n",
              "      <td>Two year</td>\n",
              "      <td>No</td>\n",
              "      <td>Mailed check</td>\n",
              "      <td>25.75</td>\n",
              "      <td>0.0</td>\n",
              "      <td>-25.75</td>\n",
              "    </tr>\n",
              "    <tr>\n",
              "      <th>1340</th>\n",
              "      <td>1371-DWPAZ</td>\n",
              "      <td>2020-02-01</td>\n",
              "      <td>2020-02-01</td>\n",
              "      <td>Two year</td>\n",
              "      <td>No</td>\n",
              "      <td>Credit card (automatic)</td>\n",
              "      <td>56.05</td>\n",
              "      <td>0.0</td>\n",
              "      <td>-56.05</td>\n",
              "    </tr>\n",
              "    <tr>\n",
              "      <th>3331</th>\n",
              "      <td>7644-OMVMY</td>\n",
              "      <td>2020-02-01</td>\n",
              "      <td>2020-02-01</td>\n",
              "      <td>Two year</td>\n",
              "      <td>No</td>\n",
              "      <td>Mailed check</td>\n",
              "      <td>19.85</td>\n",
              "      <td>0.0</td>\n",
              "      <td>-19.85</td>\n",
              "    </tr>\n",
              "    <tr>\n",
              "      <th>3826</th>\n",
              "      <td>3213-VVOLG</td>\n",
              "      <td>2020-02-01</td>\n",
              "      <td>2020-02-01</td>\n",
              "      <td>Two year</td>\n",
              "      <td>No</td>\n",
              "      <td>Mailed check</td>\n",
              "      <td>25.35</td>\n",
              "      <td>0.0</td>\n",
              "      <td>-25.35</td>\n",
              "    </tr>\n",
              "    <tr>\n",
              "      <th>4380</th>\n",
              "      <td>2520-SGTTA</td>\n",
              "      <td>2020-02-01</td>\n",
              "      <td>2020-02-01</td>\n",
              "      <td>Two year</td>\n",
              "      <td>No</td>\n",
              "      <td>Mailed check</td>\n",
              "      <td>20.00</td>\n",
              "      <td>0.0</td>\n",
              "      <td>-20.00</td>\n",
              "    </tr>\n",
              "    <tr>\n",
              "      <th>5218</th>\n",
              "      <td>2923-ARZLG</td>\n",
              "      <td>2020-02-01</td>\n",
              "      <td>2020-02-01</td>\n",
              "      <td>One year</td>\n",
              "      <td>Yes</td>\n",
              "      <td>Mailed check</td>\n",
              "      <td>19.70</td>\n",
              "      <td>0.0</td>\n",
              "      <td>-19.70</td>\n",
              "    </tr>\n",
              "    <tr>\n",
              "      <th>6670</th>\n",
              "      <td>4075-WKNIU</td>\n",
              "      <td>2020-02-01</td>\n",
              "      <td>2020-02-01</td>\n",
              "      <td>Two year</td>\n",
              "      <td>No</td>\n",
              "      <td>Mailed check</td>\n",
              "      <td>73.35</td>\n",
              "      <td>0.0</td>\n",
              "      <td>-73.35</td>\n",
              "    </tr>\n",
              "    <tr>\n",
              "      <th>6754</th>\n",
              "      <td>2775-SEFEE</td>\n",
              "      <td>2020-02-01</td>\n",
              "      <td>2020-02-01</td>\n",
              "      <td>Two year</td>\n",
              "      <td>Yes</td>\n",
              "      <td>Bank transfer (automatic)</td>\n",
              "      <td>61.90</td>\n",
              "      <td>0.0</td>\n",
              "      <td>-61.90</td>\n",
              "    </tr>\n",
              "  </tbody>\n",
              "</table>\n",
              "</div>\n",
              "      <button class=\"colab-df-convert\" onclick=\"convertToInteractive('df-262f2ce6-7478-404d-8c18-231573411767')\"\n",
              "              title=\"Convert this dataframe to an interactive table.\"\n",
              "              style=\"display:none;\">\n",
              "        \n",
              "  <svg xmlns=\"http://www.w3.org/2000/svg\" height=\"24px\"viewBox=\"0 0 24 24\"\n",
              "       width=\"24px\">\n",
              "    <path d=\"M0 0h24v24H0V0z\" fill=\"none\"/>\n",
              "    <path d=\"M18.56 5.44l.94 2.06.94-2.06 2.06-.94-2.06-.94-.94-2.06-.94 2.06-2.06.94zm-11 1L8.5 8.5l.94-2.06 2.06-.94-2.06-.94L8.5 2.5l-.94 2.06-2.06.94zm10 10l.94 2.06.94-2.06 2.06-.94-2.06-.94-.94-2.06-.94 2.06-2.06.94z\"/><path d=\"M17.41 7.96l-1.37-1.37c-.4-.4-.92-.59-1.43-.59-.52 0-1.04.2-1.43.59L10.3 9.45l-7.72 7.72c-.78.78-.78 2.05 0 2.83L4 21.41c.39.39.9.59 1.41.59.51 0 1.02-.2 1.41-.59l7.78-7.78 2.81-2.81c.8-.78.8-2.07 0-2.86zM5.41 20L4 18.59l7.72-7.72 1.47 1.35L5.41 20z\"/>\n",
              "  </svg>\n",
              "      </button>\n",
              "      \n",
              "  <style>\n",
              "    .colab-df-container {\n",
              "      display:flex;\n",
              "      flex-wrap:wrap;\n",
              "      gap: 12px;\n",
              "    }\n",
              "\n",
              "    .colab-df-convert {\n",
              "      background-color: #E8F0FE;\n",
              "      border: none;\n",
              "      border-radius: 50%;\n",
              "      cursor: pointer;\n",
              "      display: none;\n",
              "      fill: #1967D2;\n",
              "      height: 32px;\n",
              "      padding: 0 0 0 0;\n",
              "      width: 32px;\n",
              "    }\n",
              "\n",
              "    .colab-df-convert:hover {\n",
              "      background-color: #E2EBFA;\n",
              "      box-shadow: 0px 1px 2px rgba(60, 64, 67, 0.3), 0px 1px 3px 1px rgba(60, 64, 67, 0.15);\n",
              "      fill: #174EA6;\n",
              "    }\n",
              "\n",
              "    [theme=dark] .colab-df-convert {\n",
              "      background-color: #3B4455;\n",
              "      fill: #D2E3FC;\n",
              "    }\n",
              "\n",
              "    [theme=dark] .colab-df-convert:hover {\n",
              "      background-color: #434B5C;\n",
              "      box-shadow: 0px 1px 3px 1px rgba(0, 0, 0, 0.15);\n",
              "      filter: drop-shadow(0px 1px 2px rgba(0, 0, 0, 0.3));\n",
              "      fill: #FFFFFF;\n",
              "    }\n",
              "  </style>\n",
              "\n",
              "      <script>\n",
              "        const buttonEl =\n",
              "          document.querySelector('#df-262f2ce6-7478-404d-8c18-231573411767 button.colab-df-convert');\n",
              "        buttonEl.style.display =\n",
              "          google.colab.kernel.accessAllowed ? 'block' : 'none';\n",
              "\n",
              "        async function convertToInteractive(key) {\n",
              "          const element = document.querySelector('#df-262f2ce6-7478-404d-8c18-231573411767');\n",
              "          const dataTable =\n",
              "            await google.colab.kernel.invokeFunction('convertToInteractive',\n",
              "                                                     [key], {});\n",
              "          if (!dataTable) return;\n",
              "\n",
              "          const docLinkHtml = 'Like what you see? Visit the ' +\n",
              "            '<a target=\"_blank\" href=https://colab.research.google.com/notebooks/data_table.ipynb>data table notebook</a>'\n",
              "            + ' to learn more about interactive tables.';\n",
              "          element.innerHTML = '';\n",
              "          dataTable['output_type'] = 'display_data';\n",
              "          await google.colab.output.renderOutput(dataTable, element);\n",
              "          const docLink = document.createElement('div');\n",
              "          docLink.innerHTML = docLinkHtml;\n",
              "          element.appendChild(docLink);\n",
              "        }\n",
              "      </script>\n",
              "    </div>\n",
              "  </div>\n",
              "  "
            ]
          },
          "metadata": {},
          "execution_count": 23
        }
      ],
      "source": [
        "df_contract['ChargesDelta'] = df_contract['TotalCharges'] - df_contract['MonthlyCharges']\n",
        "df_contract.query('ChargesDelta < 0')"
      ]
    },
    {
      "cell_type": "markdown",
      "id": "d046c5dd",
      "metadata": {
        "id": "d046c5dd"
      },
      "source": [
        "It can be seen that negative values are typical only for customers who have just connected by February 2020. Therefore there are no suspicious values in the cost columns. The column can be deleted."
      ]
    },
    {
      "cell_type": "code",
      "execution_count": 24,
      "id": "42b2c48e",
      "metadata": {
        "id": "42b2c48e"
      },
      "outputs": [],
      "source": [
        "df_contract = df_contract.drop('ChargesDelta', axis=1)"
      ]
    },
    {
      "cell_type": "code",
      "execution_count": 25,
      "id": "fec4a52c",
      "metadata": {
        "scrolled": false,
        "colab": {
          "base_uri": "https://localhost:8080/",
          "height": 336
        },
        "id": "fec4a52c",
        "outputId": "1a3f9eb4-c0c8-4bcc-b271-5cd648a8a6fd"
      },
      "outputs": [
        {
          "output_type": "display_data",
          "data": {
            "text/plain": [
              "<Figure size 1152x360 with 1 Axes>"
            ],
            "image/png": "[encoded data removed]"
          },
          "metadata": {
            "needs_background": "light"
          }
        }
      ],
      "source": [
        "df_contract['MonthlyCharges'].plot(kind='hist', figsize = (16,5), xticks=np.arange(0,140,5), bins = 20)\n",
        "plt.title('Distribution by the amount of monthly expenses')\n",
        "plt.show()"
      ]
    },
    {
      "cell_type": "markdown",
      "id": "e038c72e",
      "metadata": {
        "id": "e038c72e"
      },
      "source": [
        "According to the volume of monthly expenses, it is clear that the majority of customers used the minimum set of services."
      ]
    },
    {
      "cell_type": "code",
      "execution_count": 26,
      "id": "ae7161ac",
      "metadata": {
        "scrolled": true,
        "colab": {
          "base_uri": "https://localhost:8080/",
          "height": 336
        },
        "id": "ae7161ac",
        "outputId": "dfa4a44c-9b19-42bf-eaa4-e2efd8585e4a"
      },
      "outputs": [
        {
          "output_type": "display_data",
          "data": {
            "text/plain": [
              "<Figure size 1152x360 with 1 Axes>"
            ],
            "image/png": "[encoded data removed]"
          },
          "metadata": {
            "needs_background": "light"
          }
        }
      ],
      "source": [
        "df_contract['TotalCharges'].plot(kind='hist', figsize = (16,5), bins = 20)\n",
        "plt.title('Distribution by total expenses')\n",
        "plt.show()"
      ]
    },
    {
      "cell_type": "code",
      "execution_count": 27,
      "id": "914228c4",
      "metadata": {
        "scrolled": true,
        "colab": {
          "base_uri": "https://localhost:8080/"
        },
        "id": "914228c4",
        "outputId": "3e543e7b-ea77-4455-f324-708ddeadbbdf"
      },
      "outputs": [
        {
          "output_type": "execute_result",
          "data": {
            "text/plain": [
              "2020-01-01    175\n",
              "2019-12-01     78\n",
              "2019-11-01     50\n",
              "2019-09-01     31\n",
              "2019-10-01     30\n",
              "2020-02-01     11\n",
              "2019-08-01      1\n",
              "Name: BeginDate, dtype: int64"
            ]
          },
          "metadata": {},
          "execution_count": 27
        }
      ],
      "source": [
        "df_contract.query('TotalCharges < 50')['BeginDate'].value_counts()"
      ]
    },
    {
      "cell_type": "markdown",
      "id": "2388dc3b",
      "metadata": {
        "id": "2388dc3b"
      },
      "source": [
        "A significant share of the minimum costs for the entire period is explained by the large number of new customers who joined 1-2 months before the database formation date."
      ]
    },
    {
      "cell_type": "code",
      "execution_count": 28,
      "id": "8b8b8d0c",
      "metadata": {
        "colab": {
          "base_uri": "https://localhost:8080/"
        },
        "id": "8b8b8d0c",
        "outputId": "c2343907-f892-458b-c9b8-07ed1efc62aa"
      },
      "outputs": [
        {
          "output_type": "execute_result",
          "data": {
            "text/plain": [
              "array(['Month-to-month', 'One year', 'Two year'], dtype=object)"
            ]
          },
          "metadata": {},
          "execution_count": 28
        }
      ],
      "source": [
        "df_contract['Type'].unique()"
      ]
    },
    {
      "cell_type": "code",
      "execution_count": 29,
      "id": "95e28b1e",
      "metadata": {
        "colab": {
          "base_uri": "https://localhost:8080/"
        },
        "id": "95e28b1e",
        "outputId": "92869689-4532-4a05-e44e-7e636f460555"
      },
      "outputs": [
        {
          "output_type": "execute_result",
          "data": {
            "text/plain": [
              "array(['Yes', 'No'], dtype=object)"
            ]
          },
          "metadata": {},
          "execution_count": 29
        }
      ],
      "source": [
        "df_contract['PaperlessBilling'].unique()"
      ]
    },
    {
      "cell_type": "code",
      "execution_count": 30,
      "id": "394823be",
      "metadata": {
        "colab": {
          "base_uri": "https://localhost:8080/"
        },
        "id": "394823be",
        "outputId": "25c4460b-6fb8-4438-9247-744671871caf"
      },
      "outputs": [
        {
          "output_type": "execute_result",
          "data": {
            "text/plain": [
              "array(['Electronic check', 'Mailed check', 'Bank transfer (automatic)',\n",
              "       'Credit card (automatic)'], dtype=object)"
            ]
          },
          "metadata": {},
          "execution_count": 30
        }
      ],
      "source": [
        "df_contract['PaymentMethod'].unique()"
      ]
    },
    {
      "cell_type": "markdown",
      "id": "f4310fa9",
      "metadata": {
        "id": "f4310fa9"
      },
      "source": [
        "No errors or hidden duplicates were found in the columns *Type*, *PaperlessBilling* and *PaymentMethod*. We can proceed to the research analysis of the following table.\n",
        "___"
      ]
    },
    {
      "cell_type": "markdown",
      "id": "fb1aad82",
      "metadata": {
        "id": "fb1aad82"
      },
      "source": [
        "Next, let's study the personal (df_personal) database. According to the data documentation, this database contains information about the personal data of customers:"
      ]
    },
    {
      "cell_type": "markdown",
      "id": "0a6b6514",
      "metadata": {
        "id": "0a6b6514"
      },
      "source": [
        "- Dependents – having dependents\n",
        "- Senior Citizen – having retirement status by age\n",
        "- Partner – the presence of a spouse(s)"
      ]
    },
    {
      "cell_type": "code",
      "execution_count": 31,
      "id": "28af6a14",
      "metadata": {
        "scrolled": false,
        "colab": {
          "base_uri": "https://localhost:8080/",
          "height": 834
        },
        "id": "28af6a14",
        "outputId": "8b552820-9945-4cbd-cfb1-da1ad4a6bcec"
      },
      "outputs": [
        {
          "output_type": "display_data",
          "data": {
            "text/plain": [
              "'The first 5 rows of the table'"
            ],
            "application/vnd.google.colaboratory.intrinsic+json": {
              "type": "string"
            }
          },
          "metadata": {}
        },
        {
          "output_type": "display_data",
          "data": {
            "text/plain": [
              "   customerID  gender  SeniorCitizen Partner Dependents\n",
              "0  7590-VHVEG  Female              0     Yes         No\n",
              "1  5575-GNVDE    Male              0      No         No\n",
              "2  3668-QPYBK    Male              0      No         No\n",
              "3  7795-CFOCW    Male              0      No         No\n",
              "4  9237-HQITU  Female              0      No         No"
            ],
            "text/html": [
              "\n",
              "  <div id=\"df-07e04887-025b-4b18-ab44-453943483887\">\n",
              "    <div class=\"colab-df-container\">\n",
              "      <div>\n",
              "<style scoped>\n",
              "    .dataframe tbody tr th:only-of-type {\n",
              "        vertical-align: middle;\n",
              "    }\n",
              "\n",
              "    .dataframe tbody tr th {\n",
              "        vertical-align: top;\n",
              "    }\n",
              "\n",
              "    .dataframe thead th {\n",
              "        text-align: right;\n",
              "    }\n",
              "</style>\n",
              "<table border=\"1\" class=\"dataframe\">\n",
              "  <thead>\n",
              "    <tr style=\"text-align: right;\">\n",
              "      <th></th>\n",
              "      <th>customerID</th>\n",
              "      <th>gender</th>\n",
              "      <th>SeniorCitizen</th>\n",
              "      <th>Partner</th>\n",
              "      <th>Dependents</th>\n",
              "    </tr>\n",
              "  </thead>\n",
              "  <tbody>\n",
              "    <tr>\n",
              "      <th>0</th>\n",
              "      <td>7590-VHVEG</td>\n",
              "      <td>Female</td>\n",
              "      <td>0</td>\n",
              "      <td>Yes</td>\n",
              "      <td>No</td>\n",
              "    </tr>\n",
              "    <tr>\n",
              "      <th>1</th>\n",
              "      <td>5575-GNVDE</td>\n",
              "      <td>Male</td>\n",
              "      <td>0</td>\n",
              "      <td>No</td>\n",
              "      <td>No</td>\n",
              "    </tr>\n",
              "    <tr>\n",
              "      <th>2</th>\n",
              "      <td>3668-QPYBK</td>\n",
              "      <td>Male</td>\n",
              "      <td>0</td>\n",
              "      <td>No</td>\n",
              "      <td>No</td>\n",
              "    </tr>\n",
              "    <tr>\n",
              "      <th>3</th>\n",
              "      <td>7795-CFOCW</td>\n",
              "      <td>Male</td>\n",
              "      <td>0</td>\n",
              "      <td>No</td>\n",
              "      <td>No</td>\n",
              "    </tr>\n",
              "    <tr>\n",
              "      <th>4</th>\n",
              "      <td>9237-HQITU</td>\n",
              "      <td>Female</td>\n",
              "      <td>0</td>\n",
              "      <td>No</td>\n",
              "      <td>No</td>\n",
              "    </tr>\n",
              "  </tbody>\n",
              "</table>\n",
              "</div>\n",
              "      <button class=\"colab-df-convert\" onclick=\"convertToInteractive('df-07e04887-025b-4b18-ab44-453943483887')\"\n",
              "              title=\"Convert this dataframe to an interactive table.\"\n",
              "              style=\"display:none;\">\n",
              "        \n",
              "  <svg xmlns=\"http://www.w3.org/2000/svg\" height=\"24px\"viewBox=\"0 0 24 24\"\n",
              "       width=\"24px\">\n",
              "    <path d=\"M0 0h24v24H0V0z\" fill=\"none\"/>\n",
              "    <path d=\"M18.56 5.44l.94 2.06.94-2.06 2.06-.94-2.06-.94-.94-2.06-.94 2.06-2.06.94zm-11 1L8.5 8.5l.94-2.06 2.06-.94-2.06-.94L8.5 2.5l-.94 2.06-2.06.94zm10 10l.94 2.06.94-2.06 2.06-.94-2.06-.94-.94-2.06-.94 2.06-2.06.94z\"/><path d=\"M17.41 7.96l-1.37-1.37c-.4-.4-.92-.59-1.43-.59-.52 0-1.04.2-1.43.59L10.3 9.45l-7.72 7.72c-.78.78-.78 2.05 0 2.83L4 21.41c.39.39.9.59 1.41.59.51 0 1.02-.2 1.41-.59l7.78-7.78 2.81-2.81c.8-.78.8-2.07 0-2.86zM5.41 20L4 18.59l7.72-7.72 1.47 1.35L5.41 20z\"/>\n",
              "  </svg>\n",
              "      </button>\n",
              "      \n",
              "  <style>\n",
              "    .colab-df-container {\n",
              "      display:flex;\n",
              "      flex-wrap:wrap;\n",
              "      gap: 12px;\n",
              "    }\n",
              "\n",
              "    .colab-df-convert {\n",
              "      background-color: #E8F0FE;\n",
              "      border: none;\n",
              "      border-radius: 50%;\n",
              "      cursor: pointer;\n",
              "      display: none;\n",
              "      fill: #1967D2;\n",
              "      height: 32px;\n",
              "      padding: 0 0 0 0;\n",
              "      width: 32px;\n",
              "    }\n",
              "\n",
              "    .colab-df-convert:hover {\n",
              "      background-color: #E2EBFA;\n",
              "      box-shadow: 0px 1px 2px rgba(60, 64, 67, 0.3), 0px 1px 3px 1px rgba(60, 64, 67, 0.15);\n",
              "      fill: #174EA6;\n",
              "    }\n",
              "\n",
              "    [theme=dark] .colab-df-convert {\n",
              "      background-color: #3B4455;\n",
              "      fill: #D2E3FC;\n",
              "    }\n",
              "\n",
              "    [theme=dark] .colab-df-convert:hover {\n",
              "      background-color: #434B5C;\n",
              "      box-shadow: 0px 1px 3px 1px rgba(0, 0, 0, 0.15);\n",
              "      filter: drop-shadow(0px 1px 2px rgba(0, 0, 0, 0.3));\n",
              "      fill: #FFFFFF;\n",
              "    }\n",
              "  </style>\n",
              "\n",
              "      <script>\n",
              "        const buttonEl =\n",
              "          document.querySelector('#df-07e04887-025b-4b18-ab44-453943483887 button.colab-df-convert');\n",
              "        buttonEl.style.display =\n",
              "          google.colab.kernel.accessAllowed ? 'block' : 'none';\n",
              "\n",
              "        async function convertToInteractive(key) {\n",
              "          const element = document.querySelector('#df-07e04887-025b-4b18-ab44-453943483887');\n",
              "          const dataTable =\n",
              "            await google.colab.kernel.invokeFunction('convertToInteractive',\n",
              "                                                     [key], {});\n",
              "          if (!dataTable) return;\n",
              "\n",
              "          const docLinkHtml = 'Like what you see? Visit the ' +\n",
              "            '<a target=\"_blank\" href=https://colab.research.google.com/notebooks/data_table.ipynb>data table notebook</a>'\n",
              "            + ' to learn more about interactive tables.';\n",
              "          element.innerHTML = '';\n",
              "          dataTable['output_type'] = 'display_data';\n",
              "          await google.colab.output.renderOutput(dataTable, element);\n",
              "          const docLink = document.createElement('div');\n",
              "          docLink.innerHTML = docLinkHtml;\n",
              "          element.appendChild(docLink);\n",
              "        }\n",
              "      </script>\n",
              "    </div>\n",
              "  </div>\n",
              "  "
            ]
          },
          "metadata": {}
        },
        {
          "output_type": "display_data",
          "data": {
            "text/plain": [
              "'##############################################'"
            ],
            "application/vnd.google.colaboratory.intrinsic+json": {
              "type": "string"
            }
          },
          "metadata": {}
        },
        {
          "output_type": "stream",
          "name": "stdout",
          "text": [
            "<class 'pandas.core.frame.DataFrame'>\n",
            "RangeIndex: 7043 entries, 0 to 7042\n",
            "Data columns (total 5 columns):\n",
            " #   Column         Non-Null Count  Dtype \n",
            "---  ------         --------------  ----- \n",
            " 0   customerID     7043 non-null   object\n",
            " 1   gender         7043 non-null   object\n",
            " 2   SeniorCitizen  7043 non-null   int64 \n",
            " 3   Partner        7043 non-null   object\n",
            " 4   Dependents     7043 non-null   object\n",
            "dtypes: int64(1), object(4)\n",
            "memory usage: 275.2+ KB\n"
          ]
        },
        {
          "output_type": "display_data",
          "data": {
            "text/plain": [
              "None"
            ]
          },
          "metadata": {}
        },
        {
          "output_type": "display_data",
          "data": {
            "text/plain": [
              "'##############################################'"
            ],
            "application/vnd.google.colaboratory.intrinsic+json": {
              "type": "string"
            }
          },
          "metadata": {}
        },
        {
          "output_type": "display_data",
          "data": {
            "text/plain": [
              "'Data description'"
            ],
            "application/vnd.google.colaboratory.intrinsic+json": {
              "type": "string"
            }
          },
          "metadata": {}
        },
        {
          "output_type": "display_data",
          "data": {
            "text/plain": [
              "                count unique         top  freq      mean       std  min  25%  \\\n",
              "customerID       7043   7043  7590-VHVEG     1       NaN       NaN  NaN  NaN   \n",
              "gender           7043      2        Male  3555       NaN       NaN  NaN  NaN   \n",
              "SeniorCitizen  7043.0    NaN         NaN   NaN  0.162147  0.368612  0.0  0.0   \n",
              "Partner          7043      2          No  3641       NaN       NaN  NaN  NaN   \n",
              "Dependents       7043      2          No  4933       NaN       NaN  NaN  NaN   \n",
              "\n",
              "               50%  75%  max  \n",
              "customerID     NaN  NaN  NaN  \n",
              "gender         NaN  NaN  NaN  \n",
              "SeniorCitizen  0.0  0.0  1.0  \n",
              "Partner        NaN  NaN  NaN  \n",
              "Dependents     NaN  NaN  NaN  "
            ],
            "text/html": [
              "\n",
              "  <div id=\"df-5429f0f0-e0e4-44e4-bb3e-1bbad1eb44f7\">\n",
              "    <div class=\"colab-df-container\">\n",
              "      <div>\n",
              "<style scoped>\n",
              "    .dataframe tbody tr th:only-of-type {\n",
              "        vertical-align: middle;\n",
              "    }\n",
              "\n",
              "    .dataframe tbody tr th {\n",
              "        vertical-align: top;\n",
              "    }\n",
              "\n",
              "    .dataframe thead th {\n",
              "        text-align: right;\n",
              "    }\n",
              "</style>\n",
              "<table border=\"1\" class=\"dataframe\">\n",
              "  <thead>\n",
              "    <tr style=\"text-align: right;\">\n",
              "      <th></th>\n",
              "      <th>count</th>\n",
              "      <th>unique</th>\n",
              "      <th>top</th>\n",
              "      <th>freq</th>\n",
              "      <th>mean</th>\n",
              "      <th>std</th>\n",
              "      <th>min</th>\n",
              "      <th>25%</th>\n",
              "      <th>50%</th>\n",
              "      <th>75%</th>\n",
              "      <th>max</th>\n",
              "    </tr>\n",
              "  </thead>\n",
              "  <tbody>\n",
              "    <tr>\n",
              "      <th>customerID</th>\n",
              "      <td>7043</td>\n",
              "      <td>7043</td>\n",
              "      <td>7590-VHVEG</td>\n",
              "      <td>1</td>\n",
              "      <td>NaN</td>\n",
              "      <td>NaN</td>\n",
              "      <td>NaN</td>\n",
              "      <td>NaN</td>\n",
              "      <td>NaN</td>\n",
              "      <td>NaN</td>\n",
              "      <td>NaN</td>\n",
              "    </tr>\n",
              "    <tr>\n",
              "      <th>gender</th>\n",
              "      <td>7043</td>\n",
              "      <td>2</td>\n",
              "      <td>Male</td>\n",
              "      <td>3555</td>\n",
              "      <td>NaN</td>\n",
              "      <td>NaN</td>\n",
              "      <td>NaN</td>\n",
              "      <td>NaN</td>\n",
              "      <td>NaN</td>\n",
              "      <td>NaN</td>\n",
              "      <td>NaN</td>\n",
              "    </tr>\n",
              "    <tr>\n",
              "      <th>SeniorCitizen</th>\n",
              "      <td>7043.0</td>\n",
              "      <td>NaN</td>\n",
              "      <td>NaN</td>\n",
              "      <td>NaN</td>\n",
              "      <td>0.162147</td>\n",
              "      <td>0.368612</td>\n",
              "      <td>0.0</td>\n",
              "      <td>0.0</td>\n",
              "      <td>0.0</td>\n",
              "      <td>0.0</td>\n",
              "      <td>1.0</td>\n",
              "    </tr>\n",
              "    <tr>\n",
              "      <th>Partner</th>\n",
              "      <td>7043</td>\n",
              "      <td>2</td>\n",
              "      <td>No</td>\n",
              "      <td>3641</td>\n",
              "      <td>NaN</td>\n",
              "      <td>NaN</td>\n",
              "      <td>NaN</td>\n",
              "      <td>NaN</td>\n",
              "      <td>NaN</td>\n",
              "      <td>NaN</td>\n",
              "      <td>NaN</td>\n",
              "    </tr>\n",
              "    <tr>\n",
              "      <th>Dependents</th>\n",
              "      <td>7043</td>\n",
              "      <td>2</td>\n",
              "      <td>No</td>\n",
              "      <td>4933</td>\n",
              "      <td>NaN</td>\n",
              "      <td>NaN</td>\n",
              "      <td>NaN</td>\n",
              "      <td>NaN</td>\n",
              "      <td>NaN</td>\n",
              "      <td>NaN</td>\n",
              "      <td>NaN</td>\n",
              "    </tr>\n",
              "  </tbody>\n",
              "</table>\n",
              "</div>\n",
              "      <button class=\"colab-df-convert\" onclick=\"convertToInteractive('df-5429f0f0-e0e4-44e4-bb3e-1bbad1eb44f7')\"\n",
              "              title=\"Convert this dataframe to an interactive table.\"\n",
              "              style=\"display:none;\">\n",
              "        \n",
              "  <svg xmlns=\"http://www.w3.org/2000/svg\" height=\"24px\"viewBox=\"0 0 24 24\"\n",
              "       width=\"24px\">\n",
              "    <path d=\"M0 0h24v24H0V0z\" fill=\"none\"/>\n",
              "    <path d=\"M18.56 5.44l.94 2.06.94-2.06 2.06-.94-2.06-.94-.94-2.06-.94 2.06-2.06.94zm-11 1L8.5 8.5l.94-2.06 2.06-.94-2.06-.94L8.5 2.5l-.94 2.06-2.06.94zm10 10l.94 2.06.94-2.06 2.06-.94-2.06-.94-.94-2.06-.94 2.06-2.06.94z\"/><path d=\"M17.41 7.96l-1.37-1.37c-.4-.4-.92-.59-1.43-.59-.52 0-1.04.2-1.43.59L10.3 9.45l-7.72 7.72c-.78.78-.78 2.05 0 2.83L4 21.41c.39.39.9.59 1.41.59.51 0 1.02-.2 1.41-.59l7.78-7.78 2.81-2.81c.8-.78.8-2.07 0-2.86zM5.41 20L4 18.59l7.72-7.72 1.47 1.35L5.41 20z\"/>\n",
              "  </svg>\n",
              "      </button>\n",
              "      \n",
              "  <style>\n",
              "    .colab-df-container {\n",
              "      display:flex;\n",
              "      flex-wrap:wrap;\n",
              "      gap: 12px;\n",
              "    }\n",
              "\n",
              "    .colab-df-convert {\n",
              "      background-color: #E8F0FE;\n",
              "      border: none;\n",
              "      border-radius: 50%;\n",
              "      cursor: pointer;\n",
              "      display: none;\n",
              "      fill: #1967D2;\n",
              "      height: 32px;\n",
              "      padding: 0 0 0 0;\n",
              "      width: 32px;\n",
              "    }\n",
              "\n",
              "    .colab-df-convert:hover {\n",
              "      background-color: #E2EBFA;\n",
              "      box-shadow: 0px 1px 2px rgba(60, 64, 67, 0.3), 0px 1px 3px 1px rgba(60, 64, 67, 0.15);\n",
              "      fill: #174EA6;\n",
              "    }\n",
              "\n",
              "    [theme=dark] .colab-df-convert {\n",
              "      background-color: #3B4455;\n",
              "      fill: #D2E3FC;\n",
              "    }\n",
              "\n",
              "    [theme=dark] .colab-df-convert:hover {\n",
              "      background-color: #434B5C;\n",
              "      box-shadow: 0px 1px 3px 1px rgba(0, 0, 0, 0.15);\n",
              "      filter: drop-shadow(0px 1px 2px rgba(0, 0, 0, 0.3));\n",
              "      fill: #FFFFFF;\n",
              "    }\n",
              "  </style>\n",
              "\n",
              "      <script>\n",
              "        const buttonEl =\n",
              "          document.querySelector('#df-5429f0f0-e0e4-44e4-bb3e-1bbad1eb44f7 button.colab-df-convert');\n",
              "        buttonEl.style.display =\n",
              "          google.colab.kernel.accessAllowed ? 'block' : 'none';\n",
              "\n",
              "        async function convertToInteractive(key) {\n",
              "          const element = document.querySelector('#df-5429f0f0-e0e4-44e4-bb3e-1bbad1eb44f7');\n",
              "          const dataTable =\n",
              "            await google.colab.kernel.invokeFunction('convertToInteractive',\n",
              "                                                     [key], {});\n",
              "          if (!dataTable) return;\n",
              "\n",
              "          const docLinkHtml = 'Like what you see? Visit the ' +\n",
              "            '<a target=\"_blank\" href=https://colab.research.google.com/notebooks/data_table.ipynb>data table notebook</a>'\n",
              "            + ' to learn more about interactive tables.';\n",
              "          element.innerHTML = '';\n",
              "          dataTable['output_type'] = 'display_data';\n",
              "          await google.colab.output.renderOutput(dataTable, element);\n",
              "          const docLink = document.createElement('div');\n",
              "          docLink.innerHTML = docLinkHtml;\n",
              "          element.appendChild(docLink);\n",
              "        }\n",
              "      </script>\n",
              "    </div>\n",
              "  </div>\n",
              "  "
            ]
          },
          "metadata": {}
        },
        {
          "output_type": "display_data",
          "data": {
            "text/plain": [
              "'##############################################'"
            ],
            "application/vnd.google.colaboratory.intrinsic+json": {
              "type": "string"
            }
          },
          "metadata": {}
        },
        {
          "output_type": "display_data",
          "data": {
            "text/plain": [
              "'Number of missing values'"
            ],
            "application/vnd.google.colaboratory.intrinsic+json": {
              "type": "string"
            }
          },
          "metadata": {}
        },
        {
          "output_type": "display_data",
          "data": {
            "text/plain": [
              "customerID       0\n",
              "gender           0\n",
              "SeniorCitizen    0\n",
              "Partner          0\n",
              "Dependents       0\n",
              "dtype: int64"
            ]
          },
          "metadata": {}
        }
      ],
      "source": [
        "describe(df_personal)"
      ]
    },
    {
      "cell_type": "code",
      "execution_count": 32,
      "id": "63bb5232",
      "metadata": {
        "scrolled": true,
        "colab": {
          "base_uri": "https://localhost:8080/"
        },
        "id": "63bb5232",
        "outputId": "2226756d-0334-4120-cfcb-4054cd6f64bc"
      },
      "outputs": [
        {
          "output_type": "execute_result",
          "data": {
            "text/plain": [
              "array(['Female', 'Male'], dtype=object)"
            ]
          },
          "metadata": {},
          "execution_count": 32
        }
      ],
      "source": [
        "df_personal['gender'].unique()"
      ]
    },
    {
      "cell_type": "code",
      "execution_count": 33,
      "id": "f2773156",
      "metadata": {
        "scrolled": true,
        "colab": {
          "base_uri": "https://localhost:8080/"
        },
        "id": "f2773156",
        "outputId": "77c7d907-43fc-4958-f343-995245415dc5"
      },
      "outputs": [
        {
          "output_type": "execute_result",
          "data": {
            "text/plain": [
              "array([0, 1])"
            ]
          },
          "metadata": {},
          "execution_count": 33
        }
      ],
      "source": [
        "df_personal['SeniorCitizen'].unique()"
      ]
    },
    {
      "cell_type": "code",
      "execution_count": 34,
      "id": "cc3acaac",
      "metadata": {
        "scrolled": true,
        "colab": {
          "base_uri": "https://localhost:8080/"
        },
        "id": "cc3acaac",
        "outputId": "75f70895-d150-4803-f1bf-0dc5649049a1"
      },
      "outputs": [
        {
          "output_type": "execute_result",
          "data": {
            "text/plain": [
              "array(['Yes', 'No'], dtype=object)"
            ]
          },
          "metadata": {},
          "execution_count": 34
        }
      ],
      "source": [
        "df_personal['Partner'].unique()"
      ]
    },
    {
      "cell_type": "code",
      "execution_count": 35,
      "id": "8897cb06",
      "metadata": {
        "colab": {
          "base_uri": "https://localhost:8080/"
        },
        "id": "8897cb06",
        "outputId": "333e003e-f8dc-4ad1-961e-7dcb185cd37e"
      },
      "outputs": [
        {
          "output_type": "execute_result",
          "data": {
            "text/plain": [
              "array(['No', 'Yes'], dtype=object)"
            ]
          },
          "metadata": {},
          "execution_count": 35
        }
      ],
      "source": [
        "df_personal['Dependents'].unique()"
      ]
    },
    {
      "cell_type": "markdown",
      "id": "e46dc044",
      "metadata": {
        "id": "e46dc044"
      },
      "source": [
        "According to the information gained about the data , it can be noted:\n",
        "- there are 7043 unique rows in the table, which corresponds to the number of unique contracts;\n",
        "- there are no missing values and hidden duplicates in the data;\n",
        "- all columns contain data with categorical variables, some of them will need to be encoded to train the model.\n",
        "\n",
        "We can proceed to the research analysis of the following table.\n",
        "___"
      ]
    },
    {
      "cell_type": "markdown",
      "id": "41c3c08e",
      "metadata": {
        "id": "41c3c08e"
      },
      "source": [
        "Next, let's study the internet(df_internet) database. From the data documentation It is known :"
      ]
    },
    {
      "cell_type": "markdown",
      "id": "768422c2",
      "metadata": {
        "id": "768422c2"
      },
      "source": [
        "- Connection can be either via a telephone line (DSL) or fiber optic cable (*Fiber optic*).\n",
        "\n",
        "The following services are also available:\n",
        "\n",
        "- Internet security: antivirus (*DeviceProtection*) and blocking unsafe sites (*OnlineSecurity*);\n",
        "- Dedicated technical support line (*TechSupport*);\n",
        "- Cloud file storage for data backup (*OnlineBackup*);\n",
        "- Streaming television (*StreamingTV*) and movie catalog (*StreamingMovies*)."
      ]
    },
    {
      "cell_type": "code",
      "execution_count": 36,
      "id": "6eb1b4db",
      "metadata": {
        "colab": {
          "base_uri": "https://localhost:8080/",
          "height": 1000
        },
        "id": "6eb1b4db",
        "outputId": "ed247662-868a-4f40-b55f-0c0d4ba623ba"
      },
      "outputs": [
        {
          "output_type": "display_data",
          "data": {
            "text/plain": [
              "'The first 5 rows of the table'"
            ],
            "application/vnd.google.colaboratory.intrinsic+json": {
              "type": "string"
            }
          },
          "metadata": {}
        },
        {
          "output_type": "display_data",
          "data": {
            "text/plain": [
              "   customerID InternetService OnlineSecurity OnlineBackup DeviceProtection  \\\n",
              "0  7590-VHVEG             DSL             No          Yes               No   \n",
              "1  5575-GNVDE             DSL            Yes           No              Yes   \n",
              "2  3668-QPYBK             DSL            Yes          Yes               No   \n",
              "3  7795-CFOCW             DSL            Yes           No              Yes   \n",
              "4  9237-HQITU     Fiber optic             No           No               No   \n",
              "\n",
              "  TechSupport StreamingTV StreamingMovies  \n",
              "0          No          No              No  \n",
              "1          No          No              No  \n",
              "2          No          No              No  \n",
              "3         Yes          No              No  \n",
              "4          No          No              No  "
            ],
            "text/html": [
              "\n",
              "  <div id=\"df-d2a019a8-1f42-4c9b-91a5-54b713bb9c1b\">\n",
              "    <div class=\"colab-df-container\">\n",
              "      <div>\n",
              "<style scoped>\n",
              "    .dataframe tbody tr th:only-of-type {\n",
              "        vertical-align: middle;\n",
              "    }\n",
              "\n",
              "    .dataframe tbody tr th {\n",
              "        vertical-align: top;\n",
              "    }\n",
              "\n",
              "    .dataframe thead th {\n",
              "        text-align: right;\n",
              "    }\n",
              "</style>\n",
              "<table border=\"1\" class=\"dataframe\">\n",
              "  <thead>\n",
              "    <tr style=\"text-align: right;\">\n",
              "      <th></th>\n",
              "      <th>customerID</th>\n",
              "      <th>InternetService</th>\n",
              "      <th>OnlineSecurity</th>\n",
              "      <th>OnlineBackup</th>\n",
              "      <th>DeviceProtection</th>\n",
              "      <th>TechSupport</th>\n",
              "      <th>StreamingTV</th>\n",
              "      <th>StreamingMovies</th>\n",
              "    </tr>\n",
              "  </thead>\n",
              "  <tbody>\n",
              "    <tr>\n",
              "      <th>0</th>\n",
              "      <td>7590-VHVEG</td>\n",
              "      <td>DSL</td>\n",
              "      <td>No</td>\n",
              "      <td>Yes</td>\n",
              "      <td>No</td>\n",
              "      <td>No</td>\n",
              "      <td>No</td>\n",
              "      <td>No</td>\n",
              "    </tr>\n",
              "    <tr>\n",
              "      <th>1</th>\n",
              "      <td>5575-GNVDE</td>\n",
              "      <td>DSL</td>\n",
              "      <td>Yes</td>\n",
              "      <td>No</td>\n",
              "      <td>Yes</td>\n",
              "      <td>No</td>\n",
              "      <td>No</td>\n",
              "      <td>No</td>\n",
              "    </tr>\n",
              "    <tr>\n",
              "      <th>2</th>\n",
              "      <td>3668-QPYBK</td>\n",
              "      <td>DSL</td>\n",
              "      <td>Yes</td>\n",
              "      <td>Yes</td>\n",
              "      <td>No</td>\n",
              "      <td>No</td>\n",
              "      <td>No</td>\n",
              "      <td>No</td>\n",
              "    </tr>\n",
              "    <tr>\n",
              "      <th>3</th>\n",
              "      <td>7795-CFOCW</td>\n",
              "      <td>DSL</td>\n",
              "      <td>Yes</td>\n",
              "      <td>No</td>\n",
              "      <td>Yes</td>\n",
              "      <td>Yes</td>\n",
              "      <td>No</td>\n",
              "      <td>No</td>\n",
              "    </tr>\n",
              "    <tr>\n",
              "      <th>4</th>\n",
              "      <td>9237-HQITU</td>\n",
              "      <td>Fiber optic</td>\n",
              "      <td>No</td>\n",
              "      <td>No</td>\n",
              "      <td>No</td>\n",
              "      <td>No</td>\n",
              "      <td>No</td>\n",
              "      <td>No</td>\n",
              "    </tr>\n",
              "  </tbody>\n",
              "</table>\n",
              "</div>\n",
              "      <button class=\"colab-df-convert\" onclick=\"convertToInteractive('df-d2a019a8-1f42-4c9b-91a5-54b713bb9c1b')\"\n",
              "              title=\"Convert this dataframe to an interactive table.\"\n",
              "              style=\"display:none;\">\n",
              "        \n",
              "  <svg xmlns=\"http://www.w3.org/2000/svg\" height=\"24px\"viewBox=\"0 0 24 24\"\n",
              "       width=\"24px\">\n",
              "    <path d=\"M0 0h24v24H0V0z\" fill=\"none\"/>\n",
              "    <path d=\"M18.56 5.44l.94 2.06.94-2.06 2.06-.94-2.06-.94-.94-2.06-.94 2.06-2.06.94zm-11 1L8.5 8.5l.94-2.06 2.06-.94-2.06-.94L8.5 2.5l-.94 2.06-2.06.94zm10 10l.94 2.06.94-2.06 2.06-.94-2.06-.94-.94-2.06-.94 2.06-2.06.94z\"/><path d=\"M17.41 7.96l-1.37-1.37c-.4-.4-.92-.59-1.43-.59-.52 0-1.04.2-1.43.59L10.3 9.45l-7.72 7.72c-.78.78-.78 2.05 0 2.83L4 21.41c.39.39.9.59 1.41.59.51 0 1.02-.2 1.41-.59l7.78-7.78 2.81-2.81c.8-.78.8-2.07 0-2.86zM5.41 20L4 18.59l7.72-7.72 1.47 1.35L5.41 20z\"/>\n",
              "  </svg>\n",
              "      </button>\n",
              "      \n",
              "  <style>\n",
              "    .colab-df-container {\n",
              "      display:flex;\n",
              "      flex-wrap:wrap;\n",
              "      gap: 12px;\n",
              "    }\n",
              "\n",
              "    .colab-df-convert {\n",
              "      background-color: #E8F0FE;\n",
              "      border: none;\n",
              "      border-radius: 50%;\n",
              "      cursor: pointer;\n",
              "      display: none;\n",
              "      fill: #1967D2;\n",
              "      height: 32px;\n",
              "      padding: 0 0 0 0;\n",
              "      width: 32px;\n",
              "    }\n",
              "\n",
              "    .colab-df-convert:hover {\n",
              "      background-color: #E2EBFA;\n",
              "      box-shadow: 0px 1px 2px rgba(60, 64, 67, 0.3), 0px 1px 3px 1px rgba(60, 64, 67, 0.15);\n",
              "      fill: #174EA6;\n",
              "    }\n",
              "\n",
              "    [theme=dark] .colab-df-convert {\n",
              "      background-color: #3B4455;\n",
              "      fill: #D2E3FC;\n",
              "    }\n",
              "\n",
              "    [theme=dark] .colab-df-convert:hover {\n",
              "      background-color: #434B5C;\n",
              "      box-shadow: 0px 1px 3px 1px rgba(0, 0, 0, 0.15);\n",
              "      filter: drop-shadow(0px 1px 2px rgba(0, 0, 0, 0.3));\n",
              "      fill: #FFFFFF;\n",
              "    }\n",
              "  </style>\n",
              "\n",
              "      <script>\n",
              "        const buttonEl =\n",
              "          document.querySelector('#df-d2a019a8-1f42-4c9b-91a5-54b713bb9c1b button.colab-df-convert');\n",
              "        buttonEl.style.display =\n",
              "          google.colab.kernel.accessAllowed ? 'block' : 'none';\n",
              "\n",
              "        async function convertToInteractive(key) {\n",
              "          const element = document.querySelector('#df-d2a019a8-1f42-4c9b-91a5-54b713bb9c1b');\n",
              "          const dataTable =\n",
              "            await google.colab.kernel.invokeFunction('convertToInteractive',\n",
              "                                                     [key], {});\n",
              "          if (!dataTable) return;\n",
              "\n",
              "          const docLinkHtml = 'Like what you see? Visit the ' +\n",
              "            '<a target=\"_blank\" href=https://colab.research.google.com/notebooks/data_table.ipynb>data table notebook</a>'\n",
              "            + ' to learn more about interactive tables.';\n",
              "          element.innerHTML = '';\n",
              "          dataTable['output_type'] = 'display_data';\n",
              "          await google.colab.output.renderOutput(dataTable, element);\n",
              "          const docLink = document.createElement('div');\n",
              "          docLink.innerHTML = docLinkHtml;\n",
              "          element.appendChild(docLink);\n",
              "        }\n",
              "      </script>\n",
              "    </div>\n",
              "  </div>\n",
              "  "
            ]
          },
          "metadata": {}
        },
        {
          "output_type": "display_data",
          "data": {
            "text/plain": [
              "'##############################################'"
            ],
            "application/vnd.google.colaboratory.intrinsic+json": {
              "type": "string"
            }
          },
          "metadata": {}
        },
        {
          "output_type": "stream",
          "name": "stdout",
          "text": [
            "<class 'pandas.core.frame.DataFrame'>\n",
            "RangeIndex: 5517 entries, 0 to 5516\n",
            "Data columns (total 8 columns):\n",
            " #   Column            Non-Null Count  Dtype \n",
            "---  ------            --------------  ----- \n",
            " 0   customerID        5517 non-null   object\n",
            " 1   InternetService   5517 non-null   object\n",
            " 2   OnlineSecurity    5517 non-null   object\n",
            " 3   OnlineBackup      5517 non-null   object\n",
            " 4   DeviceProtection  5517 non-null   object\n",
            " 5   TechSupport       5517 non-null   object\n",
            " 6   StreamingTV       5517 non-null   object\n",
            " 7   StreamingMovies   5517 non-null   object\n",
            "dtypes: object(8)\n",
            "memory usage: 344.9+ KB\n"
          ]
        },
        {
          "output_type": "display_data",
          "data": {
            "text/plain": [
              "None"
            ]
          },
          "metadata": {}
        },
        {
          "output_type": "display_data",
          "data": {
            "text/plain": [
              "'##############################################'"
            ],
            "application/vnd.google.colaboratory.intrinsic+json": {
              "type": "string"
            }
          },
          "metadata": {}
        },
        {
          "output_type": "display_data",
          "data": {
            "text/plain": [
              "'Data description'"
            ],
            "application/vnd.google.colaboratory.intrinsic+json": {
              "type": "string"
            }
          },
          "metadata": {}
        },
        {
          "output_type": "display_data",
          "data": {
            "text/plain": [
              "                 count unique          top  freq\n",
              "customerID        5517   5517   7590-VHVEG     1\n",
              "InternetService   5517      2  Fiber optic  3096\n",
              "OnlineSecurity    5517      2           No  3498\n",
              "OnlineBackup      5517      2           No  3088\n",
              "DeviceProtection  5517      2           No  3095\n",
              "TechSupport       5517      2           No  3473\n",
              "StreamingTV       5517      2           No  2810\n",
              "StreamingMovies   5517      2           No  2785"
            ],
            "text/html": [
              "\n",
              "  <div id=\"df-bcd760af-e088-41c4-801d-41f436416828\">\n",
              "    <div class=\"colab-df-container\">\n",
              "      <div>\n",
              "<style scoped>\n",
              "    .dataframe tbody tr th:only-of-type {\n",
              "        vertical-align: middle;\n",
              "    }\n",
              "\n",
              "    .dataframe tbody tr th {\n",
              "        vertical-align: top;\n",
              "    }\n",
              "\n",
              "    .dataframe thead th {\n",
              "        text-align: right;\n",
              "    }\n",
              "</style>\n",
              "<table border=\"1\" class=\"dataframe\">\n",
              "  <thead>\n",
              "    <tr style=\"text-align: right;\">\n",
              "      <th></th>\n",
              "      <th>count</th>\n",
              "      <th>unique</th>\n",
              "      <th>top</th>\n",
              "      <th>freq</th>\n",
              "    </tr>\n",
              "  </thead>\n",
              "  <tbody>\n",
              "    <tr>\n",
              "      <th>customerID</th>\n",
              "      <td>5517</td>\n",
              "      <td>5517</td>\n",
              "      <td>7590-VHVEG</td>\n",
              "      <td>1</td>\n",
              "    </tr>\n",
              "    <tr>\n",
              "      <th>InternetService</th>\n",
              "      <td>5517</td>\n",
              "      <td>2</td>\n",
              "      <td>Fiber optic</td>\n",
              "      <td>3096</td>\n",
              "    </tr>\n",
              "    <tr>\n",
              "      <th>OnlineSecurity</th>\n",
              "      <td>5517</td>\n",
              "      <td>2</td>\n",
              "      <td>No</td>\n",
              "      <td>3498</td>\n",
              "    </tr>\n",
              "    <tr>\n",
              "      <th>OnlineBackup</th>\n",
              "      <td>5517</td>\n",
              "      <td>2</td>\n",
              "      <td>No</td>\n",
              "      <td>3088</td>\n",
              "    </tr>\n",
              "    <tr>\n",
              "      <th>DeviceProtection</th>\n",
              "      <td>5517</td>\n",
              "      <td>2</td>\n",
              "      <td>No</td>\n",
              "      <td>3095</td>\n",
              "    </tr>\n",
              "    <tr>\n",
              "      <th>TechSupport</th>\n",
              "      <td>5517</td>\n",
              "      <td>2</td>\n",
              "      <td>No</td>\n",
              "      <td>3473</td>\n",
              "    </tr>\n",
              "    <tr>\n",
              "      <th>StreamingTV</th>\n",
              "      <td>5517</td>\n",
              "      <td>2</td>\n",
              "      <td>No</td>\n",
              "      <td>2810</td>\n",
              "    </tr>\n",
              "    <tr>\n",
              "      <th>StreamingMovies</th>\n",
              "      <td>5517</td>\n",
              "      <td>2</td>\n",
              "      <td>No</td>\n",
              "      <td>2785</td>\n",
              "    </tr>\n",
              "  </tbody>\n",
              "</table>\n",
              "</div>\n",
              "      <button class=\"colab-df-convert\" onclick=\"convertToInteractive('df-bcd760af-e088-41c4-801d-41f436416828')\"\n",
              "              title=\"Convert this dataframe to an interactive table.\"\n",
              "              style=\"display:none;\">\n",
              "        \n",
              "  <svg xmlns=\"http://www.w3.org/2000/svg\" height=\"24px\"viewBox=\"0 0 24 24\"\n",
              "       width=\"24px\">\n",
              "    <path d=\"M0 0h24v24H0V0z\" fill=\"none\"/>\n",
              "    <path d=\"M18.56 5.44l.94 2.06.94-2.06 2.06-.94-2.06-.94-.94-2.06-.94 2.06-2.06.94zm-11 1L8.5 8.5l.94-2.06 2.06-.94-2.06-.94L8.5 2.5l-.94 2.06-2.06.94zm10 10l.94 2.06.94-2.06 2.06-.94-2.06-.94-.94-2.06-.94 2.06-2.06.94z\"/><path d=\"M17.41 7.96l-1.37-1.37c-.4-.4-.92-.59-1.43-.59-.52 0-1.04.2-1.43.59L10.3 9.45l-7.72 7.72c-.78.78-.78 2.05 0 2.83L4 21.41c.39.39.9.59 1.41.59.51 0 1.02-.2 1.41-.59l7.78-7.78 2.81-2.81c.8-.78.8-2.07 0-2.86zM5.41 20L4 18.59l7.72-7.72 1.47 1.35L5.41 20z\"/>\n",
              "  </svg>\n",
              "      </button>\n",
              "      \n",
              "  <style>\n",
              "    .colab-df-container {\n",
              "      display:flex;\n",
              "      flex-wrap:wrap;\n",
              "      gap: 12px;\n",
              "    }\n",
              "\n",
              "    .colab-df-convert {\n",
              "      background-color: #E8F0FE;\n",
              "      border: none;\n",
              "      border-radius: 50%;\n",
              "      cursor: pointer;\n",
              "      display: none;\n",
              "      fill: #1967D2;\n",
              "      height: 32px;\n",
              "      padding: 0 0 0 0;\n",
              "      width: 32px;\n",
              "    }\n",
              "\n",
              "    .colab-df-convert:hover {\n",
              "      background-color: #E2EBFA;\n",
              "      box-shadow: 0px 1px 2px rgba(60, 64, 67, 0.3), 0px 1px 3px 1px rgba(60, 64, 67, 0.15);\n",
              "      fill: #174EA6;\n",
              "    }\n",
              "\n",
              "    [theme=dark] .colab-df-convert {\n",
              "      background-color: #3B4455;\n",
              "      fill: #D2E3FC;\n",
              "    }\n",
              "\n",
              "    [theme=dark] .colab-df-convert:hover {\n",
              "      background-color: #434B5C;\n",
              "      box-shadow: 0px 1px 3px 1px rgba(0, 0, 0, 0.15);\n",
              "      filter: drop-shadow(0px 1px 2px rgba(0, 0, 0, 0.3));\n",
              "      fill: #FFFFFF;\n",
              "    }\n",
              "  </style>\n",
              "\n",
              "      <script>\n",
              "        const buttonEl =\n",
              "          document.querySelector('#df-bcd760af-e088-41c4-801d-41f436416828 button.colab-df-convert');\n",
              "        buttonEl.style.display =\n",
              "          google.colab.kernel.accessAllowed ? 'block' : 'none';\n",
              "\n",
              "        async function convertToInteractive(key) {\n",
              "          const element = document.querySelector('#df-bcd760af-e088-41c4-801d-41f436416828');\n",
              "          const dataTable =\n",
              "            await google.colab.kernel.invokeFunction('convertToInteractive',\n",
              "                                                     [key], {});\n",
              "          if (!dataTable) return;\n",
              "\n",
              "          const docLinkHtml = 'Like what you see? Visit the ' +\n",
              "            '<a target=\"_blank\" href=https://colab.research.google.com/notebooks/data_table.ipynb>data table notebook</a>'\n",
              "            + ' to learn more about interactive tables.';\n",
              "          element.innerHTML = '';\n",
              "          dataTable['output_type'] = 'display_data';\n",
              "          await google.colab.output.renderOutput(dataTable, element);\n",
              "          const docLink = document.createElement('div');\n",
              "          docLink.innerHTML = docLinkHtml;\n",
              "          element.appendChild(docLink);\n",
              "        }\n",
              "      </script>\n",
              "    </div>\n",
              "  </div>\n",
              "  "
            ]
          },
          "metadata": {}
        },
        {
          "output_type": "display_data",
          "data": {
            "text/plain": [
              "'##############################################'"
            ],
            "application/vnd.google.colaboratory.intrinsic+json": {
              "type": "string"
            }
          },
          "metadata": {}
        },
        {
          "output_type": "display_data",
          "data": {
            "text/plain": [
              "'Number of missing values'"
            ],
            "application/vnd.google.colaboratory.intrinsic+json": {
              "type": "string"
            }
          },
          "metadata": {}
        },
        {
          "output_type": "display_data",
          "data": {
            "text/plain": [
              "customerID          0\n",
              "InternetService     0\n",
              "OnlineSecurity      0\n",
              "OnlineBackup        0\n",
              "DeviceProtection    0\n",
              "TechSupport         0\n",
              "StreamingTV         0\n",
              "StreamingMovies     0\n",
              "dtype: int64"
            ]
          },
          "metadata": {}
        }
      ],
      "source": [
        "describe(df_internet)"
      ]
    },
    {
      "cell_type": "markdown",
      "id": "36e4b2ae",
      "metadata": {
        "id": "36e4b2ae"
      },
      "source": [
        "According to the information gained about the data , it can be noted:\n",
        "- there are 5517 unique rows in the table, which means that not all customers used Internet services;\n",
        "- there are no missing values and hidden duplicates in the data;\n",
        "- all columns contain data with categorical variables, some of them will need to be encoded to train the model.\n",
        "\n",
        "You can proceed to the research analysis of the following table.\n",
        "___"
      ]
    },
    {
      "cell_type": "markdown",
      "id": "49190b67",
      "metadata": {
        "id": "49190b67"
      },
      "source": [
        "Next, let's study the phone(df_phone) database. From the data documentation it is known :\n",
        "\n",
        "- Multiplelines-the possibility of maintaining parallel lines during a call"
      ]
    },
    {
      "cell_type": "code",
      "execution_count": 37,
      "id": "933aaa7d",
      "metadata": {
        "colab": {
          "base_uri": "https://localhost:8080/",
          "height": 639
        },
        "id": "933aaa7d",
        "outputId": "5072d05a-40b8-4552-809c-b54eadcdf02f"
      },
      "outputs": [
        {
          "output_type": "display_data",
          "data": {
            "text/plain": [
              "'The first 5 rows of the table'"
            ],
            "application/vnd.google.colaboratory.intrinsic+json": {
              "type": "string"
            }
          },
          "metadata": {}
        },
        {
          "output_type": "display_data",
          "data": {
            "text/plain": [
              "   customerID MultipleLines\n",
              "0  5575-GNVDE            No\n",
              "1  3668-QPYBK            No\n",
              "2  9237-HQITU            No\n",
              "3  9305-CDSKC           Yes\n",
              "4  1452-KIOVK           Yes"
            ],
            "text/html": [
              "\n",
              "  <div id=\"df-132954ee-5531-4955-b8b6-4db0c67c30d9\">\n",
              "    <div class=\"colab-df-container\">\n",
              "      <div>\n",
              "<style scoped>\n",
              "    .dataframe tbody tr th:only-of-type {\n",
              "        vertical-align: middle;\n",
              "    }\n",
              "\n",
              "    .dataframe tbody tr th {\n",
              "        vertical-align: top;\n",
              "    }\n",
              "\n",
              "    .dataframe thead th {\n",
              "        text-align: right;\n",
              "    }\n",
              "</style>\n",
              "<table border=\"1\" class=\"dataframe\">\n",
              "  <thead>\n",
              "    <tr style=\"text-align: right;\">\n",
              "      <th></th>\n",
              "      <th>customerID</th>\n",
              "      <th>MultipleLines</th>\n",
              "    </tr>\n",
              "  </thead>\n",
              "  <tbody>\n",
              "    <tr>\n",
              "      <th>0</th>\n",
              "      <td>5575-GNVDE</td>\n",
              "      <td>No</td>\n",
              "    </tr>\n",
              "    <tr>\n",
              "      <th>1</th>\n",
              "      <td>3668-QPYBK</td>\n",
              "      <td>No</td>\n",
              "    </tr>\n",
              "    <tr>\n",
              "      <th>2</th>\n",
              "      <td>9237-HQITU</td>\n",
              "      <td>No</td>\n",
              "    </tr>\n",
              "    <tr>\n",
              "      <th>3</th>\n",
              "      <td>9305-CDSKC</td>\n",
              "      <td>Yes</td>\n",
              "    </tr>\n",
              "    <tr>\n",
              "      <th>4</th>\n",
              "      <td>1452-KIOVK</td>\n",
              "      <td>Yes</td>\n",
              "    </tr>\n",
              "  </tbody>\n",
              "</table>\n",
              "</div>\n",
              "      <button class=\"colab-df-convert\" onclick=\"convertToInteractive('df-132954ee-5531-4955-b8b6-4db0c67c30d9')\"\n",
              "              title=\"Convert this dataframe to an interactive table.\"\n",
              "              style=\"display:none;\">\n",
              "        \n",
              "  <svg xmlns=\"http://www.w3.org/2000/svg\" height=\"24px\"viewBox=\"0 0 24 24\"\n",
              "       width=\"24px\">\n",
              "    <path d=\"M0 0h24v24H0V0z\" fill=\"none\"/>\n",
              "    <path d=\"M18.56 5.44l.94 2.06.94-2.06 2.06-.94-2.06-.94-.94-2.06-.94 2.06-2.06.94zm-11 1L8.5 8.5l.94-2.06 2.06-.94-2.06-.94L8.5 2.5l-.94 2.06-2.06.94zm10 10l.94 2.06.94-2.06 2.06-.94-2.06-.94-.94-2.06-.94 2.06-2.06.94z\"/><path d=\"M17.41 7.96l-1.37-1.37c-.4-.4-.92-.59-1.43-.59-.52 0-1.04.2-1.43.59L10.3 9.45l-7.72 7.72c-.78.78-.78 2.05 0 2.83L4 21.41c.39.39.9.59 1.41.59.51 0 1.02-.2 1.41-.59l7.78-7.78 2.81-2.81c.8-.78.8-2.07 0-2.86zM5.41 20L4 18.59l7.72-7.72 1.47 1.35L5.41 20z\"/>\n",
              "  </svg>\n",
              "      </button>\n",
              "      \n",
              "  <style>\n",
              "    .colab-df-container {\n",
              "      display:flex;\n",
              "      flex-wrap:wrap;\n",
              "      gap: 12px;\n",
              "    }\n",
              "\n",
              "    .colab-df-convert {\n",
              "      background-color: #E8F0FE;\n",
              "      border: none;\n",
              "      border-radius: 50%;\n",
              "      cursor: pointer;\n",
              "      display: none;\n",
              "      fill: #1967D2;\n",
              "      height: 32px;\n",
              "      padding: 0 0 0 0;\n",
              "      width: 32px;\n",
              "    }\n",
              "\n",
              "    .colab-df-convert:hover {\n",
              "      background-color: #E2EBFA;\n",
              "      box-shadow: 0px 1px 2px rgba(60, 64, 67, 0.3), 0px 1px 3px 1px rgba(60, 64, 67, 0.15);\n",
              "      fill: #174EA6;\n",
              "    }\n",
              "\n",
              "    [theme=dark] .colab-df-convert {\n",
              "      background-color: #3B4455;\n",
              "      fill: #D2E3FC;\n",
              "    }\n",
              "\n",
              "    [theme=dark] .colab-df-convert:hover {\n",
              "      background-color: #434B5C;\n",
              "      box-shadow: 0px 1px 3px 1px rgba(0, 0, 0, 0.15);\n",
              "      filter: drop-shadow(0px 1px 2px rgba(0, 0, 0, 0.3));\n",
              "      fill: #FFFFFF;\n",
              "    }\n",
              "  </style>\n",
              "\n",
              "      <script>\n",
              "        const buttonEl =\n",
              "          document.querySelector('#df-132954ee-5531-4955-b8b6-4db0c67c30d9 button.colab-df-convert');\n",
              "        buttonEl.style.display =\n",
              "          google.colab.kernel.accessAllowed ? 'block' : 'none';\n",
              "\n",
              "        async function convertToInteractive(key) {\n",
              "          const element = document.querySelector('#df-132954ee-5531-4955-b8b6-4db0c67c30d9');\n",
              "          const dataTable =\n",
              "            await google.colab.kernel.invokeFunction('convertToInteractive',\n",
              "                                                     [key], {});\n",
              "          if (!dataTable) return;\n",
              "\n",
              "          const docLinkHtml = 'Like what you see? Visit the ' +\n",
              "            '<a target=\"_blank\" href=https://colab.research.google.com/notebooks/data_table.ipynb>data table notebook</a>'\n",
              "            + ' to learn more about interactive tables.';\n",
              "          element.innerHTML = '';\n",
              "          dataTable['output_type'] = 'display_data';\n",
              "          await google.colab.output.renderOutput(dataTable, element);\n",
              "          const docLink = document.createElement('div');\n",
              "          docLink.innerHTML = docLinkHtml;\n",
              "          element.appendChild(docLink);\n",
              "        }\n",
              "      </script>\n",
              "    </div>\n",
              "  </div>\n",
              "  "
            ]
          },
          "metadata": {}
        },
        {
          "output_type": "display_data",
          "data": {
            "text/plain": [
              "'##############################################'"
            ],
            "application/vnd.google.colaboratory.intrinsic+json": {
              "type": "string"
            }
          },
          "metadata": {}
        },
        {
          "output_type": "stream",
          "name": "stdout",
          "text": [
            "<class 'pandas.core.frame.DataFrame'>\n",
            "RangeIndex: 6361 entries, 0 to 6360\n",
            "Data columns (total 2 columns):\n",
            " #   Column         Non-Null Count  Dtype \n",
            "---  ------         --------------  ----- \n",
            " 0   customerID     6361 non-null   object\n",
            " 1   MultipleLines  6361 non-null   object\n",
            "dtypes: object(2)\n",
            "memory usage: 99.5+ KB\n"
          ]
        },
        {
          "output_type": "display_data",
          "data": {
            "text/plain": [
              "None"
            ]
          },
          "metadata": {}
        },
        {
          "output_type": "display_data",
          "data": {
            "text/plain": [
              "'##############################################'"
            ],
            "application/vnd.google.colaboratory.intrinsic+json": {
              "type": "string"
            }
          },
          "metadata": {}
        },
        {
          "output_type": "display_data",
          "data": {
            "text/plain": [
              "'Data description'"
            ],
            "application/vnd.google.colaboratory.intrinsic+json": {
              "type": "string"
            }
          },
          "metadata": {}
        },
        {
          "output_type": "display_data",
          "data": {
            "text/plain": [
              "              count unique         top  freq\n",
              "customerID     6361   6361  5575-GNVDE     1\n",
              "MultipleLines  6361      2          No  3390"
            ],
            "text/html": [
              "\n",
              "  <div id=\"df-d8282229-c2e2-46ad-bb3e-30c8e7b2464c\">\n",
              "    <div class=\"colab-df-container\">\n",
              "      <div>\n",
              "<style scoped>\n",
              "    .dataframe tbody tr th:only-of-type {\n",
              "        vertical-align: middle;\n",
              "    }\n",
              "\n",
              "    .dataframe tbody tr th {\n",
              "        vertical-align: top;\n",
              "    }\n",
              "\n",
              "    .dataframe thead th {\n",
              "        text-align: right;\n",
              "    }\n",
              "</style>\n",
              "<table border=\"1\" class=\"dataframe\">\n",
              "  <thead>\n",
              "    <tr style=\"text-align: right;\">\n",
              "      <th></th>\n",
              "      <th>count</th>\n",
              "      <th>unique</th>\n",
              "      <th>top</th>\n",
              "      <th>freq</th>\n",
              "    </tr>\n",
              "  </thead>\n",
              "  <tbody>\n",
              "    <tr>\n",
              "      <th>customerID</th>\n",
              "      <td>6361</td>\n",
              "      <td>6361</td>\n",
              "      <td>5575-GNVDE</td>\n",
              "      <td>1</td>\n",
              "    </tr>\n",
              "    <tr>\n",
              "      <th>MultipleLines</th>\n",
              "      <td>6361</td>\n",
              "      <td>2</td>\n",
              "      <td>No</td>\n",
              "      <td>3390</td>\n",
              "    </tr>\n",
              "  </tbody>\n",
              "</table>\n",
              "</div>\n",
              "      <button class=\"colab-df-convert\" onclick=\"convertToInteractive('df-d8282229-c2e2-46ad-bb3e-30c8e7b2464c')\"\n",
              "              title=\"Convert this dataframe to an interactive table.\"\n",
              "              style=\"display:none;\">\n",
              "        \n",
              "  <svg xmlns=\"http://www.w3.org/2000/svg\" height=\"24px\"viewBox=\"0 0 24 24\"\n",
              "       width=\"24px\">\n",
              "    <path d=\"M0 0h24v24H0V0z\" fill=\"none\"/>\n",
              "    <path d=\"M18.56 5.44l.94 2.06.94-2.06 2.06-.94-2.06-.94-.94-2.06-.94 2.06-2.06.94zm-11 1L8.5 8.5l.94-2.06 2.06-.94-2.06-.94L8.5 2.5l-.94 2.06-2.06.94zm10 10l.94 2.06.94-2.06 2.06-.94-2.06-.94-.94-2.06-.94 2.06-2.06.94z\"/><path d=\"M17.41 7.96l-1.37-1.37c-.4-.4-.92-.59-1.43-.59-.52 0-1.04.2-1.43.59L10.3 9.45l-7.72 7.72c-.78.78-.78 2.05 0 2.83L4 21.41c.39.39.9.59 1.41.59.51 0 1.02-.2 1.41-.59l7.78-7.78 2.81-2.81c.8-.78.8-2.07 0-2.86zM5.41 20L4 18.59l7.72-7.72 1.47 1.35L5.41 20z\"/>\n",
              "  </svg>\n",
              "      </button>\n",
              "      \n",
              "  <style>\n",
              "    .colab-df-container {\n",
              "      display:flex;\n",
              "      flex-wrap:wrap;\n",
              "      gap: 12px;\n",
              "    }\n",
              "\n",
              "    .colab-df-convert {\n",
              "      background-color: #E8F0FE;\n",
              "      border: none;\n",
              "      border-radius: 50%;\n",
              "      cursor: pointer;\n",
              "      display: none;\n",
              "      fill: #1967D2;\n",
              "      height: 32px;\n",
              "      padding: 0 0 0 0;\n",
              "      width: 32px;\n",
              "    }\n",
              "\n",
              "    .colab-df-convert:hover {\n",
              "      background-color: #E2EBFA;\n",
              "      box-shadow: 0px 1px 2px rgba(60, 64, 67, 0.3), 0px 1px 3px 1px rgba(60, 64, 67, 0.15);\n",
              "      fill: #174EA6;\n",
              "    }\n",
              "\n",
              "    [theme=dark] .colab-df-convert {\n",
              "      background-color: #3B4455;\n",
              "      fill: #D2E3FC;\n",
              "    }\n",
              "\n",
              "    [theme=dark] .colab-df-convert:hover {\n",
              "      background-color: #434B5C;\n",
              "      box-shadow: 0px 1px 3px 1px rgba(0, 0, 0, 0.15);\n",
              "      filter: drop-shadow(0px 1px 2px rgba(0, 0, 0, 0.3));\n",
              "      fill: #FFFFFF;\n",
              "    }\n",
              "  </style>\n",
              "\n",
              "      <script>\n",
              "        const buttonEl =\n",
              "          document.querySelector('#df-d8282229-c2e2-46ad-bb3e-30c8e7b2464c button.colab-df-convert');\n",
              "        buttonEl.style.display =\n",
              "          google.colab.kernel.accessAllowed ? 'block' : 'none';\n",
              "\n",
              "        async function convertToInteractive(key) {\n",
              "          const element = document.querySelector('#df-d8282229-c2e2-46ad-bb3e-30c8e7b2464c');\n",
              "          const dataTable =\n",
              "            await google.colab.kernel.invokeFunction('convertToInteractive',\n",
              "                                                     [key], {});\n",
              "          if (!dataTable) return;\n",
              "\n",
              "          const docLinkHtml = 'Like what you see? Visit the ' +\n",
              "            '<a target=\"_blank\" href=https://colab.research.google.com/notebooks/data_table.ipynb>data table notebook</a>'\n",
              "            + ' to learn more about interactive tables.';\n",
              "          element.innerHTML = '';\n",
              "          dataTable['output_type'] = 'display_data';\n",
              "          await google.colab.output.renderOutput(dataTable, element);\n",
              "          const docLink = document.createElement('div');\n",
              "          docLink.innerHTML = docLinkHtml;\n",
              "          element.appendChild(docLink);\n",
              "        }\n",
              "      </script>\n",
              "    </div>\n",
              "  </div>\n",
              "  "
            ]
          },
          "metadata": {}
        },
        {
          "output_type": "display_data",
          "data": {
            "text/plain": [
              "'##############################################'"
            ],
            "application/vnd.google.colaboratory.intrinsic+json": {
              "type": "string"
            }
          },
          "metadata": {}
        },
        {
          "output_type": "display_data",
          "data": {
            "text/plain": [
              "'Number of missing values'"
            ],
            "application/vnd.google.colaboratory.intrinsic+json": {
              "type": "string"
            }
          },
          "metadata": {}
        },
        {
          "output_type": "display_data",
          "data": {
            "text/plain": [
              "customerID       0\n",
              "MultipleLines    0\n",
              "dtype: int64"
            ]
          },
          "metadata": {}
        }
      ],
      "source": [
        "describe(df_phone)"
      ]
    },
    {
      "cell_type": "markdown",
      "id": "4e96159f",
      "metadata": {
        "id": "4e96159f"
      },
      "source": [
        "According to the information gained about the data , it can be noted:\n",
        "- there is a unique entry in table 6361, which means that not all customers used telephone services;\n",
        "- there are no missing values and hidden duplicates in the data;\n",
        "- all columns contain data with categorical variables, some of them will need to be encoded to train the model.\n",
        "\n",
        "At this stage, the initial data analysis is completed.\n",
        "___"
      ]
    },
    {
      "cell_type": "markdown",
      "id": "4ef885ba",
      "metadata": {
        "id": "4ef885ba"
      },
      "source": [
        "___\n",
        "### Data Analysis\n",
        "___"
      ]
    },
    {
      "cell_type": "markdown",
      "id": "6229b6d1",
      "metadata": {
        "id": "6229b6d1"
      },
      "source": [
        "Now data from different tables can be joined. In the 'how' parameter, we need to set the value 'outer' so that no one line would lost. Since their number is different in different tables."
      ]
    },
    {
      "cell_type": "code",
      "execution_count": 38,
      "id": "3850c6e3",
      "metadata": {
        "colab": {
          "base_uri": "https://localhost:8080/",
          "height": 333
        },
        "id": "3850c6e3",
        "outputId": "ee176913-186d-4eaf-e578-80345527e328"
      },
      "outputs": [
        {
          "output_type": "execute_result",
          "data": {
            "text/plain": [
              "   customerID  BeginDate    EndDate            Type PaperlessBilling  \\\n",
              "0  7590-VHVEG 2020-01-01 2020-02-01  Month-to-month              Yes   \n",
              "1  5575-GNVDE 2017-04-01 2020-02-01        One year               No   \n",
              "2  3668-QPYBK 2019-10-01 2019-12-01  Month-to-month              Yes   \n",
              "3  7795-CFOCW 2016-05-01 2020-02-01        One year               No   \n",
              "4  9237-HQITU 2019-09-01 2019-11-01  Month-to-month              Yes   \n",
              "\n",
              "               PaymentMethod  MonthlyCharges  TotalCharges  gender  \\\n",
              "0           Electronic check           29.85         29.85  Female   \n",
              "1               Mailed check           56.95       1889.50    Male   \n",
              "2               Mailed check           53.85        108.15    Male   \n",
              "3  Bank transfer (automatic)           42.30       1840.75    Male   \n",
              "4           Electronic check           70.70        151.65  Female   \n",
              "\n",
              "   SeniorCitizen Partner Dependents  \n",
              "0              0     Yes         No  \n",
              "1              0      No         No  \n",
              "2              0      No         No  \n",
              "3              0      No         No  \n",
              "4              0      No         No  "
            ],
            "text/html": [
              "\n",
              "  <div id=\"df-26bf5710-14a0-4266-9382-81fd9e66cf2a\">\n",
              "    <div class=\"colab-df-container\">\n",
              "      <div>\n",
              "<style scoped>\n",
              "    .dataframe tbody tr th:only-of-type {\n",
              "        vertical-align: middle;\n",
              "    }\n",
              "\n",
              "    .dataframe tbody tr th {\n",
              "        vertical-align: top;\n",
              "    }\n",
              "\n",
              "    .dataframe thead th {\n",
              "        text-align: right;\n",
              "    }\n",
              "</style>\n",
              "<table border=\"1\" class=\"dataframe\">\n",
              "  <thead>\n",
              "    <tr style=\"text-align: right;\">\n",
              "      <th></th>\n",
              "      <th>customerID</th>\n",
              "      <th>BeginDate</th>\n",
              "      <th>EndDate</th>\n",
              "      <th>Type</th>\n",
              "      <th>PaperlessBilling</th>\n",
              "      <th>PaymentMethod</th>\n",
              "      <th>MonthlyCharges</th>\n",
              "      <th>TotalCharges</th>\n",
              "      <th>gender</th>\n",
              "      <th>SeniorCitizen</th>\n",
              "      <th>Partner</th>\n",
              "      <th>Dependents</th>\n",
              "    </tr>\n",
              "  </thead>\n",
              "  <tbody>\n",
              "    <tr>\n",
              "      <th>0</th>\n",
              "      <td>7590-VHVEG</td>\n",
              "      <td>2020-01-01</td>\n",
              "      <td>2020-02-01</td>\n",
              "      <td>Month-to-month</td>\n",
              "      <td>Yes</td>\n",
              "      <td>Electronic check</td>\n",
              "      <td>29.85</td>\n",
              "      <td>29.85</td>\n",
              "      <td>Female</td>\n",
              "      <td>0</td>\n",
              "      <td>Yes</td>\n",
              "      <td>No</td>\n",
              "    </tr>\n",
              "    <tr>\n",
              "      <th>1</th>\n",
              "      <td>5575-GNVDE</td>\n",
              "      <td>2017-04-01</td>\n",
              "      <td>2020-02-01</td>\n",
              "      <td>One year</td>\n",
              "      <td>No</td>\n",
              "      <td>Mailed check</td>\n",
              "      <td>56.95</td>\n",
              "      <td>1889.50</td>\n",
              "      <td>Male</td>\n",
              "      <td>0</td>\n",
              "      <td>No</td>\n",
              "      <td>No</td>\n",
              "    </tr>\n",
              "    <tr>\n",
              "      <th>2</th>\n",
              "      <td>3668-QPYBK</td>\n",
              "      <td>2019-10-01</td>\n",
              "      <td>2019-12-01</td>\n",
              "      <td>Month-to-month</td>\n",
              "      <td>Yes</td>\n",
              "      <td>Mailed check</td>\n",
              "      <td>53.85</td>\n",
              "      <td>108.15</td>\n",
              "      <td>Male</td>\n",
              "      <td>0</td>\n",
              "      <td>No</td>\n",
              "      <td>No</td>\n",
              "    </tr>\n",
              "    <tr>\n",
              "      <th>3</th>\n",
              "      <td>7795-CFOCW</td>\n",
              "      <td>2016-05-01</td>\n",
              "      <td>2020-02-01</td>\n",
              "      <td>One year</td>\n",
              "      <td>No</td>\n",
              "      <td>Bank transfer (automatic)</td>\n",
              "      <td>42.30</td>\n",
              "      <td>1840.75</td>\n",
              "      <td>Male</td>\n",
              "      <td>0</td>\n",
              "      <td>No</td>\n",
              "      <td>No</td>\n",
              "    </tr>\n",
              "    <tr>\n",
              "      <th>4</th>\n",
              "      <td>9237-HQITU</td>\n",
              "      <td>2019-09-01</td>\n",
              "      <td>2019-11-01</td>\n",
              "      <td>Month-to-month</td>\n",
              "      <td>Yes</td>\n",
              "      <td>Electronic check</td>\n",
              "      <td>70.70</td>\n",
              "      <td>151.65</td>\n",
              "      <td>Female</td>\n",
              "      <td>0</td>\n",
              "      <td>No</td>\n",
              "      <td>No</td>\n",
              "    </tr>\n",
              "  </tbody>\n",
              "</table>\n",
              "</div>\n",
              "      <button class=\"colab-df-convert\" onclick=\"convertToInteractive('df-26bf5710-14a0-4266-9382-81fd9e66cf2a')\"\n",
              "              title=\"Convert this dataframe to an interactive table.\"\n",
              "              style=\"display:none;\">\n",
              "        \n",
              "  <svg xmlns=\"http://www.w3.org/2000/svg\" height=\"24px\"viewBox=\"0 0 24 24\"\n",
              "       width=\"24px\">\n",
              "    <path d=\"M0 0h24v24H0V0z\" fill=\"none\"/>\n",
              "    <path d=\"M18.56 5.44l.94 2.06.94-2.06 2.06-.94-2.06-.94-.94-2.06-.94 2.06-2.06.94zm-11 1L8.5 8.5l.94-2.06 2.06-.94-2.06-.94L8.5 2.5l-.94 2.06-2.06.94zm10 10l.94 2.06.94-2.06 2.06-.94-2.06-.94-.94-2.06-.94 2.06-2.06.94z\"/><path d=\"M17.41 7.96l-1.37-1.37c-.4-.4-.92-.59-1.43-.59-.52 0-1.04.2-1.43.59L10.3 9.45l-7.72 7.72c-.78.78-.78 2.05 0 2.83L4 21.41c.39.39.9.59 1.41.59.51 0 1.02-.2 1.41-.59l7.78-7.78 2.81-2.81c.8-.78.8-2.07 0-2.86zM5.41 20L4 18.59l7.72-7.72 1.47 1.35L5.41 20z\"/>\n",
              "  </svg>\n",
              "      </button>\n",
              "      \n",
              "  <style>\n",
              "    .colab-df-container {\n",
              "      display:flex;\n",
              "      flex-wrap:wrap;\n",
              "      gap: 12px;\n",
              "    }\n",
              "\n",
              "    .colab-df-convert {\n",
              "      background-color: #E8F0FE;\n",
              "      border: none;\n",
              "      border-radius: 50%;\n",
              "      cursor: pointer;\n",
              "      display: none;\n",
              "      fill: #1967D2;\n",
              "      height: 32px;\n",
              "      padding: 0 0 0 0;\n",
              "      width: 32px;\n",
              "    }\n",
              "\n",
              "    .colab-df-convert:hover {\n",
              "      background-color: #E2EBFA;\n",
              "      box-shadow: 0px 1px 2px rgba(60, 64, 67, 0.3), 0px 1px 3px 1px rgba(60, 64, 67, 0.15);\n",
              "      fill: #174EA6;\n",
              "    }\n",
              "\n",
              "    [theme=dark] .colab-df-convert {\n",
              "      background-color: #3B4455;\n",
              "      fill: #D2E3FC;\n",
              "    }\n",
              "\n",
              "    [theme=dark] .colab-df-convert:hover {\n",
              "      background-color: #434B5C;\n",
              "      box-shadow: 0px 1px 3px 1px rgba(0, 0, 0, 0.15);\n",
              "      filter: drop-shadow(0px 1px 2px rgba(0, 0, 0, 0.3));\n",
              "      fill: #FFFFFF;\n",
              "    }\n",
              "  </style>\n",
              "\n",
              "      <script>\n",
              "        const buttonEl =\n",
              "          document.querySelector('#df-26bf5710-14a0-4266-9382-81fd9e66cf2a button.colab-df-convert');\n",
              "        buttonEl.style.display =\n",
              "          google.colab.kernel.accessAllowed ? 'block' : 'none';\n",
              "\n",
              "        async function convertToInteractive(key) {\n",
              "          const element = document.querySelector('#df-26bf5710-14a0-4266-9382-81fd9e66cf2a');\n",
              "          const dataTable =\n",
              "            await google.colab.kernel.invokeFunction('convertToInteractive',\n",
              "                                                     [key], {});\n",
              "          if (!dataTable) return;\n",
              "\n",
              "          const docLinkHtml = 'Like what you see? Visit the ' +\n",
              "            '<a target=\"_blank\" href=https://colab.research.google.com/notebooks/data_table.ipynb>data table notebook</a>'\n",
              "            + ' to learn more about interactive tables.';\n",
              "          element.innerHTML = '';\n",
              "          dataTable['output_type'] = 'display_data';\n",
              "          await google.colab.output.renderOutput(dataTable, element);\n",
              "          const docLink = document.createElement('div');\n",
              "          docLink.innerHTML = docLinkHtml;\n",
              "          element.appendChild(docLink);\n",
              "        }\n",
              "      </script>\n",
              "    </div>\n",
              "  </div>\n",
              "  "
            ]
          },
          "metadata": {},
          "execution_count": 38
        }
      ],
      "source": [
        "merged = pd.merge(df_contract, df_personal, on='customerID', how='outer')\n",
        "merged.head()"
      ]
    },
    {
      "cell_type": "code",
      "execution_count": 39,
      "id": "46b24a89",
      "metadata": {
        "colab": {
          "base_uri": "https://localhost:8080/"
        },
        "id": "46b24a89",
        "outputId": "0acf9bc0-3930-43fb-88a4-203eb536a01d"
      },
      "outputs": [
        {
          "output_type": "execute_result",
          "data": {
            "text/plain": [
              "(7043, 12)"
            ]
          },
          "metadata": {},
          "execution_count": 39
        }
      ],
      "source": [
        "merged.shape"
      ]
    },
    {
      "cell_type": "code",
      "execution_count": 40,
      "id": "21597497",
      "metadata": {
        "scrolled": true,
        "colab": {
          "base_uri": "https://localhost:8080/"
        },
        "id": "21597497",
        "outputId": "3ec0f6d5-9564-4d25-856d-d36ef28cd5d7"
      },
      "outputs": [
        {
          "output_type": "execute_result",
          "data": {
            "text/plain": [
              "(5517, 8)"
            ]
          },
          "metadata": {},
          "execution_count": 40
        }
      ],
      "source": [
        "df_internet.shape"
      ]
    },
    {
      "cell_type": "code",
      "execution_count": 41,
      "id": "88e06003",
      "metadata": {
        "colab": {
          "base_uri": "https://localhost:8080/"
        },
        "id": "88e06003",
        "outputId": "e409b44b-383a-4e43-c475-eac8ffb77940"
      },
      "outputs": [
        {
          "output_type": "execute_result",
          "data": {
            "text/plain": [
              "(7043, 19)"
            ]
          },
          "metadata": {},
          "execution_count": 41
        }
      ],
      "source": [
        "merged = pd.merge(merged, df_internet, on='customerID', how='outer')\n",
        "merged.shape"
      ]
    },
    {
      "cell_type": "code",
      "execution_count": 42,
      "id": "ccabc893",
      "metadata": {
        "colab": {
          "base_uri": "https://localhost:8080/",
          "height": 421
        },
        "id": "ccabc893",
        "outputId": "bf66ee65-4e63-4480-9f2e-9126e459181a"
      },
      "outputs": [
        {
          "output_type": "execute_result",
          "data": {
            "text/plain": [
              "      customerID  BeginDate    EndDate            Type PaperlessBilling  \\\n",
              "257   6655-LHBYW 2015-12-01 2020-02-01        One year               No   \n",
              "5518  9574-RKJIF 2017-06-01 2019-12-01  Month-to-month              Yes   \n",
              "4791  7808-DVWEP 2019-11-01 2020-02-01  Month-to-month               No   \n",
              "6929  0357-NVCRI 2018-01-01 2020-02-01  Month-to-month               No   \n",
              "1525  3012-VFFMN 2019-07-01 2020-02-01  Month-to-month               No   \n",
              "\n",
              "                  PaymentMethod  MonthlyCharges  TotalCharges  gender  \\\n",
              "257     Credit card (automatic)          114.35       5791.10    Male   \n",
              "5518           Electronic check           94.40       2838.70    Male   \n",
              "4791  Bank transfer (automatic)           20.00         49.65    Male   \n",
              "6929    Credit card (automatic)           20.05        471.70  Female   \n",
              "1525               Mailed check           20.65        158.95  Female   \n",
              "\n",
              "      SeniorCitizen Partner Dependents InternetService OnlineSecurity  \\\n",
              "257               0      No         No     Fiber optic            Yes   \n",
              "5518              0     Yes        Yes     Fiber optic            Yes   \n",
              "4791              0     Yes         No             NaN            NaN   \n",
              "6929              0      No        Yes             NaN            NaN   \n",
              "1525              0     Yes        Yes             NaN            NaN   \n",
              "\n",
              "     OnlineBackup DeviceProtection TechSupport StreamingTV StreamingMovies  \n",
              "257           Yes              Yes         Yes         Yes             Yes  \n",
              "5518          Yes               No          No         Yes              No  \n",
              "4791          NaN              NaN         NaN         NaN             NaN  \n",
              "6929          NaN              NaN         NaN         NaN             NaN  \n",
              "1525          NaN              NaN         NaN         NaN             NaN  "
            ],
            "text/html": [
              "\n",
              "  <div id=\"df-556881b0-d62b-4c49-b90c-51d4c63a8cdb\">\n",
              "    <div class=\"colab-df-container\">\n",
              "      <div>\n",
              "<style scoped>\n",
              "    .dataframe tbody tr th:only-of-type {\n",
              "        vertical-align: middle;\n",
              "    }\n",
              "\n",
              "    .dataframe tbody tr th {\n",
              "        vertical-align: top;\n",
              "    }\n",
              "\n",
              "    .dataframe thead th {\n",
              "        text-align: right;\n",
              "    }\n",
              "</style>\n",
              "<table border=\"1\" class=\"dataframe\">\n",
              "  <thead>\n",
              "    <tr style=\"text-align: right;\">\n",
              "      <th></th>\n",
              "      <th>customerID</th>\n",
              "      <th>BeginDate</th>\n",
              "      <th>EndDate</th>\n",
              "      <th>Type</th>\n",
              "      <th>PaperlessBilling</th>\n",
              "      <th>PaymentMethod</th>\n",
              "      <th>MonthlyCharges</th>\n",
              "      <th>TotalCharges</th>\n",
              "      <th>gender</th>\n",
              "      <th>SeniorCitizen</th>\n",
              "      <th>Partner</th>\n",
              "      <th>Dependents</th>\n",
              "      <th>InternetService</th>\n",
              "      <th>OnlineSecurity</th>\n",
              "      <th>OnlineBackup</th>\n",
              "      <th>DeviceProtection</th>\n",
              "      <th>TechSupport</th>\n",
              "      <th>StreamingTV</th>\n",
              "      <th>StreamingMovies</th>\n",
              "    </tr>\n",
              "  </thead>\n",
              "  <tbody>\n",
              "    <tr>\n",
              "      <th>257</th>\n",
              "      <td>6655-LHBYW</td>\n",
              "      <td>2015-12-01</td>\n",
              "      <td>2020-02-01</td>\n",
              "      <td>One year</td>\n",
              "      <td>No</td>\n",
              "      <td>Credit card (automatic)</td>\n",
              "      <td>114.35</td>\n",
              "      <td>5791.10</td>\n",
              "      <td>Male</td>\n",
              "      <td>0</td>\n",
              "      <td>No</td>\n",
              "      <td>No</td>\n",
              "      <td>Fiber optic</td>\n",
              "      <td>Yes</td>\n",
              "      <td>Yes</td>\n",
              "      <td>Yes</td>\n",
              "      <td>Yes</td>\n",
              "      <td>Yes</td>\n",
              "      <td>Yes</td>\n",
              "    </tr>\n",
              "    <tr>\n",
              "      <th>5518</th>\n",
              "      <td>9574-RKJIF</td>\n",
              "      <td>2017-06-01</td>\n",
              "      <td>2019-12-01</td>\n",
              "      <td>Month-to-month</td>\n",
              "      <td>Yes</td>\n",
              "      <td>Electronic check</td>\n",
              "      <td>94.40</td>\n",
              "      <td>2838.70</td>\n",
              "      <td>Male</td>\n",
              "      <td>0</td>\n",
              "      <td>Yes</td>\n",
              "      <td>Yes</td>\n",
              "      <td>Fiber optic</td>\n",
              "      <td>Yes</td>\n",
              "      <td>Yes</td>\n",
              "      <td>No</td>\n",
              "      <td>No</td>\n",
              "      <td>Yes</td>\n",
              "      <td>No</td>\n",
              "    </tr>\n",
              "    <tr>\n",
              "      <th>4791</th>\n",
              "      <td>7808-DVWEP</td>\n",
              "      <td>2019-11-01</td>\n",
              "      <td>2020-02-01</td>\n",
              "      <td>Month-to-month</td>\n",
              "      <td>No</td>\n",
              "      <td>Bank transfer (automatic)</td>\n",
              "      <td>20.00</td>\n",
              "      <td>49.65</td>\n",
              "      <td>Male</td>\n",
              "      <td>0</td>\n",
              "      <td>Yes</td>\n",
              "      <td>No</td>\n",
              "      <td>NaN</td>\n",
              "      <td>NaN</td>\n",
              "      <td>NaN</td>\n",
              "      <td>NaN</td>\n",
              "      <td>NaN</td>\n",
              "      <td>NaN</td>\n",
              "      <td>NaN</td>\n",
              "    </tr>\n",
              "    <tr>\n",
              "      <th>6929</th>\n",
              "      <td>0357-NVCRI</td>\n",
              "      <td>2018-01-01</td>\n",
              "      <td>2020-02-01</td>\n",
              "      <td>Month-to-month</td>\n",
              "      <td>No</td>\n",
              "      <td>Credit card (automatic)</td>\n",
              "      <td>20.05</td>\n",
              "      <td>471.70</td>\n",
              "      <td>Female</td>\n",
              "      <td>0</td>\n",
              "      <td>No</td>\n",
              "      <td>Yes</td>\n",
              "      <td>NaN</td>\n",
              "      <td>NaN</td>\n",
              "      <td>NaN</td>\n",
              "      <td>NaN</td>\n",
              "      <td>NaN</td>\n",
              "      <td>NaN</td>\n",
              "      <td>NaN</td>\n",
              "    </tr>\n",
              "    <tr>\n",
              "      <th>1525</th>\n",
              "      <td>3012-VFFMN</td>\n",
              "      <td>2019-07-01</td>\n",
              "      <td>2020-02-01</td>\n",
              "      <td>Month-to-month</td>\n",
              "      <td>No</td>\n",
              "      <td>Mailed check</td>\n",
              "      <td>20.65</td>\n",
              "      <td>158.95</td>\n",
              "      <td>Female</td>\n",
              "      <td>0</td>\n",
              "      <td>Yes</td>\n",
              "      <td>Yes</td>\n",
              "      <td>NaN</td>\n",
              "      <td>NaN</td>\n",
              "      <td>NaN</td>\n",
              "      <td>NaN</td>\n",
              "      <td>NaN</td>\n",
              "      <td>NaN</td>\n",
              "      <td>NaN</td>\n",
              "    </tr>\n",
              "  </tbody>\n",
              "</table>\n",
              "</div>\n",
              "      <button class=\"colab-df-convert\" onclick=\"convertToInteractive('df-556881b0-d62b-4c49-b90c-51d4c63a8cdb')\"\n",
              "              title=\"Convert this dataframe to an interactive table.\"\n",
              "              style=\"display:none;\">\n",
              "        \n",
              "  <svg xmlns=\"http://www.w3.org/2000/svg\" height=\"24px\"viewBox=\"0 0 24 24\"\n",
              "       width=\"24px\">\n",
              "    <path d=\"M0 0h24v24H0V0z\" fill=\"none\"/>\n",
              "    <path d=\"M18.56 5.44l.94 2.06.94-2.06 2.06-.94-2.06-.94-.94-2.06-.94 2.06-2.06.94zm-11 1L8.5 8.5l.94-2.06 2.06-.94-2.06-.94L8.5 2.5l-.94 2.06-2.06.94zm10 10l.94 2.06.94-2.06 2.06-.94-2.06-.94-.94-2.06-.94 2.06-2.06.94z\"/><path d=\"M17.41 7.96l-1.37-1.37c-.4-.4-.92-.59-1.43-.59-.52 0-1.04.2-1.43.59L10.3 9.45l-7.72 7.72c-.78.78-.78 2.05 0 2.83L4 21.41c.39.39.9.59 1.41.59.51 0 1.02-.2 1.41-.59l7.78-7.78 2.81-2.81c.8-.78.8-2.07 0-2.86zM5.41 20L4 18.59l7.72-7.72 1.47 1.35L5.41 20z\"/>\n",
              "  </svg>\n",
              "      </button>\n",
              "      \n",
              "  <style>\n",
              "    .colab-df-container {\n",
              "      display:flex;\n",
              "      flex-wrap:wrap;\n",
              "      gap: 12px;\n",
              "    }\n",
              "\n",
              "    .colab-df-convert {\n",
              "      background-color: #E8F0FE;\n",
              "      border: none;\n",
              "      border-radius: 50%;\n",
              "      cursor: pointer;\n",
              "      display: none;\n",
              "      fill: #1967D2;\n",
              "      height: 32px;\n",
              "      padding: 0 0 0 0;\n",
              "      width: 32px;\n",
              "    }\n",
              "\n",
              "    .colab-df-convert:hover {\n",
              "      background-color: #E2EBFA;\n",
              "      box-shadow: 0px 1px 2px rgba(60, 64, 67, 0.3), 0px 1px 3px 1px rgba(60, 64, 67, 0.15);\n",
              "      fill: #174EA6;\n",
              "    }\n",
              "\n",
              "    [theme=dark] .colab-df-convert {\n",
              "      background-color: #3B4455;\n",
              "      fill: #D2E3FC;\n",
              "    }\n",
              "\n",
              "    [theme=dark] .colab-df-convert:hover {\n",
              "      background-color: #434B5C;\n",
              "      box-shadow: 0px 1px 3px 1px rgba(0, 0, 0, 0.15);\n",
              "      filter: drop-shadow(0px 1px 2px rgba(0, 0, 0, 0.3));\n",
              "      fill: #FFFFFF;\n",
              "    }\n",
              "  </style>\n",
              "\n",
              "      <script>\n",
              "        const buttonEl =\n",
              "          document.querySelector('#df-556881b0-d62b-4c49-b90c-51d4c63a8cdb button.colab-df-convert');\n",
              "        buttonEl.style.display =\n",
              "          google.colab.kernel.accessAllowed ? 'block' : 'none';\n",
              "\n",
              "        async function convertToInteractive(key) {\n",
              "          const element = document.querySelector('#df-556881b0-d62b-4c49-b90c-51d4c63a8cdb');\n",
              "          const dataTable =\n",
              "            await google.colab.kernel.invokeFunction('convertToInteractive',\n",
              "                                                     [key], {});\n",
              "          if (!dataTable) return;\n",
              "\n",
              "          const docLinkHtml = 'Like what you see? Visit the ' +\n",
              "            '<a target=\"_blank\" href=https://colab.research.google.com/notebooks/data_table.ipynb>data table notebook</a>'\n",
              "            + ' to learn more about interactive tables.';\n",
              "          element.innerHTML = '';\n",
              "          dataTable['output_type'] = 'display_data';\n",
              "          await google.colab.output.renderOutput(dataTable, element);\n",
              "          const docLink = document.createElement('div');\n",
              "          docLink.innerHTML = docLinkHtml;\n",
              "          element.appendChild(docLink);\n",
              "        }\n",
              "      </script>\n",
              "    </div>\n",
              "  </div>\n",
              "  "
            ]
          },
          "metadata": {},
          "execution_count": 42
        }
      ],
      "source": [
        "merged.sample(5)"
      ]
    },
    {
      "cell_type": "code",
      "execution_count": 43,
      "id": "7ea8b9a3",
      "metadata": {
        "colab": {
          "base_uri": "https://localhost:8080/"
        },
        "id": "7ea8b9a3",
        "outputId": "747b0c35-0e3f-4e9e-feac-9a075f058a84"
      },
      "outputs": [
        {
          "output_type": "execute_result",
          "data": {
            "text/plain": [
              "(6361, 2)"
            ]
          },
          "metadata": {},
          "execution_count": 43
        }
      ],
      "source": [
        "df_phone.shape"
      ]
    },
    {
      "cell_type": "code",
      "execution_count": 44,
      "id": "74c46cb9",
      "metadata": {
        "colab": {
          "base_uri": "https://localhost:8080/"
        },
        "id": "74c46cb9",
        "outputId": "abe70eae-c700-458c-d4cb-35a7cde15a85"
      },
      "outputs": [
        {
          "output_type": "execute_result",
          "data": {
            "text/plain": [
              "(7043, 20)"
            ]
          },
          "metadata": {},
          "execution_count": 44
        }
      ],
      "source": [
        "merged = pd.merge(merged, df_phone, on='customerID', how='outer')\n",
        "merged.shape"
      ]
    },
    {
      "cell_type": "code",
      "execution_count": 45,
      "id": "30143c4a",
      "metadata": {
        "colab": {
          "base_uri": "https://localhost:8080/",
          "height": 404
        },
        "id": "30143c4a",
        "outputId": "64d5a4fc-722d-4fad-dbcc-c95ba1841256"
      },
      "outputs": [
        {
          "output_type": "execute_result",
          "data": {
            "text/plain": [
              "      customerID  BeginDate    EndDate            Type PaperlessBilling  \\\n",
              "2893  7854-EDSSA 2018-02-01 2019-12-01  Month-to-month               No   \n",
              "4069  9938-TKDGL 2014-06-01 2020-02-01        Two year              Yes   \n",
              "2734  2371-JUNGC 2019-03-01 2020-02-01  Month-to-month               No   \n",
              "3539  2219-MVUSO 2019-02-01 2019-10-01  Month-to-month              Yes   \n",
              "5836  2862-JVEOY 2019-08-01 2020-02-01        One year               No   \n",
              "\n",
              "         PaymentMethod  MonthlyCharges  TotalCharges gender  SeniorCitizen  \\\n",
              "2893  Electronic check           59.00        1254.7   Male              0   \n",
              "4069  Electronic check           99.55        6668.0   Male              0   \n",
              "2734      Mailed check           20.25         208.0   Male              0   \n",
              "3539      Mailed check           45.15         438.4   Male              0   \n",
              "5836      Mailed check           19.15         124.4   Male              0   \n",
              "\n",
              "     Partner Dependents InternetService OnlineSecurity OnlineBackup  \\\n",
              "2893      No         No             DSL            Yes          Yes   \n",
              "4069     Yes        Yes     Fiber optic            Yes           No   \n",
              "2734      No         No             NaN            NaN          NaN   \n",
              "3539      No         No             DSL             No           No   \n",
              "5836      No         No             NaN            NaN          NaN   \n",
              "\n",
              "     DeviceProtection TechSupport StreamingTV StreamingMovies MultipleLines  \n",
              "2893               No          No          No              No           Yes  \n",
              "4069               No         Yes         Yes             Yes            No  \n",
              "2734              NaN         NaN         NaN             NaN            No  \n",
              "3539               No          No          No              No            No  \n",
              "5836              NaN         NaN         NaN             NaN            No  "
            ],
            "text/html": [
              "\n",
              "  <div id=\"df-4bebb4af-170d-4212-8166-bab3ffa46828\">\n",
              "    <div class=\"colab-df-container\">\n",
              "      <div>\n",
              "<style scoped>\n",
              "    .dataframe tbody tr th:only-of-type {\n",
              "        vertical-align: middle;\n",
              "    }\n",
              "\n",
              "    .dataframe tbody tr th {\n",
              "        vertical-align: top;\n",
              "    }\n",
              "\n",
              "    .dataframe thead th {\n",
              "        text-align: right;\n",
              "    }\n",
              "</style>\n",
              "<table border=\"1\" class=\"dataframe\">\n",
              "  <thead>\n",
              "    <tr style=\"text-align: right;\">\n",
              "      <th></th>\n",
              "      <th>customerID</th>\n",
              "      <th>BeginDate</th>\n",
              "      <th>EndDate</th>\n",
              "      <th>Type</th>\n",
              "      <th>PaperlessBilling</th>\n",
              "      <th>PaymentMethod</th>\n",
              "      <th>MonthlyCharges</th>\n",
              "      <th>TotalCharges</th>\n",
              "      <th>gender</th>\n",
              "      <th>SeniorCitizen</th>\n",
              "      <th>Partner</th>\n",
              "      <th>Dependents</th>\n",
              "      <th>InternetService</th>\n",
              "      <th>OnlineSecurity</th>\n",
              "      <th>OnlineBackup</th>\n",
              "      <th>DeviceProtection</th>\n",
              "      <th>TechSupport</th>\n",
              "      <th>StreamingTV</th>\n",
              "      <th>StreamingMovies</th>\n",
              "      <th>MultipleLines</th>\n",
              "    </tr>\n",
              "  </thead>\n",
              "  <tbody>\n",
              "    <tr>\n",
              "      <th>2893</th>\n",
              "      <td>7854-EDSSA</td>\n",
              "      <td>2018-02-01</td>\n",
              "      <td>2019-12-01</td>\n",
              "      <td>Month-to-month</td>\n",
              "      <td>No</td>\n",
              "      <td>Electronic check</td>\n",
              "      <td>59.00</td>\n",
              "      <td>1254.7</td>\n",
              "      <td>Male</td>\n",
              "      <td>0</td>\n",
              "      <td>No</td>\n",
              "      <td>No</td>\n",
              "      <td>DSL</td>\n",
              "      <td>Yes</td>\n",
              "      <td>Yes</td>\n",
              "      <td>No</td>\n",
              "      <td>No</td>\n",
              "      <td>No</td>\n",
              "      <td>No</td>\n",
              "      <td>Yes</td>\n",
              "    </tr>\n",
              "    <tr>\n",
              "      <th>4069</th>\n",
              "      <td>9938-TKDGL</td>\n",
              "      <td>2014-06-01</td>\n",
              "      <td>2020-02-01</td>\n",
              "      <td>Two year</td>\n",
              "      <td>Yes</td>\n",
              "      <td>Electronic check</td>\n",
              "      <td>99.55</td>\n",
              "      <td>6668.0</td>\n",
              "      <td>Male</td>\n",
              "      <td>0</td>\n",
              "      <td>Yes</td>\n",
              "      <td>Yes</td>\n",
              "      <td>Fiber optic</td>\n",
              "      <td>Yes</td>\n",
              "      <td>No</td>\n",
              "      <td>No</td>\n",
              "      <td>Yes</td>\n",
              "      <td>Yes</td>\n",
              "      <td>Yes</td>\n",
              "      <td>No</td>\n",
              "    </tr>\n",
              "    <tr>\n",
              "      <th>2734</th>\n",
              "      <td>2371-JUNGC</td>\n",
              "      <td>2019-03-01</td>\n",
              "      <td>2020-02-01</td>\n",
              "      <td>Month-to-month</td>\n",
              "      <td>No</td>\n",
              "      <td>Mailed check</td>\n",
              "      <td>20.25</td>\n",
              "      <td>208.0</td>\n",
              "      <td>Male</td>\n",
              "      <td>0</td>\n",
              "      <td>No</td>\n",
              "      <td>No</td>\n",
              "      <td>NaN</td>\n",
              "      <td>NaN</td>\n",
              "      <td>NaN</td>\n",
              "      <td>NaN</td>\n",
              "      <td>NaN</td>\n",
              "      <td>NaN</td>\n",
              "      <td>NaN</td>\n",
              "      <td>No</td>\n",
              "    </tr>\n",
              "    <tr>\n",
              "      <th>3539</th>\n",
              "      <td>2219-MVUSO</td>\n",
              "      <td>2019-02-01</td>\n",
              "      <td>2019-10-01</td>\n",
              "      <td>Month-to-month</td>\n",
              "      <td>Yes</td>\n",
              "      <td>Mailed check</td>\n",
              "      <td>45.15</td>\n",
              "      <td>438.4</td>\n",
              "      <td>Male</td>\n",
              "      <td>0</td>\n",
              "      <td>No</td>\n",
              "      <td>No</td>\n",
              "      <td>DSL</td>\n",
              "      <td>No</td>\n",
              "      <td>No</td>\n",
              "      <td>No</td>\n",
              "      <td>No</td>\n",
              "      <td>No</td>\n",
              "      <td>No</td>\n",
              "      <td>No</td>\n",
              "    </tr>\n",
              "    <tr>\n",
              "      <th>5836</th>\n",
              "      <td>2862-JVEOY</td>\n",
              "      <td>2019-08-01</td>\n",
              "      <td>2020-02-01</td>\n",
              "      <td>One year</td>\n",
              "      <td>No</td>\n",
              "      <td>Mailed check</td>\n",
              "      <td>19.15</td>\n",
              "      <td>124.4</td>\n",
              "      <td>Male</td>\n",
              "      <td>0</td>\n",
              "      <td>No</td>\n",
              "      <td>No</td>\n",
              "      <td>NaN</td>\n",
              "      <td>NaN</td>\n",
              "      <td>NaN</td>\n",
              "      <td>NaN</td>\n",
              "      <td>NaN</td>\n",
              "      <td>NaN</td>\n",
              "      <td>NaN</td>\n",
              "      <td>No</td>\n",
              "    </tr>\n",
              "  </tbody>\n",
              "</table>\n",
              "</div>\n",
              "      <button class=\"colab-df-convert\" onclick=\"convertToInteractive('df-4bebb4af-170d-4212-8166-bab3ffa46828')\"\n",
              "              title=\"Convert this dataframe to an interactive table.\"\n",
              "              style=\"display:none;\">\n",
              "        \n",
              "  <svg xmlns=\"http://www.w3.org/2000/svg\" height=\"24px\"viewBox=\"0 0 24 24\"\n",
              "       width=\"24px\">\n",
              "    <path d=\"M0 0h24v24H0V0z\" fill=\"none\"/>\n",
              "    <path d=\"M18.56 5.44l.94 2.06.94-2.06 2.06-.94-2.06-.94-.94-2.06-.94 2.06-2.06.94zm-11 1L8.5 8.5l.94-2.06 2.06-.94-2.06-.94L8.5 2.5l-.94 2.06-2.06.94zm10 10l.94 2.06.94-2.06 2.06-.94-2.06-.94-.94-2.06-.94 2.06-2.06.94z\"/><path d=\"M17.41 7.96l-1.37-1.37c-.4-.4-.92-.59-1.43-.59-.52 0-1.04.2-1.43.59L10.3 9.45l-7.72 7.72c-.78.78-.78 2.05 0 2.83L4 21.41c.39.39.9.59 1.41.59.51 0 1.02-.2 1.41-.59l7.78-7.78 2.81-2.81c.8-.78.8-2.07 0-2.86zM5.41 20L4 18.59l7.72-7.72 1.47 1.35L5.41 20z\"/>\n",
              "  </svg>\n",
              "      </button>\n",
              "      \n",
              "  <style>\n",
              "    .colab-df-container {\n",
              "      display:flex;\n",
              "      flex-wrap:wrap;\n",
              "      gap: 12px;\n",
              "    }\n",
              "\n",
              "    .colab-df-convert {\n",
              "      background-color: #E8F0FE;\n",
              "      border: none;\n",
              "      border-radius: 50%;\n",
              "      cursor: pointer;\n",
              "      display: none;\n",
              "      fill: #1967D2;\n",
              "      height: 32px;\n",
              "      padding: 0 0 0 0;\n",
              "      width: 32px;\n",
              "    }\n",
              "\n",
              "    .colab-df-convert:hover {\n",
              "      background-color: #E2EBFA;\n",
              "      box-shadow: 0px 1px 2px rgba(60, 64, 67, 0.3), 0px 1px 3px 1px rgba(60, 64, 67, 0.15);\n",
              "      fill: #174EA6;\n",
              "    }\n",
              "\n",
              "    [theme=dark] .colab-df-convert {\n",
              "      background-color: #3B4455;\n",
              "      fill: #D2E3FC;\n",
              "    }\n",
              "\n",
              "    [theme=dark] .colab-df-convert:hover {\n",
              "      background-color: #434B5C;\n",
              "      box-shadow: 0px 1px 3px 1px rgba(0, 0, 0, 0.15);\n",
              "      filter: drop-shadow(0px 1px 2px rgba(0, 0, 0, 0.3));\n",
              "      fill: #FFFFFF;\n",
              "    }\n",
              "  </style>\n",
              "\n",
              "      <script>\n",
              "        const buttonEl =\n",
              "          document.querySelector('#df-4bebb4af-170d-4212-8166-bab3ffa46828 button.colab-df-convert');\n",
              "        buttonEl.style.display =\n",
              "          google.colab.kernel.accessAllowed ? 'block' : 'none';\n",
              "\n",
              "        async function convertToInteractive(key) {\n",
              "          const element = document.querySelector('#df-4bebb4af-170d-4212-8166-bab3ffa46828');\n",
              "          const dataTable =\n",
              "            await google.colab.kernel.invokeFunction('convertToInteractive',\n",
              "                                                     [key], {});\n",
              "          if (!dataTable) return;\n",
              "\n",
              "          const docLinkHtml = 'Like what you see? Visit the ' +\n",
              "            '<a target=\"_blank\" href=https://colab.research.google.com/notebooks/data_table.ipynb>data table notebook</a>'\n",
              "            + ' to learn more about interactive tables.';\n",
              "          element.innerHTML = '';\n",
              "          dataTable['output_type'] = 'display_data';\n",
              "          await google.colab.output.renderOutput(dataTable, element);\n",
              "          const docLink = document.createElement('div');\n",
              "          docLink.innerHTML = docLinkHtml;\n",
              "          element.appendChild(docLink);\n",
              "        }\n",
              "      </script>\n",
              "    </div>\n",
              "  </div>\n",
              "  "
            ]
          },
          "metadata": {},
          "execution_count": 45
        }
      ],
      "source": [
        "merged.sample(5)"
      ]
    },
    {
      "cell_type": "code",
      "execution_count": 46,
      "id": "fbfa829f",
      "metadata": {
        "scrolled": false,
        "colab": {
          "base_uri": "https://localhost:8080/",
          "height": 421
        },
        "id": "fbfa829f",
        "outputId": "d3b5f8d3-3c58-47ee-941f-901df18e2dbc"
      },
      "outputs": [
        {
          "output_type": "execute_result",
          "data": {
            "text/plain": [
              "      customerID  BeginDate    EndDate            Type PaperlessBilling  \\\n",
              "4005  2565-JSLRY 2019-10-01 2019-11-01  Month-to-month              Yes   \n",
              "5474  4912-PIGUY 2020-01-01 2020-02-01  Month-to-month              Yes   \n",
              "1586  3766-EJLFL 2014-06-01 2020-02-01        Two year              Yes   \n",
              "1336  3733-LSYCE 2018-11-01 2020-02-01  Month-to-month               No   \n",
              "486   9094-AZPHK 2018-11-01 2020-02-01  Month-to-month              Yes   \n",
              "\n",
              "                  PaymentMethod  MonthlyCharges  TotalCharges  gender  \\\n",
              "4005               Mailed check           24.05         24.05    Male   \n",
              "5474           Electronic check           84.60         84.60  Female   \n",
              "1586  Bank transfer (automatic)          109.05       7508.55  Female   \n",
              "1336  Bank transfer (automatic)           75.35       1114.55  Female   \n",
              "486            Electronic check          100.15       1415.00  Female   \n",
              "\n",
              "      SeniorCitizen Partner Dependents InternetService OnlineSecurity  \\\n",
              "4005              0      No         No             NaN            NaN   \n",
              "5474              0      No         No     Fiber optic             No   \n",
              "1586              0     Yes        Yes     Fiber optic            Yes   \n",
              "1336              0     Yes         No     Fiber optic             No   \n",
              "486               0      No         No     Fiber optic             No   \n",
              "\n",
              "     OnlineBackup DeviceProtection TechSupport StreamingTV StreamingMovies  \\\n",
              "4005          NaN              NaN         NaN         NaN             NaN   \n",
              "5474           No               No          No         Yes              No   \n",
              "1586           No              Yes         Yes         Yes             Yes   \n",
              "1336          Yes               No          No          No              No   \n",
              "486           Yes               No          No         Yes             Yes   \n",
              "\n",
              "     MultipleLines  \n",
              "4005           Yes  \n",
              "5474           Yes  \n",
              "1586           Yes  \n",
              "1336            No  \n",
              "486            Yes  "
            ],
            "text/html": [
              "\n",
              "  <div id=\"df-41fa2d7c-b205-401b-a1fc-a969955913f4\">\n",
              "    <div class=\"colab-df-container\">\n",
              "      <div>\n",
              "<style scoped>\n",
              "    .dataframe tbody tr th:only-of-type {\n",
              "        vertical-align: middle;\n",
              "    }\n",
              "\n",
              "    .dataframe tbody tr th {\n",
              "        vertical-align: top;\n",
              "    }\n",
              "\n",
              "    .dataframe thead th {\n",
              "        text-align: right;\n",
              "    }\n",
              "</style>\n",
              "<table border=\"1\" class=\"dataframe\">\n",
              "  <thead>\n",
              "    <tr style=\"text-align: right;\">\n",
              "      <th></th>\n",
              "      <th>customerID</th>\n",
              "      <th>BeginDate</th>\n",
              "      <th>EndDate</th>\n",
              "      <th>Type</th>\n",
              "      <th>PaperlessBilling</th>\n",
              "      <th>PaymentMethod</th>\n",
              "      <th>MonthlyCharges</th>\n",
              "      <th>TotalCharges</th>\n",
              "      <th>gender</th>\n",
              "      <th>SeniorCitizen</th>\n",
              "      <th>Partner</th>\n",
              "      <th>Dependents</th>\n",
              "      <th>InternetService</th>\n",
              "      <th>OnlineSecurity</th>\n",
              "      <th>OnlineBackup</th>\n",
              "      <th>DeviceProtection</th>\n",
              "      <th>TechSupport</th>\n",
              "      <th>StreamingTV</th>\n",
              "      <th>StreamingMovies</th>\n",
              "      <th>MultipleLines</th>\n",
              "    </tr>\n",
              "  </thead>\n",
              "  <tbody>\n",
              "    <tr>\n",
              "      <th>4005</th>\n",
              "      <td>2565-JSLRY</td>\n",
              "      <td>2019-10-01</td>\n",
              "      <td>2019-11-01</td>\n",
              "      <td>Month-to-month</td>\n",
              "      <td>Yes</td>\n",
              "      <td>Mailed check</td>\n",
              "      <td>24.05</td>\n",
              "      <td>24.05</td>\n",
              "      <td>Male</td>\n",
              "      <td>0</td>\n",
              "      <td>No</td>\n",
              "      <td>No</td>\n",
              "      <td>NaN</td>\n",
              "      <td>NaN</td>\n",
              "      <td>NaN</td>\n",
              "      <td>NaN</td>\n",
              "      <td>NaN</td>\n",
              "      <td>NaN</td>\n",
              "      <td>NaN</td>\n",
              "      <td>Yes</td>\n",
              "    </tr>\n",
              "    <tr>\n",
              "      <th>5474</th>\n",
              "      <td>4912-PIGUY</td>\n",
              "      <td>2020-01-01</td>\n",
              "      <td>2020-02-01</td>\n",
              "      <td>Month-to-month</td>\n",
              "      <td>Yes</td>\n",
              "      <td>Electronic check</td>\n",
              "      <td>84.60</td>\n",
              "      <td>84.60</td>\n",
              "      <td>Female</td>\n",
              "      <td>0</td>\n",
              "      <td>No</td>\n",
              "      <td>No</td>\n",
              "      <td>Fiber optic</td>\n",
              "      <td>No</td>\n",
              "      <td>No</td>\n",
              "      <td>No</td>\n",
              "      <td>No</td>\n",
              "      <td>Yes</td>\n",
              "      <td>No</td>\n",
              "      <td>Yes</td>\n",
              "    </tr>\n",
              "    <tr>\n",
              "      <th>1586</th>\n",
              "      <td>3766-EJLFL</td>\n",
              "      <td>2014-06-01</td>\n",
              "      <td>2020-02-01</td>\n",
              "      <td>Two year</td>\n",
              "      <td>Yes</td>\n",
              "      <td>Bank transfer (automatic)</td>\n",
              "      <td>109.05</td>\n",
              "      <td>7508.55</td>\n",
              "      <td>Female</td>\n",
              "      <td>0</td>\n",
              "      <td>Yes</td>\n",
              "      <td>Yes</td>\n",
              "      <td>Fiber optic</td>\n",
              "      <td>Yes</td>\n",
              "      <td>No</td>\n",
              "      <td>Yes</td>\n",
              "      <td>Yes</td>\n",
              "      <td>Yes</td>\n",
              "      <td>Yes</td>\n",
              "      <td>Yes</td>\n",
              "    </tr>\n",
              "    <tr>\n",
              "      <th>1336</th>\n",
              "      <td>3733-LSYCE</td>\n",
              "      <td>2018-11-01</td>\n",
              "      <td>2020-02-01</td>\n",
              "      <td>Month-to-month</td>\n",
              "      <td>No</td>\n",
              "      <td>Bank transfer (automatic)</td>\n",
              "      <td>75.35</td>\n",
              "      <td>1114.55</td>\n",
              "      <td>Female</td>\n",
              "      <td>0</td>\n",
              "      <td>Yes</td>\n",
              "      <td>No</td>\n",
              "      <td>Fiber optic</td>\n",
              "      <td>No</td>\n",
              "      <td>Yes</td>\n",
              "      <td>No</td>\n",
              "      <td>No</td>\n",
              "      <td>No</td>\n",
              "      <td>No</td>\n",
              "      <td>No</td>\n",
              "    </tr>\n",
              "    <tr>\n",
              "      <th>486</th>\n",
              "      <td>9094-AZPHK</td>\n",
              "      <td>2018-11-01</td>\n",
              "      <td>2020-02-01</td>\n",
              "      <td>Month-to-month</td>\n",
              "      <td>Yes</td>\n",
              "      <td>Electronic check</td>\n",
              "      <td>100.15</td>\n",
              "      <td>1415.00</td>\n",
              "      <td>Female</td>\n",
              "      <td>0</td>\n",
              "      <td>No</td>\n",
              "      <td>No</td>\n",
              "      <td>Fiber optic</td>\n",
              "      <td>No</td>\n",
              "      <td>Yes</td>\n",
              "      <td>No</td>\n",
              "      <td>No</td>\n",
              "      <td>Yes</td>\n",
              "      <td>Yes</td>\n",
              "      <td>Yes</td>\n",
              "    </tr>\n",
              "  </tbody>\n",
              "</table>\n",
              "</div>\n",
              "      <button class=\"colab-df-convert\" onclick=\"convertToInteractive('df-41fa2d7c-b205-401b-a1fc-a969955913f4')\"\n",
              "              title=\"Convert this dataframe to an interactive table.\"\n",
              "              style=\"display:none;\">\n",
              "        \n",
              "  <svg xmlns=\"http://www.w3.org/2000/svg\" height=\"24px\"viewBox=\"0 0 24 24\"\n",
              "       width=\"24px\">\n",
              "    <path d=\"M0 0h24v24H0V0z\" fill=\"none\"/>\n",
              "    <path d=\"M18.56 5.44l.94 2.06.94-2.06 2.06-.94-2.06-.94-.94-2.06-.94 2.06-2.06.94zm-11 1L8.5 8.5l.94-2.06 2.06-.94-2.06-.94L8.5 2.5l-.94 2.06-2.06.94zm10 10l.94 2.06.94-2.06 2.06-.94-2.06-.94-.94-2.06-.94 2.06-2.06.94z\"/><path d=\"M17.41 7.96l-1.37-1.37c-.4-.4-.92-.59-1.43-.59-.52 0-1.04.2-1.43.59L10.3 9.45l-7.72 7.72c-.78.78-.78 2.05 0 2.83L4 21.41c.39.39.9.59 1.41.59.51 0 1.02-.2 1.41-.59l7.78-7.78 2.81-2.81c.8-.78.8-2.07 0-2.86zM5.41 20L4 18.59l7.72-7.72 1.47 1.35L5.41 20z\"/>\n",
              "  </svg>\n",
              "      </button>\n",
              "      \n",
              "  <style>\n",
              "    .colab-df-container {\n",
              "      display:flex;\n",
              "      flex-wrap:wrap;\n",
              "      gap: 12px;\n",
              "    }\n",
              "\n",
              "    .colab-df-convert {\n",
              "      background-color: #E8F0FE;\n",
              "      border: none;\n",
              "      border-radius: 50%;\n",
              "      cursor: pointer;\n",
              "      display: none;\n",
              "      fill: #1967D2;\n",
              "      height: 32px;\n",
              "      padding: 0 0 0 0;\n",
              "      width: 32px;\n",
              "    }\n",
              "\n",
              "    .colab-df-convert:hover {\n",
              "      background-color: #E2EBFA;\n",
              "      box-shadow: 0px 1px 2px rgba(60, 64, 67, 0.3), 0px 1px 3px 1px rgba(60, 64, 67, 0.15);\n",
              "      fill: #174EA6;\n",
              "    }\n",
              "\n",
              "    [theme=dark] .colab-df-convert {\n",
              "      background-color: #3B4455;\n",
              "      fill: #D2E3FC;\n",
              "    }\n",
              "\n",
              "    [theme=dark] .colab-df-convert:hover {\n",
              "      background-color: #434B5C;\n",
              "      box-shadow: 0px 1px 3px 1px rgba(0, 0, 0, 0.15);\n",
              "      filter: drop-shadow(0px 1px 2px rgba(0, 0, 0, 0.3));\n",
              "      fill: #FFFFFF;\n",
              "    }\n",
              "  </style>\n",
              "\n",
              "      <script>\n",
              "        const buttonEl =\n",
              "          document.querySelector('#df-41fa2d7c-b205-401b-a1fc-a969955913f4 button.colab-df-convert');\n",
              "        buttonEl.style.display =\n",
              "          google.colab.kernel.accessAllowed ? 'block' : 'none';\n",
              "\n",
              "        async function convertToInteractive(key) {\n",
              "          const element = document.querySelector('#df-41fa2d7c-b205-401b-a1fc-a969955913f4');\n",
              "          const dataTable =\n",
              "            await google.colab.kernel.invokeFunction('convertToInteractive',\n",
              "                                                     [key], {});\n",
              "          if (!dataTable) return;\n",
              "\n",
              "          const docLinkHtml = 'Like what you see? Visit the ' +\n",
              "            '<a target=\"_blank\" href=https://colab.research.google.com/notebooks/data_table.ipynb>data table notebook</a>'\n",
              "            + ' to learn more about interactive tables.';\n",
              "          element.innerHTML = '';\n",
              "          dataTable['output_type'] = 'display_data';\n",
              "          await google.colab.output.renderOutput(dataTable, element);\n",
              "          const docLink = document.createElement('div');\n",
              "          docLink.innerHTML = docLinkHtml;\n",
              "          element.appendChild(docLink);\n",
              "        }\n",
              "      </script>\n",
              "    </div>\n",
              "  </div>\n",
              "  "
            ]
          },
          "metadata": {},
          "execution_count": 46
        }
      ],
      "source": [
        "merged.sample(5)"
      ]
    },
    {
      "cell_type": "markdown",
      "id": "4d752278",
      "metadata": {
        "id": "4d752278"
      },
      "source": [
        "Now let's determine if there were CustomerIDs in *df_internet* and *df_phone CustomerID* tables that were not in the *df_contract and df_personal* tables. In this case, *Nan* should appear in *df_contract and df_personal*."
      ]
    },
    {
      "cell_type": "code",
      "execution_count": 47,
      "id": "1f991549",
      "metadata": {
        "colab": {
          "base_uri": "https://localhost:8080/"
        },
        "id": "1f991549",
        "outputId": "bb7b400e-ec85-419b-8a7f-bbafea022702"
      },
      "outputs": [
        {
          "output_type": "stream",
          "name": "stdout",
          "text": [
            "0\n",
            "0\n",
            "0\n",
            "0\n",
            "0\n",
            "0\n",
            "0\n",
            "0\n",
            "0\n"
          ]
        }
      ],
      "source": [
        "for i in ('Type', 'PaperlessBilling', 'PaymentMethod', 'MonthlyCharges', 'TotalCharges', 'gender',\n",
        "          'SeniorCitizen', 'Partner', 'Dependents'):\n",
        "    print(merged[i].isna().sum())"
      ]
    },
    {
      "cell_type": "markdown",
      "id": "84fedf34",
      "metadata": {
        "id": "84fedf34"
      },
      "source": [
        "There are no Nan values in the checked columns, which means that df_contract and df_personal had all the unique clients, but some of them did not use Internet or telephone services from the operator.\n",
        "Therefore, the Nan values in the columns for Internet services and the *MultipleLines* column (in fact, in the entire table) can be replaced with No, which does not contradict with the logic used."
      ]
    },
    {
      "cell_type": "code",
      "execution_count": 48,
      "id": "007a2e11",
      "metadata": {
        "scrolled": true,
        "colab": {
          "base_uri": "https://localhost:8080/"
        },
        "id": "007a2e11",
        "outputId": "ddd6b343-3386-45ca-bdd7-34161ac41606"
      },
      "outputs": [
        {
          "output_type": "execute_result",
          "data": {
            "text/plain": [
              "customerID          0\n",
              "BeginDate           0\n",
              "EndDate             0\n",
              "Type                0\n",
              "PaperlessBilling    0\n",
              "PaymentMethod       0\n",
              "MonthlyCharges      0\n",
              "TotalCharges        0\n",
              "gender              0\n",
              "SeniorCitizen       0\n",
              "Partner             0\n",
              "Dependents          0\n",
              "InternetService     0\n",
              "OnlineSecurity      0\n",
              "OnlineBackup        0\n",
              "DeviceProtection    0\n",
              "TechSupport         0\n",
              "StreamingTV         0\n",
              "StreamingMovies     0\n",
              "MultipleLines       0\n",
              "dtype: int64"
            ]
          },
          "metadata": {},
          "execution_count": 48
        }
      ],
      "source": [
        "merged = merged.fillna('No')\n",
        "merged.isna().sum()"
      ]
    },
    {
      "cell_type": "markdown",
      "id": "d74b4cb3",
      "metadata": {
        "id": "d74b4cb3"
      },
      "source": [
        "The *BeginDate* and *EndDate* columns will subsequently allow us to generate Target values for the model. And, most likely, they will lead to data leakage, so they will have to be deleted. In this case, we can use the difference between the dates as one of the features."
      ]
    },
    {
      "cell_type": "code",
      "execution_count": 49,
      "id": "6688337c",
      "metadata": {
        "id": "6688337c"
      },
      "outputs": [],
      "source": [
        "merged['contractPeriod'] = (merged['EndDate'] - merged['BeginDate']).dt.days"
      ]
    },
    {
      "cell_type": "code",
      "execution_count": 50,
      "id": "2afb65de",
      "metadata": {
        "scrolled": true,
        "colab": {
          "base_uri": "https://localhost:8080/",
          "height": 404
        },
        "id": "2afb65de",
        "outputId": "6288a5de-d305-4b05-d8b1-a0f948f5d292"
      },
      "outputs": [
        {
          "output_type": "execute_result",
          "data": {
            "text/plain": [
              "   customerID  BeginDate    EndDate            Type PaperlessBilling  \\\n",
              "0  7590-VHVEG 2020-01-01 2020-02-01  Month-to-month              Yes   \n",
              "1  5575-GNVDE 2017-04-01 2020-02-01        One year               No   \n",
              "2  3668-QPYBK 2019-10-01 2019-12-01  Month-to-month              Yes   \n",
              "3  7795-CFOCW 2016-05-01 2020-02-01        One year               No   \n",
              "4  9237-HQITU 2019-09-01 2019-11-01  Month-to-month              Yes   \n",
              "\n",
              "               PaymentMethod  MonthlyCharges  TotalCharges  gender  \\\n",
              "0           Electronic check           29.85         29.85  Female   \n",
              "1               Mailed check           56.95       1889.50    Male   \n",
              "2               Mailed check           53.85        108.15    Male   \n",
              "3  Bank transfer (automatic)           42.30       1840.75    Male   \n",
              "4           Electronic check           70.70        151.65  Female   \n",
              "\n",
              "   SeniorCitizen Partner Dependents InternetService OnlineSecurity  \\\n",
              "0              0     Yes         No             DSL             No   \n",
              "1              0      No         No             DSL            Yes   \n",
              "2              0      No         No             DSL            Yes   \n",
              "3              0      No         No             DSL            Yes   \n",
              "4              0      No         No     Fiber optic             No   \n",
              "\n",
              "  OnlineBackup DeviceProtection TechSupport StreamingTV StreamingMovies  \\\n",
              "0          Yes               No          No          No              No   \n",
              "1           No              Yes          No          No              No   \n",
              "2          Yes               No          No          No              No   \n",
              "3           No              Yes         Yes          No              No   \n",
              "4           No               No          No          No              No   \n",
              "\n",
              "  MultipleLines  contractPeriod  \n",
              "0            No              31  \n",
              "1            No            1036  \n",
              "2            No              61  \n",
              "3            No            1371  \n",
              "4            No              61  "
            ],
            "text/html": [
              "\n",
              "  <div id=\"df-c0aa2a54-920b-42be-a9e5-1156e0cf69fe\">\n",
              "    <div class=\"colab-df-container\">\n",
              "      <div>\n",
              "<style scoped>\n",
              "    .dataframe tbody tr th:only-of-type {\n",
              "        vertical-align: middle;\n",
              "    }\n",
              "\n",
              "    .dataframe tbody tr th {\n",
              "        vertical-align: top;\n",
              "    }\n",
              "\n",
              "    .dataframe thead th {\n",
              "        text-align: right;\n",
              "    }\n",
              "</style>\n",
              "<table border=\"1\" class=\"dataframe\">\n",
              "  <thead>\n",
              "    <tr style=\"text-align: right;\">\n",
              "      <th></th>\n",
              "      <th>customerID</th>\n",
              "      <th>BeginDate</th>\n",
              "      <th>EndDate</th>\n",
              "      <th>Type</th>\n",
              "      <th>PaperlessBilling</th>\n",
              "      <th>PaymentMethod</th>\n",
              "      <th>MonthlyCharges</th>\n",
              "      <th>TotalCharges</th>\n",
              "      <th>gender</th>\n",
              "      <th>SeniorCitizen</th>\n",
              "      <th>Partner</th>\n",
              "      <th>Dependents</th>\n",
              "      <th>InternetService</th>\n",
              "      <th>OnlineSecurity</th>\n",
              "      <th>OnlineBackup</th>\n",
              "      <th>DeviceProtection</th>\n",
              "      <th>TechSupport</th>\n",
              "      <th>StreamingTV</th>\n",
              "      <th>StreamingMovies</th>\n",
              "      <th>MultipleLines</th>\n",
              "      <th>contractPeriod</th>\n",
              "    </tr>\n",
              "  </thead>\n",
              "  <tbody>\n",
              "    <tr>\n",
              "      <th>0</th>\n",
              "      <td>7590-VHVEG</td>\n",
              "      <td>2020-01-01</td>\n",
              "      <td>2020-02-01</td>\n",
              "      <td>Month-to-month</td>\n",
              "      <td>Yes</td>\n",
              "      <td>Electronic check</td>\n",
              "      <td>29.85</td>\n",
              "      <td>29.85</td>\n",
              "      <td>Female</td>\n",
              "      <td>0</td>\n",
              "      <td>Yes</td>\n",
              "      <td>No</td>\n",
              "      <td>DSL</td>\n",
              "      <td>No</td>\n",
              "      <td>Yes</td>\n",
              "      <td>No</td>\n",
              "      <td>No</td>\n",
              "      <td>No</td>\n",
              "      <td>No</td>\n",
              "      <td>No</td>\n",
              "      <td>31</td>\n",
              "    </tr>\n",
              "    <tr>\n",
              "      <th>1</th>\n",
              "      <td>5575-GNVDE</td>\n",
              "      <td>2017-04-01</td>\n",
              "      <td>2020-02-01</td>\n",
              "      <td>One year</td>\n",
              "      <td>No</td>\n",
              "      <td>Mailed check</td>\n",
              "      <td>56.95</td>\n",
              "      <td>1889.50</td>\n",
              "      <td>Male</td>\n",
              "      <td>0</td>\n",
              "      <td>No</td>\n",
              "      <td>No</td>\n",
              "      <td>DSL</td>\n",
              "      <td>Yes</td>\n",
              "      <td>No</td>\n",
              "      <td>Yes</td>\n",
              "      <td>No</td>\n",
              "      <td>No</td>\n",
              "      <td>No</td>\n",
              "      <td>No</td>\n",
              "      <td>1036</td>\n",
              "    </tr>\n",
              "    <tr>\n",
              "      <th>2</th>\n",
              "      <td>3668-QPYBK</td>\n",
              "      <td>2019-10-01</td>\n",
              "      <td>2019-12-01</td>\n",
              "      <td>Month-to-month</td>\n",
              "      <td>Yes</td>\n",
              "      <td>Mailed check</td>\n",
              "      <td>53.85</td>\n",
              "      <td>108.15</td>\n",
              "      <td>Male</td>\n",
              "      <td>0</td>\n",
              "      <td>No</td>\n",
              "      <td>No</td>\n",
              "      <td>DSL</td>\n",
              "      <td>Yes</td>\n",
              "      <td>Yes</td>\n",
              "      <td>No</td>\n",
              "      <td>No</td>\n",
              "      <td>No</td>\n",
              "      <td>No</td>\n",
              "      <td>No</td>\n",
              "      <td>61</td>\n",
              "    </tr>\n",
              "    <tr>\n",
              "      <th>3</th>\n",
              "      <td>7795-CFOCW</td>\n",
              "      <td>2016-05-01</td>\n",
              "      <td>2020-02-01</td>\n",
              "      <td>One year</td>\n",
              "      <td>No</td>\n",
              "      <td>Bank transfer (automatic)</td>\n",
              "      <td>42.30</td>\n",
              "      <td>1840.75</td>\n",
              "      <td>Male</td>\n",
              "      <td>0</td>\n",
              "      <td>No</td>\n",
              "      <td>No</td>\n",
              "      <td>DSL</td>\n",
              "      <td>Yes</td>\n",
              "      <td>No</td>\n",
              "      <td>Yes</td>\n",
              "      <td>Yes</td>\n",
              "      <td>No</td>\n",
              "      <td>No</td>\n",
              "      <td>No</td>\n",
              "      <td>1371</td>\n",
              "    </tr>\n",
              "    <tr>\n",
              "      <th>4</th>\n",
              "      <td>9237-HQITU</td>\n",
              "      <td>2019-09-01</td>\n",
              "      <td>2019-11-01</td>\n",
              "      <td>Month-to-month</td>\n",
              "      <td>Yes</td>\n",
              "      <td>Electronic check</td>\n",
              "      <td>70.70</td>\n",
              "      <td>151.65</td>\n",
              "      <td>Female</td>\n",
              "      <td>0</td>\n",
              "      <td>No</td>\n",
              "      <td>No</td>\n",
              "      <td>Fiber optic</td>\n",
              "      <td>No</td>\n",
              "      <td>No</td>\n",
              "      <td>No</td>\n",
              "      <td>No</td>\n",
              "      <td>No</td>\n",
              "      <td>No</td>\n",
              "      <td>No</td>\n",
              "      <td>61</td>\n",
              "    </tr>\n",
              "  </tbody>\n",
              "</table>\n",
              "</div>\n",
              "      <button class=\"colab-df-convert\" onclick=\"convertToInteractive('df-c0aa2a54-920b-42be-a9e5-1156e0cf69fe')\"\n",
              "              title=\"Convert this dataframe to an interactive table.\"\n",
              "              style=\"display:none;\">\n",
              "        \n",
              "  <svg xmlns=\"http://www.w3.org/2000/svg\" height=\"24px\"viewBox=\"0 0 24 24\"\n",
              "       width=\"24px\">\n",
              "    <path d=\"M0 0h24v24H0V0z\" fill=\"none\"/>\n",
              "    <path d=\"M18.56 5.44l.94 2.06.94-2.06 2.06-.94-2.06-.94-.94-2.06-.94 2.06-2.06.94zm-11 1L8.5 8.5l.94-2.06 2.06-.94-2.06-.94L8.5 2.5l-.94 2.06-2.06.94zm10 10l.94 2.06.94-2.06 2.06-.94-2.06-.94-.94-2.06-.94 2.06-2.06.94z\"/><path d=\"M17.41 7.96l-1.37-1.37c-.4-.4-.92-.59-1.43-.59-.52 0-1.04.2-1.43.59L10.3 9.45l-7.72 7.72c-.78.78-.78 2.05 0 2.83L4 21.41c.39.39.9.59 1.41.59.51 0 1.02-.2 1.41-.59l7.78-7.78 2.81-2.81c.8-.78.8-2.07 0-2.86zM5.41 20L4 18.59l7.72-7.72 1.47 1.35L5.41 20z\"/>\n",
              "  </svg>\n",
              "      </button>\n",
              "      \n",
              "  <style>\n",
              "    .colab-df-container {\n",
              "      display:flex;\n",
              "      flex-wrap:wrap;\n",
              "      gap: 12px;\n",
              "    }\n",
              "\n",
              "    .colab-df-convert {\n",
              "      background-color: #E8F0FE;\n",
              "      border: none;\n",
              "      border-radius: 50%;\n",
              "      cursor: pointer;\n",
              "      display: none;\n",
              "      fill: #1967D2;\n",
              "      height: 32px;\n",
              "      padding: 0 0 0 0;\n",
              "      width: 32px;\n",
              "    }\n",
              "\n",
              "    .colab-df-convert:hover {\n",
              "      background-color: #E2EBFA;\n",
              "      box-shadow: 0px 1px 2px rgba(60, 64, 67, 0.3), 0px 1px 3px 1px rgba(60, 64, 67, 0.15);\n",
              "      fill: #174EA6;\n",
              "    }\n",
              "\n",
              "    [theme=dark] .colab-df-convert {\n",
              "      background-color: #3B4455;\n",
              "      fill: #D2E3FC;\n",
              "    }\n",
              "\n",
              "    [theme=dark] .colab-df-convert:hover {\n",
              "      background-color: #434B5C;\n",
              "      box-shadow: 0px 1px 3px 1px rgba(0, 0, 0, 0.15);\n",
              "      filter: drop-shadow(0px 1px 2px rgba(0, 0, 0, 0.3));\n",
              "      fill: #FFFFFF;\n",
              "    }\n",
              "  </style>\n",
              "\n",
              "      <script>\n",
              "        const buttonEl =\n",
              "          document.querySelector('#df-c0aa2a54-920b-42be-a9e5-1156e0cf69fe button.colab-df-convert');\n",
              "        buttonEl.style.display =\n",
              "          google.colab.kernel.accessAllowed ? 'block' : 'none';\n",
              "\n",
              "        async function convertToInteractive(key) {\n",
              "          const element = document.querySelector('#df-c0aa2a54-920b-42be-a9e5-1156e0cf69fe');\n",
              "          const dataTable =\n",
              "            await google.colab.kernel.invokeFunction('convertToInteractive',\n",
              "                                                     [key], {});\n",
              "          if (!dataTable) return;\n",
              "\n",
              "          const docLinkHtml = 'Like what you see? Visit the ' +\n",
              "            '<a target=\"_blank\" href=https://colab.research.google.com/notebooks/data_table.ipynb>data table notebook</a>'\n",
              "            + ' to learn more about interactive tables.';\n",
              "          element.innerHTML = '';\n",
              "          dataTable['output_type'] = 'display_data';\n",
              "          await google.colab.output.renderOutput(dataTable, element);\n",
              "          const docLink = document.createElement('div');\n",
              "          docLink.innerHTML = docLinkHtml;\n",
              "          element.appendChild(docLink);\n",
              "        }\n",
              "      </script>\n",
              "    </div>\n",
              "  </div>\n",
              "  "
            ]
          },
          "metadata": {},
          "execution_count": 50
        }
      ],
      "source": [
        "merged.head()"
      ]
    },
    {
      "cell_type": "markdown",
      "id": "b64dff84",
      "metadata": {
        "id": "b64dff84"
      },
      "source": [
        "Let's create a Target variable:"
      ]
    },
    {
      "cell_type": "code",
      "execution_count": 51,
      "id": "292114fd",
      "metadata": {
        "id": "292114fd"
      },
      "outputs": [],
      "source": [
        "def target (EndDate):\n",
        "    if EndDate != datetime(2020, 2, 1):\n",
        "        return 1\n",
        "    else:\n",
        "        return 0"
      ]
    },
    {
      "cell_type": "code",
      "execution_count": 52,
      "id": "64430018",
      "metadata": {
        "id": "64430018"
      },
      "outputs": [],
      "source": [
        "merged['Target'] = merged.apply(lambda x: target(x.EndDate), axis=1)"
      ]
    },
    {
      "cell_type": "code",
      "execution_count": 53,
      "id": "ec107a61",
      "metadata": {
        "colab": {
          "base_uri": "https://localhost:8080/",
          "height": 404
        },
        "id": "ec107a61",
        "outputId": "12c0383b-ecdc-45e7-ddc2-3c855b1f88d9"
      },
      "outputs": [
        {
          "output_type": "execute_result",
          "data": {
            "text/plain": [
              "   customerID  BeginDate    EndDate            Type PaperlessBilling  \\\n",
              "0  7590-VHVEG 2020-01-01 2020-02-01  Month-to-month              Yes   \n",
              "1  5575-GNVDE 2017-04-01 2020-02-01        One year               No   \n",
              "2  3668-QPYBK 2019-10-01 2019-12-01  Month-to-month              Yes   \n",
              "3  7795-CFOCW 2016-05-01 2020-02-01        One year               No   \n",
              "4  9237-HQITU 2019-09-01 2019-11-01  Month-to-month              Yes   \n",
              "\n",
              "               PaymentMethod  MonthlyCharges  TotalCharges  gender  \\\n",
              "0           Electronic check           29.85         29.85  Female   \n",
              "1               Mailed check           56.95       1889.50    Male   \n",
              "2               Mailed check           53.85        108.15    Male   \n",
              "3  Bank transfer (automatic)           42.30       1840.75    Male   \n",
              "4           Electronic check           70.70        151.65  Female   \n",
              "\n",
              "   SeniorCitizen Partner Dependents InternetService OnlineSecurity  \\\n",
              "0              0     Yes         No             DSL             No   \n",
              "1              0      No         No             DSL            Yes   \n",
              "2              0      No         No             DSL            Yes   \n",
              "3              0      No         No             DSL            Yes   \n",
              "4              0      No         No     Fiber optic             No   \n",
              "\n",
              "  OnlineBackup DeviceProtection TechSupport StreamingTV StreamingMovies  \\\n",
              "0          Yes               No          No          No              No   \n",
              "1           No              Yes          No          No              No   \n",
              "2          Yes               No          No          No              No   \n",
              "3           No              Yes         Yes          No              No   \n",
              "4           No               No          No          No              No   \n",
              "\n",
              "  MultipleLines  contractPeriod  Target  \n",
              "0            No              31       0  \n",
              "1            No            1036       0  \n",
              "2            No              61       1  \n",
              "3            No            1371       0  \n",
              "4            No              61       1  "
            ],
            "text/html": [
              "\n",
              "  <div id=\"df-815e64d4-809d-413f-a9ef-788d2b794c63\">\n",
              "    <div class=\"colab-df-container\">\n",
              "      <div>\n",
              "<style scoped>\n",
              "    .dataframe tbody tr th:only-of-type {\n",
              "        vertical-align: middle;\n",
              "    }\n",
              "\n",
              "    .dataframe tbody tr th {\n",
              "        vertical-align: top;\n",
              "    }\n",
              "\n",
              "    .dataframe thead th {\n",
              "        text-align: right;\n",
              "    }\n",
              "</style>\n",
              "<table border=\"1\" class=\"dataframe\">\n",
              "  <thead>\n",
              "    <tr style=\"text-align: right;\">\n",
              "      <th></th>\n",
              "      <th>customerID</th>\n",
              "      <th>BeginDate</th>\n",
              "      <th>EndDate</th>\n",
              "      <th>Type</th>\n",
              "      <th>PaperlessBilling</th>\n",
              "      <th>PaymentMethod</th>\n",
              "      <th>MonthlyCharges</th>\n",
              "      <th>TotalCharges</th>\n",
              "      <th>gender</th>\n",
              "      <th>SeniorCitizen</th>\n",
              "      <th>Partner</th>\n",
              "      <th>Dependents</th>\n",
              "      <th>InternetService</th>\n",
              "      <th>OnlineSecurity</th>\n",
              "      <th>OnlineBackup</th>\n",
              "      <th>DeviceProtection</th>\n",
              "      <th>TechSupport</th>\n",
              "      <th>StreamingTV</th>\n",
              "      <th>StreamingMovies</th>\n",
              "      <th>MultipleLines</th>\n",
              "      <th>contractPeriod</th>\n",
              "      <th>Target</th>\n",
              "    </tr>\n",
              "  </thead>\n",
              "  <tbody>\n",
              "    <tr>\n",
              "      <th>0</th>\n",
              "      <td>7590-VHVEG</td>\n",
              "      <td>2020-01-01</td>\n",
              "      <td>2020-02-01</td>\n",
              "      <td>Month-to-month</td>\n",
              "      <td>Yes</td>\n",
              "      <td>Electronic check</td>\n",
              "      <td>29.85</td>\n",
              "      <td>29.85</td>\n",
              "      <td>Female</td>\n",
              "      <td>0</td>\n",
              "      <td>Yes</td>\n",
              "      <td>No</td>\n",
              "      <td>DSL</td>\n",
              "      <td>No</td>\n",
              "      <td>Yes</td>\n",
              "      <td>No</td>\n",
              "      <td>No</td>\n",
              "      <td>No</td>\n",
              "      <td>No</td>\n",
              "      <td>No</td>\n",
              "      <td>31</td>\n",
              "      <td>0</td>\n",
              "    </tr>\n",
              "    <tr>\n",
              "      <th>1</th>\n",
              "      <td>5575-GNVDE</td>\n",
              "      <td>2017-04-01</td>\n",
              "      <td>2020-02-01</td>\n",
              "      <td>One year</td>\n",
              "      <td>No</td>\n",
              "      <td>Mailed check</td>\n",
              "      <td>56.95</td>\n",
              "      <td>1889.50</td>\n",
              "      <td>Male</td>\n",
              "      <td>0</td>\n",
              "      <td>No</td>\n",
              "      <td>No</td>\n",
              "      <td>DSL</td>\n",
              "      <td>Yes</td>\n",
              "      <td>No</td>\n",
              "      <td>Yes</td>\n",
              "      <td>No</td>\n",
              "      <td>No</td>\n",
              "      <td>No</td>\n",
              "      <td>No</td>\n",
              "      <td>1036</td>\n",
              "      <td>0</td>\n",
              "    </tr>\n",
              "    <tr>\n",
              "      <th>2</th>\n",
              "      <td>3668-QPYBK</td>\n",
              "      <td>2019-10-01</td>\n",
              "      <td>2019-12-01</td>\n",
              "      <td>Month-to-month</td>\n",
              "      <td>Yes</td>\n",
              "      <td>Mailed check</td>\n",
              "      <td>53.85</td>\n",
              "      <td>108.15</td>\n",
              "      <td>Male</td>\n",
              "      <td>0</td>\n",
              "      <td>No</td>\n",
              "      <td>No</td>\n",
              "      <td>DSL</td>\n",
              "      <td>Yes</td>\n",
              "      <td>Yes</td>\n",
              "      <td>No</td>\n",
              "      <td>No</td>\n",
              "      <td>No</td>\n",
              "      <td>No</td>\n",
              "      <td>No</td>\n",
              "      <td>61</td>\n",
              "      <td>1</td>\n",
              "    </tr>\n",
              "    <tr>\n",
              "      <th>3</th>\n",
              "      <td>7795-CFOCW</td>\n",
              "      <td>2016-05-01</td>\n",
              "      <td>2020-02-01</td>\n",
              "      <td>One year</td>\n",
              "      <td>No</td>\n",
              "      <td>Bank transfer (automatic)</td>\n",
              "      <td>42.30</td>\n",
              "      <td>1840.75</td>\n",
              "      <td>Male</td>\n",
              "      <td>0</td>\n",
              "      <td>No</td>\n",
              "      <td>No</td>\n",
              "      <td>DSL</td>\n",
              "      <td>Yes</td>\n",
              "      <td>No</td>\n",
              "      <td>Yes</td>\n",
              "      <td>Yes</td>\n",
              "      <td>No</td>\n",
              "      <td>No</td>\n",
              "      <td>No</td>\n",
              "      <td>1371</td>\n",
              "      <td>0</td>\n",
              "    </tr>\n",
              "    <tr>\n",
              "      <th>4</th>\n",
              "      <td>9237-HQITU</td>\n",
              "      <td>2019-09-01</td>\n",
              "      <td>2019-11-01</td>\n",
              "      <td>Month-to-month</td>\n",
              "      <td>Yes</td>\n",
              "      <td>Electronic check</td>\n",
              "      <td>70.70</td>\n",
              "      <td>151.65</td>\n",
              "      <td>Female</td>\n",
              "      <td>0</td>\n",
              "      <td>No</td>\n",
              "      <td>No</td>\n",
              "      <td>Fiber optic</td>\n",
              "      <td>No</td>\n",
              "      <td>No</td>\n",
              "      <td>No</td>\n",
              "      <td>No</td>\n",
              "      <td>No</td>\n",
              "      <td>No</td>\n",
              "      <td>No</td>\n",
              "      <td>61</td>\n",
              "      <td>1</td>\n",
              "    </tr>\n",
              "  </tbody>\n",
              "</table>\n",
              "</div>\n",
              "      <button class=\"colab-df-convert\" onclick=\"convertToInteractive('df-815e64d4-809d-413f-a9ef-788d2b794c63')\"\n",
              "              title=\"Convert this dataframe to an interactive table.\"\n",
              "              style=\"display:none;\">\n",
              "        \n",
              "  <svg xmlns=\"http://www.w3.org/2000/svg\" height=\"24px\"viewBox=\"0 0 24 24\"\n",
              "       width=\"24px\">\n",
              "    <path d=\"M0 0h24v24H0V0z\" fill=\"none\"/>\n",
              "    <path d=\"M18.56 5.44l.94 2.06.94-2.06 2.06-.94-2.06-.94-.94-2.06-.94 2.06-2.06.94zm-11 1L8.5 8.5l.94-2.06 2.06-.94-2.06-.94L8.5 2.5l-.94 2.06-2.06.94zm10 10l.94 2.06.94-2.06 2.06-.94-2.06-.94-.94-2.06-.94 2.06-2.06.94z\"/><path d=\"M17.41 7.96l-1.37-1.37c-.4-.4-.92-.59-1.43-.59-.52 0-1.04.2-1.43.59L10.3 9.45l-7.72 7.72c-.78.78-.78 2.05 0 2.83L4 21.41c.39.39.9.59 1.41.59.51 0 1.02-.2 1.41-.59l7.78-7.78 2.81-2.81c.8-.78.8-2.07 0-2.86zM5.41 20L4 18.59l7.72-7.72 1.47 1.35L5.41 20z\"/>\n",
              "  </svg>\n",
              "      </button>\n",
              "      \n",
              "  <style>\n",
              "    .colab-df-container {\n",
              "      display:flex;\n",
              "      flex-wrap:wrap;\n",
              "      gap: 12px;\n",
              "    }\n",
              "\n",
              "    .colab-df-convert {\n",
              "      background-color: #E8F0FE;\n",
              "      border: none;\n",
              "      border-radius: 50%;\n",
              "      cursor: pointer;\n",
              "      display: none;\n",
              "      fill: #1967D2;\n",
              "      height: 32px;\n",
              "      padding: 0 0 0 0;\n",
              "      width: 32px;\n",
              "    }\n",
              "\n",
              "    .colab-df-convert:hover {\n",
              "      background-color: #E2EBFA;\n",
              "      box-shadow: 0px 1px 2px rgba(60, 64, 67, 0.3), 0px 1px 3px 1px rgba(60, 64, 67, 0.15);\n",
              "      fill: #174EA6;\n",
              "    }\n",
              "\n",
              "    [theme=dark] .colab-df-convert {\n",
              "      background-color: #3B4455;\n",
              "      fill: #D2E3FC;\n",
              "    }\n",
              "\n",
              "    [theme=dark] .colab-df-convert:hover {\n",
              "      background-color: #434B5C;\n",
              "      box-shadow: 0px 1px 3px 1px rgba(0, 0, 0, 0.15);\n",
              "      filter: drop-shadow(0px 1px 2px rgba(0, 0, 0, 0.3));\n",
              "      fill: #FFFFFF;\n",
              "    }\n",
              "  </style>\n",
              "\n",
              "      <script>\n",
              "        const buttonEl =\n",
              "          document.querySelector('#df-815e64d4-809d-413f-a9ef-788d2b794c63 button.colab-df-convert');\n",
              "        buttonEl.style.display =\n",
              "          google.colab.kernel.accessAllowed ? 'block' : 'none';\n",
              "\n",
              "        async function convertToInteractive(key) {\n",
              "          const element = document.querySelector('#df-815e64d4-809d-413f-a9ef-788d2b794c63');\n",
              "          const dataTable =\n",
              "            await google.colab.kernel.invokeFunction('convertToInteractive',\n",
              "                                                     [key], {});\n",
              "          if (!dataTable) return;\n",
              "\n",
              "          const docLinkHtml = 'Like what you see? Visit the ' +\n",
              "            '<a target=\"_blank\" href=https://colab.research.google.com/notebooks/data_table.ipynb>data table notebook</a>'\n",
              "            + ' to learn more about interactive tables.';\n",
              "          element.innerHTML = '';\n",
              "          dataTable['output_type'] = 'display_data';\n",
              "          await google.colab.output.renderOutput(dataTable, element);\n",
              "          const docLink = document.createElement('div');\n",
              "          docLink.innerHTML = docLinkHtml;\n",
              "          element.appendChild(docLink);\n",
              "        }\n",
              "      </script>\n",
              "    </div>\n",
              "  </div>\n",
              "  "
            ]
          },
          "metadata": {},
          "execution_count": 53
        }
      ],
      "source": [
        "merged.head()"
      ]
    },
    {
      "cell_type": "code",
      "execution_count": 54,
      "id": "adf20b90",
      "metadata": {
        "id": "adf20b90"
      },
      "outputs": [],
      "source": [
        "merged = merged.drop(['BeginDate', 'EndDate'], axis=1)"
      ]
    },
    {
      "cell_type": "code",
      "execution_count": 55,
      "id": "f6a963fd",
      "metadata": {
        "scrolled": true,
        "colab": {
          "base_uri": "https://localhost:8080/",
          "height": 404
        },
        "id": "f6a963fd",
        "outputId": "cae26e1b-9927-416e-cfe5-6c1de5619864"
      },
      "outputs": [
        {
          "output_type": "execute_result",
          "data": {
            "text/plain": [
              "   customerID            Type PaperlessBilling              PaymentMethod  \\\n",
              "0  7590-VHVEG  Month-to-month              Yes           Electronic check   \n",
              "1  5575-GNVDE        One year               No               Mailed check   \n",
              "2  3668-QPYBK  Month-to-month              Yes               Mailed check   \n",
              "3  7795-CFOCW        One year               No  Bank transfer (automatic)   \n",
              "4  9237-HQITU  Month-to-month              Yes           Electronic check   \n",
              "\n",
              "   MonthlyCharges  TotalCharges  gender  SeniorCitizen Partner Dependents  \\\n",
              "0           29.85         29.85  Female              0     Yes         No   \n",
              "1           56.95       1889.50    Male              0      No         No   \n",
              "2           53.85        108.15    Male              0      No         No   \n",
              "3           42.30       1840.75    Male              0      No         No   \n",
              "4           70.70        151.65  Female              0      No         No   \n",
              "\n",
              "  InternetService OnlineSecurity OnlineBackup DeviceProtection TechSupport  \\\n",
              "0             DSL             No          Yes               No          No   \n",
              "1             DSL            Yes           No              Yes          No   \n",
              "2             DSL            Yes          Yes               No          No   \n",
              "3             DSL            Yes           No              Yes         Yes   \n",
              "4     Fiber optic             No           No               No          No   \n",
              "\n",
              "  StreamingTV StreamingMovies MultipleLines  contractPeriod  Target  \n",
              "0          No              No            No              31       0  \n",
              "1          No              No            No            1036       0  \n",
              "2          No              No            No              61       1  \n",
              "3          No              No            No            1371       0  \n",
              "4          No              No            No              61       1  "
            ],
            "text/html": [
              "\n",
              "  <div id=\"df-fb92d74a-781d-4574-b3a2-87acc48c2c34\">\n",
              "    <div class=\"colab-df-container\">\n",
              "      <div>\n",
              "<style scoped>\n",
              "    .dataframe tbody tr th:only-of-type {\n",
              "        vertical-align: middle;\n",
              "    }\n",
              "\n",
              "    .dataframe tbody tr th {\n",
              "        vertical-align: top;\n",
              "    }\n",
              "\n",
              "    .dataframe thead th {\n",
              "        text-align: right;\n",
              "    }\n",
              "</style>\n",
              "<table border=\"1\" class=\"dataframe\">\n",
              "  <thead>\n",
              "    <tr style=\"text-align: right;\">\n",
              "      <th></th>\n",
              "      <th>customerID</th>\n",
              "      <th>Type</th>\n",
              "      <th>PaperlessBilling</th>\n",
              "      <th>PaymentMethod</th>\n",
              "      <th>MonthlyCharges</th>\n",
              "      <th>TotalCharges</th>\n",
              "      <th>gender</th>\n",
              "      <th>SeniorCitizen</th>\n",
              "      <th>Partner</th>\n",
              "      <th>Dependents</th>\n",
              "      <th>InternetService</th>\n",
              "      <th>OnlineSecurity</th>\n",
              "      <th>OnlineBackup</th>\n",
              "      <th>DeviceProtection</th>\n",
              "      <th>TechSupport</th>\n",
              "      <th>StreamingTV</th>\n",
              "      <th>StreamingMovies</th>\n",
              "      <th>MultipleLines</th>\n",
              "      <th>contractPeriod</th>\n",
              "      <th>Target</th>\n",
              "    </tr>\n",
              "  </thead>\n",
              "  <tbody>\n",
              "    <tr>\n",
              "      <th>0</th>\n",
              "      <td>7590-VHVEG</td>\n",
              "      <td>Month-to-month</td>\n",
              "      <td>Yes</td>\n",
              "      <td>Electronic check</td>\n",
              "      <td>29.85</td>\n",
              "      <td>29.85</td>\n",
              "      <td>Female</td>\n",
              "      <td>0</td>\n",
              "      <td>Yes</td>\n",
              "      <td>No</td>\n",
              "      <td>DSL</td>\n",
              "      <td>No</td>\n",
              "      <td>Yes</td>\n",
              "      <td>No</td>\n",
              "      <td>No</td>\n",
              "      <td>No</td>\n",
              "      <td>No</td>\n",
              "      <td>No</td>\n",
              "      <td>31</td>\n",
              "      <td>0</td>\n",
              "    </tr>\n",
              "    <tr>\n",
              "      <th>1</th>\n",
              "      <td>5575-GNVDE</td>\n",
              "      <td>One year</td>\n",
              "      <td>No</td>\n",
              "      <td>Mailed check</td>\n",
              "      <td>56.95</td>\n",
              "      <td>1889.50</td>\n",
              "      <td>Male</td>\n",
              "      <td>0</td>\n",
              "      <td>No</td>\n",
              "      <td>No</td>\n",
              "      <td>DSL</td>\n",
              "      <td>Yes</td>\n",
              "      <td>No</td>\n",
              "      <td>Yes</td>\n",
              "      <td>No</td>\n",
              "      <td>No</td>\n",
              "      <td>No</td>\n",
              "      <td>No</td>\n",
              "      <td>1036</td>\n",
              "      <td>0</td>\n",
              "    </tr>\n",
              "    <tr>\n",
              "      <th>2</th>\n",
              "      <td>3668-QPYBK</td>\n",
              "      <td>Month-to-month</td>\n",
              "      <td>Yes</td>\n",
              "      <td>Mailed check</td>\n",
              "      <td>53.85</td>\n",
              "      <td>108.15</td>\n",
              "      <td>Male</td>\n",
              "      <td>0</td>\n",
              "      <td>No</td>\n",
              "      <td>No</td>\n",
              "      <td>DSL</td>\n",
              "      <td>Yes</td>\n",
              "      <td>Yes</td>\n",
              "      <td>No</td>\n",
              "      <td>No</td>\n",
              "      <td>No</td>\n",
              "      <td>No</td>\n",
              "      <td>No</td>\n",
              "      <td>61</td>\n",
              "      <td>1</td>\n",
              "    </tr>\n",
              "    <tr>\n",
              "      <th>3</th>\n",
              "      <td>7795-CFOCW</td>\n",
              "      <td>One year</td>\n",
              "      <td>No</td>\n",
              "      <td>Bank transfer (automatic)</td>\n",
              "      <td>42.30</td>\n",
              "      <td>1840.75</td>\n",
              "      <td>Male</td>\n",
              "      <td>0</td>\n",
              "      <td>No</td>\n",
              "      <td>No</td>\n",
              "      <td>DSL</td>\n",
              "      <td>Yes</td>\n",
              "      <td>No</td>\n",
              "      <td>Yes</td>\n",
              "      <td>Yes</td>\n",
              "      <td>No</td>\n",
              "      <td>No</td>\n",
              "      <td>No</td>\n",
              "      <td>1371</td>\n",
              "      <td>0</td>\n",
              "    </tr>\n",
              "    <tr>\n",
              "      <th>4</th>\n",
              "      <td>9237-HQITU</td>\n",
              "      <td>Month-to-month</td>\n",
              "      <td>Yes</td>\n",
              "      <td>Electronic check</td>\n",
              "      <td>70.70</td>\n",
              "      <td>151.65</td>\n",
              "      <td>Female</td>\n",
              "      <td>0</td>\n",
              "      <td>No</td>\n",
              "      <td>No</td>\n",
              "      <td>Fiber optic</td>\n",
              "      <td>No</td>\n",
              "      <td>No</td>\n",
              "      <td>No</td>\n",
              "      <td>No</td>\n",
              "      <td>No</td>\n",
              "      <td>No</td>\n",
              "      <td>No</td>\n",
              "      <td>61</td>\n",
              "      <td>1</td>\n",
              "    </tr>\n",
              "  </tbody>\n",
              "</table>\n",
              "</div>\n",
              "      <button class=\"colab-df-convert\" onclick=\"convertToInteractive('df-fb92d74a-781d-4574-b3a2-87acc48c2c34')\"\n",
              "              title=\"Convert this dataframe to an interactive table.\"\n",
              "              style=\"display:none;\">\n",
              "        \n",
              "  <svg xmlns=\"http://www.w3.org/2000/svg\" height=\"24px\"viewBox=\"0 0 24 24\"\n",
              "       width=\"24px\">\n",
              "    <path d=\"M0 0h24v24H0V0z\" fill=\"none\"/>\n",
              "    <path d=\"M18.56 5.44l.94 2.06.94-2.06 2.06-.94-2.06-.94-.94-2.06-.94 2.06-2.06.94zm-11 1L8.5 8.5l.94-2.06 2.06-.94-2.06-.94L8.5 2.5l-.94 2.06-2.06.94zm10 10l.94 2.06.94-2.06 2.06-.94-2.06-.94-.94-2.06-.94 2.06-2.06.94z\"/><path d=\"M17.41 7.96l-1.37-1.37c-.4-.4-.92-.59-1.43-.59-.52 0-1.04.2-1.43.59L10.3 9.45l-7.72 7.72c-.78.78-.78 2.05 0 2.83L4 21.41c.39.39.9.59 1.41.59.51 0 1.02-.2 1.41-.59l7.78-7.78 2.81-2.81c.8-.78.8-2.07 0-2.86zM5.41 20L4 18.59l7.72-7.72 1.47 1.35L5.41 20z\"/>\n",
              "  </svg>\n",
              "      </button>\n",
              "      \n",
              "  <style>\n",
              "    .colab-df-container {\n",
              "      display:flex;\n",
              "      flex-wrap:wrap;\n",
              "      gap: 12px;\n",
              "    }\n",
              "\n",
              "    .colab-df-convert {\n",
              "      background-color: #E8F0FE;\n",
              "      border: none;\n",
              "      border-radius: 50%;\n",
              "      cursor: pointer;\n",
              "      display: none;\n",
              "      fill: #1967D2;\n",
              "      height: 32px;\n",
              "      padding: 0 0 0 0;\n",
              "      width: 32px;\n",
              "    }\n",
              "\n",
              "    .colab-df-convert:hover {\n",
              "      background-color: #E2EBFA;\n",
              "      box-shadow: 0px 1px 2px rgba(60, 64, 67, 0.3), 0px 1px 3px 1px rgba(60, 64, 67, 0.15);\n",
              "      fill: #174EA6;\n",
              "    }\n",
              "\n",
              "    [theme=dark] .colab-df-convert {\n",
              "      background-color: #3B4455;\n",
              "      fill: #D2E3FC;\n",
              "    }\n",
              "\n",
              "    [theme=dark] .colab-df-convert:hover {\n",
              "      background-color: #434B5C;\n",
              "      box-shadow: 0px 1px 3px 1px rgba(0, 0, 0, 0.15);\n",
              "      filter: drop-shadow(0px 1px 2px rgba(0, 0, 0, 0.3));\n",
              "      fill: #FFFFFF;\n",
              "    }\n",
              "  </style>\n",
              "\n",
              "      <script>\n",
              "        const buttonEl =\n",
              "          document.querySelector('#df-fb92d74a-781d-4574-b3a2-87acc48c2c34 button.colab-df-convert');\n",
              "        buttonEl.style.display =\n",
              "          google.colab.kernel.accessAllowed ? 'block' : 'none';\n",
              "\n",
              "        async function convertToInteractive(key) {\n",
              "          const element = document.querySelector('#df-fb92d74a-781d-4574-b3a2-87acc48c2c34');\n",
              "          const dataTable =\n",
              "            await google.colab.kernel.invokeFunction('convertToInteractive',\n",
              "                                                     [key], {});\n",
              "          if (!dataTable) return;\n",
              "\n",
              "          const docLinkHtml = 'Like what you see? Visit the ' +\n",
              "            '<a target=\"_blank\" href=https://colab.research.google.com/notebooks/data_table.ipynb>data table notebook</a>'\n",
              "            + ' to learn more about interactive tables.';\n",
              "          element.innerHTML = '';\n",
              "          dataTable['output_type'] = 'display_data';\n",
              "          await google.colab.output.renderOutput(dataTable, element);\n",
              "          const docLink = document.createElement('div');\n",
              "          docLink.innerHTML = docLinkHtml;\n",
              "          element.appendChild(docLink);\n",
              "        }\n",
              "      </script>\n",
              "    </div>\n",
              "  </div>\n",
              "  "
            ]
          },
          "metadata": {},
          "execution_count": 55
        }
      ],
      "source": [
        "merged.head()"
      ]
    },
    {
      "cell_type": "markdown",
      "id": "8b54fc63",
      "metadata": {
        "id": "8b54fc63"
      },
      "source": [
        "The *CustomerID* column appears to be randomly generated and is unique for each customer, including future customers. Therefore, it cannot have influence to target attribute. It can be deleted."
      ]
    },
    {
      "cell_type": "code",
      "execution_count": 56,
      "id": "54849bc8",
      "metadata": {
        "scrolled": true,
        "colab": {
          "base_uri": "https://localhost:8080/",
          "height": 404
        },
        "id": "54849bc8",
        "outputId": "618be998-0bc5-4ae4-d97d-68f0af93d555"
      },
      "outputs": [
        {
          "output_type": "execute_result",
          "data": {
            "text/plain": [
              "             Type PaperlessBilling              PaymentMethod  MonthlyCharges  \\\n",
              "0  Month-to-month              Yes           Electronic check           29.85   \n",
              "1        One year               No               Mailed check           56.95   \n",
              "2  Month-to-month              Yes               Mailed check           53.85   \n",
              "3        One year               No  Bank transfer (automatic)           42.30   \n",
              "4  Month-to-month              Yes           Electronic check           70.70   \n",
              "\n",
              "   TotalCharges  gender  SeniorCitizen Partner Dependents InternetService  \\\n",
              "0         29.85  Female              0     Yes         No             DSL   \n",
              "1       1889.50    Male              0      No         No             DSL   \n",
              "2        108.15    Male              0      No         No             DSL   \n",
              "3       1840.75    Male              0      No         No             DSL   \n",
              "4        151.65  Female              0      No         No     Fiber optic   \n",
              "\n",
              "  OnlineSecurity OnlineBackup DeviceProtection TechSupport StreamingTV  \\\n",
              "0             No          Yes               No          No          No   \n",
              "1            Yes           No              Yes          No          No   \n",
              "2            Yes          Yes               No          No          No   \n",
              "3            Yes           No              Yes         Yes          No   \n",
              "4             No           No               No          No          No   \n",
              "\n",
              "  StreamingMovies MultipleLines  contractPeriod  Target  \n",
              "0              No            No              31       0  \n",
              "1              No            No            1036       0  \n",
              "2              No            No              61       1  \n",
              "3              No            No            1371       0  \n",
              "4              No            No              61       1  "
            ],
            "text/html": [
              "\n",
              "  <div id=\"df-168469d4-483e-4fca-b705-7089adf9c325\">\n",
              "    <div class=\"colab-df-container\">\n",
              "      <div>\n",
              "<style scoped>\n",
              "    .dataframe tbody tr th:only-of-type {\n",
              "        vertical-align: middle;\n",
              "    }\n",
              "\n",
              "    .dataframe tbody tr th {\n",
              "        vertical-align: top;\n",
              "    }\n",
              "\n",
              "    .dataframe thead th {\n",
              "        text-align: right;\n",
              "    }\n",
              "</style>\n",
              "<table border=\"1\" class=\"dataframe\">\n",
              "  <thead>\n",
              "    <tr style=\"text-align: right;\">\n",
              "      <th></th>\n",
              "      <th>Type</th>\n",
              "      <th>PaperlessBilling</th>\n",
              "      <th>PaymentMethod</th>\n",
              "      <th>MonthlyCharges</th>\n",
              "      <th>TotalCharges</th>\n",
              "      <th>gender</th>\n",
              "      <th>SeniorCitizen</th>\n",
              "      <th>Partner</th>\n",
              "      <th>Dependents</th>\n",
              "      <th>InternetService</th>\n",
              "      <th>OnlineSecurity</th>\n",
              "      <th>OnlineBackup</th>\n",
              "      <th>DeviceProtection</th>\n",
              "      <th>TechSupport</th>\n",
              "      <th>StreamingTV</th>\n",
              "      <th>StreamingMovies</th>\n",
              "      <th>MultipleLines</th>\n",
              "      <th>contractPeriod</th>\n",
              "      <th>Target</th>\n",
              "    </tr>\n",
              "  </thead>\n",
              "  <tbody>\n",
              "    <tr>\n",
              "      <th>0</th>\n",
              "      <td>Month-to-month</td>\n",
              "      <td>Yes</td>\n",
              "      <td>Electronic check</td>\n",
              "      <td>29.85</td>\n",
              "      <td>29.85</td>\n",
              "      <td>Female</td>\n",
              "      <td>0</td>\n",
              "      <td>Yes</td>\n",
              "      <td>No</td>\n",
              "      <td>DSL</td>\n",
              "      <td>No</td>\n",
              "      <td>Yes</td>\n",
              "      <td>No</td>\n",
              "      <td>No</td>\n",
              "      <td>No</td>\n",
              "      <td>No</td>\n",
              "      <td>No</td>\n",
              "      <td>31</td>\n",
              "      <td>0</td>\n",
              "    </tr>\n",
              "    <tr>\n",
              "      <th>1</th>\n",
              "      <td>One year</td>\n",
              "      <td>No</td>\n",
              "      <td>Mailed check</td>\n",
              "      <td>56.95</td>\n",
              "      <td>1889.50</td>\n",
              "      <td>Male</td>\n",
              "      <td>0</td>\n",
              "      <td>No</td>\n",
              "      <td>No</td>\n",
              "      <td>DSL</td>\n",
              "      <td>Yes</td>\n",
              "      <td>No</td>\n",
              "      <td>Yes</td>\n",
              "      <td>No</td>\n",
              "      <td>No</td>\n",
              "      <td>No</td>\n",
              "      <td>No</td>\n",
              "      <td>1036</td>\n",
              "      <td>0</td>\n",
              "    </tr>\n",
              "    <tr>\n",
              "      <th>2</th>\n",
              "      <td>Month-to-month</td>\n",
              "      <td>Yes</td>\n",
              "      <td>Mailed check</td>\n",
              "      <td>53.85</td>\n",
              "      <td>108.15</td>\n",
              "      <td>Male</td>\n",
              "      <td>0</td>\n",
              "      <td>No</td>\n",
              "      <td>No</td>\n",
              "      <td>DSL</td>\n",
              "      <td>Yes</td>\n",
              "      <td>Yes</td>\n",
              "      <td>No</td>\n",
              "      <td>No</td>\n",
              "      <td>No</td>\n",
              "      <td>No</td>\n",
              "      <td>No</td>\n",
              "      <td>61</td>\n",
              "      <td>1</td>\n",
              "    </tr>\n",
              "    <tr>\n",
              "      <th>3</th>\n",
              "      <td>One year</td>\n",
              "      <td>No</td>\n",
              "      <td>Bank transfer (automatic)</td>\n",
              "      <td>42.30</td>\n",
              "      <td>1840.75</td>\n",
              "      <td>Male</td>\n",
              "      <td>0</td>\n",
              "      <td>No</td>\n",
              "      <td>No</td>\n",
              "      <td>DSL</td>\n",
              "      <td>Yes</td>\n",
              "      <td>No</td>\n",
              "      <td>Yes</td>\n",
              "      <td>Yes</td>\n",
              "      <td>No</td>\n",
              "      <td>No</td>\n",
              "      <td>No</td>\n",
              "      <td>1371</td>\n",
              "      <td>0</td>\n",
              "    </tr>\n",
              "    <tr>\n",
              "      <th>4</th>\n",
              "      <td>Month-to-month</td>\n",
              "      <td>Yes</td>\n",
              "      <td>Electronic check</td>\n",
              "      <td>70.70</td>\n",
              "      <td>151.65</td>\n",
              "      <td>Female</td>\n",
              "      <td>0</td>\n",
              "      <td>No</td>\n",
              "      <td>No</td>\n",
              "      <td>Fiber optic</td>\n",
              "      <td>No</td>\n",
              "      <td>No</td>\n",
              "      <td>No</td>\n",
              "      <td>No</td>\n",
              "      <td>No</td>\n",
              "      <td>No</td>\n",
              "      <td>No</td>\n",
              "      <td>61</td>\n",
              "      <td>1</td>\n",
              "    </tr>\n",
              "  </tbody>\n",
              "</table>\n",
              "</div>\n",
              "      <button class=\"colab-df-convert\" onclick=\"convertToInteractive('df-168469d4-483e-4fca-b705-7089adf9c325')\"\n",
              "              title=\"Convert this dataframe to an interactive table.\"\n",
              "              style=\"display:none;\">\n",
              "        \n",
              "  <svg xmlns=\"http://www.w3.org/2000/svg\" height=\"24px\"viewBox=\"0 0 24 24\"\n",
              "       width=\"24px\">\n",
              "    <path d=\"M0 0h24v24H0V0z\" fill=\"none\"/>\n",
              "    <path d=\"M18.56 5.44l.94 2.06.94-2.06 2.06-.94-2.06-.94-.94-2.06-.94 2.06-2.06.94zm-11 1L8.5 8.5l.94-2.06 2.06-.94-2.06-.94L8.5 2.5l-.94 2.06-2.06.94zm10 10l.94 2.06.94-2.06 2.06-.94-2.06-.94-.94-2.06-.94 2.06-2.06.94z\"/><path d=\"M17.41 7.96l-1.37-1.37c-.4-.4-.92-.59-1.43-.59-.52 0-1.04.2-1.43.59L10.3 9.45l-7.72 7.72c-.78.78-.78 2.05 0 2.83L4 21.41c.39.39.9.59 1.41.59.51 0 1.02-.2 1.41-.59l7.78-7.78 2.81-2.81c.8-.78.8-2.07 0-2.86zM5.41 20L4 18.59l7.72-7.72 1.47 1.35L5.41 20z\"/>\n",
              "  </svg>\n",
              "      </button>\n",
              "      \n",
              "  <style>\n",
              "    .colab-df-container {\n",
              "      display:flex;\n",
              "      flex-wrap:wrap;\n",
              "      gap: 12px;\n",
              "    }\n",
              "\n",
              "    .colab-df-convert {\n",
              "      background-color: #E8F0FE;\n",
              "      border: none;\n",
              "      border-radius: 50%;\n",
              "      cursor: pointer;\n",
              "      display: none;\n",
              "      fill: #1967D2;\n",
              "      height: 32px;\n",
              "      padding: 0 0 0 0;\n",
              "      width: 32px;\n",
              "    }\n",
              "\n",
              "    .colab-df-convert:hover {\n",
              "      background-color: #E2EBFA;\n",
              "      box-shadow: 0px 1px 2px rgba(60, 64, 67, 0.3), 0px 1px 3px 1px rgba(60, 64, 67, 0.15);\n",
              "      fill: #174EA6;\n",
              "    }\n",
              "\n",
              "    [theme=dark] .colab-df-convert {\n",
              "      background-color: #3B4455;\n",
              "      fill: #D2E3FC;\n",
              "    }\n",
              "\n",
              "    [theme=dark] .colab-df-convert:hover {\n",
              "      background-color: #434B5C;\n",
              "      box-shadow: 0px 1px 3px 1px rgba(0, 0, 0, 0.15);\n",
              "      filter: drop-shadow(0px 1px 2px rgba(0, 0, 0, 0.3));\n",
              "      fill: #FFFFFF;\n",
              "    }\n",
              "  </style>\n",
              "\n",
              "      <script>\n",
              "        const buttonEl =\n",
              "          document.querySelector('#df-168469d4-483e-4fca-b705-7089adf9c325 button.colab-df-convert');\n",
              "        buttonEl.style.display =\n",
              "          google.colab.kernel.accessAllowed ? 'block' : 'none';\n",
              "\n",
              "        async function convertToInteractive(key) {\n",
              "          const element = document.querySelector('#df-168469d4-483e-4fca-b705-7089adf9c325');\n",
              "          const dataTable =\n",
              "            await google.colab.kernel.invokeFunction('convertToInteractive',\n",
              "                                                     [key], {});\n",
              "          if (!dataTable) return;\n",
              "\n",
              "          const docLinkHtml = 'Like what you see? Visit the ' +\n",
              "            '<a target=\"_blank\" href=https://colab.research.google.com/notebooks/data_table.ipynb>data table notebook</a>'\n",
              "            + ' to learn more about interactive tables.';\n",
              "          element.innerHTML = '';\n",
              "          dataTable['output_type'] = 'display_data';\n",
              "          await google.colab.output.renderOutput(dataTable, element);\n",
              "          const docLink = document.createElement('div');\n",
              "          docLink.innerHTML = docLinkHtml;\n",
              "          element.appendChild(docLink);\n",
              "        }\n",
              "      </script>\n",
              "    </div>\n",
              "  </div>\n",
              "  "
            ]
          },
          "metadata": {},
          "execution_count": 56
        }
      ],
      "source": [
        "merged = merged.drop('customerID', axis=1)\n",
        "merged.head()"
      ]
    },
    {
      "cell_type": "markdown",
      "id": "15d5da09",
      "metadata": {
        "id": "15d5da09"
      },
      "source": [
        "Let's create a tool for encoding categorical features:"
      ]
    },
    {
      "cell_type": "code",
      "execution_count": 57,
      "id": "cb393821",
      "metadata": {
        "scrolled": false,
        "colab": {
          "base_uri": "https://localhost:8080/",
          "height": 268
        },
        "id": "cb393821",
        "outputId": "cec40384-4c7f-4b75-cf1e-956916ca65cf"
      },
      "outputs": [
        {
          "output_type": "execute_result",
          "data": {
            "text/plain": [
              "   Type  PaperlessBilling  PaymentMethod  MonthlyCharges  TotalCharges  \\\n",
              "0   0.0               1.0            2.0           29.85         29.85   \n",
              "1   1.0               0.0            3.0           56.95       1889.50   \n",
              "2   0.0               1.0            3.0           53.85        108.15   \n",
              "3   1.0               0.0            0.0           42.30       1840.75   \n",
              "4   0.0               1.0            2.0           70.70        151.65   \n",
              "\n",
              "   gender  SeniorCitizen  Partner  Dependents  InternetService  \\\n",
              "0     0.0            0.0      1.0         0.0              0.0   \n",
              "1     1.0            0.0      0.0         0.0              0.0   \n",
              "2     1.0            0.0      0.0         0.0              0.0   \n",
              "3     1.0            0.0      0.0         0.0              0.0   \n",
              "4     0.0            0.0      0.0         0.0              1.0   \n",
              "\n",
              "   OnlineSecurity  OnlineBackup  DeviceProtection  TechSupport  StreamingTV  \\\n",
              "0             0.0           1.0               0.0          0.0          0.0   \n",
              "1             1.0           0.0               1.0          0.0          0.0   \n",
              "2             1.0           1.0               0.0          0.0          0.0   \n",
              "3             1.0           0.0               1.0          1.0          0.0   \n",
              "4             0.0           0.0               0.0          0.0          0.0   \n",
              "\n",
              "   StreamingMovies  MultipleLines  contractPeriod  Target  \n",
              "0              0.0            0.0              31       0  \n",
              "1              0.0            0.0            1036       0  \n",
              "2              0.0            0.0              61       1  \n",
              "3              0.0            0.0            1371       0  \n",
              "4              0.0            0.0              61       1  "
            ],
            "text/html": [
              "\n",
              "  <div id=\"df-2c1ef2a7-ce5d-411d-8410-dc5298c9dc04\">\n",
              "    <div class=\"colab-df-container\">\n",
              "      <div>\n",
              "<style scoped>\n",
              "    .dataframe tbody tr th:only-of-type {\n",
              "        vertical-align: middle;\n",
              "    }\n",
              "\n",
              "    .dataframe tbody tr th {\n",
              "        vertical-align: top;\n",
              "    }\n",
              "\n",
              "    .dataframe thead th {\n",
              "        text-align: right;\n",
              "    }\n",
              "</style>\n",
              "<table border=\"1\" class=\"dataframe\">\n",
              "  <thead>\n",
              "    <tr style=\"text-align: right;\">\n",
              "      <th></th>\n",
              "      <th>Type</th>\n",
              "      <th>PaperlessBilling</th>\n",
              "      <th>PaymentMethod</th>\n",
              "      <th>MonthlyCharges</th>\n",
              "      <th>TotalCharges</th>\n",
              "      <th>gender</th>\n",
              "      <th>SeniorCitizen</th>\n",
              "      <th>Partner</th>\n",
              "      <th>Dependents</th>\n",
              "      <th>InternetService</th>\n",
              "      <th>OnlineSecurity</th>\n",
              "      <th>OnlineBackup</th>\n",
              "      <th>DeviceProtection</th>\n",
              "      <th>TechSupport</th>\n",
              "      <th>StreamingTV</th>\n",
              "      <th>StreamingMovies</th>\n",
              "      <th>MultipleLines</th>\n",
              "      <th>contractPeriod</th>\n",
              "      <th>Target</th>\n",
              "    </tr>\n",
              "  </thead>\n",
              "  <tbody>\n",
              "    <tr>\n",
              "      <th>0</th>\n",
              "      <td>0.0</td>\n",
              "      <td>1.0</td>\n",
              "      <td>2.0</td>\n",
              "      <td>29.85</td>\n",
              "      <td>29.85</td>\n",
              "      <td>0.0</td>\n",
              "      <td>0.0</td>\n",
              "      <td>1.0</td>\n",
              "      <td>0.0</td>\n",
              "      <td>0.0</td>\n",
              "      <td>0.0</td>\n",
              "      <td>1.0</td>\n",
              "      <td>0.0</td>\n",
              "      <td>0.0</td>\n",
              "      <td>0.0</td>\n",
              "      <td>0.0</td>\n",
              "      <td>0.0</td>\n",
              "      <td>31</td>\n",
              "      <td>0</td>\n",
              "    </tr>\n",
              "    <tr>\n",
              "      <th>1</th>\n",
              "      <td>1.0</td>\n",
              "      <td>0.0</td>\n",
              "      <td>3.0</td>\n",
              "      <td>56.95</td>\n",
              "      <td>1889.50</td>\n",
              "      <td>1.0</td>\n",
              "      <td>0.0</td>\n",
              "      <td>0.0</td>\n",
              "      <td>0.0</td>\n",
              "      <td>0.0</td>\n",
              "      <td>1.0</td>\n",
              "      <td>0.0</td>\n",
              "      <td>1.0</td>\n",
              "      <td>0.0</td>\n",
              "      <td>0.0</td>\n",
              "      <td>0.0</td>\n",
              "      <td>0.0</td>\n",
              "      <td>1036</td>\n",
              "      <td>0</td>\n",
              "    </tr>\n",
              "    <tr>\n",
              "      <th>2</th>\n",
              "      <td>0.0</td>\n",
              "      <td>1.0</td>\n",
              "      <td>3.0</td>\n",
              "      <td>53.85</td>\n",
              "      <td>108.15</td>\n",
              "      <td>1.0</td>\n",
              "      <td>0.0</td>\n",
              "      <td>0.0</td>\n",
              "      <td>0.0</td>\n",
              "      <td>0.0</td>\n",
              "      <td>1.0</td>\n",
              "      <td>1.0</td>\n",
              "      <td>0.0</td>\n",
              "      <td>0.0</td>\n",
              "      <td>0.0</td>\n",
              "      <td>0.0</td>\n",
              "      <td>0.0</td>\n",
              "      <td>61</td>\n",
              "      <td>1</td>\n",
              "    </tr>\n",
              "    <tr>\n",
              "      <th>3</th>\n",
              "      <td>1.0</td>\n",
              "      <td>0.0</td>\n",
              "      <td>0.0</td>\n",
              "      <td>42.30</td>\n",
              "      <td>1840.75</td>\n",
              "      <td>1.0</td>\n",
              "      <td>0.0</td>\n",
              "      <td>0.0</td>\n",
              "      <td>0.0</td>\n",
              "      <td>0.0</td>\n",
              "      <td>1.0</td>\n",
              "      <td>0.0</td>\n",
              "      <td>1.0</td>\n",
              "      <td>1.0</td>\n",
              "      <td>0.0</td>\n",
              "      <td>0.0</td>\n",
              "      <td>0.0</td>\n",
              "      <td>1371</td>\n",
              "      <td>0</td>\n",
              "    </tr>\n",
              "    <tr>\n",
              "      <th>4</th>\n",
              "      <td>0.0</td>\n",
              "      <td>1.0</td>\n",
              "      <td>2.0</td>\n",
              "      <td>70.70</td>\n",
              "      <td>151.65</td>\n",
              "      <td>0.0</td>\n",
              "      <td>0.0</td>\n",
              "      <td>0.0</td>\n",
              "      <td>0.0</td>\n",
              "      <td>1.0</td>\n",
              "      <td>0.0</td>\n",
              "      <td>0.0</td>\n",
              "      <td>0.0</td>\n",
              "      <td>0.0</td>\n",
              "      <td>0.0</td>\n",
              "      <td>0.0</td>\n",
              "      <td>0.0</td>\n",
              "      <td>61</td>\n",
              "      <td>1</td>\n",
              "    </tr>\n",
              "  </tbody>\n",
              "</table>\n",
              "</div>\n",
              "      <button class=\"colab-df-convert\" onclick=\"convertToInteractive('df-2c1ef2a7-ce5d-411d-8410-dc5298c9dc04')\"\n",
              "              title=\"Convert this dataframe to an interactive table.\"\n",
              "              style=\"display:none;\">\n",
              "        \n",
              "  <svg xmlns=\"http://www.w3.org/2000/svg\" height=\"24px\"viewBox=\"0 0 24 24\"\n",
              "       width=\"24px\">\n",
              "    <path d=\"M0 0h24v24H0V0z\" fill=\"none\"/>\n",
              "    <path d=\"M18.56 5.44l.94 2.06.94-2.06 2.06-.94-2.06-.94-.94-2.06-.94 2.06-2.06.94zm-11 1L8.5 8.5l.94-2.06 2.06-.94-2.06-.94L8.5 2.5l-.94 2.06-2.06.94zm10 10l.94 2.06.94-2.06 2.06-.94-2.06-.94-.94-2.06-.94 2.06-2.06.94z\"/><path d=\"M17.41 7.96l-1.37-1.37c-.4-.4-.92-.59-1.43-.59-.52 0-1.04.2-1.43.59L10.3 9.45l-7.72 7.72c-.78.78-.78 2.05 0 2.83L4 21.41c.39.39.9.59 1.41.59.51 0 1.02-.2 1.41-.59l7.78-7.78 2.81-2.81c.8-.78.8-2.07 0-2.86zM5.41 20L4 18.59l7.72-7.72 1.47 1.35L5.41 20z\"/>\n",
              "  </svg>\n",
              "      </button>\n",
              "      \n",
              "  <style>\n",
              "    .colab-df-container {\n",
              "      display:flex;\n",
              "      flex-wrap:wrap;\n",
              "      gap: 12px;\n",
              "    }\n",
              "\n",
              "    .colab-df-convert {\n",
              "      background-color: #E8F0FE;\n",
              "      border: none;\n",
              "      border-radius: 50%;\n",
              "      cursor: pointer;\n",
              "      display: none;\n",
              "      fill: #1967D2;\n",
              "      height: 32px;\n",
              "      padding: 0 0 0 0;\n",
              "      width: 32px;\n",
              "    }\n",
              "\n",
              "    .colab-df-convert:hover {\n",
              "      background-color: #E2EBFA;\n",
              "      box-shadow: 0px 1px 2px rgba(60, 64, 67, 0.3), 0px 1px 3px 1px rgba(60, 64, 67, 0.15);\n",
              "      fill: #174EA6;\n",
              "    }\n",
              "\n",
              "    [theme=dark] .colab-df-convert {\n",
              "      background-color: #3B4455;\n",
              "      fill: #D2E3FC;\n",
              "    }\n",
              "\n",
              "    [theme=dark] .colab-df-convert:hover {\n",
              "      background-color: #434B5C;\n",
              "      box-shadow: 0px 1px 3px 1px rgba(0, 0, 0, 0.15);\n",
              "      filter: drop-shadow(0px 1px 2px rgba(0, 0, 0, 0.3));\n",
              "      fill: #FFFFFF;\n",
              "    }\n",
              "  </style>\n",
              "\n",
              "      <script>\n",
              "        const buttonEl =\n",
              "          document.querySelector('#df-2c1ef2a7-ce5d-411d-8410-dc5298c9dc04 button.colab-df-convert');\n",
              "        buttonEl.style.display =\n",
              "          google.colab.kernel.accessAllowed ? 'block' : 'none';\n",
              "\n",
              "        async function convertToInteractive(key) {\n",
              "          const element = document.querySelector('#df-2c1ef2a7-ce5d-411d-8410-dc5298c9dc04');\n",
              "          const dataTable =\n",
              "            await google.colab.kernel.invokeFunction('convertToInteractive',\n",
              "                                                     [key], {});\n",
              "          if (!dataTable) return;\n",
              "\n",
              "          const docLinkHtml = 'Like what you see? Visit the ' +\n",
              "            '<a target=\"_blank\" href=https://colab.research.google.com/notebooks/data_table.ipynb>data table notebook</a>'\n",
              "            + ' to learn more about interactive tables.';\n",
              "          element.innerHTML = '';\n",
              "          dataTable['output_type'] = 'display_data';\n",
              "          await google.colab.output.renderOutput(dataTable, element);\n",
              "          const docLink = document.createElement('div');\n",
              "          docLink.innerHTML = docLinkHtml;\n",
              "          element.appendChild(docLink);\n",
              "        }\n",
              "      </script>\n",
              "    </div>\n",
              "  </div>\n",
              "  "
            ]
          },
          "metadata": {},
          "execution_count": 57
        }
      ],
      "source": [
        "encoder = OrdinalEncoder()\n",
        "merged_ordinal = merged\n",
        "merged_ordinal[['Type','PaperlessBilling', 'PaymentMethod', 'gender', 'SeniorCitizen', 'Partner',\n",
        "               'Dependents', 'InternetService', 'OnlineSecurity', 'OnlineBackup',\n",
        "              'DeviceProtection', 'TechSupport', 'StreamingTV', 'StreamingMovies',\n",
        "              'MultipleLines']] = encoder.fit_transform(merged_ordinal[['Type',\n",
        "                                                                      'PaperlessBilling',\n",
        "                                                                      'PaymentMethod', 'gender',\n",
        "                                                                      'SeniorCitizen', 'Partner',\n",
        "               'Dependents', 'InternetService', 'OnlineSecurity', 'OnlineBackup',\n",
        "              'DeviceProtection', 'TechSupport', 'StreamingTV', 'StreamingMovies',\n",
        "              'MultipleLines']])\n",
        "merged_ordinal.head()"
      ]
    },
    {
      "cell_type": "markdown",
      "id": "f6f1b357",
      "metadata": {
        "id": "f6f1b357"
      },
      "source": [
        "Next, it makes sense to study the dependence of features on each other."
      ]
    },
    {
      "cell_type": "code",
      "execution_count": 58,
      "id": "f8c200d0",
      "metadata": {
        "scrolled": false,
        "colab": {
          "base_uri": "https://localhost:8080/",
          "height": 346
        },
        "id": "f8c200d0",
        "outputId": "24f829fa-e2d2-4781-8b95-384a87ac1c8a"
      },
      "outputs": [
        {
          "output_type": "display_data",
          "data": {
            "text/plain": [
              "<Figure size 432x288 with 2 Axes>"
            ],
            "image/png": "[encoded data removed]"
          },
          "metadata": {
            "needs_background": "light"
          }
        }
      ],
      "source": [
        "corr = merged_ordinal.corr()\n",
        "sns.heatmap(corr)\n",
        "plt.show()"
      ]
    },
    {
      "cell_type": "markdown",
      "id": "071e82d8",
      "metadata": {
        "id": "071e82d8"
      },
      "source": [
        "It can be seen here that the columns with numerical data *contractPeriod* and *TotalCharges* have the least correlation with the target variable. We can keep this in mind at the stage of studying the importance of parameters for models.\n",
        "\n",
        "It can also be seen that the services *OnlineBackup*, *DeviceProtection*, *TechSupport*, *StreamingTV*, *StreamingMovies* and *MultipleLines* were not provided by the operator for free and affected the indicators of monthly and total expenses of customers."
      ]
    },
    {
      "cell_type": "markdown",
      "id": "2f7ec998",
      "metadata": {
        "id": "2f7ec998"
      },
      "source": [
        "### Building a model"
      ]
    },
    {
      "cell_type": "markdown",
      "id": "be326273",
      "metadata": {
        "id": "be326273"
      },
      "source": [
        "For more convenient building of model, we will write functions:"
      ]
    },
    {
      "cell_type": "code",
      "execution_count": 59,
      "id": "a7fc3508",
      "metadata": {
        "id": "a7fc3508"
      },
      "outputs": [],
      "source": [
        "def make_features_target (data, target_col='Target'):\n",
        "    features = data.drop(target_col, axis=1)\n",
        "    target = data[target_col]\n",
        "    return features, target"
      ]
    },
    {
      "cell_type": "code",
      "execution_count": 60,
      "id": "edbf6bbd",
      "metadata": {
        "id": "edbf6bbd"
      },
      "outputs": [],
      "source": [
        "def split_data (features, target):\n",
        "    features_train, features_test, target_train, target_test = train_test_split(features, target,\n",
        "                                                                                test_size=0.2,\n",
        "                                                                                random_state = random_state)\n",
        "    scaler = StandardScaler()\n",
        "    numeric = ['MonthlyCharges', 'TotalCharges', 'contractPeriod']\n",
        "    scaler.fit(features_train[numeric])\n",
        "    \n",
        "    features_train[numeric] = scaler.transform(features_train[numeric])\n",
        "    features_test[numeric] = scaler.transform(features_test[numeric])\n",
        "    \n",
        "    return features_train, features_test, target_train, target_test"
      ]
    },
    {
      "cell_type": "markdown",
      "id": "5389edf3",
      "metadata": {
        "id": "5389edf3"
      },
      "source": [
        "Let's divide the dataset into samples:"
      ]
    },
    {
      "cell_type": "code",
      "execution_count": 61,
      "id": "ba34463d",
      "metadata": {
        "id": "ba34463d"
      },
      "outputs": [],
      "source": [
        "pd.options.mode.chained_assignment = None"
      ]
    },
    {
      "cell_type": "code",
      "execution_count": 62,
      "id": "3f041d21",
      "metadata": {
        "scrolled": true,
        "id": "3f041d21"
      },
      "outputs": [],
      "source": [
        "features, target = make_features_target(merged_ordinal)\n",
        "features_train, features_test, target_train, target_test = split_data(features, target)"
      ]
    },
    {
      "cell_type": "markdown",
      "id": "2e566c5f",
      "metadata": {
        "id": "2e566c5f"
      },
      "source": [
        "#### LogisticRegression"
      ]
    },
    {
      "cell_type": "markdown",
      "id": "ba242c04",
      "metadata": {
        "id": "ba242c04"
      },
      "source": [
        "For logistic regression, it is necessary to examine the data for the presence of multicollinearity:"
      ]
    },
    {
      "cell_type": "code",
      "execution_count": 63,
      "id": "bc5d0a0c",
      "metadata": {
        "scrolled": false,
        "colab": {
          "base_uri": "https://localhost:8080/",
          "height": 607
        },
        "id": "bc5d0a0c",
        "outputId": "4cad0911-4431-4d64-d696-3969bd139a19"
      },
      "outputs": [
        {
          "output_type": "display_data",
          "data": {
            "text/plain": [
              "           Atrribute  VIF scores\n",
              "0               Type    4.078135\n",
              "1   PaperlessBilling    2.874230\n",
              "2      PaymentMethod    2.970294\n",
              "3     MonthlyCharges   16.166061\n",
              "4       TotalCharges   14.297280\n",
              "5             gender    1.947504\n",
              "6      SeniorCitizen    1.361945\n",
              "7            Partner    2.819666\n",
              "8         Dependents    1.955419\n",
              "9    InternetService    3.367112\n",
              "10    OnlineSecurity    2.060884\n",
              "11      OnlineBackup    2.280680\n",
              "12  DeviceProtection    2.387575\n",
              "13       TechSupport    2.143825\n",
              "14       StreamingTV    2.981461\n",
              "15   StreamingMovies    3.010259\n",
              "16     MultipleLines    2.604492\n",
              "17    contractPeriod   14.271677"
            ],
            "text/html": [
              "\n",
              "  <div id=\"df-ad92abdf-11b9-4d5b-9fc8-e0f346dc620b\">\n",
              "    <div class=\"colab-df-container\">\n",
              "      <div>\n",
              "<style scoped>\n",
              "    .dataframe tbody tr th:only-of-type {\n",
              "        vertical-align: middle;\n",
              "    }\n",
              "\n",
              "    .dataframe tbody tr th {\n",
              "        vertical-align: top;\n",
              "    }\n",
              "\n",
              "    .dataframe thead th {\n",
              "        text-align: right;\n",
              "    }\n",
              "</style>\n",
              "<table border=\"1\" class=\"dataframe\">\n",
              "  <thead>\n",
              "    <tr style=\"text-align: right;\">\n",
              "      <th></th>\n",
              "      <th>Atrribute</th>\n",
              "      <th>VIF scores</th>\n",
              "    </tr>\n",
              "  </thead>\n",
              "  <tbody>\n",
              "    <tr>\n",
              "      <th>0</th>\n",
              "      <td>Type</td>\n",
              "      <td>4.078135</td>\n",
              "    </tr>\n",
              "    <tr>\n",
              "      <th>1</th>\n",
              "      <td>PaperlessBilling</td>\n",
              "      <td>2.874230</td>\n",
              "    </tr>\n",
              "    <tr>\n",
              "      <th>2</th>\n",
              "      <td>PaymentMethod</td>\n",
              "      <td>2.970294</td>\n",
              "    </tr>\n",
              "    <tr>\n",
              "      <th>3</th>\n",
              "      <td>MonthlyCharges</td>\n",
              "      <td>16.166061</td>\n",
              "    </tr>\n",
              "    <tr>\n",
              "      <th>4</th>\n",
              "      <td>TotalCharges</td>\n",
              "      <td>14.297280</td>\n",
              "    </tr>\n",
              "    <tr>\n",
              "      <th>5</th>\n",
              "      <td>gender</td>\n",
              "      <td>1.947504</td>\n",
              "    </tr>\n",
              "    <tr>\n",
              "      <th>6</th>\n",
              "      <td>SeniorCitizen</td>\n",
              "      <td>1.361945</td>\n",
              "    </tr>\n",
              "    <tr>\n",
              "      <th>7</th>\n",
              "      <td>Partner</td>\n",
              "      <td>2.819666</td>\n",
              "    </tr>\n",
              "    <tr>\n",
              "      <th>8</th>\n",
              "      <td>Dependents</td>\n",
              "      <td>1.955419</td>\n",
              "    </tr>\n",
              "    <tr>\n",
              "      <th>9</th>\n",
              "      <td>InternetService</td>\n",
              "      <td>3.367112</td>\n",
              "    </tr>\n",
              "    <tr>\n",
              "      <th>10</th>\n",
              "      <td>OnlineSecurity</td>\n",
              "      <td>2.060884</td>\n",
              "    </tr>\n",
              "    <tr>\n",
              "      <th>11</th>\n",
              "      <td>OnlineBackup</td>\n",
              "      <td>2.280680</td>\n",
              "    </tr>\n",
              "    <tr>\n",
              "      <th>12</th>\n",
              "      <td>DeviceProtection</td>\n",
              "      <td>2.387575</td>\n",
              "    </tr>\n",
              "    <tr>\n",
              "      <th>13</th>\n",
              "      <td>TechSupport</td>\n",
              "      <td>2.143825</td>\n",
              "    </tr>\n",
              "    <tr>\n",
              "      <th>14</th>\n",
              "      <td>StreamingTV</td>\n",
              "      <td>2.981461</td>\n",
              "    </tr>\n",
              "    <tr>\n",
              "      <th>15</th>\n",
              "      <td>StreamingMovies</td>\n",
              "      <td>3.010259</td>\n",
              "    </tr>\n",
              "    <tr>\n",
              "      <th>16</th>\n",
              "      <td>MultipleLines</td>\n",
              "      <td>2.604492</td>\n",
              "    </tr>\n",
              "    <tr>\n",
              "      <th>17</th>\n",
              "      <td>contractPeriod</td>\n",
              "      <td>14.271677</td>\n",
              "    </tr>\n",
              "  </tbody>\n",
              "</table>\n",
              "</div>\n",
              "      <button class=\"colab-df-convert\" onclick=\"convertToInteractive('df-ad92abdf-11b9-4d5b-9fc8-e0f346dc620b')\"\n",
              "              title=\"Convert this dataframe to an interactive table.\"\n",
              "              style=\"display:none;\">\n",
              "        \n",
              "  <svg xmlns=\"http://www.w3.org/2000/svg\" height=\"24px\"viewBox=\"0 0 24 24\"\n",
              "       width=\"24px\">\n",
              "    <path d=\"M0 0h24v24H0V0z\" fill=\"none\"/>\n",
              "    <path d=\"M18.56 5.44l.94 2.06.94-2.06 2.06-.94-2.06-.94-.94-2.06-.94 2.06-2.06.94zm-11 1L8.5 8.5l.94-2.06 2.06-.94-2.06-.94L8.5 2.5l-.94 2.06-2.06.94zm10 10l.94 2.06.94-2.06 2.06-.94-2.06-.94-.94-2.06-.94 2.06-2.06.94z\"/><path d=\"M17.41 7.96l-1.37-1.37c-.4-.4-.92-.59-1.43-.59-.52 0-1.04.2-1.43.59L10.3 9.45l-7.72 7.72c-.78.78-.78 2.05 0 2.83L4 21.41c.39.39.9.59 1.41.59.51 0 1.02-.2 1.41-.59l7.78-7.78 2.81-2.81c.8-.78.8-2.07 0-2.86zM5.41 20L4 18.59l7.72-7.72 1.47 1.35L5.41 20z\"/>\n",
              "  </svg>\n",
              "      </button>\n",
              "      \n",
              "  <style>\n",
              "    .colab-df-container {\n",
              "      display:flex;\n",
              "      flex-wrap:wrap;\n",
              "      gap: 12px;\n",
              "    }\n",
              "\n",
              "    .colab-df-convert {\n",
              "      background-color: #E8F0FE;\n",
              "      border: none;\n",
              "      border-radius: 50%;\n",
              "      cursor: pointer;\n",
              "      display: none;\n",
              "      fill: #1967D2;\n",
              "      height: 32px;\n",
              "      padding: 0 0 0 0;\n",
              "      width: 32px;\n",
              "    }\n",
              "\n",
              "    .colab-df-convert:hover {\n",
              "      background-color: #E2EBFA;\n",
              "      box-shadow: 0px 1px 2px rgba(60, 64, 67, 0.3), 0px 1px 3px 1px rgba(60, 64, 67, 0.15);\n",
              "      fill: #174EA6;\n",
              "    }\n",
              "\n",
              "    [theme=dark] .colab-df-convert {\n",
              "      background-color: #3B4455;\n",
              "      fill: #D2E3FC;\n",
              "    }\n",
              "\n",
              "    [theme=dark] .colab-df-convert:hover {\n",
              "      background-color: #434B5C;\n",
              "      box-shadow: 0px 1px 3px 1px rgba(0, 0, 0, 0.15);\n",
              "      filter: drop-shadow(0px 1px 2px rgba(0, 0, 0, 0.3));\n",
              "      fill: #FFFFFF;\n",
              "    }\n",
              "  </style>\n",
              "\n",
              "      <script>\n",
              "        const buttonEl =\n",
              "          document.querySelector('#df-ad92abdf-11b9-4d5b-9fc8-e0f346dc620b button.colab-df-convert');\n",
              "        buttonEl.style.display =\n",
              "          google.colab.kernel.accessAllowed ? 'block' : 'none';\n",
              "\n",
              "        async function convertToInteractive(key) {\n",
              "          const element = document.querySelector('#df-ad92abdf-11b9-4d5b-9fc8-e0f346dc620b');\n",
              "          const dataTable =\n",
              "            await google.colab.kernel.invokeFunction('convertToInteractive',\n",
              "                                                     [key], {});\n",
              "          if (!dataTable) return;\n",
              "\n",
              "          const docLinkHtml = 'Like what you see? Visit the ' +\n",
              "            '<a target=\"_blank\" href=https://colab.research.google.com/notebooks/data_table.ipynb>data table notebook</a>'\n",
              "            + ' to learn more about interactive tables.';\n",
              "          element.innerHTML = '';\n",
              "          dataTable['output_type'] = 'display_data';\n",
              "          await google.colab.output.renderOutput(dataTable, element);\n",
              "          const docLink = document.createElement('div');\n",
              "          docLink.innerHTML = docLinkHtml;\n",
              "          element.appendChild(docLink);\n",
              "        }\n",
              "      </script>\n",
              "    </div>\n",
              "  </div>\n",
              "  "
            ]
          },
          "metadata": {}
        }
      ],
      "source": [
        "vif_scores = pd.DataFrame()\n",
        "vif_scores['Atrribute'] = features.columns\n",
        "\n",
        "vif_scores['VIF scores'] = [variance_inflation_factor(features.values, i) for i in range(len(features.columns))]\n",
        "display(vif_scores)"
      ]
    },
    {
      "cell_type": "markdown",
      "id": "f95ba234",
      "metadata": {
        "id": "f95ba234"
      },
      "source": [
        "The columns *MonthlyCharges*, *TotalCharges*, *contractPeriod* shows high value and must be deleted to eliminate multicollinearity."
      ]
    },
    {
      "cell_type": "code",
      "execution_count": 64,
      "id": "b96e6237",
      "metadata": {
        "id": "b96e6237"
      },
      "outputs": [],
      "source": [
        "features_lr = features.drop(['contractPeriod', 'MonthlyCharges', 'TotalCharges'], axis=1)"
      ]
    },
    {
      "cell_type": "code",
      "execution_count": 65,
      "id": "7a453639",
      "metadata": {
        "id": "7a453639"
      },
      "outputs": [],
      "source": [
        "features_train_lr, features_test_lr, target_train_lr, target_test_lr = train_test_split(features_lr, target,\n",
        "                                                                                       test_size = 0.2,\n",
        "                                                                                       random_state = random_state)"
      ]
    },
    {
      "cell_type": "code",
      "execution_count": 66,
      "id": "d4c7371d",
      "metadata": {
        "colab": {
          "base_uri": "https://localhost:8080/"
        },
        "id": "d4c7371d",
        "outputId": "0640f74a-8b33-409f-ac7b-6a53108fe555"
      },
      "outputs": [
        {
          "output_type": "execute_result",
          "data": {
            "text/plain": [
              "0.8120417201378929"
            ]
          },
          "metadata": {},
          "execution_count": 66
        }
      ],
      "source": [
        "lr_CV = LogisticRegressionCV(cv = 10, scoring = 'roc_auc', n_jobs = -1)\n",
        "lr_CV.fit(features_train_lr, target_train_lr)\n",
        "\n",
        "probabilities_lrCV_test = lr_CV.predict_proba(features_test_lr)\n",
        "probabilities_lrCV_one_test = probabilities_lrCV_test[:,1]\n",
        "\n",
        "roc_auc_score(target_test_lr, probabilities_lrCV_one_test)"
      ]
    },
    {
      "cell_type": "markdown",
      "id": "b657f310",
      "metadata": {
        "id": "b657f310"
      },
      "source": [
        "**The auc-roc value obtained using Logistic Regression was 0.81, it can be taken into account as a baseline.**"
      ]
    },
    {
      "cell_type": "markdown",
      "id": "c12a5bf2",
      "metadata": {
        "id": "c12a5bf2"
      },
      "source": [
        "#### RandomForestClassifier"
      ]
    },
    {
      "cell_type": "code",
      "execution_count": 67,
      "id": "76e6b4d0",
      "metadata": {
        "colab": {
          "base_uri": "https://localhost:8080/"
        },
        "id": "76e6b4d0",
        "outputId": "1ab14aea-81a3-406d-9ce7-c813aa17f6ca"
      },
      "outputs": [
        {
          "output_type": "stream",
          "name": "stdout",
          "text": [
            "\n",
            " Results from Grid Search \n",
            "\n",
            " The best estimator across ALL searched params:\n",
            " RandomForestClassifier(class_weight='balanced', max_depth=8, max_features=12,\n",
            "                       n_estimators=200, random_state=80822)\n",
            "\n",
            " The best score across ALL searched params:\n",
            " 0.8665386315765684\n",
            "\n",
            " The best parameters across ALL searched params:\n",
            " {'max_depth': 8, 'max_features': 12, 'n_estimators': 200}\n"
          ]
        }
      ],
      "source": [
        "rfc = RandomForestClassifier(class_weight = 'balanced', n_estimators = 30, max_depth = 6,\n",
        "                               random_state = random_state)\n",
        "\n",
        "parameters = {'n_estimators': [10, 100, 200],\n",
        "             'max_depth': [2, 6, 8],\n",
        "             'max_features': [2, 6, 12]}\n",
        "\n",
        "Grid_rfc = GridSearchCV(estimator = rfc, param_grid = parameters, scoring = 'roc_auc', cv = 5, refit=True)\n",
        "rf_result = Grid_rfc.fit(features_train, target_train)\n",
        "\n",
        "print(\"\\n Results from Grid Search \" )\n",
        "print(\"\\n The best estimator across ALL searched params:\\n\",Grid_rfc.best_estimator_)\n",
        "print(\"\\n The best score across ALL searched params:\\n\",Grid_rfc.best_score_)\n",
        "print(\"\\n The best parameters across ALL searched params:\\n\",Grid_rfc.best_params_)"
      ]
    },
    {
      "cell_type": "code",
      "execution_count": 68,
      "id": "b220a7dc",
      "metadata": {
        "colab": {
          "base_uri": "https://localhost:8080/"
        },
        "id": "b220a7dc",
        "outputId": "91ddcc43-0f50-4b1a-9e40-2679118a796d"
      },
      "outputs": [
        {
          "output_type": "stream",
          "name": "stdout",
          "text": [
            "0.8720741803175561\n"
          ]
        }
      ],
      "source": [
        "rfc_model = RandomForestClassifier(**Grid_rfc.best_params_)\n",
        "rfc_model.fit(features_train, target_train)\n",
        "probabilities_rfc_test = rfc_model.predict_proba(features_test)\n",
        "rfc_model_one_test = probabilities_rfc_test[:,1]\n",
        "\n",
        "rfc_roc_auc = roc_auc_score(target_test, rfc_model_one_test)\n",
        "print(rfc_roc_auc)"
      ]
    },
    {
      "cell_type": "markdown",
      "id": "dbfb39d3",
      "metadata": {
        "id": "dbfb39d3"
      },
      "source": [
        "The random forest showed a higher auc-roc value without taking into account the evaluation of the importance of the parameters. Let's make such an assessment and see how the required indicator changes:"
      ]
    },
    {
      "cell_type": "code",
      "execution_count": 69,
      "id": "4d663b30",
      "metadata": {
        "scrolled": false,
        "colab": {
          "base_uri": "https://localhost:8080/",
          "height": 374
        },
        "id": "4d663b30",
        "outputId": "9ec85385-6d5b-4145-e741-8207b4aab77a"
      },
      "outputs": [
        {
          "output_type": "display_data",
          "data": {
            "text/plain": [
              "<Figure size 1080x432 with 1 Axes>"
            ],
            "image/png": "[encoded data removed]"
          },
          "metadata": {
            "needs_background": "light"
          }
        }
      ],
      "source": [
        "rfc_feature_importances = pd.DataFrame({'features':features_train.columns,\n",
        "                                   'features_importance':rfc_model.feature_importances_}).sort_values(\n",
        "    'features_importance', ascending=False)\n",
        "rfc_feature_importances.set_index('features').plot(kind='barh', figsize=(15,6))\n",
        "plt.show()"
      ]
    },
    {
      "cell_type": "markdown",
      "id": "2e6d100e",
      "metadata": {
        "id": "2e6d100e"
      },
      "source": [
        "Therefore, we can see that the columns *contractPeriod*, *Type*, *MonthlyCharges*, *TotalCharges*, *InternetService* have the greatest impact.\n",
        "Let's try to remove the remaining columns and retrain the model."
      ]
    },
    {
      "cell_type": "code",
      "execution_count": 70,
      "id": "d773feb4",
      "metadata": {
        "scrolled": true,
        "id": "d773feb4"
      },
      "outputs": [],
      "source": [
        "rfc_features = features.drop(['DeviceProtection', 'Partner', 'OnlineBackup',\n",
        "                              'gender', 'Dependents', 'StreamingMovies', 'StreamingTV',\n",
        "                             'MultipleLines', 'TechSupport', 'SeniorCitizen', 'PaperlessBilling',\n",
        "                                 'OnlineSecurity', 'PaymentMethod'], axis = 1) \n",
        "rfc_features_train, rfc_features_test, rfc_target_train, rfc_target_test = split_data(rfc_features, target)"
      ]
    },
    {
      "cell_type": "code",
      "execution_count": 71,
      "id": "9b070ac9",
      "metadata": {
        "scrolled": true,
        "colab": {
          "base_uri": "https://localhost:8080/"
        },
        "id": "9b070ac9",
        "outputId": "3ebff16d-2293-4f07-9d2c-f6197ec13188"
      },
      "outputs": [
        {
          "output_type": "stream",
          "name": "stdout",
          "text": [
            "\n",
            " Results from Grid Search \n",
            "\n",
            " The best estimator across ALL searched params:\n",
            " RandomForestClassifier(class_weight='balanced', max_depth=8, max_features=0.5,\n",
            "                       random_state=80822)\n",
            "\n",
            " The best score across ALL searched params:\n",
            " 0.8631877741413934\n",
            "\n",
            " The best parameters across ALL searched params:\n",
            " {'max_depth': 8, 'max_features': 0.5, 'n_estimators': 100}\n"
          ]
        }
      ],
      "source": [
        "rfc_fi = RandomForestClassifier(class_weight = 'balanced', n_estimators = 30, max_depth = 6,\n",
        "                               random_state = random_state)\n",
        "\n",
        "parameters = {'n_estimators': [10, 100, 200],\n",
        "             'max_depth': [2, 6, 8],\n",
        "             'max_features': [0.1, 0.25, 0.5]}\n",
        "\n",
        "Grid_rfc_fi = GridSearchCV(estimator = rfc_fi, param_grid = parameters, scoring = 'roc_auc', cv = 5, refit=True)\n",
        "rf_result_fi = Grid_rfc_fi.fit(rfc_features_train, rfc_target_train)\n",
        "\n",
        "print(\"\\n Results from Grid Search \" )\n",
        "print(\"\\n The best estimator across ALL searched params:\\n\",Grid_rfc_fi.best_estimator_)\n",
        "print(\"\\n The best score across ALL searched params:\\n\",Grid_rfc_fi.best_score_)\n",
        "print(\"\\n The best parameters across ALL searched params:\\n\",Grid_rfc_fi.best_params_)"
      ]
    },
    {
      "cell_type": "code",
      "execution_count": 72,
      "id": "7a22570a",
      "metadata": {
        "scrolled": true,
        "colab": {
          "base_uri": "https://localhost:8080/"
        },
        "id": "7a22570a",
        "outputId": "6754f2ce-a309-4ede-ac64-321ba223cdc8"
      },
      "outputs": [
        {
          "output_type": "stream",
          "name": "stdout",
          "text": [
            "0.8709418484688358\n"
          ]
        }
      ],
      "source": [
        "rfc_model_fi = RandomForestClassifier(**Grid_rfc_fi.best_params_)\n",
        "rfc_model_fi.fit(rfc_features_train, rfc_target_train)\n",
        "probabilities_rfc_test_fi = rfc_model_fi.predict_proba(rfc_features_test)\n",
        "rfc_model_one_test_fi = probabilities_rfc_test_fi[:,1]\n",
        "\n",
        "rfc_roc_auc = roc_auc_score(rfc_target_test, rfc_model_one_test_fi)\n",
        "print(rfc_roc_auc)"
      ]
    },
    {
      "cell_type": "markdown",
      "id": "5f2b7838",
      "metadata": {
        "id": "5f2b7838"
      },
      "source": [
        "After all the actions performed, the auc-roc value remained virtually unchanged and amounted to **0.87 using the RandomForestClassifier model.**"
      ]
    },
    {
      "cell_type": "markdown",
      "id": "471585a5",
      "metadata": {
        "id": "471585a5"
      },
      "source": [
        "#### CatBoostClassifier"
      ]
    },
    {
      "cell_type": "code",
      "execution_count": 73,
      "id": "d68a89ef",
      "metadata": {
        "scrolled": true,
        "colab": {
          "base_uri": "https://localhost:8080/"
        },
        "id": "d68a89ef",
        "outputId": "0e70cbc3-e63d-49e0-a610-bc9d1d3ed374"
      },
      "outputs": [
        {
          "output_type": "stream",
          "name": "stdout",
          "text": [
            " Results from Grid Search \n",
            "\n",
            " The best estimator across ALL searched params:\n",
            " <catboost.core.CatBoostClassifier object at 0x7f5033d9e6a0>\n",
            "\n",
            " The best score across ALL searched params:\n",
            " 0.8835231920104649\n",
            "\n",
            " The best parameters across ALL searched params:\n",
            " {'depth': 4, 'iterations': 30, 'learning_rate': 1}\n"
          ]
        }
      ],
      "source": [
        "cbc = CatBoostClassifier()\n",
        "parameters = {'depth' : [4, 5, 6, 7, 8, 9, 10],\n",
        "             'learning_rate': [0.05, 0.1, 0.5, 1],\n",
        "             'iterations': [1, 5, 10, 15, 20, 25, 30]}\n",
        "Grid_cbc = GridSearchCV(estimator = cbc, param_grid = parameters, scoring = 'roc_auc', cv = 5, n_jobs = -1)\n",
        "Grid_cbc.fit(features_train, target_train, logging_level='Silent')\n",
        "\n",
        "print(\" Results from Grid Search \" )\n",
        "print(\"\\n The best estimator across ALL searched params:\\n\",Grid_cbc.best_estimator_)\n",
        "print(\"\\n The best score across ALL searched params:\\n\",Grid_cbc.best_score_)\n",
        "print(\"\\n The best parameters across ALL searched params:\\n\",Grid_cbc.best_params_)"
      ]
    },
    {
      "cell_type": "code",
      "execution_count": 74,
      "id": "a344a3d1",
      "metadata": {
        "scrolled": false,
        "colab": {
          "base_uri": "https://localhost:8080/"
        },
        "id": "a344a3d1",
        "outputId": "31ff7a6c-faaa-4753-82f7-46755c6b179b"
      },
      "outputs": [
        {
          "output_type": "stream",
          "name": "stdout",
          "text": [
            "0:\tlearn: 0.4653337\ttotal: 1.34ms\tremaining: 38.9ms\n",
            "1:\tlearn: 0.4229403\ttotal: 2.41ms\tremaining: 33.7ms\n",
            "2:\tlearn: 0.4098913\ttotal: 3.51ms\tremaining: 31.6ms\n",
            "3:\tlearn: 0.3958347\ttotal: 4.91ms\tremaining: 31.9ms\n",
            "4:\tlearn: 0.3892562\ttotal: 6.41ms\tremaining: 32.1ms\n",
            "5:\tlearn: 0.3854359\ttotal: 7.75ms\tremaining: 31ms\n",
            "6:\tlearn: 0.3818996\ttotal: 8.87ms\tremaining: 29.2ms\n",
            "7:\tlearn: 0.3773543\ttotal: 10.2ms\tremaining: 28.1ms\n",
            "8:\tlearn: 0.3726027\ttotal: 11.6ms\tremaining: 27ms\n",
            "9:\tlearn: 0.3677258\ttotal: 13ms\tremaining: 26ms\n",
            "10:\tlearn: 0.3661928\ttotal: 14.4ms\tremaining: 24.8ms\n",
            "11:\tlearn: 0.3579812\ttotal: 15.8ms\tremaining: 23.7ms\n",
            "12:\tlearn: 0.3552811\ttotal: 18.9ms\tremaining: 24.7ms\n",
            "13:\tlearn: 0.3526613\ttotal: 19.9ms\tremaining: 22.8ms\n",
            "14:\tlearn: 0.3505708\ttotal: 21.3ms\tremaining: 21.3ms\n",
            "15:\tlearn: 0.3488212\ttotal: 22.7ms\tremaining: 19.9ms\n",
            "16:\tlearn: 0.3444922\ttotal: 24ms\tremaining: 18.4ms\n",
            "17:\tlearn: 0.3366895\ttotal: 25.4ms\tremaining: 16.9ms\n",
            "18:\tlearn: 0.3337036\ttotal: 26.8ms\tremaining: 15.5ms\n",
            "19:\tlearn: 0.3320501\ttotal: 28.1ms\tremaining: 14.1ms\n",
            "20:\tlearn: 0.3300748\ttotal: 29.6ms\tremaining: 12.7ms\n",
            "21:\tlearn: 0.3288060\ttotal: 30.9ms\tremaining: 11.3ms\n",
            "22:\tlearn: 0.3269001\ttotal: 32.3ms\tremaining: 9.84ms\n",
            "23:\tlearn: 0.3250070\ttotal: 33.7ms\tremaining: 8.42ms\n",
            "24:\tlearn: 0.3240342\ttotal: 35.1ms\tremaining: 7.01ms\n",
            "25:\tlearn: 0.3231109\ttotal: 36.6ms\tremaining: 5.62ms\n",
            "26:\tlearn: 0.3195640\ttotal: 38ms\tremaining: 4.22ms\n",
            "27:\tlearn: 0.3162869\ttotal: 39.3ms\tremaining: 2.81ms\n",
            "28:\tlearn: 0.3154388\ttotal: 40.7ms\tremaining: 1.4ms\n",
            "29:\tlearn: 0.3126630\ttotal: 42.1ms\tremaining: 0us\n",
            "0.888525703932966\n"
          ]
        }
      ],
      "source": [
        "cbc_model = CatBoostClassifier(**Grid_cbc.best_params_)\n",
        "cbc_model.fit(features_train, target_train)\n",
        "probabilities_cbc_test = cbc_model.predict_proba(features_test)\n",
        "cbc_model_one_test = probabilities_cbc_test[:,1]\n",
        "\n",
        "cbc_roc_auc = roc_auc_score(target_test, cbc_model_one_test)\n",
        "print(cbc_roc_auc)"
      ]
    },
    {
      "cell_type": "markdown",
      "id": "46982693",
      "metadata": {
        "id": "46982693"
      },
      "source": [
        "The CatBoostClassifier model achieved score ~0.89 without taking into account the influence of the importance of the parameters. we need to study if there such an influence and retrain the model."
      ]
    },
    {
      "cell_type": "code",
      "execution_count": 75,
      "id": "a34188b3",
      "metadata": {
        "colab": {
          "base_uri": "https://localhost:8080/",
          "height": 374
        },
        "id": "a34188b3",
        "outputId": "cff1901c-1bf3-4162-9908-238332c55f04"
      },
      "outputs": [
        {
          "output_type": "display_data",
          "data": {
            "text/plain": [
              "<Figure size 1080x432 with 1 Axes>"
            ],
            "image/png": "[encoded data removed]"
          },
          "metadata": {
            "needs_background": "light"
          }
        }
      ],
      "source": [
        "cbc_feature_importances = pd.DataFrame({'features':features_train.columns,\n",
        "                                   'features_importance':cbc_model.feature_importances_}).sort_values(\n",
        "    'features_importance', ascending=False)\n",
        "cbc_feature_importances.set_index('features').plot(kind='barh', figsize=(15,6))\n",
        "plt.show()"
      ]
    },
    {
      "cell_type": "code",
      "execution_count": 76,
      "id": "c59c67be",
      "metadata": {
        "id": "c59c67be"
      },
      "outputs": [],
      "source": [
        "cbc_features = features.drop(['DeviceProtection', 'Partner','gender'], axis = 1) \n",
        "cbc_features_train, cbc_features_test, cbc_target_train, cbc_target_test = split_data(cbc_features, target)"
      ]
    },
    {
      "cell_type": "code",
      "execution_count": null,
      "id": "1401af67",
      "metadata": {
        "id": "1401af67"
      },
      "outputs": [],
      "source": [
        "cbc_fi = CatBoostClassifier()\n",
        "parameters = {'depth' : [4, 5, 6, 7, 8, 9, 10],\n",
        "             'learning_rate': [0.05, 0.1, 0.5, 1],\n",
        "             'iterations': [1, 5, 10, 15, 20, 25, 30]}\n",
        "Grid_cbc_fi = GridSearchCV(estimator = cbc_fi, param_grid = parameters, scoring = 'roc_auc', cv = 5, n_jobs = -1)\n",
        "Grid_cbc_fi.fit(cbc_features_train, cbc_target_train, logging_level='Silent')\n",
        "\n",
        "print(\" Results from Grid Search \" )\n",
        "print(\"\\n The best estimator across ALL searched params:\\n\",Grid_cbc_fi.best_estimator_)\n",
        "print(\"\\n The best score across ALL searched params:\\n\",Grid_cbc_fi.best_score_)\n",
        "print(\"\\n The best parameters across ALL searched params:\\n\",Grid_cbc_fi.best_params_)"
      ]
    },
    {
      "cell_type": "code",
      "execution_count": null,
      "id": "1705b853",
      "metadata": {
        "id": "1705b853"
      },
      "outputs": [],
      "source": [
        "cbc_model_fi = CatBoostClassifier(**Grid_cbc_fi.best_params_)\n",
        "cbc_model_fi.fit(cbc_features_train, cbc_target_train)\n",
        "probabilities_cbc_test_fi = cbc_model_fi.predict_proba(cbc_features_test)\n",
        "cbc_model_one_test_fi = probabilities_cbc_test_fi[:,1]\n",
        "\n",
        "cbc_roc_auc_fi = roc_auc_score(cbc_target_test, cbc_model_one_test_fi)\n",
        "print(cbc_roc_auc_fi)"
      ]
    },
    {
      "cell_type": "markdown",
      "id": "cc2c7623",
      "metadata": {
        "id": "cc2c7623"
      },
      "source": [
        "Following the elimination of less important parameters, the **CatBoostClassifier model gave the highest value of the roc metric-auc = 0.9**"
      ]
    },
    {
      "cell_type": "code",
      "execution_count": null,
      "id": "acdcd45e",
      "metadata": {
        "id": "acdcd45e"
      },
      "outputs": [],
      "source": [
        "cbc_roc_auc_curve = roc_auc_score(cbc_target_test, cbc_model_fi.predict(cbc_features_test))\n",
        "fpr, tpr, thresholds = roc_curve(cbc_target_test, cbc_model_fi.predict_proba(cbc_features_test)[:,1])\n",
        "plt.figure()\n",
        "plt.plot(fpr, tpr, label='CatBoostClassifier (area = %0.2f)' % cbc_roc_auc_curve)\n",
        "plt.plot([0, 1], [0, 1],'r--')\n",
        "plt.xlim([0.0, 1.0])\n",
        "plt.ylim([0.0, 1.05])\n",
        "plt.xlabel('False Positive Rate')\n",
        "plt.ylabel('True Positive Rate')\n",
        "plt.title('Receiver operating characteristic')\n",
        "plt.savefig('Log_ROC')\n",
        "plt.show()"
      ]
    },
    {
      "cell_type": "markdown",
      "id": "b5435017",
      "metadata": {
        "id": "b5435017"
      },
      "source": [
        "### Final report"
      ]
    },
    {
      "cell_type": "markdown",
      "id": "42805408",
      "metadata": {
        "id": "42805408"
      },
      "source": [
        "#### Research Description"
      ]
    },
    {
      "cell_type": "markdown",
      "id": "27819cf1",
      "metadata": {
        "id": "27819cf1"
      },
      "source": [
        "___\n",
        "___\n",
        "From  telecom operator received a request for a model that could predict the outflow of customers in order to minimize it. If it turns out that the user is planning to leave, he may be offered promo codes and special conditions for retention.\n",
        "\n",
        "The operator's team collected personal data about some customers, information about their tariffs and contracts.\n",
        "\n",
        "**Data description**:\n",
        "The data consists of files received from different sources:\n",
        "\n",
        "- contract.csv — information about the contract;\n",
        "- personal.csv — personal data of clients;\n",
        "- internet.csv — information about Internet services;\n",
        "- phone.csv — information about telephony services.\n",
        "\n",
        "\n",
        "In all files, the CustomerID column contains a unique customer code.\n",
        "Information about the contracts is current as of February 1, 2020.\n",
        "\n",
        "**The target metric of the accuracy of the model according to the customer's conditions **- ROC-AUC is not lower than 0.75."
      ]
    },
    {
      "cell_type": "markdown",
      "id": "d162c1bd",
      "metadata": {
        "id": "d162c1bd"
      },
      "source": [
        "#### Description of the received source data"
      ]
    },
    {
      "cell_type": "markdown",
      "id": "7189efd3",
      "metadata": {
        "id": "7189efd3"
      },
      "source": [
        "The customer transferred user data in 4 different files to build models.\n",
        "___\n",
        "\n",
        "The first file with information about contracts concluded with customers (*contract*) contained 7043 unique lines, which is equivalent to 7043 unique customers. The table contains data:\n",
        "\n",
        "- The beginning and end of the term of the contract with the client;\n",
        "- Type of payment under the contract (monthly, annual);\n",
        "- Use of non-cash payments;\n",
        "- Payment method;\n",
        "- Monthly and general expenses for services.\n",
        "\n",
        "When studying the monthly costs, it was found that most of the customers used the minimum cost tariff. The total cost of most customers in this regard was small. Also, the low total costs of most customers were explained by the recent connection to the operator's services."
      ]
    },
    {
      "cell_type": "markdown",
      "id": "5ca182e5",
      "metadata": {
        "id": "5ca182e5"
      },
      "source": [
        "<div>\n",
        "<img src=\"https://i.postimg.cc/4NNB6fFN/1.png\" width=\"1000\"/>\n",
        "</div>"
      ]
    },
    {
      "cell_type": "markdown",
      "id": "462d49d2",
      "metadata": {
        "id": "462d49d2"
      },
      "source": [
        "___\n",
        "The file with the name *personal* contains personal information about customers. There are also 7043 rows with corresponding unique numbers in the data. In addition, the table contains information about:\n",
        "\n",
        "- customer field;\n",
        "- having of retirement status by age;\n",
        "- having of a spouse;\n",
        "- having dependents.\n",
        "___\n",
        "Further, the file called *internet* contained information about the use of services by clients on the Internet, including:\n",
        "\n",
        "- Type of connection;\n",
        "- internet security: antivirus;\n",
        "- blocking unsafe sites;\n",
        "- Dedicated technical support line;\n",
        "- Cloud file storage for data backup;\n",
        "- Streaming TV and movie catalog.\n",
        "\n",
        "This table contained 5,517 rows, which meant that only 78% of all customers used the company's internet services during the period under review.\n",
        "___\n",
        "\n",
        "The *phone* database also represented a smaller number of customers - 6361 unique users. Thus, the share of the company's customers using telephone services was about 90%, which exceeds the share of customers using the company's internet services by 12%. At the same time, it should be understood that some customers are included in both samples and use both telephony services and the company's internet services.\n",
        "\n",
        "In the *phone* database, in addition to the unique number of the client, there is an information on whether he has the ability to conduct parallel lines during a call.\n",
        "___\n",
        "___"
      ]
    },
    {
      "cell_type": "markdown",
      "id": "91434345",
      "metadata": {
        "id": "91434345"
      },
      "source": [
        "#### Description of errors and inaccuracies in the data"
      ]
    },
    {
      "cell_type": "markdown",
      "id": "abea2092",
      "metadata": {
        "id": "abea2092"
      },
      "source": [
        "___\n",
        "___\n",
        "The greatest amount of necessary preprocessing actions was required when working with data on existing contracts (*contract*):\n",
        "\n",
        "- all columns except MonthlyCharges had the object format, including a column with numerical data *TotalCharges* and columns with dates\n",
        "- there were \"No\" values in the EndDate column, which meant that the contract was valid on February 1, 2020.\n",
        "- also, there were only 4 unique dates in the EndDate column. Probably the operator updated the status of contracts on these dates.\n",
        "- there were no values in the *TotalCharges* column for some users. They were characterized by the start date of the contract in February 2020, that is, at the time of the database formation date. Thus, they did not have time to incur costs, but it was advisable to replace the missing values with 0 in the future in order to avoid errors.\n",
        "- there was no target attribute in the file on contracts with clients confirming the fact that the client left the operator. Thus, it was necessary to take the end date of the contract with the client as this sign. The absence of an end date for the contract meant that the client did not leave.\n",
        "- about a quarter of the customers had an contract expiration date, which meant that the data was unbalanced;\n",
        "- no hidden duplicates or outliers (outliers) were found in the file.\n",
        "\n",
        "In other source files (*personal*,*internet*,*phone*) containing exclusively categorical features, there were also no missing values, hidden duplicates. The only point that requires special attention in further work is the different number of lines in different files, which, if careless, can lead to data loss.\n",
        "\n",
        "___\n",
        "___"
      ]
    },
    {
      "cell_type": "markdown",
      "id": "7348ece0",
      "metadata": {
        "id": "7348ece0"
      },
      "source": [
        "#### Description of the actions performed with the data"
      ]
    },
    {
      "cell_type": "markdown",
      "id": "417efd04",
      "metadata": {
        "id": "417efd04"
      },
      "source": [
        "___\n",
        "___\n",
        "\n",
        "At this stage, actions were taken to eliminate deficiencies in the file with information about contracts identified at the previous stage:\n",
        "- - The format of the column *TotalCharges* has been changed to numeric, the columns *BeginDate* and *EndDate* to date format;\n",
        "- The \"No\" values in the *EndDate* column have been replaced with the data slice date - 2020-02-01;\n",
        "- In the *TotalCharges* column, the missing values for new customers have been replaced with zero values;\n",
        "___\n",
        "___"
      ]
    },
    {
      "cell_type": "markdown",
      "id": "17494df9",
      "metadata": {
        "id": "17494df9"
      },
      "source": [
        "#### Description of the actions performed to build the model"
      ]
    },
    {
      "cell_type": "markdown",
      "id": "e970f427",
      "metadata": {
        "id": "e970f427"
      },
      "source": [
        "Having eliminated the inaccuracies and inconsistencies found in the data, as the next stage actions aimed at creating conditions for building forecasting models were carried out.\n",
        "\n",
        "- First of all, data from different files were joined into one dataset. The merge was performed using the **merge** method with the *how='outer' parameter to avoid data loss. After each merge, the total size of the merged table was checked.\n",
        "\n",
        "\n",
        "- The next and most important of these actions was the creation of a target variable, since it was initially absent explicitly. As previously determined, the target variable was created from the *EndDate* column - the expiration date of the contract with the client. Thus, the binary attribute (1,0) was created according to the following logic:\n",
        "> If there is any date other than 2020-02-01 in the *EndDate* column of the *contracts* file (the database formation date added manually at the data processing stage), the attribute was equal to 1 (\"the client has left\"). If the date was equal to 2020-02-01, the attribute was equal to 0 (\"the client did not leave\").\n",
        "\n",
        "- It was decided to extract the *contractPeriod* parameter from the columns with the start date of the contract and its end (*BeginDate*, *EndDate*), which indicated the duration of the contract and was calculated as the difference between the start and end dates in days.\n",
        "\n",
        "\n",
        "- Further, the columns with the start date of the contract and the end date of the contract were deleted, since the necessary features were extracted from them, and these columns themselves could lead to data leakage during training.\n",
        "- The CustomerID column was unique for each customer, including future customers. Therefore, it could not influence the target attribute. It was decided that it could be deleted.\n",
        "\n",
        "- Part of the data in the combined dataset was represented by categorical variables:\n",
        "> ('Type','PaperlessBilling', 'PaymentMethod', 'gender', 'SeniorCitizen', 'Partner','Dependents', 'InternetService', 'OnlineSecurity', 'OnlineBackup','DeviceProtection', 'TechSupport', 'StreamingTV', 'StreamingMovies','MultipleLines')\n",
        "\n",
        "These features for further training of models were encoded into a numerical format using the Ordinal Encoder.\n",
        "\n",
        "\n",
        "- To study the correlation of data, a correlation matrix was constructed, which showed that the columns with the numerical data contractPeriod and TotalCharges had the least correlation with the target variable."
      ]
    },
    {
      "cell_type": "markdown",
      "id": "53cfe316",
      "metadata": {
        "id": "53cfe316"
      },
      "source": [
        "<div>\n",
        "<img src=\"https://i.postimg.cc/44w1xCNC/2022-08-19-01-07-57.png\" width=\"500\"/>\n",
        "</div>"
      ]
    },
    {
      "cell_type": "markdown",
      "id": "02461268",
      "metadata": {
        "id": "02461268"
      },
      "source": [
        "___\n",
        "After performing these actions, the resulting dataset was divided into training and test samples. **The size of the test sample was 20%.**\n",
        "Immediately after the separation of the sample, the Standard Scale tool was used to bring the numerical data to the same order.\n",
        "___"
      ]
    },
    {
      "cell_type": "markdown",
      "id": "0346d9bc",
      "metadata": {
        "id": "0346d9bc"
      },
      "source": [
        "After the actions carried out, 3 different types of forecasting models were build:\n",
        "- **LogisticRegression**\n",
        "- **RandomForest**\n",
        "- **CatboostClassifier**\n",
        "\n",
        "When building each of the models, cross-validation was used.\n",
        "___"
      ]
    },
    {
      "cell_type": "markdown",
      "id": "47697ddc",
      "metadata": {
        "id": "47697ddc"
      },
      "source": [
        "**LogisticRegression**\n",
        "\n",
        "For the Logistic Regression model, a check for the presence of multicollinarity was also carried out beforehand, according to the results of which features ('contractPeriod', 'MonthlyCharges', 'TotalCharges') were excluded for this model.\n",
        "\n",
        "\n",
        "Based on the results of the performed actions **Logistic regression showed the accuracy of the target indicator ROC-AUC in the test sample - 0.81**\n",
        "___"
      ]
    },
    {
      "cell_type": "markdown",
      "id": "ae36d75a",
      "metadata": {
        "id": "ae36d75a"
      },
      "source": [
        "**RandomForest**\n",
        "\n",
        "****This model showed the accuracy of the target indicator ROC-AUC in the test sample - 0.87**\n",
        "The study of the importance of the parameters showed that the columns contractPeriod, Type, MonthlyCharges, TotalCharges, InternetService have the greatest influence. It was decided to remove the remaining columns and retrain the model again. The performed actions did not lead to an increase in the accuracy of the prediction of the model - ROC-AUC remained equal to - 0.87.\n",
        "___"
      ]
    },
    {
      "cell_type": "markdown",
      "id": "e1308ee2",
      "metadata": {
        "id": "e1308ee2"
      },
      "source": [
        "**Catboost**"
      ]
    },
    {
      "cell_type": "markdown",
      "id": "a703fe27",
      "metadata": {
        "id": "a703fe27"
      },
      "source": [
        "The Catboost model gave a forecast with the accuracy of the target indicator ROC-AUC on the test sample - 0.89. A similar study of the importance of parameters showed that the columns *'DeviceProtection', 'Partner','gender'* have the least influence. After deleting these columns and retraining **, the prediction accuracy of the CatBoostClassifier model by the ROC-AUC metric increased to 0.90.**\n",
        "___"
      ]
    },
    {
      "cell_type": "markdown",
      "id": "3473c720",
      "metadata": {
        "id": "3473c720"
      },
      "source": [
        "#### Argumentation of the choice of the final model"
      ]
    },
    {
      "cell_type": "markdown",
      "id": "477ecdf6",
      "metadata": {
        "id": "477ecdf6"
      },
      "source": [
        "|№      |     Модель     |     ROC-AUC on test sample     |\n",
        "|:-----|:----:|----:|\n",
        "|1 |LogisticRegression |0,81 |\n",
        "|2 |RandomForest |0,87 |\n",
        "|3 |CatboostRegression |0,9 |"
      ]
    },
    {
      "cell_type": "markdown",
      "id": "cd1ce293",
      "metadata": {
        "id": "cd1ce293"
      },
      "source": [
        "According to the results of the comparison, it can be seen that CatBoostClassifier gives the highest accuracy. Therefore, it is worth choosing it for the final recommendation."
      ]
    },
    {
      "cell_type": "markdown",
      "id": "7462c8ed",
      "metadata": {
        "id": "7462c8ed"
      },
      "source": [
        "#### Summary of the work done, recommendations to the customer for further work with the model."
      ]
    },
    {
      "cell_type": "markdown",
      "id": "de054a89",
      "metadata": {
        "id": "de054a89"
      },
      "source": [
        "At the request of the customer, data for predicting potentially lost customers was studied and worked out.\n",
        "Based on the processed data, the dependencies between them were studied and potentially important calculated indicators were added.\n",
        "Based on the received dataframe, 3 different prediction models were built. The models showed significantly different accuracy of the target metric. The most accurate result was given by the CatboostClassifier model. The accuracy of the forecast for a given target metric exceeds the maximum mark of the accuracy desired by the customer, and therefore the business is recommended to use this model on real relevant data."
      ]
    },
    {
      "cell_type": "code",
      "execution_count": null,
      "id": "bc8d2487",
      "metadata": {
        "id": "bc8d2487"
      },
      "outputs": [],
      "source": []
    }
  ],
  "metadata": {
    "ExecuteTimeLog": [
      {
        "duration": 1238,
        "start_time": "2022-08-12T15:48:11.044Z"
      },
      {
        "duration": 340,
        "start_time": "2022-08-12T15:48:12.283Z"
      },
      {
        "duration": 4,
        "start_time": "2022-08-12T15:48:12.624Z"
      },
      {
        "duration": 68,
        "start_time": "2022-08-12T15:48:12.629Z"
      },
      {
        "duration": 5,
        "start_time": "2022-08-12T15:48:12.698Z"
      },
      {
        "duration": 15,
        "start_time": "2022-08-12T15:48:12.705Z"
      },
      {
        "duration": 3,
        "start_time": "2022-08-12T15:48:12.722Z"
      },
      {
        "duration": 40,
        "start_time": "2022-08-12T15:48:12.727Z"
      },
      {
        "duration": 14,
        "start_time": "2022-08-12T15:48:12.769Z"
      },
      {
        "duration": 4,
        "start_time": "2022-08-12T15:48:12.784Z"
      },
      {
        "duration": 6,
        "start_time": "2022-08-12T15:48:12.789Z"
      },
      {
        "duration": 6,
        "start_time": "2022-08-12T15:48:12.797Z"
      },
      {
        "duration": 17,
        "start_time": "2022-08-12T15:48:12.804Z"
      },
      {
        "duration": 249,
        "start_time": "2022-08-12T15:48:12.823Z"
      },
      {
        "duration": 145,
        "start_time": "2022-08-12T15:48:13.073Z"
      },
      {
        "duration": 8,
        "start_time": "2022-08-12T15:48:13.220Z"
      },
      {
        "duration": 20,
        "start_time": "2022-08-12T15:48:13.229Z"
      },
      {
        "duration": 26,
        "start_time": "2022-08-12T15:48:13.251Z"
      },
      {
        "duration": 26,
        "start_time": "2022-08-12T15:48:13.279Z"
      },
      {
        "duration": 18,
        "start_time": "2022-08-12T15:48:13.306Z"
      },
      {
        "duration": 58,
        "start_time": "2022-08-12T15:48:13.326Z"
      },
      {
        "duration": 4,
        "start_time": "2022-08-12T15:48:13.386Z"
      },
      {
        "duration": 6,
        "start_time": "2022-08-12T15:48:13.391Z"
      },
      {
        "duration": 14,
        "start_time": "2022-08-12T15:48:13.398Z"
      },
      {
        "duration": 12,
        "start_time": "2022-08-12T15:48:13.413Z"
      },
      {
        "duration": 61,
        "start_time": "2022-08-12T15:48:13.427Z"
      },
      {
        "duration": 68,
        "start_time": "2022-08-12T15:48:13.490Z"
      },
      {
        "duration": 67,
        "start_time": "2022-08-13T07:23:26.398Z"
      },
      {
        "duration": 66,
        "start_time": "2022-08-13T07:23:59.742Z"
      },
      {
        "duration": 68,
        "start_time": "2022-08-13T07:28:49.923Z"
      },
      {
        "duration": 50,
        "start_time": "2022-08-13T07:29:40.473Z"
      },
      {
        "duration": 2251,
        "start_time": "2022-08-17T06:27:12.207Z"
      },
      {
        "duration": 3,
        "start_time": "2022-08-17T06:27:14.460Z"
      },
      {
        "duration": 111,
        "start_time": "2022-08-17T06:27:14.468Z"
      },
      {
        "duration": 4,
        "start_time": "2022-08-17T06:27:14.580Z"
      },
      {
        "duration": 75,
        "start_time": "2022-08-17T06:27:14.586Z"
      },
      {
        "duration": 5,
        "start_time": "2022-08-17T06:27:14.662Z"
      },
      {
        "duration": 40,
        "start_time": "2022-08-17T06:27:14.668Z"
      },
      {
        "duration": 6,
        "start_time": "2022-08-17T06:27:14.710Z"
      },
      {
        "duration": 16,
        "start_time": "2022-08-17T06:27:14.719Z"
      },
      {
        "duration": 13,
        "start_time": "2022-08-17T06:27:14.737Z"
      },
      {
        "duration": 4,
        "start_time": "2022-08-17T06:27:14.751Z"
      },
      {
        "duration": 8,
        "start_time": "2022-08-17T06:27:14.756Z"
      },
      {
        "duration": 7,
        "start_time": "2022-08-17T06:27:14.765Z"
      },
      {
        "duration": 49,
        "start_time": "2022-08-17T06:27:14.773Z"
      },
      {
        "duration": 4,
        "start_time": "2022-08-17T06:27:14.824Z"
      },
      {
        "duration": 258,
        "start_time": "2022-08-17T06:27:14.829Z"
      },
      {
        "duration": 162,
        "start_time": "2022-08-17T06:27:15.089Z"
      },
      {
        "duration": 7,
        "start_time": "2022-08-17T06:27:15.253Z"
      },
      {
        "duration": 6,
        "start_time": "2022-08-17T06:27:15.261Z"
      },
      {
        "duration": 5,
        "start_time": "2022-08-17T06:27:15.269Z"
      },
      {
        "duration": 5,
        "start_time": "2022-08-17T06:27:15.276Z"
      },
      {
        "duration": 79,
        "start_time": "2022-08-17T06:27:15.282Z"
      },
      {
        "duration": 4,
        "start_time": "2022-08-17T06:27:15.362Z"
      },
      {
        "duration": 7,
        "start_time": "2022-08-17T06:27:15.368Z"
      },
      {
        "duration": 6,
        "start_time": "2022-08-17T06:27:15.376Z"
      },
      {
        "duration": 24,
        "start_time": "2022-08-17T06:27:15.383Z"
      },
      {
        "duration": 63,
        "start_time": "2022-08-17T06:27:15.475Z"
      },
      {
        "duration": 30,
        "start_time": "2022-08-17T06:27:15.539Z"
      },
      {
        "duration": 50,
        "start_time": "2022-08-17T06:27:15.571Z"
      },
      {
        "duration": 3,
        "start_time": "2022-08-17T06:27:15.623Z"
      },
      {
        "duration": 11,
        "start_time": "2022-08-17T06:27:15.628Z"
      },
      {
        "duration": 13,
        "start_time": "2022-08-17T06:27:15.640Z"
      },
      {
        "duration": 18,
        "start_time": "2022-08-17T06:27:15.654Z"
      },
      {
        "duration": 6,
        "start_time": "2022-08-17T06:27:15.673Z"
      },
      {
        "duration": 40,
        "start_time": "2022-08-17T06:27:15.680Z"
      },
      {
        "duration": 19,
        "start_time": "2022-08-17T06:27:15.722Z"
      },
      {
        "duration": 16,
        "start_time": "2022-08-17T06:27:15.742Z"
      },
      {
        "duration": 13,
        "start_time": "2022-08-17T06:27:15.760Z"
      },
      {
        "duration": 37,
        "start_time": "2022-08-17T06:27:15.775Z"
      },
      {
        "duration": 6,
        "start_time": "2022-08-17T06:27:15.814Z"
      },
      {
        "duration": 21,
        "start_time": "2022-08-17T06:27:15.821Z"
      },
      {
        "duration": 4,
        "start_time": "2022-08-17T06:27:15.844Z"
      },
      {
        "duration": 112,
        "start_time": "2022-08-17T06:27:15.850Z"
      },
      {
        "duration": 17,
        "start_time": "2022-08-17T06:27:15.964Z"
      },
      {
        "duration": 6,
        "start_time": "2022-08-17T06:27:15.983Z"
      },
      {
        "duration": 29,
        "start_time": "2022-08-17T06:27:15.991Z"
      },
      {
        "duration": 28,
        "start_time": "2022-08-17T06:27:16.023Z"
      },
      {
        "duration": 78,
        "start_time": "2022-08-17T06:27:16.053Z"
      },
      {
        "duration": 545,
        "start_time": "2022-08-17T06:27:16.134Z"
      },
      {
        "duration": 2,
        "start_time": "2022-08-17T06:27:16.681Z"
      },
      {
        "duration": 5,
        "start_time": "2022-08-17T06:27:16.685Z"
      },
      {
        "duration": 36,
        "start_time": "2022-08-17T06:27:16.692Z"
      },
      {
        "duration": 3880,
        "start_time": "2022-08-17T06:27:16.730Z"
      },
      {
        "duration": 8,
        "start_time": "2022-08-17T06:27:20.613Z"
      },
      {
        "duration": 93,
        "start_time": "2022-08-17T06:27:20.623Z"
      },
      {
        "duration": 43306,
        "start_time": "2022-08-17T06:27:20.717Z"
      },
      {
        "duration": 51506,
        "start_time": "2022-08-17T06:28:04.107Z"
      },
      {
        "duration": 1649,
        "start_time": "2022-08-17T06:28:55.615Z"
      },
      {
        "duration": 261,
        "start_time": "2022-08-17T06:28:57.265Z"
      },
      {
        "duration": 19,
        "start_time": "2022-08-17T06:28:57.528Z"
      },
      {
        "duration": 18476,
        "start_time": "2022-08-17T06:28:57.548Z"
      },
      {
        "duration": 480,
        "start_time": "2022-08-17T06:29:16.026Z"
      },
      {
        "duration": 983370,
        "start_time": "2022-08-17T06:29:16.508Z"
      },
      {
        "duration": 875,
        "start_time": "2022-08-17T06:45:39.880Z"
      },
      {
        "duration": 204,
        "start_time": "2022-08-17T06:45:40.756Z"
      },
      {
        "duration": 17,
        "start_time": "2022-08-17T06:45:40.961Z"
      },
      {
        "duration": 792097,
        "start_time": "2022-08-17T06:45:40.979Z"
      },
      {
        "duration": 717,
        "start_time": "2022-08-17T06:58:53.077Z"
      },
      {
        "duration": 367,
        "start_time": "2022-08-17T06:58:53.795Z"
      },
      {
        "duration": 4,
        "start_time": "2022-08-17T07:03:09.616Z"
      },
      {
        "duration": 17,
        "start_time": "2022-08-17T07:03:11.543Z"
      },
      {
        "duration": 2011,
        "start_time": "2022-08-17T07:05:02.966Z"
      },
      {
        "duration": 3,
        "start_time": "2022-08-17T07:05:04.979Z"
      },
      {
        "duration": 106,
        "start_time": "2022-08-17T07:05:04.986Z"
      },
      {
        "duration": 4,
        "start_time": "2022-08-17T07:05:05.094Z"
      },
      {
        "duration": 82,
        "start_time": "2022-08-17T07:05:05.099Z"
      },
      {
        "duration": 31,
        "start_time": "2022-08-17T07:05:05.183Z"
      },
      {
        "duration": 20,
        "start_time": "2022-08-17T07:05:05.216Z"
      },
      {
        "duration": 3,
        "start_time": "2022-08-17T07:05:05.238Z"
      },
      {
        "duration": 16,
        "start_time": "2022-08-17T07:05:05.243Z"
      },
      {
        "duration": 15,
        "start_time": "2022-08-17T07:05:05.261Z"
      },
      {
        "duration": 4,
        "start_time": "2022-08-17T07:05:05.277Z"
      },
      {
        "duration": 7,
        "start_time": "2022-08-17T07:05:05.306Z"
      },
      {
        "duration": 9,
        "start_time": "2022-08-17T07:05:05.315Z"
      },
      {
        "duration": 24,
        "start_time": "2022-08-17T07:05:05.325Z"
      },
      {
        "duration": 3,
        "start_time": "2022-08-17T07:05:05.351Z"
      },
      {
        "duration": 294,
        "start_time": "2022-08-17T07:05:05.355Z"
      },
      {
        "duration": 200,
        "start_time": "2022-08-17T07:05:05.651Z"
      },
      {
        "duration": 9,
        "start_time": "2022-08-17T07:05:05.853Z"
      },
      {
        "duration": 6,
        "start_time": "2022-08-17T07:05:05.864Z"
      },
      {
        "duration": 7,
        "start_time": "2022-08-17T07:05:05.871Z"
      },
      {
        "duration": 27,
        "start_time": "2022-08-17T07:05:05.880Z"
      },
      {
        "duration": 51,
        "start_time": "2022-08-17T07:05:05.909Z"
      },
      {
        "duration": 4,
        "start_time": "2022-08-17T07:05:05.962Z"
      },
      {
        "duration": 52,
        "start_time": "2022-08-17T07:05:05.967Z"
      },
      {
        "duration": 6,
        "start_time": "2022-08-17T07:05:06.030Z"
      },
      {
        "duration": 25,
        "start_time": "2022-08-17T07:05:06.038Z"
      },
      {
        "duration": 80,
        "start_time": "2022-08-17T07:05:06.164Z"
      },
      {
        "duration": 70,
        "start_time": "2022-08-17T07:05:06.245Z"
      },
      {
        "duration": 25,
        "start_time": "2022-08-17T07:05:06.317Z"
      },
      {
        "duration": 6,
        "start_time": "2022-08-17T07:05:06.344Z"
      },
      {
        "duration": 12,
        "start_time": "2022-08-17T07:05:06.351Z"
      },
      {
        "duration": 12,
        "start_time": "2022-08-17T07:05:06.364Z"
      },
      {
        "duration": 50,
        "start_time": "2022-08-17T07:05:06.378Z"
      },
      {
        "duration": 6,
        "start_time": "2022-08-17T07:05:06.430Z"
      },
      {
        "duration": 18,
        "start_time": "2022-08-17T07:05:06.437Z"
      },
      {
        "duration": 22,
        "start_time": "2022-08-17T07:05:06.457Z"
      },
      {
        "duration": 49,
        "start_time": "2022-08-17T07:05:06.484Z"
      },
      {
        "duration": 13,
        "start_time": "2022-08-17T07:05:06.535Z"
      },
      {
        "duration": 21,
        "start_time": "2022-08-17T07:05:06.550Z"
      },
      {
        "duration": 6,
        "start_time": "2022-08-17T07:05:06.572Z"
      },
      {
        "duration": 38,
        "start_time": "2022-08-17T07:05:06.579Z"
      },
      {
        "duration": 12,
        "start_time": "2022-08-17T07:05:06.620Z"
      },
      {
        "duration": 114,
        "start_time": "2022-08-17T07:05:06.634Z"
      },
      {
        "duration": 19,
        "start_time": "2022-08-17T07:05:06.749Z"
      },
      {
        "duration": 6,
        "start_time": "2022-08-17T07:05:06.770Z"
      },
      {
        "duration": 31,
        "start_time": "2022-08-17T07:05:06.777Z"
      },
      {
        "duration": 21,
        "start_time": "2022-08-17T07:05:06.810Z"
      },
      {
        "duration": 90,
        "start_time": "2022-08-17T07:05:06.833Z"
      },
      {
        "duration": 512,
        "start_time": "2022-08-17T07:05:06.924Z"
      },
      {
        "duration": 3,
        "start_time": "2022-08-17T07:05:07.438Z"
      },
      {
        "duration": 5,
        "start_time": "2022-08-17T07:05:07.443Z"
      },
      {
        "duration": 23,
        "start_time": "2022-08-17T07:05:07.449Z"
      },
      {
        "duration": 3346,
        "start_time": "2022-08-17T07:05:07.473Z"
      },
      {
        "duration": 102,
        "start_time": "2022-08-17T07:05:10.821Z"
      },
      {
        "duration": 11,
        "start_time": "2022-08-17T07:05:11.009Z"
      },
      {
        "duration": 30995,
        "start_time": "2022-08-17T07:05:11.022Z"
      },
      {
        "duration": 53319,
        "start_time": "2022-08-17T07:05:42.019Z"
      },
      {
        "duration": 1554,
        "start_time": "2022-08-17T07:06:35.339Z"
      },
      {
        "duration": 268,
        "start_time": "2022-08-17T07:06:36.895Z"
      },
      {
        "duration": 18,
        "start_time": "2022-08-17T07:06:37.165Z"
      },
      {
        "duration": 17261,
        "start_time": "2022-08-17T07:06:37.185Z"
      },
      {
        "duration": 441,
        "start_time": "2022-08-17T07:06:54.448Z"
      },
      {
        "duration": 907440,
        "start_time": "2022-08-17T07:06:54.890Z"
      },
      {
        "duration": 935,
        "start_time": "2022-08-17T07:22:02.332Z"
      },
      {
        "duration": 231,
        "start_time": "2022-08-17T07:22:03.268Z"
      },
      {
        "duration": 26,
        "start_time": "2022-08-17T07:22:03.501Z"
      },
      {
        "duration": 947848,
        "start_time": "2022-08-17T07:22:03.529Z"
      },
      {
        "duration": 1343,
        "start_time": "2022-08-17T07:37:51.379Z"
      },
      {
        "duration": 263,
        "start_time": "2022-08-17T07:37:52.724Z"
      },
      {
        "duration": 4,
        "start_time": "2022-08-17T08:15:32.886Z"
      },
      {
        "duration": 5,
        "start_time": "2022-08-17T08:15:32.909Z"
      },
      {
        "duration": 109,
        "start_time": "2022-08-17T08:15:32.973Z"
      },
      {
        "duration": 4,
        "start_time": "2022-08-17T08:15:33.085Z"
      },
      {
        "duration": 63,
        "start_time": "2022-08-17T08:15:33.142Z"
      },
      {
        "duration": 8,
        "start_time": "2022-08-17T08:15:33.207Z"
      },
      {
        "duration": 13,
        "start_time": "2022-08-17T08:15:33.788Z"
      },
      {
        "duration": 7,
        "start_time": "2022-08-17T08:15:34.123Z"
      },
      {
        "duration": 17,
        "start_time": "2022-08-17T08:15:38.746Z"
      },
      {
        "duration": 13,
        "start_time": "2022-08-17T08:19:17.650Z"
      },
      {
        "duration": 22,
        "start_time": "2022-08-17T08:20:20.410Z"
      },
      {
        "duration": 17,
        "start_time": "2022-08-17T08:20:20.434Z"
      },
      {
        "duration": 8,
        "start_time": "2022-08-17T08:20:20.634Z"
      },
      {
        "duration": 5,
        "start_time": "2022-08-17T08:20:21.025Z"
      },
      {
        "duration": 22,
        "start_time": "2022-08-17T08:20:21.417Z"
      },
      {
        "duration": 4,
        "start_time": "2022-08-17T08:20:21.970Z"
      },
      {
        "duration": 226,
        "start_time": "2022-08-17T08:20:22.185Z"
      },
      {
        "duration": 144,
        "start_time": "2022-08-17T08:20:22.538Z"
      },
      {
        "duration": 9,
        "start_time": "2022-08-17T08:20:22.721Z"
      },
      {
        "duration": 4,
        "start_time": "2022-08-17T08:20:23.129Z"
      },
      {
        "duration": 5,
        "start_time": "2022-08-17T08:20:23.329Z"
      },
      {
        "duration": 4,
        "start_time": "2022-08-17T08:20:23.529Z"
      },
      {
        "duration": 53,
        "start_time": "2022-08-17T08:20:24.497Z"
      },
      {
        "duration": 5,
        "start_time": "2022-08-17T08:20:24.881Z"
      },
      {
        "duration": 3,
        "start_time": "2022-08-17T08:20:25.178Z"
      },
      {
        "duration": 5,
        "start_time": "2022-08-17T08:20:25.553Z"
      },
      {
        "duration": 5,
        "start_time": "2022-08-17T08:20:25.768Z"
      },
      {
        "duration": 52,
        "start_time": "2022-08-17T08:20:26.673Z"
      },
      {
        "duration": 34,
        "start_time": "2022-08-17T08:20:27.345Z"
      },
      {
        "duration": 26,
        "start_time": "2022-08-17T08:20:30.914Z"
      },
      {
        "duration": 4,
        "start_time": "2022-08-17T08:20:31.273Z"
      },
      {
        "duration": 4,
        "start_time": "2022-08-17T08:20:31.649Z"
      },
      {
        "duration": 14,
        "start_time": "2022-08-17T08:20:31.977Z"
      },
      {
        "duration": 19,
        "start_time": "2022-08-17T08:20:32.146Z"
      },
      {
        "duration": 4,
        "start_time": "2022-08-17T08:20:32.297Z"
      },
      {
        "duration": 19,
        "start_time": "2022-08-17T08:20:32.449Z"
      },
      {
        "duration": 23,
        "start_time": "2022-08-17T08:20:32.585Z"
      },
      {
        "duration": 25,
        "start_time": "2022-08-17T08:20:32.705Z"
      },
      {
        "duration": 9,
        "start_time": "2022-08-17T08:20:32.969Z"
      },
      {
        "duration": 15,
        "start_time": "2022-08-17T08:20:33.584Z"
      },
      {
        "duration": 5,
        "start_time": "2022-08-17T08:20:34.353Z"
      },
      {
        "duration": 19,
        "start_time": "2022-08-17T08:20:34.601Z"
      },
      {
        "duration": 3,
        "start_time": "2022-08-17T08:20:35.257Z"
      },
      {
        "duration": 105,
        "start_time": "2022-08-17T08:20:35.601Z"
      },
      {
        "duration": 22,
        "start_time": "2022-08-17T08:20:35.818Z"
      },
      {
        "duration": 6,
        "start_time": "2022-08-17T08:20:36.081Z"
      },
      {
        "duration": 17,
        "start_time": "2022-08-17T08:20:36.322Z"
      },
      {
        "duration": 18,
        "start_time": "2022-08-17T08:20:36.897Z"
      },
      {
        "duration": 72,
        "start_time": "2022-08-17T08:20:37.769Z"
      },
      {
        "duration": 543,
        "start_time": "2022-08-17T08:20:39.408Z"
      },
      {
        "duration": 3,
        "start_time": "2022-08-17T08:20:43.384Z"
      },
      {
        "duration": 4,
        "start_time": "2022-08-17T08:20:44.329Z"
      },
      {
        "duration": 25,
        "start_time": "2022-08-17T08:20:51.017Z"
      },
      {
        "duration": 3950,
        "start_time": "2022-08-17T08:20:55.567Z"
      },
      {
        "duration": 87,
        "start_time": "2022-08-17T08:20:59.521Z"
      },
      {
        "duration": 5,
        "start_time": "2022-08-17T08:21:02.377Z"
      },
      {
        "duration": 35753,
        "start_time": "2022-08-17T08:21:03.654Z"
      },
      {
        "duration": 5,
        "start_time": "2022-08-17T08:22:47.705Z"
      },
      {
        "duration": 5,
        "start_time": "2022-08-17T08:22:48.840Z"
      },
      {
        "duration": 30572,
        "start_time": "2022-08-17T08:22:50.249Z"
      },
      {
        "duration": 52866,
        "start_time": "2022-08-17T08:23:20.827Z"
      },
      {
        "duration": 1563,
        "start_time": "2022-08-17T08:24:17.824Z"
      },
      {
        "duration": 244,
        "start_time": "2022-08-17T08:24:19.389Z"
      },
      {
        "duration": 26,
        "start_time": "2022-08-17T08:26:34.792Z"
      },
      {
        "duration": 18782,
        "start_time": "2022-08-17T08:26:37.056Z"
      },
      {
        "duration": 28116,
        "start_time": "2022-08-17T08:27:24.440Z"
      },
      {
        "duration": 28309,
        "start_time": "2022-08-17T08:27:54.992Z"
      },
      {
        "duration": 1534,
        "start_time": "2022-08-17T08:31:32.168Z"
      }
    ],
    "kernelspec": {
      "display_name": "Python 3 (ipykernel)",
      "language": "python",
      "name": "python3"
    },
    "language_info": {
      "codemirror_mode": {
        "name": "ipython",
        "version": 3
      },
      "file_extension": ".py",
      "mimetype": "text/x-python",
      "name": "python",
      "nbconvert_exporter": "python",
      "pygments_lexer": "ipython3",
      "version": "3.9.7"
    },
    "toc": {
      "base_numbering": 1,
      "nav_menu": {},
      "number_sections": true,
      "sideBar": true,
      "skip_h1_title": true,
      "title_cell": "Table of Contents",
      "title_sidebar": "Contents",
      "toc_cell": false,
      "toc_position": {
        "height": "calc(100% - 180px)",
        "left": "10px",
        "top": "150px",
        "width": "338.8235168457031px"
      },
      "toc_section_display": true,
      "toc_window_display": true
    },
    "colab": {
      "provenance": []
    }
  },
  "nbformat": 4,
  "nbformat_minor": 5
}