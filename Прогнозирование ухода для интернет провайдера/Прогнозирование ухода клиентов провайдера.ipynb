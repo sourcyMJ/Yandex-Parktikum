{
 "cells": [
  {
   "cell_type": "markdown",
   "id": "e0817fe6",
   "metadata": {},
   "source": [
    "# Прогнозирование оттока клиентов компании интернет-провайдера"
   ]
  },
  {
   "cell_type": "markdown",
   "id": "ff7ffba6",
   "metadata": {},
   "source": [
    "Оператор связи хочет научиться прогнозировать отток клиентов. Если выяснится, что пользователь планирует уйти, ему будут предложены промокоды и специальные условия. Командой оператора были собраны персональные данные о некоторых клиентах, информацию об их тарифах и договорах."
   ]
  },
  {
   "cell_type": "markdown",
   "id": "b4ef0bab",
   "metadata": {},
   "source": [
    "**Описание данных**"
   ]
  },
  {
   "cell_type": "markdown",
   "id": "01886d81",
   "metadata": {},
   "source": [
    "Данные состоят из файлов, полученных из разных источников:\n",
    "\n",
    "- `contract.csv` — информация о договоре;\n",
    "- `personal.csv` — персональные данные клиента;\n",
    "- `internet.csv` — информация об интернет-услугах;\n",
    "- `phone.csv` — информация об услугах телефонии.\n",
    "\n",
    "Во всех файлах столбец `customerID` содержит код клиента.\n",
    "\n",
    "Информация о договорах актуальна на 1 февраля 2020."
   ]
  },
  {
   "cell_type": "markdown",
   "id": "1fc2920e",
   "metadata": {},
   "source": [
    "Таким образом можно сформулировать цель исследования."
   ]
  },
  {
   "cell_type": "markdown",
   "id": "ebc38741",
   "metadata": {},
   "source": [
    "### Цель работы"
   ]
  },
  {
   "cell_type": "markdown",
   "id": "91c74eb6",
   "metadata": {},
   "source": [
    " - Написать модель, которая поможет спрогнозировать компании собирается ли ее клиент уйти "
   ]
  },
  {
   "cell_type": "markdown",
   "id": "4222fcff",
   "metadata": {},
   "source": [
    "### План работы"
   ]
  },
  {
   "cell_type": "markdown",
   "id": "a68d3e95",
   "metadata": {},
   "source": [
    "1. Обзор данных:\n",
    "    - Загрузка входных данных;\n",
    "    - Изучение обозначения данных в соответствии с документацией.\n",
    "    \n",
    "    \n",
    "2. Предобработка данных:\n",
    "    - Проверка на наличие пропусков в данных и скрытых дубликатов;\n",
    "    - Проверка на наличие выбросов и подозрительных данных;\n",
    "    - Проверка корректности форматов данных;\n",
    "    - Устранение выявленных проблем.\n",
    "    \n",
    "    \n",
    "3. Анализ данных:\n",
    "    - Объединение таблиц по ключу CustomerID с учетом того, что в таблицах разное количество ID;\n",
    "    - Поиск и проверка зависимостей между данными;\n",
    "    - Feature engineering.\n",
    "    \n",
    "    \n",
    "4. Написание модели:\n",
    "    - Масштабирование численных признаков;\n",
    "    - Кодирование категориальных данных методом OHE;\n",
    "    - Устранение дисбаланса классов;\n",
    "    - Подбор модели с применением кросс-валидации;\n",
    "    - Тестирование модели с необходимым условием достижения итоговой метрики (ROC-AUC >= 0,75). \n",
    "\n",
    "\n",
    "5. Написание итогового отчета:\n",
    "    - Описание задачи, какие цели ставились;\n",
    "    - Описание полученных исходных данных;\n",
    "    - Описание ошибок и неточностей в данных;\n",
    "    - Описание произведенных действий с данными;\n",
    "    - Описание произведенных действий для написания модели;\n",
    "    - Аргументация выбора итоговой модели;\n",
    "    - Резюме проведенной работы, рекомендации заказчику по дальнейшей работе с моделью."
   ]
  },
  {
   "cell_type": "markdown",
   "id": "732edcf3",
   "metadata": {},
   "source": [
    "___\n",
    "### Обзор данных\n",
    "___"
   ]
  },
  {
   "cell_type": "markdown",
   "id": "4bd9bd3a",
   "metadata": {},
   "source": [
    "Составим первое представление о данных и импортируем все необходимые библиотеки"
   ]
  },
  {
   "cell_type": "code",
   "execution_count": 1,
   "id": "69311cf2",
   "metadata": {},
   "outputs": [],
   "source": [
    "import pandas as pd;\n",
    "import numpy as np;\n",
    "import seaborn as sns;\n",
    "import matplotlib.pyplot as plt;\n",
    "from datetime import datetime;\n",
    "from sklearn.preprocessing import OrdinalEncoder, StandardScaler\n",
    "from sklearn.model_selection import train_test_split\n",
    "from statsmodels.stats.outliers_influence import variance_inflation_factor\n",
    "from sklearn.linear_model import LogisticRegressionCV\n",
    "from sklearn.ensemble import RandomForestClassifier\n",
    "from sklearn.model_selection import GridSearchCV\n",
    "from catboost import CatBoostClassifier\n",
    "from sklearn.metrics import roc_auc_score, roc_curve\n",
    "from IPython.display import Image, display"
   ]
  },
  {
   "cell_type": "code",
   "execution_count": 3,
   "id": "50fe76db",
   "metadata": {},
   "outputs": [],
   "source": [
    "pd.options.display.max_columns = 500\n",
    "pd.options.display.max_rows = 500\n",
    "random_state = 80822"
   ]
  },
  {
   "cell_type": "markdown",
   "id": "e46da85c",
   "metadata": {},
   "source": [
    "Прочитаем файлы с данными из папки /datasets и сохраним их в переменных:"
   ]
  },
  {
   "cell_type": "code",
   "execution_count": 7,
   "id": "a6c9f321",
   "metadata": {},
   "outputs": [],
   "source": [
    "try:\n",
    "    df_contract = pd.read_csv('//Users/vladislav/Downloads/final_provider/contract.csv')\n",
    "    df_personal = pd.read_csv('//Users/vladislav/Downloads/final_provider/personal.csv')\n",
    "    df_internet = pd.read_csv('//Users/vladislav/Downloads/final_provider/internet.csv')\n",
    "    df_phone = pd.read_csv('//Users/vladislav/Downloads/final_provider/phone.csv')\n",
    "except:\n",
    "    df_contract = pd.read_csv('/datasets/final_provider/contract.csv')\n",
    "    df_personal = pd.read_csv('/datasets/final_provider/personal.csv')\n",
    "    df_internet = pd.read_csv('/datasets/final_provider/internet.csv')\n",
    "    df_phone = pd.read_csv('/datasets/final_provider/phone.csv')    "
   ]
  },
  {
   "cell_type": "markdown",
   "id": "ca6894ed",
   "metadata": {},
   "source": [
    "Напишем функцию для первичного изучения датасетов:"
   ]
  },
  {
   "cell_type": "code",
   "execution_count": 8,
   "id": "0510eb2d",
   "metadata": {},
   "outputs": [],
   "source": [
    "def describe(df):\n",
    "    \n",
    "    display('Первые 5 строк таблицы', df.head()) \n",
    "    display('##############################################')\n",
    "    display(df.info())\n",
    "    display('##############################################')\n",
    "    display('Описание данных', df.describe(include='all').T)\n",
    "    display('##############################################')\n",
    "    display('Количество пропусков', df.isna().sum())"
   ]
  },
  {
   "cell_type": "markdown",
   "id": "bfb8e950",
   "metadata": {},
   "source": [
    "Можно начать изучение данных с файла о контрактах пользователей df_contracts. Согласно документации к данным эта таблица содержит информацию о условиях контрактов:"
   ]
  },
  {
   "cell_type": "markdown",
   "id": "8b8f9c43",
   "metadata": {},
   "source": [
    "- BeginDate – дата начала пользования услугами,\n",
    "- EndDate – дата окончания пользования услугами,\n",
    "- Type – тип оплаты: ежемесячный, годовой и тд,\n",
    "- PaperlessBilling – безналичный расчет,\n",
    "- PaymentMethod – способ оплаты,\n",
    "- MonthlyCharges – ежемесячные траты на услуги"
   ]
  },
  {
   "cell_type": "code",
   "execution_count": 9,
   "id": "e158cc4c",
   "metadata": {},
   "outputs": [
    {
     "data": {
      "text/plain": [
       "'Первые 5 строк таблицы'"
      ]
     },
     "metadata": {},
     "output_type": "display_data"
    },
    {
     "data": {
      "text/html": [
       "<div>\n",
       "<style scoped>\n",
       "    .dataframe tbody tr th:only-of-type {\n",
       "        vertical-align: middle;\n",
       "    }\n",
       "\n",
       "    .dataframe tbody tr th {\n",
       "        vertical-align: top;\n",
       "    }\n",
       "\n",
       "    .dataframe thead th {\n",
       "        text-align: right;\n",
       "    }\n",
       "</style>\n",
       "<table border=\"1\" class=\"dataframe\">\n",
       "  <thead>\n",
       "    <tr style=\"text-align: right;\">\n",
       "      <th></th>\n",
       "      <th>customerID</th>\n",
       "      <th>BeginDate</th>\n",
       "      <th>EndDate</th>\n",
       "      <th>Type</th>\n",
       "      <th>PaperlessBilling</th>\n",
       "      <th>PaymentMethod</th>\n",
       "      <th>MonthlyCharges</th>\n",
       "      <th>TotalCharges</th>\n",
       "    </tr>\n",
       "  </thead>\n",
       "  <tbody>\n",
       "    <tr>\n",
       "      <th>0</th>\n",
       "      <td>7590-VHVEG</td>\n",
       "      <td>2020-01-01</td>\n",
       "      <td>No</td>\n",
       "      <td>Month-to-month</td>\n",
       "      <td>Yes</td>\n",
       "      <td>Electronic check</td>\n",
       "      <td>29.85</td>\n",
       "      <td>29.85</td>\n",
       "    </tr>\n",
       "    <tr>\n",
       "      <th>1</th>\n",
       "      <td>5575-GNVDE</td>\n",
       "      <td>2017-04-01</td>\n",
       "      <td>No</td>\n",
       "      <td>One year</td>\n",
       "      <td>No</td>\n",
       "      <td>Mailed check</td>\n",
       "      <td>56.95</td>\n",
       "      <td>1889.5</td>\n",
       "    </tr>\n",
       "    <tr>\n",
       "      <th>2</th>\n",
       "      <td>3668-QPYBK</td>\n",
       "      <td>2019-10-01</td>\n",
       "      <td>2019-12-01 00:00:00</td>\n",
       "      <td>Month-to-month</td>\n",
       "      <td>Yes</td>\n",
       "      <td>Mailed check</td>\n",
       "      <td>53.85</td>\n",
       "      <td>108.15</td>\n",
       "    </tr>\n",
       "    <tr>\n",
       "      <th>3</th>\n",
       "      <td>7795-CFOCW</td>\n",
       "      <td>2016-05-01</td>\n",
       "      <td>No</td>\n",
       "      <td>One year</td>\n",
       "      <td>No</td>\n",
       "      <td>Bank transfer (automatic)</td>\n",
       "      <td>42.30</td>\n",
       "      <td>1840.75</td>\n",
       "    </tr>\n",
       "    <tr>\n",
       "      <th>4</th>\n",
       "      <td>9237-HQITU</td>\n",
       "      <td>2019-09-01</td>\n",
       "      <td>2019-11-01 00:00:00</td>\n",
       "      <td>Month-to-month</td>\n",
       "      <td>Yes</td>\n",
       "      <td>Electronic check</td>\n",
       "      <td>70.70</td>\n",
       "      <td>151.65</td>\n",
       "    </tr>\n",
       "  </tbody>\n",
       "</table>\n",
       "</div>"
      ],
      "text/plain": [
       "   customerID   BeginDate              EndDate            Type  \\\n",
       "0  7590-VHVEG  2020-01-01                   No  Month-to-month   \n",
       "1  5575-GNVDE  2017-04-01                   No        One year   \n",
       "2  3668-QPYBK  2019-10-01  2019-12-01 00:00:00  Month-to-month   \n",
       "3  7795-CFOCW  2016-05-01                   No        One year   \n",
       "4  9237-HQITU  2019-09-01  2019-11-01 00:00:00  Month-to-month   \n",
       "\n",
       "  PaperlessBilling              PaymentMethod  MonthlyCharges TotalCharges  \n",
       "0              Yes           Electronic check           29.85        29.85  \n",
       "1               No               Mailed check           56.95       1889.5  \n",
       "2              Yes               Mailed check           53.85       108.15  \n",
       "3               No  Bank transfer (automatic)           42.30      1840.75  \n",
       "4              Yes           Electronic check           70.70       151.65  "
      ]
     },
     "metadata": {},
     "output_type": "display_data"
    },
    {
     "data": {
      "text/plain": [
       "'##############################################'"
      ]
     },
     "metadata": {},
     "output_type": "display_data"
    },
    {
     "name": "stdout",
     "output_type": "stream",
     "text": [
      "<class 'pandas.core.frame.DataFrame'>\n",
      "RangeIndex: 7043 entries, 0 to 7042\n",
      "Data columns (total 8 columns):\n",
      " #   Column            Non-Null Count  Dtype  \n",
      "---  ------            --------------  -----  \n",
      " 0   customerID        7043 non-null   object \n",
      " 1   BeginDate         7043 non-null   object \n",
      " 2   EndDate           7043 non-null   object \n",
      " 3   Type              7043 non-null   object \n",
      " 4   PaperlessBilling  7043 non-null   object \n",
      " 5   PaymentMethod     7043 non-null   object \n",
      " 6   MonthlyCharges    7043 non-null   float64\n",
      " 7   TotalCharges      7043 non-null   object \n",
      "dtypes: float64(1), object(7)\n",
      "memory usage: 440.3+ KB\n"
     ]
    },
    {
     "data": {
      "text/plain": [
       "None"
      ]
     },
     "metadata": {},
     "output_type": "display_data"
    },
    {
     "data": {
      "text/plain": [
       "'##############################################'"
      ]
     },
     "metadata": {},
     "output_type": "display_data"
    },
    {
     "data": {
      "text/plain": [
       "'Описание данных'"
      ]
     },
     "metadata": {},
     "output_type": "display_data"
    },
    {
     "data": {
      "text/html": [
       "<div>\n",
       "<style scoped>\n",
       "    .dataframe tbody tr th:only-of-type {\n",
       "        vertical-align: middle;\n",
       "    }\n",
       "\n",
       "    .dataframe tbody tr th {\n",
       "        vertical-align: top;\n",
       "    }\n",
       "\n",
       "    .dataframe thead th {\n",
       "        text-align: right;\n",
       "    }\n",
       "</style>\n",
       "<table border=\"1\" class=\"dataframe\">\n",
       "  <thead>\n",
       "    <tr style=\"text-align: right;\">\n",
       "      <th></th>\n",
       "      <th>count</th>\n",
       "      <th>unique</th>\n",
       "      <th>top</th>\n",
       "      <th>freq</th>\n",
       "      <th>mean</th>\n",
       "      <th>std</th>\n",
       "      <th>min</th>\n",
       "      <th>25%</th>\n",
       "      <th>50%</th>\n",
       "      <th>75%</th>\n",
       "      <th>max</th>\n",
       "    </tr>\n",
       "  </thead>\n",
       "  <tbody>\n",
       "    <tr>\n",
       "      <th>customerID</th>\n",
       "      <td>7043</td>\n",
       "      <td>7043</td>\n",
       "      <td>7590-VHVEG</td>\n",
       "      <td>1</td>\n",
       "      <td>NaN</td>\n",
       "      <td>NaN</td>\n",
       "      <td>NaN</td>\n",
       "      <td>NaN</td>\n",
       "      <td>NaN</td>\n",
       "      <td>NaN</td>\n",
       "      <td>NaN</td>\n",
       "    </tr>\n",
       "    <tr>\n",
       "      <th>BeginDate</th>\n",
       "      <td>7043</td>\n",
       "      <td>77</td>\n",
       "      <td>2014-02-01</td>\n",
       "      <td>366</td>\n",
       "      <td>NaN</td>\n",
       "      <td>NaN</td>\n",
       "      <td>NaN</td>\n",
       "      <td>NaN</td>\n",
       "      <td>NaN</td>\n",
       "      <td>NaN</td>\n",
       "      <td>NaN</td>\n",
       "    </tr>\n",
       "    <tr>\n",
       "      <th>EndDate</th>\n",
       "      <td>7043</td>\n",
       "      <td>5</td>\n",
       "      <td>No</td>\n",
       "      <td>5174</td>\n",
       "      <td>NaN</td>\n",
       "      <td>NaN</td>\n",
       "      <td>NaN</td>\n",
       "      <td>NaN</td>\n",
       "      <td>NaN</td>\n",
       "      <td>NaN</td>\n",
       "      <td>NaN</td>\n",
       "    </tr>\n",
       "    <tr>\n",
       "      <th>Type</th>\n",
       "      <td>7043</td>\n",
       "      <td>3</td>\n",
       "      <td>Month-to-month</td>\n",
       "      <td>3875</td>\n",
       "      <td>NaN</td>\n",
       "      <td>NaN</td>\n",
       "      <td>NaN</td>\n",
       "      <td>NaN</td>\n",
       "      <td>NaN</td>\n",
       "      <td>NaN</td>\n",
       "      <td>NaN</td>\n",
       "    </tr>\n",
       "    <tr>\n",
       "      <th>PaperlessBilling</th>\n",
       "      <td>7043</td>\n",
       "      <td>2</td>\n",
       "      <td>Yes</td>\n",
       "      <td>4171</td>\n",
       "      <td>NaN</td>\n",
       "      <td>NaN</td>\n",
       "      <td>NaN</td>\n",
       "      <td>NaN</td>\n",
       "      <td>NaN</td>\n",
       "      <td>NaN</td>\n",
       "      <td>NaN</td>\n",
       "    </tr>\n",
       "    <tr>\n",
       "      <th>PaymentMethod</th>\n",
       "      <td>7043</td>\n",
       "      <td>4</td>\n",
       "      <td>Electronic check</td>\n",
       "      <td>2365</td>\n",
       "      <td>NaN</td>\n",
       "      <td>NaN</td>\n",
       "      <td>NaN</td>\n",
       "      <td>NaN</td>\n",
       "      <td>NaN</td>\n",
       "      <td>NaN</td>\n",
       "      <td>NaN</td>\n",
       "    </tr>\n",
       "    <tr>\n",
       "      <th>MonthlyCharges</th>\n",
       "      <td>7043.0</td>\n",
       "      <td>NaN</td>\n",
       "      <td>NaN</td>\n",
       "      <td>NaN</td>\n",
       "      <td>64.761692</td>\n",
       "      <td>30.090047</td>\n",
       "      <td>18.25</td>\n",
       "      <td>35.5</td>\n",
       "      <td>70.35</td>\n",
       "      <td>89.85</td>\n",
       "      <td>118.75</td>\n",
       "    </tr>\n",
       "    <tr>\n",
       "      <th>TotalCharges</th>\n",
       "      <td>7043</td>\n",
       "      <td>6531</td>\n",
       "      <td></td>\n",
       "      <td>11</td>\n",
       "      <td>NaN</td>\n",
       "      <td>NaN</td>\n",
       "      <td>NaN</td>\n",
       "      <td>NaN</td>\n",
       "      <td>NaN</td>\n",
       "      <td>NaN</td>\n",
       "      <td>NaN</td>\n",
       "    </tr>\n",
       "  </tbody>\n",
       "</table>\n",
       "</div>"
      ],
      "text/plain": [
       "                   count unique               top  freq       mean        std  \\\n",
       "customerID          7043   7043        7590-VHVEG     1        NaN        NaN   \n",
       "BeginDate           7043     77        2014-02-01   366        NaN        NaN   \n",
       "EndDate             7043      5                No  5174        NaN        NaN   \n",
       "Type                7043      3    Month-to-month  3875        NaN        NaN   \n",
       "PaperlessBilling    7043      2               Yes  4171        NaN        NaN   \n",
       "PaymentMethod       7043      4  Electronic check  2365        NaN        NaN   \n",
       "MonthlyCharges    7043.0    NaN               NaN   NaN  64.761692  30.090047   \n",
       "TotalCharges        7043   6531                      11        NaN        NaN   \n",
       "\n",
       "                    min   25%    50%    75%     max  \n",
       "customerID          NaN   NaN    NaN    NaN     NaN  \n",
       "BeginDate           NaN   NaN    NaN    NaN     NaN  \n",
       "EndDate             NaN   NaN    NaN    NaN     NaN  \n",
       "Type                NaN   NaN    NaN    NaN     NaN  \n",
       "PaperlessBilling    NaN   NaN    NaN    NaN     NaN  \n",
       "PaymentMethod       NaN   NaN    NaN    NaN     NaN  \n",
       "MonthlyCharges    18.25  35.5  70.35  89.85  118.75  \n",
       "TotalCharges        NaN   NaN    NaN    NaN     NaN  "
      ]
     },
     "metadata": {},
     "output_type": "display_data"
    },
    {
     "data": {
      "text/plain": [
       "'##############################################'"
      ]
     },
     "metadata": {},
     "output_type": "display_data"
    },
    {
     "data": {
      "text/plain": [
       "'Количество пропусков'"
      ]
     },
     "metadata": {},
     "output_type": "display_data"
    },
    {
     "data": {
      "text/plain": [
       "customerID          0\n",
       "BeginDate           0\n",
       "EndDate             0\n",
       "Type                0\n",
       "PaperlessBilling    0\n",
       "PaymentMethod       0\n",
       "MonthlyCharges      0\n",
       "TotalCharges        0\n",
       "dtype: int64"
      ]
     },
     "metadata": {},
     "output_type": "display_data"
    }
   ],
   "source": [
    "describe(df_contract)"
   ]
  },
  {
   "cell_type": "code",
   "execution_count": 10,
   "id": "ee2b8268",
   "metadata": {
    "scrolled": true
   },
   "outputs": [
    {
     "data": {
      "text/plain": [
       "No                     5174\n",
       "2019-11-01 00:00:00     485\n",
       "2019-12-01 00:00:00     466\n",
       "2020-01-01 00:00:00     460\n",
       "2019-10-01 00:00:00     458\n",
       "Name: EndDate, dtype: int64"
      ]
     },
     "execution_count": 10,
     "metadata": {},
     "output_type": "execute_result"
    }
   ],
   "source": [
    "df_contract['EndDate'].value_counts()"
   ]
  },
  {
   "cell_type": "markdown",
   "id": "2b954954",
   "metadata": {},
   "source": [
    "По полученной информации о данных можно отметить:\n",
    "   - в таблице 7043 записей;\n",
    "   - значения в столбце *CustomerId* уникальны;\n",
    "   - в столбце *EndDate* всего 5 уникальных значений, т.е. всего 4 уникальные даты. Вероятно оператор обновлял статус контрактов в эти даты;\n",
    "   - все столбцы кроме *MonthlyCharges* имеют формат object. Для столбцов с датами и расходами необходимо будет изменить формат;\n",
    "   - в столбце EndDate есть значения \"No\", что означает, что контракт действовал на 1 февраля 2020 года. Необходимо будет заменить значения на дату среза."
   ]
  },
  {
   "cell_type": "markdown",
   "id": "682be5c6",
   "metadata": {},
   "source": [
    "Изменим формат для столбцов начала и окончания контракта:"
   ]
  },
  {
   "cell_type": "code",
   "execution_count": 11,
   "id": "9b98c7ec",
   "metadata": {
    "scrolled": false
   },
   "outputs": [
    {
     "name": "stderr",
     "output_type": "stream",
     "text": [
      "/var/folders/l7/5cd_m6hn1rl9r89zycsz4t400000gn/T/ipykernel_32972/580642801.py:3: FutureWarning: Treating datetime data as categorical rather than numeric in `.describe` is deprecated and will be removed in a future version of pandas. Specify `datetime_is_numeric=True` to silence this warning and adopt the future behavior now.\n",
      "  df_contract['BeginDate'].describe()\n"
     ]
    },
    {
     "data": {
      "text/plain": [
       "count                    7043\n",
       "unique                     77\n",
       "top       2014-02-01 00:00:00\n",
       "freq                      366\n",
       "first     2013-10-01 00:00:00\n",
       "last      2020-02-01 00:00:00\n",
       "Name: BeginDate, dtype: object"
      ]
     },
     "execution_count": 11,
     "metadata": {},
     "output_type": "execute_result"
    }
   ],
   "source": [
    "df_contract['BeginDate'] = pd.to_datetime(df_contract['BeginDate'], format = '%Y %m %d')\n",
    "df_contract['BeginDate'].describe(datetime_is_numeric = True)\n",
    "df_contract['BeginDate'].describe()"
   ]
  },
  {
   "cell_type": "markdown",
   "id": "3f90925a",
   "metadata": {},
   "source": [
    "Изменив формат, видно, что для определенных клиентов дата начала контракта была равной дате итогового среза - *2020-02-01*. Соответственно, можно сделать вывод, что они не успели воспользоваться услугами оператора.\n",
    "\n",
    "Далее для столбца с датой окончания контракта предварительно заменим значение *No* на дату среза - *2020-02-01*:"
   ]
  },
  {
   "cell_type": "code",
   "execution_count": 12,
   "id": "f67f58be",
   "metadata": {},
   "outputs": [],
   "source": [
    "df_contract['EndDate'] = df_contract['EndDate'].replace('No', '2020-02-01')"
   ]
  },
  {
   "cell_type": "markdown",
   "id": "7030ea4e",
   "metadata": {},
   "source": [
    "___\n",
    "**В дальнейшем необходимо будет учесть, что в таблице наблюдается дисбаланс классов, так как ушедших клиентов не более четверти от всего списка.**\n",
    "___"
   ]
  },
  {
   "cell_type": "code",
   "execution_count": 13,
   "id": "65c6b798",
   "metadata": {},
   "outputs": [
    {
     "data": {
      "text/plain": [
       "count                             7043\n",
       "mean     2020-01-11 12:56:19.696152320\n",
       "min                2019-10-01 00:00:00\n",
       "25%                2020-01-01 00:00:00\n",
       "50%                2020-02-01 00:00:00\n",
       "75%                2020-02-01 00:00:00\n",
       "max                2020-02-01 00:00:00\n",
       "Name: EndDate, dtype: object"
      ]
     },
     "execution_count": 13,
     "metadata": {},
     "output_type": "execute_result"
    }
   ],
   "source": [
    "df_contract['EndDate'] = pd.to_datetime(df_contract['EndDate'], format = '%Y %m %d')\n",
    "df_contract['EndDate'].describe(datetime_is_numeric = True)\n",
    "#df_contract['EndDate'].describe()"
   ]
  },
  {
   "cell_type": "code",
   "execution_count": 14,
   "id": "d8c935de",
   "metadata": {},
   "outputs": [
    {
     "data": {
      "text/html": [
       "<div>\n",
       "<style scoped>\n",
       "    .dataframe tbody tr th:only-of-type {\n",
       "        vertical-align: middle;\n",
       "    }\n",
       "\n",
       "    .dataframe tbody tr th {\n",
       "        vertical-align: top;\n",
       "    }\n",
       "\n",
       "    .dataframe thead th {\n",
       "        text-align: right;\n",
       "    }\n",
       "</style>\n",
       "<table border=\"1\" class=\"dataframe\">\n",
       "  <thead>\n",
       "    <tr style=\"text-align: right;\">\n",
       "      <th></th>\n",
       "      <th>customerID</th>\n",
       "      <th>BeginDate</th>\n",
       "      <th>EndDate</th>\n",
       "      <th>Type</th>\n",
       "      <th>PaperlessBilling</th>\n",
       "      <th>PaymentMethod</th>\n",
       "      <th>MonthlyCharges</th>\n",
       "      <th>TotalCharges</th>\n",
       "    </tr>\n",
       "  </thead>\n",
       "  <tbody>\n",
       "    <tr>\n",
       "      <th>488</th>\n",
       "      <td>4472-LVYGI</td>\n",
       "      <td>2020-02-01</td>\n",
       "      <td>2020-02-01</td>\n",
       "      <td>Two year</td>\n",
       "      <td>Yes</td>\n",
       "      <td>Bank transfer (automatic)</td>\n",
       "      <td>52.55</td>\n",
       "      <td></td>\n",
       "    </tr>\n",
       "    <tr>\n",
       "      <th>753</th>\n",
       "      <td>3115-CZMZD</td>\n",
       "      <td>2020-02-01</td>\n",
       "      <td>2020-02-01</td>\n",
       "      <td>Two year</td>\n",
       "      <td>No</td>\n",
       "      <td>Mailed check</td>\n",
       "      <td>20.25</td>\n",
       "      <td></td>\n",
       "    </tr>\n",
       "    <tr>\n",
       "      <th>936</th>\n",
       "      <td>5709-LVOEQ</td>\n",
       "      <td>2020-02-01</td>\n",
       "      <td>2020-02-01</td>\n",
       "      <td>Two year</td>\n",
       "      <td>No</td>\n",
       "      <td>Mailed check</td>\n",
       "      <td>80.85</td>\n",
       "      <td></td>\n",
       "    </tr>\n",
       "    <tr>\n",
       "      <th>1082</th>\n",
       "      <td>4367-NUYAO</td>\n",
       "      <td>2020-02-01</td>\n",
       "      <td>2020-02-01</td>\n",
       "      <td>Two year</td>\n",
       "      <td>No</td>\n",
       "      <td>Mailed check</td>\n",
       "      <td>25.75</td>\n",
       "      <td></td>\n",
       "    </tr>\n",
       "    <tr>\n",
       "      <th>1340</th>\n",
       "      <td>1371-DWPAZ</td>\n",
       "      <td>2020-02-01</td>\n",
       "      <td>2020-02-01</td>\n",
       "      <td>Two year</td>\n",
       "      <td>No</td>\n",
       "      <td>Credit card (automatic)</td>\n",
       "      <td>56.05</td>\n",
       "      <td></td>\n",
       "    </tr>\n",
       "    <tr>\n",
       "      <th>3331</th>\n",
       "      <td>7644-OMVMY</td>\n",
       "      <td>2020-02-01</td>\n",
       "      <td>2020-02-01</td>\n",
       "      <td>Two year</td>\n",
       "      <td>No</td>\n",
       "      <td>Mailed check</td>\n",
       "      <td>19.85</td>\n",
       "      <td></td>\n",
       "    </tr>\n",
       "    <tr>\n",
       "      <th>3826</th>\n",
       "      <td>3213-VVOLG</td>\n",
       "      <td>2020-02-01</td>\n",
       "      <td>2020-02-01</td>\n",
       "      <td>Two year</td>\n",
       "      <td>No</td>\n",
       "      <td>Mailed check</td>\n",
       "      <td>25.35</td>\n",
       "      <td></td>\n",
       "    </tr>\n",
       "    <tr>\n",
       "      <th>4380</th>\n",
       "      <td>2520-SGTTA</td>\n",
       "      <td>2020-02-01</td>\n",
       "      <td>2020-02-01</td>\n",
       "      <td>Two year</td>\n",
       "      <td>No</td>\n",
       "      <td>Mailed check</td>\n",
       "      <td>20.00</td>\n",
       "      <td></td>\n",
       "    </tr>\n",
       "    <tr>\n",
       "      <th>5218</th>\n",
       "      <td>2923-ARZLG</td>\n",
       "      <td>2020-02-01</td>\n",
       "      <td>2020-02-01</td>\n",
       "      <td>One year</td>\n",
       "      <td>Yes</td>\n",
       "      <td>Mailed check</td>\n",
       "      <td>19.70</td>\n",
       "      <td></td>\n",
       "    </tr>\n",
       "    <tr>\n",
       "      <th>6670</th>\n",
       "      <td>4075-WKNIU</td>\n",
       "      <td>2020-02-01</td>\n",
       "      <td>2020-02-01</td>\n",
       "      <td>Two year</td>\n",
       "      <td>No</td>\n",
       "      <td>Mailed check</td>\n",
       "      <td>73.35</td>\n",
       "      <td></td>\n",
       "    </tr>\n",
       "    <tr>\n",
       "      <th>6754</th>\n",
       "      <td>2775-SEFEE</td>\n",
       "      <td>2020-02-01</td>\n",
       "      <td>2020-02-01</td>\n",
       "      <td>Two year</td>\n",
       "      <td>Yes</td>\n",
       "      <td>Bank transfer (automatic)</td>\n",
       "      <td>61.90</td>\n",
       "      <td></td>\n",
       "    </tr>\n",
       "  </tbody>\n",
       "</table>\n",
       "</div>"
      ],
      "text/plain": [
       "      customerID  BeginDate    EndDate      Type PaperlessBilling  \\\n",
       "488   4472-LVYGI 2020-02-01 2020-02-01  Two year              Yes   \n",
       "753   3115-CZMZD 2020-02-01 2020-02-01  Two year               No   \n",
       "936   5709-LVOEQ 2020-02-01 2020-02-01  Two year               No   \n",
       "1082  4367-NUYAO 2020-02-01 2020-02-01  Two year               No   \n",
       "1340  1371-DWPAZ 2020-02-01 2020-02-01  Two year               No   \n",
       "3331  7644-OMVMY 2020-02-01 2020-02-01  Two year               No   \n",
       "3826  3213-VVOLG 2020-02-01 2020-02-01  Two year               No   \n",
       "4380  2520-SGTTA 2020-02-01 2020-02-01  Two year               No   \n",
       "5218  2923-ARZLG 2020-02-01 2020-02-01  One year              Yes   \n",
       "6670  4075-WKNIU 2020-02-01 2020-02-01  Two year               No   \n",
       "6754  2775-SEFEE 2020-02-01 2020-02-01  Two year              Yes   \n",
       "\n",
       "                  PaymentMethod  MonthlyCharges TotalCharges  \n",
       "488   Bank transfer (automatic)           52.55               \n",
       "753                Mailed check           20.25               \n",
       "936                Mailed check           80.85               \n",
       "1082               Mailed check           25.75               \n",
       "1340    Credit card (automatic)           56.05               \n",
       "3331               Mailed check           19.85               \n",
       "3826               Mailed check           25.35               \n",
       "4380               Mailed check           20.00               \n",
       "5218               Mailed check           19.70               \n",
       "6670               Mailed check           73.35               \n",
       "6754  Bank transfer (automatic)           61.90               "
      ]
     },
     "execution_count": 14,
     "metadata": {},
     "output_type": "execute_result"
    }
   ],
   "source": [
    "df_contract.query('BeginDate == \"2020-02-01\"')"
   ]
  },
  {
   "cell_type": "markdown",
   "id": "07975659",
   "metadata": {},
   "source": [
    "Если обратить внимание на новых клиентов, которые только подключились к оператору, можно заметить, что у них указана, только стоимость тарифа в *MonthlyCharges*,  а суммарных расходов они еще не успели понести и значения в столбце *TotalCharges* пропущены. Лучше заменить их на 0, тогда в дальнейшем не будет сложностей с переводом данного столбца в формат численных данных."
   ]
  },
  {
   "cell_type": "code",
   "execution_count": 15,
   "id": "599fd040",
   "metadata": {},
   "outputs": [],
   "source": [
    "df_contract.loc[(df_contract['BeginDate'] == \"2020-02-01\"), 'TotalCharges'] = 0"
   ]
  },
  {
   "cell_type": "code",
   "execution_count": 16,
   "id": "5b9985fe",
   "metadata": {},
   "outputs": [],
   "source": [
    "df_contract['TotalCharges']= pd.to_numeric(df_contract['TotalCharges'], errors='coerce')"
   ]
  },
  {
   "cell_type": "markdown",
   "id": "5f69c9a5",
   "metadata": {},
   "source": [
    "Таким образом, были произведены необходимые действия по изменению формата данных в данной таблице. Можно проверить, что все строки в столбце *TotalCharges* поменялись без ошибок:"
   ]
  },
  {
   "cell_type": "code",
   "execution_count": 17,
   "id": "9b4c0153",
   "metadata": {
    "scrolled": false
   },
   "outputs": [
    {
     "data": {
      "text/plain": [
       "0"
      ]
     },
     "execution_count": 17,
     "metadata": {},
     "output_type": "execute_result"
    }
   ],
   "source": [
    "df_contract['TotalCharges'].isna().sum()"
   ]
  },
  {
   "cell_type": "markdown",
   "id": "acfce9c7",
   "metadata": {},
   "source": [
    "Для проверки также можно посчитать была ли отрицательная разница между общими затратами и ежемесячными:"
   ]
  },
  {
   "cell_type": "code",
   "execution_count": 18,
   "id": "ee183b06",
   "metadata": {
    "scrolled": true
   },
   "outputs": [
    {
     "data": {
      "text/html": [
       "<div>\n",
       "<style scoped>\n",
       "    .dataframe tbody tr th:only-of-type {\n",
       "        vertical-align: middle;\n",
       "    }\n",
       "\n",
       "    .dataframe tbody tr th {\n",
       "        vertical-align: top;\n",
       "    }\n",
       "\n",
       "    .dataframe thead th {\n",
       "        text-align: right;\n",
       "    }\n",
       "</style>\n",
       "<table border=\"1\" class=\"dataframe\">\n",
       "  <thead>\n",
       "    <tr style=\"text-align: right;\">\n",
       "      <th></th>\n",
       "      <th>customerID</th>\n",
       "      <th>BeginDate</th>\n",
       "      <th>EndDate</th>\n",
       "      <th>Type</th>\n",
       "      <th>PaperlessBilling</th>\n",
       "      <th>PaymentMethod</th>\n",
       "      <th>MonthlyCharges</th>\n",
       "      <th>TotalCharges</th>\n",
       "      <th>ChargesDelta</th>\n",
       "    </tr>\n",
       "  </thead>\n",
       "  <tbody>\n",
       "    <tr>\n",
       "      <th>488</th>\n",
       "      <td>4472-LVYGI</td>\n",
       "      <td>2020-02-01</td>\n",
       "      <td>2020-02-01</td>\n",
       "      <td>Two year</td>\n",
       "      <td>Yes</td>\n",
       "      <td>Bank transfer (automatic)</td>\n",
       "      <td>52.55</td>\n",
       "      <td>0.0</td>\n",
       "      <td>-52.55</td>\n",
       "    </tr>\n",
       "    <tr>\n",
       "      <th>753</th>\n",
       "      <td>3115-CZMZD</td>\n",
       "      <td>2020-02-01</td>\n",
       "      <td>2020-02-01</td>\n",
       "      <td>Two year</td>\n",
       "      <td>No</td>\n",
       "      <td>Mailed check</td>\n",
       "      <td>20.25</td>\n",
       "      <td>0.0</td>\n",
       "      <td>-20.25</td>\n",
       "    </tr>\n",
       "    <tr>\n",
       "      <th>936</th>\n",
       "      <td>5709-LVOEQ</td>\n",
       "      <td>2020-02-01</td>\n",
       "      <td>2020-02-01</td>\n",
       "      <td>Two year</td>\n",
       "      <td>No</td>\n",
       "      <td>Mailed check</td>\n",
       "      <td>80.85</td>\n",
       "      <td>0.0</td>\n",
       "      <td>-80.85</td>\n",
       "    </tr>\n",
       "    <tr>\n",
       "      <th>1082</th>\n",
       "      <td>4367-NUYAO</td>\n",
       "      <td>2020-02-01</td>\n",
       "      <td>2020-02-01</td>\n",
       "      <td>Two year</td>\n",
       "      <td>No</td>\n",
       "      <td>Mailed check</td>\n",
       "      <td>25.75</td>\n",
       "      <td>0.0</td>\n",
       "      <td>-25.75</td>\n",
       "    </tr>\n",
       "    <tr>\n",
       "      <th>1340</th>\n",
       "      <td>1371-DWPAZ</td>\n",
       "      <td>2020-02-01</td>\n",
       "      <td>2020-02-01</td>\n",
       "      <td>Two year</td>\n",
       "      <td>No</td>\n",
       "      <td>Credit card (automatic)</td>\n",
       "      <td>56.05</td>\n",
       "      <td>0.0</td>\n",
       "      <td>-56.05</td>\n",
       "    </tr>\n",
       "    <tr>\n",
       "      <th>3331</th>\n",
       "      <td>7644-OMVMY</td>\n",
       "      <td>2020-02-01</td>\n",
       "      <td>2020-02-01</td>\n",
       "      <td>Two year</td>\n",
       "      <td>No</td>\n",
       "      <td>Mailed check</td>\n",
       "      <td>19.85</td>\n",
       "      <td>0.0</td>\n",
       "      <td>-19.85</td>\n",
       "    </tr>\n",
       "    <tr>\n",
       "      <th>3826</th>\n",
       "      <td>3213-VVOLG</td>\n",
       "      <td>2020-02-01</td>\n",
       "      <td>2020-02-01</td>\n",
       "      <td>Two year</td>\n",
       "      <td>No</td>\n",
       "      <td>Mailed check</td>\n",
       "      <td>25.35</td>\n",
       "      <td>0.0</td>\n",
       "      <td>-25.35</td>\n",
       "    </tr>\n",
       "    <tr>\n",
       "      <th>4380</th>\n",
       "      <td>2520-SGTTA</td>\n",
       "      <td>2020-02-01</td>\n",
       "      <td>2020-02-01</td>\n",
       "      <td>Two year</td>\n",
       "      <td>No</td>\n",
       "      <td>Mailed check</td>\n",
       "      <td>20.00</td>\n",
       "      <td>0.0</td>\n",
       "      <td>-20.00</td>\n",
       "    </tr>\n",
       "    <tr>\n",
       "      <th>5218</th>\n",
       "      <td>2923-ARZLG</td>\n",
       "      <td>2020-02-01</td>\n",
       "      <td>2020-02-01</td>\n",
       "      <td>One year</td>\n",
       "      <td>Yes</td>\n",
       "      <td>Mailed check</td>\n",
       "      <td>19.70</td>\n",
       "      <td>0.0</td>\n",
       "      <td>-19.70</td>\n",
       "    </tr>\n",
       "    <tr>\n",
       "      <th>6670</th>\n",
       "      <td>4075-WKNIU</td>\n",
       "      <td>2020-02-01</td>\n",
       "      <td>2020-02-01</td>\n",
       "      <td>Two year</td>\n",
       "      <td>No</td>\n",
       "      <td>Mailed check</td>\n",
       "      <td>73.35</td>\n",
       "      <td>0.0</td>\n",
       "      <td>-73.35</td>\n",
       "    </tr>\n",
       "    <tr>\n",
       "      <th>6754</th>\n",
       "      <td>2775-SEFEE</td>\n",
       "      <td>2020-02-01</td>\n",
       "      <td>2020-02-01</td>\n",
       "      <td>Two year</td>\n",
       "      <td>Yes</td>\n",
       "      <td>Bank transfer (automatic)</td>\n",
       "      <td>61.90</td>\n",
       "      <td>0.0</td>\n",
       "      <td>-61.90</td>\n",
       "    </tr>\n",
       "  </tbody>\n",
       "</table>\n",
       "</div>"
      ],
      "text/plain": [
       "      customerID  BeginDate    EndDate      Type PaperlessBilling  \\\n",
       "488   4472-LVYGI 2020-02-01 2020-02-01  Two year              Yes   \n",
       "753   3115-CZMZD 2020-02-01 2020-02-01  Two year               No   \n",
       "936   5709-LVOEQ 2020-02-01 2020-02-01  Two year               No   \n",
       "1082  4367-NUYAO 2020-02-01 2020-02-01  Two year               No   \n",
       "1340  1371-DWPAZ 2020-02-01 2020-02-01  Two year               No   \n",
       "3331  7644-OMVMY 2020-02-01 2020-02-01  Two year               No   \n",
       "3826  3213-VVOLG 2020-02-01 2020-02-01  Two year               No   \n",
       "4380  2520-SGTTA 2020-02-01 2020-02-01  Two year               No   \n",
       "5218  2923-ARZLG 2020-02-01 2020-02-01  One year              Yes   \n",
       "6670  4075-WKNIU 2020-02-01 2020-02-01  Two year               No   \n",
       "6754  2775-SEFEE 2020-02-01 2020-02-01  Two year              Yes   \n",
       "\n",
       "                  PaymentMethod  MonthlyCharges  TotalCharges  ChargesDelta  \n",
       "488   Bank transfer (automatic)           52.55           0.0        -52.55  \n",
       "753                Mailed check           20.25           0.0        -20.25  \n",
       "936                Mailed check           80.85           0.0        -80.85  \n",
       "1082               Mailed check           25.75           0.0        -25.75  \n",
       "1340    Credit card (automatic)           56.05           0.0        -56.05  \n",
       "3331               Mailed check           19.85           0.0        -19.85  \n",
       "3826               Mailed check           25.35           0.0        -25.35  \n",
       "4380               Mailed check           20.00           0.0        -20.00  \n",
       "5218               Mailed check           19.70           0.0        -19.70  \n",
       "6670               Mailed check           73.35           0.0        -73.35  \n",
       "6754  Bank transfer (automatic)           61.90           0.0        -61.90  "
      ]
     },
     "execution_count": 18,
     "metadata": {},
     "output_type": "execute_result"
    }
   ],
   "source": [
    "df_contract['ChargesDelta'] = df_contract['TotalCharges'] - df_contract['MonthlyCharges']\n",
    "df_contract.query('ChargesDelta < 0')"
   ]
  },
  {
   "cell_type": "markdown",
   "id": "d046c5dd",
   "metadata": {},
   "source": [
    "Видно, что отрицательные значения характерны только для клиентов которые только подключились к февралю 2020 года. Таким образом, подозрительных значений в столбцах по затратам нет. Столбец можно удалить."
   ]
  },
  {
   "cell_type": "code",
   "execution_count": 19,
   "id": "42b2c48e",
   "metadata": {},
   "outputs": [],
   "source": [
    "df_contract = df_contract.drop('ChargesDelta', axis=1)"
   ]
  },
  {
   "cell_type": "code",
   "execution_count": 20,
   "id": "fec4a52c",
   "metadata": {
    "scrolled": false
   },
   "outputs": [
    {
     "data": {
      "image/png": "[encoded data removed]",
      "text/plain": [
       "<Figure size 1600x500 with 1 Axes>"
      ]
     },
     "metadata": {},
     "output_type": "display_data"
    }
   ],
   "source": [
    "df_contract['MonthlyCharges'].plot(kind='hist', figsize = (16,5), xticks=np.arange(0,140,5), bins = 20)\n",
    "plt.title('Распределение по сумме ежемесячных расходов')\n",
    "plt.show()"
   ]
  },
  {
   "cell_type": "markdown",
   "id": "e038c72e",
   "metadata": {},
   "source": [
    "По графику ежемесячных расходов видно, что преимущественная доля клиентов обслуживались по минимальному тарифу."
   ]
  },
  {
   "cell_type": "code",
   "execution_count": 21,
   "id": "ae7161ac",
   "metadata": {
    "scrolled": true
   },
   "outputs": [
    {
     "data": {
      "image/png": "[encoded data removed]",
      "text/plain": [
       "<Figure size 1600x500 with 1 Axes>"
      ]
     },
     "metadata": {},
     "output_type": "display_data"
    }
   ],
   "source": [
    "df_contract['TotalCharges'].plot(kind='hist', figsize = (16,5), bins = 20)\n",
    "plt.title('Распределение по сумме общих расходов')\n",
    "plt.show()"
   ]
  },
  {
   "cell_type": "code",
   "execution_count": 22,
   "id": "914228c4",
   "metadata": {
    "scrolled": true
   },
   "outputs": [
    {
     "data": {
      "text/plain": [
       "2020-01-01    175\n",
       "2019-12-01     78\n",
       "2019-11-01     50\n",
       "2019-09-01     31\n",
       "2019-10-01     30\n",
       "2020-02-01     11\n",
       "2019-08-01      1\n",
       "Name: BeginDate, dtype: int64"
      ]
     },
     "execution_count": 22,
     "metadata": {},
     "output_type": "execute_result"
    }
   ],
   "source": [
    "df_contract.query('TotalCharges < 50')['BeginDate'].value_counts()"
   ]
  },
  {
   "cell_type": "markdown",
   "id": "2388dc3b",
   "metadata": {},
   "source": [
    "Существенная доля минимальных затрат за весь период объясняется большим числом новых клиентов присоединившихся за 1-2 месяца до даты среза данных."
   ]
  },
  {
   "cell_type": "code",
   "execution_count": 23,
   "id": "8b8b8d0c",
   "metadata": {},
   "outputs": [
    {
     "data": {
      "text/plain": [
       "array(['Month-to-month', 'One year', 'Two year'], dtype=object)"
      ]
     },
     "execution_count": 23,
     "metadata": {},
     "output_type": "execute_result"
    }
   ],
   "source": [
    "df_contract['Type'].unique()"
   ]
  },
  {
   "cell_type": "code",
   "execution_count": 24,
   "id": "95e28b1e",
   "metadata": {},
   "outputs": [
    {
     "data": {
      "text/plain": [
       "array(['Yes', 'No'], dtype=object)"
      ]
     },
     "execution_count": 24,
     "metadata": {},
     "output_type": "execute_result"
    }
   ],
   "source": [
    "df_contract['PaperlessBilling'].unique()"
   ]
  },
  {
   "cell_type": "code",
   "execution_count": 25,
   "id": "394823be",
   "metadata": {},
   "outputs": [
    {
     "data": {
      "text/plain": [
       "array(['Electronic check', 'Mailed check', 'Bank transfer (automatic)',\n",
       "       'Credit card (automatic)'], dtype=object)"
      ]
     },
     "execution_count": 25,
     "metadata": {},
     "output_type": "execute_result"
    }
   ],
   "source": [
    "df_contract['PaymentMethod'].unique()"
   ]
  },
  {
   "cell_type": "markdown",
   "id": "f4310fa9",
   "metadata": {},
   "source": [
    "В столбцах *Type*, *PaperlessBilling* и *PaymentMethod* ошибок и скрытых дубликатов не обнаружено. Можно переходить к исследовательскому анализу следующей таблицы.\n",
    "___"
   ]
  },
  {
   "cell_type": "markdown",
   "id": "fb1aad82",
   "metadata": {},
   "source": [
    "Далее изучим таблицу personal (df_personal). Согласно документации к данным эта таблица содержит информацию о персональных данных клиентов:"
   ]
  },
  {
   "cell_type": "markdown",
   "id": "0a6b6514",
   "metadata": {},
   "source": [
    "- Dependents – наличие иждивенцев\n",
    "- Senior Citizen – наличие пенсионного статуса по возрасту\n",
    "- Partner – наличие супруга(и)"
   ]
  },
  {
   "cell_type": "code",
   "execution_count": 26,
   "id": "28af6a14",
   "metadata": {
    "scrolled": false
   },
   "outputs": [
    {
     "data": {
      "text/plain": [
       "'Первые 5 строк таблицы'"
      ]
     },
     "metadata": {},
     "output_type": "display_data"
    },
    {
     "data": {
      "text/html": [
       "<div>\n",
       "<style scoped>\n",
       "    .dataframe tbody tr th:only-of-type {\n",
       "        vertical-align: middle;\n",
       "    }\n",
       "\n",
       "    .dataframe tbody tr th {\n",
       "        vertical-align: top;\n",
       "    }\n",
       "\n",
       "    .dataframe thead th {\n",
       "        text-align: right;\n",
       "    }\n",
       "</style>\n",
       "<table border=\"1\" class=\"dataframe\">\n",
       "  <thead>\n",
       "    <tr style=\"text-align: right;\">\n",
       "      <th></th>\n",
       "      <th>customerID</th>\n",
       "      <th>gender</th>\n",
       "      <th>SeniorCitizen</th>\n",
       "      <th>Partner</th>\n",
       "      <th>Dependents</th>\n",
       "    </tr>\n",
       "  </thead>\n",
       "  <tbody>\n",
       "    <tr>\n",
       "      <th>0</th>\n",
       "      <td>7590-VHVEG</td>\n",
       "      <td>Female</td>\n",
       "      <td>0</td>\n",
       "      <td>Yes</td>\n",
       "      <td>No</td>\n",
       "    </tr>\n",
       "    <tr>\n",
       "      <th>1</th>\n",
       "      <td>5575-GNVDE</td>\n",
       "      <td>Male</td>\n",
       "      <td>0</td>\n",
       "      <td>No</td>\n",
       "      <td>No</td>\n",
       "    </tr>\n",
       "    <tr>\n",
       "      <th>2</th>\n",
       "      <td>3668-QPYBK</td>\n",
       "      <td>Male</td>\n",
       "      <td>0</td>\n",
       "      <td>No</td>\n",
       "      <td>No</td>\n",
       "    </tr>\n",
       "    <tr>\n",
       "      <th>3</th>\n",
       "      <td>7795-CFOCW</td>\n",
       "      <td>Male</td>\n",
       "      <td>0</td>\n",
       "      <td>No</td>\n",
       "      <td>No</td>\n",
       "    </tr>\n",
       "    <tr>\n",
       "      <th>4</th>\n",
       "      <td>9237-HQITU</td>\n",
       "      <td>Female</td>\n",
       "      <td>0</td>\n",
       "      <td>No</td>\n",
       "      <td>No</td>\n",
       "    </tr>\n",
       "  </tbody>\n",
       "</table>\n",
       "</div>"
      ],
      "text/plain": [
       "   customerID  gender  SeniorCitizen Partner Dependents\n",
       "0  7590-VHVEG  Female              0     Yes         No\n",
       "1  5575-GNVDE    Male              0      No         No\n",
       "2  3668-QPYBK    Male              0      No         No\n",
       "3  7795-CFOCW    Male              0      No         No\n",
       "4  9237-HQITU  Female              0      No         No"
      ]
     },
     "metadata": {},
     "output_type": "display_data"
    },
    {
     "data": {
      "text/plain": [
       "'##############################################'"
      ]
     },
     "metadata": {},
     "output_type": "display_data"
    },
    {
     "name": "stdout",
     "output_type": "stream",
     "text": [
      "<class 'pandas.core.frame.DataFrame'>\n",
      "RangeIndex: 7043 entries, 0 to 7042\n",
      "Data columns (total 5 columns):\n",
      " #   Column         Non-Null Count  Dtype \n",
      "---  ------         --------------  ----- \n",
      " 0   customerID     7043 non-null   object\n",
      " 1   gender         7043 non-null   object\n",
      " 2   SeniorCitizen  7043 non-null   int64 \n",
      " 3   Partner        7043 non-null   object\n",
      " 4   Dependents     7043 non-null   object\n",
      "dtypes: int64(1), object(4)\n",
      "memory usage: 275.2+ KB\n"
     ]
    },
    {
     "data": {
      "text/plain": [
       "None"
      ]
     },
     "metadata": {},
     "output_type": "display_data"
    },
    {
     "data": {
      "text/plain": [
       "'##############################################'"
      ]
     },
     "metadata": {},
     "output_type": "display_data"
    },
    {
     "data": {
      "text/plain": [
       "'Описание данных'"
      ]
     },
     "metadata": {},
     "output_type": "display_data"
    },
    {
     "data": {
      "text/html": [
       "<div>\n",
       "<style scoped>\n",
       "    .dataframe tbody tr th:only-of-type {\n",
       "        vertical-align: middle;\n",
       "    }\n",
       "\n",
       "    .dataframe tbody tr th {\n",
       "        vertical-align: top;\n",
       "    }\n",
       "\n",
       "    .dataframe thead th {\n",
       "        text-align: right;\n",
       "    }\n",
       "</style>\n",
       "<table border=\"1\" class=\"dataframe\">\n",
       "  <thead>\n",
       "    <tr style=\"text-align: right;\">\n",
       "      <th></th>\n",
       "      <th>count</th>\n",
       "      <th>unique</th>\n",
       "      <th>top</th>\n",
       "      <th>freq</th>\n",
       "      <th>mean</th>\n",
       "      <th>std</th>\n",
       "      <th>min</th>\n",
       "      <th>25%</th>\n",
       "      <th>50%</th>\n",
       "      <th>75%</th>\n",
       "      <th>max</th>\n",
       "    </tr>\n",
       "  </thead>\n",
       "  <tbody>\n",
       "    <tr>\n",
       "      <th>customerID</th>\n",
       "      <td>7043</td>\n",
       "      <td>7043</td>\n",
       "      <td>7590-VHVEG</td>\n",
       "      <td>1</td>\n",
       "      <td>NaN</td>\n",
       "      <td>NaN</td>\n",
       "      <td>NaN</td>\n",
       "      <td>NaN</td>\n",
       "      <td>NaN</td>\n",
       "      <td>NaN</td>\n",
       "      <td>NaN</td>\n",
       "    </tr>\n",
       "    <tr>\n",
       "      <th>gender</th>\n",
       "      <td>7043</td>\n",
       "      <td>2</td>\n",
       "      <td>Male</td>\n",
       "      <td>3555</td>\n",
       "      <td>NaN</td>\n",
       "      <td>NaN</td>\n",
       "      <td>NaN</td>\n",
       "      <td>NaN</td>\n",
       "      <td>NaN</td>\n",
       "      <td>NaN</td>\n",
       "      <td>NaN</td>\n",
       "    </tr>\n",
       "    <tr>\n",
       "      <th>SeniorCitizen</th>\n",
       "      <td>7043.0</td>\n",
       "      <td>NaN</td>\n",
       "      <td>NaN</td>\n",
       "      <td>NaN</td>\n",
       "      <td>0.162147</td>\n",
       "      <td>0.368612</td>\n",
       "      <td>0.0</td>\n",
       "      <td>0.0</td>\n",
       "      <td>0.0</td>\n",
       "      <td>0.0</td>\n",
       "      <td>1.0</td>\n",
       "    </tr>\n",
       "    <tr>\n",
       "      <th>Partner</th>\n",
       "      <td>7043</td>\n",
       "      <td>2</td>\n",
       "      <td>No</td>\n",
       "      <td>3641</td>\n",
       "      <td>NaN</td>\n",
       "      <td>NaN</td>\n",
       "      <td>NaN</td>\n",
       "      <td>NaN</td>\n",
       "      <td>NaN</td>\n",
       "      <td>NaN</td>\n",
       "      <td>NaN</td>\n",
       "    </tr>\n",
       "    <tr>\n",
       "      <th>Dependents</th>\n",
       "      <td>7043</td>\n",
       "      <td>2</td>\n",
       "      <td>No</td>\n",
       "      <td>4933</td>\n",
       "      <td>NaN</td>\n",
       "      <td>NaN</td>\n",
       "      <td>NaN</td>\n",
       "      <td>NaN</td>\n",
       "      <td>NaN</td>\n",
       "      <td>NaN</td>\n",
       "      <td>NaN</td>\n",
       "    </tr>\n",
       "  </tbody>\n",
       "</table>\n",
       "</div>"
      ],
      "text/plain": [
       "                count unique         top  freq      mean       std  min  25%  \\\n",
       "customerID       7043   7043  7590-VHVEG     1       NaN       NaN  NaN  NaN   \n",
       "gender           7043      2        Male  3555       NaN       NaN  NaN  NaN   \n",
       "SeniorCitizen  7043.0    NaN         NaN   NaN  0.162147  0.368612  0.0  0.0   \n",
       "Partner          7043      2          No  3641       NaN       NaN  NaN  NaN   \n",
       "Dependents       7043      2          No  4933       NaN       NaN  NaN  NaN   \n",
       "\n",
       "               50%  75%  max  \n",
       "customerID     NaN  NaN  NaN  \n",
       "gender         NaN  NaN  NaN  \n",
       "SeniorCitizen  0.0  0.0  1.0  \n",
       "Partner        NaN  NaN  NaN  \n",
       "Dependents     NaN  NaN  NaN  "
      ]
     },
     "metadata": {},
     "output_type": "display_data"
    },
    {
     "data": {
      "text/plain": [
       "'##############################################'"
      ]
     },
     "metadata": {},
     "output_type": "display_data"
    },
    {
     "data": {
      "text/plain": [
       "'Количество пропусков'"
      ]
     },
     "metadata": {},
     "output_type": "display_data"
    },
    {
     "data": {
      "text/plain": [
       "customerID       0\n",
       "gender           0\n",
       "SeniorCitizen    0\n",
       "Partner          0\n",
       "Dependents       0\n",
       "dtype: int64"
      ]
     },
     "metadata": {},
     "output_type": "display_data"
    }
   ],
   "source": [
    "describe(df_personal)"
   ]
  },
  {
   "cell_type": "code",
   "execution_count": 27,
   "id": "63bb5232",
   "metadata": {
    "scrolled": true
   },
   "outputs": [
    {
     "data": {
      "text/plain": [
       "array(['Female', 'Male'], dtype=object)"
      ]
     },
     "execution_count": 27,
     "metadata": {},
     "output_type": "execute_result"
    }
   ],
   "source": [
    "df_personal['gender'].unique()"
   ]
  },
  {
   "cell_type": "code",
   "execution_count": 28,
   "id": "f2773156",
   "metadata": {
    "scrolled": true
   },
   "outputs": [
    {
     "data": {
      "text/plain": [
       "array([0, 1])"
      ]
     },
     "execution_count": 28,
     "metadata": {},
     "output_type": "execute_result"
    }
   ],
   "source": [
    "df_personal['SeniorCitizen'].unique()"
   ]
  },
  {
   "cell_type": "code",
   "execution_count": 29,
   "id": "cc3acaac",
   "metadata": {
    "scrolled": true
   },
   "outputs": [
    {
     "data": {
      "text/plain": [
       "array(['Yes', 'No'], dtype=object)"
      ]
     },
     "execution_count": 29,
     "metadata": {},
     "output_type": "execute_result"
    }
   ],
   "source": [
    "df_personal['Partner'].unique()"
   ]
  },
  {
   "cell_type": "code",
   "execution_count": 30,
   "id": "8897cb06",
   "metadata": {},
   "outputs": [
    {
     "data": {
      "text/plain": [
       "array(['No', 'Yes'], dtype=object)"
      ]
     },
     "execution_count": 30,
     "metadata": {},
     "output_type": "execute_result"
    }
   ],
   "source": [
    "df_personal['Dependents'].unique()"
   ]
  },
  {
   "cell_type": "markdown",
   "id": "e46dc044",
   "metadata": {},
   "source": [
    "По полученной информации о данных можно отметить:\n",
    "   - в таблице также 7043 уникальных строки, что соответствует числу уникальных контрактов;\n",
    "   - в данных отсутствуют пропуски и скрытые дубликаты;\n",
    "   - все столбцы содержат данные с категориальными переменными, с некоторыми из них необходимо будет провести кодирование для обучения модели.\n",
    "   \n",
    "Можно переходить к исследовательскому анализу следующей таблицы.\n",
    "___"
   ]
  },
  {
   "cell_type": "markdown",
   "id": "41c3c08e",
   "metadata": {},
   "source": [
    "Далее изучим таблицу internet(df_internet). Из документации к данным известно:"
   ]
  },
  {
   "cell_type": "markdown",
   "id": "768422c2",
   "metadata": {},
   "source": [
    "- Подключение может быть двух типов: через телефонную линию (DSL*,* от англ. *digital subscriber line*, «цифровая абонентская линия») или оптоволоконный кабель (*Fiber optic*).  \n",
    "\n",
    "Также доступны такие услуги:\n",
    "\n",
    "- Интернет-безопасность: антивирус (*DeviceProtection*) и блокировка небезопасных сайтов (*OnlineSecurity*);\n",
    "- Выделенная линия технической поддержки (*TechSupport*);\n",
    "- Облачное хранилище файлов для резервного копирования данных (*OnlineBackup*);\n",
    "- Стриминговое телевидение (*StreamingTV*) и каталог фильмов (*StreamingMovies*)."
   ]
  },
  {
   "cell_type": "code",
   "execution_count": 31,
   "id": "6eb1b4db",
   "metadata": {},
   "outputs": [
    {
     "data": {
      "text/plain": [
       "'Первые 5 строк таблицы'"
      ]
     },
     "metadata": {},
     "output_type": "display_data"
    },
    {
     "data": {
      "text/html": [
       "<div>\n",
       "<style scoped>\n",
       "    .dataframe tbody tr th:only-of-type {\n",
       "        vertical-align: middle;\n",
       "    }\n",
       "\n",
       "    .dataframe tbody tr th {\n",
       "        vertical-align: top;\n",
       "    }\n",
       "\n",
       "    .dataframe thead th {\n",
       "        text-align: right;\n",
       "    }\n",
       "</style>\n",
       "<table border=\"1\" class=\"dataframe\">\n",
       "  <thead>\n",
       "    <tr style=\"text-align: right;\">\n",
       "      <th></th>\n",
       "      <th>customerID</th>\n",
       "      <th>InternetService</th>\n",
       "      <th>OnlineSecurity</th>\n",
       "      <th>OnlineBackup</th>\n",
       "      <th>DeviceProtection</th>\n",
       "      <th>TechSupport</th>\n",
       "      <th>StreamingTV</th>\n",
       "      <th>StreamingMovies</th>\n",
       "    </tr>\n",
       "  </thead>\n",
       "  <tbody>\n",
       "    <tr>\n",
       "      <th>0</th>\n",
       "      <td>7590-VHVEG</td>\n",
       "      <td>DSL</td>\n",
       "      <td>No</td>\n",
       "      <td>Yes</td>\n",
       "      <td>No</td>\n",
       "      <td>No</td>\n",
       "      <td>No</td>\n",
       "      <td>No</td>\n",
       "    </tr>\n",
       "    <tr>\n",
       "      <th>1</th>\n",
       "      <td>5575-GNVDE</td>\n",
       "      <td>DSL</td>\n",
       "      <td>Yes</td>\n",
       "      <td>No</td>\n",
       "      <td>Yes</td>\n",
       "      <td>No</td>\n",
       "      <td>No</td>\n",
       "      <td>No</td>\n",
       "    </tr>\n",
       "    <tr>\n",
       "      <th>2</th>\n",
       "      <td>3668-QPYBK</td>\n",
       "      <td>DSL</td>\n",
       "      <td>Yes</td>\n",
       "      <td>Yes</td>\n",
       "      <td>No</td>\n",
       "      <td>No</td>\n",
       "      <td>No</td>\n",
       "      <td>No</td>\n",
       "    </tr>\n",
       "    <tr>\n",
       "      <th>3</th>\n",
       "      <td>7795-CFOCW</td>\n",
       "      <td>DSL</td>\n",
       "      <td>Yes</td>\n",
       "      <td>No</td>\n",
       "      <td>Yes</td>\n",
       "      <td>Yes</td>\n",
       "      <td>No</td>\n",
       "      <td>No</td>\n",
       "    </tr>\n",
       "    <tr>\n",
       "      <th>4</th>\n",
       "      <td>9237-HQITU</td>\n",
       "      <td>Fiber optic</td>\n",
       "      <td>No</td>\n",
       "      <td>No</td>\n",
       "      <td>No</td>\n",
       "      <td>No</td>\n",
       "      <td>No</td>\n",
       "      <td>No</td>\n",
       "    </tr>\n",
       "  </tbody>\n",
       "</table>\n",
       "</div>"
      ],
      "text/plain": [
       "   customerID InternetService OnlineSecurity OnlineBackup DeviceProtection  \\\n",
       "0  7590-VHVEG             DSL             No          Yes               No   \n",
       "1  5575-GNVDE             DSL            Yes           No              Yes   \n",
       "2  3668-QPYBK             DSL            Yes          Yes               No   \n",
       "3  7795-CFOCW             DSL            Yes           No              Yes   \n",
       "4  9237-HQITU     Fiber optic             No           No               No   \n",
       "\n",
       "  TechSupport StreamingTV StreamingMovies  \n",
       "0          No          No              No  \n",
       "1          No          No              No  \n",
       "2          No          No              No  \n",
       "3         Yes          No              No  \n",
       "4          No          No              No  "
      ]
     },
     "metadata": {},
     "output_type": "display_data"
    },
    {
     "data": {
      "text/plain": [
       "'##############################################'"
      ]
     },
     "metadata": {},
     "output_type": "display_data"
    },
    {
     "name": "stdout",
     "output_type": "stream",
     "text": [
      "<class 'pandas.core.frame.DataFrame'>\n",
      "RangeIndex: 5517 entries, 0 to 5516\n",
      "Data columns (total 8 columns):\n",
      " #   Column            Non-Null Count  Dtype \n",
      "---  ------            --------------  ----- \n",
      " 0   customerID        5517 non-null   object\n",
      " 1   InternetService   5517 non-null   object\n",
      " 2   OnlineSecurity    5517 non-null   object\n",
      " 3   OnlineBackup      5517 non-null   object\n",
      " 4   DeviceProtection  5517 non-null   object\n",
      " 5   TechSupport       5517 non-null   object\n",
      " 6   StreamingTV       5517 non-null   object\n",
      " 7   StreamingMovies   5517 non-null   object\n",
      "dtypes: object(8)\n",
      "memory usage: 344.9+ KB\n"
     ]
    },
    {
     "data": {
      "text/plain": [
       "None"
      ]
     },
     "metadata": {},
     "output_type": "display_data"
    },
    {
     "data": {
      "text/plain": [
       "'##############################################'"
      ]
     },
     "metadata": {},
     "output_type": "display_data"
    },
    {
     "data": {
      "text/plain": [
       "'Описание данных'"
      ]
     },
     "metadata": {},
     "output_type": "display_data"
    },
    {
     "data": {
      "text/html": [
       "<div>\n",
       "<style scoped>\n",
       "    .dataframe tbody tr th:only-of-type {\n",
       "        vertical-align: middle;\n",
       "    }\n",
       "\n",
       "    .dataframe tbody tr th {\n",
       "        vertical-align: top;\n",
       "    }\n",
       "\n",
       "    .dataframe thead th {\n",
       "        text-align: right;\n",
       "    }\n",
       "</style>\n",
       "<table border=\"1\" class=\"dataframe\">\n",
       "  <thead>\n",
       "    <tr style=\"text-align: right;\">\n",
       "      <th></th>\n",
       "      <th>count</th>\n",
       "      <th>unique</th>\n",
       "      <th>top</th>\n",
       "      <th>freq</th>\n",
       "    </tr>\n",
       "  </thead>\n",
       "  <tbody>\n",
       "    <tr>\n",
       "      <th>customerID</th>\n",
       "      <td>5517</td>\n",
       "      <td>5517</td>\n",
       "      <td>7590-VHVEG</td>\n",
       "      <td>1</td>\n",
       "    </tr>\n",
       "    <tr>\n",
       "      <th>InternetService</th>\n",
       "      <td>5517</td>\n",
       "      <td>2</td>\n",
       "      <td>Fiber optic</td>\n",
       "      <td>3096</td>\n",
       "    </tr>\n",
       "    <tr>\n",
       "      <th>OnlineSecurity</th>\n",
       "      <td>5517</td>\n",
       "      <td>2</td>\n",
       "      <td>No</td>\n",
       "      <td>3498</td>\n",
       "    </tr>\n",
       "    <tr>\n",
       "      <th>OnlineBackup</th>\n",
       "      <td>5517</td>\n",
       "      <td>2</td>\n",
       "      <td>No</td>\n",
       "      <td>3088</td>\n",
       "    </tr>\n",
       "    <tr>\n",
       "      <th>DeviceProtection</th>\n",
       "      <td>5517</td>\n",
       "      <td>2</td>\n",
       "      <td>No</td>\n",
       "      <td>3095</td>\n",
       "    </tr>\n",
       "    <tr>\n",
       "      <th>TechSupport</th>\n",
       "      <td>5517</td>\n",
       "      <td>2</td>\n",
       "      <td>No</td>\n",
       "      <td>3473</td>\n",
       "    </tr>\n",
       "    <tr>\n",
       "      <th>StreamingTV</th>\n",
       "      <td>5517</td>\n",
       "      <td>2</td>\n",
       "      <td>No</td>\n",
       "      <td>2810</td>\n",
       "    </tr>\n",
       "    <tr>\n",
       "      <th>StreamingMovies</th>\n",
       "      <td>5517</td>\n",
       "      <td>2</td>\n",
       "      <td>No</td>\n",
       "      <td>2785</td>\n",
       "    </tr>\n",
       "  </tbody>\n",
       "</table>\n",
       "</div>"
      ],
      "text/plain": [
       "                 count unique          top  freq\n",
       "customerID        5517   5517   7590-VHVEG     1\n",
       "InternetService   5517      2  Fiber optic  3096\n",
       "OnlineSecurity    5517      2           No  3498\n",
       "OnlineBackup      5517      2           No  3088\n",
       "DeviceProtection  5517      2           No  3095\n",
       "TechSupport       5517      2           No  3473\n",
       "StreamingTV       5517      2           No  2810\n",
       "StreamingMovies   5517      2           No  2785"
      ]
     },
     "metadata": {},
     "output_type": "display_data"
    },
    {
     "data": {
      "text/plain": [
       "'##############################################'"
      ]
     },
     "metadata": {},
     "output_type": "display_data"
    },
    {
     "data": {
      "text/plain": [
       "'Количество пропусков'"
      ]
     },
     "metadata": {},
     "output_type": "display_data"
    },
    {
     "data": {
      "text/plain": [
       "customerID          0\n",
       "InternetService     0\n",
       "OnlineSecurity      0\n",
       "OnlineBackup        0\n",
       "DeviceProtection    0\n",
       "TechSupport         0\n",
       "StreamingTV         0\n",
       "StreamingMovies     0\n",
       "dtype: int64"
      ]
     },
     "metadata": {},
     "output_type": "display_data"
    }
   ],
   "source": [
    "describe(df_internet)"
   ]
  },
  {
   "cell_type": "markdown",
   "id": "36e4b2ae",
   "metadata": {},
   "source": [
    "По полученной информации о данных можно отметить:\n",
    "   - в таблице 5517 уникальных строк, что означает, что не все клиенты пользовались интернет услугами;\n",
    "   - в данных отсутствуют пропуски и скрытые дубликаты;\n",
    "   - все столбцы содержат данные с категориальными переменными, с некоторыми из них необходимо будет провести кодирование для обучения модели.\n",
    "   \n",
    "Можно переходить к исследовательскому анализу следующей таблицы.\n",
    "___"
   ]
  },
  {
   "cell_type": "markdown",
   "id": "49190b67",
   "metadata": {},
   "source": [
    "Далее изучим таблицу phone(df_phone). Из документации к данным известно:\n",
    "\n",
    "   - MultipleLines – наличие возможности ведения параллельных линий во время звонка"
   ]
  },
  {
   "cell_type": "code",
   "execution_count": 32,
   "id": "933aaa7d",
   "metadata": {},
   "outputs": [
    {
     "data": {
      "text/plain": [
       "'Первые 5 строк таблицы'"
      ]
     },
     "metadata": {},
     "output_type": "display_data"
    },
    {
     "data": {
      "text/html": [
       "<div>\n",
       "<style scoped>\n",
       "    .dataframe tbody tr th:only-of-type {\n",
       "        vertical-align: middle;\n",
       "    }\n",
       "\n",
       "    .dataframe tbody tr th {\n",
       "        vertical-align: top;\n",
       "    }\n",
       "\n",
       "    .dataframe thead th {\n",
       "        text-align: right;\n",
       "    }\n",
       "</style>\n",
       "<table border=\"1\" class=\"dataframe\">\n",
       "  <thead>\n",
       "    <tr style=\"text-align: right;\">\n",
       "      <th></th>\n",
       "      <th>customerID</th>\n",
       "      <th>MultipleLines</th>\n",
       "    </tr>\n",
       "  </thead>\n",
       "  <tbody>\n",
       "    <tr>\n",
       "      <th>0</th>\n",
       "      <td>5575-GNVDE</td>\n",
       "      <td>No</td>\n",
       "    </tr>\n",
       "    <tr>\n",
       "      <th>1</th>\n",
       "      <td>3668-QPYBK</td>\n",
       "      <td>No</td>\n",
       "    </tr>\n",
       "    <tr>\n",
       "      <th>2</th>\n",
       "      <td>9237-HQITU</td>\n",
       "      <td>No</td>\n",
       "    </tr>\n",
       "    <tr>\n",
       "      <th>3</th>\n",
       "      <td>9305-CDSKC</td>\n",
       "      <td>Yes</td>\n",
       "    </tr>\n",
       "    <tr>\n",
       "      <th>4</th>\n",
       "      <td>1452-KIOVK</td>\n",
       "      <td>Yes</td>\n",
       "    </tr>\n",
       "  </tbody>\n",
       "</table>\n",
       "</div>"
      ],
      "text/plain": [
       "   customerID MultipleLines\n",
       "0  5575-GNVDE            No\n",
       "1  3668-QPYBK            No\n",
       "2  9237-HQITU            No\n",
       "3  9305-CDSKC           Yes\n",
       "4  1452-KIOVK           Yes"
      ]
     },
     "metadata": {},
     "output_type": "display_data"
    },
    {
     "data": {
      "text/plain": [
       "'##############################################'"
      ]
     },
     "metadata": {},
     "output_type": "display_data"
    },
    {
     "name": "stdout",
     "output_type": "stream",
     "text": [
      "<class 'pandas.core.frame.DataFrame'>\n",
      "RangeIndex: 6361 entries, 0 to 6360\n",
      "Data columns (total 2 columns):\n",
      " #   Column         Non-Null Count  Dtype \n",
      "---  ------         --------------  ----- \n",
      " 0   customerID     6361 non-null   object\n",
      " 1   MultipleLines  6361 non-null   object\n",
      "dtypes: object(2)\n",
      "memory usage: 99.5+ KB\n"
     ]
    },
    {
     "data": {
      "text/plain": [
       "None"
      ]
     },
     "metadata": {},
     "output_type": "display_data"
    },
    {
     "data": {
      "text/plain": [
       "'##############################################'"
      ]
     },
     "metadata": {},
     "output_type": "display_data"
    },
    {
     "data": {
      "text/plain": [
       "'Описание данных'"
      ]
     },
     "metadata": {},
     "output_type": "display_data"
    },
    {
     "data": {
      "text/html": [
       "<div>\n",
       "<style scoped>\n",
       "    .dataframe tbody tr th:only-of-type {\n",
       "        vertical-align: middle;\n",
       "    }\n",
       "\n",
       "    .dataframe tbody tr th {\n",
       "        vertical-align: top;\n",
       "    }\n",
       "\n",
       "    .dataframe thead th {\n",
       "        text-align: right;\n",
       "    }\n",
       "</style>\n",
       "<table border=\"1\" class=\"dataframe\">\n",
       "  <thead>\n",
       "    <tr style=\"text-align: right;\">\n",
       "      <th></th>\n",
       "      <th>count</th>\n",
       "      <th>unique</th>\n",
       "      <th>top</th>\n",
       "      <th>freq</th>\n",
       "    </tr>\n",
       "  </thead>\n",
       "  <tbody>\n",
       "    <tr>\n",
       "      <th>customerID</th>\n",
       "      <td>6361</td>\n",
       "      <td>6361</td>\n",
       "      <td>5575-GNVDE</td>\n",
       "      <td>1</td>\n",
       "    </tr>\n",
       "    <tr>\n",
       "      <th>MultipleLines</th>\n",
       "      <td>6361</td>\n",
       "      <td>2</td>\n",
       "      <td>No</td>\n",
       "      <td>3390</td>\n",
       "    </tr>\n",
       "  </tbody>\n",
       "</table>\n",
       "</div>"
      ],
      "text/plain": [
       "              count unique         top  freq\n",
       "customerID     6361   6361  5575-GNVDE     1\n",
       "MultipleLines  6361      2          No  3390"
      ]
     },
     "metadata": {},
     "output_type": "display_data"
    },
    {
     "data": {
      "text/plain": [
       "'##############################################'"
      ]
     },
     "metadata": {},
     "output_type": "display_data"
    },
    {
     "data": {
      "text/plain": [
       "'Количество пропусков'"
      ]
     },
     "metadata": {},
     "output_type": "display_data"
    },
    {
     "data": {
      "text/plain": [
       "customerID       0\n",
       "MultipleLines    0\n",
       "dtype: int64"
      ]
     },
     "metadata": {},
     "output_type": "display_data"
    }
   ],
   "source": [
    "describe(df_phone)"
   ]
  },
  {
   "cell_type": "markdown",
   "id": "4e96159f",
   "metadata": {},
   "source": [
    "По полученной информации о данных можно отметить:\n",
    "   - в таблице 6361 уникальная запись, что означает, что не все клиенты пользовались услугами телефонной связи;\n",
    "   - в данных отсутствуют пропуски и скрытые дубликаты;\n",
    "   - все столбцы содержат данные с категориальными переменными, с некоторыми из них необходимо будет провести кодирование для обучения модели.\n",
    "   \n",
    "На данном этапе первичный анализ данных завершен.\n",
    "___"
   ]
  },
  {
   "cell_type": "markdown",
   "id": "4ef885ba",
   "metadata": {},
   "source": [
    "___\n",
    "### Анализ данных\n",
    "___"
   ]
  },
  {
   "cell_type": "markdown",
   "id": "6229b6d1",
   "metadata": {},
   "source": [
    "Теперь данные из разных таблиц можно объеденить. В параметре how необходимо выставить значение 'outer', чтобы не потерялись строки. Так как их количество в разных таблицах разное."
   ]
  },
  {
   "cell_type": "code",
   "execution_count": 33,
   "id": "3850c6e3",
   "metadata": {},
   "outputs": [
    {
     "data": {
      "text/html": [
       "<div>\n",
       "<style scoped>\n",
       "    .dataframe tbody tr th:only-of-type {\n",
       "        vertical-align: middle;\n",
       "    }\n",
       "\n",
       "    .dataframe tbody tr th {\n",
       "        vertical-align: top;\n",
       "    }\n",
       "\n",
       "    .dataframe thead th {\n",
       "        text-align: right;\n",
       "    }\n",
       "</style>\n",
       "<table border=\"1\" class=\"dataframe\">\n",
       "  <thead>\n",
       "    <tr style=\"text-align: right;\">\n",
       "      <th></th>\n",
       "      <th>customerID</th>\n",
       "      <th>BeginDate</th>\n",
       "      <th>EndDate</th>\n",
       "      <th>Type</th>\n",
       "      <th>PaperlessBilling</th>\n",
       "      <th>PaymentMethod</th>\n",
       "      <th>MonthlyCharges</th>\n",
       "      <th>TotalCharges</th>\n",
       "      <th>gender</th>\n",
       "      <th>SeniorCitizen</th>\n",
       "      <th>Partner</th>\n",
       "      <th>Dependents</th>\n",
       "    </tr>\n",
       "  </thead>\n",
       "  <tbody>\n",
       "    <tr>\n",
       "      <th>0</th>\n",
       "      <td>7590-VHVEG</td>\n",
       "      <td>2020-01-01</td>\n",
       "      <td>2020-02-01</td>\n",
       "      <td>Month-to-month</td>\n",
       "      <td>Yes</td>\n",
       "      <td>Electronic check</td>\n",
       "      <td>29.85</td>\n",
       "      <td>29.85</td>\n",
       "      <td>Female</td>\n",
       "      <td>0</td>\n",
       "      <td>Yes</td>\n",
       "      <td>No</td>\n",
       "    </tr>\n",
       "    <tr>\n",
       "      <th>1</th>\n",
       "      <td>5575-GNVDE</td>\n",
       "      <td>2017-04-01</td>\n",
       "      <td>2020-02-01</td>\n",
       "      <td>One year</td>\n",
       "      <td>No</td>\n",
       "      <td>Mailed check</td>\n",
       "      <td>56.95</td>\n",
       "      <td>1889.50</td>\n",
       "      <td>Male</td>\n",
       "      <td>0</td>\n",
       "      <td>No</td>\n",
       "      <td>No</td>\n",
       "    </tr>\n",
       "    <tr>\n",
       "      <th>2</th>\n",
       "      <td>3668-QPYBK</td>\n",
       "      <td>2019-10-01</td>\n",
       "      <td>2019-12-01</td>\n",
       "      <td>Month-to-month</td>\n",
       "      <td>Yes</td>\n",
       "      <td>Mailed check</td>\n",
       "      <td>53.85</td>\n",
       "      <td>108.15</td>\n",
       "      <td>Male</td>\n",
       "      <td>0</td>\n",
       "      <td>No</td>\n",
       "      <td>No</td>\n",
       "    </tr>\n",
       "    <tr>\n",
       "      <th>3</th>\n",
       "      <td>7795-CFOCW</td>\n",
       "      <td>2016-05-01</td>\n",
       "      <td>2020-02-01</td>\n",
       "      <td>One year</td>\n",
       "      <td>No</td>\n",
       "      <td>Bank transfer (automatic)</td>\n",
       "      <td>42.30</td>\n",
       "      <td>1840.75</td>\n",
       "      <td>Male</td>\n",
       "      <td>0</td>\n",
       "      <td>No</td>\n",
       "      <td>No</td>\n",
       "    </tr>\n",
       "    <tr>\n",
       "      <th>4</th>\n",
       "      <td>9237-HQITU</td>\n",
       "      <td>2019-09-01</td>\n",
       "      <td>2019-11-01</td>\n",
       "      <td>Month-to-month</td>\n",
       "      <td>Yes</td>\n",
       "      <td>Electronic check</td>\n",
       "      <td>70.70</td>\n",
       "      <td>151.65</td>\n",
       "      <td>Female</td>\n",
       "      <td>0</td>\n",
       "      <td>No</td>\n",
       "      <td>No</td>\n",
       "    </tr>\n",
       "  </tbody>\n",
       "</table>\n",
       "</div>"
      ],
      "text/plain": [
       "   customerID  BeginDate    EndDate            Type PaperlessBilling  \\\n",
       "0  7590-VHVEG 2020-01-01 2020-02-01  Month-to-month              Yes   \n",
       "1  5575-GNVDE 2017-04-01 2020-02-01        One year               No   \n",
       "2  3668-QPYBK 2019-10-01 2019-12-01  Month-to-month              Yes   \n",
       "3  7795-CFOCW 2016-05-01 2020-02-01        One year               No   \n",
       "4  9237-HQITU 2019-09-01 2019-11-01  Month-to-month              Yes   \n",
       "\n",
       "               PaymentMethod  MonthlyCharges  TotalCharges  gender  \\\n",
       "0           Electronic check           29.85         29.85  Female   \n",
       "1               Mailed check           56.95       1889.50    Male   \n",
       "2               Mailed check           53.85        108.15    Male   \n",
       "3  Bank transfer (automatic)           42.30       1840.75    Male   \n",
       "4           Electronic check           70.70        151.65  Female   \n",
       "\n",
       "   SeniorCitizen Partner Dependents  \n",
       "0              0     Yes         No  \n",
       "1              0      No         No  \n",
       "2              0      No         No  \n",
       "3              0      No         No  \n",
       "4              0      No         No  "
      ]
     },
     "execution_count": 33,
     "metadata": {},
     "output_type": "execute_result"
    }
   ],
   "source": [
    "merged = pd.merge(df_contract, df_personal, on='customerID', how='outer')\n",
    "merged.head()"
   ]
  },
  {
   "cell_type": "code",
   "execution_count": 34,
   "id": "46b24a89",
   "metadata": {},
   "outputs": [
    {
     "data": {
      "text/plain": [
       "(7043, 12)"
      ]
     },
     "execution_count": 34,
     "metadata": {},
     "output_type": "execute_result"
    }
   ],
   "source": [
    "merged.shape"
   ]
  },
  {
   "cell_type": "code",
   "execution_count": 35,
   "id": "21597497",
   "metadata": {
    "scrolled": true
   },
   "outputs": [
    {
     "data": {
      "text/plain": [
       "(5517, 8)"
      ]
     },
     "execution_count": 35,
     "metadata": {},
     "output_type": "execute_result"
    }
   ],
   "source": [
    "df_internet.shape"
   ]
  },
  {
   "cell_type": "code",
   "execution_count": 36,
   "id": "88e06003",
   "metadata": {},
   "outputs": [
    {
     "data": {
      "text/plain": [
       "(7043, 19)"
      ]
     },
     "execution_count": 36,
     "metadata": {},
     "output_type": "execute_result"
    }
   ],
   "source": [
    "merged = pd.merge(merged, df_internet, on='customerID', how='outer')\n",
    "merged.shape"
   ]
  },
  {
   "cell_type": "code",
   "execution_count": 37,
   "id": "ccabc893",
   "metadata": {},
   "outputs": [
    {
     "data": {
      "text/html": [
       "<div>\n",
       "<style scoped>\n",
       "    .dataframe tbody tr th:only-of-type {\n",
       "        vertical-align: middle;\n",
       "    }\n",
       "\n",
       "    .dataframe tbody tr th {\n",
       "        vertical-align: top;\n",
       "    }\n",
       "\n",
       "    .dataframe thead th {\n",
       "        text-align: right;\n",
       "    }\n",
       "</style>\n",
       "<table border=\"1\" class=\"dataframe\">\n",
       "  <thead>\n",
       "    <tr style=\"text-align: right;\">\n",
       "      <th></th>\n",
       "      <th>customerID</th>\n",
       "      <th>BeginDate</th>\n",
       "      <th>EndDate</th>\n",
       "      <th>Type</th>\n",
       "      <th>PaperlessBilling</th>\n",
       "      <th>PaymentMethod</th>\n",
       "      <th>MonthlyCharges</th>\n",
       "      <th>TotalCharges</th>\n",
       "      <th>gender</th>\n",
       "      <th>SeniorCitizen</th>\n",
       "      <th>Partner</th>\n",
       "      <th>Dependents</th>\n",
       "      <th>InternetService</th>\n",
       "      <th>OnlineSecurity</th>\n",
       "      <th>OnlineBackup</th>\n",
       "      <th>DeviceProtection</th>\n",
       "      <th>TechSupport</th>\n",
       "      <th>StreamingTV</th>\n",
       "      <th>StreamingMovies</th>\n",
       "    </tr>\n",
       "  </thead>\n",
       "  <tbody>\n",
       "    <tr>\n",
       "      <th>2658</th>\n",
       "      <td>7473-ZBDSN</td>\n",
       "      <td>2018-12-01</td>\n",
       "      <td>2020-02-01</td>\n",
       "      <td>Two year</td>\n",
       "      <td>No</td>\n",
       "      <td>Mailed check</td>\n",
       "      <td>18.80</td>\n",
       "      <td>255.55</td>\n",
       "      <td>Female</td>\n",
       "      <td>0</td>\n",
       "      <td>Yes</td>\n",
       "      <td>Yes</td>\n",
       "      <td>NaN</td>\n",
       "      <td>NaN</td>\n",
       "      <td>NaN</td>\n",
       "      <td>NaN</td>\n",
       "      <td>NaN</td>\n",
       "      <td>NaN</td>\n",
       "      <td>NaN</td>\n",
       "    </tr>\n",
       "    <tr>\n",
       "      <th>3935</th>\n",
       "      <td>8285-ABVLB</td>\n",
       "      <td>2014-04-01</td>\n",
       "      <td>2020-02-01</td>\n",
       "      <td>Two year</td>\n",
       "      <td>No</td>\n",
       "      <td>Credit card (automatic)</td>\n",
       "      <td>19.85</td>\n",
       "      <td>1328.35</td>\n",
       "      <td>Female</td>\n",
       "      <td>0</td>\n",
       "      <td>Yes</td>\n",
       "      <td>No</td>\n",
       "      <td>NaN</td>\n",
       "      <td>NaN</td>\n",
       "      <td>NaN</td>\n",
       "      <td>NaN</td>\n",
       "      <td>NaN</td>\n",
       "      <td>NaN</td>\n",
       "      <td>NaN</td>\n",
       "    </tr>\n",
       "    <tr>\n",
       "      <th>6811</th>\n",
       "      <td>8992-JQYUN</td>\n",
       "      <td>2019-11-01</td>\n",
       "      <td>2019-12-01</td>\n",
       "      <td>Month-to-month</td>\n",
       "      <td>Yes</td>\n",
       "      <td>Electronic check</td>\n",
       "      <td>50.35</td>\n",
       "      <td>50.35</td>\n",
       "      <td>Male</td>\n",
       "      <td>0</td>\n",
       "      <td>Yes</td>\n",
       "      <td>No</td>\n",
       "      <td>DSL</td>\n",
       "      <td>No</td>\n",
       "      <td>No</td>\n",
       "      <td>Yes</td>\n",
       "      <td>No</td>\n",
       "      <td>Yes</td>\n",
       "      <td>Yes</td>\n",
       "    </tr>\n",
       "    <tr>\n",
       "      <th>5082</th>\n",
       "      <td>8779-YIQQA</td>\n",
       "      <td>2018-05-01</td>\n",
       "      <td>2020-02-01</td>\n",
       "      <td>One year</td>\n",
       "      <td>No</td>\n",
       "      <td>Mailed check</td>\n",
       "      <td>19.80</td>\n",
       "      <td>350.10</td>\n",
       "      <td>Male</td>\n",
       "      <td>0</td>\n",
       "      <td>Yes</td>\n",
       "      <td>Yes</td>\n",
       "      <td>NaN</td>\n",
       "      <td>NaN</td>\n",
       "      <td>NaN</td>\n",
       "      <td>NaN</td>\n",
       "      <td>NaN</td>\n",
       "      <td>NaN</td>\n",
       "      <td>NaN</td>\n",
       "    </tr>\n",
       "    <tr>\n",
       "      <th>5231</th>\n",
       "      <td>1075-BGWOH</td>\n",
       "      <td>2018-08-01</td>\n",
       "      <td>2019-12-01</td>\n",
       "      <td>Month-to-month</td>\n",
       "      <td>Yes</td>\n",
       "      <td>Electronic check</td>\n",
       "      <td>98.75</td>\n",
       "      <td>1587.55</td>\n",
       "      <td>Male</td>\n",
       "      <td>1</td>\n",
       "      <td>Yes</td>\n",
       "      <td>No</td>\n",
       "      <td>Fiber optic</td>\n",
       "      <td>No</td>\n",
       "      <td>No</td>\n",
       "      <td>Yes</td>\n",
       "      <td>No</td>\n",
       "      <td>Yes</td>\n",
       "      <td>Yes</td>\n",
       "    </tr>\n",
       "  </tbody>\n",
       "</table>\n",
       "</div>"
      ],
      "text/plain": [
       "      customerID  BeginDate    EndDate            Type PaperlessBilling  \\\n",
       "2658  7473-ZBDSN 2018-12-01 2020-02-01        Two year               No   \n",
       "3935  8285-ABVLB 2014-04-01 2020-02-01        Two year               No   \n",
       "6811  8992-JQYUN 2019-11-01 2019-12-01  Month-to-month              Yes   \n",
       "5082  8779-YIQQA 2018-05-01 2020-02-01        One year               No   \n",
       "5231  1075-BGWOH 2018-08-01 2019-12-01  Month-to-month              Yes   \n",
       "\n",
       "                PaymentMethod  MonthlyCharges  TotalCharges  gender  \\\n",
       "2658             Mailed check           18.80        255.55  Female   \n",
       "3935  Credit card (automatic)           19.85       1328.35  Female   \n",
       "6811         Electronic check           50.35         50.35    Male   \n",
       "5082             Mailed check           19.80        350.10    Male   \n",
       "5231         Electronic check           98.75       1587.55    Male   \n",
       "\n",
       "      SeniorCitizen Partner Dependents InternetService OnlineSecurity  \\\n",
       "2658              0     Yes        Yes             NaN            NaN   \n",
       "3935              0     Yes         No             NaN            NaN   \n",
       "6811              0     Yes         No             DSL             No   \n",
       "5082              0     Yes        Yes             NaN            NaN   \n",
       "5231              1     Yes         No     Fiber optic             No   \n",
       "\n",
       "     OnlineBackup DeviceProtection TechSupport StreamingTV StreamingMovies  \n",
       "2658          NaN              NaN         NaN         NaN             NaN  \n",
       "3935          NaN              NaN         NaN         NaN             NaN  \n",
       "6811           No              Yes          No         Yes             Yes  \n",
       "5082          NaN              NaN         NaN         NaN             NaN  \n",
       "5231           No              Yes          No         Yes             Yes  "
      ]
     },
     "execution_count": 37,
     "metadata": {},
     "output_type": "execute_result"
    }
   ],
   "source": [
    "merged.sample(5)"
   ]
  },
  {
   "cell_type": "code",
   "execution_count": 38,
   "id": "7ea8b9a3",
   "metadata": {},
   "outputs": [
    {
     "data": {
      "text/plain": [
       "(6361, 2)"
      ]
     },
     "execution_count": 38,
     "metadata": {},
     "output_type": "execute_result"
    }
   ],
   "source": [
    "df_phone.shape"
   ]
  },
  {
   "cell_type": "code",
   "execution_count": 39,
   "id": "74c46cb9",
   "metadata": {},
   "outputs": [
    {
     "data": {
      "text/plain": [
       "(7043, 20)"
      ]
     },
     "execution_count": 39,
     "metadata": {},
     "output_type": "execute_result"
    }
   ],
   "source": [
    "merged = pd.merge(merged, df_phone, on='customerID', how='outer')\n",
    "merged.shape"
   ]
  },
  {
   "cell_type": "code",
   "execution_count": 40,
   "id": "30143c4a",
   "metadata": {},
   "outputs": [
    {
     "data": {
      "text/html": [
       "<div>\n",
       "<style scoped>\n",
       "    .dataframe tbody tr th:only-of-type {\n",
       "        vertical-align: middle;\n",
       "    }\n",
       "\n",
       "    .dataframe tbody tr th {\n",
       "        vertical-align: top;\n",
       "    }\n",
       "\n",
       "    .dataframe thead th {\n",
       "        text-align: right;\n",
       "    }\n",
       "</style>\n",
       "<table border=\"1\" class=\"dataframe\">\n",
       "  <thead>\n",
       "    <tr style=\"text-align: right;\">\n",
       "      <th></th>\n",
       "      <th>customerID</th>\n",
       "      <th>BeginDate</th>\n",
       "      <th>EndDate</th>\n",
       "      <th>Type</th>\n",
       "      <th>PaperlessBilling</th>\n",
       "      <th>PaymentMethod</th>\n",
       "      <th>MonthlyCharges</th>\n",
       "      <th>TotalCharges</th>\n",
       "      <th>gender</th>\n",
       "      <th>SeniorCitizen</th>\n",
       "      <th>Partner</th>\n",
       "      <th>Dependents</th>\n",
       "      <th>InternetService</th>\n",
       "      <th>OnlineSecurity</th>\n",
       "      <th>OnlineBackup</th>\n",
       "      <th>DeviceProtection</th>\n",
       "      <th>TechSupport</th>\n",
       "      <th>StreamingTV</th>\n",
       "      <th>StreamingMovies</th>\n",
       "      <th>MultipleLines</th>\n",
       "    </tr>\n",
       "  </thead>\n",
       "  <tbody>\n",
       "    <tr>\n",
       "      <th>1050</th>\n",
       "      <td>1271-SJBGZ</td>\n",
       "      <td>2019-01-01</td>\n",
       "      <td>2020-01-01</td>\n",
       "      <td>Month-to-month</td>\n",
       "      <td>Yes</td>\n",
       "      <td>Electronic check</td>\n",
       "      <td>43.65</td>\n",
       "      <td>526.95</td>\n",
       "      <td>Male</td>\n",
       "      <td>1</td>\n",
       "      <td>No</td>\n",
       "      <td>No</td>\n",
       "      <td>DSL</td>\n",
       "      <td>No</td>\n",
       "      <td>No</td>\n",
       "      <td>Yes</td>\n",
       "      <td>Yes</td>\n",
       "      <td>No</td>\n",
       "      <td>Yes</td>\n",
       "      <td>NaN</td>\n",
       "    </tr>\n",
       "    <tr>\n",
       "      <th>3173</th>\n",
       "      <td>9766-HGEDE</td>\n",
       "      <td>2018-09-01</td>\n",
       "      <td>2020-02-01</td>\n",
       "      <td>One year</td>\n",
       "      <td>No</td>\n",
       "      <td>Mailed check</td>\n",
       "      <td>19.35</td>\n",
       "      <td>307.00</td>\n",
       "      <td>Female</td>\n",
       "      <td>0</td>\n",
       "      <td>Yes</td>\n",
       "      <td>No</td>\n",
       "      <td>NaN</td>\n",
       "      <td>NaN</td>\n",
       "      <td>NaN</td>\n",
       "      <td>NaN</td>\n",
       "      <td>NaN</td>\n",
       "      <td>NaN</td>\n",
       "      <td>NaN</td>\n",
       "      <td>No</td>\n",
       "    </tr>\n",
       "    <tr>\n",
       "      <th>3761</th>\n",
       "      <td>9385-NXKDA</td>\n",
       "      <td>2014-02-01</td>\n",
       "      <td>2020-02-01</td>\n",
       "      <td>Two year</td>\n",
       "      <td>Yes</td>\n",
       "      <td>Credit card (automatic)</td>\n",
       "      <td>82.65</td>\n",
       "      <td>5919.35</td>\n",
       "      <td>Female</td>\n",
       "      <td>0</td>\n",
       "      <td>Yes</td>\n",
       "      <td>No</td>\n",
       "      <td>DSL</td>\n",
       "      <td>Yes</td>\n",
       "      <td>Yes</td>\n",
       "      <td>Yes</td>\n",
       "      <td>No</td>\n",
       "      <td>Yes</td>\n",
       "      <td>Yes</td>\n",
       "      <td>Yes</td>\n",
       "    </tr>\n",
       "    <tr>\n",
       "      <th>6661</th>\n",
       "      <td>3704-IEAXF</td>\n",
       "      <td>2014-02-01</td>\n",
       "      <td>2020-02-01</td>\n",
       "      <td>Two year</td>\n",
       "      <td>No</td>\n",
       "      <td>Credit card (automatic)</td>\n",
       "      <td>53.65</td>\n",
       "      <td>3784.00</td>\n",
       "      <td>Female</td>\n",
       "      <td>0</td>\n",
       "      <td>Yes</td>\n",
       "      <td>Yes</td>\n",
       "      <td>DSL</td>\n",
       "      <td>No</td>\n",
       "      <td>Yes</td>\n",
       "      <td>No</td>\n",
       "      <td>Yes</td>\n",
       "      <td>Yes</td>\n",
       "      <td>Yes</td>\n",
       "      <td>NaN</td>\n",
       "    </tr>\n",
       "    <tr>\n",
       "      <th>3709</th>\n",
       "      <td>2103-ZRXFN</td>\n",
       "      <td>2020-01-01</td>\n",
       "      <td>2020-02-01</td>\n",
       "      <td>Month-to-month</td>\n",
       "      <td>No</td>\n",
       "      <td>Mailed check</td>\n",
       "      <td>50.75</td>\n",
       "      <td>50.75</td>\n",
       "      <td>Male</td>\n",
       "      <td>0</td>\n",
       "      <td>No</td>\n",
       "      <td>No</td>\n",
       "      <td>DSL</td>\n",
       "      <td>No</td>\n",
       "      <td>No</td>\n",
       "      <td>No</td>\n",
       "      <td>No</td>\n",
       "      <td>No</td>\n",
       "      <td>No</td>\n",
       "      <td>Yes</td>\n",
       "    </tr>\n",
       "  </tbody>\n",
       "</table>\n",
       "</div>"
      ],
      "text/plain": [
       "      customerID  BeginDate    EndDate            Type PaperlessBilling  \\\n",
       "1050  1271-SJBGZ 2019-01-01 2020-01-01  Month-to-month              Yes   \n",
       "3173  9766-HGEDE 2018-09-01 2020-02-01        One year               No   \n",
       "3761  9385-NXKDA 2014-02-01 2020-02-01        Two year              Yes   \n",
       "6661  3704-IEAXF 2014-02-01 2020-02-01        Two year               No   \n",
       "3709  2103-ZRXFN 2020-01-01 2020-02-01  Month-to-month               No   \n",
       "\n",
       "                PaymentMethod  MonthlyCharges  TotalCharges  gender  \\\n",
       "1050         Electronic check           43.65        526.95    Male   \n",
       "3173             Mailed check           19.35        307.00  Female   \n",
       "3761  Credit card (automatic)           82.65       5919.35  Female   \n",
       "6661  Credit card (automatic)           53.65       3784.00  Female   \n",
       "3709             Mailed check           50.75         50.75    Male   \n",
       "\n",
       "      SeniorCitizen Partner Dependents InternetService OnlineSecurity  \\\n",
       "1050              1      No         No             DSL             No   \n",
       "3173              0     Yes         No             NaN            NaN   \n",
       "3761              0     Yes         No             DSL            Yes   \n",
       "6661              0     Yes        Yes             DSL             No   \n",
       "3709              0      No         No             DSL             No   \n",
       "\n",
       "     OnlineBackup DeviceProtection TechSupport StreamingTV StreamingMovies  \\\n",
       "1050           No              Yes         Yes          No             Yes   \n",
       "3173          NaN              NaN         NaN         NaN             NaN   \n",
       "3761          Yes              Yes          No         Yes             Yes   \n",
       "6661          Yes               No         Yes         Yes             Yes   \n",
       "3709           No               No          No          No              No   \n",
       "\n",
       "     MultipleLines  \n",
       "1050           NaN  \n",
       "3173            No  \n",
       "3761           Yes  \n",
       "6661           NaN  \n",
       "3709           Yes  "
      ]
     },
     "execution_count": 40,
     "metadata": {},
     "output_type": "execute_result"
    }
   ],
   "source": [
    "merged.sample(5)"
   ]
  },
  {
   "cell_type": "code",
   "execution_count": 41,
   "id": "fbfa829f",
   "metadata": {
    "scrolled": false
   },
   "outputs": [
    {
     "data": {
      "text/html": [
       "<div>\n",
       "<style scoped>\n",
       "    .dataframe tbody tr th:only-of-type {\n",
       "        vertical-align: middle;\n",
       "    }\n",
       "\n",
       "    .dataframe tbody tr th {\n",
       "        vertical-align: top;\n",
       "    }\n",
       "\n",
       "    .dataframe thead th {\n",
       "        text-align: right;\n",
       "    }\n",
       "</style>\n",
       "<table border=\"1\" class=\"dataframe\">\n",
       "  <thead>\n",
       "    <tr style=\"text-align: right;\">\n",
       "      <th></th>\n",
       "      <th>customerID</th>\n",
       "      <th>BeginDate</th>\n",
       "      <th>EndDate</th>\n",
       "      <th>Type</th>\n",
       "      <th>PaperlessBilling</th>\n",
       "      <th>PaymentMethod</th>\n",
       "      <th>MonthlyCharges</th>\n",
       "      <th>TotalCharges</th>\n",
       "      <th>gender</th>\n",
       "      <th>SeniorCitizen</th>\n",
       "      <th>Partner</th>\n",
       "      <th>Dependents</th>\n",
       "      <th>InternetService</th>\n",
       "      <th>OnlineSecurity</th>\n",
       "      <th>OnlineBackup</th>\n",
       "      <th>DeviceProtection</th>\n",
       "      <th>TechSupport</th>\n",
       "      <th>StreamingTV</th>\n",
       "      <th>StreamingMovies</th>\n",
       "      <th>MultipleLines</th>\n",
       "    </tr>\n",
       "  </thead>\n",
       "  <tbody>\n",
       "    <tr>\n",
       "      <th>5690</th>\n",
       "      <td>0336-KXKFK</td>\n",
       "      <td>2014-02-01</td>\n",
       "      <td>2020-02-01</td>\n",
       "      <td>Two year</td>\n",
       "      <td>Yes</td>\n",
       "      <td>Credit card (automatic)</td>\n",
       "      <td>61.20</td>\n",
       "      <td>4390.25</td>\n",
       "      <td>Male</td>\n",
       "      <td>0</td>\n",
       "      <td>No</td>\n",
       "      <td>No</td>\n",
       "      <td>DSL</td>\n",
       "      <td>Yes</td>\n",
       "      <td>No</td>\n",
       "      <td>Yes</td>\n",
       "      <td>Yes</td>\n",
       "      <td>Yes</td>\n",
       "      <td>Yes</td>\n",
       "      <td>NaN</td>\n",
       "    </tr>\n",
       "    <tr>\n",
       "      <th>3356</th>\n",
       "      <td>2235-ZGKPT</td>\n",
       "      <td>2019-06-01</td>\n",
       "      <td>2019-10-01</td>\n",
       "      <td>Month-to-month</td>\n",
       "      <td>No</td>\n",
       "      <td>Mailed check</td>\n",
       "      <td>50.85</td>\n",
       "      <td>239.55</td>\n",
       "      <td>Female</td>\n",
       "      <td>0</td>\n",
       "      <td>Yes</td>\n",
       "      <td>Yes</td>\n",
       "      <td>DSL</td>\n",
       "      <td>No</td>\n",
       "      <td>No</td>\n",
       "      <td>No</td>\n",
       "      <td>No</td>\n",
       "      <td>No</td>\n",
       "      <td>No</td>\n",
       "      <td>Yes</td>\n",
       "    </tr>\n",
       "    <tr>\n",
       "      <th>2809</th>\n",
       "      <td>4360-QRAVE</td>\n",
       "      <td>2017-01-01</td>\n",
       "      <td>2020-02-01</td>\n",
       "      <td>Month-to-month</td>\n",
       "      <td>No</td>\n",
       "      <td>Electronic check</td>\n",
       "      <td>36.65</td>\n",
       "      <td>1315.00</td>\n",
       "      <td>Male</td>\n",
       "      <td>1</td>\n",
       "      <td>No</td>\n",
       "      <td>No</td>\n",
       "      <td>DSL</td>\n",
       "      <td>No</td>\n",
       "      <td>Yes</td>\n",
       "      <td>Yes</td>\n",
       "      <td>No</td>\n",
       "      <td>No</td>\n",
       "      <td>No</td>\n",
       "      <td>NaN</td>\n",
       "    </tr>\n",
       "    <tr>\n",
       "      <th>4782</th>\n",
       "      <td>6175-IRFIT</td>\n",
       "      <td>2019-09-01</td>\n",
       "      <td>2020-02-01</td>\n",
       "      <td>Month-to-month</td>\n",
       "      <td>No</td>\n",
       "      <td>Mailed check</td>\n",
       "      <td>78.75</td>\n",
       "      <td>426.35</td>\n",
       "      <td>Male</td>\n",
       "      <td>0</td>\n",
       "      <td>No</td>\n",
       "      <td>No</td>\n",
       "      <td>Fiber optic</td>\n",
       "      <td>No</td>\n",
       "      <td>No</td>\n",
       "      <td>No</td>\n",
       "      <td>No</td>\n",
       "      <td>No</td>\n",
       "      <td>Yes</td>\n",
       "      <td>No</td>\n",
       "    </tr>\n",
       "    <tr>\n",
       "      <th>1090</th>\n",
       "      <td>9036-CSKBW</td>\n",
       "      <td>2015-11-01</td>\n",
       "      <td>2020-02-01</td>\n",
       "      <td>One year</td>\n",
       "      <td>No</td>\n",
       "      <td>Bank transfer (automatic)</td>\n",
       "      <td>107.45</td>\n",
       "      <td>5680.90</td>\n",
       "      <td>Female</td>\n",
       "      <td>0</td>\n",
       "      <td>No</td>\n",
       "      <td>No</td>\n",
       "      <td>Fiber optic</td>\n",
       "      <td>Yes</td>\n",
       "      <td>Yes</td>\n",
       "      <td>Yes</td>\n",
       "      <td>No</td>\n",
       "      <td>Yes</td>\n",
       "      <td>Yes</td>\n",
       "      <td>Yes</td>\n",
       "    </tr>\n",
       "  </tbody>\n",
       "</table>\n",
       "</div>"
      ],
      "text/plain": [
       "      customerID  BeginDate    EndDate            Type PaperlessBilling  \\\n",
       "5690  0336-KXKFK 2014-02-01 2020-02-01        Two year              Yes   \n",
       "3356  2235-ZGKPT 2019-06-01 2019-10-01  Month-to-month               No   \n",
       "2809  4360-QRAVE 2017-01-01 2020-02-01  Month-to-month               No   \n",
       "4782  6175-IRFIT 2019-09-01 2020-02-01  Month-to-month               No   \n",
       "1090  9036-CSKBW 2015-11-01 2020-02-01        One year               No   \n",
       "\n",
       "                  PaymentMethod  MonthlyCharges  TotalCharges  gender  \\\n",
       "5690    Credit card (automatic)           61.20       4390.25    Male   \n",
       "3356               Mailed check           50.85        239.55  Female   \n",
       "2809           Electronic check           36.65       1315.00    Male   \n",
       "4782               Mailed check           78.75        426.35    Male   \n",
       "1090  Bank transfer (automatic)          107.45       5680.90  Female   \n",
       "\n",
       "      SeniorCitizen Partner Dependents InternetService OnlineSecurity  \\\n",
       "5690              0      No         No             DSL            Yes   \n",
       "3356              0     Yes        Yes             DSL             No   \n",
       "2809              1      No         No             DSL             No   \n",
       "4782              0      No         No     Fiber optic             No   \n",
       "1090              0      No         No     Fiber optic            Yes   \n",
       "\n",
       "     OnlineBackup DeviceProtection TechSupport StreamingTV StreamingMovies  \\\n",
       "5690           No              Yes         Yes         Yes             Yes   \n",
       "3356           No               No          No          No              No   \n",
       "2809          Yes              Yes          No          No              No   \n",
       "4782           No               No          No          No             Yes   \n",
       "1090          Yes              Yes          No         Yes             Yes   \n",
       "\n",
       "     MultipleLines  \n",
       "5690           NaN  \n",
       "3356           Yes  \n",
       "2809           NaN  \n",
       "4782            No  \n",
       "1090           Yes  "
      ]
     },
     "execution_count": 41,
     "metadata": {},
     "output_type": "execute_result"
    }
   ],
   "source": [
    "merged.sample(5)"
   ]
  },
  {
   "cell_type": "markdown",
   "id": "4d752278",
   "metadata": {},
   "source": [
    "Теперь определим не было ли в таблицах *df_internet* и *df_phone customerID* которых не было в таблицах *df_contract и df_personal*. В этом случае, в столбцах из *df_contract и df_personal* должны появится *Nan*."
   ]
  },
  {
   "cell_type": "code",
   "execution_count": 42,
   "id": "1f991549",
   "metadata": {},
   "outputs": [
    {
     "name": "stdout",
     "output_type": "stream",
     "text": [
      "0\n",
      "0\n",
      "0\n",
      "0\n",
      "0\n",
      "0\n",
      "0\n",
      "0\n",
      "0\n"
     ]
    }
   ],
   "source": [
    "for i in ('Type', 'PaperlessBilling', 'PaymentMethod', 'MonthlyCharges', 'TotalCharges', 'gender',\n",
    "          'SeniorCitizen', 'Partner', 'Dependents'):\n",
    "    print(merged[i].isna().sum())"
   ]
  },
  {
   "cell_type": "markdown",
   "id": "84fedf34",
   "metadata": {},
   "source": [
    "Значений Nan в проверенных столбцах нет, значит в df_contract и df_personal были все имеющиеся уникальные клиенты, но некоторые из них не пользовались услугами интернета или телефонной связи от оператора.\n",
    "Таким образом, значения Nan в столбцах по интернет услугам и столбце *MultipleLines* (по сути во всей таблице) можно заменить на No, что не противоречит применяемой логике."
   ]
  },
  {
   "cell_type": "code",
   "execution_count": 43,
   "id": "007a2e11",
   "metadata": {
    "scrolled": true
   },
   "outputs": [
    {
     "data": {
      "text/plain": [
       "customerID          0\n",
       "BeginDate           0\n",
       "EndDate             0\n",
       "Type                0\n",
       "PaperlessBilling    0\n",
       "PaymentMethod       0\n",
       "MonthlyCharges      0\n",
       "TotalCharges        0\n",
       "gender              0\n",
       "SeniorCitizen       0\n",
       "Partner             0\n",
       "Dependents          0\n",
       "InternetService     0\n",
       "OnlineSecurity      0\n",
       "OnlineBackup        0\n",
       "DeviceProtection    0\n",
       "TechSupport         0\n",
       "StreamingTV         0\n",
       "StreamingMovies     0\n",
       "MultipleLines       0\n",
       "dtype: int64"
      ]
     },
     "execution_count": 43,
     "metadata": {},
     "output_type": "execute_result"
    }
   ],
   "source": [
    "merged = merged.fillna('No')\n",
    "merged.isna().sum()"
   ]
  },
  {
   "cell_type": "markdown",
   "id": "d74b4cb3",
   "metadata": {},
   "source": [
    "Столбцы *BeginDate* и *EndDate* впоследствии позволят сформировать значения Target для модели. И, вероятнее всего, будут приводить к утечке данных поэтому их придется удалить. При этом можно использовать разницу между датами как один из признаков."
   ]
  },
  {
   "cell_type": "code",
   "execution_count": 44,
   "id": "6688337c",
   "metadata": {},
   "outputs": [],
   "source": [
    "merged['contractPeriod'] = (merged['EndDate'] - merged['BeginDate']).dt.days"
   ]
  },
  {
   "cell_type": "code",
   "execution_count": 45,
   "id": "2afb65de",
   "metadata": {
    "scrolled": true
   },
   "outputs": [
    {
     "data": {
      "text/html": [
       "<div>\n",
       "<style scoped>\n",
       "    .dataframe tbody tr th:only-of-type {\n",
       "        vertical-align: middle;\n",
       "    }\n",
       "\n",
       "    .dataframe tbody tr th {\n",
       "        vertical-align: top;\n",
       "    }\n",
       "\n",
       "    .dataframe thead th {\n",
       "        text-align: right;\n",
       "    }\n",
       "</style>\n",
       "<table border=\"1\" class=\"dataframe\">\n",
       "  <thead>\n",
       "    <tr style=\"text-align: right;\">\n",
       "      <th></th>\n",
       "      <th>customerID</th>\n",
       "      <th>BeginDate</th>\n",
       "      <th>EndDate</th>\n",
       "      <th>Type</th>\n",
       "      <th>PaperlessBilling</th>\n",
       "      <th>PaymentMethod</th>\n",
       "      <th>MonthlyCharges</th>\n",
       "      <th>TotalCharges</th>\n",
       "      <th>gender</th>\n",
       "      <th>SeniorCitizen</th>\n",
       "      <th>Partner</th>\n",
       "      <th>Dependents</th>\n",
       "      <th>InternetService</th>\n",
       "      <th>OnlineSecurity</th>\n",
       "      <th>OnlineBackup</th>\n",
       "      <th>DeviceProtection</th>\n",
       "      <th>TechSupport</th>\n",
       "      <th>StreamingTV</th>\n",
       "      <th>StreamingMovies</th>\n",
       "      <th>MultipleLines</th>\n",
       "      <th>contractPeriod</th>\n",
       "    </tr>\n",
       "  </thead>\n",
       "  <tbody>\n",
       "    <tr>\n",
       "      <th>0</th>\n",
       "      <td>7590-VHVEG</td>\n",
       "      <td>2020-01-01</td>\n",
       "      <td>2020-02-01</td>\n",
       "      <td>Month-to-month</td>\n",
       "      <td>Yes</td>\n",
       "      <td>Electronic check</td>\n",
       "      <td>29.85</td>\n",
       "      <td>29.85</td>\n",
       "      <td>Female</td>\n",
       "      <td>0</td>\n",
       "      <td>Yes</td>\n",
       "      <td>No</td>\n",
       "      <td>DSL</td>\n",
       "      <td>No</td>\n",
       "      <td>Yes</td>\n",
       "      <td>No</td>\n",
       "      <td>No</td>\n",
       "      <td>No</td>\n",
       "      <td>No</td>\n",
       "      <td>No</td>\n",
       "      <td>31</td>\n",
       "    </tr>\n",
       "    <tr>\n",
       "      <th>1</th>\n",
       "      <td>5575-GNVDE</td>\n",
       "      <td>2017-04-01</td>\n",
       "      <td>2020-02-01</td>\n",
       "      <td>One year</td>\n",
       "      <td>No</td>\n",
       "      <td>Mailed check</td>\n",
       "      <td>56.95</td>\n",
       "      <td>1889.50</td>\n",
       "      <td>Male</td>\n",
       "      <td>0</td>\n",
       "      <td>No</td>\n",
       "      <td>No</td>\n",
       "      <td>DSL</td>\n",
       "      <td>Yes</td>\n",
       "      <td>No</td>\n",
       "      <td>Yes</td>\n",
       "      <td>No</td>\n",
       "      <td>No</td>\n",
       "      <td>No</td>\n",
       "      <td>No</td>\n",
       "      <td>1036</td>\n",
       "    </tr>\n",
       "    <tr>\n",
       "      <th>2</th>\n",
       "      <td>3668-QPYBK</td>\n",
       "      <td>2019-10-01</td>\n",
       "      <td>2019-12-01</td>\n",
       "      <td>Month-to-month</td>\n",
       "      <td>Yes</td>\n",
       "      <td>Mailed check</td>\n",
       "      <td>53.85</td>\n",
       "      <td>108.15</td>\n",
       "      <td>Male</td>\n",
       "      <td>0</td>\n",
       "      <td>No</td>\n",
       "      <td>No</td>\n",
       "      <td>DSL</td>\n",
       "      <td>Yes</td>\n",
       "      <td>Yes</td>\n",
       "      <td>No</td>\n",
       "      <td>No</td>\n",
       "      <td>No</td>\n",
       "      <td>No</td>\n",
       "      <td>No</td>\n",
       "      <td>61</td>\n",
       "    </tr>\n",
       "    <tr>\n",
       "      <th>3</th>\n",
       "      <td>7795-CFOCW</td>\n",
       "      <td>2016-05-01</td>\n",
       "      <td>2020-02-01</td>\n",
       "      <td>One year</td>\n",
       "      <td>No</td>\n",
       "      <td>Bank transfer (automatic)</td>\n",
       "      <td>42.30</td>\n",
       "      <td>1840.75</td>\n",
       "      <td>Male</td>\n",
       "      <td>0</td>\n",
       "      <td>No</td>\n",
       "      <td>No</td>\n",
       "      <td>DSL</td>\n",
       "      <td>Yes</td>\n",
       "      <td>No</td>\n",
       "      <td>Yes</td>\n",
       "      <td>Yes</td>\n",
       "      <td>No</td>\n",
       "      <td>No</td>\n",
       "      <td>No</td>\n",
       "      <td>1371</td>\n",
       "    </tr>\n",
       "    <tr>\n",
       "      <th>4</th>\n",
       "      <td>9237-HQITU</td>\n",
       "      <td>2019-09-01</td>\n",
       "      <td>2019-11-01</td>\n",
       "      <td>Month-to-month</td>\n",
       "      <td>Yes</td>\n",
       "      <td>Electronic check</td>\n",
       "      <td>70.70</td>\n",
       "      <td>151.65</td>\n",
       "      <td>Female</td>\n",
       "      <td>0</td>\n",
       "      <td>No</td>\n",
       "      <td>No</td>\n",
       "      <td>Fiber optic</td>\n",
       "      <td>No</td>\n",
       "      <td>No</td>\n",
       "      <td>No</td>\n",
       "      <td>No</td>\n",
       "      <td>No</td>\n",
       "      <td>No</td>\n",
       "      <td>No</td>\n",
       "      <td>61</td>\n",
       "    </tr>\n",
       "  </tbody>\n",
       "</table>\n",
       "</div>"
      ],
      "text/plain": [
       "   customerID  BeginDate    EndDate            Type PaperlessBilling  \\\n",
       "0  7590-VHVEG 2020-01-01 2020-02-01  Month-to-month              Yes   \n",
       "1  5575-GNVDE 2017-04-01 2020-02-01        One year               No   \n",
       "2  3668-QPYBK 2019-10-01 2019-12-01  Month-to-month              Yes   \n",
       "3  7795-CFOCW 2016-05-01 2020-02-01        One year               No   \n",
       "4  9237-HQITU 2019-09-01 2019-11-01  Month-to-month              Yes   \n",
       "\n",
       "               PaymentMethod  MonthlyCharges  TotalCharges  gender  \\\n",
       "0           Electronic check           29.85         29.85  Female   \n",
       "1               Mailed check           56.95       1889.50    Male   \n",
       "2               Mailed check           53.85        108.15    Male   \n",
       "3  Bank transfer (automatic)           42.30       1840.75    Male   \n",
       "4           Electronic check           70.70        151.65  Female   \n",
       "\n",
       "   SeniorCitizen Partner Dependents InternetService OnlineSecurity  \\\n",
       "0              0     Yes         No             DSL             No   \n",
       "1              0      No         No             DSL            Yes   \n",
       "2              0      No         No             DSL            Yes   \n",
       "3              0      No         No             DSL            Yes   \n",
       "4              0      No         No     Fiber optic             No   \n",
       "\n",
       "  OnlineBackup DeviceProtection TechSupport StreamingTV StreamingMovies  \\\n",
       "0          Yes               No          No          No              No   \n",
       "1           No              Yes          No          No              No   \n",
       "2          Yes               No          No          No              No   \n",
       "3           No              Yes         Yes          No              No   \n",
       "4           No               No          No          No              No   \n",
       "\n",
       "  MultipleLines  contractPeriod  \n",
       "0            No              31  \n",
       "1            No            1036  \n",
       "2            No              61  \n",
       "3            No            1371  \n",
       "4            No              61  "
      ]
     },
     "execution_count": 45,
     "metadata": {},
     "output_type": "execute_result"
    }
   ],
   "source": [
    "merged.head()"
   ]
  },
  {
   "cell_type": "markdown",
   "id": "b64dff84",
   "metadata": {},
   "source": [
    "Создадим целевой признак:"
   ]
  },
  {
   "cell_type": "code",
   "execution_count": 46,
   "id": "292114fd",
   "metadata": {},
   "outputs": [],
   "source": [
    "def target (EndDate):\n",
    "    if EndDate != datetime(2020, 2, 1):\n",
    "        return 1\n",
    "    else:\n",
    "        return 0"
   ]
  },
  {
   "cell_type": "code",
   "execution_count": 47,
   "id": "64430018",
   "metadata": {},
   "outputs": [],
   "source": [
    "merged['Target'] = merged.apply(lambda x: target(x.EndDate), axis=1)"
   ]
  },
  {
   "cell_type": "code",
   "execution_count": 48,
   "id": "ec107a61",
   "metadata": {},
   "outputs": [
    {
     "data": {
      "text/html": [
       "<div>\n",
       "<style scoped>\n",
       "    .dataframe tbody tr th:only-of-type {\n",
       "        vertical-align: middle;\n",
       "    }\n",
       "\n",
       "    .dataframe tbody tr th {\n",
       "        vertical-align: top;\n",
       "    }\n",
       "\n",
       "    .dataframe thead th {\n",
       "        text-align: right;\n",
       "    }\n",
       "</style>\n",
       "<table border=\"1\" class=\"dataframe\">\n",
       "  <thead>\n",
       "    <tr style=\"text-align: right;\">\n",
       "      <th></th>\n",
       "      <th>customerID</th>\n",
       "      <th>BeginDate</th>\n",
       "      <th>EndDate</th>\n",
       "      <th>Type</th>\n",
       "      <th>PaperlessBilling</th>\n",
       "      <th>PaymentMethod</th>\n",
       "      <th>MonthlyCharges</th>\n",
       "      <th>TotalCharges</th>\n",
       "      <th>gender</th>\n",
       "      <th>SeniorCitizen</th>\n",
       "      <th>Partner</th>\n",
       "      <th>Dependents</th>\n",
       "      <th>InternetService</th>\n",
       "      <th>OnlineSecurity</th>\n",
       "      <th>OnlineBackup</th>\n",
       "      <th>DeviceProtection</th>\n",
       "      <th>TechSupport</th>\n",
       "      <th>StreamingTV</th>\n",
       "      <th>StreamingMovies</th>\n",
       "      <th>MultipleLines</th>\n",
       "      <th>contractPeriod</th>\n",
       "      <th>Target</th>\n",
       "    </tr>\n",
       "  </thead>\n",
       "  <tbody>\n",
       "    <tr>\n",
       "      <th>0</th>\n",
       "      <td>7590-VHVEG</td>\n",
       "      <td>2020-01-01</td>\n",
       "      <td>2020-02-01</td>\n",
       "      <td>Month-to-month</td>\n",
       "      <td>Yes</td>\n",
       "      <td>Electronic check</td>\n",
       "      <td>29.85</td>\n",
       "      <td>29.85</td>\n",
       "      <td>Female</td>\n",
       "      <td>0</td>\n",
       "      <td>Yes</td>\n",
       "      <td>No</td>\n",
       "      <td>DSL</td>\n",
       "      <td>No</td>\n",
       "      <td>Yes</td>\n",
       "      <td>No</td>\n",
       "      <td>No</td>\n",
       "      <td>No</td>\n",
       "      <td>No</td>\n",
       "      <td>No</td>\n",
       "      <td>31</td>\n",
       "      <td>0</td>\n",
       "    </tr>\n",
       "    <tr>\n",
       "      <th>1</th>\n",
       "      <td>5575-GNVDE</td>\n",
       "      <td>2017-04-01</td>\n",
       "      <td>2020-02-01</td>\n",
       "      <td>One year</td>\n",
       "      <td>No</td>\n",
       "      <td>Mailed check</td>\n",
       "      <td>56.95</td>\n",
       "      <td>1889.50</td>\n",
       "      <td>Male</td>\n",
       "      <td>0</td>\n",
       "      <td>No</td>\n",
       "      <td>No</td>\n",
       "      <td>DSL</td>\n",
       "      <td>Yes</td>\n",
       "      <td>No</td>\n",
       "      <td>Yes</td>\n",
       "      <td>No</td>\n",
       "      <td>No</td>\n",
       "      <td>No</td>\n",
       "      <td>No</td>\n",
       "      <td>1036</td>\n",
       "      <td>0</td>\n",
       "    </tr>\n",
       "    <tr>\n",
       "      <th>2</th>\n",
       "      <td>3668-QPYBK</td>\n",
       "      <td>2019-10-01</td>\n",
       "      <td>2019-12-01</td>\n",
       "      <td>Month-to-month</td>\n",
       "      <td>Yes</td>\n",
       "      <td>Mailed check</td>\n",
       "      <td>53.85</td>\n",
       "      <td>108.15</td>\n",
       "      <td>Male</td>\n",
       "      <td>0</td>\n",
       "      <td>No</td>\n",
       "      <td>No</td>\n",
       "      <td>DSL</td>\n",
       "      <td>Yes</td>\n",
       "      <td>Yes</td>\n",
       "      <td>No</td>\n",
       "      <td>No</td>\n",
       "      <td>No</td>\n",
       "      <td>No</td>\n",
       "      <td>No</td>\n",
       "      <td>61</td>\n",
       "      <td>1</td>\n",
       "    </tr>\n",
       "    <tr>\n",
       "      <th>3</th>\n",
       "      <td>7795-CFOCW</td>\n",
       "      <td>2016-05-01</td>\n",
       "      <td>2020-02-01</td>\n",
       "      <td>One year</td>\n",
       "      <td>No</td>\n",
       "      <td>Bank transfer (automatic)</td>\n",
       "      <td>42.30</td>\n",
       "      <td>1840.75</td>\n",
       "      <td>Male</td>\n",
       "      <td>0</td>\n",
       "      <td>No</td>\n",
       "      <td>No</td>\n",
       "      <td>DSL</td>\n",
       "      <td>Yes</td>\n",
       "      <td>No</td>\n",
       "      <td>Yes</td>\n",
       "      <td>Yes</td>\n",
       "      <td>No</td>\n",
       "      <td>No</td>\n",
       "      <td>No</td>\n",
       "      <td>1371</td>\n",
       "      <td>0</td>\n",
       "    </tr>\n",
       "    <tr>\n",
       "      <th>4</th>\n",
       "      <td>9237-HQITU</td>\n",
       "      <td>2019-09-01</td>\n",
       "      <td>2019-11-01</td>\n",
       "      <td>Month-to-month</td>\n",
       "      <td>Yes</td>\n",
       "      <td>Electronic check</td>\n",
       "      <td>70.70</td>\n",
       "      <td>151.65</td>\n",
       "      <td>Female</td>\n",
       "      <td>0</td>\n",
       "      <td>No</td>\n",
       "      <td>No</td>\n",
       "      <td>Fiber optic</td>\n",
       "      <td>No</td>\n",
       "      <td>No</td>\n",
       "      <td>No</td>\n",
       "      <td>No</td>\n",
       "      <td>No</td>\n",
       "      <td>No</td>\n",
       "      <td>No</td>\n",
       "      <td>61</td>\n",
       "      <td>1</td>\n",
       "    </tr>\n",
       "  </tbody>\n",
       "</table>\n",
       "</div>"
      ],
      "text/plain": [
       "   customerID  BeginDate    EndDate            Type PaperlessBilling  \\\n",
       "0  7590-VHVEG 2020-01-01 2020-02-01  Month-to-month              Yes   \n",
       "1  5575-GNVDE 2017-04-01 2020-02-01        One year               No   \n",
       "2  3668-QPYBK 2019-10-01 2019-12-01  Month-to-month              Yes   \n",
       "3  7795-CFOCW 2016-05-01 2020-02-01        One year               No   \n",
       "4  9237-HQITU 2019-09-01 2019-11-01  Month-to-month              Yes   \n",
       "\n",
       "               PaymentMethod  MonthlyCharges  TotalCharges  gender  \\\n",
       "0           Electronic check           29.85         29.85  Female   \n",
       "1               Mailed check           56.95       1889.50    Male   \n",
       "2               Mailed check           53.85        108.15    Male   \n",
       "3  Bank transfer (automatic)           42.30       1840.75    Male   \n",
       "4           Electronic check           70.70        151.65  Female   \n",
       "\n",
       "   SeniorCitizen Partner Dependents InternetService OnlineSecurity  \\\n",
       "0              0     Yes         No             DSL             No   \n",
       "1              0      No         No             DSL            Yes   \n",
       "2              0      No         No             DSL            Yes   \n",
       "3              0      No         No             DSL            Yes   \n",
       "4              0      No         No     Fiber optic             No   \n",
       "\n",
       "  OnlineBackup DeviceProtection TechSupport StreamingTV StreamingMovies  \\\n",
       "0          Yes               No          No          No              No   \n",
       "1           No              Yes          No          No              No   \n",
       "2          Yes               No          No          No              No   \n",
       "3           No              Yes         Yes          No              No   \n",
       "4           No               No          No          No              No   \n",
       "\n",
       "  MultipleLines  contractPeriod  Target  \n",
       "0            No              31       0  \n",
       "1            No            1036       0  \n",
       "2            No              61       1  \n",
       "3            No            1371       0  \n",
       "4            No              61       1  "
      ]
     },
     "execution_count": 48,
     "metadata": {},
     "output_type": "execute_result"
    }
   ],
   "source": [
    "merged.head()"
   ]
  },
  {
   "cell_type": "code",
   "execution_count": 49,
   "id": "adf20b90",
   "metadata": {},
   "outputs": [],
   "source": [
    "merged = merged.drop(['BeginDate', 'EndDate'], axis=1)"
   ]
  },
  {
   "cell_type": "code",
   "execution_count": 50,
   "id": "f6a963fd",
   "metadata": {
    "scrolled": true
   },
   "outputs": [
    {
     "data": {
      "text/html": [
       "<div>\n",
       "<style scoped>\n",
       "    .dataframe tbody tr th:only-of-type {\n",
       "        vertical-align: middle;\n",
       "    }\n",
       "\n",
       "    .dataframe tbody tr th {\n",
       "        vertical-align: top;\n",
       "    }\n",
       "\n",
       "    .dataframe thead th {\n",
       "        text-align: right;\n",
       "    }\n",
       "</style>\n",
       "<table border=\"1\" class=\"dataframe\">\n",
       "  <thead>\n",
       "    <tr style=\"text-align: right;\">\n",
       "      <th></th>\n",
       "      <th>customerID</th>\n",
       "      <th>Type</th>\n",
       "      <th>PaperlessBilling</th>\n",
       "      <th>PaymentMethod</th>\n",
       "      <th>MonthlyCharges</th>\n",
       "      <th>TotalCharges</th>\n",
       "      <th>gender</th>\n",
       "      <th>SeniorCitizen</th>\n",
       "      <th>Partner</th>\n",
       "      <th>Dependents</th>\n",
       "      <th>InternetService</th>\n",
       "      <th>OnlineSecurity</th>\n",
       "      <th>OnlineBackup</th>\n",
       "      <th>DeviceProtection</th>\n",
       "      <th>TechSupport</th>\n",
       "      <th>StreamingTV</th>\n",
       "      <th>StreamingMovies</th>\n",
       "      <th>MultipleLines</th>\n",
       "      <th>contractPeriod</th>\n",
       "      <th>Target</th>\n",
       "    </tr>\n",
       "  </thead>\n",
       "  <tbody>\n",
       "    <tr>\n",
       "      <th>0</th>\n",
       "      <td>7590-VHVEG</td>\n",
       "      <td>Month-to-month</td>\n",
       "      <td>Yes</td>\n",
       "      <td>Electronic check</td>\n",
       "      <td>29.85</td>\n",
       "      <td>29.85</td>\n",
       "      <td>Female</td>\n",
       "      <td>0</td>\n",
       "      <td>Yes</td>\n",
       "      <td>No</td>\n",
       "      <td>DSL</td>\n",
       "      <td>No</td>\n",
       "      <td>Yes</td>\n",
       "      <td>No</td>\n",
       "      <td>No</td>\n",
       "      <td>No</td>\n",
       "      <td>No</td>\n",
       "      <td>No</td>\n",
       "      <td>31</td>\n",
       "      <td>0</td>\n",
       "    </tr>\n",
       "    <tr>\n",
       "      <th>1</th>\n",
       "      <td>5575-GNVDE</td>\n",
       "      <td>One year</td>\n",
       "      <td>No</td>\n",
       "      <td>Mailed check</td>\n",
       "      <td>56.95</td>\n",
       "      <td>1889.50</td>\n",
       "      <td>Male</td>\n",
       "      <td>0</td>\n",
       "      <td>No</td>\n",
       "      <td>No</td>\n",
       "      <td>DSL</td>\n",
       "      <td>Yes</td>\n",
       "      <td>No</td>\n",
       "      <td>Yes</td>\n",
       "      <td>No</td>\n",
       "      <td>No</td>\n",
       "      <td>No</td>\n",
       "      <td>No</td>\n",
       "      <td>1036</td>\n",
       "      <td>0</td>\n",
       "    </tr>\n",
       "    <tr>\n",
       "      <th>2</th>\n",
       "      <td>3668-QPYBK</td>\n",
       "      <td>Month-to-month</td>\n",
       "      <td>Yes</td>\n",
       "      <td>Mailed check</td>\n",
       "      <td>53.85</td>\n",
       "      <td>108.15</td>\n",
       "      <td>Male</td>\n",
       "      <td>0</td>\n",
       "      <td>No</td>\n",
       "      <td>No</td>\n",
       "      <td>DSL</td>\n",
       "      <td>Yes</td>\n",
       "      <td>Yes</td>\n",
       "      <td>No</td>\n",
       "      <td>No</td>\n",
       "      <td>No</td>\n",
       "      <td>No</td>\n",
       "      <td>No</td>\n",
       "      <td>61</td>\n",
       "      <td>1</td>\n",
       "    </tr>\n",
       "    <tr>\n",
       "      <th>3</th>\n",
       "      <td>7795-CFOCW</td>\n",
       "      <td>One year</td>\n",
       "      <td>No</td>\n",
       "      <td>Bank transfer (automatic)</td>\n",
       "      <td>42.30</td>\n",
       "      <td>1840.75</td>\n",
       "      <td>Male</td>\n",
       "      <td>0</td>\n",
       "      <td>No</td>\n",
       "      <td>No</td>\n",
       "      <td>DSL</td>\n",
       "      <td>Yes</td>\n",
       "      <td>No</td>\n",
       "      <td>Yes</td>\n",
       "      <td>Yes</td>\n",
       "      <td>No</td>\n",
       "      <td>No</td>\n",
       "      <td>No</td>\n",
       "      <td>1371</td>\n",
       "      <td>0</td>\n",
       "    </tr>\n",
       "    <tr>\n",
       "      <th>4</th>\n",
       "      <td>9237-HQITU</td>\n",
       "      <td>Month-to-month</td>\n",
       "      <td>Yes</td>\n",
       "      <td>Electronic check</td>\n",
       "      <td>70.70</td>\n",
       "      <td>151.65</td>\n",
       "      <td>Female</td>\n",
       "      <td>0</td>\n",
       "      <td>No</td>\n",
       "      <td>No</td>\n",
       "      <td>Fiber optic</td>\n",
       "      <td>No</td>\n",
       "      <td>No</td>\n",
       "      <td>No</td>\n",
       "      <td>No</td>\n",
       "      <td>No</td>\n",
       "      <td>No</td>\n",
       "      <td>No</td>\n",
       "      <td>61</td>\n",
       "      <td>1</td>\n",
       "    </tr>\n",
       "  </tbody>\n",
       "</table>\n",
       "</div>"
      ],
      "text/plain": [
       "   customerID            Type PaperlessBilling              PaymentMethod  \\\n",
       "0  7590-VHVEG  Month-to-month              Yes           Electronic check   \n",
       "1  5575-GNVDE        One year               No               Mailed check   \n",
       "2  3668-QPYBK  Month-to-month              Yes               Mailed check   \n",
       "3  7795-CFOCW        One year               No  Bank transfer (automatic)   \n",
       "4  9237-HQITU  Month-to-month              Yes           Electronic check   \n",
       "\n",
       "   MonthlyCharges  TotalCharges  gender  SeniorCitizen Partner Dependents  \\\n",
       "0           29.85         29.85  Female              0     Yes         No   \n",
       "1           56.95       1889.50    Male              0      No         No   \n",
       "2           53.85        108.15    Male              0      No         No   \n",
       "3           42.30       1840.75    Male              0      No         No   \n",
       "4           70.70        151.65  Female              0      No         No   \n",
       "\n",
       "  InternetService OnlineSecurity OnlineBackup DeviceProtection TechSupport  \\\n",
       "0             DSL             No          Yes               No          No   \n",
       "1             DSL            Yes           No              Yes          No   \n",
       "2             DSL            Yes          Yes               No          No   \n",
       "3             DSL            Yes           No              Yes         Yes   \n",
       "4     Fiber optic             No           No               No          No   \n",
       "\n",
       "  StreamingTV StreamingMovies MultipleLines  contractPeriod  Target  \n",
       "0          No              No            No              31       0  \n",
       "1          No              No            No            1036       0  \n",
       "2          No              No            No              61       1  \n",
       "3          No              No            No            1371       0  \n",
       "4          No              No            No              61       1  "
      ]
     },
     "execution_count": 50,
     "metadata": {},
     "output_type": "execute_result"
    }
   ],
   "source": [
    "merged.head()"
   ]
  },
  {
   "cell_type": "markdown",
   "id": "8b54fc63",
   "metadata": {},
   "source": [
    "Столбец *customerID* судя по всему формируется рандомно и является уникальным для каждого клиента, в том числе и для будущих клиентов. Поэтому не может оказывать влияния на целевой признак. Его можно удалить."
   ]
  },
  {
   "cell_type": "code",
   "execution_count": 51,
   "id": "54849bc8",
   "metadata": {
    "scrolled": true
   },
   "outputs": [
    {
     "data": {
      "text/html": [
       "<div>\n",
       "<style scoped>\n",
       "    .dataframe tbody tr th:only-of-type {\n",
       "        vertical-align: middle;\n",
       "    }\n",
       "\n",
       "    .dataframe tbody tr th {\n",
       "        vertical-align: top;\n",
       "    }\n",
       "\n",
       "    .dataframe thead th {\n",
       "        text-align: right;\n",
       "    }\n",
       "</style>\n",
       "<table border=\"1\" class=\"dataframe\">\n",
       "  <thead>\n",
       "    <tr style=\"text-align: right;\">\n",
       "      <th></th>\n",
       "      <th>Type</th>\n",
       "      <th>PaperlessBilling</th>\n",
       "      <th>PaymentMethod</th>\n",
       "      <th>MonthlyCharges</th>\n",
       "      <th>TotalCharges</th>\n",
       "      <th>gender</th>\n",
       "      <th>SeniorCitizen</th>\n",
       "      <th>Partner</th>\n",
       "      <th>Dependents</th>\n",
       "      <th>InternetService</th>\n",
       "      <th>OnlineSecurity</th>\n",
       "      <th>OnlineBackup</th>\n",
       "      <th>DeviceProtection</th>\n",
       "      <th>TechSupport</th>\n",
       "      <th>StreamingTV</th>\n",
       "      <th>StreamingMovies</th>\n",
       "      <th>MultipleLines</th>\n",
       "      <th>contractPeriod</th>\n",
       "      <th>Target</th>\n",
       "    </tr>\n",
       "  </thead>\n",
       "  <tbody>\n",
       "    <tr>\n",
       "      <th>0</th>\n",
       "      <td>Month-to-month</td>\n",
       "      <td>Yes</td>\n",
       "      <td>Electronic check</td>\n",
       "      <td>29.85</td>\n",
       "      <td>29.85</td>\n",
       "      <td>Female</td>\n",
       "      <td>0</td>\n",
       "      <td>Yes</td>\n",
       "      <td>No</td>\n",
       "      <td>DSL</td>\n",
       "      <td>No</td>\n",
       "      <td>Yes</td>\n",
       "      <td>No</td>\n",
       "      <td>No</td>\n",
       "      <td>No</td>\n",
       "      <td>No</td>\n",
       "      <td>No</td>\n",
       "      <td>31</td>\n",
       "      <td>0</td>\n",
       "    </tr>\n",
       "    <tr>\n",
       "      <th>1</th>\n",
       "      <td>One year</td>\n",
       "      <td>No</td>\n",
       "      <td>Mailed check</td>\n",
       "      <td>56.95</td>\n",
       "      <td>1889.50</td>\n",
       "      <td>Male</td>\n",
       "      <td>0</td>\n",
       "      <td>No</td>\n",
       "      <td>No</td>\n",
       "      <td>DSL</td>\n",
       "      <td>Yes</td>\n",
       "      <td>No</td>\n",
       "      <td>Yes</td>\n",
       "      <td>No</td>\n",
       "      <td>No</td>\n",
       "      <td>No</td>\n",
       "      <td>No</td>\n",
       "      <td>1036</td>\n",
       "      <td>0</td>\n",
       "    </tr>\n",
       "    <tr>\n",
       "      <th>2</th>\n",
       "      <td>Month-to-month</td>\n",
       "      <td>Yes</td>\n",
       "      <td>Mailed check</td>\n",
       "      <td>53.85</td>\n",
       "      <td>108.15</td>\n",
       "      <td>Male</td>\n",
       "      <td>0</td>\n",
       "      <td>No</td>\n",
       "      <td>No</td>\n",
       "      <td>DSL</td>\n",
       "      <td>Yes</td>\n",
       "      <td>Yes</td>\n",
       "      <td>No</td>\n",
       "      <td>No</td>\n",
       "      <td>No</td>\n",
       "      <td>No</td>\n",
       "      <td>No</td>\n",
       "      <td>61</td>\n",
       "      <td>1</td>\n",
       "    </tr>\n",
       "    <tr>\n",
       "      <th>3</th>\n",
       "      <td>One year</td>\n",
       "      <td>No</td>\n",
       "      <td>Bank transfer (automatic)</td>\n",
       "      <td>42.30</td>\n",
       "      <td>1840.75</td>\n",
       "      <td>Male</td>\n",
       "      <td>0</td>\n",
       "      <td>No</td>\n",
       "      <td>No</td>\n",
       "      <td>DSL</td>\n",
       "      <td>Yes</td>\n",
       "      <td>No</td>\n",
       "      <td>Yes</td>\n",
       "      <td>Yes</td>\n",
       "      <td>No</td>\n",
       "      <td>No</td>\n",
       "      <td>No</td>\n",
       "      <td>1371</td>\n",
       "      <td>0</td>\n",
       "    </tr>\n",
       "    <tr>\n",
       "      <th>4</th>\n",
       "      <td>Month-to-month</td>\n",
       "      <td>Yes</td>\n",
       "      <td>Electronic check</td>\n",
       "      <td>70.70</td>\n",
       "      <td>151.65</td>\n",
       "      <td>Female</td>\n",
       "      <td>0</td>\n",
       "      <td>No</td>\n",
       "      <td>No</td>\n",
       "      <td>Fiber optic</td>\n",
       "      <td>No</td>\n",
       "      <td>No</td>\n",
       "      <td>No</td>\n",
       "      <td>No</td>\n",
       "      <td>No</td>\n",
       "      <td>No</td>\n",
       "      <td>No</td>\n",
       "      <td>61</td>\n",
       "      <td>1</td>\n",
       "    </tr>\n",
       "  </tbody>\n",
       "</table>\n",
       "</div>"
      ],
      "text/plain": [
       "             Type PaperlessBilling              PaymentMethod  MonthlyCharges  \\\n",
       "0  Month-to-month              Yes           Electronic check           29.85   \n",
       "1        One year               No               Mailed check           56.95   \n",
       "2  Month-to-month              Yes               Mailed check           53.85   \n",
       "3        One year               No  Bank transfer (automatic)           42.30   \n",
       "4  Month-to-month              Yes           Electronic check           70.70   \n",
       "\n",
       "   TotalCharges  gender  SeniorCitizen Partner Dependents InternetService  \\\n",
       "0         29.85  Female              0     Yes         No             DSL   \n",
       "1       1889.50    Male              0      No         No             DSL   \n",
       "2        108.15    Male              0      No         No             DSL   \n",
       "3       1840.75    Male              0      No         No             DSL   \n",
       "4        151.65  Female              0      No         No     Fiber optic   \n",
       "\n",
       "  OnlineSecurity OnlineBackup DeviceProtection TechSupport StreamingTV  \\\n",
       "0             No          Yes               No          No          No   \n",
       "1            Yes           No              Yes          No          No   \n",
       "2            Yes          Yes               No          No          No   \n",
       "3            Yes           No              Yes         Yes          No   \n",
       "4             No           No               No          No          No   \n",
       "\n",
       "  StreamingMovies MultipleLines  contractPeriod  Target  \n",
       "0              No            No              31       0  \n",
       "1              No            No            1036       0  \n",
       "2              No            No              61       1  \n",
       "3              No            No            1371       0  \n",
       "4              No            No              61       1  "
      ]
     },
     "execution_count": 51,
     "metadata": {},
     "output_type": "execute_result"
    }
   ],
   "source": [
    "merged = merged.drop('customerID', axis=1)\n",
    "merged.head()"
   ]
  },
  {
   "cell_type": "markdown",
   "id": "15d5da09",
   "metadata": {},
   "source": [
    "Создадим инструмент для кодирования категориальных признаков:"
   ]
  },
  {
   "cell_type": "code",
   "execution_count": 52,
   "id": "cb393821",
   "metadata": {
    "scrolled": false
   },
   "outputs": [
    {
     "data": {
      "text/html": [
       "<div>\n",
       "<style scoped>\n",
       "    .dataframe tbody tr th:only-of-type {\n",
       "        vertical-align: middle;\n",
       "    }\n",
       "\n",
       "    .dataframe tbody tr th {\n",
       "        vertical-align: top;\n",
       "    }\n",
       "\n",
       "    .dataframe thead th {\n",
       "        text-align: right;\n",
       "    }\n",
       "</style>\n",
       "<table border=\"1\" class=\"dataframe\">\n",
       "  <thead>\n",
       "    <tr style=\"text-align: right;\">\n",
       "      <th></th>\n",
       "      <th>Type</th>\n",
       "      <th>PaperlessBilling</th>\n",
       "      <th>PaymentMethod</th>\n",
       "      <th>MonthlyCharges</th>\n",
       "      <th>TotalCharges</th>\n",
       "      <th>gender</th>\n",
       "      <th>SeniorCitizen</th>\n",
       "      <th>Partner</th>\n",
       "      <th>Dependents</th>\n",
       "      <th>InternetService</th>\n",
       "      <th>OnlineSecurity</th>\n",
       "      <th>OnlineBackup</th>\n",
       "      <th>DeviceProtection</th>\n",
       "      <th>TechSupport</th>\n",
       "      <th>StreamingTV</th>\n",
       "      <th>StreamingMovies</th>\n",
       "      <th>MultipleLines</th>\n",
       "      <th>contractPeriod</th>\n",
       "      <th>Target</th>\n",
       "    </tr>\n",
       "  </thead>\n",
       "  <tbody>\n",
       "    <tr>\n",
       "      <th>0</th>\n",
       "      <td>0.0</td>\n",
       "      <td>1.0</td>\n",
       "      <td>2.0</td>\n",
       "      <td>29.85</td>\n",
       "      <td>29.85</td>\n",
       "      <td>0.0</td>\n",
       "      <td>0.0</td>\n",
       "      <td>1.0</td>\n",
       "      <td>0.0</td>\n",
       "      <td>0.0</td>\n",
       "      <td>0.0</td>\n",
       "      <td>1.0</td>\n",
       "      <td>0.0</td>\n",
       "      <td>0.0</td>\n",
       "      <td>0.0</td>\n",
       "      <td>0.0</td>\n",
       "      <td>0.0</td>\n",
       "      <td>31</td>\n",
       "      <td>0</td>\n",
       "    </tr>\n",
       "    <tr>\n",
       "      <th>1</th>\n",
       "      <td>1.0</td>\n",
       "      <td>0.0</td>\n",
       "      <td>3.0</td>\n",
       "      <td>56.95</td>\n",
       "      <td>1889.50</td>\n",
       "      <td>1.0</td>\n",
       "      <td>0.0</td>\n",
       "      <td>0.0</td>\n",
       "      <td>0.0</td>\n",
       "      <td>0.0</td>\n",
       "      <td>1.0</td>\n",
       "      <td>0.0</td>\n",
       "      <td>1.0</td>\n",
       "      <td>0.0</td>\n",
       "      <td>0.0</td>\n",
       "      <td>0.0</td>\n",
       "      <td>0.0</td>\n",
       "      <td>1036</td>\n",
       "      <td>0</td>\n",
       "    </tr>\n",
       "    <tr>\n",
       "      <th>2</th>\n",
       "      <td>0.0</td>\n",
       "      <td>1.0</td>\n",
       "      <td>3.0</td>\n",
       "      <td>53.85</td>\n",
       "      <td>108.15</td>\n",
       "      <td>1.0</td>\n",
       "      <td>0.0</td>\n",
       "      <td>0.0</td>\n",
       "      <td>0.0</td>\n",
       "      <td>0.0</td>\n",
       "      <td>1.0</td>\n",
       "      <td>1.0</td>\n",
       "      <td>0.0</td>\n",
       "      <td>0.0</td>\n",
       "      <td>0.0</td>\n",
       "      <td>0.0</td>\n",
       "      <td>0.0</td>\n",
       "      <td>61</td>\n",
       "      <td>1</td>\n",
       "    </tr>\n",
       "    <tr>\n",
       "      <th>3</th>\n",
       "      <td>1.0</td>\n",
       "      <td>0.0</td>\n",
       "      <td>0.0</td>\n",
       "      <td>42.30</td>\n",
       "      <td>1840.75</td>\n",
       "      <td>1.0</td>\n",
       "      <td>0.0</td>\n",
       "      <td>0.0</td>\n",
       "      <td>0.0</td>\n",
       "      <td>0.0</td>\n",
       "      <td>1.0</td>\n",
       "      <td>0.0</td>\n",
       "      <td>1.0</td>\n",
       "      <td>1.0</td>\n",
       "      <td>0.0</td>\n",
       "      <td>0.0</td>\n",
       "      <td>0.0</td>\n",
       "      <td>1371</td>\n",
       "      <td>0</td>\n",
       "    </tr>\n",
       "    <tr>\n",
       "      <th>4</th>\n",
       "      <td>0.0</td>\n",
       "      <td>1.0</td>\n",
       "      <td>2.0</td>\n",
       "      <td>70.70</td>\n",
       "      <td>151.65</td>\n",
       "      <td>0.0</td>\n",
       "      <td>0.0</td>\n",
       "      <td>0.0</td>\n",
       "      <td>0.0</td>\n",
       "      <td>1.0</td>\n",
       "      <td>0.0</td>\n",
       "      <td>0.0</td>\n",
       "      <td>0.0</td>\n",
       "      <td>0.0</td>\n",
       "      <td>0.0</td>\n",
       "      <td>0.0</td>\n",
       "      <td>0.0</td>\n",
       "      <td>61</td>\n",
       "      <td>1</td>\n",
       "    </tr>\n",
       "  </tbody>\n",
       "</table>\n",
       "</div>"
      ],
      "text/plain": [
       "   Type  PaperlessBilling  PaymentMethod  MonthlyCharges  TotalCharges  \\\n",
       "0   0.0               1.0            2.0           29.85         29.85   \n",
       "1   1.0               0.0            3.0           56.95       1889.50   \n",
       "2   0.0               1.0            3.0           53.85        108.15   \n",
       "3   1.0               0.0            0.0           42.30       1840.75   \n",
       "4   0.0               1.0            2.0           70.70        151.65   \n",
       "\n",
       "   gender  SeniorCitizen  Partner  Dependents  InternetService  \\\n",
       "0     0.0            0.0      1.0         0.0              0.0   \n",
       "1     1.0            0.0      0.0         0.0              0.0   \n",
       "2     1.0            0.0      0.0         0.0              0.0   \n",
       "3     1.0            0.0      0.0         0.0              0.0   \n",
       "4     0.0            0.0      0.0         0.0              1.0   \n",
       "\n",
       "   OnlineSecurity  OnlineBackup  DeviceProtection  TechSupport  StreamingTV  \\\n",
       "0             0.0           1.0               0.0          0.0          0.0   \n",
       "1             1.0           0.0               1.0          0.0          0.0   \n",
       "2             1.0           1.0               0.0          0.0          0.0   \n",
       "3             1.0           0.0               1.0          1.0          0.0   \n",
       "4             0.0           0.0               0.0          0.0          0.0   \n",
       "\n",
       "   StreamingMovies  MultipleLines  contractPeriod  Target  \n",
       "0              0.0            0.0              31       0  \n",
       "1              0.0            0.0            1036       0  \n",
       "2              0.0            0.0              61       1  \n",
       "3              0.0            0.0            1371       0  \n",
       "4              0.0            0.0              61       1  "
      ]
     },
     "execution_count": 52,
     "metadata": {},
     "output_type": "execute_result"
    }
   ],
   "source": [
    "encoder = OrdinalEncoder()\n",
    "merged_ordinal = merged\n",
    "merged_ordinal[['Type','PaperlessBilling', 'PaymentMethod', 'gender', 'SeniorCitizen', 'Partner',\n",
    "               'Dependents', 'InternetService', 'OnlineSecurity', 'OnlineBackup',\n",
    "              'DeviceProtection', 'TechSupport', 'StreamingTV', 'StreamingMovies',\n",
    "              'MultipleLines']] = encoder.fit_transform(merged_ordinal[['Type',\n",
    "                                                                      'PaperlessBilling',\n",
    "                                                                      'PaymentMethod', 'gender',\n",
    "                                                                      'SeniorCitizen', 'Partner',\n",
    "               'Dependents', 'InternetService', 'OnlineSecurity', 'OnlineBackup',\n",
    "              'DeviceProtection', 'TechSupport', 'StreamingTV', 'StreamingMovies',\n",
    "              'MultipleLines']])\n",
    "merged_ordinal.head()"
   ]
  },
  {
   "cell_type": "markdown",
   "id": "f6f1b357",
   "metadata": {},
   "source": [
    "Следующим этом можно изучить зависимость признаков друг от друга."
   ]
  },
  {
   "cell_type": "code",
   "execution_count": 53,
   "id": "f8c200d0",
   "metadata": {
    "scrolled": false
   },
   "outputs": [
    {
     "data": {
      "image/png": "[encoded data removed]",
      "text/plain": [
       "<Figure size 640x480 with 2 Axes>"
      ]
     },
     "metadata": {},
     "output_type": "display_data"
    }
   ],
   "source": [
    "corr = merged_ordinal.corr()\n",
    "sns.heatmap(corr)\n",
    "plt.show()"
   ]
  },
  {
   "cell_type": "markdown",
   "id": "071e82d8",
   "metadata": {},
   "source": [
    "Здесь видно, что столбы с числовыми данными *contractPeriod* и *TotalCharges* имеют наименьшую корреляцию с целевой переменной. Можно иметь это ввиду на этапе изучения важности параметров для моделей.\n",
    "\n",
    "Также видно, что услуги *OnlineBackup*, *DeviceProtection*, *TechSupport*, *StreamingTV*, *StreamingMovies* и *MultipleLines* предоставлялись оператором не бесплатно и влияли на показатели ежемесячных и общих расходов клиентов."
   ]
  },
  {
   "cell_type": "markdown",
   "id": "2f7ec998",
   "metadata": {},
   "source": [
    "### Написание модели"
   ]
  },
  {
   "cell_type": "markdown",
   "id": "be326273",
   "metadata": {},
   "source": [
    "Для более удобного создания моделей напишем функции:"
   ]
  },
  {
   "cell_type": "code",
   "execution_count": 54,
   "id": "a7fc3508",
   "metadata": {},
   "outputs": [],
   "source": [
    "def make_features_target (data, target_col='Target'):\n",
    "    features = data.drop(target_col, axis=1)\n",
    "    target = data[target_col]\n",
    "    return features, target"
   ]
  },
  {
   "cell_type": "code",
   "execution_count": 55,
   "id": "edbf6bbd",
   "metadata": {},
   "outputs": [],
   "source": [
    "def split_data (features, target):\n",
    "    features_train, features_test, target_train, target_test = train_test_split(features, target,\n",
    "                                                                                test_size=0.2,\n",
    "                                                                                random_state = random_state)\n",
    "    scaler = StandardScaler()\n",
    "    numeric = ['MonthlyCharges', 'TotalCharges', 'contractPeriod']\n",
    "    scaler.fit(features_train[numeric])\n",
    "    \n",
    "    features_train[numeric] = scaler.transform(features_train[numeric])\n",
    "    features_test[numeric] = scaler.transform(features_test[numeric])\n",
    "    \n",
    "    return features_train, features_test, target_train, target_test"
   ]
  },
  {
   "cell_type": "markdown",
   "id": "5389edf3",
   "metadata": {},
   "source": [
    "Разделим датасет на выборки:"
   ]
  },
  {
   "cell_type": "code",
   "execution_count": 56,
   "id": "ba34463d",
   "metadata": {},
   "outputs": [],
   "source": [
    "pd.options.mode.chained_assignment = None"
   ]
  },
  {
   "cell_type": "code",
   "execution_count": 57,
   "id": "3f041d21",
   "metadata": {
    "scrolled": true
   },
   "outputs": [],
   "source": [
    "features, target = make_features_target(merged_ordinal)\n",
    "features_train, features_test, target_train, target_test = split_data(features, target)"
   ]
  },
  {
   "cell_type": "markdown",
   "id": "2e566c5f",
   "metadata": {},
   "source": [
    "#### LogisticRegression"
   ]
  },
  {
   "cell_type": "markdown",
   "id": "ba242c04",
   "metadata": {},
   "source": [
    "Для логистической регрессии необходимо изучить данные на предмет наличия мультиколлинеарности:"
   ]
  },
  {
   "cell_type": "code",
   "execution_count": 58,
   "id": "bc5d0a0c",
   "metadata": {
    "scrolled": false
   },
   "outputs": [
    {
     "data": {
      "text/html": [
       "<div>\n",
       "<style scoped>\n",
       "    .dataframe tbody tr th:only-of-type {\n",
       "        vertical-align: middle;\n",
       "    }\n",
       "\n",
       "    .dataframe tbody tr th {\n",
       "        vertical-align: top;\n",
       "    }\n",
       "\n",
       "    .dataframe thead th {\n",
       "        text-align: right;\n",
       "    }\n",
       "</style>\n",
       "<table border=\"1\" class=\"dataframe\">\n",
       "  <thead>\n",
       "    <tr style=\"text-align: right;\">\n",
       "      <th></th>\n",
       "      <th>Atrribute</th>\n",
       "      <th>VIF scores</th>\n",
       "    </tr>\n",
       "  </thead>\n",
       "  <tbody>\n",
       "    <tr>\n",
       "      <th>0</th>\n",
       "      <td>Type</td>\n",
       "      <td>4.078135</td>\n",
       "    </tr>\n",
       "    <tr>\n",
       "      <th>1</th>\n",
       "      <td>PaperlessBilling</td>\n",
       "      <td>2.874230</td>\n",
       "    </tr>\n",
       "    <tr>\n",
       "      <th>2</th>\n",
       "      <td>PaymentMethod</td>\n",
       "      <td>2.970294</td>\n",
       "    </tr>\n",
       "    <tr>\n",
       "      <th>3</th>\n",
       "      <td>MonthlyCharges</td>\n",
       "      <td>16.166061</td>\n",
       "    </tr>\n",
       "    <tr>\n",
       "      <th>4</th>\n",
       "      <td>TotalCharges</td>\n",
       "      <td>14.297280</td>\n",
       "    </tr>\n",
       "    <tr>\n",
       "      <th>5</th>\n",
       "      <td>gender</td>\n",
       "      <td>1.947504</td>\n",
       "    </tr>\n",
       "    <tr>\n",
       "      <th>6</th>\n",
       "      <td>SeniorCitizen</td>\n",
       "      <td>1.361945</td>\n",
       "    </tr>\n",
       "    <tr>\n",
       "      <th>7</th>\n",
       "      <td>Partner</td>\n",
       "      <td>2.819666</td>\n",
       "    </tr>\n",
       "    <tr>\n",
       "      <th>8</th>\n",
       "      <td>Dependents</td>\n",
       "      <td>1.955419</td>\n",
       "    </tr>\n",
       "    <tr>\n",
       "      <th>9</th>\n",
       "      <td>InternetService</td>\n",
       "      <td>3.367112</td>\n",
       "    </tr>\n",
       "    <tr>\n",
       "      <th>10</th>\n",
       "      <td>OnlineSecurity</td>\n",
       "      <td>2.060884</td>\n",
       "    </tr>\n",
       "    <tr>\n",
       "      <th>11</th>\n",
       "      <td>OnlineBackup</td>\n",
       "      <td>2.280680</td>\n",
       "    </tr>\n",
       "    <tr>\n",
       "      <th>12</th>\n",
       "      <td>DeviceProtection</td>\n",
       "      <td>2.387575</td>\n",
       "    </tr>\n",
       "    <tr>\n",
       "      <th>13</th>\n",
       "      <td>TechSupport</td>\n",
       "      <td>2.143825</td>\n",
       "    </tr>\n",
       "    <tr>\n",
       "      <th>14</th>\n",
       "      <td>StreamingTV</td>\n",
       "      <td>2.981461</td>\n",
       "    </tr>\n",
       "    <tr>\n",
       "      <th>15</th>\n",
       "      <td>StreamingMovies</td>\n",
       "      <td>3.010259</td>\n",
       "    </tr>\n",
       "    <tr>\n",
       "      <th>16</th>\n",
       "      <td>MultipleLines</td>\n",
       "      <td>2.604492</td>\n",
       "    </tr>\n",
       "    <tr>\n",
       "      <th>17</th>\n",
       "      <td>contractPeriod</td>\n",
       "      <td>14.271677</td>\n",
       "    </tr>\n",
       "  </tbody>\n",
       "</table>\n",
       "</div>"
      ],
      "text/plain": [
       "           Atrribute  VIF scores\n",
       "0               Type    4.078135\n",
       "1   PaperlessBilling    2.874230\n",
       "2      PaymentMethod    2.970294\n",
       "3     MonthlyCharges   16.166061\n",
       "4       TotalCharges   14.297280\n",
       "5             gender    1.947504\n",
       "6      SeniorCitizen    1.361945\n",
       "7            Partner    2.819666\n",
       "8         Dependents    1.955419\n",
       "9    InternetService    3.367112\n",
       "10    OnlineSecurity    2.060884\n",
       "11      OnlineBackup    2.280680\n",
       "12  DeviceProtection    2.387575\n",
       "13       TechSupport    2.143825\n",
       "14       StreamingTV    2.981461\n",
       "15   StreamingMovies    3.010259\n",
       "16     MultipleLines    2.604492\n",
       "17    contractPeriod   14.271677"
      ]
     },
     "metadata": {},
     "output_type": "display_data"
    }
   ],
   "source": [
    "vif_scores = pd.DataFrame()\n",
    "vif_scores['Atrribute'] = features.columns\n",
    "\n",
    "vif_scores['VIF scores'] = [variance_inflation_factor(features.values, i) for i in range(len(features.columns))]\n",
    "display(vif_scores)"
   ]
  },
  {
   "cell_type": "markdown",
   "id": "f95ba234",
   "metadata": {},
   "source": [
    "Столбцы *MonthlyCharges*, *TotalCharges*, *contractPeriod* имеют значение повышенное значение и должны быть удалены для устранения мультиколлинеарности."
   ]
  },
  {
   "cell_type": "code",
   "execution_count": 59,
   "id": "b96e6237",
   "metadata": {},
   "outputs": [],
   "source": [
    "features_lr = features.drop(['contractPeriod', 'MonthlyCharges', 'TotalCharges'], axis=1)"
   ]
  },
  {
   "cell_type": "code",
   "execution_count": 60,
   "id": "7a453639",
   "metadata": {},
   "outputs": [],
   "source": [
    "features_train_lr, features_test_lr, target_train_lr, target_test_lr = train_test_split(features_lr, target,\n",
    "                                                                                       test_size = 0.2,\n",
    "                                                                                       random_state = random_state)"
   ]
  },
  {
   "cell_type": "code",
   "execution_count": 61,
   "id": "d4c7371d",
   "metadata": {},
   "outputs": [
    {
     "data": {
      "text/plain": [
       "0.8120417201378929"
      ]
     },
     "execution_count": 61,
     "metadata": {},
     "output_type": "execute_result"
    }
   ],
   "source": [
    "lr_CV = LogisticRegressionCV(cv = 10, scoring = 'roc_auc', n_jobs = -1)\n",
    "lr_CV.fit(features_train_lr, target_train_lr)\n",
    "\n",
    "probabilities_lrCV_test = lr_CV.predict_proba(features_test_lr)\n",
    "probabilities_lrCV_one_test = probabilities_lrCV_test[:,1]\n",
    "\n",
    "roc_auc_score(target_test_lr, probabilities_lrCV_one_test)"
   ]
  },
  {
   "cell_type": "markdown",
   "id": "b657f310",
   "metadata": {},
   "source": [
    "**Значение auc-roc полученное при помощи Логистической регрессии составило 0,81, можно учесть его как базовый уровень.**"
   ]
  },
  {
   "cell_type": "markdown",
   "id": "c12a5bf2",
   "metadata": {},
   "source": [
    "#### RandomForestClassifier"
   ]
  },
  {
   "cell_type": "code",
   "execution_count": 62,
   "id": "76e6b4d0",
   "metadata": {},
   "outputs": [
    {
     "name": "stdout",
     "output_type": "stream",
     "text": [
      "\n",
      " Results from Grid Search \n",
      "\n",
      " The best estimator across ALL searched params:\n",
      " RandomForestClassifier(class_weight='balanced', max_depth=8, max_features=12,\n",
      "                       n_estimators=200, random_state=80822)\n",
      "\n",
      " The best score across ALL searched params:\n",
      " 0.8665386315765684\n",
      "\n",
      " The best parameters across ALL searched params:\n",
      " {'max_depth': 8, 'max_features': 12, 'n_estimators': 200}\n"
     ]
    }
   ],
   "source": [
    "rfc = RandomForestClassifier(class_weight = 'balanced', n_estimators = 30, max_depth = 6,\n",
    "                               random_state = random_state)\n",
    "\n",
    "parameters = {'n_estimators': [10, 100, 200],\n",
    "             'max_depth': [2, 6, 8],\n",
    "             'max_features': [2, 6, 12]}\n",
    "\n",
    "Grid_rfc = GridSearchCV(estimator = rfc, param_grid = parameters, scoring = 'roc_auc', cv = 5, refit=True)\n",
    "rf_result = Grid_rfc.fit(features_train, target_train)\n",
    "\n",
    "print(\"\\n Results from Grid Search \" )\n",
    "print(\"\\n The best estimator across ALL searched params:\\n\",Grid_rfc.best_estimator_)\n",
    "print(\"\\n The best score across ALL searched params:\\n\",Grid_rfc.best_score_)\n",
    "print(\"\\n The best parameters across ALL searched params:\\n\",Grid_rfc.best_params_)"
   ]
  },
  {
   "cell_type": "code",
   "execution_count": 63,
   "id": "b220a7dc",
   "metadata": {},
   "outputs": [
    {
     "name": "stdout",
     "output_type": "stream",
     "text": [
      "0.8712828061699505\n"
     ]
    }
   ],
   "source": [
    "rfc_model = RandomForestClassifier(**Grid_rfc.best_params_)\n",
    "rfc_model.fit(features_train, target_train)\n",
    "probabilities_rfc_test = rfc_model.predict_proba(features_test)\n",
    "rfc_model_one_test = probabilities_rfc_test[:,1]\n",
    "\n",
    "rfc_roc_auc = roc_auc_score(target_test, rfc_model_one_test)\n",
    "print(rfc_roc_auc)"
   ]
  },
  {
   "cell_type": "markdown",
   "id": "dbfb39d3",
   "metadata": {},
   "source": [
    "Случайный лес показал более высокое значение auc-roc без учета оценки важности параметров. Проведем такую оценку и посмотрим, как изменится требуемый показатель:"
   ]
  },
  {
   "cell_type": "code",
   "execution_count": 64,
   "id": "4d663b30",
   "metadata": {
    "scrolled": false
   },
   "outputs": [
    {
     "data": {
      "image/png": "[encoded data removed]",
      "text/plain": [
       "<Figure size 1500x600 with 1 Axes>"
      ]
     },
     "metadata": {},
     "output_type": "display_data"
    }
   ],
   "source": [
    "rfc_feature_importances = pd.DataFrame({'features':features_train.columns,\n",
    "                                   'features_importance':rfc_model.feature_importances_}).sort_values(\n",
    "    'features_importance', ascending=False)\n",
    "rfc_feature_importances.set_index('features').plot(kind='barh', figsize=(15,6))\n",
    "plt.show()"
   ]
  },
  {
   "cell_type": "markdown",
   "id": "2e6d100e",
   "metadata": {},
   "source": [
    "Таким образом, можно увидеть, что наибольшее влияние имеют столбцы *contractPeriod*, *Type*, *MonthlyCharges*, *TotalCharges*, *InternetService*. \n",
    "Пропробуем убрать остальные столбцы и переучить модель."
   ]
  },
  {
   "cell_type": "code",
   "execution_count": 65,
   "id": "d773feb4",
   "metadata": {
    "scrolled": true
   },
   "outputs": [],
   "source": [
    "rfc_features = features.drop(['DeviceProtection', 'Partner', 'OnlineBackup',\n",
    "                              'gender', 'Dependents', 'StreamingMovies', 'StreamingTV',\n",
    "                             'MultipleLines', 'TechSupport', 'SeniorCitizen', 'PaperlessBilling',\n",
    "                                 'OnlineSecurity', 'PaymentMethod'], axis = 1) \n",
    "rfc_features_train, rfc_features_test, rfc_target_train, rfc_target_test = split_data(rfc_features, target)"
   ]
  },
  {
   "cell_type": "code",
   "execution_count": 66,
   "id": "9b070ac9",
   "metadata": {
    "scrolled": true
   },
   "outputs": [
    {
     "name": "stdout",
     "output_type": "stream",
     "text": [
      "\n",
      " Results from Grid Search \n",
      "\n",
      " The best estimator across ALL searched params:\n",
      " RandomForestClassifier(class_weight='balanced', max_depth=8, max_features=0.5,\n",
      "                       random_state=80822)\n",
      "\n",
      " The best score across ALL searched params:\n",
      " 0.8631877741413934\n",
      "\n",
      " The best parameters across ALL searched params:\n",
      " {'max_depth': 8, 'max_features': 0.5, 'n_estimators': 100}\n"
     ]
    }
   ],
   "source": [
    "rfc_fi = RandomForestClassifier(class_weight = 'balanced', n_estimators = 30, max_depth = 6,\n",
    "                               random_state = random_state)\n",
    "\n",
    "parameters = {'n_estimators': [10, 100, 200],\n",
    "             'max_depth': [2, 6, 8],\n",
    "             'max_features': [0.1, 0.25, 0.5]}\n",
    "\n",
    "Grid_rfc_fi = GridSearchCV(estimator = rfc_fi, param_grid = parameters, scoring = 'roc_auc', cv = 5, refit=True)\n",
    "rf_result_fi = Grid_rfc_fi.fit(rfc_features_train, rfc_target_train)\n",
    "\n",
    "print(\"\\n Results from Grid Search \" )\n",
    "print(\"\\n The best estimator across ALL searched params:\\n\",Grid_rfc_fi.best_estimator_)\n",
    "print(\"\\n The best score across ALL searched params:\\n\",Grid_rfc_fi.best_score_)\n",
    "print(\"\\n The best parameters across ALL searched params:\\n\",Grid_rfc_fi.best_params_)"
   ]
  },
  {
   "cell_type": "code",
   "execution_count": 67,
   "id": "7a22570a",
   "metadata": {
    "scrolled": true
   },
   "outputs": [
    {
     "name": "stdout",
     "output_type": "stream",
     "text": [
      "0.8709179436853627\n"
     ]
    }
   ],
   "source": [
    "rfc_model_fi = RandomForestClassifier(**Grid_rfc_fi.best_params_)\n",
    "rfc_model_fi.fit(rfc_features_train, rfc_target_train)\n",
    "probabilities_rfc_test_fi = rfc_model_fi.predict_proba(rfc_features_test)\n",
    "rfc_model_one_test_fi = probabilities_rfc_test_fi[:,1]\n",
    "\n",
    "rfc_roc_auc = roc_auc_score(rfc_target_test, rfc_model_one_test_fi)\n",
    "print(rfc_roc_auc)"
   ]
  },
  {
   "cell_type": "markdown",
   "id": "5f2b7838",
   "metadata": {},
   "source": [
    "По итогам проведенных действий значение auc-roc практически не изменилось и составило **0,87 с помощью модели RandomForestClassifier.**"
   ]
  },
  {
   "cell_type": "markdown",
   "id": "471585a5",
   "metadata": {},
   "source": [
    "#### CatBoostClassifier"
   ]
  },
  {
   "cell_type": "code",
   "execution_count": 73,
   "id": "d68a89ef",
   "metadata": {
    "scrolled": true
   },
   "outputs": [
    {
     "name": "stdout",
     "output_type": "stream",
     "text": [
      " Results from Grid Search \n",
      "\n",
      " The best estimator across ALL searched params:\n",
      " <catboost.core.CatBoostClassifier object at 0x7fc8b4905bb0>\n",
      "\n",
      " The best score across ALL searched params:\n",
      " 0.8835231920104649\n",
      "\n",
      " The best parameters across ALL searched params:\n",
      " {'depth': 4, 'iterations': 30, 'learning_rate': 1}\n"
     ]
    }
   ],
   "source": [
    "cbc = CatBoostClassifier()\n",
    "parameters = {'depth' : [4, 5, 6, 7, 8, 9, 10],\n",
    "             'learning_rate': [0.05, 0.1, 0.5, 1],\n",
    "             'iterations': [1, 5, 10, 15, 20, 25, 30]}\n",
    "Grid_cbc = GridSearchCV(estimator = cbc, param_grid = parameters, scoring = 'roc_auc', cv = 5, n_jobs = -1)\n",
    "Grid_cbc.fit(features_train, target_train, logging_level='Silent')\n",
    "\n",
    "print(\" Results from Grid Search \" )\n",
    "print(\"\\n The best estimator across ALL searched params:\\n\",Grid_cbc.best_estimator_)\n",
    "print(\"\\n The best score across ALL searched params:\\n\",Grid_cbc.best_score_)\n",
    "print(\"\\n The best parameters across ALL searched params:\\n\",Grid_cbc.best_params_)"
   ]
  },
  {
   "cell_type": "code",
   "execution_count": 74,
   "id": "a344a3d1",
   "metadata": {
    "scrolled": false
   },
   "outputs": [
    {
     "name": "stdout",
     "output_type": "stream",
     "text": [
      "0:\tlearn: 0.4653337\ttotal: 2.9ms\tremaining: 84.2ms\n",
      "1:\tlearn: 0.4229403\ttotal: 6.08ms\tremaining: 85.2ms\n",
      "2:\tlearn: 0.4098913\ttotal: 7.14ms\tremaining: 64.2ms\n",
      "3:\tlearn: 0.3958347\ttotal: 8.36ms\tremaining: 54.4ms\n",
      "4:\tlearn: 0.3892562\ttotal: 9.96ms\tremaining: 49.8ms\n",
      "5:\tlearn: 0.3854359\ttotal: 11.2ms\tremaining: 45ms\n",
      "6:\tlearn: 0.3818996\ttotal: 12.2ms\tremaining: 40.2ms\n",
      "7:\tlearn: 0.3773543\ttotal: 13.7ms\tremaining: 37.8ms\n",
      "8:\tlearn: 0.3726027\ttotal: 14.5ms\tremaining: 33.9ms\n",
      "9:\tlearn: 0.3677258\ttotal: 15.3ms\tremaining: 30.6ms\n",
      "10:\tlearn: 0.3661928\ttotal: 16.1ms\tremaining: 27.8ms\n",
      "11:\tlearn: 0.3579812\ttotal: 16.9ms\tremaining: 25.3ms\n",
      "12:\tlearn: 0.3552811\ttotal: 18.2ms\tremaining: 23.8ms\n",
      "13:\tlearn: 0.3526613\ttotal: 19ms\tremaining: 21.7ms\n",
      "14:\tlearn: 0.3505708\ttotal: 19.9ms\tremaining: 19.9ms\n",
      "15:\tlearn: 0.3488212\ttotal: 20.7ms\tremaining: 18.1ms\n",
      "16:\tlearn: 0.3444922\ttotal: 21.4ms\tremaining: 16.4ms\n",
      "17:\tlearn: 0.3366895\ttotal: 22.2ms\tremaining: 14.8ms\n",
      "18:\tlearn: 0.3337036\ttotal: 23ms\tremaining: 13.3ms\n",
      "19:\tlearn: 0.3320501\ttotal: 23.8ms\tremaining: 11.9ms\n",
      "20:\tlearn: 0.3300748\ttotal: 24.6ms\tremaining: 10.5ms\n",
      "21:\tlearn: 0.3288060\ttotal: 25.6ms\tremaining: 9.32ms\n",
      "22:\tlearn: 0.3269001\ttotal: 26.7ms\tremaining: 8.13ms\n",
      "23:\tlearn: 0.3250070\ttotal: 27.5ms\tremaining: 6.87ms\n",
      "24:\tlearn: 0.3240342\ttotal: 28.4ms\tremaining: 5.68ms\n",
      "25:\tlearn: 0.3231109\ttotal: 29.2ms\tremaining: 4.5ms\n",
      "26:\tlearn: 0.3195640\ttotal: 30.1ms\tremaining: 3.35ms\n",
      "27:\tlearn: 0.3162869\ttotal: 30.9ms\tremaining: 2.21ms\n",
      "28:\tlearn: 0.3154388\ttotal: 31.7ms\tremaining: 1.09ms\n",
      "29:\tlearn: 0.3126630\ttotal: 32.6ms\tremaining: 0us\n",
      "0.888525703932966\n"
     ]
    }
   ],
   "source": [
    "cbc_model = CatBoostClassifier(**Grid_cbc.best_params_)\n",
    "cbc_model.fit(features_train, target_train)\n",
    "probabilities_cbc_test = cbc_model.predict_proba(features_test)\n",
    "cbc_model_one_test = probabilities_cbc_test[:,1]\n",
    "\n",
    "cbc_roc_auc = roc_auc_score(target_test, cbc_model_one_test)\n",
    "print(cbc_roc_auc)"
   ]
  },
  {
   "cell_type": "markdown",
   "id": "46982693",
   "metadata": {},
   "source": [
    "Модель CatBoostClassifier дала оценку ~0,89 без учета влияния важности параметров. Изучим наличия подобного влияния и переобучим модель."
   ]
  },
  {
   "cell_type": "code",
   "execution_count": 75,
   "id": "a34188b3",
   "metadata": {},
   "outputs": [
    {
     "data": {
      "image/png": "[encoded data removed]",
      "text/plain": [
       "<Figure size 1500x600 with 1 Axes>"
      ]
     },
     "metadata": {},
     "output_type": "display_data"
    }
   ],
   "source": [
    "cbc_feature_importances = pd.DataFrame({'features':features_train.columns,\n",
    "                                   'features_importance':cbc_model.feature_importances_}).sort_values(\n",
    "    'features_importance', ascending=False)\n",
    "cbc_feature_importances.set_index('features').plot(kind='barh', figsize=(15,6))\n",
    "plt.show()"
   ]
  },
  {
   "cell_type": "code",
   "execution_count": 76,
   "id": "c59c67be",
   "metadata": {},
   "outputs": [],
   "source": [
    "cbc_features = features.drop(['DeviceProtection', 'Partner','gender'], axis = 1) \n",
    "cbc_features_train, cbc_features_test, cbc_target_train, cbc_target_test = split_data(cbc_features, target)"
   ]
  },
  {
   "cell_type": "code",
   "execution_count": 80,
   "id": "1401af67",
   "metadata": {},
   "outputs": [
    {
     "name": "stdout",
     "output_type": "stream",
     "text": [
      " Results from Grid Search \n",
      "\n",
      " The best estimator across ALL searched params:\n",
      " <catboost.core.CatBoostClassifier object at 0x7fc8b444bfd0>\n",
      "\n",
      " The best score across ALL searched params:\n",
      " 0.8876662598473161\n",
      "\n",
      " The best parameters across ALL searched params:\n",
      " {'depth': 4, 'iterations': 30, 'learning_rate': 1}\n"
     ]
    }
   ],
   "source": [
    "cbc_fi = CatBoostClassifier()\n",
    "parameters = {'depth' : [4, 5, 6, 7, 8, 9, 10],\n",
    "             'learning_rate': [0.05, 0.1, 0.5, 1],\n",
    "             'iterations': [1, 5, 10, 15, 20, 25, 30]}\n",
    "Grid_cbc_fi = GridSearchCV(estimator = cbc_fi, param_grid = parameters, scoring = 'roc_auc', cv = 5, n_jobs = -1)\n",
    "Grid_cbc_fi.fit(cbc_features_train, cbc_target_train, logging_level='Silent')\n",
    "\n",
    "print(\" Results from Grid Search \" )\n",
    "print(\"\\n The best estimator across ALL searched params:\\n\",Grid_cbc_fi.best_estimator_)\n",
    "print(\"\\n The best score across ALL searched params:\\n\",Grid_cbc_fi.best_score_)\n",
    "print(\"\\n The best parameters across ALL searched params:\\n\",Grid_cbc_fi.best_params_)"
   ]
  },
  {
   "cell_type": "code",
   "execution_count": 78,
   "id": "1705b853",
   "metadata": {},
   "outputs": [
    {
     "name": "stdout",
     "output_type": "stream",
     "text": [
      "0:\tlearn: 0.4567942\ttotal: 2.35ms\tremaining: 68.2ms\n",
      "1:\tlearn: 0.4199162\ttotal: 4.09ms\tremaining: 57.3ms\n",
      "2:\tlearn: 0.3991105\ttotal: 4.99ms\tremaining: 44.9ms\n",
      "3:\tlearn: 0.3939088\ttotal: 5.92ms\tremaining: 38.5ms\n",
      "4:\tlearn: 0.3903070\ttotal: 6.77ms\tremaining: 33.9ms\n",
      "5:\tlearn: 0.3865061\ttotal: 7.71ms\tremaining: 30.8ms\n",
      "6:\tlearn: 0.3842556\ttotal: 8.57ms\tremaining: 28.2ms\n",
      "7:\tlearn: 0.3796148\ttotal: 9.6ms\tremaining: 26.4ms\n",
      "8:\tlearn: 0.3755269\ttotal: 10.4ms\tremaining: 24.3ms\n",
      "9:\tlearn: 0.3703556\ttotal: 11.2ms\tremaining: 22.4ms\n",
      "10:\tlearn: 0.3673572\ttotal: 12ms\tremaining: 20.8ms\n",
      "11:\tlearn: 0.3590857\ttotal: 12.9ms\tremaining: 19.3ms\n",
      "12:\tlearn: 0.3563061\ttotal: 13.8ms\tremaining: 18ms\n",
      "13:\tlearn: 0.3487791\ttotal: 14.6ms\tremaining: 16.7ms\n",
      "14:\tlearn: 0.3474975\ttotal: 15.4ms\tremaining: 15.4ms\n",
      "15:\tlearn: 0.3445013\ttotal: 16.2ms\tremaining: 14.2ms\n",
      "16:\tlearn: 0.3398966\ttotal: 17.4ms\tremaining: 13.3ms\n",
      "17:\tlearn: 0.3334622\ttotal: 18.4ms\tremaining: 12.3ms\n",
      "18:\tlearn: 0.3300851\ttotal: 19.3ms\tremaining: 11.2ms\n",
      "19:\tlearn: 0.3279135\ttotal: 20.2ms\tremaining: 10.1ms\n",
      "20:\tlearn: 0.3258151\ttotal: 21.2ms\tremaining: 9.1ms\n",
      "21:\tlearn: 0.3244193\ttotal: 22.2ms\tremaining: 8.07ms\n",
      "22:\tlearn: 0.3202737\ttotal: 23.1ms\tremaining: 7.04ms\n",
      "23:\tlearn: 0.3188332\ttotal: 24.1ms\tremaining: 6.03ms\n",
      "24:\tlearn: 0.3169219\ttotal: 25.4ms\tremaining: 5.09ms\n",
      "25:\tlearn: 0.3160658\ttotal: 27.2ms\tremaining: 4.18ms\n",
      "26:\tlearn: 0.3144621\ttotal: 29.6ms\tremaining: 3.29ms\n",
      "27:\tlearn: 0.3116763\ttotal: 31ms\tremaining: 2.21ms\n",
      "28:\tlearn: 0.3107718\ttotal: 31.9ms\tremaining: 1.1ms\n",
      "29:\tlearn: 0.3094856\ttotal: 32.7ms\tremaining: 0us\n",
      "0.9024370297677462\n"
     ]
    }
   ],
   "source": [
    "cbc_model_fi = CatBoostClassifier(**Grid_cbc_fi.best_params_)\n",
    "cbc_model_fi.fit(cbc_features_train, cbc_target_train)\n",
    "probabilities_cbc_test_fi = cbc_model_fi.predict_proba(cbc_features_test)\n",
    "cbc_model_one_test_fi = probabilities_cbc_test_fi[:,1]\n",
    "\n",
    "cbc_roc_auc_fi = roc_auc_score(cbc_target_test, cbc_model_one_test_fi)\n",
    "print(cbc_roc_auc_fi)"
   ]
  },
  {
   "cell_type": "markdown",
   "id": "cc2c7623",
   "metadata": {},
   "source": [
    "По итогам устранения менее важных параметров модель **CatBoostClassifier дала наиболее высокое значение метрики roc-auc = 0.9**"
   ]
  },
  {
   "cell_type": "code",
   "execution_count": 79,
   "id": "acdcd45e",
   "metadata": {},
   "outputs": [
    {
     "data": {
      "image/png": "[encoded data removed]",
      "text/plain": [
       "<Figure size 640x480 with 1 Axes>"
      ]
     },
     "metadata": {},
     "output_type": "display_data"
    }
   ],
   "source": [
    "cbc_roc_auc_curve = roc_auc_score(cbc_target_test, cbc_model_fi.predict(cbc_features_test))\n",
    "fpr, tpr, thresholds = roc_curve(cbc_target_test, cbc_model_fi.predict_proba(cbc_features_test)[:,1])\n",
    "plt.figure()\n",
    "plt.plot(fpr, tpr, label='CatBoostClassifier (area = %0.2f)' % cbc_roc_auc_curve)\n",
    "plt.plot([0, 1], [0, 1],'r--')\n",
    "plt.xlim([0.0, 1.0])\n",
    "plt.ylim([0.0, 1.05])\n",
    "plt.xlabel('False Positive Rate')\n",
    "plt.ylabel('True Positive Rate')\n",
    "plt.title('Receiver operating characteristic')\n",
    "plt.savefig('Log_ROC')\n",
    "plt.show()"
   ]
  },
  {
   "cell_type": "markdown",
   "id": "b5435017",
   "metadata": {},
   "source": [
    "### Итоговый отчет"
   ]
  },
  {
   "cell_type": "markdown",
   "id": "42805408",
   "metadata": {},
   "source": [
    "#### Описание задачи"
   ]
  },
  {
   "cell_type": "markdown",
   "id": "27819cf1",
   "metadata": {},
   "source": [
    "___\n",
    "___\n",
    "От компании оператора связи «Ниединогоразрыва.ком» поступил запрос на модель, которая могла бы прогнозировать отток клиентов с целью его минимизации. В случае, если выясняется, что пользователь планирует уйти, ему могут быть предложены промокоды и специальные условия для удержания.\n",
    "\n",
    "Командой оператора были собраны персональные данные о некоторых клиентах, информацию об их тарифах и договорах.\n",
    "\n",
    "**Описание данных**:\n",
    "Данные состоят из файлов, полученных из разных источников:\n",
    "\n",
    "- contract.csv — информация о договоре;\n",
    "- personal.csv — персональные данные клиентов;\n",
    "- internet.csv — информация об интернет-услугах;\n",
    "- phone.csv — информация об услугах телефонии.\n",
    "\n",
    "\n",
    "Во всех файлах столбец customerID содержит уникальный код клиента.\n",
    "Информация о договорах актуальна на 1 февраля 2020.\n",
    "\n",
    "**Целевая метрика точности модели по условиям заказчика**- ROC-AUC не ниже 0,75."
   ]
  },
  {
   "cell_type": "markdown",
   "id": "d162c1bd",
   "metadata": {},
   "source": [
    "#### Описание полученных исходных данных"
   ]
  },
  {
   "cell_type": "markdown",
   "id": "7189efd3",
   "metadata": {},
   "source": [
    "Заказчик передал для построения моделей данные пользователей в 4 различных файлах.\n",
    "___\n",
    "\n",
    "Первый файл с информацией о заключенных с клиентами контрактах (*contract*) содержал 7043 уникальные строки, что эквивалентно 7043 уникальным клиентам. В таблице имеются данные:\n",
    "\n",
    " - Начала и конца срока действия договора с клиентом;\n",
    " - Тип оплаты по контракту (ежемесячный, годовой);\n",
    " - Использование безналичных расчетов;\n",
    " - Способ оплаты;\n",
    " - Ежемесячные и общие траты на услуги.\n",
    " \n",
    "При изучении ежемесячных затрат было обнаружено, что большая часть клиентов пользовались минимальным по стоимости тарифом. Общая сумма затрат большинства клиентов в связи с этим была невелика. Также невысокие общие затраты большинства клиентов объяснялись недавним подключением к услугам оператора."
   ]
  },
  {
   "cell_type": "markdown",
   "id": "5ca182e5",
   "metadata": {},
   "source": [
    "<div>\n",
    "<img src=\"https://i.postimg.cc/4NNB6fFN/1.png\" width=\"1000\"/>\n",
    "</div>"
   ]
  },
  {
   "cell_type": "markdown",
   "id": "462d49d2",
   "metadata": {},
   "source": [
    " ___\n",
    " В файле с названием *personal* указана персональная информация о клиентах. В данных также 7043 строки с соответствующими уникальными номерами. Помимо этого в таблице имеется информация о:\n",
    " \n",
    " - поле клиента;\n",
    " - наличии пенсионного статуса по возрасту;\n",
    " - наличии супруга(и);\n",
    " - наличии иждивенцев.\n",
    " ___\n",
    " Далее в файле под названием *internet* содержалась информация об использовании клиентами услуг в сети интернет, в том числе:\n",
    " \n",
    " - Тип подключения;\n",
    " - интернет-безопасность: антивирус;\n",
    " - блокировка небезопасных сайтов;\n",
    " - Выделенная линия технической поддержки;\n",
    " - Облачное хранилище файлов для резервного копирования данных;\n",
    " - Стриминговое телевидение и каталог фильмов.\n",
    " \n",
    " В данной таблице содержалось 5517 строк, что означало, что услугами компании в сети интернет пользовалось лишь 78% всех клиентов за рассматриваемый период.\n",
    " ___\n",
    " \n",
    " В таблице *phone* также было представлено меньшее количество клиентов - 6361 уникальный пользователь. Таким образом доля клиентов компании пользовавшихся услугами телефонной связи составила порядка 90%, что превышает долю клиентов использующих услуги компании в интернете на 12%. При этом, следует понимать, что часть клиентов входит в обе выборки и пользуется как услугами телефонии, так и сервисами компании в интернете.\n",
    " \n",
    " В таблице *phone* помимо уникального номера клиента представлена информация о наличии у него возможности ведения параллельных линий во время звонка.\n",
    " ___\n",
    " ___"
   ]
  },
  {
   "cell_type": "markdown",
   "id": "91434345",
   "metadata": {},
   "source": [
    "#### Описание ошибок и неточностей в данных"
   ]
  },
  {
   "cell_type": "markdown",
   "id": "abea2092",
   "metadata": {},
   "source": [
    "___\n",
    "___\n",
    "Наибольший объем необходимых действий по предобработке потребовался при работе с данными по имеющимся контрактам (*contract*):\n",
    "\n",
    " - все столбцы кроме MonthlyCharges имели формат object, в том числе столбец с численными данными *TotalCharges* и столбцы с датами \n",
    " - в столбце EndDate присутствовали значения \"No\", что означало, что контракт действовал на 1 февраля 2020 года.\n",
    " - также в столбце EndDate значилось всего 4 уникальные даты. Вероятно оператор обновлял статус контрактов в эти даты.\n",
    " - в столбце *TotalCharges* для части пользователей отсутствовали значения. Для них была характерна дата начала действия контракта в феврале 2020, то есть на момент среза данных. Таким образом они не успели понести затрат, но отсутствующие значения в дальнейшем целесообразно было заменить на 0 во избежание появления ошибок.\n",
    " - в файле по контрактам с клиентами отсутствовал целевой признак, подверждающий факт ухода клиента от оператора. Таким образом за данный признак необходимо было воспринять дату окончания контракта с клиентом. Отсутствие даты окончания контракта означало, что клиент не ушел.\n",
    " - наличие даты окончания договора была проставлена примерно у четверти клиентов, что означало, что данные несбалансированы;  \n",
    " - скрытых дубликатов или выбивающихся значений (выбросов) в файле обнаружено не было.\n",
    " \n",
    "В остальных исходных файлах (*personal*,*internet*,*phone*) содержащих исключительно категорииальные признаки  также не было обнаружено пропусков, скрытых дубликатов. Единственный момент, требующий отдельного внимания в дальнейшей работе - разное количество строк в разных файлах, что при неосторожности может привести к потере данных.\n",
    " \n",
    "___\n",
    "___"
   ]
  },
  {
   "cell_type": "markdown",
   "id": "7348ece0",
   "metadata": {},
   "source": [
    "#### Описание произведенных действий с данными"
   ]
  },
  {
   "cell_type": "markdown",
   "id": "417efd04",
   "metadata": {},
   "source": [
    "___\n",
    "___\n",
    "\n",
    "На данном этапе были произведены действия направленные на устранение недостатков в файле с информацией о контрактах выявленных на предыдущем этапе:\n",
    " - Формат столбца *TotalCharges* был изменен на числовой, столбцов *BeginDate* и *EndDate* на формат дат;\n",
    " - Значения \"No\" в столбце *EndDate* были заменены на дату среза данных - 2020-02-01;\n",
    " - В столбце *TotalCharges* пропущенные значения для новых клиентов были заменены на нулевые значения;\n",
    "___\n",
    "___"
   ]
  },
  {
   "cell_type": "markdown",
   "id": "17494df9",
   "metadata": {},
   "source": [
    "#### Описание произведенных действий для написания модели"
   ]
  },
  {
   "cell_type": "markdown",
   "id": "e970f427",
   "metadata": {},
   "source": [
    "Устранив найденные в данных неточности и несоответствия следующим этапом были проведены действия направленные на создания условий для написания моделей прогнозирования.\n",
    "\n",
    " - В первую очередь данные из разных файлов были объединены в один датасет. Объединение было произведено с использованием метода **merge** с параметров *how='outer'* во избежание потерь данных. После каждого объединения проводилась проверка общего размера объединеной таблицы.\n",
    " \n",
    "\n",
    " - Следующим и наиболее важным из этих действий было создание целевого признака, так как изначально он отсутствовал в явном виде. Как заранее было определено, целевой признак был создан из столбца *EndDate* - даты окончания действия договора с клиентом. Таким образом бинарный признак (1,0) был создан по следуюдщей логике:\n",
    ">   Если в столбце *EndDate* файла *contracts* есть любая дата отличная от 2020-02-01 (дата среза добавленная вручную на этапе обработки данных), признак был равен 1 (\"клиент ушел\"). Если дата была равна 2020-02-01, признак был равен 0 (\"клиент не ушел\").\n",
    "    \n",
    " - Из столбцов c датой начала действия договора и его окончания (*BeginDate*, *EndDate*) было решено извлечь параметр *contractPeriod* который был обозначал продолжительность действия договора и рассчитывался как разница между датами начала и окончания в днях.\n",
    " \n",
    " \n",
    " - Далее столбцы с датой начала действия договора и датой окончания действия договора были удалены, так как необходимые признаки из них были извлечены, а сами эти столбцы могли привести к утечке данных при обучении.    \n",
    " - Столбец customerID являлся уникальным для каждого клиента, в том числе и для будущих клиентов. Поэтому не мог оказывать влияния на целевой признак. Было принято решение его можно удалить.\n",
    " \n",
    " - Часть данных в объединенном датасете были представленны категориальными переменными: \n",
    " > ('Type','PaperlessBilling', 'PaymentMethod', 'gender', 'SeniorCitizen', 'Partner','Dependents', 'InternetService', 'OnlineSecurity', 'OnlineBackup','DeviceProtection', 'TechSupport', 'StreamingTV', 'StreamingMovies','MultipleLines')\n",
    " \n",
    "    Эти признаки для дальнейшего обучения моделей были закодированы в числовой формат с использованием Ordinal  Encoder.\n",
    "    \n",
    "\n",
    " - Для изучения корреляции данных была построена матрица корреляции, показавшая, что столбы с числовыми данными contractPeriod и TotalCharges имели наименьшую корреляцию с целевой переменной."
   ]
  },
  {
   "cell_type": "markdown",
   "id": "53cfe316",
   "metadata": {},
   "source": [
    "<div>\n",
    "<img src=\"https://i.postimg.cc/44w1xCNC/2022-08-19-01-07-57.png\" width=\"500\"/>\n",
    "</div>"
   ]
  },
  {
   "cell_type": "markdown",
   "id": "02461268",
   "metadata": {},
   "source": [
    "___\n",
    "Выполнив данные действия полученный датасет был разделен на обучающую и тестовую выборки. **Размер тестовой выборки составил 20%.**\n",
    "Непосредственно после разделения выборки был применен инструмент StandardScaler для приведения численных данных к одному порядку.\n",
    "___"
   ]
  },
  {
   "cell_type": "markdown",
   "id": "0346d9bc",
   "metadata": {},
   "source": [
    "После проведенных действий были написаных 3 разных типа моделей прогнозирования:\n",
    " - **LogisticRegression**\n",
    " - **RandomForest**\n",
    " - **CatboostClassifier**\n",
    " \n",
    "При написании каждой из моделей применялась кросс-валидация.\n",
    " ___"
   ]
  },
  {
   "cell_type": "markdown",
   "id": "47697ddc",
   "metadata": {},
   "source": [
    " **LogisticRegression**\n",
    " \n",
    "Для модели Логистической регрессии также предварительно была проведена проверка на наличие мультиколлинераности, по итогам которой для данной модели были исключены признаки ('contractPeriod', 'MonthlyCharges', 'TotalCharges').\n",
    "\n",
    "\n",
    "По итогам проведенных действий **Логистическая регрессия показала точность целевого показателья ROC-AUC на тестовой выборке - 0,81**\n",
    "___"
   ]
  },
  {
   "cell_type": "markdown",
   "id": "ae36d75a",
   "metadata": {},
   "source": [
    "**RandomForest**\n",
    "\n",
    "**Данная модель по итогам обучения показала точность целевого показателья ROC-AUC на тестовой выборке - 0,87**\n",
    "Изучение важности параметров показало, что наибольшее влияние имеют столбцы contractPeriod, Type, MonthlyCharges, TotalCharges, InternetService. Было решено убрать остальные столбцы и переобучить модель повторно. Проведенные действия не привели к повышению точности предсказания модели - ROC-AUC остался равен - 0,87.\n",
    "___"
   ]
  },
  {
   "cell_type": "markdown",
   "id": "e1308ee2",
   "metadata": {},
   "source": [
    "**Catboost**"
   ]
  },
  {
   "cell_type": "markdown",
   "id": "a703fe27",
   "metadata": {},
   "source": [
    "Модель Catboost дала прогноз с точностью целевого показателья ROC-AUC на тестовой выборке - 0,89 Аналогичное изучение важности параметров показало, что наименьшее влияние имеют столбцы *'DeviceProtection', 'Partner','gender'*. После удаления данных столбцов и повторного переобучения **точность предсказания модели CatBoostClassifier по метрике ROC-AUC возросла до 0,90.**\n",
    "___"
   ]
  },
  {
   "cell_type": "markdown",
   "id": "3473c720",
   "metadata": {},
   "source": [
    "#### Аргументация выбора итоговой модели"
   ]
  },
  {
   "cell_type": "markdown",
   "id": "477ecdf6",
   "metadata": {},
   "source": [
    "|№      |     Модель     |     ROC-AUC на тестовой выборке     |\n",
    "|:-----|:----:|----:|\n",
    "|1 |LogisticRegression |0,81 |\n",
    "|2 |RandomForest |0,87 |\n",
    "|3 |CatboostRegression |0,9 |"
   ]
  },
  {
   "cell_type": "markdown",
   "id": "cd1ce293",
   "metadata": {},
   "source": [
    "По результатам сравнения можно увидеть, что наиболее высокую точность дает CatBoostClassifier. Соответственно для итоговой рекомендации стоит выбрать ее."
   ]
  },
  {
   "cell_type": "markdown",
   "id": "7462c8ed",
   "metadata": {},
   "source": [
    "#### Резюме проведенной работы, рекомендации заказчику по дальнейшей работе с моделью."
   ]
  },
  {
   "cell_type": "markdown",
   "id": "de054a89",
   "metadata": {},
   "source": [
    "По запросу заказчика были изучены и предобработаны данные для предсказания о потенциально потерянных клиентах.\n",
    "На основании обработанных данных были изучены зависимости между ними и добавлены потенциально важные расчетные показатели.\n",
    "На основании полученного датафрейма были построены 3 различных модели предсказания. Модели показали существенно отличающуюся точность целевой метрики. Наиболее точный результат дала модель CatboostClassifier. Точность прогноза по заданной целевой метрике превышает вырнюю отметку желаемой заказчиком точности в связи с чем бизнесу рекомендуется использовать данную модель на реальных релевантных данных."
   ]
  }
 ],
 "metadata": {
  "ExecuteTimeLog": [
   {
    "duration": 1238,
    "start_time": "2022-08-12T15:48:11.044Z"
   },
   {
    "duration": 340,
    "start_time": "2022-08-12T15:48:12.283Z"
   },
   {
    "duration": 4,
    "start_time": "2022-08-12T15:48:12.624Z"
   },
   {
    "duration": 68,
    "start_time": "2022-08-12T15:48:12.629Z"
   },
   {
    "duration": 5,
    "start_time": "2022-08-12T15:48:12.698Z"
   },
   {
    "duration": 15,
    "start_time": "2022-08-12T15:48:12.705Z"
   },
   {
    "duration": 3,
    "start_time": "2022-08-12T15:48:12.722Z"
   },
   {
    "duration": 40,
    "start_time": "2022-08-12T15:48:12.727Z"
   },
   {
    "duration": 14,
    "start_time": "2022-08-12T15:48:12.769Z"
   },
   {
    "duration": 4,
    "start_time": "2022-08-12T15:48:12.784Z"
   },
   {
    "duration": 6,
    "start_time": "2022-08-12T15:48:12.789Z"
   },
   {
    "duration": 6,
    "start_time": "2022-08-12T15:48:12.797Z"
   },
   {
    "duration": 17,
    "start_time": "2022-08-12T15:48:12.804Z"
   },
   {
    "duration": 249,
    "start_time": "2022-08-12T15:48:12.823Z"
   },
   {
    "duration": 145,
    "start_time": "2022-08-12T15:48:13.073Z"
   },
   {
    "duration": 8,
    "start_time": "2022-08-12T15:48:13.220Z"
   },
   {
    "duration": 20,
    "start_time": "2022-08-12T15:48:13.229Z"
   },
   {
    "duration": 26,
    "start_time": "2022-08-12T15:48:13.251Z"
   },
   {
    "duration": 26,
    "start_time": "2022-08-12T15:48:13.279Z"
   },
   {
    "duration": 18,
    "start_time": "2022-08-12T15:48:13.306Z"
   },
   {
    "duration": 58,
    "start_time": "2022-08-12T15:48:13.326Z"
   },
   {
    "duration": 4,
    "start_time": "2022-08-12T15:48:13.386Z"
   },
   {
    "duration": 6,
    "start_time": "2022-08-12T15:48:13.391Z"
   },
   {
    "duration": 14,
    "start_time": "2022-08-12T15:48:13.398Z"
   },
   {
    "duration": 12,
    "start_time": "2022-08-12T15:48:13.413Z"
   },
   {
    "duration": 61,
    "start_time": "2022-08-12T15:48:13.427Z"
   },
   {
    "duration": 68,
    "start_time": "2022-08-12T15:48:13.490Z"
   },
   {
    "duration": 67,
    "start_time": "2022-08-13T07:23:26.398Z"
   },
   {
    "duration": 66,
    "start_time": "2022-08-13T07:23:59.742Z"
   },
   {
    "duration": 68,
    "start_time": "2022-08-13T07:28:49.923Z"
   },
   {
    "duration": 50,
    "start_time": "2022-08-13T07:29:40.473Z"
   },
   {
    "duration": 2251,
    "start_time": "2022-08-17T06:27:12.207Z"
   },
   {
    "duration": 3,
    "start_time": "2022-08-17T06:27:14.460Z"
   },
   {
    "duration": 111,
    "start_time": "2022-08-17T06:27:14.468Z"
   },
   {
    "duration": 4,
    "start_time": "2022-08-17T06:27:14.580Z"
   },
   {
    "duration": 75,
    "start_time": "2022-08-17T06:27:14.586Z"
   },
   {
    "duration": 5,
    "start_time": "2022-08-17T06:27:14.662Z"
   },
   {
    "duration": 40,
    "start_time": "2022-08-17T06:27:14.668Z"
   },
   {
    "duration": 6,
    "start_time": "2022-08-17T06:27:14.710Z"
   },
   {
    "duration": 16,
    "start_time": "2022-08-17T06:27:14.719Z"
   },
   {
    "duration": 13,
    "start_time": "2022-08-17T06:27:14.737Z"
   },
   {
    "duration": 4,
    "start_time": "2022-08-17T06:27:14.751Z"
   },
   {
    "duration": 8,
    "start_time": "2022-08-17T06:27:14.756Z"
   },
   {
    "duration": 7,
    "start_time": "2022-08-17T06:27:14.765Z"
   },
   {
    "duration": 49,
    "start_time": "2022-08-17T06:27:14.773Z"
   },
   {
    "duration": 4,
    "start_time": "2022-08-17T06:27:14.824Z"
   },
   {
    "duration": 258,
    "start_time": "2022-08-17T06:27:14.829Z"
   },
   {
    "duration": 162,
    "start_time": "2022-08-17T06:27:15.089Z"
   },
   {
    "duration": 7,
    "start_time": "2022-08-17T06:27:15.253Z"
   },
   {
    "duration": 6,
    "start_time": "2022-08-17T06:27:15.261Z"
   },
   {
    "duration": 5,
    "start_time": "2022-08-17T06:27:15.269Z"
   },
   {
    "duration": 5,
    "start_time": "2022-08-17T06:27:15.276Z"
   },
   {
    "duration": 79,
    "start_time": "2022-08-17T06:27:15.282Z"
   },
   {
    "duration": 4,
    "start_time": "2022-08-17T06:27:15.362Z"
   },
   {
    "duration": 7,
    "start_time": "2022-08-17T06:27:15.368Z"
   },
   {
    "duration": 6,
    "start_time": "2022-08-17T06:27:15.376Z"
   },
   {
    "duration": 24,
    "start_time": "2022-08-17T06:27:15.383Z"
   },
   {
    "duration": 63,
    "start_time": "2022-08-17T06:27:15.475Z"
   },
   {
    "duration": 30,
    "start_time": "2022-08-17T06:27:15.539Z"
   },
   {
    "duration": 50,
    "start_time": "2022-08-17T06:27:15.571Z"
   },
   {
    "duration": 3,
    "start_time": "2022-08-17T06:27:15.623Z"
   },
   {
    "duration": 11,
    "start_time": "2022-08-17T06:27:15.628Z"
   },
   {
    "duration": 13,
    "start_time": "2022-08-17T06:27:15.640Z"
   },
   {
    "duration": 18,
    "start_time": "2022-08-17T06:27:15.654Z"
   },
   {
    "duration": 6,
    "start_time": "2022-08-17T06:27:15.673Z"
   },
   {
    "duration": 40,
    "start_time": "2022-08-17T06:27:15.680Z"
   },
   {
    "duration": 19,
    "start_time": "2022-08-17T06:27:15.722Z"
   },
   {
    "duration": 16,
    "start_time": "2022-08-17T06:27:15.742Z"
   },
   {
    "duration": 13,
    "start_time": "2022-08-17T06:27:15.760Z"
   },
   {
    "duration": 37,
    "start_time": "2022-08-17T06:27:15.775Z"
   },
   {
    "duration": 6,
    "start_time": "2022-08-17T06:27:15.814Z"
   },
   {
    "duration": 21,
    "start_time": "2022-08-17T06:27:15.821Z"
   },
   {
    "duration": 4,
    "start_time": "2022-08-17T06:27:15.844Z"
   },
   {
    "duration": 112,
    "start_time": "2022-08-17T06:27:15.850Z"
   },
   {
    "duration": 17,
    "start_time": "2022-08-17T06:27:15.964Z"
   },
   {
    "duration": 6,
    "start_time": "2022-08-17T06:27:15.983Z"
   },
   {
    "duration": 29,
    "start_time": "2022-08-17T06:27:15.991Z"
   },
   {
    "duration": 28,
    "start_time": "2022-08-17T06:27:16.023Z"
   },
   {
    "duration": 78,
    "start_time": "2022-08-17T06:27:16.053Z"
   },
   {
    "duration": 545,
    "start_time": "2022-08-17T06:27:16.134Z"
   },
   {
    "duration": 2,
    "start_time": "2022-08-17T06:27:16.681Z"
   },
   {
    "duration": 5,
    "start_time": "2022-08-17T06:27:16.685Z"
   },
   {
    "duration": 36,
    "start_time": "2022-08-17T06:27:16.692Z"
   },
   {
    "duration": 3880,
    "start_time": "2022-08-17T06:27:16.730Z"
   },
   {
    "duration": 8,
    "start_time": "2022-08-17T06:27:20.613Z"
   },
   {
    "duration": 93,
    "start_time": "2022-08-17T06:27:20.623Z"
   },
   {
    "duration": 43306,
    "start_time": "2022-08-17T06:27:20.717Z"
   },
   {
    "duration": 51506,
    "start_time": "2022-08-17T06:28:04.107Z"
   },
   {
    "duration": 1649,
    "start_time": "2022-08-17T06:28:55.615Z"
   },
   {
    "duration": 261,
    "start_time": "2022-08-17T06:28:57.265Z"
   },
   {
    "duration": 19,
    "start_time": "2022-08-17T06:28:57.528Z"
   },
   {
    "duration": 18476,
    "start_time": "2022-08-17T06:28:57.548Z"
   },
   {
    "duration": 480,
    "start_time": "2022-08-17T06:29:16.026Z"
   },
   {
    "duration": 983370,
    "start_time": "2022-08-17T06:29:16.508Z"
   },
   {
    "duration": 875,
    "start_time": "2022-08-17T06:45:39.880Z"
   },
   {
    "duration": 204,
    "start_time": "2022-08-17T06:45:40.756Z"
   },
   {
    "duration": 17,
    "start_time": "2022-08-17T06:45:40.961Z"
   },
   {
    "duration": 792097,
    "start_time": "2022-08-17T06:45:40.979Z"
   },
   {
    "duration": 717,
    "start_time": "2022-08-17T06:58:53.077Z"
   },
   {
    "duration": 367,
    "start_time": "2022-08-17T06:58:53.795Z"
   },
   {
    "duration": 4,
    "start_time": "2022-08-17T07:03:09.616Z"
   },
   {
    "duration": 17,
    "start_time": "2022-08-17T07:03:11.543Z"
   },
   {
    "duration": 2011,
    "start_time": "2022-08-17T07:05:02.966Z"
   },
   {
    "duration": 3,
    "start_time": "2022-08-17T07:05:04.979Z"
   },
   {
    "duration": 106,
    "start_time": "2022-08-17T07:05:04.986Z"
   },
   {
    "duration": 4,
    "start_time": "2022-08-17T07:05:05.094Z"
   },
   {
    "duration": 82,
    "start_time": "2022-08-17T07:05:05.099Z"
   },
   {
    "duration": 31,
    "start_time": "2022-08-17T07:05:05.183Z"
   },
   {
    "duration": 20,
    "start_time": "2022-08-17T07:05:05.216Z"
   },
   {
    "duration": 3,
    "start_time": "2022-08-17T07:05:05.238Z"
   },
   {
    "duration": 16,
    "start_time": "2022-08-17T07:05:05.243Z"
   },
   {
    "duration": 15,
    "start_time": "2022-08-17T07:05:05.261Z"
   },
   {
    "duration": 4,
    "start_time": "2022-08-17T07:05:05.277Z"
   },
   {
    "duration": 7,
    "start_time": "2022-08-17T07:05:05.306Z"
   },
   {
    "duration": 9,
    "start_time": "2022-08-17T07:05:05.315Z"
   },
   {
    "duration": 24,
    "start_time": "2022-08-17T07:05:05.325Z"
   },
   {
    "duration": 3,
    "start_time": "2022-08-17T07:05:05.351Z"
   },
   {
    "duration": 294,
    "start_time": "2022-08-17T07:05:05.355Z"
   },
   {
    "duration": 200,
    "start_time": "2022-08-17T07:05:05.651Z"
   },
   {
    "duration": 9,
    "start_time": "2022-08-17T07:05:05.853Z"
   },
   {
    "duration": 6,
    "start_time": "2022-08-17T07:05:05.864Z"
   },
   {
    "duration": 7,
    "start_time": "2022-08-17T07:05:05.871Z"
   },
   {
    "duration": 27,
    "start_time": "2022-08-17T07:05:05.880Z"
   },
   {
    "duration": 51,
    "start_time": "2022-08-17T07:05:05.909Z"
   },
   {
    "duration": 4,
    "start_time": "2022-08-17T07:05:05.962Z"
   },
   {
    "duration": 52,
    "start_time": "2022-08-17T07:05:05.967Z"
   },
   {
    "duration": 6,
    "start_time": "2022-08-17T07:05:06.030Z"
   },
   {
    "duration": 25,
    "start_time": "2022-08-17T07:05:06.038Z"
   },
   {
    "duration": 80,
    "start_time": "2022-08-17T07:05:06.164Z"
   },
   {
    "duration": 70,
    "start_time": "2022-08-17T07:05:06.245Z"
   },
   {
    "duration": 25,
    "start_time": "2022-08-17T07:05:06.317Z"
   },
   {
    "duration": 6,
    "start_time": "2022-08-17T07:05:06.344Z"
   },
   {
    "duration": 12,
    "start_time": "2022-08-17T07:05:06.351Z"
   },
   {
    "duration": 12,
    "start_time": "2022-08-17T07:05:06.364Z"
   },
   {
    "duration": 50,
    "start_time": "2022-08-17T07:05:06.378Z"
   },
   {
    "duration": 6,
    "start_time": "2022-08-17T07:05:06.430Z"
   },
   {
    "duration": 18,
    "start_time": "2022-08-17T07:05:06.437Z"
   },
   {
    "duration": 22,
    "start_time": "2022-08-17T07:05:06.457Z"
   },
   {
    "duration": 49,
    "start_time": "2022-08-17T07:05:06.484Z"
   },
   {
    "duration": 13,
    "start_time": "2022-08-17T07:05:06.535Z"
   },
   {
    "duration": 21,
    "start_time": "2022-08-17T07:05:06.550Z"
   },
   {
    "duration": 6,
    "start_time": "2022-08-17T07:05:06.572Z"
   },
   {
    "duration": 38,
    "start_time": "2022-08-17T07:05:06.579Z"
   },
   {
    "duration": 12,
    "start_time": "2022-08-17T07:05:06.620Z"
   },
   {
    "duration": 114,
    "start_time": "2022-08-17T07:05:06.634Z"
   },
   {
    "duration": 19,
    "start_time": "2022-08-17T07:05:06.749Z"
   },
   {
    "duration": 6,
    "start_time": "2022-08-17T07:05:06.770Z"
   },
   {
    "duration": 31,
    "start_time": "2022-08-17T07:05:06.777Z"
   },
   {
    "duration": 21,
    "start_time": "2022-08-17T07:05:06.810Z"
   },
   {
    "duration": 90,
    "start_time": "2022-08-17T07:05:06.833Z"
   },
   {
    "duration": 512,
    "start_time": "2022-08-17T07:05:06.924Z"
   },
   {
    "duration": 3,
    "start_time": "2022-08-17T07:05:07.438Z"
   },
   {
    "duration": 5,
    "start_time": "2022-08-17T07:05:07.443Z"
   },
   {
    "duration": 23,
    "start_time": "2022-08-17T07:05:07.449Z"
   },
   {
    "duration": 3346,
    "start_time": "2022-08-17T07:05:07.473Z"
   },
   {
    "duration": 102,
    "start_time": "2022-08-17T07:05:10.821Z"
   },
   {
    "duration": 11,
    "start_time": "2022-08-17T07:05:11.009Z"
   },
   {
    "duration": 30995,
    "start_time": "2022-08-17T07:05:11.022Z"
   },
   {
    "duration": 53319,
    "start_time": "2022-08-17T07:05:42.019Z"
   },
   {
    "duration": 1554,
    "start_time": "2022-08-17T07:06:35.339Z"
   },
   {
    "duration": 268,
    "start_time": "2022-08-17T07:06:36.895Z"
   },
   {
    "duration": 18,
    "start_time": "2022-08-17T07:06:37.165Z"
   },
   {
    "duration": 17261,
    "start_time": "2022-08-17T07:06:37.185Z"
   },
   {
    "duration": 441,
    "start_time": "2022-08-17T07:06:54.448Z"
   },
   {
    "duration": 907440,
    "start_time": "2022-08-17T07:06:54.890Z"
   },
   {
    "duration": 935,
    "start_time": "2022-08-17T07:22:02.332Z"
   },
   {
    "duration": 231,
    "start_time": "2022-08-17T07:22:03.268Z"
   },
   {
    "duration": 26,
    "start_time": "2022-08-17T07:22:03.501Z"
   },
   {
    "duration": 947848,
    "start_time": "2022-08-17T07:22:03.529Z"
   },
   {
    "duration": 1343,
    "start_time": "2022-08-17T07:37:51.379Z"
   },
   {
    "duration": 263,
    "start_time": "2022-08-17T07:37:52.724Z"
   },
   {
    "duration": 4,
    "start_time": "2022-08-17T08:15:32.886Z"
   },
   {
    "duration": 5,
    "start_time": "2022-08-17T08:15:32.909Z"
   },
   {
    "duration": 109,
    "start_time": "2022-08-17T08:15:32.973Z"
   },
   {
    "duration": 4,
    "start_time": "2022-08-17T08:15:33.085Z"
   },
   {
    "duration": 63,
    "start_time": "2022-08-17T08:15:33.142Z"
   },
   {
    "duration": 8,
    "start_time": "2022-08-17T08:15:33.207Z"
   },
   {
    "duration": 13,
    "start_time": "2022-08-17T08:15:33.788Z"
   },
   {
    "duration": 7,
    "start_time": "2022-08-17T08:15:34.123Z"
   },
   {
    "duration": 17,
    "start_time": "2022-08-17T08:15:38.746Z"
   },
   {
    "duration": 13,
    "start_time": "2022-08-17T08:19:17.650Z"
   },
   {
    "duration": 22,
    "start_time": "2022-08-17T08:20:20.410Z"
   },
   {
    "duration": 17,
    "start_time": "2022-08-17T08:20:20.434Z"
   },
   {
    "duration": 8,
    "start_time": "2022-08-17T08:20:20.634Z"
   },
   {
    "duration": 5,
    "start_time": "2022-08-17T08:20:21.025Z"
   },
   {
    "duration": 22,
    "start_time": "2022-08-17T08:20:21.417Z"
   },
   {
    "duration": 4,
    "start_time": "2022-08-17T08:20:21.970Z"
   },
   {
    "duration": 226,
    "start_time": "2022-08-17T08:20:22.185Z"
   },
   {
    "duration": 144,
    "start_time": "2022-08-17T08:20:22.538Z"
   },
   {
    "duration": 9,
    "start_time": "2022-08-17T08:20:22.721Z"
   },
   {
    "duration": 4,
    "start_time": "2022-08-17T08:20:23.129Z"
   },
   {
    "duration": 5,
    "start_time": "2022-08-17T08:20:23.329Z"
   },
   {
    "duration": 4,
    "start_time": "2022-08-17T08:20:23.529Z"
   },
   {
    "duration": 53,
    "start_time": "2022-08-17T08:20:24.497Z"
   },
   {
    "duration": 5,
    "start_time": "2022-08-17T08:20:24.881Z"
   },
   {
    "duration": 3,
    "start_time": "2022-08-17T08:20:25.178Z"
   },
   {
    "duration": 5,
    "start_time": "2022-08-17T08:20:25.553Z"
   },
   {
    "duration": 5,
    "start_time": "2022-08-17T08:20:25.768Z"
   },
   {
    "duration": 52,
    "start_time": "2022-08-17T08:20:26.673Z"
   },
   {
    "duration": 34,
    "start_time": "2022-08-17T08:20:27.345Z"
   },
   {
    "duration": 26,
    "start_time": "2022-08-17T08:20:30.914Z"
   },
   {
    "duration": 4,
    "start_time": "2022-08-17T08:20:31.273Z"
   },
   {
    "duration": 4,
    "start_time": "2022-08-17T08:20:31.649Z"
   },
   {
    "duration": 14,
    "start_time": "2022-08-17T08:20:31.977Z"
   },
   {
    "duration": 19,
    "start_time": "2022-08-17T08:20:32.146Z"
   },
   {
    "duration": 4,
    "start_time": "2022-08-17T08:20:32.297Z"
   },
   {
    "duration": 19,
    "start_time": "2022-08-17T08:20:32.449Z"
   },
   {
    "duration": 23,
    "start_time": "2022-08-17T08:20:32.585Z"
   },
   {
    "duration": 25,
    "start_time": "2022-08-17T08:20:32.705Z"
   },
   {
    "duration": 9,
    "start_time": "2022-08-17T08:20:32.969Z"
   },
   {
    "duration": 15,
    "start_time": "2022-08-17T08:20:33.584Z"
   },
   {
    "duration": 5,
    "start_time": "2022-08-17T08:20:34.353Z"
   },
   {
    "duration": 19,
    "start_time": "2022-08-17T08:20:34.601Z"
   },
   {
    "duration": 3,
    "start_time": "2022-08-17T08:20:35.257Z"
   },
   {
    "duration": 105,
    "start_time": "2022-08-17T08:20:35.601Z"
   },
   {
    "duration": 22,
    "start_time": "2022-08-17T08:20:35.818Z"
   },
   {
    "duration": 6,
    "start_time": "2022-08-17T08:20:36.081Z"
   },
   {
    "duration": 17,
    "start_time": "2022-08-17T08:20:36.322Z"
   },
   {
    "duration": 18,
    "start_time": "2022-08-17T08:20:36.897Z"
   },
   {
    "duration": 72,
    "start_time": "2022-08-17T08:20:37.769Z"
   },
   {
    "duration": 543,
    "start_time": "2022-08-17T08:20:39.408Z"
   },
   {
    "duration": 3,
    "start_time": "2022-08-17T08:20:43.384Z"
   },
   {
    "duration": 4,
    "start_time": "2022-08-17T08:20:44.329Z"
   },
   {
    "duration": 25,
    "start_time": "2022-08-17T08:20:51.017Z"
   },
   {
    "duration": 3950,
    "start_time": "2022-08-17T08:20:55.567Z"
   },
   {
    "duration": 87,
    "start_time": "2022-08-17T08:20:59.521Z"
   },
   {
    "duration": 5,
    "start_time": "2022-08-17T08:21:02.377Z"
   },
   {
    "duration": 35753,
    "start_time": "2022-08-17T08:21:03.654Z"
   },
   {
    "duration": 5,
    "start_time": "2022-08-17T08:22:47.705Z"
   },
   {
    "duration": 5,
    "start_time": "2022-08-17T08:22:48.840Z"
   },
   {
    "duration": 30572,
    "start_time": "2022-08-17T08:22:50.249Z"
   },
   {
    "duration": 52866,
    "start_time": "2022-08-17T08:23:20.827Z"
   },
   {
    "duration": 1563,
    "start_time": "2022-08-17T08:24:17.824Z"
   },
   {
    "duration": 244,
    "start_time": "2022-08-17T08:24:19.389Z"
   },
   {
    "duration": 26,
    "start_time": "2022-08-17T08:26:34.792Z"
   },
   {
    "duration": 18782,
    "start_time": "2022-08-17T08:26:37.056Z"
   },
   {
    "duration": 28116,
    "start_time": "2022-08-17T08:27:24.440Z"
   },
   {
    "duration": 28309,
    "start_time": "2022-08-17T08:27:54.992Z"
   },
   {
    "duration": 1534,
    "start_time": "2022-08-17T08:31:32.168Z"
   }
  ],
  "kernelspec": {
   "display_name": "Python 3 (ipykernel)",
   "language": "python",
   "name": "python3"
  },
  "language_info": {
   "codemirror_mode": {
    "name": "ipython",
    "version": 3
   },
   "file_extension": ".py",
   "mimetype": "text/x-python",
   "name": "python",
   "nbconvert_exporter": "python",
   "pygments_lexer": "ipython3",
   "version": "3.9.7"
  },
  "toc": {
   "base_numbering": 1,
   "nav_menu": {},
   "number_sections": true,
   "sideBar": true,
   "skip_h1_title": true,
   "title_cell": "Table of Contents",
   "title_sidebar": "Contents",
   "toc_cell": false,
   "toc_position": {
    "height": "calc(100% - 180px)",
    "left": "10px",
    "top": "150px",
    "width": "338.8235168457031px"
   },
   "toc_section_display": true,
   "toc_window_display": true
  }
 },
 "nbformat": 4,
 "nbformat_minor": 5
}
