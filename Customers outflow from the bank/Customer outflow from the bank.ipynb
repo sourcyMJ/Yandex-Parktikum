{
 "cells": [
  {
   "cell_type": "markdown",
   "id": "673cb28a",
   "metadata": {},
   "source": [
    "# Customer outflow"
   ]
  },
  {
   "cell_type": "markdown",
   "id": "7e2a93b7",
   "metadata": {},
   "source": [
    "Customers began to leave the bank. Every month. A little, but noticeable. Bank marketers have calculated that it is cheaper to retain current customers than to attract new ones.\n",
    "\n",
    "It is necessary to predict whether the client will leave the bank in the near future or not. You are presented with historical data on the behavior of customers and the termination of contracts with the bank.\n",
    "\n",
    "It is necessary to build a model with an extremely large value of the F1-measure. We need to bring the metric up to 0.59. Check the F1 measure on a test sample.\n",
    "\n",
    "Additionally, it is necessary to measure AUC-ROC, compare its value with the F1-measure."
   ]
  },
  {
   "cell_type": "markdown",
   "id": "e904a507",
   "metadata": {},
   "source": [
    "### The purpose of the study"
   ]
  },
  {
   "cell_type": "markdown",
   "id": "1fc260cb",
   "metadata": {},
   "source": [
    "- It is necessary to build a model with an extremely large value of F1-measure, which will predict whether the client will leave. - Bring the metric to 0.59.\n",
    "- Check the F1 measure on a test sample.\n",
    "- Measure AUC-ROC, compare its value with F1-measure."
   ]
  },
  {
   "cell_type": "markdown",
   "id": "140b941d",
   "metadata": {},
   "source": [
    "### Data Description"
   ]
  },
  {
   "cell_type": "markdown",
   "id": "8dbd5446",
   "metadata": {},
   "source": [
    "<b>Features</b>\n",
    "- RowNumber — index of the row in the data\n",
    "- CustomerID — unique identifier of the customer\n",
    "- Surname — surname\n",
    "- CreditScore — credit rating\n",
    "- Geography — country of residence\n",
    "- Gender — gender\n",
    "- Age — age\n",
    "- Tenure — how many years has a person been a customer of the bank\n",
    "- Balance — account balance\n",
    "- NumOfProducts — the number of bank products used by the customer\n",
    "- HasCrCard — availability of a credit card\n",
    "- IsActiveMember — client activity\n",
    "- EstimatedSalary — estimated salary\n",
    "\n",
    "<b>Target </b>\n",
    "- Exited — the fact of the client's departure"
   ]
  },
  {
   "cell_type": "markdown",
   "id": "c3620467",
   "metadata": {},
   "source": [
    "<b>Plan of research</b>\n",
    "\n",
    "It is optimal to conduct a study according to the following plan:\n",
    "\n",
    "- Data preparation.\n",
    "- Study of the balance of classes, training model without taking into account the imbalance.\n",
    "- Improve the quality of the model, taking into account the imbalance of classes. Train different models and find the best one.\n",
    "- Conduct final testing."
   ]
  },
  {
   "cell_type": "markdown",
   "id": "fa8be0fa",
   "metadata": {},
   "source": [
    "## Data preparation."
   ]
  },
  {
   "cell_type": "markdown",
   "id": "0f5efbd6",
   "metadata": {},
   "source": [
    "To begin with, it is better to import all the necessary libraries for work:"
   ]
  },
  {
   "cell_type": "code",
   "execution_count": 13,
   "id": "aa1e2ef7",
   "metadata": {},
   "outputs": [],
   "source": [
    "import pandas as pd\n",
    "import numpy as np\n",
    "import matplotlib.pyplot as plt\n",
    "import seaborn as sns\n",
    "pd.options.mode.chained_assignment = None \n",
    "\n",
    "#module for sample separation\n",
    "from sklearn.model_selection import train_test_split\n",
    "\n",
    "##library for standard scaling\n",
    "from sklearn.preprocessing import StandardScaler\n",
    "\n",
    "from sklearn.preprocessing import OrdinalEncoder, StandardScaler\n",
    "\n",
    "##Decision Tree\n",
    "from sklearn.tree import DecisionTreeClassifier\n",
    "\n",
    "#Random Forest \n",
    "from sklearn.ensemble import RandomForestClassifier\n",
    "\n",
    "#Logistic regression\n",
    "from sklearn.linear_model import LogisticRegression\n",
    "\n",
    "#Accuracy\n",
    "from sklearn.metrics import accuracy_score\n",
    "\n",
    "#error matrix\n",
    "from sklearn.metrics import confusion_matrix\n",
    "\n",
    "#recall\n",
    "from sklearn.metrics import recall_score\n",
    "\n",
    "#precision\n",
    "from sklearn.metrics import precision_score\n",
    "\n",
    "#F-1 score\n",
    "from sklearn.metrics import f1_score\n",
    "\n",
    "#AUC-ROC\n",
    "from sklearn.metrics import roc_auc_score\n",
    "\n",
    "#ROC-curve\n",
    "from sklearn.metrics import roc_curve\n",
    "\n",
    "#module for sequential mixing of arrays\n",
    "from sklearn.utils import shuffle\n",
    "\n",
    "#method for iterating parameters\n",
    "from itertools import product"
   ]
  },
  {
   "cell_type": "markdown",
   "id": "cfb81dfd",
   "metadata": {},
   "source": [
    "Let's download the data and study them:"
   ]
  },
  {
   "cell_type": "code",
   "execution_count": 14,
   "id": "a450c0b1",
   "metadata": {},
   "outputs": [],
   "source": [
    "try:\n",
    "    df = pd.read_csv('/Users/vladislav/Documents/datasets//Churn.csv')\n",
    "except:\n",
    "    df = pd.read_csv('/datasets/Churn.csv')"
   ]
  },
  {
   "cell_type": "code",
   "execution_count": 15,
   "id": "765f87b2",
   "metadata": {},
   "outputs": [
    {
     "data": {
      "text/html": [
       "<div>\n",
       "<style scoped>\n",
       "    .dataframe tbody tr th:only-of-type {\n",
       "        vertical-align: middle;\n",
       "    }\n",
       "\n",
       "    .dataframe tbody tr th {\n",
       "        vertical-align: top;\n",
       "    }\n",
       "\n",
       "    .dataframe thead th {\n",
       "        text-align: right;\n",
       "    }\n",
       "</style>\n",
       "<table border=\"1\" class=\"dataframe\">\n",
       "  <thead>\n",
       "    <tr style=\"text-align: right;\">\n",
       "      <th></th>\n",
       "      <th>RowNumber</th>\n",
       "      <th>CustomerId</th>\n",
       "      <th>Surname</th>\n",
       "      <th>CreditScore</th>\n",
       "      <th>Geography</th>\n",
       "      <th>Gender</th>\n",
       "      <th>Age</th>\n",
       "      <th>Tenure</th>\n",
       "      <th>Balance</th>\n",
       "      <th>NumOfProducts</th>\n",
       "      <th>HasCrCard</th>\n",
       "      <th>IsActiveMember</th>\n",
       "      <th>EstimatedSalary</th>\n",
       "      <th>Exited</th>\n",
       "    </tr>\n",
       "  </thead>\n",
       "  <tbody>\n",
       "    <tr>\n",
       "      <th>0</th>\n",
       "      <td>1</td>\n",
       "      <td>15634602</td>\n",
       "      <td>Hargrave</td>\n",
       "      <td>619</td>\n",
       "      <td>France</td>\n",
       "      <td>Female</td>\n",
       "      <td>42</td>\n",
       "      <td>2.0</td>\n",
       "      <td>0.00</td>\n",
       "      <td>1</td>\n",
       "      <td>1</td>\n",
       "      <td>1</td>\n",
       "      <td>101348.88</td>\n",
       "      <td>1</td>\n",
       "    </tr>\n",
       "    <tr>\n",
       "      <th>1</th>\n",
       "      <td>2</td>\n",
       "      <td>15647311</td>\n",
       "      <td>Hill</td>\n",
       "      <td>608</td>\n",
       "      <td>Spain</td>\n",
       "      <td>Female</td>\n",
       "      <td>41</td>\n",
       "      <td>1.0</td>\n",
       "      <td>83807.86</td>\n",
       "      <td>1</td>\n",
       "      <td>0</td>\n",
       "      <td>1</td>\n",
       "      <td>112542.58</td>\n",
       "      <td>0</td>\n",
       "    </tr>\n",
       "    <tr>\n",
       "      <th>2</th>\n",
       "      <td>3</td>\n",
       "      <td>15619304</td>\n",
       "      <td>Onio</td>\n",
       "      <td>502</td>\n",
       "      <td>France</td>\n",
       "      <td>Female</td>\n",
       "      <td>42</td>\n",
       "      <td>8.0</td>\n",
       "      <td>159660.80</td>\n",
       "      <td>3</td>\n",
       "      <td>1</td>\n",
       "      <td>0</td>\n",
       "      <td>113931.57</td>\n",
       "      <td>1</td>\n",
       "    </tr>\n",
       "    <tr>\n",
       "      <th>3</th>\n",
       "      <td>4</td>\n",
       "      <td>15701354</td>\n",
       "      <td>Boni</td>\n",
       "      <td>699</td>\n",
       "      <td>France</td>\n",
       "      <td>Female</td>\n",
       "      <td>39</td>\n",
       "      <td>1.0</td>\n",
       "      <td>0.00</td>\n",
       "      <td>2</td>\n",
       "      <td>0</td>\n",
       "      <td>0</td>\n",
       "      <td>93826.63</td>\n",
       "      <td>0</td>\n",
       "    </tr>\n",
       "    <tr>\n",
       "      <th>4</th>\n",
       "      <td>5</td>\n",
       "      <td>15737888</td>\n",
       "      <td>Mitchell</td>\n",
       "      <td>850</td>\n",
       "      <td>Spain</td>\n",
       "      <td>Female</td>\n",
       "      <td>43</td>\n",
       "      <td>2.0</td>\n",
       "      <td>125510.82</td>\n",
       "      <td>1</td>\n",
       "      <td>1</td>\n",
       "      <td>1</td>\n",
       "      <td>79084.10</td>\n",
       "      <td>0</td>\n",
       "    </tr>\n",
       "  </tbody>\n",
       "</table>\n",
       "</div>"
      ],
      "text/plain": [
       "   RowNumber  CustomerId   Surname  CreditScore Geography  Gender  Age  \\\n",
       "0          1    15634602  Hargrave          619    France  Female   42   \n",
       "1          2    15647311      Hill          608     Spain  Female   41   \n",
       "2          3    15619304      Onio          502    France  Female   42   \n",
       "3          4    15701354      Boni          699    France  Female   39   \n",
       "4          5    15737888  Mitchell          850     Spain  Female   43   \n",
       "\n",
       "   Tenure    Balance  NumOfProducts  HasCrCard  IsActiveMember  \\\n",
       "0     2.0       0.00              1          1               1   \n",
       "1     1.0   83807.86              1          0               1   \n",
       "2     8.0  159660.80              3          1               0   \n",
       "3     1.0       0.00              2          0               0   \n",
       "4     2.0  125510.82              1          1               1   \n",
       "\n",
       "   EstimatedSalary  Exited  \n",
       "0        101348.88       1  \n",
       "1        112542.58       0  \n",
       "2        113931.57       1  \n",
       "3         93826.63       0  \n",
       "4         79084.10       0  "
      ]
     },
     "execution_count": 15,
     "metadata": {},
     "output_type": "execute_result"
    }
   ],
   "source": [
    "df.head()"
   ]
  },
  {
   "cell_type": "code",
   "execution_count": 16,
   "id": "64553cff",
   "metadata": {},
   "outputs": [],
   "source": [
    "df.columns = map(str.lower, df.columns)"
   ]
  },
  {
   "cell_type": "code",
   "execution_count": 17,
   "id": "a489263b",
   "metadata": {
    "scrolled": true
   },
   "outputs": [
    {
     "name": "stdout",
     "output_type": "stream",
     "text": [
      "<class 'pandas.core.frame.DataFrame'>\n",
      "RangeIndex: 10000 entries, 0 to 9999\n",
      "Data columns (total 14 columns):\n",
      " #   Column           Non-Null Count  Dtype  \n",
      "---  ------           --------------  -----  \n",
      " 0   rownumber        10000 non-null  int64  \n",
      " 1   customerid       10000 non-null  int64  \n",
      " 2   surname          10000 non-null  object \n",
      " 3   creditscore      10000 non-null  int64  \n",
      " 4   geography        10000 non-null  object \n",
      " 5   gender           10000 non-null  object \n",
      " 6   age              10000 non-null  int64  \n",
      " 7   tenure           9091 non-null   float64\n",
      " 8   balance          10000 non-null  float64\n",
      " 9   numofproducts    10000 non-null  int64  \n",
      " 10  hascrcard        10000 non-null  int64  \n",
      " 11  isactivemember   10000 non-null  int64  \n",
      " 12  estimatedsalary  10000 non-null  float64\n",
      " 13  exited           10000 non-null  int64  \n",
      "dtypes: float64(3), int64(8), object(3)\n",
      "memory usage: 1.1+ MB\n"
     ]
    }
   ],
   "source": [
    "df.info()"
   ]
  },
  {
   "cell_type": "markdown",
   "id": "70abbee7",
   "metadata": {},
   "source": [
    "Fill in missing values:"
   ]
  },
  {
   "cell_type": "code",
   "execution_count": 18,
   "id": "669e7876",
   "metadata": {},
   "outputs": [],
   "source": [
    "df['tenure'] = df['tenure'].fillna(-1)"
   ]
  },
  {
   "cell_type": "code",
   "execution_count": 19,
   "id": "b9822bf2",
   "metadata": {},
   "outputs": [],
   "source": [
    "def make_pie_plot(data, name):\n",
    "    counts = data.value_counts()\n",
    "    counts.plot.pie(legend=True, labeldistance=1.2, autopct='%1.2f%%', figsize=(12,6), title=name)\n",
    "    plt.show()"
   ]
  },
  {
   "cell_type": "code",
   "execution_count": 20,
   "id": "9ac83402",
   "metadata": {},
   "outputs": [
    {
     "data": {
      "image/png": "[encoded data removed]",
      "text/plain": [
       "<Figure size 1200x600 with 1 Axes>"
      ]
     },
     "metadata": {},
     "output_type": "display_data"
    }
   ],
   "source": [
    "make_pie_plot(df['exited'], 'The share of exited customers')\n",
    "# 1 = Да, 0 = Нет"
   ]
  },
  {
   "cell_type": "code",
   "execution_count": 21,
   "id": "1f4c15a3",
   "metadata": {},
   "outputs": [
    {
     "data": {
      "image/png": "[encoded data removed]",
      "text/plain": [
       "<Figure size 640x480 with 1 Axes>"
      ]
     },
     "metadata": {},
     "output_type": "display_data"
    }
   ],
   "source": [
    "df.pivot_table(index='age', values='rownumber', aggfunc='sum').sort_values('age', ascending=False).plot(legend=False, title=\"Client's age\")\n",
    "plt.show()"
   ]
  },
  {
   "cell_type": "code",
   "execution_count": 22,
   "id": "1c469874",
   "metadata": {},
   "outputs": [
    {
     "data": {
      "image/png": "[encoded data removed]",
      "text/plain": [
       "<Figure size 1200x1000 with 5 Axes>"
      ]
     },
     "metadata": {},
     "output_type": "display_data"
    }
   ],
   "source": [
    "plt.figure(figsize=(12,10))\n",
    "columns = ['hascrcard', 'gender', 'isactivemember', 'numofproducts', 'geography']\n",
    "for i in range(5):\n",
    "    plt.subplot(3, 2, i+1)\n",
    "    sns.countplot(x=columns[i], hue='exited', data=df)\n",
    "    plt.xticks(rotation=0)\n",
    "    plt.legend([\"Not Exited\", \"Exited\"])\n",
    "plt.show()"
   ]
  },
  {
   "cell_type": "markdown",
   "id": "0fff3536",
   "metadata": {},
   "source": [
    "The dataset contains 10000 rows, no obvious missing values were detected.\n",
    "Required changes:\n",
    "\n",
    "RowNumber — the column duplicates the information of the standard dataframe and has no value for training the model. Therefore, the column can be deleted\n",
    "\n",
    "CustomerID is the user ID (for this column, the value must be checked for duplicates) and if there are none, this column can also be deleted.\n",
    "\n",
    "Surname — is user—identifying information, but has no value for the quality of the future model - the column can be deleted.\n",
    "\n",
    "CreditScore — this column should be saved.\n",
    "\n",
    "Geography — only 3 unique values France', 'Spain', 'Germany' — perform OHE / ordinal encoding conversion\n",
    "\n",
    "Gender — convert value — OHE / ordinal encoding."
   ]
  },
  {
   "cell_type": "markdown",
   "id": "1f2426e3",
   "metadata": {},
   "source": [
    "Let's remove unnecessary columns. Denote target and features using the function"
   ]
  },
  {
   "cell_type": "code",
   "execution_count": 23,
   "id": "87e636bb",
   "metadata": {},
   "outputs": [],
   "source": [
    "df = df.drop(['rownumber','customerid','surname'], axis=1)\n",
    "rnd_state = 12345"
   ]
  },
  {
   "cell_type": "code",
   "execution_count": 24,
   "id": "2f139b56",
   "metadata": {},
   "outputs": [],
   "source": [
    "def make_target_features(data, target_col='exited'):    \n",
    "    target = data[target_col]\n",
    "    features = data.drop(target_col, axis=1)\n",
    "    return target, features"
   ]
  },
  {
   "cell_type": "markdown",
   "id": "3832440f",
   "metadata": {},
   "source": [
    "Let's divide the initial data set into three parts: training, validation and test sets. The sizes of the test and validation sets will be 60% \\ 20% \\ 20%"
   ]
  },
  {
   "cell_type": "code",
   "execution_count": 25,
   "id": "ca9aa728",
   "metadata": {},
   "outputs": [],
   "source": [
    "def split_data(features, target):\n",
    "    features_train, features_valid, target_train, target_valid = train_test_split(features, target, test_size=0.6, random_state=rnd_state)\n",
    "\n",
    "    features_valid, features_test, target_valid, target_test = train_test_split(features_valid, target_valid, test_size=0.5, random_state=rnd_state)\n",
    "    # Scaling quantitative features\n",
    "    scaler = StandardScaler()\n",
    "    numeric = ['creditscore', 'age', 'tenure', 'balance', 'numofproducts', 'estimatedsalary']\n",
    "    scaler.fit(features_train[numeric])\n",
    "    \n",
    "    features_train[numeric] = scaler.transform(features_train[numeric])\n",
    "    features_valid[numeric] = scaler.transform(features_valid[numeric])\n",
    "    features_test[numeric] = scaler.transform(features_test[numeric])\n",
    "    \n",
    "    return features_train, features_valid, features_test, target_train, target_valid, target_test"
   ]
  },
  {
   "cell_type": "markdown",
   "id": "3d0a6c6d",
   "metadata": {},
   "source": [
    "The function returns the trained model"
   ]
  },
  {
   "cell_type": "code",
   "execution_count": 26,
   "id": "cf46fd8b",
   "metadata": {},
   "outputs": [],
   "source": [
    "def train_and_predict(data, model, log_prefix='', samplefunc=None, test=False):\n",
    "    target, features = make_target_features(data)\n",
    "    features_train, features_valid, features_test, target_train, target_valid, target_test = split_data(features, target)\n",
    "\n",
    "    if samplefunc:\n",
    "        features_train, target_train = samplefunc(features_train, target_train)\n",
    "    \n",
    "    model.fit(features_train, target_train)\n",
    "    predicted_valid = model.predict(features_valid)\n",
    "    print(f'{log_prefix}F1 of valid: {f1_score(target_valid, predicted_valid)}')\n",
    "    \n",
    "    if test:\n",
    "        predictions_test = model.predict(features_test)\n",
    "        print(f'{log_prefix}F1 of test: {f1_score(target_test, predicted_test)}')\n",
    "        \n",
    "    \n",
    "    return model"
   ]
  },
  {
   "cell_type": "markdown",
   "id": "297d9789",
   "metadata": {},
   "source": [
    "Next we transform categorical features into numerical ones"
   ]
  },
  {
   "cell_type": "code",
   "execution_count": 27,
   "id": "b2b57aaa",
   "metadata": {},
   "outputs": [],
   "source": [
    "data_ohe = pd.get_dummies(df, drop_first=True)"
   ]
  },
  {
   "cell_type": "markdown",
   "id": "89c10595",
   "metadata": {},
   "source": [
    "## Let's study balance of classes, learning model without taking into account the imbalance."
   ]
  },
  {
   "cell_type": "markdown",
   "id": "33cbf578",
   "metadata": {},
   "source": [
    "Let's check how often the class \"1\" or \"0\" occurs in the target attribute of our source dataset:"
   ]
  },
  {
   "cell_type": "code",
   "execution_count": 28,
   "id": "3030a0e4",
   "metadata": {
    "scrolled": true
   },
   "outputs": [
    {
     "data": {
      "text/plain": [
       "0    0.7963\n",
       "1    0.2037\n",
       "Name: exited, dtype: float64"
      ]
     },
     "execution_count": 28,
     "metadata": {},
     "output_type": "execute_result"
    }
   ],
   "source": [
    "frequency_of_0_1 = df['exited'].value_counts(normalize=True)\n",
    "frequency_of_0_1"
   ]
  },
  {
   "cell_type": "markdown",
   "id": "858ec50b",
   "metadata": {},
   "source": [
    "The ratio is not balanced: negative ~ 80% and positive ~ 20%. At this stage, we will explore models without taking into account the imbalance of classes, obviously expecting bad results.\n",
    "\n",
    "Some of the data is categorical. To train a logistic regression model, we need to transform categorical features by direct coding, and to train a model of a decision tree or a random forest, we need to perform ordinal coding. Let's apply the technique of ordinal coding for categorical features."
   ]
  },
  {
   "cell_type": "code",
   "execution_count": 29,
   "id": "ff6dd1bb",
   "metadata": {},
   "outputs": [
    {
     "data": {
      "text/html": [
       "<div>\n",
       "<style scoped>\n",
       "    .dataframe tbody tr th:only-of-type {\n",
       "        vertical-align: middle;\n",
       "    }\n",
       "\n",
       "    .dataframe tbody tr th {\n",
       "        vertical-align: top;\n",
       "    }\n",
       "\n",
       "    .dataframe thead th {\n",
       "        text-align: right;\n",
       "    }\n",
       "</style>\n",
       "<table border=\"1\" class=\"dataframe\">\n",
       "  <thead>\n",
       "    <tr style=\"text-align: right;\">\n",
       "      <th></th>\n",
       "      <th>creditscore</th>\n",
       "      <th>geography</th>\n",
       "      <th>gender</th>\n",
       "      <th>age</th>\n",
       "      <th>tenure</th>\n",
       "      <th>balance</th>\n",
       "      <th>numofproducts</th>\n",
       "      <th>hascrcard</th>\n",
       "      <th>isactivemember</th>\n",
       "      <th>estimatedsalary</th>\n",
       "      <th>exited</th>\n",
       "    </tr>\n",
       "  </thead>\n",
       "  <tbody>\n",
       "    <tr>\n",
       "      <th>0</th>\n",
       "      <td>619</td>\n",
       "      <td>France</td>\n",
       "      <td>Female</td>\n",
       "      <td>42</td>\n",
       "      <td>2.0</td>\n",
       "      <td>0.00</td>\n",
       "      <td>1</td>\n",
       "      <td>1</td>\n",
       "      <td>1</td>\n",
       "      <td>101348.88</td>\n",
       "      <td>1</td>\n",
       "    </tr>\n",
       "    <tr>\n",
       "      <th>1</th>\n",
       "      <td>608</td>\n",
       "      <td>Spain</td>\n",
       "      <td>Female</td>\n",
       "      <td>41</td>\n",
       "      <td>1.0</td>\n",
       "      <td>83807.86</td>\n",
       "      <td>1</td>\n",
       "      <td>0</td>\n",
       "      <td>1</td>\n",
       "      <td>112542.58</td>\n",
       "      <td>0</td>\n",
       "    </tr>\n",
       "    <tr>\n",
       "      <th>2</th>\n",
       "      <td>502</td>\n",
       "      <td>France</td>\n",
       "      <td>Female</td>\n",
       "      <td>42</td>\n",
       "      <td>8.0</td>\n",
       "      <td>159660.80</td>\n",
       "      <td>3</td>\n",
       "      <td>1</td>\n",
       "      <td>0</td>\n",
       "      <td>113931.57</td>\n",
       "      <td>1</td>\n",
       "    </tr>\n",
       "    <tr>\n",
       "      <th>3</th>\n",
       "      <td>699</td>\n",
       "      <td>France</td>\n",
       "      <td>Female</td>\n",
       "      <td>39</td>\n",
       "      <td>1.0</td>\n",
       "      <td>0.00</td>\n",
       "      <td>2</td>\n",
       "      <td>0</td>\n",
       "      <td>0</td>\n",
       "      <td>93826.63</td>\n",
       "      <td>0</td>\n",
       "    </tr>\n",
       "    <tr>\n",
       "      <th>4</th>\n",
       "      <td>850</td>\n",
       "      <td>Spain</td>\n",
       "      <td>Female</td>\n",
       "      <td>43</td>\n",
       "      <td>2.0</td>\n",
       "      <td>125510.82</td>\n",
       "      <td>1</td>\n",
       "      <td>1</td>\n",
       "      <td>1</td>\n",
       "      <td>79084.10</td>\n",
       "      <td>0</td>\n",
       "    </tr>\n",
       "  </tbody>\n",
       "</table>\n",
       "</div>"
      ],
      "text/plain": [
       "   creditscore geography  gender  age  tenure    balance  numofproducts  \\\n",
       "0          619    France  Female   42     2.0       0.00              1   \n",
       "1          608     Spain  Female   41     1.0   83807.86              1   \n",
       "2          502    France  Female   42     8.0  159660.80              3   \n",
       "3          699    France  Female   39     1.0       0.00              2   \n",
       "4          850     Spain  Female   43     2.0  125510.82              1   \n",
       "\n",
       "   hascrcard  isactivemember  estimatedsalary  exited  \n",
       "0          1               1        101348.88       1  \n",
       "1          0               1        112542.58       0  \n",
       "2          1               0        113931.57       1  \n",
       "3          0               0         93826.63       0  \n",
       "4          1               1         79084.10       0  "
      ]
     },
     "execution_count": 29,
     "metadata": {},
     "output_type": "execute_result"
    }
   ],
   "source": [
    "df.head()"
   ]
  },
  {
   "cell_type": "code",
   "execution_count": 30,
   "id": "c5421783",
   "metadata": {},
   "outputs": [
    {
     "data": {
      "text/html": [
       "<div>\n",
       "<style scoped>\n",
       "    .dataframe tbody tr th:only-of-type {\n",
       "        vertical-align: middle;\n",
       "    }\n",
       "\n",
       "    .dataframe tbody tr th {\n",
       "        vertical-align: top;\n",
       "    }\n",
       "\n",
       "    .dataframe thead th {\n",
       "        text-align: right;\n",
       "    }\n",
       "</style>\n",
       "<table border=\"1\" class=\"dataframe\">\n",
       "  <thead>\n",
       "    <tr style=\"text-align: right;\">\n",
       "      <th></th>\n",
       "      <th>creditscore</th>\n",
       "      <th>geography</th>\n",
       "      <th>gender</th>\n",
       "      <th>age</th>\n",
       "      <th>tenure</th>\n",
       "      <th>balance</th>\n",
       "      <th>numofproducts</th>\n",
       "      <th>hascrcard</th>\n",
       "      <th>isactivemember</th>\n",
       "      <th>estimatedsalary</th>\n",
       "      <th>exited</th>\n",
       "    </tr>\n",
       "  </thead>\n",
       "  <tbody>\n",
       "    <tr>\n",
       "      <th>0</th>\n",
       "      <td>619</td>\n",
       "      <td>0.0</td>\n",
       "      <td>0.0</td>\n",
       "      <td>42</td>\n",
       "      <td>2.0</td>\n",
       "      <td>0.00</td>\n",
       "      <td>1</td>\n",
       "      <td>1</td>\n",
       "      <td>1</td>\n",
       "      <td>101348.88</td>\n",
       "      <td>1</td>\n",
       "    </tr>\n",
       "    <tr>\n",
       "      <th>1</th>\n",
       "      <td>608</td>\n",
       "      <td>2.0</td>\n",
       "      <td>0.0</td>\n",
       "      <td>41</td>\n",
       "      <td>1.0</td>\n",
       "      <td>83807.86</td>\n",
       "      <td>1</td>\n",
       "      <td>0</td>\n",
       "      <td>1</td>\n",
       "      <td>112542.58</td>\n",
       "      <td>0</td>\n",
       "    </tr>\n",
       "    <tr>\n",
       "      <th>2</th>\n",
       "      <td>502</td>\n",
       "      <td>0.0</td>\n",
       "      <td>0.0</td>\n",
       "      <td>42</td>\n",
       "      <td>8.0</td>\n",
       "      <td>159660.80</td>\n",
       "      <td>3</td>\n",
       "      <td>1</td>\n",
       "      <td>0</td>\n",
       "      <td>113931.57</td>\n",
       "      <td>1</td>\n",
       "    </tr>\n",
       "    <tr>\n",
       "      <th>3</th>\n",
       "      <td>699</td>\n",
       "      <td>0.0</td>\n",
       "      <td>0.0</td>\n",
       "      <td>39</td>\n",
       "      <td>1.0</td>\n",
       "      <td>0.00</td>\n",
       "      <td>2</td>\n",
       "      <td>0</td>\n",
       "      <td>0</td>\n",
       "      <td>93826.63</td>\n",
       "      <td>0</td>\n",
       "    </tr>\n",
       "    <tr>\n",
       "      <th>4</th>\n",
       "      <td>850</td>\n",
       "      <td>2.0</td>\n",
       "      <td>0.0</td>\n",
       "      <td>43</td>\n",
       "      <td>2.0</td>\n",
       "      <td>125510.82</td>\n",
       "      <td>1</td>\n",
       "      <td>1</td>\n",
       "      <td>1</td>\n",
       "      <td>79084.10</td>\n",
       "      <td>0</td>\n",
       "    </tr>\n",
       "  </tbody>\n",
       "</table>\n",
       "</div>"
      ],
      "text/plain": [
       "   creditscore  geography  gender  age  tenure    balance  numofproducts  \\\n",
       "0          619        0.0     0.0   42     2.0       0.00              1   \n",
       "1          608        2.0     0.0   41     1.0   83807.86              1   \n",
       "2          502        0.0     0.0   42     8.0  159660.80              3   \n",
       "3          699        0.0     0.0   39     1.0       0.00              2   \n",
       "4          850        2.0     0.0   43     2.0  125510.82              1   \n",
       "\n",
       "   hascrcard  isactivemember  estimatedsalary  exited  \n",
       "0          1               1        101348.88       1  \n",
       "1          0               1        112542.58       0  \n",
       "2          1               0        113931.57       1  \n",
       "3          0               0         93826.63       0  \n",
       "4          1               1         79084.10       0  "
      ]
     },
     "execution_count": 30,
     "metadata": {},
     "output_type": "execute_result"
    }
   ],
   "source": [
    "encoder = OrdinalEncoder()\n",
    "data_ordinal = df\n",
    "data_ordinal[['geography','gender']] = encoder.fit_transform(data_ordinal[['geography','gender']])\n",
    "data_ordinal.head()"
   ]
  },
  {
   "cell_type": "markdown",
   "id": "929ce636",
   "metadata": {},
   "source": [
    "### Logistic regression"
   ]
  },
  {
   "cell_type": "code",
   "execution_count": 31,
   "id": "f2b18ad6",
   "metadata": {},
   "outputs": [
    {
     "name": "stdout",
     "output_type": "stream",
     "text": [
      "F1 of valid: 0.32941176470588235\n"
     ]
    },
    {
     "data": {
      "text/plain": [
       "LogisticRegression(random_state=12345, solver='liblinear')"
      ]
     },
     "execution_count": 31,
     "metadata": {},
     "output_type": "execute_result"
    }
   ],
   "source": [
    "model = LogisticRegression(solver='liblinear', random_state=rnd_state)\n",
    "train_and_predict(data_ohe, model)"
   ]
  },
  {
   "cell_type": "markdown",
   "id": "cf3ac473",
   "metadata": {},
   "source": [
    "Poor F1 performance with data imbalance"
   ]
  },
  {
   "cell_type": "markdown",
   "id": "bfad35df",
   "metadata": {},
   "source": [
    "### Decision Tree Classifier"
   ]
  },
  {
   "cell_type": "code",
   "execution_count": 32,
   "id": "d48feaab",
   "metadata": {},
   "outputs": [
    {
     "name": "stdout",
     "output_type": "stream",
     "text": [
      "max_depth 2:\tF1 of valid: 0.5095057034220531\n",
      "max_depth 4:\tF1 of valid: 0.494773519163763\n",
      "max_depth 6:\tF1 of valid: 0.5178571428571429\n",
      "max_depth 8:\tF1 of valid: 0.5317220543806646\n",
      "max_depth 10:\tF1 of valid: 0.5132223310479921\n",
      "max_depth 12:\tF1 of valid: 0.4790419161676647\n",
      "max_depth 14:\tF1 of valid: 0.49228269699431354\n",
      "max_depth 16:\tF1 of valid: 0.4873417721518988\n",
      "max_depth 18:\tF1 of valid: 0.4792993630573248\n",
      "max_depth 20:\tF1 of valid: 0.4854673998428908\n"
     ]
    }
   ],
   "source": [
    "for max_depth in range(2, 22, 2):\n",
    "    model = DecisionTreeClassifier(max_depth=max_depth, random_state=rnd_state)\n",
    "    train_and_predict(data_ordinal, model, log_prefix=f'max_depth {max_depth}:\\t')"
   ]
  },
  {
   "cell_type": "markdown",
   "id": "6ef24fd4",
   "metadata": {},
   "source": [
    "The best indicator at a depth of 8: max_depth 4: F1 of valid: 0.5317220543806646"
   ]
  },
  {
   "cell_type": "markdown",
   "id": "5487f3f0",
   "metadata": {},
   "source": [
    "### Random Forest Classifier"
   ]
  },
  {
   "cell_type": "code",
   "execution_count": 33,
   "id": "7a1e24a1",
   "metadata": {},
   "outputs": [
    {
     "name": "stdout",
     "output_type": "stream",
     "text": [
      "n_estimators = 10:\tF1 of valid: 0.5017341040462427\n",
      "n_estimators = 20:\tF1 of valid: 0.4520048602673147\n",
      "n_estimators = 30:\tF1 of valid: 0.45232273838630804\n",
      "n_estimators = 40:\tF1 of valid: 0.4611650485436894\n",
      "n_estimators = 50:\tF1 of valid: 0.4452644526445264\n",
      "n_estimators = 60:\tF1 of valid: 0.44499381953028433\n",
      "n_estimators = 70:\tF1 of valid: 0.44389642416769426\n",
      "n_estimators = 80:\tF1 of valid: 0.45797807551766134\n",
      "n_estimators = 90:\tF1 of valid: 0.44963144963144963\n",
      "n_estimators = 100:\tF1 of valid: 0.44389642416769426\n",
      "n_estimators = 110:\tF1 of valid: 0.4367245657568239\n",
      "n_estimators = 120:\tF1 of valid: 0.44554455445544555\n",
      "n_estimators = 130:\tF1 of valid: 0.42999999999999994\n",
      "n_estimators = 140:\tF1 of valid: 0.44139650872817954\n",
      "n_estimators = 150:\tF1 of valid: 0.44801980198019803\n",
      "n_estimators = 160:\tF1 of valid: 0.45297029702970304\n",
      "n_estimators = 170:\tF1 of valid: 0.4507389162561577\n",
      "n_estimators = 180:\tF1 of valid: 0.44857496902106564\n",
      "n_estimators = 190:\tF1 of valid: 0.45185185185185184\n",
      "n_estimators = 200:\tF1 of valid: 0.44665012406947896\n"
     ]
    }
   ],
   "source": [
    "for estim in range(10, 201, 10):\n",
    "    model = RandomForestClassifier(n_estimators=estim, max_depth=4, random_state=rnd_state)\n",
    "    train_and_predict(data_ordinal, model, log_prefix=f'n_estimators = {estim}:\\t')"
   ]
  },
  {
   "cell_type": "markdown",
   "id": "42a05fc1",
   "metadata": {},
   "source": [
    "Best result with 10 trees: n_estimators = 10: F1 of valid: 0.5017341040462427"
   ]
  },
  {
   "cell_type": "markdown",
   "id": "43d7c28b",
   "metadata": {},
   "source": [
    "## Improving the quality of the model, taking into account the imbalance of classes"
   ]
  },
  {
   "cell_type": "markdown",
   "id": "11c00013",
   "metadata": {},
   "source": [
    "Let's give objects of rare class 1 more weight using the hyperparameter class_weight='balanced'"
   ]
  },
  {
   "cell_type": "markdown",
   "id": "0f79b0ba",
   "metadata": {},
   "source": [
    "### Weighing classes"
   ]
  },
  {
   "cell_type": "markdown",
   "id": "ef56801f",
   "metadata": {},
   "source": [
    "#### Logistic regression"
   ]
  },
  {
   "cell_type": "code",
   "execution_count": 34,
   "id": "1c6aec2e",
   "metadata": {},
   "outputs": [
    {
     "name": "stdout",
     "output_type": "stream",
     "text": [
      "F1 of valid: 0.48023255813953497\n"
     ]
    },
    {
     "data": {
      "text/plain": [
       "LogisticRegression(class_weight='balanced', random_state=12345,\n",
       "                   solver='liblinear')"
      ]
     },
     "execution_count": 34,
     "metadata": {},
     "output_type": "execute_result"
    }
   ],
   "source": [
    "model = LogisticRegression(class_weight='balanced', solver='liblinear', random_state=rnd_state)\n",
    "train_and_predict(data_ohe, model)"
   ]
  },
  {
   "cell_type": "markdown",
   "id": "b2657d00",
   "metadata": {},
   "source": [
    "The result is slightly better than with unbalanced data"
   ]
  },
  {
   "cell_type": "markdown",
   "id": "c609bdd3",
   "metadata": {},
   "source": [
    "#### Decision Tree Classifier"
   ]
  },
  {
   "cell_type": "code",
   "execution_count": 35,
   "id": "b00bd014",
   "metadata": {},
   "outputs": [
    {
     "name": "stdout",
     "output_type": "stream",
     "text": [
      "max_depth 2:\tF1 of valid: 0.48306010928961746\n",
      "max_depth 4:\tF1 of valid: 0.532133676092545\n",
      "max_depth 6:\tF1 of valid: 0.5494505494505495\n",
      "max_depth 8:\tF1 of valid: 0.5035885167464115\n",
      "max_depth 10:\tF1 of valid: 0.48835745752045306\n",
      "max_depth 12:\tF1 of valid: 0.493361285814116\n",
      "max_depth 14:\tF1 of valid: 0.48976497346474607\n",
      "max_depth 16:\tF1 of valid: 0.47123719464145\n",
      "max_depth 18:\tF1 of valid: 0.4789180588703262\n",
      "max_depth 20:\tF1 of valid: 0.4654895666131621\n"
     ]
    }
   ],
   "source": [
    "for max_depth in range(2, 22, 2):\n",
    "    model = DecisionTreeClassifier(class_weight='balanced', max_depth=max_depth, random_state=rnd_state)\n",
    "    train_and_predict(data_ordinal, model, log_prefix=f'max_depth {max_depth}:\\t')"
   ]
  },
  {
   "cell_type": "markdown",
   "id": "1317e242",
   "metadata": {},
   "source": [
    "Best result with a depth of 6: max_depth 6: F1 of valid: 0.5494505494505495"
   ]
  },
  {
   "cell_type": "markdown",
   "id": "9b231781",
   "metadata": {},
   "source": [
    "#### Random Forest Classifier"
   ]
  },
  {
   "cell_type": "code",
   "execution_count": 36,
   "id": "224d473e",
   "metadata": {},
   "outputs": [
    {
     "name": "stdout",
     "output_type": "stream",
     "text": [
      "n_estimators = 10:\tF1 of valid: 0.5808339429407461\n",
      "n_estimators = 20:\tF1 of valid: 0.590782122905028\n",
      "n_estimators = 30:\tF1 of valid: 0.5936842105263158\n",
      "n_estimators = 40:\tF1 of valid: 0.6023926812104152\n",
      "n_estimators = 50:\tF1 of valid: 0.5956552207428171\n",
      "n_estimators = 60:\tF1 of valid: 0.5977496483825597\n",
      "n_estimators = 70:\tF1 of valid: 0.5960729312762973\n",
      "n_estimators = 80:\tF1 of valid: 0.5955369595536959\n",
      "n_estimators = 90:\tF1 of valid: 0.5959805959805959\n",
      "n_estimators = 100:\tF1 of valid: 0.5944827586206897\n",
      "n_estimators = 110:\tF1 of valid: 0.5947441217150761\n",
      "n_estimators = 120:\tF1 of valid: 0.5925414364640884\n",
      "n_estimators = 130:\tF1 of valid: 0.5927977839335179\n",
      "n_estimators = 140:\tF1 of valid: 0.5956854558107167\n",
      "n_estimators = 150:\tF1 of valid: 0.5955369595536959\n",
      "n_estimators = 160:\tF1 of valid: 0.5933147632311977\n",
      "n_estimators = 170:\tF1 of valid: 0.5941422594142259\n",
      "n_estimators = 180:\tF1 of valid: 0.5952380952380952\n",
      "n_estimators = 190:\tF1 of valid: 0.592280701754386\n",
      "n_estimators = 200:\tF1 of valid: 0.5953553835327234\n"
     ]
    }
   ],
   "source": [
    "for estim in range(10, 201, 10):\n",
    "    model = RandomForestClassifier(class_weight='balanced', n_estimators=estim, max_depth=6, random_state=rnd_state)\n",
    "    train_and_predict(data_ordinal, model, log_prefix=f'n_estimators = {estim}:\\t')"
   ]
  },
  {
   "cell_type": "markdown",
   "id": "5b79aab7",
   "metadata": {},
   "source": [
    "Лучший результат с количеством деревьев 170: n_estimators = 170: Допустимое значение F1: 0,5962473940236276"
   ]
  },
  {
   "cell_type": "markdown",
   "id": "392002df",
   "metadata": {},
   "source": [
    "### Increasing the sample"
   ]
  },
  {
   "cell_type": "markdown",
   "id": "945004fc",
   "metadata": {},
   "source": [
    "Let's increase the objects of a rare class and retrain the models."
   ]
  },
  {
   "cell_type": "code",
   "execution_count": 37,
   "id": "df9920fa",
   "metadata": {},
   "outputs": [],
   "source": [
    "def upsample(features, target, repeat=4):\n",
    "    features_zeros = features[target == 0]\n",
    "    features_ones = features[target == 1]\n",
    "    target_zeros = target[target == 0]\n",
    "    target_ones = target[target == 1]\n",
    "\n",
    "    features_upsampled = pd.concat([features_zeros] + [features_ones] * repeat)\n",
    "    target_upsampled = pd.concat([target_zeros] + [target_ones] * repeat)\n",
    "    \n",
    "    features_upsampled, target_upsampled = shuffle(\n",
    "        features_upsampled, target_upsampled, random_state=rnd_state)\n",
    "    \n",
    "    return features_upsampled, target_upsampled"
   ]
  },
  {
   "cell_type": "markdown",
   "id": "fd9d0798",
   "metadata": {},
   "source": [
    "#### Logistic regression"
   ]
  },
  {
   "cell_type": "code",
   "execution_count": 38,
   "id": "224ffac1",
   "metadata": {},
   "outputs": [
    {
     "name": "stdout",
     "output_type": "stream",
     "text": [
      "F1 of valid: 0.4772599663110612\n"
     ]
    },
    {
     "data": {
      "text/plain": [
       "LogisticRegression(random_state=12345, solver='liblinear')"
      ]
     },
     "execution_count": 38,
     "metadata": {},
     "output_type": "execute_result"
    }
   ],
   "source": [
    "model = LogisticRegression(solver='liblinear', random_state=rnd_state)\n",
    "train_and_predict(data_ohe, model, samplefunc=upsample)"
   ]
  },
  {
   "cell_type": "markdown",
   "id": "405c2707",
   "metadata": {},
   "source": [
    "#### Decision Tree Classifier"
   ]
  },
  {
   "cell_type": "code",
   "execution_count": 39,
   "id": "99cbadd3",
   "metadata": {},
   "outputs": [
    {
     "name": "stdout",
     "output_type": "stream",
     "text": [
      "max_depth 2:\tF1 of valid: 0.48306010928961746\n",
      "max_depth 4:\tF1 of valid: 0.48651399491094155\n",
      "max_depth 6:\tF1 of valid: 0.5473145780051151\n",
      "max_depth 8:\tF1 of valid: 0.5002985074626867\n",
      "max_depth 10:\tF1 of valid: 0.48557089084065247\n",
      "max_depth 12:\tF1 of valid: 0.4986449864498645\n",
      "max_depth 14:\tF1 of valid: 0.4766146993318486\n",
      "max_depth 16:\tF1 of valid: 0.4798136645962732\n",
      "max_depth 18:\tF1 of valid: 0.49005568814638023\n",
      "max_depth 20:\tF1 of valid: 0.4768856447688565\n"
     ]
    }
   ],
   "source": [
    "for max_depth in range(2, 22, 2):\n",
    "    model = DecisionTreeClassifier(max_depth=max_depth, random_state=rnd_state)\n",
    "    train_and_predict(data_ordinal, model, samplefunc=upsample, log_prefix=f'max_depth {max_depth}:\\t')"
   ]
  },
  {
   "cell_type": "markdown",
   "id": "b6059bbb",
   "metadata": {},
   "source": [
    "Best result with depth 6: max_depth 6: F1 of valid: 0.5473145780051151"
   ]
  },
  {
   "cell_type": "markdown",
   "id": "7664173e",
   "metadata": {},
   "source": [
    "#### Random Forest Classifier"
   ]
  },
  {
   "cell_type": "code",
   "execution_count": 40,
   "id": "55d8c0a3",
   "metadata": {},
   "outputs": [
    {
     "name": "stdout",
     "output_type": "stream",
     "text": [
      "n_estimators = 10:\tF1 of valid: 0.54351909830933\n",
      "n_estimators = 20:\tF1 of valid: 0.5656050955414013\n",
      "n_estimators = 30:\tF1 of valid: 0.5652173913043478\n",
      "n_estimators = 40:\tF1 of valid: 0.5682989690721649\n",
      "n_estimators = 50:\tF1 of valid: 0.5692208628461043\n",
      "n_estimators = 60:\tF1 of valid: 0.5681233933161953\n",
      "n_estimators = 70:\tF1 of valid: 0.5694267515923567\n",
      "n_estimators = 80:\tF1 of valid: 0.5681674064679773\n",
      "n_estimators = 90:\tF1 of valid: 0.5745222929936306\n",
      "n_estimators = 100:\tF1 of valid: 0.5736040609137056\n",
      "n_estimators = 110:\tF1 of valid: 0.5743329097839899\n",
      "n_estimators = 120:\tF1 of valid: 0.5721551176096631\n",
      "n_estimators = 130:\tF1 of valid: 0.5730622617534942\n",
      "n_estimators = 140:\tF1 of valid: 0.5734355044699873\n",
      "n_estimators = 150:\tF1 of valid: 0.5738019169329074\n",
      "n_estimators = 160:\tF1 of valid: 0.5738019169329074\n",
      "n_estimators = 170:\tF1 of valid: 0.5749039692701665\n",
      "n_estimators = 180:\tF1 of valid: 0.5732565579014716\n",
      "n_estimators = 190:\tF1 of valid: 0.5743589743589744\n",
      "n_estimators = 200:\tF1 of valid: 0.5732565579014716\n"
     ]
    }
   ],
   "source": [
    "for estim in range(10, 201, 10):\n",
    "    model = RandomForestClassifier(n_estimators=estim, max_depth=6, random_state=rnd_state)\n",
    "    train_and_predict(data_ordinal, model, samplefunc=upsample, log_prefix=f'n_estimators = {estim}:\\t')"
   ]
  },
  {
   "cell_type": "markdown",
   "id": "b85770a1",
   "metadata": {},
   "source": [
    "The best result with the number of trees is 90: n_estimators = 90: F1 of valid: 0.5745222929936306\n",
    "\n",
    "The value of the F1-measure for each of the considered models is less than in the case of class balancing\n",
    "\n",
    "Let's try sample reduction"
   ]
  },
  {
   "cell_type": "markdown",
   "id": "b1b4f75b",
   "metadata": {},
   "source": [
    "### Sample reduction"
   ]
  },
  {
   "cell_type": "code",
   "execution_count": 41,
   "id": "abd7fbb0",
   "metadata": {},
   "outputs": [],
   "source": [
    "def downsample(features, target, fraction = 0.2):\n",
    "    features_zeros = features[target == 0]\n",
    "    features_ones = features[target == 1]\n",
    "    target_zeros = target[target == 0]\n",
    "    target_ones = target[target == 1]\n",
    "\n",
    "    features_downsampled = pd.concat(\n",
    "        [features_zeros.sample(frac=fraction, random_state=rnd_state)] + [features_ones]\n",
    "    )\n",
    "    target_downsampled = pd.concat(\n",
    "        [target_zeros.sample(frac=fraction, random_state=rnd_state)] + [target_ones]\n",
    "    )\n",
    "    \n",
    "    return features_downsampled, target_downsampled"
   ]
  },
  {
   "cell_type": "markdown",
   "id": "4b5470d7",
   "metadata": {},
   "source": [
    "#### Logistic regression"
   ]
  },
  {
   "cell_type": "code",
   "execution_count": 42,
   "id": "a7aa3316",
   "metadata": {},
   "outputs": [
    {
     "name": "stdout",
     "output_type": "stream",
     "text": [
      "F1 of valid: 0.46421471172962225\n"
     ]
    },
    {
     "data": {
      "text/plain": [
       "LogisticRegression(random_state=12345, solver='liblinear')"
      ]
     },
     "execution_count": 42,
     "metadata": {},
     "output_type": "execute_result"
    }
   ],
   "source": [
    "model = LogisticRegression(solver='liblinear', random_state=rnd_state)\n",
    "train_and_predict(data_ohe, model, samplefunc=downsample)"
   ]
  },
  {
   "cell_type": "markdown",
   "id": "96a4d88b",
   "metadata": {},
   "source": [
    "#### DecisionTreeClassifier"
   ]
  },
  {
   "cell_type": "code",
   "execution_count": 43,
   "id": "fd538af2",
   "metadata": {},
   "outputs": [
    {
     "name": "stdout",
     "output_type": "stream",
     "text": [
      "max_depth 2:\tF1 of valid: 0.5234270414993307\n",
      "max_depth 4:\tF1 of valid: 0.4926160337552743\n",
      "max_depth 6:\tF1 of valid: 0.5134670487106018\n",
      "max_depth 8:\tF1 of valid: 0.48527048741296197\n",
      "max_depth 10:\tF1 of valid: 0.45963401506996776\n",
      "max_depth 12:\tF1 of valid: 0.46336206896551724\n",
      "max_depth 14:\tF1 of valid: 0.46203904555314534\n",
      "max_depth 16:\tF1 of valid: 0.4548892490545651\n",
      "max_depth 18:\tF1 of valid: 0.4548892490545651\n",
      "max_depth 20:\tF1 of valid: 0.4548892490545651\n"
     ]
    }
   ],
   "source": [
    "for max_depth in range(2, 22, 2):\n",
    "    model = DecisionTreeClassifier(max_depth=max_depth, random_state=rnd_state)\n",
    "    train_and_predict(data_ordinal, model, samplefunc=downsample, log_prefix=f'max_depth {max_depth}:\\t')"
   ]
  },
  {
   "cell_type": "markdown",
   "id": "11c2a41d",
   "metadata": {},
   "source": [
    "Best result at depth 2: max_depth 2: F1 of valid: 0.5234270414993307"
   ]
  },
  {
   "cell_type": "markdown",
   "id": "a6d8b983",
   "metadata": {},
   "source": [
    "#### RandomForestClassifier"
   ]
  },
  {
   "cell_type": "code",
   "execution_count": 44,
   "id": "59d24bfb",
   "metadata": {},
   "outputs": [
    {
     "name": "stdout",
     "output_type": "stream",
     "text": [
      "n_estimators = 10:\tF1 of valid: 0.4738292011019284\n",
      "n_estimators = 20:\tF1 of valid: 0.4797421731123388\n",
      "n_estimators = 30:\tF1 of valid: 0.4724199288256227\n",
      "n_estimators = 40:\tF1 of valid: 0.4704821991888238\n",
      "n_estimators = 50:\tF1 of valid: 0.46488888888888885\n",
      "n_estimators = 60:\tF1 of valid: 0.456369982547993\n",
      "n_estimators = 70:\tF1 of valid: 0.4609306409130816\n",
      "n_estimators = 80:\tF1 of valid: 0.46457399103139013\n",
      "n_estimators = 90:\tF1 of valid: 0.46275197195442597\n",
      "n_estimators = 100:\tF1 of valid: 0.4556521739130435\n",
      "n_estimators = 110:\tF1 of valid: 0.45529157667386605\n",
      "n_estimators = 120:\tF1 of valid: 0.46167323696890056\n",
      "n_estimators = 130:\tF1 of valid: 0.457117979973879\n",
      "n_estimators = 140:\tF1 of valid: 0.4556852572416775\n",
      "n_estimators = 150:\tF1 of valid: 0.4619445666520018\n",
      "n_estimators = 160:\tF1 of valid: 0.46490835940992403\n",
      "n_estimators = 170:\tF1 of valid: 0.46256092157731504\n",
      "n_estimators = 180:\tF1 of valid: 0.4601769911504425\n",
      "n_estimators = 190:\tF1 of valid: 0.4663960306720793\n",
      "n_estimators = 200:\tF1 of valid: 0.47053449063499314\n"
     ]
    }
   ],
   "source": [
    "for estim in range(10, 201, 10):\n",
    "    model = RandomForestClassifier(n_estimators=estim, max_depth=2, random_state=rnd_state)\n",
    "    train_and_predict(data_ordinal, model, samplefunc=downsample, log_prefix=f'n_estimators = {estim}:\\t')"
   ]
  },
  {
   "cell_type": "markdown",
   "id": "4d96e825",
   "metadata": {},
   "source": [
    "Best result with 20 trees: n_estimators = 60: F1 of valid: 0.4797421731123388\n",
    "\n",
    "The value of the F1-measure for each of the considered models is less than in the case of class balancing. In the case of the Decision Tree Classifier, the difference is small."
   ]
  },
  {
   "cell_type": "markdown",
   "id": "8127f6cd",
   "metadata": {},
   "source": [
    "### Conclusion based on the results of the study"
   ]
  },
  {
   "cell_type": "markdown",
   "id": "9ae3b969",
   "metadata": {},
   "source": [
    "There was a significant imbalance in the initial data (80% of the responses of the target trait were negative and only 20% positive). All models of non-initial data were characterized by low quality of the weighted value (F1).\n",
    "\n",
    "We eliminated the imbalance of classes in the training sample by upsampling — increased the number of positive class values by 4 times. This is how we achieved the balance of classes in the training sample.\n",
    "\n",
    "On the new data, all models showed a higher result than on the unbalanced sample.\n",
    "\n",
    "It was decided to continue improving the model based on the Random Forest Classifier algorithm\n",
    "\n",
    "The model was improved by a cycle of selecting hyperparameters that showed the highest value of the F1 measure and did not lead the model to retraining.\n",
    "\n",
    "The final parameters of the selected model are RandomForestClassifier(n_estimators = 170, random_state=12345).\n",
    "Model results:\n",
    "F1-measure 0.5962473940236276"
   ]
  },
  {
   "cell_type": "markdown",
   "id": "7951bcaa",
   "metadata": {},
   "source": [
    "## Testing the model"
   ]
  },
  {
   "cell_type": "markdown",
   "id": "16582689",
   "metadata": {},
   "source": [
    "The best result was shown by the Random Forest Classifier model with a depth of 6 and a number of trees of 170"
   ]
  },
  {
   "cell_type": "code",
   "execution_count": 45,
   "id": "ddb431aa",
   "metadata": {},
   "outputs": [
    {
     "name": "stdout",
     "output_type": "stream",
     "text": [
      "valid: 0.5941422594142259\n",
      "test: 0.5965156794425087\n"
     ]
    }
   ],
   "source": [
    "target, features = make_target_features(data_ordinal)\n",
    "features_train, features_valid, features_test, target_train, target_valid, target_test = split_data(features, target)\n",
    "\n",
    "model = RandomForestClassifier(class_weight='balanced', n_estimators=170, max_depth=6, random_state=rnd_state)\n",
    "model.fit(features_train, target_train)\n",
    "\n",
    "predicted_valid = model.predict(features_valid)\n",
    "print('valid:', f1_score(target_valid, predicted_valid))\n",
    "\n",
    "predicted_test = model.predict(features_test)\n",
    "print('test:', f1_score(target_test, predicted_test))"
   ]
  },
  {
   "cell_type": "markdown",
   "id": "6c799f5a",
   "metadata": {},
   "source": [
    "Let's calculate the AUC-ROC for our model and see how much better it is than the random model"
   ]
  },
  {
   "cell_type": "code",
   "execution_count": 46,
   "id": "fa316a37",
   "metadata": {
    "scrolled": true
   },
   "outputs": [
    {
     "data": {
      "text/plain": [
       "0.8525085465614406"
      ]
     },
     "execution_count": 46,
     "metadata": {},
     "output_type": "execute_result"
    }
   ],
   "source": [
    "probabilities_valid = model.predict_proba(features_valid)\n",
    "probabilities_one_valid = probabilities_valid[:, 1]\n",
    "\n",
    "roc_auc_score(target_valid, probabilities_one_valid)"
   ]
  },
  {
   "cell_type": "code",
   "execution_count": 47,
   "id": "7235d774",
   "metadata": {},
   "outputs": [
    {
     "data": {
      "text/plain": [
       "0.8529759023951655"
      ]
     },
     "execution_count": 47,
     "metadata": {},
     "output_type": "execute_result"
    }
   ],
   "source": [
    "probabilities_test = model.predict_proba(features_test)\n",
    "probabilities_one_test = probabilities_test[:, 1]\n",
    "\n",
    "roc_auc_score(target_test, probabilities_one_test)"
   ]
  },
  {
   "cell_type": "code",
   "execution_count": 48,
   "id": "b7fc95bf",
   "metadata": {
    "scrolled": true
   },
   "outputs": [
    {
     "data": {
      "image/png": "[encoded data removed]",
      "text/plain": [
       "<Figure size 640x480 with 1 Axes>"
      ]
     },
     "metadata": {},
     "output_type": "display_data"
    }
   ],
   "source": [
    "final_model_probabilities_one = model.predict_proba(features_test)[:, 1]\n",
    "\n",
    "fpr, tpr, thresholds = roc_curve(target_test, final_model_probabilities_one) \n",
    "\n",
    "plt.figure()\n",
    "plt.plot(fpr, tpr)\n",
    "plt.plot([0, 1], [0, 1], linestyle='--')\n",
    "plt.xlim([0.0, 1.0])\n",
    "plt.ylim([0.0, 1.0])\n",
    "plt.xlabel('False Positive Rate')\n",
    "plt.ylabel('True Positive Rate')\n",
    "plt.title('ROC-curve')\n",
    "plt.show()"
   ]
  },
  {
   "cell_type": "markdown",
   "id": "80e71746",
   "metadata": {},
   "source": [
    "The final model has reached the specified metric (F1 > 0.59) and shows adequate results, so it is highly likely to predict the client's exit from the bank."
   ]
  },
  {
   "cell_type": "markdown",
   "id": "c3348f2d",
   "metadata": {},
   "source": [
    "## General conclusion"
   ]
  },
  {
   "cell_type": "markdown",
   "id": "0e6106a1",
   "metadata": {},
   "source": [
    "Considering the data with the adjustment of the imbalance, as well as with the transfromation of categorical data and the standardization of data by three models, we can conclude that the best model turned out to be a Random Forest. With the best value max_depth=6,n_estimators=170, we have F1 measure =0.596 on a test (valid) sample. The Logistic regression model proved to be the worst"
   ]
  }
 ],
 "metadata": {
  "ExecuteTimeLog": [
   {
    "duration": 1153,
    "start_time": "2022-03-08T18:41:47.915Z"
   },
   {
    "duration": 23,
    "start_time": "2022-03-08T18:41:49.070Z"
   },
   {
    "duration": 15,
    "start_time": "2022-03-08T18:41:49.096Z"
   },
   {
    "duration": 3,
    "start_time": "2022-03-08T18:41:49.113Z"
   },
   {
    "duration": 9,
    "start_time": "2022-03-08T18:41:49.118Z"
   },
   {
    "duration": 8,
    "start_time": "2022-03-08T18:41:49.129Z"
   },
   {
    "duration": 5,
    "start_time": "2022-03-08T18:41:49.139Z"
   },
   {
    "duration": 128,
    "start_time": "2022-03-08T18:41:49.164Z"
   },
   {
    "duration": 173,
    "start_time": "2022-03-08T18:41:49.294Z"
   },
   {
    "duration": 614,
    "start_time": "2022-03-08T18:41:49.468Z"
   },
   {
    "duration": 5,
    "start_time": "2022-03-08T18:41:50.083Z"
   },
   {
    "duration": 10,
    "start_time": "2022-03-08T18:41:50.089Z"
   },
   {
    "duration": 10,
    "start_time": "2022-03-08T18:41:50.100Z"
   },
   {
    "duration": 9,
    "start_time": "2022-03-08T18:41:50.111Z"
   },
   {
    "duration": 92,
    "start_time": "2022-03-08T18:41:50.121Z"
   },
   {
    "duration": 9,
    "start_time": "2022-03-08T18:41:50.215Z"
   },
   {
    "duration": 24,
    "start_time": "2022-03-08T18:41:50.226Z"
   },
   {
    "duration": 113,
    "start_time": "2022-03-08T18:41:50.252Z"
   },
   {
    "duration": 385,
    "start_time": "2022-03-08T18:41:50.367Z"
   },
   {
    "duration": 5632,
    "start_time": "2022-03-08T18:41:50.754Z"
   },
   {
    "duration": 85,
    "start_time": "2022-03-08T18:41:56.388Z"
   },
   {
    "duration": 351,
    "start_time": "2022-03-08T18:41:56.564Z"
   },
   {
    "duration": 6932,
    "start_time": "2022-03-08T18:41:56.918Z"
   },
   {
    "duration": 3,
    "start_time": "2022-03-08T18:42:03.852Z"
   },
   {
    "duration": 111,
    "start_time": "2022-03-08T18:42:03.857Z"
   },
   {
    "duration": 544,
    "start_time": "2022-03-08T18:42:03.970Z"
   },
   {
    "duration": 17821,
    "start_time": "2022-03-08T18:42:04.516Z"
   },
   {
    "duration": 4,
    "start_time": "2022-03-08T18:42:22.338Z"
   },
   {
    "duration": 121,
    "start_time": "2022-03-08T18:42:22.344Z"
   },
   {
    "duration": 332,
    "start_time": "2022-03-08T18:42:22.467Z"
   },
   {
    "duration": 3991,
    "start_time": "2022-03-08T18:42:22.801Z"
   },
   {
    "duration": 174,
    "start_time": "2022-03-08T18:42:26.794Z"
   },
   {
    "duration": 19,
    "start_time": "2022-03-08T18:42:26.969Z"
   },
   {
    "duration": 13,
    "start_time": "2022-03-08T18:42:29.109Z"
   },
   {
    "duration": 5,
    "start_time": "2022-03-08T18:42:48.334Z"
   },
   {
    "duration": 33,
    "start_time": "2022-03-08T18:42:48.341Z"
   },
   {
    "duration": 11,
    "start_time": "2022-03-08T18:42:48.376Z"
   },
   {
    "duration": 4,
    "start_time": "2022-03-08T18:42:48.389Z"
   },
   {
    "duration": 11,
    "start_time": "2022-03-08T18:42:48.395Z"
   },
   {
    "duration": 3,
    "start_time": "2022-03-08T18:42:48.408Z"
   },
   {
    "duration": 6,
    "start_time": "2022-03-08T18:42:48.413Z"
   },
   {
    "duration": 145,
    "start_time": "2022-03-08T18:42:48.422Z"
   },
   {
    "duration": 164,
    "start_time": "2022-03-08T18:42:48.569Z"
   },
   {
    "duration": 631,
    "start_time": "2022-03-08T18:42:48.735Z"
   },
   {
    "duration": 4,
    "start_time": "2022-03-08T18:42:49.368Z"
   },
   {
    "duration": 7,
    "start_time": "2022-03-08T18:42:49.374Z"
   },
   {
    "duration": 7,
    "start_time": "2022-03-08T18:42:49.383Z"
   },
   {
    "duration": 5,
    "start_time": "2022-03-08T18:42:49.391Z"
   },
   {
    "duration": 22,
    "start_time": "2022-03-08T18:42:49.398Z"
   },
   {
    "duration": 25,
    "start_time": "2022-03-08T18:42:49.422Z"
   },
   {
    "duration": 297,
    "start_time": "2022-03-08T18:42:49.449Z"
   },
   {
    "duration": 2182,
    "start_time": "2022-03-08T18:42:47.567Z"
   },
   {
    "duration": 2181,
    "start_time": "2022-03-08T18:42:47.570Z"
   },
   {
    "duration": 2179,
    "start_time": "2022-03-08T18:42:47.573Z"
   },
   {
    "duration": 2146,
    "start_time": "2022-03-08T18:42:47.607Z"
   },
   {
    "duration": 2146,
    "start_time": "2022-03-08T18:42:47.609Z"
   },
   {
    "duration": 2144,
    "start_time": "2022-03-08T18:42:47.612Z"
   },
   {
    "duration": 2142,
    "start_time": "2022-03-08T18:42:47.615Z"
   },
   {
    "duration": 2140,
    "start_time": "2022-03-08T18:42:47.619Z"
   },
   {
    "duration": 2137,
    "start_time": "2022-03-08T18:42:47.623Z"
   },
   {
    "duration": 2130,
    "start_time": "2022-03-08T18:42:47.632Z"
   },
   {
    "duration": 2128,
    "start_time": "2022-03-08T18:42:47.635Z"
   },
   {
    "duration": 2126,
    "start_time": "2022-03-08T18:42:47.638Z"
   },
   {
    "duration": 2125,
    "start_time": "2022-03-08T18:42:47.641Z"
   },
   {
    "duration": 2123,
    "start_time": "2022-03-08T18:42:47.644Z"
   },
   {
    "duration": 2122,
    "start_time": "2022-03-08T18:42:47.647Z"
   },
   {
    "duration": 2120,
    "start_time": "2022-03-08T18:42:47.650Z"
   },
   {
    "duration": 2117,
    "start_time": "2022-03-08T18:42:47.654Z"
   },
   {
    "duration": 2115,
    "start_time": "2022-03-08T18:42:47.658Z"
   },
   {
    "duration": 5,
    "start_time": "2022-03-08T18:46:45.907Z"
   },
   {
    "duration": 32,
    "start_time": "2022-03-08T18:46:45.914Z"
   },
   {
    "duration": 11,
    "start_time": "2022-03-08T18:46:45.948Z"
   },
   {
    "duration": 3,
    "start_time": "2022-03-08T18:46:45.961Z"
   },
   {
    "duration": 9,
    "start_time": "2022-03-08T18:46:45.966Z"
   },
   {
    "duration": 3,
    "start_time": "2022-03-08T18:46:45.976Z"
   },
   {
    "duration": 4,
    "start_time": "2022-03-08T18:46:45.980Z"
   },
   {
    "duration": 131,
    "start_time": "2022-03-08T18:46:45.985Z"
   },
   {
    "duration": 173,
    "start_time": "2022-03-08T18:46:46.120Z"
   },
   {
    "duration": 718,
    "start_time": "2022-03-08T18:46:46.296Z"
   },
   {
    "duration": 5,
    "start_time": "2022-03-08T18:46:47.016Z"
   },
   {
    "duration": 15,
    "start_time": "2022-03-08T18:46:47.023Z"
   },
   {
    "duration": 11,
    "start_time": "2022-03-08T18:46:47.040Z"
   },
   {
    "duration": 11,
    "start_time": "2022-03-08T18:46:47.052Z"
   },
   {
    "duration": 16,
    "start_time": "2022-03-08T18:46:47.064Z"
   },
   {
    "duration": 6,
    "start_time": "2022-03-08T18:46:47.082Z"
   },
   {
    "duration": 11,
    "start_time": "2022-03-08T18:46:47.090Z"
   },
   {
    "duration": 116,
    "start_time": "2022-03-08T18:46:47.103Z"
   },
   {
    "duration": 11,
    "start_time": "2022-03-08T18:46:47.220Z"
   },
   {
    "duration": 131,
    "start_time": "2022-03-08T18:46:47.233Z"
   },
   {
    "duration": 374,
    "start_time": "2022-03-08T18:46:47.367Z"
   },
   {
    "duration": 5620,
    "start_time": "2022-03-08T18:46:47.743Z"
   },
   {
    "duration": 44,
    "start_time": "2022-03-08T18:46:53.364Z"
   },
   {
    "duration": 430,
    "start_time": "2022-03-08T18:46:53.410Z"
   },
   {
    "duration": 6986,
    "start_time": "2022-03-08T18:46:53.842Z"
   },
   {
    "duration": 4,
    "start_time": "2022-03-08T18:47:00.830Z"
   },
   {
    "duration": 132,
    "start_time": "2022-03-08T18:47:00.837Z"
   },
   {
    "duration": 577,
    "start_time": "2022-03-08T18:47:00.972Z"
   },
   {
    "duration": 17712,
    "start_time": "2022-03-08T18:47:01.551Z"
   },
   {
    "duration": 4,
    "start_time": "2022-03-08T18:47:19.265Z"
   },
   {
    "duration": 99,
    "start_time": "2022-03-08T18:47:19.271Z"
   },
   {
    "duration": 332,
    "start_time": "2022-03-08T18:47:19.372Z"
   },
   {
    "duration": 3976,
    "start_time": "2022-03-08T18:47:19.705Z"
   },
   {
    "duration": 171,
    "start_time": "2022-03-08T18:47:23.683Z"
   },
   {
    "duration": 21,
    "start_time": "2022-03-08T18:47:23.856Z"
   },
   {
    "duration": 314,
    "start_time": "2022-03-08T18:53:30.699Z"
   },
   {
    "duration": 248,
    "start_time": "2022-03-08T18:54:00.835Z"
   },
   {
    "duration": 272,
    "start_time": "2022-03-08T18:55:07.000Z"
   },
   {
    "duration": 258,
    "start_time": "2022-03-08T18:57:44.136Z"
   },
   {
    "duration": 280,
    "start_time": "2022-03-08T18:58:03.849Z"
   },
   {
    "duration": 25,
    "start_time": "2022-03-08T19:04:21.280Z"
   },
   {
    "duration": 11,
    "start_time": "2022-03-08T19:19:42.820Z"
   },
   {
    "duration": 9,
    "start_time": "2022-03-08T19:19:46.056Z"
   },
   {
    "duration": 294,
    "start_time": "2022-03-08T19:20:21.498Z"
   },
   {
    "duration": 341,
    "start_time": "2022-03-08T19:26:30.396Z"
   },
   {
    "duration": 27,
    "start_time": "2022-03-08T19:40:36.059Z"
   },
   {
    "duration": 11,
    "start_time": "2022-03-08T19:40:38.610Z"
   },
   {
    "duration": 243,
    "start_time": "2022-03-08T19:40:54.548Z"
   },
   {
    "duration": 29,
    "start_time": "2022-03-08T19:41:05.047Z"
   },
   {
    "duration": 13,
    "start_time": "2022-03-08T19:41:06.673Z"
   },
   {
    "duration": 28,
    "start_time": "2022-03-08T19:41:25.501Z"
   },
   {
    "duration": 11,
    "start_time": "2022-03-08T19:41:27.487Z"
   },
   {
    "duration": 258,
    "start_time": "2022-03-08T19:42:02.043Z"
   },
   {
    "duration": 21,
    "start_time": "2022-03-08T19:47:17.752Z"
   },
   {
    "duration": 19,
    "start_time": "2022-03-08T19:48:15.696Z"
   },
   {
    "duration": 362,
    "start_time": "2022-03-08T19:48:47.190Z"
   },
   {
    "duration": 5,
    "start_time": "2022-03-08T19:49:43.946Z"
   },
   {
    "duration": 26,
    "start_time": "2022-03-08T19:49:43.992Z"
   },
   {
    "duration": 12,
    "start_time": "2022-03-08T19:49:44.020Z"
   },
   {
    "duration": 3,
    "start_time": "2022-03-08T19:49:44.034Z"
   },
   {
    "duration": 10,
    "start_time": "2022-03-08T19:49:44.039Z"
   },
   {
    "duration": 3,
    "start_time": "2022-03-08T19:49:44.051Z"
   },
   {
    "duration": 6,
    "start_time": "2022-03-08T19:49:44.057Z"
   },
   {
    "duration": 132,
    "start_time": "2022-03-08T19:49:44.065Z"
   },
   {
    "duration": 168,
    "start_time": "2022-03-08T19:49:44.199Z"
   },
   {
    "duration": 622,
    "start_time": "2022-03-08T19:49:44.368Z"
   },
   {
    "duration": 5,
    "start_time": "2022-03-08T19:49:44.991Z"
   },
   {
    "duration": 12,
    "start_time": "2022-03-08T19:49:44.998Z"
   },
   {
    "duration": 7,
    "start_time": "2022-03-08T19:49:45.012Z"
   },
   {
    "duration": 6,
    "start_time": "2022-03-08T19:49:45.020Z"
   },
   {
    "duration": 44,
    "start_time": "2022-03-08T19:49:45.027Z"
   },
   {
    "duration": 12,
    "start_time": "2022-03-08T19:49:45.073Z"
   },
   {
    "duration": 13,
    "start_time": "2022-03-08T19:49:45.087Z"
   },
   {
    "duration": 24,
    "start_time": "2022-03-08T19:49:45.102Z"
   },
   {
    "duration": 53,
    "start_time": "2022-03-08T19:49:45.128Z"
   },
   {
    "duration": 567,
    "start_time": "2022-03-08T19:49:45.182Z"
   },
   {
    "duration": 5900,
    "start_time": "2022-03-08T19:49:45.751Z"
   },
   {
    "duration": 113,
    "start_time": "2022-03-08T19:49:51.652Z"
   },
   {
    "duration": 493,
    "start_time": "2022-03-08T19:49:51.767Z"
   },
   {
    "duration": 7137,
    "start_time": "2022-03-08T19:49:52.263Z"
   },
   {
    "duration": 3,
    "start_time": "2022-03-08T19:49:59.403Z"
   },
   {
    "duration": 156,
    "start_time": "2022-03-08T19:49:59.408Z"
   },
   {
    "duration": 679,
    "start_time": "2022-03-08T19:49:59.566Z"
   },
   {
    "duration": 18951,
    "start_time": "2022-03-08T19:50:00.247Z"
   },
   {
    "duration": 4,
    "start_time": "2022-03-08T19:50:19.200Z"
   },
   {
    "duration": 62,
    "start_time": "2022-03-08T19:50:19.206Z"
   },
   {
    "duration": 549,
    "start_time": "2022-03-08T19:50:19.270Z"
   },
   {
    "duration": 4429,
    "start_time": "2022-03-08T19:50:19.820Z"
   },
   {
    "duration": 177,
    "start_time": "2022-03-08T19:50:24.251Z"
   },
   {
    "duration": 18,
    "start_time": "2022-03-08T19:50:24.430Z"
   },
   {
    "duration": 4,
    "start_time": "2022-03-08T20:21:09.362Z"
   },
   {
    "duration": 39,
    "start_time": "2022-03-08T20:21:15.329Z"
   },
   {
    "duration": 45,
    "start_time": "2022-03-08T20:22:01.642Z"
   },
   {
    "duration": 4,
    "start_time": "2022-03-08T20:22:25.845Z"
   },
   {
    "duration": 106,
    "start_time": "2022-03-08T20:22:32.560Z"
   },
   {
    "duration": 5,
    "start_time": "2022-03-08T20:23:33.663Z"
   },
   {
    "duration": 30,
    "start_time": "2022-03-08T20:23:33.671Z"
   },
   {
    "duration": 11,
    "start_time": "2022-03-08T20:23:33.703Z"
   },
   {
    "duration": 17,
    "start_time": "2022-03-08T20:23:33.716Z"
   },
   {
    "duration": 11,
    "start_time": "2022-03-08T20:23:33.735Z"
   },
   {
    "duration": 3,
    "start_time": "2022-03-08T20:23:33.748Z"
   },
   {
    "duration": 13,
    "start_time": "2022-03-08T20:23:33.753Z"
   },
   {
    "duration": 124,
    "start_time": "2022-03-08T20:23:33.768Z"
   },
   {
    "duration": 164,
    "start_time": "2022-03-08T20:23:33.894Z"
   },
   {
    "duration": 717,
    "start_time": "2022-03-08T20:23:34.062Z"
   },
   {
    "duration": 5,
    "start_time": "2022-03-08T20:23:34.780Z"
   },
   {
    "duration": 10,
    "start_time": "2022-03-08T20:23:34.786Z"
   },
   {
    "duration": 7,
    "start_time": "2022-03-08T20:23:34.797Z"
   },
   {
    "duration": 5,
    "start_time": "2022-03-08T20:23:34.806Z"
   },
   {
    "duration": 14,
    "start_time": "2022-03-08T20:23:34.813Z"
   },
   {
    "duration": 5,
    "start_time": "2022-03-08T20:23:34.829Z"
   },
   {
    "duration": 28,
    "start_time": "2022-03-08T20:23:34.835Z"
   },
   {
    "duration": 19,
    "start_time": "2022-03-08T20:23:34.865Z"
   },
   {
    "duration": 86,
    "start_time": "2022-03-08T20:23:34.886Z"
   },
   {
    "duration": 385,
    "start_time": "2022-03-08T20:23:35.064Z"
   },
   {
    "duration": 5935,
    "start_time": "2022-03-08T20:23:35.451Z"
   },
   {
    "duration": 81,
    "start_time": "2022-03-08T20:23:41.388Z"
   },
   {
    "duration": 485,
    "start_time": "2022-03-08T20:23:41.471Z"
   },
   {
    "duration": 7105,
    "start_time": "2022-03-08T20:23:41.962Z"
   },
   {
    "duration": 3,
    "start_time": "2022-03-08T20:23:49.069Z"
   },
   {
    "duration": 190,
    "start_time": "2022-03-08T20:23:49.074Z"
   },
   {
    "duration": 662,
    "start_time": "2022-03-08T20:23:49.267Z"
   },
   {
    "duration": 18046,
    "start_time": "2022-03-08T20:23:49.931Z"
   },
   {
    "duration": 3,
    "start_time": "2022-03-08T20:24:07.979Z"
   },
   {
    "duration": 81,
    "start_time": "2022-03-08T20:24:07.984Z"
   },
   {
    "duration": 447,
    "start_time": "2022-03-08T20:24:08.068Z"
   },
   {
    "duration": 4239,
    "start_time": "2022-03-08T20:24:08.517Z"
   },
   {
    "duration": 184,
    "start_time": "2022-03-08T20:24:12.758Z"
   },
   {
    "duration": 24,
    "start_time": "2022-03-08T20:24:12.943Z"
   },
   {
    "duration": 5,
    "start_time": "2022-03-08T20:38:45.240Z"
   },
   {
    "duration": 70,
    "start_time": "2022-03-08T20:38:52.694Z"
   },
   {
    "duration": 5,
    "start_time": "2022-03-08T20:40:21.944Z"
   },
   {
    "duration": 33,
    "start_time": "2022-03-08T20:40:21.951Z"
   },
   {
    "duration": 12,
    "start_time": "2022-03-08T20:40:21.985Z"
   },
   {
    "duration": 6,
    "start_time": "2022-03-08T20:40:21.998Z"
   },
   {
    "duration": 11,
    "start_time": "2022-03-08T20:40:22.006Z"
   },
   {
    "duration": 3,
    "start_time": "2022-03-08T20:40:22.019Z"
   },
   {
    "duration": 7,
    "start_time": "2022-03-08T20:40:22.024Z"
   },
   {
    "duration": 133,
    "start_time": "2022-03-08T20:40:22.033Z"
   },
   {
    "duration": 176,
    "start_time": "2022-03-08T20:40:22.167Z"
   },
   {
    "duration": 653,
    "start_time": "2022-03-08T20:40:22.344Z"
   },
   {
    "duration": 5,
    "start_time": "2022-03-08T20:40:22.999Z"
   },
   {
    "duration": 7,
    "start_time": "2022-03-08T20:40:23.006Z"
   },
   {
    "duration": 14,
    "start_time": "2022-03-08T20:40:23.015Z"
   },
   {
    "duration": 6,
    "start_time": "2022-03-08T20:40:23.031Z"
   },
   {
    "duration": 24,
    "start_time": "2022-03-08T20:40:23.039Z"
   },
   {
    "duration": 7,
    "start_time": "2022-03-08T20:40:23.064Z"
   },
   {
    "duration": 18,
    "start_time": "2022-03-08T20:40:23.073Z"
   },
   {
    "duration": 22,
    "start_time": "2022-03-08T20:40:23.092Z"
   },
   {
    "duration": 63,
    "start_time": "2022-03-08T20:40:23.117Z"
   },
   {
    "duration": 543,
    "start_time": "2022-03-08T20:40:23.183Z"
   },
   {
    "duration": 5839,
    "start_time": "2022-03-08T20:40:23.728Z"
   },
   {
    "duration": 94,
    "start_time": "2022-03-08T20:40:29.569Z"
   },
   {
    "duration": 477,
    "start_time": "2022-03-08T20:40:29.666Z"
   },
   {
    "duration": 6983,
    "start_time": "2022-03-08T20:40:30.145Z"
   },
   {
    "duration": 4,
    "start_time": "2022-03-08T20:40:37.129Z"
   },
   {
    "duration": 163,
    "start_time": "2022-03-08T20:40:37.135Z"
   },
   {
    "duration": 550,
    "start_time": "2022-03-08T20:40:37.364Z"
   },
   {
    "duration": 18914,
    "start_time": "2022-03-08T20:40:37.916Z"
   },
   {
    "duration": 3,
    "start_time": "2022-03-08T20:40:56.832Z"
   },
   {
    "duration": 51,
    "start_time": "2022-03-08T20:40:56.837Z"
   },
   {
    "duration": 496,
    "start_time": "2022-03-08T20:40:56.890Z"
   },
   {
    "duration": 4288,
    "start_time": "2022-03-08T20:40:57.388Z"
   },
   {
    "duration": 178,
    "start_time": "2022-03-08T20:41:01.678Z"
   },
   {
    "duration": 21,
    "start_time": "2022-03-08T20:41:01.857Z"
   },
   {
    "duration": 6,
    "start_time": "2022-03-08T20:43:12.442Z"
   },
   {
    "duration": 43,
    "start_time": "2022-03-08T20:43:12.450Z"
   },
   {
    "duration": 12,
    "start_time": "2022-03-08T20:43:12.494Z"
   },
   {
    "duration": 15,
    "start_time": "2022-03-08T20:43:12.508Z"
   },
   {
    "duration": 21,
    "start_time": "2022-03-08T20:43:12.525Z"
   },
   {
    "duration": 6,
    "start_time": "2022-03-08T20:43:12.548Z"
   },
   {
    "duration": 3,
    "start_time": "2022-03-08T20:43:12.556Z"
   },
   {
    "duration": 122,
    "start_time": "2022-03-08T20:43:12.561Z"
   },
   {
    "duration": 162,
    "start_time": "2022-03-08T20:43:12.685Z"
   },
   {
    "duration": 691,
    "start_time": "2022-03-08T20:43:12.849Z"
   },
   {
    "duration": 4,
    "start_time": "2022-03-08T20:43:13.542Z"
   },
   {
    "duration": 19,
    "start_time": "2022-03-08T20:43:13.548Z"
   },
   {
    "duration": 10,
    "start_time": "2022-03-08T20:43:13.569Z"
   },
   {
    "duration": 15,
    "start_time": "2022-03-08T20:43:13.580Z"
   },
   {
    "duration": 27,
    "start_time": "2022-03-08T20:43:13.596Z"
   },
   {
    "duration": 10,
    "start_time": "2022-03-08T20:43:13.625Z"
   },
   {
    "duration": 16,
    "start_time": "2022-03-08T20:43:13.636Z"
   },
   {
    "duration": 30,
    "start_time": "2022-03-08T20:43:13.653Z"
   },
   {
    "duration": 81,
    "start_time": "2022-03-08T20:43:13.686Z"
   },
   {
    "duration": 479,
    "start_time": "2022-03-08T20:43:13.770Z"
   },
   {
    "duration": 5868,
    "start_time": "2022-03-08T20:43:14.251Z"
   },
   {
    "duration": 54,
    "start_time": "2022-03-08T20:43:20.121Z"
   },
   {
    "duration": 569,
    "start_time": "2022-03-08T20:43:20.177Z"
   },
   {
    "duration": 7135,
    "start_time": "2022-03-08T20:43:20.748Z"
   },
   {
    "duration": 4,
    "start_time": "2022-03-08T20:43:27.884Z"
   },
   {
    "duration": 83,
    "start_time": "2022-03-08T20:43:27.890Z"
   },
   {
    "duration": 751,
    "start_time": "2022-03-08T20:43:27.975Z"
   },
   {
    "duration": 18728,
    "start_time": "2022-03-08T20:43:28.728Z"
   },
   {
    "duration": 5,
    "start_time": "2022-03-08T20:43:47.458Z"
   },
   {
    "duration": 100,
    "start_time": "2022-03-08T20:43:47.465Z"
   },
   {
    "duration": 442,
    "start_time": "2022-03-08T20:43:47.567Z"
   },
   {
    "duration": 4326,
    "start_time": "2022-03-08T20:43:48.011Z"
   },
   {
    "duration": 182,
    "start_time": "2022-03-08T20:43:52.338Z"
   },
   {
    "duration": 19,
    "start_time": "2022-03-08T20:43:52.521Z"
   },
   {
    "duration": 45,
    "start_time": "2022-03-08T20:50:26.524Z"
   },
   {
    "duration": 68,
    "start_time": "2022-03-08T20:52:28.880Z"
   },
   {
    "duration": 258,
    "start_time": "2022-03-08T21:10:08.747Z"
   },
   {
    "duration": 226,
    "start_time": "2022-03-08T21:10:14.424Z"
   },
   {
    "duration": 4,
    "start_time": "2022-03-08T21:10:23.143Z"
   },
   {
    "duration": 217,
    "start_time": "2022-03-08T21:10:24.997Z"
   },
   {
    "duration": 1525,
    "start_time": "2022-03-09T09:46:26.551Z"
   },
   {
    "duration": 48,
    "start_time": "2022-03-09T09:46:28.079Z"
   },
   {
    "duration": 26,
    "start_time": "2022-03-09T09:46:28.130Z"
   },
   {
    "duration": 5,
    "start_time": "2022-03-09T09:46:28.160Z"
   },
   {
    "duration": 14,
    "start_time": "2022-03-09T09:46:28.168Z"
   },
   {
    "duration": 5,
    "start_time": "2022-03-09T09:46:28.185Z"
   },
   {
    "duration": 5,
    "start_time": "2022-03-09T09:46:28.232Z"
   },
   {
    "duration": 217,
    "start_time": "2022-03-09T09:46:28.242Z"
   },
   {
    "duration": 285,
    "start_time": "2022-03-09T09:46:28.463Z"
   },
   {
    "duration": 1063,
    "start_time": "2022-03-09T09:46:28.751Z"
   },
   {
    "duration": 17,
    "start_time": "2022-03-09T09:46:29.816Z"
   },
   {
    "duration": 6,
    "start_time": "2022-03-09T09:46:29.837Z"
   },
   {
    "duration": 10,
    "start_time": "2022-03-09T09:46:29.846Z"
   },
   {
    "duration": 10,
    "start_time": "2022-03-09T09:46:29.858Z"
   },
   {
    "duration": 132,
    "start_time": "2022-03-09T09:46:29.871Z"
   },
   {
    "duration": 16,
    "start_time": "2022-03-09T09:46:30.006Z"
   },
   {
    "duration": 11,
    "start_time": "2022-03-09T09:46:30.024Z"
   },
   {
    "duration": 25,
    "start_time": "2022-03-09T09:46:30.037Z"
   },
   {
    "duration": 49,
    "start_time": "2022-03-09T09:46:30.064Z"
   },
   {
    "duration": 112,
    "start_time": "2022-03-09T09:46:30.133Z"
   },
   {
    "duration": 600,
    "start_time": "2022-03-09T09:46:30.332Z"
   },
   {
    "duration": 9216,
    "start_time": "2022-03-09T09:46:30.934Z"
   },
   {
    "duration": 87,
    "start_time": "2022-03-09T09:46:40.155Z"
   },
   {
    "duration": 738,
    "start_time": "2022-03-09T09:46:40.245Z"
   },
   {
    "duration": 10932,
    "start_time": "2022-03-09T09:46:40.985Z"
   },
   {
    "duration": 13,
    "start_time": "2022-03-09T09:46:51.920Z"
   },
   {
    "duration": 463,
    "start_time": "2022-03-09T09:46:51.936Z"
   },
   {
    "duration": 3862,
    "start_time": "2022-03-09T09:46:48.540Z"
   },
   {
    "duration": 3851,
    "start_time": "2022-03-09T09:46:48.552Z"
   },
   {
    "duration": 3836,
    "start_time": "2022-03-09T09:46:48.569Z"
   },
   {
    "duration": 3834,
    "start_time": "2022-03-09T09:46:48.572Z"
   },
   {
    "duration": 3824,
    "start_time": "2022-03-09T09:46:48.583Z"
   },
   {
    "duration": 3823,
    "start_time": "2022-03-09T09:46:48.586Z"
   },
   {
    "duration": 3820,
    "start_time": "2022-03-09T09:46:48.590Z"
   },
   {
    "duration": 3817,
    "start_time": "2022-03-09T09:46:48.594Z"
   },
   {
    "duration": 3812,
    "start_time": "2022-03-09T09:46:48.600Z"
   },
   {
    "duration": 6,
    "start_time": "2022-03-09T09:53:15.566Z"
   },
   {
    "duration": 7,
    "start_time": "2022-03-09T10:53:21.128Z"
   },
   {
    "duration": 49,
    "start_time": "2022-03-09T10:53:21.138Z"
   },
   {
    "duration": 42,
    "start_time": "2022-03-09T10:53:21.190Z"
   },
   {
    "duration": 4,
    "start_time": "2022-03-09T10:53:21.235Z"
   },
   {
    "duration": 15,
    "start_time": "2022-03-09T10:53:21.241Z"
   },
   {
    "duration": 4,
    "start_time": "2022-03-09T10:53:21.259Z"
   },
   {
    "duration": 8,
    "start_time": "2022-03-09T10:53:21.266Z"
   },
   {
    "duration": 234,
    "start_time": "2022-03-09T10:53:21.277Z"
   },
   {
    "duration": 278,
    "start_time": "2022-03-09T10:53:21.517Z"
   },
   {
    "duration": 1045,
    "start_time": "2022-03-09T10:53:21.798Z"
   },
   {
    "duration": 5,
    "start_time": "2022-03-09T10:53:22.846Z"
   },
   {
    "duration": 6,
    "start_time": "2022-03-09T10:53:22.854Z"
   },
   {
    "duration": 7,
    "start_time": "2022-03-09T10:53:22.862Z"
   },
   {
    "duration": 6,
    "start_time": "2022-03-09T10:53:22.871Z"
   },
   {
    "duration": 60,
    "start_time": "2022-03-09T10:53:22.880Z"
   },
   {
    "duration": 9,
    "start_time": "2022-03-09T10:53:22.943Z"
   },
   {
    "duration": 20,
    "start_time": "2022-03-09T10:53:22.954Z"
   },
   {
    "duration": 64,
    "start_time": "2022-03-09T10:53:22.977Z"
   },
   {
    "duration": 288,
    "start_time": "2022-03-09T10:53:23.044Z"
   },
   {
    "duration": 575,
    "start_time": "2022-03-09T10:53:23.335Z"
   },
   {
    "duration": 9230,
    "start_time": "2022-03-09T10:53:23.914Z"
   },
   {
    "duration": 186,
    "start_time": "2022-03-09T10:53:33.147Z"
   },
   {
    "duration": 637,
    "start_time": "2022-03-09T10:53:33.336Z"
   },
   {
    "duration": 11061,
    "start_time": "2022-03-09T10:53:33.976Z"
   },
   {
    "duration": 6,
    "start_time": "2022-03-09T10:53:45.040Z"
   },
   {
    "duration": 502,
    "start_time": "2022-03-09T10:53:45.048Z"
   },
   {
    "duration": 4660,
    "start_time": "2022-03-09T10:53:40.893Z"
   },
   {
    "duration": 4658,
    "start_time": "2022-03-09T10:53:40.896Z"
   },
   {
    "duration": 4657,
    "start_time": "2022-03-09T10:53:40.898Z"
   },
   {
    "duration": 4646,
    "start_time": "2022-03-09T10:53:40.911Z"
   },
   {
    "duration": 4644,
    "start_time": "2022-03-09T10:53:40.914Z"
   },
   {
    "duration": 4643,
    "start_time": "2022-03-09T10:53:40.916Z"
   },
   {
    "duration": 4642,
    "start_time": "2022-03-09T10:53:40.919Z"
   },
   {
    "duration": 4641,
    "start_time": "2022-03-09T10:53:40.921Z"
   },
   {
    "duration": 170,
    "start_time": "2022-03-09T10:54:50.266Z"
   },
   {
    "duration": 8,
    "start_time": "2022-03-09T10:54:59.930Z"
   },
   {
    "duration": 42,
    "start_time": "2022-03-09T10:54:59.940Z"
   },
   {
    "duration": 19,
    "start_time": "2022-03-09T10:54:59.985Z"
   },
   {
    "duration": 11,
    "start_time": "2022-03-09T10:55:00.007Z"
   },
   {
    "duration": 12,
    "start_time": "2022-03-09T10:55:00.032Z"
   },
   {
    "duration": 5,
    "start_time": "2022-03-09T10:55:00.046Z"
   },
   {
    "duration": 13,
    "start_time": "2022-03-09T10:55:00.054Z"
   },
   {
    "duration": 226,
    "start_time": "2022-03-09T10:55:00.070Z"
   },
   {
    "duration": 290,
    "start_time": "2022-03-09T10:55:00.298Z"
   },
   {
    "duration": 1182,
    "start_time": "2022-03-09T10:55:00.591Z"
   },
   {
    "duration": 5,
    "start_time": "2022-03-09T10:55:01.775Z"
   },
   {
    "duration": 18,
    "start_time": "2022-03-09T10:55:01.782Z"
   },
   {
    "duration": 8,
    "start_time": "2022-03-09T10:55:01.802Z"
   },
   {
    "duration": 20,
    "start_time": "2022-03-09T10:55:01.813Z"
   },
   {
    "duration": 28,
    "start_time": "2022-03-09T10:55:01.835Z"
   },
   {
    "duration": 8,
    "start_time": "2022-03-09T10:55:01.866Z"
   },
   {
    "duration": 26,
    "start_time": "2022-03-09T10:55:01.876Z"
   },
   {
    "duration": 50,
    "start_time": "2022-03-09T10:55:01.905Z"
   },
   {
    "duration": 173,
    "start_time": "2022-03-09T10:55:01.960Z"
   },
   {
    "duration": 669,
    "start_time": "2022-03-09T10:55:02.137Z"
   },
   {
    "duration": 9143,
    "start_time": "2022-03-09T10:55:02.808Z"
   },
   {
    "duration": 183,
    "start_time": "2022-03-09T10:55:11.953Z"
   },
   {
    "duration": 685,
    "start_time": "2022-03-09T10:55:12.140Z"
   },
   {
    "duration": 11155,
    "start_time": "2022-03-09T10:55:12.832Z"
   },
   {
    "duration": 5,
    "start_time": "2022-03-09T10:55:23.990Z"
   },
   {
    "duration": 139,
    "start_time": "2022-03-09T10:55:23.997Z"
   },
   {
    "duration": 867,
    "start_time": "2022-03-09T10:55:24.140Z"
   },
   {
    "duration": 20785,
    "start_time": "2022-03-09T10:55:25.009Z"
   },
   {
    "duration": 6,
    "start_time": "2022-03-09T10:55:45.796Z"
   },
   {
    "duration": 136,
    "start_time": "2022-03-09T10:55:45.804Z"
   },
   {
    "duration": 557,
    "start_time": "2022-03-09T10:55:46.032Z"
   },
   {
    "duration": 6638,
    "start_time": "2022-03-09T10:55:46.591Z"
   },
   {
    "duration": 280,
    "start_time": "2022-03-09T10:55:53.233Z"
   },
   {
    "duration": 37,
    "start_time": "2022-03-09T10:55:53.515Z"
   },
   {
    "duration": 30,
    "start_time": "2022-03-09T10:58:38.105Z"
   },
   {
    "duration": 7,
    "start_time": "2022-03-09T11:00:43.944Z"
   },
   {
    "duration": 269,
    "start_time": "2022-03-09T11:02:14.464Z"
   },
   {
    "duration": 110,
    "start_time": "2022-03-09T11:06:37.275Z"
   },
   {
    "duration": 3,
    "start_time": "2022-03-09T11:09:34.719Z"
   },
   {
    "duration": 8,
    "start_time": "2022-03-09T11:10:40.290Z"
   },
   {
    "duration": 51,
    "start_time": "2022-03-09T11:10:40.301Z"
   },
   {
    "duration": 18,
    "start_time": "2022-03-09T11:10:40.356Z"
   },
   {
    "duration": 5,
    "start_time": "2022-03-09T11:10:40.376Z"
   },
   {
    "duration": 13,
    "start_time": "2022-03-09T11:10:40.383Z"
   },
   {
    "duration": 4,
    "start_time": "2022-03-09T11:10:40.398Z"
   },
   {
    "duration": 4,
    "start_time": "2022-03-09T11:10:40.432Z"
   },
   {
    "duration": 224,
    "start_time": "2022-03-09T11:10:40.438Z"
   },
   {
    "duration": 295,
    "start_time": "2022-03-09T11:10:40.665Z"
   },
   {
    "duration": 1162,
    "start_time": "2022-03-09T11:10:40.963Z"
   },
   {
    "duration": 8,
    "start_time": "2022-03-09T11:10:42.127Z"
   },
   {
    "duration": 8,
    "start_time": "2022-03-09T11:10:42.137Z"
   },
   {
    "duration": 7,
    "start_time": "2022-03-09T11:10:42.147Z"
   },
   {
    "duration": 7,
    "start_time": "2022-03-09T11:10:42.157Z"
   },
   {
    "duration": 23,
    "start_time": "2022-03-09T11:10:42.167Z"
   },
   {
    "duration": 45,
    "start_time": "2022-03-09T11:10:42.193Z"
   },
   {
    "duration": 16,
    "start_time": "2022-03-09T11:10:42.240Z"
   },
   {
    "duration": 33,
    "start_time": "2022-03-09T11:10:42.258Z"
   },
   {
    "duration": 146,
    "start_time": "2022-03-09T11:10:42.294Z"
   },
   {
    "duration": 724,
    "start_time": "2022-03-09T11:10:42.444Z"
   },
   {
    "duration": 9106,
    "start_time": "2022-03-09T11:10:43.170Z"
   },
   {
    "duration": 155,
    "start_time": "2022-03-09T11:10:52.278Z"
   },
   {
    "duration": 741,
    "start_time": "2022-03-09T11:10:52.436Z"
   },
   {
    "duration": 10866,
    "start_time": "2022-03-09T11:10:53.180Z"
   },
   {
    "duration": 5,
    "start_time": "2022-03-09T11:11:04.049Z"
   },
   {
    "duration": 178,
    "start_time": "2022-03-09T11:11:04.056Z"
   },
   {
    "duration": 859,
    "start_time": "2022-03-09T11:11:04.242Z"
   },
   {
    "duration": 21150,
    "start_time": "2022-03-09T11:11:05.104Z"
   },
   {
    "duration": 6,
    "start_time": "2022-03-09T11:11:26.256Z"
   },
   {
    "duration": 169,
    "start_time": "2022-03-09T11:11:26.264Z"
   },
   {
    "duration": 624,
    "start_time": "2022-03-09T11:11:26.437Z"
   },
   {
    "duration": 6570,
    "start_time": "2022-03-09T11:11:27.063Z"
   },
   {
    "duration": 270,
    "start_time": "2022-03-09T11:11:33.635Z"
   },
   {
    "duration": 40,
    "start_time": "2022-03-09T11:11:33.908Z"
   },
   {
    "duration": 27,
    "start_time": "2022-03-09T11:11:33.950Z"
   },
   {
    "duration": 306,
    "start_time": "2022-03-09T11:11:33.979Z"
   },
   {
    "duration": 381,
    "start_time": "2022-03-09T11:16:43.276Z"
   },
   {
    "duration": 354,
    "start_time": "2022-03-09T11:17:24.055Z"
   },
   {
    "duration": 6,
    "start_time": "2022-03-09T11:21:08.633Z"
   },
   {
    "duration": 34,
    "start_time": "2022-03-09T11:21:12.505Z"
   },
   {
    "duration": 5,
    "start_time": "2022-03-09T11:21:32.620Z"
   },
   {
    "duration": 35,
    "start_time": "2022-03-09T11:21:34.522Z"
   },
   {
    "duration": 5,
    "start_time": "2022-03-09T11:22:00.788Z"
   },
   {
    "duration": 7,
    "start_time": "2022-03-09T11:26:48.187Z"
   },
   {
    "duration": 42,
    "start_time": "2022-03-09T11:26:48.197Z"
   },
   {
    "duration": 19,
    "start_time": "2022-03-09T11:26:48.242Z"
   },
   {
    "duration": 10,
    "start_time": "2022-03-09T11:26:48.263Z"
   },
   {
    "duration": 123,
    "start_time": "2022-03-09T11:26:48.275Z"
   },
   {
    "duration": 4,
    "start_time": "2022-03-09T11:26:48.400Z"
   },
   {
    "duration": 24,
    "start_time": "2022-03-09T11:26:48.408Z"
   },
   {
    "duration": 203,
    "start_time": "2022-03-09T11:26:48.435Z"
   },
   {
    "duration": 285,
    "start_time": "2022-03-09T11:26:48.640Z"
   },
   {
    "duration": 1058,
    "start_time": "2022-03-09T11:26:48.927Z"
   },
   {
    "duration": 7,
    "start_time": "2022-03-09T11:26:49.987Z"
   },
   {
    "duration": 6,
    "start_time": "2022-03-09T11:26:49.997Z"
   },
   {
    "duration": 30,
    "start_time": "2022-03-09T11:26:50.005Z"
   },
   {
    "duration": 6,
    "start_time": "2022-03-09T11:26:50.038Z"
   },
   {
    "duration": 25,
    "start_time": "2022-03-09T11:26:50.046Z"
   },
   {
    "duration": 8,
    "start_time": "2022-03-09T11:26:50.073Z"
   },
   {
    "duration": 50,
    "start_time": "2022-03-09T11:26:50.084Z"
   },
   {
    "duration": 35,
    "start_time": "2022-03-09T11:26:50.136Z"
   },
   {
    "duration": 161,
    "start_time": "2022-03-09T11:26:50.176Z"
   },
   {
    "duration": 699,
    "start_time": "2022-03-09T11:26:50.341Z"
   },
   {
    "duration": 9496,
    "start_time": "2022-03-09T11:26:51.042Z"
   },
   {
    "duration": 97,
    "start_time": "2022-03-09T11:27:00.540Z"
   },
   {
    "duration": 733,
    "start_time": "2022-03-09T11:27:00.639Z"
   },
   {
    "duration": 11223,
    "start_time": "2022-03-09T11:27:01.375Z"
   },
   {
    "duration": 5,
    "start_time": "2022-03-09T11:27:12.600Z"
   },
   {
    "duration": 136,
    "start_time": "2022-03-09T11:27:12.607Z"
   },
   {
    "duration": 794,
    "start_time": "2022-03-09T11:27:12.834Z"
   },
   {
    "duration": 21535,
    "start_time": "2022-03-09T11:27:13.633Z"
   },
   {
    "duration": 7,
    "start_time": "2022-03-09T11:27:35.170Z"
   },
   {
    "duration": 154,
    "start_time": "2022-03-09T11:27:35.179Z"
   },
   {
    "duration": 669,
    "start_time": "2022-03-09T11:27:35.337Z"
   },
   {
    "duration": 7113,
    "start_time": "2022-03-09T11:27:36.009Z"
   },
   {
    "duration": 274,
    "start_time": "2022-03-09T11:27:43.133Z"
   },
   {
    "duration": 36,
    "start_time": "2022-03-09T11:27:43.409Z"
   },
   {
    "duration": 27,
    "start_time": "2022-03-09T11:27:43.448Z"
   },
   {
    "duration": 506,
    "start_time": "2022-03-09T11:27:43.477Z"
   },
   {
    "duration": 14,
    "start_time": "2022-03-09T11:30:10.825Z"
   },
   {
    "duration": 46,
    "start_time": "2022-03-09T11:30:10.968Z"
   },
   {
    "duration": 25,
    "start_time": "2022-03-09T11:30:11.018Z"
   },
   {
    "duration": 5,
    "start_time": "2022-03-09T11:30:11.047Z"
   },
   {
    "duration": 14,
    "start_time": "2022-03-09T11:30:11.055Z"
   },
   {
    "duration": 4,
    "start_time": "2022-03-09T11:30:11.072Z"
   },
   {
    "duration": 5,
    "start_time": "2022-03-09T11:30:11.078Z"
   },
   {
    "duration": 241,
    "start_time": "2022-03-09T11:30:11.086Z"
   },
   {
    "duration": 502,
    "start_time": "2022-03-09T11:30:11.333Z"
   },
   {
    "duration": 1353,
    "start_time": "2022-03-09T11:30:11.839Z"
   },
   {
    "duration": 6,
    "start_time": "2022-03-09T11:30:13.196Z"
   },
   {
    "duration": 6,
    "start_time": "2022-03-09T11:30:13.205Z"
   },
   {
    "duration": 8,
    "start_time": "2022-03-09T11:30:13.233Z"
   },
   {
    "duration": 7,
    "start_time": "2022-03-09T11:30:13.245Z"
   },
   {
    "duration": 30,
    "start_time": "2022-03-09T11:30:13.255Z"
   },
   {
    "duration": 10,
    "start_time": "2022-03-09T11:30:13.287Z"
   },
   {
    "duration": 49,
    "start_time": "2022-03-09T11:30:13.300Z"
   },
   {
    "duration": 35,
    "start_time": "2022-03-09T11:30:13.351Z"
   },
   {
    "duration": 247,
    "start_time": "2022-03-09T11:30:13.388Z"
   },
   {
    "duration": 714,
    "start_time": "2022-03-09T11:30:13.638Z"
   },
   {
    "duration": 10192,
    "start_time": "2022-03-09T11:30:14.356Z"
   },
   {
    "duration": 192,
    "start_time": "2022-03-09T11:30:24.551Z"
   },
   {
    "duration": 725,
    "start_time": "2022-03-09T11:30:24.747Z"
   },
   {
    "duration": 12450,
    "start_time": "2022-03-09T11:30:25.474Z"
   },
   {
    "duration": 7,
    "start_time": "2022-03-09T11:30:37.932Z"
   },
   {
    "duration": 192,
    "start_time": "2022-03-09T11:30:37.942Z"
   },
   {
    "duration": 944,
    "start_time": "2022-03-09T11:30:38.138Z"
   },
   {
    "duration": 16689,
    "start_time": "2022-03-09T11:30:39.086Z"
   },
   {
    "duration": 7,
    "start_time": "2022-03-09T11:30:55.778Z"
   },
   {
    "duration": 245,
    "start_time": "2022-03-09T11:30:55.788Z"
   },
   {
    "duration": 667,
    "start_time": "2022-03-09T11:30:56.035Z"
   },
   {
    "duration": 7005,
    "start_time": "2022-03-09T11:30:56.705Z"
   },
   {
    "duration": 319,
    "start_time": "2022-03-09T11:31:03.713Z"
   },
   {
    "duration": 36,
    "start_time": "2022-03-09T11:31:04.034Z"
   },
   {
    "duration": 70,
    "start_time": "2022-03-09T11:31:04.073Z"
   },
   {
    "duration": 343,
    "start_time": "2022-03-09T11:31:04.146Z"
   },
   {
    "duration": 951,
    "start_time": "2022-03-09T11:34:54.837Z"
   },
   {
    "duration": 84,
    "start_time": "2022-03-09T11:35:05.930Z"
   },
   {
    "duration": 93,
    "start_time": "2022-03-09T11:35:07.890Z"
   },
   {
    "duration": 327,
    "start_time": "2022-03-09T11:35:10.543Z"
   }
  ],
  "kernelspec": {
   "display_name": "Python 3 (ipykernel)",
   "language": "python",
   "name": "python3"
  },
  "language_info": {
   "codemirror_mode": {
    "name": "ipython",
    "version": 3
   },
   "file_extension": ".py",
   "mimetype": "text/x-python",
   "name": "python",
   "nbconvert_exporter": "python",
   "pygments_lexer": "ipython3",
   "version": "3.9.7"
  },
  "toc": {
   "base_numbering": 1,
   "nav_menu": {},
   "number_sections": true,
   "sideBar": true,
   "skip_h1_title": true,
   "title_cell": "Table of Contents",
   "title_sidebar": "Contents",
   "toc_cell": false,
   "toc_position": {
    "height": "calc(100% - 180px)",
    "left": "10px",
    "top": "150px",
    "width": "338.8125px"
   },
   "toc_section_display": true,
   "toc_window_display": true
  }
 },
 "nbformat": 4,
 "nbformat_minor": 5
}
