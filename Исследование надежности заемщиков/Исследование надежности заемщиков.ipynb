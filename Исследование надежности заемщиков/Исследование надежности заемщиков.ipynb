{
 "cells": [
  {
   "cell_type": "markdown",
   "id": "9897bc3f",
   "metadata": {},
   "source": [
    "# Determination of loan borrowers' reliability"
   ]
  },
  {
   "cell_type": "markdown",
   "id": "bf2735d6",
   "metadata": {},
   "source": [
    "## Description\n",
    "\n",
    "The customer is the credit department of the bank. It is necessary to understand whether the marital status and the number of children of the client affect the fact of repayment of the loan on time. Input data from the bank — statistics on the solvency of customers.\n",
    "\n",
    "The results of the study will be taken into account when building a credit scoring model — a special system that evaluates the ability of a potential borrower to repay a loan to a bank."
   ]
  },
  {
   "cell_type": "markdown",
   "id": "f80f4210",
   "metadata": {},
   "source": [
    "**The purpose of the study** is to determine whether the primary parameters of borrowers affect the appearance of debt when paying off the loan and thus help to adjust the scoring model of the bank. In particular, it is necessary to test a number of hypotheses:\n",
    "\n",
    " - Is there a relationship between having children and repayment of the loan on time?\n",
    " - Is there a relationship between marital status and repayment of the loan on time?\n",
    " - Is there a relationship between the level of income and repayment of the loan on time?\n",
    " - How do different loan goals affect its repayment on time?\n",
    "\n",
    "**Research plan**\n",
    "\n",
    "Data on the reliability of borrowers is obtained from the data.csv file. Nothing is known about the quality of the data. Therefore, before testing hypotheses, we will need to review the data.\n",
    "The data will be checked for errors and their impact on the study will be assessed. Then, at the preprocessing stage, the most critical data errors will be corrected.\n",
    "\n",
    "Thus, the study will take place in three stages:\n",
    "Data overview.\n",
    "Data preprocessing.\n",
    "Hypothesis testing."
   ]
  },
  {
   "cell_type": "markdown",
   "id": "83f5789d",
   "metadata": {},
   "source": [
    "___\n",
    "## Data overview\n",
    "___\n",
    "\n",
    "Let's make a first idea of the data"
   ]
  },
  {
   "cell_type": "markdown",
   "id": "abfe819f",
   "metadata": {},
   "source": [
    "Importing the pandas library - The main analytics tool"
   ]
  },
  {
   "cell_type": "code",
   "execution_count": 95,
   "id": "f006f141",
   "metadata": {},
   "outputs": [],
   "source": [
    "import pandas as pd"
   ]
  },
  {
   "cell_type": "markdown",
   "id": "ec2f03e2",
   "metadata": {},
   "source": [
    "Read the data.csv file from the /datasets folder and save it in the df variable:"
   ]
  },
  {
   "cell_type": "code",
   "execution_count": 96,
   "id": "c522bcb6",
   "metadata": {},
   "outputs": [],
   "source": [
    "try:\n",
    "    df = pd.read_csv('/Users/vladislav/Documents/datasets/data.csv')\n",
    "except:\n",
    "    df = pd.read_csv('/datasets/data.csv')"
   ]
  },
  {
   "cell_type": "markdown",
   "id": "1d7bdec9",
   "metadata": {},
   "source": [
    "Let's display the first ten rows of the table:"
   ]
  },
  {
   "cell_type": "code",
   "execution_count": 97,
   "id": "f9f25ddd",
   "metadata": {
    "scrolled": true
   },
   "outputs": [
    {
     "data": {
      "text/html": [
       "<div>\n",
       "<style scoped>\n",
       "    .dataframe tbody tr th:only-of-type {\n",
       "        vertical-align: middle;\n",
       "    }\n",
       "\n",
       "    .dataframe tbody tr th {\n",
       "        vertical-align: top;\n",
       "    }\n",
       "\n",
       "    .dataframe thead th {\n",
       "        text-align: right;\n",
       "    }\n",
       "</style>\n",
       "<table border=\"1\" class=\"dataframe\">\n",
       "  <thead>\n",
       "    <tr style=\"text-align: right;\">\n",
       "      <th></th>\n",
       "      <th>children</th>\n",
       "      <th>days_employed</th>\n",
       "      <th>dob_years</th>\n",
       "      <th>education</th>\n",
       "      <th>education_id</th>\n",
       "      <th>family_status</th>\n",
       "      <th>family_status_id</th>\n",
       "      <th>gender</th>\n",
       "      <th>income_type</th>\n",
       "      <th>debt</th>\n",
       "      <th>total_income</th>\n",
       "      <th>purpose</th>\n",
       "    </tr>\n",
       "  </thead>\n",
       "  <tbody>\n",
       "    <tr>\n",
       "      <th>0</th>\n",
       "      <td>1</td>\n",
       "      <td>-8437.673028</td>\n",
       "      <td>42</td>\n",
       "      <td>высшее</td>\n",
       "      <td>0</td>\n",
       "      <td>женат / замужем</td>\n",
       "      <td>0</td>\n",
       "      <td>F</td>\n",
       "      <td>сотрудник</td>\n",
       "      <td>0</td>\n",
       "      <td>253875.639453</td>\n",
       "      <td>покупка жилья</td>\n",
       "    </tr>\n",
       "    <tr>\n",
       "      <th>1</th>\n",
       "      <td>1</td>\n",
       "      <td>-4024.803754</td>\n",
       "      <td>36</td>\n",
       "      <td>среднее</td>\n",
       "      <td>1</td>\n",
       "      <td>женат / замужем</td>\n",
       "      <td>0</td>\n",
       "      <td>F</td>\n",
       "      <td>сотрудник</td>\n",
       "      <td>0</td>\n",
       "      <td>112080.014102</td>\n",
       "      <td>приобретение автомобиля</td>\n",
       "    </tr>\n",
       "    <tr>\n",
       "      <th>2</th>\n",
       "      <td>0</td>\n",
       "      <td>-5623.422610</td>\n",
       "      <td>33</td>\n",
       "      <td>Среднее</td>\n",
       "      <td>1</td>\n",
       "      <td>женат / замужем</td>\n",
       "      <td>0</td>\n",
       "      <td>M</td>\n",
       "      <td>сотрудник</td>\n",
       "      <td>0</td>\n",
       "      <td>145885.952297</td>\n",
       "      <td>покупка жилья</td>\n",
       "    </tr>\n",
       "    <tr>\n",
       "      <th>3</th>\n",
       "      <td>3</td>\n",
       "      <td>-4124.747207</td>\n",
       "      <td>32</td>\n",
       "      <td>среднее</td>\n",
       "      <td>1</td>\n",
       "      <td>женат / замужем</td>\n",
       "      <td>0</td>\n",
       "      <td>M</td>\n",
       "      <td>сотрудник</td>\n",
       "      <td>0</td>\n",
       "      <td>267628.550329</td>\n",
       "      <td>дополнительное образование</td>\n",
       "    </tr>\n",
       "    <tr>\n",
       "      <th>4</th>\n",
       "      <td>0</td>\n",
       "      <td>340266.072047</td>\n",
       "      <td>53</td>\n",
       "      <td>среднее</td>\n",
       "      <td>1</td>\n",
       "      <td>гражданский брак</td>\n",
       "      <td>1</td>\n",
       "      <td>F</td>\n",
       "      <td>пенсионер</td>\n",
       "      <td>0</td>\n",
       "      <td>158616.077870</td>\n",
       "      <td>сыграть свадьбу</td>\n",
       "    </tr>\n",
       "  </tbody>\n",
       "</table>\n",
       "</div>"
      ],
      "text/plain": [
       "   children  days_employed  dob_years education  education_id  \\\n",
       "0         1   -8437.673028         42    высшее             0   \n",
       "1         1   -4024.803754         36   среднее             1   \n",
       "2         0   -5623.422610         33   Среднее             1   \n",
       "3         3   -4124.747207         32   среднее             1   \n",
       "4         0  340266.072047         53   среднее             1   \n",
       "\n",
       "      family_status  family_status_id gender income_type  debt   total_income  \\\n",
       "0   женат / замужем                 0      F   сотрудник     0  253875.639453   \n",
       "1   женат / замужем                 0      F   сотрудник     0  112080.014102   \n",
       "2   женат / замужем                 0      M   сотрудник     0  145885.952297   \n",
       "3   женат / замужем                 0      M   сотрудник     0  267628.550329   \n",
       "4  гражданский брак                 1      F   пенсионер     0  158616.077870   \n",
       "\n",
       "                      purpose  \n",
       "0               покупка жилья  \n",
       "1     приобретение автомобиля  \n",
       "2               покупка жилья  \n",
       "3  дополнительное образование  \n",
       "4             сыграть свадьбу  "
      ]
     },
     "execution_count": 97,
     "metadata": {},
     "output_type": "execute_result"
    }
   ],
   "source": [
    "df.head()"
   ]
  },
  {
   "cell_type": "markdown",
   "id": "e716bb1e",
   "metadata": {},
   "source": [
    "We will also get general information about the table:"
   ]
  },
  {
   "cell_type": "code",
   "execution_count": 98,
   "id": "35e384eb",
   "metadata": {
    "scrolled": false
   },
   "outputs": [
    {
     "name": "stdout",
     "output_type": "stream",
     "text": [
      "<class 'pandas.core.frame.DataFrame'>\n",
      "RangeIndex: 21525 entries, 0 to 21524\n",
      "Data columns (total 12 columns):\n",
      " #   Column            Non-Null Count  Dtype  \n",
      "---  ------            --------------  -----  \n",
      " 0   children          21525 non-null  int64  \n",
      " 1   days_employed     19351 non-null  float64\n",
      " 2   dob_years         21525 non-null  int64  \n",
      " 3   education         21525 non-null  object \n",
      " 4   education_id      21525 non-null  int64  \n",
      " 5   family_status     21525 non-null  object \n",
      " 6   family_status_id  21525 non-null  int64  \n",
      " 7   gender            21525 non-null  object \n",
      " 8   income_type       21525 non-null  object \n",
      " 9   debt              21525 non-null  int64  \n",
      " 10  total_income      19351 non-null  float64\n",
      " 11  purpose           21525 non-null  object \n",
      "dtypes: float64(2), int64(5), object(5)\n",
      "memory usage: 2.0+ MB\n"
     ]
    }
   ],
   "source": [
    "df.info()"
   ]
  },
  {
   "cell_type": "markdown",
   "id": "a391a8ec",
   "metadata": {},
   "source": [
    "And we will conduct an upper-level numerical analysis of the data:"
   ]
  },
  {
   "cell_type": "code",
   "execution_count": 99,
   "id": "30c3a39e",
   "metadata": {},
   "outputs": [
    {
     "data": {
      "text/html": [
       "<div>\n",
       "<style scoped>\n",
       "    .dataframe tbody tr th:only-of-type {\n",
       "        vertical-align: middle;\n",
       "    }\n",
       "\n",
       "    .dataframe tbody tr th {\n",
       "        vertical-align: top;\n",
       "    }\n",
       "\n",
       "    .dataframe thead th {\n",
       "        text-align: right;\n",
       "    }\n",
       "</style>\n",
       "<table border=\"1\" class=\"dataframe\">\n",
       "  <thead>\n",
       "    <tr style=\"text-align: right;\">\n",
       "      <th></th>\n",
       "      <th>count</th>\n",
       "      <th>unique</th>\n",
       "      <th>top</th>\n",
       "      <th>freq</th>\n",
       "      <th>mean</th>\n",
       "      <th>std</th>\n",
       "      <th>min</th>\n",
       "      <th>25%</th>\n",
       "      <th>50%</th>\n",
       "      <th>75%</th>\n",
       "      <th>max</th>\n",
       "    </tr>\n",
       "  </thead>\n",
       "  <tbody>\n",
       "    <tr>\n",
       "      <th>children</th>\n",
       "      <td>21525.0</td>\n",
       "      <td>NaN</td>\n",
       "      <td>NaN</td>\n",
       "      <td>NaN</td>\n",
       "      <td>0.538908</td>\n",
       "      <td>1.381587</td>\n",
       "      <td>-1.0</td>\n",
       "      <td>0.0</td>\n",
       "      <td>0.0</td>\n",
       "      <td>1.0</td>\n",
       "      <td>20.0</td>\n",
       "    </tr>\n",
       "    <tr>\n",
       "      <th>days_employed</th>\n",
       "      <td>19351.0</td>\n",
       "      <td>NaN</td>\n",
       "      <td>NaN</td>\n",
       "      <td>NaN</td>\n",
       "      <td>63046.497661</td>\n",
       "      <td>140827.311974</td>\n",
       "      <td>-18388.949901</td>\n",
       "      <td>-2747.423625</td>\n",
       "      <td>-1203.369529</td>\n",
       "      <td>-291.095954</td>\n",
       "      <td>401755.400475</td>\n",
       "    </tr>\n",
       "    <tr>\n",
       "      <th>dob_years</th>\n",
       "      <td>21525.0</td>\n",
       "      <td>NaN</td>\n",
       "      <td>NaN</td>\n",
       "      <td>NaN</td>\n",
       "      <td>43.29338</td>\n",
       "      <td>12.574584</td>\n",
       "      <td>0.0</td>\n",
       "      <td>33.0</td>\n",
       "      <td>42.0</td>\n",
       "      <td>53.0</td>\n",
       "      <td>75.0</td>\n",
       "    </tr>\n",
       "    <tr>\n",
       "      <th>education</th>\n",
       "      <td>21525</td>\n",
       "      <td>15</td>\n",
       "      <td>среднее</td>\n",
       "      <td>13750</td>\n",
       "      <td>NaN</td>\n",
       "      <td>NaN</td>\n",
       "      <td>NaN</td>\n",
       "      <td>NaN</td>\n",
       "      <td>NaN</td>\n",
       "      <td>NaN</td>\n",
       "      <td>NaN</td>\n",
       "    </tr>\n",
       "    <tr>\n",
       "      <th>education_id</th>\n",
       "      <td>21525.0</td>\n",
       "      <td>NaN</td>\n",
       "      <td>NaN</td>\n",
       "      <td>NaN</td>\n",
       "      <td>0.817236</td>\n",
       "      <td>0.548138</td>\n",
       "      <td>0.0</td>\n",
       "      <td>1.0</td>\n",
       "      <td>1.0</td>\n",
       "      <td>1.0</td>\n",
       "      <td>4.0</td>\n",
       "    </tr>\n",
       "    <tr>\n",
       "      <th>family_status</th>\n",
       "      <td>21525</td>\n",
       "      <td>5</td>\n",
       "      <td>женат / замужем</td>\n",
       "      <td>12380</td>\n",
       "      <td>NaN</td>\n",
       "      <td>NaN</td>\n",
       "      <td>NaN</td>\n",
       "      <td>NaN</td>\n",
       "      <td>NaN</td>\n",
       "      <td>NaN</td>\n",
       "      <td>NaN</td>\n",
       "    </tr>\n",
       "    <tr>\n",
       "      <th>family_status_id</th>\n",
       "      <td>21525.0</td>\n",
       "      <td>NaN</td>\n",
       "      <td>NaN</td>\n",
       "      <td>NaN</td>\n",
       "      <td>0.972544</td>\n",
       "      <td>1.420324</td>\n",
       "      <td>0.0</td>\n",
       "      <td>0.0</td>\n",
       "      <td>0.0</td>\n",
       "      <td>1.0</td>\n",
       "      <td>4.0</td>\n",
       "    </tr>\n",
       "    <tr>\n",
       "      <th>gender</th>\n",
       "      <td>21525</td>\n",
       "      <td>3</td>\n",
       "      <td>F</td>\n",
       "      <td>14236</td>\n",
       "      <td>NaN</td>\n",
       "      <td>NaN</td>\n",
       "      <td>NaN</td>\n",
       "      <td>NaN</td>\n",
       "      <td>NaN</td>\n",
       "      <td>NaN</td>\n",
       "      <td>NaN</td>\n",
       "    </tr>\n",
       "    <tr>\n",
       "      <th>income_type</th>\n",
       "      <td>21525</td>\n",
       "      <td>8</td>\n",
       "      <td>сотрудник</td>\n",
       "      <td>11119</td>\n",
       "      <td>NaN</td>\n",
       "      <td>NaN</td>\n",
       "      <td>NaN</td>\n",
       "      <td>NaN</td>\n",
       "      <td>NaN</td>\n",
       "      <td>NaN</td>\n",
       "      <td>NaN</td>\n",
       "    </tr>\n",
       "    <tr>\n",
       "      <th>debt</th>\n",
       "      <td>21525.0</td>\n",
       "      <td>NaN</td>\n",
       "      <td>NaN</td>\n",
       "      <td>NaN</td>\n",
       "      <td>0.080883</td>\n",
       "      <td>0.272661</td>\n",
       "      <td>0.0</td>\n",
       "      <td>0.0</td>\n",
       "      <td>0.0</td>\n",
       "      <td>0.0</td>\n",
       "      <td>1.0</td>\n",
       "    </tr>\n",
       "    <tr>\n",
       "      <th>total_income</th>\n",
       "      <td>19351.0</td>\n",
       "      <td>NaN</td>\n",
       "      <td>NaN</td>\n",
       "      <td>NaN</td>\n",
       "      <td>167422.302208</td>\n",
       "      <td>102971.566448</td>\n",
       "      <td>20667.263793</td>\n",
       "      <td>103053.152913</td>\n",
       "      <td>145017.937533</td>\n",
       "      <td>203435.067663</td>\n",
       "      <td>2265604.028723</td>\n",
       "    </tr>\n",
       "    <tr>\n",
       "      <th>purpose</th>\n",
       "      <td>21525</td>\n",
       "      <td>38</td>\n",
       "      <td>свадьба</td>\n",
       "      <td>797</td>\n",
       "      <td>NaN</td>\n",
       "      <td>NaN</td>\n",
       "      <td>NaN</td>\n",
       "      <td>NaN</td>\n",
       "      <td>NaN</td>\n",
       "      <td>NaN</td>\n",
       "      <td>NaN</td>\n",
       "    </tr>\n",
       "  </tbody>\n",
       "</table>\n",
       "</div>"
      ],
      "text/plain": [
       "                    count unique              top   freq           mean  \\\n",
       "children          21525.0    NaN              NaN    NaN       0.538908   \n",
       "days_employed     19351.0    NaN              NaN    NaN   63046.497661   \n",
       "dob_years         21525.0    NaN              NaN    NaN       43.29338   \n",
       "education           21525     15          среднее  13750            NaN   \n",
       "education_id      21525.0    NaN              NaN    NaN       0.817236   \n",
       "family_status       21525      5  женат / замужем  12380            NaN   \n",
       "family_status_id  21525.0    NaN              NaN    NaN       0.972544   \n",
       "gender              21525      3                F  14236            NaN   \n",
       "income_type         21525      8        сотрудник  11119            NaN   \n",
       "debt              21525.0    NaN              NaN    NaN       0.080883   \n",
       "total_income      19351.0    NaN              NaN    NaN  167422.302208   \n",
       "purpose             21525     38          свадьба    797            NaN   \n",
       "\n",
       "                            std           min            25%            50%  \\\n",
       "children               1.381587          -1.0            0.0            0.0   \n",
       "days_employed     140827.311974 -18388.949901   -2747.423625   -1203.369529   \n",
       "dob_years             12.574584           0.0           33.0           42.0   \n",
       "education                   NaN           NaN            NaN            NaN   \n",
       "education_id           0.548138           0.0            1.0            1.0   \n",
       "family_status               NaN           NaN            NaN            NaN   \n",
       "family_status_id       1.420324           0.0            0.0            0.0   \n",
       "gender                      NaN           NaN            NaN            NaN   \n",
       "income_type                 NaN           NaN            NaN            NaN   \n",
       "debt                   0.272661           0.0            0.0            0.0   \n",
       "total_income      102971.566448  20667.263793  103053.152913  145017.937533   \n",
       "purpose                     NaN           NaN            NaN            NaN   \n",
       "\n",
       "                            75%             max  \n",
       "children                    1.0            20.0  \n",
       "days_employed       -291.095954   401755.400475  \n",
       "dob_years                  53.0            75.0  \n",
       "education                   NaN             NaN  \n",
       "education_id                1.0             4.0  \n",
       "family_status               NaN             NaN  \n",
       "family_status_id            1.0             4.0  \n",
       "gender                      NaN             NaN  \n",
       "income_type                 NaN             NaN  \n",
       "debt                        0.0             1.0  \n",
       "total_income      203435.067663  2265604.028723  \n",
       "purpose                     NaN             NaN  "
      ]
     },
     "execution_count": 99,
     "metadata": {},
     "output_type": "execute_result"
    }
   ],
   "source": [
    "df.describe(include='all').T"
   ]
  },
  {
   "cell_type": "markdown",
   "id": "542e43c7",
   "metadata": {},
   "source": [
    "So, in the table **11** columns. Data type in columns — **int64,float64,object**.\n",
    "\n",
    "According to the data documentation:\n",
    "* **children** — number of children in the family\n",
    "* **days_employed** — total work experience in days\n",
    "* **dob_years** — client's age in years\n",
    "* **education** — the client's level of education\n",
    "* **education_id** — education level identifier\n",
    "* **family_status** — marital status\n",
    "* **family_status_id** — id of marital status\n",
    "* **gender** — gender\n",
    "* **income_type** — type of employment\n",
    "* **debt** — did I have a debt on repayment of loans\n",
    "* **total_income** — monthly income\n",
    "* **purpose** — purpose of obtaining a loan\n",
    "\n",
    "There are no style violations in column names.\n",
    "\n",
    "The number of values in the columns varies. So there are missing values in the data.\n",
    "\n",
    "In the columns with numeric values **children,days_employed,dob_years** already at this stage, you can notice artifacts - a negative number of days of total experience and the number of children, \"zero\" age of borrowers."
   ]
  },
  {
   "cell_type": "markdown",
   "id": "22f5c2c5",
   "metadata": {},
   "source": [
    "**Conclusion**\n",
    "\n",
    "Each row of the table contains data about the borrower. Most of the columns describe the social portrait of the borrower. The data in the debt column are key to the study - they answer the question about the credit quality of this borrower.\n",
    "Previously, it can be argued that there is enough data to test hypotheses. But there are missing values in the data.\n",
    "To move on, you need to process them."
   ]
  },
  {
   "cell_type": "markdown",
   "id": "d7b43528",
   "metadata": {},
   "source": [
    "___\n",
    "## Data preprocessing\n",
    "___\n",
    "Let's fill missing values. Then we will check the data for duplicates."
   ]
  },
  {
   "cell_type": "markdown",
   "id": "d430aa41",
   "metadata": {},
   "source": [
    "### Missing values\n",
    "Let's calculate how many missing values are in the table:"
   ]
  },
  {
   "cell_type": "code",
   "execution_count": 100,
   "id": "4082ccc1",
   "metadata": {},
   "outputs": [
    {
     "data": {
      "text/plain": [
       "children               0\n",
       "days_employed       2174\n",
       "dob_years              0\n",
       "education              0\n",
       "education_id           0\n",
       "family_status          0\n",
       "family_status_id       0\n",
       "gender                 0\n",
       "income_type            0\n",
       "debt                   0\n",
       "total_income        2174\n",
       "purpose                0\n",
       "dtype: int64"
      ]
     },
     "execution_count": 100,
     "metadata": {},
     "output_type": "execute_result"
    }
   ],
   "source": [
    "df.isna().sum()"
   ]
  },
  {
   "cell_type": "markdown",
   "id": "a50ec41d",
   "metadata": {},
   "source": [
    "Missing values do not affect the verification of all hypotheses. So in **total_income**, omissions are not important for testing hypotheses about the dependence of marital status and creditworthiness, but they are important for studying the dependence of creditworthiness on income level. Omissions in **days_employed** are not important for research.\n",
    "\n",
    "In practice, it would be correct to establish the reason for the omissions and restore the data. There is no such possibility in the training project. \n",
    "\n",
    "We have to:\n",
    "\n",
    "* fill in these gaps with explicit notation, \n",
    "* to assess how much they will damage the calculations."
   ]
  },
  {
   "cell_type": "markdown",
   "id": "0868434f",
   "metadata": {},
   "source": [
    "It is impractical to delete lines with omissions in the **days_employed** column, since these lines contain useful information about the number of children, marital status and the purpose of the loan, which will allow answering other questions posed before the study. Replace the gaps in it with 0."
   ]
  },
  {
   "cell_type": "code",
   "execution_count": 101,
   "id": "81831ea6",
   "metadata": {},
   "outputs": [],
   "source": [
    "df['days_employed'] = df['days_employed'].fillna(0)"
   ]
  },
  {
   "cell_type": "markdown",
   "id": "5ffd36d0",
   "metadata": {},
   "source": [
    "It is impossible to do the same with omissions in the **total_income** column, since in the future this may affect the consolidated income indicator for the entire column and, accordingly, conclusions about the dependence of creditworthiness on income.\n",
    "\n",
    "It would be more correct to replace the gaps in **total_income** with the median value for the column."
   ]
  },
  {
   "cell_type": "code",
   "execution_count": 102,
   "id": "92ac9cc1",
   "metadata": {},
   "outputs": [],
   "source": [
    "median_income = df['total_income'].median()\n",
    "df['total_income'] = df['total_income'].fillna(median_income)"
   ]
  },
  {
   "cell_type": "markdown",
   "id": "3be1bc42",
   "metadata": {},
   "source": [
    "Let's check that there are no more missing values:"
   ]
  },
  {
   "cell_type": "code",
   "execution_count": 103,
   "id": "3e2b67a7",
   "metadata": {
    "scrolled": true
   },
   "outputs": [
    {
     "data": {
      "text/plain": [
       "children            0\n",
       "days_employed       0\n",
       "dob_years           0\n",
       "education           0\n",
       "education_id        0\n",
       "family_status       0\n",
       "family_status_id    0\n",
       "gender              0\n",
       "income_type         0\n",
       "debt                0\n",
       "total_income        0\n",
       "purpose             0\n",
       "dtype: int64"
      ]
     },
     "execution_count": 103,
     "metadata": {},
     "output_type": "execute_result"
    }
   ],
   "source": [
    "df.isna().sum()"
   ]
  },
  {
   "cell_type": "markdown",
   "id": "6e2a8b15",
   "metadata": {},
   "source": [
    "The next step is to deal with the negative values in the **days_employed** column. Let's study for which type of employment negative values are displayed. Let's group the data by type of employment and find the maximum value of the length of service in days."
   ]
  },
  {
   "cell_type": "code",
   "execution_count": 104,
   "id": "c5eed80a",
   "metadata": {
    "scrolled": true
   },
   "outputs": [
    {
     "data": {
      "text/plain": [
       "income_type\n",
       "безработный        395302.838654\n",
       "в декрете           -3296.759962\n",
       "госслужащий             0.000000\n",
       "компаньон               0.000000\n",
       "пенсионер          401755.400475\n",
       "предприниматель         0.000000\n",
       "сотрудник               0.000000\n",
       "студент              -578.751554\n",
       "Name: days_employed, dtype: float64"
      ]
     },
     "execution_count": 104,
     "metadata": {},
     "output_type": "execute_result"
    }
   ],
   "source": [
    "df.groupby('income_type')['days_employed'].max()"
   ]
  },
  {
   "cell_type": "markdown",
   "id": "2f9887ce",
   "metadata": {},
   "source": [
    "It can be seen that positive values are characteristic only for \"unemployed\" population groups: \"unemployed\" and \"retired\". It seems that when uploading data for working groups of the population, a technical error occurred, displaying the length of service with a minus sign. If the task was to determine creditworthiness depending on the length of service, it would be necessary to clarify in the data source whether everything is really so. But since this change is not critical for research purposes, you can simply get the absolute value from the **days_employed** column to get rid of artifacts..\n",
    "\n",
    "To do this, we will get the absolute value from the column **'days_employed'** and add it to the new column **'abs_days_employed'**:"
   ]
  },
  {
   "cell_type": "code",
   "execution_count": 105,
   "id": "7faa49c5",
   "metadata": {
    "scrolled": true
   },
   "outputs": [],
   "source": [

    "df['abs_days_employed'] = df['days_employed'].abs()"
   ]
  },
  {
   "cell_type": "markdown",
   "id": "76bb6551",
   "metadata": {},
   "source": [
    "Output the top 5 lines for verification:"
   ]
  },
  {
   "cell_type": "code",
   "execution_count": 106,
   "id": "02f9411b",
   "metadata": {
    "scrolled": true
   },
   "outputs": [
    {
     "data": {
      "text/html": [
       "<div>\n",
       "<style scoped>\n",
       "    .dataframe tbody tr th:only-of-type {\n",
       "        vertical-align: middle;\n",
       "    }\n",
       "\n",
       "    .dataframe tbody tr th {\n",
       "        vertical-align: top;\n",
       "    }\n",
       "\n",
       "    .dataframe thead th {\n",
       "        text-align: right;\n",
       "    }\n",
       "</style>\n",
       "<table border=\"1\" class=\"dataframe\">\n",
       "  <thead>\n",
       "    <tr style=\"text-align: right;\">\n",
       "      <th></th>\n",
       "      <th>children</th>\n",
       "      <th>days_employed</th>\n",
       "      <th>dob_years</th>\n",
       "      <th>education</th>\n",
       "      <th>education_id</th>\n",
       "      <th>family_status</th>\n",
       "      <th>family_status_id</th>\n",
       "      <th>gender</th>\n",
       "      <th>income_type</th>\n",
       "      <th>debt</th>\n",
       "      <th>total_income</th>\n",
       "      <th>purpose</th>\n",
       "      <th>abs_days_employed</th>\n",
       "    </tr>\n",
       "  </thead>\n",
       "  <tbody>\n",
       "    <tr>\n",
       "      <th>0</th>\n",
       "      <td>1</td>\n",
       "      <td>-8437.673028</td>\n",
       "      <td>42</td>\n",
       "      <td>высшее</td>\n",
       "      <td>0</td>\n",
       "      <td>женат / замужем</td>\n",
       "      <td>0</td>\n",
       "      <td>F</td>\n",
       "      <td>сотрудник</td>\n",
       "      <td>0</td>\n",
       "      <td>253875.639453</td>\n",
       "      <td>покупка жилья</td>\n",
       "      <td>8437.673028</td>\n",
       "    </tr>\n",
       "    <tr>\n",
       "      <th>1</th>\n",
       "      <td>1</td>\n",
       "      <td>-4024.803754</td>\n",
       "      <td>36</td>\n",
       "      <td>среднее</td>\n",
       "      <td>1</td>\n",
       "      <td>женат / замужем</td>\n",
       "      <td>0</td>\n",
       "      <td>F</td>\n",
       "      <td>сотрудник</td>\n",
       "      <td>0</td>\n",
       "      <td>112080.014102</td>\n",
       "      <td>приобретение автомобиля</td>\n",
       "      <td>4024.803754</td>\n",
       "    </tr>\n",
       "    <tr>\n",
       "      <th>2</th>\n",
       "      <td>0</td>\n",
       "      <td>-5623.422610</td>\n",
       "      <td>33</td>\n",
       "      <td>Среднее</td>\n",
       "      <td>1</td>\n",
       "      <td>женат / замужем</td>\n",
       "      <td>0</td>\n",
       "      <td>M</td>\n",
       "      <td>сотрудник</td>\n",
       "      <td>0</td>\n",
       "      <td>145885.952297</td>\n",
       "      <td>покупка жилья</td>\n",
       "      <td>5623.422610</td>\n",
       "    </tr>\n",
       "    <tr>\n",
       "      <th>3</th>\n",
       "      <td>3</td>\n",
       "      <td>-4124.747207</td>\n",
       "      <td>32</td>\n",
       "      <td>среднее</td>\n",
       "      <td>1</td>\n",
       "      <td>женат / замужем</td>\n",
       "      <td>0</td>\n",
       "      <td>M</td>\n",
       "      <td>сотрудник</td>\n",
       "      <td>0</td>\n",
       "      <td>267628.550329</td>\n",
       "      <td>дополнительное образование</td>\n",
       "      <td>4124.747207</td>\n",
       "    </tr>\n",
       "    <tr>\n",
       "      <th>4</th>\n",
       "      <td>0</td>\n",
       "      <td>340266.072047</td>\n",
       "      <td>53</td>\n",
       "      <td>среднее</td>\n",
       "      <td>1</td>\n",
       "      <td>гражданский брак</td>\n",
       "      <td>1</td>\n",
       "      <td>F</td>\n",
       "      <td>пенсионер</td>\n",
       "      <td>0</td>\n",
       "      <td>158616.077870</td>\n",
       "      <td>сыграть свадьбу</td>\n",
       "      <td>340266.072047</td>\n",
       "    </tr>\n",
       "  </tbody>\n",
       "</table>\n",
       "</div>"
      ],
      "text/plain": [
       "   children  days_employed  dob_years education  education_id  \\\n",
       "0         1   -8437.673028         42    высшее             0   \n",
       "1         1   -4024.803754         36   среднее             1   \n",
       "2         0   -5623.422610         33   Среднее             1   \n",
       "3         3   -4124.747207         32   среднее             1   \n",
       "4         0  340266.072047         53   среднее             1   \n",
       "\n",
       "      family_status  family_status_id gender income_type  debt   total_income  \\\n",
       "0   женат / замужем                 0      F   сотрудник     0  253875.639453   \n",
       "1   женат / замужем                 0      F   сотрудник     0  112080.014102   \n",
       "2   женат / замужем                 0      M   сотрудник     0  145885.952297   \n",
       "3   женат / замужем                 0      M   сотрудник     0  267628.550329   \n",
       "4  гражданский брак                 1      F   пенсионер     0  158616.077870   \n",
       "\n",
       "                      purpose  abs_days_employed  \n",
       "0               покупка жилья        8437.673028  \n",
       "1     приобретение автомобиля        4024.803754  \n",
       "2               покупка жилья        5623.422610  \n",
       "3  дополнительное образование        4124.747207  \n",
       "4             сыграть свадьбу      340266.072047  "
      ]
     },
     "metadata": {},
     "output_type": "display_data"
    }
   ],
   "source": [
    "#df['abs_days_employed'] = df['days_employed'].apply(absolute) #Initial version of the code\n",
    "display(df.head())"
   ]
  },
  {
   "cell_type": "markdown",
   "id": "f192c8cd",
   "metadata": {},
   "source": [
    "Absolute values are obtained. You can delete a column **days_employed**:"
   ]
  },
  {
   "cell_type": "code",
   "execution_count": 107,
   "id": "d8c3d0ef",
   "metadata": {},
   "outputs": [
    {
     "data": {
      "text/html": [
       "<div>\n",
       "<style scoped>\n",
       "    .dataframe tbody tr th:only-of-type {\n",
       "        vertical-align: middle;\n",
       "    }\n",
       "\n",
       "    .dataframe tbody tr th {\n",
       "        vertical-align: top;\n",
       "    }\n",
       "\n",
       "    .dataframe thead th {\n",
       "        text-align: right;\n",
       "    }\n",
       "</style>\n",
       "<table border=\"1\" class=\"dataframe\">\n",
       "  <thead>\n",
       "    <tr style=\"text-align: right;\">\n",
       "      <th></th>\n",
       "      <th>children</th>\n",
       "      <th>dob_years</th>\n",
       "      <th>education</th>\n",
       "      <th>education_id</th>\n",
       "      <th>family_status</th>\n",
       "      <th>family_status_id</th>\n",
       "      <th>gender</th>\n",
       "      <th>income_type</th>\n",
       "      <th>debt</th>\n",
       "      <th>total_income</th>\n",
       "      <th>purpose</th>\n",
       "      <th>abs_days_employed</th>\n",
       "    </tr>\n",
       "  </thead>\n",
       "  <tbody>\n",
       "    <tr>\n",
       "      <th>0</th>\n",
       "      <td>1</td>\n",
       "      <td>42</td>\n",
       "      <td>высшее</td>\n",
       "      <td>0</td>\n",
       "      <td>женат / замужем</td>\n",
       "      <td>0</td>\n",
       "      <td>F</td>\n",
       "      <td>сотрудник</td>\n",
       "      <td>0</td>\n",
       "      <td>253875.639453</td>\n",
       "      <td>покупка жилья</td>\n",
       "      <td>8437.673028</td>\n",
       "    </tr>\n",
       "    <tr>\n",
       "      <th>1</th>\n",
       "      <td>1</td>\n",
       "      <td>36</td>\n",
       "      <td>среднее</td>\n",
       "      <td>1</td>\n",
       "      <td>женат / замужем</td>\n",
       "      <td>0</td>\n",
       "      <td>F</td>\n",
       "      <td>сотрудник</td>\n",
       "      <td>0</td>\n",
       "      <td>112080.014102</td>\n",
       "      <td>приобретение автомобиля</td>\n",
       "      <td>4024.803754</td>\n",
       "    </tr>\n",
       "    <tr>\n",
       "      <th>2</th>\n",
       "      <td>0</td>\n",
       "      <td>33</td>\n",
       "      <td>Среднее</td>\n",
       "      <td>1</td>\n",
       "      <td>женат / замужем</td>\n",
       "      <td>0</td>\n",
       "      <td>M</td>\n",
       "      <td>сотрудник</td>\n",
       "      <td>0</td>\n",
       "      <td>145885.952297</td>\n",
       "      <td>покупка жилья</td>\n",
       "      <td>5623.422610</td>\n",
       "    </tr>\n",
       "    <tr>\n",
       "      <th>3</th>\n",
       "      <td>3</td>\n",
       "      <td>32</td>\n",
       "      <td>среднее</td>\n",
       "      <td>1</td>\n",
       "      <td>женат / замужем</td>\n",
       "      <td>0</td>\n",
       "      <td>M</td>\n",
       "      <td>сотрудник</td>\n",
       "      <td>0</td>\n",
       "      <td>267628.550329</td>\n",
       "      <td>дополнительное образование</td>\n",
       "      <td>4124.747207</td>\n",
       "    </tr>\n",
       "    <tr>\n",
       "      <th>4</th>\n",
       "      <td>0</td>\n",
       "      <td>53</td>\n",
       "      <td>среднее</td>\n",
       "      <td>1</td>\n",
       "      <td>гражданский брак</td>\n",
       "      <td>1</td>\n",
       "      <td>F</td>\n",
       "      <td>пенсионер</td>\n",
       "      <td>0</td>\n",
       "      <td>158616.077870</td>\n",
       "      <td>сыграть свадьбу</td>\n",
       "      <td>340266.072047</td>\n",
       "    </tr>\n",
       "  </tbody>\n",
       "</table>\n",
       "</div>"
      ],
      "text/plain": [
       "   children  dob_years education  education_id     family_status  \\\n",
       "0         1         42    высшее             0   женат / замужем   \n",
       "1         1         36   среднее             1   женат / замужем   \n",
       "2         0         33   Среднее             1   женат / замужем   \n",
       "3         3         32   среднее             1   женат / замужем   \n",
       "4         0         53   среднее             1  гражданский брак   \n",
       "\n",
       "   family_status_id gender income_type  debt   total_income  \\\n",
       "0                 0      F   сотрудник     0  253875.639453   \n",
       "1                 0      F   сотрудник     0  112080.014102   \n",
       "2                 0      M   сотрудник     0  145885.952297   \n",
       "3                 0      M   сотрудник     0  267628.550329   \n",
       "4                 1      F   пенсионер     0  158616.077870   \n",
       "\n",
       "                      purpose  abs_days_employed  \n",
       "0               покупка жилья        8437.673028  \n",
       "1     приобретение автомобиля        4024.803754  \n",
       "2               покупка жилья        5623.422610  \n",
       "3  дополнительное образование        4124.747207  \n",
       "4             сыграть свадьбу      340266.072047  "
      ]
     },
     "metadata": {},
     "output_type": "display_data"
    }
   ],
   "source": [
    "del df['days_employed']\n",
    "display(df.head())"
   ]
  },
  {
   "cell_type": "markdown",
   "id": "5f4f7050",
   "metadata": {},
   "source": [
    "### Duplicates"
   ]
  },
  {
   "cell_type": "markdown",
   "id": "a795fb6d",
   "metadata": {},
   "source": [
    "Let's check the number of possible duplicates in the column **children**:"
   ]
  },
  {
   "cell_type": "code",
   "execution_count": 108,
   "id": "cdfcad05",
   "metadata": {},
   "outputs": [
    {
     "data": {
      "text/plain": [
       " 0     14149\n",
       " 1      4818\n",
       " 2      2055\n",
       " 3       330\n",
       " 20       76\n",
       "-1        47\n",
       " 4        41\n",
       " 5         9\n",
       "Name: children, dtype: int64"
      ]
     },
     "execution_count": 108,
     "metadata": {},
     "output_type": "execute_result"
    }
   ],
   "source": [
    "df['children'].value_counts()"
   ]
  },
  {
   "cell_type": "markdown",
   "id": "bd83bc08",
   "metadata": {},
   "source": [
    "Due to the lack of an opportunity to clarify the information and compare it with the semantic values in other columns, we will replace the incorrect values:"
   ]
  },
  {
   "cell_type": "code",
   "execution_count": 109,
   "id": "8b40af7c",
   "metadata": {
    "scrolled": false
   },
   "outputs": [
    {
     "data": {
      "text/plain": [
       "0    14149\n",
       "1     4865\n",
       "2     2131\n",
       "3      330\n",
       "4       41\n",
       "5        9\n",
       "Name: children, dtype: int64"
      ]
     },
     "execution_count": 109,
     "metadata": {},
     "output_type": "execute_result"
    }
   ],
   "source": [
    "try:\n",
    "    df['children'] = df['children'].replace(-1,1)\n",
    "    df['children'] = df['children'].replace(20,2)\n",
    "except:\n",
    "    print('Искомое значение не найдено')\n",
    "    \n",
    "df['children'].value_counts()"
   ]
  },
  {
   "cell_type": "markdown",
   "id": "49ea9edc",
   "metadata": {},
   "source": [
    "Replacements were made, there were no errors during replacement."
   ]
  },
  {
   "cell_type": "markdown",
   "id": "9c7e3759",
   "metadata": {},
   "source": [
    "Next, check for errors and duplicates in the column with the age value **dob_years**:"
   ]
  },
  {
   "cell_type": "code",
   "execution_count": 110,
   "id": "5f5f36ae",
   "metadata": {
    "scrolled": false
   },
   "outputs": [
    {
     "data": {
      "text/plain": [
       "array([42, 36, 33, 32, 53, 27, 43, 50, 35, 41, 40, 65, 54, 56, 26, 48, 24,\n",
       "       21, 57, 67, 28, 63, 62, 47, 34, 68, 25, 31, 30, 20, 49, 37, 45, 61,\n",
       "       64, 44, 52, 46, 23, 38, 39, 51,  0, 59, 29, 60, 55, 58, 71, 22, 73,\n",
       "       66, 69, 19, 72, 70, 74, 75])"
      ]
     },
     "execution_count": 110,
     "metadata": {},
     "output_type": "execute_result"
    }
   ],
   "source": [
    "df['dob_years'].unique()"
   ]
  },
  {
   "cell_type": "markdown",
   "id": "3a7629d6",
   "metadata": {},
   "source": [
    "There are incorrect values in the age data: the age of some people is not specified, the value is \"0\". Replace it with the median value."
   ]
  },
  {
   "cell_type": "code",
   "execution_count": 111,
   "id": "245ab5cd",
   "metadata": {},
   "outputs": [
    {
     "data": {
      "text/plain": [
       "array([42., 36., 33., 32., 53., 27., 43., 50., 35., 41., 40., 65., 54.,\n",
       "       56., 26., 48., 24., 21., 57., 67., 28., 63., 62., 47., 34., 68.,\n",
       "       25., 31., 30., 20., 49., 37., 45., 61., 64., 44., 52., 46., 23.,\n",
       "       38., 39., 51., 59., 29., 60., 55., 58., 71., 22., 73., 66., 69.,\n",
       "       19., 72., 70., 74., 75.])"
      ]
     },
     "execution_count": 111,
     "metadata": {},
     "output_type": "execute_result"
    }
   ],
   "source": [
    "df['dob_years'] = df['dob_years'].replace(0,df['dob_years'].median())\n",
    "df['dob_years'].unique()"
   ]
  },
  {
   "cell_type": "markdown",
   "id": "b017413c",
   "metadata": {},
   "source": [
    "The replacement was made correctly. Now let's check the data on the gender of borrowers in the column **gender**:"
   ]
  },
  {
   "cell_type": "code",
   "execution_count": 112,
   "id": "26e374bd",
   "metadata": {
    "scrolled": true
   },
   "outputs": [
    {
     "data": {
      "text/plain": [
       "F      14236\n",
       "M       7288\n",
       "XNA        1\n",
       "Name: gender, dtype: int64"
      ]
     },
     "execution_count": 112,
     "metadata": {},
     "output_type": "execute_result"
    }
   ],
   "source": [
    "df['gender'].value_counts()"
   ]
  },
  {
   "cell_type": "markdown",
   "id": "199d1f00",
   "metadata": {},
   "source": [
    "As you can see, there is an artifact - \"XNA\". Since there are 2 times more women in the sample, the probability that the unspecified gender of the borrower was also female is higher. Let's add this value."
   ]
  },
  {
   "cell_type": "code",
   "execution_count": 113,
   "id": "80c3455c",
   "metadata": {
    "scrolled": true
   },
   "outputs": [
    {
     "data": {
      "text/plain": [
       "F    14237\n",
       "M     7288\n",
       "Name: gender, dtype: int64"
      ]
     },
     "execution_count": 113,
     "metadata": {},
     "output_type": "execute_result"
    }
   ],
   "source": [
    "df['gender'] = df['gender'].replace('XNA','F')\n",
    "df['gender'].value_counts()"
   ]
  },
  {
   "cell_type": "markdown",
   "id": "93bc7fbe",
   "metadata": {},
   "source": [
    "The replacement was made correctly."
   ]
  },
  {
   "cell_type": "markdown",
   "id": "c4c8f2b9",
   "metadata": {},
   "source": [
    "Next, check the number of possible duplicates in the column **family_status**:"
   ]
  },
  {
   "cell_type": "code",
   "execution_count": 114,
   "id": "0b7b64be",
   "metadata": {},
   "outputs": [
    {
     "data": {
      "text/plain": [
       "женат / замужем          12380\n",
       "гражданский брак          4177\n",
       "Не женат / не замужем     2813\n",
       "в разводе                 1195\n",
       "вдовец / вдова             960\n",
       "Name: family_status, dtype: int64"
      ]
     },
     "execution_count": 114,
     "metadata": {},
     "output_type": "execute_result"
    }
   ],
   "source": [
    "df['family_status'].value_counts()"
   ]
  },
  {
   "cell_type": "markdown",
   "id": "8818642c",
   "metadata": {},
   "source": [
    "There are no duplicates in this column. Also in the table we see the column **family_status_id**. Let's compare its values with the column**family_status**"
   ]
  },
  {
   "cell_type": "code",
   "execution_count": 115,
   "id": "42d113e4",
   "metadata": {
    "scrolled": true
   },
   "outputs": [
    {
     "data": {
      "text/plain": [
       "family_status\n",
       "Не женат / не замужем    4\n",
       "в разводе                3\n",
       "вдовец / вдова           2\n",
       "гражданский брак         1\n",
       "женат / замужем          0\n",
       "Name: family_status_id, dtype: int64"
      ]
     },
     "execution_count": 115,
     "metadata": {},
     "output_type": "execute_result"
    }
   ],
   "source": [
    "df.groupby('family_status')['family_status_id'].mean()"
   ]
  },
  {
   "cell_type": "markdown",
   "id": "21b2ccf5",
   "metadata": {},
   "source": [
    "We see that each specific status corresponds to a specific id. In order to facilitate the dataframe, you can put redundant data in a separate table and remove duplicates from it."
   ]
  },
  {
   "cell_type": "code",
   "execution_count": 116,
   "id": "7b4df971",
   "metadata": {
    "scrolled": true
   },
   "outputs": [
    {
     "name": "stdout",
     "output_type": "stream",
     "text": [
      "           family_status  family_status_id\n",
      "0        женат / замужем                 0\n",
      "1       гражданский брак                 1\n",
      "2         вдовец / вдова                 2\n",
      "3              в разводе                 3\n",
      "4  Не женат / не замужем                 4\n"
     ]
    }
   ],
   "source": [
    "family_status_dict = df[['family_status','family_status_id']]\n",
    "family_status_dict = family_status_dict.drop_duplicates().reset_index(drop=True)\n",
    "print(family_status_dict)"
   ]
  },
  {
   "cell_type": "markdown",
   "id": "b45d24ba",
   "metadata": {},
   "source": [
    "You can delete the **family_status** column from the main df table:"
   ]
  },
  {
   "cell_type": "code",
   "execution_count": 117,
   "id": "73372ba5",
   "metadata": {
    "scrolled": false
   },
   "outputs": [
    {
     "data": {
      "text/html": [
       "<div>\n",
       "<style scoped>\n",
       "    .dataframe tbody tr th:only-of-type {\n",
       "        vertical-align: middle;\n",
       "    }\n",
       "\n",
       "    .dataframe tbody tr th {\n",
       "        vertical-align: top;\n",
       "    }\n",
       "\n",
       "    .dataframe thead th {\n",
       "        text-align: right;\n",
       "    }\n",
       "</style>\n",
       "<table border=\"1\" class=\"dataframe\">\n",
       "  <thead>\n",
       "    <tr style=\"text-align: right;\">\n",
       "      <th></th>\n",
       "      <th>children</th>\n",
       "      <th>dob_years</th>\n",
       "      <th>education</th>\n",
       "      <th>education_id</th>\n",
       "      <th>family_status_id</th>\n",
       "      <th>gender</th>\n",
       "      <th>income_type</th>\n",
       "      <th>debt</th>\n",
       "      <th>total_income</th>\n",
       "      <th>purpose</th>\n",
       "      <th>abs_days_employed</th>\n",
       "    </tr>\n",
       "  </thead>\n",
       "  <tbody>\n",
       "    <tr>\n",
       "      <th>0</th>\n",
       "      <td>1</td>\n",
       "      <td>42.0</td>\n",
       "      <td>высшее</td>\n",
       "      <td>0</td>\n",
       "      <td>0</td>\n",
       "      <td>F</td>\n",
       "      <td>сотрудник</td>\n",
       "      <td>0</td>\n",
       "      <td>253875.639453</td>\n",
       "      <td>покупка жилья</td>\n",
       "      <td>8437.673028</td>\n",
       "    </tr>\n",
       "    <tr>\n",
       "      <th>1</th>\n",
       "      <td>1</td>\n",
       "      <td>36.0</td>\n",
       "      <td>среднее</td>\n",
       "      <td>1</td>\n",
       "      <td>0</td>\n",
       "      <td>F</td>\n",
       "      <td>сотрудник</td>\n",
       "      <td>0</td>\n",
       "      <td>112080.014102</td>\n",
       "      <td>приобретение автомобиля</td>\n",
       "      <td>4024.803754</td>\n",
       "    </tr>\n",
       "    <tr>\n",
       "      <th>2</th>\n",
       "      <td>0</td>\n",
       "      <td>33.0</td>\n",
       "      <td>Среднее</td>\n",
       "      <td>1</td>\n",
       "      <td>0</td>\n",
       "      <td>M</td>\n",
       "      <td>сотрудник</td>\n",
       "      <td>0</td>\n",
       "      <td>145885.952297</td>\n",
       "      <td>покупка жилья</td>\n",
       "      <td>5623.422610</td>\n",
       "    </tr>\n",
       "    <tr>\n",
       "      <th>3</th>\n",
       "      <td>3</td>\n",
       "      <td>32.0</td>\n",
       "      <td>среднее</td>\n",
       "      <td>1</td>\n",
       "      <td>0</td>\n",
       "      <td>M</td>\n",
       "      <td>сотрудник</td>\n",
       "      <td>0</td>\n",
       "      <td>267628.550329</td>\n",
       "      <td>дополнительное образование</td>\n",
       "      <td>4124.747207</td>\n",
       "    </tr>\n",
       "    <tr>\n",
       "      <th>4</th>\n",
       "      <td>0</td>\n",
       "      <td>53.0</td>\n",
       "      <td>среднее</td>\n",
       "      <td>1</td>\n",
       "      <td>1</td>\n",
       "      <td>F</td>\n",
       "      <td>пенсионер</td>\n",
       "      <td>0</td>\n",
       "      <td>158616.077870</td>\n",
       "      <td>сыграть свадьбу</td>\n",
       "      <td>340266.072047</td>\n",
       "    </tr>\n",
       "  </tbody>\n",
       "</table>\n",
       "</div>"
      ],
      "text/plain": [
       "   children  dob_years education  education_id  family_status_id gender  \\\n",
       "0         1       42.0    высшее             0                 0      F   \n",
       "1         1       36.0   среднее             1                 0      F   \n",
       "2         0       33.0   Среднее             1                 0      M   \n",
       "3         3       32.0   среднее             1                 0      M   \n",
       "4         0       53.0   среднее             1                 1      F   \n",
       "\n",
       "  income_type  debt   total_income                     purpose  \\\n",
       "0   сотрудник     0  253875.639453               покупка жилья   \n",
       "1   сотрудник     0  112080.014102     приобретение автомобиля   \n",
       "2   сотрудник     0  145885.952297               покупка жилья   \n",
       "3   сотрудник     0  267628.550329  дополнительное образование   \n",
       "4   пенсионер     0  158616.077870             сыграть свадьбу   \n",
       "\n",
       "   abs_days_employed  \n",
       "0        8437.673028  \n",
       "1        4024.803754  \n",
       "2        5623.422610  \n",
       "3        4124.747207  \n",
       "4      340266.072047  "
      ]
     },
     "metadata": {},
     "output_type": "display_data"
    }
   ],
   "source": [
    "del df['family_status']\n",
    "display(df.head())"
   ]
  },
  {
   "cell_type": "markdown",
   "id": "f54fbce2",
   "metadata": {},
   "source": [
    "The same should be done with columns about education, provided that there are no discrepancies in the data and a strictly defined id corresponds to a certain value for education. To do this, we will output the average id for each value, since the slightest deviation from the integer will show the presence of different IDs for the same level of education:"
   ]
  },
  {
   "cell_type": "code",
   "execution_count": 118,
   "id": "04dc67a1",
   "metadata": {},
   "outputs": [
    {
     "data": {
      "text/plain": [
       "education\n",
       "ВЫСШЕЕ                 0\n",
       "Высшее                 0\n",
       "НАЧАЛЬНОЕ              3\n",
       "НЕОКОНЧЕННОЕ ВЫСШЕЕ    2\n",
       "Начальное              3\n",
       "Неоконченное высшее    2\n",
       "СРЕДНЕЕ                1\n",
       "Среднее                1\n",
       "УЧЕНАЯ СТЕПЕНЬ         4\n",
       "Ученая степень         4\n",
       "высшее                 0\n",
       "начальное              3\n",
       "неоконченное высшее    2\n",
       "среднее                1\n",
       "ученая степень         4\n",
       "Name: education_id, dtype: int64"
      ]
     },
     "execution_count": 118,
     "metadata": {},
     "output_type": "execute_result"
    }
   ],
   "source": [
    "df.groupby('education')['education_id'].mean()"
   ]
  },
  {
   "cell_type": "markdown",
   "id": "fa02674d",
   "metadata": {},
   "source": [
    "All numbers are integers, so a specific id corresponds to a specific level of education. At the same time, there are hidden duplicates, which can be disposed of in a separate table:"
   ]
  },
  {
   "cell_type": "code",
   "execution_count": 119,
   "id": "ee97b9bd",
   "metadata": {
    "scrolled": true
   },
   "outputs": [
    {
     "data": {
      "text/plain": [
       "education_lowercase\n",
       "высшее                 0\n",
       "среднее                1\n",
       "неоконченное высшее    2\n",
       "начальное              3\n",
       "ученая степень         4\n",
       "Name: education_id, dtype: int64"
      ]
     },
     "metadata": {},
     "output_type": "display_data"
    }
   ],
   "source": [
    "pd.options.mode.chained_assignment = None\n",
    "education_dict = df[['education','education_id']]\n",
    "education_dict['education_lowercase'] = education_dict['education'].str.lower()\n",
    "education_dict = education_dict.groupby('education_lowercase')['education_id'].mean().sort_values()\n",
    "display(education_dict)"
   ]
  },
  {
   "cell_type": "markdown",
   "id": "cd7b153d",
   "metadata": {},
   "source": [
    "You can delete the **education** column from the main df table:"
   ]
  },
  {
   "cell_type": "code",
   "execution_count": 120,
   "id": "399380ac",
   "metadata": {
    "scrolled": true
   },
   "outputs": [
    {
     "data": {
      "text/html": [
       "<div>\n",
       "<style scoped>\n",
       "    .dataframe tbody tr th:only-of-type {\n",
       "        vertical-align: middle;\n",
       "    }\n",
       "\n",
       "    .dataframe tbody tr th {\n",
       "        vertical-align: top;\n",
       "    }\n",
       "\n",
       "    .dataframe thead th {\n",
       "        text-align: right;\n",
       "    }\n",
       "</style>\n",
       "<table border=\"1\" class=\"dataframe\">\n",
       "  <thead>\n",
       "    <tr style=\"text-align: right;\">\n",
       "      <th></th>\n",
       "      <th>children</th>\n",
       "      <th>dob_years</th>\n",
       "      <th>education_id</th>\n",
       "      <th>family_status_id</th>\n",
       "      <th>gender</th>\n",
       "      <th>income_type</th>\n",
       "      <th>debt</th>\n",
       "      <th>total_income</th>\n",
       "      <th>purpose</th>\n",
       "      <th>abs_days_employed</th>\n",
       "    </tr>\n",
       "  </thead>\n",
       "  <tbody>\n",
       "    <tr>\n",
       "      <th>0</th>\n",
       "      <td>1</td>\n",
       "      <td>42.0</td>\n",
       "      <td>0</td>\n",
       "      <td>0</td>\n",
       "      <td>F</td>\n",
       "      <td>сотрудник</td>\n",
       "      <td>0</td>\n",
       "      <td>253875.639453</td>\n",
       "      <td>покупка жилья</td>\n",
       "      <td>8437.673028</td>\n",
       "    </tr>\n",
       "    <tr>\n",
       "      <th>1</th>\n",
       "      <td>1</td>\n",
       "      <td>36.0</td>\n",
       "      <td>1</td>\n",
       "      <td>0</td>\n",
       "      <td>F</td>\n",
       "      <td>сотрудник</td>\n",
       "      <td>0</td>\n",
       "      <td>112080.014102</td>\n",
       "      <td>приобретение автомобиля</td>\n",
       "      <td>4024.803754</td>\n",
       "    </tr>\n",
       "    <tr>\n",
       "      <th>2</th>\n",
       "      <td>0</td>\n",
       "      <td>33.0</td>\n",
       "      <td>1</td>\n",
       "      <td>0</td>\n",
       "      <td>M</td>\n",
       "      <td>сотрудник</td>\n",
       "      <td>0</td>\n",
       "      <td>145885.952297</td>\n",
       "      <td>покупка жилья</td>\n",
       "      <td>5623.422610</td>\n",
       "    </tr>\n",
       "    <tr>\n",
       "      <th>3</th>\n",
       "      <td>3</td>\n",
       "      <td>32.0</td>\n",
       "      <td>1</td>\n",
       "      <td>0</td>\n",
       "      <td>M</td>\n",
       "      <td>сотрудник</td>\n",
       "      <td>0</td>\n",
       "      <td>267628.550329</td>\n",
       "      <td>дополнительное образование</td>\n",
       "      <td>4124.747207</td>\n",
       "    </tr>\n",
       "    <tr>\n",
       "      <th>4</th>\n",
       "      <td>0</td>\n",
       "      <td>53.0</td>\n",
       "      <td>1</td>\n",
       "      <td>1</td>\n",
       "      <td>F</td>\n",
       "      <td>пенсионер</td>\n",
       "      <td>0</td>\n",
       "      <td>158616.077870</td>\n",
       "      <td>сыграть свадьбу</td>\n",
       "      <td>340266.072047</td>\n",
       "    </tr>\n",
       "  </tbody>\n",
       "</table>\n",
       "</div>"
      ],
      "text/plain": [
       "   children  dob_years  education_id  family_status_id gender income_type  \\\n",
       "0         1       42.0             0                 0      F   сотрудник   \n",
       "1         1       36.0             1                 0      F   сотрудник   \n",
       "2         0       33.0             1                 0      M   сотрудник   \n",
       "3         3       32.0             1                 0      M   сотрудник   \n",
       "4         0       53.0             1                 1      F   пенсионер   \n",
       "\n",
       "   debt   total_income                     purpose  abs_days_employed  \n",
       "0     0  253875.639453               покупка жилья        8437.673028  \n",
       "1     0  112080.014102     приобретение автомобиля        4024.803754  \n",
       "2     0  145885.952297               покупка жилья        5623.422610  \n",
       "3     0  267628.550329  дополнительное образование        4124.747207  \n",
       "4     0  158616.077870             сыграть свадьбу      340266.072047  "
      ]
     },
     "metadata": {},
     "output_type": "display_data"
    }
   ],
   "source": [
    "del df['education']\n",
    "display(df.head())"
   ]
  },
  {
   "cell_type": "markdown",
   "id": "1191f5c0",
   "metadata": {},
   "source": [
    "The final stage of error handling is to count explicit duplicates:"
   ]
  },
  {
   "cell_type": "code",
   "execution_count": 121,
   "id": "83a53ca1",
   "metadata": {},
   "outputs": [
    {
     "name": "stdout",
     "output_type": "stream",
     "text": [
      "Number of explicit duplicates: 72\n"
     ]
    }
   ],
   "source": [
    "print(\"Number of explicit duplicates: {}\".format(df.duplicated().sum()))"
   ]
  },
  {
   "cell_type": "markdown",
   "id": "3c0ad2b4",
   "metadata": {},
   "source": [
    "Let's remove the explicit duplicates:"
   ]
  },
  {
   "cell_type": "code",
   "execution_count": 122,
   "id": "792609b2",
   "metadata": {},
   "outputs": [],
   "source": [
    "df = df.drop_duplicates().reset_index(drop=True)"
   ]
  },
  {
   "cell_type": "markdown",
   "id": "b8049439",
   "metadata": {},
   "source": [
    "Let's check that the explicit duplicates are removed:"
   ]
  },
  {
   "cell_type": "code",
   "execution_count": 123,
   "id": "855c381a",
   "metadata": {
    "scrolled": false
   },
   "outputs": [
    {
     "name": "stdout",
     "output_type": "stream",
     "text": [
      "Number of explicit duplicates: 0\n"
     ]
    }
   ],
   "source": [
    "#print(\"Number of explicit duplicates: {}\".format(df.duplicated().sum()))\n",
    "print(f\"Number of explicit duplicates: {df.duplicated().sum()}\")"
   ]
  },
  {
   "cell_type": "markdown",
   "id": "570348b5",
   "metadata": {},
   "source": [
    "### Categorization"
   ]
  },
  {
   "cell_type": "markdown",
   "id": "7c566a9b",
   "metadata": {},
   "source": [
    "To answer the question about the dependence of the presence of children and the repayment of the loan on time, it is necessary to add a column in which information about the very fact of having children, and not about their number, will be reflected. To do this, write the appropriate function and apply it:"
   ]
  },
  {
   "cell_type": "code",
   "execution_count": 124,
   "id": "fc8b711f",
   "metadata": {},
   "outputs": [],
   "source": [
    "def has_children(children):\n",
    "    if children >= 1:\n",
    "        return 'there are children'\n",
    "    else:\n",
    "        return 'no children'"
   ]
  },
  {
   "cell_type": "code",
   "execution_count": 125,
   "id": "1d8bae0e",
   "metadata": {
    "scrolled": true
   },
   "outputs": [
    {
     "data": {
      "text/html": [
       "<div>\n",
       "<style scoped>\n",
       "    .dataframe tbody tr th:only-of-type {\n",
       "        vertical-align: middle;\n",
       "    }\n",
       "\n",
       "    .dataframe tbody tr th {\n",
       "        vertical-align: top;\n",
       "    }\n",
       "\n",
       "    .dataframe thead th {\n",
       "        text-align: right;\n",
       "    }\n",
       "</style>\n",
       "<table border=\"1\" class=\"dataframe\">\n",
       "  <thead>\n",
       "    <tr style=\"text-align: right;\">\n",
       "      <th></th>\n",
       "      <th>children</th>\n",
       "      <th>dob_years</th>\n",
       "      <th>education_id</th>\n",
       "      <th>family_status_id</th>\n",
       "      <th>gender</th>\n",
       "      <th>income_type</th>\n",
       "      <th>debt</th>\n",
       "      <th>total_income</th>\n",
       "      <th>purpose</th>\n",
       "      <th>abs_days_employed</th>\n",
       "      <th>has_children</th>\n",
       "    </tr>\n",
       "  </thead>\n",
       "  <tbody>\n",
       "    <tr>\n",
       "      <th>0</th>\n",
       "      <td>1</td>\n",
       "      <td>42.0</td>\n",
       "      <td>0</td>\n",
       "      <td>0</td>\n",
       "      <td>F</td>\n",
       "      <td>сотрудник</td>\n",
       "      <td>0</td>\n",
       "      <td>253875.639453</td>\n",
       "      <td>покупка жилья</td>\n",
       "      <td>8437.673028</td>\n",
       "      <td>есть дети</td>\n",
       "    </tr>\n",
       "    <tr>\n",
       "      <th>1</th>\n",
       "      <td>1</td>\n",
       "      <td>36.0</td>\n",
       "      <td>1</td>\n",
       "      <td>0</td>\n",
       "      <td>F</td>\n",
       "      <td>сотрудник</td>\n",
       "      <td>0</td>\n",
       "      <td>112080.014102</td>\n",
       "      <td>приобретение автомобиля</td>\n",
       "      <td>4024.803754</td>\n",
       "      <td>есть дети</td>\n",
       "    </tr>\n",
       "    <tr>\n",
       "      <th>2</th>\n",
       "      <td>0</td>\n",
       "      <td>33.0</td>\n",
       "      <td>1</td>\n",
       "      <td>0</td>\n",
       "      <td>M</td>\n",
       "      <td>сотрудник</td>\n",
       "      <td>0</td>\n",
       "      <td>145885.952297</td>\n",
       "      <td>покупка жилья</td>\n",
       "      <td>5623.422610</td>\n",
       "      <td>детей нет</td>\n",
       "    </tr>\n",
       "    <tr>\n",
       "      <th>3</th>\n",
       "      <td>3</td>\n",
       "      <td>32.0</td>\n",
       "      <td>1</td>\n",
       "      <td>0</td>\n",
       "      <td>M</td>\n",
       "      <td>сотрудник</td>\n",
       "      <td>0</td>\n",
       "      <td>267628.550329</td>\n",
       "      <td>дополнительное образование</td>\n",
       "      <td>4124.747207</td>\n",
       "      <td>есть дети</td>\n",
       "    </tr>\n",
       "    <tr>\n",
       "      <th>4</th>\n",
       "      <td>0</td>\n",
       "      <td>53.0</td>\n",
       "      <td>1</td>\n",
       "      <td>1</td>\n",
       "      <td>F</td>\n",
       "      <td>пенсионер</td>\n",
       "      <td>0</td>\n",
       "      <td>158616.077870</td>\n",
       "      <td>сыграть свадьбу</td>\n",
       "      <td>340266.072047</td>\n",
       "      <td>детей нет</td>\n",
       "    </tr>\n",
       "    <tr>\n",
       "      <th>5</th>\n",
       "      <td>0</td>\n",
       "      <td>27.0</td>\n",
       "      <td>0</td>\n",
       "      <td>1</td>\n",
       "      <td>M</td>\n",
       "      <td>компаньон</td>\n",
       "      <td>0</td>\n",
       "      <td>255763.565419</td>\n",
       "      <td>покупка жилья</td>\n",
       "      <td>926.185831</td>\n",
       "      <td>детей нет</td>\n",
       "    </tr>\n",
       "    <tr>\n",
       "      <th>6</th>\n",
       "      <td>0</td>\n",
       "      <td>43.0</td>\n",
       "      <td>0</td>\n",
       "      <td>0</td>\n",
       "      <td>F</td>\n",
       "      <td>компаньон</td>\n",
       "      <td>0</td>\n",
       "      <td>240525.971920</td>\n",
       "      <td>операции с жильем</td>\n",
       "      <td>2879.202052</td>\n",
       "      <td>детей нет</td>\n",
       "    </tr>\n",
       "    <tr>\n",
       "      <th>7</th>\n",
       "      <td>0</td>\n",
       "      <td>50.0</td>\n",
       "      <td>1</td>\n",
       "      <td>0</td>\n",
       "      <td>M</td>\n",
       "      <td>сотрудник</td>\n",
       "      <td>0</td>\n",
       "      <td>135823.934197</td>\n",
       "      <td>образование</td>\n",
       "      <td>152.779569</td>\n",
       "      <td>детей нет</td>\n",
       "    </tr>\n",
       "    <tr>\n",
       "      <th>8</th>\n",
       "      <td>2</td>\n",
       "      <td>35.0</td>\n",
       "      <td>0</td>\n",
       "      <td>1</td>\n",
       "      <td>F</td>\n",
       "      <td>сотрудник</td>\n",
       "      <td>0</td>\n",
       "      <td>95856.832424</td>\n",
       "      <td>на проведение свадьбы</td>\n",
       "      <td>6929.865299</td>\n",
       "      <td>есть дети</td>\n",
       "    </tr>\n",
       "    <tr>\n",
       "      <th>9</th>\n",
       "      <td>0</td>\n",
       "      <td>41.0</td>\n",
       "      <td>1</td>\n",
       "      <td>0</td>\n",
       "      <td>M</td>\n",
       "      <td>сотрудник</td>\n",
       "      <td>0</td>\n",
       "      <td>144425.938277</td>\n",
       "      <td>покупка жилья для семьи</td>\n",
       "      <td>2188.756445</td>\n",
       "      <td>детей нет</td>\n",
       "    </tr>\n",
       "  </tbody>\n",
       "</table>\n",
       "</div>"
      ],
      "text/plain": [
       "   children  dob_years  education_id  family_status_id gender income_type  \\\n",
       "0         1       42.0             0                 0      F   сотрудник   \n",
       "1         1       36.0             1                 0      F   сотрудник   \n",
       "2         0       33.0             1                 0      M   сотрудник   \n",
       "3         3       32.0             1                 0      M   сотрудник   \n",
       "4         0       53.0             1                 1      F   пенсионер   \n",
       "5         0       27.0             0                 1      M   компаньон   \n",
       "6         0       43.0             0                 0      F   компаньон   \n",
       "7         0       50.0             1                 0      M   сотрудник   \n",
       "8         2       35.0             0                 1      F   сотрудник   \n",
       "9         0       41.0             1                 0      M   сотрудник   \n",
       "\n",
       "   debt   total_income                     purpose  abs_days_employed  \\\n",
       "0     0  253875.639453               покупка жилья        8437.673028   \n",
       "1     0  112080.014102     приобретение автомобиля        4024.803754   \n",
       "2     0  145885.952297               покупка жилья        5623.422610   \n",
       "3     0  267628.550329  дополнительное образование        4124.747207   \n",
       "4     0  158616.077870             сыграть свадьбу      340266.072047   \n",
       "5     0  255763.565419               покупка жилья         926.185831   \n",
       "6     0  240525.971920           операции с жильем        2879.202052   \n",
       "7     0  135823.934197                 образование         152.779569   \n",
       "8     0   95856.832424       на проведение свадьбы        6929.865299   \n",
       "9     0  144425.938277     покупка жилья для семьи        2188.756445   \n",
       "\n",
       "  has_children  \n",
       "0    есть дети  \n",
       "1    есть дети  \n",
       "2    детей нет  \n",
       "3    есть дети  \n",
       "4    детей нет  \n",
       "5    детей нет  \n",
       "6    детей нет  \n",
       "7    детей нет  \n",
       "8    есть дети  \n",
       "9    детей нет  "
      ]
     },
     "execution_count": 125,
     "metadata": {},
     "output_type": "execute_result"
    }
   ],
   "source": [
    "df['has_children'] = df['children'].apply(has_children)\n",
    "df.head(10)"
   ]
  },
  {
   "cell_type": "markdown",
   "id": "20c73e90",
   "metadata": {},
   "source": [
    "The function worked correctly."
   ]
  },
  {
   "cell_type": "markdown",
   "id": "e31ea8b4",
   "metadata": {},
   "source": [
    "Next, let's study the column **total_income**. The column contains data in the format of real numbers. For more accurate calculations in the future, we will need to translate the data into the format of integers."
   ]
  },
  {
   "cell_type": "code",
   "execution_count": 126,
   "id": "da79afe9",
   "metadata": {
    "scrolled": false
   },
   "outputs": [
    {
     "name": "stdout",
     "output_type": "stream",
     "text": [
      "<class 'pandas.core.frame.DataFrame'>\n",
      "RangeIndex: 21453 entries, 0 to 21452\n",
      "Data columns (total 11 columns):\n",
      " #   Column             Non-Null Count  Dtype  \n",
      "---  ------             --------------  -----  \n",
      " 0   children           21453 non-null  int64  \n",
      " 1   dob_years          21453 non-null  float64\n",
      " 2   education_id       21453 non-null  int64  \n",
      " 3   family_status_id   21453 non-null  int64  \n",
      " 4   gender             21453 non-null  object \n",
      " 5   income_type        21453 non-null  object \n",
      " 6   debt               21453 non-null  int64  \n",
      " 7   total_income       21453 non-null  int64  \n",
      " 8   purpose            21453 non-null  object \n",
      " 9   abs_days_employed  21453 non-null  float64\n",
      " 10  has_children       21453 non-null  object \n",
      "dtypes: float64(2), int64(5), object(4)\n",
      "memory usage: 1.8+ MB\n"
     ]
    }
   ],
   "source": [
    "df['total_income'] = df['total_income'].astype('int')\n",
    "df.info()"
   ]
  },
  {
   "cell_type": "markdown",
   "id": "c9356520",
   "metadata": {},
   "source": [
    "Видим, что формат успешно изменен. "
   ]
  },
  {
   "cell_type": "markdown",
   "id": "b6ccc5e3",
   "metadata": {},
   "source": [
    "For more convenient data analysis, it is better to divide monthly income into categories. To determine the optimal range of categories, let's study the range of values in the column **total_income**:"
   ]
  },
  {
   "cell_type": "code",
   "execution_count": 127,
   "id": "ae23d316",
   "metadata": {
    "scrolled": true
   },
   "outputs": [
    {
     "data": {
      "text/plain": [
       "20667"
      ]
     },
     "metadata": {},
     "output_type": "display_data"
    },
    {
     "data": {
      "text/plain": [
       "2265604"
      ]
     },
     "metadata": {},
     "output_type": "display_data"
    },
    {
     "data": {
      "text/plain": [
       "165226.54262807066"
      ]
     },
     "metadata": {},
     "output_type": "display_data"
    },
    {
     "data": {
      "text/plain": [
       "145017.0"
      ]
     },
     "metadata": {},
     "output_type": "display_data"
    }
   ],
   "source": [
    "display(df['total_income'].min())\n",
    "display(df['total_income'].max())\n",
    "display(df['total_income'].mean())\n",
    "display(df['total_income'].median())"
   ]
  },
  {
   "cell_type": "markdown",
   "id": "8dac4f19",
   "metadata": {},
   "source": [
    "It can be seen that the minimum value is *20667*, and the maximum is *2265604*, while the average and median are in the range *145017 - 165209* . It can be assumed that the income of most people is in the range of *100000-2001*. We will add ±*50000* from the upper and lower assumed boundaries for a wider coverage and write the function: "
   ]
  },
  {
   "cell_type": "code",
   "execution_count": 128,
   "id": "543bc12a",
   "metadata": {},
   "outputs": [
    {
     "name": "stdout",
     "output_type": "stream",
     "text": [
      "150-200k\n"
     ]
    }
   ],
   "source": [
    "def income_range(total_income):\n",
    "    if total_income < 50000:\n",
    "        return '< 50k'\n",
    "    elif total_income <= 100000:\n",
    "        return '50-100k'\n",
    "    elif total_income <= 150000:\n",
    "        return '100-150k'\n",
    "    elif total_income <=200000:\n",
    "        return '150-200k'\n",
    "    elif total_income <=250000:\n",
    "        return '200-250k'\n",
    "    else:\n",
    "        return '>250k'\n",
    "check = 159000\n",
    "print(income_range(check))"
   ]
  },
  {
   "cell_type": "raw",
   "id": "fc193c89",
   "metadata": {},
   "source": [
    "total_income_labels = ['Низкий', 'Ниже среднего', 'Средний', 'Выше среднего', 'Высокий']\n",
    "\n",
    "df['income_group_rev'] = pd.qcut(df['total_income'],\n",
    "                              q=[0, .2, .4, .6, .8, 1],\n",
    "                              labels=total_income_labels)\n",
    "df['income_group_rev'].value_counts()"
   ]
  },
  {
   "cell_type": "markdown",
   "id": "b5333481",
   "metadata": {},
   "source": [
    "The function worked correctly. Now let's add a new column of values to which this function will return."
   ]
  },
  {
   "cell_type": "code",
   "execution_count": 129,
   "id": "f0d48b99",
   "metadata": {
    "scrolled": false
   },
   "outputs": [
    {
     "data": {
      "text/html": [
       "<div>\n",
       "<style scoped>\n",
       "    .dataframe tbody tr th:only-of-type {\n",
       "        vertical-align: middle;\n",
       "    }\n",
       "\n",
       "    .dataframe tbody tr th {\n",
       "        vertical-align: top;\n",
       "    }\n",
       "\n",
       "    .dataframe thead th {\n",
       "        text-align: right;\n",
       "    }\n",
       "</style>\n",
       "<table border=\"1\" class=\"dataframe\">\n",
       "  <thead>\n",
       "    <tr style=\"text-align: right;\">\n",
       "      <th></th>\n",
       "      <th>children</th>\n",
       "      <th>dob_years</th>\n",
       "      <th>education_id</th>\n",
       "      <th>family_status_id</th>\n",
       "      <th>gender</th>\n",
       "      <th>income_type</th>\n",
       "      <th>debt</th>\n",
       "      <th>total_income</th>\n",
       "      <th>purpose</th>\n",
       "      <th>abs_days_employed</th>\n",
       "      <th>has_children</th>\n",
       "      <th>total_income_range</th>\n",
       "    </tr>\n",
       "  </thead>\n",
       "  <tbody>\n",
       "    <tr>\n",
       "      <th>0</th>\n",
       "      <td>1</td>\n",
       "      <td>42.0</td>\n",
       "      <td>0</td>\n",
       "      <td>0</td>\n",
       "      <td>F</td>\n",
       "      <td>сотрудник</td>\n",
       "      <td>0</td>\n",
       "      <td>253875</td>\n",
       "      <td>покупка жилья</td>\n",
       "      <td>8437.673028</td>\n",
       "      <td>есть дети</td>\n",
       "      <td>&gt;250k</td>\n",
       "    </tr>\n",
       "    <tr>\n",
       "      <th>1</th>\n",
       "      <td>1</td>\n",
       "      <td>36.0</td>\n",
       "      <td>1</td>\n",
       "      <td>0</td>\n",
       "      <td>F</td>\n",
       "      <td>сотрудник</td>\n",
       "      <td>0</td>\n",
       "      <td>112080</td>\n",
       "      <td>приобретение автомобиля</td>\n",
       "      <td>4024.803754</td>\n",
       "      <td>есть дети</td>\n",
       "      <td>100-150k</td>\n",
       "    </tr>\n",
       "    <tr>\n",
       "      <th>2</th>\n",
       "      <td>0</td>\n",
       "      <td>33.0</td>\n",
       "      <td>1</td>\n",
       "      <td>0</td>\n",
       "      <td>M</td>\n",
       "      <td>сотрудник</td>\n",
       "      <td>0</td>\n",
       "      <td>145885</td>\n",
       "      <td>покупка жилья</td>\n",
       "      <td>5623.422610</td>\n",
       "      <td>детей нет</td>\n",
       "      <td>100-150k</td>\n",
       "    </tr>\n",
       "    <tr>\n",
       "      <th>3</th>\n",
       "      <td>3</td>\n",
       "      <td>32.0</td>\n",
       "      <td>1</td>\n",
       "      <td>0</td>\n",
       "      <td>M</td>\n",
       "      <td>сотрудник</td>\n",
       "      <td>0</td>\n",
       "      <td>267628</td>\n",
       "      <td>дополнительное образование</td>\n",
       "      <td>4124.747207</td>\n",
       "      <td>есть дети</td>\n",
       "      <td>&gt;250k</td>\n",
       "    </tr>\n",
       "    <tr>\n",
       "      <th>4</th>\n",
       "      <td>0</td>\n",
       "      <td>53.0</td>\n",
       "      <td>1</td>\n",
       "      <td>1</td>\n",
       "      <td>F</td>\n",
       "      <td>пенсионер</td>\n",
       "      <td>0</td>\n",
       "      <td>158616</td>\n",
       "      <td>сыграть свадьбу</td>\n",
       "      <td>340266.072047</td>\n",
       "      <td>детей нет</td>\n",
       "      <td>150-200k</td>\n",
       "    </tr>\n",
       "  </tbody>\n",
       "</table>\n",
       "</div>"
      ],
      "text/plain": [
       "   children  dob_years  education_id  family_status_id gender income_type  \\\n",
       "0         1       42.0             0                 0      F   сотрудник   \n",
       "1         1       36.0             1                 0      F   сотрудник   \n",
       "2         0       33.0             1                 0      M   сотрудник   \n",
       "3         3       32.0             1                 0      M   сотрудник   \n",
       "4         0       53.0             1                 1      F   пенсионер   \n",
       "\n",
       "   debt  total_income                     purpose  abs_days_employed  \\\n",
       "0     0        253875               покупка жилья        8437.673028   \n",
       "1     0        112080     приобретение автомобиля        4024.803754   \n",
       "2     0        145885               покупка жилья        5623.422610   \n",
       "3     0        267628  дополнительное образование        4124.747207   \n",
       "4     0        158616             сыграть свадьбу      340266.072047   \n",
       "\n",
       "  has_children total_income_range  \n",
       "0    есть дети              >250k  \n",
       "1    есть дети           100-150k  \n",
       "2    детей нет           100-150k  \n",
       "3    есть дети              >250k  \n",
       "4    детей нет           150-200k  "
      ]
     },
     "execution_count": 129,
     "metadata": {},
     "output_type": "execute_result"
    }
   ],
   "source": [
    "df['total_income_range'] = df['total_income'].apply(income_range)\n",
    "df.head()"
   ]
  },
  {
   "cell_type": "markdown",
   "id": "3cae935b",
   "metadata": {},
   "source": [
    "Group the data by column **total_income_range** and highlight the proportion of each range to make sure that the categories are set evenly:"
   ]
  },
  {
   "cell_type": "code",
   "execution_count": 130,
   "id": "778d56ad",
   "metadata": {
    "scrolled": false
   },
   "outputs": [
    {
     "data": {
      "text/html": [
       "<div>\n",
       "<style scoped>\n",
       "    .dataframe tbody tr th:only-of-type {\n",
       "        vertical-align: middle;\n",
       "    }\n",
       "\n",
       "    .dataframe tbody tr th {\n",
       "        vertical-align: top;\n",
       "    }\n",
       "\n",
       "    .dataframe thead th {\n",
       "        text-align: right;\n",
       "    }\n",
       "</style>\n",
       "<table border=\"1\" class=\"dataframe\">\n",
       "  <thead>\n",
       "    <tr style=\"text-align: right;\">\n",
       "      <th></th>\n",
       "      <th>debt</th>\n",
       "      <th>percentage</th>\n",
       "    </tr>\n",
       "    <tr>\n",
       "      <th>total_income_range</th>\n",
       "      <th></th>\n",
       "      <th></th>\n",
       "    </tr>\n",
       "  </thead>\n",
       "  <tbody>\n",
       "    <tr>\n",
       "      <th>100-150k</th>\n",
       "      <td>7806</td>\n",
       "      <td>36.386519</td>\n",
       "    </tr>\n",
       "    <tr>\n",
       "      <th>150-200k</th>\n",
       "      <td>4118</td>\n",
       "      <td>19.195451</td>\n",
       "    </tr>\n",
       "    <tr>\n",
       "      <th>200-250k</th>\n",
       "      <td>2254</td>\n",
       "      <td>10.506689</td>\n",
       "    </tr>\n",
       "    <tr>\n",
       "      <th>50-100k</th>\n",
       "      <td>4091</td>\n",
       "      <td>19.069594</td>\n",
       "    </tr>\n",
       "    <tr>\n",
       "      <th>&lt; 50k</th>\n",
       "      <td>372</td>\n",
       "      <td>1.734023</td>\n",
       "    </tr>\n",
       "    <tr>\n",
       "      <th>&gt;250k</th>\n",
       "      <td>2812</td>\n",
       "      <td>13.107724</td>\n",
       "    </tr>\n",
       "  </tbody>\n",
       "</table>\n",
       "</div>"
      ],
      "text/plain": [
       "                    debt  percentage\n",
       "total_income_range                  \n",
       "100-150k            7806   36.386519\n",
       "150-200k            4118   19.195451\n",
       "200-250k            2254   10.506689\n",
       "50-100k             4091   19.069594\n",
       "< 50k                372    1.734023\n",
       ">250k               2812   13.107724"
      ]
     },
     "execution_count": 130,
     "metadata": {},
     "output_type": "execute_result"
    }
   ],
   "source": [
    "total_income_range_df = df.groupby('total_income_range').agg({'debt':'count'})\n",
    "total_income_range_df['percentage'] = (total_income_range_df['debt']/df['debt'].count())*100\n",
    "total_income_range_df"
   ]
  },
  {
   "cell_type": "markdown",
   "id": "d1e46b4b",
   "metadata": {},
   "source": [
    "Let's sort the categories as income increases for clarity:"
   ]
  },
  {
   "cell_type": "code",
   "execution_count": 131,
   "id": "214a7e28",
   "metadata": {
    "scrolled": true
   },
   "outputs": [
    {
     "data": {
      "text/html": [
       "<div>\n",
       "<style scoped>\n",
       "    .dataframe tbody tr th:only-of-type {\n",
       "        vertical-align: middle;\n",
       "    }\n",
       "\n",
       "    .dataframe tbody tr th {\n",
       "        vertical-align: top;\n",
       "    }\n",
       "\n",
       "    .dataframe thead th {\n",
       "        text-align: right;\n",
       "    }\n",
       "</style>\n",
       "<table border=\"1\" class=\"dataframe\">\n",
       "  <thead>\n",
       "    <tr style=\"text-align: right;\">\n",
       "      <th></th>\n",
       "      <th>debt</th>\n",
       "      <th>percentage</th>\n",
       "    </tr>\n",
       "    <tr>\n",
       "      <th>total_income_range</th>\n",
       "      <th></th>\n",
       "      <th></th>\n",
       "    </tr>\n",
       "  </thead>\n",
       "  <tbody>\n",
       "    <tr>\n",
       "      <th>&lt; 50k</th>\n",
       "      <td>372</td>\n",
       "      <td>1.734023</td>\n",
       "    </tr>\n",
       "    <tr>\n",
       "      <th>50-100k</th>\n",
       "      <td>4091</td>\n",
       "      <td>19.069594</td>\n",
       "    </tr>\n",
       "    <tr>\n",
       "      <th>100-150k</th>\n",
       "      <td>7806</td>\n",
       "      <td>36.386519</td>\n",
       "    </tr>\n",
       "    <tr>\n",
       "      <th>150-200k</th>\n",
       "      <td>4118</td>\n",
       "      <td>19.195451</td>\n",
       "    </tr>\n",
       "    <tr>\n",
       "      <th>200-250k</th>\n",
       "      <td>2254</td>\n",
       "      <td>10.506689</td>\n",
       "    </tr>\n",
       "    <tr>\n",
       "      <th>&gt;250k</th>\n",
       "      <td>2812</td>\n",
       "      <td>13.107724</td>\n",
       "    </tr>\n",
       "  </tbody>\n",
       "</table>\n",
       "</div>"
      ],
      "text/plain": [
       "                    debt  percentage\n",
       "total_income_range                  \n",
       "< 50k                372    1.734023\n",
       "50-100k             4091   19.069594\n",
       "100-150k            7806   36.386519\n",
       "150-200k            4118   19.195451\n",
       "200-250k            2254   10.506689\n",
       ">250k               2812   13.107724"
      ]
     },
     "execution_count": 131,
     "metadata": {},
     "output_type": "execute_result"
    }
   ],
   "source": [
    "total_income_range_df['order'] = [3,4,5,2,1,6]\n",
    "total_income_range_df = total_income_range_df.sort_values(by='order')\n",
    "del total_income_range_df['order']\n",
    "total_income_range_df"
   ]
  },
  {
   "cell_type": "markdown",
   "id": "fd7c3fb9",
   "metadata": {},
   "source": [
    "It can be seen that the data is distributed into categories without strong distortions in the extreme ranges, so the categories are defined correctly. \n",
    "\n",
    "**At the same time, it should be noted that the share of borrowers with an income level of less than 50,000 is less than 2% of the entire sample, which does not allow us to draw conclusions for this group due to insufficient data**."
   ]
  },
  {
   "cell_type": "markdown",
   "id": "f5edd45f",
   "metadata": {},
   "source": [
    "### Lemmatization"
   ]
  },
  {
   "cell_type": "markdown",
   "id": "cbb5a286",
   "metadata": {},
   "source": [
    "The next step is to analyze the data on the purpose of obtaining a loan in the **purpose** column. Let's analyze the data:"
   ]
  },
  {
   "cell_type": "code",
   "execution_count": 132,
   "id": "abdeee5a",
   "metadata": {
    "scrolled": true
   },
   "outputs": [
    {
     "data": {
      "text/plain": [
       "свадьба                                   791\n",
       "на проведение свадьбы                     767\n",
       "сыграть свадьбу                           765\n",
       "операции с недвижимостью                  675\n",
       "покупка коммерческой недвижимости         661\n",
       "операции с жильем                         652\n",
       "покупка жилья для сдачи                   651\n",
       "операции с коммерческой недвижимостью     650\n",
       "покупка жилья                             646\n",
       "жилье                                     646\n",
       "покупка жилья для семьи                   638\n",
       "строительство собственной недвижимости    635\n",
       "недвижимость                              633\n",
       "операции со своей недвижимостью           627\n",
       "строительство жилой недвижимости          624\n",
       "покупка недвижимости                      621\n",
       "покупка своего жилья                      620\n",
       "строительство недвижимости                619\n",
       "ремонт жилью                              607\n",
       "покупка жилой недвижимости                606\n",
       "на покупку своего автомобиля              505\n",
       "заняться высшим образованием              496\n",
       "автомобиль                                494\n",
       "сделка с подержанным автомобилем          486\n",
       "автомобили                                478\n",
       "на покупку подержанного автомобиля        478\n",
       "свой автомобиль                           478\n",
       "на покупку автомобиля                     471\n",
       "приобретение автомобиля                   461\n",
       "дополнительное образование                460\n",
       "сделка с автомобилем                      455\n",
       "высшее образование                        452\n",
       "образование                               447\n",
       "получение дополнительного образования     446\n",
       "получение образования                     442\n",
       "профильное образование                    436\n",
       "получение высшего образования             426\n",
       "заняться образованием                     408\n",
       "Name: purpose, dtype: int64"
      ]
     },
     "execution_count": 132,
     "metadata": {},
     "output_type": "execute_result"
    }
   ],
   "source": [
    "df['purpose'].value_counts()"
   ]
  },
  {
   "cell_type": "markdown",
   "id": "8e388d77",
   "metadata": {},
   "source": [
    "From the data obtained, it can be seen that the most frequently mentioned goals of obtaining a loan are: \n",
    "\n",
    "* **purchase of real estate**,\n",
    "* **buying a car**,\n",
    "* **getting an education**,\n",
    "* **conducting a wedding**.\n",
    "\n",
    "It is also seen that there are a lot of hidden duplicates in the column due to the different wording of the purpose of the loan received by borrowers. It is necessary to bring this list to uniformity of formulations, for this we use lemmatization:"
   ]
  },
  {
   "cell_type": "code",
   "execution_count": 133,
   "id": "16310388",
   "metadata": {
    "scrolled": false
   },
   "outputs": [],
   "source": [
    "from pymystem3 import Mystem\n",
    "m = Mystem()\n",
    "\n",
    "lemma_string = str(df['purpose'])\n",
    "lemma = m.lemmatize(lemma_string)"
   ]
  },
  {
   "cell_type": "markdown",
   "id": "43dde592",
   "metadata": {},
   "source": [
    "For a more convenient application of lemmatization, we write the function:"
   ]
  },
  {
   "cell_type": "code",
   "execution_count": 134,
   "id": "117b588a",
   "metadata": {},
   "outputs": [],
   "source": [
    "def get_purpose_group(purpose):\n",
    "    lemma = m.lemmatize(purpose)\n",
    "    if ('недвижимость' in lemma) or ('жилье' in lemma) or ('строительство' in lemma):\n",
    "        return 1\n",
    "    elif 'автомобиль' in lemma:\n",
    "        return 2\n",
    "    elif 'образование' in lemma:\n",
    "        return 3\n",
    "    elif 'свадьба' in lemma:\n",
    "        return 4\n",
    "    else:\n",
    "        return 5"
   ]
  },
  {
   "cell_type": "markdown",
   "id": "c87539c4",
   "metadata": {},
   "source": [
    "Let's create a new column in the table, which, using the written function, assign a category and display the table on the screen for verification:"
   ]
  },
  {
   "cell_type": "code",
   "execution_count": 135,
   "id": "348e9452",
   "metadata": {
    "scrolled": false
   },
   "outputs": [
    {
     "data": {
      "text/html": [
       "<div>\n",
       "<style scoped>\n",
       "    .dataframe tbody tr th:only-of-type {\n",
       "        vertical-align: middle;\n",
       "    }\n",
       "\n",
       "    .dataframe tbody tr th {\n",
       "        vertical-align: top;\n",
       "    }\n",
       "\n",
       "    .dataframe thead th {\n",
       "        text-align: right;\n",
       "    }\n",
       "</style>\n",
       "<table border=\"1\" class=\"dataframe\">\n",
       "  <thead>\n",
       "    <tr style=\"text-align: right;\">\n",
       "      <th></th>\n",
       "      <th>children</th>\n",
       "      <th>dob_years</th>\n",
       "      <th>education_id</th>\n",
       "      <th>family_status_id</th>\n",
       "      <th>gender</th>\n",
       "      <th>income_type</th>\n",
       "      <th>debt</th>\n",
       "      <th>total_income</th>\n",
       "      <th>purpose</th>\n",
       "      <th>abs_days_employed</th>\n",
       "      <th>has_children</th>\n",
       "      <th>total_income_range</th>\n",
       "      <th>purpose_id</th>\n",
       "    </tr>\n",
       "  </thead>\n",
       "  <tbody>\n",
       "    <tr>\n",
       "      <th>0</th>\n",
       "      <td>1</td>\n",
       "      <td>42.0</td>\n",
       "      <td>0</td>\n",
       "      <td>0</td>\n",
       "      <td>F</td>\n",
       "      <td>сотрудник</td>\n",
       "      <td>0</td>\n",
       "      <td>253875</td>\n",
       "      <td>покупка жилья</td>\n",
       "      <td>8437.673028</td>\n",
       "      <td>есть дети</td>\n",
       "      <td>&gt;250k</td>\n",
       "      <td>1</td>\n",
       "    </tr>\n",
       "    <tr>\n",
       "      <th>1</th>\n",
       "      <td>1</td>\n",
       "      <td>36.0</td>\n",
       "      <td>1</td>\n",
       "      <td>0</td>\n",
       "      <td>F</td>\n",
       "      <td>сотрудник</td>\n",
       "      <td>0</td>\n",
       "      <td>112080</td>\n",
       "      <td>приобретение автомобиля</td>\n",
       "      <td>4024.803754</td>\n",
       "      <td>есть дети</td>\n",
       "      <td>100-150k</td>\n",
       "      <td>2</td>\n",
       "    </tr>\n",
       "    <tr>\n",
       "      <th>2</th>\n",
       "      <td>0</td>\n",
       "      <td>33.0</td>\n",
       "      <td>1</td>\n",
       "      <td>0</td>\n",
       "      <td>M</td>\n",
       "      <td>сотрудник</td>\n",
       "      <td>0</td>\n",
       "      <td>145885</td>\n",
       "      <td>покупка жилья</td>\n",
       "      <td>5623.422610</td>\n",
       "      <td>детей нет</td>\n",
       "      <td>100-150k</td>\n",
       "      <td>1</td>\n",
       "    </tr>\n",
       "    <tr>\n",
       "      <th>3</th>\n",
       "      <td>3</td>\n",
       "      <td>32.0</td>\n",
       "      <td>1</td>\n",
       "      <td>0</td>\n",
       "      <td>M</td>\n",
       "      <td>сотрудник</td>\n",
       "      <td>0</td>\n",
       "      <td>267628</td>\n",
       "      <td>дополнительное образование</td>\n",
       "      <td>4124.747207</td>\n",
       "      <td>есть дети</td>\n",
       "      <td>&gt;250k</td>\n",
       "      <td>3</td>\n",
       "    </tr>\n",
       "    <tr>\n",
       "      <th>4</th>\n",
       "      <td>0</td>\n",
       "      <td>53.0</td>\n",
       "      <td>1</td>\n",
       "      <td>1</td>\n",
       "      <td>F</td>\n",
       "      <td>пенсионер</td>\n",
       "      <td>0</td>\n",
       "      <td>158616</td>\n",
       "      <td>сыграть свадьбу</td>\n",
       "      <td>340266.072047</td>\n",
       "      <td>детей нет</td>\n",
       "      <td>150-200k</td>\n",
       "      <td>4</td>\n",
       "    </tr>\n",
       "  </tbody>\n",
       "</table>\n",
       "</div>"
      ],
      "text/plain": [
       "   children  dob_years  education_id  family_status_id gender income_type  \\\n",
       "0         1       42.0             0                 0      F   сотрудник   \n",
       "1         1       36.0             1                 0      F   сотрудник   \n",
       "2         0       33.0             1                 0      M   сотрудник   \n",
       "3         3       32.0             1                 0      M   сотрудник   \n",
       "4         0       53.0             1                 1      F   пенсионер   \n",
       "\n",
       "   debt  total_income                     purpose  abs_days_employed  \\\n",
       "0     0        253875               покупка жилья        8437.673028   \n",
       "1     0        112080     приобретение автомобиля        4024.803754   \n",
       "2     0        145885               покупка жилья        5623.422610   \n",
       "3     0        267628  дополнительное образование        4124.747207   \n",
       "4     0        158616             сыграть свадьбу      340266.072047   \n",
       "\n",
       "  has_children total_income_range  purpose_id  \n",
       "0    есть дети              >250k           1  \n",
       "1    есть дети           100-150k           2  \n",
       "2    детей нет           100-150k           1  \n",
       "3    есть дети              >250k           3  \n",
       "4    детей нет           150-200k           4  "
      ]
     },
     "execution_count": 135,
     "metadata": {},
     "output_type": "execute_result"
    }
   ],
   "source": [
    "df['purpose_id'] = df['purpose'].apply(get_purpose_group)\n",
    "df.head()"
   ]
  },
  {
   "cell_type": "markdown",
   "id": "730609c8",
   "metadata": {},
   "source": [
    "Let's create a table with categories for different purposes of obtaining a loan:"
   ]
  },
  {
   "cell_type": "code",
   "execution_count": 136,
   "id": "8458f404",
   "metadata": {
    "scrolled": true
   },
   "outputs": [
    {
     "data": {
      "text/html": [
       "<div>\n",
       "<style scoped>\n",
       "    .dataframe tbody tr th:only-of-type {\n",
       "        vertical-align: middle;\n",
       "    }\n",
       "\n",
       "    .dataframe tbody tr th {\n",
       "        vertical-align: top;\n",
       "    }\n",
       "\n",
       "    .dataframe thead th {\n",
       "        text-align: right;\n",
       "    }\n",
       "</style>\n",
       "<table border=\"1\" class=\"dataframe\">\n",
       "  <thead>\n",
       "    <tr style=\"text-align: right;\">\n",
       "      <th></th>\n",
       "      <th>purpose</th>\n",
       "      <th>purpose_id</th>\n",
       "    </tr>\n",
       "  </thead>\n",
       "  <tbody>\n",
       "    <tr>\n",
       "      <th>0</th>\n",
       "      <td>приобретение недвижимости</td>\n",
       "      <td>1</td>\n",
       "    </tr>\n",
       "    <tr>\n",
       "      <th>1</th>\n",
       "      <td>покупка автомобиля</td>\n",
       "      <td>2</td>\n",
       "    </tr>\n",
       "    <tr>\n",
       "      <th>2</th>\n",
       "      <td>получение образования</td>\n",
       "      <td>3</td>\n",
       "    </tr>\n",
       "    <tr>\n",
       "      <th>3</th>\n",
       "      <td>проведение свадьбы</td>\n",
       "      <td>4</td>\n",
       "    </tr>\n",
       "    <tr>\n",
       "      <th>4</th>\n",
       "      <td>иное</td>\n",
       "      <td>5</td>\n",
       "    </tr>\n",
       "  </tbody>\n",
       "</table>\n",
       "</div>"
      ],
      "text/plain": [
       "                     purpose  purpose_id\n",
       "0  приобретение недвижимости           1\n",
       "1         покупка автомобиля           2\n",
       "2      получение образования           3\n",
       "3         проведение свадьбы           4\n",
       "4                       иное           5"
      ]
     },
     "execution_count": 136,
     "metadata": {},
     "output_type": "execute_result"
    }
   ],
   "source": [
    "columns_title = ['purpose','purpose_id']\n",
    "purpose_data=[['приобретение недвижимости',1],\n",
    "              ['покупка автомобиля',2],\n",
    "              ['получение образования',3],\n",
    "              ['проведение свадьбы',4],\n",
    "              ['иное',5]\n",
    "             ]\n",
    "purpose_dict = pd.DataFrame(data=purpose_data, columns=columns_title)\n",
    "purpose_dict"
   ]
  },
  {
   "cell_type": "markdown",
   "id": "255beb37",
   "metadata": {},
   "source": [
    "Теперь можно удалить столбец **purpose** из общей таблицы:"
   ]
  },
  {
   "cell_type": "code",
   "execution_count": 137,
   "id": "2cc64222",
   "metadata": {
    "scrolled": true
   },
   "outputs": [
    {
     "data": {
      "text/html": [
       "<div>\n",
       "<style scoped>\n",
       "    .dataframe tbody tr th:only-of-type {\n",
       "        vertical-align: middle;\n",
       "    }\n",
       "\n",
       "    .dataframe tbody tr th {\n",
       "        vertical-align: top;\n",
       "    }\n",
       "\n",
       "    .dataframe thead th {\n",
       "        text-align: right;\n",
       "    }\n",
       "</style>\n",
       "<table border=\"1\" class=\"dataframe\">\n",
       "  <thead>\n",
       "    <tr style=\"text-align: right;\">\n",
       "      <th></th>\n",
       "      <th>children</th>\n",
       "      <th>dob_years</th>\n",
       "      <th>education_id</th>\n",
       "      <th>family_status_id</th>\n",
       "      <th>gender</th>\n",
       "      <th>income_type</th>\n",
       "      <th>debt</th>\n",
       "      <th>total_income</th>\n",
       "      <th>abs_days_employed</th>\n",
       "      <th>has_children</th>\n",
       "      <th>total_income_range</th>\n",
       "      <th>purpose_id</th>\n",
       "    </tr>\n",
       "  </thead>\n",
       "  <tbody>\n",
       "    <tr>\n",
       "      <th>0</th>\n",
       "      <td>1</td>\n",
       "      <td>42.0</td>\n",
       "      <td>0</td>\n",
       "      <td>0</td>\n",
       "      <td>F</td>\n",
       "      <td>сотрудник</td>\n",
       "      <td>0</td>\n",
       "      <td>253875</td>\n",
       "      <td>8437.673028</td>\n",
       "      <td>есть дети</td>\n",
       "      <td>&gt;250k</td>\n",
       "      <td>1</td>\n",
       "    </tr>\n",
       "    <tr>\n",
       "      <th>1</th>\n",
       "      <td>1</td>\n",
       "      <td>36.0</td>\n",
       "      <td>1</td>\n",
       "      <td>0</td>\n",
       "      <td>F</td>\n",
       "      <td>сотрудник</td>\n",
       "      <td>0</td>\n",
       "      <td>112080</td>\n",
       "      <td>4024.803754</td>\n",
       "      <td>есть дети</td>\n",
       "      <td>100-150k</td>\n",
       "      <td>2</td>\n",
       "    </tr>\n",
       "    <tr>\n",
       "      <th>2</th>\n",
       "      <td>0</td>\n",
       "      <td>33.0</td>\n",
       "      <td>1</td>\n",
       "      <td>0</td>\n",
       "      <td>M</td>\n",
       "      <td>сотрудник</td>\n",
       "      <td>0</td>\n",
       "      <td>145885</td>\n",
       "      <td>5623.422610</td>\n",
       "      <td>детей нет</td>\n",
       "      <td>100-150k</td>\n",
       "      <td>1</td>\n",
       "    </tr>\n",
       "    <tr>\n",
       "      <th>3</th>\n",
       "      <td>3</td>\n",
       "      <td>32.0</td>\n",
       "      <td>1</td>\n",
       "      <td>0</td>\n",
       "      <td>M</td>\n",
       "      <td>сотрудник</td>\n",
       "      <td>0</td>\n",
       "      <td>267628</td>\n",
       "      <td>4124.747207</td>\n",
       "      <td>есть дети</td>\n",
       "      <td>&gt;250k</td>\n",
       "      <td>3</td>\n",
       "    </tr>\n",
       "    <tr>\n",
       "      <th>4</th>\n",
       "      <td>0</td>\n",
       "      <td>53.0</td>\n",
       "      <td>1</td>\n",
       "      <td>1</td>\n",
       "      <td>F</td>\n",
       "      <td>пенсионер</td>\n",
       "      <td>0</td>\n",
       "      <td>158616</td>\n",
       "      <td>340266.072047</td>\n",
       "      <td>детей нет</td>\n",
       "      <td>150-200k</td>\n",
       "      <td>4</td>\n",
       "    </tr>\n",
       "  </tbody>\n",
       "</table>\n",
       "</div>"
      ],
      "text/plain": [
       "   children  dob_years  education_id  family_status_id gender income_type  \\\n",
       "0         1       42.0             0                 0      F   сотрудник   \n",
       "1         1       36.0             1                 0      F   сотрудник   \n",
       "2         0       33.0             1                 0      M   сотрудник   \n",
       "3         3       32.0             1                 0      M   сотрудник   \n",
       "4         0       53.0             1                 1      F   пенсионер   \n",
       "\n",
       "   debt  total_income  abs_days_employed has_children total_income_range  \\\n",
       "0     0        253875        8437.673028    есть дети              >250k   \n",
       "1     0        112080        4024.803754    есть дети           100-150k   \n",
       "2     0        145885        5623.422610    детей нет           100-150k   \n",
       "3     0        267628        4124.747207    есть дети              >250k   \n",
       "4     0        158616      340266.072047    детей нет           150-200k   \n",
       "\n",
       "   purpose_id  \n",
       "0           1  \n",
       "1           2  \n",
       "2           1  \n",
       "3           3  \n",
       "4           4  "
      ]
     },
     "execution_count": 137,
     "metadata": {},
     "output_type": "execute_result"
    }
   ],
   "source": [
    "df = df.drop('purpose', axis=1)\n",
    "df.head()"
   ]
  },
  {
   "cell_type": "code",
   "execution_count": 138,
   "id": "d44f8d8e",
   "metadata": {},
   "outputs": [],
   "source": [
    "#del df['purpose']\n",
    "#df.head()"
   ]
  },
  {
   "cell_type": "markdown",
   "id": "dd4f9cf5",
   "metadata": {},
   "source": [
    "With this action, you can finish the data preprocessing stage.\n",
    "\n",
    "As a result of data preprocessing, a dataframe with a database of borrowers was obtained, including information on a number of key indicators for analysis:\n",
    "\n",
    "   * having children\n",
    "   * marital status (in the format of category indexes)\n",
    "   * income level (in the format of ranges of categories)\n",
    "   * loan objectives (in the format of category indexes)\n",
    "\n",
    "Auxiliary tables were also created:\n",
    "    \n",
    "   * family_status_dict (with indexes of categories about marital status)\n",
    "   * purpose_dict (with category indexes about the purpose of the loan)\n",
    "\n",
    "The prepared data will help answer the questions posed."
   ]
  },
  {
   "cell_type": "markdown",
   "id": "cacd4a21",
   "metadata": {},
   "source": [
    "___\n",
    "## Hypothesis testing\n",
    "___"
   ]
  },
  {
   "cell_type": "markdown",
   "id": "99906a2a",
   "metadata": {},
   "source": [
    "We will check the availability of dependence on the availability of children and the repayment of the loan on time. To do this, we will build a summary table based on the data we are interested in:"
   ]
  },
  {
   "cell_type": "code",
   "execution_count": 140,
   "id": "f22f52f3",
   "metadata": {
    "scrolled": true
   },
   "outputs": [
    {
     "data": {
      "text/html": [
       "<div>\n",
       "<style scoped>\n",
       "    .dataframe tbody tr th:only-of-type {\n",
       "        vertical-align: middle;\n",
       "    }\n",
       "\n",
       "    .dataframe tbody tr th {\n",
       "        vertical-align: top;\n",
       "    }\n",
       "\n",
       "    .dataframe thead th {\n",
       "        text-align: right;\n",
       "    }\n",
       "</style>\n",
       "<table border=\"1\" class=\"dataframe\">\n",
       "  <thead>\n",
       "    <tr style=\"text-align: right;\">\n",
       "      <th></th>\n",
       "      <th>debt</th>\n",
       "    </tr>\n",
       "    <tr>\n",
       "      <th>has_children</th>\n",
       "      <th></th>\n",
       "    </tr>\n",
       "  </thead>\n",
       "  <tbody>\n",
       "    <tr>\n",
       "      <th>детей нет</th>\n",
       "      <td>7.54%</td>\n",
       "    </tr>\n",
       "    <tr>\n",
       "      <th>есть дети</th>\n",
       "      <td>9.21%</td>\n",
       "    </tr>\n",
       "  </tbody>\n",
       "</table>\n",
       "</div>"
      ],
      "text/plain": [
       "               debt\n",
       "has_children       \n",
       "детей нет     7.54%\n",
       "есть дети     9.21%"
      ]
     },
     "execution_count": 140,
     "metadata": {},
     "output_type": "execute_result"
    }
   ],
   "source": [
    "df_pivot_children = df.pivot_table(index='has_children',values='debt',aggfunc='mean')\n",
    "df_pivot_children['debt'] = pd.Series([\"{0:.2f}%\".format(val * 100) for val in df_pivot_children['debt']], index = df_pivot_children.index)\n",
    "df_pivot_children"
   ]
  },
  {
   "cell_type": "markdown",
   "id": "ad350911",
   "metadata": {},
   "source": [
    "According to the results of this comparison, it can be seen that among borrowers with children, the proportion of those who had debt on repayment of loans is higher than among borrowers without children by about 1.67%.\n",
    "Thus, it can be confirmed that \n",
    "\n",
    "**there is a relationship between the presence of children and the repayment of the loan on time**.\n",
    "* * *"
   ]
  },
  {
   "cell_type": "markdown",
   "id": "5459f46e",
   "metadata": {},
   "source": [
    "Let's check whether there is a relationship between marital status and repayment of the loan on time. To do this, we will also build a summary table based on the relevant data:"
   ]
  },
  {
   "cell_type": "code",
   "execution_count": 45,
   "id": "ca539343",
   "metadata": {},
   "outputs": [
    {
     "data": {
      "text/html": [
       "<div>\n",
       "<style scoped>\n",
       "    .dataframe tbody tr th:only-of-type {\n",
       "        vertical-align: middle;\n",
       "    }\n",
       "\n",
       "    .dataframe tbody tr th {\n",
       "        vertical-align: top;\n",
       "    }\n",
       "\n",
       "    .dataframe thead th {\n",
       "        text-align: right;\n",
       "    }\n",
       "</style>\n",
       "<table border=\"1\" class=\"dataframe\">\n",
       "  <thead>\n",
       "    <tr style=\"text-align: right;\">\n",
       "      <th></th>\n",
       "      <th>debt</th>\n",
       "    </tr>\n",
       "    <tr>\n",
       "      <th>family_status_id</th>\n",
       "      <th></th>\n",
       "    </tr>\n",
       "  </thead>\n",
       "  <tbody>\n",
       "    <tr>\n",
       "      <th>0</th>\n",
       "      <td>7.55%</td>\n",
       "    </tr>\n",
       "    <tr>\n",
       "      <th>1</th>\n",
       "      <td>9.35%</td>\n",
       "    </tr>\n",
       "    <tr>\n",
       "      <th>2</th>\n",
       "      <td>6.57%</td>\n",
       "    </tr>\n",
       "    <tr>\n",
       "      <th>3</th>\n",
       "      <td>7.11%</td>\n",
       "    </tr>\n",
       "    <tr>\n",
       "      <th>4</th>\n",
       "      <td>9.75%</td>\n",
       "    </tr>\n",
       "  </tbody>\n",
       "</table>\n",
       "</div>"
      ],
      "text/plain": [
       "                   debt\n",
       "family_status_id       \n",
       "0                 7.55%\n",
       "1                 9.35%\n",
       "2                 6.57%\n",
       "3                 7.11%\n",
       "4                 9.75%"
      ]
     },
     "execution_count": 45,
     "metadata": {},
     "output_type": "execute_result"
    }
   ],
   "source": [
    "df_pivot_family = df.pivot_table(index='family_status_id',values='debt',aggfunc='mean')\n",
    "df_pivot_family['debt'] = pd.Series([\"{0:.2f}%\".format(val * 100) for val in df_pivot_family['debt']], index = df_pivot_family.index)\n",
    "df_pivot_family"
   ]
  },
  {
   "cell_type": "markdown",
   "id": "bf0e3270",
   "metadata": {},
   "source": [
    "Next, we will attach this table to the table with the designation of category indexes to understand the status of each group:"
   ]
  },
  {
   "cell_type": "code",
   "execution_count": 46,
   "id": "1b3677d1",
   "metadata": {},
   "outputs": [
    {
     "data": {
      "text/html": [
       "<div>\n",
       "<style scoped>\n",
       "    .dataframe tbody tr th:only-of-type {\n",
       "        vertical-align: middle;\n",
       "    }\n",
       "\n",
       "    .dataframe tbody tr th {\n",
       "        vertical-align: top;\n",
       "    }\n",
       "\n",
       "    .dataframe thead th {\n",
       "        text-align: right;\n",
       "    }\n",
       "</style>\n",
       "<table border=\"1\" class=\"dataframe\">\n",
       "  <thead>\n",
       "    <tr style=\"text-align: right;\">\n",
       "      <th></th>\n",
       "      <th>family_status</th>\n",
       "      <th>family_status_id</th>\n",
       "      <th>debt</th>\n",
       "    </tr>\n",
       "  </thead>\n",
       "  <tbody>\n",
       "    <tr>\n",
       "      <th>0</th>\n",
       "      <td>женат / замужем</td>\n",
       "      <td>0</td>\n",
       "      <td>7.55%</td>\n",
       "    </tr>\n",
       "    <tr>\n",
       "      <th>1</th>\n",
       "      <td>гражданский брак</td>\n",
       "      <td>1</td>\n",
       "      <td>9.35%</td>\n",
       "    </tr>\n",
       "    <tr>\n",
       "      <th>2</th>\n",
       "      <td>вдовец / вдова</td>\n",
       "      <td>2</td>\n",
       "      <td>6.57%</td>\n",
       "    </tr>\n",
       "    <tr>\n",
       "      <th>3</th>\n",
       "      <td>в разводе</td>\n",
       "      <td>3</td>\n",
       "      <td>7.11%</td>\n",
       "    </tr>\n",
       "    <tr>\n",
       "      <th>4</th>\n",
       "      <td>Не женат / не замужем</td>\n",
       "      <td>4</td>\n",
       "      <td>9.75%</td>\n",
       "    </tr>\n",
       "  </tbody>\n",
       "</table>\n",
       "</div>"
      ],
      "text/plain": [
       "           family_status  family_status_id   debt\n",
       "0        женат / замужем                 0  7.55%\n",
       "1       гражданский брак                 1  9.35%\n",
       "2         вдовец / вдова                 2  6.57%\n",
       "3              в разводе                 3  7.11%\n",
       "4  Не женат / не замужем                 4  9.75%"
      ]
     },
     "execution_count": 46,
     "metadata": {},
     "output_type": "execute_result"
    }
   ],
   "source": [
    "family_status_dict.merge(df_pivot_family,on='family_status_id',how='right')"
   ]
  },
  {
   "cell_type": "markdown",
   "id": "c2389b31",
   "metadata": {},
   "source": [
    "Based on the results of this comparison, it can be seen that the average values for the availability of debt on repayment of loans between groups of borrowers with different marital status varies in the range from 6.57% to 9.75%. The lowest value for the presence of debt is typical for people with the status \"widower / widow\", borrowers with the status \"not married / not married\" have the highest indicator. Thus, it can be argued that\n",
    "\n",
    "**there is a relationship between marital status and repayment of the loan on time**.\n",
    "* * *"
   ]
  },
  {
   "cell_type": "markdown",
   "id": "315e64f2",
   "metadata": {},
   "source": [
    "Next, we will check whether there is a relationship between the income level and the repayment of the loan on time. To do this, we will also build a summary table based on the relevant data:"
   ]
  },
  {
   "cell_type": "code",
   "execution_count": 47,
   "id": "fc06797b",
   "metadata": {
    "scrolled": true
   },
   "outputs": [
    {
     "data": {
      "text/html": [
       "<div>\n",
       "<style scoped>\n",
       "    .dataframe tbody tr th:only-of-type {\n",
       "        vertical-align: middle;\n",
       "    }\n",
       "\n",
       "    .dataframe tbody tr th {\n",
       "        vertical-align: top;\n",
       "    }\n",
       "\n",
       "    .dataframe thead th {\n",
       "        text-align: right;\n",
       "    }\n",
       "</style>\n",
       "<table border=\"1\" class=\"dataframe\">\n",
       "  <thead>\n",
       "    <tr style=\"text-align: right;\">\n",
       "      <th></th>\n",
       "      <th>debt</th>\n",
       "    </tr>\n",
       "    <tr>\n",
       "      <th>total_income_range</th>\n",
       "      <th></th>\n",
       "    </tr>\n",
       "  </thead>\n",
       "  <tbody>\n",
       "    <tr>\n",
       "      <th>100-150k</th>\n",
       "      <td>8.47%</td>\n",
       "    </tr>\n",
       "    <tr>\n",
       "      <th>150-200k</th>\n",
       "      <td>8.94%</td>\n",
       "    </tr>\n",
       "    <tr>\n",
       "      <th>200-250k</th>\n",
       "      <td>7.28%</td>\n",
       "    </tr>\n",
       "    <tr>\n",
       "      <th>50-100k</th>\n",
       "      <td>8.09%</td>\n",
       "    </tr>\n",
       "    <tr>\n",
       "      <th>&lt; 50k</th>\n",
       "      <td>6.18%</td>\n",
       "    </tr>\n",
       "    <tr>\n",
       "      <th>&gt;250k</th>\n",
       "      <td>6.90%</td>\n",
       "    </tr>\n",
       "  </tbody>\n",
       "</table>\n",
       "</div>"
      ],
      "text/plain": [
       "                     debt\n",
       "total_income_range       \n",
       "100-150k            8.47%\n",
       "150-200k            8.94%\n",
       "200-250k            7.28%\n",
       "50-100k             8.09%\n",
       "< 50k               6.18%\n",
       ">250k               6.90%"
      ]
     },
     "execution_count": 47,
     "metadata": {},
     "output_type": "execute_result"
    }
   ],
   "source": [
    "df_pivot_income = df.pivot_table(index='total_income_range',values='debt',aggfunc='mean')\n",
    "df_pivot_income['debt'] = pd.Series([\"{0:.2f}%\".format(val * 100) for val in df_pivot_income['debt']], index = df_pivot_income.index)\n",
    "df_pivot_income"
   ]
  },
  {
   "cell_type": "markdown",
   "id": "7fdbac2a",
   "metadata": {},
   "source": [
    "Let's sort the table in ascending order of income level for greater clarity:"
   ]
  },
  {
   "cell_type": "code",
   "execution_count": 48,
   "id": "8ed3c696",
   "metadata": {},
   "outputs": [
    {
     "data": {
      "text/html": [
       "<div>\n",
       "<style scoped>\n",
       "    .dataframe tbody tr th:only-of-type {\n",
       "        vertical-align: middle;\n",
       "    }\n",
       "\n",
       "    .dataframe tbody tr th {\n",
       "        vertical-align: top;\n",
       "    }\n",
       "\n",
       "    .dataframe thead th {\n",
       "        text-align: right;\n",
       "    }\n",
       "</style>\n",
       "<table border=\"1\" class=\"dataframe\">\n",
       "  <thead>\n",
       "    <tr style=\"text-align: right;\">\n",
       "      <th></th>\n",
       "      <th>debt</th>\n",
       "    </tr>\n",
       "    <tr>\n",
       "      <th>total_income_range</th>\n",
       "      <th></th>\n",
       "    </tr>\n",
       "  </thead>\n",
       "  <tbody>\n",
       "    <tr>\n",
       "      <th>&lt; 50k</th>\n",
       "      <td>6.18%</td>\n",
       "    </tr>\n",
       "    <tr>\n",
       "      <th>50-100k</th>\n",
       "      <td>8.09%</td>\n",
       "    </tr>\n",
       "    <tr>\n",
       "      <th>100-150k</th>\n",
       "      <td>8.47%</td>\n",
       "    </tr>\n",
       "    <tr>\n",
       "      <th>150-200k</th>\n",
       "      <td>8.94%</td>\n",
       "    </tr>\n",
       "    <tr>\n",
       "      <th>200-250k</th>\n",
       "      <td>7.28%</td>\n",
       "    </tr>\n",
       "    <tr>\n",
       "      <th>&gt;250k</th>\n",
       "      <td>6.90%</td>\n",
       "    </tr>\n",
       "  </tbody>\n",
       "</table>\n",
       "</div>"
      ],
      "text/plain": [
       "                     debt\n",
       "total_income_range       \n",
       "< 50k               6.18%\n",
       "50-100k             8.09%\n",
       "100-150k            8.47%\n",
       "150-200k            8.94%\n",
       "200-250k            7.28%\n",
       ">250k               6.90%"
      ]
     },
     "execution_count": 48,
     "metadata": {},
     "output_type": "execute_result"
    }
   ],
   "source": [
    "df_pivot_income['order'] = [3,4,5,2,1,6]\n",
    "df_pivot_income = df_pivot_income.sort_values(by='order')\n",
    "del df_pivot_income['order']\n",
    "df_pivot_income"
   ]
  },
  {
   "cell_type": "markdown",
   "id": "b69a9a04",
   "metadata": {},
   "source": [
    "According to the results of this comparison, it can be seen that the smallest proportion of borrowers who had debt on repayment of the loan \n",
    "it is typical for borrowers with a minimum and maximum income level (up to 50,000 and 200,000 and above). \n",
    "At the same time, borrowers with an average income level of 50000-2001 in the sample had the highest values for the presence of\n",
    "debt. \n",
    "\n",
    "At the same time, we remember that the share of borrowers with incomes below 50,000 is less than 2% of the entire sample, which\n",
    "is not a representative value for the statement about the presence of dependence for this group.\n",
    "\n",
    "As a result, it can be argued that the lowest indicators for the presence of debt are typical for borrowers with  \n",
    "high income - from 200,000 and above. Thus, it is true that\n",
    "\n",
    "**there is a dependence between the income level and the repayment of the loan on time**.\n",
    "* * *"
   ]
  },
  {
   "cell_type": "markdown",
   "id": "c7a30599",
   "metadata": {},
   "source": [
    "We will also check how the different purposes of the loan affect its repayment on time. To do this, we will also build a summary table based on the relevant data:"
   ]
  },
  {
   "cell_type": "code",
   "execution_count": 49,
   "id": "749e3abb",
   "metadata": {},
   "outputs": [
    {
     "data": {
      "text/html": [
       "<div>\n",
       "<style scoped>\n",
       "    .dataframe tbody tr th:only-of-type {\n",
       "        vertical-align: middle;\n",
       "    }\n",
       "\n",
       "    .dataframe tbody tr th {\n",
       "        vertical-align: top;\n",
       "    }\n",
       "\n",
       "    .dataframe thead th {\n",
       "        text-align: right;\n",
       "    }\n",
       "</style>\n",
       "<table border=\"1\" class=\"dataframe\">\n",
       "  <thead>\n",
       "    <tr style=\"text-align: right;\">\n",
       "      <th></th>\n",
       "      <th>debt</th>\n",
       "    </tr>\n",
       "    <tr>\n",
       "      <th>purpose_id</th>\n",
       "      <th></th>\n",
       "    </tr>\n",
       "  </thead>\n",
       "  <tbody>\n",
       "    <tr>\n",
       "      <th>1</th>\n",
       "      <td>7.23%</td>\n",
       "    </tr>\n",
       "    <tr>\n",
       "      <th>2</th>\n",
       "      <td>9.36%</td>\n",
       "    </tr>\n",
       "    <tr>\n",
       "      <th>3</th>\n",
       "      <td>9.22%</td>\n",
       "    </tr>\n",
       "    <tr>\n",
       "      <th>4</th>\n",
       "      <td>8.01%</td>\n",
       "    </tr>\n",
       "  </tbody>\n",
       "</table>\n",
       "</div>"
      ],
      "text/plain": [
       "             debt\n",
       "purpose_id       \n",
       "1           7.23%\n",
       "2           9.36%\n",
       "3           9.22%\n",
       "4           8.01%"
      ]
     },
     "execution_count": 49,
     "metadata": {},
     "output_type": "execute_result"
    }
   ],
   "source": [
    "df_pivot_purpose = df.pivot_table(index='purpose_id',values='debt',aggfunc='mean')\n",
    "df_pivot_purpose['debt'] = pd.Series([\"{0:.2f}%\".format(val * 100) for val in df_pivot_purpose['debt']], index = df_pivot_purpose.index)\n",
    "df_pivot_purpose"
   ]
  },
  {
   "cell_type": "markdown",
   "id": "50dcedc8",
   "metadata": {},
   "source": [
    "Next, we will attach this table to the table with the designation of category indexes to understand the goals of each group:"
   ]
  },
  {
   "cell_type": "code",
   "execution_count": 50,
   "id": "314399bb",
   "metadata": {},
   "outputs": [
    {
     "data": {
      "text/html": [
       "<div>\n",
       "<style scoped>\n",
       "    .dataframe tbody tr th:only-of-type {\n",
       "        vertical-align: middle;\n",
       "    }\n",
       "\n",
       "    .dataframe tbody tr th {\n",
       "        vertical-align: top;\n",
       "    }\n",
       "\n",
       "    .dataframe thead th {\n",
       "        text-align: right;\n",
       "    }\n",
       "</style>\n",
       "<table border=\"1\" class=\"dataframe\">\n",
       "  <thead>\n",
       "    <tr style=\"text-align: right;\">\n",
       "      <th></th>\n",
       "      <th>purpose</th>\n",
       "      <th>purpose_id</th>\n",
       "      <th>debt</th>\n",
       "    </tr>\n",
       "  </thead>\n",
       "  <tbody>\n",
       "    <tr>\n",
       "      <th>0</th>\n",
       "      <td>приобретение недвижимости</td>\n",
       "      <td>1</td>\n",
       "      <td>7.23%</td>\n",
       "    </tr>\n",
       "    <tr>\n",
       "      <th>1</th>\n",
       "      <td>покупка автомобиля</td>\n",
       "      <td>2</td>\n",
       "      <td>9.36%</td>\n",
       "    </tr>\n",
       "    <tr>\n",
       "      <th>2</th>\n",
       "      <td>получение образования</td>\n",
       "      <td>3</td>\n",
       "      <td>9.22%</td>\n",
       "    </tr>\n",
       "    <tr>\n",
       "      <th>3</th>\n",
       "      <td>проведение свадьбы</td>\n",
       "      <td>4</td>\n",
       "      <td>8.01%</td>\n",
       "    </tr>\n",
       "  </tbody>\n",
       "</table>\n",
       "</div>"
      ],
      "text/plain": [
       "                     purpose  purpose_id   debt\n",
       "0  приобретение недвижимости           1  7.23%\n",
       "1         покупка автомобиля           2  9.36%\n",
       "2      получение образования           3  9.22%\n",
       "3         проведение свадьбы           4  8.01%"
      ]
     },
     "execution_count": 50,
     "metadata": {},
     "output_type": "execute_result"
    }
   ],
   "source": [
    "purpose_dict.merge(df_pivot_purpose,on='purpose_id',how='right')"
   ]
  },
  {
   "cell_type": "markdown",
   "id": "80aa2e2a",
   "metadata": {},
   "source": [
    "Based on the results of this comparison, it can be seen that the average values for the availability of debt on repayment of loans between groups of borrowers with different purposes of obtaining a loan varies in the range from 7.23% to 9.35%. The lowest value for the presence of debt is typical for people taking a loan for \"real estate purchase\", borrowers taking a loan for \"car purchase\" have the highest indicator. Thus, it can be confirmed that\n",
    "\n",
    "**the purpose of obtaining a loan affects its repayment on time**.\n",
    "* * *"
   ]
  },
  {
   "cell_type": "markdown",
   "id": "4415d304",
   "metadata": {},
   "source": [
    "**Conclusions**\n",
    "\n",
    "All hypotheses were confirmed:\n",
    "* there is a relationship between the presence of children and the repayment of the loan on time\n",
    "* there is a relationship between marital status and repayment of the loan on time\n",
    "* there is a relationship between the income level and the repayment of the loan on time\n",
    "* the purpose of obtaining a loan affects its repayment on time\n",
    "_ _ _ "
   ]
  },
  {
   "cell_type": "markdown",
   "id": "ad37c844",
   "metadata": {},
   "source": [
    "## Results of the study\n",
    "\n",
    "Four hypotheses were tested and it was confirmed:\n",
    "* Borrowers without children were less likely to admit the appearance of debt on loan repayment.\n",
    "* Borrowers with the status of marital status \"civil marriage\" and \"not married / not married\" most often had  \n",
    "debt on loan repayment on time..\n",
    "* The income level of borrowers and the repayment of the loan on time also have a relationship, but this hypothesis was partially confirmed\n",
    "due to the small number of low-income borrowers. People with a high income level (from 200,000) were less likely to admit\n",
    "the appearance of debt on loan repayment on time.\n",
    "* The purpose of obtaining a loan affects its repayment on time: people who took a loan to buy real estate and conduct  \n",
    "weddings more often gave a loan on time, while for people with the purpose of obtaining a loan \"buying a car\" и \n",
    "\"getting an education\" is characterized by a higher indicator of the presence of debt when the loan is repaid."
   ]
  }
 ],
 "metadata": {
  "ExecuteTimeLog": [
   {
    "duration": 666,
    "start_time": "2021-12-15T21:43:47.174Z"
   },
   {
    "duration": 52,
    "start_time": "2021-12-15T21:43:47.842Z"
   },
   {
    "duration": 16,
    "start_time": "2021-12-15T21:43:47.896Z"
   },
   {
    "duration": 10,
    "start_time": "2021-12-15T21:43:47.914Z"
   },
   {
    "duration": 8,
    "start_time": "2021-12-15T21:43:47.926Z"
   },
   {
    "duration": 3,
    "start_time": "2021-12-15T21:43:47.936Z"
   },
   {
    "duration": 7,
    "start_time": "2021-12-15T21:43:47.941Z"
   },
   {
    "duration": 10,
    "start_time": "2021-12-15T21:43:47.950Z"
   },
   {
    "duration": 7,
    "start_time": "2021-12-15T21:43:47.988Z"
   },
   {
    "duration": 3,
    "start_time": "2021-12-15T21:43:47.997Z"
   },
   {
    "duration": 25,
    "start_time": "2021-12-15T21:43:48.001Z"
   },
   {
    "duration": 11,
    "start_time": "2021-12-15T21:43:48.027Z"
   },
   {
    "duration": 48,
    "start_time": "2021-12-15T21:43:48.040Z"
   },
   {
    "duration": 17,
    "start_time": "2021-12-15T21:43:48.089Z"
   },
   {
    "duration": 13,
    "start_time": "2021-12-15T21:43:48.107Z"
   },
   {
    "duration": 5,
    "start_time": "2021-12-15T21:43:48.122Z"
   },
   {
    "duration": 6,
    "start_time": "2021-12-15T21:43:48.129Z"
   },
   {
    "duration": 2,
    "start_time": "2021-12-15T21:43:48.137Z"
   },
   {
    "duration": 57,
    "start_time": "2021-12-15T21:43:48.141Z"
   },
   {
    "duration": 7,
    "start_time": "2021-12-15T21:43:48.200Z"
   },
   {
    "duration": 10,
    "start_time": "2021-12-15T21:43:48.209Z"
   },
   {
    "duration": 296,
    "start_time": "2021-12-15T21:43:48.221Z"
   },
   {
    "duration": 7022,
    "start_time": "2021-12-15T21:43:41.498Z"
   },
   {
    "duration": 7018,
    "start_time": "2021-12-15T21:43:41.502Z"
   },
   {
    "duration": 7013,
    "start_time": "2021-12-15T21:43:41.508Z"
   },
   {
    "duration": 7008,
    "start_time": "2021-12-15T21:43:41.514Z"
   },
   {
    "duration": 7004,
    "start_time": "2021-12-15T21:43:41.519Z"
   },
   {
    "duration": 7000,
    "start_time": "2021-12-15T21:43:41.524Z"
   },
   {
    "duration": 6997,
    "start_time": "2021-12-15T21:43:41.528Z"
   },
   {
    "duration": 6994,
    "start_time": "2021-12-15T21:43:41.532Z"
   },
   {
    "duration": 6991,
    "start_time": "2021-12-15T21:43:41.536Z"
   },
   {
    "duration": 6988,
    "start_time": "2021-12-15T21:43:41.540Z"
   },
   {
    "duration": 6984,
    "start_time": "2021-12-15T21:43:41.545Z"
   },
   {
    "duration": 6980,
    "start_time": "2021-12-15T21:43:41.550Z"
   },
   {
    "duration": 6975,
    "start_time": "2021-12-15T21:43:41.556Z"
   },
   {
    "duration": 6973,
    "start_time": "2021-12-15T21:43:41.559Z"
   },
   {
    "duration": 6970,
    "start_time": "2021-12-15T21:43:41.563Z"
   },
   {
    "duration": 6967,
    "start_time": "2021-12-15T21:43:41.566Z"
   },
   {
    "duration": 6962,
    "start_time": "2021-12-15T21:43:41.572Z"
   },
   {
    "duration": 6958,
    "start_time": "2021-12-15T21:43:41.577Z"
   },
   {
    "duration": 6956,
    "start_time": "2021-12-15T21:43:41.580Z"
   },
   {
    "duration": 6953,
    "start_time": "2021-12-15T21:43:41.584Z"
   },
   {
    "duration": 6950,
    "start_time": "2021-12-15T21:43:41.587Z"
   },
   {
    "duration": 6933,
    "start_time": "2021-12-15T21:43:41.606Z"
   },
   {
    "duration": 6929,
    "start_time": "2021-12-15T21:43:41.612Z"
   },
   {
    "duration": 6925,
    "start_time": "2021-12-15T21:43:41.617Z"
   },
   {
    "duration": 17,
    "start_time": "2021-12-15T21:44:12.335Z"
   },
   {
    "duration": 8,
    "start_time": "2021-12-15T21:44:13.974Z"
   },
   {
    "duration": 21,
    "start_time": "2021-12-15T21:44:14.588Z"
   },
   {
    "duration": 12,
    "start_time": "2021-12-15T21:44:14.997Z"
   },
   {
    "duration": 11,
    "start_time": "2021-12-15T21:44:15.407Z"
   },
   {
    "duration": 11,
    "start_time": "2021-12-15T21:44:16.020Z"
   },
   {
    "duration": 4,
    "start_time": "2021-12-15T21:44:16.129Z"
   },
   {
    "duration": 35,
    "start_time": "2021-12-15T21:44:16.135Z"
   },
   {
    "duration": 20,
    "start_time": "2021-12-15T21:44:16.228Z"
   },
   {
    "duration": 12,
    "start_time": "2021-12-15T21:44:16.329Z"
   },
   {
    "duration": 10,
    "start_time": "2021-12-15T21:44:16.431Z"
   },
   {
    "duration": 16,
    "start_time": "2021-12-15T21:44:16.446Z"
   },
   {
    "duration": 638,
    "start_time": "2021-12-15T21:44:16.533Z"
   },
   {
    "duration": 6,
    "start_time": "2021-12-15T21:44:17.174Z"
   },
   {
    "duration": 2858,
    "start_time": "2021-12-15T21:44:17.182Z"
   },
   {
    "duration": 8,
    "start_time": "2021-12-15T21:44:20.042Z"
   },
   {
    "duration": 37,
    "start_time": "2021-12-15T21:44:20.052Z"
   },
   {
    "duration": 25,
    "start_time": "2021-12-15T21:44:20.091Z"
   },
   {
    "duration": 15,
    "start_time": "2021-12-15T21:44:24.420Z"
   },
   {
    "duration": 16,
    "start_time": "2021-12-15T21:44:25.136Z"
   },
   {
    "duration": 14,
    "start_time": "2021-12-15T21:44:26.160Z"
   },
   {
    "duration": 8,
    "start_time": "2021-12-15T21:44:26.570Z"
   },
   {
    "duration": 13,
    "start_time": "2021-12-15T21:44:27.901Z"
   },
   {
    "duration": 9,
    "start_time": "2021-12-15T21:44:28.514Z"
   },
   {
    "duration": 81,
    "start_time": "2021-12-15T22:00:11.836Z"
   },
   {
    "duration": 79,
    "start_time": "2021-12-15T22:01:10.101Z"
   },
   {
    "duration": 6,
    "start_time": "2021-12-15T22:10:51.916Z"
   },
   {
    "duration": 91,
    "start_time": "2021-12-16T08:12:16.672Z"
   },
   {
    "duration": 330,
    "start_time": "2021-12-16T08:16:18.617Z"
   },
   {
    "duration": 733,
    "start_time": "2021-12-16T08:16:41.944Z"
   },
   {
    "duration": 54,
    "start_time": "2021-12-16T08:16:42.679Z"
   },
   {
    "duration": 23,
    "start_time": "2021-12-16T08:16:42.735Z"
   },
   {
    "duration": 11,
    "start_time": "2021-12-16T08:16:42.760Z"
   },
   {
    "duration": 11,
    "start_time": "2021-12-16T08:16:42.773Z"
   },
   {
    "duration": 3,
    "start_time": "2021-12-16T08:16:42.786Z"
   },
   {
    "duration": 7,
    "start_time": "2021-12-16T08:16:42.791Z"
   },
   {
    "duration": 9,
    "start_time": "2021-12-16T08:16:42.799Z"
   },
   {
    "duration": 36,
    "start_time": "2021-12-16T08:16:42.811Z"
   },
   {
    "duration": 3,
    "start_time": "2021-12-16T08:16:42.849Z"
   },
   {
    "duration": 20,
    "start_time": "2021-12-16T08:16:42.854Z"
   },
   {
    "duration": 12,
    "start_time": "2021-12-16T08:16:42.875Z"
   },
   {
    "duration": 16,
    "start_time": "2021-12-16T08:16:42.889Z"
   },
   {
    "duration": 50,
    "start_time": "2021-12-16T08:16:42.907Z"
   },
   {
    "duration": 16,
    "start_time": "2021-12-16T08:16:42.959Z"
   },
   {
    "duration": 7,
    "start_time": "2021-12-16T08:16:42.977Z"
   },
   {
    "duration": 8,
    "start_time": "2021-12-16T08:16:42.986Z"
   },
   {
    "duration": 7,
    "start_time": "2021-12-16T08:16:42.995Z"
   },
   {
    "duration": 41,
    "start_time": "2021-12-16T08:16:43.004Z"
   },
   {
    "duration": 10,
    "start_time": "2021-12-16T08:16:43.047Z"
   },
   {
    "duration": 12,
    "start_time": "2021-12-16T08:16:43.058Z"
   },
   {
    "duration": 7,
    "start_time": "2021-12-16T08:16:43.072Z"
   },
   {
    "duration": 23,
    "start_time": "2021-12-16T08:16:43.081Z"
   },
   {
    "duration": 40,
    "start_time": "2021-12-16T08:16:43.106Z"
   },
   {
    "duration": 3,
    "start_time": "2021-12-16T08:16:43.148Z"
   },
   {
    "duration": 17,
    "start_time": "2021-12-16T08:16:43.152Z"
   },
   {
    "duration": 12,
    "start_time": "2021-12-16T08:16:43.173Z"
   },
   {
    "duration": 9,
    "start_time": "2021-12-16T08:16:43.187Z"
   },
   {
    "duration": 4,
    "start_time": "2021-12-16T08:16:43.198Z"
   },
   {
    "duration": 54,
    "start_time": "2021-12-16T08:16:43.204Z"
   },
   {
    "duration": 27,
    "start_time": "2021-12-16T08:16:43.259Z"
   },
   {
    "duration": 8,
    "start_time": "2021-12-16T08:16:43.288Z"
   },
   {
    "duration": 9,
    "start_time": "2021-12-16T08:16:43.298Z"
   },
   {
    "duration": 7,
    "start_time": "2021-12-16T08:16:43.308Z"
   },
   {
    "duration": 682,
    "start_time": "2021-12-16T08:16:43.317Z"
   },
   {
    "duration": 4,
    "start_time": "2021-12-16T08:16:44.001Z"
   },
   {
    "duration": 3046,
    "start_time": "2021-12-16T08:16:44.006Z"
   },
   {
    "duration": 8,
    "start_time": "2021-12-16T08:16:47.054Z"
   },
   {
    "duration": 16,
    "start_time": "2021-12-16T08:16:47.063Z"
   },
   {
    "duration": 17,
    "start_time": "2021-12-16T08:16:47.081Z"
   },
   {
    "duration": 14,
    "start_time": "2021-12-16T08:16:47.100Z"
   },
   {
    "duration": 34,
    "start_time": "2021-12-16T08:16:47.116Z"
   },
   {
    "duration": 15,
    "start_time": "2021-12-16T08:16:47.152Z"
   },
   {
    "duration": 9,
    "start_time": "2021-12-16T08:16:47.169Z"
   },
   {
    "duration": 17,
    "start_time": "2021-12-16T08:16:47.179Z"
   },
   {
    "duration": 10,
    "start_time": "2021-12-16T08:16:47.197Z"
   },
   {
    "duration": 87,
    "start_time": "2021-12-16T08:18:32.882Z"
   },
   {
    "duration": 3,
    "start_time": "2021-12-16T08:20:49.135Z"
   },
   {
    "duration": 59,
    "start_time": "2021-12-16T08:20:49.140Z"
   },
   {
    "duration": 12,
    "start_time": "2021-12-16T08:20:49.201Z"
   },
   {
    "duration": 19,
    "start_time": "2021-12-16T08:20:49.215Z"
   },
   {
    "duration": 12,
    "start_time": "2021-12-16T08:20:49.237Z"
   },
   {
    "duration": 10,
    "start_time": "2021-12-16T08:20:49.250Z"
   },
   {
    "duration": 13,
    "start_time": "2021-12-16T08:20:49.262Z"
   },
   {
    "duration": 11,
    "start_time": "2021-12-16T08:20:49.278Z"
   },
   {
    "duration": 17,
    "start_time": "2021-12-16T08:20:49.291Z"
   },
   {
    "duration": 4,
    "start_time": "2021-12-16T08:20:49.310Z"
   },
   {
    "duration": 38,
    "start_time": "2021-12-16T08:20:49.315Z"
   },
   {
    "duration": 13,
    "start_time": "2021-12-16T08:20:49.355Z"
   },
   {
    "duration": 8,
    "start_time": "2021-12-16T08:20:49.370Z"
   },
   {
    "duration": 9,
    "start_time": "2021-12-16T08:20:49.380Z"
   },
   {
    "duration": 7,
    "start_time": "2021-12-16T08:20:49.390Z"
   },
   {
    "duration": 47,
    "start_time": "2021-12-16T08:20:49.399Z"
   },
   {
    "duration": 9,
    "start_time": "2021-12-16T08:20:49.448Z"
   },
   {
    "duration": 13,
    "start_time": "2021-12-16T08:20:49.459Z"
   },
   {
    "duration": 10,
    "start_time": "2021-12-16T08:20:49.474Z"
   },
   {
    "duration": 22,
    "start_time": "2021-12-16T08:20:49.486Z"
   },
   {
    "duration": 44,
    "start_time": "2021-12-16T08:20:49.510Z"
   },
   {
    "duration": 16,
    "start_time": "2021-12-16T08:20:49.556Z"
   },
   {
    "duration": 15,
    "start_time": "2021-12-16T08:20:49.576Z"
   },
   {
    "duration": 13,
    "start_time": "2021-12-16T08:20:49.593Z"
   },
   {
    "duration": 36,
    "start_time": "2021-12-16T08:20:49.608Z"
   },
   {
    "duration": 16,
    "start_time": "2021-12-16T08:20:49.646Z"
   },
   {
    "duration": 27,
    "start_time": "2021-12-16T08:20:49.663Z"
   },
   {
    "duration": 10,
    "start_time": "2021-12-16T08:20:49.691Z"
   },
   {
    "duration": 4,
    "start_time": "2021-12-16T08:20:49.702Z"
   },
   {
    "duration": 48,
    "start_time": "2021-12-16T08:20:49.708Z"
   },
   {
    "duration": 14,
    "start_time": "2021-12-16T08:20:49.757Z"
   },
   {
    "duration": 8,
    "start_time": "2021-12-16T08:20:49.772Z"
   },
   {
    "duration": 8,
    "start_time": "2021-12-16T08:20:49.782Z"
   },
   {
    "duration": 8,
    "start_time": "2021-12-16T08:20:49.792Z"
   },
   {
    "duration": 764,
    "start_time": "2021-12-16T08:20:49.802Z"
   },
   {
    "duration": 5,
    "start_time": "2021-12-16T08:20:50.569Z"
   },
   {
    "duration": 3029,
    "start_time": "2021-12-16T08:20:50.575Z"
   },
   {
    "duration": 8,
    "start_time": "2021-12-16T08:20:53.605Z"
   },
   {
    "duration": 30,
    "start_time": "2021-12-16T08:20:53.615Z"
   },
   {
    "duration": 21,
    "start_time": "2021-12-16T08:20:53.647Z"
   },
   {
    "duration": 12,
    "start_time": "2021-12-16T08:20:53.670Z"
   },
   {
    "duration": 16,
    "start_time": "2021-12-16T08:20:53.684Z"
   },
   {
    "duration": 21,
    "start_time": "2021-12-16T08:20:53.702Z"
   },
   {
    "duration": 26,
    "start_time": "2021-12-16T08:20:53.724Z"
   },
   {
    "duration": 26,
    "start_time": "2021-12-16T08:20:53.751Z"
   },
   {
    "duration": 15,
    "start_time": "2021-12-16T08:20:53.779Z"
   },
   {
    "duration": 93,
    "start_time": "2021-12-16T08:47:06.239Z"
   },
   {
    "duration": 7953,
    "start_time": "2021-12-16T08:47:20.324Z"
   },
   {
    "duration": 3472,
    "start_time": "2021-12-16T08:47:24.807Z"
   },
   {
    "duration": 2,
    "start_time": "2021-12-16T08:49:32.085Z"
   },
   {
    "duration": 54,
    "start_time": "2021-12-16T08:49:32.089Z"
   },
   {
    "duration": 12,
    "start_time": "2021-12-16T08:49:32.146Z"
   },
   {
    "duration": 12,
    "start_time": "2021-12-16T08:49:32.160Z"
   },
   {
    "duration": 11,
    "start_time": "2021-12-16T08:49:32.174Z"
   },
   {
    "duration": 5,
    "start_time": "2021-12-16T08:49:32.186Z"
   },
   {
    "duration": 6,
    "start_time": "2021-12-16T08:49:32.193Z"
   },
   {
    "duration": 44,
    "start_time": "2021-12-16T08:49:32.201Z"
   },
   {
    "duration": 7,
    "start_time": "2021-12-16T08:49:32.247Z"
   },
   {
    "duration": 16,
    "start_time": "2021-12-16T08:49:32.255Z"
   },
   {
    "duration": 16,
    "start_time": "2021-12-16T08:49:32.272Z"
   },
   {
    "duration": 13,
    "start_time": "2021-12-16T08:49:32.290Z"
   },
   {
    "duration": 7,
    "start_time": "2021-12-16T08:49:32.305Z"
   },
   {
    "duration": 16,
    "start_time": "2021-12-16T08:49:32.313Z"
   },
   {
    "duration": 10,
    "start_time": "2021-12-16T08:49:32.345Z"
   },
   {
    "duration": 12,
    "start_time": "2021-12-16T08:49:32.357Z"
   },
   {
    "duration": 11,
    "start_time": "2021-12-16T08:49:32.371Z"
   },
   {
    "duration": 12,
    "start_time": "2021-12-16T08:49:32.383Z"
   },
   {
    "duration": 8,
    "start_time": "2021-12-16T08:49:32.396Z"
   },
   {
    "duration": 57,
    "start_time": "2021-12-16T08:49:32.405Z"
   },
   {
    "duration": 10,
    "start_time": "2021-12-16T08:49:32.464Z"
   },
   {
    "duration": 17,
    "start_time": "2021-12-16T08:49:32.476Z"
   },
   {
    "duration": 12,
    "start_time": "2021-12-16T08:49:32.496Z"
   },
   {
    "duration": 36,
    "start_time": "2021-12-16T08:49:32.510Z"
   },
   {
    "duration": 3,
    "start_time": "2021-12-16T08:49:32.547Z"
   },
   {
    "duration": 27,
    "start_time": "2021-12-16T08:49:32.552Z"
   },
   {
    "duration": 20,
    "start_time": "2021-12-16T08:49:32.580Z"
   },
   {
    "duration": 8,
    "start_time": "2021-12-16T08:49:32.601Z"
   },
   {
    "duration": 10,
    "start_time": "2021-12-16T08:49:32.611Z"
   },
   {
    "duration": 31,
    "start_time": "2021-12-16T08:49:32.622Z"
   },
   {
    "duration": 23,
    "start_time": "2021-12-16T08:49:32.655Z"
   },
   {
    "duration": 8,
    "start_time": "2021-12-16T08:49:32.680Z"
   },
   {
    "duration": 14,
    "start_time": "2021-12-16T08:49:32.690Z"
   },
   {
    "duration": 8,
    "start_time": "2021-12-16T08:49:32.705Z"
   },
   {
    "duration": 675,
    "start_time": "2021-12-16T08:49:32.714Z"
   },
   {
    "duration": 4,
    "start_time": "2021-12-16T08:49:33.391Z"
   },
   {
    "duration": 3031,
    "start_time": "2021-12-16T08:49:33.397Z"
   },
   {
    "duration": 18,
    "start_time": "2021-12-16T08:49:36.430Z"
   },
   {
    "duration": 18,
    "start_time": "2021-12-16T08:49:36.449Z"
   },
   {
    "duration": 30,
    "start_time": "2021-12-16T08:49:36.469Z"
   },
   {
    "duration": 13,
    "start_time": "2021-12-16T08:49:36.501Z"
   },
   {
    "duration": 14,
    "start_time": "2021-12-16T08:49:36.516Z"
   },
   {
    "duration": 37,
    "start_time": "2021-12-16T08:49:36.532Z"
   },
   {
    "duration": 24,
    "start_time": "2021-12-16T08:49:36.571Z"
   },
   {
    "duration": 27,
    "start_time": "2021-12-16T08:49:36.597Z"
   },
   {
    "duration": 14,
    "start_time": "2021-12-16T08:49:36.626Z"
   },
   {
    "duration": 6765,
    "start_time": "2021-12-16T08:50:22.512Z"
   },
   {
    "duration": 3,
    "start_time": "2021-12-16T09:00:16.682Z"
   },
   {
    "duration": 56,
    "start_time": "2021-12-16T09:00:16.686Z"
   },
   {
    "duration": 12,
    "start_time": "2021-12-16T09:00:16.745Z"
   },
   {
    "duration": 14,
    "start_time": "2021-12-16T09:00:16.760Z"
   },
   {
    "duration": 10,
    "start_time": "2021-12-16T09:00:16.775Z"
   },
   {
    "duration": 3,
    "start_time": "2021-12-16T09:00:16.787Z"
   },
   {
    "duration": 6,
    "start_time": "2021-12-16T09:00:16.793Z"
   },
   {
    "duration": 47,
    "start_time": "2021-12-16T09:00:16.802Z"
   },
   {
    "duration": 7,
    "start_time": "2021-12-16T09:00:16.851Z"
   },
   {
    "duration": 4,
    "start_time": "2021-12-16T09:00:16.859Z"
   },
   {
    "duration": 18,
    "start_time": "2021-12-16T09:00:16.864Z"
   },
   {
    "duration": 12,
    "start_time": "2021-12-16T09:00:16.884Z"
   },
   {
    "duration": 6,
    "start_time": "2021-12-16T09:00:16.898Z"
   },
   {
    "duration": 43,
    "start_time": "2021-12-16T09:00:16.906Z"
   },
   {
    "duration": 7,
    "start_time": "2021-12-16T09:00:16.951Z"
   },
   {
    "duration": 9,
    "start_time": "2021-12-16T09:00:16.960Z"
   },
   {
    "duration": 10,
    "start_time": "2021-12-16T09:00:16.970Z"
   },
   {
    "duration": 12,
    "start_time": "2021-12-16T09:00:16.982Z"
   },
   {
    "duration": 47,
    "start_time": "2021-12-16T09:00:16.997Z"
   },
   {
    "duration": 21,
    "start_time": "2021-12-16T09:00:17.046Z"
   },
   {
    "duration": 10,
    "start_time": "2021-12-16T09:00:17.068Z"
   },
   {
    "duration": 14,
    "start_time": "2021-12-16T09:00:17.080Z"
   },
   {
    "duration": 14,
    "start_time": "2021-12-16T09:00:17.096Z"
   },
   {
    "duration": 38,
    "start_time": "2021-12-16T09:00:17.112Z"
   },
   {
    "duration": 3,
    "start_time": "2021-12-16T09:00:17.152Z"
   },
   {
    "duration": 34,
    "start_time": "2021-12-16T09:00:17.157Z"
   },
   {
    "duration": 27,
    "start_time": "2021-12-16T09:00:17.193Z"
   },
   {
    "duration": 12,
    "start_time": "2021-12-16T09:00:17.222Z"
   },
   {
    "duration": 11,
    "start_time": "2021-12-16T09:00:17.235Z"
   },
   {
    "duration": 24,
    "start_time": "2021-12-16T09:00:17.248Z"
   },
   {
    "duration": 19,
    "start_time": "2021-12-16T09:00:17.274Z"
   },
   {
    "duration": 9,
    "start_time": "2021-12-16T09:00:17.295Z"
   },
   {
    "duration": 24,
    "start_time": "2021-12-16T09:00:17.305Z"
   },
   {
    "duration": 20,
    "start_time": "2021-12-16T09:00:17.331Z"
   },
   {
    "duration": 682,
    "start_time": "2021-12-16T09:00:17.353Z"
   },
   {
    "duration": 9,
    "start_time": "2021-12-16T09:00:18.037Z"
   },
   {
    "duration": 3032,
    "start_time": "2021-12-16T09:00:18.048Z"
   },
   {
    "duration": 10,
    "start_time": "2021-12-16T09:00:21.082Z"
   },
   {
    "duration": 35,
    "start_time": "2021-12-16T09:00:21.094Z"
   },
   {
    "duration": 30,
    "start_time": "2021-12-16T09:00:21.131Z"
   },
   {
    "duration": 21,
    "start_time": "2021-12-16T09:00:21.162Z"
   },
   {
    "duration": 38,
    "start_time": "2021-12-16T09:00:21.184Z"
   },
   {
    "duration": 32,
    "start_time": "2021-12-16T09:00:21.223Z"
   },
   {
    "duration": 26,
    "start_time": "2021-12-16T09:00:21.257Z"
   },
   {
    "duration": 43,
    "start_time": "2021-12-16T09:00:21.285Z"
   },
   {
    "duration": 14,
    "start_time": "2021-12-16T09:00:21.331Z"
   },
   {
    "duration": 93,
    "start_time": "2021-12-16T09:03:08.807Z"
   },
   {
    "duration": 276,
    "start_time": "2021-12-16T09:36:40.566Z"
   },
   {
    "duration": 6,
    "start_time": "2021-12-16T09:36:47.143Z"
   },
   {
    "duration": 5,
    "start_time": "2021-12-16T09:42:19.547Z"
   },
   {
    "duration": 8,
    "start_time": "2021-12-16T09:42:34.315Z"
   },
   {
    "duration": 5,
    "start_time": "2021-12-16T09:45:45.857Z"
   },
   {
    "duration": 6,
    "start_time": "2021-12-16T09:45:53.200Z"
   },
   {
    "duration": 8,
    "start_time": "2021-12-16T09:46:30.293Z"
   },
   {
    "duration": 6,
    "start_time": "2021-12-16T09:46:59.535Z"
   },
   {
    "duration": 93,
    "start_time": "2021-12-16T09:47:09.898Z"
   },
   {
    "duration": 6,
    "start_time": "2021-12-16T09:47:12.937Z"
   },
   {
    "duration": 6,
    "start_time": "2021-12-16T09:47:29.987Z"
   },
   {
    "duration": 3,
    "start_time": "2021-12-16T09:48:10.213Z"
   },
   {
    "duration": 58,
    "start_time": "2021-12-16T09:48:10.220Z"
   },
   {
    "duration": 11,
    "start_time": "2021-12-16T09:48:10.280Z"
   },
   {
    "duration": 29,
    "start_time": "2021-12-16T09:48:10.293Z"
   },
   {
    "duration": 25,
    "start_time": "2021-12-16T09:48:10.324Z"
   },
   {
    "duration": 22,
    "start_time": "2021-12-16T09:48:10.351Z"
   },
   {
    "duration": 15,
    "start_time": "2021-12-16T09:48:10.375Z"
   },
   {
    "duration": 34,
    "start_time": "2021-12-16T09:48:10.392Z"
   },
   {
    "duration": 19,
    "start_time": "2021-12-16T09:48:10.429Z"
   },
   {
    "duration": 17,
    "start_time": "2021-12-16T09:48:10.450Z"
   },
   {
    "duration": 30,
    "start_time": "2021-12-16T09:48:10.469Z"
   },
   {
    "duration": 26,
    "start_time": "2021-12-16T09:48:10.501Z"
   },
   {
    "duration": 20,
    "start_time": "2021-12-16T09:48:10.529Z"
   },
   {
    "duration": 9,
    "start_time": "2021-12-16T09:48:10.551Z"
   },
   {
    "duration": 6,
    "start_time": "2021-12-16T09:48:10.562Z"
   },
   {
    "duration": 24,
    "start_time": "2021-12-16T09:48:10.569Z"
   },
   {
    "duration": 15,
    "start_time": "2021-12-16T09:48:10.594Z"
   },
   {
    "duration": 16,
    "start_time": "2021-12-16T09:48:10.611Z"
   },
   {
    "duration": 9,
    "start_time": "2021-12-16T09:48:10.629Z"
   },
   {
    "duration": 11,
    "start_time": "2021-12-16T09:48:10.645Z"
   },
   {
    "duration": 27,
    "start_time": "2021-12-16T09:48:10.658Z"
   },
   {
    "duration": 43,
    "start_time": "2021-12-16T09:48:10.687Z"
   },
   {
    "duration": 29,
    "start_time": "2021-12-16T09:48:10.732Z"
   },
   {
    "duration": 35,
    "start_time": "2021-12-16T09:48:10.764Z"
   },
   {
    "duration": 20,
    "start_time": "2021-12-16T09:48:10.801Z"
   },
   {
    "duration": 32,
    "start_time": "2021-12-16T09:48:10.823Z"
   },
   {
    "duration": 28,
    "start_time": "2021-12-16T09:48:10.856Z"
   },
   {
    "duration": 37,
    "start_time": "2021-12-16T09:48:10.885Z"
   },
   {
    "duration": 33,
    "start_time": "2021-12-16T09:48:10.923Z"
   },
   {
    "duration": 20,
    "start_time": "2021-12-16T09:48:10.958Z"
   },
   {
    "duration": 24,
    "start_time": "2021-12-16T09:48:10.979Z"
   },
   {
    "duration": 44,
    "start_time": "2021-12-16T09:48:11.005Z"
   },
   {
    "duration": 25,
    "start_time": "2021-12-16T09:48:11.050Z"
   },
   {
    "duration": 22,
    "start_time": "2021-12-16T09:48:11.077Z"
   },
   {
    "duration": 45,
    "start_time": "2021-12-16T09:48:11.101Z"
   },
   {
    "duration": 15,
    "start_time": "2021-12-16T09:48:11.148Z"
   },
   {
    "duration": 704,
    "start_time": "2021-12-16T09:48:11.164Z"
   },
   {
    "duration": 3,
    "start_time": "2021-12-16T09:48:11.871Z"
   },
   {
    "duration": 3140,
    "start_time": "2021-12-16T09:48:11.876Z"
   },
   {
    "duration": 8,
    "start_time": "2021-12-16T09:48:15.018Z"
   },
   {
    "duration": 28,
    "start_time": "2021-12-16T09:48:15.027Z"
   },
   {
    "duration": 18,
    "start_time": "2021-12-16T09:48:15.057Z"
   },
   {
    "duration": 15,
    "start_time": "2021-12-16T09:48:15.077Z"
   },
   {
    "duration": 10,
    "start_time": "2021-12-16T09:48:15.093Z"
   },
   {
    "duration": 47,
    "start_time": "2021-12-16T09:48:15.105Z"
   },
   {
    "duration": 8,
    "start_time": "2021-12-16T09:48:15.154Z"
   },
   {
    "duration": 15,
    "start_time": "2021-12-16T09:48:15.163Z"
   },
   {
    "duration": 8,
    "start_time": "2021-12-16T09:48:15.179Z"
   },
   {
    "duration": 7,
    "start_time": "2021-12-16T09:54:28.966Z"
   },
   {
    "duration": 9,
    "start_time": "2021-12-16T09:58:08.454Z"
   },
   {
    "duration": 5,
    "start_time": "2021-12-16T09:59:19.078Z"
   },
   {
    "duration": 6,
    "start_time": "2021-12-16T09:59:33.609Z"
   },
   {
    "duration": 3,
    "start_time": "2021-12-16T09:59:37.248Z"
   },
   {
    "duration": 48,
    "start_time": "2021-12-16T09:59:37.256Z"
   },
   {
    "duration": 11,
    "start_time": "2021-12-16T09:59:37.306Z"
   },
   {
    "duration": 12,
    "start_time": "2021-12-16T09:59:37.319Z"
   },
   {
    "duration": 10,
    "start_time": "2021-12-16T09:59:37.344Z"
   },
   {
    "duration": 6,
    "start_time": "2021-12-16T09:59:37.356Z"
   },
   {
    "duration": 8,
    "start_time": "2021-12-16T09:59:37.363Z"
   },
   {
    "duration": 9,
    "start_time": "2021-12-16T09:59:37.373Z"
   },
   {
    "duration": 7,
    "start_time": "2021-12-16T09:59:37.383Z"
   },
   {
    "duration": 4,
    "start_time": "2021-12-16T09:59:37.392Z"
   },
   {
    "duration": 48,
    "start_time": "2021-12-16T09:59:37.398Z"
   },
   {
    "duration": 13,
    "start_time": "2021-12-16T09:59:37.447Z"
   },
   {
    "duration": 14,
    "start_time": "2021-12-16T09:59:37.461Z"
   },
   {
    "duration": 8,
    "start_time": "2021-12-16T09:59:37.477Z"
   },
   {
    "duration": 4,
    "start_time": "2021-12-16T09:59:37.487Z"
   },
   {
    "duration": 7,
    "start_time": "2021-12-16T09:59:37.493Z"
   },
   {
    "duration": 7,
    "start_time": "2021-12-16T09:59:37.502Z"
   },
   {
    "duration": 42,
    "start_time": "2021-12-16T09:59:37.510Z"
   },
   {
    "duration": 15,
    "start_time": "2021-12-16T09:59:37.553Z"
   },
   {
    "duration": 9,
    "start_time": "2021-12-16T09:59:37.570Z"
   },
   {
    "duration": 9,
    "start_time": "2021-12-16T09:59:37.581Z"
   },
   {
    "duration": 12,
    "start_time": "2021-12-16T09:59:37.591Z"
   },
   {
    "duration": 39,
    "start_time": "2021-12-16T09:59:37.605Z"
   },
   {
    "duration": 23,
    "start_time": "2021-12-16T09:59:37.646Z"
   },
   {
    "duration": 11,
    "start_time": "2021-12-16T09:59:37.671Z"
   },
   {
    "duration": 13,
    "start_time": "2021-12-16T09:59:37.683Z"
   },
   {
    "duration": 12,
    "start_time": "2021-12-16T09:59:37.697Z"
   },
   {
    "duration": 36,
    "start_time": "2021-12-16T09:59:37.713Z"
   },
   {
    "duration": 2,
    "start_time": "2021-12-16T09:59:37.752Z"
   },
   {
    "duration": 20,
    "start_time": "2021-12-16T09:59:37.756Z"
   },
   {
    "duration": 14,
    "start_time": "2021-12-16T09:59:37.778Z"
   },
   {
    "duration": 9,
    "start_time": "2021-12-16T09:59:37.794Z"
   },
   {
    "duration": 41,
    "start_time": "2021-12-16T09:59:37.805Z"
   },
   {
    "duration": 23,
    "start_time": "2021-12-16T09:59:37.847Z"
   },
   {
    "duration": 13,
    "start_time": "2021-12-16T09:59:37.872Z"
   },
   {
    "duration": 9,
    "start_time": "2021-12-16T09:59:37.887Z"
   },
   {
    "duration": 10,
    "start_time": "2021-12-16T09:59:37.897Z"
   },
   {
    "duration": 37,
    "start_time": "2021-12-16T09:59:37.908Z"
   },
   {
    "duration": 706,
    "start_time": "2021-12-16T09:59:37.947Z"
   },
   {
    "duration": 4,
    "start_time": "2021-12-16T09:59:38.655Z"
   },
   {
    "duration": 2946,
    "start_time": "2021-12-16T09:59:38.661Z"
   },
   {
    "duration": 9,
    "start_time": "2021-12-16T09:59:41.609Z"
   },
   {
    "duration": 39,
    "start_time": "2021-12-16T09:59:41.620Z"
   },
   {
    "duration": 31,
    "start_time": "2021-12-16T09:59:41.661Z"
   },
   {
    "duration": 32,
    "start_time": "2021-12-16T09:59:41.694Z"
   },
   {
    "duration": 26,
    "start_time": "2021-12-16T09:59:41.728Z"
   },
   {
    "duration": 42,
    "start_time": "2021-12-16T09:59:41.756Z"
   },
   {
    "duration": 24,
    "start_time": "2021-12-16T09:59:41.800Z"
   },
   {
    "duration": 42,
    "start_time": "2021-12-16T09:59:41.826Z"
   },
   {
    "duration": 51,
    "start_time": "2021-12-16T09:59:41.870Z"
   },
   {
    "duration": 103,
    "start_time": "2021-12-16T10:02:31.049Z"
   },
   {
    "duration": 3,
    "start_time": "2021-12-16T10:05:21.324Z"
   },
   {
    "duration": 2,
    "start_time": "2021-12-16T10:11:03.589Z"
   },
   {
    "duration": 78,
    "start_time": "2021-12-16T10:11:03.593Z"
   },
   {
    "duration": 12,
    "start_time": "2021-12-16T10:11:03.673Z"
   },
   {
    "duration": 11,
    "start_time": "2021-12-16T10:11:04.448Z"
   },
   {
    "duration": 41,
    "start_time": "2021-12-16T10:11:04.461Z"
   },
   {
    "duration": 27,
    "start_time": "2021-12-16T10:11:04.504Z"
   },
   {
    "duration": 4,
    "start_time": "2021-12-16T10:11:05.900Z"
   },
   {
    "duration": 33,
    "start_time": "2021-12-16T10:11:05.906Z"
   },
   {
    "duration": 48,
    "start_time": "2021-12-16T10:11:05.941Z"
   },
   {
    "duration": 67,
    "start_time": "2021-12-16T10:11:05.991Z"
   },
   {
    "duration": 36,
    "start_time": "2021-12-16T10:11:06.060Z"
   },
   {
    "duration": 45,
    "start_time": "2021-12-16T10:11:06.098Z"
   },
   {
    "duration": 55,
    "start_time": "2021-12-16T10:11:06.145Z"
   },
   {
    "duration": 30,
    "start_time": "2021-12-16T10:11:06.202Z"
   },
   {
    "duration": 20,
    "start_time": "2021-12-16T10:11:06.235Z"
   },
   {
    "duration": 31,
    "start_time": "2021-12-16T10:11:06.257Z"
   },
   {
    "duration": 42,
    "start_time": "2021-12-16T10:11:06.289Z"
   },
   {
    "duration": 34,
    "start_time": "2021-12-16T10:11:06.333Z"
   },
   {
    "duration": 54,
    "start_time": "2021-12-16T10:11:06.370Z"
   },
   {
    "duration": 58,
    "start_time": "2021-12-16T10:11:06.426Z"
   },
   {
    "duration": 37,
    "start_time": "2021-12-16T10:11:06.486Z"
   },
   {
    "duration": 46,
    "start_time": "2021-12-16T10:11:06.525Z"
   },
   {
    "duration": 24,
    "start_time": "2021-12-16T10:11:06.573Z"
   },
   {
    "duration": 50,
    "start_time": "2021-12-16T10:11:06.599Z"
   },
   {
    "duration": 33,
    "start_time": "2021-12-16T10:11:06.651Z"
   },
   {
    "duration": 76,
    "start_time": "2021-12-16T10:11:06.686Z"
   },
   {
    "duration": 49,
    "start_time": "2021-12-16T10:11:06.764Z"
   },
   {
    "duration": 31,
    "start_time": "2021-12-16T10:11:06.815Z"
   },
   {
    "duration": 42,
    "start_time": "2021-12-16T10:11:06.848Z"
   },
   {
    "duration": 55,
    "start_time": "2021-12-16T10:11:06.892Z"
   },
   {
    "duration": 28,
    "start_time": "2021-12-16T10:11:06.948Z"
   },
   {
    "duration": 10,
    "start_time": "2021-12-16T10:11:06.980Z"
   },
   {
    "duration": 49,
    "start_time": "2021-12-16T10:11:06.992Z"
   },
   {
    "duration": 69,
    "start_time": "2021-12-16T10:11:07.042Z"
   },
   {
    "duration": 52,
    "start_time": "2021-12-16T10:11:07.113Z"
   },
   {
    "duration": 45,
    "start_time": "2021-12-16T10:11:07.167Z"
   },
   {
    "duration": 119,
    "start_time": "2021-12-16T10:11:07.214Z"
   },
   {
    "duration": 756,
    "start_time": "2021-12-16T10:11:07.335Z"
   },
   {
    "duration": 4,
    "start_time": "2021-12-16T10:11:08.094Z"
   },
   {
    "duration": 3136,
    "start_time": "2021-12-16T10:11:08.099Z"
   },
   {
    "duration": 8,
    "start_time": "2021-12-16T10:11:11.245Z"
   },
   {
    "duration": 16,
    "start_time": "2021-12-16T10:11:11.254Z"
   },
   {
    "duration": 17,
    "start_time": "2021-12-16T10:11:11.272Z"
   },
   {
    "duration": 13,
    "start_time": "2021-12-16T10:11:11.291Z"
   },
   {
    "duration": 9,
    "start_time": "2021-12-16T10:11:11.306Z"
   },
   {
    "duration": 46,
    "start_time": "2021-12-16T10:11:11.316Z"
   },
   {
    "duration": 27,
    "start_time": "2021-12-16T10:11:11.364Z"
   },
   {
    "duration": 29,
    "start_time": "2021-12-16T10:11:11.392Z"
   },
   {
    "duration": 12,
    "start_time": "2021-12-16T10:11:11.422Z"
   },
   {
    "duration": 34,
    "start_time": "2021-12-16T10:12:50.940Z"
   },
   {
    "duration": 32,
    "start_time": "2021-12-16T10:14:25.976Z"
   },
   {
    "duration": 2,
    "start_time": "2021-12-16T10:14:30.670Z"
   },
   {
    "duration": 56,
    "start_time": "2021-12-16T10:14:30.674Z"
   },
   {
    "duration": 12,
    "start_time": "2021-12-16T10:14:30.732Z"
   },
   {
    "duration": 14,
    "start_time": "2021-12-16T10:14:30.746Z"
   },
   {
    "duration": 32,
    "start_time": "2021-12-16T10:14:30.762Z"
   },
   {
    "duration": 10,
    "start_time": "2021-12-16T10:14:30.796Z"
   },
   {
    "duration": 4,
    "start_time": "2021-12-16T10:14:30.807Z"
   },
   {
    "duration": 34,
    "start_time": "2021-12-16T10:14:30.813Z"
   },
   {
    "duration": 9,
    "start_time": "2021-12-16T10:14:30.849Z"
   },
   {
    "duration": 12,
    "start_time": "2021-12-16T10:14:30.860Z"
   },
   {
    "duration": 19,
    "start_time": "2021-12-16T10:14:30.874Z"
   },
   {
    "duration": 34,
    "start_time": "2021-12-16T10:14:30.895Z"
   },
   {
    "duration": 35,
    "start_time": "2021-12-16T10:14:30.931Z"
   },
   {
    "duration": 20,
    "start_time": "2021-12-16T10:14:30.968Z"
   },
   {
    "duration": 27,
    "start_time": "2021-12-16T10:14:30.989Z"
   },
   {
    "duration": 19,
    "start_time": "2021-12-16T10:14:31.017Z"
   },
   {
    "duration": 24,
    "start_time": "2021-12-16T10:14:31.037Z"
   },
   {
    "duration": 18,
    "start_time": "2021-12-16T10:14:31.063Z"
   },
   {
    "duration": 15,
    "start_time": "2021-12-16T10:14:31.082Z"
   },
   {
    "duration": 16,
    "start_time": "2021-12-16T10:14:31.098Z"
   },
   {
    "duration": 9,
    "start_time": "2021-12-16T10:14:31.115Z"
   },
   {
    "duration": 18,
    "start_time": "2021-12-16T10:14:31.126Z"
   },
   {
    "duration": 19,
    "start_time": "2021-12-16T10:14:31.148Z"
   },
   {
    "duration": 50,
    "start_time": "2021-12-16T10:14:31.170Z"
   },
   {
    "duration": 48,
    "start_time": "2021-12-16T10:14:31.222Z"
   },
   {
    "duration": 33,
    "start_time": "2021-12-16T10:14:31.272Z"
   },
   {
    "duration": 58,
    "start_time": "2021-12-16T10:14:31.307Z"
   },
   {
    "duration": 52,
    "start_time": "2021-12-16T10:14:31.366Z"
   },
   {
    "duration": 35,
    "start_time": "2021-12-16T10:14:31.420Z"
   },
   {
    "duration": 2,
    "start_time": "2021-12-16T10:14:31.457Z"
   },
   {
    "duration": 22,
    "start_time": "2021-12-16T10:14:31.461Z"
   },
   {
    "duration": 13,
    "start_time": "2021-12-16T10:14:31.485Z"
   },
   {
    "duration": 11,
    "start_time": "2021-12-16T10:14:31.500Z"
   },
   {
    "duration": 33,
    "start_time": "2021-12-16T10:14:31.513Z"
   },
   {
    "duration": 23,
    "start_time": "2021-12-16T10:14:31.548Z"
   },
   {
    "duration": 34,
    "start_time": "2021-12-16T10:14:31.573Z"
   },
   {
    "duration": 11,
    "start_time": "2021-12-16T10:14:31.608Z"
   },
   {
    "duration": 29,
    "start_time": "2021-12-16T10:14:31.620Z"
   },
   {
    "duration": 715,
    "start_time": "2021-12-16T10:14:31.651Z"
   },
   {
    "duration": 5,
    "start_time": "2021-12-16T10:14:32.368Z"
   },
   {
    "duration": 3239,
    "start_time": "2021-12-16T10:14:32.374Z"
   },
   {
    "duration": 9,
    "start_time": "2021-12-16T10:14:35.615Z"
   },
   {
    "duration": 36,
    "start_time": "2021-12-16T10:14:35.625Z"
   },
   {
    "duration": 25,
    "start_time": "2021-12-16T10:14:35.664Z"
   },
   {
    "duration": 20,
    "start_time": "2021-12-16T10:14:35.691Z"
   },
   {
    "duration": 40,
    "start_time": "2021-12-16T10:14:35.714Z"
   },
   {
    "duration": 26,
    "start_time": "2021-12-16T10:14:35.756Z"
   },
   {
    "duration": 17,
    "start_time": "2021-12-16T10:14:35.784Z"
   },
   {
    "duration": 38,
    "start_time": "2021-12-16T10:14:35.803Z"
   },
   {
    "duration": 16,
    "start_time": "2021-12-16T10:14:35.843Z"
   },
   {
    "duration": 113,
    "start_time": "2021-12-16T10:19:46.696Z"
   },
   {
    "duration": 97,
    "start_time": "2021-12-16T10:20:18.268Z"
   },
   {
    "duration": 3,
    "start_time": "2021-12-16T10:35:52.267Z"
   },
   {
    "duration": 83,
    "start_time": "2021-12-16T10:35:52.272Z"
   },
   {
    "duration": 36,
    "start_time": "2021-12-16T10:35:52.357Z"
   },
   {
    "duration": 40,
    "start_time": "2021-12-16T10:35:52.395Z"
   },
   {
    "duration": 93,
    "start_time": "2021-12-16T10:35:52.438Z"
   },
   {
    "duration": 14,
    "start_time": "2021-12-16T10:35:52.533Z"
   },
   {
    "duration": 52,
    "start_time": "2021-12-16T10:35:52.549Z"
   },
   {
    "duration": 48,
    "start_time": "2021-12-16T10:35:52.604Z"
   },
   {
    "duration": 45,
    "start_time": "2021-12-16T10:35:52.654Z"
   },
   {
    "duration": 47,
    "start_time": "2021-12-16T10:35:52.701Z"
   },
   {
    "duration": 39,
    "start_time": "2021-12-16T10:35:52.750Z"
   },
   {
    "duration": 140,
    "start_time": "2021-12-16T10:35:52.791Z"
   },
   {
    "duration": 52,
    "start_time": "2021-12-16T10:35:52.933Z"
   },
   {
    "duration": 80,
    "start_time": "2021-12-16T10:35:52.987Z"
   },
   {
    "duration": 77,
    "start_time": "2021-12-16T10:35:53.069Z"
   },
   {
    "duration": 35,
    "start_time": "2021-12-16T10:35:53.148Z"
   },
   {
    "duration": 70,
    "start_time": "2021-12-16T10:35:53.184Z"
   },
   {
    "duration": 54,
    "start_time": "2021-12-16T10:35:53.255Z"
   },
   {
    "duration": 38,
    "start_time": "2021-12-16T10:35:53.311Z"
   },
   {
    "duration": 30,
    "start_time": "2021-12-16T10:35:53.351Z"
   },
   {
    "duration": 43,
    "start_time": "2021-12-16T10:35:53.382Z"
   },
   {
    "duration": 38,
    "start_time": "2021-12-16T10:35:53.427Z"
   },
   {
    "duration": 36,
    "start_time": "2021-12-16T10:35:53.470Z"
   },
   {
    "duration": 41,
    "start_time": "2021-12-16T10:35:53.508Z"
   },
   {
    "duration": 69,
    "start_time": "2021-12-16T10:35:53.551Z"
   },
   {
    "duration": 18,
    "start_time": "2021-12-16T10:35:53.622Z"
   },
   {
    "duration": 42,
    "start_time": "2021-12-16T10:35:53.642Z"
   },
   {
    "duration": 38,
    "start_time": "2021-12-16T10:35:53.686Z"
   },
   {
    "duration": 31,
    "start_time": "2021-12-16T10:35:53.726Z"
   },
   {
    "duration": 24,
    "start_time": "2021-12-16T10:35:53.759Z"
   },
   {
    "duration": 66,
    "start_time": "2021-12-16T10:35:53.785Z"
   },
   {
    "duration": 34,
    "start_time": "2021-12-16T10:35:53.853Z"
   },
   {
    "duration": 23,
    "start_time": "2021-12-16T10:35:53.889Z"
   },
   {
    "duration": 21,
    "start_time": "2021-12-16T10:35:53.914Z"
   },
   {
    "duration": 34,
    "start_time": "2021-12-16T10:35:53.936Z"
   },
   {
    "duration": 45,
    "start_time": "2021-12-16T10:35:53.972Z"
   },
   {
    "duration": 26,
    "start_time": "2021-12-16T10:35:54.019Z"
   },
   {
    "duration": 12,
    "start_time": "2021-12-16T10:35:54.046Z"
   },
   {
    "duration": 803,
    "start_time": "2021-12-16T10:35:54.060Z"
   },
   {
    "duration": 5,
    "start_time": "2021-12-16T10:35:54.865Z"
   },
   {
    "duration": 3083,
    "start_time": "2021-12-16T10:35:54.872Z"
   },
   {
    "duration": 8,
    "start_time": "2021-12-16T10:35:57.956Z"
   },
   {
    "duration": 20,
    "start_time": "2021-12-16T10:35:57.965Z"
   },
   {
    "duration": 17,
    "start_time": "2021-12-16T10:35:57.987Z"
   },
   {
    "duration": 13,
    "start_time": "2021-12-16T10:35:58.006Z"
   },
   {
    "duration": 31,
    "start_time": "2021-12-16T10:35:58.021Z"
   },
   {
    "duration": 34,
    "start_time": "2021-12-16T10:35:58.054Z"
   },
   {
    "duration": 14,
    "start_time": "2021-12-16T10:35:58.090Z"
   },
   {
    "duration": 17,
    "start_time": "2021-12-16T10:35:58.106Z"
   },
   {
    "duration": 14,
    "start_time": "2021-12-16T10:35:58.125Z"
   },
   {
    "duration": 371,
    "start_time": "2022-08-08T04:28:51.666Z"
   },
   {
    "duration": 317,
    "start_time": "2022-08-08T04:28:52.038Z"
   },
   {
    "duration": 19,
    "start_time": "2022-08-08T04:28:52.356Z"
   },
   {
    "duration": 15,
    "start_time": "2022-08-08T04:28:52.376Z"
   },
   {
    "duration": 28,
    "start_time": "2022-08-08T04:28:52.393Z"
   },
   {
    "duration": 8,
    "start_time": "2022-08-08T04:28:52.423Z"
   },
   {
    "duration": 7,
    "start_time": "2022-08-08T04:28:52.432Z"
   },
   {
    "duration": 7,
    "start_time": "2022-08-08T04:28:52.440Z"
   },
   {
    "duration": 11,
    "start_time": "2022-08-08T04:28:52.448Z"
   },
   {
    "duration": 8,
    "start_time": "2022-08-08T04:28:52.460Z"
   },
   {
    "duration": 5,
    "start_time": "2022-08-08T04:28:52.469Z"
   },
   {
    "duration": 33,
    "start_time": "2022-08-08T04:28:52.475Z"
   },
   {
    "duration": 11,
    "start_time": "2022-08-08T04:28:52.509Z"
   },
   {
    "duration": 7,
    "start_time": "2022-08-08T04:28:52.522Z"
   },
   {
    "duration": 7,
    "start_time": "2022-08-08T04:28:52.530Z"
   },
   {
    "duration": 4,
    "start_time": "2022-08-08T04:28:52.538Z"
   },
   {
    "duration": 10,
    "start_time": "2022-08-08T04:28:52.543Z"
   },
   {
    "duration": 5,
    "start_time": "2022-08-08T04:28:52.555Z"
   },
   {
    "duration": 39,
    "start_time": "2022-08-08T04:28:52.562Z"
   },
   {
    "duration": 7,
    "start_time": "2022-08-08T04:28:52.602Z"
   },
   {
    "duration": 10,
    "start_time": "2022-08-08T04:28:52.610Z"
   },
   {
    "duration": 8,
    "start_time": "2022-08-08T04:28:52.622Z"
   },
   {
    "duration": 14,
    "start_time": "2022-08-08T04:28:52.632Z"
   },
   {
    "duration": 11,
    "start_time": "2022-08-08T04:28:52.647Z"
   },
   {
    "duration": 19,
    "start_time": "2022-08-08T04:28:52.659Z"
   },
   {
    "duration": 11,
    "start_time": "2022-08-08T04:28:52.700Z"
   },
   {
    "duration": 13,
    "start_time": "2022-08-08T04:28:52.713Z"
   },
   {
    "duration": 13,
    "start_time": "2022-08-08T04:28:52.727Z"
   },
   {
    "duration": 10,
    "start_time": "2022-08-08T04:28:52.742Z"
   },
   {
    "duration": 2,
    "start_time": "2022-08-08T04:28:52.754Z"
   },
   {
    "duration": 45,
    "start_time": "2022-08-08T04:28:52.758Z"
   },
   {
    "duration": 12,
    "start_time": "2022-08-08T04:28:52.805Z"
   },
   {
    "duration": 7,
    "start_time": "2022-08-08T04:28:52.819Z"
   },
   {
    "duration": 4,
    "start_time": "2022-08-08T04:28:52.827Z"
   },
   {
    "duration": 17,
    "start_time": "2022-08-08T04:28:52.832Z"
   },
   {
    "duration": 11,
    "start_time": "2022-08-08T04:28:52.851Z"
   },
   {
    "duration": 43,
    "start_time": "2022-08-08T04:28:52.864Z"
   },
   {
    "duration": 18,
    "start_time": "2022-08-08T04:28:52.909Z"
   },
   {
    "duration": 618,
    "start_time": "2022-08-08T04:28:52.928Z"
   },
   {
    "duration": 5,
    "start_time": "2022-08-08T04:28:53.548Z"
   },
   {
    "duration": 2278,
    "start_time": "2022-08-08T04:28:53.557Z"
   },
   {
    "duration": 7,
    "start_time": "2022-08-08T04:28:55.836Z"
   },
   {
    "duration": 14,
    "start_time": "2022-08-08T04:28:55.845Z"
   },
   {
    "duration": 19,
    "start_time": "2022-08-08T04:28:55.861Z"
   },
   {
    "duration": 11,
    "start_time": "2022-08-08T04:28:55.900Z"
   },
   {
    "duration": 7,
    "start_time": "2022-08-08T04:28:55.913Z"
   },
   {
    "duration": 16,
    "start_time": "2022-08-08T04:28:55.922Z"
   },
   {
    "duration": 7,
    "start_time": "2022-08-08T04:28:55.939Z"
   },
   {
    "duration": 15,
    "start_time": "2022-08-08T04:28:55.948Z"
   },
   {
    "duration": 8,
    "start_time": "2022-08-08T04:28:55.964Z"
   },
   {
    "duration": 42,
    "start_time": "2022-08-08T04:29:21.360Z"
   },
   {
    "duration": 41,
    "start_time": "2022-08-08T04:29:30.568Z"
   },
   {
    "duration": 394,
    "start_time": "2022-10-20T01:41:37.951Z"
   },
   {
    "duration": 96,
    "start_time": "2022-10-20T01:41:38.347Z"
   },
   {
    "duration": 17,
    "start_time": "2022-10-20T01:41:38.444Z"
   },
   {
    "duration": 13,
    "start_time": "2022-10-20T01:41:38.463Z"
   },
   {
    "duration": 60,
    "start_time": "2022-10-20T01:41:38.478Z"
   },
   {
    "duration": 11,
    "start_time": "2022-10-20T01:41:38.540Z"
   },
   {
    "duration": 5,
    "start_time": "2022-10-20T01:41:38.552Z"
   },
   {
    "duration": 6,
    "start_time": "2022-10-20T01:41:38.558Z"
   },
   {
    "duration": 11,
    "start_time": "2022-10-20T01:41:38.565Z"
   },
   {
    "duration": 7,
    "start_time": "2022-10-20T01:41:38.579Z"
   },
   {
    "duration": 36,
    "start_time": "2022-10-20T01:41:38.587Z"
   },
   {
    "duration": 14,
    "start_time": "2022-10-20T01:41:38.624Z"
   },
   {
    "duration": 12,
    "start_time": "2022-10-20T01:41:38.640Z"
   },
   {
    "duration": 11,
    "start_time": "2022-10-20T01:41:38.653Z"
   },
   {
    "duration": 11,
    "start_time": "2022-10-20T01:41:38.665Z"
   },
   {
    "duration": 4,
    "start_time": "2022-10-20T01:41:38.677Z"
   },
   {
    "duration": 12,
    "start_time": "2022-10-20T01:41:38.682Z"
   },
   {
    "duration": 7,
    "start_time": "2022-10-20T01:41:38.696Z"
   },
   {
    "duration": 8,
    "start_time": "2022-10-20T01:41:38.722Z"
   },
   {
    "duration": 9,
    "start_time": "2022-10-20T01:41:38.732Z"
   },
   {
    "duration": 10,
    "start_time": "2022-10-20T01:41:38.742Z"
   },
   {
    "duration": 9,
    "start_time": "2022-10-20T01:41:38.753Z"
   },
   {
    "duration": 11,
    "start_time": "2022-10-20T01:41:38.763Z"
   },
   {
    "duration": 11,
    "start_time": "2022-10-20T01:41:38.775Z"
   },
   {
    "duration": 46,
    "start_time": "2022-10-20T01:41:38.787Z"
   },
   {
    "duration": 11,
    "start_time": "2022-10-20T01:41:38.835Z"
   },
   {
    "duration": 24,
    "start_time": "2022-10-20T01:41:38.850Z"
   },
   {
    "duration": 22,
    "start_time": "2022-10-20T01:41:38.878Z"
   },
   {
    "duration": 34,
    "start_time": "2022-10-20T01:41:38.902Z"
   },
   {
    "duration": 3,
    "start_time": "2022-10-20T01:41:38.938Z"
   },
   {
    "duration": 29,
    "start_time": "2022-10-20T01:41:38.942Z"
   },
   {
    "duration": 31,
    "start_time": "2022-10-20T01:41:38.973Z"
   },
   {
    "duration": 21,
    "start_time": "2022-10-20T01:41:39.006Z"
   },
   {
    "duration": 17,
    "start_time": "2022-10-20T01:41:39.029Z"
   },
   {
    "duration": 52,
    "start_time": "2022-10-20T01:41:39.048Z"
   },
   {
    "duration": 26,
    "start_time": "2022-10-20T01:41:39.102Z"
   },
   {
    "duration": 16,
    "start_time": "2022-10-20T01:41:39.130Z"
   },
   {
    "duration": 25,
    "start_time": "2022-10-20T01:41:39.147Z"
   },
   {
    "duration": 671,
    "start_time": "2022-10-20T01:41:39.173Z"
   },
   {
    "duration": 5,
    "start_time": "2022-10-20T01:41:39.846Z"
   },
   {
    "duration": 2404,
    "start_time": "2022-10-20T01:41:39.852Z"
   },
   {
    "duration": 8,
    "start_time": "2022-10-20T01:41:42.257Z"
   },
   {
    "duration": 15,
    "start_time": "2022-10-20T01:41:42.266Z"
   },
   {
    "duration": 16,
    "start_time": "2022-10-20T01:41:42.282Z"
   },
   {
    "duration": 30,
    "start_time": "2022-10-20T01:41:42.300Z"
   },
   {
    "duration": 8,
    "start_time": "2022-10-20T01:41:42.331Z"
   },
   {
    "duration": 14,
    "start_time": "2022-10-20T01:41:42.340Z"
   },
   {
    "duration": 6,
    "start_time": "2022-10-20T01:41:42.356Z"
   },
   {
    "duration": 15,
    "start_time": "2022-10-20T01:41:42.363Z"
   },
   {
    "duration": 8,
    "start_time": "2022-10-20T01:41:42.379Z"
   },
   {
    "duration": 62,
    "start_time": "2022-10-20T02:02:37.695Z"
   },
   {
    "duration": 2,
    "start_time": "2022-10-20T02:02:48.802Z"
   },
   {
    "duration": 77,
    "start_time": "2022-10-20T02:02:48.807Z"
   },
   {
    "duration": 14,
    "start_time": "2022-10-20T02:02:48.886Z"
   },
   {
    "duration": 31,
    "start_time": "2022-10-20T02:02:48.902Z"
   },
   {
    "duration": 61,
    "start_time": "2022-10-20T02:02:48.936Z"
   },
   {
    "duration": 34,
    "start_time": "2022-10-20T02:02:49.000Z"
   },
   {
    "duration": 5,
    "start_time": "2022-10-20T02:02:49.036Z"
   },
   {
    "duration": 13,
    "start_time": "2022-10-20T02:02:49.044Z"
   },
   {
    "duration": 33,
    "start_time": "2022-10-20T02:02:49.059Z"
   },
   {
    "duration": 21,
    "start_time": "2022-10-20T02:02:49.094Z"
   },
   {
    "duration": 5,
    "start_time": "2022-10-20T02:02:49.117Z"
   },
   {
    "duration": 20,
    "start_time": "2022-10-20T02:02:49.124Z"
   },
   {
    "duration": 18,
    "start_time": "2022-10-20T02:02:49.146Z"
   },
   {
    "duration": 10,
    "start_time": "2022-10-20T02:02:49.166Z"
   },
   {
    "duration": 12,
    "start_time": "2022-10-20T02:02:49.179Z"
   },
   {
    "duration": 6,
    "start_time": "2022-10-20T02:02:49.192Z"
   },
   {
    "duration": 23,
    "start_time": "2022-10-20T02:02:49.200Z"
   },
   {
    "duration": 6,
    "start_time": "2022-10-20T02:02:49.224Z"
   },
   {
    "duration": 11,
    "start_time": "2022-10-20T02:02:49.231Z"
   },
   {
    "duration": 22,
    "start_time": "2022-10-20T02:02:49.244Z"
   },
   {
    "duration": 24,
    "start_time": "2022-10-20T02:02:49.267Z"
   },
   {
    "duration": 20,
    "start_time": "2022-10-20T02:02:49.293Z"
   },
   {
    "duration": 18,
    "start_time": "2022-10-20T02:02:49.315Z"
   },
   {
    "duration": 12,
    "start_time": "2022-10-20T02:02:49.335Z"
   },
   {
    "duration": 28,
    "start_time": "2022-10-20T02:02:49.348Z"
   },
   {
    "duration": 12,
    "start_time": "2022-10-20T02:02:49.378Z"
   },
   {
    "duration": 30,
    "start_time": "2022-10-20T02:02:49.392Z"
   },
   {
    "duration": 38,
    "start_time": "2022-10-20T02:02:49.424Z"
   },
   {
    "duration": 15,
    "start_time": "2022-10-20T02:02:49.463Z"
   },
   {
    "duration": 3,
    "start_time": "2022-10-20T02:02:49.479Z"
   },
   {
    "duration": 21,
    "start_time": "2022-10-20T02:02:49.483Z"
   },
   {
    "duration": 24,
    "start_time": "2022-10-20T02:02:49.505Z"
   },
   {
    "duration": 8,
    "start_time": "2022-10-20T02:02:49.531Z"
   },
   {
    "duration": 4,
    "start_time": "2022-10-20T02:02:49.540Z"
   },
   {
    "duration": 18,
    "start_time": "2022-10-20T02:02:49.545Z"
   },
   {
    "duration": 10,
    "start_time": "2022-10-20T02:02:49.565Z"
   },
   {
    "duration": 9,
    "start_time": "2022-10-20T02:02:49.577Z"
   },
   {
    "duration": 37,
    "start_time": "2022-10-20T02:02:49.587Z"
   },
   {
    "duration": 672,
    "start_time": "2022-10-20T02:02:49.625Z"
   },
   {
    "duration": 4,
    "start_time": "2022-10-20T02:02:50.299Z"
   },
   {
    "duration": 2464,
    "start_time": "2022-10-20T02:02:50.305Z"
   },
   {
    "duration": 8,
    "start_time": "2022-10-20T02:02:52.772Z"
   },
   {
    "duration": 18,
    "start_time": "2022-10-20T02:02:52.781Z"
   },
   {
    "duration": 29,
    "start_time": "2022-10-20T02:02:52.801Z"
   },
   {
    "duration": 12,
    "start_time": "2022-10-20T02:02:52.832Z"
   },
   {
    "duration": 17,
    "start_time": "2022-10-20T02:02:52.845Z"
   },
   {
    "duration": 16,
    "start_time": "2022-10-20T02:02:52.863Z"
   },
   {
    "duration": 7,
    "start_time": "2022-10-20T02:02:52.881Z"
   },
   {
    "duration": 12,
    "start_time": "2022-10-20T02:02:52.890Z"
   },
   {
    "duration": 22,
    "start_time": "2022-10-20T02:02:52.904Z"
   },
   {
    "duration": 15,
    "start_time": "2022-10-20T02:34:31.329Z"
   },
   {
    "duration": 12,
    "start_time": "2022-10-20T02:34:44.053Z"
   },
   {
    "duration": 368,
    "start_time": "2022-10-20T09:47:47.826Z"
   },
   {
    "duration": 314,
    "start_time": "2022-10-20T09:47:48.196Z"
   },
   {
    "duration": 18,
    "start_time": "2022-10-20T09:47:48.512Z"
   },
   {
    "duration": 14,
    "start_time": "2022-10-20T09:47:48.531Z"
   },
   {
    "duration": 52,
    "start_time": "2022-10-20T09:47:48.547Z"
   },
   {
    "duration": 9,
    "start_time": "2022-10-20T09:47:48.601Z"
   },
   {
    "duration": 5,
    "start_time": "2022-10-20T09:47:48.611Z"
   },
   {
    "duration": 7,
    "start_time": "2022-10-20T09:47:48.617Z"
   },
   {
    "duration": 9,
    "start_time": "2022-10-20T09:47:48.626Z"
   },
   {
    "duration": 8,
    "start_time": "2022-10-20T09:47:48.637Z"
   },
   {
    "duration": 38,
    "start_time": "2022-10-20T09:47:48.647Z"
   },
   {
    "duration": 13,
    "start_time": "2022-10-20T09:47:48.687Z"
   },
   {
    "duration": 13,
    "start_time": "2022-10-20T09:47:48.702Z"
   },
   {
    "duration": 5,
    "start_time": "2022-10-20T09:47:48.719Z"
   },
   {
    "duration": 8,
    "start_time": "2022-10-20T09:47:48.726Z"
   },
   {
    "duration": 5,
    "start_time": "2022-10-20T09:47:48.735Z"
   },
   {
    "duration": 44,
    "start_time": "2022-10-20T09:47:48.742Z"
   },
   {
    "duration": 6,
    "start_time": "2022-10-20T09:47:48.788Z"
   },
   {
    "duration": 9,
    "start_time": "2022-10-20T09:47:48.796Z"
   },
   {
    "duration": 7,
    "start_time": "2022-10-20T09:47:48.806Z"
   },
   {
    "duration": 9,
    "start_time": "2022-10-20T09:47:48.815Z"
   },
   {
    "duration": 10,
    "start_time": "2022-10-20T09:47:48.826Z"
   },
   {
    "duration": 48,
    "start_time": "2022-10-20T09:47:48.838Z"
   },
   {
    "duration": 13,
    "start_time": "2022-10-20T09:47:48.888Z"
   },
   {
    "duration": 19,
    "start_time": "2022-10-20T09:47:48.903Z"
   },
   {
    "duration": 12,
    "start_time": "2022-10-20T09:47:48.923Z"
   },
   {
    "duration": 17,
    "start_time": "2022-10-20T09:47:48.937Z"
   },
   {
    "duration": 38,
    "start_time": "2022-10-20T09:47:48.957Z"
   },
   {
    "duration": 14,
    "start_time": "2022-10-20T09:47:48.996Z"
   },
   {
    "duration": 3,
    "start_time": "2022-10-20T09:47:49.012Z"
   },
   {
    "duration": 21,
    "start_time": "2022-10-20T09:47:49.017Z"
   },
   {
    "duration": 15,
    "start_time": "2022-10-20T09:47:49.040Z"
   },
   {
    "duration": 36,
    "start_time": "2022-10-20T09:47:49.057Z"
   },
   {
    "duration": 7,
    "start_time": "2022-10-20T09:47:49.094Z"
   },
   {
    "duration": 21,
    "start_time": "2022-10-20T09:47:49.102Z"
   },
   {
    "duration": 10,
    "start_time": "2022-10-20T09:47:49.125Z"
   },
   {
    "duration": 8,
    "start_time": "2022-10-20T09:47:49.137Z"
   },
   {
    "duration": 43,
    "start_time": "2022-10-20T09:47:49.146Z"
   },
   {
    "duration": 635,
    "start_time": "2022-10-20T09:47:49.190Z"
   },
   {
    "duration": 4,
    "start_time": "2022-10-20T09:47:49.828Z"
   },
   {
    "duration": 2565,
    "start_time": "2022-10-20T09:47:49.835Z"
   },
   {
    "duration": 8,
    "start_time": "2022-10-20T09:47:52.401Z"
   },
   {
    "duration": 24,
    "start_time": "2022-10-20T09:47:52.411Z"
   },
   {
    "duration": 19,
    "start_time": "2022-10-20T09:47:52.437Z"
   },
   {
    "duration": 13,
    "start_time": "2022-10-20T09:47:52.457Z"
   },
   {
    "duration": 16,
    "start_time": "2022-10-20T09:47:52.485Z"
   },
   {
    "duration": 22,
    "start_time": "2022-10-20T09:47:52.503Z"
   },
   {
    "duration": 11,
    "start_time": "2022-10-20T09:47:52.527Z"
   },
   {
    "duration": 18,
    "start_time": "2022-10-20T09:47:52.540Z"
   },
   {
    "duration": 9,
    "start_time": "2022-10-20T09:47:52.560Z"
   },
   {
    "duration": 65,
    "start_time": "2022-10-20T09:50:14.665Z"
   },
   {
    "duration": 2,
    "start_time": "2022-10-20T09:51:00.418Z"
   },
   {
    "duration": 89,
    "start_time": "2022-10-20T09:51:00.422Z"
   },
   {
    "duration": 11,
    "start_time": "2022-10-20T09:51:00.513Z"
   },
   {
    "duration": 24,
    "start_time": "2022-10-20T09:51:00.526Z"
   },
   {
    "duration": 54,
    "start_time": "2022-10-20T09:51:00.552Z"
   },
   {
    "duration": 9,
    "start_time": "2022-10-20T09:51:00.608Z"
   },
   {
    "duration": 17,
    "start_time": "2022-10-20T09:51:00.618Z"
   },
   {
    "duration": 15,
    "start_time": "2022-10-20T09:51:00.636Z"
   },
   {
    "duration": 22,
    "start_time": "2022-10-20T09:51:00.653Z"
   },
   {
    "duration": 9,
    "start_time": "2022-10-20T09:51:00.676Z"
   },
   {
    "duration": 35,
    "start_time": "2022-10-20T09:51:00.687Z"
   },
   {
    "duration": 22,
    "start_time": "2022-10-20T09:51:00.723Z"
   },
   {
    "duration": 38,
    "start_time": "2022-10-20T09:51:00.747Z"
   },
   {
    "duration": 26,
    "start_time": "2022-10-20T09:51:00.787Z"
   },
   {
    "duration": 14,
    "start_time": "2022-10-20T09:51:00.814Z"
   },
   {
    "duration": 12,
    "start_time": "2022-10-20T09:51:00.829Z"
   },
   {
    "duration": 33,
    "start_time": "2022-10-20T09:51:00.842Z"
   },
   {
    "duration": 6,
    "start_time": "2022-10-20T09:51:00.877Z"
   },
   {
    "duration": 10,
    "start_time": "2022-10-20T09:51:00.885Z"
   },
   {
    "duration": 35,
    "start_time": "2022-10-20T09:51:00.897Z"
   },
   {
    "duration": 11,
    "start_time": "2022-10-20T09:51:00.934Z"
   },
   {
    "duration": 49,
    "start_time": "2022-10-20T09:51:00.947Z"
   },
   {
    "duration": 52,
    "start_time": "2022-10-20T09:51:00.997Z"
   },
   {
    "duration": 42,
    "start_time": "2022-10-20T09:51:01.050Z"
   },
   {
    "duration": 43,
    "start_time": "2022-10-20T09:51:01.093Z"
   },
   {
    "duration": 28,
    "start_time": "2022-10-20T09:51:01.138Z"
   },
   {
    "duration": 35,
    "start_time": "2022-10-20T09:51:01.168Z"
   },
   {
    "duration": 25,
    "start_time": "2022-10-20T09:51:01.205Z"
   },
   {
    "duration": 16,
    "start_time": "2022-10-20T09:51:01.233Z"
   },
   {
    "duration": 48,
    "start_time": "2022-10-20T09:51:01.251Z"
   },
   {
    "duration": 36,
    "start_time": "2022-10-20T09:51:01.300Z"
   },
   {
    "duration": 58,
    "start_time": "2022-10-20T09:51:01.338Z"
   },
   {
    "duration": 12,
    "start_time": "2022-10-20T09:51:01.397Z"
   },
   {
    "duration": 9,
    "start_time": "2022-10-20T09:51:01.410Z"
   },
   {
    "duration": 24,
    "start_time": "2022-10-20T09:51:01.421Z"
   },
   {
    "duration": 11,
    "start_time": "2022-10-20T09:51:01.446Z"
   },
   {
    "duration": 8,
    "start_time": "2022-10-20T09:51:01.459Z"
   },
   {
    "duration": 21,
    "start_time": "2022-10-20T09:51:01.468Z"
   },
   {
    "duration": 655,
    "start_time": "2022-10-20T09:51:01.491Z"
   },
   {
    "duration": 4,
    "start_time": "2022-10-20T09:51:02.148Z"
   },
   {
    "duration": 2502,
    "start_time": "2022-10-20T09:51:02.153Z"
   },
   {
    "duration": 15,
    "start_time": "2022-10-20T09:51:11.035Z"
   },
   {
    "duration": 14,
    "start_time": "2022-10-20T09:53:17.365Z"
   },
   {
    "duration": 3,
    "start_time": "2022-10-20T09:59:23.723Z"
   },
   {
    "duration": 73,
    "start_time": "2022-10-20T09:59:23.728Z"
   },
   {
    "duration": 13,
    "start_time": "2022-10-20T09:59:23.803Z"
   },
   {
    "duration": 33,
    "start_time": "2022-10-20T09:59:23.817Z"
   },
   {
    "duration": 55,
    "start_time": "2022-10-20T09:59:23.852Z"
   },
   {
    "duration": 10,
    "start_time": "2022-10-20T09:59:23.909Z"
   },
   {
    "duration": 15,
    "start_time": "2022-10-20T09:59:23.921Z"
   },
   {
    "duration": 11,
    "start_time": "2022-10-20T09:59:23.937Z"
   },
   {
    "duration": 29,
    "start_time": "2022-10-20T09:59:23.949Z"
   },
   {
    "duration": 14,
    "start_time": "2022-10-20T09:59:23.979Z"
   },
   {
    "duration": 15,
    "start_time": "2022-10-20T09:59:23.995Z"
   },
   {
    "duration": 18,
    "start_time": "2022-10-20T09:59:24.011Z"
   },
   {
    "duration": 21,
    "start_time": "2022-10-20T09:59:24.031Z"
   },
   {
    "duration": 8,
    "start_time": "2022-10-20T09:59:24.054Z"
   },
   {
    "duration": 8,
    "start_time": "2022-10-20T09:59:24.063Z"
   },
   {
    "duration": 4,
    "start_time": "2022-10-20T09:59:24.073Z"
   },
   {
    "duration": 10,
    "start_time": "2022-10-20T09:59:24.085Z"
   },
   {
    "duration": 6,
    "start_time": "2022-10-20T09:59:24.096Z"
   },
   {
    "duration": 11,
    "start_time": "2022-10-20T09:59:24.103Z"
   },
   {
    "duration": 10,
    "start_time": "2022-10-20T09:59:24.115Z"
   },
   {
    "duration": 12,
    "start_time": "2022-10-20T09:59:24.126Z"
   },
   {
    "duration": 10,
    "start_time": "2022-10-20T09:59:24.140Z"
   },
   {
    "duration": 43,
    "start_time": "2022-10-20T09:59:24.151Z"
   },
   {
    "duration": 10,
    "start_time": "2022-10-20T09:59:24.196Z"
   },
   {
    "duration": 21,
    "start_time": "2022-10-20T09:59:24.208Z"
   },
   {
    "duration": 12,
    "start_time": "2022-10-20T09:59:24.230Z"
   },
   {
    "duration": 16,
    "start_time": "2022-10-20T09:59:24.244Z"
   },
   {
    "duration": 33,
    "start_time": "2022-10-20T09:59:24.261Z"
   },
   {
    "duration": 12,
    "start_time": "2022-10-20T09:59:24.297Z"
   },
   {
    "duration": 3,
    "start_time": "2022-10-20T09:59:24.310Z"
   },
   {
    "duration": 21,
    "start_time": "2022-10-20T09:59:24.314Z"
   },
   {
    "duration": 15,
    "start_time": "2022-10-20T09:59:24.336Z"
   },
   {
    "duration": 35,
    "start_time": "2022-10-20T09:59:24.353Z"
   },
   {
    "duration": 4,
    "start_time": "2022-10-20T09:59:24.389Z"
   },
   {
    "duration": 99,
    "start_time": "2022-10-20T09:59:24.395Z"
   },
   {
    "duration": 12,
    "start_time": "2022-10-20T09:59:24.496Z"
   },
   {
    "duration": 9,
    "start_time": "2022-10-20T09:59:24.510Z"
   },
   {
    "duration": 9,
    "start_time": "2022-10-20T09:59:24.521Z"
   },
   {
    "duration": 648,
    "start_time": "2022-10-20T09:59:24.532Z"
   },
   {
    "duration": 4,
    "start_time": "2022-10-20T09:59:25.184Z"
   },
   {
    "duration": 2839,
    "start_time": "2022-10-20T09:59:25.189Z"
   },
   {
    "duration": 8,
    "start_time": "2022-10-20T09:59:28.030Z"
   },
   {
    "duration": 25,
    "start_time": "2022-10-20T09:59:28.040Z"
   },
   {
    "duration": 2,
    "start_time": "2022-10-20T09:59:28.067Z"
   },
   {
    "duration": 15,
    "start_time": "2022-10-20T09:59:37.935Z"
   },
   {
    "duration": 14,
    "start_time": "2022-10-20T10:00:02.839Z"
   }
  ],
  "kernelspec": {
   "display_name": "Python 3 (ipykernel)",
   "language": "python",
   "name": "python3"
  },
  "language_info": {
   "codemirror_mode": {
    "name": "ipython",
    "version": 3
   },
   "file_extension": ".py",
   "mimetype": "text/x-python",
   "name": "python",
   "nbconvert_exporter": "python",
   "pygments_lexer": "ipython3",
   "version": "3.9.7"
  },
  "toc": {
   "base_numbering": 1,
   "nav_menu": {},
   "number_sections": true,
   "sideBar": true,
   "skip_h1_title": true,
   "title_cell": "Table of Contents",
   "title_sidebar": "Contents",
   "toc_cell": false,
   "toc_position": {
    "height": "calc(100% - 180px)",
    "left": "10px",
    "top": "150px",
    "width": "217.390625px"
   },
   "toc_section_display": true,
   "toc_window_display": true
  }
 },
 "nbformat": 4,
 "nbformat_minor": 5
}
