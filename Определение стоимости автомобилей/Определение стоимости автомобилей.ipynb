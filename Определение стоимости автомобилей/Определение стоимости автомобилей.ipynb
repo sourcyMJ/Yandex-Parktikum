{
 "cells": [
  {
   "cell_type": "markdown",
   "metadata": {},
   "source": [
    "# Определение стоимости автомобилей"
   ]
  },
  {
   "cell_type": "markdown",
   "metadata": {},
   "source": [
    "Сервис по продаже автомобилей с пробегом «Не бит, не крашен» разрабатывает приложение для привлечения новых клиентов. В нём можно быстро узнать рыночную стоимость своего автомобиля. В распоряжении имеются исторические данные: технические характеристики, комплектации и цены автомобилей."
   ]
  },
  {
   "cell_type": "markdown",
   "metadata": {},
   "source": [
    "### Цель исследования "
   ]
  },
  {
   "cell_type": "markdown",
   "metadata": {},
   "source": [
    " - <b>Построить модель для определения стоимости</b>\n",
    "\n",
    "Заказчику важны:\n",
    "\n",
    "- качество предсказания;\n",
    "- скорость предсказания;\n",
    "- время обучения."
   ]
  },
  {
   "cell_type": "markdown",
   "metadata": {},
   "source": [
    "### Описание данных"
   ]
  },
  {
   "cell_type": "markdown",
   "metadata": {},
   "source": [
    "<b>Признаки</b>\n",
    "- DateCrawled — дата скачивания анкеты из базы\n",
    "- VehicleType — тип автомобильного кузова\n",
    "- RegistrationYear — год регистрации автомобиля\n",
    "- Gearbox — тип коробки передач\n",
    "- Power — мощность (л. с.)\n",
    "- Model — модель автомобиля\n",
    "- Kilometer — пробег (км)\n",
    "- RegistrationMonth — месяц регистрации автомобиля\n",
    "- FuelType — тип топлива\n",
    "- Brand — марка автомобиля\n",
    "- NotRepaired — была машина в ремонте или нет\n",
    "- DateCreated — дата создания анкеты\n",
    "- NumberOfPictures — количество фотографий автомобиля\n",
    "- PostalCode — почтовый индекс владельца анкеты (пользователя)\n",
    "- LastSeen — дата последней активности пользователя\n",
    "\n",
    "<b>Целевой признак</b>\n",
    "- Price — цена (евро)"
   ]
  },
  {
   "cell_type": "markdown",
   "metadata": {},
   "source": [
    "### Ход исследования"
   ]
  },
  {
   "cell_type": "markdown",
   "metadata": {},
   "source": [
    "1) Подготовка данных\n",
    "\n",
    "2) Обучение разных моделей\n",
    "\n",
    "3) Анализ скорости работы и качества моделей"
   ]
  },
  {
   "cell_type": "markdown",
   "metadata": {},
   "source": [
    "## Подготовка данных"
   ]
  },
  {
   "cell_type": "code",
   "execution_count": 4,
   "metadata": {},
   "outputs": [],
   "source": [
    "import pandas as pd \n",
    "import numpy as np \n",
    "import matplotlib.pyplot as plt\n",
    "import seaborn as sns\n",
    "\n",
    "import time \n",
    "\n",
    "from sklearn.metrics import mean_squared_error as mse \n",
    "from sklearn.model_selection import train_test_split, GridSearchCV\n",
    "from sklearn.preprocessing import LabelEncoder, StandardScaler\n",
    "\n",
    "from catboost import CatBoostRegressor \n",
    "from lightgbm import LGBMRegressor\n",
    "from xgboost import XGBRegressor\n",
    "\n",
    "RND = 12345\n",
    "\n",
    "import warnings\n",
    "warnings.filterwarnings('ignore')"
   ]
  },
  {
   "cell_type": "code",
   "execution_count": 5,
   "metadata": {},
   "outputs": [],
   "source": [
    "try:\n",
    "    df = pd.read_csv('/Users/vladislav/Documents/datasets/autos.csv')\n",
    "except:\n",
    "    df = pd.read_csv('https://code.s3.yandex.net/datasets/autos.csv')"
   ]
  },
  {
   "cell_type": "code",
   "execution_count": 6,
   "metadata": {},
   "outputs": [],
   "source": [
    "new_columns = df.columns.str.lower()\n",
    "df.set_axis(new_columns, axis = 'columns', inplace = True)"
   ]
  },
  {
   "cell_type": "markdown",
   "metadata": {},
   "source": [
    "Выгрузили данные и изменили названия столбцов в нижний регистр для удобства"
   ]
  },
  {
   "cell_type": "code",
   "execution_count": 7,
   "metadata": {},
   "outputs": [],
   "source": [
    "def first_check(dataset):\n",
    "    print(dataset.info())\n",
    "    display(dataset.head())\n",
    "    display(dataset.tail())\n",
    "    display(df.describe())\n",
    "    display(df.describe(include=['object', 'bool']))\n",
    "    print('Duplicates: ', dataset.duplicated().sum())"
   ]
  },
  {
   "cell_type": "code",
   "execution_count": 8,
   "metadata": {},
   "outputs": [
    {
     "name": "stdout",
     "output_type": "stream",
     "text": [
      "<class 'pandas.core.frame.DataFrame'>\n",
      "RangeIndex: 354369 entries, 0 to 354368\n",
      "Data columns (total 16 columns):\n",
      " #   Column             Non-Null Count   Dtype \n",
      "---  ------             --------------   ----- \n",
      " 0   datecrawled        354369 non-null  object\n",
      " 1   price              354369 non-null  int64 \n",
      " 2   vehicletype        316879 non-null  object\n",
      " 3   registrationyear   354369 non-null  int64 \n",
      " 4   gearbox            334536 non-null  object\n",
      " 5   power              354369 non-null  int64 \n",
      " 6   model              334664 non-null  object\n",
      " 7   kilometer          354369 non-null  int64 \n",
      " 8   registrationmonth  354369 non-null  int64 \n",
      " 9   fueltype           321474 non-null  object\n",
      " 10  brand              354369 non-null  object\n",
      " 11  notrepaired        283215 non-null  object\n",
      " 12  datecreated        354369 non-null  object\n",
      " 13  numberofpictures   354369 non-null  int64 \n",
      " 14  postalcode         354369 non-null  int64 \n",
      " 15  lastseen           354369 non-null  object\n",
      "dtypes: int64(7), object(9)\n",
      "memory usage: 43.3+ MB\n",
      "None\n"
     ]
    },
    {
     "data": {
      "text/html": [
       "<div>\n",
       "<style scoped>\n",
       "    .dataframe tbody tr th:only-of-type {\n",
       "        vertical-align: middle;\n",
       "    }\n",
       "\n",
       "    .dataframe tbody tr th {\n",
       "        vertical-align: top;\n",
       "    }\n",
       "\n",
       "    .dataframe thead th {\n",
       "        text-align: right;\n",
       "    }\n",
       "</style>\n",
       "<table border=\"1\" class=\"dataframe\">\n",
       "  <thead>\n",
       "    <tr style=\"text-align: right;\">\n",
       "      <th></th>\n",
       "      <th>datecrawled</th>\n",
       "      <th>price</th>\n",
       "      <th>vehicletype</th>\n",
       "      <th>registrationyear</th>\n",
       "      <th>gearbox</th>\n",
       "      <th>power</th>\n",
       "      <th>model</th>\n",
       "      <th>kilometer</th>\n",
       "      <th>registrationmonth</th>\n",
       "      <th>fueltype</th>\n",
       "      <th>brand</th>\n",
       "      <th>notrepaired</th>\n",
       "      <th>datecreated</th>\n",
       "      <th>numberofpictures</th>\n",
       "      <th>postalcode</th>\n",
       "      <th>lastseen</th>\n",
       "    </tr>\n",
       "  </thead>\n",
       "  <tbody>\n",
       "    <tr>\n",
       "      <th>0</th>\n",
       "      <td>2016-03-24 11:52:17</td>\n",
       "      <td>480</td>\n",
       "      <td>NaN</td>\n",
       "      <td>1993</td>\n",
       "      <td>manual</td>\n",
       "      <td>0</td>\n",
       "      <td>golf</td>\n",
       "      <td>150000</td>\n",
       "      <td>0</td>\n",
       "      <td>petrol</td>\n",
       "      <td>volkswagen</td>\n",
       "      <td>NaN</td>\n",
       "      <td>2016-03-24 00:00:00</td>\n",
       "      <td>0</td>\n",
       "      <td>70435</td>\n",
       "      <td>2016-04-07 03:16:57</td>\n",
       "    </tr>\n",
       "    <tr>\n",
       "      <th>1</th>\n",
       "      <td>2016-03-24 10:58:45</td>\n",
       "      <td>18300</td>\n",
       "      <td>coupe</td>\n",
       "      <td>2011</td>\n",
       "      <td>manual</td>\n",
       "      <td>190</td>\n",
       "      <td>NaN</td>\n",
       "      <td>125000</td>\n",
       "      <td>5</td>\n",
       "      <td>gasoline</td>\n",
       "      <td>audi</td>\n",
       "      <td>yes</td>\n",
       "      <td>2016-03-24 00:00:00</td>\n",
       "      <td>0</td>\n",
       "      <td>66954</td>\n",
       "      <td>2016-04-07 01:46:50</td>\n",
       "    </tr>\n",
       "    <tr>\n",
       "      <th>2</th>\n",
       "      <td>2016-03-14 12:52:21</td>\n",
       "      <td>9800</td>\n",
       "      <td>suv</td>\n",
       "      <td>2004</td>\n",
       "      <td>auto</td>\n",
       "      <td>163</td>\n",
       "      <td>grand</td>\n",
       "      <td>125000</td>\n",
       "      <td>8</td>\n",
       "      <td>gasoline</td>\n",
       "      <td>jeep</td>\n",
       "      <td>NaN</td>\n",
       "      <td>2016-03-14 00:00:00</td>\n",
       "      <td>0</td>\n",
       "      <td>90480</td>\n",
       "      <td>2016-04-05 12:47:46</td>\n",
       "    </tr>\n",
       "    <tr>\n",
       "      <th>3</th>\n",
       "      <td>2016-03-17 16:54:04</td>\n",
       "      <td>1500</td>\n",
       "      <td>small</td>\n",
       "      <td>2001</td>\n",
       "      <td>manual</td>\n",
       "      <td>75</td>\n",
       "      <td>golf</td>\n",
       "      <td>150000</td>\n",
       "      <td>6</td>\n",
       "      <td>petrol</td>\n",
       "      <td>volkswagen</td>\n",
       "      <td>no</td>\n",
       "      <td>2016-03-17 00:00:00</td>\n",
       "      <td>0</td>\n",
       "      <td>91074</td>\n",
       "      <td>2016-03-17 17:40:17</td>\n",
       "    </tr>\n",
       "    <tr>\n",
       "      <th>4</th>\n",
       "      <td>2016-03-31 17:25:20</td>\n",
       "      <td>3600</td>\n",
       "      <td>small</td>\n",
       "      <td>2008</td>\n",
       "      <td>manual</td>\n",
       "      <td>69</td>\n",
       "      <td>fabia</td>\n",
       "      <td>90000</td>\n",
       "      <td>7</td>\n",
       "      <td>gasoline</td>\n",
       "      <td>skoda</td>\n",
       "      <td>no</td>\n",
       "      <td>2016-03-31 00:00:00</td>\n",
       "      <td>0</td>\n",
       "      <td>60437</td>\n",
       "      <td>2016-04-06 10:17:21</td>\n",
       "    </tr>\n",
       "  </tbody>\n",
       "</table>\n",
       "</div>"
      ],
      "text/plain": [
       "           datecrawled  price vehicletype  registrationyear gearbox  power  \\\n",
       "0  2016-03-24 11:52:17    480         NaN              1993  manual      0   \n",
       "1  2016-03-24 10:58:45  18300       coupe              2011  manual    190   \n",
       "2  2016-03-14 12:52:21   9800         suv              2004    auto    163   \n",
       "3  2016-03-17 16:54:04   1500       small              2001  manual     75   \n",
       "4  2016-03-31 17:25:20   3600       small              2008  manual     69   \n",
       "\n",
       "   model  kilometer  registrationmonth  fueltype       brand notrepaired  \\\n",
       "0   golf     150000                  0    petrol  volkswagen         NaN   \n",
       "1    NaN     125000                  5  gasoline        audi         yes   \n",
       "2  grand     125000                  8  gasoline        jeep         NaN   \n",
       "3   golf     150000                  6    petrol  volkswagen          no   \n",
       "4  fabia      90000                  7  gasoline       skoda          no   \n",
       "\n",
       "           datecreated  numberofpictures  postalcode             lastseen  \n",
       "0  2016-03-24 00:00:00                 0       70435  2016-04-07 03:16:57  \n",
       "1  2016-03-24 00:00:00                 0       66954  2016-04-07 01:46:50  \n",
       "2  2016-03-14 00:00:00                 0       90480  2016-04-05 12:47:46  \n",
       "3  2016-03-17 00:00:00                 0       91074  2016-03-17 17:40:17  \n",
       "4  2016-03-31 00:00:00                 0       60437  2016-04-06 10:17:21  "
      ]
     },
     "metadata": {},
     "output_type": "display_data"
    },
    {
     "data": {
      "text/html": [
       "<div>\n",
       "<style scoped>\n",
       "    .dataframe tbody tr th:only-of-type {\n",
       "        vertical-align: middle;\n",
       "    }\n",
       "\n",
       "    .dataframe tbody tr th {\n",
       "        vertical-align: top;\n",
       "    }\n",
       "\n",
       "    .dataframe thead th {\n",
       "        text-align: right;\n",
       "    }\n",
       "</style>\n",
       "<table border=\"1\" class=\"dataframe\">\n",
       "  <thead>\n",
       "    <tr style=\"text-align: right;\">\n",
       "      <th></th>\n",
       "      <th>datecrawled</th>\n",
       "      <th>price</th>\n",
       "      <th>vehicletype</th>\n",
       "      <th>registrationyear</th>\n",
       "      <th>gearbox</th>\n",
       "      <th>power</th>\n",
       "      <th>model</th>\n",
       "      <th>kilometer</th>\n",
       "      <th>registrationmonth</th>\n",
       "      <th>fueltype</th>\n",
       "      <th>brand</th>\n",
       "      <th>notrepaired</th>\n",
       "      <th>datecreated</th>\n",
       "      <th>numberofpictures</th>\n",
       "      <th>postalcode</th>\n",
       "      <th>lastseen</th>\n",
       "    </tr>\n",
       "  </thead>\n",
       "  <tbody>\n",
       "    <tr>\n",
       "      <th>354364</th>\n",
       "      <td>2016-03-21 09:50:58</td>\n",
       "      <td>0</td>\n",
       "      <td>NaN</td>\n",
       "      <td>2005</td>\n",
       "      <td>manual</td>\n",
       "      <td>0</td>\n",
       "      <td>colt</td>\n",
       "      <td>150000</td>\n",
       "      <td>7</td>\n",
       "      <td>petrol</td>\n",
       "      <td>mitsubishi</td>\n",
       "      <td>yes</td>\n",
       "      <td>2016-03-21 00:00:00</td>\n",
       "      <td>0</td>\n",
       "      <td>2694</td>\n",
       "      <td>2016-03-21 10:42:49</td>\n",
       "    </tr>\n",
       "    <tr>\n",
       "      <th>354365</th>\n",
       "      <td>2016-03-14 17:48:27</td>\n",
       "      <td>2200</td>\n",
       "      <td>NaN</td>\n",
       "      <td>2005</td>\n",
       "      <td>NaN</td>\n",
       "      <td>0</td>\n",
       "      <td>NaN</td>\n",
       "      <td>20000</td>\n",
       "      <td>1</td>\n",
       "      <td>NaN</td>\n",
       "      <td>sonstige_autos</td>\n",
       "      <td>NaN</td>\n",
       "      <td>2016-03-14 00:00:00</td>\n",
       "      <td>0</td>\n",
       "      <td>39576</td>\n",
       "      <td>2016-04-06 00:46:52</td>\n",
       "    </tr>\n",
       "    <tr>\n",
       "      <th>354366</th>\n",
       "      <td>2016-03-05 19:56:21</td>\n",
       "      <td>1199</td>\n",
       "      <td>convertible</td>\n",
       "      <td>2000</td>\n",
       "      <td>auto</td>\n",
       "      <td>101</td>\n",
       "      <td>fortwo</td>\n",
       "      <td>125000</td>\n",
       "      <td>3</td>\n",
       "      <td>petrol</td>\n",
       "      <td>smart</td>\n",
       "      <td>no</td>\n",
       "      <td>2016-03-05 00:00:00</td>\n",
       "      <td>0</td>\n",
       "      <td>26135</td>\n",
       "      <td>2016-03-11 18:17:12</td>\n",
       "    </tr>\n",
       "    <tr>\n",
       "      <th>354367</th>\n",
       "      <td>2016-03-19 18:57:12</td>\n",
       "      <td>9200</td>\n",
       "      <td>bus</td>\n",
       "      <td>1996</td>\n",
       "      <td>manual</td>\n",
       "      <td>102</td>\n",
       "      <td>transporter</td>\n",
       "      <td>150000</td>\n",
       "      <td>3</td>\n",
       "      <td>gasoline</td>\n",
       "      <td>volkswagen</td>\n",
       "      <td>no</td>\n",
       "      <td>2016-03-19 00:00:00</td>\n",
       "      <td>0</td>\n",
       "      <td>87439</td>\n",
       "      <td>2016-04-07 07:15:26</td>\n",
       "    </tr>\n",
       "    <tr>\n",
       "      <th>354368</th>\n",
       "      <td>2016-03-20 19:41:08</td>\n",
       "      <td>3400</td>\n",
       "      <td>wagon</td>\n",
       "      <td>2002</td>\n",
       "      <td>manual</td>\n",
       "      <td>100</td>\n",
       "      <td>golf</td>\n",
       "      <td>150000</td>\n",
       "      <td>6</td>\n",
       "      <td>gasoline</td>\n",
       "      <td>volkswagen</td>\n",
       "      <td>NaN</td>\n",
       "      <td>2016-03-20 00:00:00</td>\n",
       "      <td>0</td>\n",
       "      <td>40764</td>\n",
       "      <td>2016-03-24 12:45:21</td>\n",
       "    </tr>\n",
       "  </tbody>\n",
       "</table>\n",
       "</div>"
      ],
      "text/plain": [
       "                datecrawled  price  vehicletype  registrationyear gearbox  \\\n",
       "354364  2016-03-21 09:50:58      0          NaN              2005  manual   \n",
       "354365  2016-03-14 17:48:27   2200          NaN              2005     NaN   \n",
       "354366  2016-03-05 19:56:21   1199  convertible              2000    auto   \n",
       "354367  2016-03-19 18:57:12   9200          bus              1996  manual   \n",
       "354368  2016-03-20 19:41:08   3400        wagon              2002  manual   \n",
       "\n",
       "        power        model  kilometer  registrationmonth  fueltype  \\\n",
       "354364      0         colt     150000                  7    petrol   \n",
       "354365      0          NaN      20000                  1       NaN   \n",
       "354366    101       fortwo     125000                  3    petrol   \n",
       "354367    102  transporter     150000                  3  gasoline   \n",
       "354368    100         golf     150000                  6  gasoline   \n",
       "\n",
       "                 brand notrepaired          datecreated  numberofpictures  \\\n",
       "354364      mitsubishi         yes  2016-03-21 00:00:00                 0   \n",
       "354365  sonstige_autos         NaN  2016-03-14 00:00:00                 0   \n",
       "354366           smart          no  2016-03-05 00:00:00                 0   \n",
       "354367      volkswagen          no  2016-03-19 00:00:00                 0   \n",
       "354368      volkswagen         NaN  2016-03-20 00:00:00                 0   \n",
       "\n",
       "        postalcode             lastseen  \n",
       "354364        2694  2016-03-21 10:42:49  \n",
       "354365       39576  2016-04-06 00:46:52  \n",
       "354366       26135  2016-03-11 18:17:12  \n",
       "354367       87439  2016-04-07 07:15:26  \n",
       "354368       40764  2016-03-24 12:45:21  "
      ]
     },
     "metadata": {},
     "output_type": "display_data"
    },
    {
     "data": {
      "text/html": [
       "<div>\n",
       "<style scoped>\n",
       "    .dataframe tbody tr th:only-of-type {\n",
       "        vertical-align: middle;\n",
       "    }\n",
       "\n",
       "    .dataframe tbody tr th {\n",
       "        vertical-align: top;\n",
       "    }\n",
       "\n",
       "    .dataframe thead th {\n",
       "        text-align: right;\n",
       "    }\n",
       "</style>\n",
       "<table border=\"1\" class=\"dataframe\">\n",
       "  <thead>\n",
       "    <tr style=\"text-align: right;\">\n",
       "      <th></th>\n",
       "      <th>price</th>\n",
       "      <th>registrationyear</th>\n",
       "      <th>power</th>\n",
       "      <th>kilometer</th>\n",
       "      <th>registrationmonth</th>\n",
       "      <th>numberofpictures</th>\n",
       "      <th>postalcode</th>\n",
       "    </tr>\n",
       "  </thead>\n",
       "  <tbody>\n",
       "    <tr>\n",
       "      <th>count</th>\n",
       "      <td>354369.000000</td>\n",
       "      <td>354369.000000</td>\n",
       "      <td>354369.000000</td>\n",
       "      <td>354369.000000</td>\n",
       "      <td>354369.000000</td>\n",
       "      <td>354369.0</td>\n",
       "      <td>354369.000000</td>\n",
       "    </tr>\n",
       "    <tr>\n",
       "      <th>mean</th>\n",
       "      <td>4416.656776</td>\n",
       "      <td>2004.234448</td>\n",
       "      <td>110.094337</td>\n",
       "      <td>128211.172535</td>\n",
       "      <td>5.714645</td>\n",
       "      <td>0.0</td>\n",
       "      <td>50508.689087</td>\n",
       "    </tr>\n",
       "    <tr>\n",
       "      <th>std</th>\n",
       "      <td>4514.158514</td>\n",
       "      <td>90.227958</td>\n",
       "      <td>189.850405</td>\n",
       "      <td>37905.341530</td>\n",
       "      <td>3.726421</td>\n",
       "      <td>0.0</td>\n",
       "      <td>25783.096248</td>\n",
       "    </tr>\n",
       "    <tr>\n",
       "      <th>min</th>\n",
       "      <td>0.000000</td>\n",
       "      <td>1000.000000</td>\n",
       "      <td>0.000000</td>\n",
       "      <td>5000.000000</td>\n",
       "      <td>0.000000</td>\n",
       "      <td>0.0</td>\n",
       "      <td>1067.000000</td>\n",
       "    </tr>\n",
       "    <tr>\n",
       "      <th>25%</th>\n",
       "      <td>1050.000000</td>\n",
       "      <td>1999.000000</td>\n",
       "      <td>69.000000</td>\n",
       "      <td>125000.000000</td>\n",
       "      <td>3.000000</td>\n",
       "      <td>0.0</td>\n",
       "      <td>30165.000000</td>\n",
       "    </tr>\n",
       "    <tr>\n",
       "      <th>50%</th>\n",
       "      <td>2700.000000</td>\n",
       "      <td>2003.000000</td>\n",
       "      <td>105.000000</td>\n",
       "      <td>150000.000000</td>\n",
       "      <td>6.000000</td>\n",
       "      <td>0.0</td>\n",
       "      <td>49413.000000</td>\n",
       "    </tr>\n",
       "    <tr>\n",
       "      <th>75%</th>\n",
       "      <td>6400.000000</td>\n",
       "      <td>2008.000000</td>\n",
       "      <td>143.000000</td>\n",
       "      <td>150000.000000</td>\n",
       "      <td>9.000000</td>\n",
       "      <td>0.0</td>\n",
       "      <td>71083.000000</td>\n",
       "    </tr>\n",
       "    <tr>\n",
       "      <th>max</th>\n",
       "      <td>20000.000000</td>\n",
       "      <td>9999.000000</td>\n",
       "      <td>20000.000000</td>\n",
       "      <td>150000.000000</td>\n",
       "      <td>12.000000</td>\n",
       "      <td>0.0</td>\n",
       "      <td>99998.000000</td>\n",
       "    </tr>\n",
       "  </tbody>\n",
       "</table>\n",
       "</div>"
      ],
      "text/plain": [
       "               price  registrationyear          power      kilometer  \\\n",
       "count  354369.000000     354369.000000  354369.000000  354369.000000   \n",
       "mean     4416.656776       2004.234448     110.094337  128211.172535   \n",
       "std      4514.158514         90.227958     189.850405   37905.341530   \n",
       "min         0.000000       1000.000000       0.000000    5000.000000   \n",
       "25%      1050.000000       1999.000000      69.000000  125000.000000   \n",
       "50%      2700.000000       2003.000000     105.000000  150000.000000   \n",
       "75%      6400.000000       2008.000000     143.000000  150000.000000   \n",
       "max     20000.000000       9999.000000   20000.000000  150000.000000   \n",
       "\n",
       "       registrationmonth  numberofpictures     postalcode  \n",
       "count      354369.000000          354369.0  354369.000000  \n",
       "mean            5.714645               0.0   50508.689087  \n",
       "std             3.726421               0.0   25783.096248  \n",
       "min             0.000000               0.0    1067.000000  \n",
       "25%             3.000000               0.0   30165.000000  \n",
       "50%             6.000000               0.0   49413.000000  \n",
       "75%             9.000000               0.0   71083.000000  \n",
       "max            12.000000               0.0   99998.000000  "
      ]
     },
     "metadata": {},
     "output_type": "display_data"
    },
    {
     "data": {
      "text/html": [
       "<div>\n",
       "<style scoped>\n",
       "    .dataframe tbody tr th:only-of-type {\n",
       "        vertical-align: middle;\n",
       "    }\n",
       "\n",
       "    .dataframe tbody tr th {\n",
       "        vertical-align: top;\n",
       "    }\n",
       "\n",
       "    .dataframe thead th {\n",
       "        text-align: right;\n",
       "    }\n",
       "</style>\n",
       "<table border=\"1\" class=\"dataframe\">\n",
       "  <thead>\n",
       "    <tr style=\"text-align: right;\">\n",
       "      <th></th>\n",
       "      <th>datecrawled</th>\n",
       "      <th>vehicletype</th>\n",
       "      <th>gearbox</th>\n",
       "      <th>model</th>\n",
       "      <th>fueltype</th>\n",
       "      <th>brand</th>\n",
       "      <th>notrepaired</th>\n",
       "      <th>datecreated</th>\n",
       "      <th>lastseen</th>\n",
       "    </tr>\n",
       "  </thead>\n",
       "  <tbody>\n",
       "    <tr>\n",
       "      <th>count</th>\n",
       "      <td>354369</td>\n",
       "      <td>316879</td>\n",
       "      <td>334536</td>\n",
       "      <td>334664</td>\n",
       "      <td>321474</td>\n",
       "      <td>354369</td>\n",
       "      <td>283215</td>\n",
       "      <td>354369</td>\n",
       "      <td>354369</td>\n",
       "    </tr>\n",
       "    <tr>\n",
       "      <th>unique</th>\n",
       "      <td>271174</td>\n",
       "      <td>8</td>\n",
       "      <td>2</td>\n",
       "      <td>250</td>\n",
       "      <td>7</td>\n",
       "      <td>40</td>\n",
       "      <td>2</td>\n",
       "      <td>109</td>\n",
       "      <td>179150</td>\n",
       "    </tr>\n",
       "    <tr>\n",
       "      <th>top</th>\n",
       "      <td>2016-03-24 14:49:47</td>\n",
       "      <td>sedan</td>\n",
       "      <td>manual</td>\n",
       "      <td>golf</td>\n",
       "      <td>petrol</td>\n",
       "      <td>volkswagen</td>\n",
       "      <td>no</td>\n",
       "      <td>2016-04-03 00:00:00</td>\n",
       "      <td>2016-04-06 13:45:54</td>\n",
       "    </tr>\n",
       "    <tr>\n",
       "      <th>freq</th>\n",
       "      <td>7</td>\n",
       "      <td>91457</td>\n",
       "      <td>268251</td>\n",
       "      <td>29232</td>\n",
       "      <td>216352</td>\n",
       "      <td>77013</td>\n",
       "      <td>247161</td>\n",
       "      <td>13719</td>\n",
       "      <td>17</td>\n",
       "    </tr>\n",
       "  </tbody>\n",
       "</table>\n",
       "</div>"
      ],
      "text/plain": [
       "                datecrawled vehicletype gearbox   model fueltype       brand  \\\n",
       "count                354369      316879  334536  334664   321474      354369   \n",
       "unique               271174           8       2     250        7          40   \n",
       "top     2016-03-24 14:49:47       sedan  manual    golf   petrol  volkswagen   \n",
       "freq                      7       91457  268251   29232   216352       77013   \n",
       "\n",
       "       notrepaired          datecreated             lastseen  \n",
       "count       283215               354369               354369  \n",
       "unique           2                  109               179150  \n",
       "top             no  2016-04-03 00:00:00  2016-04-06 13:45:54  \n",
       "freq        247161                13719                   17  "
      ]
     },
     "metadata": {},
     "output_type": "display_data"
    },
    {
     "name": "stdout",
     "output_type": "stream",
     "text": [
      "Duplicates:  4\n"
     ]
    }
   ],
   "source": [
    "first_check(df)"
   ]
  },
  {
   "cell_type": "markdown",
   "metadata": {},
   "source": [
    "**Первичный анализ:**\n",
    "- 354365 строк и 16 столбцов\n",
    "- Присутствуют пропуски\n",
    "- Средняя стоимость авто 2700 евро\n",
    "- Минимальный год регистриции автомобиля 1000, максимальный - 9999. Предлагаю обозначить диапазон в годах, выделенных из процентилей\n",
    "- Макс.значение в мощности автомобиля в лошадинных силах = 20 000. Показатель весьма фантастический. Выберем диапазон из процентилей\n",
    "- Минимальный пробег авто 5000, максимальный - 150000, но при этом много авто имееют максимальный пробег. Возможно просто ограничение ввода данных на сайте\n",
    "- Неправильно выставлены месяцы. Если первый месяц 0, то последний месяц не должен быть 12\n",
    "- Столбец с фото автомобилей. У нас их нет\n",
    "\n",
    "**-------------**\n",
    "\n",
    "- 8 уникальных типов автомобильного кузова\n",
    "- Чаще встречаются авто с ручной коробкой передач\n",
    "- Чаще встречаются автомобиле на бензине\n",
    "- Самый популярный бренд автомобиля Volkswagen\n",
    "- Много пропусков в столбце о ремонте авто, но чаще встречаются автомобили без ремонта\n",
    "\n",
    "В датасете присутствуют неинформативные признаки. Предлагаю не тратить на них время и работать в дальнейшем только с нужными признаками."
   ]
  },
  {
   "cell_type": "markdown",
   "metadata": {},
   "source": [
    "### Анализ и обработка"
   ]
  },
  {
   "cell_type": "markdown",
   "metadata": {},
   "source": [
    "**Категориальные признаки**"
   ]
  },
  {
   "cell_type": "code",
   "execution_count": 9,
   "metadata": {},
   "outputs": [
    {
     "data": {
      "text/plain": [
       "<AxesSubplot:>"
      ]
     },
     "execution_count": 9,
     "metadata": {},
     "output_type": "execute_result"
    },
    {
     "data": {
      "image/png": "[encoded data removed]",
      "text/plain": [
       "<Figure size 432x288 with 1 Axes>"
      ]
     },
     "metadata": {
      "needs_background": "light"
     },
     "output_type": "display_data"
    }
   ],
   "source": [
    "(df.isna().sum().sort_values(ascending=False) / df.shape[0] * 100).plot(kind='bar')"
   ]
  },
  {
   "cell_type": "markdown",
   "metadata": {},
   "source": [
    " **Объем пропущенных значений составляют: **\n",
    " - 20% в столбце NotRepaired. Скорее всего владельцы пропустили это значения потому что авто прежде не ремонтировалось. Либо просто скрыли информацию, чтобы автомобиль не казался менее привлекательным к покупке\n",
    " - 10% в столбце VehicleType \n",
    " - 9% в столбце FuelType\n",
    " - 5% в столбце GearBox\n",
    " - 5% в столбце Model\n",
    "\n",
    "Остальные столбцы имеют пропуски возможно по причине проблем с выгрузкой данных, так как на эти вопросы может ответить только владельцы автомобилей. Заполним пропуски модами с помощью группировки по другим признакам объектов."
   ]
  },
  {
   "cell_type": "code",
   "execution_count": 10,
   "metadata": {},
   "outputs": [],
   "source": [
    "df['notrepaired'] = df['notrepaired'].fillna('no')"
   ]
  },
  {
   "cell_type": "code",
   "execution_count": 11,
   "metadata": {},
   "outputs": [],
   "source": [
    "def fill_with_mode(column, column1, column2):\n",
    "    df[column] = df.groupby([column1, column2])[column].transform(\n",
    "        lambda x: x.fillna((x.mode()[0] if not x.mode().empty else \"Empty\")))"
   ]
  },
  {
   "cell_type": "code",
   "execution_count": 12,
   "metadata": {},
   "outputs": [],
   "source": [
    "fill_with_mode('model', 'brand', 'registrationyear')\n",
    "fill_with_mode('fueltype', 'brand', 'model')\n",
    "fill_with_mode('vehicletype', 'brand', 'model')\n",
    "fill_with_mode('gearbox', 'brand', 'model')"
   ]
  },
  {
   "cell_type": "code",
   "execution_count": 13,
   "metadata": {},
   "outputs": [],
   "source": [
    "filled_columns = ['model', 'gearbox', 'brand', 'vehicletype', 'fueltype']\n",
    "def count_empty_category(column):\n",
    "    print(column, ' : ' ,df[column][df[column] == 'Empty'].count())"
   ]
  },
  {
   "cell_type": "code",
   "execution_count": 14,
   "metadata": {
    "scrolled": true
   },
   "outputs": [
    {
     "name": "stdout",
     "output_type": "stream",
     "text": [
      "model  :  3442\n",
      "gearbox  :  21\n",
      "brand  :  0\n",
      "vehicletype  :  25\n",
      "fueltype  :  14\n"
     ]
    }
   ],
   "source": [
    "for column in filled_columns:\n",
    "    count_empty_category(column)"
   ]
  },
  {
   "cell_type": "markdown",
   "metadata": {},
   "source": [
    "3442 объекта продажи с неизвестными моделями авто. Предлагаю их переименовать в Other. Остальные показатели малы."
   ]
  },
  {
   "cell_type": "code",
   "execution_count": 15,
   "metadata": {},
   "outputs": [],
   "source": [
    "df['model'] = df['model'].replace('Empty', 'other')"
   ]
  },
  {
   "cell_type": "code",
   "execution_count": 16,
   "metadata": {},
   "outputs": [],
   "source": [
    "def make_plotbar(index, title):\n",
    "    pivot = pd.DataFrame(df.pivot_table(index=index, aggfunc=\"size\").sort_values(ascending=False)).head(10)\n",
    "    pivot.columns = ['count']\n",
    "    plt.figure(figsize=(12,6))\n",
    "    plt.title(title)\n",
    "    sns.barplot(x='count', y=pivot.index, data=pivot)"
   ]
  },
  {
   "cell_type": "code",
   "execution_count": 17,
   "metadata": {},
   "outputs": [
    {
     "data": {
      "image/png": "[encoded data removed]",
      "text/plain": [
       "<Figure size 864x432 with 1 Axes>"
      ]
     },
     "metadata": {
      "needs_background": "light"
     },
     "output_type": "display_data"
    }
   ],
   "source": [
    "make_plotbar('model', '10 популярных моделей авто')"
   ]
  },
  {
   "cell_type": "markdown",
   "metadata": {},
   "source": [
    "Самая популярная модель авто - golf"
   ]
  },
  {
   "cell_type": "code",
   "execution_count": 18,
   "metadata": {},
   "outputs": [
    {
     "data": {
      "image/png": "[encoded data removed]",
      "text/plain": [
       "<Figure size 864x432 with 1 Axes>"
      ]
     },
     "metadata": {
      "needs_background": "light"
     },
     "output_type": "display_data"
    }
   ],
   "source": [
    "make_plotbar('vehicletype', 'Типы автомобильного кузова')"
   ]
  },
  {
   "cell_type": "markdown",
   "metadata": {},
   "source": [
    "Самый популярный тип автомобильного кузова - седан"
   ]
  },
  {
   "cell_type": "code",
   "execution_count": 19,
   "metadata": {},
   "outputs": [
    {
     "data": {
      "image/png": "[encoded data removed]",
      "text/plain": [
       "<Figure size 864x432 with 1 Axes>"
      ]
     },
     "metadata": {
      "needs_background": "light"
     },
     "output_type": "display_data"
    }
   ],
   "source": [
    "make_plotbar('gearbox', 'Коробки передач')"
   ]
  },
  {
   "cell_type": "markdown",
   "metadata": {},
   "source": [
    "Автомобили с ручной коробкой передач превышают по количеству автомобили с автоматической коробкой передач"
   ]
  },
  {
   "cell_type": "code",
   "execution_count": 20,
   "metadata": {},
   "outputs": [
    {
     "data": {
      "image/png": "[encoded data removed]",
      "text/plain": [
       "<Figure size 864x432 with 1 Axes>"
      ]
     },
     "metadata": {
      "needs_background": "light"
     },
     "output_type": "display_data"
    }
   ],
   "source": [
    "make_plotbar('brand', '10 популярных автомобильных брендов')"
   ]
  },
  {
   "cell_type": "markdown",
   "metadata": {},
   "source": [
    "Volskwagen - самый продаваемый автомобиль"
   ]
  },
  {
   "cell_type": "code",
   "execution_count": 21,
   "metadata": {},
   "outputs": [
    {
     "data": {
      "image/png": "[encoded data removed]",
      "text/plain": [
       "<Figure size 864x432 with 1 Axes>"
      ]
     },
     "metadata": {
      "needs_background": "light"
     },
     "output_type": "display_data"
    }
   ],
   "source": [
    "make_plotbar('fueltype', 'Типы топлива для авто')"
   ]
  },
  {
   "cell_type": "markdown",
   "metadata": {},
   "source": [
    "Бензин - самое популярное топливо"
   ]
  },
  {
   "cell_type": "markdown",
   "metadata": {},
   "source": [
    "**Количественные признаки**"
   ]
  },
  {
   "cell_type": "code",
   "execution_count": 22,
   "metadata": {},
   "outputs": [
    {
     "data": {
      "text/plain": [
       "(10772, 16)"
      ]
     },
     "execution_count": 22,
     "metadata": {},
     "output_type": "execute_result"
    }
   ],
   "source": [
    "cars_for_free = df.query('price == 0')\n",
    "cars_for_free.shape"
   ]
  },
  {
   "cell_type": "markdown",
   "metadata": {},
   "source": [
    "10772 автомобиля отдаются бесплатно. На фоне остального датасета это немного строк. Предлагаю их просто убрать"
   ]
  },
  {
   "cell_type": "code",
   "execution_count": 23,
   "metadata": {},
   "outputs": [],
   "source": [
    "df = df.query('price != 0')"
   ]
  },
  {
   "cell_type": "code",
   "execution_count": 24,
   "metadata": {},
   "outputs": [],
   "source": [
    "perc = np.arange(0,1,0.05)"
   ]
  },
  {
   "cell_type": "code",
   "execution_count": 25,
   "metadata": {},
   "outputs": [
    {
     "data": {
      "text/plain": [
       "count    343597.000000\n",
       "mean        111.000192\n",
       "std         188.177974\n",
       "min           0.000000\n",
       "0%            0.000000\n",
       "5%            0.000000\n",
       "10%           0.000000\n",
       "15%          54.000000\n",
       "20%          60.000000\n",
       "25%          69.000000\n",
       "30%          75.000000\n",
       "35%          82.000000\n",
       "40%          90.000000\n",
       "45%         101.000000\n",
       "50%         105.000000\n",
       "55%         110.000000\n",
       "60%         116.000000\n",
       "65%         125.000000\n",
       "70%         136.000000\n",
       "75%         143.000000\n",
       "80%         150.000000\n",
       "85%         170.000000\n",
       "90%         180.000000\n",
       "95%         218.000000\n",
       "max       20000.000000\n",
       "Name: power, dtype: float64"
      ]
     },
     "execution_count": 25,
     "metadata": {},
     "output_type": "execute_result"
    }
   ],
   "source": [
    "df['power'].describe(percentiles = perc)"
   ]
  },
  {
   "cell_type": "code",
   "execution_count": 26,
   "metadata": {},
   "outputs": [
    {
     "data": {
      "image/png": "[encoded data removed]",
      "text/plain": [
       "<Figure size 864x432 with 2 Axes>"
      ]
     },
     "metadata": {
      "needs_background": "light"
     },
     "output_type": "display_data"
    }
   ],
   "source": [
    "fig, axes = plt.subplots(1, 2, figsize=(12, 6))\n",
    "\n",
    "axes[0].set_title('power')\n",
    "sns.boxplot(y = 'power', data=df, ax = axes[0])\n",
    "axes[0].set_xlabel('Количество')\n",
    "     \n",
    "axes[1].set_title('power')\n",
    "sns.distplot(df['power'], kde=False, bins=50, ax = axes[1])\n",
    "axes[1].set_ylabel('Количество')\n",
    "            \n",
    "plt.show()"
   ]
  },
  {
   "cell_type": "markdown",
   "metadata": {},
   "source": [
    "много выбросов, от этого график становится неинформативным"
   ]
  },
  {
   "cell_type": "code",
   "execution_count": 27,
   "metadata": {},
   "outputs": [
    {
     "data": {
      "text/plain": [
       "Text(0, 0.5, 'Количество')"
      ]
     },
     "execution_count": 27,
     "metadata": {},
     "output_type": "execute_result"
    },
    {
     "data": {
      "image/png": "[encoded data removed]",
      "text/plain": [
       "<Figure size 864x432 with 1 Axes>"
      ]
     },
     "metadata": {
      "needs_background": "light"
     },
     "output_type": "display_data"
    }
   ],
   "source": [
    "Q1 = df['power'].quantile(0.25)\n",
    "Q3 = df['power'].quantile(0.75)\n",
    "IQR = Q3 - Q1\n",
    "fig, ax = plt.subplots()\n",
    "df['power'].plot(kind = 'hist', bins = 100, grid = True, range = (Q1 - IQR, Q3 + 3*IQR), figsize = (12, 6))\n",
    "ax.set_xlabel('Лошадиные силы')\n",
    "ax.set_ylabel('Количество')"
   ]
  },
  {
   "cell_type": "markdown",
   "metadata": {},
   "source": [
    "Мы взяли квантили от показателей столбца для графика, и судя по нему в основном встречаются авто с мощностью до 350 лс. Примем 350 лс как максимум диапазона, а нули заменим на медианы относительно групп моделей объектов"
   ]
  },
  {
   "cell_type": "code",
   "execution_count": 28,
   "metadata": {},
   "outputs": [],
   "source": [
    "df = df.query('power <= 350')"
   ]
  },
  {
   "cell_type": "code",
   "execution_count": 29,
   "metadata": {},
   "outputs": [],
   "source": [
    "medians  = df.groupby('model')['power'].median().to_dict()\n",
    "def fill_with_median (row):\n",
    "    if row['power'] == 0:\n",
    "        return medians [row['model']]\n",
    "    return row ['power']\n",
    "df['power'] = df.apply(lambda row: fill_with_median(row), axis = 1)"
   ]
  },
  {
   "cell_type": "code",
   "execution_count": 30,
   "metadata": {},
   "outputs": [
    {
     "data": {
      "image/png": "[encoded data removed]",
      "text/plain": [
       "<Figure size 864x432 with 1 Axes>"
      ]
     },
     "metadata": {
      "needs_background": "light"
     },
     "output_type": "display_data"
    }
   ],
   "source": [
    "fig, ax = plt.subplots(figsize=(12, 6))\n",
    "ax.set_title('power')\n",
    "sns.distplot(df['power'], kde=False, bins=50, ax = ax)\n",
    "ax.set_ylabel('Количество')          \n",
    "plt.show()"
   ]
  },
  {
   "cell_type": "markdown",
   "metadata": {},
   "source": [
    "Убрали выбросы и нули из столбца Power"
   ]
  },
  {
   "cell_type": "code",
   "execution_count": 31,
   "metadata": {},
   "outputs": [
    {
     "data": {
      "text/plain": [
       "count    342441.000000\n",
       "mean       2004.074962\n",
       "std          77.973936\n",
       "min        1000.000000\n",
       "0%         1000.000000\n",
       "5%         1993.000000\n",
       "10%        1996.000000\n",
       "15%        1997.000000\n",
       "20%        1998.000000\n",
       "25%        1999.000000\n",
       "30%        2000.000000\n",
       "35%        2000.000000\n",
       "40%        2001.000000\n",
       "45%        2002.000000\n",
       "50%        2003.000000\n",
       "55%        2004.000000\n",
       "60%        2005.000000\n",
       "65%        2006.000000\n",
       "70%        2007.000000\n",
       "75%        2008.000000\n",
       "80%        2009.000000\n",
       "85%        2010.000000\n",
       "90%        2012.000000\n",
       "95%        2016.000000\n",
       "max        9999.000000\n",
       "Name: registrationyear, dtype: float64"
      ]
     },
     "execution_count": 31,
     "metadata": {},
     "output_type": "execute_result"
    }
   ],
   "source": [
    "df['registrationyear'].describe(percentiles=perc)"
   ]
  },
  {
   "cell_type": "markdown",
   "metadata": {},
   "source": [
    "Возьмем область от 5% в столбе года регистрации"
   ]
  },
  {
   "cell_type": "code",
   "execution_count": 32,
   "metadata": {},
   "outputs": [],
   "source": [
    "df = df.query('registrationyear >= 1992 and registrationyear < 2020')"
   ]
  },
  {
   "cell_type": "code",
   "execution_count": 33,
   "metadata": {},
   "outputs": [],
   "source": [
    "df = df.drop_duplicates().reset_index(drop=True)"
   ]
  },
  {
   "cell_type": "markdown",
   "metadata": {},
   "source": [
    "Убрали дубликаты"
   ]
  },
  {
   "cell_type": "code",
   "execution_count": 34,
   "metadata": {},
   "outputs": [],
   "source": [
    "def make_price_plot(feature, title):\n",
    "    mean_price = df[[feature, 'price']].groupby(feature, as_index=False).mean().astype('int')\n",
    "    plt.figure(figsize=(12,6))\n",
    "    plt.grid(axis = 'both')\n",
    "    sns.lineplot(x=feature, y='price', data=mean_price)\n",
    "    plt.xlabel(feature, size=12)\n",
    "    plt.ylabel('Средняя цена в евро', size=12)\n",
    "    plt.title(title, size=15, y=1.02)\n",
    "    plt.show()"
   ]
  },
  {
   "cell_type": "code",
   "execution_count": 35,
   "metadata": {},
   "outputs": [
    {
     "data": {
      "image/png": "[encoded data removed]",
      "text/plain": [
       "<Figure size 864x432 with 1 Axes>"
      ]
     },
     "metadata": {
      "needs_background": "light"
     },
     "output_type": "display_data"
    }
   ],
   "source": [
    "make_price_plot('registrationyear', 'Изменение цены в зависимости от года регистрации')"
   ]
  },
  {
   "cell_type": "markdown",
   "metadata": {},
   "source": [
    "По всей вероятности, на ценообразование оказали влияние в 2015 какие-либо макроэкономические факторы."
   ]
  },
  {
   "cell_type": "code",
   "execution_count": 36,
   "metadata": {},
   "outputs": [
    {
     "data": {
      "image/png": "[encoded data removed]",
      "text/plain": [
       "<Figure size 864x432 with 1 Axes>"
      ]
     },
     "metadata": {
      "needs_background": "light"
     },
     "output_type": "display_data"
    }
   ],
   "source": [
    "make_price_plot('power', 'Изменение цены в зависимости от мощности')"
   ]
  },
  {
   "cell_type": "code",
   "execution_count": 37,
   "metadata": {},
   "outputs": [
    {
     "data": {
      "image/png": "[encoded data removed]",
      "text/plain": [
       "<Figure size 864x432 with 1 Axes>"
      ]
     },
     "metadata": {
      "needs_background": "light"
     },
     "output_type": "display_data"
    }
   ],
   "source": [
    "make_price_plot('kilometer', 'Изменение цены в зависимости от пробега')"
   ]
  },
  {
   "cell_type": "code",
   "execution_count": 38,
   "metadata": {
    "scrolled": true
   },
   "outputs": [
    {
     "data": {
      "text/plain": [
       "(328421, 16)"
      ]
     },
     "execution_count": 38,
     "metadata": {},
     "output_type": "execute_result"
    }
   ],
   "source": [
    "df.shape"
   ]
  },
  {
   "cell_type": "code",
   "execution_count": 39,
   "metadata": {
    "scrolled": true
   },
   "outputs": [
    {
     "data": {
      "text/plain": [
       "<AxesSubplot:>"
      ]
     },
     "execution_count": 39,
     "metadata": {},
     "output_type": "execute_result"
    },
    {
     "data": {
      "image/png": "[encoded data removed]",
      "text/plain": [
       "<Figure size 432x288 with 2 Axes>"
      ]
     },
     "metadata": {
      "needs_background": "light"
     },
     "output_type": "display_data"
    }
   ],
   "source": [
    "corr = df.corr()\n",
    "sns.heatmap(corr)"
   ]
  },
  {
   "cell_type": "code",
   "execution_count": 40,
   "metadata": {},
   "outputs": [
    {
     "data": {
      "text/plain": [
       "-0.3685454047844272"
      ]
     },
     "execution_count": 40,
     "metadata": {},
     "output_type": "execute_result"
    }
   ],
   "source": [
    "df['price'].corr(df['kilometer'])"
   ]
  },
  {
   "cell_type": "markdown",
   "metadata": {},
   "source": [
    "<b>Вывод этапа обработки данных:</b>"
   ]
  },
  {
   "cell_type": "markdown",
   "metadata": {},
   "source": [
    "После анализа и обработки мы потеряли 1\\10 данных. Вероятно, это не сильно повлияет на дальнейшую работу\n",
    "\n",
    "* Наибольшее количество пропусков (20%) было в столбце NotRepaired. Скорее всего владельцы пропустили это значения потому что авто прежде не ремонтировалось. Либо просто скрыли информацию, чтобы автомобиль не казался менее привлекательным к покупке. В остальных столбцах доля пропусков была ниже, все пропуски заполнены.\n",
    "* Наиболее популярной маркой автомобилей была Volkswagen;\n",
    "* Наиболее популярная модель - Golf;\n",
    "* Наиболее популярный тип кузова -  седан;\n",
    "* Наиболее популярный тип коробки передач - механическая;\n",
    "* Наиболее популярный тип топлива - бензин; \n",
    "* Для 10,7 тыс. автомобилей не была указана цена, данные строки были исключены из датасета;\n",
    "* Из столбцов *power* и *registrationyear* были убраны выбросы и дубликаты;\n",
    "* Во временном срезе в 2015 году по имеющимся данным можно наблюдать тенденцию глобального снижения объемов продаж  уровня цен.\n",
    "* Зависимость уровня цен от пробега автомобиля имеется и логически обосновывается.\n",
    "* По корреляционной матрице подтверждается, что имеется зависимость между ценой и возрастом авто (чем моложе автомобиль, тем выше цена), между ценой и мощностью (чем мощнее автомобиль, тем выше цена), а также отрицательная зависимость между ценой и пробегом (чем больше пробег, тем ниже цена)."
   ]
  },
  {
   "cell_type": "markdown",
   "metadata": {},
   "source": [
    "## Обучение моделей"
   ]
  },
  {
   "cell_type": "markdown",
   "metadata": {},
   "source": [
    "Features: \n",
    " - Object: \n",
    "       'vehicletype', 'registrationyear', 'gearbox',\n",
    "       'model', 'fueltype', 'brand',\n",
    "       'notrepaired'\n",
    " - Int: 'power', 'kilometer'\n",
    "\n",
    "Target: 'price'"
   ]
  },
  {
   "cell_type": "markdown",
   "metadata": {},
   "source": [
    "Уберем ненужные столбцы, относящиеся к объявлению, но не к автомобилю, и, соответственно, не влияющие на его стоимость. "
   ]
  },
  {
   "cell_type": "code",
   "execution_count": 41,
   "metadata": {},
   "outputs": [],
   "source": [
    "df = df.drop(['datecrawled', 'datecreated', 'numberofpictures', 'postalcode', 'lastseen'], axis=1)"
   ]
  },
  {
   "cell_type": "code",
   "execution_count": 42,
   "metadata": {},
   "outputs": [],
   "source": [
    "cats_cols = list(df.select_dtypes(include='object').columns)\n",
    "label_encode = LabelEncoder()\n",
    "for column in cats_cols:\n",
    "    label_encode.fit(df[column].astype('str'))\n",
    "    df[column] = label_encode.transform(df[column].astype('str'))"
   ]
  },
  {
   "cell_type": "markdown",
   "metadata": {},
   "source": [
    "Провели кодирование категориальных данных с помощью Label Encoder"
   ]
  },
  {
   "cell_type": "code",
   "execution_count": 43,
   "metadata": {},
   "outputs": [
    {
     "data": {
      "text/plain": [
       "['vehicletype', 'gearbox', 'model', 'fueltype', 'brand', 'notrepaired']"
      ]
     },
     "execution_count": 43,
     "metadata": {},
     "output_type": "execute_result"
    }
   ],
   "source": [
    "cats_cols"
   ]
  },
  {
   "cell_type": "code",
   "execution_count": 44,
   "metadata": {},
   "outputs": [],
   "source": [
    "features = df.drop('price', axis=1)\n",
    "target = df['price']"
   ]
  },
  {
   "cell_type": "code",
   "execution_count": 45,
   "metadata": {},
   "outputs": [],
   "source": [
    "X_train, X_test, y_train, y_test = train_test_split(features, target, test_size=0.2, random_state=RND)\n",
    "#X_train_valid, X_test_valid, y_train_valid, y_test_valid = train_test_split(\n",
    "#    X_test, y_test, test_size=0.5, random_state=RND)"
   ]
  },
  {
   "cell_type": "code",
   "execution_count": 46,
   "metadata": {},
   "outputs": [
    {
     "data": {
      "text/html": [
       "<div>\n",
       "<style scoped>\n",
       "    .dataframe tbody tr th:only-of-type {\n",
       "        vertical-align: middle;\n",
       "    }\n",
       "\n",
       "    .dataframe tbody tr th {\n",
       "        vertical-align: top;\n",
       "    }\n",
       "\n",
       "    .dataframe thead th {\n",
       "        text-align: right;\n",
       "    }\n",
       "</style>\n",
       "<table border=\"1\" class=\"dataframe\">\n",
       "  <thead>\n",
       "    <tr style=\"text-align: right;\">\n",
       "      <th></th>\n",
       "      <th>vehicletype</th>\n",
       "      <th>registrationyear</th>\n",
       "      <th>gearbox</th>\n",
       "      <th>power</th>\n",
       "      <th>model</th>\n",
       "      <th>kilometer</th>\n",
       "      <th>registrationmonth</th>\n",
       "      <th>fueltype</th>\n",
       "      <th>brand</th>\n",
       "      <th>notrepaired</th>\n",
       "    </tr>\n",
       "  </thead>\n",
       "  <tbody>\n",
       "    <tr>\n",
       "      <th>181112</th>\n",
       "      <td>4</td>\n",
       "      <td>2016</td>\n",
       "      <td>1</td>\n",
       "      <td>107.0</td>\n",
       "      <td>149</td>\n",
       "      <td>150000</td>\n",
       "      <td>4</td>\n",
       "      <td>6</td>\n",
       "      <td>27</td>\n",
       "      <td>1</td>\n",
       "    </tr>\n",
       "    <tr>\n",
       "      <th>178231</th>\n",
       "      <td>1</td>\n",
       "      <td>1998</td>\n",
       "      <td>1</td>\n",
       "      <td>71.0</td>\n",
       "      <td>42</td>\n",
       "      <td>150000</td>\n",
       "      <td>0</td>\n",
       "      <td>6</td>\n",
       "      <td>24</td>\n",
       "      <td>0</td>\n",
       "    </tr>\n",
       "    <tr>\n",
       "      <th>287463</th>\n",
       "      <td>4</td>\n",
       "      <td>2002</td>\n",
       "      <td>1</td>\n",
       "      <td>129.0</td>\n",
       "      <td>59</td>\n",
       "      <td>100000</td>\n",
       "      <td>3</td>\n",
       "      <td>4</td>\n",
       "      <td>20</td>\n",
       "      <td>0</td>\n",
       "    </tr>\n",
       "    <tr>\n",
       "      <th>197646</th>\n",
       "      <td>0</td>\n",
       "      <td>2006</td>\n",
       "      <td>1</td>\n",
       "      <td>150.0</td>\n",
       "      <td>202</td>\n",
       "      <td>150000</td>\n",
       "      <td>6</td>\n",
       "      <td>6</td>\n",
       "      <td>38</td>\n",
       "      <td>0</td>\n",
       "    </tr>\n",
       "    <tr>\n",
       "      <th>78455</th>\n",
       "      <td>7</td>\n",
       "      <td>2009</td>\n",
       "      <td>1</td>\n",
       "      <td>245.0</td>\n",
       "      <td>11</td>\n",
       "      <td>150000</td>\n",
       "      <td>8</td>\n",
       "      <td>2</td>\n",
       "      <td>2</td>\n",
       "      <td>0</td>\n",
       "    </tr>\n",
       "  </tbody>\n",
       "</table>\n",
       "</div>"
      ],
      "text/plain": [
       "        vehicletype  registrationyear  gearbox  power  model  kilometer  \\\n",
       "181112            4              2016        1  107.0    149     150000   \n",
       "178231            1              1998        1   71.0     42     150000   \n",
       "287463            4              2002        1  129.0     59     100000   \n",
       "197646            0              2006        1  150.0    202     150000   \n",
       "78455             7              2009        1  245.0     11     150000   \n",
       "\n",
       "        registrationmonth  fueltype  brand  notrepaired  \n",
       "181112                  4         6     27            1  \n",
       "178231                  0         6     24            0  \n",
       "287463                  3         4     20            0  \n",
       "197646                  6         6     38            0  \n",
       "78455                   8         2      2            0  "
      ]
     },
     "execution_count": 46,
     "metadata": {},
     "output_type": "execute_result"
    }
   ],
   "source": [
    "X_train.head()"
   ]
  },
  {
   "cell_type": "markdown",
   "metadata": {},
   "source": [
    "Поделили данные на обучающую, тестовую и валидационную выборки"
   ]
  },
  {
   "cell_type": "code",
   "execution_count": 47,
   "metadata": {},
   "outputs": [],
   "source": [
    "scaler = StandardScaler()\n",
    "quanti_columns = ['registrationyear', 'power', 'kilometer']\n",
    "scaler.fit(X_train[quanti_columns])\n",
    "\n",
    "X_train[quanti_columns] = scaler.transform(X_train[quanti_columns])\n",
    "X_test[quanti_columns] = scaler.transform(X_test[quanti_columns])\n",
    "#X_train_valid[quanti_columns] = scaler.transform(X_train_valid[quanti_columns])"
   ]
  },
  {
   "cell_type": "code",
   "execution_count": 48,
   "metadata": {},
   "outputs": [
    {
     "data": {
      "text/html": [
       "<div>\n",
       "<style scoped>\n",
       "    .dataframe tbody tr th:only-of-type {\n",
       "        vertical-align: middle;\n",
       "    }\n",
       "\n",
       "    .dataframe tbody tr th {\n",
       "        vertical-align: top;\n",
       "    }\n",
       "\n",
       "    .dataframe thead th {\n",
       "        text-align: right;\n",
       "    }\n",
       "</style>\n",
       "<table border=\"1\" class=\"dataframe\">\n",
       "  <thead>\n",
       "    <tr style=\"text-align: right;\">\n",
       "      <th></th>\n",
       "      <th>vehicletype</th>\n",
       "      <th>registrationyear</th>\n",
       "      <th>gearbox</th>\n",
       "      <th>power</th>\n",
       "      <th>model</th>\n",
       "      <th>kilometer</th>\n",
       "      <th>registrationmonth</th>\n",
       "      <th>fueltype</th>\n",
       "      <th>brand</th>\n",
       "      <th>notrepaired</th>\n",
       "    </tr>\n",
       "  </thead>\n",
       "  <tbody>\n",
       "    <tr>\n",
       "      <th>181112</th>\n",
       "      <td>4</td>\n",
       "      <td>2.007513</td>\n",
       "      <td>1</td>\n",
       "      <td>-0.222290</td>\n",
       "      <td>149</td>\n",
       "      <td>0.572715</td>\n",
       "      <td>4</td>\n",
       "      <td>6</td>\n",
       "      <td>27</td>\n",
       "      <td>1</td>\n",
       "    </tr>\n",
       "    <tr>\n",
       "      <th>178231</th>\n",
       "      <td>1</td>\n",
       "      <td>-1.003763</td>\n",
       "      <td>1</td>\n",
       "      <td>-0.935829</td>\n",
       "      <td>42</td>\n",
       "      <td>0.572715</td>\n",
       "      <td>0</td>\n",
       "      <td>6</td>\n",
       "      <td>24</td>\n",
       "      <td>0</td>\n",
       "    </tr>\n",
       "    <tr>\n",
       "      <th>287463</th>\n",
       "      <td>4</td>\n",
       "      <td>-0.334591</td>\n",
       "      <td>1</td>\n",
       "      <td>0.213762</td>\n",
       "      <td>59</td>\n",
       "      <td>-0.785008</td>\n",
       "      <td>3</td>\n",
       "      <td>4</td>\n",
       "      <td>20</td>\n",
       "      <td>0</td>\n",
       "    </tr>\n",
       "    <tr>\n",
       "      <th>197646</th>\n",
       "      <td>0</td>\n",
       "      <td>0.334582</td>\n",
       "      <td>1</td>\n",
       "      <td>0.629993</td>\n",
       "      <td>202</td>\n",
       "      <td>0.572715</td>\n",
       "      <td>6</td>\n",
       "      <td>6</td>\n",
       "      <td>38</td>\n",
       "      <td>0</td>\n",
       "    </tr>\n",
       "    <tr>\n",
       "      <th>78455</th>\n",
       "      <td>7</td>\n",
       "      <td>0.836461</td>\n",
       "      <td>1</td>\n",
       "      <td>2.512943</td>\n",
       "      <td>11</td>\n",
       "      <td>0.572715</td>\n",
       "      <td>8</td>\n",
       "      <td>2</td>\n",
       "      <td>2</td>\n",
       "      <td>0</td>\n",
       "    </tr>\n",
       "  </tbody>\n",
       "</table>\n",
       "</div>"
      ],
      "text/plain": [
       "        vehicletype  registrationyear  gearbox     power  model  kilometer  \\\n",
       "181112            4          2.007513        1 -0.222290    149   0.572715   \n",
       "178231            1         -1.003763        1 -0.935829     42   0.572715   \n",
       "287463            4         -0.334591        1  0.213762     59  -0.785008   \n",
       "197646            0          0.334582        1  0.629993    202   0.572715   \n",
       "78455             7          0.836461        1  2.512943     11   0.572715   \n",
       "\n",
       "        registrationmonth  fueltype  brand  notrepaired  \n",
       "181112                  4         6     27            1  \n",
       "178231                  0         6     24            0  \n",
       "287463                  3         4     20            0  \n",
       "197646                  6         6     38            0  \n",
       "78455                   8         2      2            0  "
      ]
     },
     "execution_count": 48,
     "metadata": {},
     "output_type": "execute_result"
    }
   ],
   "source": [
    "X_train.head()"
   ]
  },
  {
   "cell_type": "markdown",
   "metadata": {},
   "source": [
    "Стандартизировали их"
   ]
  },
  {
   "cell_type": "markdown",
   "metadata": {},
   "source": [
    "### LGB Regressor"
   ]
  },
  {
   "cell_type": "code",
   "execution_count": 49,
   "metadata": {},
   "outputs": [],
   "source": [
    "def lgb_regr(features, target):\n",
    "    model = LGBMRegressor()\n",
    "    params = {\n",
    "        'boosting_type' : ['gbdt'],\n",
    "        'n_estimators' : [50, 100],\n",
    "        'max_depth' : [5, 7, 10],\n",
    "        'verbose' : [0],\n",
    "        'random_state' : [RND],\n",
    "        'force_col_wise': [True],\n",
    "        'num_leaves' : [127]}\n",
    "    grid_cv = GridSearchCV(estimator=model, param_grid=params, cv=3, n_jobs=-1, scoring='neg_mean_squared_error')\n",
    "    grid_cv.fit(features, target, categorical_feature=cats_cols)\n",
    "    print('Best hyperparams: ', grid_cv.best_params_)\n",
    "    print('RMSE score on train sample: {:.2f}'.format((-grid_cv.best_score_) ** 0.5))\n",
    "    return grid_cv.best_params_"
   ]
  },
  {
   "cell_type": "code",
   "execution_count": 50,
   "metadata": {
    "scrolled": true
   },
   "outputs": [
    {
     "name": "stdout",
     "output_type": "stream",
     "text": [
      "[LightGBM] [Warning] No further splits with positive gain, best gain: -inf\n",
      "[LightGBM] [Warning] No further splits with positive gain, best gain: -inf\n",
      "[LightGBM] [Warning] No further splits with positive gain, best gain: -inf\n",
      "[LightGBM] [Warning] No further splits with positive gain, best gain: -inf\n",
      "[LightGBM] [Warning] No further splits with positive gain, best gain: -inf\n",
      "[LightGBM] [Warning] No further splits with positive gain, best gain: -inf\n",
      "[LightGBM] [Warning] No further splits with positive gain, best gain: -inf\n",
      "[LightGBM] [Warning] No further splits with positive gain, best gain: -inf\n",
      "[LightGBM] [Warning] No further splits with positive gain, best gain: -inf\n",
      "[LightGBM] [Warning] No further splits with positive gain, best gain: -inf\n",
      "[LightGBM] [Warning] No further splits with positive gain, best gain: -inf\n",
      "[LightGBM] [Warning] No further splits with positive gain, best gain: -inf\n",
      "[LightGBM] [Warning] No further splits with positive gain, best gain: -inf\n",
      "[LightGBM] [Warning] No further splits with positive gain, best gain: -inf\n",
      "[LightGBM] [Warning] No further splits with positive gain, best gain: -inf\n",
      "[LightGBM] [Warning] No further splits with positive gain, best gain: -inf\n",
      "[LightGBM] [Warning] No further splits with positive gain, best gain: -inf\n",
      "[LightGBM] [Warning] No further splits with positive gain, best gain: -inf\n",
      "[LightGBM] [Warning] No further splits with positive gain, best gain: -inf\n",
      "[LightGBM] [Warning] No further splits with positive gain, best gain: -inf\n",
      "[LightGBM] [Warning] No further splits with positive gain, best gain: -inf\n",
      "[LightGBM] [Warning] No further splits with positive gain, best gain: -inf\n",
      "[LightGBM] [Warning] No further splits with positive gain, best gain: -inf\n",
      "[LightGBM] [Warning] No further splits with positive gain, best gain: -inf\n",
      "[LightGBM] [Warning] No further splits with positive gain, best gain: -inf\n",
      "[LightGBM] [Warning] No further splits with positive gain, best gain: -inf\n",
      "[LightGBM] [Warning] No further splits with positive gain, best gain: -inf\n",
      "[LightGBM] [Warning] No further splits with positive gain, best gain: -inf\n",
      "[LightGBM] [Warning] No further splits with positive gain, best gain: -inf\n",
      "[LightGBM] [Warning] No further splits with positive gain, best gain: -inf\n",
      "[LightGBM] [Warning] No further splits with positive gain, best gain: -inf\n",
      "[LightGBM] [Warning] No further splits with positive gain, best gain: -inf\n",
      "[LightGBM] [Warning] No further splits with positive gain, best gain: -inf\n",
      "[LightGBM] [Warning] No further splits with positive gain, best gain: -inf\n",
      "[LightGBM] [Warning] No further splits with positive gain, best gain: -inf\n",
      "[LightGBM] [Warning] No further splits with positive gain, best gain: -inf\n",
      "[LightGBM] [Warning] No further splits with positive gain, best gain: -inf\n",
      "[LightGBM] [Warning] No further splits with positive gain, best gain: -inf\n",
      "[LightGBM] [Warning] No further splits with positive gain, best gain: -inf\n",
      "[LightGBM] [Warning] No further splits with positive gain, best gain: -inf\n",
      "[LightGBM] [Warning] No further splits with positive gain, best gain: -inf\n",
      "[LightGBM] [Warning] No further splits with positive gain, best gain: -inf\n",
      "[LightGBM] [Warning] No further splits with positive gain, best gain: -inf\n",
      "[LightGBM] [Warning] No further splits with positive gain, best gain: -inf\n",
      "[LightGBM] [Warning] No further splits with positive gain, best gain: -inf\n",
      "[LightGBM] [Warning] No further splits with positive gain, best gain: -inf\n",
      "[LightGBM] [Warning] No further splits with positive gain, best gain: -inf\n",
      "[LightGBM] [Warning] No further splits with positive gain, best gain: -inf\n",
      "[LightGBM] [Warning] No further splits with positive gain, best gain: -inf\n",
      "[LightGBM] [Warning] No further splits with positive gain, best gain: -inf\n",
      "[LightGBM] [Warning] No further splits with positive gain, best gain: -inf\n",
      "[LightGBM] [Warning] No further splits with positive gain, best gain: -inf\n",
      "[LightGBM] [Warning] No further splits with positive gain, best gain: -inf\n",
      "[LightGBM] [Warning] No further splits with positive gain, best gain: -inf\n",
      "[LightGBM] [Warning] No further splits with positive gain, best gain: -inf\n",
      "[LightGBM] [Warning] No further splits with positive gain, best gain: -inf\n",
      "[LightGBM] [Warning] No further splits with positive gain, best gain: -inf\n",
      "[LightGBM] [Warning] No further splits with positive gain, best gain: -inf\n",
      "[LightGBM] [Warning] No further splits with positive gain, best gain: -inf\n",
      "[LightGBM] [Warning] No further splits with positive gain, best gain: -inf\n",
      "[LightGBM] [Warning] No further splits with positive gain, best gain: -inf\n",
      "[LightGBM] [Warning] No further splits with positive gain, best gain: -inf\n",
      "[LightGBM] [Warning] No further splits with positive gain, best gain: -inf\n",
      "[LightGBM] [Warning] No further splits with positive gain, best gain: -inf\n",
      "[LightGBM] [Warning] No further splits with positive gain, best gain: -inf\n",
      "[LightGBM] [Warning] No further splits with positive gain, best gain: -inf\n",
      "[LightGBM] [Warning] No further splits with positive gain, best gain: -inf\n",
      "[LightGBM] [Warning] No further splits with positive gain, best gain: -inf\n",
      "[LightGBM] [Warning] No further splits with positive gain, best gain: -inf\n",
      "[LightGBM] [Warning] No further splits with positive gain, best gain: -inf\n",
      "[LightGBM] [Warning] No further splits with positive gain, best gain: -inf\n",
      "[LightGBM] [Warning] No further splits with positive gain, best gain: -inf\n",
      "[LightGBM] [Warning] No further splits with positive gain, best gain: -inf\n",
      "[LightGBM] [Warning] No further splits with positive gain, best gain: -inf\n",
      "[LightGBM] [Warning] No further splits with positive gain, best gain: -inf\n",
      "[LightGBM] [Warning] No further splits with positive gain, best gain: -inf\n",
      "[LightGBM] [Warning] No further splits with positive gain, best gain: -inf\n",
      "[LightGBM] [Warning] No further splits with positive gain, best gain: -inf\n",
      "[LightGBM] [Warning] No further splits with positive gain, best gain: -inf\n",
      "[LightGBM] [Warning] No further splits with positive gain, best gain: -inf\n",
      "[LightGBM] [Warning] No further splits with positive gain, best gain: -inf\n",
      "[LightGBM] [Warning] No further splits with positive gain, best gain: -inf\n",
      "[LightGBM] [Warning] No further splits with positive gain, best gain: -inf\n",
      "[LightGBM] [Warning] No further splits with positive gain, best gain: -inf\n",
      "[LightGBM] [Warning] No further splits with positive gain, best gain: -inf\n",
      "[LightGBM] [Warning] No further splits with positive gain, best gain: -inf\n",
      "[LightGBM] [Warning] No further splits with positive gain, best gain: -inf\n",
      "[LightGBM] [Warning] No further splits with positive gain, best gain: -inf\n",
      "[LightGBM] [Warning] No further splits with positive gain, best gain: -inf\n",
      "[LightGBM] [Warning] No further splits with positive gain, best gain: -inf\n",
      "[LightGBM] [Warning] No further splits with positive gain, best gain: -inf\n",
      "[LightGBM] [Warning] No further splits with positive gain, best gain: -inf\n",
      "[LightGBM] [Warning] No further splits with positive gain, best gain: -inf\n",
      "[LightGBM] [Warning] No further splits with positive gain, best gain: -inf\n",
      "[LightGBM] [Warning] No further splits with positive gain, best gain: -inf\n",
      "[LightGBM] [Warning] No further splits with positive gain, best gain: -inf\n",
      "[LightGBM] [Warning] No further splits with positive gain, best gain: -inf\n",
      "[LightGBM] [Warning] No further splits with positive gain, best gain: -inf\n",
      "[LightGBM] [Warning] No further splits with positive gain, best gain: -inf\n",
      "[LightGBM] [Warning] No further splits with positive gain, best gain: -inf\n",
      "[LightGBM] [Warning] No further splits with positive gain, best gain: -inf\n",
      "[LightGBM] [Warning] No further splits with positive gain, best gain: -inf\n",
      "[LightGBM] [Warning] No further splits with positive gain, best gain: -inf\n",
      "[LightGBM] [Warning] No further splits with positive gain, best gain: -inf\n",
      "[LightGBM] [Warning] No further splits with positive gain, best gain: -inf\n",
      "[LightGBM] [Warning] No further splits with positive gain, best gain: -inf\n",
      "[LightGBM] [Warning] No further splits with positive gain, best gain: -inf\n",
      "[LightGBM] [Warning] No further splits with positive gain, best gain: -inf\n",
      "[LightGBM] [Warning] No further splits with positive gain, best gain: -inf\n",
      "[LightGBM] [Warning] No further splits with positive gain, best gain: -inf\n",
      "[LightGBM] [Warning] No further splits with positive gain, best gain: -inf\n",
      "[LightGBM] [Warning] No further splits with positive gain, best gain: -inf\n",
      "[LightGBM] [Warning] No further splits with positive gain, best gain: -inf\n",
      "[LightGBM] [Warning] No further splits with positive gain, best gain: -inf\n",
      "[LightGBM] [Warning] No further splits with positive gain, best gain: -inf\n",
      "[LightGBM] [Warning] No further splits with positive gain, best gain: -inf\n",
      "[LightGBM] [Warning] No further splits with positive gain, best gain: -inf\n",
      "[LightGBM] [Warning] No further splits with positive gain, best gain: -inf\n",
      "[LightGBM] [Warning] No further splits with positive gain, best gain: -inf\n",
      "[LightGBM] [Warning] No further splits with positive gain, best gain: -inf\n",
      "[LightGBM] [Warning] No further splits with positive gain, best gain: -inf\n",
      "[LightGBM] [Warning] No further splits with positive gain, best gain: -inf\n",
      "[LightGBM] [Warning] No further splits with positive gain, best gain: -inf\n",
      "[LightGBM] [Warning] No further splits with positive gain, best gain: -inf\n",
      "[LightGBM] [Warning] No further splits with positive gain, best gain: -inf\n",
      "[LightGBM] [Warning] No further splits with positive gain, best gain: -inf\n",
      "[LightGBM] [Warning] No further splits with positive gain, best gain: -inf\n",
      "[LightGBM] [Warning] No further splits with positive gain, best gain: -inf\n",
      "[LightGBM] [Warning] No further splits with positive gain, best gain: -inf\n",
      "[LightGBM] [Warning] No further splits with positive gain, best gain: -inf\n",
      "[LightGBM] [Warning] No further splits with positive gain, best gain: -inf\n",
      "[LightGBM] [Warning] No further splits with positive gain, best gain: -inf\n",
      "[LightGBM] [Warning] No further splits with positive gain, best gain: -inf\n",
      "[LightGBM] [Warning] No further splits with positive gain, best gain: -inf\n",
      "[LightGBM] [Warning] No further splits with positive gain, best gain: -inf\n",
      "[LightGBM] [Warning] No further splits with positive gain, best gain: -inf\n",
      "[LightGBM] [Warning] No further splits with positive gain, best gain: -inf\n",
      "[LightGBM] [Warning] No further splits with positive gain, best gain: -inf\n",
      "[LightGBM] [Warning] No further splits with positive gain, best gain: -inf\n",
      "[LightGBM] [Warning] No further splits with positive gain, best gain: -inf\n",
      "[LightGBM] [Warning] No further splits with positive gain, best gain: -inf\n",
      "[LightGBM] [Warning] No further splits with positive gain, best gain: -inf\n",
      "[LightGBM] [Warning] No further splits with positive gain, best gain: -inf\n",
      "[LightGBM] [Warning] No further splits with positive gain, best gain: -inf\n",
      "[LightGBM] [Warning] No further splits with positive gain, best gain: -inf\n",
      "[LightGBM] [Warning] No further splits with positive gain, best gain: -inf\n",
      "[LightGBM] [Warning] No further splits with positive gain, best gain: -inf\n",
      "[LightGBM] [Warning] No further splits with positive gain, best gain: -inf\n",
      "[LightGBM] [Warning] No further splits with positive gain, best gain: -inf\n",
      "[LightGBM] [Warning] No further splits with positive gain, best gain: -inf\n",
      "[LightGBM] [Warning] No further splits with positive gain, best gain: -inf\n",
      "[LightGBM] [Warning] No further splits with positive gain, best gain: -inf\n",
      "[LightGBM] [Warning] No further splits with positive gain, best gain: -inf\n",
      "[LightGBM] [Warning] No further splits with positive gain, best gain: -inf\n",
      "[LightGBM] [Warning] No further splits with positive gain, best gain: -inf\n",
      "[LightGBM] [Warning] No further splits with positive gain, best gain: -inf\n",
      "[LightGBM] [Warning] No further splits with positive gain, best gain: -inf\n",
      "[LightGBM] [Warning] No further splits with positive gain, best gain: -inf\n",
      "[LightGBM] [Warning] No further splits with positive gain, best gain: -inf\n",
      "[LightGBM] [Warning] No further splits with positive gain, best gain: -inf\n",
      "[LightGBM] [Warning] No further splits with positive gain, best gain: -inf\n",
      "[LightGBM] [Warning] No further splits with positive gain, best gain: -inf\n",
      "[LightGBM] [Warning] No further splits with positive gain, best gain: -inf\n",
      "[LightGBM] [Warning] No further splits with positive gain, best gain: -inf\n",
      "[LightGBM] [Warning] No further splits with positive gain, best gain: -inf\n",
      "[LightGBM] [Warning] No further splits with positive gain, best gain: -inf\n",
      "[LightGBM] [Warning] No further splits with positive gain, best gain: -inf\n",
      "[LightGBM] [Warning] No further splits with positive gain, best gain: -inf\n",
      "[LightGBM] [Warning] No further splits with positive gain, best gain: -inf\n",
      "[LightGBM] [Warning] No further splits with positive gain, best gain: -inf\n",
      "[LightGBM] [Warning] No further splits with positive gain, best gain: -inf\n",
      "[LightGBM] [Warning] No further splits with positive gain, best gain: -inf\n",
      "[LightGBM] [Warning] No further splits with positive gain, best gain: -inf\n",
      "[LightGBM] [Warning] No further splits with positive gain, best gain: -inf\n",
      "[LightGBM] [Warning] No further splits with positive gain, best gain: -inf\n",
      "[LightGBM] [Warning] No further splits with positive gain, best gain: -inf\n",
      "[LightGBM] [Warning] No further splits with positive gain, best gain: -inf\n",
      "[LightGBM] [Warning] No further splits with positive gain, best gain: -inf\n",
      "[LightGBM] [Warning] No further splits with positive gain, best gain: -inf\n",
      "[LightGBM] [Warning] No further splits with positive gain, best gain: -inf\n",
      "[LightGBM] [Warning] No further splits with positive gain, best gain: -inf\n",
      "[LightGBM] [Warning] No further splits with positive gain, best gain: -inf\n",
      "[LightGBM] [Warning] No further splits with positive gain, best gain: -inf\n",
      "[LightGBM] [Warning] No further splits with positive gain, best gain: -inf\n",
      "[LightGBM] [Warning] No further splits with positive gain, best gain: -inf\n",
      "[LightGBM] [Warning] No further splits with positive gain, best gain: -inf\n",
      "[LightGBM] [Warning] No further splits with positive gain, best gain: -inf\n",
      "[LightGBM] [Warning] No further splits with positive gain, best gain: -inf\n",
      "[LightGBM] [Warning] No further splits with positive gain, best gain: -inf\n",
      "[LightGBM] [Warning] No further splits with positive gain, best gain: -inf\n",
      "[LightGBM] [Warning] No further splits with positive gain, best gain: -inf\n",
      "[LightGBM] [Warning] No further splits with positive gain, best gain: -inf\n",
      "[LightGBM] [Warning] No further splits with positive gain, best gain: -inf\n",
      "[LightGBM] [Warning] No further splits with positive gain, best gain: -inf\n",
      "[LightGBM] [Warning] No further splits with positive gain, best gain: -inf\n",
      "[LightGBM] [Warning] No further splits with positive gain, best gain: -inf\n",
      "[LightGBM] [Warning] No further splits with positive gain, best gain: -inf\n",
      "[LightGBM] [Warning] No further splits with positive gain, best gain: -inf\n",
      "[LightGBM] [Warning] No further splits with positive gain, best gain: -inf\n",
      "[LightGBM] [Warning] No further splits with positive gain, best gain: -inf\n",
      "[LightGBM] [Warning] No further splits with positive gain, best gain: -inf\n",
      "[LightGBM] [Warning] No further splits with positive gain, best gain: -inf\n",
      "[LightGBM] [Warning] No further splits with positive gain, best gain: -inf\n",
      "[LightGBM] [Warning] No further splits with positive gain, best gain: -inf\n",
      "[LightGBM] [Warning] No further splits with positive gain, best gain: -inf\n",
      "[LightGBM] [Warning] No further splits with positive gain, best gain: -inf\n",
      "[LightGBM] [Warning] No further splits with positive gain, best gain: -inf\n",
      "[LightGBM] [Warning] No further splits with positive gain, best gain: -inf\n",
      "[LightGBM] [Warning] No further splits with positive gain, best gain: -inf\n",
      "[LightGBM] [Warning] No further splits with positive gain, best gain: -inf\n",
      "[LightGBM] [Warning] No further splits with positive gain, best gain: -inf\n",
      "[LightGBM] [Warning] No further splits with positive gain, best gain: -inf\n",
      "[LightGBM] [Warning] No further splits with positive gain, best gain: -inf\n",
      "[LightGBM] [Warning] No further splits with positive gain, best gain: -inf\n",
      "[LightGBM] [Warning] No further splits with positive gain, best gain: -inf\n",
      "[LightGBM] [Warning] No further splits with positive gain, best gain: -inf\n",
      "[LightGBM] [Warning] No further splits with positive gain, best gain: -inf\n",
      "[LightGBM] [Warning] No further splits with positive gain, best gain: -inf\n",
      "[LightGBM] [Warning] No further splits with positive gain, best gain: -inf\n",
      "[LightGBM] [Warning] No further splits with positive gain, best gain: -inf\n",
      "[LightGBM] [Warning] No further splits with positive gain, best gain: -inf\n",
      "[LightGBM] [Warning] No further splits with positive gain, best gain: -inf\n",
      "[LightGBM] [Warning] No further splits with positive gain, best gain: -inf\n",
      "[LightGBM] [Warning] No further splits with positive gain, best gain: -inf\n",
      "[LightGBM] [Warning] No further splits with positive gain, best gain: -inf\n",
      "[LightGBM] [Warning] No further splits with positive gain, best gain: -inf\n",
      "[LightGBM] [Warning] No further splits with positive gain, best gain: -inf\n",
      "[LightGBM] [Warning] No further splits with positive gain, best gain: -inf\n",
      "[LightGBM] [Warning] No further splits with positive gain, best gain: -inf\n",
      "[LightGBM] [Warning] No further splits with positive gain, best gain: -inf\n",
      "[LightGBM] [Warning] No further splits with positive gain, best gain: -inf\n",
      "[LightGBM] [Warning] No further splits with positive gain, best gain: -inf\n",
      "[LightGBM] [Warning] No further splits with positive gain, best gain: -inf\n",
      "[LightGBM] [Warning] No further splits with positive gain, best gain: -inf\n",
      "[LightGBM] [Warning] No further splits with positive gain, best gain: -inf\n",
      "[LightGBM] [Warning] No further splits with positive gain, best gain: -inf\n",
      "[LightGBM] [Warning] No further splits with positive gain, best gain: -inf\n",
      "[LightGBM] [Warning] No further splits with positive gain, best gain: -inf\n",
      "[LightGBM] [Warning] No further splits with positive gain, best gain: -inf\n",
      "[LightGBM] [Warning] No further splits with positive gain, best gain: -inf\n",
      "[LightGBM] [Warning] No further splits with positive gain, best gain: -inf\n",
      "[LightGBM] [Warning] No further splits with positive gain, best gain: -inf\n",
      "[LightGBM] [Warning] No further splits with positive gain, best gain: -inf\n",
      "[LightGBM] [Warning] No further splits with positive gain, best gain: -inf\n",
      "[LightGBM] [Warning] No further splits with positive gain, best gain: -inf\n",
      "[LightGBM] [Warning] No further splits with positive gain, best gain: -inf\n",
      "[LightGBM] [Warning] No further splits with positive gain, best gain: -inf\n",
      "[LightGBM] [Warning] No further splits with positive gain, best gain: -inf\n",
      "[LightGBM] [Warning] No further splits with positive gain, best gain: -inf\n",
      "[LightGBM] [Warning] No further splits with positive gain, best gain: -inf\n",
      "[LightGBM] [Warning] No further splits with positive gain, best gain: -inf\n",
      "[LightGBM] [Warning] No further splits with positive gain, best gain: -inf\n",
      "[LightGBM] [Warning] No further splits with positive gain, best gain: -inf\n",
      "[LightGBM] [Warning] No further splits with positive gain, best gain: -inf\n",
      "[LightGBM] [Warning] No further splits with positive gain, best gain: -inf\n",
      "[LightGBM] [Warning] No further splits with positive gain, best gain: -inf\n",
      "[LightGBM] [Warning] No further splits with positive gain, best gain: -inf\n",
      "[LightGBM] [Warning] No further splits with positive gain, best gain: -inf\n",
      "[LightGBM] [Warning] No further splits with positive gain, best gain: -inf\n",
      "[LightGBM] [Warning] No further splits with positive gain, best gain: -inf\n",
      "[LightGBM] [Warning] No further splits with positive gain, best gain: -inf\n",
      "[LightGBM] [Warning] No further splits with positive gain, best gain: -inf\n",
      "[LightGBM] [Warning] No further splits with positive gain, best gain: -inf\n",
      "[LightGBM] [Warning] No further splits with positive gain, best gain: -inf\n",
      "[LightGBM] [Warning] No further splits with positive gain, best gain: -inf\n",
      "[LightGBM] [Warning] No further splits with positive gain, best gain: -inf\n",
      "[LightGBM] [Warning] No further splits with positive gain, best gain: -inf\n",
      "[LightGBM] [Warning] No further splits with positive gain, best gain: -inf\n",
      "[LightGBM] [Warning] No further splits with positive gain, best gain: -inf\n",
      "[LightGBM] [Warning] No further splits with positive gain, best gain: -inf\n",
      "[LightGBM] [Warning] No further splits with positive gain, best gain: -inf\n",
      "[LightGBM] [Warning] No further splits with positive gain, best gain: -inf\n",
      "[LightGBM] [Warning] No further splits with positive gain, best gain: -inf\n",
      "[LightGBM] [Warning] No further splits with positive gain, best gain: -inf\n",
      "[LightGBM] [Warning] No further splits with positive gain, best gain: -inf\n",
      "[LightGBM] [Warning] No further splits with positive gain, best gain: -inf\n",
      "[LightGBM] [Warning] No further splits with positive gain, best gain: -inf\n",
      "[LightGBM] [Warning] No further splits with positive gain, best gain: -inf\n",
      "[LightGBM] [Warning] No further splits with positive gain, best gain: -inf\n",
      "[LightGBM] [Warning] No further splits with positive gain, best gain: -inf\n",
      "[LightGBM] [Warning] No further splits with positive gain, best gain: -inf\n",
      "[LightGBM] [Warning] No further splits with positive gain, best gain: -inf\n",
      "[LightGBM] [Warning] No further splits with positive gain, best gain: -inf\n",
      "[LightGBM] [Warning] No further splits with positive gain, best gain: -inf\n",
      "[LightGBM] [Warning] No further splits with positive gain, best gain: -inf\n",
      "[LightGBM] [Warning] No further splits with positive gain, best gain: -inf\n",
      "[LightGBM] [Warning] No further splits with positive gain, best gain: -inf\n",
      "[LightGBM] [Warning] No further splits with positive gain, best gain: -inf\n",
      "[LightGBM] [Warning] No further splits with positive gain, best gain: -inf\n",
      "[LightGBM] [Warning] No further splits with positive gain, best gain: -inf\n",
      "[LightGBM] [Warning] No further splits with positive gain, best gain: -inf\n",
      "[LightGBM] [Warning] No further splits with positive gain, best gain: -inf\n",
      "[LightGBM] [Warning] No further splits with positive gain, best gain: -inf\n",
      "[LightGBM] [Warning] No further splits with positive gain, best gain: -inf\n",
      "[LightGBM] [Warning] No further splits with positive gain, best gain: -inf\n",
      "[LightGBM] [Warning] No further splits with positive gain, best gain: -inf\n",
      "[LightGBM] [Warning] No further splits with positive gain, best gain: -inf\n",
      "[LightGBM] [Warning] No further splits with positive gain, best gain: -inf\n",
      "[LightGBM] [Warning] No further splits with positive gain, best gain: -inf\n",
      "[LightGBM] [Warning] No further splits with positive gain, best gain: -inf\n",
      "[LightGBM] [Warning] No further splits with positive gain, best gain: -inf\n",
      "[LightGBM] [Warning] No further splits with positive gain, best gain: -inf\n",
      "[LightGBM] [Warning] No further splits with positive gain, best gain: -inf\n",
      "[LightGBM] [Warning] No further splits with positive gain, best gain: -inf\n",
      "[LightGBM] [Warning] No further splits with positive gain, best gain: -inf\n",
      "[LightGBM] [Warning] No further splits with positive gain, best gain: -inf\n",
      "[LightGBM] [Warning] No further splits with positive gain, best gain: -inf\n",
      "[LightGBM] [Warning] No further splits with positive gain, best gain: -inf\n",
      "[LightGBM] [Warning] No further splits with positive gain, best gain: -inf\n",
      "[LightGBM] [Warning] No further splits with positive gain, best gain: -inf\n",
      "[LightGBM] [Warning] No further splits with positive gain, best gain: -inf\n",
      "[LightGBM] [Warning] No further splits with positive gain, best gain: -inf\n",
      "[LightGBM] [Warning] No further splits with positive gain, best gain: -inf\n",
      "[LightGBM] [Warning] No further splits with positive gain, best gain: -inf\n",
      "[LightGBM] [Warning] No further splits with positive gain, best gain: -inf\n",
      "[LightGBM] [Warning] No further splits with positive gain, best gain: -inf\n",
      "[LightGBM] [Warning] No further splits with positive gain, best gain: -inf\n",
      "[LightGBM] [Warning] No further splits with positive gain, best gain: -inf\n",
      "[LightGBM] [Warning] No further splits with positive gain, best gain: -inf\n",
      "[LightGBM] [Warning] No further splits with positive gain, best gain: -inf\n",
      "[LightGBM] [Warning] No further splits with positive gain, best gain: -inf\n",
      "[LightGBM] [Warning] No further splits with positive gain, best gain: -inf\n",
      "[LightGBM] [Warning] No further splits with positive gain, best gain: -inf\n",
      "[LightGBM] [Warning] No further splits with positive gain, best gain: -inf\n",
      "[LightGBM] [Warning] No further splits with positive gain, best gain: -inf\n",
      "[LightGBM] [Warning] No further splits with positive gain, best gain: -inf\n",
      "[LightGBM] [Warning] No further splits with positive gain, best gain: -inf\n",
      "[LightGBM] [Warning] No further splits with positive gain, best gain: -inf\n",
      "[LightGBM] [Warning] No further splits with positive gain, best gain: -inf\n",
      "[LightGBM] [Warning] No further splits with positive gain, best gain: -inf\n",
      "[LightGBM] [Warning] No further splits with positive gain, best gain: -inf\n",
      "[LightGBM] [Warning] No further splits with positive gain, best gain: -inf\n",
      "[LightGBM] [Warning] No further splits with positive gain, best gain: -inf\n",
      "[LightGBM] [Warning] No further splits with positive gain, best gain: -inf\n",
      "[LightGBM] [Warning] No further splits with positive gain, best gain: -inf\n",
      "[LightGBM] [Warning] No further splits with positive gain, best gain: -inf\n",
      "[LightGBM] [Warning] No further splits with positive gain, best gain: -inf\n",
      "[LightGBM] [Warning] No further splits with positive gain, best gain: -inf\n",
      "[LightGBM] [Warning] No further splits with positive gain, best gain: -inf\n",
      "[LightGBM] [Warning] No further splits with positive gain, best gain: -inf\n",
      "[LightGBM] [Warning] No further splits with positive gain, best gain: -inf\n",
      "[LightGBM] [Warning] No further splits with positive gain, best gain: -inf\n",
      "[LightGBM] [Warning] No further splits with positive gain, best gain: -inf\n",
      "[LightGBM] [Warning] No further splits with positive gain, best gain: -inf\n",
      "[LightGBM] [Warning] No further splits with positive gain, best gain: -inf\n",
      "[LightGBM] [Warning] No further splits with positive gain, best gain: -inf\n",
      "[LightGBM] [Warning] No further splits with positive gain, best gain: -inf\n",
      "[LightGBM] [Warning] No further splits with positive gain, best gain: -inf\n",
      "[LightGBM] [Warning] No further splits with positive gain, best gain: -inf\n",
      "[LightGBM] [Warning] No further splits with positive gain, best gain: -inf\n",
      "[LightGBM] [Warning] No further splits with positive gain, best gain: -inf\n",
      "[LightGBM] [Warning] No further splits with positive gain, best gain: -inf\n",
      "[LightGBM] [Warning] No further splits with positive gain, best gain: -inf\n",
      "[LightGBM] [Warning] No further splits with positive gain, best gain: -inf\n",
      "[LightGBM] [Warning] No further splits with positive gain, best gain: -inf\n",
      "[LightGBM] [Warning] No further splits with positive gain, best gain: -inf\n",
      "[LightGBM] [Warning] No further splits with positive gain, best gain: -inf\n",
      "[LightGBM] [Warning] No further splits with positive gain, best gain: -inf\n",
      "[LightGBM] [Warning] No further splits with positive gain, best gain: -inf\n",
      "[LightGBM] [Warning] No further splits with positive gain, best gain: -inf\n",
      "[LightGBM] [Warning] No further splits with positive gain, best gain: -inf\n",
      "[LightGBM] [Warning] No further splits with positive gain, best gain: -inf\n",
      "[LightGBM] [Warning] No further splits with positive gain, best gain: -inf\n",
      "[LightGBM] [Warning] No further splits with positive gain, best gain: -inf\n",
      "[LightGBM] [Warning] No further splits with positive gain, best gain: -inf\n",
      "[LightGBM] [Warning] No further splits with positive gain, best gain: -inf\n",
      "[LightGBM] [Warning] No further splits with positive gain, best gain: -inf\n",
      "[LightGBM] [Warning] No further splits with positive gain, best gain: -inf\n",
      "[LightGBM] [Warning] No further splits with positive gain, best gain: -inf\n",
      "[LightGBM] [Warning] No further splits with positive gain, best gain: -inf\n",
      "[LightGBM] [Warning] No further splits with positive gain, best gain: -inf\n",
      "[LightGBM] [Warning] No further splits with positive gain, best gain: -inf\n",
      "[LightGBM] [Warning] No further splits with positive gain, best gain: -inf\n",
      "[LightGBM] [Warning] No further splits with positive gain, best gain: -inf\n",
      "[LightGBM] [Warning] No further splits with positive gain, best gain: -inf\n",
      "[LightGBM] [Warning] No further splits with positive gain, best gain: -inf\n",
      "[LightGBM] [Warning] No further splits with positive gain, best gain: -inf\n",
      "[LightGBM] [Warning] No further splits with positive gain, best gain: -inf\n",
      "[LightGBM] [Warning] No further splits with positive gain, best gain: -inf\n",
      "[LightGBM] [Warning] No further splits with positive gain, best gain: -inf\n",
      "[LightGBM] [Warning] No further splits with positive gain, best gain: -inf\n",
      "[LightGBM] [Warning] No further splits with positive gain, best gain: -inf\n",
      "[LightGBM] [Warning] No further splits with positive gain, best gain: -inf\n",
      "[LightGBM] [Warning] No further splits with positive gain, best gain: -inf\n",
      "[LightGBM] [Warning] No further splits with positive gain, best gain: -inf\n",
      "[LightGBM] [Warning] No further splits with positive gain, best gain: -inf\n",
      "[LightGBM] [Warning] No further splits with positive gain, best gain: -inf\n",
      "[LightGBM] [Warning] No further splits with positive gain, best gain: -inf\n",
      "[LightGBM] [Warning] No further splits with positive gain, best gain: -inf\n",
      "[LightGBM] [Warning] No further splits with positive gain, best gain: -inf\n",
      "[LightGBM] [Warning] No further splits with positive gain, best gain: -inf\n",
      "[LightGBM] [Warning] No further splits with positive gain, best gain: -inf\n",
      "[LightGBM] [Warning] No further splits with positive gain, best gain: -inf\n",
      "[LightGBM] [Warning] No further splits with positive gain, best gain: -inf\n",
      "[LightGBM] [Warning] No further splits with positive gain, best gain: -inf\n",
      "[LightGBM] [Warning] No further splits with positive gain, best gain: -inf\n",
      "[LightGBM] [Warning] No further splits with positive gain, best gain: -inf\n",
      "[LightGBM] [Warning] No further splits with positive gain, best gain: -inf\n",
      "[LightGBM] [Warning] No further splits with positive gain, best gain: -inf\n",
      "[LightGBM] [Warning] No further splits with positive gain, best gain: -inf\n",
      "[LightGBM] [Warning] No further splits with positive gain, best gain: -inf\n",
      "[LightGBM] [Warning] No further splits with positive gain, best gain: -inf\n",
      "[LightGBM] [Warning] No further splits with positive gain, best gain: -inf\n",
      "[LightGBM] [Warning] No further splits with positive gain, best gain: -inf\n",
      "[LightGBM] [Warning] No further splits with positive gain, best gain: -inf\n",
      "[LightGBM] [Warning] No further splits with positive gain, best gain: -inf\n",
      "[LightGBM] [Warning] No further splits with positive gain, best gain: -inf\n",
      "[LightGBM] [Warning] No further splits with positive gain, best gain: -inf\n",
      "[LightGBM] [Warning] No further splits with positive gain, best gain: -inf\n",
      "[LightGBM] [Warning] No further splits with positive gain, best gain: -inf\n",
      "[LightGBM] [Warning] No further splits with positive gain, best gain: -inf\n",
      "[LightGBM] [Warning] No further splits with positive gain, best gain: -inf\n",
      "[LightGBM] [Warning] No further splits with positive gain, best gain: -inf\n",
      "[LightGBM] [Warning] No further splits with positive gain, best gain: -inf\n",
      "[LightGBM] [Warning] No further splits with positive gain, best gain: -inf\n",
      "[LightGBM] [Warning] No further splits with positive gain, best gain: -inf\n",
      "[LightGBM] [Warning] No further splits with positive gain, best gain: -inf\n",
      "[LightGBM] [Warning] No further splits with positive gain, best gain: -inf\n",
      "[LightGBM] [Warning] No further splits with positive gain, best gain: -inf\n",
      "[LightGBM] [Warning] No further splits with positive gain, best gain: -inf\n",
      "[LightGBM] [Warning] No further splits with positive gain, best gain: -inf\n",
      "[LightGBM] [Warning] No further splits with positive gain, best gain: -inf\n",
      "[LightGBM] [Warning] No further splits with positive gain, best gain: -inf\n",
      "[LightGBM] [Warning] No further splits with positive gain, best gain: -inf\n",
      "[LightGBM] [Warning] No further splits with positive gain, best gain: -inf\n",
      "[LightGBM] [Warning] No further splits with positive gain, best gain: -inf\n",
      "[LightGBM] [Warning] No further splits with positive gain, best gain: -inf\n",
      "[LightGBM] [Warning] No further splits with positive gain, best gain: -inf\n",
      "[LightGBM] [Warning] No further splits with positive gain, best gain: -inf\n",
      "[LightGBM] [Warning] No further splits with positive gain, best gain: -inf\n",
      "[LightGBM] [Warning] No further splits with positive gain, best gain: -inf\n",
      "[LightGBM] [Warning] No further splits with positive gain, best gain: -inf\n",
      "[LightGBM] [Warning] No further splits with positive gain, best gain: -inf\n",
      "[LightGBM] [Warning] No further splits with positive gain, best gain: -inf\n",
      "[LightGBM] [Warning] No further splits with positive gain, best gain: -inf\n",
      "[LightGBM] [Warning] No further splits with positive gain, best gain: -inf\n",
      "[LightGBM] [Warning] No further splits with positive gain, best gain: -inf\n",
      "[LightGBM] [Warning] No further splits with positive gain, best gain: -inf\n",
      "[LightGBM] [Warning] No further splits with positive gain, best gain: -inf\n",
      "[LightGBM] [Warning] No further splits with positive gain, best gain: -inf\n",
      "[LightGBM] [Warning] No further splits with positive gain, best gain: -inf\n",
      "[LightGBM] [Warning] No further splits with positive gain, best gain: -inf\n",
      "[LightGBM] [Warning] No further splits with positive gain, best gain: -inf\n",
      "[LightGBM] [Warning] No further splits with positive gain, best gain: -inf\n",
      "[LightGBM] [Warning] No further splits with positive gain, best gain: -inf\n",
      "[LightGBM] [Warning] No further splits with positive gain, best gain: -inf\n",
      "[LightGBM] [Warning] No further splits with positive gain, best gain: -inf\n",
      "[LightGBM] [Warning] No further splits with positive gain, best gain: -inf\n",
      "[LightGBM] [Warning] No further splits with positive gain, best gain: -inf\n",
      "[LightGBM] [Warning] No further splits with positive gain, best gain: -inf\n",
      "[LightGBM] [Warning] No further splits with positive gain, best gain: -inf\n",
      "[LightGBM] [Warning] No further splits with positive gain, best gain: -inf\n",
      "[LightGBM] [Warning] No further splits with positive gain, best gain: -inf\n",
      "[LightGBM] [Warning] No further splits with positive gain, best gain: -inf\n",
      "[LightGBM] [Warning] No further splits with positive gain, best gain: -inf\n",
      "[LightGBM] [Warning] No further splits with positive gain, best gain: -inf\n",
      "[LightGBM] [Warning] No further splits with positive gain, best gain: -inf\n",
      "[LightGBM] [Warning] No further splits with positive gain, best gain: -inf\n",
      "[LightGBM] [Warning] No further splits with positive gain, best gain: -inf\n",
      "[LightGBM] [Warning] No further splits with positive gain, best gain: -inf\n",
      "[LightGBM] [Warning] No further splits with positive gain, best gain: -inf\n",
      "[LightGBM] [Warning] No further splits with positive gain, best gain: -inf\n",
      "[LightGBM] [Warning] No further splits with positive gain, best gain: -inf\n",
      "[LightGBM] [Warning] No further splits with positive gain, best gain: -inf\n",
      "[LightGBM] [Warning] No further splits with positive gain, best gain: -inf\n",
      "[LightGBM] [Warning] No further splits with positive gain, best gain: -inf\n",
      "[LightGBM] [Warning] No further splits with positive gain, best gain: -inf\n",
      "[LightGBM] [Warning] No further splits with positive gain, best gain: -inf\n",
      "[LightGBM] [Warning] No further splits with positive gain, best gain: -inf\n",
      "[LightGBM] [Warning] No further splits with positive gain, best gain: -inf\n",
      "[LightGBM] [Warning] No further splits with positive gain, best gain: -inf\n",
      "[LightGBM] [Warning] No further splits with positive gain, best gain: -inf\n",
      "[LightGBM] [Warning] No further splits with positive gain, best gain: -inf\n",
      "[LightGBM] [Warning] No further splits with positive gain, best gain: -inf\n",
      "[LightGBM] [Warning] No further splits with positive gain, best gain: -inf\n",
      "[LightGBM] [Warning] No further splits with positive gain, best gain: -inf\n",
      "[LightGBM] [Warning] No further splits with positive gain, best gain: -inf\n",
      "[LightGBM] [Warning] No further splits with positive gain, best gain: -inf\n",
      "[LightGBM] [Warning] No further splits with positive gain, best gain: -inf\n",
      "[LightGBM] [Warning] No further splits with positive gain, best gain: -inf\n",
      "[LightGBM] [Warning] No further splits with positive gain, best gain: -inf\n",
      "[LightGBM] [Warning] No further splits with positive gain, best gain: -inf\n",
      "[LightGBM] [Warning] No further splits with positive gain, best gain: -inf\n",
      "[LightGBM] [Warning] No further splits with positive gain, best gain: -inf\n",
      "[LightGBM] [Warning] No further splits with positive gain, best gain: -inf\n",
      "[LightGBM] [Warning] No further splits with positive gain, best gain: -inf\n",
      "[LightGBM] [Warning] No further splits with positive gain, best gain: -inf\n",
      "[LightGBM] [Warning] No further splits with positive gain, best gain: -inf\n",
      "[LightGBM] [Warning] No further splits with positive gain, best gain: -inf\n",
      "[LightGBM] [Warning] No further splits with positive gain, best gain: -inf\n",
      "[LightGBM] [Warning] No further splits with positive gain, best gain: -inf\n",
      "[LightGBM] [Warning] No further splits with positive gain, best gain: -inf\n",
      "[LightGBM] [Warning] No further splits with positive gain, best gain: -inf\n",
      "[LightGBM] [Warning] No further splits with positive gain, best gain: -inf\n",
      "[LightGBM] [Warning] No further splits with positive gain, best gain: -inf\n",
      "[LightGBM] [Warning] No further splits with positive gain, best gain: -inf\n",
      "[LightGBM] [Warning] No further splits with positive gain, best gain: -inf\n",
      "[LightGBM] [Warning] No further splits with positive gain, best gain: -inf\n",
      "[LightGBM] [Warning] No further splits with positive gain, best gain: -inf\n",
      "[LightGBM] [Warning] No further splits with positive gain, best gain: -inf\n",
      "[LightGBM] [Warning] No further splits with positive gain, best gain: -inf\n",
      "[LightGBM] [Warning] No further splits with positive gain, best gain: -inf\n",
      "[LightGBM] [Warning] No further splits with positive gain, best gain: -inf\n",
      "[LightGBM] [Warning] No further splits with positive gain, best gain: -inf\n",
      "[LightGBM] [Warning] No further splits with positive gain, best gain: -inf\n",
      "[LightGBM] [Warning] No further splits with positive gain, best gain: -inf\n",
      "[LightGBM] [Warning] No further splits with positive gain, best gain: -inf\n",
      "[LightGBM] [Warning] No further splits with positive gain, best gain: -inf\n",
      "[LightGBM] [Warning] No further splits with positive gain, best gain: -inf\n",
      "[LightGBM] [Warning] No further splits with positive gain, best gain: -inf\n",
      "[LightGBM] [Warning] No further splits with positive gain, best gain: -inf\n",
      "[LightGBM] [Warning] No further splits with positive gain, best gain: -inf\n",
      "[LightGBM] [Warning] No further splits with positive gain, best gain: -inf\n",
      "[LightGBM] [Warning] No further splits with positive gain, best gain: -inf\n",
      "[LightGBM] [Warning] No further splits with positive gain, best gain: -inf\n",
      "[LightGBM] [Warning] No further splits with positive gain, best gain: -inf\n",
      "[LightGBM] [Warning] No further splits with positive gain, best gain: -inf\n",
      "[LightGBM] [Warning] No further splits with positive gain, best gain: -inf\n",
      "[LightGBM] [Warning] No further splits with positive gain, best gain: -inf\n",
      "[LightGBM] [Warning] No further splits with positive gain, best gain: -inf\n",
      "[LightGBM] [Warning] No further splits with positive gain, best gain: -inf\n",
      "[LightGBM] [Warning] No further splits with positive gain, best gain: -inf\n",
      "[LightGBM] [Warning] No further splits with positive gain, best gain: -inf\n",
      "[LightGBM] [Warning] No further splits with positive gain, best gain: -inf\n",
      "[LightGBM] [Warning] No further splits with positive gain, best gain: -inf\n",
      "[LightGBM] [Warning] No further splits with positive gain, best gain: -inf\n",
      "[LightGBM] [Warning] No further splits with positive gain, best gain: -inf\n",
      "[LightGBM] [Warning] No further splits with positive gain, best gain: -inf\n",
      "[LightGBM] [Warning] No further splits with positive gain, best gain: -inf\n",
      "[LightGBM] [Warning] No further splits with positive gain, best gain: -inf\n",
      "[LightGBM] [Warning] No further splits with positive gain, best gain: -inf\n",
      "[LightGBM] [Warning] No further splits with positive gain, best gain: -inf\n",
      "[LightGBM] [Warning] No further splits with positive gain, best gain: -inf\n",
      "[LightGBM] [Warning] No further splits with positive gain, best gain: -inf\n",
      "[LightGBM] [Warning] No further splits with positive gain, best gain: -inf\n",
      "[LightGBM] [Warning] No further splits with positive gain, best gain: -inf\n",
      "[LightGBM] [Warning] No further splits with positive gain, best gain: -inf\n",
      "[LightGBM] [Warning] No further splits with positive gain, best gain: -inf\n",
      "[LightGBM] [Warning] No further splits with positive gain, best gain: -inf\n",
      "[LightGBM] [Warning] No further splits with positive gain, best gain: -inf\n",
      "[LightGBM] [Warning] No further splits with positive gain, best gain: -inf\n",
      "[LightGBM] [Warning] No further splits with positive gain, best gain: -inf\n",
      "[LightGBM] [Warning] No further splits with positive gain, best gain: -inf\n",
      "[LightGBM] [Warning] No further splits with positive gain, best gain: -inf\n",
      "[LightGBM] [Warning] No further splits with positive gain, best gain: -inf\n",
      "[LightGBM] [Warning] No further splits with positive gain, best gain: -inf\n",
      "[LightGBM] [Warning] No further splits with positive gain, best gain: -inf\n",
      "[LightGBM] [Warning] No further splits with positive gain, best gain: -inf\n",
      "[LightGBM] [Warning] No further splits with positive gain, best gain: -inf\n",
      "[LightGBM] [Warning] No further splits with positive gain, best gain: -inf\n",
      "[LightGBM] [Warning] No further splits with positive gain, best gain: -inf\n",
      "[LightGBM] [Warning] No further splits with positive gain, best gain: -inf\n",
      "[LightGBM] [Warning] No further splits with positive gain, best gain: -inf\n",
      "[LightGBM] [Warning] No further splits with positive gain, best gain: -inf\n",
      "[LightGBM] [Warning] No further splits with positive gain, best gain: -inf\n",
      "[LightGBM] [Warning] No further splits with positive gain, best gain: -inf\n",
      "[LightGBM] [Warning] No further splits with positive gain, best gain: -inf\n",
      "[LightGBM] [Warning] No further splits with positive gain, best gain: -inf\n",
      "[LightGBM] [Warning] No further splits with positive gain, best gain: -inf\n",
      "[LightGBM] [Warning] No further splits with positive gain, best gain: -inf\n",
      "[LightGBM] [Warning] No further splits with positive gain, best gain: -inf\n",
      "[LightGBM] [Warning] No further splits with positive gain, best gain: -inf\n",
      "[LightGBM] [Warning] No further splits with positive gain, best gain: -inf\n",
      "[LightGBM] [Warning] No further splits with positive gain, best gain: -inf\n",
      "[LightGBM] [Warning] No further splits with positive gain, best gain: -inf\n",
      "[LightGBM] [Warning] No further splits with positive gain, best gain: -inf\n",
      "[LightGBM] [Warning] No further splits with positive gain, best gain: -inf\n",
      "[LightGBM] [Warning] No further splits with positive gain, best gain: -inf\n",
      "[LightGBM] [Warning] No further splits with positive gain, best gain: -inf\n",
      "[LightGBM] [Warning] No further splits with positive gain, best gain: -inf\n",
      "[LightGBM] [Warning] No further splits with positive gain, best gain: -inf\n",
      "[LightGBM] [Warning] No further splits with positive gain, best gain: -inf\n",
      "[LightGBM] [Warning] No further splits with positive gain, best gain: -inf\n",
      "[LightGBM] [Warning] No further splits with positive gain, best gain: -inf\n",
      "[LightGBM] [Warning] No further splits with positive gain, best gain: -inf\n",
      "[LightGBM] [Warning] No further splits with positive gain, best gain: -inf\n",
      "[LightGBM] [Warning] No further splits with positive gain, best gain: -inf\n",
      "[LightGBM] [Warning] No further splits with positive gain, best gain: -inf\n",
      "[LightGBM] [Warning] No further splits with positive gain, best gain: -inf\n",
      "[LightGBM] [Warning] No further splits with positive gain, best gain: -inf\n",
      "[LightGBM] [Warning] No further splits with positive gain, best gain: -inf\n",
      "[LightGBM] [Warning] No further splits with positive gain, best gain: -inf\n",
      "[LightGBM] [Warning] No further splits with positive gain, best gain: -inf\n",
      "[LightGBM] [Warning] No further splits with positive gain, best gain: -inf\n",
      "[LightGBM] [Warning] No further splits with positive gain, best gain: -inf\n",
      "[LightGBM] [Warning] No further splits with positive gain, best gain: -inf\n",
      "[LightGBM] [Warning] No further splits with positive gain, best gain: -inf\n",
      "[LightGBM] [Warning] No further splits with positive gain, best gain: -inf\n",
      "[LightGBM] [Warning] No further splits with positive gain, best gain: -inf\n",
      "[LightGBM] [Warning] No further splits with positive gain, best gain: -inf\n",
      "[LightGBM] [Warning] No further splits with positive gain, best gain: -inf\n",
      "Best hyperparams:  {'boosting_type': 'gbdt', 'force_col_wise': True, 'max_depth': 10, 'n_estimators': 100, 'num_leaves': 127, 'random_state': 12345, 'verbose': 0}\n",
      "RMSE score on train sample: 1546.30\n",
      "CPU times: user 2min 49s, sys: 913 ms, total: 2min 50s\n",
      "Wall time: 2min 52s\n"
     ]
    }
   ],
   "source": [
    "%%time\n",
    "lgb_params = lgb_regr(X_train, y_train)"
   ]
  },
  {
   "cell_type": "code",
   "execution_count": 51,
   "metadata": {
    "scrolled": true
   },
   "outputs": [
    {
     "name": "stdout",
     "output_type": "stream",
     "text": [
      "[10]\tvalid_0's rmse: 2442.53\tvalid_0's l2: 5.96593e+06\n",
      "[20]\tvalid_0's rmse: 1904.24\tvalid_0's l2: 3.62612e+06\n",
      "[30]\tvalid_0's rmse: 1743.77\tvalid_0's l2: 3.04074e+06\n",
      "[40]\tvalid_0's rmse: 1676.07\tvalid_0's l2: 2.8092e+06\n",
      "[50]\tvalid_0's rmse: 1646.9\tvalid_0's l2: 2.71227e+06\n",
      "[60]\tvalid_0's rmse: 1626.09\tvalid_0's l2: 2.64417e+06\n",
      "[70]\tvalid_0's rmse: 1613.04\tvalid_0's l2: 2.6019e+06\n",
      "[80]\tvalid_0's rmse: 1600.84\tvalid_0's l2: 2.5627e+06\n",
      "[90]\tvalid_0's rmse: 1590.05\tvalid_0's l2: 2.52825e+06\n",
      "[100]\tvalid_0's rmse: 1583.38\tvalid_0's l2: 2.50708e+06\n",
      "Test RMSE = 1583.38\n",
      "CPU times: user 2min 6s, sys: 824 ms, total: 2min 7s\n",
      "Wall time: 2min 10s\n"
     ]
    }
   ],
   "source": [
    "%%time\n",
    "model_lgb = LGBMRegressor(**lgb_params)\n",
    "model_lgb.fit(X_train, y_train, eval_set=(X_test, y_test), verbose=10, eval_metric='rmse')\n",
    "predict_lgb = model_lgb.predict(X_test)\n",
    "print('Test RMSE = {:.2f}'.format(mse(y_test, predict_lgb)**0.5))"
   ]
  },
  {
   "cell_type": "markdown",
   "metadata": {},
   "source": [
    "Использовав модель LGBMRegressor мы получили показатели: \n",
    " - на обучающей выборке: 1546.30\n",
    " - на тестовой выборке: 1583.38"
   ]
  },
  {
   "cell_type": "markdown",
   "metadata": {},
   "source": [
    "### CatBoostRegressor"
   ]
  },
  {
   "cell_type": "code",
   "execution_count": 52,
   "metadata": {},
   "outputs": [],
   "source": [
    "def catboost_regr(features, target):\n",
    "    model = CatBoostRegressor()\n",
    "    params = {\n",
    "            'n_estimators' : [50, 100],\n",
    "            'verbose' : [0],\n",
    "            'random_state' : [RND],\n",
    "            'max_depth' : [5, 7, 10]\n",
    "    }\n",
    "    grid_cv = GridSearchCV(estimator=model, \n",
    "    param_grid=params, cv=3, n_jobs=-1, scoring='neg_mean_squared_error')\n",
    "    grid_cv.fit(features, target, cat_features=cats_cols, verbose=10)\n",
    "    print('Best hyperparams: ', grid_cv.best_params_)\n",
    "    print('RMSE score on train sample: {:.2f}'.format((-grid_cv.best_score_) ** 0.5))\n",
    "    return grid_cv.best_params_"
   ]
  },
  {
   "cell_type": "code",
   "execution_count": 53,
   "metadata": {
    "scrolled": true
   },
   "outputs": [
    {
     "name": "stdout",
     "output_type": "stream",
     "text": [
      "Learning rate set to 0.5\n",
      "0:\tlearn: 3296.1746529\ttotal: 110ms\tremaining: 5.41s\n",
      "10:\tlearn: 1913.9841520\ttotal: 589ms\tremaining: 2.09s\n",
      "20:\tlearn: 1814.4159533\ttotal: 1.42s\tremaining: 1.96s\n",
      "30:\tlearn: 1774.1340517\ttotal: 1.88s\tremaining: 1.15s\n",
      "40:\tlearn: 1738.1837449\ttotal: 2.41s\tremaining: 528ms\n",
      "49:\tlearn: 1714.9174969\ttotal: 2.79s\tremaining: 0us\n",
      "Learning rate set to 0.5\n",
      "0:\tlearn: 3302.3601108\ttotal: 53.7ms\tremaining: 2.63s\n",
      "10:\tlearn: 1929.0087023\ttotal: 525ms\tremaining: 1.86s\n",
      "20:\tlearn: 1829.5312038\ttotal: 938ms\tremaining: 1.29s\n",
      "30:\tlearn: 1775.4492957\ttotal: 1.36s\tremaining: 832ms\n",
      "40:\tlearn: 1743.3087446\ttotal: 1.78s\tremaining: 391ms\n",
      "49:\tlearn: 1720.8277535\ttotal: 2.17s\tremaining: 0us\n",
      "Learning rate set to 0.5\n",
      "0:\tlearn: 3234.6054394\ttotal: 49.5ms\tremaining: 2.42s\n",
      "10:\tlearn: 1916.8655921\ttotal: 511ms\tremaining: 1.81s\n",
      "20:\tlearn: 1822.6522880\ttotal: 944ms\tremaining: 1.3s\n",
      "30:\tlearn: 1777.2231812\ttotal: 1.37s\tremaining: 842ms\n",
      "40:\tlearn: 1744.6549374\ttotal: 1.8s\tremaining: 396ms\n",
      "49:\tlearn: 1724.5346097\ttotal: 2.2s\tremaining: 0us\n",
      "Learning rate set to 0.5\n",
      "0:\tlearn: 3296.1746529\ttotal: 53.1ms\tremaining: 5.25s\n",
      "10:\tlearn: 1913.9841520\ttotal: 507ms\tremaining: 4.1s\n",
      "20:\tlearn: 1814.4159533\ttotal: 932ms\tremaining: 3.5s\n",
      "30:\tlearn: 1774.1340517\ttotal: 1.37s\tremaining: 3.06s\n",
      "40:\tlearn: 1738.1837449\ttotal: 1.87s\tremaining: 2.69s\n",
      "50:\tlearn: 1713.1447668\ttotal: 2.34s\tremaining: 2.25s\n",
      "60:\tlearn: 1692.2658715\ttotal: 2.76s\tremaining: 1.77s\n",
      "70:\tlearn: 1676.7948555\ttotal: 3.2s\tremaining: 1.31s\n",
      "80:\tlearn: 1664.1240396\ttotal: 3.63s\tremaining: 852ms\n",
      "90:\tlearn: 1654.3835278\ttotal: 4.06s\tremaining: 401ms\n",
      "99:\tlearn: 1646.7612171\ttotal: 4.44s\tremaining: 0us\n",
      "Learning rate set to 0.5\n",
      "0:\tlearn: 3302.3601108\ttotal: 50.1ms\tremaining: 4.96s\n",
      "10:\tlearn: 1929.0087023\ttotal: 505ms\tremaining: 4.08s\n",
      "20:\tlearn: 1829.5312038\ttotal: 933ms\tremaining: 3.51s\n",
      "30:\tlearn: 1775.4492957\ttotal: 1.36s\tremaining: 3.02s\n",
      "40:\tlearn: 1743.3087446\ttotal: 1.78s\tremaining: 2.57s\n",
      "50:\tlearn: 1718.5246949\ttotal: 2.22s\tremaining: 2.13s\n",
      "60:\tlearn: 1701.6608996\ttotal: 2.65s\tremaining: 1.69s\n",
      "70:\tlearn: 1687.0690649\ttotal: 3.07s\tremaining: 1.25s\n",
      "80:\tlearn: 1676.1083903\ttotal: 3.49s\tremaining: 819ms\n",
      "90:\tlearn: 1662.5349885\ttotal: 3.94s\tremaining: 390ms\n",
      "99:\tlearn: 1653.6220235\ttotal: 4.32s\tremaining: 0us\n",
      "Learning rate set to 0.5\n",
      "0:\tlearn: 3234.6054394\ttotal: 49.8ms\tremaining: 4.93s\n",
      "10:\tlearn: 1916.8655921\ttotal: 510ms\tremaining: 4.12s\n",
      "20:\tlearn: 1822.6522880\ttotal: 936ms\tremaining: 3.52s\n",
      "30:\tlearn: 1777.2231812\ttotal: 1.36s\tremaining: 3.04s\n",
      "40:\tlearn: 1744.6549374\ttotal: 1.8s\tremaining: 2.6s\n",
      "50:\tlearn: 1722.2273326\ttotal: 2.25s\tremaining: 2.16s\n",
      "60:\tlearn: 1701.4722308\ttotal: 2.69s\tremaining: 1.72s\n",
      "70:\tlearn: 1685.2927781\ttotal: 3.11s\tremaining: 1.27s\n",
      "80:\tlearn: 1672.1223633\ttotal: 3.53s\tremaining: 828ms\n",
      "90:\tlearn: 1664.1515161\ttotal: 3.94s\tremaining: 390ms\n",
      "99:\tlearn: 1654.4289756\ttotal: 4.31s\tremaining: 0us\n",
      "Learning rate set to 0.5\n",
      "0:\tlearn: 3103.2528838\ttotal: 68.4ms\tremaining: 3.35s\n",
      "10:\tlearn: 1835.0431567\ttotal: 638ms\tremaining: 2.26s\n",
      "20:\tlearn: 1734.8927116\ttotal: 1.17s\tremaining: 1.62s\n",
      "30:\tlearn: 1687.1033526\ttotal: 1.73s\tremaining: 1.06s\n",
      "40:\tlearn: 1653.7088695\ttotal: 2.29s\tremaining: 502ms\n",
      "49:\tlearn: 1630.4421631\ttotal: 2.78s\tremaining: 0us\n",
      "Learning rate set to 0.5\n",
      "0:\tlearn: 3109.6418198\ttotal: 67.4ms\tremaining: 3.3s\n",
      "10:\tlearn: 1827.0996489\ttotal: 648ms\tremaining: 2.29s\n",
      "20:\tlearn: 1739.5378950\ttotal: 1.21s\tremaining: 1.66s\n",
      "30:\tlearn: 1693.9835977\ttotal: 1.77s\tremaining: 1.08s\n",
      "40:\tlearn: 1659.0955418\ttotal: 2.33s\tremaining: 511ms\n",
      "49:\tlearn: 1634.7633229\ttotal: 2.83s\tremaining: 0us\n",
      "Learning rate set to 0.5\n",
      "0:\tlearn: 3111.0784953\ttotal: 63.5ms\tremaining: 3.11s\n",
      "10:\tlearn: 1823.4973344\ttotal: 639ms\tremaining: 2.27s\n",
      "20:\tlearn: 1743.2453814\ttotal: 1.18s\tremaining: 1.63s\n",
      "30:\tlearn: 1695.2869626\ttotal: 1.71s\tremaining: 1.05s\n",
      "40:\tlearn: 1667.4136902\ttotal: 2.24s\tremaining: 492ms\n",
      "49:\tlearn: 1645.6043625\ttotal: 2.72s\tremaining: 0us\n",
      "Learning rate set to 0.5\n",
      "0:\tlearn: 3103.2528838\ttotal: 59.9ms\tremaining: 5.93s\n",
      "10:\tlearn: 1835.0431567\ttotal: 615ms\tremaining: 4.97s\n",
      "20:\tlearn: 1734.8927116\ttotal: 1.15s\tremaining: 4.34s\n",
      "30:\tlearn: 1687.1033526\ttotal: 1.7s\tremaining: 3.78s\n",
      "40:\tlearn: 1653.7088695\ttotal: 2.26s\tremaining: 3.26s\n",
      "50:\tlearn: 1628.6426619\ttotal: 2.81s\tremaining: 2.7s\n",
      "60:\tlearn: 1610.6538862\ttotal: 3.37s\tremaining: 2.15s\n",
      "70:\tlearn: 1597.1170957\ttotal: 3.91s\tremaining: 1.6s\n",
      "80:\tlearn: 1582.3478668\ttotal: 4.47s\tremaining: 1.05s\n",
      "90:\tlearn: 1572.2699752\ttotal: 5.08s\tremaining: 502ms\n",
      "99:\tlearn: 1561.5139044\ttotal: 5.56s\tremaining: 0us\n",
      "Learning rate set to 0.5\n",
      "0:\tlearn: 3109.6418198\ttotal: 65.8ms\tremaining: 6.51s\n",
      "10:\tlearn: 1827.0996489\ttotal: 615ms\tremaining: 4.98s\n",
      "20:\tlearn: 1739.5378950\ttotal: 1.16s\tremaining: 4.36s\n",
      "30:\tlearn: 1693.9835977\ttotal: 1.7s\tremaining: 3.79s\n",
      "40:\tlearn: 1659.0955418\ttotal: 2.27s\tremaining: 3.26s\n",
      "50:\tlearn: 1633.6408595\ttotal: 2.83s\tremaining: 2.72s\n",
      "60:\tlearn: 1613.0747871\ttotal: 3.4s\tremaining: 2.17s\n",
      "70:\tlearn: 1595.8995890\ttotal: 3.94s\tremaining: 1.61s\n",
      "80:\tlearn: 1582.6897587\ttotal: 4.49s\tremaining: 1.05s\n",
      "90:\tlearn: 1569.8272190\ttotal: 5.04s\tremaining: 498ms\n",
      "99:\tlearn: 1560.0543806\ttotal: 5.54s\tremaining: 0us\n",
      "Learning rate set to 0.5\n",
      "0:\tlearn: 3111.0784953\ttotal: 57.7ms\tremaining: 5.71s\n",
      "10:\tlearn: 1823.4973344\ttotal: 612ms\tremaining: 4.95s\n",
      "20:\tlearn: 1743.2453814\ttotal: 1.15s\tremaining: 4.31s\n",
      "30:\tlearn: 1695.2869626\ttotal: 1.68s\tremaining: 3.74s\n",
      "40:\tlearn: 1667.4136902\ttotal: 2.23s\tremaining: 3.2s\n",
      "50:\tlearn: 1644.3142374\ttotal: 2.76s\tremaining: 2.65s\n",
      "60:\tlearn: 1623.9206272\ttotal: 3.28s\tremaining: 2.1s\n",
      "70:\tlearn: 1607.4997908\ttotal: 3.83s\tremaining: 1.56s\n",
      "80:\tlearn: 1591.5243436\ttotal: 4.39s\tremaining: 1.03s\n",
      "90:\tlearn: 1577.1317989\ttotal: 4.96s\tremaining: 491ms\n",
      "99:\tlearn: 1568.0178521\ttotal: 5.48s\tremaining: 0us\n",
      "Learning rate set to 0.5\n",
      "0:\tlearn: 3013.7891040\ttotal: 90.8ms\tremaining: 4.45s\n",
      "10:\tlearn: 1713.3162338\ttotal: 951ms\tremaining: 3.37s\n",
      "20:\tlearn: 1628.1919910\ttotal: 1.78s\tremaining: 2.45s\n",
      "30:\tlearn: 1566.8433034\ttotal: 2.58s\tremaining: 1.58s\n",
      "40:\tlearn: 1522.4793291\ttotal: 3.4s\tremaining: 747ms\n",
      "49:\tlearn: 1488.5107650\ttotal: 4.14s\tremaining: 0us\n",
      "Learning rate set to 0.5\n",
      "0:\tlearn: 3017.0919499\ttotal: 92.2ms\tremaining: 4.52s\n",
      "10:\tlearn: 1713.8646012\ttotal: 1.16s\tremaining: 4.12s\n",
      "20:\tlearn: 1624.0758126\ttotal: 2.03s\tremaining: 2.8s\n",
      "30:\tlearn: 1563.2891720\ttotal: 2.86s\tremaining: 1.75s\n",
      "40:\tlearn: 1518.7524305\ttotal: 3.73s\tremaining: 818ms\n",
      "49:\tlearn: 1491.8549300\ttotal: 4.53s\tremaining: 0us\n",
      "Learning rate set to 0.5\n",
      "0:\tlearn: 3013.6921203\ttotal: 84.9ms\tremaining: 4.16s\n",
      "10:\tlearn: 1716.9364348\ttotal: 935ms\tremaining: 3.31s\n",
      "20:\tlearn: 1621.7930968\ttotal: 1.79s\tremaining: 2.48s\n",
      "30:\tlearn: 1566.7239017\ttotal: 2.74s\tremaining: 1.68s\n",
      "40:\tlearn: 1529.0423417\ttotal: 3.56s\tremaining: 782ms\n",
      "49:\tlearn: 1502.6244522\ttotal: 4.3s\tremaining: 0us\n",
      "Learning rate set to 0.5\n",
      "0:\tlearn: 3013.7891040\ttotal: 148ms\tremaining: 14.6s\n",
      "10:\tlearn: 1713.3162338\ttotal: 1.17s\tremaining: 9.48s\n",
      "20:\tlearn: 1628.1919910\ttotal: 2s\tremaining: 7.52s\n",
      "30:\tlearn: 1566.8433034\ttotal: 2.89s\tremaining: 6.43s\n",
      "40:\tlearn: 1522.4793291\ttotal: 3.74s\tremaining: 5.38s\n",
      "50:\tlearn: 1486.9343301\ttotal: 4.57s\tremaining: 4.39s\n",
      "60:\tlearn: 1464.4400280\ttotal: 5.38s\tremaining: 3.44s\n",
      "70:\tlearn: 1442.4989779\ttotal: 6.2s\tremaining: 2.53s\n",
      "80:\tlearn: 1423.9049945\ttotal: 7s\tremaining: 1.64s\n",
      "90:\tlearn: 1407.9716426\ttotal: 7.82s\tremaining: 773ms\n",
      "99:\tlearn: 1394.2934875\ttotal: 8.53s\tremaining: 0us\n",
      "Learning rate set to 0.5\n",
      "0:\tlearn: 3017.0919499\ttotal: 89.7ms\tremaining: 8.88s\n",
      "10:\tlearn: 1713.8646012\ttotal: 922ms\tremaining: 7.46s\n",
      "20:\tlearn: 1624.0758126\ttotal: 1.77s\tremaining: 6.65s\n",
      "30:\tlearn: 1563.2891720\ttotal: 2.6s\tremaining: 5.78s\n",
      "40:\tlearn: 1518.7524305\ttotal: 3.4s\tremaining: 4.89s\n",
      "50:\tlearn: 1488.2553635\ttotal: 4.25s\tremaining: 4.09s\n",
      "60:\tlearn: 1464.3035131\ttotal: 5.1s\tremaining: 3.26s\n",
      "70:\tlearn: 1444.3075902\ttotal: 5.94s\tremaining: 2.42s\n",
      "80:\tlearn: 1425.0034718\ttotal: 6.76s\tremaining: 1.59s\n",
      "90:\tlearn: 1405.8181106\ttotal: 7.58s\tremaining: 750ms\n",
      "99:\tlearn: 1393.3925028\ttotal: 8.33s\tremaining: 0us\n",
      "Learning rate set to 0.5\n",
      "0:\tlearn: 3013.6921203\ttotal: 85.1ms\tremaining: 8.43s\n",
      "10:\tlearn: 1716.9364348\ttotal: 886ms\tremaining: 7.17s\n",
      "20:\tlearn: 1621.7930968\ttotal: 1.67s\tremaining: 6.29s\n",
      "30:\tlearn: 1566.7239017\ttotal: 2.44s\tremaining: 5.44s\n",
      "40:\tlearn: 1529.0423417\ttotal: 3.22s\tremaining: 4.64s\n",
      "50:\tlearn: 1499.7262270\ttotal: 4.03s\tremaining: 3.87s\n",
      "60:\tlearn: 1475.0637207\ttotal: 4.85s\tremaining: 3.1s\n",
      "70:\tlearn: 1456.9010114\ttotal: 5.68s\tremaining: 2.32s\n",
      "80:\tlearn: 1432.9231806\ttotal: 6.53s\tremaining: 1.53s\n",
      "90:\tlearn: 1418.0742050\ttotal: 7.35s\tremaining: 727ms\n",
      "99:\tlearn: 1405.9894083\ttotal: 8.09s\tremaining: 0us\n",
      "Learning rate set to 0.5\n",
      "0:\tlearn: 3022.6732637\ttotal: 128ms\tremaining: 12.7s\n",
      "10:\tlearn: 1709.9804108\ttotal: 1.32s\tremaining: 10.7s\n",
      "20:\tlearn: 1626.0023203\ttotal: 2.52s\tremaining: 9.49s\n",
      "30:\tlearn: 1571.9939509\ttotal: 3.74s\tremaining: 8.32s\n",
      "40:\tlearn: 1534.6546037\ttotal: 4.87s\tremaining: 7.01s\n",
      "50:\tlearn: 1512.4763644\ttotal: 5.99s\tremaining: 5.75s\n",
      "60:\tlearn: 1488.3717165\ttotal: 7.14s\tremaining: 4.57s\n",
      "70:\tlearn: 1469.8841550\ttotal: 8.28s\tremaining: 3.38s\n",
      "80:\tlearn: 1452.6573562\ttotal: 9.42s\tremaining: 2.21s\n",
      "90:\tlearn: 1438.3999712\ttotal: 10.6s\tremaining: 1.05s\n",
      "99:\tlearn: 1426.1888612\ttotal: 11.7s\tremaining: 0us\n",
      "Best hyperparams:  {'max_depth': 10, 'n_estimators': 100, 'random_state': 12345, 'verbose': 0}\n",
      "RMSE score on train sample: 1584.63\n",
      "CPU times: user 1min 41s, sys: 773 ms, total: 1min 42s\n",
      "Wall time: 2min\n"
     ]
    }
   ],
   "source": [
    "%%time\n",
    "catb_params = catboost_regr(X_train, y_train)"
   ]
  },
  {
   "cell_type": "code",
   "execution_count": 54,
   "metadata": {},
   "outputs": [
    {
     "name": "stdout",
     "output_type": "stream",
     "text": [
      "Learning rate set to 0.5\n",
      "0:\tlearn: 3028.1379189\ttotal: 61.1ms\tremaining: 6.05s\n",
      "10:\tlearn: 1745.7518801\ttotal: 679ms\tremaining: 5.5s\n",
      "20:\tlearn: 1655.6440317\ttotal: 1.27s\tremaining: 4.76s\n",
      "30:\tlearn: 1596.6066005\ttotal: 1.88s\tremaining: 4.17s\n",
      "40:\tlearn: 1559.7702846\ttotal: 2.48s\tremaining: 3.57s\n",
      "50:\tlearn: 1529.2792190\ttotal: 3.08s\tremaining: 2.96s\n",
      "60:\tlearn: 1504.2055764\ttotal: 3.69s\tremaining: 2.36s\n",
      "70:\tlearn: 1483.3936982\ttotal: 4.29s\tremaining: 1.75s\n",
      "80:\tlearn: 1463.6904140\ttotal: 4.9s\tremaining: 1.15s\n",
      "90:\tlearn: 1449.0403067\ttotal: 5.51s\tremaining: 545ms\n",
      "99:\tlearn: 1436.7733426\ttotal: 6.06s\tremaining: 0us\n",
      "Test RMSE : 1568.53 \n",
      "CPU times: user 6.22 s, sys: 22.5 ms, total: 6.24 s\n",
      "Wall time: 7.15 s\n"
     ]
    }
   ],
   "source": [
    "%%time\n",
    "catb_model = CatBoostRegressor(**catb_params)\n",
    "catb_model.fit(X_train, y_train, verbose=10)\n",
    "catb_pred = catb_model.predict(X_test)\n",
    "print('Test RMSE : {:.2f} '.format(mse(y_test, catb_pred)**0.5))"
   ]
  },
  {
   "cell_type": "markdown",
   "metadata": {},
   "source": [
    "Использовав модель CatBoostRegressor мы получили показатели: \n",
    " - на обучающей выборке: 1584.63\n",
    " - на тестовой выборке: 1568.53"
   ]
  },
  {
   "cell_type": "markdown",
   "metadata": {},
   "source": [
    "### XGBRegressor"
   ]
  },
  {
   "cell_type": "code",
   "execution_count": 55,
   "metadata": {},
   "outputs": [],
   "source": [
    "def xgb_regr(features, target):\n",
    "    model = XGBRegressor()\n",
    "    params = {\n",
    "        'max_depth': [3, 5, 7], \n",
    "         'eta': [0.5], \n",
    "         'min_child_weight':[4],\n",
    "         'sampling_method':['gradient_based'], \n",
    "         'verbosity':[1],  \n",
    "         'seed':[RND]}\n",
    "    grid_cv = GridSearchCV(estimator=model, param_grid=params, cv=2, n_jobs=-1, scoring='neg_mean_squared_error')\n",
    "    grid_cv.fit(features, target, eval_metric='rmse', verbose = 10, eval_set = [(X_test, y_test)])\n",
    "    print('Best hyperparams: ', grid_cv.best_params_)\n",
    "    print('Best RMSE score: {:.2f}'.format((-grid_cv.best_score_) ** 0.5))\n",
    "    return grid_cv.best_params_"
   ]
  },
  {
   "cell_type": "code",
   "execution_count": 56,
   "metadata": {
    "scrolled": true
   },
   "outputs": [
    {
     "name": "stdout",
     "output_type": "stream",
     "text": [
      "[0]\tvalidation_0-rmse:4098.41504\n",
      "[10]\tvalidation_0-rmse:2086.09424\n",
      "[20]\tvalidation_0-rmse:1935.93738\n",
      "[30]\tvalidation_0-rmse:1885.22070\n",
      "[40]\tvalidation_0-rmse:1847.55286\n",
      "[50]\tvalidation_0-rmse:1822.93897\n",
      "[60]\tvalidation_0-rmse:1804.44678\n",
      "[70]\tvalidation_0-rmse:1789.27795\n",
      "[80]\tvalidation_0-rmse:1775.64099\n",
      "[90]\tvalidation_0-rmse:1764.28943\n",
      "[99]\tvalidation_0-rmse:1754.76782\n",
      "[0]\tvalidation_0-rmse:4102.01562\n",
      "[10]\tvalidation_0-rmse:2095.15649\n",
      "[20]\tvalidation_0-rmse:1948.41882\n",
      "[30]\tvalidation_0-rmse:1885.13025\n",
      "[40]\tvalidation_0-rmse:1850.28589\n",
      "[50]\tvalidation_0-rmse:1824.57996\n",
      "[60]\tvalidation_0-rmse:1805.95154\n",
      "[70]\tvalidation_0-rmse:1791.17505\n",
      "[80]\tvalidation_0-rmse:1776.90759\n",
      "[90]\tvalidation_0-rmse:1767.17065\n",
      "[99]\tvalidation_0-rmse:1758.56482\n",
      "[0]\tvalidation_0-rmse:3838.62500\n",
      "[10]\tvalidation_0-rmse:1855.30066\n",
      "[20]\tvalidation_0-rmse:1765.45544\n",
      "[30]\tvalidation_0-rmse:1727.35132\n",
      "[40]\tvalidation_0-rmse:1703.39197\n",
      "[50]\tvalidation_0-rmse:1686.09961\n",
      "[60]\tvalidation_0-rmse:1674.00989\n",
      "[70]\tvalidation_0-rmse:1661.54956\n",
      "[80]\tvalidation_0-rmse:1651.61145\n",
      "[90]\tvalidation_0-rmse:1645.10217\n",
      "[99]\tvalidation_0-rmse:1641.37109\n",
      "[0]\tvalidation_0-rmse:3844.46631\n",
      "[10]\tvalidation_0-rmse:1850.19116\n",
      "[20]\tvalidation_0-rmse:1777.92749\n",
      "[30]\tvalidation_0-rmse:1739.36523\n",
      "[40]\tvalidation_0-rmse:1715.37012\n",
      "[50]\tvalidation_0-rmse:1695.34875\n",
      "[60]\tvalidation_0-rmse:1683.30872\n",
      "[70]\tvalidation_0-rmse:1674.48193\n",
      "[80]\tvalidation_0-rmse:1666.96094\n",
      "[90]\tvalidation_0-rmse:1660.40442\n",
      "[99]\tvalidation_0-rmse:1656.04736\n",
      "[0]\tvalidation_0-rmse:3728.62817\n",
      "[10]\tvalidation_0-rmse:1741.23938\n",
      "[20]\tvalidation_0-rmse:1686.54346\n",
      "[30]\tvalidation_0-rmse:1662.34595\n",
      "[40]\tvalidation_0-rmse:1645.62476\n",
      "[50]\tvalidation_0-rmse:1635.26575\n",
      "[60]\tvalidation_0-rmse:1630.38696\n",
      "[70]\tvalidation_0-rmse:1626.84998\n",
      "[80]\tvalidation_0-rmse:1624.27686\n",
      "[90]\tvalidation_0-rmse:1620.58826\n",
      "[99]\tvalidation_0-rmse:1618.32312\n",
      "[0]\tvalidation_0-rmse:3734.16211\n",
      "[10]\tvalidation_0-rmse:1750.22961\n",
      "[20]\tvalidation_0-rmse:1691.50342\n",
      "[30]\tvalidation_0-rmse:1666.38623\n",
      "[40]\tvalidation_0-rmse:1652.47742\n",
      "[50]\tvalidation_0-rmse:1646.10840\n",
      "[60]\tvalidation_0-rmse:1636.40283\n",
      "[70]\tvalidation_0-rmse:1629.62952\n",
      "[80]\tvalidation_0-rmse:1626.20911\n",
      "[90]\tvalidation_0-rmse:1623.46814\n",
      "[99]\tvalidation_0-rmse:1620.81409\n",
      "[0]\tvalidation_0-rmse:3728.91235\n",
      "[10]\tvalidation_0-rmse:1737.22461\n",
      "[20]\tvalidation_0-rmse:1674.00439\n",
      "[30]\tvalidation_0-rmse:1635.47022\n",
      "[40]\tvalidation_0-rmse:1612.59021\n",
      "[50]\tvalidation_0-rmse:1603.83142\n",
      "[60]\tvalidation_0-rmse:1596.39966\n",
      "[70]\tvalidation_0-rmse:1590.73157\n",
      "[80]\tvalidation_0-rmse:1583.48535\n",
      "[90]\tvalidation_0-rmse:1577.42725\n",
      "[99]\tvalidation_0-rmse:1574.44458\n",
      "Best hyperparams:  {'eta': 0.5, 'max_depth': 7, 'min_child_weight': 4, 'sampling_method': 'gradient_based', 'seed': 12345, 'verbosity': 1}\n",
      "Best RMSE score: 1607.15\n",
      "CPU times: user 5min 17s, sys: 1.44 s, total: 5min 19s\n",
      "Wall time: 5min 22s\n"
     ]
    }
   ],
   "source": [
    "%%time\n",
    "xgb_params = xgb_regr(X_train, y_train)"
   ]
  },
  {
   "cell_type": "code",
   "execution_count": 57,
   "metadata": {},
   "outputs": [
    {
     "name": "stdout",
     "output_type": "stream",
     "text": [
      "[0]\tvalidation_0-rmse:3728.91235\n",
      "[10]\tvalidation_0-rmse:1737.22449\n",
      "[20]\tvalidation_0-rmse:1674.00427\n",
      "[30]\tvalidation_0-rmse:1635.47009\n",
      "[40]\tvalidation_0-rmse:1612.59009\n",
      "[50]\tvalidation_0-rmse:1603.83142\n",
      "[60]\tvalidation_0-rmse:1596.39966\n",
      "[70]\tvalidation_0-rmse:1590.73157\n",
      "[80]\tvalidation_0-rmse:1583.48535\n",
      "[90]\tvalidation_0-rmse:1577.42725\n",
      "[99]\tvalidation_0-rmse:1574.44458\n",
      "Test RMSE : 1574.45\n",
      "CPU times: user 2min 49s, sys: 1.04 s, total: 2min 50s\n",
      "Wall time: 2min 51s\n"
     ]
    }
   ],
   "source": [
    "%%time\n",
    "model_xgb = XGBRegressor(**xgb_params)\n",
    "model_xgb.fit(X_train, y_train, eval_metric='rmse', verbose = 10, eval_set = [(X_test, y_test)])\n",
    "xgb_pred = model_xgb.predict(X_test)\n",
    "print('Test RMSE : {:.2f}'.format(mse(y_test, xgb_pred)**0.5))"
   ]
  },
  {
   "cell_type": "markdown",
   "metadata": {},
   "source": [
    "Использовав модель XGBRegressor мы получили показатели: \n",
    " - на обучающей выборке: 1607.15\n",
    " - на тестовой выборке: 1574.45"
   ]
  },
  {
   "cell_type": "markdown",
   "metadata": {},
   "source": [
    "## Анализ моделей"
   ]
  },
  {
   "cell_type": "markdown",
   "metadata": {},
   "source": [
    "Мы провели анализ и обработку данных. Подготовили их и обучили модели на их основе. Нашли лучшие гиперпараметры для моделей и протестировали их применив метрику RMSE."
   ]
  },
  {
   "cell_type": "code",
   "execution_count": 58,
   "metadata": {
    "scrolled": false
   },
   "outputs": [
    {
     "data": {
      "text/html": [
       "<div>\n",
       "<style scoped>\n",
       "    .dataframe tbody tr th:only-of-type {\n",
       "        vertical-align: middle;\n",
       "    }\n",
       "\n",
       "    .dataframe tbody tr th {\n",
       "        vertical-align: top;\n",
       "    }\n",
       "\n",
       "    .dataframe thead th {\n",
       "        text-align: right;\n",
       "    }\n",
       "</style>\n",
       "<table border=\"1\" class=\"dataframe\">\n",
       "  <thead>\n",
       "    <tr style=\"text-align: right;\">\n",
       "      <th></th>\n",
       "      <th>Model</th>\n",
       "      <th>Train RMSE</th>\n",
       "      <th>Train Time, sec</th>\n",
       "      <th>Test RMSE</th>\n",
       "      <th>Test Time, sec</th>\n",
       "    </tr>\n",
       "  </thead>\n",
       "  <tbody>\n",
       "    <tr>\n",
       "      <th>0</th>\n",
       "      <td>LGBMRegressor</td>\n",
       "      <td>1546.30</td>\n",
       "      <td>30.3</td>\n",
       "      <td>1583.38</td>\n",
       "      <td>3.39</td>\n",
       "    </tr>\n",
       "    <tr>\n",
       "      <th>1</th>\n",
       "      <td>CatBoostRegressor</td>\n",
       "      <td>1584.63</td>\n",
       "      <td>53.2</td>\n",
       "      <td>1568.53</td>\n",
       "      <td>3.91</td>\n",
       "    </tr>\n",
       "    <tr>\n",
       "      <th>2</th>\n",
       "      <td>XGBRegressor</td>\n",
       "      <td>1607.15</td>\n",
       "      <td>67.0</td>\n",
       "      <td>1574.45</td>\n",
       "      <td>16.20</td>\n",
       "    </tr>\n",
       "  </tbody>\n",
       "</table>\n",
       "</div>"
      ],
      "text/plain": [
       "               Model  Train RMSE  Train Time, sec  Test RMSE  Test Time, sec\n",
       "0      LGBMRegressor     1546.30             30.3    1583.38            3.39\n",
       "1  CatBoostRegressor     1584.63             53.2    1568.53            3.91\n",
       "2       XGBRegressor     1607.15             67.0    1574.45           16.20"
      ]
     },
     "metadata": {},
     "output_type": "display_data"
    }
   ],
   "source": [
    "results = {\n",
    "    'Model' : ['LGBMRegressor', 'CatBoostRegressor', 'XGBRegressor'],\n",
    "    'Train RMSE' :pd.Series([1546.30, 1584.63, 1607.15]),\n",
    "    'Train Time, sec': pd.Series([30.3, 53.2, 67]),\n",
    "    'Test RMSE' :pd.Series([1583.38, 1568.53, 1574.45]),\n",
    "    'Test Time, sec': pd.Series([3.39, 3.91, 16.2])\n",
    "    }\n",
    "display(pd.DataFrame(results))"
   ]
  },
  {
   "cell_type": "markdown",
   "metadata": {},
   "source": [
    "## <b>Вывод</b>"
   ]
  },
  {
   "cell_type": "markdown",
   "metadata": {},
   "source": [
    "По итогам исследования можно видеть, что наиболее высокую точность дает модель CatBoostRegressor, при этом скорость предсказания у нее практически такая же как и у самой быстрой модели (LGBMRegressor), что делает ее оптимальной в данном случае. Именно модель CatBoostRegressor необходимо отправлять в продакшен."
   ]
  }
 ],
 "metadata": {
  "ExecuteTimeLog": [
   {
    "duration": 1868,
    "start_time": "2022-05-01T10:31:50.858Z"
   },
   {
    "duration": 2024,
    "start_time": "2022-05-01T10:31:52.729Z"
   },
   {
    "duration": 4,
    "start_time": "2022-05-01T10:31:54.754Z"
   },
   {
    "duration": 7,
    "start_time": "2022-05-01T10:31:54.759Z"
   },
   {
    "duration": 1560,
    "start_time": "2022-05-01T10:31:54.768Z"
   },
   {
    "duration": 332,
    "start_time": "2022-05-01T10:31:56.330Z"
   },
   {
    "duration": 25,
    "start_time": "2022-05-01T10:31:56.664Z"
   },
   {
    "duration": 3,
    "start_time": "2022-05-01T10:31:56.691Z"
   },
   {
    "duration": 2130,
    "start_time": "2022-05-01T10:31:56.696Z"
   },
   {
    "duration": 7,
    "start_time": "2022-05-01T10:31:58.827Z"
   },
   {
    "duration": 102,
    "start_time": "2022-05-01T10:31:58.836Z"
   },
   {
    "duration": 13,
    "start_time": "2022-05-01T10:31:58.940Z"
   },
   {
    "duration": 4,
    "start_time": "2022-05-01T10:31:58.954Z"
   },
   {
    "duration": 220,
    "start_time": "2022-05-01T10:31:58.962Z"
   },
   {
    "duration": 201,
    "start_time": "2022-05-01T10:31:59.184Z"
   },
   {
    "duration": 149,
    "start_time": "2022-05-01T10:31:59.387Z"
   },
   {
    "duration": 213,
    "start_time": "2022-05-01T10:31:59.538Z"
   },
   {
    "duration": 180,
    "start_time": "2022-05-01T10:31:59.753Z"
   },
   {
    "duration": 14,
    "start_time": "2022-05-01T10:31:59.935Z"
   },
   {
    "duration": 48,
    "start_time": "2022-05-01T10:31:59.951Z"
   },
   {
    "duration": 3,
    "start_time": "2022-05-01T10:32:00.001Z"
   },
   {
    "duration": 44,
    "start_time": "2022-05-01T10:32:00.006Z"
   },
   {
    "duration": 434,
    "start_time": "2022-05-01T10:32:00.052Z"
   },
   {
    "duration": 333,
    "start_time": "2022-05-01T10:32:00.487Z"
   },
   {
    "duration": 56,
    "start_time": "2022-05-01T10:32:00.822Z"
   },
   {
    "duration": 3026,
    "start_time": "2022-05-01T10:32:00.880Z"
   },
   {
    "duration": 222,
    "start_time": "2022-05-01T10:32:03.908Z"
   },
   {
    "duration": 20,
    "start_time": "2022-05-01T10:32:04.133Z"
   },
   {
    "duration": 44,
    "start_time": "2022-05-01T10:32:04.155Z"
   },
   {
    "duration": 473,
    "start_time": "2022-05-01T10:32:04.201Z"
   },
   {
    "duration": 4,
    "start_time": "2022-05-01T10:32:04.676Z"
   },
   {
    "duration": 180,
    "start_time": "2022-05-01T10:32:04.682Z"
   },
   {
    "duration": 349,
    "start_time": "2022-05-01T10:32:04.864Z"
   },
   {
    "duration": 188,
    "start_time": "2022-05-01T10:32:05.215Z"
   },
   {
    "duration": 4,
    "start_time": "2022-05-01T10:32:05.404Z"
   },
   {
    "duration": 42,
    "start_time": "2022-05-01T10:32:05.410Z"
   },
   {
    "duration": 446,
    "start_time": "2022-05-01T10:32:05.454Z"
   },
   {
    "duration": 3,
    "start_time": "2022-05-01T10:32:05.902Z"
   },
   {
    "duration": 33,
    "start_time": "2022-05-01T10:32:05.906Z"
   },
   {
    "duration": 67,
    "start_time": "2022-05-01T10:32:05.940Z"
   },
   {
    "duration": 4,
    "start_time": "2022-05-01T10:32:06.011Z"
   },
   {
    "duration": 191,
    "start_time": "2022-05-01T10:32:06.034Z"
   },
   {
    "duration": 5,
    "start_time": "2022-05-01T10:32:06.226Z"
   },
   {
    "duration": 167801,
    "start_time": "2022-05-01T10:32:06.233Z"
   },
   {
    "duration": 13310,
    "start_time": "2022-05-01T10:34:54.036Z"
   },
   {
    "duration": 4,
    "start_time": "2022-05-01T10:35:07.348Z"
   },
   {
    "duration": 141259,
    "start_time": "2022-05-01T10:35:07.434Z"
   },
   {
    "duration": 7369,
    "start_time": "2022-05-01T10:37:28.695Z"
   },
   {
    "duration": 4,
    "start_time": "2022-05-01T10:37:36.066Z"
   },
   {
    "duration": 430971,
    "start_time": "2022-05-01T10:37:36.071Z"
   },
   {
    "duration": 62700,
    "start_time": "2022-05-01T10:44:47.043Z"
   },
   {
    "duration": 89,
    "start_time": "2022-05-01T10:45:49.745Z"
   },
   {
    "duration": 244,
    "start_time": "2022-05-01T12:07:12.907Z"
   },
   {
    "duration": 167,
    "start_time": "2022-05-01T12:12:09.469Z"
   },
   {
    "duration": 159,
    "start_time": "2022-05-01T12:25:32.657Z"
   },
   {
    "duration": 166,
    "start_time": "2022-05-01T12:27:55.813Z"
   },
   {
    "duration": 173,
    "start_time": "2022-05-01T12:34:57.283Z"
   },
   {
    "duration": 4,
    "start_time": "2022-05-01T13:01:32.285Z"
   },
   {
    "duration": 4844,
    "start_time": "2022-05-01T13:01:32.291Z"
   },
   {
    "duration": 3,
    "start_time": "2022-05-01T13:01:37.137Z"
   },
   {
    "duration": 7,
    "start_time": "2022-05-01T13:01:37.142Z"
   },
   {
    "duration": 1598,
    "start_time": "2022-05-01T13:01:37.150Z"
   },
   {
    "duration": 356,
    "start_time": "2022-05-01T13:01:38.749Z"
   },
   {
    "duration": 33,
    "start_time": "2022-05-01T13:01:39.107Z"
   },
   {
    "duration": 5,
    "start_time": "2022-05-01T13:01:39.143Z"
   },
   {
    "duration": 2297,
    "start_time": "2022-05-01T13:01:39.151Z"
   },
   {
    "duration": 3,
    "start_time": "2022-05-01T13:01:41.450Z"
   },
   {
    "duration": 110,
    "start_time": "2022-05-01T13:01:41.455Z"
   },
   {
    "duration": 14,
    "start_time": "2022-05-01T13:01:41.567Z"
   },
   {
    "duration": 166,
    "start_time": "2022-05-01T13:01:41.583Z"
   },
   {
    "duration": 0,
    "start_time": "2022-05-01T13:01:41.751Z"
   },
   {
    "duration": 0,
    "start_time": "2022-05-01T13:01:41.753Z"
   },
   {
    "duration": 0,
    "start_time": "2022-05-01T13:01:41.754Z"
   },
   {
    "duration": 0,
    "start_time": "2022-05-01T13:01:41.755Z"
   },
   {
    "duration": 0,
    "start_time": "2022-05-01T13:01:41.756Z"
   },
   {
    "duration": 0,
    "start_time": "2022-05-01T13:01:41.757Z"
   },
   {
    "duration": 0,
    "start_time": "2022-05-01T13:01:41.758Z"
   },
   {
    "duration": 0,
    "start_time": "2022-05-01T13:01:41.759Z"
   },
   {
    "duration": 0,
    "start_time": "2022-05-01T13:01:41.760Z"
   },
   {
    "duration": 0,
    "start_time": "2022-05-01T13:01:41.761Z"
   },
   {
    "duration": 0,
    "start_time": "2022-05-01T13:01:41.762Z"
   },
   {
    "duration": 0,
    "start_time": "2022-05-01T13:01:41.762Z"
   },
   {
    "duration": 0,
    "start_time": "2022-05-01T13:01:41.763Z"
   },
   {
    "duration": 0,
    "start_time": "2022-05-01T13:01:41.764Z"
   },
   {
    "duration": 0,
    "start_time": "2022-05-01T13:01:41.765Z"
   },
   {
    "duration": 0,
    "start_time": "2022-05-01T13:01:41.766Z"
   },
   {
    "duration": 0,
    "start_time": "2022-05-01T13:01:41.767Z"
   },
   {
    "duration": 0,
    "start_time": "2022-05-01T13:01:41.767Z"
   },
   {
    "duration": 0,
    "start_time": "2022-05-01T13:01:41.768Z"
   },
   {
    "duration": 0,
    "start_time": "2022-05-01T13:01:41.769Z"
   },
   {
    "duration": 0,
    "start_time": "2022-05-01T13:01:41.770Z"
   },
   {
    "duration": 0,
    "start_time": "2022-05-01T13:01:41.771Z"
   },
   {
    "duration": 0,
    "start_time": "2022-05-01T13:01:41.772Z"
   },
   {
    "duration": 0,
    "start_time": "2022-05-01T13:01:41.773Z"
   },
   {
    "duration": 0,
    "start_time": "2022-05-01T13:01:41.774Z"
   },
   {
    "duration": 0,
    "start_time": "2022-05-01T13:01:41.775Z"
   },
   {
    "duration": 0,
    "start_time": "2022-05-01T13:01:41.776Z"
   },
   {
    "duration": 0,
    "start_time": "2022-05-01T13:01:41.777Z"
   },
   {
    "duration": 0,
    "start_time": "2022-05-01T13:01:41.778Z"
   },
   {
    "duration": 0,
    "start_time": "2022-05-01T13:01:41.779Z"
   },
   {
    "duration": 0,
    "start_time": "2022-05-01T13:01:41.780Z"
   },
   {
    "duration": 0,
    "start_time": "2022-05-01T13:01:41.781Z"
   },
   {
    "duration": 0,
    "start_time": "2022-05-01T13:01:41.782Z"
   },
   {
    "duration": 0,
    "start_time": "2022-05-01T13:01:41.783Z"
   },
   {
    "duration": 0,
    "start_time": "2022-05-01T13:01:41.784Z"
   },
   {
    "duration": 0,
    "start_time": "2022-05-01T13:01:41.785Z"
   },
   {
    "duration": 0,
    "start_time": "2022-05-01T13:01:41.786Z"
   },
   {
    "duration": 0,
    "start_time": "2022-05-01T13:01:41.787Z"
   },
   {
    "duration": 0,
    "start_time": "2022-05-01T13:01:41.788Z"
   },
   {
    "duration": 0,
    "start_time": "2022-05-01T13:01:41.789Z"
   },
   {
    "duration": 5,
    "start_time": "2022-05-01T13:01:54.333Z"
   },
   {
    "duration": 1453,
    "start_time": "2022-05-01T13:01:54.340Z"
   },
   {
    "duration": 4,
    "start_time": "2022-05-01T13:01:55.795Z"
   },
   {
    "duration": 5,
    "start_time": "2022-05-01T13:01:55.801Z"
   },
   {
    "duration": 1551,
    "start_time": "2022-05-01T13:01:55.808Z"
   },
   {
    "duration": 340,
    "start_time": "2022-05-01T13:01:57.360Z"
   },
   {
    "duration": 31,
    "start_time": "2022-05-01T13:01:57.702Z"
   },
   {
    "duration": 4,
    "start_time": "2022-05-01T13:01:57.735Z"
   },
   {
    "duration": 2189,
    "start_time": "2022-05-01T13:01:57.740Z"
   },
   {
    "duration": 3,
    "start_time": "2022-05-01T13:01:59.932Z"
   },
   {
    "duration": 106,
    "start_time": "2022-05-01T13:01:59.937Z"
   },
   {
    "duration": 15,
    "start_time": "2022-05-01T13:02:00.044Z"
   },
   {
    "duration": 4,
    "start_time": "2022-05-01T13:02:00.060Z"
   },
   {
    "duration": 220,
    "start_time": "2022-05-01T13:02:00.066Z"
   },
   {
    "duration": 195,
    "start_time": "2022-05-01T13:02:00.288Z"
   },
   {
    "duration": 160,
    "start_time": "2022-05-01T13:02:00.485Z"
   },
   {
    "duration": 230,
    "start_time": "2022-05-01T13:02:00.648Z"
   },
   {
    "duration": 185,
    "start_time": "2022-05-01T13:02:00.880Z"
   },
   {
    "duration": 17,
    "start_time": "2022-05-01T13:02:01.067Z"
   },
   {
    "duration": 57,
    "start_time": "2022-05-01T13:02:01.086Z"
   },
   {
    "duration": 3,
    "start_time": "2022-05-01T13:02:01.145Z"
   },
   {
    "duration": 39,
    "start_time": "2022-05-01T13:02:01.150Z"
   },
   {
    "duration": 351,
    "start_time": "2022-05-01T13:02:01.191Z"
   },
   {
    "duration": 350,
    "start_time": "2022-05-01T13:02:01.543Z"
   },
   {
    "duration": 56,
    "start_time": "2022-05-01T13:02:01.895Z"
   },
   {
    "duration": 2948,
    "start_time": "2022-05-01T13:02:01.953Z"
   },
   {
    "duration": 221,
    "start_time": "2022-05-01T13:02:04.903Z"
   },
   {
    "duration": 21,
    "start_time": "2022-05-01T13:02:05.133Z"
   },
   {
    "duration": 46,
    "start_time": "2022-05-01T13:02:05.156Z"
   },
   {
    "duration": 482,
    "start_time": "2022-05-01T13:02:05.204Z"
   },
   {
    "duration": 4,
    "start_time": "2022-05-01T13:02:05.688Z"
   },
   {
    "duration": 309,
    "start_time": "2022-05-01T13:02:05.693Z"
   },
   {
    "duration": 329,
    "start_time": "2022-05-01T13:02:06.004Z"
   },
   {
    "duration": 208,
    "start_time": "2022-05-01T13:02:06.335Z"
   },
   {
    "duration": 4,
    "start_time": "2022-05-01T13:02:06.545Z"
   },
   {
    "duration": 54,
    "start_time": "2022-05-01T13:02:06.552Z"
   },
   {
    "duration": 475,
    "start_time": "2022-05-01T13:02:06.607Z"
   },
   {
    "duration": 4,
    "start_time": "2022-05-01T13:02:07.083Z"
   },
   {
    "duration": 45,
    "start_time": "2022-05-01T13:02:07.089Z"
   },
   {
    "duration": 60,
    "start_time": "2022-05-01T13:02:07.136Z"
   },
   {
    "duration": 4,
    "start_time": "2022-05-01T13:02:07.197Z"
   },
   {
    "duration": 187,
    "start_time": "2022-05-01T13:02:07.203Z"
   },
   {
    "duration": 5,
    "start_time": "2022-05-01T13:02:07.392Z"
   },
   {
    "duration": 160644,
    "start_time": "2022-05-01T13:02:07.399Z"
   },
   {
    "duration": 14809,
    "start_time": "2022-05-01T13:04:48.045Z"
   },
   {
    "duration": 78,
    "start_time": "2022-05-01T13:05:02.856Z"
   },
   {
    "duration": 123269,
    "start_time": "2022-05-01T13:05:02.936Z"
   },
   {
    "duration": 7265,
    "start_time": "2022-05-01T13:07:06.207Z"
   },
   {
    "duration": 4,
    "start_time": "2022-05-01T13:07:13.474Z"
   },
   {
    "duration": 214812,
    "start_time": "2022-05-01T13:07:13.480Z"
   },
   {
    "duration": 78452,
    "start_time": "2022-05-01T13:10:48.294Z"
   },
   {
    "duration": 86,
    "start_time": "2022-05-01T13:12:06.748Z"
   },
   {
    "duration": 1714,
    "start_time": "2022-05-05T10:06:14.875Z"
   },
   {
    "duration": 2864,
    "start_time": "2022-05-05T10:06:16.591Z"
   },
   {
    "duration": 3,
    "start_time": "2022-05-05T10:06:19.457Z"
   },
   {
    "duration": 11,
    "start_time": "2022-05-05T10:06:19.462Z"
   },
   {
    "duration": 1479,
    "start_time": "2022-05-05T10:06:19.475Z"
   },
   {
    "duration": 314,
    "start_time": "2022-05-05T10:06:20.955Z"
   },
   {
    "duration": 21,
    "start_time": "2022-05-05T10:06:21.273Z"
   },
   {
    "duration": 4,
    "start_time": "2022-05-05T10:06:21.296Z"
   },
   {
    "duration": 2086,
    "start_time": "2022-05-05T10:06:21.302Z"
   },
   {
    "duration": 4,
    "start_time": "2022-05-05T10:06:23.390Z"
   },
   {
    "duration": 99,
    "start_time": "2022-05-05T10:06:23.396Z"
   },
   {
    "duration": 13,
    "start_time": "2022-05-05T10:06:23.497Z"
   },
   {
    "duration": 6,
    "start_time": "2022-05-05T10:06:23.511Z"
   },
   {
    "duration": 207,
    "start_time": "2022-05-05T10:06:23.519Z"
   },
   {
    "duration": 183,
    "start_time": "2022-05-05T10:06:23.728Z"
   },
   {
    "duration": 152,
    "start_time": "2022-05-05T10:06:23.913Z"
   },
   {
    "duration": 207,
    "start_time": "2022-05-05T10:06:24.066Z"
   },
   {
    "duration": 171,
    "start_time": "2022-05-05T10:06:24.275Z"
   },
   {
    "duration": 27,
    "start_time": "2022-05-05T10:06:24.447Z"
   },
   {
    "duration": 54,
    "start_time": "2022-05-05T10:06:24.477Z"
   },
   {
    "duration": 3,
    "start_time": "2022-05-05T10:06:24.533Z"
   },
   {
    "duration": 40,
    "start_time": "2022-05-05T10:06:24.538Z"
   },
   {
    "duration": 409,
    "start_time": "2022-05-05T10:06:24.580Z"
   },
   {
    "duration": 332,
    "start_time": "2022-05-05T10:06:24.991Z"
   },
   {
    "duration": 69,
    "start_time": "2022-05-05T10:06:25.325Z"
   },
   {
    "duration": 2934,
    "start_time": "2022-05-05T10:06:25.396Z"
   },
   {
    "duration": 211,
    "start_time": "2022-05-05T10:06:28.331Z"
   },
   {
    "duration": 29,
    "start_time": "2022-05-05T10:06:28.544Z"
   },
   {
    "duration": 48,
    "start_time": "2022-05-05T10:06:28.574Z"
   },
   {
    "duration": 454,
    "start_time": "2022-05-05T10:06:28.624Z"
   },
   {
    "duration": 4,
    "start_time": "2022-05-05T10:06:29.080Z"
   },
   {
    "duration": 192,
    "start_time": "2022-05-05T10:06:29.086Z"
   },
   {
    "duration": 326,
    "start_time": "2022-05-05T10:06:29.280Z"
   },
   {
    "duration": 187,
    "start_time": "2022-05-05T10:06:29.607Z"
   },
   {
    "duration": 5,
    "start_time": "2022-05-05T10:06:29.795Z"
   },
   {
    "duration": 435,
    "start_time": "2022-05-05T10:06:29.801Z"
   },
   {
    "duration": 9,
    "start_time": "2022-05-05T10:06:30.238Z"
   },
   {
    "duration": 49,
    "start_time": "2022-05-05T10:06:30.249Z"
   },
   {
    "duration": 426,
    "start_time": "2022-05-05T10:06:30.300Z"
   },
   {
    "duration": 3,
    "start_time": "2022-05-05T10:06:30.728Z"
   },
   {
    "duration": 38,
    "start_time": "2022-05-05T10:06:30.735Z"
   },
   {
    "duration": 52,
    "start_time": "2022-05-05T10:06:30.775Z"
   },
   {
    "duration": 9,
    "start_time": "2022-05-05T10:06:30.829Z"
   },
   {
    "duration": 185,
    "start_time": "2022-05-05T10:06:30.840Z"
   },
   {
    "duration": 11,
    "start_time": "2022-05-05T10:06:31.027Z"
   },
   {
    "duration": 21,
    "start_time": "2022-05-05T10:06:31.040Z"
   },
   {
    "duration": 179218,
    "start_time": "2022-05-05T10:06:31.063Z"
   },
   {
    "duration": 18093,
    "start_time": "2022-05-05T10:09:30.282Z"
   },
   {
    "duration": 6,
    "start_time": "2022-05-05T10:09:48.377Z"
   },
   {
    "duration": 132572,
    "start_time": "2022-05-05T10:09:48.385Z"
   },
   {
    "duration": 9175,
    "start_time": "2022-05-05T10:12:00.959Z"
   },
   {
    "duration": 5,
    "start_time": "2022-05-05T10:12:10.135Z"
   },
   {
    "duration": 409869,
    "start_time": "2022-05-05T10:12:10.141Z"
   },
   {
    "duration": 188,
    "start_time": "2022-05-05T15:40:42.202Z"
   },
   {
    "duration": 119,
    "start_time": "2022-05-05T15:42:56.126Z"
   },
   {
    "duration": 44,
    "start_time": "2022-05-05T15:44:08.343Z"
   },
   {
    "duration": 1513,
    "start_time": "2022-05-05T15:44:41.987Z"
   },
   {
    "duration": 1601,
    "start_time": "2022-05-05T15:44:43.502Z"
   },
   {
    "duration": 4,
    "start_time": "2022-05-05T15:44:45.104Z"
   },
   {
    "duration": 5,
    "start_time": "2022-05-05T15:44:45.110Z"
   },
   {
    "duration": 2211,
    "start_time": "2022-05-05T15:44:45.124Z"
   },
   {
    "duration": 291,
    "start_time": "2022-05-05T15:44:47.336Z"
   },
   {
    "duration": 19,
    "start_time": "2022-05-05T15:44:47.629Z"
   },
   {
    "duration": 3,
    "start_time": "2022-05-05T15:44:47.649Z"
   },
   {
    "duration": 2143,
    "start_time": "2022-05-05T15:44:47.654Z"
   },
   {
    "duration": 3,
    "start_time": "2022-05-05T15:44:49.800Z"
   },
   {
    "duration": 94,
    "start_time": "2022-05-05T15:44:49.804Z"
   },
   {
    "duration": 27,
    "start_time": "2022-05-05T15:44:49.900Z"
   },
   {
    "duration": 5,
    "start_time": "2022-05-05T15:44:49.928Z"
   },
   {
    "duration": 201,
    "start_time": "2022-05-05T15:44:49.935Z"
   },
   {
    "duration": 181,
    "start_time": "2022-05-05T15:44:50.138Z"
   },
   {
    "duration": 135,
    "start_time": "2022-05-05T15:44:50.323Z"
   },
   {
    "duration": 200,
    "start_time": "2022-05-05T15:44:50.460Z"
   },
   {
    "duration": 175,
    "start_time": "2022-05-05T15:44:50.662Z"
   },
   {
    "duration": 15,
    "start_time": "2022-05-05T15:44:50.840Z"
   },
   {
    "duration": 70,
    "start_time": "2022-05-05T15:44:50.857Z"
   },
   {
    "duration": 4,
    "start_time": "2022-05-05T15:44:50.928Z"
   },
   {
    "duration": 22,
    "start_time": "2022-05-05T15:44:50.934Z"
   },
   {
    "duration": 407,
    "start_time": "2022-05-05T15:44:50.958Z"
   },
   {
    "duration": 305,
    "start_time": "2022-05-05T15:44:51.367Z"
   },
   {
    "duration": 65,
    "start_time": "2022-05-05T15:44:51.674Z"
   },
   {
    "duration": 2966,
    "start_time": "2022-05-05T15:44:51.741Z"
   },
   {
    "duration": 192,
    "start_time": "2022-05-05T15:44:54.709Z"
   },
   {
    "duration": 27,
    "start_time": "2022-05-05T15:44:54.906Z"
   },
   {
    "duration": 44,
    "start_time": "2022-05-05T15:44:54.934Z"
   },
   {
    "duration": 435,
    "start_time": "2022-05-05T15:44:54.980Z"
   },
   {
    "duration": 7,
    "start_time": "2022-05-05T15:44:55.417Z"
   },
   {
    "duration": 163,
    "start_time": "2022-05-05T15:44:55.426Z"
   },
   {
    "duration": 301,
    "start_time": "2022-05-05T15:44:55.591Z"
   },
   {
    "duration": 168,
    "start_time": "2022-05-05T15:44:55.894Z"
   },
   {
    "duration": 4,
    "start_time": "2022-05-05T15:44:56.064Z"
   },
   {
    "duration": 374,
    "start_time": "2022-05-05T15:44:56.069Z"
   },
   {
    "duration": 9,
    "start_time": "2022-05-05T15:44:56.445Z"
   },
   {
    "duration": 30,
    "start_time": "2022-05-05T15:44:56.456Z"
   },
   {
    "duration": 398,
    "start_time": "2022-05-05T15:44:56.488Z"
   },
   {
    "duration": 4,
    "start_time": "2022-05-05T15:44:56.888Z"
   },
   {
    "duration": 38,
    "start_time": "2022-05-05T15:44:56.893Z"
   },
   {
    "duration": 49,
    "start_time": "2022-05-05T15:44:56.932Z"
   },
   {
    "duration": 9,
    "start_time": "2022-05-05T15:44:56.983Z"
   },
   {
    "duration": 173,
    "start_time": "2022-05-05T15:44:56.993Z"
   },
   {
    "duration": 9,
    "start_time": "2022-05-05T15:44:57.168Z"
   },
   {
    "duration": 10,
    "start_time": "2022-05-05T15:44:57.179Z"
   },
   {
    "duration": 172641,
    "start_time": "2022-05-05T15:44:57.191Z"
   },
   {
    "duration": 130203,
    "start_time": "2022-05-05T15:47:49.833Z"
   },
   {
    "duration": 5,
    "start_time": "2022-05-05T15:50:00.039Z"
   },
   {
    "duration": 120506,
    "start_time": "2022-05-05T15:50:00.046Z"
   },
   {
    "duration": 7156,
    "start_time": "2022-05-05T15:52:00.554Z"
   },
   {
    "duration": 5,
    "start_time": "2022-05-05T15:52:07.712Z"
   },
   {
    "duration": 322220,
    "start_time": "2022-05-05T15:52:07.719Z"
   },
   {
    "duration": 171792,
    "start_time": "2022-05-05T15:57:29.942Z"
   },
   {
    "duration": 14,
    "start_time": "2022-05-05T16:00:21.736Z"
   }
  ],
  "kernelspec": {
   "display_name": "Python 3 (ipykernel)",
   "language": "python",
   "name": "python3"
  },
  "language_info": {
   "codemirror_mode": {
    "name": "ipython",
    "version": 3
   },
   "file_extension": ".py",
   "mimetype": "text/x-python",
   "name": "python",
   "nbconvert_exporter": "python",
   "pygments_lexer": "ipython3",
   "version": "3.9.7"
  },
  "toc": {
   "base_numbering": 1,
   "nav_menu": {},
   "number_sections": true,
   "sideBar": true,
   "skip_h1_title": true,
   "title_cell": "Table of Contents",
   "title_sidebar": "Contents",
   "toc_cell": false,
   "toc_position": {},
   "toc_section_display": true,
   "toc_window_display": true
  }
 },
 "nbformat": 4,
 "nbformat_minor": 2
}
