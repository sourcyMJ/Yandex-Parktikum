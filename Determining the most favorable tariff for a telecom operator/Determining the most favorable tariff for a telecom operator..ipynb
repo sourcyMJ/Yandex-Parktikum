{
 "cells": [
  {
   "cell_type": "markdown",
   "id": "03f405cd",
   "metadata": {},
   "source": [
    "# Determining the most favorable tariff for a mobile operator"
   ]
  },
  {
   "cell_type": "markdown",
   "id": "609751d5",
   "metadata": {},
   "source": [
    "## Project Description"
   ]
  },
  {
   "cell_type": "markdown",
   "id": "2602c018",
   "metadata": {},
   "source": [
    "Mobile operator's customers are offered two tariff plans: Smart and Ultra. To adjust the advertising budget, the commercial department wants to understand which tariff brings in more money.\n",
    "\n",
    "As part of the study, it is necessary to conduct a preliminary analysis of tariffs on a small sample of customers. We have data on the activity of 500 users for 2018. It is necessary to analyze the behavior of customers and conclude which tariff is better.\n",
    "\n",
    "As part of the introductory information, there is also a description of 2 tariffs of the company:\n",
    "\n",
    "**Description of tariffs**\n",
    "\n",
    "*the \"Smart\" tariff*\n",
    "- Monthly fee: 550 rubles\n",
    "- 500 minutes of conversation, 50 messages and 15 GB of Internet traffic are included \n",
    "- The cost of services in excess of the tariff's package: \n",
    "    1. Minute of conversation: 3 rubles (Operator always rounds up the values of minutes and megabytes. If the user spoke for only 1 second, the whole minute is counted in the tariff); \n",
    "    2. message: 3 rubles; \n",
    "    3. 1 GB of Internet traffic: 200 rubles.\n",
    "\n",
    "\n",
    "*The \"Ultra\" tariff*\n",
    "- Monthly fee: 1950 rubles\n",
    "- 3000 minutes of conversation, 1000 messages and 30 GB of Internet traffic are included\n",
    "- The cost of services in excess of the tariff's package: \n",
    "    1. Minute of conversation: 1 ruble; \n",
    "    2. Message: 1 ruble; \n",
    "    3. 1 GB of Internet traffic: 150 rubles."
   ]
  },
  {
   "cell_type": "markdown",
   "id": "e0b71b97",
   "metadata": {},
   "source": [
    "**The purpose of the study**\n",
    "\n",
    "It is necessary to analyze the behavior of customers and conclude which tariff is more profitable. It is also necessary to answer a number of questions:\n",
    "- what is the volume of calls made and minutes of conversation spent by month for each user?\n",
    "- what is the number of messages sent by month for each user?\n",
    "- what is the amount of Internet traffic consumed by month for each user?\n",
    "- how much is the monthly revenue from each user?\n",
    "- how many minutes of conversation, how many messages and how much Internet traffic is required by users of each tariff per month?\n",
    "- does the average revenue of users of the \"Ultra\" and \"Smart\" tariffs differ?\n",
    "- does the average revenue of users from Moscow differ from the revenue of users from other regions?"
   ]
  },
  {
   "cell_type": "markdown",
   "id": "b4704f7f",
   "metadata": {},
   "source": [
    "**Research plan**\n",
    "\n",
    "User data is grouped in several files. Nothing is known about the quality of the data. Therefore, before testing hypotheses, we will need to review the data. The data will be checked for errors and their impact on the study will be assessed. Then, at the preprocessing stage, the most critical data errors will be corrected.\n",
    "Thus, the study will take place in three stages:\n",
    "- Data overview.\n",
    "- Data preprocessing.\n",
    "- Hypothesis testing."
   ]
  },
  {
   "cell_type": "markdown",
   "id": "06ebf589",
   "metadata": {},
   "source": [
    "___\n",
    "## Data overview\n",
    "___\n",
    "\n",
    "Let's make a first idea of the data and import all the necessary libraries"
   ]
  },
  {
   "cell_type": "code",
   "execution_count": 52,
   "id": "f97ddc3c",
   "metadata": {},
   "outputs": [],
   "source": [
    "import pandas as pd;\n",
    "import numpy as np;\n",
    "import seaborn as sns;\n",
    "import matplotlib.pyplot as plt;\n",
    "import math\n",
    "from scipy import stats as st"
   ]
  },
  {
   "cell_type": "markdown",
   "id": "c0adc8d9",
   "metadata": {},
   "source": [
    "Let's read the data files from the /datasets folder and save them in variables:"
   ]
  },
  {
   "cell_type": "code",
   "execution_count": 53,
   "id": "85d3fcd6",
   "metadata": {},
   "outputs": [],
   "source": [
    "try:\n",
    "    df_calls = pd.read_csv('/Users/vladislav/Documents/datasets/calls.csv',sep=',')\n",
    "    df_internet = pd.read_csv('/Users/vladislav/Documents/datasets/internet.csv',sep=',')\n",
    "    df_messages = pd.read_csv('/Users/vladislav/Documents/datasets/messages.csv',sep=',')\n",
    "    df_tariffs = pd.read_csv('/Users/vladislav/Documents/datasets/tariffs.csv',sep=',')\n",
    "    df_users = pd.read_csv('/Users/vladislav/Documents/datasets/users.csv',sep=',')\n",
    "except:\n",
    "    df_calls = pd.read_csv('/datasets/calls.csv',sep=',')\n",
    "    df_internet = pd.read_csv('/datasets/internet.csv',sep=',')\n",
    "    df_messages = pd.read_csv('/datasets/messages.csv',sep=',')\n",
    "    df_tariffs = pd.read_csv('/datasets/tariffs.csv',sep=',')\n",
    "    df_users = pd.read_csv('/datasets/users.csv',sep=',')"
   ]
  },
  {
   "cell_type": "markdown",
   "id": "39d6e47e",
   "metadata": {},
   "source": [
    "According to the terms of the study, the Megaline operator has 2 tariffs in the sample. Their terms are listed below:"
   ]
  },
  {
   "cell_type": "code",
   "execution_count": 54,
   "id": "d08544eb",
   "metadata": {},
   "outputs": [],
   "source": [
    "#Условия тарифов\n",
    "\n",
    "#Smart:\n",
    "S_minutes_limit = 500 #number of minutes included in the package\n",
    "S_messages_limit = 50 #number of messages included in the package\n",
    "S_internet_limit = 15 #the amount of traffic included in the package\n",
    "S_extra_minute = 3 #the cost of a minute over the package, rub.\n",
    "S_extra_message = 3 #the cost of a message over a package, rub.\n",
    "S_extra_gb = 200 #the cost of a gigabyte of Internet over a package, rub.\n",
    "S_monthly_fee = 550 #subscription fee for the tariff\n",
    "\n",
    "#Ultra\n",
    "U_minutes_limit = 3000 #number of minutes included in the package\n",
    "U_messages_limit = 1000 #number of messages included in the package\n",
    "U_internet_limit = 30 #the amount of traffic included in the package\n",
    "U_extra_minute = 1 #the cost of a minute over the package, rub.\n",
    "U_extra_message = 1 #the cost of a message over a package, rub.\n",
    "U_extra_gb = 150 #the cost of a gigabyte of Internet over a package, rub.\n",
    "U_monthly_fee = 1950 #subscription fee for the tariff"
   ]
  },
  {
   "cell_type": "markdown",
   "id": "a57191a3",
   "metadata": {},
   "source": [
    "You can start studying the data from a file with user data *df_users*."
   ]
  },
  {
   "cell_type": "markdown",
   "id": "f866cc1b",
   "metadata": {},
   "source": [
    "According to the data documentation:\n",
    "Table *users* (information about users):\n",
    "\n",
    "* user_id — unique user ID\n",
    "* first_name — user name\n",
    "* last_name — last name of the user\n",
    "* age — user's age (years)\n",
    "* reg_date — tariff activation date (day, month, year)\n",
    "* churn_date — date of termination of use of the tariff (if the value is omitted, the tariff was still valid at the time of data upload)\n",
    "* city — the user's city of residence\n",
    "* tarif — name of the tariff plan"
   ]
  },
  {
   "cell_type": "markdown",
   "id": "b551384d",
   "metadata": {},
   "source": [
    "Since we will need to study a few more files, it is better to write a function describing the dataframe."
   ]
  },
  {
   "cell_type": "code",
   "execution_count": 55,
   "id": "2f825ae9",
   "metadata": {},
   "outputs": [],
   "source": [
    "def df_describe (df):\n",
    "    display('First 5 rows', df.head())\n",
    "    display('Description of numerical data:', df.describe())\n",
    "    display(df.info())\n",
    "    display('Number of missing values', df.isna().sum())"
   ]
  },
  {
   "cell_type": "code",
   "execution_count": 56,
   "id": "65832fe6",
   "metadata": {},
   "outputs": [
    {
     "data": {
      "text/plain": [
       "'First 5 rows'"
      ]
     },
     "metadata": {},
     "output_type": "display_data"
    },
    {
     "data": {
      "text/html": [
       "<div>\n",
       "<style scoped>\n",
       "    .dataframe tbody tr th:only-of-type {\n",
       "        vertical-align: middle;\n",
       "    }\n",
       "\n",
       "    .dataframe tbody tr th {\n",
       "        vertical-align: top;\n",
       "    }\n",
       "\n",
       "    .dataframe thead th {\n",
       "        text-align: right;\n",
       "    }\n",
       "</style>\n",
       "<table border=\"1\" class=\"dataframe\">\n",
       "  <thead>\n",
       "    <tr style=\"text-align: right;\">\n",
       "      <th></th>\n",
       "      <th>user_id</th>\n",
       "      <th>age</th>\n",
       "      <th>churn_date</th>\n",
       "      <th>city</th>\n",
       "      <th>first_name</th>\n",
       "      <th>last_name</th>\n",
       "      <th>reg_date</th>\n",
       "      <th>tariff</th>\n",
       "    </tr>\n",
       "  </thead>\n",
       "  <tbody>\n",
       "    <tr>\n",
       "      <th>0</th>\n",
       "      <td>1000</td>\n",
       "      <td>52</td>\n",
       "      <td>NaN</td>\n",
       "      <td>Краснодар</td>\n",
       "      <td>Рафаил</td>\n",
       "      <td>Верещагин</td>\n",
       "      <td>2018-05-25</td>\n",
       "      <td>ultra</td>\n",
       "    </tr>\n",
       "    <tr>\n",
       "      <th>1</th>\n",
       "      <td>1001</td>\n",
       "      <td>41</td>\n",
       "      <td>NaN</td>\n",
       "      <td>Москва</td>\n",
       "      <td>Иван</td>\n",
       "      <td>Ежов</td>\n",
       "      <td>2018-11-01</td>\n",
       "      <td>smart</td>\n",
       "    </tr>\n",
       "    <tr>\n",
       "      <th>2</th>\n",
       "      <td>1002</td>\n",
       "      <td>59</td>\n",
       "      <td>NaN</td>\n",
       "      <td>Стерлитамак</td>\n",
       "      <td>Евгений</td>\n",
       "      <td>Абрамович</td>\n",
       "      <td>2018-06-17</td>\n",
       "      <td>smart</td>\n",
       "    </tr>\n",
       "    <tr>\n",
       "      <th>3</th>\n",
       "      <td>1003</td>\n",
       "      <td>23</td>\n",
       "      <td>NaN</td>\n",
       "      <td>Москва</td>\n",
       "      <td>Белла</td>\n",
       "      <td>Белякова</td>\n",
       "      <td>2018-08-17</td>\n",
       "      <td>ultra</td>\n",
       "    </tr>\n",
       "    <tr>\n",
       "      <th>4</th>\n",
       "      <td>1004</td>\n",
       "      <td>68</td>\n",
       "      <td>NaN</td>\n",
       "      <td>Новокузнецк</td>\n",
       "      <td>Татьяна</td>\n",
       "      <td>Авдеенко</td>\n",
       "      <td>2018-05-14</td>\n",
       "      <td>ultra</td>\n",
       "    </tr>\n",
       "  </tbody>\n",
       "</table>\n",
       "</div>"
      ],
      "text/plain": [
       "   user_id  age churn_date         city first_name  last_name    reg_date  \\\n",
       "0     1000   52        NaN    Краснодар     Рафаил  Верещагин  2018-05-25   \n",
       "1     1001   41        NaN       Москва       Иван       Ежов  2018-11-01   \n",
       "2     1002   59        NaN  Стерлитамак    Евгений  Абрамович  2018-06-17   \n",
       "3     1003   23        NaN       Москва      Белла   Белякова  2018-08-17   \n",
       "4     1004   68        NaN  Новокузнецк    Татьяна   Авдеенко  2018-05-14   \n",
       "\n",
       "  tariff  \n",
       "0  ultra  \n",
       "1  smart  \n",
       "2  smart  \n",
       "3  ultra  \n",
       "4  ultra  "
      ]
     },
     "metadata": {},
     "output_type": "display_data"
    },
    {
     "data": {
      "text/plain": [
       "'Description of numerical data:'"
      ]
     },
     "metadata": {},
     "output_type": "display_data"
    },
    {
     "data": {
      "text/html": [
       "<div>\n",
       "<style scoped>\n",
       "    .dataframe tbody tr th:only-of-type {\n",
       "        vertical-align: middle;\n",
       "    }\n",
       "\n",
       "    .dataframe tbody tr th {\n",
       "        vertical-align: top;\n",
       "    }\n",
       "\n",
       "    .dataframe thead th {\n",
       "        text-align: right;\n",
       "    }\n",
       "</style>\n",
       "<table border=\"1\" class=\"dataframe\">\n",
       "  <thead>\n",
       "    <tr style=\"text-align: right;\">\n",
       "      <th></th>\n",
       "      <th>user_id</th>\n",
       "      <th>age</th>\n",
       "    </tr>\n",
       "  </thead>\n",
       "  <tbody>\n",
       "    <tr>\n",
       "      <th>count</th>\n",
       "      <td>500.000000</td>\n",
       "      <td>500.00000</td>\n",
       "    </tr>\n",
       "    <tr>\n",
       "      <th>mean</th>\n",
       "      <td>1249.500000</td>\n",
       "      <td>46.58800</td>\n",
       "    </tr>\n",
       "    <tr>\n",
       "      <th>std</th>\n",
       "      <td>144.481833</td>\n",
       "      <td>16.66763</td>\n",
       "    </tr>\n",
       "    <tr>\n",
       "      <th>min</th>\n",
       "      <td>1000.000000</td>\n",
       "      <td>18.00000</td>\n",
       "    </tr>\n",
       "    <tr>\n",
       "      <th>25%</th>\n",
       "      <td>1124.750000</td>\n",
       "      <td>32.00000</td>\n",
       "    </tr>\n",
       "    <tr>\n",
       "      <th>50%</th>\n",
       "      <td>1249.500000</td>\n",
       "      <td>46.00000</td>\n",
       "    </tr>\n",
       "    <tr>\n",
       "      <th>75%</th>\n",
       "      <td>1374.250000</td>\n",
       "      <td>62.00000</td>\n",
       "    </tr>\n",
       "    <tr>\n",
       "      <th>max</th>\n",
       "      <td>1499.000000</td>\n",
       "      <td>75.00000</td>\n",
       "    </tr>\n",
       "  </tbody>\n",
       "</table>\n",
       "</div>"
      ],
      "text/plain": [
       "           user_id        age\n",
       "count   500.000000  500.00000\n",
       "mean   1249.500000   46.58800\n",
       "std     144.481833   16.66763\n",
       "min    1000.000000   18.00000\n",
       "25%    1124.750000   32.00000\n",
       "50%    1249.500000   46.00000\n",
       "75%    1374.250000   62.00000\n",
       "max    1499.000000   75.00000"
      ]
     },
     "metadata": {},
     "output_type": "display_data"
    },
    {
     "name": "stdout",
     "output_type": "stream",
     "text": [
      "<class 'pandas.core.frame.DataFrame'>\n",
      "RangeIndex: 500 entries, 0 to 499\n",
      "Data columns (total 8 columns):\n",
      " #   Column      Non-Null Count  Dtype \n",
      "---  ------      --------------  ----- \n",
      " 0   user_id     500 non-null    int64 \n",
      " 1   age         500 non-null    int64 \n",
      " 2   churn_date  38 non-null     object\n",
      " 3   city        500 non-null    object\n",
      " 4   first_name  500 non-null    object\n",
      " 5   last_name   500 non-null    object\n",
      " 6   reg_date    500 non-null    object\n",
      " 7   tariff      500 non-null    object\n",
      "dtypes: int64(2), object(6)\n",
      "memory usage: 31.4+ KB\n"
     ]
    },
    {
     "data": {
      "text/plain": [
       "None"
      ]
     },
     "metadata": {},
     "output_type": "display_data"
    },
    {
     "data": {
      "text/plain": [
       "'Number of missing values'"
      ]
     },
     "metadata": {},
     "output_type": "display_data"
    },
    {
     "data": {
      "text/plain": [
       "user_id         0\n",
       "age             0\n",
       "churn_date    462\n",
       "city            0\n",
       "first_name      0\n",
       "last_name       0\n",
       "reg_date        0\n",
       "tariff          0\n",
       "dtype: int64"
      ]
     },
     "metadata": {},
     "output_type": "display_data"
    }
   ],
   "source": [
    "df_describe(df_users)"
   ]
  },
  {
   "cell_type": "markdown",
   "id": "e11a3643",
   "metadata": {},
   "source": [
    "It can be noted that there are no missing values in the table except for the column **churn_date**, the values in which indicate the date of termination of the use of the tariff. Missing values, respectively, imply that the tariff was valid at the time of unloading and are not errors."
   ]
  },
  {
   "cell_type": "code",
   "execution_count": 57,
   "id": "28457b1e",
   "metadata": {},
   "outputs": [
    {
     "data": {
      "text/plain": [
       "user_id  churn_date\n",
       "1019     2018-10-05    1\n",
       "1020     2018-12-18    1\n",
       "1034     2018-11-21    1\n",
       "1050     2018-10-03    1\n",
       "1051     2018-10-14    1\n",
       "1056     2018-10-14    1\n",
       "1062     2018-12-09    1\n",
       "1063     2018-12-11    1\n",
       "1064     2018-12-26    1\n",
       "1065     2018-12-09    1\n",
       "1071     2018-08-31    1\n",
       "1090     2018-12-03    1\n",
       "1128     2018-12-23    1\n",
       "1161     2018-11-07    1\n",
       "1163     2018-12-16    1\n",
       "1191     2018-10-03    1\n",
       "1201     2018-12-03    1\n",
       "1206     2018-12-20    1\n",
       "1232     2018-11-30    1\n",
       "1242     2018-12-21    1\n",
       "1254     2018-08-17    1\n",
       "1255     2018-09-02    1\n",
       "1265     2018-10-04    1\n",
       "1271     2018-11-13    1\n",
       "1293     2018-11-22    1\n",
       "1343     2018-10-28    1\n",
       "1353     2018-11-26    1\n",
       "1355     2018-11-27    1\n",
       "1367     2018-11-16    1\n",
       "1370     2018-10-27    1\n",
       "1371     2018-12-30    1\n",
       "1392     2018-09-27    1\n",
       "1399     2018-12-25    1\n",
       "1416     2018-12-14    1\n",
       "1422     2018-12-21    1\n",
       "1438     2018-12-24    1\n",
       "1480     2018-09-26    1\n",
       "1498     2018-10-25    1\n",
       "Name: churn_date, dtype: int64"
      ]
     },
     "execution_count": 57,
     "metadata": {},
     "output_type": "execute_result"
    }
   ],
   "source": [
    "df_users.groupby(by='user_id')['churn_date'].value_counts()"
   ]
  },
  {
   "cell_type": "markdown",
   "id": "9c678681",
   "metadata": {},
   "source": [
    "According to this grouping, it can be seen that 38 values in the **churn_date** column fall on different users, which means that there are no users in the dataframe who would change the tariff more than 1 time inside operator.\n",
    "\n",
    "There are no values similar to outliers in the age data."
   ]
  },
  {
   "cell_type": "code",
   "execution_count": 58,
   "id": "e62efc02",
   "metadata": {},
   "outputs": [
    {
     "data": {
      "text/plain": [
       "1000    1\n",
       "1329    1\n",
       "1342    1\n",
       "1341    1\n",
       "1340    1\n",
       "       ..\n",
       "1161    1\n",
       "1160    1\n",
       "1159    1\n",
       "1158    1\n",
       "1499    1\n",
       "Name: user_id, Length: 500, dtype: int64"
      ]
     },
     "execution_count": 58,
     "metadata": {},
     "output_type": "execute_result"
    }
   ],
   "source": [
    "df_users['user_id'].value_counts()"
   ]
  },
  {
   "cell_type": "markdown",
   "id": "0f3a9d80",
   "metadata": {},
   "source": [
    "You can also see that the data in the **user_id** column is really unique and is not duplicated for different users."
   ]
  },
  {
   "cell_type": "code",
   "execution_count": 59,
   "id": "365b06cd",
   "metadata": {},
   "outputs": [
    {
     "data": {
      "text/plain": [
       "array(['Краснодар', 'Москва', 'Стерлитамак', 'Новокузнецк',\n",
       "       'Набережные Челны', 'Ульяновск', 'Челябинск', 'Пермь', 'Тюмень',\n",
       "       'Самара', 'Санкт-Петербург', 'Иваново', 'Чебоксары', 'Омск', 'Уфа',\n",
       "       'Томск', 'Чита', 'Мурманск', 'Петрозаводск', 'Тверь',\n",
       "       'Екатеринбург', 'Махачкала', 'Вологда', 'Череповец', 'Ярославль',\n",
       "       'Сочи', 'Хабаровск', 'Ставрополь', 'Рязань', 'Улан-Удэ', 'Тула',\n",
       "       'Саратов', 'Ростов-на-Дону', 'Казань', 'Иркутск', 'Курск',\n",
       "       'Калуга', 'Якутск', 'Астрахань', 'Химки', 'Владикавказ',\n",
       "       'Волгоград', 'Саранск', 'Ижевск', 'Новосибирск', 'Брянск',\n",
       "       'Тольятти', 'Нижний Тагил', 'Орёл', 'Белгород', 'Воронеж',\n",
       "       'Волжский', 'Курган', 'Барнаул', 'Красноярск', 'Архангельск',\n",
       "       'Липецк', 'Кемерово', 'Киров', 'Сургут', 'Пенза', 'Магнитогорск',\n",
       "       'Нижний Новгород', 'Кострома', 'Владивосток', 'Тамбов', 'Балашиха',\n",
       "       'Севастополь', 'Калининград', 'Оренбург', 'Смоленск',\n",
       "       'Нижневартовск', 'Владимир', 'Новороссийск', 'Грозный', 'Подольск'],\n",
       "      dtype=object)"
      ]
     },
     "execution_count": 59,
     "metadata": {},
     "output_type": "execute_result"
    }
   ],
   "source": [
    "df_users['city'].unique()"
   ]
  },
  {
   "cell_type": "markdown",
   "id": "fe7e5168",
   "metadata": {},
   "source": [
    "There are also no hidden duplicates found by the name of the cities."
   ]
  },
  {
   "cell_type": "code",
   "execution_count": 60,
   "id": "40a0f0c9",
   "metadata": {},
   "outputs": [
    {
     "name": "stdout",
     "output_type": "stream",
     "text": [
      "Requirement already satisfied: pandas in /Users/vladislav/opt/anaconda3/lib/python3.9/site-packages (1.5.3)\n",
      "Requirement already satisfied: pytz>=2020.1 in /Users/vladislav/opt/anaconda3/lib/python3.9/site-packages (from pandas) (2022.1)\n",
      "Requirement already satisfied: python-dateutil>=2.8.1 in /Users/vladislav/opt/anaconda3/lib/python3.9/site-packages (from pandas) (2.8.2)\n",
      "Requirement already satisfied: numpy>=1.20.3 in /Users/vladislav/opt/anaconda3/lib/python3.9/site-packages (from pandas) (1.21.5)\n",
      "Requirement already satisfied: six>=1.5 in /Users/vladislav/opt/anaconda3/lib/python3.9/site-packages (from python-dateutil>=2.8.1->pandas) (1.16.0)\n",
      "Note: you may need to restart the kernel to use updated packages.\n"
     ]
    }
   ],
   "source": [
    "pip install pandas --upgrade"
   ]
  },
  {
   "cell_type": "code",
   "execution_count": 61,
   "id": "e66ec0d3",
   "metadata": {},
   "outputs": [
    {
     "name": "stderr",
     "output_type": "stream",
     "text": [
      "/var/folders/l7/5cd_m6hn1rl9r89zycsz4t400000gn/T/ipykernel_55241/2820314453.py:3: FutureWarning: Treating datetime data as categorical rather than numeric in `.describe` is deprecated and will be removed in a future version of pandas. Specify `datetime_is_numeric=True` to silence this warning and adopt the future behavior now.\n",
      "  df_users['reg_date'].describe()\n"
     ]
    },
    {
     "data": {
      "text/plain": [
       "count                     500\n",
       "unique                    270\n",
       "top       2018-05-28 00:00:00\n",
       "freq                        8\n",
       "first     2018-01-01 00:00:00\n",
       "last      2018-12-31 00:00:00\n",
       "Name: reg_date, dtype: object"
      ]
     },
     "execution_count": 61,
     "metadata": {},
     "output_type": "execute_result"
    }
   ],
   "source": [
    "df_users['reg_date'] = pd.to_datetime(df_users['reg_date'], format = '%Y %m %d')\n",
    "df_users['reg_date'].describe(datetime_is_numeric=True)\n",
    "df_users['reg_date'].describe()"
   ]
  },
  {
   "cell_type": "markdown",
   "id": "313bd7f4",
   "metadata": {},
   "source": [
    "In the *reg_date* column, the format has been changed from string to date format for more convenient operation."
   ]
  },
  {
   "cell_type": "code",
   "execution_count": 62,
   "id": "767fb02f",
   "metadata": {},
   "outputs": [
    {
     "data": {
      "text/plain": [
       "smart    351\n",
       "ultra    149\n",
       "Name: tariff, dtype: int64"
      ]
     },
     "execution_count": 62,
     "metadata": {},
     "output_type": "execute_result"
    }
   ],
   "source": [
    "df_users['tariff'].value_counts()"
   ]
  },
  {
   "cell_type": "markdown",
   "id": "450b4d31",
   "metadata": {},
   "source": [
    "According to these slices, the registration date has no emissions and omissions and is limited only to 2018. Only correct values are indicated in the data for the selected tariff. Next, we will analyze the file with \"calls\"\n",
    "___"
   ]
  },
  {
   "cell_type": "code",
   "execution_count": 63,
   "id": "2a485f8a",
   "metadata": {},
   "outputs": [
    {
     "data": {
      "text/plain": [
       "'First 5 rows'"
      ]
     },
     "metadata": {},
     "output_type": "display_data"
    },
    {
     "data": {
      "text/html": [
       "<div>\n",
       "<style scoped>\n",
       "    .dataframe tbody tr th:only-of-type {\n",
       "        vertical-align: middle;\n",
       "    }\n",
       "\n",
       "    .dataframe tbody tr th {\n",
       "        vertical-align: top;\n",
       "    }\n",
       "\n",
       "    .dataframe thead th {\n",
       "        text-align: right;\n",
       "    }\n",
       "</style>\n",
       "<table border=\"1\" class=\"dataframe\">\n",
       "  <thead>\n",
       "    <tr style=\"text-align: right;\">\n",
       "      <th></th>\n",
       "      <th>id</th>\n",
       "      <th>call_date</th>\n",
       "      <th>duration</th>\n",
       "      <th>user_id</th>\n",
       "    </tr>\n",
       "  </thead>\n",
       "  <tbody>\n",
       "    <tr>\n",
       "      <th>0</th>\n",
       "      <td>1000_0</td>\n",
       "      <td>2018-07-25</td>\n",
       "      <td>0.00</td>\n",
       "      <td>1000</td>\n",
       "    </tr>\n",
       "    <tr>\n",
       "      <th>1</th>\n",
       "      <td>1000_1</td>\n",
       "      <td>2018-08-17</td>\n",
       "      <td>0.00</td>\n",
       "      <td>1000</td>\n",
       "    </tr>\n",
       "    <tr>\n",
       "      <th>2</th>\n",
       "      <td>1000_2</td>\n",
       "      <td>2018-06-11</td>\n",
       "      <td>2.85</td>\n",
       "      <td>1000</td>\n",
       "    </tr>\n",
       "    <tr>\n",
       "      <th>3</th>\n",
       "      <td>1000_3</td>\n",
       "      <td>2018-09-21</td>\n",
       "      <td>13.80</td>\n",
       "      <td>1000</td>\n",
       "    </tr>\n",
       "    <tr>\n",
       "      <th>4</th>\n",
       "      <td>1000_4</td>\n",
       "      <td>2018-12-15</td>\n",
       "      <td>5.18</td>\n",
       "      <td>1000</td>\n",
       "    </tr>\n",
       "  </tbody>\n",
       "</table>\n",
       "</div>"
      ],
      "text/plain": [
       "       id   call_date  duration  user_id\n",
       "0  1000_0  2018-07-25      0.00     1000\n",
       "1  1000_1  2018-08-17      0.00     1000\n",
       "2  1000_2  2018-06-11      2.85     1000\n",
       "3  1000_3  2018-09-21     13.80     1000\n",
       "4  1000_4  2018-12-15      5.18     1000"
      ]
     },
     "metadata": {},
     "output_type": "display_data"
    },
    {
     "data": {
      "text/plain": [
       "'Description of numerical data:'"
      ]
     },
     "metadata": {},
     "output_type": "display_data"
    },
    {
     "data": {
      "text/html": [
       "<div>\n",
       "<style scoped>\n",
       "    .dataframe tbody tr th:only-of-type {\n",
       "        vertical-align: middle;\n",
       "    }\n",
       "\n",
       "    .dataframe tbody tr th {\n",
       "        vertical-align: top;\n",
       "    }\n",
       "\n",
       "    .dataframe thead th {\n",
       "        text-align: right;\n",
       "    }\n",
       "</style>\n",
       "<table border=\"1\" class=\"dataframe\">\n",
       "  <thead>\n",
       "    <tr style=\"text-align: right;\">\n",
       "      <th></th>\n",
       "      <th>duration</th>\n",
       "      <th>user_id</th>\n",
       "    </tr>\n",
       "  </thead>\n",
       "  <tbody>\n",
       "    <tr>\n",
       "      <th>count</th>\n",
       "      <td>202607.000000</td>\n",
       "      <td>202607.000000</td>\n",
       "    </tr>\n",
       "    <tr>\n",
       "      <th>mean</th>\n",
       "      <td>6.755887</td>\n",
       "      <td>1253.940619</td>\n",
       "    </tr>\n",
       "    <tr>\n",
       "      <th>std</th>\n",
       "      <td>5.843365</td>\n",
       "      <td>144.722751</td>\n",
       "    </tr>\n",
       "    <tr>\n",
       "      <th>min</th>\n",
       "      <td>0.000000</td>\n",
       "      <td>1000.000000</td>\n",
       "    </tr>\n",
       "    <tr>\n",
       "      <th>25%</th>\n",
       "      <td>1.300000</td>\n",
       "      <td>1126.000000</td>\n",
       "    </tr>\n",
       "    <tr>\n",
       "      <th>50%</th>\n",
       "      <td>6.000000</td>\n",
       "      <td>1260.000000</td>\n",
       "    </tr>\n",
       "    <tr>\n",
       "      <th>75%</th>\n",
       "      <td>10.700000</td>\n",
       "      <td>1379.000000</td>\n",
       "    </tr>\n",
       "    <tr>\n",
       "      <th>max</th>\n",
       "      <td>38.000000</td>\n",
       "      <td>1499.000000</td>\n",
       "    </tr>\n",
       "  </tbody>\n",
       "</table>\n",
       "</div>"
      ],
      "text/plain": [
       "            duration        user_id\n",
       "count  202607.000000  202607.000000\n",
       "mean        6.755887    1253.940619\n",
       "std         5.843365     144.722751\n",
       "min         0.000000    1000.000000\n",
       "25%         1.300000    1126.000000\n",
       "50%         6.000000    1260.000000\n",
       "75%        10.700000    1379.000000\n",
       "max        38.000000    1499.000000"
      ]
     },
     "metadata": {},
     "output_type": "display_data"
    },
    {
     "name": "stdout",
     "output_type": "stream",
     "text": [
      "<class 'pandas.core.frame.DataFrame'>\n",
      "RangeIndex: 202607 entries, 0 to 202606\n",
      "Data columns (total 4 columns):\n",
      " #   Column     Non-Null Count   Dtype  \n",
      "---  ------     --------------   -----  \n",
      " 0   id         202607 non-null  object \n",
      " 1   call_date  202607 non-null  object \n",
      " 2   duration   202607 non-null  float64\n",
      " 3   user_id    202607 non-null  int64  \n",
      "dtypes: float64(1), int64(1), object(2)\n",
      "memory usage: 6.2+ MB\n"
     ]
    },
    {
     "data": {
      "text/plain": [
       "None"
      ]
     },
     "metadata": {},
     "output_type": "display_data"
    },
    {
     "data": {
      "text/plain": [
       "'Number of missing values'"
      ]
     },
     "metadata": {},
     "output_type": "display_data"
    },
    {
     "data": {
      "text/plain": [
       "id           0\n",
       "call_date    0\n",
       "duration     0\n",
       "user_id      0\n",
       "dtype: int64"
      ]
     },
     "metadata": {},
     "output_type": "display_data"
    }
   ],
   "source": [
    "df_describe(df_calls)"
   ]
  },
  {
   "cell_type": "markdown",
   "id": "6ab4ccb1",
   "metadata": {},
   "source": [
    "According to the data documentation:"
   ]
  },
  {
   "cell_type": "markdown",
   "id": "a0154d28",
   "metadata": {},
   "source": [
    "Table *calls* (information about calls):\n",
    "\n",
    "* id — unique call number\n",
    "* call_date — date of the call\n",
    "* duration — the duration of the call in minutes\n",
    "* user_id — ID of the user who made the call"
   ]
  },
  {
   "cell_type": "markdown",
   "id": "9cb206d7",
   "metadata": {},
   "source": [
    "According to the analysis obtained , it can be noted:\n",
    "- There are no missing values in the dataframe with call data.\n",
    "- There are also no outliers in terms of the duration of conversations - the longest call lasted 38 minutes, but it is necessary to round the values up to minutes (according to the operator's rules).\n",
    "- In the description of the *user_id* column data, you can see that the median Id is shifted to 1260 (instead of 1249.5), which means there were subscribers who did not make a single call in a year.\n",
    "- In the column with the date of the call, you need to change the format for further work with object to datetime."
   ]
  },
  {
   "cell_type": "markdown",
   "id": "ffcb4525",
   "metadata": {},
   "source": [
    "Let's study the data on the duration of calls and build a histogram."
   ]
  },
  {
   "cell_type": "code",
   "execution_count": 64,
   "id": "7a870175",
   "metadata": {
    "scrolled": true
   },
   "outputs": [
    {
     "data": {
      "image/png": "[encoded data removed]",
      "text/plain": [
       "<Figure size 640x480 with 1 Axes>"
      ]
     },
     "metadata": {},
     "output_type": "display_data"
    }
   ],
   "source": [
    "df_calls['duration'].plot(kind='hist',bins=50,  color=\"#70AD47\", edgecolor=\"black\")\n",
    "plt.title(\"Распределение по длительности звонков\")\n",
    "plt.xlabel(\"Продолжительность, мин.\")\n",
    "plt.ylabel(\"Количество, ед.\")\n",
    "plt.show()"
   ]
  },
  {
   "cell_type": "markdown",
   "id": "fb7643d5",
   "metadata": {},
   "source": [
    "According to this distribution, a peak is visible next to 0 minutes, according to the introductory conditions of the study, it is said that these data are missed calls, not errors.\n",
    "Otherwise, the distribution does not raise any questions."
   ]
  },
  {
   "cell_type": "code",
   "execution_count": 65,
   "id": "8e8df557",
   "metadata": {
    "scrolled": true
   },
   "outputs": [
    {
     "data": {
      "text/html": [
       "<div>\n",
       "<style scoped>\n",
       "    .dataframe tbody tr th:only-of-type {\n",
       "        vertical-align: middle;\n",
       "    }\n",
       "\n",
       "    .dataframe tbody tr th {\n",
       "        vertical-align: top;\n",
       "    }\n",
       "\n",
       "    .dataframe thead th {\n",
       "        text-align: right;\n",
       "    }\n",
       "</style>\n",
       "<table border=\"1\" class=\"dataframe\">\n",
       "  <thead>\n",
       "    <tr style=\"text-align: right;\">\n",
       "      <th></th>\n",
       "      <th>duration</th>\n",
       "      <th>user_id</th>\n",
       "    </tr>\n",
       "  </thead>\n",
       "  <tbody>\n",
       "    <tr>\n",
       "      <th>count</th>\n",
       "      <td>202607.000000</td>\n",
       "      <td>202607.000000</td>\n",
       "    </tr>\n",
       "    <tr>\n",
       "      <th>mean</th>\n",
       "      <td>7.158198</td>\n",
       "      <td>1253.940619</td>\n",
       "    </tr>\n",
       "    <tr>\n",
       "      <th>std</th>\n",
       "      <td>5.959173</td>\n",
       "      <td>144.722751</td>\n",
       "    </tr>\n",
       "    <tr>\n",
       "      <th>min</th>\n",
       "      <td>0.000000</td>\n",
       "      <td>1000.000000</td>\n",
       "    </tr>\n",
       "    <tr>\n",
       "      <th>25%</th>\n",
       "      <td>2.000000</td>\n",
       "      <td>1126.000000</td>\n",
       "    </tr>\n",
       "    <tr>\n",
       "      <th>50%</th>\n",
       "      <td>6.000000</td>\n",
       "      <td>1260.000000</td>\n",
       "    </tr>\n",
       "    <tr>\n",
       "      <th>75%</th>\n",
       "      <td>11.000000</td>\n",
       "      <td>1379.000000</td>\n",
       "    </tr>\n",
       "    <tr>\n",
       "      <th>max</th>\n",
       "      <td>38.000000</td>\n",
       "      <td>1499.000000</td>\n",
       "    </tr>\n",
       "  </tbody>\n",
       "</table>\n",
       "</div>"
      ],
      "text/plain": [
       "            duration        user_id\n",
       "count  202607.000000  202607.000000\n",
       "mean        7.158198    1253.940619\n",
       "std         5.959173     144.722751\n",
       "min         0.000000    1000.000000\n",
       "25%         2.000000    1126.000000\n",
       "50%         6.000000    1260.000000\n",
       "75%        11.000000    1379.000000\n",
       "max        38.000000    1499.000000"
      ]
     },
     "execution_count": 65,
     "metadata": {},
     "output_type": "execute_result"
    }
   ],
   "source": [
    "df_calls['call_date'] = pd.to_datetime(df_calls['call_date'], format = '%Y %m %d')\n",
    "df_calls['duration'] = df_calls['duration'].apply(np.ceil).astype('int64')\n",
    "df_calls.describe()"
   ]
  },
  {
   "cell_type": "markdown",
   "id": "3ad14040",
   "metadata": {},
   "source": [
    "The duration of the call is rounded up to minutes. Next, we will study the data on messages from the dataframe **df_messages**\n",
    "___"
   ]
  },
  {
   "cell_type": "code",
   "execution_count": 66,
   "id": "82b70012",
   "metadata": {
    "scrolled": false
   },
   "outputs": [
    {
     "data": {
      "text/plain": [
       "'First 5 rows'"
      ]
     },
     "metadata": {},
     "output_type": "display_data"
    },
    {
     "data": {
      "text/html": [
       "<div>\n",
       "<style scoped>\n",
       "    .dataframe tbody tr th:only-of-type {\n",
       "        vertical-align: middle;\n",
       "    }\n",
       "\n",
       "    .dataframe tbody tr th {\n",
       "        vertical-align: top;\n",
       "    }\n",
       "\n",
       "    .dataframe thead th {\n",
       "        text-align: right;\n",
       "    }\n",
       "</style>\n",
       "<table border=\"1\" class=\"dataframe\">\n",
       "  <thead>\n",
       "    <tr style=\"text-align: right;\">\n",
       "      <th></th>\n",
       "      <th>id</th>\n",
       "      <th>message_date</th>\n",
       "      <th>user_id</th>\n",
       "    </tr>\n",
       "  </thead>\n",
       "  <tbody>\n",
       "    <tr>\n",
       "      <th>0</th>\n",
       "      <td>1000_0</td>\n",
       "      <td>2018-06-27</td>\n",
       "      <td>1000</td>\n",
       "    </tr>\n",
       "    <tr>\n",
       "      <th>1</th>\n",
       "      <td>1000_1</td>\n",
       "      <td>2018-10-08</td>\n",
       "      <td>1000</td>\n",
       "    </tr>\n",
       "    <tr>\n",
       "      <th>2</th>\n",
       "      <td>1000_2</td>\n",
       "      <td>2018-08-04</td>\n",
       "      <td>1000</td>\n",
       "    </tr>\n",
       "    <tr>\n",
       "      <th>3</th>\n",
       "      <td>1000_3</td>\n",
       "      <td>2018-06-16</td>\n",
       "      <td>1000</td>\n",
       "    </tr>\n",
       "    <tr>\n",
       "      <th>4</th>\n",
       "      <td>1000_4</td>\n",
       "      <td>2018-12-05</td>\n",
       "      <td>1000</td>\n",
       "    </tr>\n",
       "  </tbody>\n",
       "</table>\n",
       "</div>"
      ],
      "text/plain": [
       "       id message_date  user_id\n",
       "0  1000_0   2018-06-27     1000\n",
       "1  1000_1   2018-10-08     1000\n",
       "2  1000_2   2018-08-04     1000\n",
       "3  1000_3   2018-06-16     1000\n",
       "4  1000_4   2018-12-05     1000"
      ]
     },
     "metadata": {},
     "output_type": "display_data"
    },
    {
     "data": {
      "text/plain": [
       "'Description of numerical data:'"
      ]
     },
     "metadata": {},
     "output_type": "display_data"
    },
    {
     "data": {
      "text/html": [
       "<div>\n",
       "<style scoped>\n",
       "    .dataframe tbody tr th:only-of-type {\n",
       "        vertical-align: middle;\n",
       "    }\n",
       "\n",
       "    .dataframe tbody tr th {\n",
       "        vertical-align: top;\n",
       "    }\n",
       "\n",
       "    .dataframe thead th {\n",
       "        text-align: right;\n",
       "    }\n",
       "</style>\n",
       "<table border=\"1\" class=\"dataframe\">\n",
       "  <thead>\n",
       "    <tr style=\"text-align: right;\">\n",
       "      <th></th>\n",
       "      <th>user_id</th>\n",
       "    </tr>\n",
       "  </thead>\n",
       "  <tbody>\n",
       "    <tr>\n",
       "      <th>count</th>\n",
       "      <td>123036.000000</td>\n",
       "    </tr>\n",
       "    <tr>\n",
       "      <th>mean</th>\n",
       "      <td>1256.989410</td>\n",
       "    </tr>\n",
       "    <tr>\n",
       "      <th>std</th>\n",
       "      <td>143.523967</td>\n",
       "    </tr>\n",
       "    <tr>\n",
       "      <th>min</th>\n",
       "      <td>1000.000000</td>\n",
       "    </tr>\n",
       "    <tr>\n",
       "      <th>25%</th>\n",
       "      <td>1134.000000</td>\n",
       "    </tr>\n",
       "    <tr>\n",
       "      <th>50%</th>\n",
       "      <td>1271.000000</td>\n",
       "    </tr>\n",
       "    <tr>\n",
       "      <th>75%</th>\n",
       "      <td>1381.000000</td>\n",
       "    </tr>\n",
       "    <tr>\n",
       "      <th>max</th>\n",
       "      <td>1499.000000</td>\n",
       "    </tr>\n",
       "  </tbody>\n",
       "</table>\n",
       "</div>"
      ],
      "text/plain": [
       "             user_id\n",
       "count  123036.000000\n",
       "mean     1256.989410\n",
       "std       143.523967\n",
       "min      1000.000000\n",
       "25%      1134.000000\n",
       "50%      1271.000000\n",
       "75%      1381.000000\n",
       "max      1499.000000"
      ]
     },
     "metadata": {},
     "output_type": "display_data"
    },
    {
     "name": "stdout",
     "output_type": "stream",
     "text": [
      "<class 'pandas.core.frame.DataFrame'>\n",
      "RangeIndex: 123036 entries, 0 to 123035\n",
      "Data columns (total 3 columns):\n",
      " #   Column        Non-Null Count   Dtype \n",
      "---  ------        --------------   ----- \n",
      " 0   id            123036 non-null  object\n",
      " 1   message_date  123036 non-null  object\n",
      " 2   user_id       123036 non-null  int64 \n",
      "dtypes: int64(1), object(2)\n",
      "memory usage: 2.8+ MB\n"
     ]
    },
    {
     "data": {
      "text/plain": [
       "None"
      ]
     },
     "metadata": {},
     "output_type": "display_data"
    },
    {
     "data": {
      "text/plain": [
       "'Number of missing values'"
      ]
     },
     "metadata": {},
     "output_type": "display_data"
    },
    {
     "data": {
      "text/plain": [
       "id              0\n",
       "message_date    0\n",
       "user_id         0\n",
       "dtype: int64"
      ]
     },
     "metadata": {},
     "output_type": "display_data"
    }
   ],
   "source": [
    "df_describe(df_messages)"
   ]
  },
  {
   "cell_type": "markdown",
   "id": "d2d718ad",
   "metadata": {},
   "source": [
    "According to the data documentation:\n",
    "\n",
    "Table *messages* (information about messages):\n",
    "* id — unique message number\n",
    "* message_date — date of the message\n",
    "* user_id — ID of the user who sent the message"
   ]
  },
  {
   "cell_type": "markdown",
   "id": "abce93fb",
   "metadata": {},
   "source": [
    "According to the analysis obtained , it can be noted:\n",
    "- There are no missing values in the dataframe with message data.\n",
    "- In the description of the user_id column data, you can see that the median Id is shifted - 1271 (instead of 1249.5), which means there were subscribers who did not send a single message for the year.\n",
    "- In the column with the date of the message, you need to change the format for further work with object to datetime."
   ]
  },
  {
   "cell_type": "code",
   "execution_count": 67,
   "id": "21a7ff62",
   "metadata": {},
   "outputs": [],
   "source": [
    "df_messages['message_date'] = pd.to_datetime(df_messages['message_date'], format = '%Y %m %d')"
   ]
  },
  {
   "cell_type": "markdown",
   "id": "6d7c59ab",
   "metadata": {},
   "source": [
    "___\n",
    "Next, we will study the data on messages from the df_tariffs dataframe"
   ]
  },
  {
   "cell_type": "code",
   "execution_count": 68,
   "id": "6da86eb7",
   "metadata": {},
   "outputs": [
    {
     "data": {
      "text/plain": [
       "'First 5 rows'"
      ]
     },
     "metadata": {},
     "output_type": "display_data"
    },
    {
     "data": {
      "text/html": [
       "<div>\n",
       "<style scoped>\n",
       "    .dataframe tbody tr th:only-of-type {\n",
       "        vertical-align: middle;\n",
       "    }\n",
       "\n",
       "    .dataframe tbody tr th {\n",
       "        vertical-align: top;\n",
       "    }\n",
       "\n",
       "    .dataframe thead th {\n",
       "        text-align: right;\n",
       "    }\n",
       "</style>\n",
       "<table border=\"1\" class=\"dataframe\">\n",
       "  <thead>\n",
       "    <tr style=\"text-align: right;\">\n",
       "      <th></th>\n",
       "      <th>messages_included</th>\n",
       "      <th>mb_per_month_included</th>\n",
       "      <th>minutes_included</th>\n",
       "      <th>rub_monthly_fee</th>\n",
       "      <th>rub_per_gb</th>\n",
       "      <th>rub_per_message</th>\n",
       "      <th>rub_per_minute</th>\n",
       "      <th>tariff_name</th>\n",
       "    </tr>\n",
       "  </thead>\n",
       "  <tbody>\n",
       "    <tr>\n",
       "      <th>0</th>\n",
       "      <td>50</td>\n",
       "      <td>15360</td>\n",
       "      <td>500</td>\n",
       "      <td>550</td>\n",
       "      <td>200</td>\n",
       "      <td>3</td>\n",
       "      <td>3</td>\n",
       "      <td>smart</td>\n",
       "    </tr>\n",
       "    <tr>\n",
       "      <th>1</th>\n",
       "      <td>1000</td>\n",
       "      <td>30720</td>\n",
       "      <td>3000</td>\n",
       "      <td>1950</td>\n",
       "      <td>150</td>\n",
       "      <td>1</td>\n",
       "      <td>1</td>\n",
       "      <td>ultra</td>\n",
       "    </tr>\n",
       "  </tbody>\n",
       "</table>\n",
       "</div>"
      ],
      "text/plain": [
       "   messages_included  mb_per_month_included  minutes_included  \\\n",
       "0                 50                  15360               500   \n",
       "1               1000                  30720              3000   \n",
       "\n",
       "   rub_monthly_fee  rub_per_gb  rub_per_message  rub_per_minute tariff_name  \n",
       "0              550         200                3               3       smart  \n",
       "1             1950         150                1               1       ultra  "
      ]
     },
     "metadata": {},
     "output_type": "display_data"
    },
    {
     "data": {
      "text/plain": [
       "'Description of numerical data:'"
      ]
     },
     "metadata": {},
     "output_type": "display_data"
    },
    {
     "data": {
      "text/html": [
       "<div>\n",
       "<style scoped>\n",
       "    .dataframe tbody tr th:only-of-type {\n",
       "        vertical-align: middle;\n",
       "    }\n",
       "\n",
       "    .dataframe tbody tr th {\n",
       "        vertical-align: top;\n",
       "    }\n",
       "\n",
       "    .dataframe thead th {\n",
       "        text-align: right;\n",
       "    }\n",
       "</style>\n",
       "<table border=\"1\" class=\"dataframe\">\n",
       "  <thead>\n",
       "    <tr style=\"text-align: right;\">\n",
       "      <th></th>\n",
       "      <th>messages_included</th>\n",
       "      <th>mb_per_month_included</th>\n",
       "      <th>minutes_included</th>\n",
       "      <th>rub_monthly_fee</th>\n",
       "      <th>rub_per_gb</th>\n",
       "      <th>rub_per_message</th>\n",
       "      <th>rub_per_minute</th>\n",
       "    </tr>\n",
       "  </thead>\n",
       "  <tbody>\n",
       "    <tr>\n",
       "      <th>count</th>\n",
       "      <td>2.000000</td>\n",
       "      <td>2.000000</td>\n",
       "      <td>2.000000</td>\n",
       "      <td>2.000000</td>\n",
       "      <td>2.000000</td>\n",
       "      <td>2.000000</td>\n",
       "      <td>2.000000</td>\n",
       "    </tr>\n",
       "    <tr>\n",
       "      <th>mean</th>\n",
       "      <td>525.000000</td>\n",
       "      <td>23040.000000</td>\n",
       "      <td>1750.000000</td>\n",
       "      <td>1250.000000</td>\n",
       "      <td>175.000000</td>\n",
       "      <td>2.000000</td>\n",
       "      <td>2.000000</td>\n",
       "    </tr>\n",
       "    <tr>\n",
       "      <th>std</th>\n",
       "      <td>671.751442</td>\n",
       "      <td>10861.160159</td>\n",
       "      <td>1767.766953</td>\n",
       "      <td>989.949494</td>\n",
       "      <td>35.355339</td>\n",
       "      <td>1.414214</td>\n",
       "      <td>1.414214</td>\n",
       "    </tr>\n",
       "    <tr>\n",
       "      <th>min</th>\n",
       "      <td>50.000000</td>\n",
       "      <td>15360.000000</td>\n",
       "      <td>500.000000</td>\n",
       "      <td>550.000000</td>\n",
       "      <td>150.000000</td>\n",
       "      <td>1.000000</td>\n",
       "      <td>1.000000</td>\n",
       "    </tr>\n",
       "    <tr>\n",
       "      <th>25%</th>\n",
       "      <td>287.500000</td>\n",
       "      <td>19200.000000</td>\n",
       "      <td>1125.000000</td>\n",
       "      <td>900.000000</td>\n",
       "      <td>162.500000</td>\n",
       "      <td>1.500000</td>\n",
       "      <td>1.500000</td>\n",
       "    </tr>\n",
       "    <tr>\n",
       "      <th>50%</th>\n",
       "      <td>525.000000</td>\n",
       "      <td>23040.000000</td>\n",
       "      <td>1750.000000</td>\n",
       "      <td>1250.000000</td>\n",
       "      <td>175.000000</td>\n",
       "      <td>2.000000</td>\n",
       "      <td>2.000000</td>\n",
       "    </tr>\n",
       "    <tr>\n",
       "      <th>75%</th>\n",
       "      <td>762.500000</td>\n",
       "      <td>26880.000000</td>\n",
       "      <td>2375.000000</td>\n",
       "      <td>1600.000000</td>\n",
       "      <td>187.500000</td>\n",
       "      <td>2.500000</td>\n",
       "      <td>2.500000</td>\n",
       "    </tr>\n",
       "    <tr>\n",
       "      <th>max</th>\n",
       "      <td>1000.000000</td>\n",
       "      <td>30720.000000</td>\n",
       "      <td>3000.000000</td>\n",
       "      <td>1950.000000</td>\n",
       "      <td>200.000000</td>\n",
       "      <td>3.000000</td>\n",
       "      <td>3.000000</td>\n",
       "    </tr>\n",
       "  </tbody>\n",
       "</table>\n",
       "</div>"
      ],
      "text/plain": [
       "       messages_included  mb_per_month_included  minutes_included  \\\n",
       "count           2.000000               2.000000          2.000000   \n",
       "mean          525.000000           23040.000000       1750.000000   \n",
       "std           671.751442           10861.160159       1767.766953   \n",
       "min            50.000000           15360.000000        500.000000   \n",
       "25%           287.500000           19200.000000       1125.000000   \n",
       "50%           525.000000           23040.000000       1750.000000   \n",
       "75%           762.500000           26880.000000       2375.000000   \n",
       "max          1000.000000           30720.000000       3000.000000   \n",
       "\n",
       "       rub_monthly_fee  rub_per_gb  rub_per_message  rub_per_minute  \n",
       "count         2.000000    2.000000         2.000000        2.000000  \n",
       "mean       1250.000000  175.000000         2.000000        2.000000  \n",
       "std         989.949494   35.355339         1.414214        1.414214  \n",
       "min         550.000000  150.000000         1.000000        1.000000  \n",
       "25%         900.000000  162.500000         1.500000        1.500000  \n",
       "50%        1250.000000  175.000000         2.000000        2.000000  \n",
       "75%        1600.000000  187.500000         2.500000        2.500000  \n",
       "max        1950.000000  200.000000         3.000000        3.000000  "
      ]
     },
     "metadata": {},
     "output_type": "display_data"
    },
    {
     "name": "stdout",
     "output_type": "stream",
     "text": [
      "<class 'pandas.core.frame.DataFrame'>\n",
      "RangeIndex: 2 entries, 0 to 1\n",
      "Data columns (total 8 columns):\n",
      " #   Column                 Non-Null Count  Dtype \n",
      "---  ------                 --------------  ----- \n",
      " 0   messages_included      2 non-null      int64 \n",
      " 1   mb_per_month_included  2 non-null      int64 \n",
      " 2   minutes_included       2 non-null      int64 \n",
      " 3   rub_monthly_fee        2 non-null      int64 \n",
      " 4   rub_per_gb             2 non-null      int64 \n",
      " 5   rub_per_message        2 non-null      int64 \n",
      " 6   rub_per_minute         2 non-null      int64 \n",
      " 7   tariff_name            2 non-null      object\n",
      "dtypes: int64(7), object(1)\n",
      "memory usage: 256.0+ bytes\n"
     ]
    },
    {
     "data": {
      "text/plain": [
       "None"
      ]
     },
     "metadata": {},
     "output_type": "display_data"
    },
    {
     "data": {
      "text/plain": [
       "'Number of missing values'"
      ]
     },
     "metadata": {},
     "output_type": "display_data"
    },
    {
     "data": {
      "text/plain": [
       "messages_included        0\n",
       "mb_per_month_included    0\n",
       "minutes_included         0\n",
       "rub_monthly_fee          0\n",
       "rub_per_gb               0\n",
       "rub_per_message          0\n",
       "rub_per_minute           0\n",
       "tariff_name              0\n",
       "dtype: int64"
      ]
     },
     "metadata": {},
     "output_type": "display_data"
    }
   ],
   "source": [
    "df_describe(df_tariffs)"
   ]
  },
  {
   "cell_type": "markdown",
   "id": "cb5548bb",
   "metadata": {},
   "source": [
    "There are no missing values and errors in the data in this dataframe. Next, you need to study the data from the **df_internet file**\n",
    "___"
   ]
  },
  {
   "cell_type": "code",
   "execution_count": 69,
   "id": "64df4b2f",
   "metadata": {
    "scrolled": false
   },
   "outputs": [
    {
     "data": {
      "text/plain": [
       "'First 5 rows'"
      ]
     },
     "metadata": {},
     "output_type": "display_data"
    },
    {
     "data": {
      "text/html": [
       "<div>\n",
       "<style scoped>\n",
       "    .dataframe tbody tr th:only-of-type {\n",
       "        vertical-align: middle;\n",
       "    }\n",
       "\n",
       "    .dataframe tbody tr th {\n",
       "        vertical-align: top;\n",
       "    }\n",
       "\n",
       "    .dataframe thead th {\n",
       "        text-align: right;\n",
       "    }\n",
       "</style>\n",
       "<table border=\"1\" class=\"dataframe\">\n",
       "  <thead>\n",
       "    <tr style=\"text-align: right;\">\n",
       "      <th></th>\n",
       "      <th>Unnamed: 0</th>\n",
       "      <th>id</th>\n",
       "      <th>mb_used</th>\n",
       "      <th>session_date</th>\n",
       "      <th>user_id</th>\n",
       "    </tr>\n",
       "  </thead>\n",
       "  <tbody>\n",
       "    <tr>\n",
       "      <th>0</th>\n",
       "      <td>0</td>\n",
       "      <td>1000_0</td>\n",
       "      <td>112.95</td>\n",
       "      <td>2018-11-25</td>\n",
       "      <td>1000</td>\n",
       "    </tr>\n",
       "    <tr>\n",
       "      <th>1</th>\n",
       "      <td>1</td>\n",
       "      <td>1000_1</td>\n",
       "      <td>1052.81</td>\n",
       "      <td>2018-09-07</td>\n",
       "      <td>1000</td>\n",
       "    </tr>\n",
       "    <tr>\n",
       "      <th>2</th>\n",
       "      <td>2</td>\n",
       "      <td>1000_2</td>\n",
       "      <td>1197.26</td>\n",
       "      <td>2018-06-25</td>\n",
       "      <td>1000</td>\n",
       "    </tr>\n",
       "    <tr>\n",
       "      <th>3</th>\n",
       "      <td>3</td>\n",
       "      <td>1000_3</td>\n",
       "      <td>550.27</td>\n",
       "      <td>2018-08-22</td>\n",
       "      <td>1000</td>\n",
       "    </tr>\n",
       "    <tr>\n",
       "      <th>4</th>\n",
       "      <td>4</td>\n",
       "      <td>1000_4</td>\n",
       "      <td>302.56</td>\n",
       "      <td>2018-09-24</td>\n",
       "      <td>1000</td>\n",
       "    </tr>\n",
       "  </tbody>\n",
       "</table>\n",
       "</div>"
      ],
      "text/plain": [
       "   Unnamed: 0      id  mb_used session_date  user_id\n",
       "0           0  1000_0   112.95   2018-11-25     1000\n",
       "1           1  1000_1  1052.81   2018-09-07     1000\n",
       "2           2  1000_2  1197.26   2018-06-25     1000\n",
       "3           3  1000_3   550.27   2018-08-22     1000\n",
       "4           4  1000_4   302.56   2018-09-24     1000"
      ]
     },
     "metadata": {},
     "output_type": "display_data"
    },
    {
     "data": {
      "text/plain": [
       "'Description of numerical data:'"
      ]
     },
     "metadata": {},
     "output_type": "display_data"
    },
    {
     "data": {
      "text/html": [
       "<div>\n",
       "<style scoped>\n",
       "    .dataframe tbody tr th:only-of-type {\n",
       "        vertical-align: middle;\n",
       "    }\n",
       "\n",
       "    .dataframe tbody tr th {\n",
       "        vertical-align: top;\n",
       "    }\n",
       "\n",
       "    .dataframe thead th {\n",
       "        text-align: right;\n",
       "    }\n",
       "</style>\n",
       "<table border=\"1\" class=\"dataframe\">\n",
       "  <thead>\n",
       "    <tr style=\"text-align: right;\">\n",
       "      <th></th>\n",
       "      <th>Unnamed: 0</th>\n",
       "      <th>mb_used</th>\n",
       "      <th>user_id</th>\n",
       "    </tr>\n",
       "  </thead>\n",
       "  <tbody>\n",
       "    <tr>\n",
       "      <th>count</th>\n",
       "      <td>149396.000000</td>\n",
       "      <td>149396.000000</td>\n",
       "      <td>149396.000000</td>\n",
       "    </tr>\n",
       "    <tr>\n",
       "      <th>mean</th>\n",
       "      <td>74697.500000</td>\n",
       "      <td>370.192426</td>\n",
       "      <td>1252.099842</td>\n",
       "    </tr>\n",
       "    <tr>\n",
       "      <th>std</th>\n",
       "      <td>43127.054745</td>\n",
       "      <td>278.300951</td>\n",
       "      <td>144.050823</td>\n",
       "    </tr>\n",
       "    <tr>\n",
       "      <th>min</th>\n",
       "      <td>0.000000</td>\n",
       "      <td>0.000000</td>\n",
       "      <td>1000.000000</td>\n",
       "    </tr>\n",
       "    <tr>\n",
       "      <th>25%</th>\n",
       "      <td>37348.750000</td>\n",
       "      <td>138.187500</td>\n",
       "      <td>1130.000000</td>\n",
       "    </tr>\n",
       "    <tr>\n",
       "      <th>50%</th>\n",
       "      <td>74697.500000</td>\n",
       "      <td>348.015000</td>\n",
       "      <td>1251.000000</td>\n",
       "    </tr>\n",
       "    <tr>\n",
       "      <th>75%</th>\n",
       "      <td>112046.250000</td>\n",
       "      <td>559.552500</td>\n",
       "      <td>1380.000000</td>\n",
       "    </tr>\n",
       "    <tr>\n",
       "      <th>max</th>\n",
       "      <td>149395.000000</td>\n",
       "      <td>1724.830000</td>\n",
       "      <td>1499.000000</td>\n",
       "    </tr>\n",
       "  </tbody>\n",
       "</table>\n",
       "</div>"
      ],
      "text/plain": [
       "          Unnamed: 0        mb_used        user_id\n",
       "count  149396.000000  149396.000000  149396.000000\n",
       "mean    74697.500000     370.192426    1252.099842\n",
       "std     43127.054745     278.300951     144.050823\n",
       "min         0.000000       0.000000    1000.000000\n",
       "25%     37348.750000     138.187500    1130.000000\n",
       "50%     74697.500000     348.015000    1251.000000\n",
       "75%    112046.250000     559.552500    1380.000000\n",
       "max    149395.000000    1724.830000    1499.000000"
      ]
     },
     "metadata": {},
     "output_type": "display_data"
    },
    {
     "name": "stdout",
     "output_type": "stream",
     "text": [
      "<class 'pandas.core.frame.DataFrame'>\n",
      "RangeIndex: 149396 entries, 0 to 149395\n",
      "Data columns (total 5 columns):\n",
      " #   Column        Non-Null Count   Dtype  \n",
      "---  ------        --------------   -----  \n",
      " 0   Unnamed: 0    149396 non-null  int64  \n",
      " 1   id            149396 non-null  object \n",
      " 2   mb_used       149396 non-null  float64\n",
      " 3   session_date  149396 non-null  object \n",
      " 4   user_id       149396 non-null  int64  \n",
      "dtypes: float64(1), int64(2), object(2)\n",
      "memory usage: 5.7+ MB\n"
     ]
    },
    {
     "data": {
      "text/plain": [
       "None"
      ]
     },
     "metadata": {},
     "output_type": "display_data"
    },
    {
     "data": {
      "text/plain": [
       "'Number of missing values'"
      ]
     },
     "metadata": {},
     "output_type": "display_data"
    },
    {
     "data": {
      "text/plain": [
       "Unnamed: 0      0\n",
       "id              0\n",
       "mb_used         0\n",
       "session_date    0\n",
       "user_id         0\n",
       "dtype: int64"
      ]
     },
     "metadata": {},
     "output_type": "display_data"
    }
   ],
   "source": [
    "df_describe(df_internet)"
   ]
  },
  {
   "cell_type": "markdown",
   "id": "80b851b0",
   "metadata": {},
   "source": [
    "Let's study the data on Internet sessions and build a histogram."
   ]
  },
  {
   "cell_type": "code",
   "execution_count": 70,
   "id": "0509bbbf",
   "metadata": {
    "scrolled": false
   },
   "outputs": [
    {
     "data": {
      "image/png": "[encoded data removed]",
      "text/plain": [
       "<Figure size 640x480 with 1 Axes>"
      ]
     },
     "metadata": {},
     "output_type": "display_data"
    }
   ],
   "source": [
    "df_internet['mb_used'].plot(kind='hist',bins=100,  color=\"#70AD47\", edgecolor=\"black\")\n",
    "plt.title(\"Distribution by session traffic volume\")\n",
    "plt.xlabel(\"Traffic volume, megabytes.\")\n",
    "plt.ylabel(\"Quantity, units.\")\n",
    "plt.show()"
   ]
  },
  {
   "cell_type": "markdown",
   "id": "c3b8854d",
   "metadata": {},
   "source": [
    "According to the distribution of traffic, a peak is also visible near the zero mark. By analogy with the zero values in the duration of calls, it can be assumed that this was the activation of a SIM card, or operations with the minimum required amount of traffic (approx. background update of the messenger). In the context of a training project, there is no opportunity to clarify the nature of the appearance of these data.\n",
    "\n",
    "Since their presence will not affect the study of the dependence of expenses on the amount of traffic spent (the volume will fall within the limit of the prepaid Internet package), you can leave the data."
   ]
  },
  {
   "cell_type": "markdown",
   "id": "6410582e",
   "metadata": {},
   "source": [
    "По аналогии с другими файлами также необходимо изменить формат столбца **session_date** в формат datetime."
   ]
  },
  {
   "cell_type": "code",
   "execution_count": 71,
   "id": "6f09b084",
   "metadata": {},
   "outputs": [
    {
     "data": {
      "text/html": [
       "<div>\n",
       "<style scoped>\n",
       "    .dataframe tbody tr th:only-of-type {\n",
       "        vertical-align: middle;\n",
       "    }\n",
       "\n",
       "    .dataframe tbody tr th {\n",
       "        vertical-align: top;\n",
       "    }\n",
       "\n",
       "    .dataframe thead th {\n",
       "        text-align: right;\n",
       "    }\n",
       "</style>\n",
       "<table border=\"1\" class=\"dataframe\">\n",
       "  <thead>\n",
       "    <tr style=\"text-align: right;\">\n",
       "      <th></th>\n",
       "      <th>Unnamed: 0</th>\n",
       "      <th>id</th>\n",
       "      <th>mb_used</th>\n",
       "      <th>session_date</th>\n",
       "      <th>user_id</th>\n",
       "    </tr>\n",
       "  </thead>\n",
       "  <tbody>\n",
       "    <tr>\n",
       "      <th>0</th>\n",
       "      <td>0</td>\n",
       "      <td>1000_0</td>\n",
       "      <td>112.95</td>\n",
       "      <td>2018-11-25</td>\n",
       "      <td>1000</td>\n",
       "    </tr>\n",
       "    <tr>\n",
       "      <th>1</th>\n",
       "      <td>1</td>\n",
       "      <td>1000_1</td>\n",
       "      <td>1052.81</td>\n",
       "      <td>2018-09-07</td>\n",
       "      <td>1000</td>\n",
       "    </tr>\n",
       "    <tr>\n",
       "      <th>2</th>\n",
       "      <td>2</td>\n",
       "      <td>1000_2</td>\n",
       "      <td>1197.26</td>\n",
       "      <td>2018-06-25</td>\n",
       "      <td>1000</td>\n",
       "    </tr>\n",
       "    <tr>\n",
       "      <th>3</th>\n",
       "      <td>3</td>\n",
       "      <td>1000_3</td>\n",
       "      <td>550.27</td>\n",
       "      <td>2018-08-22</td>\n",
       "      <td>1000</td>\n",
       "    </tr>\n",
       "    <tr>\n",
       "      <th>4</th>\n",
       "      <td>4</td>\n",
       "      <td>1000_4</td>\n",
       "      <td>302.56</td>\n",
       "      <td>2018-09-24</td>\n",
       "      <td>1000</td>\n",
       "    </tr>\n",
       "  </tbody>\n",
       "</table>\n",
       "</div>"
      ],
      "text/plain": [
       "   Unnamed: 0      id  mb_used session_date  user_id\n",
       "0           0  1000_0   112.95   2018-11-25     1000\n",
       "1           1  1000_1  1052.81   2018-09-07     1000\n",
       "2           2  1000_2  1197.26   2018-06-25     1000\n",
       "3           3  1000_3   550.27   2018-08-22     1000\n",
       "4           4  1000_4   302.56   2018-09-24     1000"
      ]
     },
     "execution_count": 71,
     "metadata": {},
     "output_type": "execute_result"
    }
   ],
   "source": [
    "df_internet['session_date'] = pd.to_datetime(df_internet['session_date'],format='%Y %m %d')\n",
    "df_internet.head()"
   ]
  },
  {
   "cell_type": "markdown",
   "id": "d757975a",
   "metadata": {},
   "source": [
    "At this stage, you can proceed to data preparation.\n",
    "___"
   ]
  },
  {
   "cell_type": "markdown",
   "id": "4a9c32f8",
   "metadata": {},
   "source": [
    "## Data preparation"
   ]
  },
  {
   "cell_type": "markdown",
   "id": "8f3434e4",
   "metadata": {},
   "source": [
    "According to the objectives of the study, we need to determine:\n",
    "- what is the volume of calls made and minutes of conversation spent by month for each user?\n",
    "- what is the number of messages sent by month for each user?\n",
    "- what is the amount of Internet traffic consumed by month for each user?\n",
    "- - how much is the monthly revenue from each user?"
   ]
  },
  {
   "cell_type": "markdown",
   "id": "e13774db",
   "metadata": {},
   "source": [
    "To answer the questions in the above paragraphs, you will need data broken down by month."
   ]
  },
  {
   "cell_type": "code",
   "execution_count": 72,
   "id": "254b4e64",
   "metadata": {
    "scrolled": true
   },
   "outputs": [
    {
     "data": {
      "text/html": [
       "<div>\n",
       "<style scoped>\n",
       "    .dataframe tbody tr th:only-of-type {\n",
       "        vertical-align: middle;\n",
       "    }\n",
       "\n",
       "    .dataframe tbody tr th {\n",
       "        vertical-align: top;\n",
       "    }\n",
       "\n",
       "    .dataframe thead th {\n",
       "        text-align: right;\n",
       "    }\n",
       "</style>\n",
       "<table border=\"1\" class=\"dataframe\">\n",
       "  <thead>\n",
       "    <tr style=\"text-align: right;\">\n",
       "      <th></th>\n",
       "      <th>id</th>\n",
       "      <th>message_date</th>\n",
       "      <th>user_id</th>\n",
       "      <th>date_month</th>\n",
       "    </tr>\n",
       "  </thead>\n",
       "  <tbody>\n",
       "    <tr>\n",
       "      <th>0</th>\n",
       "      <td>1000_0</td>\n",
       "      <td>2018-06-27</td>\n",
       "      <td>1000</td>\n",
       "      <td>6</td>\n",
       "    </tr>\n",
       "    <tr>\n",
       "      <th>1</th>\n",
       "      <td>1000_1</td>\n",
       "      <td>2018-10-08</td>\n",
       "      <td>1000</td>\n",
       "      <td>10</td>\n",
       "    </tr>\n",
       "    <tr>\n",
       "      <th>2</th>\n",
       "      <td>1000_2</td>\n",
       "      <td>2018-08-04</td>\n",
       "      <td>1000</td>\n",
       "      <td>8</td>\n",
       "    </tr>\n",
       "    <tr>\n",
       "      <th>3</th>\n",
       "      <td>1000_3</td>\n",
       "      <td>2018-06-16</td>\n",
       "      <td>1000</td>\n",
       "      <td>6</td>\n",
       "    </tr>\n",
       "    <tr>\n",
       "      <th>4</th>\n",
       "      <td>1000_4</td>\n",
       "      <td>2018-12-05</td>\n",
       "      <td>1000</td>\n",
       "      <td>12</td>\n",
       "    </tr>\n",
       "  </tbody>\n",
       "</table>\n",
       "</div>"
      ],
      "text/plain": [
       "       id message_date  user_id  date_month\n",
       "0  1000_0   2018-06-27     1000           6\n",
       "1  1000_1   2018-10-08     1000          10\n",
       "2  1000_2   2018-08-04     1000           8\n",
       "3  1000_3   2018-06-16     1000           6\n",
       "4  1000_4   2018-12-05     1000          12"
      ]
     },
     "execution_count": 72,
     "metadata": {},
     "output_type": "execute_result"
    }
   ],
   "source": [
    "df_calls['date_month'] = pd.DatetimeIndex(df_calls['call_date']).month\n",
    "df_messages['date_month'] = pd.DatetimeIndex(df_messages['message_date']).month\n",
    "df_internet['date_month'] = pd.DatetimeIndex(df_internet['session_date']).month\n",
    "df_messages.head()"
   ]
  },
  {
   "cell_type": "markdown",
   "id": "3a8fcd44",
   "metadata": {},
   "source": [
    "So, there are 3 tables with calls, messages and Internet sessions, but it is impossible to combine them into a single dataframe in the current form, since in the rows of each of the tables there are repetitions with similar values **user_id** and **date_month**, since subscribers made more than 1 call (message etc.) for a month. So, the data must first be grouped."
   ]
  },
  {
   "cell_type": "code",
   "execution_count": 73,
   "id": "86814d26",
   "metadata": {
    "scrolled": false
   },
   "outputs": [
    {
     "data": {
      "text/html": [
       "<div>\n",
       "<style scoped>\n",
       "    .dataframe tbody tr th:only-of-type {\n",
       "        vertical-align: middle;\n",
       "    }\n",
       "\n",
       "    .dataframe tbody tr th {\n",
       "        vertical-align: top;\n",
       "    }\n",
       "\n",
       "    .dataframe thead th {\n",
       "        text-align: right;\n",
       "    }\n",
       "</style>\n",
       "<table border=\"1\" class=\"dataframe\">\n",
       "  <thead>\n",
       "    <tr style=\"text-align: right;\">\n",
       "      <th></th>\n",
       "      <th>user_id</th>\n",
       "      <th>date_month</th>\n",
       "      <th>calls_per_month</th>\n",
       "      <th>calls_dur_per_month</th>\n",
       "    </tr>\n",
       "  </thead>\n",
       "  <tbody>\n",
       "    <tr>\n",
       "      <th>0</th>\n",
       "      <td>1000</td>\n",
       "      <td>5</td>\n",
       "      <td>22</td>\n",
       "      <td>159</td>\n",
       "    </tr>\n",
       "    <tr>\n",
       "      <th>1</th>\n",
       "      <td>1000</td>\n",
       "      <td>6</td>\n",
       "      <td>43</td>\n",
       "      <td>172</td>\n",
       "    </tr>\n",
       "    <tr>\n",
       "      <th>2</th>\n",
       "      <td>1000</td>\n",
       "      <td>7</td>\n",
       "      <td>47</td>\n",
       "      <td>340</td>\n",
       "    </tr>\n",
       "    <tr>\n",
       "      <th>3</th>\n",
       "      <td>1000</td>\n",
       "      <td>8</td>\n",
       "      <td>52</td>\n",
       "      <td>408</td>\n",
       "    </tr>\n",
       "    <tr>\n",
       "      <th>4</th>\n",
       "      <td>1000</td>\n",
       "      <td>9</td>\n",
       "      <td>58</td>\n",
       "      <td>466</td>\n",
       "    </tr>\n",
       "    <tr>\n",
       "      <th>...</th>\n",
       "      <td>...</td>\n",
       "      <td>...</td>\n",
       "      <td>...</td>\n",
       "      <td>...</td>\n",
       "    </tr>\n",
       "    <tr>\n",
       "      <th>3169</th>\n",
       "      <td>1498</td>\n",
       "      <td>10</td>\n",
       "      <td>41</td>\n",
       "      <td>247</td>\n",
       "    </tr>\n",
       "    <tr>\n",
       "      <th>3170</th>\n",
       "      <td>1499</td>\n",
       "      <td>9</td>\n",
       "      <td>9</td>\n",
       "      <td>70</td>\n",
       "    </tr>\n",
       "    <tr>\n",
       "      <th>3171</th>\n",
       "      <td>1499</td>\n",
       "      <td>10</td>\n",
       "      <td>68</td>\n",
       "      <td>449</td>\n",
       "    </tr>\n",
       "    <tr>\n",
       "      <th>3172</th>\n",
       "      <td>1499</td>\n",
       "      <td>11</td>\n",
       "      <td>74</td>\n",
       "      <td>612</td>\n",
       "    </tr>\n",
       "    <tr>\n",
       "      <th>3173</th>\n",
       "      <td>1499</td>\n",
       "      <td>12</td>\n",
       "      <td>69</td>\n",
       "      <td>492</td>\n",
       "    </tr>\n",
       "  </tbody>\n",
       "</table>\n",
       "<p>3174 rows × 4 columns</p>\n",
       "</div>"
      ],
      "text/plain": [
       "      user_id  date_month  calls_per_month  calls_dur_per_month\n",
       "0        1000           5               22                  159\n",
       "1        1000           6               43                  172\n",
       "2        1000           7               47                  340\n",
       "3        1000           8               52                  408\n",
       "4        1000           9               58                  466\n",
       "...       ...         ...              ...                  ...\n",
       "3169     1498          10               41                  247\n",
       "3170     1499           9                9                   70\n",
       "3171     1499          10               68                  449\n",
       "3172     1499          11               74                  612\n",
       "3173     1499          12               69                  492\n",
       "\n",
       "[3174 rows x 4 columns]"
      ]
     },
     "execution_count": 73,
     "metadata": {},
     "output_type": "execute_result"
    }
   ],
   "source": [
    "calls_grouped = df_calls.groupby(['user_id','date_month'])['duration'].agg(['count','sum']).reset_index()\n",
    "calls_grouped.columns = ['user_id','date_month','calls_per_month','calls_dur_per_month']\n",
    "calls_grouped"
   ]
  },
  {
   "cell_type": "code",
   "execution_count": 74,
   "id": "45ef7175",
   "metadata": {},
   "outputs": [
    {
     "data": {
      "text/html": [
       "<div>\n",
       "<style scoped>\n",
       "    .dataframe tbody tr th:only-of-type {\n",
       "        vertical-align: middle;\n",
       "    }\n",
       "\n",
       "    .dataframe tbody tr th {\n",
       "        vertical-align: top;\n",
       "    }\n",
       "\n",
       "    .dataframe thead th {\n",
       "        text-align: right;\n",
       "    }\n",
       "</style>\n",
       "<table border=\"1\" class=\"dataframe\">\n",
       "  <thead>\n",
       "    <tr style=\"text-align: right;\">\n",
       "      <th></th>\n",
       "      <th>user_id</th>\n",
       "      <th>date_month</th>\n",
       "      <th>messages_per_month</th>\n",
       "    </tr>\n",
       "  </thead>\n",
       "  <tbody>\n",
       "    <tr>\n",
       "      <th>0</th>\n",
       "      <td>1000</td>\n",
       "      <td>5</td>\n",
       "      <td>22</td>\n",
       "    </tr>\n",
       "    <tr>\n",
       "      <th>1</th>\n",
       "      <td>1000</td>\n",
       "      <td>6</td>\n",
       "      <td>60</td>\n",
       "    </tr>\n",
       "    <tr>\n",
       "      <th>2</th>\n",
       "      <td>1000</td>\n",
       "      <td>7</td>\n",
       "      <td>75</td>\n",
       "    </tr>\n",
       "    <tr>\n",
       "      <th>3</th>\n",
       "      <td>1000</td>\n",
       "      <td>8</td>\n",
       "      <td>81</td>\n",
       "    </tr>\n",
       "    <tr>\n",
       "      <th>4</th>\n",
       "      <td>1000</td>\n",
       "      <td>9</td>\n",
       "      <td>57</td>\n",
       "    </tr>\n",
       "    <tr>\n",
       "      <th>...</th>\n",
       "      <td>...</td>\n",
       "      <td>...</td>\n",
       "      <td>...</td>\n",
       "    </tr>\n",
       "    <tr>\n",
       "      <th>2712</th>\n",
       "      <td>1498</td>\n",
       "      <td>10</td>\n",
       "      <td>42</td>\n",
       "    </tr>\n",
       "    <tr>\n",
       "      <th>2713</th>\n",
       "      <td>1499</td>\n",
       "      <td>9</td>\n",
       "      <td>11</td>\n",
       "    </tr>\n",
       "    <tr>\n",
       "      <th>2714</th>\n",
       "      <td>1499</td>\n",
       "      <td>10</td>\n",
       "      <td>48</td>\n",
       "    </tr>\n",
       "    <tr>\n",
       "      <th>2715</th>\n",
       "      <td>1499</td>\n",
       "      <td>11</td>\n",
       "      <td>59</td>\n",
       "    </tr>\n",
       "    <tr>\n",
       "      <th>2716</th>\n",
       "      <td>1499</td>\n",
       "      <td>12</td>\n",
       "      <td>66</td>\n",
       "    </tr>\n",
       "  </tbody>\n",
       "</table>\n",
       "<p>2717 rows × 3 columns</p>\n",
       "</div>"
      ],
      "text/plain": [
       "      user_id  date_month  messages_per_month\n",
       "0        1000           5                  22\n",
       "1        1000           6                  60\n",
       "2        1000           7                  75\n",
       "3        1000           8                  81\n",
       "4        1000           9                  57\n",
       "...       ...         ...                 ...\n",
       "2712     1498          10                  42\n",
       "2713     1499           9                  11\n",
       "2714     1499          10                  48\n",
       "2715     1499          11                  59\n",
       "2716     1499          12                  66\n",
       "\n",
       "[2717 rows x 3 columns]"
      ]
     },
     "execution_count": 74,
     "metadata": {},
     "output_type": "execute_result"
    }
   ],
   "source": [
    "messages_grouped = df_messages.groupby(['user_id','date_month'])['id'].agg('count').reset_index()\n",
    "messages_grouped.columns = ['user_id','date_month','messages_per_month']\n",
    "messages_grouped"
   ]
  },
  {
   "cell_type": "code",
   "execution_count": 75,
   "id": "3d6214d1",
   "metadata": {
    "scrolled": true
   },
   "outputs": [
    {
     "data": {
      "text/html": [
       "<div>\n",
       "<style scoped>\n",
       "    .dataframe tbody tr th:only-of-type {\n",
       "        vertical-align: middle;\n",
       "    }\n",
       "\n",
       "    .dataframe tbody tr th {\n",
       "        vertical-align: top;\n",
       "    }\n",
       "\n",
       "    .dataframe thead th {\n",
       "        text-align: right;\n",
       "    }\n",
       "</style>\n",
       "<table border=\"1\" class=\"dataframe\">\n",
       "  <thead>\n",
       "    <tr style=\"text-align: right;\">\n",
       "      <th></th>\n",
       "      <th>user_id</th>\n",
       "      <th>date_month</th>\n",
       "      <th>gb_per_month</th>\n",
       "    </tr>\n",
       "  </thead>\n",
       "  <tbody>\n",
       "    <tr>\n",
       "      <th>0</th>\n",
       "      <td>1000</td>\n",
       "      <td>5</td>\n",
       "      <td>3</td>\n",
       "    </tr>\n",
       "    <tr>\n",
       "      <th>1</th>\n",
       "      <td>1000</td>\n",
       "      <td>6</td>\n",
       "      <td>23</td>\n",
       "    </tr>\n",
       "    <tr>\n",
       "      <th>2</th>\n",
       "      <td>1000</td>\n",
       "      <td>7</td>\n",
       "      <td>14</td>\n",
       "    </tr>\n",
       "    <tr>\n",
       "      <th>3</th>\n",
       "      <td>1000</td>\n",
       "      <td>8</td>\n",
       "      <td>14</td>\n",
       "    </tr>\n",
       "    <tr>\n",
       "      <th>4</th>\n",
       "      <td>1000</td>\n",
       "      <td>9</td>\n",
       "      <td>15</td>\n",
       "    </tr>\n",
       "    <tr>\n",
       "      <th>...</th>\n",
       "      <td>...</td>\n",
       "      <td>...</td>\n",
       "      <td>...</td>\n",
       "    </tr>\n",
       "    <tr>\n",
       "      <th>3198</th>\n",
       "      <td>1498</td>\n",
       "      <td>10</td>\n",
       "      <td>21</td>\n",
       "    </tr>\n",
       "    <tr>\n",
       "      <th>3199</th>\n",
       "      <td>1499</td>\n",
       "      <td>9</td>\n",
       "      <td>2</td>\n",
       "    </tr>\n",
       "    <tr>\n",
       "      <th>3200</th>\n",
       "      <td>1499</td>\n",
       "      <td>10</td>\n",
       "      <td>18</td>\n",
       "    </tr>\n",
       "    <tr>\n",
       "      <th>3201</th>\n",
       "      <td>1499</td>\n",
       "      <td>11</td>\n",
       "      <td>18</td>\n",
       "    </tr>\n",
       "    <tr>\n",
       "      <th>3202</th>\n",
       "      <td>1499</td>\n",
       "      <td>12</td>\n",
       "      <td>13</td>\n",
       "    </tr>\n",
       "  </tbody>\n",
       "</table>\n",
       "<p>3203 rows × 3 columns</p>\n",
       "</div>"
      ],
      "text/plain": [
       "      user_id  date_month  gb_per_month\n",
       "0        1000           5             3\n",
       "1        1000           6            23\n",
       "2        1000           7            14\n",
       "3        1000           8            14\n",
       "4        1000           9            15\n",
       "...       ...         ...           ...\n",
       "3198     1498          10            21\n",
       "3199     1499           9             2\n",
       "3200     1499          10            18\n",
       "3201     1499          11            18\n",
       "3202     1499          12            13\n",
       "\n",
       "[3203 rows x 3 columns]"
      ]
     },
     "execution_count": 75,
     "metadata": {},
     "output_type": "execute_result"
    }
   ],
   "source": [
    "internet_grouped = df_internet.groupby(['user_id','date_month'])['mb_used'].agg('sum').reset_index()\n",
    "internet_grouped['mb_used'] = (internet_grouped['mb_used']/1024).apply(np.ceil).astype('int64')\n",
    "internet_grouped.columns = ['user_id','date_month','gb_per_month']\n",
    "internet_grouped"
   ]
  },
  {
   "cell_type": "markdown",
   "id": "1eb200b8",
   "metadata": {},
   "source": [
    "Now the data is grouped properly and ready to be merged. The join must be carried out on the columns with the unique **id** of the subscriber and the number of the month in which the action was performed. In the **how** parameter, it is better to specify *outer*, since one of the subscribers might not use a certain type of service, and such lines may be lost when combined if a different value is specified."
   ]
  },
  {
   "cell_type": "code",
   "execution_count": 76,
   "id": "57ac0021",
   "metadata": {},
   "outputs": [
    {
     "data": {
      "text/html": [
       "<div>\n",
       "<style scoped>\n",
       "    .dataframe tbody tr th:only-of-type {\n",
       "        vertical-align: middle;\n",
       "    }\n",
       "\n",
       "    .dataframe tbody tr th {\n",
       "        vertical-align: top;\n",
       "    }\n",
       "\n",
       "    .dataframe thead th {\n",
       "        text-align: right;\n",
       "    }\n",
       "</style>\n",
       "<table border=\"1\" class=\"dataframe\">\n",
       "  <thead>\n",
       "    <tr style=\"text-align: right;\">\n",
       "      <th></th>\n",
       "      <th>user_id</th>\n",
       "      <th>date_month</th>\n",
       "      <th>calls_per_month</th>\n",
       "      <th>calls_dur_per_month</th>\n",
       "      <th>messages_per_month</th>\n",
       "    </tr>\n",
       "  </thead>\n",
       "  <tbody>\n",
       "    <tr>\n",
       "      <th>0</th>\n",
       "      <td>1000</td>\n",
       "      <td>5</td>\n",
       "      <td>22.0</td>\n",
       "      <td>159.0</td>\n",
       "      <td>22.0</td>\n",
       "    </tr>\n",
       "    <tr>\n",
       "      <th>1</th>\n",
       "      <td>1000</td>\n",
       "      <td>6</td>\n",
       "      <td>43.0</td>\n",
       "      <td>172.0</td>\n",
       "      <td>60.0</td>\n",
       "    </tr>\n",
       "    <tr>\n",
       "      <th>2</th>\n",
       "      <td>1000</td>\n",
       "      <td>7</td>\n",
       "      <td>47.0</td>\n",
       "      <td>340.0</td>\n",
       "      <td>75.0</td>\n",
       "    </tr>\n",
       "    <tr>\n",
       "      <th>3</th>\n",
       "      <td>1000</td>\n",
       "      <td>8</td>\n",
       "      <td>52.0</td>\n",
       "      <td>408.0</td>\n",
       "      <td>81.0</td>\n",
       "    </tr>\n",
       "    <tr>\n",
       "      <th>4</th>\n",
       "      <td>1000</td>\n",
       "      <td>9</td>\n",
       "      <td>58.0</td>\n",
       "      <td>466.0</td>\n",
       "      <td>57.0</td>\n",
       "    </tr>\n",
       "    <tr>\n",
       "      <th>...</th>\n",
       "      <td>...</td>\n",
       "      <td>...</td>\n",
       "      <td>...</td>\n",
       "      <td>...</td>\n",
       "      <td>...</td>\n",
       "    </tr>\n",
       "    <tr>\n",
       "      <th>3208</th>\n",
       "      <td>1489</td>\n",
       "      <td>8</td>\n",
       "      <td>NaN</td>\n",
       "      <td>NaN</td>\n",
       "      <td>17.0</td>\n",
       "    </tr>\n",
       "    <tr>\n",
       "      <th>3209</th>\n",
       "      <td>1489</td>\n",
       "      <td>9</td>\n",
       "      <td>NaN</td>\n",
       "      <td>NaN</td>\n",
       "      <td>32.0</td>\n",
       "    </tr>\n",
       "    <tr>\n",
       "      <th>3210</th>\n",
       "      <td>1489</td>\n",
       "      <td>10</td>\n",
       "      <td>NaN</td>\n",
       "      <td>NaN</td>\n",
       "      <td>21.0</td>\n",
       "    </tr>\n",
       "    <tr>\n",
       "      <th>3211</th>\n",
       "      <td>1489</td>\n",
       "      <td>11</td>\n",
       "      <td>NaN</td>\n",
       "      <td>NaN</td>\n",
       "      <td>20.0</td>\n",
       "    </tr>\n",
       "    <tr>\n",
       "      <th>3212</th>\n",
       "      <td>1489</td>\n",
       "      <td>12</td>\n",
       "      <td>NaN</td>\n",
       "      <td>NaN</td>\n",
       "      <td>35.0</td>\n",
       "    </tr>\n",
       "  </tbody>\n",
       "</table>\n",
       "<p>3213 rows × 5 columns</p>\n",
       "</div>"
      ],
      "text/plain": [
       "      user_id  date_month  calls_per_month  calls_dur_per_month  \\\n",
       "0        1000           5             22.0                159.0   \n",
       "1        1000           6             43.0                172.0   \n",
       "2        1000           7             47.0                340.0   \n",
       "3        1000           8             52.0                408.0   \n",
       "4        1000           9             58.0                466.0   \n",
       "...       ...         ...              ...                  ...   \n",
       "3208     1489           8              NaN                  NaN   \n",
       "3209     1489           9              NaN                  NaN   \n",
       "3210     1489          10              NaN                  NaN   \n",
       "3211     1489          11              NaN                  NaN   \n",
       "3212     1489          12              NaN                  NaN   \n",
       "\n",
       "      messages_per_month  \n",
       "0                   22.0  \n",
       "1                   60.0  \n",
       "2                   75.0  \n",
       "3                   81.0  \n",
       "4                   57.0  \n",
       "...                  ...  \n",
       "3208                17.0  \n",
       "3209                32.0  \n",
       "3210                21.0  \n",
       "3211                20.0  \n",
       "3212                35.0  \n",
       "\n",
       "[3213 rows x 5 columns]"
      ]
     },
     "execution_count": 76,
     "metadata": {},
     "output_type": "execute_result"
    }
   ],
   "source": [
    "merged = pd.merge(calls_grouped,messages_grouped, on=['user_id','date_month'], how='outer')\n",
    "merged"
   ]
  },
  {
   "cell_type": "code",
   "execution_count": 77,
   "id": "ca5cf380",
   "metadata": {
    "scrolled": true
   },
   "outputs": [
    {
     "data": {
      "text/html": [
       "<div>\n",
       "<style scoped>\n",
       "    .dataframe tbody tr th:only-of-type {\n",
       "        vertical-align: middle;\n",
       "    }\n",
       "\n",
       "    .dataframe tbody tr th {\n",
       "        vertical-align: top;\n",
       "    }\n",
       "\n",
       "    .dataframe thead th {\n",
       "        text-align: right;\n",
       "    }\n",
       "</style>\n",
       "<table border=\"1\" class=\"dataframe\">\n",
       "  <thead>\n",
       "    <tr style=\"text-align: right;\">\n",
       "      <th></th>\n",
       "      <th>user_id</th>\n",
       "      <th>date_month</th>\n",
       "      <th>calls_per_month</th>\n",
       "      <th>calls_dur_per_month</th>\n",
       "      <th>messages_per_month</th>\n",
       "      <th>gb_per_month</th>\n",
       "    </tr>\n",
       "  </thead>\n",
       "  <tbody>\n",
       "    <tr>\n",
       "      <th>0</th>\n",
       "      <td>1000</td>\n",
       "      <td>5</td>\n",
       "      <td>22.0</td>\n",
       "      <td>159.0</td>\n",
       "      <td>22.0</td>\n",
       "      <td>3.0</td>\n",
       "    </tr>\n",
       "    <tr>\n",
       "      <th>1</th>\n",
       "      <td>1000</td>\n",
       "      <td>6</td>\n",
       "      <td>43.0</td>\n",
       "      <td>172.0</td>\n",
       "      <td>60.0</td>\n",
       "      <td>23.0</td>\n",
       "    </tr>\n",
       "    <tr>\n",
       "      <th>2</th>\n",
       "      <td>1000</td>\n",
       "      <td>7</td>\n",
       "      <td>47.0</td>\n",
       "      <td>340.0</td>\n",
       "      <td>75.0</td>\n",
       "      <td>14.0</td>\n",
       "    </tr>\n",
       "    <tr>\n",
       "      <th>3</th>\n",
       "      <td>1000</td>\n",
       "      <td>8</td>\n",
       "      <td>52.0</td>\n",
       "      <td>408.0</td>\n",
       "      <td>81.0</td>\n",
       "      <td>14.0</td>\n",
       "    </tr>\n",
       "    <tr>\n",
       "      <th>4</th>\n",
       "      <td>1000</td>\n",
       "      <td>9</td>\n",
       "      <td>58.0</td>\n",
       "      <td>466.0</td>\n",
       "      <td>57.0</td>\n",
       "      <td>15.0</td>\n",
       "    </tr>\n",
       "    <tr>\n",
       "      <th>...</th>\n",
       "      <td>...</td>\n",
       "      <td>...</td>\n",
       "      <td>...</td>\n",
       "      <td>...</td>\n",
       "      <td>...</td>\n",
       "      <td>...</td>\n",
       "    </tr>\n",
       "    <tr>\n",
       "      <th>3209</th>\n",
       "      <td>1489</td>\n",
       "      <td>9</td>\n",
       "      <td>NaN</td>\n",
       "      <td>NaN</td>\n",
       "      <td>32.0</td>\n",
       "      <td>17.0</td>\n",
       "    </tr>\n",
       "    <tr>\n",
       "      <th>3210</th>\n",
       "      <td>1489</td>\n",
       "      <td>10</td>\n",
       "      <td>NaN</td>\n",
       "      <td>NaN</td>\n",
       "      <td>21.0</td>\n",
       "      <td>20.0</td>\n",
       "    </tr>\n",
       "    <tr>\n",
       "      <th>3211</th>\n",
       "      <td>1489</td>\n",
       "      <td>11</td>\n",
       "      <td>NaN</td>\n",
       "      <td>NaN</td>\n",
       "      <td>20.0</td>\n",
       "      <td>18.0</td>\n",
       "    </tr>\n",
       "    <tr>\n",
       "      <th>3212</th>\n",
       "      <td>1489</td>\n",
       "      <td>12</td>\n",
       "      <td>NaN</td>\n",
       "      <td>NaN</td>\n",
       "      <td>35.0</td>\n",
       "      <td>17.0</td>\n",
       "    </tr>\n",
       "    <tr>\n",
       "      <th>3213</th>\n",
       "      <td>1476</td>\n",
       "      <td>4</td>\n",
       "      <td>NaN</td>\n",
       "      <td>NaN</td>\n",
       "      <td>NaN</td>\n",
       "      <td>1.0</td>\n",
       "    </tr>\n",
       "  </tbody>\n",
       "</table>\n",
       "<p>3214 rows × 6 columns</p>\n",
       "</div>"
      ],
      "text/plain": [
       "      user_id  date_month  calls_per_month  calls_dur_per_month  \\\n",
       "0        1000           5             22.0                159.0   \n",
       "1        1000           6             43.0                172.0   \n",
       "2        1000           7             47.0                340.0   \n",
       "3        1000           8             52.0                408.0   \n",
       "4        1000           9             58.0                466.0   \n",
       "...       ...         ...              ...                  ...   \n",
       "3209     1489           9              NaN                  NaN   \n",
       "3210     1489          10              NaN                  NaN   \n",
       "3211     1489          11              NaN                  NaN   \n",
       "3212     1489          12              NaN                  NaN   \n",
       "3213     1476           4              NaN                  NaN   \n",
       "\n",
       "      messages_per_month  gb_per_month  \n",
       "0                   22.0           3.0  \n",
       "1                   60.0          23.0  \n",
       "2                   75.0          14.0  \n",
       "3                   81.0          14.0  \n",
       "4                   57.0          15.0  \n",
       "...                  ...           ...  \n",
       "3209                32.0          17.0  \n",
       "3210                21.0          20.0  \n",
       "3211                20.0          18.0  \n",
       "3212                35.0          17.0  \n",
       "3213                 NaN           1.0  \n",
       "\n",
       "[3214 rows x 6 columns]"
      ]
     },
     "execution_count": 77,
     "metadata": {},
     "output_type": "execute_result"
    }
   ],
   "source": [
    "merged = pd.merge(merged,internet_grouped, on=['user_id','date_month'], how='outer')\n",
    "merged"
   ]
  },
  {
   "cell_type": "code",
   "execution_count": 78,
   "id": "c40739ca",
   "metadata": {},
   "outputs": [
    {
     "data": {
      "text/plain": [
       "1"
      ]
     },
     "execution_count": 78,
     "metadata": {},
     "output_type": "execute_result"
    }
   ],
   "source": [
    "df_users.groupby('user_id')['tariff'].value_counts().max()"
   ]
  },
  {
   "cell_type": "markdown",
   "id": "c56ab303",
   "metadata": {},
   "source": [
    "The maximum value for the number of available tariffs for each subscriber is 1, which means that there were no subscribers in this sample who changed the \"ultra\" tariff to \"smart\" or vice versa.\n",
    "\n",
    "Now let's add a column with the name of the tariff for each subscriber."
   ]
  },
  {
   "cell_type": "code",
   "execution_count": 79,
   "id": "1d51c54b",
   "metadata": {},
   "outputs": [
    {
     "name": "stderr",
     "output_type": "stream",
     "text": [
      "/var/folders/l7/5cd_m6hn1rl9r89zycsz4t400000gn/T/ipykernel_55241/2641364452.py:1: FutureWarning: Indexing with multiple keys (implicitly converted to a tuple of keys) will be deprecated, use a list instead.\n",
      "  tariffs_and_city_grouped = df_users.groupby('user_id')['city','tariff'].first().reset_index()\n"
     ]
    },
    {
     "data": {
      "text/html": [
       "<div>\n",
       "<style scoped>\n",
       "    .dataframe tbody tr th:only-of-type {\n",
       "        vertical-align: middle;\n",
       "    }\n",
       "\n",
       "    .dataframe tbody tr th {\n",
       "        vertical-align: top;\n",
       "    }\n",
       "\n",
       "    .dataframe thead th {\n",
       "        text-align: right;\n",
       "    }\n",
       "</style>\n",
       "<table border=\"1\" class=\"dataframe\">\n",
       "  <thead>\n",
       "    <tr style=\"text-align: right;\">\n",
       "      <th></th>\n",
       "      <th>user_id</th>\n",
       "      <th>city</th>\n",
       "      <th>tariff</th>\n",
       "    </tr>\n",
       "  </thead>\n",
       "  <tbody>\n",
       "    <tr>\n",
       "      <th>0</th>\n",
       "      <td>1000</td>\n",
       "      <td>Краснодар</td>\n",
       "      <td>ultra</td>\n",
       "    </tr>\n",
       "    <tr>\n",
       "      <th>1</th>\n",
       "      <td>1001</td>\n",
       "      <td>Москва</td>\n",
       "      <td>smart</td>\n",
       "    </tr>\n",
       "    <tr>\n",
       "      <th>2</th>\n",
       "      <td>1002</td>\n",
       "      <td>Стерлитамак</td>\n",
       "      <td>smart</td>\n",
       "    </tr>\n",
       "    <tr>\n",
       "      <th>3</th>\n",
       "      <td>1003</td>\n",
       "      <td>Москва</td>\n",
       "      <td>ultra</td>\n",
       "    </tr>\n",
       "    <tr>\n",
       "      <th>4</th>\n",
       "      <td>1004</td>\n",
       "      <td>Новокузнецк</td>\n",
       "      <td>ultra</td>\n",
       "    </tr>\n",
       "    <tr>\n",
       "      <th>...</th>\n",
       "      <td>...</td>\n",
       "      <td>...</td>\n",
       "      <td>...</td>\n",
       "    </tr>\n",
       "    <tr>\n",
       "      <th>495</th>\n",
       "      <td>1495</td>\n",
       "      <td>Иркутск</td>\n",
       "      <td>ultra</td>\n",
       "    </tr>\n",
       "    <tr>\n",
       "      <th>496</th>\n",
       "      <td>1496</td>\n",
       "      <td>Вологда</td>\n",
       "      <td>smart</td>\n",
       "    </tr>\n",
       "    <tr>\n",
       "      <th>497</th>\n",
       "      <td>1497</td>\n",
       "      <td>Челябинск</td>\n",
       "      <td>smart</td>\n",
       "    </tr>\n",
       "    <tr>\n",
       "      <th>498</th>\n",
       "      <td>1498</td>\n",
       "      <td>Владикавказ</td>\n",
       "      <td>smart</td>\n",
       "    </tr>\n",
       "    <tr>\n",
       "      <th>499</th>\n",
       "      <td>1499</td>\n",
       "      <td>Пермь</td>\n",
       "      <td>smart</td>\n",
       "    </tr>\n",
       "  </tbody>\n",
       "</table>\n",
       "<p>500 rows × 3 columns</p>\n",
       "</div>"
      ],
      "text/plain": [
       "     user_id         city tariff\n",
       "0       1000    Краснодар  ultra\n",
       "1       1001       Москва  smart\n",
       "2       1002  Стерлитамак  smart\n",
       "3       1003       Москва  ultra\n",
       "4       1004  Новокузнецк  ultra\n",
       "..       ...          ...    ...\n",
       "495     1495      Иркутск  ultra\n",
       "496     1496      Вологда  smart\n",
       "497     1497    Челябинск  smart\n",
       "498     1498  Владикавказ  smart\n",
       "499     1499        Пермь  smart\n",
       "\n",
       "[500 rows x 3 columns]"
      ]
     },
     "execution_count": 79,
     "metadata": {},
     "output_type": "execute_result"
    }
   ],
   "source": [
    "tariffs_and_city_grouped = df_users.groupby('user_id')['city','tariff'].first().reset_index()\n",
    "tariffs_and_city_grouped = pd.DataFrame(tariffs_and_city_grouped)\n",
    "tariffs_and_city_grouped"
   ]
  },
  {
   "cell_type": "code",
   "execution_count": 80,
   "id": "b4500b94",
   "metadata": {
    "scrolled": true
   },
   "outputs": [
    {
     "data": {
      "text/html": [
       "<div>\n",
       "<style scoped>\n",
       "    .dataframe tbody tr th:only-of-type {\n",
       "        vertical-align: middle;\n",
       "    }\n",
       "\n",
       "    .dataframe tbody tr th {\n",
       "        vertical-align: top;\n",
       "    }\n",
       "\n",
       "    .dataframe thead th {\n",
       "        text-align: right;\n",
       "    }\n",
       "</style>\n",
       "<table border=\"1\" class=\"dataframe\">\n",
       "  <thead>\n",
       "    <tr style=\"text-align: right;\">\n",
       "      <th></th>\n",
       "      <th>user_id</th>\n",
       "      <th>date_month</th>\n",
       "      <th>calls_per_month</th>\n",
       "      <th>calls_dur_per_month</th>\n",
       "      <th>messages_per_month</th>\n",
       "      <th>gb_per_month</th>\n",
       "      <th>city</th>\n",
       "      <th>tariff</th>\n",
       "    </tr>\n",
       "  </thead>\n",
       "  <tbody>\n",
       "    <tr>\n",
       "      <th>0</th>\n",
       "      <td>1000</td>\n",
       "      <td>5.0</td>\n",
       "      <td>22.0</td>\n",
       "      <td>159.0</td>\n",
       "      <td>22.0</td>\n",
       "      <td>3.0</td>\n",
       "      <td>Краснодар</td>\n",
       "      <td>ultra</td>\n",
       "    </tr>\n",
       "    <tr>\n",
       "      <th>1</th>\n",
       "      <td>1000</td>\n",
       "      <td>6.0</td>\n",
       "      <td>43.0</td>\n",
       "      <td>172.0</td>\n",
       "      <td>60.0</td>\n",
       "      <td>23.0</td>\n",
       "      <td>Краснодар</td>\n",
       "      <td>ultra</td>\n",
       "    </tr>\n",
       "    <tr>\n",
       "      <th>2</th>\n",
       "      <td>1000</td>\n",
       "      <td>7.0</td>\n",
       "      <td>47.0</td>\n",
       "      <td>340.0</td>\n",
       "      <td>75.0</td>\n",
       "      <td>14.0</td>\n",
       "      <td>Краснодар</td>\n",
       "      <td>ultra</td>\n",
       "    </tr>\n",
       "    <tr>\n",
       "      <th>3</th>\n",
       "      <td>1000</td>\n",
       "      <td>8.0</td>\n",
       "      <td>52.0</td>\n",
       "      <td>408.0</td>\n",
       "      <td>81.0</td>\n",
       "      <td>14.0</td>\n",
       "      <td>Краснодар</td>\n",
       "      <td>ultra</td>\n",
       "    </tr>\n",
       "    <tr>\n",
       "      <th>4</th>\n",
       "      <td>1000</td>\n",
       "      <td>9.0</td>\n",
       "      <td>58.0</td>\n",
       "      <td>466.0</td>\n",
       "      <td>57.0</td>\n",
       "      <td>15.0</td>\n",
       "      <td>Краснодар</td>\n",
       "      <td>ultra</td>\n",
       "    </tr>\n",
       "    <tr>\n",
       "      <th>5</th>\n",
       "      <td>1000</td>\n",
       "      <td>10.0</td>\n",
       "      <td>57.0</td>\n",
       "      <td>350.0</td>\n",
       "      <td>73.0</td>\n",
       "      <td>15.0</td>\n",
       "      <td>Краснодар</td>\n",
       "      <td>ultra</td>\n",
       "    </tr>\n",
       "    <tr>\n",
       "      <th>6</th>\n",
       "      <td>1000</td>\n",
       "      <td>11.0</td>\n",
       "      <td>43.0</td>\n",
       "      <td>338.0</td>\n",
       "      <td>58.0</td>\n",
       "      <td>15.0</td>\n",
       "      <td>Краснодар</td>\n",
       "      <td>ultra</td>\n",
       "    </tr>\n",
       "    <tr>\n",
       "      <th>7</th>\n",
       "      <td>1000</td>\n",
       "      <td>12.0</td>\n",
       "      <td>46.0</td>\n",
       "      <td>333.0</td>\n",
       "      <td>70.0</td>\n",
       "      <td>10.0</td>\n",
       "      <td>Краснодар</td>\n",
       "      <td>ultra</td>\n",
       "    </tr>\n",
       "    <tr>\n",
       "      <th>8</th>\n",
       "      <td>1001</td>\n",
       "      <td>11.0</td>\n",
       "      <td>59.0</td>\n",
       "      <td>430.0</td>\n",
       "      <td>NaN</td>\n",
       "      <td>18.0</td>\n",
       "      <td>Москва</td>\n",
       "      <td>smart</td>\n",
       "    </tr>\n",
       "    <tr>\n",
       "      <th>9</th>\n",
       "      <td>1001</td>\n",
       "      <td>12.0</td>\n",
       "      <td>63.0</td>\n",
       "      <td>414.0</td>\n",
       "      <td>NaN</td>\n",
       "      <td>14.0</td>\n",
       "      <td>Москва</td>\n",
       "      <td>smart</td>\n",
       "    </tr>\n",
       "    <tr>\n",
       "      <th>10</th>\n",
       "      <td>1002</td>\n",
       "      <td>6.0</td>\n",
       "      <td>15.0</td>\n",
       "      <td>117.0</td>\n",
       "      <td>4.0</td>\n",
       "      <td>11.0</td>\n",
       "      <td>Стерлитамак</td>\n",
       "      <td>smart</td>\n",
       "    </tr>\n",
       "    <tr>\n",
       "      <th>11</th>\n",
       "      <td>1002</td>\n",
       "      <td>7.0</td>\n",
       "      <td>26.0</td>\n",
       "      <td>214.0</td>\n",
       "      <td>11.0</td>\n",
       "      <td>18.0</td>\n",
       "      <td>Стерлитамак</td>\n",
       "      <td>smart</td>\n",
       "    </tr>\n",
       "    <tr>\n",
       "      <th>12</th>\n",
       "      <td>1002</td>\n",
       "      <td>8.0</td>\n",
       "      <td>42.0</td>\n",
       "      <td>289.0</td>\n",
       "      <td>13.0</td>\n",
       "      <td>20.0</td>\n",
       "      <td>Стерлитамак</td>\n",
       "      <td>smart</td>\n",
       "    </tr>\n",
       "    <tr>\n",
       "      <th>13</th>\n",
       "      <td>1002</td>\n",
       "      <td>9.0</td>\n",
       "      <td>36.0</td>\n",
       "      <td>206.0</td>\n",
       "      <td>4.0</td>\n",
       "      <td>17.0</td>\n",
       "      <td>Стерлитамак</td>\n",
       "      <td>smart</td>\n",
       "    </tr>\n",
       "    <tr>\n",
       "      <th>14</th>\n",
       "      <td>1002</td>\n",
       "      <td>10.0</td>\n",
       "      <td>33.0</td>\n",
       "      <td>212.0</td>\n",
       "      <td>10.0</td>\n",
       "      <td>14.0</td>\n",
       "      <td>Стерлитамак</td>\n",
       "      <td>smart</td>\n",
       "    </tr>\n",
       "  </tbody>\n",
       "</table>\n",
       "</div>"
      ],
      "text/plain": [
       "    user_id  date_month  calls_per_month  calls_dur_per_month  \\\n",
       "0      1000         5.0             22.0                159.0   \n",
       "1      1000         6.0             43.0                172.0   \n",
       "2      1000         7.0             47.0                340.0   \n",
       "3      1000         8.0             52.0                408.0   \n",
       "4      1000         9.0             58.0                466.0   \n",
       "5      1000        10.0             57.0                350.0   \n",
       "6      1000        11.0             43.0                338.0   \n",
       "7      1000        12.0             46.0                333.0   \n",
       "8      1001        11.0             59.0                430.0   \n",
       "9      1001        12.0             63.0                414.0   \n",
       "10     1002         6.0             15.0                117.0   \n",
       "11     1002         7.0             26.0                214.0   \n",
       "12     1002         8.0             42.0                289.0   \n",
       "13     1002         9.0             36.0                206.0   \n",
       "14     1002        10.0             33.0                212.0   \n",
       "\n",
       "    messages_per_month  gb_per_month         city tariff  \n",
       "0                 22.0           3.0    Краснодар  ultra  \n",
       "1                 60.0          23.0    Краснодар  ultra  \n",
       "2                 75.0          14.0    Краснодар  ultra  \n",
       "3                 81.0          14.0    Краснодар  ultra  \n",
       "4                 57.0          15.0    Краснодар  ultra  \n",
       "5                 73.0          15.0    Краснодар  ultra  \n",
       "6                 58.0          15.0    Краснодар  ultra  \n",
       "7                 70.0          10.0    Краснодар  ultra  \n",
       "8                  NaN          18.0       Москва  smart  \n",
       "9                  NaN          14.0       Москва  smart  \n",
       "10                 4.0          11.0  Стерлитамак  smart  \n",
       "11                11.0          18.0  Стерлитамак  smart  \n",
       "12                13.0          20.0  Стерлитамак  smart  \n",
       "13                 4.0          17.0  Стерлитамак  smart  \n",
       "14                10.0          14.0  Стерлитамак  smart  "
      ]
     },
     "execution_count": 80,
     "metadata": {},
     "output_type": "execute_result"
    }
   ],
   "source": [
    "merged = pd.merge(merged,tariffs_and_city_grouped, on=['user_id'], how='outer')\n",
    "merged.head(15)"
   ]
  },
  {
   "cell_type": "markdown",
   "id": "5a714cea",
   "metadata": {},
   "source": [
    "Now, based on the received summary data with spending limits by month, it is possible to calculate monthly revenue from each user. To do this, we will write a function using the conditions of the tariffs given at the beginning of the study."
   ]
  },
  {
   "cell_type": "code",
   "execution_count": 81,
   "id": "7359849f",
   "metadata": {},
   "outputs": [],
   "source": [
    "def revenue (calls_dur_per_month, messages_per_month, gb_per_month, tariff):\n",
    "\n",
    "    calls_overrun = 0\n",
    "    messages_overrun = 0\n",
    "    internet_overrun = 0\n",
    "    \n",
    "    if tariff == 'smart':\n",
    "        \n",
    "        if (calls_dur_per_month - S_minutes_limit) > 0:\n",
    "            calls_overrun = (calls_dur_per_month - S_minutes_limit)* S_extra_minute\n",
    "        if (messages_per_month - S_messages_limit) > 0:\n",
    "            messages_overrun = (messages_per_month - S_messages_limit) * S_extra_message\n",
    "        if (gb_per_month - S_internet_limit) > 0:\n",
    "            internet_overrun = (gb_per_month - S_internet_limit) * S_extra_gb\n",
    "            \n",
    "        return calls_overrun + messages_overrun + internet_overrun + S_monthly_fee\n",
    "\n",
    "    if tariff == 'ultra':\n",
    "        \n",
    "        if (calls_dur_per_month - U_minutes_limit) > 0:\n",
    "            calls_overrun = (calls_dur_per_month - U_minutes_limit)* U_extra_minute\n",
    "        if (messages_per_month - U_messages_limit) > 0:\n",
    "            messages_overrun = (messages_per_month - U_messages_limit) * U_extra_message\n",
    "        if (gb_per_month - U_internet_limit) > 0:\n",
    "            internet_overrun = (gb_per_month - U_internet_limit) * U_extra_gb\n",
    "            \n",
    "        return calls_overrun + messages_overrun + internet_overrun + U_monthly_fee"
   ]
  },
  {
   "cell_type": "code",
   "execution_count": 82,
   "id": "c39b44dc",
   "metadata": {},
   "outputs": [],
   "source": [
    "merged['revenue'] = (merged.apply(lambda x: revenue (\n",
    "    x.calls_dur_per_month, x.messages_per_month, x.gb_per_month, x.tariff),axis=1))"
   ]
  },
  {
   "cell_type": "markdown",
   "id": "ed3f9776",
   "metadata": {},
   "source": [
    "Let's check how the function worked."
   ]
  },
  {
   "cell_type": "code",
   "execution_count": 83,
   "id": "f744654c",
   "metadata": {},
   "outputs": [
    {
     "data": {
      "text/html": [
       "<div>\n",
       "<style scoped>\n",
       "    .dataframe tbody tr th:only-of-type {\n",
       "        vertical-align: middle;\n",
       "    }\n",
       "\n",
       "    .dataframe tbody tr th {\n",
       "        vertical-align: top;\n",
       "    }\n",
       "\n",
       "    .dataframe thead th {\n",
       "        text-align: right;\n",
       "    }\n",
       "</style>\n",
       "<table border=\"1\" class=\"dataframe\">\n",
       "  <thead>\n",
       "    <tr style=\"text-align: right;\">\n",
       "      <th></th>\n",
       "      <th>user_id</th>\n",
       "      <th>date_month</th>\n",
       "      <th>calls_per_month</th>\n",
       "      <th>calls_dur_per_month</th>\n",
       "      <th>messages_per_month</th>\n",
       "      <th>gb_per_month</th>\n",
       "      <th>city</th>\n",
       "      <th>tariff</th>\n",
       "      <th>revenue</th>\n",
       "    </tr>\n",
       "  </thead>\n",
       "  <tbody>\n",
       "    <tr>\n",
       "      <th>32</th>\n",
       "      <td>1005</td>\n",
       "      <td>3.0</td>\n",
       "      <td>77.0</td>\n",
       "      <td>606.0</td>\n",
       "      <td>56.0</td>\n",
       "      <td>11.0</td>\n",
       "      <td>Набережные Челны</td>\n",
       "      <td>smart</td>\n",
       "      <td>886.0</td>\n",
       "    </tr>\n",
       "    <tr>\n",
       "      <th>33</th>\n",
       "      <td>1005</td>\n",
       "      <td>4.0</td>\n",
       "      <td>101.0</td>\n",
       "      <td>712.0</td>\n",
       "      <td>41.0</td>\n",
       "      <td>10.0</td>\n",
       "      <td>Набережные Челны</td>\n",
       "      <td>smart</td>\n",
       "      <td>1186.0</td>\n",
       "    </tr>\n",
       "    <tr>\n",
       "      <th>34</th>\n",
       "      <td>1005</td>\n",
       "      <td>5.0</td>\n",
       "      <td>73.0</td>\n",
       "      <td>595.0</td>\n",
       "      <td>42.0</td>\n",
       "      <td>8.0</td>\n",
       "      <td>Набережные Челны</td>\n",
       "      <td>smart</td>\n",
       "      <td>835.0</td>\n",
       "    </tr>\n",
       "    <tr>\n",
       "      <th>35</th>\n",
       "      <td>1005</td>\n",
       "      <td>6.0</td>\n",
       "      <td>80.0</td>\n",
       "      <td>612.0</td>\n",
       "      <td>47.0</td>\n",
       "      <td>10.0</td>\n",
       "      <td>Набережные Челны</td>\n",
       "      <td>smart</td>\n",
       "      <td>886.0</td>\n",
       "    </tr>\n",
       "    <tr>\n",
       "      <th>36</th>\n",
       "      <td>1005</td>\n",
       "      <td>7.0</td>\n",
       "      <td>77.0</td>\n",
       "      <td>569.0</td>\n",
       "      <td>56.0</td>\n",
       "      <td>8.0</td>\n",
       "      <td>Набережные Челны</td>\n",
       "      <td>smart</td>\n",
       "      <td>775.0</td>\n",
       "    </tr>\n",
       "  </tbody>\n",
       "</table>\n",
       "</div>"
      ],
      "text/plain": [
       "    user_id  date_month  calls_per_month  calls_dur_per_month  \\\n",
       "32     1005         3.0             77.0                606.0   \n",
       "33     1005         4.0            101.0                712.0   \n",
       "34     1005         5.0             73.0                595.0   \n",
       "35     1005         6.0             80.0                612.0   \n",
       "36     1005         7.0             77.0                569.0   \n",
       "\n",
       "    messages_per_month  gb_per_month              city tariff  revenue  \n",
       "32                56.0          11.0  Набережные Челны  smart    886.0  \n",
       "33                41.0          10.0  Набережные Челны  smart   1186.0  \n",
       "34                42.0           8.0  Набережные Челны  smart    835.0  \n",
       "35                47.0          10.0  Набережные Челны  smart    886.0  \n",
       "36                56.0           8.0  Набережные Челны  smart    775.0  "
      ]
     },
     "execution_count": 83,
     "metadata": {},
     "output_type": "execute_result"
    }
   ],
   "source": [
    "merged.query('tariff == \"smart\" and calls_dur_per_month > 500').head()"
   ]
  },
  {
   "cell_type": "code",
   "execution_count": 84,
   "id": "302788ad",
   "metadata": {},
   "outputs": [
    {
     "data": {
      "text/html": [
       "<div>\n",
       "<style scoped>\n",
       "    .dataframe tbody tr th:only-of-type {\n",
       "        vertical-align: middle;\n",
       "    }\n",
       "\n",
       "    .dataframe tbody tr th {\n",
       "        vertical-align: top;\n",
       "    }\n",
       "\n",
       "    .dataframe thead th {\n",
       "        text-align: right;\n",
       "    }\n",
       "</style>\n",
       "<table border=\"1\" class=\"dataframe\">\n",
       "  <thead>\n",
       "    <tr style=\"text-align: right;\">\n",
       "      <th></th>\n",
       "      <th>user_id</th>\n",
       "      <th>date_month</th>\n",
       "      <th>calls_per_month</th>\n",
       "      <th>calls_dur_per_month</th>\n",
       "      <th>messages_per_month</th>\n",
       "      <th>gb_per_month</th>\n",
       "      <th>city</th>\n",
       "      <th>tariff</th>\n",
       "      <th>revenue</th>\n",
       "    </tr>\n",
       "  </thead>\n",
       "  <tbody>\n",
       "    <tr>\n",
       "      <th>159</th>\n",
       "      <td>1024</td>\n",
       "      <td>11.0</td>\n",
       "      <td>157.0</td>\n",
       "      <td>1146.0</td>\n",
       "      <td>NaN</td>\n",
       "      <td>43.0</td>\n",
       "      <td>Санкт-Петербург</td>\n",
       "      <td>ultra</td>\n",
       "      <td>3900.0</td>\n",
       "    </tr>\n",
       "    <tr>\n",
       "      <th>160</th>\n",
       "      <td>1024</td>\n",
       "      <td>12.0</td>\n",
       "      <td>136.0</td>\n",
       "      <td>949.0</td>\n",
       "      <td>NaN</td>\n",
       "      <td>36.0</td>\n",
       "      <td>Санкт-Петербург</td>\n",
       "      <td>ultra</td>\n",
       "      <td>2850.0</td>\n",
       "    </tr>\n",
       "    <tr>\n",
       "      <th>311</th>\n",
       "      <td>1050</td>\n",
       "      <td>7.0</td>\n",
       "      <td>35.0</td>\n",
       "      <td>209.0</td>\n",
       "      <td>52.0</td>\n",
       "      <td>35.0</td>\n",
       "      <td>Тюмень</td>\n",
       "      <td>ultra</td>\n",
       "      <td>2700.0</td>\n",
       "    </tr>\n",
       "    <tr>\n",
       "      <th>383</th>\n",
       "      <td>1060</td>\n",
       "      <td>12.0</td>\n",
       "      <td>184.0</td>\n",
       "      <td>1233.0</td>\n",
       "      <td>52.0</td>\n",
       "      <td>43.0</td>\n",
       "      <td>Калуга</td>\n",
       "      <td>ultra</td>\n",
       "      <td>3900.0</td>\n",
       "    </tr>\n",
       "    <tr>\n",
       "      <th>782</th>\n",
       "      <td>1124</td>\n",
       "      <td>10.0</td>\n",
       "      <td>152.0</td>\n",
       "      <td>1225.0</td>\n",
       "      <td>121.0</td>\n",
       "      <td>49.0</td>\n",
       "      <td>Махачкала</td>\n",
       "      <td>ultra</td>\n",
       "      <td>4800.0</td>\n",
       "    </tr>\n",
       "  </tbody>\n",
       "</table>\n",
       "</div>"
      ],
      "text/plain": [
       "     user_id  date_month  calls_per_month  calls_dur_per_month  \\\n",
       "159     1024        11.0            157.0               1146.0   \n",
       "160     1024        12.0            136.0                949.0   \n",
       "311     1050         7.0             35.0                209.0   \n",
       "383     1060        12.0            184.0               1233.0   \n",
       "782     1124        10.0            152.0               1225.0   \n",
       "\n",
       "     messages_per_month  gb_per_month             city tariff  revenue  \n",
       "159                 NaN          43.0  Санкт-Петербург  ultra   3900.0  \n",
       "160                 NaN          36.0  Санкт-Петербург  ultra   2850.0  \n",
       "311                52.0          35.0           Тюмень  ultra   2700.0  \n",
       "383                52.0          43.0           Калуга  ultra   3900.0  \n",
       "782               121.0          49.0        Махачкала  ultra   4800.0  "
      ]
     },
     "execution_count": 84,
     "metadata": {},
     "output_type": "execute_result"
    }
   ],
   "source": [
    "merged.query('tariff == \"ultra\" and gb_per_month > 30').head()"
   ]
  },
  {
   "cell_type": "markdown",
   "id": "9d009e5c",
   "metadata": {},
   "source": [
    "The profit received in the **revenue** column corresponds to the conditions of the operator's tariffs. The function worked correctly. At the same time, if the subscriber did not use any type of services (example: did not send messages) the column indicates Nan. It is better to replace them with zero values."
   ]
  },
  {
   "cell_type": "code",
   "execution_count": 85,
   "id": "7e793291",
   "metadata": {},
   "outputs": [],
   "source": [
    "merged = merged.fillna(0)"
   ]
  },
  {
   "cell_type": "markdown",
   "id": "059b7c26",
   "metadata": {},
   "source": [
    "Next, we need to calculate how many minutes, messages and Internet traffic each user needed on average. We use the median value for these purposes. "
   ]
  },
  {
   "cell_type": "code",
   "execution_count": 86,
   "id": "b910e817",
   "metadata": {
    "scrolled": true
   },
   "outputs": [
    {
     "data": {
      "text/html": [
       "<div>\n",
       "<style scoped>\n",
       "    .dataframe tbody tr th:only-of-type {\n",
       "        vertical-align: middle;\n",
       "    }\n",
       "\n",
       "    .dataframe tbody tr th {\n",
       "        vertical-align: top;\n",
       "    }\n",
       "\n",
       "    .dataframe thead th {\n",
       "        text-align: right;\n",
       "    }\n",
       "</style>\n",
       "<table border=\"1\" class=\"dataframe\">\n",
       "  <thead>\n",
       "    <tr style=\"text-align: right;\">\n",
       "      <th></th>\n",
       "      <th>user_id</th>\n",
       "      <th>calls_dur_per_month</th>\n",
       "      <th>gb_per_month</th>\n",
       "      <th>messages_per_month</th>\n",
       "      <th>revenue</th>\n",
       "      <th>city</th>\n",
       "      <th>tariff</th>\n",
       "    </tr>\n",
       "  </thead>\n",
       "  <tbody>\n",
       "    <tr>\n",
       "      <th>0</th>\n",
       "      <td>1000</td>\n",
       "      <td>339.0</td>\n",
       "      <td>14.5</td>\n",
       "      <td>65.0</td>\n",
       "      <td>1950.0</td>\n",
       "      <td>Краснодар</td>\n",
       "      <td>ultra</td>\n",
       "    </tr>\n",
       "    <tr>\n",
       "      <th>1</th>\n",
       "      <td>1001</td>\n",
       "      <td>422.0</td>\n",
       "      <td>16.0</td>\n",
       "      <td>0.0</td>\n",
       "      <td>850.0</td>\n",
       "      <td>Москва</td>\n",
       "      <td>smart</td>\n",
       "    </tr>\n",
       "    <tr>\n",
       "      <th>2</th>\n",
       "      <td>1002</td>\n",
       "      <td>214.0</td>\n",
       "      <td>18.0</td>\n",
       "      <td>11.0</td>\n",
       "      <td>1150.0</td>\n",
       "      <td>Стерлитамак</td>\n",
       "      <td>smart</td>\n",
       "    </tr>\n",
       "    <tr>\n",
       "      <th>3</th>\n",
       "      <td>1003</td>\n",
       "      <td>824.0</td>\n",
       "      <td>12.0</td>\n",
       "      <td>83.0</td>\n",
       "      <td>1950.0</td>\n",
       "      <td>Москва</td>\n",
       "      <td>ultra</td>\n",
       "    </tr>\n",
       "    <tr>\n",
       "      <th>4</th>\n",
       "      <td>1004</td>\n",
       "      <td>132.5</td>\n",
       "      <td>18.0</td>\n",
       "      <td>154.5</td>\n",
       "      <td>1950.0</td>\n",
       "      <td>Новокузнецк</td>\n",
       "      <td>ultra</td>\n",
       "    </tr>\n",
       "  </tbody>\n",
       "</table>\n",
       "</div>"
      ],
      "text/plain": [
       "   user_id  calls_dur_per_month  gb_per_month  messages_per_month  revenue  \\\n",
       "0     1000                339.0          14.5                65.0   1950.0   \n",
       "1     1001                422.0          16.0                 0.0    850.0   \n",
       "2     1002                214.0          18.0                11.0   1150.0   \n",
       "3     1003                824.0          12.0                83.0   1950.0   \n",
       "4     1004                132.5          18.0               154.5   1950.0   \n",
       "\n",
       "          city tariff  \n",
       "0    Краснодар  ultra  \n",
       "1       Москва  smart  \n",
       "2  Стерлитамак  smart  \n",
       "3       Москва  ultra  \n",
       "4  Новокузнецк  ultra  "
      ]
     },
     "execution_count": 86,
     "metadata": {},
     "output_type": "execute_result"
    }
   ],
   "source": [
    "median_per_user = merged.pivot_table(\n",
    "    index='user_id', values=['calls_dur_per_month','messages_per_month','gb_per_month','revenue'], aggfunc='median')\n",
    "median_per_user = pd.merge(median_per_user,tariffs_and_city_grouped, on=['user_id'], how='outer')\n",
    "median_per_user.head()"
   ]
  },
  {
   "cell_type": "markdown",
   "id": "0de8d070",
   "metadata": {},
   "source": [
    "At this stage, you can proceed to data analysis.\n",
    "___"
   ]
  },
  {
   "cell_type": "markdown",
   "id": "ccee68f1",
   "metadata": {},
   "source": [
    "## Data analysis"
   ]
  },
  {
   "cell_type": "code",
   "execution_count": 87,
   "id": "36cffafd",
   "metadata": {
    "scrolled": true
   },
   "outputs": [
    {
     "data": {
      "text/html": [
       "<div>\n",
       "<style scoped>\n",
       "    .dataframe tbody tr th:only-of-type {\n",
       "        vertical-align: middle;\n",
       "    }\n",
       "\n",
       "    .dataframe tbody tr th {\n",
       "        vertical-align: top;\n",
       "    }\n",
       "\n",
       "    .dataframe thead tr th {\n",
       "        text-align: left;\n",
       "    }\n",
       "</style>\n",
       "<table border=\"1\" class=\"dataframe\">\n",
       "  <thead>\n",
       "    <tr>\n",
       "      <th>tariff</th>\n",
       "      <th colspan=\"3\" halign=\"left\">smart</th>\n",
       "      <th colspan=\"3\" halign=\"left\">ultra</th>\n",
       "    </tr>\n",
       "    <tr>\n",
       "      <th></th>\n",
       "      <th>calls_dur_per_month</th>\n",
       "      <th>gb_per_month</th>\n",
       "      <th>messages_per_month</th>\n",
       "      <th>calls_dur_per_month</th>\n",
       "      <th>gb_per_month</th>\n",
       "      <th>messages_per_month</th>\n",
       "    </tr>\n",
       "  </thead>\n",
       "  <tbody>\n",
       "    <tr>\n",
       "      <th>mean</th>\n",
       "      <td>436.222222</td>\n",
       "      <td>16.878917</td>\n",
       "      <td>33.673789</td>\n",
       "      <td>553.761745</td>\n",
       "      <td>20.181208</td>\n",
       "      <td>56.600671</td>\n",
       "    </tr>\n",
       "    <tr>\n",
       "      <th>median</th>\n",
       "      <td>439.500000</td>\n",
       "      <td>17.000000</td>\n",
       "      <td>28.500000</td>\n",
       "      <td>533.500000</td>\n",
       "      <td>20.000000</td>\n",
       "      <td>47.500000</td>\n",
       "    </tr>\n",
       "    <tr>\n",
       "      <th>var</th>\n",
       "      <td>26157.241905</td>\n",
       "      <td>17.337440</td>\n",
       "      <td>785.603997</td>\n",
       "      <td>93752.964810</td>\n",
       "      <td>78.098699</td>\n",
       "      <td>2429.675608</td>\n",
       "    </tr>\n",
       "    <tr>\n",
       "      <th>std</th>\n",
       "      <td>161.732006</td>\n",
       "      <td>4.163825</td>\n",
       "      <td>28.028628</td>\n",
       "      <td>306.191059</td>\n",
       "      <td>8.837347</td>\n",
       "      <td>49.291740</td>\n",
       "    </tr>\n",
       "  </tbody>\n",
       "</table>\n",
       "</div>"
      ],
      "text/plain": [
       "tariff               smart                                  \\\n",
       "       calls_dur_per_month gb_per_month messages_per_month   \n",
       "mean            436.222222    16.878917          33.673789   \n",
       "median          439.500000    17.000000          28.500000   \n",
       "var           26157.241905    17.337440         785.603997   \n",
       "std             161.732006     4.163825          28.028628   \n",
       "\n",
       "tariff               ultra                                  \n",
       "       calls_dur_per_month gb_per_month messages_per_month  \n",
       "mean            553.761745    20.181208          56.600671  \n",
       "median          533.500000    20.000000          47.500000  \n",
       "var           93752.964810    78.098699        2429.675608  \n",
       "std             306.191059     8.837347          49.291740  "
      ]
     },
     "execution_count": 87,
     "metadata": {},
     "output_type": "execute_result"
    }
   ],
   "source": [
    "median_per_user.pivot_table(\n",
    "    index='tariff', \n",
    "    values=['calls_dur_per_month', 'messages_per_month', 'gb_per_month'],\n",
    "    aggfunc=['mean','median','var','std']).T.unstack()"
   ]
  },
  {
   "cell_type": "markdown",
   "id": "fa751909",
   "metadata": {},
   "source": [
    "* It is noteworthy that the average **\"Ultra\"** tariff users  talked only 118 minutes longer than the tariff users **\"Smart\"**, despite the fact that their limits differ by 6 times.\n",
    "\n",
    "* The median values of the duration of conversations are close to the average in both tariffs.\n",
    "\n",
    "* The duration of the conversation, the volume of traffic and the number of messages sent have a large variance according to the \"Ultra\" tariff.\n",
    "\n",
    "* In terms of the average amount of Internet traffic consumed, there is also a slight difference between the tariffs (17 GB and 20 GB in Smart and Ultra respectively, despite the fact that the limits also differ significantly in favor of a more expensive tariff).\n",
    "\n",
    "* In terms of the volume of messages sent in absolute terms, the difference is also minimal between the tariffs, but in relative terms it turns out that users of the smart tariff use about 2/3 of their limit, while users of the Ultra tariff use about 6% of the total prepaid volume. Obviously, for the \"Ultra\" tariff, the package for 1000 messages carries more of a marketing function, but in fact is practically not used by subscribers."
   ]
  },
  {
   "cell_type": "code",
   "execution_count": 88,
   "id": "f8db177e",
   "metadata": {
    "scrolled": true
   },
   "outputs": [
    {
     "data": {
      "image/png": "[encoded data removed]",
      "text/plain": [
       "<Figure size 640x480 with 1 Axes>"
      ]
     },
     "metadata": {},
     "output_type": "display_data"
    }
   ],
   "source": [
    "for tariff in ['smart','ultra']:\n",
    "    median_per_user.query('tariff == @tariff')['calls_dur_per_month'].plot(kind='hist', alpha = 0.5, bins=30)\n",
    "    plt.legend(['smart','ultra'])\n",
    "    plt.title(\"A histogram of the duration of conversations per month\")\n",
    "    plt.ylabel(\"Frequency\")\n",
    "    plt.xlabel(\"Duration of conversations per month, min.\")\n",
    "    plt.show"
   ]
  },
  {
   "cell_type": "markdown",
   "id": "647ffdf2",
   "metadata": {},
   "source": [
    "According to the histogram of the duration of conversations per month, it is possible to note peaks in the range of 300-500 minutes for Smart subscribers, the distribution of the duration of conversations of subscribers of the Ultra tariff is more uniform, also with a small peak around 500 minutes."
   ]
  },
  {
   "cell_type": "code",
   "execution_count": 89,
   "id": "4295a507",
   "metadata": {
    "scrolled": true
   },
   "outputs": [
    {
     "data": {
      "image/png": "[encoded data removed]",
      "text/plain": [
       "<Figure size 640x480 with 1 Axes>"
      ]
     },
     "metadata": {},
     "output_type": "display_data"
    }
   ],
   "source": [
    "for tariff in ['smart','ultra']:\n",
    "    median_per_user.query('tariff == @tariff')['messages_per_month'].plot(kind='hist', alpha = 0.5, bins=30)\n",
    "    plt.legend(['smart','ultra'])\n",
    "    plt.title(\"Histogram by the number of messages per month\")\n",
    "    plt.ylabel(\"Frequency\")\n",
    "    plt.xlabel(\"Number of messages per month, units.\")\n",
    "    plt.show"
   ]
  },
  {
   "cell_type": "markdown",
   "id": "108055f5",
   "metadata": {},
   "source": [
    "The histogram of the number of messages per month shows notable peak around zero, which means that a significant part of subscribers of both tariffs do not use messages. On average, users of the Smart tariff still sent messages more often than subscribers of the more expensive tariff (including exceeding the limit of prepaid messages)."
   ]
  },
  {
   "cell_type": "code",
   "execution_count": 90,
   "id": "60e6b20c",
   "metadata": {},
   "outputs": [
    {
     "data": {
      "image/png": "[encoded data removed]",
      "text/plain": [
       "<Figure size 640x480 with 1 Axes>"
      ]
     },
     "metadata": {},
     "output_type": "display_data"
    }
   ],
   "source": [
    "for tariff in ['smart','ultra']:\n",
    "    median_per_user.query('tariff == @tariff')['gb_per_month'].plot(kind='hist', alpha = 0.5, bins=30)\n",
    "    plt.legend(['smart','ultra'])\n",
    "    plt.title(\"A histogram of the volume of Internet traffic for the month\")\n",
    "    plt.ylabel(\"Frequency\")\n",
    "    plt.xlabel(\"The volume of Internet traffic per month, gigabytes\")\n",
    "    plt.show"
   ]
  },
  {
   "cell_type": "markdown",
   "id": "906603d9",
   "metadata": {},
   "source": [
    "По гистограмме объема использованного интернет трафика по обоим тарифам заметно пиковое значение в районе 17-19 гб/мес. По данным абонентов тарифа \"Смарт\" видно, что они чаще выходят за пределы пакета в рамках своего тарифа."
   ]
  },
  {
   "cell_type": "code",
   "execution_count": 91,
   "id": "65020b4f",
   "metadata": {
    "scrolled": false
   },
   "outputs": [
    {
     "data": {
      "text/plain": [
       "<function matplotlib.pyplot.show(close=None, block=None)>"
      ]
     },
     "execution_count": 91,
     "metadata": {},
     "output_type": "execute_result"
    },
    {
     "data": {
      "image/png": "[encoded data removed]",
      "text/plain": [
       "<Figure size 1000x1000 with 16 Axes>"
      ]
     },
     "metadata": {},
     "output_type": "display_data"
    }
   ],
   "source": [
    "pd.plotting.scatter_matrix(\n",
    "    median_per_user[['revenue','calls_dur_per_month', 'messages_per_month', 'gb_per_month']], alpha = 0.3, figsize = (10,10))\n",
    "plt.show"
   ]
  },
  {
   "cell_type": "markdown",
   "id": "a659bf2b",
   "metadata": {},
   "source": [
    "According to the scattering matrix, we can observe the relationship between revenue and the duration of conversations, as well as between revenue and the amount of Internet traffic consumed. At the same time, the Pearson correlation coefficient between the duration of the conversation and revenue shows a weak relationship."
   ]
  },
  {
   "cell_type": "code",
   "execution_count": 92,
   "id": "6bd0a66f",
   "metadata": {
    "scrolled": true
   },
   "outputs": [
    {
     "data": {
      "text/plain": [
       "0.33353615993895197"
      ]
     },
     "execution_count": 92,
     "metadata": {},
     "output_type": "execute_result"
    }
   ],
   "source": [
    "median_per_user['revenue'].corr(median_per_user['calls_dur_per_month'])"
   ]
  },
  {
   "cell_type": "markdown",
   "id": "8e8aec6d",
   "metadata": {},
   "source": [
    "At the same time, the correlation between the volume of Internet traffic and revenue is much stronger."
   ]
  },
  {
   "cell_type": "code",
   "execution_count": 93,
   "id": "b8a48d73",
   "metadata": {},
   "outputs": [
    {
     "data": {
      "text/plain": [
       "0.6285115579814572"
      ]
     },
     "execution_count": 93,
     "metadata": {},
     "output_type": "execute_result"
    }
   ],
   "source": [
    "median_per_user['revenue'].corr(median_per_user['gb_per_month'])"
   ]
  },
  {
   "cell_type": "markdown",
   "id": "1c92f89e",
   "metadata": {},
   "source": [
    "The next step is to test the hypotheses\n",
    "___"
   ]
  },
  {
   "cell_type": "markdown",
   "id": "60c53c51",
   "metadata": {},
   "source": [
    "## Hypothesis testing"
   ]
  },
  {
   "cell_type": "markdown",
   "id": "272e35b4",
   "metadata": {},
   "source": [
    "**Null hypothesis** - the average revenue of users of the \"Ultra\" and \"Smart\" tariffs are equal\n",
    "\n",
    "**Alternative hypothesis** - the average revenue of users of the \"Ultra\" and \"Smart\" tariffs are not equal\n",
    "\n",
    "alpha = 5%"
   ]
  },
  {
   "cell_type": "markdown",
   "id": "10b31b0b",
   "metadata": {},
   "source": [
    "Before conducting a statistical test, we will conduct a Barlett test to determine whether the sample variances are equal."
   ]
  },
  {
   "cell_type": "code",
   "execution_count": 94,
   "id": "50234626",
   "metadata": {
    "scrolled": false
   },
   "outputs": [
    {
     "data": {
      "text/plain": [
       "1.0829918779018596e-141"
      ]
     },
     "execution_count": 94,
     "metadata": {},
     "output_type": "execute_result"
    }
   ],
   "source": [
    "from scipy.stats import bartlett\n",
    "ultra = merged.query('tariff == \"ultra\"')['revenue']\n",
    "smart = merged.query('tariff == \"smart\"')['revenue']\n",
    "stat, p = bartlett(ultra, smart)\n",
    "p"
   ]
  },
  {
   "cell_type": "markdown",
   "id": "1f629ed7",
   "metadata": {},
   "source": [
    "Since the p-value is less than 5%, when calculating the statistical test, it can be indicated that the sample variances are not equal."
   ]
  },
  {
   "cell_type": "code",
   "execution_count": 95,
   "id": "6895fafa",
   "metadata": {},
   "outputs": [
    {
     "name": "stdout",
     "output_type": "stream",
     "text": [
      "p-значение: 1.927011394420941e-250\n",
      "We reject the null hypothesis\n"
     ]
    }
   ],
   "source": [
    "alpha = .05\n",
    "\n",
    "results = st.ttest_ind(\n",
    "    ultra, \n",
    "    smart, \n",
    "    equal_var=False)\n",
    "\n",
    "print('p-значение:', results.pvalue)\n",
    "\n",
    "if (results.pvalue < alpha):\n",
    "    print(\"We reject the null hypothesis\")\n",
    "else:\n",
    "    print(\"It was not possible to reject the null hypothesis\")"
   ]
  },
  {
   "cell_type": "code",
   "execution_count": 96,
   "id": "0274dbef",
   "metadata": {
    "scrolled": true
   },
   "outputs": [
    {
     "data": {
      "text/plain": [
       "1950.0"
      ]
     },
     "metadata": {},
     "output_type": "display_data"
    },
    {
     "data": {
      "text/plain": [
       "1021.0"
      ]
     },
     "metadata": {},
     "output_type": "display_data"
    }
   ],
   "source": [
    "display(ultra.median())\n",
    "display(smart.median())"
   ]
  },
  {
   "cell_type": "markdown",
   "id": "55bfd65b",
   "metadata": {},
   "source": [
    "With 99% confidence that the average revenue from the \"Ultra\" tariff really differs from the average revenue from the \"Smart\" tariff.\n",
    "\n",
    "Despite the fact that initially the cost of tariffs differs almost 4 times (550 rubles and 1950 rubles). In fact, on average, the revenue rates differ only 2 times. Since subscribers of the \"Smart\" tariff, due to the lack of a package of minutes and Internet traffic, pay extra for the actual overspending."
   ]
  },
  {
   "cell_type": "markdown",
   "id": "bded8935",
   "metadata": {},
   "source": [
    "**Null hypothesis** - the average revenue of users from Moscow is equal to the average revenue of users from other regions\n",
    "\n",
    "**Alternative hypothesis** - the average revenue of users from Moscow differs from the revenue of users from other regions\n",
    "\n",
    "alpha = 5%"
   ]
  },
  {
   "cell_type": "markdown",
   "id": "335da042",
   "metadata": {},
   "source": [
    "Before conducting a statistical test, we will conduct a Barlett test to determine whether the sample variances are equal."
   ]
  },
  {
   "cell_type": "code",
   "execution_count": 97,
   "id": "25b99cf2",
   "metadata": {},
   "outputs": [
    {
     "data": {
      "text/plain": [
       "0.02454560808639366"
      ]
     },
     "execution_count": 97,
     "metadata": {},
     "output_type": "execute_result"
    }
   ],
   "source": [
    "Moscow = merged.query('city == \"Москва\"')['revenue']\n",
    "regions = merged.query('city != \"Москва\"')['revenue']\n",
    "stat, p = bartlett(Moscow, regions)\n",
    "p"
   ]
  },
  {
   "cell_type": "markdown",
   "id": "08984291",
   "metadata": {},
   "source": [
    "Since the p-value is also less than 5%, when calculating the statistical test, it can be indicated that the sample variances are not equal."
   ]
  },
  {
   "cell_type": "code",
   "execution_count": 98,
   "id": "a8d223e2",
   "metadata": {},
   "outputs": [
    {
     "name": "stdout",
     "output_type": "stream",
     "text": [
      "p-значение: 0.5216952110000279\n",
      "It was not possible to reject the null hypothesis\n"
     ]
    }
   ],
   "source": [
    "alpha = .05\n",
    "\n",
    "results = st.ttest_ind(\n",
    "    Moscow, \n",
    "    regions, \n",
    "    equal_var=False)\n",
    "\n",
    "print('p-значение:', results.pvalue)\n",
    "\n",
    "if (results.pvalue < alpha):\n",
    "    print(\"We reject the null hypothesis\")\n",
    "else:\n",
    "    print(\"It was not possible to reject the null hypothesis\")"
   ]
  },
  {
   "cell_type": "code",
   "execution_count": 99,
   "id": "1d4f29d0",
   "metadata": {},
   "outputs": [
    {
     "data": {
      "text/plain": [
       "1750.0"
      ]
     },
     "metadata": {},
     "output_type": "display_data"
    },
    {
     "data": {
      "text/plain": [
       "1583.0"
      ]
     },
     "metadata": {},
     "output_type": "display_data"
    }
   ],
   "source": [
    "display(Moscow.median())\n",
    "display(regions.median())"
   ]
  },
  {
   "cell_type": "markdown",
   "id": "4feefb69",
   "metadata": {},
   "source": [
    "According to the results of this statistical test, it was not possible to refute the hypothesis that revenue from customers in Moscow and other cities are equal. The median values for the sample are also very close.\n",
    "If the hypothesis had been rejected with a probability of 52%, this decision could have been erroneous."
   ]
  },
  {
   "cell_type": "markdown",
   "id": "05566bd6",
   "metadata": {},
   "source": [
    "## Conclusion"
   ]
  },
  {
   "cell_type": "markdown",
   "id": "7083dba6",
   "metadata": {},
   "source": [
    "According to the results of statistical tests, it can be argued that with a probability of 99%, the average revenue from the \"Ultra\" tariff differs from the average revenue from the \"Smart\" tariff.\n",
    "Also, according to the results of statistical tests, it was not possible to reject the hypothesis that revenue in Moscow and other cities is equal.\n",
    "\n",
    "Additionally, within the framework of the study , it was established:\n",
    "* On average, users of the Smart tariff pay almost 2 times more than the fixed subscription fee of 1021 rubles (instead of 550 rubles).\n",
    "* The overpayment is due to the lack of a package of services provided under the tariff - in particular, in terms of minutes (about a third of subscribers (33%) do not fit into the 500-minute package), as well as in terms of Internet traffic (only 30% of users fit into the 15 GB package)\n",
    "* Users of the \"Ultra\" tariff, on the contrary, rarely go beyond the prepaid package of services, as a result of which the revenue from these users on average does not exceed the subscription fee - 1950 rubles.\n",
    "* On average, users of the \"Ultra\" tariff spent no more than 534 minutes on conversations, and no more than 20 gigabytes on the Internet.\n",
    "* A significant part of subscribers of both tariffs do not use messages."
   ]
  }
 ],
 "metadata": {
  "ExecuteTimeLog": [
   {
    "duration": 1784,
    "start_time": "2022-01-21T09:08:52.364Z"
   },
   {
    "duration": 562,
    "start_time": "2022-01-21T09:08:54.152Z"
   },
   {
    "duration": 6,
    "start_time": "2022-01-21T09:08:54.718Z"
   },
   {
    "duration": 8,
    "start_time": "2022-01-21T09:08:54.726Z"
   },
   {
    "duration": 56,
    "start_time": "2022-01-21T09:08:54.736Z"
   },
   {
    "duration": 11,
    "start_time": "2022-01-21T09:08:54.794Z"
   },
   {
    "duration": 14,
    "start_time": "2022-01-21T09:08:54.807Z"
   },
   {
    "duration": 46,
    "start_time": "2022-01-21T09:08:54.823Z"
   },
   {
    "duration": 683,
    "start_time": "2022-01-21T09:08:54.873Z"
   },
   {
    "duration": -109,
    "start_time": "2022-01-21T09:08:55.669Z"
   },
   {
    "duration": -113,
    "start_time": "2022-01-21T09:08:55.674Z"
   },
   {
    "duration": -117,
    "start_time": "2022-01-21T09:08:55.680Z"
   },
   {
    "duration": -118,
    "start_time": "2022-01-21T09:08:55.683Z"
   },
   {
    "duration": -121,
    "start_time": "2022-01-21T09:08:55.688Z"
   },
   {
    "duration": -122,
    "start_time": "2022-01-21T09:08:55.692Z"
   },
   {
    "duration": -124,
    "start_time": "2022-01-21T09:08:55.696Z"
   },
   {
    "duration": -126,
    "start_time": "2022-01-21T09:08:55.700Z"
   },
   {
    "duration": -132,
    "start_time": "2022-01-21T09:08:55.708Z"
   },
   {
    "duration": -134,
    "start_time": "2022-01-21T09:08:55.713Z"
   },
   {
    "duration": -136,
    "start_time": "2022-01-21T09:08:55.717Z"
   },
   {
    "duration": -138,
    "start_time": "2022-01-21T09:08:55.721Z"
   },
   {
    "duration": -139,
    "start_time": "2022-01-21T09:08:55.724Z"
   },
   {
    "duration": -141,
    "start_time": "2022-01-21T09:08:55.728Z"
   },
   {
    "duration": -143,
    "start_time": "2022-01-21T09:08:55.732Z"
   },
   {
    "duration": -154,
    "start_time": "2022-01-21T09:08:55.745Z"
   },
   {
    "duration": -157,
    "start_time": "2022-01-21T09:08:55.749Z"
   },
   {
    "duration": -159,
    "start_time": "2022-01-21T09:08:55.753Z"
   },
   {
    "duration": -162,
    "start_time": "2022-01-21T09:08:55.758Z"
   },
   {
    "duration": -165,
    "start_time": "2022-01-21T09:08:55.762Z"
   },
   {
    "duration": -167,
    "start_time": "2022-01-21T09:08:55.766Z"
   },
   {
    "duration": -170,
    "start_time": "2022-01-21T09:08:55.770Z"
   },
   {
    "duration": -173,
    "start_time": "2022-01-21T09:08:55.774Z"
   },
   {
    "duration": -175,
    "start_time": "2022-01-21T09:08:55.778Z"
   },
   {
    "duration": -177,
    "start_time": "2022-01-21T09:08:55.782Z"
   },
   {
    "duration": -180,
    "start_time": "2022-01-21T09:08:55.786Z"
   },
   {
    "duration": -183,
    "start_time": "2022-01-21T09:08:55.790Z"
   },
   {
    "duration": -184,
    "start_time": "2022-01-21T09:08:55.793Z"
   },
   {
    "duration": -187,
    "start_time": "2022-01-21T09:08:55.797Z"
   },
   {
    "duration": -190,
    "start_time": "2022-01-21T09:08:55.801Z"
   },
   {
    "duration": -136,
    "start_time": "2022-01-21T09:08:55.805Z"
   },
   {
    "duration": -137,
    "start_time": "2022-01-21T09:08:55.808Z"
   },
   {
    "duration": -139,
    "start_time": "2022-01-21T09:08:55.812Z"
   },
   {
    "duration": -142,
    "start_time": "2022-01-21T09:08:55.816Z"
   },
   {
    "duration": 1624,
    "start_time": "2022-01-21T09:30:45.335Z"
   },
   {
    "duration": 533,
    "start_time": "2022-01-21T09:30:46.962Z"
   },
   {
    "duration": 6,
    "start_time": "2022-01-21T09:30:47.499Z"
   },
   {
    "duration": 34,
    "start_time": "2022-01-21T09:30:47.509Z"
   },
   {
    "duration": 58,
    "start_time": "2022-01-21T09:30:47.546Z"
   },
   {
    "duration": 12,
    "start_time": "2022-01-21T09:30:47.607Z"
   },
   {
    "duration": 17,
    "start_time": "2022-01-21T09:30:47.621Z"
   },
   {
    "duration": 33,
    "start_time": "2022-01-21T09:30:47.642Z"
   },
   {
    "duration": 1500,
    "start_time": "2022-01-21T09:34:18.642Z"
   },
   {
    "duration": 509,
    "start_time": "2022-01-21T09:34:20.145Z"
   },
   {
    "duration": 5,
    "start_time": "2022-01-21T09:34:20.657Z"
   },
   {
    "duration": 14,
    "start_time": "2022-01-21T09:34:20.664Z"
   },
   {
    "duration": 58,
    "start_time": "2022-01-21T09:34:20.681Z"
   },
   {
    "duration": 28,
    "start_time": "2022-01-21T09:34:20.742Z"
   },
   {
    "duration": 17,
    "start_time": "2022-01-21T09:34:20.772Z"
   },
   {
    "duration": 8,
    "start_time": "2022-01-21T09:34:20.794Z"
   },
   {
    "duration": 489,
    "start_time": "2022-01-21T09:34:20.806Z"
   },
   {
    "duration": -153,
    "start_time": "2022-01-21T09:34:21.451Z"
   },
   {
    "duration": -156,
    "start_time": "2022-01-21T09:34:21.456Z"
   },
   {
    "duration": -160,
    "start_time": "2022-01-21T09:34:21.461Z"
   },
   {
    "duration": -165,
    "start_time": "2022-01-21T09:34:21.468Z"
   },
   {
    "duration": -173,
    "start_time": "2022-01-21T09:34:21.477Z"
   },
   {
    "duration": -176,
    "start_time": "2022-01-21T09:34:21.482Z"
   },
   {
    "duration": -180,
    "start_time": "2022-01-21T09:34:21.487Z"
   },
   {
    "duration": -184,
    "start_time": "2022-01-21T09:34:21.492Z"
   },
   {
    "duration": -187,
    "start_time": "2022-01-21T09:34:21.497Z"
   },
   {
    "duration": -191,
    "start_time": "2022-01-21T09:34:21.502Z"
   },
   {
    "duration": -194,
    "start_time": "2022-01-21T09:34:21.507Z"
   },
   {
    "duration": -198,
    "start_time": "2022-01-21T09:34:21.512Z"
   },
   {
    "duration": -211,
    "start_time": "2022-01-21T09:34:21.527Z"
   },
   {
    "duration": -214,
    "start_time": "2022-01-21T09:34:21.532Z"
   },
   {
    "duration": -219,
    "start_time": "2022-01-21T09:34:21.538Z"
   },
   {
    "duration": -223,
    "start_time": "2022-01-21T09:34:21.543Z"
   },
   {
    "duration": -226,
    "start_time": "2022-01-21T09:34:21.548Z"
   },
   {
    "duration": -230,
    "start_time": "2022-01-21T09:34:21.553Z"
   },
   {
    "duration": -234,
    "start_time": "2022-01-21T09:34:21.558Z"
   },
   {
    "duration": -238,
    "start_time": "2022-01-21T09:34:21.563Z"
   },
   {
    "duration": -241,
    "start_time": "2022-01-21T09:34:21.568Z"
   },
   {
    "duration": -245,
    "start_time": "2022-01-21T09:34:21.573Z"
   },
   {
    "duration": -249,
    "start_time": "2022-01-21T09:34:21.578Z"
   },
   {
    "duration": -253,
    "start_time": "2022-01-21T09:34:21.583Z"
   },
   {
    "duration": -257,
    "start_time": "2022-01-21T09:34:21.589Z"
   },
   {
    "duration": -262,
    "start_time": "2022-01-21T09:34:21.595Z"
   },
   {
    "duration": -265,
    "start_time": "2022-01-21T09:34:21.600Z"
   },
   {
    "duration": -237,
    "start_time": "2022-01-21T09:34:21.605Z"
   },
   {
    "duration": -240,
    "start_time": "2022-01-21T09:34:21.610Z"
   },
   {
    "duration": -244,
    "start_time": "2022-01-21T09:34:21.615Z"
   },
   {
    "duration": -247,
    "start_time": "2022-01-21T09:34:21.620Z"
   },
   {
    "duration": -249,
    "start_time": "2022-01-21T09:34:21.624Z"
   },
   {
    "duration": -263,
    "start_time": "2022-01-21T09:34:21.639Z"
   },
   {
    "duration": -266,
    "start_time": "2022-01-21T09:34:21.644Z"
   },
   {
    "duration": 1847,
    "start_time": "2022-01-21T09:35:12.103Z"
   },
   {
    "duration": 508,
    "start_time": "2022-01-21T09:35:13.953Z"
   },
   {
    "duration": 5,
    "start_time": "2022-01-21T09:35:14.464Z"
   },
   {
    "duration": 9,
    "start_time": "2022-01-21T09:35:14.471Z"
   },
   {
    "duration": 88,
    "start_time": "2022-01-21T09:35:14.483Z"
   },
   {
    "duration": 14,
    "start_time": "2022-01-21T09:35:14.574Z"
   },
   {
    "duration": 8,
    "start_time": "2022-01-21T09:35:14.591Z"
   },
   {
    "duration": 7,
    "start_time": "2022-01-21T09:35:14.603Z"
   },
   {
    "duration": 26766,
    "start_time": "2022-01-21T09:35:14.614Z"
   },
   {
    "duration": 1534,
    "start_time": "2022-01-21T09:35:41.382Z"
   },
   {
    "duration": -147,
    "start_time": "2022-01-21T09:35:43.066Z"
   },
   {
    "duration": -150,
    "start_time": "2022-01-21T09:35:43.070Z"
   },
   {
    "duration": -165,
    "start_time": "2022-01-21T09:35:43.086Z"
   },
   {
    "duration": -177,
    "start_time": "2022-01-21T09:35:43.100Z"
   },
   {
    "duration": -181,
    "start_time": "2022-01-21T09:35:43.105Z"
   },
   {
    "duration": -186,
    "start_time": "2022-01-21T09:35:43.111Z"
   },
   {
    "duration": -190,
    "start_time": "2022-01-21T09:35:43.117Z"
   },
   {
    "duration": -194,
    "start_time": "2022-01-21T09:35:43.122Z"
   },
   {
    "duration": -198,
    "start_time": "2022-01-21T09:35:43.127Z"
   },
   {
    "duration": -201,
    "start_time": "2022-01-21T09:35:43.131Z"
   },
   {
    "duration": -206,
    "start_time": "2022-01-21T09:35:43.137Z"
   },
   {
    "duration": -208,
    "start_time": "2022-01-21T09:35:43.141Z"
   },
   {
    "duration": -212,
    "start_time": "2022-01-21T09:35:43.146Z"
   },
   {
    "duration": -214,
    "start_time": "2022-01-21T09:35:43.149Z"
   },
   {
    "duration": -219,
    "start_time": "2022-01-21T09:35:43.155Z"
   },
   {
    "duration": -222,
    "start_time": "2022-01-21T09:35:43.159Z"
   },
   {
    "duration": -224,
    "start_time": "2022-01-21T09:35:43.163Z"
   },
   {
    "duration": -228,
    "start_time": "2022-01-21T09:35:43.168Z"
   },
   {
    "duration": -231,
    "start_time": "2022-01-21T09:35:43.173Z"
   },
   {
    "duration": -234,
    "start_time": "2022-01-21T09:35:43.177Z"
   },
   {
    "duration": -239,
    "start_time": "2022-01-21T09:35:43.183Z"
   },
   {
    "duration": -242,
    "start_time": "2022-01-21T09:35:43.188Z"
   },
   {
    "duration": -258,
    "start_time": "2022-01-21T09:35:43.205Z"
   },
   {
    "duration": -261,
    "start_time": "2022-01-21T09:35:43.209Z"
   },
   {
    "duration": -265,
    "start_time": "2022-01-21T09:35:43.214Z"
   },
   {
    "duration": -268,
    "start_time": "2022-01-21T09:35:43.219Z"
   },
   {
    "duration": -272,
    "start_time": "2022-01-21T09:35:43.224Z"
   },
   {
    "duration": -275,
    "start_time": "2022-01-21T09:35:43.228Z"
   },
   {
    "duration": -279,
    "start_time": "2022-01-21T09:35:43.234Z"
   },
   {
    "duration": -283,
    "start_time": "2022-01-21T09:35:43.239Z"
   },
   {
    "duration": -275,
    "start_time": "2022-01-21T09:35:43.244Z"
   },
   {
    "duration": -278,
    "start_time": "2022-01-21T09:35:43.249Z"
   },
   {
    "duration": -282,
    "start_time": "2022-01-21T09:35:43.254Z"
   },
   {
    "duration": -285,
    "start_time": "2022-01-21T09:35:43.259Z"
   },
   {
    "duration": 1805,
    "start_time": "2022-01-21T09:35:54.689Z"
   },
   {
    "duration": 544,
    "start_time": "2022-01-21T09:35:56.497Z"
   },
   {
    "duration": 5,
    "start_time": "2022-01-21T09:35:57.044Z"
   },
   {
    "duration": 456,
    "start_time": "2022-01-21T09:35:57.051Z"
   },
   {
    "duration": 388,
    "start_time": "2022-01-21T09:35:57.509Z"
   },
   {
    "duration": 10,
    "start_time": "2022-01-21T09:35:57.899Z"
   },
   {
    "duration": 10,
    "start_time": "2022-01-21T09:35:57.912Z"
   },
   {
    "duration": 8,
    "start_time": "2022-01-21T09:35:57.968Z"
   },
   {
    "duration": 12932,
    "start_time": "2022-01-21T09:35:57.979Z"
   },
   {
    "duration": 15,
    "start_time": "2022-01-21T09:36:10.914Z"
   },
   {
    "duration": 8,
    "start_time": "2022-01-21T09:36:10.931Z"
   },
   {
    "duration": 112,
    "start_time": "2022-01-21T09:36:10.942Z"
   },
   {
    "duration": 73,
    "start_time": "2022-01-21T09:36:11.069Z"
   },
   {
    "duration": 84,
    "start_time": "2022-01-21T09:36:11.145Z"
   },
   {
    "duration": 50,
    "start_time": "2022-01-21T09:36:11.231Z"
   },
   {
    "duration": 89,
    "start_time": "2022-01-21T09:36:11.284Z"
   },
   {
    "duration": 121,
    "start_time": "2022-01-21T09:36:11.375Z"
   },
   {
    "duration": 70,
    "start_time": "2022-01-21T09:36:11.499Z"
   },
   {
    "duration": 79,
    "start_time": "2022-01-21T09:36:11.571Z"
   },
   {
    "duration": 55,
    "start_time": "2022-01-21T09:36:11.652Z"
   },
   {
    "duration": 34,
    "start_time": "2022-01-21T09:36:11.709Z"
   },
   {
    "duration": 49,
    "start_time": "2022-01-21T09:36:11.745Z"
   },
   {
    "duration": 26,
    "start_time": "2022-01-21T09:36:11.799Z"
   },
   {
    "duration": 55,
    "start_time": "2022-01-21T09:36:11.828Z"
   },
   {
    "duration": 7,
    "start_time": "2022-01-21T09:36:11.885Z"
   },
   {
    "duration": 25,
    "start_time": "2022-01-21T09:36:11.894Z"
   },
   {
    "duration": 56,
    "start_time": "2022-01-21T09:36:11.922Z"
   },
   {
    "duration": 7,
    "start_time": "2022-01-21T09:36:11.980Z"
   },
   {
    "duration": 182,
    "start_time": "2022-01-21T09:36:11.989Z"
   },
   {
    "duration": 24,
    "start_time": "2022-01-21T09:36:12.173Z"
   },
   {
    "duration": 24,
    "start_time": "2022-01-21T09:36:12.199Z"
   },
   {
    "duration": 5,
    "start_time": "2022-01-21T09:36:12.225Z"
   },
   {
    "duration": 60,
    "start_time": "2022-01-21T09:36:12.233Z"
   },
   {
    "duration": 50,
    "start_time": "2022-01-21T09:36:12.295Z"
   },
   {
    "duration": 13962,
    "start_time": "2022-01-21T09:36:12.348Z"
   },
   {
    "duration": 576,
    "start_time": "2022-01-21T09:36:26.312Z"
   },
   {
    "duration": 645,
    "start_time": "2022-01-21T09:36:26.890Z"
   },
   {
    "duration": 2267,
    "start_time": "2022-01-21T09:36:27.538Z"
   },
   {
    "duration": 7,
    "start_time": "2022-01-21T09:36:29.808Z"
   },
   {
    "duration": 9,
    "start_time": "2022-01-21T09:36:29.817Z"
   },
   {
    "duration": 46,
    "start_time": "2022-01-21T09:36:29.828Z"
   },
   {
    "duration": 14,
    "start_time": "2022-01-21T09:36:29.877Z"
   },
   {
    "duration": 15,
    "start_time": "2022-01-21T09:36:29.894Z"
   },
   {
    "duration": 12,
    "start_time": "2022-01-21T09:36:29.911Z"
   },
   {
    "duration": 21,
    "start_time": "2022-01-21T09:40:03.878Z"
   },
   {
    "duration": 1149,
    "start_time": "2022-01-22T06:55:21.980Z"
   },
   {
    "duration": 365,
    "start_time": "2022-01-22T06:55:23.131Z"
   },
   {
    "duration": 3,
    "start_time": "2022-01-22T06:55:23.498Z"
   },
   {
    "duration": 7,
    "start_time": "2022-01-22T06:55:23.502Z"
   },
   {
    "duration": 30,
    "start_time": "2022-01-22T06:55:23.510Z"
   },
   {
    "duration": 6,
    "start_time": "2022-01-22T06:55:23.542Z"
   },
   {
    "duration": 6,
    "start_time": "2022-01-22T06:55:23.549Z"
   },
   {
    "duration": 4,
    "start_time": "2022-01-22T06:55:23.556Z"
   },
   {
    "duration": 7231,
    "start_time": "2022-01-22T06:55:23.562Z"
   },
   {
    "duration": 480,
    "start_time": "2022-01-22T06:55:30.795Z"
   },
   {
    "duration": -70,
    "start_time": "2022-01-22T06:55:31.348Z"
   },
   {
    "duration": -72,
    "start_time": "2022-01-22T06:55:31.352Z"
   },
   {
    "duration": -136,
    "start_time": "2022-01-22T06:55:31.417Z"
   },
   {
    "duration": -138,
    "start_time": "2022-01-22T06:55:31.420Z"
   },
   {
    "duration": -139,
    "start_time": "2022-01-22T06:55:31.423Z"
   },
   {
    "duration": -147,
    "start_time": "2022-01-22T06:55:31.432Z"
   },
   {
    "duration": -150,
    "start_time": "2022-01-22T06:55:31.436Z"
   },
   {
    "duration": -159,
    "start_time": "2022-01-22T06:55:31.446Z"
   },
   {
    "duration": -162,
    "start_time": "2022-01-22T06:55:31.451Z"
   },
   {
    "duration": -163,
    "start_time": "2022-01-22T06:55:31.453Z"
   },
   {
    "duration": -166,
    "start_time": "2022-01-22T06:55:31.457Z"
   },
   {
    "duration": -170,
    "start_time": "2022-01-22T06:55:31.463Z"
   },
   {
    "duration": -172,
    "start_time": "2022-01-22T06:55:31.466Z"
   },
   {
    "duration": -174,
    "start_time": "2022-01-22T06:55:31.469Z"
   },
   {
    "duration": -176,
    "start_time": "2022-01-22T06:55:31.472Z"
   },
   {
    "duration": -180,
    "start_time": "2022-01-22T06:55:31.478Z"
   },
   {
    "duration": -182,
    "start_time": "2022-01-22T06:55:31.481Z"
   },
   {
    "duration": -184,
    "start_time": "2022-01-22T06:55:31.484Z"
   },
   {
    "duration": -185,
    "start_time": "2022-01-22T06:55:31.487Z"
   },
   {
    "duration": -187,
    "start_time": "2022-01-22T06:55:31.490Z"
   },
   {
    "duration": -188,
    "start_time": "2022-01-22T06:55:31.492Z"
   },
   {
    "duration": -190,
    "start_time": "2022-01-22T06:55:31.495Z"
   },
   {
    "duration": -191,
    "start_time": "2022-01-22T06:55:31.498Z"
   },
   {
    "duration": -194,
    "start_time": "2022-01-22T06:55:31.502Z"
   },
   {
    "duration": -196,
    "start_time": "2022-01-22T06:55:31.505Z"
   },
   {
    "duration": -200,
    "start_time": "2022-01-22T06:55:31.510Z"
   },
   {
    "duration": -201,
    "start_time": "2022-01-22T06:55:31.513Z"
   },
   {
    "duration": -203,
    "start_time": "2022-01-22T06:55:31.516Z"
   },
   {
    "duration": -205,
    "start_time": "2022-01-22T06:55:31.519Z"
   },
   {
    "duration": -207,
    "start_time": "2022-01-22T06:55:31.523Z"
   },
   {
    "duration": -212,
    "start_time": "2022-01-22T06:55:31.529Z"
   },
   {
    "duration": -205,
    "start_time": "2022-01-22T06:55:31.532Z"
   },
   {
    "duration": -209,
    "start_time": "2022-01-22T06:55:31.537Z"
   },
   {
    "duration": -211,
    "start_time": "2022-01-22T06:55:31.540Z"
   },
   {
    "duration": 102,
    "start_time": "2022-01-22T06:58:43.866Z"
   },
   {
    "duration": 2,
    "start_time": "2022-01-22T06:59:19.662Z"
   },
   {
    "duration": 386,
    "start_time": "2022-01-22T06:59:19.666Z"
   },
   {
    "duration": 4,
    "start_time": "2022-01-22T06:59:20.054Z"
   },
   {
    "duration": 15,
    "start_time": "2022-01-22T06:59:20.059Z"
   },
   {
    "duration": 34,
    "start_time": "2022-01-22T06:59:20.075Z"
   },
   {
    "duration": 6,
    "start_time": "2022-01-22T06:59:20.110Z"
   },
   {
    "duration": 9,
    "start_time": "2022-01-22T06:59:20.118Z"
   },
   {
    "duration": 4,
    "start_time": "2022-01-22T06:59:20.129Z"
   },
   {
    "duration": 2581,
    "start_time": "2022-01-22T06:59:20.136Z"
   },
   {
    "duration": 374,
    "start_time": "2022-01-22T06:59:22.720Z"
   },
   {
    "duration": -71,
    "start_time": "2022-01-22T06:59:23.168Z"
   },
   {
    "duration": -74,
    "start_time": "2022-01-22T06:59:23.172Z"
   },
   {
    "duration": -76,
    "start_time": "2022-01-22T06:59:23.175Z"
   },
   {
    "duration": -77,
    "start_time": "2022-01-22T06:59:23.178Z"
   },
   {
    "duration": -90,
    "start_time": "2022-01-22T06:59:23.192Z"
   },
   {
    "duration": -92,
    "start_time": "2022-01-22T06:59:23.195Z"
   },
   {
    "duration": -95,
    "start_time": "2022-01-22T06:59:23.199Z"
   },
   {
    "duration": -96,
    "start_time": "2022-01-22T06:59:23.202Z"
   },
   {
    "duration": -98,
    "start_time": "2022-01-22T06:59:23.205Z"
   },
   {
    "duration": -100,
    "start_time": "2022-01-22T06:59:23.208Z"
   },
   {
    "duration": -101,
    "start_time": "2022-01-22T06:59:23.211Z"
   },
   {
    "duration": -103,
    "start_time": "2022-01-22T06:59:23.214Z"
   },
   {
    "duration": -105,
    "start_time": "2022-01-22T06:59:23.217Z"
   },
   {
    "duration": -107,
    "start_time": "2022-01-22T06:59:23.220Z"
   },
   {
    "duration": -108,
    "start_time": "2022-01-22T06:59:23.223Z"
   },
   {
    "duration": -109,
    "start_time": "2022-01-22T06:59:23.225Z"
   },
   {
    "duration": -112,
    "start_time": "2022-01-22T06:59:23.229Z"
   },
   {
    "duration": -114,
    "start_time": "2022-01-22T06:59:23.232Z"
   },
   {
    "duration": -115,
    "start_time": "2022-01-22T06:59:23.235Z"
   },
   {
    "duration": -116,
    "start_time": "2022-01-22T06:59:23.237Z"
   },
   {
    "duration": -118,
    "start_time": "2022-01-22T06:59:23.240Z"
   },
   {
    "duration": -118,
    "start_time": "2022-01-22T06:59:23.242Z"
   },
   {
    "duration": -121,
    "start_time": "2022-01-22T06:59:23.246Z"
   },
   {
    "duration": -123,
    "start_time": "2022-01-22T06:59:23.249Z"
   },
   {
    "duration": -125,
    "start_time": "2022-01-22T06:59:23.252Z"
   },
   {
    "duration": -126,
    "start_time": "2022-01-22T06:59:23.255Z"
   },
   {
    "duration": -128,
    "start_time": "2022-01-22T06:59:23.258Z"
   },
   {
    "duration": -129,
    "start_time": "2022-01-22T06:59:23.260Z"
   },
   {
    "duration": -131,
    "start_time": "2022-01-22T06:59:23.264Z"
   },
   {
    "duration": -133,
    "start_time": "2022-01-22T06:59:23.267Z"
   },
   {
    "duration": -135,
    "start_time": "2022-01-22T06:59:23.270Z"
   },
   {
    "duration": -135,
    "start_time": "2022-01-22T06:59:23.272Z"
   },
   {
    "duration": -137,
    "start_time": "2022-01-22T06:59:23.275Z"
   },
   {
    "duration": -139,
    "start_time": "2022-01-22T06:59:23.278Z"
   },
   {
    "duration": 7,
    "start_time": "2022-01-22T07:07:55.449Z"
   },
   {
    "duration": 177,
    "start_time": "2022-01-22T07:08:15.095Z"
   },
   {
    "duration": 289,
    "start_time": "2022-01-22T07:08:22.876Z"
   },
   {
    "duration": 211,
    "start_time": "2022-01-22T07:08:27.688Z"
   },
   {
    "duration": 229,
    "start_time": "2022-01-22T07:10:05.201Z"
   },
   {
    "duration": 241,
    "start_time": "2022-01-22T07:11:20.800Z"
   },
   {
    "duration": 3,
    "start_time": "2022-01-22T07:14:57.004Z"
   },
   {
    "duration": 384,
    "start_time": "2022-01-22T07:14:57.117Z"
   },
   {
    "duration": 3,
    "start_time": "2022-01-22T07:14:57.503Z"
   },
   {
    "duration": 7,
    "start_time": "2022-01-22T07:14:57.508Z"
   },
   {
    "duration": 31,
    "start_time": "2022-01-22T07:14:57.516Z"
   },
   {
    "duration": 85,
    "start_time": "2022-01-22T07:14:57.548Z"
   },
   {
    "duration": 5,
    "start_time": "2022-01-22T07:14:57.634Z"
   },
   {
    "duration": 5,
    "start_time": "2022-01-22T07:14:57.641Z"
   },
   {
    "duration": 2539,
    "start_time": "2022-01-22T07:14:57.647Z"
   },
   {
    "duration": 383,
    "start_time": "2022-01-22T07:15:00.189Z"
   },
   {
    "duration": -123,
    "start_time": "2022-01-22T07:15:00.698Z"
   },
   {
    "duration": -128,
    "start_time": "2022-01-22T07:15:00.704Z"
   },
   {
    "duration": -130,
    "start_time": "2022-01-22T07:15:00.707Z"
   },
   {
    "duration": -132,
    "start_time": "2022-01-22T07:15:00.710Z"
   },
   {
    "duration": -134,
    "start_time": "2022-01-22T07:15:00.713Z"
   },
   {
    "duration": -138,
    "start_time": "2022-01-22T07:15:00.718Z"
   },
   {
    "duration": -141,
    "start_time": "2022-01-22T07:15:00.721Z"
   },
   {
    "duration": -144,
    "start_time": "2022-01-22T07:15:00.725Z"
   },
   {
    "duration": -147,
    "start_time": "2022-01-22T07:15:00.729Z"
   },
   {
    "duration": -153,
    "start_time": "2022-01-22T07:15:00.736Z"
   },
   {
    "duration": -156,
    "start_time": "2022-01-22T07:15:00.740Z"
   },
   {
    "duration": -159,
    "start_time": "2022-01-22T07:15:00.744Z"
   },
   {
    "duration": -162,
    "start_time": "2022-01-22T07:15:00.747Z"
   },
   {
    "duration": -166,
    "start_time": "2022-01-22T07:15:00.752Z"
   },
   {
    "duration": -168,
    "start_time": "2022-01-22T07:15:00.755Z"
   },
   {
    "duration": -170,
    "start_time": "2022-01-22T07:15:00.758Z"
   },
   {
    "duration": -172,
    "start_time": "2022-01-22T07:15:00.761Z"
   },
   {
    "duration": -175,
    "start_time": "2022-01-22T07:15:00.765Z"
   },
   {
    "duration": -179,
    "start_time": "2022-01-22T07:15:00.769Z"
   },
   {
    "duration": -182,
    "start_time": "2022-01-22T07:15:00.773Z"
   },
   {
    "duration": -185,
    "start_time": "2022-01-22T07:15:00.777Z"
   },
   {
    "duration": -190,
    "start_time": "2022-01-22T07:15:00.783Z"
   },
   {
    "duration": -193,
    "start_time": "2022-01-22T07:15:00.787Z"
   },
   {
    "duration": -198,
    "start_time": "2022-01-22T07:15:00.792Z"
   },
   {
    "duration": -201,
    "start_time": "2022-01-22T07:15:00.796Z"
   },
   {
    "duration": -261,
    "start_time": "2022-01-22T07:15:00.857Z"
   },
   {
    "duration": -264,
    "start_time": "2022-01-22T07:15:00.861Z"
   },
   {
    "duration": -267,
    "start_time": "2022-01-22T07:15:00.865Z"
   },
   {
    "duration": -268,
    "start_time": "2022-01-22T07:15:00.867Z"
   },
   {
    "duration": -271,
    "start_time": "2022-01-22T07:15:00.871Z"
   },
   {
    "duration": -274,
    "start_time": "2022-01-22T07:15:00.874Z"
   },
   {
    "duration": -276,
    "start_time": "2022-01-22T07:15:00.877Z"
   },
   {
    "duration": -295,
    "start_time": "2022-01-22T07:15:00.897Z"
   },
   {
    "duration": -298,
    "start_time": "2022-01-22T07:15:00.901Z"
   },
   {
    "duration": -299,
    "start_time": "2022-01-22T07:15:00.903Z"
   },
   {
    "duration": 9,
    "start_time": "2022-01-22T07:19:28.220Z"
   },
   {
    "duration": 3,
    "start_time": "2022-01-22T07:20:08.993Z"
   },
   {
    "duration": 420,
    "start_time": "2022-01-22T07:20:09.003Z"
   },
   {
    "duration": 4,
    "start_time": "2022-01-22T07:20:09.425Z"
   },
   {
    "duration": 9,
    "start_time": "2022-01-22T07:20:09.430Z"
   },
   {
    "duration": 32,
    "start_time": "2022-01-22T07:20:09.440Z"
   },
   {
    "duration": 6,
    "start_time": "2022-01-22T07:20:09.473Z"
   },
   {
    "duration": 4,
    "start_time": "2022-01-22T07:20:09.481Z"
   },
   {
    "duration": 5,
    "start_time": "2022-01-22T07:20:09.487Z"
   },
   {
    "duration": 5636,
    "start_time": "2022-01-22T07:20:09.494Z"
   },
   {
    "duration": 12,
    "start_time": "2022-01-22T07:20:15.133Z"
   },
   {
    "duration": 19,
    "start_time": "2022-01-22T07:20:15.147Z"
   },
   {
    "duration": 83,
    "start_time": "2022-01-22T07:20:15.168Z"
   },
   {
    "duration": 253,
    "start_time": "2022-01-22T07:20:15.252Z"
   },
   {
    "duration": 57,
    "start_time": "2022-01-22T07:20:15.507Z"
   },
   {
    "duration": 65,
    "start_time": "2022-01-22T07:20:15.566Z"
   },
   {
    "duration": 17,
    "start_time": "2022-01-22T07:20:15.632Z"
   },
   {
    "duration": 36,
    "start_time": "2022-01-22T07:20:15.650Z"
   },
   {
    "duration": 87,
    "start_time": "2022-01-22T07:20:15.687Z"
   },
   {
    "duration": 25,
    "start_time": "2022-01-22T07:20:15.776Z"
   },
   {
    "duration": 71,
    "start_time": "2022-01-22T07:20:15.802Z"
   },
   {
    "duration": 26,
    "start_time": "2022-01-22T07:20:15.874Z"
   },
   {
    "duration": 36,
    "start_time": "2022-01-22T07:20:15.902Z"
   },
   {
    "duration": 21,
    "start_time": "2022-01-22T07:20:15.939Z"
   },
   {
    "duration": 14,
    "start_time": "2022-01-22T07:20:15.963Z"
   },
   {
    "duration": 15,
    "start_time": "2022-01-22T07:20:15.979Z"
   },
   {
    "duration": 33,
    "start_time": "2022-01-22T07:20:15.995Z"
   },
   {
    "duration": 12,
    "start_time": "2022-01-22T07:20:16.029Z"
   },
   {
    "duration": 15,
    "start_time": "2022-01-22T07:20:16.042Z"
   },
   {
    "duration": 6,
    "start_time": "2022-01-22T07:20:16.058Z"
   },
   {
    "duration": 145,
    "start_time": "2022-01-22T07:20:16.065Z"
   },
   {
    "duration": 22,
    "start_time": "2022-01-22T07:20:16.212Z"
   },
   {
    "duration": 14,
    "start_time": "2022-01-22T07:20:16.236Z"
   },
   {
    "duration": 8,
    "start_time": "2022-01-22T07:20:16.251Z"
   },
   {
    "duration": 36,
    "start_time": "2022-01-22T07:20:16.260Z"
   },
   {
    "duration": 32,
    "start_time": "2022-01-22T07:20:16.298Z"
   },
   {
    "duration": 291,
    "start_time": "2022-01-22T07:20:16.332Z"
   },
   {
    "duration": 286,
    "start_time": "2022-01-22T07:20:16.627Z"
   },
   {
    "duration": 299,
    "start_time": "2022-01-22T07:20:16.915Z"
   },
   {
    "duration": 1441,
    "start_time": "2022-01-22T07:20:17.216Z"
   },
   {
    "duration": 5,
    "start_time": "2022-01-22T07:20:18.658Z"
   },
   {
    "duration": 4,
    "start_time": "2022-01-22T07:20:18.665Z"
   },
   {
    "duration": 11,
    "start_time": "2022-01-22T07:20:18.671Z"
   },
   {
    "duration": 5,
    "start_time": "2022-01-22T07:20:18.683Z"
   },
   {
    "duration": 37,
    "start_time": "2022-01-22T07:20:18.690Z"
   },
   {
    "duration": 5,
    "start_time": "2022-01-22T07:20:18.728Z"
   },
   {
    "duration": 1226,
    "start_time": "2022-01-22T07:23:51.053Z"
   },
   {
    "duration": 377,
    "start_time": "2022-01-22T07:23:52.281Z"
   },
   {
    "duration": 4,
    "start_time": "2022-01-22T07:23:52.659Z"
   },
   {
    "duration": 5,
    "start_time": "2022-01-22T07:23:52.665Z"
   },
   {
    "duration": 33,
    "start_time": "2022-01-22T07:23:52.671Z"
   },
   {
    "duration": 5,
    "start_time": "2022-01-22T07:23:52.706Z"
   },
   {
    "duration": 5,
    "start_time": "2022-01-22T07:23:52.713Z"
   },
   {
    "duration": 10,
    "start_time": "2022-01-22T07:23:52.720Z"
   },
   {
    "duration": 2574,
    "start_time": "2022-01-22T07:23:52.732Z"
   },
   {
    "duration": 13,
    "start_time": "2022-01-22T07:23:55.308Z"
   },
   {
    "duration": 4,
    "start_time": "2022-01-22T07:23:55.323Z"
   },
   {
    "duration": 74,
    "start_time": "2022-01-22T07:23:55.329Z"
   },
   {
    "duration": 857,
    "start_time": "2022-01-22T07:23:55.405Z"
   },
   {
    "duration": 48,
    "start_time": "2022-01-22T07:23:56.264Z"
   },
   {
    "duration": 54,
    "start_time": "2022-01-22T07:23:56.314Z"
   },
   {
    "duration": 16,
    "start_time": "2022-01-22T07:23:56.370Z"
   },
   {
    "duration": 63,
    "start_time": "2022-01-22T07:23:56.387Z"
   },
   {
    "duration": 82,
    "start_time": "2022-01-22T07:23:56.452Z"
   },
   {
    "duration": 26,
    "start_time": "2022-01-22T07:23:56.536Z"
   },
   {
    "duration": 67,
    "start_time": "2022-01-22T07:23:56.563Z"
   },
   {
    "duration": 34,
    "start_time": "2022-01-22T07:23:56.632Z"
   },
   {
    "duration": 21,
    "start_time": "2022-01-22T07:23:56.668Z"
   },
   {
    "duration": 44,
    "start_time": "2022-01-22T07:23:56.693Z"
   },
   {
    "duration": 15,
    "start_time": "2022-01-22T07:23:56.740Z"
   },
   {
    "duration": 15,
    "start_time": "2022-01-22T07:23:56.757Z"
   },
   {
    "duration": 6,
    "start_time": "2022-01-22T07:23:56.774Z"
   },
   {
    "duration": 45,
    "start_time": "2022-01-22T07:23:56.782Z"
   },
   {
    "duration": 16,
    "start_time": "2022-01-22T07:23:56.828Z"
   },
   {
    "duration": 4,
    "start_time": "2022-01-22T07:23:56.846Z"
   },
   {
    "duration": 99,
    "start_time": "2022-01-22T07:23:56.851Z"
   },
   {
    "duration": 14,
    "start_time": "2022-01-22T07:23:56.951Z"
   },
   {
    "duration": 12,
    "start_time": "2022-01-22T07:23:56.967Z"
   },
   {
    "duration": 5,
    "start_time": "2022-01-22T07:23:56.981Z"
   },
   {
    "duration": 20,
    "start_time": "2022-01-22T07:23:56.987Z"
   },
   {
    "duration": 45,
    "start_time": "2022-01-22T07:23:57.009Z"
   },
   {
    "duration": 300,
    "start_time": "2022-01-22T07:23:57.056Z"
   },
   {
    "duration": 361,
    "start_time": "2022-01-22T07:23:57.357Z"
   },
   {
    "duration": 289,
    "start_time": "2022-01-22T07:23:57.719Z"
   },
   {
    "duration": 1269,
    "start_time": "2022-01-22T07:23:58.009Z"
   },
   {
    "duration": 4,
    "start_time": "2022-01-22T07:23:59.279Z"
   },
   {
    "duration": 5,
    "start_time": "2022-01-22T07:23:59.285Z"
   },
   {
    "duration": 13,
    "start_time": "2022-01-22T07:23:59.291Z"
   },
   {
    "duration": 23,
    "start_time": "2022-01-22T07:23:59.306Z"
   },
   {
    "duration": 9,
    "start_time": "2022-01-22T07:23:59.330Z"
   },
   {
    "duration": 7,
    "start_time": "2022-01-22T07:23:59.340Z"
   },
   {
    "duration": 241,
    "start_time": "2022-01-22T07:28:09.542Z"
   },
   {
    "duration": 410,
    "start_time": "2022-01-22T07:28:24.542Z"
   },
   {
    "duration": 305,
    "start_time": "2022-01-22T07:29:38.782Z"
   },
   {
    "duration": 317,
    "start_time": "2022-01-22T07:30:26.398Z"
   },
   {
    "duration": 304,
    "start_time": "2022-01-22T07:30:33.597Z"
   },
   {
    "duration": 303,
    "start_time": "2022-01-22T07:30:38.644Z"
   },
   {
    "duration": 394,
    "start_time": "2022-01-22T07:30:45.854Z"
   },
   {
    "duration": 317,
    "start_time": "2022-01-22T07:30:51.033Z"
   },
   {
    "duration": 311,
    "start_time": "2022-01-22T07:46:29.766Z"
   },
   {
    "duration": 20,
    "start_time": "2022-01-22T07:59:32.517Z"
   },
   {
    "duration": 122,
    "start_time": "2022-01-22T08:07:09.064Z"
   },
   {
    "duration": 109,
    "start_time": "2022-01-22T08:08:37.317Z"
   },
   {
    "duration": 130,
    "start_time": "2022-01-22T08:11:43.050Z"
   },
   {
    "duration": 106,
    "start_time": "2022-01-22T08:13:51.731Z"
   },
   {
    "duration": 119,
    "start_time": "2022-01-22T08:14:09.461Z"
   },
   {
    "duration": 103,
    "start_time": "2022-01-22T08:14:49.752Z"
   },
   {
    "duration": 499,
    "start_time": "2022-01-22T08:20:18.010Z"
   },
   {
    "duration": 132,
    "start_time": "2022-01-22T08:20:52.980Z"
   },
   {
    "duration": 3,
    "start_time": "2022-01-22T08:28:21.168Z"
   },
   {
    "duration": 116,
    "start_time": "2022-01-22T08:29:19.628Z"
   },
   {
    "duration": 10,
    "start_time": "2022-01-22T08:29:25.768Z"
   },
   {
    "duration": 9,
    "start_time": "2022-01-22T08:40:20.920Z"
   },
   {
    "duration": 3,
    "start_time": "2022-01-22T08:41:26.124Z"
   },
   {
    "duration": 368,
    "start_time": "2022-01-22T08:41:26.130Z"
   },
   {
    "duration": 3,
    "start_time": "2022-01-22T08:41:26.500Z"
   },
   {
    "duration": 6,
    "start_time": "2022-01-22T08:41:26.505Z"
   },
   {
    "duration": 32,
    "start_time": "2022-01-22T08:41:26.513Z"
   },
   {
    "duration": 6,
    "start_time": "2022-01-22T08:41:26.547Z"
   },
   {
    "duration": 5,
    "start_time": "2022-01-22T08:41:26.555Z"
   },
   {
    "duration": 5,
    "start_time": "2022-01-22T08:41:26.561Z"
   },
   {
    "duration": 2693,
    "start_time": "2022-01-22T08:41:26.569Z"
   },
   {
    "duration": 13,
    "start_time": "2022-01-22T08:41:29.264Z"
   },
   {
    "duration": 6,
    "start_time": "2022-01-22T08:41:29.279Z"
   },
   {
    "duration": 71,
    "start_time": "2022-01-22T08:41:29.287Z"
   },
   {
    "duration": 240,
    "start_time": "2022-01-22T08:41:29.360Z"
   },
   {
    "duration": 57,
    "start_time": "2022-01-22T08:41:29.601Z"
   },
   {
    "duration": 44,
    "start_time": "2022-01-22T08:41:29.660Z"
   },
   {
    "duration": 37,
    "start_time": "2022-01-22T08:41:29.706Z"
   },
   {
    "duration": 39,
    "start_time": "2022-01-22T08:41:29.744Z"
   },
   {
    "duration": 93,
    "start_time": "2022-01-22T08:41:29.785Z"
   },
   {
    "duration": 333,
    "start_time": "2022-01-22T08:41:29.880Z"
   },
   {
    "duration": 30,
    "start_time": "2022-01-22T08:41:30.215Z"
   },
   {
    "duration": 52,
    "start_time": "2022-01-22T08:41:30.247Z"
   },
   {
    "duration": 46,
    "start_time": "2022-01-22T08:41:30.300Z"
   },
   {
    "duration": 21,
    "start_time": "2022-01-22T08:41:30.348Z"
   },
   {
    "duration": 17,
    "start_time": "2022-01-22T08:41:30.370Z"
   },
   {
    "duration": 14,
    "start_time": "2022-01-22T08:41:30.389Z"
   },
   {
    "duration": 35,
    "start_time": "2022-01-22T08:41:30.405Z"
   },
   {
    "duration": 6,
    "start_time": "2022-01-22T08:41:30.443Z"
   },
   {
    "duration": 23,
    "start_time": "2022-01-22T08:41:30.451Z"
   },
   {
    "duration": 17,
    "start_time": "2022-01-22T08:41:30.476Z"
   },
   {
    "duration": 5,
    "start_time": "2022-01-22T08:41:30.494Z"
   },
   {
    "duration": 106,
    "start_time": "2022-01-22T08:41:30.500Z"
   },
   {
    "duration": 23,
    "start_time": "2022-01-22T08:41:30.608Z"
   },
   {
    "duration": 15,
    "start_time": "2022-01-22T08:41:30.632Z"
   },
   {
    "duration": 6,
    "start_time": "2022-01-22T08:41:30.648Z"
   },
   {
    "duration": 20,
    "start_time": "2022-01-22T08:41:30.656Z"
   },
   {
    "duration": 35,
    "start_time": "2022-01-22T08:41:30.677Z"
   },
   {
    "duration": 295,
    "start_time": "2022-01-22T08:41:30.713Z"
   },
   {
    "duration": 402,
    "start_time": "2022-01-22T08:41:31.010Z"
   },
   {
    "duration": 294,
    "start_time": "2022-01-22T08:41:31.414Z"
   },
   {
    "duration": 1257,
    "start_time": "2022-01-22T08:41:31.710Z"
   },
   {
    "duration": 5,
    "start_time": "2022-01-22T08:41:32.968Z"
   },
   {
    "duration": 5,
    "start_time": "2022-01-22T08:41:32.974Z"
   },
   {
    "duration": 8,
    "start_time": "2022-01-22T08:41:32.981Z"
   },
   {
    "duration": 4,
    "start_time": "2022-01-22T08:41:32.991Z"
   },
   {
    "duration": 32,
    "start_time": "2022-01-22T08:41:32.996Z"
   },
   {
    "duration": 9,
    "start_time": "2022-01-22T08:41:33.029Z"
   },
   {
    "duration": 4,
    "start_time": "2022-01-22T08:41:33.039Z"
   },
   {
    "duration": 9,
    "start_time": "2022-01-22T08:41:33.045Z"
   },
   {
    "duration": 109,
    "start_time": "2022-01-22T08:45:04.373Z"
   },
   {
    "duration": 113,
    "start_time": "2022-01-22T08:45:07.417Z"
   }
  ],
  "kernelspec": {
   "display_name": "Python 3 (ipykernel)",
   "language": "python",
   "name": "python3"
  },
  "language_info": {
   "codemirror_mode": {
    "name": "ipython",
    "version": 3
   },
   "file_extension": ".py",
   "mimetype": "text/x-python",
   "name": "python",
   "nbconvert_exporter": "python",
   "pygments_lexer": "ipython3",
   "version": "3.9.7"
  },
  "toc": {
   "base_numbering": 1,
   "nav_menu": {},
   "number_sections": true,
   "sideBar": true,
   "skip_h1_title": true,
   "title_cell": "Table of Contents",
   "title_sidebar": "Contents",
   "toc_cell": false,
   "toc_position": {},
   "toc_section_display": true,
   "toc_window_display": true
  }
 },
 "nbformat": 4,
 "nbformat_minor": 5
}
