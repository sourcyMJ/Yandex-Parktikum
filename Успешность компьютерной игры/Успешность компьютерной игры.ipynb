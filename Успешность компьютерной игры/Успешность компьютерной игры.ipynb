{
 "cells": [
  {
   "cell_type": "markdown",
   "id": "5a265718",
   "metadata": {},
   "source": [
    "# Выявление закономерностей определяющих успешность компьютерной игры "
   ]
  },
  {
   "cell_type": "markdown",
   "id": "756e9353",
   "metadata": {},
   "source": [
    "Интернет-магазин «Стримчик» занимается продажей компьютерных игр по всему миру. Из открытых источников доступны исторические данные о продажах игр, оценки пользователей и экспертов, жанры и платформы (например, Xbox или PlayStation). Имеются данные до 2016 года, требуется спланировать гипотетическую кампанию на 2017-й год."
   ]
  },
  {
   "cell_type": "markdown",
   "id": "d35f32f6",
   "metadata": {},
   "source": [
    "### Цель исследования\n",
    "\n",
    "Необходимо выявить определяющие успешность игры закономерности. Это позволит сделать ставку на потенциально популярный продукт и спланировать рекламные кампании. Также необходимо ответить на ряд вопросов:\n",
    "- сколько игр выпускалось в разные годы? Определить важность данных за имеющиеся периоды.\n",
    "- за какой характерный срок появляются новые и исчезают старые платформы?\n",
    "- какие платформы лидируют по продажам, растут или падают?\n",
    "- как влияют на продажи внутри одной популярной платформы отзывы пользователей и критиков?\n",
    "- какими отличительными особенностями обладают самые прибыльные жанры?\n",
    "- выделяются ли жанры с высокими и низкими продажами?\n",
    "\n",
    "Также необходимо принять либо опровергнуть гипотезы:\n",
    "- Средние пользовательские рейтинги платформ Xbox One и PC одинаковые;\n",
    "- Средние пользовательские рейтинги жанров Action (англ. «действие», экшен-игры) и Sports (англ. «спортивные соревнования») разные."
   ]
  },
  {
   "cell_type": "markdown",
   "id": "c0e3c6e0",
   "metadata": {},
   "source": [
    "### Ход исследования\n",
    "\n",
    "Данные о продаже игр представлены в файле games.csv. О качестве данных ничего не известно. Поэтому перед проверкой гипотез понадобится провести обзор данных. Будет проведена проверка данных на ошибки и оценнено их влияние на исследование. Затем, на этапе предобработки будут исправлены самые критичные ошибки данных. \n",
    "\n",
    "Таким образом, исследование пройдёт в три этапа:\n",
    "\n",
    "- Обзор данных.\n",
    "- Предобработка данных.\n",
    "- Исследовательский анализ данных\n",
    "- Проверка гипотез."
   ]
  },
  {
   "cell_type": "markdown",
   "id": "73c63700",
   "metadata": {},
   "source": [
    "___\n",
    "## Обзор данных\n",
    "___\n",
    "\n",
    "Импортируем все необходимые библиотеки"
   ]
  },
  {
   "cell_type": "code",
   "execution_count": 1,
   "id": "5306c5b1",
   "metadata": {},
   "outputs": [],
   "source": [
    "import pandas as pd;\n",
    "import numpy as np;\n",
    "import seaborn as sns;\n",
    "import matplotlib.pyplot as plt;\n",
    "import math\n",
    "from scipy import stats as st\n",
    "from scipy.stats import bartlett\n",
    "import warnings\n",
    "warnings.filterwarnings('ignore')"
   ]
  },
  {
   "cell_type": "markdown",
   "id": "bed07fe3",
   "metadata": {},
   "source": [
    "Прочитаем файлы с данными из папки /datasets и сохраним их в переменных:"
   ]
  },
  {
   "cell_type": "code",
   "execution_count": 2,
   "id": "c932ed7b",
   "metadata": {},
   "outputs": [],
   "source": [
    "try:\n",
    "    df = pd.read_csv('/Users/vladislav/Documents/datasets/games.csv',sep=',')\n",
    "except:\n",
    "    df = pd.read_csv('/datasets/games.csv',sep=',')"
   ]
  },
  {
   "cell_type": "markdown",
   "id": "fe2a5a32",
   "metadata": {},
   "source": [
    "Составим первое представление о данных:"
   ]
  },
  {
   "cell_type": "code",
   "execution_count": 3,
   "id": "507bbc48",
   "metadata": {},
   "outputs": [
    {
     "data": {
      "text/html": [
       "<div>\n",
       "<style scoped>\n",
       "    .dataframe tbody tr th:only-of-type {\n",
       "        vertical-align: middle;\n",
       "    }\n",
       "\n",
       "    .dataframe tbody tr th {\n",
       "        vertical-align: top;\n",
       "    }\n",
       "\n",
       "    .dataframe thead th {\n",
       "        text-align: right;\n",
       "    }\n",
       "</style>\n",
       "<table border=\"1\" class=\"dataframe\">\n",
       "  <thead>\n",
       "    <tr style=\"text-align: right;\">\n",
       "      <th></th>\n",
       "      <th>Name</th>\n",
       "      <th>Platform</th>\n",
       "      <th>Year_of_Release</th>\n",
       "      <th>Genre</th>\n",
       "      <th>NA_sales</th>\n",
       "      <th>EU_sales</th>\n",
       "      <th>JP_sales</th>\n",
       "      <th>Other_sales</th>\n",
       "      <th>Critic_Score</th>\n",
       "      <th>User_Score</th>\n",
       "      <th>Rating</th>\n",
       "    </tr>\n",
       "  </thead>\n",
       "  <tbody>\n",
       "    <tr>\n",
       "      <td>0</td>\n",
       "      <td>Wii Sports</td>\n",
       "      <td>Wii</td>\n",
       "      <td>2006.0</td>\n",
       "      <td>Sports</td>\n",
       "      <td>41.36</td>\n",
       "      <td>28.96</td>\n",
       "      <td>3.77</td>\n",
       "      <td>8.45</td>\n",
       "      <td>76.0</td>\n",
       "      <td>8</td>\n",
       "      <td>E</td>\n",
       "    </tr>\n",
       "    <tr>\n",
       "      <td>1</td>\n",
       "      <td>Super Mario Bros.</td>\n",
       "      <td>NES</td>\n",
       "      <td>1985.0</td>\n",
       "      <td>Platform</td>\n",
       "      <td>29.08</td>\n",
       "      <td>3.58</td>\n",
       "      <td>6.81</td>\n",
       "      <td>0.77</td>\n",
       "      <td>NaN</td>\n",
       "      <td>NaN</td>\n",
       "      <td>NaN</td>\n",
       "    </tr>\n",
       "    <tr>\n",
       "      <td>2</td>\n",
       "      <td>Mario Kart Wii</td>\n",
       "      <td>Wii</td>\n",
       "      <td>2008.0</td>\n",
       "      <td>Racing</td>\n",
       "      <td>15.68</td>\n",
       "      <td>12.76</td>\n",
       "      <td>3.79</td>\n",
       "      <td>3.29</td>\n",
       "      <td>82.0</td>\n",
       "      <td>8.3</td>\n",
       "      <td>E</td>\n",
       "    </tr>\n",
       "    <tr>\n",
       "      <td>3</td>\n",
       "      <td>Wii Sports Resort</td>\n",
       "      <td>Wii</td>\n",
       "      <td>2009.0</td>\n",
       "      <td>Sports</td>\n",
       "      <td>15.61</td>\n",
       "      <td>10.93</td>\n",
       "      <td>3.28</td>\n",
       "      <td>2.95</td>\n",
       "      <td>80.0</td>\n",
       "      <td>8</td>\n",
       "      <td>E</td>\n",
       "    </tr>\n",
       "    <tr>\n",
       "      <td>4</td>\n",
       "      <td>Pokemon Red/Pokemon Blue</td>\n",
       "      <td>GB</td>\n",
       "      <td>1996.0</td>\n",
       "      <td>Role-Playing</td>\n",
       "      <td>11.27</td>\n",
       "      <td>8.89</td>\n",
       "      <td>10.22</td>\n",
       "      <td>1.00</td>\n",
       "      <td>NaN</td>\n",
       "      <td>NaN</td>\n",
       "      <td>NaN</td>\n",
       "    </tr>\n",
       "  </tbody>\n",
       "</table>\n",
       "</div>"
      ],
      "text/plain": [
       "                       Name Platform  Year_of_Release         Genre  NA_sales  \\\n",
       "0                Wii Sports      Wii           2006.0        Sports     41.36   \n",
       "1         Super Mario Bros.      NES           1985.0      Platform     29.08   \n",
       "2            Mario Kart Wii      Wii           2008.0        Racing     15.68   \n",
       "3         Wii Sports Resort      Wii           2009.0        Sports     15.61   \n",
       "4  Pokemon Red/Pokemon Blue       GB           1996.0  Role-Playing     11.27   \n",
       "\n",
       "   EU_sales  JP_sales  Other_sales  Critic_Score User_Score Rating  \n",
       "0     28.96      3.77         8.45          76.0          8      E  \n",
       "1      3.58      6.81         0.77           NaN        NaN    NaN  \n",
       "2     12.76      3.79         3.29          82.0        8.3      E  \n",
       "3     10.93      3.28         2.95          80.0          8      E  \n",
       "4      8.89     10.22         1.00           NaN        NaN    NaN  "
      ]
     },
     "metadata": {},
     "output_type": "display_data"
    },
    {
     "name": "stdout",
     "output_type": "stream",
     "text": [
      "<class 'pandas.core.frame.DataFrame'>\n",
      "RangeIndex: 16715 entries, 0 to 16714\n",
      "Data columns (total 11 columns):\n",
      "Name               16713 non-null object\n",
      "Platform           16715 non-null object\n",
      "Year_of_Release    16446 non-null float64\n",
      "Genre              16713 non-null object\n",
      "NA_sales           16715 non-null float64\n",
      "EU_sales           16715 non-null float64\n",
      "JP_sales           16715 non-null float64\n",
      "Other_sales        16715 non-null float64\n",
      "Critic_Score       8137 non-null float64\n",
      "User_Score         10014 non-null object\n",
      "Rating             9949 non-null object\n",
      "dtypes: float64(6), object(5)\n",
      "memory usage: 1.4+ MB\n"
     ]
    },
    {
     "data": {
      "text/html": [
       "<div>\n",
       "<style scoped>\n",
       "    .dataframe tbody tr th:only-of-type {\n",
       "        vertical-align: middle;\n",
       "    }\n",
       "\n",
       "    .dataframe tbody tr th {\n",
       "        vertical-align: top;\n",
       "    }\n",
       "\n",
       "    .dataframe thead th {\n",
       "        text-align: right;\n",
       "    }\n",
       "</style>\n",
       "<table border=\"1\" class=\"dataframe\">\n",
       "  <thead>\n",
       "    <tr style=\"text-align: right;\">\n",
       "      <th></th>\n",
       "      <th>Year_of_Release</th>\n",
       "      <th>NA_sales</th>\n",
       "      <th>EU_sales</th>\n",
       "      <th>JP_sales</th>\n",
       "      <th>Other_sales</th>\n",
       "      <th>Critic_Score</th>\n",
       "    </tr>\n",
       "  </thead>\n",
       "  <tbody>\n",
       "    <tr>\n",
       "      <td>count</td>\n",
       "      <td>16446.000000</td>\n",
       "      <td>16715.000000</td>\n",
       "      <td>16715.000000</td>\n",
       "      <td>16715.000000</td>\n",
       "      <td>16715.000000</td>\n",
       "      <td>8137.000000</td>\n",
       "    </tr>\n",
       "    <tr>\n",
       "      <td>mean</td>\n",
       "      <td>2006.484616</td>\n",
       "      <td>0.263377</td>\n",
       "      <td>0.145060</td>\n",
       "      <td>0.077617</td>\n",
       "      <td>0.047342</td>\n",
       "      <td>68.967679</td>\n",
       "    </tr>\n",
       "    <tr>\n",
       "      <td>std</td>\n",
       "      <td>5.877050</td>\n",
       "      <td>0.813604</td>\n",
       "      <td>0.503339</td>\n",
       "      <td>0.308853</td>\n",
       "      <td>0.186731</td>\n",
       "      <td>13.938165</td>\n",
       "    </tr>\n",
       "    <tr>\n",
       "      <td>min</td>\n",
       "      <td>1980.000000</td>\n",
       "      <td>0.000000</td>\n",
       "      <td>0.000000</td>\n",
       "      <td>0.000000</td>\n",
       "      <td>0.000000</td>\n",
       "      <td>13.000000</td>\n",
       "    </tr>\n",
       "    <tr>\n",
       "      <td>25%</td>\n",
       "      <td>2003.000000</td>\n",
       "      <td>0.000000</td>\n",
       "      <td>0.000000</td>\n",
       "      <td>0.000000</td>\n",
       "      <td>0.000000</td>\n",
       "      <td>60.000000</td>\n",
       "    </tr>\n",
       "    <tr>\n",
       "      <td>50%</td>\n",
       "      <td>2007.000000</td>\n",
       "      <td>0.080000</td>\n",
       "      <td>0.020000</td>\n",
       "      <td>0.000000</td>\n",
       "      <td>0.010000</td>\n",
       "      <td>71.000000</td>\n",
       "    </tr>\n",
       "    <tr>\n",
       "      <td>75%</td>\n",
       "      <td>2010.000000</td>\n",
       "      <td>0.240000</td>\n",
       "      <td>0.110000</td>\n",
       "      <td>0.040000</td>\n",
       "      <td>0.030000</td>\n",
       "      <td>79.000000</td>\n",
       "    </tr>\n",
       "    <tr>\n",
       "      <td>max</td>\n",
       "      <td>2016.000000</td>\n",
       "      <td>41.360000</td>\n",
       "      <td>28.960000</td>\n",
       "      <td>10.220000</td>\n",
       "      <td>10.570000</td>\n",
       "      <td>98.000000</td>\n",
       "    </tr>\n",
       "  </tbody>\n",
       "</table>\n",
       "</div>"
      ],
      "text/plain": [
       "       Year_of_Release      NA_sales      EU_sales      JP_sales  \\\n",
       "count     16446.000000  16715.000000  16715.000000  16715.000000   \n",
       "mean       2006.484616      0.263377      0.145060      0.077617   \n",
       "std           5.877050      0.813604      0.503339      0.308853   \n",
       "min        1980.000000      0.000000      0.000000      0.000000   \n",
       "25%        2003.000000      0.000000      0.000000      0.000000   \n",
       "50%        2007.000000      0.080000      0.020000      0.000000   \n",
       "75%        2010.000000      0.240000      0.110000      0.040000   \n",
       "max        2016.000000     41.360000     28.960000     10.220000   \n",
       "\n",
       "        Other_sales  Critic_Score  \n",
       "count  16715.000000   8137.000000  \n",
       "mean       0.047342     68.967679  \n",
       "std        0.186731     13.938165  \n",
       "min        0.000000     13.000000  \n",
       "25%        0.000000     60.000000  \n",
       "50%        0.010000     71.000000  \n",
       "75%        0.030000     79.000000  \n",
       "max       10.570000     98.000000  "
      ]
     },
     "metadata": {},
     "output_type": "display_data"
    }
   ],
   "source": [
    "display(df.head())\n",
    "df.info()\n",
    "display(df.describe())"
   ]
  },
  {
   "cell_type": "markdown",
   "id": "8504a1e9",
   "metadata": {},
   "source": [
    "Итак, в таблице 11 столбцов. Представлены типы данных **object,float64**. Согласно документации к данным:"
   ]
  },
  {
   "cell_type": "markdown",
   "id": "091bb114",
   "metadata": {},
   "source": [
    "* *Name* — название игры;\n",
    "* *Platform* — платформа\n",
    "* *Year_of_Release* — год выпуска\n",
    "* *Genre* — жанр игры\n",
    "* *NA_sales* — продажи в Северной Америке (миллионы проданных копий)\n",
    "* *EU_sales* — продажи в Европе (миллионы проданных копий)\n",
    "* *JP_sales* — продажи в Японии (миллионы проданных копий)\n",
    "* *Other_sales* — продажи в других странах (миллионы проданных копий)\n",
    "* *Critic_Score* — оценка критиков (максимум 100)\n",
    "* *User_Score* — оценка пользователей (максимум 10)\n",
    "* *Rating* — рейтинг от организации ESRB (англ. Entertainment Software Rating Board). Эта ассоциация определяет рейтинг компьютерных игр и присваивает им подходящую возрастную категорию."
   ]
  },
  {
   "cell_type": "markdown",
   "id": "bbcef74a",
   "metadata": {},
   "source": [
    "По предварительному обзору данных можно отметить следующие **проблемы в данных**:\n",
    "- пропуски отсутствуют только в столбцах с указанием страны, где покупалась игра и в столбце платформы, в остальных столбцах имеются пропущенные значения;\n",
    "\n",
    "- названия столбцов необходимо переименовать согласно правилам \"змеиного регистра\";\n",
    "- проставленный тип данных столбцов *Year_of_Release* и *User_score* не соответствует оптимальному типу данных для работы с этими значениями."
   ]
  },
  {
   "cell_type": "markdown",
   "id": "68e5d749",
   "metadata": {},
   "source": [
    "Далее можно перейти к предобработке данных.\n",
    "___"
   ]
  },
  {
   "cell_type": "markdown",
   "id": "835ca438",
   "metadata": {},
   "source": [
    "## Предобработка данных"
   ]
  },
  {
   "cell_type": "markdown",
   "id": "4e7b5d4b",
   "metadata": {},
   "source": [
    "Для начала надо изменить заголовки столбцов"
   ]
  },
  {
   "cell_type": "code",
   "execution_count": 4,
   "id": "6a890544",
   "metadata": {},
   "outputs": [],
   "source": [
    "df = df.rename(columns={\"Name\":\"name\",\n",
    "                  \"Platform\":\"platform\",\n",
    "                  \"Year_of_Release\":\"year_of_release\",\n",
    "                  \"Genre\":\"genre\",\n",
    "                  \"NA_sales\":\"na_sales\",\n",
    "                  \"EU_sales\":\"eu_sales\",\n",
    "                  \"JP_sales\":\"jp_sales\",\n",
    "                  \"Other_sales\":\"other_sales\",\n",
    "                  \"Critic_Score\":\"critic_score\",\n",
    "                  \"User_Score\":\"user_score\",\n",
    "                  \"Rating\":\"rating\"})"
   ]
  },
  {
   "cell_type": "code",
   "execution_count": 5,
   "id": "0acae0d1",
   "metadata": {
    "scrolled": true
   },
   "outputs": [
    {
     "data": {
      "text/html": [
       "<div>\n",
       "<style scoped>\n",
       "    .dataframe tbody tr th:only-of-type {\n",
       "        vertical-align: middle;\n",
       "    }\n",
       "\n",
       "    .dataframe tbody tr th {\n",
       "        vertical-align: top;\n",
       "    }\n",
       "\n",
       "    .dataframe thead th {\n",
       "        text-align: right;\n",
       "    }\n",
       "</style>\n",
       "<table border=\"1\" class=\"dataframe\">\n",
       "  <thead>\n",
       "    <tr style=\"text-align: right;\">\n",
       "      <th></th>\n",
       "      <th>name</th>\n",
       "      <th>platform</th>\n",
       "      <th>year_of_release</th>\n",
       "      <th>genre</th>\n",
       "      <th>na_sales</th>\n",
       "      <th>eu_sales</th>\n",
       "      <th>jp_sales</th>\n",
       "      <th>other_sales</th>\n",
       "      <th>critic_score</th>\n",
       "      <th>user_score</th>\n",
       "      <th>rating</th>\n",
       "    </tr>\n",
       "  </thead>\n",
       "  <tbody>\n",
       "    <tr>\n",
       "      <td>0</td>\n",
       "      <td>Wii Sports</td>\n",
       "      <td>Wii</td>\n",
       "      <td>2006.0</td>\n",
       "      <td>Sports</td>\n",
       "      <td>41.36</td>\n",
       "      <td>28.96</td>\n",
       "      <td>3.77</td>\n",
       "      <td>8.45</td>\n",
       "      <td>76.0</td>\n",
       "      <td>8</td>\n",
       "      <td>E</td>\n",
       "    </tr>\n",
       "    <tr>\n",
       "      <td>1</td>\n",
       "      <td>Super Mario Bros.</td>\n",
       "      <td>NES</td>\n",
       "      <td>1985.0</td>\n",
       "      <td>Platform</td>\n",
       "      <td>29.08</td>\n",
       "      <td>3.58</td>\n",
       "      <td>6.81</td>\n",
       "      <td>0.77</td>\n",
       "      <td>NaN</td>\n",
       "      <td>NaN</td>\n",
       "      <td>NaN</td>\n",
       "    </tr>\n",
       "    <tr>\n",
       "      <td>2</td>\n",
       "      <td>Mario Kart Wii</td>\n",
       "      <td>Wii</td>\n",
       "      <td>2008.0</td>\n",
       "      <td>Racing</td>\n",
       "      <td>15.68</td>\n",
       "      <td>12.76</td>\n",
       "      <td>3.79</td>\n",
       "      <td>3.29</td>\n",
       "      <td>82.0</td>\n",
       "      <td>8.3</td>\n",
       "      <td>E</td>\n",
       "    </tr>\n",
       "    <tr>\n",
       "      <td>3</td>\n",
       "      <td>Wii Sports Resort</td>\n",
       "      <td>Wii</td>\n",
       "      <td>2009.0</td>\n",
       "      <td>Sports</td>\n",
       "      <td>15.61</td>\n",
       "      <td>10.93</td>\n",
       "      <td>3.28</td>\n",
       "      <td>2.95</td>\n",
       "      <td>80.0</td>\n",
       "      <td>8</td>\n",
       "      <td>E</td>\n",
       "    </tr>\n",
       "    <tr>\n",
       "      <td>4</td>\n",
       "      <td>Pokemon Red/Pokemon Blue</td>\n",
       "      <td>GB</td>\n",
       "      <td>1996.0</td>\n",
       "      <td>Role-Playing</td>\n",
       "      <td>11.27</td>\n",
       "      <td>8.89</td>\n",
       "      <td>10.22</td>\n",
       "      <td>1.00</td>\n",
       "      <td>NaN</td>\n",
       "      <td>NaN</td>\n",
       "      <td>NaN</td>\n",
       "    </tr>\n",
       "  </tbody>\n",
       "</table>\n",
       "</div>"
      ],
      "text/plain": [
       "                       name platform  year_of_release         genre  na_sales  \\\n",
       "0                Wii Sports      Wii           2006.0        Sports     41.36   \n",
       "1         Super Mario Bros.      NES           1985.0      Platform     29.08   \n",
       "2            Mario Kart Wii      Wii           2008.0        Racing     15.68   \n",
       "3         Wii Sports Resort      Wii           2009.0        Sports     15.61   \n",
       "4  Pokemon Red/Pokemon Blue       GB           1996.0  Role-Playing     11.27   \n",
       "\n",
       "   eu_sales  jp_sales  other_sales  critic_score user_score rating  \n",
       "0     28.96      3.77         8.45          76.0          8      E  \n",
       "1      3.58      6.81         0.77           NaN        NaN    NaN  \n",
       "2     12.76      3.79         3.29          82.0        8.3      E  \n",
       "3     10.93      3.28         2.95          80.0          8      E  \n",
       "4      8.89     10.22         1.00           NaN        NaN    NaN  "
      ]
     },
     "execution_count": 5,
     "metadata": {},
     "output_type": "execute_result"
    }
   ],
   "source": [
    "df.head()"
   ]
  },
  {
   "cell_type": "markdown",
   "id": "ae39b8b7",
   "metadata": {},
   "source": [
    "___\n",
    "В столбце *name* отсутствуют 2 значения."
   ]
  },
  {
   "cell_type": "code",
   "execution_count": 6,
   "id": "d190e6f3",
   "metadata": {
    "scrolled": true
   },
   "outputs": [
    {
     "data": {
      "text/html": [
       "<div>\n",
       "<style scoped>\n",
       "    .dataframe tbody tr th:only-of-type {\n",
       "        vertical-align: middle;\n",
       "    }\n",
       "\n",
       "    .dataframe tbody tr th {\n",
       "        vertical-align: top;\n",
       "    }\n",
       "\n",
       "    .dataframe thead th {\n",
       "        text-align: right;\n",
       "    }\n",
       "</style>\n",
       "<table border=\"1\" class=\"dataframe\">\n",
       "  <thead>\n",
       "    <tr style=\"text-align: right;\">\n",
       "      <th></th>\n",
       "      <th>name</th>\n",
       "      <th>platform</th>\n",
       "      <th>year_of_release</th>\n",
       "      <th>genre</th>\n",
       "      <th>na_sales</th>\n",
       "      <th>eu_sales</th>\n",
       "      <th>jp_sales</th>\n",
       "      <th>other_sales</th>\n",
       "      <th>critic_score</th>\n",
       "      <th>user_score</th>\n",
       "      <th>rating</th>\n",
       "    </tr>\n",
       "  </thead>\n",
       "  <tbody>\n",
       "    <tr>\n",
       "      <td>659</td>\n",
       "      <td>NaN</td>\n",
       "      <td>GEN</td>\n",
       "      <td>1993.0</td>\n",
       "      <td>NaN</td>\n",
       "      <td>1.78</td>\n",
       "      <td>0.53</td>\n",
       "      <td>0.00</td>\n",
       "      <td>0.08</td>\n",
       "      <td>NaN</td>\n",
       "      <td>NaN</td>\n",
       "      <td>NaN</td>\n",
       "    </tr>\n",
       "    <tr>\n",
       "      <td>14244</td>\n",
       "      <td>NaN</td>\n",
       "      <td>GEN</td>\n",
       "      <td>1993.0</td>\n",
       "      <td>NaN</td>\n",
       "      <td>0.00</td>\n",
       "      <td>0.00</td>\n",
       "      <td>0.03</td>\n",
       "      <td>0.00</td>\n",
       "      <td>NaN</td>\n",
       "      <td>NaN</td>\n",
       "      <td>NaN</td>\n",
       "    </tr>\n",
       "  </tbody>\n",
       "</table>\n",
       "</div>"
      ],
      "text/plain": [
       "      name platform  year_of_release genre  na_sales  eu_sales  jp_sales  \\\n",
       "659    NaN      GEN           1993.0   NaN      1.78      0.53      0.00   \n",
       "14244  NaN      GEN           1993.0   NaN      0.00      0.00      0.03   \n",
       "\n",
       "       other_sales  critic_score user_score rating  \n",
       "659           0.08           NaN        NaN    NaN  \n",
       "14244         0.00           NaN        NaN    NaN  "
      ]
     },
     "execution_count": 6,
     "metadata": {},
     "output_type": "execute_result"
    }
   ],
   "source": [
    "df.query('name != name')"
   ]
  },
  {
   "cell_type": "markdown",
   "id": "abe37192",
   "metadata": {},
   "source": [
    "Так как в 2-х данных строках помимо отсутствия названия, отсутствуют более важные данные по жанру и оценкам игры их проще удалить."
   ]
  },
  {
   "cell_type": "code",
   "execution_count": 7,
   "id": "e6d8cf78",
   "metadata": {
    "scrolled": true
   },
   "outputs": [],
   "source": [
    "df = df.drop(df.query('name != name').index)"
   ]
  },
  {
   "cell_type": "markdown",
   "id": "a918b75e",
   "metadata": {},
   "source": [
    "___\n",
    "В столбце *year_of_release* доля пропусков составляет:"
   ]
  },
  {
   "cell_type": "code",
   "execution_count": 8,
   "id": "336c4664",
   "metadata": {},
   "outputs": [
    {
     "data": {
      "text/plain": [
       "'1.61%'"
      ]
     },
     "metadata": {},
     "output_type": "display_data"
    }
   ],
   "source": [
    "display(\"{:.2%}\".format(df['year_of_release'].isna().sum()/len(df)))"
   ]
  },
  {
   "cell_type": "markdown",
   "id": "17570122",
   "metadata": {},
   "source": [
    "Изучим пропуски в столбце *year_of_release*:"
   ]
  },
  {
   "cell_type": "code",
   "execution_count": 9,
   "id": "5259dbaf",
   "metadata": {
    "scrolled": true
   },
   "outputs": [
    {
     "data": {
      "text/html": [
       "<div>\n",
       "<style scoped>\n",
       "    .dataframe tbody tr th:only-of-type {\n",
       "        vertical-align: middle;\n",
       "    }\n",
       "\n",
       "    .dataframe tbody tr th {\n",
       "        vertical-align: top;\n",
       "    }\n",
       "\n",
       "    .dataframe thead th {\n",
       "        text-align: right;\n",
       "    }\n",
       "</style>\n",
       "<table border=\"1\" class=\"dataframe\">\n",
       "  <thead>\n",
       "    <tr style=\"text-align: right;\">\n",
       "      <th></th>\n",
       "      <th>name</th>\n",
       "      <th>platform</th>\n",
       "      <th>year_of_release</th>\n",
       "      <th>genre</th>\n",
       "      <th>na_sales</th>\n",
       "      <th>eu_sales</th>\n",
       "      <th>jp_sales</th>\n",
       "      <th>other_sales</th>\n",
       "      <th>critic_score</th>\n",
       "      <th>user_score</th>\n",
       "      <th>rating</th>\n",
       "    </tr>\n",
       "  </thead>\n",
       "  <tbody>\n",
       "    <tr>\n",
       "      <td>183</td>\n",
       "      <td>Madden NFL 2004</td>\n",
       "      <td>PS2</td>\n",
       "      <td>NaN</td>\n",
       "      <td>Sports</td>\n",
       "      <td>4.26</td>\n",
       "      <td>0.26</td>\n",
       "      <td>0.01</td>\n",
       "      <td>0.71</td>\n",
       "      <td>94.0</td>\n",
       "      <td>8.5</td>\n",
       "      <td>E</td>\n",
       "    </tr>\n",
       "    <tr>\n",
       "      <td>377</td>\n",
       "      <td>FIFA Soccer 2004</td>\n",
       "      <td>PS2</td>\n",
       "      <td>NaN</td>\n",
       "      <td>Sports</td>\n",
       "      <td>0.59</td>\n",
       "      <td>2.36</td>\n",
       "      <td>0.04</td>\n",
       "      <td>0.51</td>\n",
       "      <td>84.0</td>\n",
       "      <td>6.4</td>\n",
       "      <td>E</td>\n",
       "    </tr>\n",
       "    <tr>\n",
       "      <td>456</td>\n",
       "      <td>LEGO Batman: The Videogame</td>\n",
       "      <td>Wii</td>\n",
       "      <td>NaN</td>\n",
       "      <td>Action</td>\n",
       "      <td>1.80</td>\n",
       "      <td>0.97</td>\n",
       "      <td>0.00</td>\n",
       "      <td>0.29</td>\n",
       "      <td>74.0</td>\n",
       "      <td>7.9</td>\n",
       "      <td>E10+</td>\n",
       "    </tr>\n",
       "    <tr>\n",
       "      <td>475</td>\n",
       "      <td>wwe Smackdown vs. Raw 2006</td>\n",
       "      <td>PS2</td>\n",
       "      <td>NaN</td>\n",
       "      <td>Fighting</td>\n",
       "      <td>1.57</td>\n",
       "      <td>1.02</td>\n",
       "      <td>0.00</td>\n",
       "      <td>0.41</td>\n",
       "      <td>NaN</td>\n",
       "      <td>NaN</td>\n",
       "      <td>NaN</td>\n",
       "    </tr>\n",
       "    <tr>\n",
       "      <td>609</td>\n",
       "      <td>Space Invaders</td>\n",
       "      <td>2600</td>\n",
       "      <td>NaN</td>\n",
       "      <td>Shooter</td>\n",
       "      <td>2.36</td>\n",
       "      <td>0.14</td>\n",
       "      <td>0.00</td>\n",
       "      <td>0.03</td>\n",
       "      <td>NaN</td>\n",
       "      <td>NaN</td>\n",
       "      <td>NaN</td>\n",
       "    </tr>\n",
       "    <tr>\n",
       "      <td>...</td>\n",
       "      <td>...</td>\n",
       "      <td>...</td>\n",
       "      <td>...</td>\n",
       "      <td>...</td>\n",
       "      <td>...</td>\n",
       "      <td>...</td>\n",
       "      <td>...</td>\n",
       "      <td>...</td>\n",
       "      <td>...</td>\n",
       "      <td>...</td>\n",
       "      <td>...</td>\n",
       "    </tr>\n",
       "    <tr>\n",
       "      <td>16373</td>\n",
       "      <td>PDC World Championship Darts 2008</td>\n",
       "      <td>PSP</td>\n",
       "      <td>NaN</td>\n",
       "      <td>Sports</td>\n",
       "      <td>0.01</td>\n",
       "      <td>0.00</td>\n",
       "      <td>0.00</td>\n",
       "      <td>0.00</td>\n",
       "      <td>43.0</td>\n",
       "      <td>tbd</td>\n",
       "      <td>E10+</td>\n",
       "    </tr>\n",
       "    <tr>\n",
       "      <td>16405</td>\n",
       "      <td>Freaky Flyers</td>\n",
       "      <td>GC</td>\n",
       "      <td>NaN</td>\n",
       "      <td>Racing</td>\n",
       "      <td>0.01</td>\n",
       "      <td>0.00</td>\n",
       "      <td>0.00</td>\n",
       "      <td>0.00</td>\n",
       "      <td>69.0</td>\n",
       "      <td>6.5</td>\n",
       "      <td>T</td>\n",
       "    </tr>\n",
       "    <tr>\n",
       "      <td>16448</td>\n",
       "      <td>Inversion</td>\n",
       "      <td>PC</td>\n",
       "      <td>NaN</td>\n",
       "      <td>Shooter</td>\n",
       "      <td>0.01</td>\n",
       "      <td>0.00</td>\n",
       "      <td>0.00</td>\n",
       "      <td>0.00</td>\n",
       "      <td>59.0</td>\n",
       "      <td>6.7</td>\n",
       "      <td>M</td>\n",
       "    </tr>\n",
       "    <tr>\n",
       "      <td>16458</td>\n",
       "      <td>Hakuouki: Shinsengumi Kitan</td>\n",
       "      <td>PS3</td>\n",
       "      <td>NaN</td>\n",
       "      <td>Adventure</td>\n",
       "      <td>0.01</td>\n",
       "      <td>0.00</td>\n",
       "      <td>0.00</td>\n",
       "      <td>0.00</td>\n",
       "      <td>NaN</td>\n",
       "      <td>NaN</td>\n",
       "      <td>NaN</td>\n",
       "    </tr>\n",
       "    <tr>\n",
       "      <td>16522</td>\n",
       "      <td>Virtua Quest</td>\n",
       "      <td>GC</td>\n",
       "      <td>NaN</td>\n",
       "      <td>Role-Playing</td>\n",
       "      <td>0.01</td>\n",
       "      <td>0.00</td>\n",
       "      <td>0.00</td>\n",
       "      <td>0.00</td>\n",
       "      <td>55.0</td>\n",
       "      <td>5.5</td>\n",
       "      <td>T</td>\n",
       "    </tr>\n",
       "  </tbody>\n",
       "</table>\n",
       "<p>269 rows × 11 columns</p>\n",
       "</div>"
      ],
      "text/plain": [
       "                                    name platform  year_of_release  \\\n",
       "183                      Madden NFL 2004      PS2              NaN   \n",
       "377                     FIFA Soccer 2004      PS2              NaN   \n",
       "456           LEGO Batman: The Videogame      Wii              NaN   \n",
       "475           wwe Smackdown vs. Raw 2006      PS2              NaN   \n",
       "609                       Space Invaders     2600              NaN   \n",
       "...                                  ...      ...              ...   \n",
       "16373  PDC World Championship Darts 2008      PSP              NaN   \n",
       "16405                      Freaky Flyers       GC              NaN   \n",
       "16448                          Inversion       PC              NaN   \n",
       "16458        Hakuouki: Shinsengumi Kitan      PS3              NaN   \n",
       "16522                       Virtua Quest       GC              NaN   \n",
       "\n",
       "              genre  na_sales  eu_sales  jp_sales  other_sales  critic_score  \\\n",
       "183          Sports      4.26      0.26      0.01         0.71          94.0   \n",
       "377          Sports      0.59      2.36      0.04         0.51          84.0   \n",
       "456          Action      1.80      0.97      0.00         0.29          74.0   \n",
       "475        Fighting      1.57      1.02      0.00         0.41           NaN   \n",
       "609         Shooter      2.36      0.14      0.00         0.03           NaN   \n",
       "...             ...       ...       ...       ...          ...           ...   \n",
       "16373        Sports      0.01      0.00      0.00         0.00          43.0   \n",
       "16405        Racing      0.01      0.00      0.00         0.00          69.0   \n",
       "16448       Shooter      0.01      0.00      0.00         0.00          59.0   \n",
       "16458     Adventure      0.01      0.00      0.00         0.00           NaN   \n",
       "16522  Role-Playing      0.01      0.00      0.00         0.00          55.0   \n",
       "\n",
       "      user_score rating  \n",
       "183          8.5      E  \n",
       "377          6.4      E  \n",
       "456          7.9   E10+  \n",
       "475          NaN    NaN  \n",
       "609          NaN    NaN  \n",
       "...          ...    ...  \n",
       "16373        tbd   E10+  \n",
       "16405        6.5      T  \n",
       "16448        6.7      M  \n",
       "16458        NaN    NaN  \n",
       "16522        5.5      T  \n",
       "\n",
       "[269 rows x 11 columns]"
      ]
     },
     "execution_count": 9,
     "metadata": {},
     "output_type": "execute_result"
    }
   ],
   "source": [
    "df.query('year_of_release != year_of_release')"
   ]
  },
  {
   "cell_type": "markdown",
   "id": "e9cabcec",
   "metadata": {},
   "source": [
    "Видно, что в столбце 269 пропусков, при этом в названии части игр спортивного жанра указан год выпуска. Эти данные можно использовать, чтобы вернуть год выпуска игры."
   ]
  },
  {
   "cell_type": "code",
   "execution_count": 10,
   "id": "d642ece3",
   "metadata": {
    "scrolled": false
   },
   "outputs": [
    {
     "data": {
      "text/html": [
       "<div>\n",
       "<style scoped>\n",
       "    .dataframe tbody tr th:only-of-type {\n",
       "        vertical-align: middle;\n",
       "    }\n",
       "\n",
       "    .dataframe tbody tr th {\n",
       "        vertical-align: top;\n",
       "    }\n",
       "\n",
       "    .dataframe thead th {\n",
       "        text-align: right;\n",
       "    }\n",
       "</style>\n",
       "<table border=\"1\" class=\"dataframe\">\n",
       "  <thead>\n",
       "    <tr style=\"text-align: right;\">\n",
       "      <th></th>\n",
       "      <th>name</th>\n",
       "      <th>platform</th>\n",
       "      <th>year_of_release</th>\n",
       "      <th>genre</th>\n",
       "      <th>na_sales</th>\n",
       "      <th>eu_sales</th>\n",
       "      <th>jp_sales</th>\n",
       "      <th>other_sales</th>\n",
       "      <th>critic_score</th>\n",
       "      <th>user_score</th>\n",
       "      <th>rating</th>\n",
       "    </tr>\n",
       "  </thead>\n",
       "  <tbody>\n",
       "    <tr>\n",
       "      <td>183</td>\n",
       "      <td>Madden NFL 2004</td>\n",
       "      <td>PS2</td>\n",
       "      <td>2004</td>\n",
       "      <td>Sports</td>\n",
       "      <td>4.26</td>\n",
       "      <td>0.26</td>\n",
       "      <td>0.01</td>\n",
       "      <td>0.71</td>\n",
       "      <td>94.0</td>\n",
       "      <td>8.5</td>\n",
       "      <td>E</td>\n",
       "    </tr>\n",
       "    <tr>\n",
       "      <td>377</td>\n",
       "      <td>FIFA Soccer 2004</td>\n",
       "      <td>PS2</td>\n",
       "      <td>2004</td>\n",
       "      <td>Sports</td>\n",
       "      <td>0.59</td>\n",
       "      <td>2.36</td>\n",
       "      <td>0.04</td>\n",
       "      <td>0.51</td>\n",
       "      <td>84.0</td>\n",
       "      <td>6.4</td>\n",
       "      <td>E</td>\n",
       "    </tr>\n",
       "    <tr>\n",
       "      <td>475</td>\n",
       "      <td>wwe Smackdown vs. Raw 2006</td>\n",
       "      <td>PS2</td>\n",
       "      <td>2006</td>\n",
       "      <td>Fighting</td>\n",
       "      <td>1.57</td>\n",
       "      <td>1.02</td>\n",
       "      <td>0.00</td>\n",
       "      <td>0.41</td>\n",
       "      <td>NaN</td>\n",
       "      <td>NaN</td>\n",
       "      <td>NaN</td>\n",
       "    </tr>\n",
       "    <tr>\n",
       "      <td>1650</td>\n",
       "      <td>NASCAR Thunder 2003</td>\n",
       "      <td>PS2</td>\n",
       "      <td>2003</td>\n",
       "      <td>Racing</td>\n",
       "      <td>0.60</td>\n",
       "      <td>0.46</td>\n",
       "      <td>0.00</td>\n",
       "      <td>0.16</td>\n",
       "      <td>84.0</td>\n",
       "      <td>8.7</td>\n",
       "      <td>E</td>\n",
       "    </tr>\n",
       "    <tr>\n",
       "      <td>2492</td>\n",
       "      <td>MLB SlugFest 20-03</td>\n",
       "      <td>PS2</td>\n",
       "      <td>0-03</td>\n",
       "      <td>Sports</td>\n",
       "      <td>0.41</td>\n",
       "      <td>0.32</td>\n",
       "      <td>0.00</td>\n",
       "      <td>0.11</td>\n",
       "      <td>77.0</td>\n",
       "      <td>8.2</td>\n",
       "      <td>E</td>\n",
       "    </tr>\n",
       "    <tr>\n",
       "      <td>2572</td>\n",
       "      <td>PES 2009: Pro Evolution Soccer</td>\n",
       "      <td>PSP</td>\n",
       "      <td>ccer</td>\n",
       "      <td>Sports</td>\n",
       "      <td>0.04</td>\n",
       "      <td>0.33</td>\n",
       "      <td>0.26</td>\n",
       "      <td>0.17</td>\n",
       "      <td>NaN</td>\n",
       "      <td>NaN</td>\n",
       "      <td>NaN</td>\n",
       "    </tr>\n",
       "    <tr>\n",
       "      <td>3486</td>\n",
       "      <td>Madden NFL 2002</td>\n",
       "      <td>XB</td>\n",
       "      <td>2002</td>\n",
       "      <td>Sports</td>\n",
       "      <td>0.53</td>\n",
       "      <td>0.02</td>\n",
       "      <td>0.00</td>\n",
       "      <td>0.03</td>\n",
       "      <td>90.0</td>\n",
       "      <td>8.1</td>\n",
       "      <td>E</td>\n",
       "    </tr>\n",
       "    <tr>\n",
       "      <td>4775</td>\n",
       "      <td>NFL GameDay 2003</td>\n",
       "      <td>PS2</td>\n",
       "      <td>2003</td>\n",
       "      <td>Sports</td>\n",
       "      <td>0.20</td>\n",
       "      <td>0.15</td>\n",
       "      <td>0.00</td>\n",
       "      <td>0.05</td>\n",
       "      <td>60.0</td>\n",
       "      <td>tbd</td>\n",
       "      <td>E</td>\n",
       "    </tr>\n",
       "    <tr>\n",
       "      <td>5156</td>\n",
       "      <td>NBA Live 2003</td>\n",
       "      <td>XB</td>\n",
       "      <td>2003</td>\n",
       "      <td>Sports</td>\n",
       "      <td>0.31</td>\n",
       "      <td>0.04</td>\n",
       "      <td>0.00</td>\n",
       "      <td>0.01</td>\n",
       "      <td>82.0</td>\n",
       "      <td>8.8</td>\n",
       "      <td>E</td>\n",
       "    </tr>\n",
       "    <tr>\n",
       "      <td>5336</td>\n",
       "      <td>Tomb Raider (2013)</td>\n",
       "      <td>PC</td>\n",
       "      <td>013)</td>\n",
       "      <td>Action</td>\n",
       "      <td>0.06</td>\n",
       "      <td>0.25</td>\n",
       "      <td>0.00</td>\n",
       "      <td>0.04</td>\n",
       "      <td>86.0</td>\n",
       "      <td>8.5</td>\n",
       "      <td>M</td>\n",
       "    </tr>\n",
       "    <tr>\n",
       "      <td>5655</td>\n",
       "      <td>All-Star Baseball 2005</td>\n",
       "      <td>PS2</td>\n",
       "      <td>2005</td>\n",
       "      <td>Sports</td>\n",
       "      <td>0.16</td>\n",
       "      <td>0.12</td>\n",
       "      <td>0.00</td>\n",
       "      <td>0.04</td>\n",
       "      <td>72.0</td>\n",
       "      <td>8.6</td>\n",
       "      <td>E</td>\n",
       "    </tr>\n",
       "    <tr>\n",
       "      <td>5889</td>\n",
       "      <td>NBA Live 2003</td>\n",
       "      <td>GC</td>\n",
       "      <td>2003</td>\n",
       "      <td>Sports</td>\n",
       "      <td>0.23</td>\n",
       "      <td>0.06</td>\n",
       "      <td>0.00</td>\n",
       "      <td>0.01</td>\n",
       "      <td>82.0</td>\n",
       "      <td>8.2</td>\n",
       "      <td>E</td>\n",
       "    </tr>\n",
       "    <tr>\n",
       "      <td>6954</td>\n",
       "      <td>Jet X20</td>\n",
       "      <td>PS2</td>\n",
       "      <td>X20</td>\n",
       "      <td>Racing</td>\n",
       "      <td>0.11</td>\n",
       "      <td>0.09</td>\n",
       "      <td>0.00</td>\n",
       "      <td>0.03</td>\n",
       "      <td>NaN</td>\n",
       "      <td>NaN</td>\n",
       "      <td>NaN</td>\n",
       "    </tr>\n",
       "    <tr>\n",
       "      <td>8918</td>\n",
       "      <td>All-Star Baseball 2005</td>\n",
       "      <td>XB</td>\n",
       "      <td>2005</td>\n",
       "      <td>Sports</td>\n",
       "      <td>0.11</td>\n",
       "      <td>0.03</td>\n",
       "      <td>0.00</td>\n",
       "      <td>0.01</td>\n",
       "      <td>75.0</td>\n",
       "      <td>8.8</td>\n",
       "      <td>E</td>\n",
       "    </tr>\n",
       "    <tr>\n",
       "      <td>13195</td>\n",
       "      <td>Tour de France 2011</td>\n",
       "      <td>X360</td>\n",
       "      <td>2011</td>\n",
       "      <td>Racing</td>\n",
       "      <td>0.00</td>\n",
       "      <td>0.04</td>\n",
       "      <td>0.00</td>\n",
       "      <td>0.01</td>\n",
       "      <td>46.0</td>\n",
       "      <td>7.6</td>\n",
       "      <td>NaN</td>\n",
       "    </tr>\n",
       "    <tr>\n",
       "      <td>13929</td>\n",
       "      <td>Sega Rally 2006</td>\n",
       "      <td>PS2</td>\n",
       "      <td>2006</td>\n",
       "      <td>Racing</td>\n",
       "      <td>0.00</td>\n",
       "      <td>0.00</td>\n",
       "      <td>0.04</td>\n",
       "      <td>0.00</td>\n",
       "      <td>NaN</td>\n",
       "      <td>NaN</td>\n",
       "      <td>NaN</td>\n",
       "    </tr>\n",
       "    <tr>\n",
       "      <td>15953</td>\n",
       "      <td>PDC World Championship Darts 2008</td>\n",
       "      <td>DS</td>\n",
       "      <td>2008</td>\n",
       "      <td>Sports</td>\n",
       "      <td>0.01</td>\n",
       "      <td>0.00</td>\n",
       "      <td>0.00</td>\n",
       "      <td>0.00</td>\n",
       "      <td>NaN</td>\n",
       "      <td>NaN</td>\n",
       "      <td>NaN</td>\n",
       "    </tr>\n",
       "    <tr>\n",
       "      <td>16079</td>\n",
       "      <td>Football Manager 2007</td>\n",
       "      <td>X360</td>\n",
       "      <td>2007</td>\n",
       "      <td>Sports</td>\n",
       "      <td>0.00</td>\n",
       "      <td>0.01</td>\n",
       "      <td>0.00</td>\n",
       "      <td>0.00</td>\n",
       "      <td>NaN</td>\n",
       "      <td>NaN</td>\n",
       "      <td>NaN</td>\n",
       "    </tr>\n",
       "    <tr>\n",
       "      <td>16373</td>\n",
       "      <td>PDC World Championship Darts 2008</td>\n",
       "      <td>PSP</td>\n",
       "      <td>2008</td>\n",
       "      <td>Sports</td>\n",
       "      <td>0.01</td>\n",
       "      <td>0.00</td>\n",
       "      <td>0.00</td>\n",
       "      <td>0.00</td>\n",
       "      <td>43.0</td>\n",
       "      <td>tbd</td>\n",
       "      <td>E10+</td>\n",
       "    </tr>\n",
       "  </tbody>\n",
       "</table>\n",
       "</div>"
      ],
      "text/plain": [
       "                                    name platform year_of_release     genre  \\\n",
       "183                      Madden NFL 2004      PS2            2004    Sports   \n",
       "377                     FIFA Soccer 2004      PS2            2004    Sports   \n",
       "475           wwe Smackdown vs. Raw 2006      PS2            2006  Fighting   \n",
       "1650                 NASCAR Thunder 2003      PS2            2003    Racing   \n",
       "2492                  MLB SlugFest 20-03      PS2            0-03    Sports   \n",
       "2572      PES 2009: Pro Evolution Soccer      PSP            ccer    Sports   \n",
       "3486                     Madden NFL 2002       XB            2002    Sports   \n",
       "4775                    NFL GameDay 2003      PS2            2003    Sports   \n",
       "5156                       NBA Live 2003       XB            2003    Sports   \n",
       "5336                  Tomb Raider (2013)       PC            013)    Action   \n",
       "5655              All-Star Baseball 2005      PS2            2005    Sports   \n",
       "5889                       NBA Live 2003       GC            2003    Sports   \n",
       "6954                             Jet X20      PS2             X20    Racing   \n",
       "8918              All-Star Baseball 2005       XB            2005    Sports   \n",
       "13195                Tour de France 2011     X360            2011    Racing   \n",
       "13929                    Sega Rally 2006      PS2            2006    Racing   \n",
       "15953  PDC World Championship Darts 2008       DS            2008    Sports   \n",
       "16079              Football Manager 2007     X360            2007    Sports   \n",
       "16373  PDC World Championship Darts 2008      PSP            2008    Sports   \n",
       "\n",
       "       na_sales  eu_sales  jp_sales  other_sales  critic_score user_score  \\\n",
       "183        4.26      0.26      0.01         0.71          94.0        8.5   \n",
       "377        0.59      2.36      0.04         0.51          84.0        6.4   \n",
       "475        1.57      1.02      0.00         0.41           NaN        NaN   \n",
       "1650       0.60      0.46      0.00         0.16          84.0        8.7   \n",
       "2492       0.41      0.32      0.00         0.11          77.0        8.2   \n",
       "2572       0.04      0.33      0.26         0.17           NaN        NaN   \n",
       "3486       0.53      0.02      0.00         0.03          90.0        8.1   \n",
       "4775       0.20      0.15      0.00         0.05          60.0        tbd   \n",
       "5156       0.31      0.04      0.00         0.01          82.0        8.8   \n",
       "5336       0.06      0.25      0.00         0.04          86.0        8.5   \n",
       "5655       0.16      0.12      0.00         0.04          72.0        8.6   \n",
       "5889       0.23      0.06      0.00         0.01          82.0        8.2   \n",
       "6954       0.11      0.09      0.00         0.03           NaN        NaN   \n",
       "8918       0.11      0.03      0.00         0.01          75.0        8.8   \n",
       "13195      0.00      0.04      0.00         0.01          46.0        7.6   \n",
       "13929      0.00      0.00      0.04         0.00           NaN        NaN   \n",
       "15953      0.01      0.00      0.00         0.00           NaN        NaN   \n",
       "16079      0.00      0.01      0.00         0.00           NaN        NaN   \n",
       "16373      0.01      0.00      0.00         0.00          43.0        tbd   \n",
       "\n",
       "      rating  \n",
       "183        E  \n",
       "377        E  \n",
       "475      NaN  \n",
       "1650       E  \n",
       "2492       E  \n",
       "2572     NaN  \n",
       "3486       E  \n",
       "4775       E  \n",
       "5156       E  \n",
       "5336       M  \n",
       "5655       E  \n",
       "5889       E  \n",
       "6954     NaN  \n",
       "8918       E  \n",
       "13195    NaN  \n",
       "13929    NaN  \n",
       "15953    NaN  \n",
       "16079    NaN  \n",
       "16373   E10+  "
      ]
     },
     "execution_count": 10,
     "metadata": {},
     "output_type": "execute_result"
    }
   ],
   "source": [
    "df_no_year = df.query('year_of_release != year_of_release')\n",
    "df_no_year_sport = df_no_year[df_no_year['name'].str.contains('20|19')]\n",
    "df_no_year_sport['year_of_release'] = df_no_year_sport['name'].str[-4:]\n",
    "df_no_year_sport"
   ]
  },
  {
   "cell_type": "markdown",
   "id": "896630e7",
   "metadata": {},
   "source": [
    "Данные из названия получены, но в названии трех игр год шел не в конце, можно заменить эти значения вручную.\n",
    "Игру под названием \"Jet X20\" нужно удалить, цифры в ее названии не связаны с датой выпуска."
   ]
  },
  {
   "cell_type": "code",
   "execution_count": 11,
   "id": "7f961785",
   "metadata": {
    "scrolled": true
   },
   "outputs": [
    {
     "data": {
      "text/html": [
       "<div>\n",
       "<style scoped>\n",
       "    .dataframe tbody tr th:only-of-type {\n",
       "        vertical-align: middle;\n",
       "    }\n",
       "\n",
       "    .dataframe tbody tr th {\n",
       "        vertical-align: top;\n",
       "    }\n",
       "\n",
       "    .dataframe thead th {\n",
       "        text-align: right;\n",
       "    }\n",
       "</style>\n",
       "<table border=\"1\" class=\"dataframe\">\n",
       "  <thead>\n",
       "    <tr style=\"text-align: right;\">\n",
       "      <th></th>\n",
       "      <th>name</th>\n",
       "      <th>platform</th>\n",
       "      <th>year_of_release</th>\n",
       "      <th>genre</th>\n",
       "      <th>na_sales</th>\n",
       "      <th>eu_sales</th>\n",
       "      <th>jp_sales</th>\n",
       "      <th>other_sales</th>\n",
       "      <th>critic_score</th>\n",
       "      <th>user_score</th>\n",
       "      <th>rating</th>\n",
       "    </tr>\n",
       "  </thead>\n",
       "  <tbody>\n",
       "    <tr>\n",
       "      <td>183</td>\n",
       "      <td>Madden NFL 2004</td>\n",
       "      <td>PS2</td>\n",
       "      <td>2004</td>\n",
       "      <td>Sports</td>\n",
       "      <td>4.26</td>\n",
       "      <td>0.26</td>\n",
       "      <td>0.01</td>\n",
       "      <td>0.71</td>\n",
       "      <td>94.0</td>\n",
       "      <td>8.5</td>\n",
       "      <td>E</td>\n",
       "    </tr>\n",
       "    <tr>\n",
       "      <td>377</td>\n",
       "      <td>FIFA Soccer 2004</td>\n",
       "      <td>PS2</td>\n",
       "      <td>2004</td>\n",
       "      <td>Sports</td>\n",
       "      <td>0.59</td>\n",
       "      <td>2.36</td>\n",
       "      <td>0.04</td>\n",
       "      <td>0.51</td>\n",
       "      <td>84.0</td>\n",
       "      <td>6.4</td>\n",
       "      <td>E</td>\n",
       "    </tr>\n",
       "    <tr>\n",
       "      <td>475</td>\n",
       "      <td>wwe Smackdown vs. Raw 2006</td>\n",
       "      <td>PS2</td>\n",
       "      <td>2006</td>\n",
       "      <td>Fighting</td>\n",
       "      <td>1.57</td>\n",
       "      <td>1.02</td>\n",
       "      <td>0.00</td>\n",
       "      <td>0.41</td>\n",
       "      <td>NaN</td>\n",
       "      <td>NaN</td>\n",
       "      <td>NaN</td>\n",
       "    </tr>\n",
       "    <tr>\n",
       "      <td>1650</td>\n",
       "      <td>NASCAR Thunder 2003</td>\n",
       "      <td>PS2</td>\n",
       "      <td>2003</td>\n",
       "      <td>Racing</td>\n",
       "      <td>0.60</td>\n",
       "      <td>0.46</td>\n",
       "      <td>0.00</td>\n",
       "      <td>0.16</td>\n",
       "      <td>84.0</td>\n",
       "      <td>8.7</td>\n",
       "      <td>E</td>\n",
       "    </tr>\n",
       "    <tr>\n",
       "      <td>2492</td>\n",
       "      <td>MLB SlugFest 20-03</td>\n",
       "      <td>PS2</td>\n",
       "      <td>2003</td>\n",
       "      <td>Sports</td>\n",
       "      <td>0.41</td>\n",
       "      <td>0.32</td>\n",
       "      <td>0.00</td>\n",
       "      <td>0.11</td>\n",
       "      <td>77.0</td>\n",
       "      <td>8.2</td>\n",
       "      <td>E</td>\n",
       "    </tr>\n",
       "    <tr>\n",
       "      <td>2572</td>\n",
       "      <td>PES 2009: Pro Evolution Soccer</td>\n",
       "      <td>PSP</td>\n",
       "      <td>2009</td>\n",
       "      <td>Sports</td>\n",
       "      <td>0.04</td>\n",
       "      <td>0.33</td>\n",
       "      <td>0.26</td>\n",
       "      <td>0.17</td>\n",
       "      <td>NaN</td>\n",
       "      <td>NaN</td>\n",
       "      <td>NaN</td>\n",
       "    </tr>\n",
       "    <tr>\n",
       "      <td>3486</td>\n",
       "      <td>Madden NFL 2002</td>\n",
       "      <td>XB</td>\n",
       "      <td>2002</td>\n",
       "      <td>Sports</td>\n",
       "      <td>0.53</td>\n",
       "      <td>0.02</td>\n",
       "      <td>0.00</td>\n",
       "      <td>0.03</td>\n",
       "      <td>90.0</td>\n",
       "      <td>8.1</td>\n",
       "      <td>E</td>\n",
       "    </tr>\n",
       "    <tr>\n",
       "      <td>4775</td>\n",
       "      <td>NFL GameDay 2003</td>\n",
       "      <td>PS2</td>\n",
       "      <td>2003</td>\n",
       "      <td>Sports</td>\n",
       "      <td>0.20</td>\n",
       "      <td>0.15</td>\n",
       "      <td>0.00</td>\n",
       "      <td>0.05</td>\n",
       "      <td>60.0</td>\n",
       "      <td>tbd</td>\n",
       "      <td>E</td>\n",
       "    </tr>\n",
       "    <tr>\n",
       "      <td>5156</td>\n",
       "      <td>NBA Live 2003</td>\n",
       "      <td>XB</td>\n",
       "      <td>2003</td>\n",
       "      <td>Sports</td>\n",
       "      <td>0.31</td>\n",
       "      <td>0.04</td>\n",
       "      <td>0.00</td>\n",
       "      <td>0.01</td>\n",
       "      <td>82.0</td>\n",
       "      <td>8.8</td>\n",
       "      <td>E</td>\n",
       "    </tr>\n",
       "    <tr>\n",
       "      <td>5336</td>\n",
       "      <td>Tomb Raider (2013)</td>\n",
       "      <td>PC</td>\n",
       "      <td>2013</td>\n",
       "      <td>Action</td>\n",
       "      <td>0.06</td>\n",
       "      <td>0.25</td>\n",
       "      <td>0.00</td>\n",
       "      <td>0.04</td>\n",
       "      <td>86.0</td>\n",
       "      <td>8.5</td>\n",
       "      <td>M</td>\n",
       "    </tr>\n",
       "    <tr>\n",
       "      <td>5655</td>\n",
       "      <td>All-Star Baseball 2005</td>\n",
       "      <td>PS2</td>\n",
       "      <td>2005</td>\n",
       "      <td>Sports</td>\n",
       "      <td>0.16</td>\n",
       "      <td>0.12</td>\n",
       "      <td>0.00</td>\n",
       "      <td>0.04</td>\n",
       "      <td>72.0</td>\n",
       "      <td>8.6</td>\n",
       "      <td>E</td>\n",
       "    </tr>\n",
       "    <tr>\n",
       "      <td>5889</td>\n",
       "      <td>NBA Live 2003</td>\n",
       "      <td>GC</td>\n",
       "      <td>2003</td>\n",
       "      <td>Sports</td>\n",
       "      <td>0.23</td>\n",
       "      <td>0.06</td>\n",
       "      <td>0.00</td>\n",
       "      <td>0.01</td>\n",
       "      <td>82.0</td>\n",
       "      <td>8.2</td>\n",
       "      <td>E</td>\n",
       "    </tr>\n",
       "    <tr>\n",
       "      <td>8918</td>\n",
       "      <td>All-Star Baseball 2005</td>\n",
       "      <td>XB</td>\n",
       "      <td>2005</td>\n",
       "      <td>Sports</td>\n",
       "      <td>0.11</td>\n",
       "      <td>0.03</td>\n",
       "      <td>0.00</td>\n",
       "      <td>0.01</td>\n",
       "      <td>75.0</td>\n",
       "      <td>8.8</td>\n",
       "      <td>E</td>\n",
       "    </tr>\n",
       "    <tr>\n",
       "      <td>13195</td>\n",
       "      <td>Tour de France 2011</td>\n",
       "      <td>X360</td>\n",
       "      <td>2011</td>\n",
       "      <td>Racing</td>\n",
       "      <td>0.00</td>\n",
       "      <td>0.04</td>\n",
       "      <td>0.00</td>\n",
       "      <td>0.01</td>\n",
       "      <td>46.0</td>\n",
       "      <td>7.6</td>\n",
       "      <td>NaN</td>\n",
       "    </tr>\n",
       "    <tr>\n",
       "      <td>13929</td>\n",
       "      <td>Sega Rally 2006</td>\n",
       "      <td>PS2</td>\n",
       "      <td>2006</td>\n",
       "      <td>Racing</td>\n",
       "      <td>0.00</td>\n",
       "      <td>0.00</td>\n",
       "      <td>0.04</td>\n",
       "      <td>0.00</td>\n",
       "      <td>NaN</td>\n",
       "      <td>NaN</td>\n",
       "      <td>NaN</td>\n",
       "    </tr>\n",
       "    <tr>\n",
       "      <td>15953</td>\n",
       "      <td>PDC World Championship Darts 2008</td>\n",
       "      <td>DS</td>\n",
       "      <td>2008</td>\n",
       "      <td>Sports</td>\n",
       "      <td>0.01</td>\n",
       "      <td>0.00</td>\n",
       "      <td>0.00</td>\n",
       "      <td>0.00</td>\n",
       "      <td>NaN</td>\n",
       "      <td>NaN</td>\n",
       "      <td>NaN</td>\n",
       "    </tr>\n",
       "    <tr>\n",
       "      <td>16079</td>\n",
       "      <td>Football Manager 2007</td>\n",
       "      <td>X360</td>\n",
       "      <td>2007</td>\n",
       "      <td>Sports</td>\n",
       "      <td>0.00</td>\n",
       "      <td>0.01</td>\n",
       "      <td>0.00</td>\n",
       "      <td>0.00</td>\n",
       "      <td>NaN</td>\n",
       "      <td>NaN</td>\n",
       "      <td>NaN</td>\n",
       "    </tr>\n",
       "    <tr>\n",
       "      <td>16373</td>\n",
       "      <td>PDC World Championship Darts 2008</td>\n",
       "      <td>PSP</td>\n",
       "      <td>2008</td>\n",
       "      <td>Sports</td>\n",
       "      <td>0.01</td>\n",
       "      <td>0.00</td>\n",
       "      <td>0.00</td>\n",
       "      <td>0.00</td>\n",
       "      <td>43.0</td>\n",
       "      <td>tbd</td>\n",
       "      <td>E10+</td>\n",
       "    </tr>\n",
       "  </tbody>\n",
       "</table>\n",
       "</div>"
      ],
      "text/plain": [
       "                                    name platform year_of_release     genre  \\\n",
       "183                      Madden NFL 2004      PS2            2004    Sports   \n",
       "377                     FIFA Soccer 2004      PS2            2004    Sports   \n",
       "475           wwe Smackdown vs. Raw 2006      PS2            2006  Fighting   \n",
       "1650                 NASCAR Thunder 2003      PS2            2003    Racing   \n",
       "2492                  MLB SlugFest 20-03      PS2            2003    Sports   \n",
       "2572      PES 2009: Pro Evolution Soccer      PSP            2009    Sports   \n",
       "3486                     Madden NFL 2002       XB            2002    Sports   \n",
       "4775                    NFL GameDay 2003      PS2            2003    Sports   \n",
       "5156                       NBA Live 2003       XB            2003    Sports   \n",
       "5336                  Tomb Raider (2013)       PC            2013    Action   \n",
       "5655              All-Star Baseball 2005      PS2            2005    Sports   \n",
       "5889                       NBA Live 2003       GC            2003    Sports   \n",
       "8918              All-Star Baseball 2005       XB            2005    Sports   \n",
       "13195                Tour de France 2011     X360            2011    Racing   \n",
       "13929                    Sega Rally 2006      PS2            2006    Racing   \n",
       "15953  PDC World Championship Darts 2008       DS            2008    Sports   \n",
       "16079              Football Manager 2007     X360            2007    Sports   \n",
       "16373  PDC World Championship Darts 2008      PSP            2008    Sports   \n",
       "\n",
       "       na_sales  eu_sales  jp_sales  other_sales  critic_score user_score  \\\n",
       "183        4.26      0.26      0.01         0.71          94.0        8.5   \n",
       "377        0.59      2.36      0.04         0.51          84.0        6.4   \n",
       "475        1.57      1.02      0.00         0.41           NaN        NaN   \n",
       "1650       0.60      0.46      0.00         0.16          84.0        8.7   \n",
       "2492       0.41      0.32      0.00         0.11          77.0        8.2   \n",
       "2572       0.04      0.33      0.26         0.17           NaN        NaN   \n",
       "3486       0.53      0.02      0.00         0.03          90.0        8.1   \n",
       "4775       0.20      0.15      0.00         0.05          60.0        tbd   \n",
       "5156       0.31      0.04      0.00         0.01          82.0        8.8   \n",
       "5336       0.06      0.25      0.00         0.04          86.0        8.5   \n",
       "5655       0.16      0.12      0.00         0.04          72.0        8.6   \n",
       "5889       0.23      0.06      0.00         0.01          82.0        8.2   \n",
       "8918       0.11      0.03      0.00         0.01          75.0        8.8   \n",
       "13195      0.00      0.04      0.00         0.01          46.0        7.6   \n",
       "13929      0.00      0.00      0.04         0.00           NaN        NaN   \n",
       "15953      0.01      0.00      0.00         0.00           NaN        NaN   \n",
       "16079      0.00      0.01      0.00         0.00           NaN        NaN   \n",
       "16373      0.01      0.00      0.00         0.00          43.0        tbd   \n",
       "\n",
       "      rating  \n",
       "183        E  \n",
       "377        E  \n",
       "475      NaN  \n",
       "1650       E  \n",
       "2492       E  \n",
       "2572     NaN  \n",
       "3486       E  \n",
       "4775       E  \n",
       "5156       E  \n",
       "5336       M  \n",
       "5655       E  \n",
       "5889       E  \n",
       "8918       E  \n",
       "13195    NaN  \n",
       "13929    NaN  \n",
       "15953    NaN  \n",
       "16079    NaN  \n",
       "16373   E10+  "
      ]
     },
     "execution_count": 11,
     "metadata": {},
     "output_type": "execute_result"
    }
   ],
   "source": [
    "df_no_year_sport.loc[(df_no_year_sport.name == \"MLB SlugFest 20-03\"),'year_of_release'] = 2003\n",
    "df_no_year_sport.loc[(df_no_year_sport.name == \"PES 2009: Pro Evolution Soccer\"),'year_of_release'] = 2009\n",
    "df_no_year_sport.loc[(df_no_year_sport.name == \"Tomb Raider (2013)\"),'year_of_release'] = 2013\n",
    "df_no_year_sport = df_no_year_sport.drop(df_no_year_sport.query('name == \"Jet X20\"').index)\n",
    "df_no_year_sport"
   ]
  },
  {
   "cell_type": "markdown",
   "id": "85c41266",
   "metadata": {},
   "source": [
    "Таким образом был получен срез игр, в названии которых была дата выпуска. Из него можно удалить ненужные столбцы и изменить формат года выпуска на числовой. Важный нюанс: год выпуска из названия по факту больше на единицу, чтобы название игры оставалось актуальным весь следующий год - в связи с этим из года в названии был вычтен 1 год."
   ]
  },
  {
   "cell_type": "code",
   "execution_count": 12,
   "id": "41bcec3a",
   "metadata": {
    "scrolled": false
   },
   "outputs": [
    {
     "data": {
      "text/html": [
       "<div>\n",
       "<style scoped>\n",
       "    .dataframe tbody tr th:only-of-type {\n",
       "        vertical-align: middle;\n",
       "    }\n",
       "\n",
       "    .dataframe tbody tr th {\n",
       "        vertical-align: top;\n",
       "    }\n",
       "\n",
       "    .dataframe thead th {\n",
       "        text-align: right;\n",
       "    }\n",
       "</style>\n",
       "<table border=\"1\" class=\"dataframe\">\n",
       "  <thead>\n",
       "    <tr style=\"text-align: right;\">\n",
       "      <th></th>\n",
       "      <th>name</th>\n",
       "      <th>platform</th>\n",
       "      <th>year_of_release</th>\n",
       "    </tr>\n",
       "  </thead>\n",
       "  <tbody>\n",
       "    <tr>\n",
       "      <td>183</td>\n",
       "      <td>Madden NFL 2004</td>\n",
       "      <td>PS2</td>\n",
       "      <td>2003.0</td>\n",
       "    </tr>\n",
       "    <tr>\n",
       "      <td>377</td>\n",
       "      <td>FIFA Soccer 2004</td>\n",
       "      <td>PS2</td>\n",
       "      <td>2003.0</td>\n",
       "    </tr>\n",
       "    <tr>\n",
       "      <td>475</td>\n",
       "      <td>wwe Smackdown vs. Raw 2006</td>\n",
       "      <td>PS2</td>\n",
       "      <td>2005.0</td>\n",
       "    </tr>\n",
       "    <tr>\n",
       "      <td>1650</td>\n",
       "      <td>NASCAR Thunder 2003</td>\n",
       "      <td>PS2</td>\n",
       "      <td>2002.0</td>\n",
       "    </tr>\n",
       "    <tr>\n",
       "      <td>2492</td>\n",
       "      <td>MLB SlugFest 20-03</td>\n",
       "      <td>PS2</td>\n",
       "      <td>2002.0</td>\n",
       "    </tr>\n",
       "    <tr>\n",
       "      <td>2572</td>\n",
       "      <td>PES 2009: Pro Evolution Soccer</td>\n",
       "      <td>PSP</td>\n",
       "      <td>2008.0</td>\n",
       "    </tr>\n",
       "    <tr>\n",
       "      <td>3486</td>\n",
       "      <td>Madden NFL 2002</td>\n",
       "      <td>XB</td>\n",
       "      <td>2001.0</td>\n",
       "    </tr>\n",
       "    <tr>\n",
       "      <td>4775</td>\n",
       "      <td>NFL GameDay 2003</td>\n",
       "      <td>PS2</td>\n",
       "      <td>2002.0</td>\n",
       "    </tr>\n",
       "    <tr>\n",
       "      <td>5156</td>\n",
       "      <td>NBA Live 2003</td>\n",
       "      <td>XB</td>\n",
       "      <td>2002.0</td>\n",
       "    </tr>\n",
       "    <tr>\n",
       "      <td>5336</td>\n",
       "      <td>Tomb Raider (2013)</td>\n",
       "      <td>PC</td>\n",
       "      <td>2012.0</td>\n",
       "    </tr>\n",
       "    <tr>\n",
       "      <td>5655</td>\n",
       "      <td>All-Star Baseball 2005</td>\n",
       "      <td>PS2</td>\n",
       "      <td>2004.0</td>\n",
       "    </tr>\n",
       "    <tr>\n",
       "      <td>5889</td>\n",
       "      <td>NBA Live 2003</td>\n",
       "      <td>GC</td>\n",
       "      <td>2002.0</td>\n",
       "    </tr>\n",
       "    <tr>\n",
       "      <td>8918</td>\n",
       "      <td>All-Star Baseball 2005</td>\n",
       "      <td>XB</td>\n",
       "      <td>2004.0</td>\n",
       "    </tr>\n",
       "    <tr>\n",
       "      <td>13195</td>\n",
       "      <td>Tour de France 2011</td>\n",
       "      <td>X360</td>\n",
       "      <td>2010.0</td>\n",
       "    </tr>\n",
       "    <tr>\n",
       "      <td>13929</td>\n",
       "      <td>Sega Rally 2006</td>\n",
       "      <td>PS2</td>\n",
       "      <td>2005.0</td>\n",
       "    </tr>\n",
       "    <tr>\n",
       "      <td>15953</td>\n",
       "      <td>PDC World Championship Darts 2008</td>\n",
       "      <td>DS</td>\n",
       "      <td>2007.0</td>\n",
       "    </tr>\n",
       "    <tr>\n",
       "      <td>16079</td>\n",
       "      <td>Football Manager 2007</td>\n",
       "      <td>X360</td>\n",
       "      <td>2006.0</td>\n",
       "    </tr>\n",
       "    <tr>\n",
       "      <td>16373</td>\n",
       "      <td>PDC World Championship Darts 2008</td>\n",
       "      <td>PSP</td>\n",
       "      <td>2007.0</td>\n",
       "    </tr>\n",
       "  </tbody>\n",
       "</table>\n",
       "</div>"
      ],
      "text/plain": [
       "                                    name platform  year_of_release\n",
       "183                      Madden NFL 2004      PS2           2003.0\n",
       "377                     FIFA Soccer 2004      PS2           2003.0\n",
       "475           wwe Smackdown vs. Raw 2006      PS2           2005.0\n",
       "1650                 NASCAR Thunder 2003      PS2           2002.0\n",
       "2492                  MLB SlugFest 20-03      PS2           2002.0\n",
       "2572      PES 2009: Pro Evolution Soccer      PSP           2008.0\n",
       "3486                     Madden NFL 2002       XB           2001.0\n",
       "4775                    NFL GameDay 2003      PS2           2002.0\n",
       "5156                       NBA Live 2003       XB           2002.0\n",
       "5336                  Tomb Raider (2013)       PC           2012.0\n",
       "5655              All-Star Baseball 2005      PS2           2004.0\n",
       "5889                       NBA Live 2003       GC           2002.0\n",
       "8918              All-Star Baseball 2005       XB           2004.0\n",
       "13195                Tour de France 2011     X360           2010.0\n",
       "13929                    Sega Rally 2006      PS2           2005.0\n",
       "15953  PDC World Championship Darts 2008       DS           2007.0\n",
       "16079              Football Manager 2007     X360           2006.0\n",
       "16373  PDC World Championship Darts 2008      PSP           2007.0"
      ]
     },
     "execution_count": 12,
     "metadata": {},
     "output_type": "execute_result"
    }
   ],
   "source": [
    "df_no_year_sport.drop(['genre','na_sales','eu_sales','jp_sales','other_sales','critic_score','user_score','rating'], axis=1, inplace=True)\n",
    "df_no_year_sport['year_of_release'] = df_no_year_sport['year_of_release'].astype('float64')\n",
    "df_no_year_sport['year_of_release'] = df_no_year_sport['year_of_release']-1\n",
    "df_no_year_sport"
   ]
  },
  {
   "cell_type": "markdown",
   "id": "94b41a15",
   "metadata": {},
   "source": [
    "Теперь можно объеденить данную таблицу с основным датафреймом, чтобы взять из него недостающие данные."
   ]
  },
  {
   "cell_type": "code",
   "execution_count": 13,
   "id": "dfb9feae",
   "metadata": {
    "scrolled": true
   },
   "outputs": [
    {
     "data": {
      "text/html": [
       "<div>\n",
       "<style scoped>\n",
       "    .dataframe tbody tr th:only-of-type {\n",
       "        vertical-align: middle;\n",
       "    }\n",
       "\n",
       "    .dataframe tbody tr th {\n",
       "        vertical-align: top;\n",
       "    }\n",
       "\n",
       "    .dataframe thead th {\n",
       "        text-align: right;\n",
       "    }\n",
       "</style>\n",
       "<table border=\"1\" class=\"dataframe\">\n",
       "  <thead>\n",
       "    <tr style=\"text-align: right;\">\n",
       "      <th></th>\n",
       "      <th>name</th>\n",
       "      <th>platform</th>\n",
       "      <th>year_of_release_x</th>\n",
       "      <th>genre</th>\n",
       "      <th>na_sales</th>\n",
       "      <th>eu_sales</th>\n",
       "      <th>jp_sales</th>\n",
       "      <th>other_sales</th>\n",
       "      <th>critic_score</th>\n",
       "      <th>user_score</th>\n",
       "      <th>rating</th>\n",
       "      <th>year_of_release_y</th>\n",
       "    </tr>\n",
       "  </thead>\n",
       "  <tbody>\n",
       "    <tr>\n",
       "      <td>0</td>\n",
       "      <td>Wii Sports</td>\n",
       "      <td>Wii</td>\n",
       "      <td>2006.0</td>\n",
       "      <td>Sports</td>\n",
       "      <td>41.36</td>\n",
       "      <td>28.96</td>\n",
       "      <td>3.77</td>\n",
       "      <td>8.45</td>\n",
       "      <td>76.0</td>\n",
       "      <td>8</td>\n",
       "      <td>E</td>\n",
       "      <td>NaN</td>\n",
       "    </tr>\n",
       "    <tr>\n",
       "      <td>1</td>\n",
       "      <td>Super Mario Bros.</td>\n",
       "      <td>NES</td>\n",
       "      <td>1985.0</td>\n",
       "      <td>Platform</td>\n",
       "      <td>29.08</td>\n",
       "      <td>3.58</td>\n",
       "      <td>6.81</td>\n",
       "      <td>0.77</td>\n",
       "      <td>NaN</td>\n",
       "      <td>NaN</td>\n",
       "      <td>NaN</td>\n",
       "      <td>NaN</td>\n",
       "    </tr>\n",
       "    <tr>\n",
       "      <td>2</td>\n",
       "      <td>Mario Kart Wii</td>\n",
       "      <td>Wii</td>\n",
       "      <td>2008.0</td>\n",
       "      <td>Racing</td>\n",
       "      <td>15.68</td>\n",
       "      <td>12.76</td>\n",
       "      <td>3.79</td>\n",
       "      <td>3.29</td>\n",
       "      <td>82.0</td>\n",
       "      <td>8.3</td>\n",
       "      <td>E</td>\n",
       "      <td>NaN</td>\n",
       "    </tr>\n",
       "    <tr>\n",
       "      <td>3</td>\n",
       "      <td>Wii Sports Resort</td>\n",
       "      <td>Wii</td>\n",
       "      <td>2009.0</td>\n",
       "      <td>Sports</td>\n",
       "      <td>15.61</td>\n",
       "      <td>10.93</td>\n",
       "      <td>3.28</td>\n",
       "      <td>2.95</td>\n",
       "      <td>80.0</td>\n",
       "      <td>8</td>\n",
       "      <td>E</td>\n",
       "      <td>NaN</td>\n",
       "    </tr>\n",
       "    <tr>\n",
       "      <td>4</td>\n",
       "      <td>Pokemon Red/Pokemon Blue</td>\n",
       "      <td>GB</td>\n",
       "      <td>1996.0</td>\n",
       "      <td>Role-Playing</td>\n",
       "      <td>11.27</td>\n",
       "      <td>8.89</td>\n",
       "      <td>10.22</td>\n",
       "      <td>1.00</td>\n",
       "      <td>NaN</td>\n",
       "      <td>NaN</td>\n",
       "      <td>NaN</td>\n",
       "      <td>NaN</td>\n",
       "    </tr>\n",
       "    <tr>\n",
       "      <td>...</td>\n",
       "      <td>...</td>\n",
       "      <td>...</td>\n",
       "      <td>...</td>\n",
       "      <td>...</td>\n",
       "      <td>...</td>\n",
       "      <td>...</td>\n",
       "      <td>...</td>\n",
       "      <td>...</td>\n",
       "      <td>...</td>\n",
       "      <td>...</td>\n",
       "      <td>...</td>\n",
       "      <td>...</td>\n",
       "    </tr>\n",
       "    <tr>\n",
       "      <td>16708</td>\n",
       "      <td>Samurai Warriors: Sanada Maru</td>\n",
       "      <td>PS3</td>\n",
       "      <td>2016.0</td>\n",
       "      <td>Action</td>\n",
       "      <td>0.00</td>\n",
       "      <td>0.00</td>\n",
       "      <td>0.01</td>\n",
       "      <td>0.00</td>\n",
       "      <td>NaN</td>\n",
       "      <td>NaN</td>\n",
       "      <td>NaN</td>\n",
       "      <td>NaN</td>\n",
       "    </tr>\n",
       "    <tr>\n",
       "      <td>16709</td>\n",
       "      <td>LMA Manager 2007</td>\n",
       "      <td>X360</td>\n",
       "      <td>2006.0</td>\n",
       "      <td>Sports</td>\n",
       "      <td>0.00</td>\n",
       "      <td>0.01</td>\n",
       "      <td>0.00</td>\n",
       "      <td>0.00</td>\n",
       "      <td>NaN</td>\n",
       "      <td>NaN</td>\n",
       "      <td>NaN</td>\n",
       "      <td>NaN</td>\n",
       "    </tr>\n",
       "    <tr>\n",
       "      <td>16710</td>\n",
       "      <td>Haitaka no Psychedelica</td>\n",
       "      <td>PSV</td>\n",
       "      <td>2016.0</td>\n",
       "      <td>Adventure</td>\n",
       "      <td>0.00</td>\n",
       "      <td>0.00</td>\n",
       "      <td>0.01</td>\n",
       "      <td>0.00</td>\n",
       "      <td>NaN</td>\n",
       "      <td>NaN</td>\n",
       "      <td>NaN</td>\n",
       "      <td>NaN</td>\n",
       "    </tr>\n",
       "    <tr>\n",
       "      <td>16711</td>\n",
       "      <td>Spirits &amp; Spells</td>\n",
       "      <td>GBA</td>\n",
       "      <td>2003.0</td>\n",
       "      <td>Platform</td>\n",
       "      <td>0.01</td>\n",
       "      <td>0.00</td>\n",
       "      <td>0.00</td>\n",
       "      <td>0.00</td>\n",
       "      <td>NaN</td>\n",
       "      <td>NaN</td>\n",
       "      <td>NaN</td>\n",
       "      <td>NaN</td>\n",
       "    </tr>\n",
       "    <tr>\n",
       "      <td>16712</td>\n",
       "      <td>Winning Post 8 2016</td>\n",
       "      <td>PSV</td>\n",
       "      <td>2016.0</td>\n",
       "      <td>Simulation</td>\n",
       "      <td>0.00</td>\n",
       "      <td>0.00</td>\n",
       "      <td>0.01</td>\n",
       "      <td>0.00</td>\n",
       "      <td>NaN</td>\n",
       "      <td>NaN</td>\n",
       "      <td>NaN</td>\n",
       "      <td>NaN</td>\n",
       "    </tr>\n",
       "  </tbody>\n",
       "</table>\n",
       "<p>16713 rows × 12 columns</p>\n",
       "</div>"
      ],
      "text/plain": [
       "                                name platform  year_of_release_x  \\\n",
       "0                         Wii Sports      Wii             2006.0   \n",
       "1                  Super Mario Bros.      NES             1985.0   \n",
       "2                     Mario Kart Wii      Wii             2008.0   \n",
       "3                  Wii Sports Resort      Wii             2009.0   \n",
       "4           Pokemon Red/Pokemon Blue       GB             1996.0   \n",
       "...                              ...      ...                ...   \n",
       "16708  Samurai Warriors: Sanada Maru      PS3             2016.0   \n",
       "16709               LMA Manager 2007     X360             2006.0   \n",
       "16710        Haitaka no Psychedelica      PSV             2016.0   \n",
       "16711               Spirits & Spells      GBA             2003.0   \n",
       "16712            Winning Post 8 2016      PSV             2016.0   \n",
       "\n",
       "              genre  na_sales  eu_sales  jp_sales  other_sales  critic_score  \\\n",
       "0            Sports     41.36     28.96      3.77         8.45          76.0   \n",
       "1          Platform     29.08      3.58      6.81         0.77           NaN   \n",
       "2            Racing     15.68     12.76      3.79         3.29          82.0   \n",
       "3            Sports     15.61     10.93      3.28         2.95          80.0   \n",
       "4      Role-Playing     11.27      8.89     10.22         1.00           NaN   \n",
       "...             ...       ...       ...       ...          ...           ...   \n",
       "16708        Action      0.00      0.00      0.01         0.00           NaN   \n",
       "16709        Sports      0.00      0.01      0.00         0.00           NaN   \n",
       "16710     Adventure      0.00      0.00      0.01         0.00           NaN   \n",
       "16711      Platform      0.01      0.00      0.00         0.00           NaN   \n",
       "16712    Simulation      0.00      0.00      0.01         0.00           NaN   \n",
       "\n",
       "      user_score rating  year_of_release_y  \n",
       "0              8      E                NaN  \n",
       "1            NaN    NaN                NaN  \n",
       "2            8.3      E                NaN  \n",
       "3              8      E                NaN  \n",
       "4            NaN    NaN                NaN  \n",
       "...          ...    ...                ...  \n",
       "16708        NaN    NaN                NaN  \n",
       "16709        NaN    NaN                NaN  \n",
       "16710        NaN    NaN                NaN  \n",
       "16711        NaN    NaN                NaN  \n",
       "16712        NaN    NaN                NaN  \n",
       "\n",
       "[16713 rows x 12 columns]"
      ]
     },
     "execution_count": 13,
     "metadata": {},
     "output_type": "execute_result"
    }
   ],
   "source": [
    "df = df.merge(df_no_year_sport, how='left',on=['name','platform'])\n",
    "df"
   ]
  },
  {
   "cell_type": "markdown",
   "id": "1b7ca8d1",
   "metadata": {},
   "source": [
    "Из нового столбца подтянем год для тех игр, где он ранее не был указан. Лучше сделать это с использованием функции."
   ]
  },
  {
   "cell_type": "code",
   "execution_count": 14,
   "id": "0e285c20",
   "metadata": {
    "scrolled": true
   },
   "outputs": [
    {
     "data": {
      "text/html": [
       "<div>\n",
       "<style scoped>\n",
       "    .dataframe tbody tr th:only-of-type {\n",
       "        vertical-align: middle;\n",
       "    }\n",
       "\n",
       "    .dataframe tbody tr th {\n",
       "        vertical-align: top;\n",
       "    }\n",
       "\n",
       "    .dataframe thead th {\n",
       "        text-align: right;\n",
       "    }\n",
       "</style>\n",
       "<table border=\"1\" class=\"dataframe\">\n",
       "  <thead>\n",
       "    <tr style=\"text-align: right;\">\n",
       "      <th></th>\n",
       "      <th>name</th>\n",
       "      <th>platform</th>\n",
       "      <th>year_of_release_x</th>\n",
       "      <th>genre</th>\n",
       "      <th>na_sales</th>\n",
       "      <th>eu_sales</th>\n",
       "      <th>jp_sales</th>\n",
       "      <th>other_sales</th>\n",
       "      <th>critic_score</th>\n",
       "      <th>user_score</th>\n",
       "      <th>rating</th>\n",
       "      <th>year_of_release_y</th>\n",
       "    </tr>\n",
       "  </thead>\n",
       "  <tbody>\n",
       "    <tr>\n",
       "      <td>183</td>\n",
       "      <td>Madden NFL 2004</td>\n",
       "      <td>PS2</td>\n",
       "      <td>2003.0</td>\n",
       "      <td>Sports</td>\n",
       "      <td>4.26</td>\n",
       "      <td>0.26</td>\n",
       "      <td>0.01</td>\n",
       "      <td>0.71</td>\n",
       "      <td>94.0</td>\n",
       "      <td>8.5</td>\n",
       "      <td>E</td>\n",
       "      <td>2003.0</td>\n",
       "    </tr>\n",
       "    <tr>\n",
       "      <td>377</td>\n",
       "      <td>FIFA Soccer 2004</td>\n",
       "      <td>PS2</td>\n",
       "      <td>2003.0</td>\n",
       "      <td>Sports</td>\n",
       "      <td>0.59</td>\n",
       "      <td>2.36</td>\n",
       "      <td>0.04</td>\n",
       "      <td>0.51</td>\n",
       "      <td>84.0</td>\n",
       "      <td>6.4</td>\n",
       "      <td>E</td>\n",
       "      <td>2003.0</td>\n",
       "    </tr>\n",
       "    <tr>\n",
       "      <td>475</td>\n",
       "      <td>wwe Smackdown vs. Raw 2006</td>\n",
       "      <td>PS2</td>\n",
       "      <td>2005.0</td>\n",
       "      <td>Fighting</td>\n",
       "      <td>1.57</td>\n",
       "      <td>1.02</td>\n",
       "      <td>0.00</td>\n",
       "      <td>0.41</td>\n",
       "      <td>NaN</td>\n",
       "      <td>NaN</td>\n",
       "      <td>NaN</td>\n",
       "      <td>2005.0</td>\n",
       "    </tr>\n",
       "    <tr>\n",
       "      <td>1649</td>\n",
       "      <td>NASCAR Thunder 2003</td>\n",
       "      <td>PS2</td>\n",
       "      <td>2002.0</td>\n",
       "      <td>Racing</td>\n",
       "      <td>0.60</td>\n",
       "      <td>0.46</td>\n",
       "      <td>0.00</td>\n",
       "      <td>0.16</td>\n",
       "      <td>84.0</td>\n",
       "      <td>8.7</td>\n",
       "      <td>E</td>\n",
       "      <td>2002.0</td>\n",
       "    </tr>\n",
       "    <tr>\n",
       "      <td>2491</td>\n",
       "      <td>MLB SlugFest 20-03</td>\n",
       "      <td>PS2</td>\n",
       "      <td>2002.0</td>\n",
       "      <td>Sports</td>\n",
       "      <td>0.41</td>\n",
       "      <td>0.32</td>\n",
       "      <td>0.00</td>\n",
       "      <td>0.11</td>\n",
       "      <td>77.0</td>\n",
       "      <td>8.2</td>\n",
       "      <td>E</td>\n",
       "      <td>2002.0</td>\n",
       "    </tr>\n",
       "    <tr>\n",
       "      <td>2571</td>\n",
       "      <td>PES 2009: Pro Evolution Soccer</td>\n",
       "      <td>PSP</td>\n",
       "      <td>2008.0</td>\n",
       "      <td>Sports</td>\n",
       "      <td>0.04</td>\n",
       "      <td>0.33</td>\n",
       "      <td>0.26</td>\n",
       "      <td>0.17</td>\n",
       "      <td>NaN</td>\n",
       "      <td>NaN</td>\n",
       "      <td>NaN</td>\n",
       "      <td>2008.0</td>\n",
       "    </tr>\n",
       "    <tr>\n",
       "      <td>3485</td>\n",
       "      <td>Madden NFL 2002</td>\n",
       "      <td>XB</td>\n",
       "      <td>2001.0</td>\n",
       "      <td>Sports</td>\n",
       "      <td>0.53</td>\n",
       "      <td>0.02</td>\n",
       "      <td>0.00</td>\n",
       "      <td>0.03</td>\n",
       "      <td>90.0</td>\n",
       "      <td>8.1</td>\n",
       "      <td>E</td>\n",
       "      <td>2001.0</td>\n",
       "    </tr>\n",
       "    <tr>\n",
       "      <td>4774</td>\n",
       "      <td>NFL GameDay 2003</td>\n",
       "      <td>PS2</td>\n",
       "      <td>2002.0</td>\n",
       "      <td>Sports</td>\n",
       "      <td>0.20</td>\n",
       "      <td>0.15</td>\n",
       "      <td>0.00</td>\n",
       "      <td>0.05</td>\n",
       "      <td>60.0</td>\n",
       "      <td>tbd</td>\n",
       "      <td>E</td>\n",
       "      <td>2002.0</td>\n",
       "    </tr>\n",
       "    <tr>\n",
       "      <td>5155</td>\n",
       "      <td>NBA Live 2003</td>\n",
       "      <td>XB</td>\n",
       "      <td>2002.0</td>\n",
       "      <td>Sports</td>\n",
       "      <td>0.31</td>\n",
       "      <td>0.04</td>\n",
       "      <td>0.00</td>\n",
       "      <td>0.01</td>\n",
       "      <td>82.0</td>\n",
       "      <td>8.8</td>\n",
       "      <td>E</td>\n",
       "      <td>2002.0</td>\n",
       "    </tr>\n",
       "    <tr>\n",
       "      <td>5335</td>\n",
       "      <td>Tomb Raider (2013)</td>\n",
       "      <td>PC</td>\n",
       "      <td>2012.0</td>\n",
       "      <td>Action</td>\n",
       "      <td>0.06</td>\n",
       "      <td>0.25</td>\n",
       "      <td>0.00</td>\n",
       "      <td>0.04</td>\n",
       "      <td>86.0</td>\n",
       "      <td>8.5</td>\n",
       "      <td>M</td>\n",
       "      <td>2012.0</td>\n",
       "    </tr>\n",
       "    <tr>\n",
       "      <td>5654</td>\n",
       "      <td>All-Star Baseball 2005</td>\n",
       "      <td>PS2</td>\n",
       "      <td>2004.0</td>\n",
       "      <td>Sports</td>\n",
       "      <td>0.16</td>\n",
       "      <td>0.12</td>\n",
       "      <td>0.00</td>\n",
       "      <td>0.04</td>\n",
       "      <td>72.0</td>\n",
       "      <td>8.6</td>\n",
       "      <td>E</td>\n",
       "      <td>2004.0</td>\n",
       "    </tr>\n",
       "    <tr>\n",
       "      <td>5888</td>\n",
       "      <td>NBA Live 2003</td>\n",
       "      <td>GC</td>\n",
       "      <td>2002.0</td>\n",
       "      <td>Sports</td>\n",
       "      <td>0.23</td>\n",
       "      <td>0.06</td>\n",
       "      <td>0.00</td>\n",
       "      <td>0.01</td>\n",
       "      <td>82.0</td>\n",
       "      <td>8.2</td>\n",
       "      <td>E</td>\n",
       "      <td>2002.0</td>\n",
       "    </tr>\n",
       "    <tr>\n",
       "      <td>8917</td>\n",
       "      <td>All-Star Baseball 2005</td>\n",
       "      <td>XB</td>\n",
       "      <td>2004.0</td>\n",
       "      <td>Sports</td>\n",
       "      <td>0.11</td>\n",
       "      <td>0.03</td>\n",
       "      <td>0.00</td>\n",
       "      <td>0.01</td>\n",
       "      <td>75.0</td>\n",
       "      <td>8.8</td>\n",
       "      <td>E</td>\n",
       "      <td>2004.0</td>\n",
       "    </tr>\n",
       "    <tr>\n",
       "      <td>13194</td>\n",
       "      <td>Tour de France 2011</td>\n",
       "      <td>X360</td>\n",
       "      <td>2010.0</td>\n",
       "      <td>Racing</td>\n",
       "      <td>0.00</td>\n",
       "      <td>0.04</td>\n",
       "      <td>0.00</td>\n",
       "      <td>0.01</td>\n",
       "      <td>46.0</td>\n",
       "      <td>7.6</td>\n",
       "      <td>NaN</td>\n",
       "      <td>2010.0</td>\n",
       "    </tr>\n",
       "    <tr>\n",
       "      <td>13928</td>\n",
       "      <td>Sega Rally 2006</td>\n",
       "      <td>PS2</td>\n",
       "      <td>2005.0</td>\n",
       "      <td>Racing</td>\n",
       "      <td>0.00</td>\n",
       "      <td>0.00</td>\n",
       "      <td>0.04</td>\n",
       "      <td>0.00</td>\n",
       "      <td>NaN</td>\n",
       "      <td>NaN</td>\n",
       "      <td>NaN</td>\n",
       "      <td>2005.0</td>\n",
       "    </tr>\n",
       "    <tr>\n",
       "      <td>15951</td>\n",
       "      <td>PDC World Championship Darts 2008</td>\n",
       "      <td>DS</td>\n",
       "      <td>2007.0</td>\n",
       "      <td>Sports</td>\n",
       "      <td>0.01</td>\n",
       "      <td>0.00</td>\n",
       "      <td>0.00</td>\n",
       "      <td>0.00</td>\n",
       "      <td>NaN</td>\n",
       "      <td>NaN</td>\n",
       "      <td>NaN</td>\n",
       "      <td>2007.0</td>\n",
       "    </tr>\n",
       "    <tr>\n",
       "      <td>16077</td>\n",
       "      <td>Football Manager 2007</td>\n",
       "      <td>X360</td>\n",
       "      <td>2006.0</td>\n",
       "      <td>Sports</td>\n",
       "      <td>0.00</td>\n",
       "      <td>0.01</td>\n",
       "      <td>0.00</td>\n",
       "      <td>0.00</td>\n",
       "      <td>NaN</td>\n",
       "      <td>NaN</td>\n",
       "      <td>NaN</td>\n",
       "      <td>2006.0</td>\n",
       "    </tr>\n",
       "    <tr>\n",
       "      <td>16371</td>\n",
       "      <td>PDC World Championship Darts 2008</td>\n",
       "      <td>PSP</td>\n",
       "      <td>2007.0</td>\n",
       "      <td>Sports</td>\n",
       "      <td>0.01</td>\n",
       "      <td>0.00</td>\n",
       "      <td>0.00</td>\n",
       "      <td>0.00</td>\n",
       "      <td>43.0</td>\n",
       "      <td>tbd</td>\n",
       "      <td>E10+</td>\n",
       "      <td>2007.0</td>\n",
       "    </tr>\n",
       "  </tbody>\n",
       "</table>\n",
       "</div>"
      ],
      "text/plain": [
       "                                    name platform  year_of_release_x  \\\n",
       "183                      Madden NFL 2004      PS2             2003.0   \n",
       "377                     FIFA Soccer 2004      PS2             2003.0   \n",
       "475           wwe Smackdown vs. Raw 2006      PS2             2005.0   \n",
       "1649                 NASCAR Thunder 2003      PS2             2002.0   \n",
       "2491                  MLB SlugFest 20-03      PS2             2002.0   \n",
       "2571      PES 2009: Pro Evolution Soccer      PSP             2008.0   \n",
       "3485                     Madden NFL 2002       XB             2001.0   \n",
       "4774                    NFL GameDay 2003      PS2             2002.0   \n",
       "5155                       NBA Live 2003       XB             2002.0   \n",
       "5335                  Tomb Raider (2013)       PC             2012.0   \n",
       "5654              All-Star Baseball 2005      PS2             2004.0   \n",
       "5888                       NBA Live 2003       GC             2002.0   \n",
       "8917              All-Star Baseball 2005       XB             2004.0   \n",
       "13194                Tour de France 2011     X360             2010.0   \n",
       "13928                    Sega Rally 2006      PS2             2005.0   \n",
       "15951  PDC World Championship Darts 2008       DS             2007.0   \n",
       "16077              Football Manager 2007     X360             2006.0   \n",
       "16371  PDC World Championship Darts 2008      PSP             2007.0   \n",
       "\n",
       "          genre  na_sales  eu_sales  jp_sales  other_sales  critic_score  \\\n",
       "183      Sports      4.26      0.26      0.01         0.71          94.0   \n",
       "377      Sports      0.59      2.36      0.04         0.51          84.0   \n",
       "475    Fighting      1.57      1.02      0.00         0.41           NaN   \n",
       "1649     Racing      0.60      0.46      0.00         0.16          84.0   \n",
       "2491     Sports      0.41      0.32      0.00         0.11          77.0   \n",
       "2571     Sports      0.04      0.33      0.26         0.17           NaN   \n",
       "3485     Sports      0.53      0.02      0.00         0.03          90.0   \n",
       "4774     Sports      0.20      0.15      0.00         0.05          60.0   \n",
       "5155     Sports      0.31      0.04      0.00         0.01          82.0   \n",
       "5335     Action      0.06      0.25      0.00         0.04          86.0   \n",
       "5654     Sports      0.16      0.12      0.00         0.04          72.0   \n",
       "5888     Sports      0.23      0.06      0.00         0.01          82.0   \n",
       "8917     Sports      0.11      0.03      0.00         0.01          75.0   \n",
       "13194    Racing      0.00      0.04      0.00         0.01          46.0   \n",
       "13928    Racing      0.00      0.00      0.04         0.00           NaN   \n",
       "15951    Sports      0.01      0.00      0.00         0.00           NaN   \n",
       "16077    Sports      0.00      0.01      0.00         0.00           NaN   \n",
       "16371    Sports      0.01      0.00      0.00         0.00          43.0   \n",
       "\n",
       "      user_score rating  year_of_release_y  \n",
       "183          8.5      E             2003.0  \n",
       "377          6.4      E             2003.0  \n",
       "475          NaN    NaN             2005.0  \n",
       "1649         8.7      E             2002.0  \n",
       "2491         8.2      E             2002.0  \n",
       "2571         NaN    NaN             2008.0  \n",
       "3485         8.1      E             2001.0  \n",
       "4774         tbd      E             2002.0  \n",
       "5155         8.8      E             2002.0  \n",
       "5335         8.5      M             2012.0  \n",
       "5654         8.6      E             2004.0  \n",
       "5888         8.2      E             2002.0  \n",
       "8917         8.8      E             2004.0  \n",
       "13194        7.6    NaN             2010.0  \n",
       "13928        NaN    NaN             2005.0  \n",
       "15951        NaN    NaN             2007.0  \n",
       "16077        NaN    NaN             2006.0  \n",
       "16371        tbd   E10+             2007.0  "
      ]
     },
     "execution_count": 14,
     "metadata": {},
     "output_type": "execute_result"
    }
   ],
   "source": [
    "def year_from_name(year_of_release_x,year_of_release_y):\n",
    "    if year_of_release_x != year_of_release_x:\n",
    "        return year_of_release_y\n",
    "    else:\n",
    "        return year_of_release_x\n",
    "df['year_of_release_x'] = df.apply(lambda x: year_from_name(x.year_of_release_x, x.year_of_release_y),axis=1)\n",
    "df.query('year_of_release_y == year_of_release_y')"
   ]
  },
  {
   "cell_type": "markdown",
   "id": "462a3303",
   "metadata": {},
   "source": [
    "Видно, что дата подтянулась, теперь можно удалить более ненужный столбец, а название исходного столбца с датой вернуть в первоначальный вид."
   ]
  },
  {
   "cell_type": "code",
   "execution_count": 15,
   "id": "72b45061",
   "metadata": {
    "scrolled": false
   },
   "outputs": [
    {
     "data": {
      "text/plain": [
       "251"
      ]
     },
     "execution_count": 15,
     "metadata": {},
     "output_type": "execute_result"
    }
   ],
   "source": [
    "df.drop('year_of_release_y', axis = 1, inplace = True)\n",
    "df.rename(columns={df.columns[2]: 'year_of_release'}, inplace=True)\n",
    "df['year_of_release'].isna().sum()"
   ]
  },
  {
   "cell_type": "markdown",
   "id": "1e496de6",
   "metadata": {},
   "source": [
    "Далее можно изучить оставшиеся игры без даты выпуска:"
   ]
  },
  {
   "cell_type": "code",
   "execution_count": 16,
   "id": "61187922",
   "metadata": {},
   "outputs": [
    {
     "data": {
      "text/html": [
       "<div>\n",
       "<style scoped>\n",
       "    .dataframe tbody tr th:only-of-type {\n",
       "        vertical-align: middle;\n",
       "    }\n",
       "\n",
       "    .dataframe tbody tr th {\n",
       "        vertical-align: top;\n",
       "    }\n",
       "\n",
       "    .dataframe thead th {\n",
       "        text-align: right;\n",
       "    }\n",
       "</style>\n",
       "<table border=\"1\" class=\"dataframe\">\n",
       "  <thead>\n",
       "    <tr style=\"text-align: right;\">\n",
       "      <th></th>\n",
       "      <th>name</th>\n",
       "      <th>platform</th>\n",
       "      <th>year_of_release</th>\n",
       "      <th>genre</th>\n",
       "      <th>na_sales</th>\n",
       "      <th>eu_sales</th>\n",
       "      <th>jp_sales</th>\n",
       "      <th>other_sales</th>\n",
       "      <th>critic_score</th>\n",
       "      <th>user_score</th>\n",
       "      <th>rating</th>\n",
       "    </tr>\n",
       "  </thead>\n",
       "  <tbody>\n",
       "    <tr>\n",
       "      <td>456</td>\n",
       "      <td>LEGO Batman: The Videogame</td>\n",
       "      <td>Wii</td>\n",
       "      <td>NaN</td>\n",
       "      <td>Action</td>\n",
       "      <td>1.80</td>\n",
       "      <td>0.97</td>\n",
       "      <td>0.0</td>\n",
       "      <td>0.29</td>\n",
       "      <td>74.0</td>\n",
       "      <td>7.9</td>\n",
       "      <td>E10+</td>\n",
       "    </tr>\n",
       "    <tr>\n",
       "      <td>609</td>\n",
       "      <td>Space Invaders</td>\n",
       "      <td>2600</td>\n",
       "      <td>NaN</td>\n",
       "      <td>Shooter</td>\n",
       "      <td>2.36</td>\n",
       "      <td>0.14</td>\n",
       "      <td>0.0</td>\n",
       "      <td>0.03</td>\n",
       "      <td>NaN</td>\n",
       "      <td>NaN</td>\n",
       "      <td>NaN</td>\n",
       "    </tr>\n",
       "    <tr>\n",
       "      <td>627</td>\n",
       "      <td>Rock Band</td>\n",
       "      <td>X360</td>\n",
       "      <td>NaN</td>\n",
       "      <td>Misc</td>\n",
       "      <td>1.93</td>\n",
       "      <td>0.33</td>\n",
       "      <td>0.0</td>\n",
       "      <td>0.21</td>\n",
       "      <td>92.0</td>\n",
       "      <td>8.2</td>\n",
       "      <td>T</td>\n",
       "    </tr>\n",
       "    <tr>\n",
       "      <td>657</td>\n",
       "      <td>Frogger's Adventures: Temple of the Frog</td>\n",
       "      <td>GBA</td>\n",
       "      <td>NaN</td>\n",
       "      <td>Adventure</td>\n",
       "      <td>2.15</td>\n",
       "      <td>0.18</td>\n",
       "      <td>0.0</td>\n",
       "      <td>0.07</td>\n",
       "      <td>73.0</td>\n",
       "      <td>tbd</td>\n",
       "      <td>E</td>\n",
       "    </tr>\n",
       "    <tr>\n",
       "      <td>677</td>\n",
       "      <td>LEGO Indiana Jones: The Original Adventures</td>\n",
       "      <td>Wii</td>\n",
       "      <td>NaN</td>\n",
       "      <td>Action</td>\n",
       "      <td>1.51</td>\n",
       "      <td>0.61</td>\n",
       "      <td>0.0</td>\n",
       "      <td>0.21</td>\n",
       "      <td>78.0</td>\n",
       "      <td>6.6</td>\n",
       "      <td>E10+</td>\n",
       "    </tr>\n",
       "  </tbody>\n",
       "</table>\n",
       "</div>"
      ],
      "text/plain": [
       "                                            name platform  year_of_release  \\\n",
       "456                   LEGO Batman: The Videogame      Wii              NaN   \n",
       "609                               Space Invaders     2600              NaN   \n",
       "627                                    Rock Band     X360              NaN   \n",
       "657     Frogger's Adventures: Temple of the Frog      GBA              NaN   \n",
       "677  LEGO Indiana Jones: The Original Adventures      Wii              NaN   \n",
       "\n",
       "         genre  na_sales  eu_sales  jp_sales  other_sales  critic_score  \\\n",
       "456     Action      1.80      0.97       0.0         0.29          74.0   \n",
       "609    Shooter      2.36      0.14       0.0         0.03           NaN   \n",
       "627       Misc      1.93      0.33       0.0         0.21          92.0   \n",
       "657  Adventure      2.15      0.18       0.0         0.07          73.0   \n",
       "677     Action      1.51      0.61       0.0         0.21          78.0   \n",
       "\n",
       "    user_score rating  \n",
       "456        7.9   E10+  \n",
       "609        NaN    NaN  \n",
       "627        8.2      T  \n",
       "657        tbd      E  \n",
       "677        6.6   E10+  "
      ]
     },
     "execution_count": 16,
     "metadata": {},
     "output_type": "execute_result"
    }
   ],
   "source": [
    "df.query('year_of_release != year_of_release').head()"
   ]
  },
  {
   "cell_type": "markdown",
   "id": "e9d7e1d8",
   "metadata": {},
   "source": [
    "Вероятно какие-то из игр без даты публикации на одной платформе имели дату публикации на другой платформе:"
   ]
  },
  {
   "cell_type": "code",
   "execution_count": 17,
   "id": "e78f63b0",
   "metadata": {
    "scrolled": true
   },
   "outputs": [
    {
     "data": {
      "text/html": [
       "<div>\n",
       "<style scoped>\n",
       "    .dataframe tbody tr th:only-of-type {\n",
       "        vertical-align: middle;\n",
       "    }\n",
       "\n",
       "    .dataframe tbody tr th {\n",
       "        vertical-align: top;\n",
       "    }\n",
       "\n",
       "    .dataframe thead th {\n",
       "        text-align: right;\n",
       "    }\n",
       "</style>\n",
       "<table border=\"1\" class=\"dataframe\">\n",
       "  <thead>\n",
       "    <tr style=\"text-align: right;\">\n",
       "      <th></th>\n",
       "      <th>name</th>\n",
       "      <th>platform</th>\n",
       "      <th>year_of_release</th>\n",
       "      <th>genre</th>\n",
       "      <th>na_sales</th>\n",
       "      <th>eu_sales</th>\n",
       "      <th>jp_sales</th>\n",
       "      <th>other_sales</th>\n",
       "      <th>critic_score</th>\n",
       "      <th>user_score</th>\n",
       "      <th>rating</th>\n",
       "    </tr>\n",
       "  </thead>\n",
       "  <tbody>\n",
       "    <tr>\n",
       "      <td>397</td>\n",
       "      <td>LEGO Batman: The Videogame</td>\n",
       "      <td>X360</td>\n",
       "      <td>2008.0</td>\n",
       "      <td>Action</td>\n",
       "      <td>2.04</td>\n",
       "      <td>1.02</td>\n",
       "      <td>0.0</td>\n",
       "      <td>0.32</td>\n",
       "      <td>76.0</td>\n",
       "      <td>7.9</td>\n",
       "      <td>E10+</td>\n",
       "    </tr>\n",
       "    <tr>\n",
       "      <td>456</td>\n",
       "      <td>LEGO Batman: The Videogame</td>\n",
       "      <td>Wii</td>\n",
       "      <td>NaN</td>\n",
       "      <td>Action</td>\n",
       "      <td>1.80</td>\n",
       "      <td>0.97</td>\n",
       "      <td>0.0</td>\n",
       "      <td>0.29</td>\n",
       "      <td>74.0</td>\n",
       "      <td>7.9</td>\n",
       "      <td>E10+</td>\n",
       "    </tr>\n",
       "    <tr>\n",
       "      <td>460</td>\n",
       "      <td>LEGO Batman: The Videogame</td>\n",
       "      <td>DS</td>\n",
       "      <td>2008.0</td>\n",
       "      <td>Action</td>\n",
       "      <td>1.75</td>\n",
       "      <td>1.01</td>\n",
       "      <td>0.0</td>\n",
       "      <td>0.29</td>\n",
       "      <td>72.0</td>\n",
       "      <td>8</td>\n",
       "      <td>E10+</td>\n",
       "    </tr>\n",
       "    <tr>\n",
       "      <td>1518</td>\n",
       "      <td>LEGO Batman: The Videogame</td>\n",
       "      <td>PS3</td>\n",
       "      <td>2008.0</td>\n",
       "      <td>Action</td>\n",
       "      <td>0.72</td>\n",
       "      <td>0.39</td>\n",
       "      <td>0.0</td>\n",
       "      <td>0.19</td>\n",
       "      <td>75.0</td>\n",
       "      <td>7.7</td>\n",
       "      <td>E10+</td>\n",
       "    </tr>\n",
       "    <tr>\n",
       "      <td>1537</td>\n",
       "      <td>LEGO Batman: The Videogame</td>\n",
       "      <td>PSP</td>\n",
       "      <td>NaN</td>\n",
       "      <td>Action</td>\n",
       "      <td>0.57</td>\n",
       "      <td>0.44</td>\n",
       "      <td>0.0</td>\n",
       "      <td>0.27</td>\n",
       "      <td>73.0</td>\n",
       "      <td>7.4</td>\n",
       "      <td>E10+</td>\n",
       "    </tr>\n",
       "    <tr>\n",
       "      <td>1552</td>\n",
       "      <td>LEGO Batman: The Videogame</td>\n",
       "      <td>PS2</td>\n",
       "      <td>2008.0</td>\n",
       "      <td>Action</td>\n",
       "      <td>0.72</td>\n",
       "      <td>0.03</td>\n",
       "      <td>0.0</td>\n",
       "      <td>0.52</td>\n",
       "      <td>77.0</td>\n",
       "      <td>8.9</td>\n",
       "      <td>E10+</td>\n",
       "    </tr>\n",
       "    <tr>\n",
       "      <td>12464</td>\n",
       "      <td>LEGO Batman: The Videogame</td>\n",
       "      <td>PC</td>\n",
       "      <td>2008.0</td>\n",
       "      <td>Action</td>\n",
       "      <td>0.02</td>\n",
       "      <td>0.03</td>\n",
       "      <td>0.0</td>\n",
       "      <td>0.01</td>\n",
       "      <td>80.0</td>\n",
       "      <td>7.8</td>\n",
       "      <td>E10+</td>\n",
       "    </tr>\n",
       "  </tbody>\n",
       "</table>\n",
       "</div>"
      ],
      "text/plain": [
       "                             name platform  year_of_release   genre  na_sales  \\\n",
       "397    LEGO Batman: The Videogame     X360           2008.0  Action      2.04   \n",
       "456    LEGO Batman: The Videogame      Wii              NaN  Action      1.80   \n",
       "460    LEGO Batman: The Videogame       DS           2008.0  Action      1.75   \n",
       "1518   LEGO Batman: The Videogame      PS3           2008.0  Action      0.72   \n",
       "1537   LEGO Batman: The Videogame      PSP              NaN  Action      0.57   \n",
       "1552   LEGO Batman: The Videogame      PS2           2008.0  Action      0.72   \n",
       "12464  LEGO Batman: The Videogame       PC           2008.0  Action      0.02   \n",
       "\n",
       "       eu_sales  jp_sales  other_sales  critic_score user_score rating  \n",
       "397        1.02       0.0         0.32          76.0        7.9   E10+  \n",
       "456        0.97       0.0         0.29          74.0        7.9   E10+  \n",
       "460        1.01       0.0         0.29          72.0          8   E10+  \n",
       "1518       0.39       0.0         0.19          75.0        7.7   E10+  \n",
       "1537       0.44       0.0         0.27          73.0        7.4   E10+  \n",
       "1552       0.03       0.0         0.52          77.0        8.9   E10+  \n",
       "12464      0.03       0.0         0.01          80.0        7.8   E10+  "
      ]
     },
     "execution_count": 17,
     "metadata": {},
     "output_type": "execute_result"
    }
   ],
   "source": [
    "df.query('name == \"LEGO Batman: The Videogame\"')"
   ]
  },
  {
   "cell_type": "markdown",
   "id": "54c0c44e",
   "metadata": {},
   "source": [
    "Информация подтвердилась. В идеале следовало бы запросить точную информацию по времени появления игры на каждой платформе, но в заданных условиях можно сделать предположение, что игры публиковались на разных платформах в примерно одинаковый промежуток времени. Тогда можно рассчитать медианное значение года публикации на всех платформах по названию игры и вернуть его для строк с пропусками."
   ]
  },
  {
   "cell_type": "code",
   "execution_count": 18,
   "id": "d2e73a80",
   "metadata": {},
   "outputs": [
    {
     "data": {
      "text/plain": [
       "139"
      ]
     },
     "execution_count": 18,
     "metadata": {},
     "output_type": "execute_result"
    }
   ],
   "source": [
    "df['year_of_release'] = df.groupby('name')['year_of_release'].transform(lambda x: x.fillna(x.median()))\n",
    "df['year_of_release'].isna().sum()"
   ]
  },
  {
   "cell_type": "markdown",
   "id": "e8ee61f3",
   "metadata": {},
   "source": [
    "После замены осталось 139 пропущенных значений в дате публикации.\n",
    "\n",
    "Согласно вводным условиям исследования игровые платформы имеют определенный срок \"жизни\" во время которого ею активно пользуются, и во время которого на нее выпускаются новые игры. Исходя из данного предположения, можно заменить пропуски на медианное значение года публикации всех игр для каждой из платформ."
   ]
  },
  {
   "cell_type": "code",
   "execution_count": 19,
   "id": "d5d91f21",
   "metadata": {
    "scrolled": true
   },
   "outputs": [
    {
     "data": {
      "text/plain": [
       "0"
      ]
     },
     "execution_count": 19,
     "metadata": {},
     "output_type": "execute_result"
    }
   ],
   "source": [
    "df['year_of_release'] = df.groupby('platform')['year_of_release'].transform(lambda x: x.fillna(x.median()))\n",
    "df['year_of_release'].isna().sum()"
   ]
  },
  {
   "cell_type": "markdown",
   "id": "b6424e4e",
   "metadata": {},
   "source": [
    "Пропусков в данном столбце больше нет. Изучим значения по годам, на предмет некорректных данных."
   ]
  },
  {
   "cell_type": "code",
   "execution_count": 20,
   "id": "55d5c1e4",
   "metadata": {
    "scrolled": true
   },
   "outputs": [
    {
     "data": {
      "text/plain": [
       "2008.0    1461\n",
       "2009.0    1455\n",
       "2010.0    1284\n",
       "2007.0    1204\n",
       "2011.0    1164\n",
       "2006.0    1020\n",
       "2005.0     949\n",
       "2002.0     843\n",
       "2003.0     797\n",
       "2004.0     773\n",
       "2012.0     663\n",
       "2015.0     606\n",
       "2014.0     582\n",
       "2013.0     552\n",
       "2016.0     502\n",
       "2001.0     485\n",
       "1998.0     386\n",
       "2000.0     351\n",
       "1999.0     341\n",
       "1997.0     290\n",
       "1996.0     263\n",
       "1995.0     219\n",
       "1994.0     121\n",
       "1993.0      60\n",
       "1982.0      52\n",
       "1981.0      46\n",
       "1992.0      43\n",
       "1991.0      41\n",
       "1986.0      21\n",
       "1983.0      17\n",
       "2004.5      17\n",
       "1989.0      17\n",
       "1987.0      16\n",
       "1990.0      16\n",
       "1988.0      15\n",
       "1985.0      14\n",
       "1984.0      14\n",
       "1980.0       9\n",
       "2002.5       2\n",
       "2001.5       1\n",
       "2005.5       1\n",
       "Name: year_of_release, dtype: int64"
      ]
     },
     "execution_count": 20,
     "metadata": {},
     "output_type": "execute_result"
    }
   ],
   "source": [
    "df['year_of_release'].value_counts()"
   ]
  },
  {
   "cell_type": "markdown",
   "id": "a4667720",
   "metadata": {},
   "source": [
    "По данной группировке видно, что в столбце присутствуют частично некорректные данные, которые, вероятно, получились после замены на медианное значение. Необходимо заменить эти данные."
   ]
  },
  {
   "cell_type": "code",
   "execution_count": 21,
   "id": "bde102b4",
   "metadata": {
    "scrolled": false
   },
   "outputs": [
    {
     "data": {
      "text/html": [
       "<div>\n",
       "<style scoped>\n",
       "    .dataframe tbody tr th:only-of-type {\n",
       "        vertical-align: middle;\n",
       "    }\n",
       "\n",
       "    .dataframe tbody tr th {\n",
       "        vertical-align: top;\n",
       "    }\n",
       "\n",
       "    .dataframe thead th {\n",
       "        text-align: right;\n",
       "    }\n",
       "</style>\n",
       "<table border=\"1\" class=\"dataframe\">\n",
       "  <thead>\n",
       "    <tr style=\"text-align: right;\">\n",
       "      <th></th>\n",
       "      <th>name</th>\n",
       "      <th>platform</th>\n",
       "      <th>year_of_release</th>\n",
       "      <th>genre</th>\n",
       "      <th>na_sales</th>\n",
       "      <th>eu_sales</th>\n",
       "      <th>jp_sales</th>\n",
       "      <th>other_sales</th>\n",
       "      <th>critic_score</th>\n",
       "      <th>user_score</th>\n",
       "      <th>rating</th>\n",
       "    </tr>\n",
       "  </thead>\n",
       "  <tbody>\n",
       "  </tbody>\n",
       "</table>\n",
       "</div>"
      ],
      "text/plain": [
       "Empty DataFrame\n",
       "Columns: [name, platform, year_of_release, genre, na_sales, eu_sales, jp_sales, other_sales, critic_score, user_score, rating]\n",
       "Index: []"
      ]
     },
     "execution_count": 21,
     "metadata": {},
     "output_type": "execute_result"
    }
   ],
   "source": [
    "df.loc[(df['year_of_release'] > 2002)&(df['year_of_release'] < 2003), 'year_of_release'] = 2002\n",
    "df.loc[(df['year_of_release'] > 2001)&(df['year_of_release'] < 2002), 'year_of_release'] = 2001\n",
    "df.loc[(df['year_of_release'] > 2005)&(df['year_of_release'] < 2006), 'year_of_release'] = 2005\n",
    "df.loc[(df['year_of_release'] > 2002)&(df['year_of_release'] < 2003)]"
   ]
  },
  {
   "cell_type": "markdown",
   "id": "0323eabd",
   "metadata": {},
   "source": [
    "Избавившись от некорректных значений и пропусков нужно привести данные по годам к целочисленному формату."
   ]
  },
  {
   "cell_type": "code",
   "execution_count": 22,
   "id": "c0dfdbe2",
   "metadata": {},
   "outputs": [],
   "source": [
    "df['year_of_release'] = df['year_of_release'].astype('int64')"
   ]
  },
  {
   "cell_type": "markdown",
   "id": "c2006bca",
   "metadata": {},
   "source": [
    "Теперь можно изучить распределение игр по годам"
   ]
  },
  {
   "cell_type": "code",
   "execution_count": 23,
   "id": "14e9b24d",
   "metadata": {
    "scrolled": true
   },
   "outputs": [
    {
     "data": {
      "image/png": "[encoded data removed]",
      "text/plain": [
       "<Figure size 1080x360 with 1 Axes>"
      ]
     },
     "metadata": {
      "needs_background": "light"
     },
     "output_type": "display_data"
    }
   ],
   "source": [
    "df['year_of_release'].plot(kind='hist', bins=36, range=(1980,2017), figsize=(15,5),  color=\"#70AD47\", edgecolor=\"black\")\n",
    "plt.title(\"Распределение по годам\")\n",
    "plt.xlabel(\"Год\")\n",
    "plt.ylabel(\"Количество, ед.\")\n",
    "plt.show()"
   ]
  },
  {
   "cell_type": "markdown",
   "id": "7b6ff6dc",
   "metadata": {},
   "source": [
    "По распределению видно, с 80-х по середину 90-х годов объем выпускаемых игр на всех платформах был минимальным, что характерно для начала развития отрасли как таковой. Начиная с середины 90-х годов с ростом производительности персональных компьютеров, а также выходом игровых консолей т.н. 5-го поколения (прим. Playstation от компании Sony, Nintendo 64, Sega Saturn) происходит почти 10-кратный рост количества выпускаемых видеоигр. \n",
    "\n",
    "Следующий заметный прирост количества выпускаемых игровых тайтлов наблюдается в начале 2000-х: спустя 1-2 года после выпуска  консолей 6-го поколения: Playstation 2 и Xbox (вместе с запуском многопользовательского онлайн-сервиса Xbox live).\n",
    "\n",
    "В 2011-2013 на рынок выходят т.н. игровые консоли восьмого поколения отличающиеся от предшественников лишь небольшим приростом производительности, в то время, как предыдущие модели чаще базировались на новых революционных технологиях. Спадает интерес на управление с помощью движений возвращаясь к классическим геймпадам. \n",
    "В дополнение к этому мощность смартфонов уже позволяет им полноценно конкурировать с в консолями в мобильной игровой индустрии. Данные причины в совокупности обусловлили снижение количества выпускаемых игр.\n",
    "\n",
    "Таким  образом данные по году выпуска распределены логично,  и не вызывают дополнительных вопросов.\n",
    "___"
   ]
  },
  {
   "cell_type": "markdown",
   "id": "c7a47cec",
   "metadata": {},
   "source": [
    "В столбце *genre* нет пропущенных значений. Следует проверить его на наличие скрытых дубликатов."
   ]
  },
  {
   "cell_type": "code",
   "execution_count": 24,
   "id": "a5c9e370",
   "metadata": {},
   "outputs": [
    {
     "data": {
      "text/plain": [
       "Action          3369\n",
       "Sports          2348\n",
       "Misc            1750\n",
       "Role-Playing    1498\n",
       "Shooter         1323\n",
       "Adventure       1303\n",
       "Racing          1249\n",
       "Platform         888\n",
       "Simulation       873\n",
       "Fighting         849\n",
       "Strategy         683\n",
       "Puzzle           580\n",
       "Name: genre, dtype: int64"
      ]
     },
     "execution_count": 24,
     "metadata": {},
     "output_type": "execute_result"
    }
   ],
   "source": [
    "df['genre'].value_counts()"
   ]
  },
  {
   "cell_type": "markdown",
   "id": "5eec4b75",
   "metadata": {},
   "source": [
    "Дубликатов нет, можно перейти к предобработке данных в следующем столбце.\n",
    "___"
   ]
  },
  {
   "cell_type": "markdown",
   "id": "3667103b",
   "metadata": {},
   "source": [
    "В столбце *platform* нет пропущенных значений. Следует также проверить его на наличие скрытых дубликатов."
   ]
  },
  {
   "cell_type": "code",
   "execution_count": 25,
   "id": "35cf3b21",
   "metadata": {},
   "outputs": [
    {
     "data": {
      "text/plain": [
       "PS2     2161\n",
       "DS      2151\n",
       "PS3     1331\n",
       "Wii     1320\n",
       "X360    1262\n",
       "PSP     1209\n",
       "PS      1197\n",
       "PC       974\n",
       "XB       824\n",
       "GBA      822\n",
       "GC       556\n",
       "3DS      520\n",
       "PSV      430\n",
       "PS4      392\n",
       "N64      319\n",
       "XOne     247\n",
       "SNES     239\n",
       "SAT      173\n",
       "WiiU     147\n",
       "2600     133\n",
       "NES       98\n",
       "GB        98\n",
       "DC        52\n",
       "GEN       27\n",
       "NG        12\n",
       "SCD        6\n",
       "WS         6\n",
       "3DO        3\n",
       "TG16       2\n",
       "GG         1\n",
       "PCFX       1\n",
       "Name: platform, dtype: int64"
      ]
     },
     "execution_count": 25,
     "metadata": {},
     "output_type": "execute_result"
    }
   ],
   "source": [
    "df['platform'].value_counts()"
   ]
  },
  {
   "cell_type": "markdown",
   "id": "501ff3b2",
   "metadata": {},
   "source": [
    "В данном столбце дубликатов также нет, можно перейти к предобработке данных в следующем столбце.\n",
    "___"
   ]
  },
  {
   "cell_type": "markdown",
   "id": "0b5dcfc1",
   "metadata": {},
   "source": [
    "Изучим данные по продажам в Северной Америке в *na_sales*. По описанию датафрейма выше, было видно, что в столбце нет пропусков, а данные имеют числовой формат (float64). Построим гистограмму распределения."
   ]
  },
  {
   "cell_type": "code",
   "execution_count": 26,
   "id": "1eea434a",
   "metadata": {
    "scrolled": true
   },
   "outputs": [
    {
     "data": {
      "text/plain": [
       "'Доля игр, которая продавалась в Северной Америке: 73.03%'"
      ]
     },
     "metadata": {},
     "output_type": "display_data"
    },
    {
     "data": {
      "text/plain": [
       "'Доля игр, которая продавалась в Европе: 64.88%'"
      ]
     },
     "metadata": {},
     "output_type": "display_data"
    },
    {
     "data": {
      "text/plain": [
       "'Доля игр, которая продавалась в Японии: 37.10%'"
      ]
     },
     "metadata": {},
     "output_type": "display_data"
    },
    {
     "data": {
      "text/plain": [
       "'Доля игр, которая продавалась в других странах: 60.51%'"
      ]
     },
     "metadata": {},
     "output_type": "display_data"
    },
    {
     "data": {
      "text/html": [
       "<div>\n",
       "<style scoped>\n",
       "    .dataframe tbody tr th:only-of-type {\n",
       "        vertical-align: middle;\n",
       "    }\n",
       "\n",
       "    .dataframe tbody tr th {\n",
       "        vertical-align: top;\n",
       "    }\n",
       "\n",
       "    .dataframe thead th {\n",
       "        text-align: right;\n",
       "    }\n",
       "</style>\n",
       "<table border=\"1\" class=\"dataframe\">\n",
       "  <thead>\n",
       "    <tr style=\"text-align: right;\">\n",
       "      <th></th>\n",
       "      <th>na_sales</th>\n",
       "      <th>eu_sales</th>\n",
       "      <th>jp_sales</th>\n",
       "      <th>other_sales</th>\n",
       "    </tr>\n",
       "  </thead>\n",
       "  <tbody>\n",
       "    <tr>\n",
       "      <td>count</td>\n",
       "      <td>16713.000000</td>\n",
       "      <td>16713.000000</td>\n",
       "      <td>16713.000000</td>\n",
       "      <td>16713.000000</td>\n",
       "    </tr>\n",
       "    <tr>\n",
       "      <td>mean</td>\n",
       "      <td>0.263302</td>\n",
       "      <td>0.145045</td>\n",
       "      <td>0.077625</td>\n",
       "      <td>0.047343</td>\n",
       "    </tr>\n",
       "    <tr>\n",
       "      <td>std</td>\n",
       "      <td>0.813565</td>\n",
       "      <td>0.503359</td>\n",
       "      <td>0.308871</td>\n",
       "      <td>0.186742</td>\n",
       "    </tr>\n",
       "    <tr>\n",
       "      <td>min</td>\n",
       "      <td>0.000000</td>\n",
       "      <td>0.000000</td>\n",
       "      <td>0.000000</td>\n",
       "      <td>0.000000</td>\n",
       "    </tr>\n",
       "    <tr>\n",
       "      <td>25%</td>\n",
       "      <td>0.000000</td>\n",
       "      <td>0.000000</td>\n",
       "      <td>0.000000</td>\n",
       "      <td>0.000000</td>\n",
       "    </tr>\n",
       "    <tr>\n",
       "      <td>50%</td>\n",
       "      <td>0.080000</td>\n",
       "      <td>0.020000</td>\n",
       "      <td>0.000000</td>\n",
       "      <td>0.010000</td>\n",
       "    </tr>\n",
       "    <tr>\n",
       "      <td>75%</td>\n",
       "      <td>0.240000</td>\n",
       "      <td>0.110000</td>\n",
       "      <td>0.040000</td>\n",
       "      <td>0.030000</td>\n",
       "    </tr>\n",
       "    <tr>\n",
       "      <td>max</td>\n",
       "      <td>41.360000</td>\n",
       "      <td>28.960000</td>\n",
       "      <td>10.220000</td>\n",
       "      <td>10.570000</td>\n",
       "    </tr>\n",
       "  </tbody>\n",
       "</table>\n",
       "</div>"
      ],
      "text/plain": [
       "           na_sales      eu_sales      jp_sales   other_sales\n",
       "count  16713.000000  16713.000000  16713.000000  16713.000000\n",
       "mean       0.263302      0.145045      0.077625      0.047343\n",
       "std        0.813565      0.503359      0.308871      0.186742\n",
       "min        0.000000      0.000000      0.000000      0.000000\n",
       "25%        0.000000      0.000000      0.000000      0.000000\n",
       "50%        0.080000      0.020000      0.000000      0.010000\n",
       "75%        0.240000      0.110000      0.040000      0.030000\n",
       "max       41.360000     28.960000     10.220000     10.570000"
      ]
     },
     "execution_count": 26,
     "metadata": {},
     "output_type": "execute_result"
    }
   ],
   "source": [
    "display(\"Доля игр, которая продавалась в Северной Америке: {:.2%}\".format(df.query('na_sales != 0')['na_sales'].count()/len(df)))\n",
    "display(\"Доля игр, которая продавалась в Европе: {:.2%}\".format(df.query('eu_sales != 0')['eu_sales'].count()/len(df)))\n",
    "display(\"Доля игр, которая продавалась в Японии: {:.2%}\".format(df.query('jp_sales != 0')['jp_sales'].count()/len(df)))\n",
    "display(\"Доля игр, которая продавалась в других странах: {:.2%}\".format(df.query('other_sales != 0')['other_sales'].count()/len(df)))\n",
    "df[['na_sales','eu_sales','jp_sales','other_sales']].describe()"
   ]
  },
  {
   "cell_type": "markdown",
   "id": "4010be68",
   "metadata": {},
   "source": [
    "По условиям исследования необходимо добавить суммарное значение по продажам во всех странах для каждой игры."
   ]
  },
  {
   "cell_type": "code",
   "execution_count": 27,
   "id": "0980063f",
   "metadata": {},
   "outputs": [],
   "source": [
    "df['total_sales'] = df['na_sales'] + df['eu_sales'] + df['jp_sales'] + df['other_sales']"
   ]
  },
  {
   "cell_type": "markdown",
   "id": "6678a711",
   "metadata": {},
   "source": [
    "___\n",
    "Далее следует столбцы *critic_score* и *user_score*.\n",
    "\n",
    "В столбце *user_score* присутствуют значения \"tbd\",  что можно расшифровать как \"to be decided\" или \"to be determined\", что означает, что оценка подлежит уточнению. В заданных условиях для исследования это равносильно пропущенному значению, потому что дождаться или уточнить эту информацию нельзя. Таким образом, для возможности проведения расчетов с данными в этом столбце \"tbd\" лучше заменить на Nan. "
   ]
  },
  {
   "cell_type": "code",
   "execution_count": 28,
   "id": "aa0ee7bf",
   "metadata": {},
   "outputs": [
    {
     "data": {
      "text/html": [
       "<div>\n",
       "<style scoped>\n",
       "    .dataframe tbody tr th:only-of-type {\n",
       "        vertical-align: middle;\n",
       "    }\n",
       "\n",
       "    .dataframe tbody tr th {\n",
       "        vertical-align: top;\n",
       "    }\n",
       "\n",
       "    .dataframe thead th {\n",
       "        text-align: right;\n",
       "    }\n",
       "</style>\n",
       "<table border=\"1\" class=\"dataframe\">\n",
       "  <thead>\n",
       "    <tr style=\"text-align: right;\">\n",
       "      <th></th>\n",
       "      <th>critic_score</th>\n",
       "      <th>user_score</th>\n",
       "    </tr>\n",
       "  </thead>\n",
       "  <tbody>\n",
       "    <tr>\n",
       "      <td>count</td>\n",
       "      <td>8137.000000</td>\n",
       "      <td>7590.000000</td>\n",
       "    </tr>\n",
       "    <tr>\n",
       "      <td>mean</td>\n",
       "      <td>68.967679</td>\n",
       "      <td>7.125046</td>\n",
       "    </tr>\n",
       "    <tr>\n",
       "      <td>std</td>\n",
       "      <td>13.938165</td>\n",
       "      <td>1.500006</td>\n",
       "    </tr>\n",
       "    <tr>\n",
       "      <td>min</td>\n",
       "      <td>13.000000</td>\n",
       "      <td>0.000000</td>\n",
       "    </tr>\n",
       "    <tr>\n",
       "      <td>25%</td>\n",
       "      <td>60.000000</td>\n",
       "      <td>6.400000</td>\n",
       "    </tr>\n",
       "    <tr>\n",
       "      <td>50%</td>\n",
       "      <td>71.000000</td>\n",
       "      <td>7.500000</td>\n",
       "    </tr>\n",
       "    <tr>\n",
       "      <td>75%</td>\n",
       "      <td>79.000000</td>\n",
       "      <td>8.200000</td>\n",
       "    </tr>\n",
       "    <tr>\n",
       "      <td>max</td>\n",
       "      <td>98.000000</td>\n",
       "      <td>9.700000</td>\n",
       "    </tr>\n",
       "  </tbody>\n",
       "</table>\n",
       "</div>"
      ],
      "text/plain": [
       "       critic_score   user_score\n",
       "count   8137.000000  7590.000000\n",
       "mean      68.967679     7.125046\n",
       "std       13.938165     1.500006\n",
       "min       13.000000     0.000000\n",
       "25%       60.000000     6.400000\n",
       "50%       71.000000     7.500000\n",
       "75%       79.000000     8.200000\n",
       "max       98.000000     9.700000"
      ]
     },
     "execution_count": 28,
     "metadata": {},
     "output_type": "execute_result"
    }
   ],
   "source": [
    "df['user_score'] = df['user_score'].replace(['tbd'], np.nan)\n",
    "df['user_score'] = df['user_score'].astype('float64')\n",
    "df[['critic_score','user_score']].describe()"
   ]
  },
  {
   "cell_type": "markdown",
   "id": "0dfbb679",
   "metadata": {},
   "source": [
    "В столбцах нет выбросов, все значения похожи на реальные оценки. При этом в столбцах пропущена часть значений. Необходимо понять, по какой причине присутствуют пропуски, возможно есть закономерности."
   ]
  },
  {
   "cell_type": "code",
   "execution_count": 29,
   "id": "6870272d",
   "metadata": {},
   "outputs": [
    {
     "data": {
      "text/plain": [
       "year_of_release\n",
       "1980    1.000000\n",
       "1981    1.000000\n",
       "1982    1.000000\n",
       "1983    1.000000\n",
       "1984    1.000000\n",
       "1985    0.928571\n",
       "1986    1.000000\n",
       "1987    1.000000\n",
       "1988    0.933333\n",
       "1989    1.000000\n",
       "1990    1.000000\n",
       "1991    1.000000\n",
       "1992    0.976744\n",
       "1993    1.000000\n",
       "1994    0.991736\n",
       "1995    1.000000\n",
       "1996    0.969582\n",
       "1997    0.941379\n",
       "1998    0.917098\n",
       "1999    0.885630\n",
       "2000    0.592593\n",
       "2001    0.320988\n",
       "2002    0.240237\n",
       "2003    0.245922\n",
       "2004    0.267089\n",
       "2005    0.301053\n",
       "2006    0.381373\n",
       "2007    0.421096\n",
       "2008    0.501711\n",
       "2009    0.546392\n",
       "2010    0.591121\n",
       "2011    0.559278\n",
       "2012    0.503771\n",
       "2013    0.500000\n",
       "2014    0.549828\n",
       "2015    0.628713\n",
       "2016    0.537849\n",
       "dtype: float64"
      ]
     },
     "metadata": {},
     "output_type": "display_data"
    },
    {
     "data": {
      "text/plain": [
       "year_of_release\n",
       "1980    1.000000\n",
       "1981    1.000000\n",
       "1982    1.000000\n",
       "1983    1.000000\n",
       "1984    1.000000\n",
       "1985    0.928571\n",
       "1986    1.000000\n",
       "1987    1.000000\n",
       "1988    0.933333\n",
       "1989    1.000000\n",
       "1990    1.000000\n",
       "1991    1.000000\n",
       "1992    0.976744\n",
       "1993    1.000000\n",
       "1994    0.991736\n",
       "1995    1.000000\n",
       "1996    0.969582\n",
       "1997    0.937931\n",
       "1998    0.911917\n",
       "1999    0.909091\n",
       "2000    0.695157\n",
       "2001    0.467078\n",
       "2002    0.435503\n",
       "2003    0.338770\n",
       "2004    0.360759\n",
       "2005    0.378947\n",
       "2006    0.450000\n",
       "2007    0.474252\n",
       "2008    0.541410\n",
       "2009    0.574570\n",
       "2010    0.619159\n",
       "2011    0.557560\n",
       "2012    0.478130\n",
       "2013    0.442029\n",
       "2014    0.432990\n",
       "2015    0.509901\n",
       "2016    0.478088\n",
       "dtype: float64"
      ]
     },
     "metadata": {},
     "output_type": "display_data"
    }
   ],
   "source": [
    "display(df.groupby('year_of_release').apply(lambda x: x.critic_score.isnull().sum()/len(x)))\n",
    "display(df.groupby('year_of_release').apply(lambda x: x.user_score.isnull().sum()/len(x)))"
   ]
  },
  {
   "cell_type": "markdown",
   "id": "d45dfb61",
   "metadata": {},
   "source": [
    "**По данному представлению видно, что по мере развития игровой индустрии во времени игры все чаще получали оценки от критиков и пользователей.**\n",
    "\n",
    "Теперь можно восстановить пропущенные значения в данных столбцах. Алгоритм действий следующий:\n",
    "- Восстановить часть значений рассчитав среднюю оценку по названию игры на других платформах;\n",
    "- Восстановить часть значений рассчитав среднюю оценку критиков/пользователей при наличии значения в каком/либо из столбцов (с применением коэффициента)\n",
    "- Восстановить часть оставшихся значений по средним оценкам в жанре на конкретной платформе."
   ]
  },
  {
   "cell_type": "code",
   "execution_count": 30,
   "id": "41f76228",
   "metadata": {
    "scrolled": true
   },
   "outputs": [
    {
     "data": {
      "text/plain": [
       "0.5808778320767236"
      ]
     },
     "execution_count": 30,
     "metadata": {},
     "output_type": "execute_result"
    }
   ],
   "source": [
    "df['critic_score'].corr(df['user_score'])"
   ]
  },
  {
   "cell_type": "code",
   "execution_count": 31,
   "id": "9e20ac49",
   "metadata": {},
   "outputs": [],
   "source": [
    "df['critic_score'] = df.groupby('name')['critic_score'].transform(lambda x: x.fillna(x.median()))\n",
    "df['user_score'] = df.groupby('name')['user_score'].transform(lambda x: x.fillna(x.median()))"
   ]
  },
  {
   "cell_type": "code",
   "execution_count": 32,
   "id": "3ded0550",
   "metadata": {},
   "outputs": [
    {
     "data": {
      "text/html": [
       "<div>\n",
       "<style scoped>\n",
       "    .dataframe tbody tr th:only-of-type {\n",
       "        vertical-align: middle;\n",
       "    }\n",
       "\n",
       "    .dataframe tbody tr th {\n",
       "        vertical-align: top;\n",
       "    }\n",
       "\n",
       "    .dataframe thead th {\n",
       "        text-align: right;\n",
       "    }\n",
       "</style>\n",
       "<table border=\"1\" class=\"dataframe\">\n",
       "  <thead>\n",
       "    <tr style=\"text-align: right;\">\n",
       "      <th></th>\n",
       "      <th>critic_score</th>\n",
       "      <th>user_score</th>\n",
       "    </tr>\n",
       "  </thead>\n",
       "  <tbody>\n",
       "    <tr>\n",
       "      <td>count</td>\n",
       "      <td>9098.000000</td>\n",
       "      <td>8689.000000</td>\n",
       "    </tr>\n",
       "    <tr>\n",
       "      <td>mean</td>\n",
       "      <td>68.784843</td>\n",
       "      <td>7.091512</td>\n",
       "    </tr>\n",
       "    <tr>\n",
       "      <td>std</td>\n",
       "      <td>14.124159</td>\n",
       "      <td>1.503294</td>\n",
       "    </tr>\n",
       "    <tr>\n",
       "      <td>min</td>\n",
       "      <td>13.000000</td>\n",
       "      <td>0.000000</td>\n",
       "    </tr>\n",
       "    <tr>\n",
       "      <td>25%</td>\n",
       "      <td>60.000000</td>\n",
       "      <td>6.300000</td>\n",
       "    </tr>\n",
       "    <tr>\n",
       "      <td>50%</td>\n",
       "      <td>71.000000</td>\n",
       "      <td>7.400000</td>\n",
       "    </tr>\n",
       "    <tr>\n",
       "      <td>75%</td>\n",
       "      <td>79.000000</td>\n",
       "      <td>8.200000</td>\n",
       "    </tr>\n",
       "    <tr>\n",
       "      <td>max</td>\n",
       "      <td>98.000000</td>\n",
       "      <td>9.700000</td>\n",
       "    </tr>\n",
       "  </tbody>\n",
       "</table>\n",
       "</div>"
      ],
      "text/plain": [
       "       critic_score   user_score\n",
       "count   9098.000000  8689.000000\n",
       "mean      68.784843     7.091512\n",
       "std       14.124159     1.503294\n",
       "min       13.000000     0.000000\n",
       "25%       60.000000     6.300000\n",
       "50%       71.000000     7.400000\n",
       "75%       79.000000     8.200000\n",
       "max       98.000000     9.700000"
      ]
     },
     "execution_count": 32,
     "metadata": {},
     "output_type": "execute_result"
    }
   ],
   "source": [
    "df[['critic_score', 'user_score']].describe()"
   ]
  },
  {
   "cell_type": "code",
   "execution_count": 33,
   "id": "8a57bdb8",
   "metadata": {},
   "outputs": [
    {
     "data": {
      "text/html": [
       "<div>\n",
       "<style scoped>\n",
       "    .dataframe tbody tr th:only-of-type {\n",
       "        vertical-align: middle;\n",
       "    }\n",
       "\n",
       "    .dataframe tbody tr th {\n",
       "        vertical-align: top;\n",
       "    }\n",
       "\n",
       "    .dataframe thead th {\n",
       "        text-align: right;\n",
       "    }\n",
       "</style>\n",
       "<table border=\"1\" class=\"dataframe\">\n",
       "  <thead>\n",
       "    <tr style=\"text-align: right;\">\n",
       "      <th></th>\n",
       "      <th>name</th>\n",
       "      <th>platform</th>\n",
       "      <th>year_of_release</th>\n",
       "      <th>genre</th>\n",
       "      <th>na_sales</th>\n",
       "      <th>eu_sales</th>\n",
       "      <th>jp_sales</th>\n",
       "      <th>other_sales</th>\n",
       "      <th>critic_score</th>\n",
       "      <th>user_score</th>\n",
       "      <th>rating</th>\n",
       "      <th>total_sales</th>\n",
       "      <th>critic_to_user_score</th>\n",
       "    </tr>\n",
       "  </thead>\n",
       "  <tbody>\n",
       "    <tr>\n",
       "      <td>0</td>\n",
       "      <td>Wii Sports</td>\n",
       "      <td>Wii</td>\n",
       "      <td>2006</td>\n",
       "      <td>Sports</td>\n",
       "      <td>41.36</td>\n",
       "      <td>28.96</td>\n",
       "      <td>3.77</td>\n",
       "      <td>8.45</td>\n",
       "      <td>76.0</td>\n",
       "      <td>8.0</td>\n",
       "      <td>E</td>\n",
       "      <td>82.54</td>\n",
       "      <td>0.950000</td>\n",
       "    </tr>\n",
       "    <tr>\n",
       "      <td>1</td>\n",
       "      <td>Super Mario Bros.</td>\n",
       "      <td>NES</td>\n",
       "      <td>1985</td>\n",
       "      <td>Platform</td>\n",
       "      <td>29.08</td>\n",
       "      <td>3.58</td>\n",
       "      <td>6.81</td>\n",
       "      <td>0.77</td>\n",
       "      <td>NaN</td>\n",
       "      <td>NaN</td>\n",
       "      <td>NaN</td>\n",
       "      <td>40.24</td>\n",
       "      <td>NaN</td>\n",
       "    </tr>\n",
       "    <tr>\n",
       "      <td>2</td>\n",
       "      <td>Mario Kart Wii</td>\n",
       "      <td>Wii</td>\n",
       "      <td>2008</td>\n",
       "      <td>Racing</td>\n",
       "      <td>15.68</td>\n",
       "      <td>12.76</td>\n",
       "      <td>3.79</td>\n",
       "      <td>3.29</td>\n",
       "      <td>82.0</td>\n",
       "      <td>8.3</td>\n",
       "      <td>E</td>\n",
       "      <td>35.52</td>\n",
       "      <td>0.987952</td>\n",
       "    </tr>\n",
       "    <tr>\n",
       "      <td>3</td>\n",
       "      <td>Wii Sports Resort</td>\n",
       "      <td>Wii</td>\n",
       "      <td>2009</td>\n",
       "      <td>Sports</td>\n",
       "      <td>15.61</td>\n",
       "      <td>10.93</td>\n",
       "      <td>3.28</td>\n",
       "      <td>2.95</td>\n",
       "      <td>80.0</td>\n",
       "      <td>8.0</td>\n",
       "      <td>E</td>\n",
       "      <td>32.77</td>\n",
       "      <td>1.000000</td>\n",
       "    </tr>\n",
       "    <tr>\n",
       "      <td>4</td>\n",
       "      <td>Pokemon Red/Pokemon Blue</td>\n",
       "      <td>GB</td>\n",
       "      <td>1996</td>\n",
       "      <td>Role-Playing</td>\n",
       "      <td>11.27</td>\n",
       "      <td>8.89</td>\n",
       "      <td>10.22</td>\n",
       "      <td>1.00</td>\n",
       "      <td>NaN</td>\n",
       "      <td>NaN</td>\n",
       "      <td>NaN</td>\n",
       "      <td>31.38</td>\n",
       "      <td>NaN</td>\n",
       "    </tr>\n",
       "  </tbody>\n",
       "</table>\n",
       "</div>"
      ],
      "text/plain": [
       "                       name platform  year_of_release         genre  na_sales  \\\n",
       "0                Wii Sports      Wii             2006        Sports     41.36   \n",
       "1         Super Mario Bros.      NES             1985      Platform     29.08   \n",
       "2            Mario Kart Wii      Wii             2008        Racing     15.68   \n",
       "3         Wii Sports Resort      Wii             2009        Sports     15.61   \n",
       "4  Pokemon Red/Pokemon Blue       GB             1996  Role-Playing     11.27   \n",
       "\n",
       "   eu_sales  jp_sales  other_sales  critic_score  user_score rating  \\\n",
       "0     28.96      3.77         8.45          76.0         8.0      E   \n",
       "1      3.58      6.81         0.77           NaN         NaN    NaN   \n",
       "2     12.76      3.79         3.29          82.0         8.3      E   \n",
       "3     10.93      3.28         2.95          80.0         8.0      E   \n",
       "4      8.89     10.22         1.00           NaN         NaN    NaN   \n",
       "\n",
       "   total_sales  critic_to_user_score  \n",
       "0        82.54              0.950000  \n",
       "1        40.24                   NaN  \n",
       "2        35.52              0.987952  \n",
       "3        32.77              1.000000  \n",
       "4        31.38                   NaN  "
      ]
     },
     "execution_count": 33,
     "metadata": {},
     "output_type": "execute_result"
    }
   ],
   "source": [
    "df['critic_to_user_score'] = (df['critic_score']/10)/df['user_score']\n",
    "df.head()"
   ]
  },
  {
   "cell_type": "code",
   "execution_count": 34,
   "id": "28c80103",
   "metadata": {},
   "outputs": [
    {
     "data": {
      "text/html": [
       "<div>\n",
       "<style scoped>\n",
       "    .dataframe tbody tr th:only-of-type {\n",
       "        vertical-align: middle;\n",
       "    }\n",
       "\n",
       "    .dataframe tbody tr th {\n",
       "        vertical-align: top;\n",
       "    }\n",
       "\n",
       "    .dataframe thead th {\n",
       "        text-align: right;\n",
       "    }\n",
       "</style>\n",
       "<table border=\"1\" class=\"dataframe\">\n",
       "  <thead>\n",
       "    <tr style=\"text-align: right;\">\n",
       "      <th></th>\n",
       "      <th>genre</th>\n",
       "      <th>platform</th>\n",
       "      <th>critic_to_user_score</th>\n",
       "    </tr>\n",
       "  </thead>\n",
       "  <tbody>\n",
       "    <tr>\n",
       "      <td>0</td>\n",
       "      <td>Action</td>\n",
       "      <td>2600</td>\n",
       "      <td>0.966667</td>\n",
       "    </tr>\n",
       "    <tr>\n",
       "      <td>1</td>\n",
       "      <td>Action</td>\n",
       "      <td>3DS</td>\n",
       "      <td>0.986842</td>\n",
       "    </tr>\n",
       "    <tr>\n",
       "      <td>2</td>\n",
       "      <td>Action</td>\n",
       "      <td>DC</td>\n",
       "      <td>NaN</td>\n",
       "    </tr>\n",
       "    <tr>\n",
       "      <td>3</td>\n",
       "      <td>Action</td>\n",
       "      <td>DS</td>\n",
       "      <td>0.890244</td>\n",
       "    </tr>\n",
       "    <tr>\n",
       "      <td>4</td>\n",
       "      <td>Action</td>\n",
       "      <td>GB</td>\n",
       "      <td>0.917219</td>\n",
       "    </tr>\n",
       "    <tr>\n",
       "      <td>...</td>\n",
       "      <td>...</td>\n",
       "      <td>...</td>\n",
       "      <td>...</td>\n",
       "    </tr>\n",
       "    <tr>\n",
       "      <td>288</td>\n",
       "      <td>Strategy</td>\n",
       "      <td>Wii</td>\n",
       "      <td>1.000000</td>\n",
       "    </tr>\n",
       "    <tr>\n",
       "      <td>289</td>\n",
       "      <td>Strategy</td>\n",
       "      <td>WiiU</td>\n",
       "      <td>0.875000</td>\n",
       "    </tr>\n",
       "    <tr>\n",
       "      <td>290</td>\n",
       "      <td>Strategy</td>\n",
       "      <td>X360</td>\n",
       "      <td>1.053571</td>\n",
       "    </tr>\n",
       "    <tr>\n",
       "      <td>291</td>\n",
       "      <td>Strategy</td>\n",
       "      <td>XB</td>\n",
       "      <td>0.862500</td>\n",
       "    </tr>\n",
       "    <tr>\n",
       "      <td>292</td>\n",
       "      <td>Strategy</td>\n",
       "      <td>XOne</td>\n",
       "      <td>0.921095</td>\n",
       "    </tr>\n",
       "  </tbody>\n",
       "</table>\n",
       "<p>293 rows × 3 columns</p>\n",
       "</div>"
      ],
      "text/plain": [
       "        genre platform  critic_to_user_score\n",
       "0      Action     2600              0.966667\n",
       "1      Action      3DS              0.986842\n",
       "2      Action       DC                   NaN\n",
       "3      Action       DS              0.890244\n",
       "4      Action       GB              0.917219\n",
       "..        ...      ...                   ...\n",
       "288  Strategy      Wii              1.000000\n",
       "289  Strategy     WiiU              0.875000\n",
       "290  Strategy     X360              1.053571\n",
       "291  Strategy       XB              0.862500\n",
       "292  Strategy     XOne              0.921095\n",
       "\n",
       "[293 rows x 3 columns]"
      ]
     },
     "execution_count": 34,
     "metadata": {},
     "output_type": "execute_result"
    }
   ],
   "source": [
    "scores_ratio = df.groupby(['genre','platform']).agg({'critic_to_user_score':'median'}).reset_index()\n",
    "scores_ratio"
   ]
  },
  {
   "cell_type": "code",
   "execution_count": 35,
   "id": "f65c7312",
   "metadata": {},
   "outputs": [
    {
     "data": {
      "text/html": [
       "<div>\n",
       "<style scoped>\n",
       "    .dataframe tbody tr th:only-of-type {\n",
       "        vertical-align: middle;\n",
       "    }\n",
       "\n",
       "    .dataframe tbody tr th {\n",
       "        vertical-align: top;\n",
       "    }\n",
       "\n",
       "    .dataframe thead th {\n",
       "        text-align: right;\n",
       "    }\n",
       "</style>\n",
       "<table border=\"1\" class=\"dataframe\">\n",
       "  <thead>\n",
       "    <tr style=\"text-align: right;\">\n",
       "      <th></th>\n",
       "      <th>name</th>\n",
       "      <th>platform</th>\n",
       "      <th>year_of_release</th>\n",
       "      <th>genre</th>\n",
       "      <th>na_sales</th>\n",
       "      <th>eu_sales</th>\n",
       "      <th>jp_sales</th>\n",
       "      <th>other_sales</th>\n",
       "      <th>critic_score</th>\n",
       "      <th>user_score</th>\n",
       "      <th>rating</th>\n",
       "      <th>total_sales</th>\n",
       "      <th>critic_to_user_score_x</th>\n",
       "      <th>critic_to_user_score_y</th>\n",
       "    </tr>\n",
       "  </thead>\n",
       "  <tbody>\n",
       "    <tr>\n",
       "      <td>0</td>\n",
       "      <td>Wii Sports</td>\n",
       "      <td>Wii</td>\n",
       "      <td>2006</td>\n",
       "      <td>Sports</td>\n",
       "      <td>41.36</td>\n",
       "      <td>28.96</td>\n",
       "      <td>3.77</td>\n",
       "      <td>8.45</td>\n",
       "      <td>76.0</td>\n",
       "      <td>8.0</td>\n",
       "      <td>E</td>\n",
       "      <td>82.54</td>\n",
       "      <td>0.950000</td>\n",
       "      <td>0.962963</td>\n",
       "    </tr>\n",
       "    <tr>\n",
       "      <td>1</td>\n",
       "      <td>Super Mario Bros.</td>\n",
       "      <td>NES</td>\n",
       "      <td>1985</td>\n",
       "      <td>Platform</td>\n",
       "      <td>29.08</td>\n",
       "      <td>3.58</td>\n",
       "      <td>6.81</td>\n",
       "      <td>0.77</td>\n",
       "      <td>NaN</td>\n",
       "      <td>NaN</td>\n",
       "      <td>NaN</td>\n",
       "      <td>40.24</td>\n",
       "      <td>NaN</td>\n",
       "      <td>NaN</td>\n",
       "    </tr>\n",
       "    <tr>\n",
       "      <td>2</td>\n",
       "      <td>Mario Kart Wii</td>\n",
       "      <td>Wii</td>\n",
       "      <td>2008</td>\n",
       "      <td>Racing</td>\n",
       "      <td>15.68</td>\n",
       "      <td>12.76</td>\n",
       "      <td>3.79</td>\n",
       "      <td>3.29</td>\n",
       "      <td>82.0</td>\n",
       "      <td>8.3</td>\n",
       "      <td>E</td>\n",
       "      <td>35.52</td>\n",
       "      <td>0.987952</td>\n",
       "      <td>0.906579</td>\n",
       "    </tr>\n",
       "    <tr>\n",
       "      <td>3</td>\n",
       "      <td>Wii Sports Resort</td>\n",
       "      <td>Wii</td>\n",
       "      <td>2009</td>\n",
       "      <td>Sports</td>\n",
       "      <td>15.61</td>\n",
       "      <td>10.93</td>\n",
       "      <td>3.28</td>\n",
       "      <td>2.95</td>\n",
       "      <td>80.0</td>\n",
       "      <td>8.0</td>\n",
       "      <td>E</td>\n",
       "      <td>32.77</td>\n",
       "      <td>1.000000</td>\n",
       "      <td>0.962963</td>\n",
       "    </tr>\n",
       "    <tr>\n",
       "      <td>4</td>\n",
       "      <td>Pokemon Red/Pokemon Blue</td>\n",
       "      <td>GB</td>\n",
       "      <td>1996</td>\n",
       "      <td>Role-Playing</td>\n",
       "      <td>11.27</td>\n",
       "      <td>8.89</td>\n",
       "      <td>10.22</td>\n",
       "      <td>1.00</td>\n",
       "      <td>NaN</td>\n",
       "      <td>NaN</td>\n",
       "      <td>NaN</td>\n",
       "      <td>31.38</td>\n",
       "      <td>NaN</td>\n",
       "      <td>NaN</td>\n",
       "    </tr>\n",
       "  </tbody>\n",
       "</table>\n",
       "</div>"
      ],
      "text/plain": [
       "                       name platform  year_of_release         genre  na_sales  \\\n",
       "0                Wii Sports      Wii             2006        Sports     41.36   \n",
       "1         Super Mario Bros.      NES             1985      Platform     29.08   \n",
       "2            Mario Kart Wii      Wii             2008        Racing     15.68   \n",
       "3         Wii Sports Resort      Wii             2009        Sports     15.61   \n",
       "4  Pokemon Red/Pokemon Blue       GB             1996  Role-Playing     11.27   \n",
       "\n",
       "   eu_sales  jp_sales  other_sales  critic_score  user_score rating  \\\n",
       "0     28.96      3.77         8.45          76.0         8.0      E   \n",
       "1      3.58      6.81         0.77           NaN         NaN    NaN   \n",
       "2     12.76      3.79         3.29          82.0         8.3      E   \n",
       "3     10.93      3.28         2.95          80.0         8.0      E   \n",
       "4      8.89     10.22         1.00           NaN         NaN    NaN   \n",
       "\n",
       "   total_sales  critic_to_user_score_x  critic_to_user_score_y  \n",
       "0        82.54                0.950000                0.962963  \n",
       "1        40.24                     NaN                     NaN  \n",
       "2        35.52                0.987952                0.906579  \n",
       "3        32.77                1.000000                0.962963  \n",
       "4        31.38                     NaN                     NaN  "
      ]
     },
     "execution_count": 35,
     "metadata": {},
     "output_type": "execute_result"
    }
   ],
   "source": [
    "df = df.merge(scores_ratio, how = 'left', on = ['genre','platform'])\n",
    "df.head()"
   ]
  },
  {
   "cell_type": "code",
   "execution_count": 36,
   "id": "2422260f",
   "metadata": {},
   "outputs": [
    {
     "data": {
      "text/html": [
       "<div>\n",
       "<style scoped>\n",
       "    .dataframe tbody tr th:only-of-type {\n",
       "        vertical-align: middle;\n",
       "    }\n",
       "\n",
       "    .dataframe tbody tr th {\n",
       "        vertical-align: top;\n",
       "    }\n",
       "\n",
       "    .dataframe thead th {\n",
       "        text-align: right;\n",
       "    }\n",
       "</style>\n",
       "<table border=\"1\" class=\"dataframe\">\n",
       "  <thead>\n",
       "    <tr style=\"text-align: right;\">\n",
       "      <th></th>\n",
       "      <th>name</th>\n",
       "      <th>platform</th>\n",
       "      <th>year_of_release</th>\n",
       "      <th>genre</th>\n",
       "      <th>na_sales</th>\n",
       "      <th>eu_sales</th>\n",
       "      <th>jp_sales</th>\n",
       "      <th>other_sales</th>\n",
       "      <th>critic_score</th>\n",
       "      <th>user_score</th>\n",
       "      <th>rating</th>\n",
       "      <th>total_sales</th>\n",
       "      <th>critic_to_user_score_y</th>\n",
       "    </tr>\n",
       "  </thead>\n",
       "  <tbody>\n",
       "    <tr>\n",
       "      <td>0</td>\n",
       "      <td>Wii Sports</td>\n",
       "      <td>Wii</td>\n",
       "      <td>2006</td>\n",
       "      <td>Sports</td>\n",
       "      <td>41.36</td>\n",
       "      <td>28.96</td>\n",
       "      <td>3.77</td>\n",
       "      <td>8.45</td>\n",
       "      <td>76.0</td>\n",
       "      <td>8.0</td>\n",
       "      <td>E</td>\n",
       "      <td>82.54</td>\n",
       "      <td>0.962963</td>\n",
       "    </tr>\n",
       "    <tr>\n",
       "      <td>1</td>\n",
       "      <td>Super Mario Bros.</td>\n",
       "      <td>NES</td>\n",
       "      <td>1985</td>\n",
       "      <td>Platform</td>\n",
       "      <td>29.08</td>\n",
       "      <td>3.58</td>\n",
       "      <td>6.81</td>\n",
       "      <td>0.77</td>\n",
       "      <td>NaN</td>\n",
       "      <td>NaN</td>\n",
       "      <td>NaN</td>\n",
       "      <td>40.24</td>\n",
       "      <td>NaN</td>\n",
       "    </tr>\n",
       "    <tr>\n",
       "      <td>2</td>\n",
       "      <td>Mario Kart Wii</td>\n",
       "      <td>Wii</td>\n",
       "      <td>2008</td>\n",
       "      <td>Racing</td>\n",
       "      <td>15.68</td>\n",
       "      <td>12.76</td>\n",
       "      <td>3.79</td>\n",
       "      <td>3.29</td>\n",
       "      <td>82.0</td>\n",
       "      <td>8.3</td>\n",
       "      <td>E</td>\n",
       "      <td>35.52</td>\n",
       "      <td>0.906579</td>\n",
       "    </tr>\n",
       "    <tr>\n",
       "      <td>3</td>\n",
       "      <td>Wii Sports Resort</td>\n",
       "      <td>Wii</td>\n",
       "      <td>2009</td>\n",
       "      <td>Sports</td>\n",
       "      <td>15.61</td>\n",
       "      <td>10.93</td>\n",
       "      <td>3.28</td>\n",
       "      <td>2.95</td>\n",
       "      <td>80.0</td>\n",
       "      <td>8.0</td>\n",
       "      <td>E</td>\n",
       "      <td>32.77</td>\n",
       "      <td>0.962963</td>\n",
       "    </tr>\n",
       "    <tr>\n",
       "      <td>4</td>\n",
       "      <td>Pokemon Red/Pokemon Blue</td>\n",
       "      <td>GB</td>\n",
       "      <td>1996</td>\n",
       "      <td>Role-Playing</td>\n",
       "      <td>11.27</td>\n",
       "      <td>8.89</td>\n",
       "      <td>10.22</td>\n",
       "      <td>1.00</td>\n",
       "      <td>NaN</td>\n",
       "      <td>NaN</td>\n",
       "      <td>NaN</td>\n",
       "      <td>31.38</td>\n",
       "      <td>NaN</td>\n",
       "    </tr>\n",
       "  </tbody>\n",
       "</table>\n",
       "</div>"
      ],
      "text/plain": [
       "                       name platform  year_of_release         genre  na_sales  \\\n",
       "0                Wii Sports      Wii             2006        Sports     41.36   \n",
       "1         Super Mario Bros.      NES             1985      Platform     29.08   \n",
       "2            Mario Kart Wii      Wii             2008        Racing     15.68   \n",
       "3         Wii Sports Resort      Wii             2009        Sports     15.61   \n",
       "4  Pokemon Red/Pokemon Blue       GB             1996  Role-Playing     11.27   \n",
       "\n",
       "   eu_sales  jp_sales  other_sales  critic_score  user_score rating  \\\n",
       "0     28.96      3.77         8.45          76.0         8.0      E   \n",
       "1      3.58      6.81         0.77           NaN         NaN    NaN   \n",
       "2     12.76      3.79         3.29          82.0         8.3      E   \n",
       "3     10.93      3.28         2.95          80.0         8.0      E   \n",
       "4      8.89     10.22         1.00           NaN         NaN    NaN   \n",
       "\n",
       "   total_sales  critic_to_user_score_y  \n",
       "0        82.54                0.962963  \n",
       "1        40.24                     NaN  \n",
       "2        35.52                0.906579  \n",
       "3        32.77                0.962963  \n",
       "4        31.38                     NaN  "
      ]
     },
     "execution_count": 36,
     "metadata": {},
     "output_type": "execute_result"
    }
   ],
   "source": [
    "df.drop('critic_to_user_score_x', axis=1, inplace=True)\n",
    "df.head()"
   ]
  },
  {
   "cell_type": "code",
   "execution_count": 37,
   "id": "6acfa58a",
   "metadata": {},
   "outputs": [],
   "source": [
    "def critic_scores_update(critic_score, user_score, critic_to_user_score_y):\n",
    "    critic_by_ratio = user_score*critic_to_user_score_y*10\n",
    "    \n",
    "    if (critic_score != critic_score and\n",
    "       user_score == user_score):\n",
    "        return critic_by_ratio\n",
    "    else:\n",
    "        return critic_score\n",
    "        \n",
    "def user_scores_update(critic_score, user_score, critic_to_user_score_y):\n",
    "    user_by_ratio = critic_score/critic_to_user_score_y/10\n",
    "    \n",
    "    if (critic_score == critic_score and\n",
    "       user_score != user_score):\n",
    "        return user_by_ratio\n",
    "    else:\n",
    "        return user_score\n",
    "    \n",
    "df['critic_score'] = df.apply(lambda x: critic_scores_update\n",
    "                              (x.critic_score, x.user_score, x.critic_to_user_score_y), axis = 1)\n",
    "df['user_score'] = df.apply(lambda x: user_scores_update\n",
    "                              (x.critic_score, x.user_score, x.critic_to_user_score_y), axis = 1)"
   ]
  },
  {
   "cell_type": "markdown",
   "id": "115a4b29",
   "metadata": {},
   "source": [
    "Можно удалить более ненужный столбец *critic_to_user_score_y'* и посмотреть, как отработала функция."
   ]
  },
  {
   "cell_type": "code",
   "execution_count": 38,
   "id": "8d40b91a",
   "metadata": {},
   "outputs": [
    {
     "data": {
      "text/html": [
       "<div>\n",
       "<style scoped>\n",
       "    .dataframe tbody tr th:only-of-type {\n",
       "        vertical-align: middle;\n",
       "    }\n",
       "\n",
       "    .dataframe tbody tr th {\n",
       "        vertical-align: top;\n",
       "    }\n",
       "\n",
       "    .dataframe thead th {\n",
       "        text-align: right;\n",
       "    }\n",
       "</style>\n",
       "<table border=\"1\" class=\"dataframe\">\n",
       "  <thead>\n",
       "    <tr style=\"text-align: right;\">\n",
       "      <th></th>\n",
       "      <th>critic_score</th>\n",
       "      <th>user_score</th>\n",
       "    </tr>\n",
       "  </thead>\n",
       "  <tbody>\n",
       "    <tr>\n",
       "      <td>count</td>\n",
       "      <td>9434.000000</td>\n",
       "      <td>9433.000000</td>\n",
       "    </tr>\n",
       "    <tr>\n",
       "      <td>mean</td>\n",
       "      <td>68.582791</td>\n",
       "      <td>7.029444</td>\n",
       "    </tr>\n",
       "    <tr>\n",
       "      <td>std</td>\n",
       "      <td>14.435827</td>\n",
       "      <td>1.503770</td>\n",
       "    </tr>\n",
       "    <tr>\n",
       "      <td>min</td>\n",
       "      <td>0.000000</td>\n",
       "      <td>0.000000</td>\n",
       "    </tr>\n",
       "    <tr>\n",
       "      <td>25%</td>\n",
       "      <td>60.000000</td>\n",
       "      <td>6.200000</td>\n",
       "    </tr>\n",
       "    <tr>\n",
       "      <td>50%</td>\n",
       "      <td>71.000000</td>\n",
       "      <td>7.400000</td>\n",
       "    </tr>\n",
       "    <tr>\n",
       "      <td>75%</td>\n",
       "      <td>79.000000</td>\n",
       "      <td>8.100000</td>\n",
       "    </tr>\n",
       "    <tr>\n",
       "      <td>max</td>\n",
       "      <td>98.000000</td>\n",
       "      <td>11.096985</td>\n",
       "    </tr>\n",
       "  </tbody>\n",
       "</table>\n",
       "</div>"
      ],
      "text/plain": [
       "       critic_score   user_score\n",
       "count   9434.000000  9433.000000\n",
       "mean      68.582791     7.029444\n",
       "std       14.435827     1.503770\n",
       "min        0.000000     0.000000\n",
       "25%       60.000000     6.200000\n",
       "50%       71.000000     7.400000\n",
       "75%       79.000000     8.100000\n",
       "max       98.000000    11.096985"
      ]
     },
     "execution_count": 38,
     "metadata": {},
     "output_type": "execute_result"
    }
   ],
   "source": [
    "df.drop('critic_to_user_score_y', axis = 1, inplace = True)\n",
    "df[['critic_score', 'user_score']].describe()"
   ]
  },
  {
   "cell_type": "markdown",
   "id": "005b00df",
   "metadata": {},
   "source": [
    "После отработки функции видно, что максимальное значение в столбце *user_score* превышает 10. Необходимо это исправить, заменив выбивающиеся значения на максимальную оценку пользователей, которая была в датасете ранее - 9,7."
   ]
  },
  {
   "cell_type": "code",
   "execution_count": 39,
   "id": "c01887d6",
   "metadata": {},
   "outputs": [
    {
     "data": {
      "text/html": [
       "<div>\n",
       "<style scoped>\n",
       "    .dataframe tbody tr th:only-of-type {\n",
       "        vertical-align: middle;\n",
       "    }\n",
       "\n",
       "    .dataframe tbody tr th {\n",
       "        vertical-align: top;\n",
       "    }\n",
       "\n",
       "    .dataframe thead th {\n",
       "        text-align: right;\n",
       "    }\n",
       "</style>\n",
       "<table border=\"1\" class=\"dataframe\">\n",
       "  <thead>\n",
       "    <tr style=\"text-align: right;\">\n",
       "      <th></th>\n",
       "      <th>critic_score</th>\n",
       "      <th>user_score</th>\n",
       "    </tr>\n",
       "  </thead>\n",
       "  <tbody>\n",
       "    <tr>\n",
       "      <td>count</td>\n",
       "      <td>9434.000000</td>\n",
       "      <td>9433.000000</td>\n",
       "    </tr>\n",
       "    <tr>\n",
       "      <td>mean</td>\n",
       "      <td>68.582791</td>\n",
       "      <td>7.029232</td>\n",
       "    </tr>\n",
       "    <tr>\n",
       "      <td>std</td>\n",
       "      <td>14.435827</td>\n",
       "      <td>1.503316</td>\n",
       "    </tr>\n",
       "    <tr>\n",
       "      <td>min</td>\n",
       "      <td>0.000000</td>\n",
       "      <td>0.000000</td>\n",
       "    </tr>\n",
       "    <tr>\n",
       "      <td>25%</td>\n",
       "      <td>60.000000</td>\n",
       "      <td>6.200000</td>\n",
       "    </tr>\n",
       "    <tr>\n",
       "      <td>50%</td>\n",
       "      <td>71.000000</td>\n",
       "      <td>7.400000</td>\n",
       "    </tr>\n",
       "    <tr>\n",
       "      <td>75%</td>\n",
       "      <td>79.000000</td>\n",
       "      <td>8.100000</td>\n",
       "    </tr>\n",
       "    <tr>\n",
       "      <td>max</td>\n",
       "      <td>98.000000</td>\n",
       "      <td>9.700000</td>\n",
       "    </tr>\n",
       "  </tbody>\n",
       "</table>\n",
       "</div>"
      ],
      "text/plain": [
       "       critic_score   user_score\n",
       "count   9434.000000  9433.000000\n",
       "mean      68.582791     7.029232\n",
       "std       14.435827     1.503316\n",
       "min        0.000000     0.000000\n",
       "25%       60.000000     6.200000\n",
       "50%       71.000000     7.400000\n",
       "75%       79.000000     8.100000\n",
       "max       98.000000     9.700000"
      ]
     },
     "execution_count": 39,
     "metadata": {},
     "output_type": "execute_result"
    }
   ],
   "source": [
    "df.loc[df['user_score'] > 9.7, 'user_score'] = 9.7\n",
    "df[['critic_score', 'user_score']].describe()"
   ]
  },
  {
   "cell_type": "markdown",
   "id": "c59321e9",
   "metadata": {},
   "source": [
    "Большую часть оставшихся пропущенных значений можно заменить медианным значеним по связке \"платформа+жанр\"."
   ]
  },
  {
   "cell_type": "code",
   "execution_count": 40,
   "id": "f60bf8ad",
   "metadata": {
    "scrolled": true
   },
   "outputs": [
    {
     "data": {
      "text/html": [
       "<div>\n",
       "<style scoped>\n",
       "    .dataframe tbody tr th:only-of-type {\n",
       "        vertical-align: middle;\n",
       "    }\n",
       "\n",
       "    .dataframe tbody tr th {\n",
       "        vertical-align: top;\n",
       "    }\n",
       "\n",
       "    .dataframe thead th {\n",
       "        text-align: right;\n",
       "    }\n",
       "</style>\n",
       "<table border=\"1\" class=\"dataframe\">\n",
       "  <thead>\n",
       "    <tr style=\"text-align: right;\">\n",
       "      <th></th>\n",
       "      <th>critic_score</th>\n",
       "      <th>user_score</th>\n",
       "    </tr>\n",
       "  </thead>\n",
       "  <tbody>\n",
       "    <tr>\n",
       "      <td>count</td>\n",
       "      <td>16332.000000</td>\n",
       "      <td>16303.000000</td>\n",
       "    </tr>\n",
       "    <tr>\n",
       "      <td>mean</td>\n",
       "      <td>68.719611</td>\n",
       "      <td>7.157684</td>\n",
       "    </tr>\n",
       "    <tr>\n",
       "      <td>std</td>\n",
       "      <td>11.818724</td>\n",
       "      <td>1.239966</td>\n",
       "    </tr>\n",
       "    <tr>\n",
       "      <td>min</td>\n",
       "      <td>0.000000</td>\n",
       "      <td>0.000000</td>\n",
       "    </tr>\n",
       "    <tr>\n",
       "      <td>25%</td>\n",
       "      <td>63.000000</td>\n",
       "      <td>6.700000</td>\n",
       "    </tr>\n",
       "    <tr>\n",
       "      <td>50%</td>\n",
       "      <td>69.000000</td>\n",
       "      <td>7.300000</td>\n",
       "    </tr>\n",
       "    <tr>\n",
       "      <td>75%</td>\n",
       "      <td>76.000000</td>\n",
       "      <td>7.900000</td>\n",
       "    </tr>\n",
       "    <tr>\n",
       "      <td>max</td>\n",
       "      <td>98.000000</td>\n",
       "      <td>9.700000</td>\n",
       "    </tr>\n",
       "  </tbody>\n",
       "</table>\n",
       "</div>"
      ],
      "text/plain": [
       "       critic_score    user_score\n",
       "count  16332.000000  16303.000000\n",
       "mean      68.719611      7.157684\n",
       "std       11.818724      1.239966\n",
       "min        0.000000      0.000000\n",
       "25%       63.000000      6.700000\n",
       "50%       69.000000      7.300000\n",
       "75%       76.000000      7.900000\n",
       "max       98.000000      9.700000"
      ]
     },
     "execution_count": 40,
     "metadata": {},
     "output_type": "execute_result"
    }
   ],
   "source": [
    "df['critic_score'] = df.groupby(['genre','platform'])['critic_score'].transform(lambda x: x.fillna(x.median()))\n",
    "df['user_score'] = df.groupby(['genre','platform'])['user_score'].transform(lambda x: x.fillna(x.median()))\n",
    "df[['critic_score', 'user_score']].describe()"
   ]
  },
  {
   "cell_type": "markdown",
   "id": "62d322a1",
   "metadata": {},
   "source": [
    "Минимальную оставшуюся часть пропусков ввиду недостатка иных вспомогательных данных можно заменить медианной  оценкой по жанру."
   ]
  },
  {
   "cell_type": "code",
   "execution_count": 41,
   "id": "2df9c485",
   "metadata": {
    "scrolled": true
   },
   "outputs": [
    {
     "data": {
      "text/html": [
       "<div>\n",
       "<style scoped>\n",
       "    .dataframe tbody tr th:only-of-type {\n",
       "        vertical-align: middle;\n",
       "    }\n",
       "\n",
       "    .dataframe tbody tr th {\n",
       "        vertical-align: top;\n",
       "    }\n",
       "\n",
       "    .dataframe thead th {\n",
       "        text-align: right;\n",
       "    }\n",
       "</style>\n",
       "<table border=\"1\" class=\"dataframe\">\n",
       "  <thead>\n",
       "    <tr style=\"text-align: right;\">\n",
       "      <th></th>\n",
       "      <th>critic_score</th>\n",
       "      <th>user_score</th>\n",
       "    </tr>\n",
       "  </thead>\n",
       "  <tbody>\n",
       "    <tr>\n",
       "      <td>count</td>\n",
       "      <td>16713.000000</td>\n",
       "      <td>16713.000000</td>\n",
       "    </tr>\n",
       "    <tr>\n",
       "      <td>mean</td>\n",
       "      <td>68.736594</td>\n",
       "      <td>7.163726</td>\n",
       "    </tr>\n",
       "    <tr>\n",
       "      <td>std</td>\n",
       "      <td>11.690440</td>\n",
       "      <td>1.227114</td>\n",
       "    </tr>\n",
       "    <tr>\n",
       "      <td>min</td>\n",
       "      <td>0.000000</td>\n",
       "      <td>0.000000</td>\n",
       "    </tr>\n",
       "    <tr>\n",
       "      <td>25%</td>\n",
       "      <td>63.000000</td>\n",
       "      <td>6.749254</td>\n",
       "    </tr>\n",
       "    <tr>\n",
       "      <td>50%</td>\n",
       "      <td>69.000000</td>\n",
       "      <td>7.300000</td>\n",
       "    </tr>\n",
       "    <tr>\n",
       "      <td>75%</td>\n",
       "      <td>76.000000</td>\n",
       "      <td>7.900000</td>\n",
       "    </tr>\n",
       "    <tr>\n",
       "      <td>max</td>\n",
       "      <td>98.000000</td>\n",
       "      <td>9.700000</td>\n",
       "    </tr>\n",
       "  </tbody>\n",
       "</table>\n",
       "</div>"
      ],
      "text/plain": [
       "       critic_score    user_score\n",
       "count  16713.000000  16713.000000\n",
       "mean      68.736594      7.163726\n",
       "std       11.690440      1.227114\n",
       "min        0.000000      0.000000\n",
       "25%       63.000000      6.749254\n",
       "50%       69.000000      7.300000\n",
       "75%       76.000000      7.900000\n",
       "max       98.000000      9.700000"
      ]
     },
     "execution_count": 41,
     "metadata": {},
     "output_type": "execute_result"
    }
   ],
   "source": [
    "df['critic_score'] = df.groupby('genre')['critic_score'].transform(lambda x: x.fillna(x.median()))\n",
    "df['user_score'] = df.groupby('genre')['user_score'].transform(lambda x: x.fillna(x.median()))\n",
    "df[['critic_score', 'user_score']].describe()"
   ]
  },
  {
   "cell_type": "markdown",
   "id": "353847da",
   "metadata": {},
   "source": [
    "Все пропущенные значения заменены, при этом имеются игры с оценкой \"ноль\" как от пользователей, так и от критиков."
   ]
  },
  {
   "cell_type": "code",
   "execution_count": 42,
   "id": "b89a3687",
   "metadata": {},
   "outputs": [
    {
     "data": {
      "text/html": [
       "<div>\n",
       "<style scoped>\n",
       "    .dataframe tbody tr th:only-of-type {\n",
       "        vertical-align: middle;\n",
       "    }\n",
       "\n",
       "    .dataframe tbody tr th {\n",
       "        vertical-align: top;\n",
       "    }\n",
       "\n",
       "    .dataframe thead th {\n",
       "        text-align: right;\n",
       "    }\n",
       "</style>\n",
       "<table border=\"1\" class=\"dataframe\">\n",
       "  <thead>\n",
       "    <tr style=\"text-align: right;\">\n",
       "      <th></th>\n",
       "      <th>name</th>\n",
       "      <th>platform</th>\n",
       "      <th>year_of_release</th>\n",
       "      <th>genre</th>\n",
       "      <th>na_sales</th>\n",
       "      <th>eu_sales</th>\n",
       "      <th>jp_sales</th>\n",
       "      <th>other_sales</th>\n",
       "      <th>critic_score</th>\n",
       "      <th>user_score</th>\n",
       "      <th>rating</th>\n",
       "      <th>total_sales</th>\n",
       "    </tr>\n",
       "  </thead>\n",
       "  <tbody>\n",
       "    <tr>\n",
       "      <td>2834</td>\n",
       "      <td>My Little Pony: Pinkie Pie's Party</td>\n",
       "      <td>DS</td>\n",
       "      <td>2008</td>\n",
       "      <td>Adventure</td>\n",
       "      <td>0.66</td>\n",
       "      <td>0.0</td>\n",
       "      <td>0.0</td>\n",
       "      <td>0.06</td>\n",
       "      <td>0.0</td>\n",
       "      <td>0.0</td>\n",
       "      <td>E</td>\n",
       "      <td>0.72</td>\n",
       "    </tr>\n",
       "  </tbody>\n",
       "</table>\n",
       "</div>"
      ],
      "text/plain": [
       "                                    name platform  year_of_release      genre  \\\n",
       "2834  My Little Pony: Pinkie Pie's Party       DS             2008  Adventure   \n",
       "\n",
       "      na_sales  eu_sales  jp_sales  other_sales  critic_score  user_score  \\\n",
       "2834      0.66       0.0       0.0         0.06           0.0         0.0   \n",
       "\n",
       "     rating  total_sales  \n",
       "2834      E         0.72  "
      ]
     },
     "execution_count": 42,
     "metadata": {},
     "output_type": "execute_result"
    }
   ],
   "source": [
    "df.query('critic_score == 0 or user_score == 0')"
   ]
  },
  {
   "cell_type": "markdown",
   "id": "6fed9e00",
   "metadata": {},
   "source": [
    "Это всего одна игра, причем с категорией \"высокие продажи\". Очевидно, это ошибка. Также надо заменить это значение на медиану по связке \"жанр+платформа\"."
   ]
  },
  {
   "cell_type": "code",
   "execution_count": 43,
   "id": "0727ac75",
   "metadata": {},
   "outputs": [
    {
     "data": {
      "text/html": [
       "<div>\n",
       "<style scoped>\n",
       "    .dataframe tbody tr th:only-of-type {\n",
       "        vertical-align: middle;\n",
       "    }\n",
       "\n",
       "    .dataframe tbody tr th {\n",
       "        vertical-align: top;\n",
       "    }\n",
       "\n",
       "    .dataframe thead th {\n",
       "        text-align: right;\n",
       "    }\n",
       "</style>\n",
       "<table border=\"1\" class=\"dataframe\">\n",
       "  <thead>\n",
       "    <tr style=\"text-align: right;\">\n",
       "      <th></th>\n",
       "      <th></th>\n",
       "      <th>critic_score</th>\n",
       "      <th>user_score</th>\n",
       "    </tr>\n",
       "    <tr>\n",
       "      <th>platform</th>\n",
       "      <th>genre</th>\n",
       "      <th></th>\n",
       "      <th></th>\n",
       "    </tr>\n",
       "  </thead>\n",
       "  <tbody>\n",
       "    <tr>\n",
       "      <td>DS</td>\n",
       "      <td>Adventure</td>\n",
       "      <td>61.0</td>\n",
       "      <td>6.861333</td>\n",
       "    </tr>\n",
       "  </tbody>\n",
       "</table>\n",
       "</div>"
      ],
      "text/plain": [
       "                    critic_score  user_score\n",
       "platform genre                              \n",
       "DS       Adventure          61.0    6.861333"
      ]
     },
     "execution_count": 43,
     "metadata": {},
     "output_type": "execute_result"
    }
   ],
   "source": [
    "df.query('genre == \"Adventure\" and platform == \"DS\"').groupby(\n",
    "    ['platform', 'genre']).agg({'critic_score':'median','user_score':'median'})"
   ]
  },
  {
   "cell_type": "code",
   "execution_count": 44,
   "id": "a3aa42d3",
   "metadata": {
    "scrolled": false
   },
   "outputs": [
    {
     "data": {
      "text/html": [
       "<div>\n",
       "<style scoped>\n",
       "    .dataframe tbody tr th:only-of-type {\n",
       "        vertical-align: middle;\n",
       "    }\n",
       "\n",
       "    .dataframe tbody tr th {\n",
       "        vertical-align: top;\n",
       "    }\n",
       "\n",
       "    .dataframe thead th {\n",
       "        text-align: right;\n",
       "    }\n",
       "</style>\n",
       "<table border=\"1\" class=\"dataframe\">\n",
       "  <thead>\n",
       "    <tr style=\"text-align: right;\">\n",
       "      <th></th>\n",
       "      <th>name</th>\n",
       "      <th>platform</th>\n",
       "      <th>year_of_release</th>\n",
       "      <th>genre</th>\n",
       "      <th>na_sales</th>\n",
       "      <th>eu_sales</th>\n",
       "      <th>jp_sales</th>\n",
       "      <th>other_sales</th>\n",
       "      <th>critic_score</th>\n",
       "      <th>user_score</th>\n",
       "      <th>rating</th>\n",
       "      <th>total_sales</th>\n",
       "    </tr>\n",
       "  </thead>\n",
       "  <tbody>\n",
       "    <tr>\n",
       "      <td>2834</td>\n",
       "      <td>My Little Pony: Pinkie Pie's Party</td>\n",
       "      <td>DS</td>\n",
       "      <td>2008</td>\n",
       "      <td>Adventure</td>\n",
       "      <td>0.66</td>\n",
       "      <td>0.0</td>\n",
       "      <td>0.0</td>\n",
       "      <td>0.06</td>\n",
       "      <td>61.0</td>\n",
       "      <td>6.861333</td>\n",
       "      <td>E</td>\n",
       "      <td>0.72</td>\n",
       "    </tr>\n",
       "  </tbody>\n",
       "</table>\n",
       "</div>"
      ],
      "text/plain": [
       "                                    name platform  year_of_release      genre  \\\n",
       "2834  My Little Pony: Pinkie Pie's Party       DS             2008  Adventure   \n",
       "\n",
       "      na_sales  eu_sales  jp_sales  other_sales  critic_score  user_score  \\\n",
       "2834      0.66       0.0       0.0         0.06          61.0    6.861333   \n",
       "\n",
       "     rating  total_sales  \n",
       "2834      E         0.72  "
      ]
     },
     "metadata": {},
     "output_type": "display_data"
    },
    {
     "data": {
      "text/html": [
       "<div>\n",
       "<style scoped>\n",
       "    .dataframe tbody tr th:only-of-type {\n",
       "        vertical-align: middle;\n",
       "    }\n",
       "\n",
       "    .dataframe tbody tr th {\n",
       "        vertical-align: top;\n",
       "    }\n",
       "\n",
       "    .dataframe thead th {\n",
       "        text-align: right;\n",
       "    }\n",
       "</style>\n",
       "<table border=\"1\" class=\"dataframe\">\n",
       "  <thead>\n",
       "    <tr style=\"text-align: right;\">\n",
       "      <th></th>\n",
       "      <th>critic_score</th>\n",
       "      <th>user_score</th>\n",
       "    </tr>\n",
       "  </thead>\n",
       "  <tbody>\n",
       "    <tr>\n",
       "      <td>count</td>\n",
       "      <td>16713.000000</td>\n",
       "      <td>16713.000000</td>\n",
       "    </tr>\n",
       "    <tr>\n",
       "      <td>mean</td>\n",
       "      <td>68.740243</td>\n",
       "      <td>7.164137</td>\n",
       "    </tr>\n",
       "    <tr>\n",
       "      <td>std</td>\n",
       "      <td>11.678495</td>\n",
       "      <td>1.225864</td>\n",
       "    </tr>\n",
       "    <tr>\n",
       "      <td>min</td>\n",
       "      <td>1.949580</td>\n",
       "      <td>0.200000</td>\n",
       "    </tr>\n",
       "    <tr>\n",
       "      <td>25%</td>\n",
       "      <td>63.000000</td>\n",
       "      <td>6.749254</td>\n",
       "    </tr>\n",
       "    <tr>\n",
       "      <td>50%</td>\n",
       "      <td>69.000000</td>\n",
       "      <td>7.300000</td>\n",
       "    </tr>\n",
       "    <tr>\n",
       "      <td>75%</td>\n",
       "      <td>76.000000</td>\n",
       "      <td>7.900000</td>\n",
       "    </tr>\n",
       "    <tr>\n",
       "      <td>max</td>\n",
       "      <td>98.000000</td>\n",
       "      <td>9.700000</td>\n",
       "    </tr>\n",
       "  </tbody>\n",
       "</table>\n",
       "</div>"
      ],
      "text/plain": [
       "       critic_score    user_score\n",
       "count  16713.000000  16713.000000\n",
       "mean      68.740243      7.164137\n",
       "std       11.678495      1.225864\n",
       "min        1.949580      0.200000\n",
       "25%       63.000000      6.749254\n",
       "50%       69.000000      7.300000\n",
       "75%       76.000000      7.900000\n",
       "max       98.000000      9.700000"
      ]
     },
     "metadata": {},
     "output_type": "display_data"
    }
   ],
   "source": [
    "df.loc[(df['name'] == \"My Little Pony: Pinkie Pie's Party\"), 'critic_score'] = 61.0\n",
    "df.loc[(df['name'] == \"My Little Pony: Pinkie Pie's Party\"), 'user_score'] = 6.861333\n",
    "display(df.loc[df['name'] == \"My Little Pony: Pinkie Pie's Party\"])\n",
    "display(df[['critic_score', 'user_score']].describe())"
   ]
  },
  {
   "cell_type": "markdown",
   "id": "012cf62a",
   "metadata": {},
   "source": [
    "___ \n",
    "Далее можно перейти к столбцу *rating*"
   ]
  },
  {
   "cell_type": "code",
   "execution_count": 45,
   "id": "1f8c0aff",
   "metadata": {},
   "outputs": [
    {
     "data": {
      "text/plain": [
       "E       3990\n",
       "T       2961\n",
       "M       1563\n",
       "E10+    1420\n",
       "EC         8\n",
       "K-A        3\n",
       "RP         3\n",
       "AO         1\n",
       "Name: rating, dtype: int64"
      ]
     },
     "metadata": {},
     "output_type": "display_data"
    },
    {
     "data": {
      "text/plain": [
       "6764"
      ]
     },
     "metadata": {},
     "output_type": "display_data"
    }
   ],
   "source": [
    "display(df['rating'].value_counts())\n",
    "display(df['rating'].isna().sum())"
   ]
  },
  {
   "cell_type": "markdown",
   "id": "4874e96b",
   "metadata": {},
   "source": [
    "В столбце указан рейтинг игр от организации ESRB в формате object. В данном случае можно произвести замену на любое пустое значение."
   ]
  },
  {
   "cell_type": "code",
   "execution_count": 46,
   "id": "77a1d924",
   "metadata": {},
   "outputs": [
    {
     "data": {
      "text/html": [
       "<div>\n",
       "<style scoped>\n",
       "    .dataframe tbody tr th:only-of-type {\n",
       "        vertical-align: middle;\n",
       "    }\n",
       "\n",
       "    .dataframe tbody tr th {\n",
       "        vertical-align: top;\n",
       "    }\n",
       "\n",
       "    .dataframe thead th {\n",
       "        text-align: right;\n",
       "    }\n",
       "</style>\n",
       "<table border=\"1\" class=\"dataframe\">\n",
       "  <thead>\n",
       "    <tr style=\"text-align: right;\">\n",
       "      <th></th>\n",
       "      <th>name</th>\n",
       "      <th>platform</th>\n",
       "      <th>year_of_release</th>\n",
       "      <th>genre</th>\n",
       "      <th>na_sales</th>\n",
       "      <th>eu_sales</th>\n",
       "      <th>jp_sales</th>\n",
       "      <th>other_sales</th>\n",
       "      <th>critic_score</th>\n",
       "      <th>user_score</th>\n",
       "      <th>rating</th>\n",
       "      <th>total_sales</th>\n",
       "    </tr>\n",
       "  </thead>\n",
       "  <tbody>\n",
       "    <tr>\n",
       "      <td>1</td>\n",
       "      <td>Super Mario Bros.</td>\n",
       "      <td>NES</td>\n",
       "      <td>1985</td>\n",
       "      <td>Platform</td>\n",
       "      <td>29.08</td>\n",
       "      <td>3.58</td>\n",
       "      <td>6.81</td>\n",
       "      <td>0.77</td>\n",
       "      <td>71.0</td>\n",
       "      <td>7.700000</td>\n",
       "      <td>no rating</td>\n",
       "      <td>40.24</td>\n",
       "    </tr>\n",
       "    <tr>\n",
       "      <td>4</td>\n",
       "      <td>Pokemon Red/Pokemon Blue</td>\n",
       "      <td>GB</td>\n",
       "      <td>1996</td>\n",
       "      <td>Role-Playing</td>\n",
       "      <td>11.27</td>\n",
       "      <td>8.89</td>\n",
       "      <td>10.22</td>\n",
       "      <td>1.00</td>\n",
       "      <td>72.5</td>\n",
       "      <td>7.800000</td>\n",
       "      <td>no rating</td>\n",
       "      <td>31.38</td>\n",
       "    </tr>\n",
       "    <tr>\n",
       "      <td>5</td>\n",
       "      <td>Tetris</td>\n",
       "      <td>GB</td>\n",
       "      <td>1989</td>\n",
       "      <td>Puzzle</td>\n",
       "      <td>23.20</td>\n",
       "      <td>2.26</td>\n",
       "      <td>4.22</td>\n",
       "      <td>0.58</td>\n",
       "      <td>68.5</td>\n",
       "      <td>6.887919</td>\n",
       "      <td>no rating</td>\n",
       "      <td>30.26</td>\n",
       "    </tr>\n",
       "    <tr>\n",
       "      <td>9</td>\n",
       "      <td>Duck Hunt</td>\n",
       "      <td>NES</td>\n",
       "      <td>1984</td>\n",
       "      <td>Shooter</td>\n",
       "      <td>26.93</td>\n",
       "      <td>0.63</td>\n",
       "      <td>0.28</td>\n",
       "      <td>0.47</td>\n",
       "      <td>72.0</td>\n",
       "      <td>7.368421</td>\n",
       "      <td>no rating</td>\n",
       "      <td>28.31</td>\n",
       "    </tr>\n",
       "    <tr>\n",
       "      <td>10</td>\n",
       "      <td>Nintendogs</td>\n",
       "      <td>DS</td>\n",
       "      <td>2005</td>\n",
       "      <td>Simulation</td>\n",
       "      <td>9.05</td>\n",
       "      <td>10.95</td>\n",
       "      <td>1.93</td>\n",
       "      <td>2.74</td>\n",
       "      <td>66.0</td>\n",
       "      <td>6.749254</td>\n",
       "      <td>no rating</td>\n",
       "      <td>24.67</td>\n",
       "    </tr>\n",
       "    <tr>\n",
       "      <td>...</td>\n",
       "      <td>...</td>\n",
       "      <td>...</td>\n",
       "      <td>...</td>\n",
       "      <td>...</td>\n",
       "      <td>...</td>\n",
       "      <td>...</td>\n",
       "      <td>...</td>\n",
       "      <td>...</td>\n",
       "      <td>...</td>\n",
       "      <td>...</td>\n",
       "      <td>...</td>\n",
       "      <td>...</td>\n",
       "    </tr>\n",
       "    <tr>\n",
       "      <td>16708</td>\n",
       "      <td>Samurai Warriors: Sanada Maru</td>\n",
       "      <td>PS3</td>\n",
       "      <td>2016</td>\n",
       "      <td>Action</td>\n",
       "      <td>0.00</td>\n",
       "      <td>0.00</td>\n",
       "      <td>0.01</td>\n",
       "      <td>0.00</td>\n",
       "      <td>71.0</td>\n",
       "      <td>7.200000</td>\n",
       "      <td>no rating</td>\n",
       "      <td>0.01</td>\n",
       "    </tr>\n",
       "    <tr>\n",
       "      <td>16709</td>\n",
       "      <td>LMA Manager 2007</td>\n",
       "      <td>X360</td>\n",
       "      <td>2006</td>\n",
       "      <td>Sports</td>\n",
       "      <td>0.00</td>\n",
       "      <td>0.01</td>\n",
       "      <td>0.00</td>\n",
       "      <td>0.00</td>\n",
       "      <td>73.0</td>\n",
       "      <td>6.500000</td>\n",
       "      <td>no rating</td>\n",
       "      <td>0.01</td>\n",
       "    </tr>\n",
       "    <tr>\n",
       "      <td>16710</td>\n",
       "      <td>Haitaka no Psychedelica</td>\n",
       "      <td>PSV</td>\n",
       "      <td>2016</td>\n",
       "      <td>Adventure</td>\n",
       "      <td>0.00</td>\n",
       "      <td>0.00</td>\n",
       "      <td>0.01</td>\n",
       "      <td>0.00</td>\n",
       "      <td>72.0</td>\n",
       "      <td>7.600000</td>\n",
       "      <td>no rating</td>\n",
       "      <td>0.01</td>\n",
       "    </tr>\n",
       "    <tr>\n",
       "      <td>16711</td>\n",
       "      <td>Spirits &amp; Spells</td>\n",
       "      <td>GBA</td>\n",
       "      <td>2003</td>\n",
       "      <td>Platform</td>\n",
       "      <td>0.01</td>\n",
       "      <td>0.00</td>\n",
       "      <td>0.00</td>\n",
       "      <td>0.00</td>\n",
       "      <td>71.0</td>\n",
       "      <td>7.800000</td>\n",
       "      <td>no rating</td>\n",
       "      <td>0.01</td>\n",
       "    </tr>\n",
       "    <tr>\n",
       "      <td>16712</td>\n",
       "      <td>Winning Post 8 2016</td>\n",
       "      <td>PSV</td>\n",
       "      <td>2016</td>\n",
       "      <td>Simulation</td>\n",
       "      <td>0.00</td>\n",
       "      <td>0.00</td>\n",
       "      <td>0.01</td>\n",
       "      <td>0.00</td>\n",
       "      <td>66.0</td>\n",
       "      <td>6.950000</td>\n",
       "      <td>no rating</td>\n",
       "      <td>0.01</td>\n",
       "    </tr>\n",
       "  </tbody>\n",
       "</table>\n",
       "<p>6764 rows × 12 columns</p>\n",
       "</div>"
      ],
      "text/plain": [
       "                                name platform  year_of_release         genre  \\\n",
       "1                  Super Mario Bros.      NES             1985      Platform   \n",
       "4           Pokemon Red/Pokemon Blue       GB             1996  Role-Playing   \n",
       "5                             Tetris       GB             1989        Puzzle   \n",
       "9                          Duck Hunt      NES             1984       Shooter   \n",
       "10                        Nintendogs       DS             2005    Simulation   \n",
       "...                              ...      ...              ...           ...   \n",
       "16708  Samurai Warriors: Sanada Maru      PS3             2016        Action   \n",
       "16709               LMA Manager 2007     X360             2006        Sports   \n",
       "16710        Haitaka no Psychedelica      PSV             2016     Adventure   \n",
       "16711               Spirits & Spells      GBA             2003      Platform   \n",
       "16712            Winning Post 8 2016      PSV             2016    Simulation   \n",
       "\n",
       "       na_sales  eu_sales  jp_sales  other_sales  critic_score  user_score  \\\n",
       "1         29.08      3.58      6.81         0.77          71.0    7.700000   \n",
       "4         11.27      8.89     10.22         1.00          72.5    7.800000   \n",
       "5         23.20      2.26      4.22         0.58          68.5    6.887919   \n",
       "9         26.93      0.63      0.28         0.47          72.0    7.368421   \n",
       "10         9.05     10.95      1.93         2.74          66.0    6.749254   \n",
       "...         ...       ...       ...          ...           ...         ...   \n",
       "16708      0.00      0.00      0.01         0.00          71.0    7.200000   \n",
       "16709      0.00      0.01      0.00         0.00          73.0    6.500000   \n",
       "16710      0.00      0.00      0.01         0.00          72.0    7.600000   \n",
       "16711      0.01      0.00      0.00         0.00          71.0    7.800000   \n",
       "16712      0.00      0.00      0.01         0.00          66.0    6.950000   \n",
       "\n",
       "          rating  total_sales  \n",
       "1      no rating        40.24  \n",
       "4      no rating        31.38  \n",
       "5      no rating        30.26  \n",
       "9      no rating        28.31  \n",
       "10     no rating        24.67  \n",
       "...          ...          ...  \n",
       "16708  no rating         0.01  \n",
       "16709  no rating         0.01  \n",
       "16710  no rating         0.01  \n",
       "16711  no rating         0.01  \n",
       "16712  no rating         0.01  \n",
       "\n",
       "[6764 rows x 12 columns]"
      ]
     },
     "execution_count": 46,
     "metadata": {},
     "output_type": "execute_result"
    }
   ],
   "source": [
    "df.loc[(df['rating'].isna(), 'rating')] = 'no rating'\n",
    "df.query('rating == \"no rating\"')"
   ]
  },
  {
   "cell_type": "markdown",
   "id": "7ef9464f",
   "metadata": {},
   "source": [
    "Далее можно приступить к исследовательскому анализу данных\n",
    "___"
   ]
  },
  {
   "cell_type": "markdown",
   "id": "6b8fd3a0",
   "metadata": {},
   "source": [
    "## Исследовательский анализ данных"
   ]
  },
  {
   "cell_type": "markdown",
   "id": "3d6acb0d",
   "metadata": {},
   "source": [
    "Необходимо понять сколько игр выпускалось в разные годы и важны ли данные за все периоды. Построим гистограмму по количеству игр по годам еще раз."
   ]
  },
  {
   "cell_type": "code",
   "execution_count": 48,
   "id": "5b066f1d",
   "metadata": {},
   "outputs": [
    {
     "data": {
      "image/png": "[encoded data removed]",
      "text/plain": [
       "<Figure size 1080x360 with 1 Axes>"
      ]
     },
     "metadata": {
      "needs_background": "light"
     },
     "output_type": "display_data"
    }
   ],
   "source": [
    "df['year_of_release'].plot(kind='hist', bins=36, range=(1980,2017), figsize=(15,5),  color=\"#70AD47\", edgecolor=\"black\")\n",
    "plt.title(\"Распределение по годам\")\n",
    "plt.xlabel(\"Год\")\n",
    "plt.ylabel(\"Количество, ед.\")\n",
    "plt.show()"
   ]
  },
  {
   "cell_type": "markdown",
   "id": "7b333d8d",
   "metadata": {},
   "source": [
    "**По гистограмме видны определенные тренды по росту и снижению количества игр по годам. Как ранее было установлено данные тренды зачастую привязаны к выходу новых игровых платформ. Если принимать гипотезу, что сейчас конец 2016 года и необходимо опираться на данные для прогнозов на 2017 год - корректнее всего брать данные с 2012 года по 2016 год включительно. В данный период времени на рынок вышли консоли восьмого поколения, которые оставались наиболее актуальными до конца наблюдаемого периода. По данным на конец 2016 года - в 2017 году может состоятся релиз только 1 новой платформы (Xbox One X), в связи с чем можно предположить, что будет соблюдаться динамика последних лет.**"
   ]
  },
  {
   "cell_type": "code",
   "execution_count": 49,
   "id": "2c64b143",
   "metadata": {},
   "outputs": [],
   "source": [
    "df_after_2012 = df.query('year_of_release >= 2012')"
   ]
  },
  {
   "cell_type": "markdown",
   "id": "bec16846",
   "metadata": {},
   "source": [
    "___"
   ]
  },
  {
   "cell_type": "markdown",
   "id": "2ff37ae2",
   "metadata": {},
   "source": [
    "Далее необходимо проанализировать как менялись продажи по платформам с наибольшими суммарными продажами."
   ]
  },
  {
   "cell_type": "code",
   "execution_count": 50,
   "id": "d467516b",
   "metadata": {
    "scrolled": true
   },
   "outputs": [
    {
     "data": {
      "text/html": [
       "<div>\n",
       "<style scoped>\n",
       "    .dataframe tbody tr th:only-of-type {\n",
       "        vertical-align: middle;\n",
       "    }\n",
       "\n",
       "    .dataframe tbody tr th {\n",
       "        vertical-align: top;\n",
       "    }\n",
       "\n",
       "    .dataframe thead th {\n",
       "        text-align: right;\n",
       "    }\n",
       "</style>\n",
       "<table border=\"1\" class=\"dataframe\">\n",
       "  <thead>\n",
       "    <tr style=\"text-align: right;\">\n",
       "      <th></th>\n",
       "      <th>platform</th>\n",
       "      <th>total_sales</th>\n",
       "    </tr>\n",
       "  </thead>\n",
       "  <tbody>\n",
       "    <tr>\n",
       "      <td>0</td>\n",
       "      <td>PS2</td>\n",
       "      <td>1255.77</td>\n",
       "    </tr>\n",
       "    <tr>\n",
       "      <td>1</td>\n",
       "      <td>X360</td>\n",
       "      <td>971.42</td>\n",
       "    </tr>\n",
       "    <tr>\n",
       "      <td>2</td>\n",
       "      <td>PS3</td>\n",
       "      <td>939.65</td>\n",
       "    </tr>\n",
       "    <tr>\n",
       "      <td>3</td>\n",
       "      <td>Wii</td>\n",
       "      <td>907.51</td>\n",
       "    </tr>\n",
       "    <tr>\n",
       "      <td>4</td>\n",
       "      <td>DS</td>\n",
       "      <td>806.12</td>\n",
       "    </tr>\n",
       "    <tr>\n",
       "      <td>5</td>\n",
       "      <td>PS</td>\n",
       "      <td>730.86</td>\n",
       "    </tr>\n",
       "    <tr>\n",
       "      <td>6</td>\n",
       "      <td>GBA</td>\n",
       "      <td>317.85</td>\n",
       "    </tr>\n",
       "    <tr>\n",
       "      <td>7</td>\n",
       "      <td>PS4</td>\n",
       "      <td>314.14</td>\n",
       "    </tr>\n",
       "    <tr>\n",
       "      <td>8</td>\n",
       "      <td>PSP</td>\n",
       "      <td>294.05</td>\n",
       "    </tr>\n",
       "    <tr>\n",
       "      <td>9</td>\n",
       "      <td>PC</td>\n",
       "      <td>259.52</td>\n",
       "    </tr>\n",
       "    <tr>\n",
       "      <td>10</td>\n",
       "      <td>3DS</td>\n",
       "      <td>259.00</td>\n",
       "    </tr>\n",
       "    <tr>\n",
       "      <td>11</td>\n",
       "      <td>XB</td>\n",
       "      <td>257.74</td>\n",
       "    </tr>\n",
       "    <tr>\n",
       "      <td>12</td>\n",
       "      <td>GB</td>\n",
       "      <td>255.46</td>\n",
       "    </tr>\n",
       "    <tr>\n",
       "      <td>13</td>\n",
       "      <td>NES</td>\n",
       "      <td>251.05</td>\n",
       "    </tr>\n",
       "    <tr>\n",
       "      <td>14</td>\n",
       "      <td>N64</td>\n",
       "      <td>218.68</td>\n",
       "    </tr>\n",
       "    <tr>\n",
       "      <td>15</td>\n",
       "      <td>SNES</td>\n",
       "      <td>200.04</td>\n",
       "    </tr>\n",
       "    <tr>\n",
       "      <td>16</td>\n",
       "      <td>GC</td>\n",
       "      <td>198.93</td>\n",
       "    </tr>\n",
       "    <tr>\n",
       "      <td>17</td>\n",
       "      <td>XOne</td>\n",
       "      <td>159.32</td>\n",
       "    </tr>\n",
       "    <tr>\n",
       "      <td>18</td>\n",
       "      <td>2600</td>\n",
       "      <td>96.98</td>\n",
       "    </tr>\n",
       "    <tr>\n",
       "      <td>19</td>\n",
       "      <td>WiiU</td>\n",
       "      <td>82.19</td>\n",
       "    </tr>\n",
       "  </tbody>\n",
       "</table>\n",
       "</div>"
      ],
      "text/plain": [
       "   platform  total_sales\n",
       "0       PS2      1255.77\n",
       "1      X360       971.42\n",
       "2       PS3       939.65\n",
       "3       Wii       907.51\n",
       "4        DS       806.12\n",
       "5        PS       730.86\n",
       "6       GBA       317.85\n",
       "7       PS4       314.14\n",
       "8       PSP       294.05\n",
       "9        PC       259.52\n",
       "10      3DS       259.00\n",
       "11       XB       257.74\n",
       "12       GB       255.46\n",
       "13      NES       251.05\n",
       "14      N64       218.68\n",
       "15     SNES       200.04\n",
       "16       GC       198.93\n",
       "17     XOne       159.32\n",
       "18     2600        96.98\n",
       "19     WiiU        82.19"
      ]
     },
     "execution_count": 50,
     "metadata": {},
     "output_type": "execute_result"
    }
   ],
   "source": [
    "top_20_platforms = df.pivot_table(\n",
    "    index = ['platform'], values = 'total_sales', aggfunc = 'sum').sort_values(\n",
    "    \"total_sales\", ascending=False).reset_index().head(20)\n",
    "top_20_platforms"
   ]
  },
  {
   "cell_type": "markdown",
   "id": "95259432",
   "metadata": {},
   "source": [
    "Получив список наиболее успешных платформ по количеству продаваемых игр можно построить их распределение по годам."
   ]
  },
  {
   "cell_type": "code",
   "execution_count": 51,
   "id": "21af189a",
   "metadata": {},
   "outputs": [
    {
     "data": {
      "image/png": "[encoded data removed]",
      "text/plain": [
       "<Figure size 1440x432 with 1 Axes>"
      ]
     },
     "metadata": {
      "needs_background": "light"
     },
     "output_type": "display_data"
    }
   ],
   "source": [
    "top_20_list = list(top_20_platforms['platform'])\n",
    "top_20_query = df.query('platform in @top_20_list')\n",
    "top_20_pivot = top_20_query.pivot_table(\n",
    "    index='year_of_release', columns='platform', values = 'total_sales', aggfunc='sum')\n",
    "ax = top_20_pivot.plot.bar(rot=0, stacked=True, figsize = (20,6), colormap=\"gist_rainbow\", edgecolor = 'black')\n",
    "plt.title(\"Распределение продаж наиболее успешных платформ по годам\")\n",
    "plt.xlabel(\"Год\")\n",
    "plt.ylabel(\"Объем продаж игр по всему миру, млн.копий.\")\n",
    "plt.show()"
   ]
  },
  {
   "cell_type": "markdown",
   "id": "9eaf8a98",
   "metadata": {},
   "source": [
    "По данному графику можно увидеть, что в среднем игровые платформы сохраняют свою востребованность на протяжении 9-11 лет. Исключением является персональный компьютер из-за того что обновление компонентов в нем происходит постоянно, в отличии от игровых платформ, где обновления внедряются в рамках поколенческой смены моделей."
   ]
  },
  {
   "cell_type": "code",
   "execution_count": 52,
   "id": "66adbd79",
   "metadata": {},
   "outputs": [
    {
     "data": {
      "text/html": [
       "<div>\n",
       "<style scoped>\n",
       "    .dataframe tbody tr th:only-of-type {\n",
       "        vertical-align: middle;\n",
       "    }\n",
       "\n",
       "    .dataframe tbody tr th {\n",
       "        vertical-align: top;\n",
       "    }\n",
       "\n",
       "    .dataframe thead th {\n",
       "        text-align: right;\n",
       "    }\n",
       "</style>\n",
       "<table border=\"1\" class=\"dataframe\">\n",
       "  <thead>\n",
       "    <tr style=\"text-align: right;\">\n",
       "      <th>year_of_release</th>\n",
       "      <th>2012</th>\n",
       "      <th>2013</th>\n",
       "      <th>2014</th>\n",
       "      <th>2015</th>\n",
       "      <th>2016</th>\n",
       "    </tr>\n",
       "    <tr>\n",
       "      <th>platform</th>\n",
       "      <th></th>\n",
       "      <th></th>\n",
       "      <th></th>\n",
       "      <th></th>\n",
       "      <th></th>\n",
       "    </tr>\n",
       "  </thead>\n",
       "  <tbody>\n",
       "    <tr>\n",
       "      <td>3DS</td>\n",
       "      <td>51.76</td>\n",
       "      <td>57.04</td>\n",
       "      <td>43.76</td>\n",
       "      <td>27.78</td>\n",
       "      <td>15.14</td>\n",
       "    </tr>\n",
       "    <tr>\n",
       "      <td>DS</td>\n",
       "      <td>11.67</td>\n",
       "      <td>1.54</td>\n",
       "      <td>NaN</td>\n",
       "      <td>NaN</td>\n",
       "      <td>NaN</td>\n",
       "    </tr>\n",
       "    <tr>\n",
       "      <td>PC</td>\n",
       "      <td>23.80</td>\n",
       "      <td>12.66</td>\n",
       "      <td>13.28</td>\n",
       "      <td>8.52</td>\n",
       "      <td>5.25</td>\n",
       "    </tr>\n",
       "    <tr>\n",
       "      <td>PS3</td>\n",
       "      <td>108.28</td>\n",
       "      <td>113.25</td>\n",
       "      <td>47.76</td>\n",
       "      <td>16.82</td>\n",
       "      <td>3.60</td>\n",
       "    </tr>\n",
       "    <tr>\n",
       "      <td>PS4</td>\n",
       "      <td>NaN</td>\n",
       "      <td>25.99</td>\n",
       "      <td>100.00</td>\n",
       "      <td>118.90</td>\n",
       "      <td>69.25</td>\n",
       "    </tr>\n",
       "    <tr>\n",
       "      <td>PSP</td>\n",
       "      <td>7.95</td>\n",
       "      <td>3.38</td>\n",
       "      <td>0.24</td>\n",
       "      <td>0.12</td>\n",
       "      <td>NaN</td>\n",
       "    </tr>\n",
       "    <tr>\n",
       "      <td>Wii</td>\n",
       "      <td>22.94</td>\n",
       "      <td>8.59</td>\n",
       "      <td>3.75</td>\n",
       "      <td>1.14</td>\n",
       "      <td>0.18</td>\n",
       "    </tr>\n",
       "    <tr>\n",
       "      <td>WiiU</td>\n",
       "      <td>17.56</td>\n",
       "      <td>21.65</td>\n",
       "      <td>22.03</td>\n",
       "      <td>16.35</td>\n",
       "      <td>4.60</td>\n",
       "    </tr>\n",
       "    <tr>\n",
       "      <td>X360</td>\n",
       "      <td>100.72</td>\n",
       "      <td>88.58</td>\n",
       "      <td>34.74</td>\n",
       "      <td>11.96</td>\n",
       "      <td>1.52</td>\n",
       "    </tr>\n",
       "    <tr>\n",
       "      <td>XOne</td>\n",
       "      <td>NaN</td>\n",
       "      <td>18.96</td>\n",
       "      <td>54.07</td>\n",
       "      <td>60.14</td>\n",
       "      <td>26.15</td>\n",
       "    </tr>\n",
       "  </tbody>\n",
       "</table>\n",
       "</div>"
      ],
      "text/plain": [
       "year_of_release    2012    2013    2014    2015   2016\n",
       "platform                                              \n",
       "3DS               51.76   57.04   43.76   27.78  15.14\n",
       "DS                11.67    1.54     NaN     NaN    NaN\n",
       "PC                23.80   12.66   13.28    8.52   5.25\n",
       "PS3              108.28  113.25   47.76   16.82   3.60\n",
       "PS4                 NaN   25.99  100.00  118.90  69.25\n",
       "PSP                7.95    3.38    0.24    0.12    NaN\n",
       "Wii               22.94    8.59    3.75    1.14   0.18\n",
       "WiiU              17.56   21.65   22.03   16.35   4.60\n",
       "X360             100.72   88.58   34.74   11.96   1.52\n",
       "XOne                NaN   18.96   54.07   60.14  26.15"
      ]
     },
     "execution_count": 52,
     "metadata": {},
     "output_type": "execute_result"
    }
   ],
   "source": [
    "top_20_actual_period = df_after_2012.query('platform in @top_20_list').pivot_table(\n",
    "    index='platform', values='total_sales', columns='year_of_release', aggfunc='sum')\n",
    "top_20_actual_period"
   ]
  },
  {
   "cell_type": "markdown",
   "id": "76f00f45",
   "metadata": {},
   "source": [
    "Тенденции по объему продаж за актуальный для прогноза период (**с 2012 года**)  можно выделить:\n",
    "    \n",
    "- объем продаж для консоли Game Boy Advance (GBA) снижается (8 лет на рынке);\n",
    "- объем продаж Playstation 3(PS3) также снижается, хоть и менее резким темпом (7 лет на рынке);\n",
    "- продажи недавно стартовавшей Nintendo 3DS (3DS) стабильны с момента начала продаж (2 года на рынке);\n",
    "- лидер по темпам роста за период 2013 - 2016 - PS4, в 2014-2016 также лидер по объемам продаж видеоигр;\n",
    "- начиная с 2014 года следующей консолью по объему продаж за PS4 идет XOne, выпущенная на рынок в 2013 году;\n",
    "- объем продаж игр на ПК (PC) стабилен."
   ]
  },
  {
   "cell_type": "markdown",
   "id": "622d884c",
   "metadata": {},
   "source": [
    "**По представленному графику и срезу к потенциально прибыльным платформам можно отнести:**\n",
    "- **Playstation 4 (PS4)**;\n",
    "- **X box One (XOne)**\n",
    "- **Nintendo 3DS (3DS)**;\n",
    "- **Персональный компьютер (PC)**;\n",
    "\n",
    "На платформе Playstation 3 (PS3) по итогам 2016 года также были зафиксированы продажи игр, но фактически востребованность данной платформы прошла свой пик и снижалась с каждым годом после выхода нового поколения приставок от компании Sony (PS4). \n",
    "\n",
    "**Также в список потенциально прибыльных платформ можно было бы включить платформу Xbox One S выпущенную в конце 2016 года ( преемник X box One). Данная бюджетная версия (в сравнении с потенциально более дорогой Xbox One X) также имеет потенциал и не попала в выборку, вероятно, из-за позднего старта продаж в 2016 году.**"
   ]
  },
  {
   "cell_type": "code",
   "execution_count": 53,
   "id": "4434c0bf",
   "metadata": {
    "scrolled": true
   },
   "outputs": [
    {
     "data": {
      "image/png": "[encoded data removed]",
      "text/plain": [
       "<Figure size 432x288 with 1 Axes>"
      ]
     },
     "metadata": {
      "needs_background": "light"
     },
     "output_type": "display_data"
    }
   ],
   "source": [
    "my_order = df_after_2012.groupby(by=[\"platform\"])[\"total_sales\"].median().sort_values(ascending=False).index\n",
    "ax = sns.boxplot(x=\"platform\", y=\"total_sales\", \n",
    "                 data=df_after_2012, showfliers=False, order = my_order)"
   ]
  },
  {
   "cell_type": "markdown",
   "id": "7df1be20",
   "metadata": {},
   "source": [
    "**Компания Xbox (Microsoft) занимает лидирующие позиции по объему продаж игровых тайтлов с платформами X360 и XOne, далее следует Nintendo и Sony.**"
   ]
  },
  {
   "cell_type": "markdown",
   "id": "b2a264b3",
   "metadata": {},
   "source": [
    "___\n",
    "Далее можно изучить имеется ли зависимость между оценками критиков/пользователей и объемом продаж внутри одной из игровых платформ. \n",
    "\n",
    "Лучше выбирать из платформ по которым имеется существенный объем продаж - PS3 или PS4. В силу того, что PS4 вышла относительно недавно и еще только набирает объемы по продажам игр, было принято решение изучить зависимость по платформе PS3."
   ]
  },
  {
   "cell_type": "code",
   "execution_count": 54,
   "id": "3cf27965",
   "metadata": {},
   "outputs": [
    {
     "data": {
      "image/png": "[encoded data removed]",
      "text/plain": [
       "<Figure size 1440x360 with 2 Axes>"
      ]
     },
     "metadata": {
      "needs_background": "light"
     },
     "output_type": "display_data"
    }
   ],
   "source": [
    "df_PS3 = df_after_2012.query('platform == \"PS3\"')\n",
    "\n",
    "fig, axs = plt.subplots(1, 2, figsize=(20,5))\n",
    "sns.regplot(data=df_PS3, x='critic_score', y = 'total_sales', ax=axs[0], color='g')\n",
    "sns.regplot(data=df_PS3, x='user_score', y = 'total_sales', ax=axs[1], color='y')\n",
    "axs[0].set_title('Диаграмма рассеяния по оценкам критиков и продажам платформы PS3')\n",
    "axs[0].set_xlabel(\"Оценка критиков по 100-балльной шкале\")\n",
    "axs[0].set_ylabel(\"Объем продаж, млн.копий\")\n",
    "axs[1].set_title('Диаграмма рассеяния по оценкам игроков и продажам платформы PS3')\n",
    "axs[1].set_xlabel(\"Оценка игроков по 10-балльной шкале\")\n",
    "axs[1].set_ylabel(\"Объем продаж, млн.копий\")\n",
    "plt.show()"
   ]
  },
  {
   "cell_type": "code",
   "execution_count": 55,
   "id": "ac9f5a8c",
   "metadata": {},
   "outputs": [
    {
     "data": {
      "text/plain": [
       "'Корреляция между оценками критиков и продажами: '"
      ]
     },
     "metadata": {},
     "output_type": "display_data"
    },
    {
     "data": {
      "text/plain": [
       "0.29575301239538504"
      ]
     },
     "metadata": {},
     "output_type": "display_data"
    },
    {
     "data": {
      "text/plain": [
       "'Корреляция между оценками игроков и продажами: '"
      ]
     },
     "metadata": {},
     "output_type": "display_data"
    },
    {
     "data": {
      "text/plain": [
       "-0.027577806185083112"
      ]
     },
     "metadata": {},
     "output_type": "display_data"
    }
   ],
   "source": [
    "display('Корреляция между оценками критиков и продажами: ', df_PS3['critic_score']. corr(df_PS3['total_sales']))\n",
    "display('Корреляция между оценками игроков и продажами: ', df_PS3['user_score']. corr(df_PS3['total_sales']))"
   ]
  },
  {
   "cell_type": "markdown",
   "id": "5a16f7cb",
   "metadata": {},
   "source": [
    "**По графикам и значениям коэффициента корреляции видно, что оценки критиков слабо влияют на показатели продаж игр на платформе PS3, в то же время, оценки пользователей не влияют на продажи игр вовсе.**"
   ]
  },
  {
   "cell_type": "markdown",
   "id": "104eb7ca",
   "metadata": {},
   "source": [
    "Для всех остальных платформ установление ниличия зависимости между оценками и продажами выглядит следующим образом:"
   ]
  },
  {
   "cell_type": "code",
   "execution_count": 56,
   "id": "7eec1b9d",
   "metadata": {
    "scrolled": true
   },
   "outputs": [
    {
     "data": {
      "image/png": "[encoded data removed]",
      "text/plain": [
       "<Figure size 1440x360 with 2 Axes>"
      ]
     },
     "metadata": {
      "needs_background": "light"
     },
     "output_type": "display_data"
    }
   ],
   "source": [
    "df_no_PS3 = df_after_2012.query('platform != \"PS3\"')\n",
    "\n",
    "fig, axs = plt.subplots(1, 2, figsize=(20,5))\n",
    "sns.regplot(data=df_no_PS3, x='critic_score', y = 'total_sales', ax=axs[0], color='g')\n",
    "sns.regplot(data=df_no_PS3, x='user_score', y = 'total_sales', ax=axs[1], color='y')\n",
    "axs[0].set_title('Диаграмма рассеяния по оценкам критиков и продажам остальных платформ')\n",
    "axs[0].set_xlabel(\"Оценка критиков по 100-балльной шкале\")\n",
    "axs[0].set_ylabel(\"Объем продаж, млн.копий\")\n",
    "axs[1].set_title('Диаграмма рассеяния по оценкам игроков и продажам остальных платформ')\n",
    "axs[1].set_xlabel(\"Оценка игроков по 10-балльной шкале\")\n",
    "axs[1].set_ylabel(\"Объем продаж, млн.копий\")\n",
    "plt.show()"
   ]
  },
  {
   "cell_type": "code",
   "execution_count": 57,
   "id": "f5b204f1",
   "metadata": {},
   "outputs": [
    {
     "data": {
      "text/plain": [
       "'Корреляция между оценками критиков и продажами: '"
      ]
     },
     "metadata": {},
     "output_type": "display_data"
    },
    {
     "data": {
      "text/plain": [
       "0.2624309936190389"
      ]
     },
     "metadata": {},
     "output_type": "display_data"
    },
    {
     "data": {
      "text/plain": [
       "'Корреляция между оценками игроков и продажами: '"
      ]
     },
     "metadata": {},
     "output_type": "display_data"
    },
    {
     "data": {
      "text/plain": [
       "-0.01924418353254232"
      ]
     },
     "metadata": {},
     "output_type": "display_data"
    }
   ],
   "source": [
    "display('Корреляция между оценками критиков и продажами: ', df_no_PS3['critic_score']. corr(df_no_PS3['total_sales']))\n",
    "display('Корреляция между оценками игроков и продажами: ', df_no_PS3['user_score']. corr(df_no_PS3['total_sales']))"
   ]
  },
  {
   "cell_type": "markdown",
   "id": "bd5b7032",
   "metadata": {},
   "source": [
    "**Таким образом, для всех остальных платформ зависимость продаж от пользовательских оценок также отсутствует, а зависимость от оценок критиков проявлена в меньшей степени, и ,фактически, практически не влияет на продажи.**"
   ]
  },
  {
   "cell_type": "markdown",
   "id": "6a00f441",
   "metadata": {},
   "source": [
    "Далее необходимо изучить распределение игр по жанрам."
   ]
  },
  {
   "cell_type": "code",
   "execution_count": 58,
   "id": "3c8c2a33",
   "metadata": {
    "scrolled": false
   },
   "outputs": [
    {
     "data": {
      "image/png": "[encoded data removed]",
      "text/plain": [
       "<Figure size 432x288 with 1 Axes>"
      ]
     },
     "metadata": {},
     "output_type": "display_data"
    }
   ],
   "source": [
    "df_after_2012.groupby('genre')['genre'].count().sort_values(\n",
    "    ascending=True).plot(kind='pie', autopct='%1.f%%', startangle=90, rotatelabels = True, pctdistance=0.9, label='')\n",
    "\n",
    "plt.title('Распределение игр по жанрам, %', y=1.2)\n",
    "plt.show()"
   ]
  },
  {
   "cell_type": "markdown",
   "id": "725df618",
   "metadata": {},
   "source": [
    "**По графику видно, что более трети (36%) всех игр представленных в выборке выпущена в жанре *Action*, далее следуют игры жанра *Role-playing*. Разрыв между эти двумя позициями по количеству выпущенных игр почти трехкратный.**"
   ]
  },
  {
   "cell_type": "markdown",
   "id": "3cb56bb5",
   "metadata": {},
   "source": [
    "Далее необходимо изучить какие из жанров являются наиболее востребованными у покупателей."
   ]
  },
  {
   "cell_type": "code",
   "execution_count": 59,
   "id": "f375fe66",
   "metadata": {},
   "outputs": [
    {
     "data": {
      "image/png": "[encoded data removed]",
      "text/plain": [
       "<Figure size 432x288 with 1 Axes>"
      ]
     },
     "metadata": {},
     "output_type": "display_data"
    }
   ],
   "source": [
    "df_after_2012.groupby('genre')['total_sales'].sum().sort_values(\n",
    "    ascending=True).plot(kind='pie', autopct='%1.f%%', startangle=90, rotatelabels = True, pctdistance=0.9, label='')\n",
    "\n",
    "plt.title(\"Распределение игр по объему продаж, %\", y=1.2)\n",
    "plt.show()"
   ]
  },
  {
   "cell_type": "markdown",
   "id": "a0f26b90",
   "metadata": {},
   "source": [
    "**Как и в распределении по количеству игр, наиболее продаваемым жанром оказался *Action*.  Далее идут спортивные шутеры (Shooter), разница в объемах продаж между первыми двумя позициями гораздо менее существенная, чем в рейтинге по количеству выпускаемых игр. Игры в жанре *Role-playing* входят в тройку наиболее популярных у покупателей игр**"
   ]
  },
  {
   "cell_type": "code",
   "execution_count": 60,
   "id": "c3fa97c7",
   "metadata": {
    "scrolled": true
   },
   "outputs": [
    {
     "data": {
      "image/png": "[encoded data removed]",
      "text/plain": [
       "<Figure size 1440x432 with 1 Axes>"
      ]
     },
     "metadata": {
      "needs_background": "light"
     },
     "output_type": "display_data"
    }
   ],
   "source": [
    "top_5_genres = df_after_2012.pivot_table(\n",
    "    index = ['genre'], values = 'total_sales', aggfunc = 'sum').sort_values(\n",
    "    \"total_sales\", ascending=False).reset_index().head(5)\n",
    "top_5_genres = list(top_5_genres['genre'])\n",
    "top_5_genres_query = df_after_2012.query('genre in @top_5_genres')\n",
    "top_5_genres_pivot = top_5_genres_query.pivot_table(\n",
    "    index='platform', columns = 'genre', values = 'total_sales', aggfunc = 'sum')\n",
    "top_5_genres_pivot['total_sales'] = top_5_genres_pivot.sum(axis=1, numeric_only=None)\n",
    "top_5_genres_pivot = top_5_genres_pivot.sort_values(by='total_sales', ascending=False)\n",
    "top_5_genres_pivot.drop('total_sales', axis=1, inplace=True)\n",
    "ax = top_5_genres_pivot.plot.bar(rot=0, stacked=True, figsize = (20,6))\n",
    "plt.title(\"Распределение наиболее успешных жанров по платформам\")\n",
    "plt.xlabel(\"Платформа\")\n",
    "plt.ylabel(\"Объем продаж игр, млн.копий.\")\n",
    "plt.show()"
   ]
  },
  {
   "cell_type": "markdown",
   "id": "ff9077eb",
   "metadata": {},
   "source": [
    "**По построенному графику о самых прибыльных жанрах можно отметить:**\n",
    "    \n",
    "- жанр шутеров (Shooter) популярнее всего на PS4\n",
    "- игры в жанре Role-playing были популярнее всего у обладателей 3DS\n",
    "- на консолях PS2, PS3 и X360 игры жанра Action занимают более высокую долю, чем на других консолях."
   ]
  },
  {
   "cell_type": "code",
   "execution_count": 61,
   "id": "6cdc7401",
   "metadata": {
    "scrolled": true
   },
   "outputs": [
    {
     "data": {
      "image/png": "[encoded data removed]",
      "text/plain": [
       "<Figure size 1440x432 with 1 Axes>"
      ]
     },
     "metadata": {
      "needs_background": "light"
     },
     "output_type": "display_data"
    }
   ],
   "source": [
    "top_5_genres_pivot = top_5_genres_query.pivot_table(\n",
    "    index='year_of_release', columns = 'genre', values = 'total_sales', aggfunc = 'sum')\n",
    "ax = top_5_genres_pivot.plot.bar(rot=0, stacked=True, figsize = (20,6))\n",
    "plt.title(\"Распределение наиболее успешных жанров по платформам\")\n",
    "plt.xlabel(\"Платформа\")\n",
    "plt.ylabel(\"Объем продаж игр, млн.копий.\")\n",
    "plt.show()"
   ]
  },
  {
   "cell_type": "markdown",
   "id": "3140b204",
   "metadata": {},
   "source": [
    "**По построенному графику о самых прибыльных жанрах можно отметить:**\n",
    "\n",
    "- уровень продаж игр жанра Shooter за период 2012-2016 являлся наиболее стабильным в сравнении с другими жанрами;\n",
    "- жанр *Misc* сократился по объему продаж в 2016 году сильнее игр других в других жанрах."
   ]
  },
  {
   "cell_type": "code",
   "execution_count": 62,
   "id": "1d1e2680",
   "metadata": {
    "scrolled": false
   },
   "outputs": [
    {
     "data": {
      "image/png": "[encoded data removed]",
      "text/plain": [
       "<Figure size 1440x360 with 2 Axes>"
      ]
     },
     "metadata": {
      "needs_background": "light"
     },
     "output_type": "display_data"
    }
   ],
   "source": [
    "genre_metrics = df_after_2012.pivot_table(index='genre', values='total_sales', aggfunc=['mean','median','sum']).reset_index()\n",
    "genre_metrics.columns=['genre','mean_sales', 'median_sales','total_sales']\n",
    "genre_metrics = genre_metrics.sort_values(by='total_sales', ascending=False)\n",
    "\n",
    "labels = list(genre_metrics['genre'])\n",
    "\n",
    "ax = genre_metrics[['mean_sales','median_sales']].plot(kind='bar', use_index=True, figsize=(20,5), colormap=\"Dark2\", edgecolor='black')\n",
    "ax.set_xticklabels(labels)\n",
    "ax2 = ax.twinx()\n",
    "ax2.plot(genre_metrics['total_sales'].values,linestyle='--', linewidth=3.0, color = 'black')\n",
    "ax.legend(('Среднее знач. продаж, млн.копий.(лев.ось)', 'Медианное знач. продаж, млн.копий.(лев.ось)'), loc='upper right')\n",
    "ax2.legend(['Всего продано игр, млн.копий.(прав.ось)'], loc=5)\n",
    "plt.title(\"Распределение наиболее успешных жанров по продажам\")\n",
    "plt.show()"
   ]
  },
  {
   "cell_type": "code",
   "execution_count": 63,
   "id": "0ec7c17f",
   "metadata": {},
   "outputs": [
    {
     "data": {
      "text/html": [
       "<div>\n",
       "<style scoped>\n",
       "    .dataframe tbody tr th:only-of-type {\n",
       "        vertical-align: middle;\n",
       "    }\n",
       "\n",
       "    .dataframe tbody tr th {\n",
       "        vertical-align: top;\n",
       "    }\n",
       "\n",
       "    .dataframe thead th {\n",
       "        text-align: right;\n",
       "    }\n",
       "</style>\n",
       "<table border=\"1\" class=\"dataframe\">\n",
       "  <thead>\n",
       "    <tr style=\"text-align: right;\">\n",
       "      <th></th>\n",
       "      <th>genre</th>\n",
       "      <th>mean_sales</th>\n",
       "      <th>median_sales</th>\n",
       "      <th>total_sales</th>\n",
       "      <th>total_games</th>\n",
       "    </tr>\n",
       "  </thead>\n",
       "  <tbody>\n",
       "    <tr>\n",
       "      <td>8</td>\n",
       "      <td>Shooter</td>\n",
       "      <td>1.280756</td>\n",
       "      <td>0.430</td>\n",
       "      <td>304.82</td>\n",
       "      <td>238</td>\n",
       "    </tr>\n",
       "    <tr>\n",
       "      <td>10</td>\n",
       "      <td>Sports</td>\n",
       "      <td>0.675634</td>\n",
       "      <td>0.240</td>\n",
       "      <td>181.07</td>\n",
       "      <td>268</td>\n",
       "    </tr>\n",
       "    <tr>\n",
       "      <td>4</td>\n",
       "      <td>Platform</td>\n",
       "      <td>0.717647</td>\n",
       "      <td>0.210</td>\n",
       "      <td>61.00</td>\n",
       "      <td>85</td>\n",
       "    </tr>\n",
       "    <tr>\n",
       "      <td>7</td>\n",
       "      <td>Role-Playing</td>\n",
       "      <td>0.519059</td>\n",
       "      <td>0.140</td>\n",
       "      <td>193.09</td>\n",
       "      <td>372</td>\n",
       "    </tr>\n",
       "    <tr>\n",
       "      <td>6</td>\n",
       "      <td>Racing</td>\n",
       "      <td>0.461983</td>\n",
       "      <td>0.135</td>\n",
       "      <td>53.59</td>\n",
       "      <td>116</td>\n",
       "    </tr>\n",
       "    <tr>\n",
       "      <td>2</td>\n",
       "      <td>Fighting</td>\n",
       "      <td>0.408165</td>\n",
       "      <td>0.130</td>\n",
       "      <td>44.49</td>\n",
       "      <td>109</td>\n",
       "    </tr>\n",
       "    <tr>\n",
       "      <td>0</td>\n",
       "      <td>Action</td>\n",
       "      <td>0.428828</td>\n",
       "      <td>0.120</td>\n",
       "      <td>446.41</td>\n",
       "      <td>1041</td>\n",
       "    </tr>\n",
       "    <tr>\n",
       "      <td>3</td>\n",
       "      <td>Misc</td>\n",
       "      <td>0.441865</td>\n",
       "      <td>0.120</td>\n",
       "      <td>85.28</td>\n",
       "      <td>193</td>\n",
       "    </tr>\n",
       "    <tr>\n",
       "      <td>9</td>\n",
       "      <td>Simulation</td>\n",
       "      <td>0.435926</td>\n",
       "      <td>0.120</td>\n",
       "      <td>35.31</td>\n",
       "      <td>81</td>\n",
       "    </tr>\n",
       "    <tr>\n",
       "      <td>11</td>\n",
       "      <td>Strategy</td>\n",
       "      <td>0.187887</td>\n",
       "      <td>0.080</td>\n",
       "      <td>13.34</td>\n",
       "      <td>71</td>\n",
       "    </tr>\n",
       "    <tr>\n",
       "      <td>5</td>\n",
       "      <td>Puzzle</td>\n",
       "      <td>0.174643</td>\n",
       "      <td>0.045</td>\n",
       "      <td>4.89</td>\n",
       "      <td>28</td>\n",
       "    </tr>\n",
       "    <tr>\n",
       "      <td>1</td>\n",
       "      <td>Adventure</td>\n",
       "      <td>0.097426</td>\n",
       "      <td>0.030</td>\n",
       "      <td>29.52</td>\n",
       "      <td>303</td>\n",
       "    </tr>\n",
       "  </tbody>\n",
       "</table>\n",
       "</div>"
      ],
      "text/plain": [
       "           genre  mean_sales  median_sales  total_sales  total_games\n",
       "8        Shooter    1.280756         0.430       304.82          238\n",
       "10        Sports    0.675634         0.240       181.07          268\n",
       "4       Platform    0.717647         0.210        61.00           85\n",
       "7   Role-Playing    0.519059         0.140       193.09          372\n",
       "6         Racing    0.461983         0.135        53.59          116\n",
       "2       Fighting    0.408165         0.130        44.49          109\n",
       "0         Action    0.428828         0.120       446.41         1041\n",
       "3           Misc    0.441865         0.120        85.28          193\n",
       "9     Simulation    0.435926         0.120        35.31           81\n",
       "11      Strategy    0.187887         0.080        13.34           71\n",
       "5         Puzzle    0.174643         0.045         4.89           28\n",
       "1      Adventure    0.097426         0.030        29.52          303"
      ]
     },
     "execution_count": 63,
     "metadata": {},
     "output_type": "execute_result"
    }
   ],
   "source": [
    "genre_mean = df_after_2012.pivot_table(index='genre', values='total_sales', aggfunc=['mean','median','sum','count']).reset_index()\n",
    "genre_mean.columns=['genre','mean_sales', 'median_sales','total_sales', 'total_games']\n",
    "genre_mean = genre_mean.sort_values(by='median_sales', ascending=False)\n",
    "genre_mean"
   ]
  },
  {
   "cell_type": "markdown",
   "id": "2420f04b",
   "metadata": {},
   "source": [
    "Без более мелкой детализации можно отметить, что **суммарно наиболее продаваемыми игровыми жанрами являются:**\n",
    "\n",
    "- Action\n",
    "- Shooter\n",
    "- Role-playing\n",
    "- Sports\n",
    "\n",
    "Преимущество данных жанров в совокупной структуре продаж хорошо заметно.\n",
    "Также можно отметить диспропорцию между показателями суммарных продаж и средними значениями. Так в жанре Action  втрое более низкие средние показатели продаж, чем в жанре Shooter, это значит, игр Action выпускается существенно больше, но Shooter коммерчески успешнее.\n",
    "\n",
    "Игр в жанре РПГ (Role-Playing) в абсолютном выражении было выпущено больше, чем Shooter, а вот продавалось на 37% меньше. Это видно и по более чем двукратной разнице в среднего и медианного значений продаж.\n",
    "\n",
    "Таким образом, при соотнесении медианных показателей продаж (во избежании перекоса из-за наличия AAA тайтлов), **коммерчески наиболее успешными жанрами являются**:\n",
    "\n",
    "- Shooter\n",
    "- Sports\n",
    "- Platform\n",
    "___"
   ]
  },
  {
   "cell_type": "markdown",
   "id": "e7cc9eb7",
   "metadata": {},
   "source": [
    "## Портрет пользователя каждого региона"
   ]
  },
  {
   "cell_type": "markdown",
   "id": "2b8855d3",
   "metadata": {},
   "source": [
    "В рамках составления портрета пользователя необходимо изучить наиболее востребованные платформы в Северной Америке, Европе и Японии."
   ]
  },
  {
   "cell_type": "code",
   "execution_count": 64,
   "id": "2e4c1619",
   "metadata": {},
   "outputs": [
    {
     "data": {
      "image/png": "[encoded data removed]",
      "text/plain": [
       "<Figure size 1440x360 with 3 Axes>"
      ]
     },
     "metadata": {},
     "output_type": "display_data"
    }
   ],
   "source": [
    "fig, axs = plt.subplots(1, 3, figsize=(20,5))\n",
    "counter = 0\n",
    "\n",
    "for region in ('na_sales', 'eu_sales', 'jp_sales'):\n",
    "    fd = df_after_2012.groupby('platform')[region].sum().sort_values(ascending=True)    \n",
    "    fd.plot(kind='pie', ax = axs[counter], autopct='%1.f%%', startangle=90, rotatelabels = True, pctdistance=0.9, label='')\n",
    "    axs[counter].set_title(region, pad=50)\n",
    "    counter +=1"
   ]
  },
  {
   "cell_type": "markdown",
   "id": "1327cca3",
   "metadata": {},
   "source": [
    "**На представленных графиках можно отметить:**\n",
    "- В Северной Америке и Европе в топ-5 платформ первые 4 строки занимают продажи игр для консолей от Sony и Microsoft(PS4, PS3, X360 и XOne), а консоль 3DS едва попадает в топ-5 платформ по объему продажи игр. В Японии же, объем проданных игр для 3DS занимает первую строчку по объему проданных игр.\n",
    "- В Северной Америке и Европе разрыв между соседними строчками в топ-5 платформ по продажам относительно небольшой (1-7%), в то же время в Японии 3DS по объему продаж почти втрое превышает PS3.\n",
    "- В Японии в топ-5 рейтинге платформ по объему проданных игр вошли только консоли производимые в Японии.\n",
    "___"
   ]
  },
  {
   "cell_type": "code",
   "execution_count": 65,
   "id": "d54a9d5c",
   "metadata": {
    "scrolled": true
   },
   "outputs": [
    {
     "data": {
      "image/png": "[encoded data removed]",
      "text/plain": [
       "<Figure size 1440x360 with 3 Axes>"
      ]
     },
     "metadata": {},
     "output_type": "display_data"
    }
   ],
   "source": [
    "fig, axs = plt.subplots(1, 3, figsize=(20,5))\n",
    "counter = 0\n",
    "\n",
    "for region in ('na_sales', 'eu_sales', 'jp_sales'):\n",
    "    fd = df_after_2012.groupby('genre')[region].sum().sort_values(ascending=True)    \n",
    "    fd.plot.pie(ax = axs[counter], autopct='%1.f%%', startangle=90, rotatelabels = True, pctdistance=0.9, label='')\n",
    "    plt.tight_layout()\n",
    "    axs[counter].set_title(region, pad=70)\n",
    "    counter +=1  \n"
   ]
  },
  {
   "cell_type": "markdown",
   "id": "4e6da268",
   "metadata": {},
   "source": [
    "**На представленных графиках можно отметить:**\n",
    "- В Северной Америке и Европе в топ-5 жанров первые 4 строки занимают: *Action, Shooter, Sports, Role-playing*. При этом, помимо совпадения самих жанров, практически идентичных и их доли в совокупной структуре продаж игр.\n",
    "- В Северной Америке и Европе явно наблюдается разрыв в доле между 4-мя наиболее популярными жанрами и всеми остальными (доля которых не превышает 5-6%).\n",
    "- В Японии наиболее популярным жарном игры у покупателей является *Role-playing*, а лидер стран Северной Америки и Европы (*Action*) лишь второй. Суммарно на 2 этих жанра приходится почти 2/3 (61%) от всех купленных игр, доля остальных жанров по отдельности не превышает 7%.\n",
    "\n",
    "___"
   ]
  },
  {
   "cell_type": "markdown",
   "id": "37d289fe",
   "metadata": {},
   "source": [
    "Далее необходимо изучить влияние рейтинга ESRB на продажи."
   ]
  },
  {
   "cell_type": "code",
   "execution_count": 66,
   "id": "713093f0",
   "metadata": {
    "scrolled": true
   },
   "outputs": [
    {
     "data": {
      "image/png": "[encoded data removed]",
      "text/plain": [
       "<Figure size 1440x432 with 1 Axes>"
      ]
     },
     "metadata": {
      "needs_background": "light"
     },
     "output_type": "display_data"
    }
   ],
   "source": [
    "groupby_rating = df_after_2012.pivot_table(index=['rating'],\n",
    "                                      values =['na_sales', 'eu_sales', 'jp_sales'],\n",
    "                                      aggfunc=sum).sort_values(by='na_sales', ascending=False)\n",
    "\n",
    "\n",
    "ax = groupby_rating.plot.bar(rot=0, stacked=True, figsize = (20,6))\n",
    "plt.title(\"Распределение наиболее успешных жанров по платформам\")\n",
    "plt.xlabel(\"Рейтинг ESRB\")\n",
    "plt.ylabel(\"Объем продаж игр, млн.копий.\")\n",
    "plt.show()"
   ]
  },
  {
   "cell_type": "code",
   "execution_count": 76,
   "id": "38def55d",
   "metadata": {
    "scrolled": true
   },
   "outputs": [
    {
     "data": {
      "text/html": [
       "<div>\n",
       "<style scoped>\n",
       "    .dataframe tbody tr th:only-of-type {\n",
       "        vertical-align: middle;\n",
       "    }\n",
       "\n",
       "    .dataframe tbody tr th {\n",
       "        vertical-align: top;\n",
       "    }\n",
       "\n",
       "    .dataframe thead th {\n",
       "        text-align: right;\n",
       "    }\n",
       "</style>\n",
       "<table border=\"1\" class=\"dataframe\">\n",
       "  <thead>\n",
       "    <tr style=\"text-align: right;\">\n",
       "      <th>rating</th>\n",
       "      <th>E</th>\n",
       "      <th>E10+</th>\n",
       "      <th>M</th>\n",
       "      <th>T</th>\n",
       "      <th>no rating</th>\n",
       "    </tr>\n",
       "    <tr>\n",
       "      <th>platform</th>\n",
       "      <th></th>\n",
       "      <th></th>\n",
       "      <th></th>\n",
       "      <th></th>\n",
       "      <th></th>\n",
       "    </tr>\n",
       "  </thead>\n",
       "  <tbody>\n",
       "    <tr>\n",
       "      <td>3DS</td>\n",
       "      <td>56.0</td>\n",
       "      <td>55.0</td>\n",
       "      <td>9.0</td>\n",
       "      <td>27.0</td>\n",
       "      <td>255.0</td>\n",
       "    </tr>\n",
       "    <tr>\n",
       "      <td>DS</td>\n",
       "      <td>10.0</td>\n",
       "      <td>6.0</td>\n",
       "      <td>NaN</td>\n",
       "      <td>NaN</td>\n",
       "      <td>16.0</td>\n",
       "    </tr>\n",
       "    <tr>\n",
       "      <td>PC</td>\n",
       "      <td>36.0</td>\n",
       "      <td>18.0</td>\n",
       "      <td>95.0</td>\n",
       "      <td>41.0</td>\n",
       "      <td>65.0</td>\n",
       "    </tr>\n",
       "    <tr>\n",
       "      <td>PS3</td>\n",
       "      <td>64.0</td>\n",
       "      <td>40.0</td>\n",
       "      <td>106.0</td>\n",
       "      <td>91.0</td>\n",
       "      <td>193.0</td>\n",
       "    </tr>\n",
       "    <tr>\n",
       "      <td>PS4</td>\n",
       "      <td>54.0</td>\n",
       "      <td>40.0</td>\n",
       "      <td>76.0</td>\n",
       "      <td>85.0</td>\n",
       "      <td>137.0</td>\n",
       "    </tr>\n",
       "    <tr>\n",
       "      <td>PSP</td>\n",
       "      <td>5.0</td>\n",
       "      <td>1.0</td>\n",
       "      <td>NaN</td>\n",
       "      <td>2.0</td>\n",
       "      <td>167.0</td>\n",
       "    </tr>\n",
       "    <tr>\n",
       "      <td>PSV</td>\n",
       "      <td>20.0</td>\n",
       "      <td>23.0</td>\n",
       "      <td>32.0</td>\n",
       "      <td>64.0</td>\n",
       "      <td>273.0</td>\n",
       "    </tr>\n",
       "    <tr>\n",
       "      <td>Wii</td>\n",
       "      <td>17.0</td>\n",
       "      <td>16.0</td>\n",
       "      <td>NaN</td>\n",
       "      <td>2.0</td>\n",
       "      <td>20.0</td>\n",
       "    </tr>\n",
       "    <tr>\n",
       "      <td>WiiU</td>\n",
       "      <td>35.0</td>\n",
       "      <td>42.0</td>\n",
       "      <td>15.0</td>\n",
       "      <td>13.0</td>\n",
       "      <td>42.0</td>\n",
       "    </tr>\n",
       "    <tr>\n",
       "      <td>X360</td>\n",
       "      <td>55.0</td>\n",
       "      <td>42.0</td>\n",
       "      <td>100.0</td>\n",
       "      <td>49.0</td>\n",
       "      <td>48.0</td>\n",
       "    </tr>\n",
       "    <tr>\n",
       "      <td>XOne</td>\n",
       "      <td>45.0</td>\n",
       "      <td>31.0</td>\n",
       "      <td>70.0</td>\n",
       "      <td>40.0</td>\n",
       "      <td>61.0</td>\n",
       "    </tr>\n",
       "  </tbody>\n",
       "</table>\n",
       "</div>"
      ],
      "text/plain": [
       "rating       E  E10+      M     T  no rating\n",
       "platform                                    \n",
       "3DS       56.0  55.0    9.0  27.0      255.0\n",
       "DS        10.0   6.0    NaN   NaN       16.0\n",
       "PC        36.0  18.0   95.0  41.0       65.0\n",
       "PS3       64.0  40.0  106.0  91.0      193.0\n",
       "PS4       54.0  40.0   76.0  85.0      137.0\n",
       "PSP        5.0   1.0    NaN   2.0      167.0\n",
       "PSV       20.0  23.0   32.0  64.0      273.0\n",
       "Wii       17.0  16.0    NaN   2.0       20.0\n",
       "WiiU      35.0  42.0   15.0  13.0       42.0\n",
       "X360      55.0  42.0  100.0  49.0       48.0\n",
       "XOne      45.0  31.0   70.0  40.0       61.0"
      ]
     },
     "execution_count": 76,
     "metadata": {},
     "output_type": "execute_result"
    }
   ],
   "source": [
    "df_after_2012.pivot_table(index='platform', columns='rating', values='total_sales', aggfunc='count')"
   ]
  },
  {
   "cell_type": "markdown",
   "id": "16178a98",
   "metadata": {},
   "source": [
    "**На представленном графике можно отметить:**\n",
    "    \n",
    "- Наиболее популярными у покупателей из Северной Америки и Европы были игры с рейтингом M;\n",
    "- Следующими по популярности у покупателей из Северной Америки и Европы были игры с рейтингом E;\n",
    "- Существенная игр в выборке была без указания рейтинга;\n",
    "- Столь существенная доля игр продяющихся в Японии без рейтинга объясняется тем, что ESRB не давала оце  \n",
    "\n",
    "Ввиду отсутствия существенной части данных по рейтингу игр от ESRB, нельзя достоверно сказать, влияет ли рейтинг на продажи игр. По имеющимся данным явного влияния на объем продаж не выявлено.\n",
    "___"
   ]
  },
  {
   "cell_type": "markdown",
   "id": "2a79a4be",
   "metadata": {},
   "source": [
    "## Проверка гипотез"
   ]
  },
  {
   "cell_type": "markdown",
   "id": "045c262e",
   "metadata": {},
   "source": [
    "**Нулевая гипотеза** - средние пользовательские рейтинги платформ Xbox One и PC равны\n",
    "\n",
    "**Альтернативная гипотеза** - средние пользовательские рейтинги платформ Xbox One и PC не равны\n",
    "\n",
    "alpha = 5%"
   ]
  },
  {
   "cell_type": "markdown",
   "id": "a7517913",
   "metadata": {},
   "source": [
    "Перед проведением статитистического теста проведем тест Барлетта, чтобы определить равны ли дисперсии выборок."
   ]
  },
  {
   "cell_type": "code",
   "execution_count": 68,
   "id": "55cc3810",
   "metadata": {},
   "outputs": [
    {
     "data": {
      "text/plain": [
       "0.0007278452277413781"
      ]
     },
     "execution_count": 68,
     "metadata": {},
     "output_type": "execute_result"
    }
   ],
   "source": [
    "XOne = df_after_2012.query('platform == \"XOne\"')['user_score']\n",
    "PC = df_after_2012.query('platform == \"PC\"')['user_score']\n",
    "stat, p = bartlett(XOne, PC)\n",
    "p"
   ]
  },
  {
   "cell_type": "markdown",
   "id": "efcef03e",
   "metadata": {},
   "source": [
    "Поскольку p-value менее 5%, при расчете статистического теста можно указать, что дисперсии выборок не равны."
   ]
  },
  {
   "cell_type": "code",
   "execution_count": 69,
   "id": "824df134",
   "metadata": {},
   "outputs": [
    {
     "name": "stdout",
     "output_type": "stream",
     "text": [
      "p-значение: 0.6555050065020716\n",
      "Не получилось отвергнуть нулевую гипотезу\n"
     ]
    }
   ],
   "source": [
    "alpha = .05\n",
    "\n",
    "results = st.ttest_ind(\n",
    "    XOne, \n",
    "    PC, \n",
    "    equal_var=False)\n",
    "\n",
    "print('p-значение:', results.pvalue)\n",
    "\n",
    "if (results.pvalue < alpha):\n",
    "    print(\"Отвергаем нулевую гипотезу\")\n",
    "else:\n",
    "    print(\"Не получилось отвергнуть нулевую гипотезу\")"
   ]
  },
  {
   "cell_type": "code",
   "execution_count": 70,
   "id": "05737955",
   "metadata": {},
   "outputs": [
    {
     "data": {
      "text/plain": [
       "6.9"
      ]
     },
     "metadata": {},
     "output_type": "display_data"
    },
    {
     "data": {
      "text/plain": [
       "7.1"
      ]
     },
     "metadata": {},
     "output_type": "display_data"
    }
   ],
   "source": [
    "display(XOne.median())\n",
    "display(PC.median())"
   ]
  },
  {
   "cell_type": "markdown",
   "id": "298b2071",
   "metadata": {},
   "source": [
    "По итогам данного статистического теста не удалось опровергнуть гипотезу о том, что средние пользовательские рейтинги платформ Xbox One и PC равны. Медианные значения по выборке также очень близки. \n",
    "Если бы гипотеза была отвергнута с вероятностью 66% данное решение могло бы быть ошибочным.\n",
    "___"
   ]
  },
  {
   "cell_type": "markdown",
   "id": "3e06cb4e",
   "metadata": {},
   "source": [
    "**Нулевая гипотеза** - средние пользовательские рейтинги жанров Action и Sports равны\n",
    "\n",
    "**Альтернативная гипотеза** - средние пользовательские рейтинги жанров Action и Sports не равны\n",
    "\n",
    "alpha = 5%"
   ]
  },
  {
   "cell_type": "markdown",
   "id": "38b35402",
   "metadata": {},
   "source": [
    "Перед проведением статитистического теста проведем тест Барлетта, чтобы определить равны ли дисперсии выборок."
   ]
  },
  {
   "cell_type": "code",
   "execution_count": 71,
   "id": "a20dcad6",
   "metadata": {},
   "outputs": [
    {
     "data": {
      "text/plain": [
       "2.207011700339308e-18"
      ]
     },
     "execution_count": 71,
     "metadata": {},
     "output_type": "execute_result"
    }
   ],
   "source": [
    "Action = df_after_2012.query('genre == \"Action\"')['user_score']\n",
    "Sports = df_after_2012.query('genre == \"Sports\"')['user_score']\n",
    "stat, p = bartlett(Action, Sports)\n",
    "p"
   ]
  },
  {
   "cell_type": "markdown",
   "id": "d320705d",
   "metadata": {},
   "source": [
    "Поскольку p-value менее 5%, при расчете статистического теста можно указать, что дисперсии выборок не равны."
   ]
  },
  {
   "cell_type": "code",
   "execution_count": 72,
   "id": "2f6a850d",
   "metadata": {},
   "outputs": [
    {
     "name": "stdout",
     "output_type": "stream",
     "text": [
      "p-значение: 3.321966496060266e-30\n",
      "Отвергаем нулевую гипотезу\n"
     ]
    }
   ],
   "source": [
    "alpha = .05\n",
    "\n",
    "results = st.ttest_ind(\n",
    "    Action, \n",
    "    Sports, \n",
    "    equal_var=False)\n",
    "\n",
    "print('p-значение:', results.pvalue)\n",
    "\n",
    "if (results.pvalue < alpha):\n",
    "    print(\"Отвергаем нулевую гипотезу\")\n",
    "else:\n",
    "    print(\"Не получилось отвергнуть нулевую гипотезу\")"
   ]
  },
  {
   "cell_type": "code",
   "execution_count": 73,
   "id": "5a4170b9",
   "metadata": {},
   "outputs": [
    {
     "data": {
      "text/plain": [
       "7.2"
      ]
     },
     "metadata": {},
     "output_type": "display_data"
    },
    {
     "data": {
      "text/plain": [
       "5.95"
      ]
     },
     "metadata": {},
     "output_type": "display_data"
    }
   ],
   "source": [
    "display(Action.median())\n",
    "display(Sports.median())"
   ]
  },
  {
   "cell_type": "markdown",
   "id": "460ea137",
   "metadata": {},
   "source": [
    "C уверенностью 99% можно утверждать, что средние пользовательские рейтинги жанров Action и Sports отличаются.\n",
    "Чаще пользователи оценивали игры жанра Action выше, чем игры жанра Sport.\n",
    "___"
   ]
  },
  {
   "cell_type": "markdown",
   "id": "4911bc0f",
   "metadata": {},
   "source": [
    "## Вывод"
   ]
  },
  {
   "cell_type": "markdown",
   "id": "46e6a36c",
   "metadata": {},
   "source": [
    "По результатам статистических тестов не удалось опровергнуть гипотезу о том, что средние пользовательские рейтинги платформ Xbox One и PC равны. Также по результатам статистических тестов c уверенностью 99% можно утверждать, что средние пользовательские рейтинги жанров Action и Sports отличаются.\n",
    "\n",
    "Дополнительно в рамках исследования установлено:\n",
    "- По состоянию на конец 2016 года наиболее актуальными на рынке остаются консоли восьмого поколения (PS4, Xbox One S). В 2017 году запланирован релиз только 1 новой платформы, в связи с чем можно предположить, что будет соблюдаться динамика последних лет с выхода вышеупомянутых консолей (2012-2016 годы). Этот период и следует брать для прогноза на 2017 год;\n",
    "\n",
    "- среднем игровые платформы сохраняют свою востребованность на протяжении 9-11 лет;\n",
    "\n",
    "- По состоянию на конец 2016 года к потенциально прибыльным платформам можно отнести: Playstation 4 (PS4),Nintendo 3DS (3DS), Персональный компьютер (PC). Также в список потенциально прибыльных платформ можно было бы включить платформу Xbox One S выпущенную в конце 2016 года (вероятно, не попала в выборку из-за позднего старта продаж);\n",
    "\n",
    "- Зависимость продаж от пользовательских оценок отсутствует, а зависимость от оценок критиков также практически не влияет на продажи;\n",
    "\n",
    "- Глобально наиболее продаваемым жанром оказались игры жанра Action."
   ]
  }
 ],
 "metadata": {
  "ExecuteTimeLog": [
   {
    "duration": 92,
    "start_time": "2022-01-30T08:02:52.388Z"
   },
   {
    "duration": 90,
    "start_time": "2022-01-30T08:10:26.495Z"
   },
   {
    "duration": 331,
    "start_time": "2022-01-30T08:10:50.926Z"
   },
   {
    "duration": 1197,
    "start_time": "2022-01-30T08:11:16.396Z"
   },
   {
    "duration": 40,
    "start_time": "2022-01-30T08:11:17.595Z"
   },
   {
    "duration": 47,
    "start_time": "2022-01-30T08:11:17.637Z"
   },
   {
    "duration": 3,
    "start_time": "2022-01-30T08:11:17.685Z"
   },
   {
    "duration": 24,
    "start_time": "2022-01-30T08:11:17.689Z"
   },
   {
    "duration": 11,
    "start_time": "2022-01-30T08:11:17.715Z"
   },
   {
    "duration": 40,
    "start_time": "2022-01-30T08:11:17.727Z"
   },
   {
    "duration": 9,
    "start_time": "2022-01-30T08:11:17.770Z"
   },
   {
    "duration": 6,
    "start_time": "2022-01-30T08:11:17.781Z"
   },
   {
    "duration": 26,
    "start_time": "2022-01-30T08:11:17.789Z"
   },
   {
    "duration": 44,
    "start_time": "2022-01-30T08:11:17.817Z"
   },
   {
    "duration": 26,
    "start_time": "2022-01-30T08:11:17.863Z"
   },
   {
    "duration": 12,
    "start_time": "2022-01-30T08:11:17.891Z"
   },
   {
    "duration": 58,
    "start_time": "2022-01-30T08:11:17.905Z"
   },
   {
    "duration": 392,
    "start_time": "2022-01-30T08:11:17.966Z"
   },
   {
    "duration": 10,
    "start_time": "2022-01-30T08:11:18.360Z"
   },
   {
    "duration": 25,
    "start_time": "2022-01-30T08:11:18.372Z"
   },
   {
    "duration": 16,
    "start_time": "2022-01-30T08:11:18.399Z"
   },
   {
    "duration": 5582,
    "start_time": "2022-01-30T08:11:18.417Z"
   },
   {
    "duration": 27,
    "start_time": "2022-01-30T08:11:24.002Z"
   },
   {
    "duration": 7,
    "start_time": "2022-01-30T08:11:24.031Z"
   },
   {
    "duration": 20,
    "start_time": "2022-01-30T08:11:24.060Z"
   },
   {
    "duration": 4,
    "start_time": "2022-01-30T08:11:24.085Z"
   },
   {
    "duration": 362,
    "start_time": "2022-01-30T08:11:24.092Z"
   },
   {
    "duration": 8,
    "start_time": "2022-01-30T08:11:24.456Z"
   },
   {
    "duration": 11,
    "start_time": "2022-01-30T08:11:24.466Z"
   },
   {
    "duration": 44,
    "start_time": "2022-01-30T08:11:24.479Z"
   },
   {
    "duration": 36,
    "start_time": "2022-01-30T08:11:24.525Z"
   },
   {
    "duration": 12,
    "start_time": "2022-01-30T08:11:24.563Z"
   },
   {
    "duration": 22,
    "start_time": "2022-01-30T08:11:24.577Z"
   },
   {
    "duration": 111,
    "start_time": "2022-01-30T08:11:24.601Z"
   },
   {
    "duration": 6,
    "start_time": "2022-01-30T08:11:24.714Z"
   },
   {
    "duration": 11440,
    "start_time": "2022-01-30T08:11:24.721Z"
   },
   {
    "duration": 18,
    "start_time": "2022-01-30T08:11:36.163Z"
   },
   {
    "duration": 17,
    "start_time": "2022-01-30T08:11:36.183Z"
   },
   {
    "duration": 16,
    "start_time": "2022-01-30T08:11:36.202Z"
   },
   {
    "duration": 57,
    "start_time": "2022-01-30T08:11:36.219Z"
   },
   {
    "duration": 17,
    "start_time": "2022-01-30T08:11:36.278Z"
   },
   {
    "duration": 3325,
    "start_time": "2022-01-30T08:11:36.297Z"
   },
   {
    "duration": 20,
    "start_time": "2022-01-30T08:11:39.623Z"
   },
   {
    "duration": 27,
    "start_time": "2022-01-30T08:11:39.644Z"
   },
   {
    "duration": 322,
    "start_time": "2022-01-30T08:11:39.673Z"
   },
   {
    "duration": 80,
    "start_time": "2022-01-30T08:11:39.997Z"
   },
   {
    "duration": 16,
    "start_time": "2022-01-30T08:11:40.078Z"
   },
   {
    "duration": 28,
    "start_time": "2022-01-30T08:11:40.095Z"
   },
   {
    "duration": 64,
    "start_time": "2022-01-30T08:11:40.125Z"
   },
   {
    "duration": 9,
    "start_time": "2022-01-30T08:11:40.191Z"
   },
   {
    "duration": 98,
    "start_time": "2022-01-30T08:11:40.202Z"
   },
   {
    "duration": 375,
    "start_time": "2022-01-30T08:11:40.301Z"
   },
   {
    "duration": 6,
    "start_time": "2022-01-30T08:11:40.678Z"
   },
   {
    "duration": 18,
    "start_time": "2022-01-30T08:11:40.686Z"
   },
   {
    "duration": 1623,
    "start_time": "2022-01-30T08:11:40.706Z"
   },
   {
    "duration": 32,
    "start_time": "2022-01-30T08:11:42.330Z"
   },
   {
    "duration": 299,
    "start_time": "2022-01-30T08:11:42.364Z"
   },
   {
    "duration": 780,
    "start_time": "2022-01-30T08:11:42.664Z"
   },
   {
    "duration": 15,
    "start_time": "2022-01-30T08:11:43.446Z"
   },
   {
    "duration": 1087,
    "start_time": "2022-01-30T08:11:43.463Z"
   },
   {
    "duration": 14,
    "start_time": "2022-01-30T08:11:44.552Z"
   },
   {
    "duration": 127,
    "start_time": "2022-01-30T08:11:44.568Z"
   },
   {
    "duration": 216,
    "start_time": "2022-01-30T08:11:44.697Z"
   },
   {
    "duration": 458,
    "start_time": "2022-01-30T08:11:44.915Z"
   },
   {
    "duration": 331,
    "start_time": "2022-01-30T08:11:45.375Z"
   },
   {
    "duration": 329,
    "start_time": "2022-01-30T08:11:45.708Z"
   },
   {
    "duration": 642,
    "start_time": "2022-01-30T08:11:46.039Z"
   },
   {
    "duration": 779,
    "start_time": "2022-01-30T08:11:46.683Z"
   },
   {
    "duration": 304,
    "start_time": "2022-01-30T08:11:47.464Z"
   },
   {
    "duration": 9,
    "start_time": "2022-01-30T08:11:47.770Z"
   },
   {
    "duration": 5,
    "start_time": "2022-01-30T08:11:47.784Z"
   },
   {
    "duration": 9,
    "start_time": "2022-01-30T08:11:47.790Z"
   },
   {
    "duration": 9,
    "start_time": "2022-01-30T08:11:47.801Z"
   },
   {
    "duration": 4,
    "start_time": "2022-01-30T08:11:47.812Z"
   },
   {
    "duration": 43,
    "start_time": "2022-01-30T08:11:47.818Z"
   },
   {
    "duration": 1085,
    "start_time": "2022-01-30T08:13:17.316Z"
   },
   {
    "duration": 39,
    "start_time": "2022-01-30T08:13:18.403Z"
   },
   {
    "duration": 45,
    "start_time": "2022-01-30T08:13:18.444Z"
   },
   {
    "duration": 3,
    "start_time": "2022-01-30T08:13:18.490Z"
   },
   {
    "duration": 27,
    "start_time": "2022-01-30T08:13:18.494Z"
   },
   {
    "duration": 12,
    "start_time": "2022-01-30T08:13:18.522Z"
   },
   {
    "duration": 366,
    "start_time": "2022-01-30T08:13:18.535Z"
   },
   {
    "duration": 4248,
    "start_time": "2022-01-30T08:13:14.657Z"
   },
   {
    "duration": 4243,
    "start_time": "2022-01-30T08:13:14.663Z"
   },
   {
    "duration": 4239,
    "start_time": "2022-01-30T08:13:14.668Z"
   },
   {
    "duration": 4236,
    "start_time": "2022-01-30T08:13:14.672Z"
   },
   {
    "duration": 4233,
    "start_time": "2022-01-30T08:13:14.676Z"
   },
   {
    "duration": 4229,
    "start_time": "2022-01-30T08:13:14.681Z"
   },
   {
    "duration": 4227,
    "start_time": "2022-01-30T08:13:14.684Z"
   },
   {
    "duration": 4222,
    "start_time": "2022-01-30T08:13:14.690Z"
   },
   {
    "duration": 4217,
    "start_time": "2022-01-30T08:13:14.696Z"
   },
   {
    "duration": 4213,
    "start_time": "2022-01-30T08:13:14.701Z"
   },
   {
    "duration": 4209,
    "start_time": "2022-01-30T08:13:14.705Z"
   },
   {
    "duration": 4206,
    "start_time": "2022-01-30T08:13:14.709Z"
   },
   {
    "duration": 4204,
    "start_time": "2022-01-30T08:13:14.712Z"
   },
   {
    "duration": 4202,
    "start_time": "2022-01-30T08:13:14.715Z"
   },
   {
    "duration": 4200,
    "start_time": "2022-01-30T08:13:14.718Z"
   },
   {
    "duration": 4197,
    "start_time": "2022-01-30T08:13:14.722Z"
   },
   {
    "duration": 4195,
    "start_time": "2022-01-30T08:13:14.725Z"
   },
   {
    "duration": 4193,
    "start_time": "2022-01-30T08:13:14.728Z"
   },
   {
    "duration": 4191,
    "start_time": "2022-01-30T08:13:14.731Z"
   },
   {
    "duration": 4187,
    "start_time": "2022-01-30T08:13:14.736Z"
   },
   {
    "duration": 4185,
    "start_time": "2022-01-30T08:13:14.739Z"
   },
   {
    "duration": 4180,
    "start_time": "2022-01-30T08:13:14.744Z"
   },
   {
    "duration": 4177,
    "start_time": "2022-01-30T08:13:14.748Z"
   },
   {
    "duration": 4174,
    "start_time": "2022-01-30T08:13:14.752Z"
   },
   {
    "duration": 4172,
    "start_time": "2022-01-30T08:13:14.755Z"
   },
   {
    "duration": 4169,
    "start_time": "2022-01-30T08:13:14.759Z"
   },
   {
    "duration": 4167,
    "start_time": "2022-01-30T08:13:14.762Z"
   },
   {
    "duration": 4165,
    "start_time": "2022-01-30T08:13:14.765Z"
   },
   {
    "duration": 4163,
    "start_time": "2022-01-30T08:13:14.768Z"
   },
   {
    "duration": 4160,
    "start_time": "2022-01-30T08:13:14.772Z"
   },
   {
    "duration": 4158,
    "start_time": "2022-01-30T08:13:14.775Z"
   },
   {
    "duration": 4156,
    "start_time": "2022-01-30T08:13:14.778Z"
   },
   {
    "duration": 4153,
    "start_time": "2022-01-30T08:13:14.781Z"
   },
   {
    "duration": 4147,
    "start_time": "2022-01-30T08:13:14.788Z"
   },
   {
    "duration": 4170,
    "start_time": "2022-01-30T08:13:14.791Z"
   },
   {
    "duration": 4166,
    "start_time": "2022-01-30T08:13:14.796Z"
   },
   {
    "duration": 4162,
    "start_time": "2022-01-30T08:13:14.801Z"
   },
   {
    "duration": 4159,
    "start_time": "2022-01-30T08:13:14.805Z"
   },
   {
    "duration": 4156,
    "start_time": "2022-01-30T08:13:14.809Z"
   },
   {
    "duration": 4152,
    "start_time": "2022-01-30T08:13:14.813Z"
   },
   {
    "duration": 4149,
    "start_time": "2022-01-30T08:13:14.817Z"
   },
   {
    "duration": 4146,
    "start_time": "2022-01-30T08:13:14.821Z"
   },
   {
    "duration": 4144,
    "start_time": "2022-01-30T08:13:14.824Z"
   },
   {
    "duration": 4141,
    "start_time": "2022-01-30T08:13:14.828Z"
   },
   {
    "duration": 4138,
    "start_time": "2022-01-30T08:13:14.831Z"
   },
   {
    "duration": 4135,
    "start_time": "2022-01-30T08:13:14.835Z"
   },
   {
    "duration": 4133,
    "start_time": "2022-01-30T08:13:14.838Z"
   },
   {
    "duration": 4129,
    "start_time": "2022-01-30T08:13:14.842Z"
   },
   {
    "duration": 4127,
    "start_time": "2022-01-30T08:13:14.845Z"
   },
   {
    "duration": 4124,
    "start_time": "2022-01-30T08:13:14.849Z"
   },
   {
    "duration": 4121,
    "start_time": "2022-01-30T08:13:14.853Z"
   },
   {
    "duration": 4117,
    "start_time": "2022-01-30T08:13:14.858Z"
   },
   {
    "duration": 4114,
    "start_time": "2022-01-30T08:13:14.862Z"
   },
   {
    "duration": 4106,
    "start_time": "2022-01-30T08:13:14.870Z"
   },
   {
    "duration": 4098,
    "start_time": "2022-01-30T08:13:14.879Z"
   },
   {
    "duration": 4094,
    "start_time": "2022-01-30T08:13:14.884Z"
   },
   {
    "duration": 4091,
    "start_time": "2022-01-30T08:13:14.888Z"
   },
   {
    "duration": 4085,
    "start_time": "2022-01-30T08:13:14.895Z"
   },
   {
    "duration": 4078,
    "start_time": "2022-01-30T08:13:14.902Z"
   },
   {
    "duration": 4073,
    "start_time": "2022-01-30T08:13:14.908Z"
   },
   {
    "duration": 4068,
    "start_time": "2022-01-30T08:13:14.914Z"
   },
   {
    "duration": 4064,
    "start_time": "2022-01-30T08:13:14.919Z"
   },
   {
    "duration": 4060,
    "start_time": "2022-01-30T08:13:14.924Z"
   },
   {
    "duration": 4054,
    "start_time": "2022-01-30T08:13:14.930Z"
   },
   {
    "duration": 4051,
    "start_time": "2022-01-30T08:13:14.934Z"
   },
   {
    "duration": 86,
    "start_time": "2022-01-30T08:14:53.269Z"
   },
   {
    "duration": 1173,
    "start_time": "2022-01-30T08:15:07.009Z"
   },
   {
    "duration": 40,
    "start_time": "2022-01-30T08:15:08.184Z"
   },
   {
    "duration": 54,
    "start_time": "2022-01-30T08:15:08.226Z"
   },
   {
    "duration": 19,
    "start_time": "2022-01-30T08:15:08.282Z"
   },
   {
    "duration": 11,
    "start_time": "2022-01-30T08:15:08.303Z"
   },
   {
    "duration": 471,
    "start_time": "2022-01-30T08:15:08.315Z"
   },
   {
    "duration": 4039,
    "start_time": "2022-01-30T08:15:04.753Z"
   },
   {
    "duration": 4034,
    "start_time": "2022-01-30T08:15:04.759Z"
   },
   {
    "duration": 4032,
    "start_time": "2022-01-30T08:15:04.763Z"
   },
   {
    "duration": 4029,
    "start_time": "2022-01-30T08:15:04.767Z"
   },
   {
    "duration": 4026,
    "start_time": "2022-01-30T08:15:04.771Z"
   },
   {
    "duration": 3966,
    "start_time": "2022-01-30T08:15:04.832Z"
   },
   {
    "duration": 3963,
    "start_time": "2022-01-30T08:15:04.836Z"
   },
   {
    "duration": 3959,
    "start_time": "2022-01-30T08:15:04.842Z"
   },
   {
    "duration": 3950,
    "start_time": "2022-01-30T08:15:04.851Z"
   },
   {
    "duration": 3943,
    "start_time": "2022-01-30T08:15:04.859Z"
   },
   {
    "duration": 3940,
    "start_time": "2022-01-30T08:15:04.863Z"
   },
   {
    "duration": 3937,
    "start_time": "2022-01-30T08:15:04.867Z"
   },
   {
    "duration": 3934,
    "start_time": "2022-01-30T08:15:04.871Z"
   },
   {
    "duration": 3929,
    "start_time": "2022-01-30T08:15:04.877Z"
   },
   {
    "duration": 3927,
    "start_time": "2022-01-30T08:15:04.880Z"
   },
   {
    "duration": 3923,
    "start_time": "2022-01-30T08:15:04.885Z"
   },
   {
    "duration": 3920,
    "start_time": "2022-01-30T08:15:04.889Z"
   },
   {
    "duration": 3917,
    "start_time": "2022-01-30T08:15:04.893Z"
   },
   {
    "duration": 3914,
    "start_time": "2022-01-30T08:15:04.897Z"
   },
   {
    "duration": 3910,
    "start_time": "2022-01-30T08:15:04.901Z"
   },
   {
    "duration": 3907,
    "start_time": "2022-01-30T08:15:04.905Z"
   },
   {
    "duration": 3904,
    "start_time": "2022-01-30T08:15:04.909Z"
   },
   {
    "duration": 3901,
    "start_time": "2022-01-30T08:15:04.913Z"
   },
   {
    "duration": 3897,
    "start_time": "2022-01-30T08:15:04.918Z"
   },
   {
    "duration": 3895,
    "start_time": "2022-01-30T08:15:04.921Z"
   },
   {
    "duration": 3891,
    "start_time": "2022-01-30T08:15:04.925Z"
   },
   {
    "duration": 3887,
    "start_time": "2022-01-30T08:15:04.930Z"
   },
   {
    "duration": 3883,
    "start_time": "2022-01-30T08:15:04.935Z"
   },
   {
    "duration": 3881,
    "start_time": "2022-01-30T08:15:04.939Z"
   },
   {
    "duration": 3917,
    "start_time": "2022-01-30T08:15:04.943Z"
   },
   {
    "duration": 3915,
    "start_time": "2022-01-30T08:15:04.947Z"
   },
   {
    "duration": 3911,
    "start_time": "2022-01-30T08:15:04.951Z"
   },
   {
    "duration": 3908,
    "start_time": "2022-01-30T08:15:04.955Z"
   },
   {
    "duration": 3904,
    "start_time": "2022-01-30T08:15:04.960Z"
   },
   {
    "duration": 3902,
    "start_time": "2022-01-30T08:15:04.963Z"
   },
   {
    "duration": 3898,
    "start_time": "2022-01-30T08:15:04.968Z"
   },
   {
    "duration": 3895,
    "start_time": "2022-01-30T08:15:04.972Z"
   },
   {
    "duration": 3892,
    "start_time": "2022-01-30T08:15:04.976Z"
   },
   {
    "duration": 3888,
    "start_time": "2022-01-30T08:15:04.980Z"
   },
   {
    "duration": 3885,
    "start_time": "2022-01-30T08:15:04.984Z"
   },
   {
    "duration": 3882,
    "start_time": "2022-01-30T08:15:04.988Z"
   },
   {
    "duration": 3879,
    "start_time": "2022-01-30T08:15:04.992Z"
   },
   {
    "duration": 3875,
    "start_time": "2022-01-30T08:15:04.997Z"
   },
   {
    "duration": 3870,
    "start_time": "2022-01-30T08:15:05.002Z"
   },
   {
    "duration": 3867,
    "start_time": "2022-01-30T08:15:05.006Z"
   },
   {
    "duration": 3864,
    "start_time": "2022-01-30T08:15:05.010Z"
   },
   {
    "duration": 3862,
    "start_time": "2022-01-30T08:15:05.014Z"
   },
   {
    "duration": 3858,
    "start_time": "2022-01-30T08:15:05.018Z"
   },
   {
    "duration": 3855,
    "start_time": "2022-01-30T08:15:05.022Z"
   },
   {
    "duration": 3851,
    "start_time": "2022-01-30T08:15:05.027Z"
   },
   {
    "duration": 3848,
    "start_time": "2022-01-30T08:15:05.031Z"
   },
   {
    "duration": 3844,
    "start_time": "2022-01-30T08:15:05.036Z"
   },
   {
    "duration": 3843,
    "start_time": "2022-01-30T08:15:05.039Z"
   },
   {
    "duration": 3839,
    "start_time": "2022-01-30T08:15:05.044Z"
   },
   {
    "duration": 3836,
    "start_time": "2022-01-30T08:15:05.048Z"
   },
   {
    "duration": 3833,
    "start_time": "2022-01-30T08:15:05.052Z"
   },
   {
    "duration": 3831,
    "start_time": "2022-01-30T08:15:05.055Z"
   },
   {
    "duration": 3826,
    "start_time": "2022-01-30T08:15:05.061Z"
   },
   {
    "duration": 3823,
    "start_time": "2022-01-30T08:15:05.065Z"
   },
   {
    "duration": 3819,
    "start_time": "2022-01-30T08:15:05.070Z"
   },
   {
    "duration": 3816,
    "start_time": "2022-01-30T08:15:05.074Z"
   },
   {
    "duration": 3812,
    "start_time": "2022-01-30T08:15:05.078Z"
   },
   {
    "duration": 3809,
    "start_time": "2022-01-30T08:15:05.082Z"
   },
   {
    "duration": 3806,
    "start_time": "2022-01-30T08:15:05.086Z"
   },
   {
    "duration": 3803,
    "start_time": "2022-01-30T08:15:05.090Z"
   },
   {
    "duration": 8,
    "start_time": "2022-01-30T08:16:13.495Z"
   },
   {
    "duration": 14,
    "start_time": "2022-01-30T08:16:19.187Z"
   },
   {
    "duration": 1213,
    "start_time": "2022-01-30T08:16:26.638Z"
   },
   {
    "duration": 42,
    "start_time": "2022-01-30T08:16:27.853Z"
   },
   {
    "duration": 50,
    "start_time": "2022-01-30T08:16:27.897Z"
   },
   {
    "duration": 11,
    "start_time": "2022-01-30T08:16:27.949Z"
   },
   {
    "duration": 14,
    "start_time": "2022-01-30T08:16:27.962Z"
   },
   {
    "duration": 15,
    "start_time": "2022-01-30T08:16:27.978Z"
   },
   {
    "duration": 7,
    "start_time": "2022-01-30T08:16:27.995Z"
   },
   {
    "duration": 5,
    "start_time": "2022-01-30T08:16:28.005Z"
   },
   {
    "duration": 48,
    "start_time": "2022-01-30T08:16:28.012Z"
   },
   {
    "duration": 25,
    "start_time": "2022-01-30T08:16:28.063Z"
   },
   {
    "duration": 24,
    "start_time": "2022-01-30T08:16:28.089Z"
   },
   {
    "duration": 377,
    "start_time": "2022-01-30T08:16:28.114Z"
   },
   {
    "duration": 4426,
    "start_time": "2022-01-30T08:16:24.068Z"
   },
   {
    "duration": 4423,
    "start_time": "2022-01-30T08:16:24.073Z"
   },
   {
    "duration": 4420,
    "start_time": "2022-01-30T08:16:24.077Z"
   },
   {
    "duration": 4418,
    "start_time": "2022-01-30T08:16:24.080Z"
   },
   {
    "duration": 4414,
    "start_time": "2022-01-30T08:16:24.085Z"
   },
   {
    "duration": 4412,
    "start_time": "2022-01-30T08:16:24.088Z"
   },
   {
    "duration": 4408,
    "start_time": "2022-01-30T08:16:24.093Z"
   },
   {
    "duration": 4406,
    "start_time": "2022-01-30T08:16:24.097Z"
   },
   {
    "duration": 4402,
    "start_time": "2022-01-30T08:16:24.102Z"
   },
   {
    "duration": 4398,
    "start_time": "2022-01-30T08:16:24.107Z"
   },
   {
    "duration": 4394,
    "start_time": "2022-01-30T08:16:24.112Z"
   },
   {
    "duration": 4391,
    "start_time": "2022-01-30T08:16:24.116Z"
   },
   {
    "duration": 4387,
    "start_time": "2022-01-30T08:16:24.121Z"
   },
   {
    "duration": 4384,
    "start_time": "2022-01-30T08:16:24.125Z"
   },
   {
    "duration": 4379,
    "start_time": "2022-01-30T08:16:24.131Z"
   },
   {
    "duration": 4376,
    "start_time": "2022-01-30T08:16:24.135Z"
   },
   {
    "duration": 4373,
    "start_time": "2022-01-30T08:16:24.139Z"
   },
   {
    "duration": 4370,
    "start_time": "2022-01-30T08:16:24.143Z"
   },
   {
    "duration": 4366,
    "start_time": "2022-01-30T08:16:24.148Z"
   },
   {
    "duration": 4363,
    "start_time": "2022-01-30T08:16:24.152Z"
   },
   {
    "duration": 4310,
    "start_time": "2022-01-30T08:16:24.206Z"
   },
   {
    "duration": 4308,
    "start_time": "2022-01-30T08:16:24.209Z"
   },
   {
    "duration": 4304,
    "start_time": "2022-01-30T08:16:24.213Z"
   },
   {
    "duration": 4301,
    "start_time": "2022-01-30T08:16:24.217Z"
   },
   {
    "duration": 4297,
    "start_time": "2022-01-30T08:16:24.222Z"
   },
   {
    "duration": 4294,
    "start_time": "2022-01-30T08:16:24.226Z"
   },
   {
    "duration": 4289,
    "start_time": "2022-01-30T08:16:24.232Z"
   },
   {
    "duration": 4285,
    "start_time": "2022-01-30T08:16:24.237Z"
   },
   {
    "duration": 4283,
    "start_time": "2022-01-30T08:16:24.240Z"
   },
   {
    "duration": 4280,
    "start_time": "2022-01-30T08:16:24.244Z"
   },
   {
    "duration": 4277,
    "start_time": "2022-01-30T08:16:24.247Z"
   },
   {
    "duration": 4275,
    "start_time": "2022-01-30T08:16:24.250Z"
   },
   {
    "duration": 4272,
    "start_time": "2022-01-30T08:16:24.254Z"
   },
   {
    "duration": 4270,
    "start_time": "2022-01-30T08:16:24.257Z"
   },
   {
    "duration": 4267,
    "start_time": "2022-01-30T08:16:24.261Z"
   },
   {
    "duration": 4264,
    "start_time": "2022-01-30T08:16:24.265Z"
   },
   {
    "duration": 4261,
    "start_time": "2022-01-30T08:16:24.269Z"
   },
   {
    "duration": 4259,
    "start_time": "2022-01-30T08:16:24.272Z"
   },
   {
    "duration": 4256,
    "start_time": "2022-01-30T08:16:24.276Z"
   },
   {
    "duration": 4253,
    "start_time": "2022-01-30T08:16:24.279Z"
   },
   {
    "duration": 4250,
    "start_time": "2022-01-30T08:16:24.283Z"
   },
   {
    "duration": 4247,
    "start_time": "2022-01-30T08:16:24.286Z"
   },
   {
    "duration": 4245,
    "start_time": "2022-01-30T08:16:24.289Z"
   },
   {
    "duration": 4242,
    "start_time": "2022-01-30T08:16:24.293Z"
   },
   {
    "duration": 4239,
    "start_time": "2022-01-30T08:16:24.296Z"
   },
   {
    "duration": 4262,
    "start_time": "2022-01-30T08:16:24.299Z"
   },
   {
    "duration": 4259,
    "start_time": "2022-01-30T08:16:24.303Z"
   },
   {
    "duration": 4257,
    "start_time": "2022-01-30T08:16:24.306Z"
   },
   {
    "duration": 4254,
    "start_time": "2022-01-30T08:16:24.310Z"
   },
   {
    "duration": 4252,
    "start_time": "2022-01-30T08:16:24.313Z"
   },
   {
    "duration": 4249,
    "start_time": "2022-01-30T08:16:24.317Z"
   },
   {
    "duration": 4247,
    "start_time": "2022-01-30T08:16:24.320Z"
   },
   {
    "duration": 4244,
    "start_time": "2022-01-30T08:16:24.324Z"
   },
   {
    "duration": 4242,
    "start_time": "2022-01-30T08:16:24.327Z"
   },
   {
    "duration": 4240,
    "start_time": "2022-01-30T08:16:24.330Z"
   },
   {
    "duration": 4238,
    "start_time": "2022-01-30T08:16:24.333Z"
   },
   {
    "duration": 4235,
    "start_time": "2022-01-30T08:16:24.337Z"
   },
   {
    "duration": 4233,
    "start_time": "2022-01-30T08:16:24.340Z"
   },
   {
    "duration": 4230,
    "start_time": "2022-01-30T08:16:24.344Z"
   },
   {
    "duration": 3,
    "start_time": "2022-01-30T08:18:07.021Z"
   },
   {
    "duration": 21,
    "start_time": "2022-01-30T08:18:15.046Z"
   },
   {
    "duration": 123,
    "start_time": "2022-01-30T08:19:26.968Z"
   },
   {
    "duration": 25,
    "start_time": "2022-01-30T08:19:31.842Z"
   },
   {
    "duration": 1156,
    "start_time": "2022-01-30T08:19:46.527Z"
   },
   {
    "duration": 42,
    "start_time": "2022-01-30T08:19:47.685Z"
   },
   {
    "duration": 45,
    "start_time": "2022-01-30T08:19:47.729Z"
   },
   {
    "duration": 6,
    "start_time": "2022-01-30T08:19:47.776Z"
   },
   {
    "duration": 16,
    "start_time": "2022-01-30T08:19:47.784Z"
   },
   {
    "duration": 19,
    "start_time": "2022-01-30T08:19:47.802Z"
   },
   {
    "duration": 7,
    "start_time": "2022-01-30T08:19:47.823Z"
   },
   {
    "duration": 5,
    "start_time": "2022-01-30T08:19:47.832Z"
   },
   {
    "duration": 39,
    "start_time": "2022-01-30T08:19:47.839Z"
   },
   {
    "duration": 17,
    "start_time": "2022-01-30T08:19:47.880Z"
   },
   {
    "duration": 20,
    "start_time": "2022-01-30T08:19:47.899Z"
   },
   {
    "duration": 341,
    "start_time": "2022-01-30T08:19:47.921Z"
   },
   {
    "duration": 4266,
    "start_time": "2022-01-30T08:19:44.001Z"
   },
   {
    "duration": 4252,
    "start_time": "2022-01-30T08:19:44.016Z"
   },
   {
    "duration": 4248,
    "start_time": "2022-01-30T08:19:44.021Z"
   },
   {
    "duration": 4244,
    "start_time": "2022-01-30T08:19:44.026Z"
   },
   {
    "duration": 4241,
    "start_time": "2022-01-30T08:19:44.030Z"
   },
   {
    "duration": 4237,
    "start_time": "2022-01-30T08:19:44.035Z"
   },
   {
    "duration": 4233,
    "start_time": "2022-01-30T08:19:44.040Z"
   },
   {
    "duration": 4230,
    "start_time": "2022-01-30T08:19:44.044Z"
   },
   {
    "duration": 4227,
    "start_time": "2022-01-30T08:19:44.048Z"
   },
   {
    "duration": 4223,
    "start_time": "2022-01-30T08:19:44.053Z"
   },
   {
    "duration": 4220,
    "start_time": "2022-01-30T08:19:44.057Z"
   },
   {
    "duration": 4216,
    "start_time": "2022-01-30T08:19:44.062Z"
   },
   {
    "duration": 4213,
    "start_time": "2022-01-30T08:19:44.066Z"
   },
   {
    "duration": 4209,
    "start_time": "2022-01-30T08:19:44.071Z"
   },
   {
    "duration": 4206,
    "start_time": "2022-01-30T08:19:44.075Z"
   },
   {
    "duration": 4199,
    "start_time": "2022-01-30T08:19:44.082Z"
   },
   {
    "duration": 4196,
    "start_time": "2022-01-30T08:19:44.086Z"
   },
   {
    "duration": 4192,
    "start_time": "2022-01-30T08:19:44.091Z"
   },
   {
    "duration": 4190,
    "start_time": "2022-01-30T08:19:44.094Z"
   },
   {
    "duration": 4185,
    "start_time": "2022-01-30T08:19:44.100Z"
   },
   {
    "duration": 4181,
    "start_time": "2022-01-30T08:19:44.105Z"
   },
   {
    "duration": 4177,
    "start_time": "2022-01-30T08:19:44.110Z"
   },
   {
    "duration": 4165,
    "start_time": "2022-01-30T08:19:44.123Z"
   },
   {
    "duration": 4161,
    "start_time": "2022-01-30T08:19:44.128Z"
   },
   {
    "duration": 4158,
    "start_time": "2022-01-30T08:19:44.132Z"
   },
   {
    "duration": 4155,
    "start_time": "2022-01-30T08:19:44.136Z"
   },
   {
    "duration": 4151,
    "start_time": "2022-01-30T08:19:44.141Z"
   },
   {
    "duration": 4147,
    "start_time": "2022-01-30T08:19:44.146Z"
   },
   {
    "duration": 4144,
    "start_time": "2022-01-30T08:19:44.150Z"
   },
   {
    "duration": 4141,
    "start_time": "2022-01-30T08:19:44.154Z"
   },
   {
    "duration": 4138,
    "start_time": "2022-01-30T08:19:44.158Z"
   },
   {
    "duration": 4134,
    "start_time": "2022-01-30T08:19:44.163Z"
   },
   {
    "duration": 4131,
    "start_time": "2022-01-30T08:19:44.166Z"
   },
   {
    "duration": 4125,
    "start_time": "2022-01-30T08:19:44.173Z"
   },
   {
    "duration": 4121,
    "start_time": "2022-01-30T08:19:44.178Z"
   },
   {
    "duration": 4117,
    "start_time": "2022-01-30T08:19:44.183Z"
   },
   {
    "duration": 4115,
    "start_time": "2022-01-30T08:19:44.186Z"
   },
   {
    "duration": 4111,
    "start_time": "2022-01-30T08:19:44.191Z"
   },
   {
    "duration": 4107,
    "start_time": "2022-01-30T08:19:44.196Z"
   },
   {
    "duration": 4103,
    "start_time": "2022-01-30T08:19:44.201Z"
   },
   {
    "duration": 4100,
    "start_time": "2022-01-30T08:19:44.205Z"
   },
   {
    "duration": 4152,
    "start_time": "2022-01-30T08:19:44.209Z"
   },
   {
    "duration": 4149,
    "start_time": "2022-01-30T08:19:44.213Z"
   },
   {
    "duration": 4145,
    "start_time": "2022-01-30T08:19:44.217Z"
   },
   {
    "duration": 4143,
    "start_time": "2022-01-30T08:19:44.220Z"
   },
   {
    "duration": 4140,
    "start_time": "2022-01-30T08:19:44.224Z"
   },
   {
    "duration": 4138,
    "start_time": "2022-01-30T08:19:44.227Z"
   },
   {
    "duration": 4136,
    "start_time": "2022-01-30T08:19:44.230Z"
   },
   {
    "duration": 4134,
    "start_time": "2022-01-30T08:19:44.233Z"
   },
   {
    "duration": 4130,
    "start_time": "2022-01-30T08:19:44.238Z"
   },
   {
    "duration": 4127,
    "start_time": "2022-01-30T08:19:44.241Z"
   },
   {
    "duration": 4125,
    "start_time": "2022-01-30T08:19:44.245Z"
   },
   {
    "duration": 4122,
    "start_time": "2022-01-30T08:19:44.248Z"
   },
   {
    "duration": 4119,
    "start_time": "2022-01-30T08:19:44.252Z"
   },
   {
    "duration": 4117,
    "start_time": "2022-01-30T08:19:44.255Z"
   },
   {
    "duration": 4114,
    "start_time": "2022-01-30T08:19:44.259Z"
   },
   {
    "duration": 4112,
    "start_time": "2022-01-30T08:19:44.262Z"
   },
   {
    "duration": 4110,
    "start_time": "2022-01-30T08:19:44.265Z"
   },
   {
    "duration": 4107,
    "start_time": "2022-01-30T08:19:44.269Z"
   },
   {
    "duration": 1197,
    "start_time": "2022-01-30T08:22:06.832Z"
   },
   {
    "duration": 39,
    "start_time": "2022-01-30T08:22:08.031Z"
   },
   {
    "duration": 47,
    "start_time": "2022-01-30T08:22:08.072Z"
   },
   {
    "duration": 5,
    "start_time": "2022-01-30T08:22:08.121Z"
   },
   {
    "duration": 16,
    "start_time": "2022-01-30T08:22:08.128Z"
   },
   {
    "duration": 29,
    "start_time": "2022-01-30T08:22:08.145Z"
   },
   {
    "duration": 7,
    "start_time": "2022-01-30T08:22:08.176Z"
   },
   {
    "duration": 5,
    "start_time": "2022-01-30T08:22:08.186Z"
   },
   {
    "duration": 27,
    "start_time": "2022-01-30T08:22:08.193Z"
   },
   {
    "duration": 40,
    "start_time": "2022-01-30T08:22:08.221Z"
   },
   {
    "duration": 23,
    "start_time": "2022-01-30T08:22:08.263Z"
   },
   {
    "duration": 15,
    "start_time": "2022-01-30T08:22:08.288Z"
   },
   {
    "duration": 34,
    "start_time": "2022-01-30T08:22:08.305Z"
   },
   {
    "duration": 413,
    "start_time": "2022-01-30T08:22:08.361Z"
   },
   {
    "duration": 8,
    "start_time": "2022-01-30T08:22:08.776Z"
   },
   {
    "duration": 18,
    "start_time": "2022-01-30T08:22:08.785Z"
   },
   {
    "duration": 14,
    "start_time": "2022-01-30T08:22:08.805Z"
   },
   {
    "duration": 5640,
    "start_time": "2022-01-30T08:22:08.820Z"
   },
   {
    "duration": 27,
    "start_time": "2022-01-30T08:22:14.462Z"
   },
   {
    "duration": 6,
    "start_time": "2022-01-30T08:22:14.490Z"
   },
   {
    "duration": 18,
    "start_time": "2022-01-30T08:22:14.497Z"
   },
   {
    "duration": 3,
    "start_time": "2022-01-30T08:22:14.517Z"
   },
   {
    "duration": 375,
    "start_time": "2022-01-30T08:22:14.524Z"
   },
   {
    "duration": 7,
    "start_time": "2022-01-30T08:22:14.901Z"
   },
   {
    "duration": 10,
    "start_time": "2022-01-30T08:22:14.910Z"
   },
   {
    "duration": 59,
    "start_time": "2022-01-30T08:22:14.921Z"
   },
   {
    "duration": 5,
    "start_time": "2022-01-30T08:22:14.981Z"
   },
   {
    "duration": 16,
    "start_time": "2022-01-30T08:22:14.987Z"
   },
   {
    "duration": 23,
    "start_time": "2022-01-30T08:22:15.005Z"
   },
   {
    "duration": 104,
    "start_time": "2022-01-30T08:22:15.030Z"
   },
   {
    "duration": 24,
    "start_time": "2022-01-30T08:22:15.136Z"
   },
   {
    "duration": 11557,
    "start_time": "2022-01-30T08:22:15.163Z"
   },
   {
    "duration": 17,
    "start_time": "2022-01-30T08:22:26.721Z"
   },
   {
    "duration": 34,
    "start_time": "2022-01-30T08:22:26.739Z"
   },
   {
    "duration": 18,
    "start_time": "2022-01-30T08:22:26.775Z"
   },
   {
    "duration": 26,
    "start_time": "2022-01-30T08:22:26.795Z"
   },
   {
    "duration": 48,
    "start_time": "2022-01-30T08:22:26.823Z"
   },
   {
    "duration": 3101,
    "start_time": "2022-01-30T08:22:26.873Z"
   },
   {
    "duration": 22,
    "start_time": "2022-01-30T08:22:29.976Z"
   },
   {
    "duration": 20,
    "start_time": "2022-01-30T08:22:30.000Z"
   },
   {
    "duration": 349,
    "start_time": "2022-01-30T08:22:30.022Z"
   },
   {
    "duration": 40,
    "start_time": "2022-01-30T08:22:30.373Z"
   },
   {
    "duration": 14,
    "start_time": "2022-01-30T08:22:30.415Z"
   },
   {
    "duration": 41,
    "start_time": "2022-01-30T08:22:30.431Z"
   },
   {
    "duration": 44,
    "start_time": "2022-01-30T08:22:30.473Z"
   },
   {
    "duration": 9,
    "start_time": "2022-01-30T08:22:30.518Z"
   },
   {
    "duration": 83,
    "start_time": "2022-01-30T08:22:30.529Z"
   },
   {
    "duration": 293,
    "start_time": "2022-01-30T08:22:30.613Z"
   },
   {
    "duration": 6,
    "start_time": "2022-01-30T08:22:30.908Z"
   },
   {
    "duration": 17,
    "start_time": "2022-01-30T08:22:30.916Z"
   },
   {
    "duration": 1626,
    "start_time": "2022-01-30T08:22:30.935Z"
   },
   {
    "duration": 23,
    "start_time": "2022-01-30T08:22:32.562Z"
   },
   {
    "duration": 319,
    "start_time": "2022-01-30T08:22:32.587Z"
   },
   {
    "duration": 852,
    "start_time": "2022-01-30T08:22:32.908Z"
   },
   {
    "duration": 8,
    "start_time": "2022-01-30T08:22:33.762Z"
   },
   {
    "duration": 1139,
    "start_time": "2022-01-30T08:22:33.771Z"
   },
   {
    "duration": 11,
    "start_time": "2022-01-30T08:22:34.912Z"
   },
   {
    "duration": 149,
    "start_time": "2022-01-30T08:22:34.925Z"
   },
   {
    "duration": 240,
    "start_time": "2022-01-30T08:22:35.076Z"
   },
   {
    "duration": 428,
    "start_time": "2022-01-30T08:22:35.318Z"
   },
   {
    "duration": 338,
    "start_time": "2022-01-30T08:22:35.749Z"
   },
   {
    "duration": 312,
    "start_time": "2022-01-30T08:22:36.090Z"
   },
   {
    "duration": 649,
    "start_time": "2022-01-30T08:22:36.404Z"
   },
   {
    "duration": 726,
    "start_time": "2022-01-30T08:22:37.055Z"
   },
   {
    "duration": 297,
    "start_time": "2022-01-30T08:22:37.782Z"
   },
   {
    "duration": 11,
    "start_time": "2022-01-30T08:22:38.080Z"
   },
   {
    "duration": 7,
    "start_time": "2022-01-30T08:22:38.093Z"
   },
   {
    "duration": 6,
    "start_time": "2022-01-30T08:22:38.105Z"
   },
   {
    "duration": 10,
    "start_time": "2022-01-30T08:22:38.113Z"
   },
   {
    "duration": 4,
    "start_time": "2022-01-30T08:22:38.125Z"
   },
   {
    "duration": 6,
    "start_time": "2022-01-30T08:22:38.161Z"
   },
   {
    "duration": 355,
    "start_time": "2022-01-30T08:24:06.642Z"
   },
   {
    "duration": 1157,
    "start_time": "2022-01-30T08:24:25.054Z"
   },
   {
    "duration": 43,
    "start_time": "2022-01-30T08:24:26.213Z"
   },
   {
    "duration": 46,
    "start_time": "2022-01-30T08:24:26.258Z"
   },
   {
    "duration": 7,
    "start_time": "2022-01-30T08:24:26.306Z"
   },
   {
    "duration": 15,
    "start_time": "2022-01-30T08:24:26.314Z"
   },
   {
    "duration": 43,
    "start_time": "2022-01-30T08:24:26.330Z"
   },
   {
    "duration": 7,
    "start_time": "2022-01-30T08:24:26.375Z"
   },
   {
    "duration": 5,
    "start_time": "2022-01-30T08:24:26.385Z"
   },
   {
    "duration": 20,
    "start_time": "2022-01-30T08:24:26.392Z"
   },
   {
    "duration": 20,
    "start_time": "2022-01-30T08:24:26.414Z"
   },
   {
    "duration": 53,
    "start_time": "2022-01-30T08:24:26.436Z"
   },
   {
    "duration": 368,
    "start_time": "2022-01-30T08:24:26.491Z"
   },
   {
    "duration": 4272,
    "start_time": "2022-01-30T08:24:22.591Z"
   },
   {
    "duration": 4269,
    "start_time": "2022-01-30T08:24:22.595Z"
   },
   {
    "duration": 4265,
    "start_time": "2022-01-30T08:24:22.600Z"
   },
   {
    "duration": 4261,
    "start_time": "2022-01-30T08:24:22.605Z"
   },
   {
    "duration": 4252,
    "start_time": "2022-01-30T08:24:22.615Z"
   },
   {
    "duration": 4248,
    "start_time": "2022-01-30T08:24:22.620Z"
   },
   {
    "duration": 4244,
    "start_time": "2022-01-30T08:24:22.625Z"
   },
   {
    "duration": 4240,
    "start_time": "2022-01-30T08:24:22.630Z"
   },
   {
    "duration": 4236,
    "start_time": "2022-01-30T08:24:22.635Z"
   },
   {
    "duration": 4233,
    "start_time": "2022-01-30T08:24:22.639Z"
   },
   {
    "duration": 4229,
    "start_time": "2022-01-30T08:24:22.644Z"
   },
   {
    "duration": 4226,
    "start_time": "2022-01-30T08:24:22.648Z"
   },
   {
    "duration": 4223,
    "start_time": "2022-01-30T08:24:22.653Z"
   },
   {
    "duration": 4220,
    "start_time": "2022-01-30T08:24:22.657Z"
   },
   {
    "duration": 4217,
    "start_time": "2022-01-30T08:24:22.661Z"
   },
   {
    "duration": 4214,
    "start_time": "2022-01-30T08:24:22.665Z"
   },
   {
    "duration": 4211,
    "start_time": "2022-01-30T08:24:22.669Z"
   },
   {
    "duration": 4208,
    "start_time": "2022-01-30T08:24:22.673Z"
   },
   {
    "duration": 4205,
    "start_time": "2022-01-30T08:24:22.677Z"
   },
   {
    "duration": 4201,
    "start_time": "2022-01-30T08:24:22.682Z"
   },
   {
    "duration": 4198,
    "start_time": "2022-01-30T08:24:22.686Z"
   },
   {
    "duration": 4194,
    "start_time": "2022-01-30T08:24:22.690Z"
   },
   {
    "duration": 4189,
    "start_time": "2022-01-30T08:24:22.696Z"
   },
   {
    "duration": 4187,
    "start_time": "2022-01-30T08:24:22.700Z"
   },
   {
    "duration": 4184,
    "start_time": "2022-01-30T08:24:22.704Z"
   },
   {
    "duration": 4181,
    "start_time": "2022-01-30T08:24:22.708Z"
   },
   {
    "duration": 4178,
    "start_time": "2022-01-30T08:24:22.712Z"
   },
   {
    "duration": 4174,
    "start_time": "2022-01-30T08:24:22.716Z"
   },
   {
    "duration": 4172,
    "start_time": "2022-01-30T08:24:22.720Z"
   },
   {
    "duration": 4169,
    "start_time": "2022-01-30T08:24:22.723Z"
   },
   {
    "duration": 4166,
    "start_time": "2022-01-30T08:24:22.727Z"
   },
   {
    "duration": 4163,
    "start_time": "2022-01-30T08:24:22.731Z"
   },
   {
    "duration": 4159,
    "start_time": "2022-01-30T08:24:22.736Z"
   },
   {
    "duration": 4157,
    "start_time": "2022-01-30T08:24:22.739Z"
   },
   {
    "duration": 4154,
    "start_time": "2022-01-30T08:24:22.743Z"
   },
   {
    "duration": 4151,
    "start_time": "2022-01-30T08:24:22.747Z"
   },
   {
    "duration": 4147,
    "start_time": "2022-01-30T08:24:22.751Z"
   },
   {
    "duration": 4144,
    "start_time": "2022-01-30T08:24:22.755Z"
   },
   {
    "duration": 4141,
    "start_time": "2022-01-30T08:24:22.759Z"
   },
   {
    "duration": 4137,
    "start_time": "2022-01-30T08:24:22.764Z"
   },
   {
    "duration": 4133,
    "start_time": "2022-01-30T08:24:22.769Z"
   },
   {
    "duration": 4129,
    "start_time": "2022-01-30T08:24:22.774Z"
   },
   {
    "duration": 4181,
    "start_time": "2022-01-30T08:24:22.778Z"
   },
   {
    "duration": 4177,
    "start_time": "2022-01-30T08:24:22.784Z"
   },
   {
    "duration": 4175,
    "start_time": "2022-01-30T08:24:22.788Z"
   },
   {
    "duration": 4172,
    "start_time": "2022-01-30T08:24:22.792Z"
   },
   {
    "duration": 4170,
    "start_time": "2022-01-30T08:24:22.796Z"
   },
   {
    "duration": 4165,
    "start_time": "2022-01-30T08:24:22.802Z"
   },
   {
    "duration": 4163,
    "start_time": "2022-01-30T08:24:22.806Z"
   },
   {
    "duration": 4160,
    "start_time": "2022-01-30T08:24:22.810Z"
   },
   {
    "duration": 4157,
    "start_time": "2022-01-30T08:24:22.815Z"
   },
   {
    "duration": 4155,
    "start_time": "2022-01-30T08:24:22.818Z"
   },
   {
    "duration": 4154,
    "start_time": "2022-01-30T08:24:22.821Z"
   },
   {
    "duration": 4152,
    "start_time": "2022-01-30T08:24:22.824Z"
   },
   {
    "duration": 4149,
    "start_time": "2022-01-30T08:24:22.828Z"
   },
   {
    "duration": 4148,
    "start_time": "2022-01-30T08:24:22.831Z"
   },
   {
    "duration": 4146,
    "start_time": "2022-01-30T08:24:22.834Z"
   },
   {
    "duration": 4144,
    "start_time": "2022-01-30T08:24:22.838Z"
   },
   {
    "duration": 4142,
    "start_time": "2022-01-30T08:24:22.841Z"
   },
   {
    "duration": 1135,
    "start_time": "2022-01-30T08:25:36.952Z"
   },
   {
    "duration": 39,
    "start_time": "2022-01-30T08:25:38.089Z"
   },
   {
    "duration": 50,
    "start_time": "2022-01-30T08:25:38.131Z"
   },
   {
    "duration": 6,
    "start_time": "2022-01-30T08:25:38.182Z"
   },
   {
    "duration": 13,
    "start_time": "2022-01-30T08:25:38.190Z"
   },
   {
    "duration": 22,
    "start_time": "2022-01-30T08:25:38.205Z"
   },
   {
    "duration": 32,
    "start_time": "2022-01-30T08:25:38.229Z"
   },
   {
    "duration": 5,
    "start_time": "2022-01-30T08:25:38.263Z"
   },
   {
    "duration": 22,
    "start_time": "2022-01-30T08:25:38.270Z"
   },
   {
    "duration": 18,
    "start_time": "2022-01-30T08:25:38.294Z"
   },
   {
    "duration": 21,
    "start_time": "2022-01-30T08:25:38.314Z"
   },
   {
    "duration": 32,
    "start_time": "2022-01-30T08:25:38.337Z"
   },
   {
    "duration": 34,
    "start_time": "2022-01-30T08:25:38.370Z"
   },
   {
    "duration": 374,
    "start_time": "2022-01-30T08:25:38.406Z"
   },
   {
    "duration": 8,
    "start_time": "2022-01-30T08:25:38.781Z"
   },
   {
    "duration": 14,
    "start_time": "2022-01-30T08:25:38.791Z"
   },
   {
    "duration": 14,
    "start_time": "2022-01-30T08:25:38.806Z"
   },
   {
    "duration": 5660,
    "start_time": "2022-01-30T08:25:38.822Z"
   },
   {
    "duration": 25,
    "start_time": "2022-01-30T08:25:44.484Z"
   },
   {
    "duration": 6,
    "start_time": "2022-01-30T08:25:44.511Z"
   },
   {
    "duration": 16,
    "start_time": "2022-01-30T08:25:44.518Z"
   },
   {
    "duration": 4,
    "start_time": "2022-01-30T08:25:44.561Z"
   },
   {
    "duration": 344,
    "start_time": "2022-01-30T08:25:44.569Z"
   },
   {
    "duration": 9,
    "start_time": "2022-01-30T08:25:44.916Z"
   },
   {
    "duration": 10,
    "start_time": "2022-01-30T08:25:44.927Z"
   },
   {
    "duration": 56,
    "start_time": "2022-01-30T08:25:44.939Z"
   },
   {
    "duration": 4,
    "start_time": "2022-01-30T08:25:44.996Z"
   },
   {
    "duration": 20,
    "start_time": "2022-01-30T08:25:45.001Z"
   },
   {
    "duration": 47,
    "start_time": "2022-01-30T08:25:45.023Z"
   },
   {
    "duration": 90,
    "start_time": "2022-01-30T08:25:45.072Z"
   },
   {
    "duration": 5,
    "start_time": "2022-01-30T08:25:45.163Z"
   },
   {
    "duration": 10846,
    "start_time": "2022-01-30T08:25:45.170Z"
   },
   {
    "duration": 16,
    "start_time": "2022-01-30T08:25:56.018Z"
   },
   {
    "duration": 28,
    "start_time": "2022-01-30T08:25:56.036Z"
   },
   {
    "duration": 17,
    "start_time": "2022-01-30T08:25:56.065Z"
   },
   {
    "duration": 25,
    "start_time": "2022-01-30T08:25:56.084Z"
   },
   {
    "duration": 18,
    "start_time": "2022-01-30T08:25:56.111Z"
   },
   {
    "duration": 3032,
    "start_time": "2022-01-30T08:25:56.131Z"
   },
   {
    "duration": 19,
    "start_time": "2022-01-30T08:25:59.165Z"
   },
   {
    "duration": 19,
    "start_time": "2022-01-30T08:25:59.185Z"
   },
   {
    "duration": 338,
    "start_time": "2022-01-30T08:25:59.205Z"
   },
   {
    "duration": 49,
    "start_time": "2022-01-30T08:25:59.545Z"
   },
   {
    "duration": 16,
    "start_time": "2022-01-30T08:25:59.596Z"
   },
   {
    "duration": 16,
    "start_time": "2022-01-30T08:25:59.614Z"
   },
   {
    "duration": 57,
    "start_time": "2022-01-30T08:25:59.632Z"
   },
   {
    "duration": 11,
    "start_time": "2022-01-30T08:25:59.691Z"
   },
   {
    "duration": 129,
    "start_time": "2022-01-30T08:25:59.703Z"
   },
   {
    "duration": 286,
    "start_time": "2022-01-30T08:25:59.834Z"
   },
   {
    "duration": 7,
    "start_time": "2022-01-30T08:26:00.121Z"
   },
   {
    "duration": 28,
    "start_time": "2022-01-30T08:26:00.130Z"
   },
   {
    "duration": 1486,
    "start_time": "2022-01-30T08:26:00.160Z"
   },
   {
    "duration": 33,
    "start_time": "2022-01-30T08:26:01.648Z"
   },
   {
    "duration": 322,
    "start_time": "2022-01-30T08:26:01.683Z"
   },
   {
    "duration": 835,
    "start_time": "2022-01-30T08:26:02.007Z"
   },
   {
    "duration": 19,
    "start_time": "2022-01-30T08:26:02.844Z"
   },
   {
    "duration": 1102,
    "start_time": "2022-01-30T08:26:02.865Z"
   },
   {
    "duration": 10,
    "start_time": "2022-01-30T08:26:03.969Z"
   },
   {
    "duration": 150,
    "start_time": "2022-01-30T08:26:03.981Z"
   },
   {
    "duration": 240,
    "start_time": "2022-01-30T08:26:04.133Z"
   },
   {
    "duration": 466,
    "start_time": "2022-01-30T08:26:04.374Z"
   },
   {
    "duration": 328,
    "start_time": "2022-01-30T08:26:04.841Z"
   },
   {
    "duration": 301,
    "start_time": "2022-01-30T08:26:05.171Z"
   },
   {
    "duration": 623,
    "start_time": "2022-01-30T08:26:05.473Z"
   },
   {
    "duration": 770,
    "start_time": "2022-01-30T08:26:06.098Z"
   },
   {
    "duration": 295,
    "start_time": "2022-01-30T08:26:06.870Z"
   },
   {
    "duration": 11,
    "start_time": "2022-01-30T08:26:07.166Z"
   },
   {
    "duration": 8,
    "start_time": "2022-01-30T08:26:07.179Z"
   },
   {
    "duration": 6,
    "start_time": "2022-01-30T08:26:07.193Z"
   },
   {
    "duration": 10,
    "start_time": "2022-01-30T08:26:07.201Z"
   },
   {
    "duration": 5,
    "start_time": "2022-01-30T08:26:07.213Z"
   },
   {
    "duration": 44,
    "start_time": "2022-01-30T08:26:07.220Z"
   },
   {
    "duration": 81,
    "start_time": "2022-01-30T08:30:24.264Z"
   },
   {
    "duration": 275,
    "start_time": "2022-01-30T18:49:48.176Z"
   },
   {
    "duration": 1191,
    "start_time": "2022-01-30T18:50:40.820Z"
   },
   {
    "duration": 48,
    "start_time": "2022-01-30T18:50:42.013Z"
   },
   {
    "duration": 50,
    "start_time": "2022-01-30T18:50:42.064Z"
   },
   {
    "duration": 7,
    "start_time": "2022-01-30T18:50:42.116Z"
   },
   {
    "duration": 38,
    "start_time": "2022-01-30T18:50:42.125Z"
   },
   {
    "duration": 17,
    "start_time": "2022-01-30T18:50:42.165Z"
   },
   {
    "duration": 9,
    "start_time": "2022-01-30T18:50:42.184Z"
   },
   {
    "duration": 7,
    "start_time": "2022-01-30T18:50:42.195Z"
   },
   {
    "duration": 19,
    "start_time": "2022-01-30T18:50:42.205Z"
   },
   {
    "duration": 50,
    "start_time": "2022-01-30T18:50:42.227Z"
   },
   {
    "duration": 23,
    "start_time": "2022-01-30T18:50:42.279Z"
   },
   {
    "duration": 22,
    "start_time": "2022-01-30T18:50:42.304Z"
   },
   {
    "duration": 52,
    "start_time": "2022-01-30T18:50:42.327Z"
   },
   {
    "duration": 504,
    "start_time": "2022-01-30T18:50:42.381Z"
   },
   {
    "duration": 9,
    "start_time": "2022-01-30T18:50:42.886Z"
   },
   {
    "duration": 20,
    "start_time": "2022-01-30T18:50:42.896Z"
   },
   {
    "duration": 14,
    "start_time": "2022-01-30T18:50:42.918Z"
   },
   {
    "duration": 5658,
    "start_time": "2022-01-30T18:50:42.934Z"
   },
   {
    "duration": 27,
    "start_time": "2022-01-30T18:50:48.593Z"
   },
   {
    "duration": 6,
    "start_time": "2022-01-30T18:50:48.621Z"
   },
   {
    "duration": 37,
    "start_time": "2022-01-30T18:50:48.628Z"
   },
   {
    "duration": 3,
    "start_time": "2022-01-30T18:50:48.667Z"
   },
   {
    "duration": 337,
    "start_time": "2022-01-30T18:50:48.672Z"
   },
   {
    "duration": 6,
    "start_time": "2022-01-30T18:50:49.011Z"
   },
   {
    "duration": 8,
    "start_time": "2022-01-30T18:50:49.019Z"
   },
   {
    "duration": 59,
    "start_time": "2022-01-30T18:50:49.028Z"
   },
   {
    "duration": 4,
    "start_time": "2022-01-30T18:50:49.091Z"
   },
   {
    "duration": 6,
    "start_time": "2022-01-30T18:50:49.097Z"
   },
   {
    "duration": 23,
    "start_time": "2022-01-30T18:50:49.104Z"
   },
   {
    "duration": 44,
    "start_time": "2022-01-30T18:50:49.129Z"
   },
   {
    "duration": 5,
    "start_time": "2022-01-30T18:50:49.174Z"
   },
   {
    "duration": 11470,
    "start_time": "2022-01-30T18:50:49.180Z"
   },
   {
    "duration": 22,
    "start_time": "2022-01-30T18:51:00.652Z"
   },
   {
    "duration": 14,
    "start_time": "2022-01-30T18:51:00.676Z"
   },
   {
    "duration": 15,
    "start_time": "2022-01-30T18:51:00.692Z"
   },
   {
    "duration": 24,
    "start_time": "2022-01-30T18:51:00.709Z"
   },
   {
    "duration": 45,
    "start_time": "2022-01-30T18:51:00.734Z"
   },
   {
    "duration": 1115,
    "start_time": "2022-01-30T18:51:00.781Z"
   },
   {
    "duration": 26,
    "start_time": "2022-01-30T18:51:01.898Z"
   },
   {
    "duration": 41,
    "start_time": "2022-01-30T18:51:01.926Z"
   },
   {
    "duration": 322,
    "start_time": "2022-01-30T18:51:01.969Z"
   },
   {
    "duration": 38,
    "start_time": "2022-01-30T18:51:02.292Z"
   },
   {
    "duration": 30,
    "start_time": "2022-01-30T18:51:02.332Z"
   },
   {
    "duration": 14,
    "start_time": "2022-01-30T18:51:02.363Z"
   },
   {
    "duration": 31,
    "start_time": "2022-01-30T18:51:02.378Z"
   },
   {
    "duration": 9,
    "start_time": "2022-01-30T18:51:02.410Z"
   },
   {
    "duration": 100,
    "start_time": "2022-01-30T18:51:02.421Z"
   },
   {
    "duration": 292,
    "start_time": "2022-01-30T18:51:02.522Z"
   },
   {
    "duration": 6,
    "start_time": "2022-01-30T18:51:02.816Z"
   },
   {
    "duration": 21,
    "start_time": "2022-01-30T18:51:02.824Z"
   },
   {
    "duration": 1438,
    "start_time": "2022-01-30T18:51:02.847Z"
   },
   {
    "duration": 21,
    "start_time": "2022-01-30T18:51:04.287Z"
   },
   {
    "duration": 411,
    "start_time": "2022-01-30T18:51:04.310Z"
   },
   {
    "duration": 832,
    "start_time": "2022-01-30T18:51:04.723Z"
   },
   {
    "duration": 8,
    "start_time": "2022-01-30T18:51:05.560Z"
   },
   {
    "duration": 1143,
    "start_time": "2022-01-30T18:51:05.569Z"
   },
   {
    "duration": 9,
    "start_time": "2022-01-30T18:51:06.713Z"
   },
   {
    "duration": 142,
    "start_time": "2022-01-30T18:51:06.724Z"
   },
   {
    "duration": 132,
    "start_time": "2022-01-30T18:51:06.867Z"
   },
   {
    "duration": 415,
    "start_time": "2022-01-30T18:51:07.001Z"
   },
   {
    "duration": 328,
    "start_time": "2022-01-30T18:51:07.417Z"
   },
   {
    "duration": 292,
    "start_time": "2022-01-30T18:51:07.747Z"
   },
   {
    "duration": 708,
    "start_time": "2022-01-30T18:51:08.041Z"
   },
   {
    "duration": 720,
    "start_time": "2022-01-30T18:51:08.751Z"
   },
   {
    "duration": 278,
    "start_time": "2022-01-30T18:51:09.473Z"
   },
   {
    "duration": 14,
    "start_time": "2022-01-30T18:51:09.752Z"
   },
   {
    "duration": 5,
    "start_time": "2022-01-30T18:51:09.767Z"
   },
   {
    "duration": 9,
    "start_time": "2022-01-30T18:51:09.773Z"
   },
   {
    "duration": 11,
    "start_time": "2022-01-30T18:51:09.784Z"
   },
   {
    "duration": 5,
    "start_time": "2022-01-30T18:51:09.796Z"
   },
   {
    "duration": 10,
    "start_time": "2022-01-30T18:51:09.802Z"
   },
   {
    "duration": 90,
    "start_time": "2022-01-30T18:52:50.142Z"
   },
   {
    "duration": 6,
    "start_time": "2022-01-30T19:00:35.481Z"
   },
   {
    "duration": 15,
    "start_time": "2022-01-30T19:01:00.688Z"
   },
   {
    "duration": 9,
    "start_time": "2022-01-30T19:01:06.438Z"
   },
   {
    "duration": 11,
    "start_time": "2022-01-30T19:02:51.312Z"
   },
   {
    "duration": 413,
    "start_time": "2022-01-30T19:03:19.769Z"
   },
   {
    "duration": 14,
    "start_time": "2022-01-30T19:05:09.625Z"
   },
   {
    "duration": 1221,
    "start_time": "2022-01-30T19:05:30.073Z"
   },
   {
    "duration": 39,
    "start_time": "2022-01-30T19:05:31.296Z"
   },
   {
    "duration": 48,
    "start_time": "2022-01-30T19:05:31.337Z"
   },
   {
    "duration": 6,
    "start_time": "2022-01-30T19:05:31.387Z"
   },
   {
    "duration": 21,
    "start_time": "2022-01-30T19:05:31.395Z"
   },
   {
    "duration": 39,
    "start_time": "2022-01-30T19:05:31.418Z"
   },
   {
    "duration": 9,
    "start_time": "2022-01-30T19:05:31.459Z"
   },
   {
    "duration": 11,
    "start_time": "2022-01-30T19:05:31.470Z"
   },
   {
    "duration": 25,
    "start_time": "2022-01-30T19:05:31.484Z"
   },
   {
    "duration": 20,
    "start_time": "2022-01-30T19:05:31.511Z"
   },
   {
    "duration": 46,
    "start_time": "2022-01-30T19:05:31.533Z"
   },
   {
    "duration": 20,
    "start_time": "2022-01-30T19:05:31.581Z"
   },
   {
    "duration": 45,
    "start_time": "2022-01-30T19:05:31.603Z"
   },
   {
    "duration": 497,
    "start_time": "2022-01-30T19:05:31.650Z"
   },
   {
    "duration": 15,
    "start_time": "2022-01-30T19:05:32.148Z"
   },
   {
    "duration": 13,
    "start_time": "2022-01-30T19:05:32.165Z"
   },
   {
    "duration": 17,
    "start_time": "2022-01-30T19:05:32.179Z"
   },
   {
    "duration": 5499,
    "start_time": "2022-01-30T19:05:32.198Z"
   },
   {
    "duration": 29,
    "start_time": "2022-01-30T19:05:37.699Z"
   },
   {
    "duration": 8,
    "start_time": "2022-01-30T19:05:37.730Z"
   },
   {
    "duration": 39,
    "start_time": "2022-01-30T19:05:37.739Z"
   },
   {
    "duration": 4,
    "start_time": "2022-01-30T19:05:37.779Z"
   },
   {
    "duration": 369,
    "start_time": "2022-01-30T19:05:37.787Z"
   },
   {
    "duration": 7,
    "start_time": "2022-01-30T19:05:38.158Z"
   },
   {
    "duration": 10,
    "start_time": "2022-01-30T19:05:38.167Z"
   },
   {
    "duration": 40,
    "start_time": "2022-01-30T19:05:38.178Z"
   },
   {
    "duration": 4,
    "start_time": "2022-01-30T19:05:38.220Z"
   },
   {
    "duration": 52,
    "start_time": "2022-01-30T19:05:38.225Z"
   },
   {
    "duration": 26,
    "start_time": "2022-01-30T19:05:38.279Z"
   },
   {
    "duration": 4,
    "start_time": "2022-01-30T19:05:38.307Z"
   },
   {
    "duration": 11460,
    "start_time": "2022-01-30T19:05:38.313Z"
   },
   {
    "duration": 17,
    "start_time": "2022-01-30T19:05:49.775Z"
   },
   {
    "duration": 14,
    "start_time": "2022-01-30T19:05:49.794Z"
   },
   {
    "duration": 18,
    "start_time": "2022-01-30T19:05:49.809Z"
   },
   {
    "duration": 51,
    "start_time": "2022-01-30T19:05:49.828Z"
   },
   {
    "duration": 18,
    "start_time": "2022-01-30T19:05:49.881Z"
   },
   {
    "duration": 1103,
    "start_time": "2022-01-30T19:05:49.901Z"
   },
   {
    "duration": 20,
    "start_time": "2022-01-30T19:05:51.006Z"
   },
   {
    "duration": 40,
    "start_time": "2022-01-30T19:05:51.028Z"
   },
   {
    "duration": 318,
    "start_time": "2022-01-30T19:05:51.070Z"
   },
   {
    "duration": 39,
    "start_time": "2022-01-30T19:05:51.390Z"
   },
   {
    "duration": 32,
    "start_time": "2022-01-30T19:05:51.430Z"
   },
   {
    "duration": 15,
    "start_time": "2022-01-30T19:05:51.463Z"
   },
   {
    "duration": 30,
    "start_time": "2022-01-30T19:05:51.480Z"
   },
   {
    "duration": 9,
    "start_time": "2022-01-30T19:05:51.512Z"
   },
   {
    "duration": 57,
    "start_time": "2022-01-30T19:05:51.523Z"
   },
   {
    "duration": 2,
    "start_time": "2022-01-30T19:05:51.583Z"
   },
   {
    "duration": 304,
    "start_time": "2022-01-30T19:05:51.588Z"
   },
   {
    "duration": 7,
    "start_time": "2022-01-30T19:05:51.894Z"
   },
   {
    "duration": 16,
    "start_time": "2022-01-30T19:05:51.903Z"
   },
   {
    "duration": 1422,
    "start_time": "2022-01-30T19:05:51.921Z"
   },
   {
    "duration": 30,
    "start_time": "2022-01-30T19:05:53.345Z"
   },
   {
    "duration": 378,
    "start_time": "2022-01-30T19:05:53.377Z"
   },
   {
    "duration": 813,
    "start_time": "2022-01-30T19:05:53.760Z"
   },
   {
    "duration": 8,
    "start_time": "2022-01-30T19:05:54.575Z"
   },
   {
    "duration": 1092,
    "start_time": "2022-01-30T19:05:54.584Z"
   },
   {
    "duration": 8,
    "start_time": "2022-01-30T19:05:55.678Z"
   },
   {
    "duration": 135,
    "start_time": "2022-01-30T19:05:55.687Z"
   },
   {
    "duration": 130,
    "start_time": "2022-01-30T19:05:55.824Z"
   },
   {
    "duration": 405,
    "start_time": "2022-01-30T19:05:55.960Z"
   },
   {
    "duration": 323,
    "start_time": "2022-01-30T19:05:56.367Z"
   },
   {
    "duration": 295,
    "start_time": "2022-01-30T19:05:56.692Z"
   },
   {
    "duration": 736,
    "start_time": "2022-01-30T19:05:56.989Z"
   },
   {
    "duration": 711,
    "start_time": "2022-01-30T19:05:57.727Z"
   },
   {
    "duration": 300,
    "start_time": "2022-01-30T19:05:58.439Z"
   },
   {
    "duration": 21,
    "start_time": "2022-01-30T19:05:58.741Z"
   },
   {
    "duration": 9,
    "start_time": "2022-01-30T19:05:58.764Z"
   },
   {
    "duration": 11,
    "start_time": "2022-01-30T19:05:58.778Z"
   },
   {
    "duration": 21,
    "start_time": "2022-01-30T19:05:58.790Z"
   },
   {
    "duration": 5,
    "start_time": "2022-01-30T19:05:58.813Z"
   },
   {
    "duration": 22,
    "start_time": "2022-01-30T19:05:58.819Z"
   },
   {
    "duration": 755,
    "start_time": "2022-01-30T19:07:35.097Z"
   },
   {
    "duration": 85,
    "start_time": "2022-01-30T19:11:11.235Z"
   },
   {
    "duration": 88,
    "start_time": "2022-01-30T19:11:22.829Z"
   },
   {
    "duration": 898,
    "start_time": "2022-01-30T19:24:42.276Z"
   },
   {
    "duration": 874,
    "start_time": "2022-01-30T19:24:53.205Z"
   },
   {
    "duration": 819,
    "start_time": "2022-01-30T19:25:01.279Z"
   },
   {
    "duration": 860,
    "start_time": "2022-01-30T19:43:32.563Z"
   },
   {
    "duration": 538,
    "start_time": "2022-01-30T19:44:01.174Z"
   },
   {
    "duration": 685,
    "start_time": "2022-01-30T19:44:34.882Z"
   },
   {
    "duration": 634,
    "start_time": "2022-01-30T19:47:23.544Z"
   },
   {
    "duration": 949,
    "start_time": "2022-01-30T19:47:55.145Z"
   },
   {
    "duration": 1110,
    "start_time": "2022-01-30T19:49:38.828Z"
   },
   {
    "duration": 1485,
    "start_time": "2022-01-30T19:50:23.427Z"
   },
   {
    "duration": 861,
    "start_time": "2022-01-30T19:50:48.348Z"
   },
   {
    "duration": 1721,
    "start_time": "2022-01-30T19:51:01.515Z"
   },
   {
    "duration": 341,
    "start_time": "2022-01-31T07:00:43.145Z"
   },
   {
    "duration": 1455,
    "start_time": "2022-01-31T07:00:58.416Z"
   },
   {
    "duration": 48,
    "start_time": "2022-01-31T07:00:59.874Z"
   },
   {
    "duration": 79,
    "start_time": "2022-01-31T07:00:59.924Z"
   },
   {
    "duration": 8,
    "start_time": "2022-01-31T07:01:00.006Z"
   },
   {
    "duration": 21,
    "start_time": "2022-01-31T07:01:00.017Z"
   },
   {
    "duration": 48,
    "start_time": "2022-01-31T07:01:00.040Z"
   },
   {
    "duration": 10,
    "start_time": "2022-01-31T07:01:00.090Z"
   },
   {
    "duration": 8,
    "start_time": "2022-01-31T07:01:00.104Z"
   },
   {
    "duration": 60,
    "start_time": "2022-01-31T07:01:00.115Z"
   },
   {
    "duration": 30,
    "start_time": "2022-01-31T07:01:00.178Z"
   },
   {
    "duration": 61,
    "start_time": "2022-01-31T07:01:00.210Z"
   },
   {
    "duration": 27,
    "start_time": "2022-01-31T07:01:00.274Z"
   },
   {
    "duration": 54,
    "start_time": "2022-01-31T07:01:00.303Z"
   },
   {
    "duration": 684,
    "start_time": "2022-01-31T07:01:00.369Z"
   },
   {
    "duration": 17,
    "start_time": "2022-01-31T07:01:01.055Z"
   },
   {
    "duration": 33,
    "start_time": "2022-01-31T07:01:01.075Z"
   },
   {
    "duration": 36,
    "start_time": "2022-01-31T07:01:01.110Z"
   },
   {
    "duration": 10308,
    "start_time": "2022-01-31T07:01:01.149Z"
   },
   {
    "duration": 50,
    "start_time": "2022-01-31T07:01:11.460Z"
   },
   {
    "duration": 11,
    "start_time": "2022-01-31T07:01:11.513Z"
   },
   {
    "duration": 60,
    "start_time": "2022-01-31T07:01:11.527Z"
   },
   {
    "duration": 7,
    "start_time": "2022-01-31T07:01:11.590Z"
   },
   {
    "duration": 589,
    "start_time": "2022-01-31T07:01:11.604Z"
   },
   {
    "duration": 9,
    "start_time": "2022-01-31T07:01:12.197Z"
   },
   {
    "duration": 11,
    "start_time": "2022-01-31T07:01:12.209Z"
   },
   {
    "duration": 93,
    "start_time": "2022-01-31T07:01:12.223Z"
   },
   {
    "duration": 6,
    "start_time": "2022-01-31T07:01:12.318Z"
   },
   {
    "duration": 56,
    "start_time": "2022-01-31T07:01:12.326Z"
   },
   {
    "duration": 48,
    "start_time": "2022-01-31T07:01:12.385Z"
   },
   {
    "duration": 34,
    "start_time": "2022-01-31T07:01:12.435Z"
   },
   {
    "duration": 20576,
    "start_time": "2022-01-31T07:01:12.472Z"
   },
   {
    "duration": 31,
    "start_time": "2022-01-31T07:01:33.051Z"
   },
   {
    "duration": 23,
    "start_time": "2022-01-31T07:01:33.085Z"
   },
   {
    "duration": 39,
    "start_time": "2022-01-31T07:01:33.110Z"
   },
   {
    "duration": 49,
    "start_time": "2022-01-31T07:01:33.151Z"
   },
   {
    "duration": 27,
    "start_time": "2022-01-31T07:01:33.202Z"
   },
   {
    "duration": 1791,
    "start_time": "2022-01-31T07:01:33.231Z"
   },
   {
    "duration": 27,
    "start_time": "2022-01-31T07:01:35.025Z"
   },
   {
    "duration": 39,
    "start_time": "2022-01-31T07:01:35.054Z"
   },
   {
    "duration": 566,
    "start_time": "2022-01-31T07:01:35.095Z"
   },
   {
    "duration": 59,
    "start_time": "2022-01-31T07:01:35.669Z"
   },
   {
    "duration": 40,
    "start_time": "2022-01-31T07:01:35.730Z"
   },
   {
    "duration": 25,
    "start_time": "2022-01-31T07:01:35.772Z"
   },
   {
    "duration": 70,
    "start_time": "2022-01-31T07:01:35.799Z"
   },
   {
    "duration": 13,
    "start_time": "2022-01-31T07:01:35.871Z"
   },
   {
    "duration": 39,
    "start_time": "2022-01-31T07:01:35.886Z"
   },
   {
    "duration": 3,
    "start_time": "2022-01-31T07:01:35.927Z"
   },
   {
    "duration": 512,
    "start_time": "2022-01-31T07:01:35.932Z"
   },
   {
    "duration": 7,
    "start_time": "2022-01-31T07:01:36.447Z"
   },
   {
    "duration": 23,
    "start_time": "2022-01-31T07:01:36.469Z"
   },
   {
    "duration": 1267,
    "start_time": "2022-01-31T07:01:36.494Z"
   },
   {
    "duration": 36,
    "start_time": "2022-01-31T07:01:37.763Z"
   },
   {
    "duration": 509,
    "start_time": "2022-01-31T07:01:37.802Z"
   },
   {
    "duration": 1222,
    "start_time": "2022-01-31T07:01:38.314Z"
   },
   {
    "duration": 30,
    "start_time": "2022-01-31T07:01:39.539Z"
   },
   {
    "duration": 1645,
    "start_time": "2022-01-31T07:01:39.571Z"
   },
   {
    "duration": 13,
    "start_time": "2022-01-31T07:01:41.218Z"
   },
   {
    "duration": 223,
    "start_time": "2022-01-31T07:01:41.233Z"
   },
   {
    "duration": 204,
    "start_time": "2022-01-31T07:01:41.459Z"
   },
   {
    "duration": 685,
    "start_time": "2022-01-31T07:01:41.665Z"
   },
   {
    "duration": 663,
    "start_time": "2022-01-31T07:01:42.353Z"
   },
   {
    "duration": 503,
    "start_time": "2022-01-31T07:01:43.018Z"
   },
   {
    "duration": 926,
    "start_time": "2022-01-31T07:01:43.524Z"
   },
   {
    "duration": 1157,
    "start_time": "2022-01-31T07:01:44.453Z"
   },
   {
    "duration": 502,
    "start_time": "2022-01-31T07:01:45.612Z"
   },
   {
    "duration": 15,
    "start_time": "2022-01-31T07:01:46.116Z"
   },
   {
    "duration": 36,
    "start_time": "2022-01-31T07:01:46.133Z"
   },
   {
    "duration": 8,
    "start_time": "2022-01-31T07:01:46.176Z"
   },
   {
    "duration": 23,
    "start_time": "2022-01-31T07:01:46.187Z"
   },
   {
    "duration": 30,
    "start_time": "2022-01-31T07:01:46.212Z"
   },
   {
    "duration": 30,
    "start_time": "2022-01-31T07:01:46.244Z"
   },
   {
    "duration": 1170,
    "start_time": "2022-01-31T07:06:43.065Z"
   },
   {
    "duration": 1518,
    "start_time": "2022-01-31T07:07:52.713Z"
   },
   {
    "duration": 1224,
    "start_time": "2022-01-31T07:09:14.369Z"
   },
   {
    "duration": 1172,
    "start_time": "2022-01-31T07:09:27.123Z"
   },
   {
    "duration": 2669,
    "start_time": "2022-01-31T07:09:36.940Z"
   },
   {
    "duration": 2644,
    "start_time": "2022-01-31T07:09:57.773Z"
   },
   {
    "duration": 2698,
    "start_time": "2022-01-31T07:10:23.346Z"
   },
   {
    "duration": 2685,
    "start_time": "2022-01-31T07:10:35.831Z"
   },
   {
    "duration": 2551,
    "start_time": "2022-01-31T07:11:05.111Z"
   },
   {
    "duration": 2875,
    "start_time": "2022-01-31T07:11:25.282Z"
   },
   {
    "duration": 2706,
    "start_time": "2022-01-31T07:12:12.299Z"
   },
   {
    "duration": 2906,
    "start_time": "2022-01-31T07:12:22.470Z"
   },
   {
    "duration": 2684,
    "start_time": "2022-01-31T07:12:31.497Z"
   },
   {
    "duration": 2717,
    "start_time": "2022-01-31T07:12:38.628Z"
   },
   {
    "duration": 500,
    "start_time": "2022-01-31T07:22:49.314Z"
   },
   {
    "duration": 496,
    "start_time": "2022-01-31T07:23:13.102Z"
   },
   {
    "duration": 1571,
    "start_time": "2022-01-31T08:16:32.308Z"
   },
   {
    "duration": 47,
    "start_time": "2022-01-31T08:16:33.882Z"
   },
   {
    "duration": 81,
    "start_time": "2022-01-31T08:16:33.932Z"
   },
   {
    "duration": 9,
    "start_time": "2022-01-31T08:16:34.016Z"
   },
   {
    "duration": 43,
    "start_time": "2022-01-31T08:16:34.027Z"
   },
   {
    "duration": 23,
    "start_time": "2022-01-31T08:16:34.073Z"
   },
   {
    "duration": 12,
    "start_time": "2022-01-31T08:16:34.098Z"
   },
   {
    "duration": 5,
    "start_time": "2022-01-31T08:16:34.114Z"
   },
   {
    "duration": 69,
    "start_time": "2022-01-31T08:16:34.122Z"
   },
   {
    "duration": 32,
    "start_time": "2022-01-31T08:16:34.194Z"
   },
   {
    "duration": 68,
    "start_time": "2022-01-31T08:16:34.229Z"
   },
   {
    "duration": 19,
    "start_time": "2022-01-31T08:16:34.300Z"
   },
   {
    "duration": 84,
    "start_time": "2022-01-31T08:16:34.322Z"
   },
   {
    "duration": 699,
    "start_time": "2022-01-31T08:16:34.409Z"
   },
   {
    "duration": 12,
    "start_time": "2022-01-31T08:16:35.110Z"
   },
   {
    "duration": 21,
    "start_time": "2022-01-31T08:16:35.125Z"
   },
   {
    "duration": 23,
    "start_time": "2022-01-31T08:16:35.170Z"
   },
   {
    "duration": 10403,
    "start_time": "2022-01-31T08:16:35.195Z"
   },
   {
    "duration": 41,
    "start_time": "2022-01-31T08:16:45.601Z"
   },
   {
    "duration": 27,
    "start_time": "2022-01-31T08:16:45.644Z"
   },
   {
    "duration": 27,
    "start_time": "2022-01-31T08:16:45.673Z"
   },
   {
    "duration": 5,
    "start_time": "2022-01-31T08:16:45.703Z"
   },
   {
    "duration": 588,
    "start_time": "2022-01-31T08:16:45.715Z"
   },
   {
    "duration": 10,
    "start_time": "2022-01-31T08:16:46.307Z"
   },
   {
    "duration": 9,
    "start_time": "2022-01-31T08:16:46.319Z"
   },
   {
    "duration": 91,
    "start_time": "2022-01-31T08:16:46.330Z"
   },
   {
    "duration": 6,
    "start_time": "2022-01-31T08:16:46.423Z"
   },
   {
    "duration": 58,
    "start_time": "2022-01-31T08:16:46.432Z"
   },
   {
    "duration": 49,
    "start_time": "2022-01-31T08:16:46.492Z"
   },
   {
    "duration": 26,
    "start_time": "2022-01-31T08:16:46.544Z"
   },
   {
    "duration": 21228,
    "start_time": "2022-01-31T08:16:46.573Z"
   },
   {
    "duration": 27,
    "start_time": "2022-01-31T08:17:07.804Z"
   },
   {
    "duration": 47,
    "start_time": "2022-01-31T08:17:07.834Z"
   },
   {
    "duration": 56,
    "start_time": "2022-01-31T08:17:07.884Z"
   },
   {
    "duration": 38,
    "start_time": "2022-01-31T08:17:07.942Z"
   },
   {
    "duration": 27,
    "start_time": "2022-01-31T08:17:07.982Z"
   },
   {
    "duration": 1962,
    "start_time": "2022-01-31T08:17:08.012Z"
   },
   {
    "duration": 29,
    "start_time": "2022-01-31T08:17:09.976Z"
   },
   {
    "duration": 28,
    "start_time": "2022-01-31T08:17:10.008Z"
   },
   {
    "duration": 590,
    "start_time": "2022-01-31T08:17:10.039Z"
   },
   {
    "duration": 74,
    "start_time": "2022-01-31T08:17:10.632Z"
   },
   {
    "duration": 22,
    "start_time": "2022-01-31T08:17:10.709Z"
   },
   {
    "duration": 42,
    "start_time": "2022-01-31T08:17:10.734Z"
   },
   {
    "duration": 50,
    "start_time": "2022-01-31T08:17:10.778Z"
   },
   {
    "duration": 43,
    "start_time": "2022-01-31T08:17:10.831Z"
   },
   {
    "duration": 40,
    "start_time": "2022-01-31T08:17:10.878Z"
   },
   {
    "duration": 4,
    "start_time": "2022-01-31T08:17:10.921Z"
   },
   {
    "duration": 529,
    "start_time": "2022-01-31T08:17:10.928Z"
   },
   {
    "duration": 16,
    "start_time": "2022-01-31T08:17:11.460Z"
   },
   {
    "duration": 24,
    "start_time": "2022-01-31T08:17:11.479Z"
   },
   {
    "duration": 5613,
    "start_time": "2022-01-31T08:17:11.505Z"
   },
   {
    "duration": 54,
    "start_time": "2022-01-31T08:17:17.121Z"
   },
   {
    "duration": 546,
    "start_time": "2022-01-31T08:17:17.178Z"
   },
   {
    "duration": 1328,
    "start_time": "2022-01-31T08:17:17.726Z"
   },
   {
    "duration": 20,
    "start_time": "2022-01-31T08:17:19.056Z"
   },
   {
    "duration": 1816,
    "start_time": "2022-01-31T08:17:19.078Z"
   },
   {
    "duration": 14,
    "start_time": "2022-01-31T08:17:20.896Z"
   },
   {
    "duration": 401,
    "start_time": "2022-01-31T08:17:20.913Z"
   },
   {
    "duration": 207,
    "start_time": "2022-01-31T08:17:21.316Z"
   },
   {
    "duration": 692,
    "start_time": "2022-01-31T08:17:21.525Z"
   },
   {
    "duration": 561,
    "start_time": "2022-01-31T08:17:22.220Z"
   },
   {
    "duration": 502,
    "start_time": "2022-01-31T08:17:22.784Z"
   },
   {
    "duration": 973,
    "start_time": "2022-01-31T08:17:23.288Z"
   },
   {
    "duration": 1150,
    "start_time": "2022-01-31T08:17:24.263Z"
   },
   {
    "duration": 500,
    "start_time": "2022-01-31T08:17:25.416Z"
   },
   {
    "duration": 15,
    "start_time": "2022-01-31T08:17:25.918Z"
   },
   {
    "duration": 7,
    "start_time": "2022-01-31T08:17:25.935Z"
   },
   {
    "duration": 8,
    "start_time": "2022-01-31T08:17:25.971Z"
   },
   {
    "duration": 15,
    "start_time": "2022-01-31T08:17:25.982Z"
   },
   {
    "duration": 10,
    "start_time": "2022-01-31T08:17:26.000Z"
   },
   {
    "duration": 61,
    "start_time": "2022-01-31T08:17:26.013Z"
   },
   {
    "duration": 5408,
    "start_time": "2022-01-31T08:18:30.878Z"
   },
   {
    "duration": 5536,
    "start_time": "2022-01-31T08:19:11.753Z"
   },
   {
    "duration": 5942,
    "start_time": "2022-01-31T08:20:15.414Z"
   },
   {
    "duration": 2833,
    "start_time": "2022-01-31T08:36:05.042Z"
   },
   {
    "duration": 5613,
    "start_time": "2022-01-31T08:37:57.063Z"
   },
   {
    "duration": 423,
    "start_time": "2022-01-31T08:39:30.205Z"
   },
   {
    "duration": 24,
    "start_time": "2022-01-31T08:39:53.392Z"
   },
   {
    "duration": 2708,
    "start_time": "2022-01-31T08:40:11.675Z"
   },
   {
    "duration": 3723,
    "start_time": "2022-01-31T08:40:36.331Z"
   },
   {
    "duration": 34,
    "start_time": "2022-01-31T08:42:03.060Z"
   },
   {
    "duration": 98,
    "start_time": "2022-01-31T08:53:23.049Z"
   },
   {
    "duration": 257,
    "start_time": "2022-01-31T08:55:59.554Z"
   },
   {
    "duration": 33,
    "start_time": "2022-01-31T08:56:07.163Z"
   },
   {
    "duration": 16,
    "start_time": "2022-01-31T08:56:29.488Z"
   },
   {
    "duration": 392,
    "start_time": "2022-01-31T08:58:36.488Z"
   },
   {
    "duration": 534,
    "start_time": "2022-01-31T08:58:41.612Z"
   },
   {
    "duration": 14,
    "start_time": "2022-01-31T08:58:52.988Z"
   },
   {
    "duration": 527,
    "start_time": "2022-01-31T09:00:33.607Z"
   },
   {
    "duration": 668,
    "start_time": "2022-01-31T09:07:02.157Z"
   },
   {
    "duration": 529,
    "start_time": "2022-01-31T09:10:15.553Z"
   },
   {
    "duration": 468,
    "start_time": "2022-01-31T09:18:01.932Z"
   },
   {
    "duration": 490,
    "start_time": "2022-01-31T09:20:25.360Z"
   },
   {
    "duration": 481,
    "start_time": "2022-01-31T09:20:39.551Z"
   },
   {
    "duration": 578,
    "start_time": "2022-01-31T09:20:54.911Z"
   },
   {
    "duration": 9,
    "start_time": "2022-01-31T09:23:01.846Z"
   },
   {
    "duration": 9,
    "start_time": "2022-01-31T09:23:37.857Z"
   },
   {
    "duration": 11,
    "start_time": "2022-01-31T09:24:05.292Z"
   },
   {
    "duration": 245,
    "start_time": "2022-01-31T09:25:18.309Z"
   },
   {
    "duration": 467,
    "start_time": "2022-01-31T09:25:36.187Z"
   },
   {
    "duration": 9,
    "start_time": "2022-01-31T09:25:49.029Z"
   },
   {
    "duration": 469,
    "start_time": "2022-01-31T09:26:17.686Z"
   },
   {
    "duration": 104,
    "start_time": "2022-01-31T09:27:56.718Z"
   },
   {
    "duration": 1654,
    "start_time": "2022-01-31T09:29:16.697Z"
   },
   {
    "duration": 94,
    "start_time": "2022-01-31T09:29:45.648Z"
   },
   {
    "duration": 554,
    "start_time": "2022-01-31T09:30:09.661Z"
   },
   {
    "duration": 294,
    "start_time": "2022-01-31T09:30:20.502Z"
   },
   {
    "duration": 189,
    "start_time": "2022-01-31T09:30:31.117Z"
   },
   {
    "duration": 305,
    "start_time": "2022-01-31T09:34:33.501Z"
   },
   {
    "duration": 531,
    "start_time": "2022-01-31T09:34:54.219Z"
   },
   {
    "duration": 285,
    "start_time": "2022-01-31T09:35:02.676Z"
   },
   {
    "duration": 299,
    "start_time": "2022-01-31T09:35:15.138Z"
   },
   {
    "duration": 302,
    "start_time": "2022-01-31T09:35:28.743Z"
   },
   {
    "duration": 192,
    "start_time": "2022-01-31T09:39:29.515Z"
   },
   {
    "duration": 331,
    "start_time": "2022-01-31T09:55:28.128Z"
   },
   {
    "duration": 1516,
    "start_time": "2022-01-31T09:55:59.354Z"
   },
   {
    "duration": 49,
    "start_time": "2022-01-31T09:56:00.872Z"
   },
   {
    "duration": 90,
    "start_time": "2022-01-31T09:56:00.924Z"
   },
   {
    "duration": 9,
    "start_time": "2022-01-31T09:56:01.017Z"
   },
   {
    "duration": 45,
    "start_time": "2022-01-31T09:56:01.029Z"
   },
   {
    "duration": 29,
    "start_time": "2022-01-31T09:56:01.076Z"
   },
   {
    "duration": 11,
    "start_time": "2022-01-31T09:56:01.107Z"
   },
   {
    "duration": 12,
    "start_time": "2022-01-31T09:56:01.120Z"
   },
   {
    "duration": 60,
    "start_time": "2022-01-31T09:56:01.136Z"
   },
   {
    "duration": 33,
    "start_time": "2022-01-31T09:56:01.199Z"
   },
   {
    "duration": 70,
    "start_time": "2022-01-31T09:56:01.234Z"
   },
   {
    "duration": 21,
    "start_time": "2022-01-31T09:56:01.307Z"
   },
   {
    "duration": 79,
    "start_time": "2022-01-31T09:56:01.330Z"
   },
   {
    "duration": 810,
    "start_time": "2022-01-31T09:56:01.412Z"
   },
   {
    "duration": 12,
    "start_time": "2022-01-31T09:56:02.224Z"
   },
   {
    "duration": 48,
    "start_time": "2022-01-31T09:56:02.239Z"
   },
   {
    "duration": 32,
    "start_time": "2022-01-31T09:56:02.289Z"
   },
   {
    "duration": 10270,
    "start_time": "2022-01-31T09:56:02.324Z"
   },
   {
    "duration": 41,
    "start_time": "2022-01-31T09:56:12.597Z"
   },
   {
    "duration": 30,
    "start_time": "2022-01-31T09:56:12.641Z"
   },
   {
    "duration": 27,
    "start_time": "2022-01-31T09:56:12.673Z"
   },
   {
    "duration": 4,
    "start_time": "2022-01-31T09:56:12.702Z"
   },
   {
    "duration": 586,
    "start_time": "2022-01-31T09:56:12.709Z"
   },
   {
    "duration": 9,
    "start_time": "2022-01-31T09:56:13.298Z"
   },
   {
    "duration": 11,
    "start_time": "2022-01-31T09:56:13.309Z"
   },
   {
    "duration": 88,
    "start_time": "2022-01-31T09:56:13.322Z"
   },
   {
    "duration": 6,
    "start_time": "2022-01-31T09:56:13.416Z"
   },
   {
    "duration": 60,
    "start_time": "2022-01-31T09:56:13.425Z"
   },
   {
    "duration": 48,
    "start_time": "2022-01-31T09:56:13.487Z"
   },
   {
    "duration": 7,
    "start_time": "2022-01-31T09:56:13.537Z"
   },
   {
    "duration": 20833,
    "start_time": "2022-01-31T09:56:13.546Z"
   },
   {
    "duration": 25,
    "start_time": "2022-01-31T09:56:34.382Z"
   },
   {
    "duration": 24,
    "start_time": "2022-01-31T09:56:34.409Z"
   },
   {
    "duration": 53,
    "start_time": "2022-01-31T09:56:34.436Z"
   },
   {
    "duration": 38,
    "start_time": "2022-01-31T09:56:34.491Z"
   },
   {
    "duration": 55,
    "start_time": "2022-01-31T09:56:34.531Z"
   },
   {
    "duration": 1841,
    "start_time": "2022-01-31T09:56:34.589Z"
   },
   {
    "duration": 37,
    "start_time": "2022-01-31T09:56:36.433Z"
   },
   {
    "duration": 29,
    "start_time": "2022-01-31T09:56:36.472Z"
   },
   {
    "duration": 591,
    "start_time": "2022-01-31T09:56:36.503Z"
   },
   {
    "duration": 73,
    "start_time": "2022-01-31T09:56:37.096Z"
   },
   {
    "duration": 24,
    "start_time": "2022-01-31T09:56:37.171Z"
   },
   {
    "duration": 22,
    "start_time": "2022-01-31T09:56:37.197Z"
   },
   {
    "duration": 81,
    "start_time": "2022-01-31T09:56:37.222Z"
   },
   {
    "duration": 13,
    "start_time": "2022-01-31T09:56:37.306Z"
   },
   {
    "duration": 68,
    "start_time": "2022-01-31T09:56:37.322Z"
   },
   {
    "duration": 3,
    "start_time": "2022-01-31T09:56:37.393Z"
   },
   {
    "duration": 577,
    "start_time": "2022-01-31T09:56:37.399Z"
   },
   {
    "duration": 10,
    "start_time": "2022-01-31T09:56:37.979Z"
   },
   {
    "duration": 43,
    "start_time": "2022-01-31T09:56:37.992Z"
   },
   {
    "duration": 4068,
    "start_time": "2022-01-31T09:56:38.038Z"
   },
   {
    "duration": 36,
    "start_time": "2022-01-31T09:56:42.108Z"
   },
   {
    "duration": 519,
    "start_time": "2022-01-31T09:56:42.146Z"
   },
   {
    "duration": 1222,
    "start_time": "2022-01-31T09:56:42.670Z"
   },
   {
    "duration": 13,
    "start_time": "2022-01-31T09:56:43.895Z"
   },
   {
    "duration": 1832,
    "start_time": "2022-01-31T09:56:43.910Z"
   },
   {
    "duration": 27,
    "start_time": "2022-01-31T09:56:45.745Z"
   },
   {
    "duration": 240,
    "start_time": "2022-01-31T09:56:45.775Z"
   },
   {
    "duration": 409,
    "start_time": "2022-01-31T09:56:46.018Z"
   },
   {
    "duration": 4709,
    "start_time": "2022-01-31T09:56:41.721Z"
   },
   {
    "duration": 4705,
    "start_time": "2022-01-31T09:56:41.726Z"
   },
   {
    "duration": 4703,
    "start_time": "2022-01-31T09:56:41.731Z"
   },
   {
    "duration": 4699,
    "start_time": "2022-01-31T09:56:41.736Z"
   },
   {
    "duration": 4697,
    "start_time": "2022-01-31T09:56:41.741Z"
   },
   {
    "duration": 4695,
    "start_time": "2022-01-31T09:56:41.745Z"
   },
   {
    "duration": 4691,
    "start_time": "2022-01-31T09:56:41.750Z"
   },
   {
    "duration": 4688,
    "start_time": "2022-01-31T09:56:41.754Z"
   },
   {
    "duration": 4684,
    "start_time": "2022-01-31T09:56:41.759Z"
   },
   {
    "duration": 4681,
    "start_time": "2022-01-31T09:56:41.764Z"
   },
   {
    "duration": 4678,
    "start_time": "2022-01-31T09:56:41.768Z"
   },
   {
    "duration": 4675,
    "start_time": "2022-01-31T09:56:41.773Z"
   },
   {
    "duration": 4672,
    "start_time": "2022-01-31T09:56:41.777Z"
   },
   {
    "duration": 291,
    "start_time": "2022-01-31T10:01:20.050Z"
   },
   {
    "duration": 296,
    "start_time": "2022-01-31T10:01:32.681Z"
   },
   {
    "duration": 292,
    "start_time": "2022-01-31T10:01:45.744Z"
   },
   {
    "duration": 293,
    "start_time": "2022-01-31T10:02:06.280Z"
   },
   {
    "duration": 33,
    "start_time": "2022-01-31T10:02:09.748Z"
   },
   {
    "duration": 4781,
    "start_time": "2022-01-31T10:02:29.881Z"
   },
   {
    "duration": 7523,
    "start_time": "2022-01-31T10:02:47.793Z"
   },
   {
    "duration": 65,
    "start_time": "2022-01-31T10:03:06.854Z"
   },
   {
    "duration": 63,
    "start_time": "2022-01-31T10:03:28.903Z"
   },
   {
    "duration": 66,
    "start_time": "2022-01-31T10:03:37.646Z"
   },
   {
    "duration": 48,
    "start_time": "2022-01-31T10:03:53.129Z"
   },
   {
    "duration": 42,
    "start_time": "2022-01-31T10:04:04.251Z"
   },
   {
    "duration": 57,
    "start_time": "2022-01-31T10:04:15.347Z"
   },
   {
    "duration": 47,
    "start_time": "2022-01-31T10:04:38.314Z"
   },
   {
    "duration": 195,
    "start_time": "2022-01-31T10:05:06.798Z"
   },
   {
    "duration": 10,
    "start_time": "2022-01-31T10:05:21.556Z"
   },
   {
    "duration": 185,
    "start_time": "2022-01-31T10:05:28.438Z"
   },
   {
    "duration": 13,
    "start_time": "2022-01-31T10:05:45.012Z"
   },
   {
    "duration": 294,
    "start_time": "2022-01-31T10:06:57.871Z"
   },
   {
    "duration": 13,
    "start_time": "2022-01-31T10:07:15.038Z"
   },
   {
    "duration": 25,
    "start_time": "2022-01-31T10:07:45.659Z"
   },
   {
    "duration": 40,
    "start_time": "2022-01-31T10:07:53.145Z"
   },
   {
    "duration": 41,
    "start_time": "2022-01-31T10:08:01.506Z"
   },
   {
    "duration": 307,
    "start_time": "2022-01-31T10:08:39.389Z"
   },
   {
    "duration": 25,
    "start_time": "2022-01-31T10:08:50.711Z"
   },
   {
    "duration": 18,
    "start_time": "2022-01-31T10:09:17.372Z"
   },
   {
    "duration": 18,
    "start_time": "2022-01-31T10:10:54.531Z"
   },
   {
    "duration": 282,
    "start_time": "2022-01-31T10:12:43.099Z"
   },
   {
    "duration": 292,
    "start_time": "2022-01-31T10:13:10.773Z"
   },
   {
    "duration": 353,
    "start_time": "2022-01-31T10:13:29.681Z"
   },
   {
    "duration": 1602,
    "start_time": "2022-01-31T10:15:00.550Z"
   },
   {
    "duration": 47,
    "start_time": "2022-01-31T10:15:02.155Z"
   },
   {
    "duration": 91,
    "start_time": "2022-01-31T10:15:02.205Z"
   },
   {
    "duration": 9,
    "start_time": "2022-01-31T10:15:02.299Z"
   },
   {
    "duration": 23,
    "start_time": "2022-01-31T10:15:02.310Z"
   },
   {
    "duration": 53,
    "start_time": "2022-01-31T10:15:02.336Z"
   },
   {
    "duration": 10,
    "start_time": "2022-01-31T10:15:02.391Z"
   },
   {
    "duration": 8,
    "start_time": "2022-01-31T10:15:02.405Z"
   },
   {
    "duration": 60,
    "start_time": "2022-01-31T10:15:02.416Z"
   },
   {
    "duration": 31,
    "start_time": "2022-01-31T10:15:02.478Z"
   },
   {
    "duration": 60,
    "start_time": "2022-01-31T10:15:02.512Z"
   },
   {
    "duration": 17,
    "start_time": "2022-01-31T10:15:02.574Z"
   },
   {
    "duration": 76,
    "start_time": "2022-01-31T10:15:02.594Z"
   },
   {
    "duration": 706,
    "start_time": "2022-01-31T10:15:02.673Z"
   },
   {
    "duration": 13,
    "start_time": "2022-01-31T10:15:03.381Z"
   },
   {
    "duration": 27,
    "start_time": "2022-01-31T10:15:03.396Z"
   },
   {
    "duration": 52,
    "start_time": "2022-01-31T10:15:03.426Z"
   },
   {
    "duration": 10399,
    "start_time": "2022-01-31T10:15:03.481Z"
   },
   {
    "duration": 41,
    "start_time": "2022-01-31T10:15:13.883Z"
   },
   {
    "duration": 9,
    "start_time": "2022-01-31T10:15:13.926Z"
   },
   {
    "duration": 55,
    "start_time": "2022-01-31T10:15:13.937Z"
   },
   {
    "duration": 4,
    "start_time": "2022-01-31T10:15:13.995Z"
   },
   {
    "duration": 603,
    "start_time": "2022-01-31T10:15:14.005Z"
   },
   {
    "duration": 10,
    "start_time": "2022-01-31T10:15:14.612Z"
   },
   {
    "duration": 13,
    "start_time": "2022-01-31T10:15:14.624Z"
   },
   {
    "duration": 87,
    "start_time": "2022-01-31T10:15:14.640Z"
   },
   {
    "duration": 6,
    "start_time": "2022-01-31T10:15:14.729Z"
   },
   {
    "duration": 56,
    "start_time": "2022-01-31T10:15:14.737Z"
   },
   {
    "duration": 49,
    "start_time": "2022-01-31T10:15:14.796Z"
   },
   {
    "duration": 7,
    "start_time": "2022-01-31T10:15:14.870Z"
   },
   {
    "duration": 20713,
    "start_time": "2022-01-31T10:15:14.879Z"
   },
   {
    "duration": 24,
    "start_time": "2022-01-31T10:15:35.594Z"
   },
   {
    "duration": 25,
    "start_time": "2022-01-31T10:15:35.621Z"
   },
   {
    "duration": 25,
    "start_time": "2022-01-31T10:15:35.669Z"
   },
   {
    "duration": 36,
    "start_time": "2022-01-31T10:15:35.696Z"
   },
   {
    "duration": 59,
    "start_time": "2022-01-31T10:15:35.734Z"
   },
   {
    "duration": 3404,
    "start_time": "2022-01-31T10:15:35.796Z"
   },
   {
    "duration": 29,
    "start_time": "2022-01-31T10:15:39.203Z"
   },
   {
    "duration": 54,
    "start_time": "2022-01-31T10:15:39.234Z"
   },
   {
    "duration": 638,
    "start_time": "2022-01-31T10:15:39.291Z"
   },
   {
    "duration": 82,
    "start_time": "2022-01-31T10:15:39.933Z"
   },
   {
    "duration": 23,
    "start_time": "2022-01-31T10:15:40.018Z"
   },
   {
    "duration": 43,
    "start_time": "2022-01-31T10:15:40.044Z"
   },
   {
    "duration": 80,
    "start_time": "2022-01-31T10:15:40.090Z"
   },
   {
    "duration": 13,
    "start_time": "2022-01-31T10:15:40.172Z"
   },
   {
    "duration": 48,
    "start_time": "2022-01-31T10:15:40.187Z"
   },
   {
    "duration": 3,
    "start_time": "2022-01-31T10:15:40.237Z"
   },
   {
    "duration": 490,
    "start_time": "2022-01-31T10:15:40.269Z"
   },
   {
    "duration": 9,
    "start_time": "2022-01-31T10:15:40.769Z"
   },
   {
    "duration": 31,
    "start_time": "2022-01-31T10:15:40.781Z"
   },
   {
    "duration": 3978,
    "start_time": "2022-01-31T10:15:40.815Z"
   },
   {
    "duration": 34,
    "start_time": "2022-01-31T10:15:44.796Z"
   },
   {
    "duration": 593,
    "start_time": "2022-01-31T10:15:44.833Z"
   },
   {
    "duration": 1423,
    "start_time": "2022-01-31T10:15:45.429Z"
   },
   {
    "duration": 21,
    "start_time": "2022-01-31T10:15:46.855Z"
   },
   {
    "duration": 1860,
    "start_time": "2022-01-31T10:15:46.879Z"
   },
   {
    "duration": 30,
    "start_time": "2022-01-31T10:15:48.741Z"
   },
   {
    "duration": 295,
    "start_time": "2022-01-31T10:15:48.774Z"
   },
   {
    "duration": 497,
    "start_time": "2022-01-31T10:15:49.073Z"
   },
   {
    "duration": 209,
    "start_time": "2022-01-31T10:15:49.573Z"
   },
   {
    "duration": 912,
    "start_time": "2022-01-31T10:15:49.785Z"
   },
   {
    "duration": 651,
    "start_time": "2022-01-31T10:15:50.700Z"
   },
   {
    "duration": 619,
    "start_time": "2022-01-31T10:15:51.354Z"
   },
   {
    "duration": 992,
    "start_time": "2022-01-31T10:15:51.976Z"
   },
   {
    "duration": 1339,
    "start_time": "2022-01-31T10:15:52.971Z"
   },
   {
    "duration": 490,
    "start_time": "2022-01-31T10:15:54.313Z"
   },
   {
    "duration": 15,
    "start_time": "2022-01-31T10:15:54.805Z"
   },
   {
    "duration": 8,
    "start_time": "2022-01-31T10:15:54.828Z"
   },
   {
    "duration": 9,
    "start_time": "2022-01-31T10:15:54.870Z"
   },
   {
    "duration": 15,
    "start_time": "2022-01-31T10:15:54.882Z"
   },
   {
    "duration": 8,
    "start_time": "2022-01-31T10:15:54.900Z"
   },
   {
    "duration": 56,
    "start_time": "2022-01-31T10:15:54.912Z"
   },
   {
    "duration": 444,
    "start_time": "2022-01-31T10:19:21.241Z"
   },
   {
    "duration": 329,
    "start_time": "2022-01-31T10:19:44.836Z"
   },
   {
    "duration": 211,
    "start_time": "2022-01-31T10:23:59.653Z"
   },
   {
    "duration": 197,
    "start_time": "2022-01-31T10:25:35.129Z"
   },
   {
    "duration": 197,
    "start_time": "2022-01-31T10:25:43.607Z"
   },
   {
    "duration": 319,
    "start_time": "2022-01-31T10:25:51.599Z"
   },
   {
    "duration": 209,
    "start_time": "2022-01-31T10:26:22.468Z"
   },
   {
    "duration": 195,
    "start_time": "2022-01-31T10:26:29.005Z"
   },
   {
    "duration": 194,
    "start_time": "2022-01-31T10:26:35.194Z"
   },
   {
    "duration": 198,
    "start_time": "2022-01-31T10:26:47.919Z"
   },
   {
    "duration": 203,
    "start_time": "2022-01-31T10:27:37.605Z"
   },
   {
    "duration": 201,
    "start_time": "2022-01-31T10:27:43.125Z"
   },
   {
    "duration": 481,
    "start_time": "2022-01-31T10:28:01.713Z"
   },
   {
    "duration": 206,
    "start_time": "2022-01-31T10:28:29.011Z"
   },
   {
    "duration": 203,
    "start_time": "2022-01-31T10:29:24.919Z"
   },
   {
    "duration": 106,
    "start_time": "2022-01-31T10:29:31.199Z"
   },
   {
    "duration": 91,
    "start_time": "2022-01-31T10:29:39.207Z"
   },
   {
    "duration": 272,
    "start_time": "2022-01-31T10:31:08.246Z"
   },
   {
    "duration": 291,
    "start_time": "2022-01-31T10:31:13.511Z"
   },
   {
    "duration": 198,
    "start_time": "2022-01-31T10:31:37.219Z"
   },
   {
    "duration": 194,
    "start_time": "2022-01-31T10:31:40.344Z"
   },
   {
    "duration": 87,
    "start_time": "2022-01-31T10:32:59.931Z"
   },
   {
    "duration": 198,
    "start_time": "2022-01-31T10:34:16.244Z"
   },
   {
    "duration": 199,
    "start_time": "2022-01-31T10:34:34.173Z"
   },
   {
    "duration": 936,
    "start_time": "2022-01-31T10:36:07.022Z"
   },
   {
    "duration": 1162,
    "start_time": "2022-01-31T10:36:31.397Z"
   },
   {
    "duration": 1654,
    "start_time": "2022-01-31T10:38:07.427Z"
   },
   {
    "duration": 1271,
    "start_time": "2022-01-31T10:38:13.782Z"
   },
   {
    "duration": 1140,
    "start_time": "2022-01-31T10:38:39.884Z"
   },
   {
    "duration": 1162,
    "start_time": "2022-01-31T10:38:50.366Z"
   },
   {
    "duration": 1742,
    "start_time": "2022-01-31T12:15:03.443Z"
   },
   {
    "duration": 1502,
    "start_time": "2022-01-31T12:15:05.188Z"
   },
   {
    "duration": 84,
    "start_time": "2022-01-31T12:15:06.692Z"
   },
   {
    "duration": 10,
    "start_time": "2022-01-31T12:15:06.779Z"
   },
   {
    "duration": 20,
    "start_time": "2022-01-31T12:15:06.792Z"
   },
   {
    "duration": 61,
    "start_time": "2022-01-31T12:15:06.814Z"
   },
   {
    "duration": 11,
    "start_time": "2022-01-31T12:15:06.877Z"
   },
   {
    "duration": 6,
    "start_time": "2022-01-31T12:15:06.892Z"
   },
   {
    "duration": 33,
    "start_time": "2022-01-31T12:15:06.900Z"
   },
   {
    "duration": 61,
    "start_time": "2022-01-31T12:15:06.936Z"
   },
   {
    "duration": 35,
    "start_time": "2022-01-31T12:15:07.000Z"
   },
   {
    "duration": 45,
    "start_time": "2022-01-31T12:15:07.038Z"
   },
   {
    "duration": 51,
    "start_time": "2022-01-31T12:15:07.085Z"
   },
   {
    "duration": 742,
    "start_time": "2022-01-31T12:15:07.139Z"
   },
   {
    "duration": 15,
    "start_time": "2022-01-31T12:15:07.884Z"
   },
   {
    "duration": 23,
    "start_time": "2022-01-31T12:15:07.902Z"
   },
   {
    "duration": 59,
    "start_time": "2022-01-31T12:15:07.928Z"
   },
   {
    "duration": 10373,
    "start_time": "2022-01-31T12:15:07.989Z"
   },
   {
    "duration": 49,
    "start_time": "2022-01-31T12:15:18.364Z"
   },
   {
    "duration": 9,
    "start_time": "2022-01-31T12:15:18.416Z"
   },
   {
    "duration": 41,
    "start_time": "2022-01-31T12:15:18.428Z"
   },
   {
    "duration": 4,
    "start_time": "2022-01-31T12:15:18.472Z"
   },
   {
    "duration": 567,
    "start_time": "2022-01-31T12:15:18.482Z"
   },
   {
    "duration": 10,
    "start_time": "2022-01-31T12:15:19.052Z"
   },
   {
    "duration": 9,
    "start_time": "2022-01-31T12:15:19.068Z"
   },
   {
    "duration": 60,
    "start_time": "2022-01-31T12:15:19.080Z"
   },
   {
    "duration": 7,
    "start_time": "2022-01-31T12:15:19.143Z"
   },
   {
    "duration": 38,
    "start_time": "2022-01-31T12:15:19.152Z"
   },
   {
    "duration": 48,
    "start_time": "2022-01-31T12:15:19.193Z"
   },
   {
    "duration": 6,
    "start_time": "2022-01-31T12:15:19.244Z"
   },
   {
    "duration": 21002,
    "start_time": "2022-01-31T12:15:19.252Z"
   },
   {
    "duration": 29,
    "start_time": "2022-01-31T12:15:40.257Z"
   },
   {
    "duration": 23,
    "start_time": "2022-01-31T12:15:40.288Z"
   },
   {
    "duration": 55,
    "start_time": "2022-01-31T12:15:40.314Z"
   },
   {
    "duration": 37,
    "start_time": "2022-01-31T12:15:40.372Z"
   },
   {
    "duration": 27,
    "start_time": "2022-01-31T12:15:40.411Z"
   },
   {
    "duration": 1787,
    "start_time": "2022-01-31T12:15:40.440Z"
   },
   {
    "duration": 27,
    "start_time": "2022-01-31T12:15:42.229Z"
   },
   {
    "duration": 28,
    "start_time": "2022-01-31T12:15:42.270Z"
   },
   {
    "duration": 575,
    "start_time": "2022-01-31T12:15:42.300Z"
   },
   {
    "duration": 63,
    "start_time": "2022-01-31T12:15:42.877Z"
   },
   {
    "duration": 44,
    "start_time": "2022-01-31T12:15:42.942Z"
   },
   {
    "duration": 21,
    "start_time": "2022-01-31T12:15:42.988Z"
   },
   {
    "duration": 80,
    "start_time": "2022-01-31T12:15:43.012Z"
   },
   {
    "duration": 15,
    "start_time": "2022-01-31T12:15:43.095Z"
   },
   {
    "duration": 74,
    "start_time": "2022-01-31T12:15:43.113Z"
   },
   {
    "duration": 2,
    "start_time": "2022-01-31T12:15:43.190Z"
   },
   {
    "duration": 506,
    "start_time": "2022-01-31T12:15:43.195Z"
   },
   {
    "duration": 7,
    "start_time": "2022-01-31T12:15:43.704Z"
   },
   {
    "duration": 25,
    "start_time": "2022-01-31T12:15:43.713Z"
   },
   {
    "duration": 3848,
    "start_time": "2022-01-31T12:15:43.741Z"
   },
   {
    "duration": 36,
    "start_time": "2022-01-31T12:15:47.591Z"
   },
   {
    "duration": 507,
    "start_time": "2022-01-31T12:15:47.630Z"
   },
   {
    "duration": 1243,
    "start_time": "2022-01-31T12:15:48.139Z"
   },
   {
    "duration": 12,
    "start_time": "2022-01-31T12:15:49.384Z"
   },
   {
    "duration": 1740,
    "start_time": "2022-01-31T12:15:49.399Z"
   },
   {
    "duration": 32,
    "start_time": "2022-01-31T12:15:51.141Z"
   },
   {
    "duration": 211,
    "start_time": "2022-01-31T12:15:51.175Z"
   },
   {
    "duration": 224,
    "start_time": "2022-01-31T12:15:51.388Z"
   },
   {
    "duration": 721,
    "start_time": "2022-01-31T12:15:51.615Z"
   },
   {
    "duration": 694,
    "start_time": "2022-01-31T12:15:52.339Z"
   },
   {
    "duration": 513,
    "start_time": "2022-01-31T12:15:53.035Z"
   },
   {
    "duration": 1005,
    "start_time": "2022-01-31T12:15:53.550Z"
   },
   {
    "duration": 1156,
    "start_time": "2022-01-31T12:15:54.558Z"
   },
   {
    "duration": 498,
    "start_time": "2022-01-31T12:15:55.717Z"
   },
   {
    "duration": 17,
    "start_time": "2022-01-31T12:15:56.217Z"
   },
   {
    "duration": 9,
    "start_time": "2022-01-31T12:15:56.236Z"
   },
   {
    "duration": 8,
    "start_time": "2022-01-31T12:15:56.274Z"
   },
   {
    "duration": 13,
    "start_time": "2022-01-31T12:15:56.285Z"
   },
   {
    "duration": 10,
    "start_time": "2022-01-31T12:15:56.300Z"
   },
   {
    "duration": 8,
    "start_time": "2022-01-31T12:15:56.312Z"
   },
   {
    "duration": 1242,
    "start_time": "2022-01-31T12:16:14.187Z"
   },
   {
    "duration": 851,
    "start_time": "2022-01-31T12:16:51.347Z"
   },
   {
    "duration": 1327,
    "start_time": "2022-01-31T12:16:56.587Z"
   },
   {
    "duration": 1262,
    "start_time": "2022-01-31T12:20:13.576Z"
   },
   {
    "duration": 1333,
    "start_time": "2022-01-31T12:20:39.192Z"
   },
   {
    "duration": 1080,
    "start_time": "2022-01-31T12:21:02.649Z"
   },
   {
    "duration": 1055,
    "start_time": "2022-01-31T12:21:20.053Z"
   },
   {
    "duration": 1291,
    "start_time": "2022-01-31T12:21:31.872Z"
   },
   {
    "duration": 1153,
    "start_time": "2022-01-31T12:22:36.570Z"
   },
   {
    "duration": 1175,
    "start_time": "2022-01-31T12:24:00.172Z"
   },
   {
    "duration": 958,
    "start_time": "2022-01-31T12:25:55.777Z"
   },
   {
    "duration": 1150,
    "start_time": "2022-01-31T12:26:10.944Z"
   },
   {
    "duration": 660,
    "start_time": "2022-01-31T12:27:17.576Z"
   },
   {
    "duration": 1324,
    "start_time": "2022-01-31T12:27:36.156Z"
   },
   {
    "duration": 1190,
    "start_time": "2022-01-31T12:27:49.283Z"
   },
   {
    "duration": 668,
    "start_time": "2022-01-31T12:28:03.831Z"
   },
   {
    "duration": 773,
    "start_time": "2022-01-31T12:28:27.281Z"
   },
   {
    "duration": 769,
    "start_time": "2022-01-31T12:28:58.511Z"
   },
   {
    "duration": 673,
    "start_time": "2022-01-31T12:29:10.941Z"
   },
   {
    "duration": 675,
    "start_time": "2022-01-31T12:29:25.763Z"
   },
   {
    "duration": 679,
    "start_time": "2022-01-31T12:29:36.743Z"
   },
   {
    "duration": 678,
    "start_time": "2022-01-31T12:29:40.594Z"
   },
   {
    "duration": 745,
    "start_time": "2022-01-31T12:29:59.685Z"
   },
   {
    "duration": 690,
    "start_time": "2022-01-31T12:37:42.749Z"
   },
   {
    "duration": 678,
    "start_time": "2022-01-31T12:37:54.747Z"
   },
   {
    "duration": 644,
    "start_time": "2022-01-31T12:38:12.582Z"
   },
   {
    "duration": 643,
    "start_time": "2022-01-31T12:38:28.432Z"
   },
   {
    "duration": 99,
    "start_time": "2022-01-31T12:40:40.602Z"
   },
   {
    "duration": 143,
    "start_time": "2022-01-31T12:40:50.590Z"
   },
   {
    "duration": 776,
    "start_time": "2022-01-31T12:40:55.127Z"
   },
   {
    "duration": 657,
    "start_time": "2022-01-31T12:41:04.748Z"
   },
   {
    "duration": 1112,
    "start_time": "2022-01-31T12:41:26.409Z"
   },
   {
    "duration": 1135,
    "start_time": "2022-01-31T12:41:44.342Z"
   },
   {
    "duration": 1213,
    "start_time": "2022-01-31T12:41:53.072Z"
   },
   {
    "duration": 1141,
    "start_time": "2022-01-31T12:42:00.729Z"
   },
   {
    "duration": 1120,
    "start_time": "2022-01-31T12:42:12.963Z"
   },
   {
    "duration": 1061,
    "start_time": "2022-01-31T12:42:20.505Z"
   },
   {
    "duration": 1236,
    "start_time": "2022-01-31T12:42:26.551Z"
   },
   {
    "duration": 1154,
    "start_time": "2022-01-31T12:42:59.183Z"
   },
   {
    "duration": 1151,
    "start_time": "2022-01-31T12:43:10.545Z"
   },
   {
    "duration": 1246,
    "start_time": "2022-01-31T12:47:24.460Z"
   },
   {
    "duration": 1114,
    "start_time": "2022-01-31T12:47:31.820Z"
   },
   {
    "duration": 1316,
    "start_time": "2022-01-31T13:00:46.911Z"
   },
   {
    "duration": 942,
    "start_time": "2022-01-31T13:00:53.812Z"
   },
   {
    "duration": 96,
    "start_time": "2022-01-31T13:01:05.782Z"
   },
   {
    "duration": 1144,
    "start_time": "2022-01-31T13:01:54.647Z"
   },
   {
    "duration": 1556,
    "start_time": "2022-01-31T13:02:11.396Z"
   },
   {
    "duration": 1155,
    "start_time": "2022-01-31T13:02:35.333Z"
   },
   {
    "duration": 1022,
    "start_time": "2022-01-31T13:02:42.841Z"
   },
   {
    "duration": 991,
    "start_time": "2022-01-31T13:03:18.837Z"
   },
   {
    "duration": 1300,
    "start_time": "2022-01-31T13:03:26.736Z"
   },
   {
    "duration": 1254,
    "start_time": "2022-01-31T13:08:29.719Z"
   },
   {
    "duration": 1542,
    "start_time": "2022-01-31T13:08:41.697Z"
   },
   {
    "duration": 1070,
    "start_time": "2022-01-31T13:08:48.282Z"
   },
   {
    "duration": 1021,
    "start_time": "2022-01-31T13:09:36.720Z"
   },
   {
    "duration": 1058,
    "start_time": "2022-01-31T13:09:41.037Z"
   },
   {
    "duration": 2238,
    "start_time": "2022-01-31T13:10:43.431Z"
   },
   {
    "duration": 2433,
    "start_time": "2022-01-31T13:10:51.536Z"
   },
   {
    "duration": 1050,
    "start_time": "2022-01-31T13:11:02.003Z"
   },
   {
    "duration": 1387,
    "start_time": "2022-01-31T13:12:28.275Z"
   },
   {
    "duration": 1206,
    "start_time": "2022-01-31T13:12:56.136Z"
   },
   {
    "duration": 1020,
    "start_time": "2022-01-31T13:14:43.124Z"
   },
   {
    "duration": 1137,
    "start_time": "2022-01-31T13:14:49.320Z"
   },
   {
    "duration": 1083,
    "start_time": "2022-01-31T13:14:56.744Z"
   },
   {
    "duration": 1045,
    "start_time": "2022-01-31T13:15:01.901Z"
   },
   {
    "duration": 1136,
    "start_time": "2022-01-31T13:15:22.195Z"
   },
   {
    "duration": 1059,
    "start_time": "2022-01-31T13:15:28.755Z"
   },
   {
    "duration": 1047,
    "start_time": "2022-01-31T13:16:45.614Z"
   },
   {
    "duration": 182,
    "start_time": "2022-01-31T13:17:05.204Z"
   },
   {
    "duration": 1165,
    "start_time": "2022-01-31T13:17:09.297Z"
   },
   {
    "duration": 1218,
    "start_time": "2022-01-31T13:20:26.079Z"
   },
   {
    "duration": 1220,
    "start_time": "2022-01-31T13:20:29.220Z"
   },
   {
    "duration": 1054,
    "start_time": "2022-01-31T13:22:38.000Z"
   },
   {
    "duration": 1106,
    "start_time": "2022-01-31T13:24:37.410Z"
   },
   {
    "duration": 1253,
    "start_time": "2022-01-31T13:24:47.755Z"
   },
   {
    "duration": 668,
    "start_time": "2022-01-31T13:25:23.497Z"
   },
   {
    "duration": 670,
    "start_time": "2022-01-31T13:25:29.546Z"
   },
   {
    "duration": 98,
    "start_time": "2022-01-31T13:28:49.022Z"
   },
   {
    "duration": 190,
    "start_time": "2022-01-31T13:30:02.977Z"
   },
   {
    "duration": 203,
    "start_time": "2022-01-31T13:30:22.534Z"
   },
   {
    "duration": 10,
    "start_time": "2022-01-31T13:34:22.101Z"
   },
   {
    "duration": 32,
    "start_time": "2022-01-31T13:34:52.341Z"
   },
   {
    "duration": 95,
    "start_time": "2022-01-31T13:35:46.473Z"
   },
   {
    "duration": 299,
    "start_time": "2022-01-31T13:35:57.202Z"
   },
   {
    "duration": 13,
    "start_time": "2022-01-31T13:36:03.172Z"
   },
   {
    "duration": 20,
    "start_time": "2022-01-31T13:37:57.060Z"
   },
   {
    "duration": 32,
    "start_time": "2022-01-31T13:39:27.872Z"
   },
   {
    "duration": 36,
    "start_time": "2022-01-31T13:40:53.937Z"
   },
   {
    "duration": 36,
    "start_time": "2022-01-31T13:42:21.516Z"
   },
   {
    "duration": 40,
    "start_time": "2022-01-31T13:42:38.446Z"
   },
   {
    "duration": 448,
    "start_time": "2022-01-31T13:46:25.729Z"
   },
   {
    "duration": 461,
    "start_time": "2022-01-31T13:47:51.426Z"
   },
   {
    "duration": 22,
    "start_time": "2022-01-31T13:48:07.970Z"
   },
   {
    "duration": 23,
    "start_time": "2022-01-31T13:54:42.000Z"
   },
   {
    "duration": 272,
    "start_time": "2022-01-31T13:54:54.033Z"
   },
   {
    "duration": 21,
    "start_time": "2022-01-31T13:55:00.691Z"
   },
   {
    "duration": 616,
    "start_time": "2022-01-31T13:59:44.634Z"
   },
   {
    "duration": 88,
    "start_time": "2022-01-31T14:00:12.767Z"
   },
   {
    "duration": 11,
    "start_time": "2022-01-31T14:00:23.364Z"
   },
   {
    "duration": 103,
    "start_time": "2022-01-31T14:01:12.836Z"
   },
   {
    "duration": 7115,
    "start_time": "2022-01-31T14:01:20.079Z"
   },
   {
    "duration": 7144,
    "start_time": "2022-01-31T14:01:37.181Z"
   },
   {
    "duration": 20,
    "start_time": "2022-01-31T14:02:15.892Z"
   },
   {
    "duration": 91,
    "start_time": "2022-01-31T14:03:24.001Z"
   },
   {
    "duration": 21,
    "start_time": "2022-01-31T14:03:27.930Z"
   },
   {
    "duration": 24,
    "start_time": "2022-01-31T14:03:57.481Z"
   },
   {
    "duration": 20,
    "start_time": "2022-01-31T14:14:45.830Z"
   },
   {
    "duration": 23,
    "start_time": "2022-01-31T14:15:00.504Z"
   },
   {
    "duration": 43,
    "start_time": "2022-01-31T14:17:11.948Z"
   },
   {
    "duration": 44,
    "start_time": "2022-01-31T14:17:25.679Z"
   },
   {
    "duration": 43,
    "start_time": "2022-01-31T14:25:26.575Z"
   },
   {
    "duration": 312,
    "start_time": "2022-01-31T14:27:51.391Z"
   },
   {
    "duration": 535,
    "start_time": "2022-01-31T14:28:07.334Z"
   },
   {
    "duration": 511,
    "start_time": "2022-01-31T14:28:46.944Z"
   },
   {
    "duration": 581,
    "start_time": "2022-01-31T14:41:11.598Z"
   },
   {
    "duration": 526,
    "start_time": "2022-01-31T14:41:22.423Z"
   },
   {
    "duration": 352,
    "start_time": "2022-01-31T14:44:03.972Z"
   },
   {
    "duration": 617,
    "start_time": "2022-01-31T14:44:30.031Z"
   },
   {
    "duration": 924,
    "start_time": "2022-01-31T14:45:43.447Z"
   },
   {
    "duration": 44,
    "start_time": "2022-01-31T14:46:13.992Z"
   },
   {
    "duration": 43,
    "start_time": "2022-01-31T14:46:24.820Z"
   },
   {
    "duration": 36,
    "start_time": "2022-01-31T14:46:31.398Z"
   },
   {
    "duration": 42,
    "start_time": "2022-01-31T14:46:36.522Z"
   },
   {
    "duration": 518,
    "start_time": "2022-01-31T14:47:12.324Z"
   },
   {
    "duration": 850,
    "start_time": "2022-01-31T14:47:58.638Z"
   },
   {
    "duration": 2836,
    "start_time": "2022-01-31T14:48:09.693Z"
   },
   {
    "duration": 506,
    "start_time": "2022-01-31T14:48:28.266Z"
   },
   {
    "duration": 338,
    "start_time": "2022-01-31T14:49:43.888Z"
   },
   {
    "duration": 514,
    "start_time": "2022-01-31T14:49:48.506Z"
   },
   {
    "duration": 898,
    "start_time": "2022-01-31T14:50:19.088Z"
   },
   {
    "duration": 936,
    "start_time": "2022-01-31T14:51:04.149Z"
   },
   {
    "duration": 815,
    "start_time": "2022-01-31T14:51:13.259Z"
   },
   {
    "duration": 517,
    "start_time": "2022-01-31T14:51:25.370Z"
   },
   {
    "duration": 538,
    "start_time": "2022-01-31T14:52:34.993Z"
   },
   {
    "duration": 534,
    "start_time": "2022-01-31T14:52:45.843Z"
   },
   {
    "duration": 542,
    "start_time": "2022-01-31T14:53:10.509Z"
   },
   {
    "duration": 758,
    "start_time": "2022-01-31T14:54:20.897Z"
   },
   {
    "duration": 930,
    "start_time": "2022-01-31T14:54:59.273Z"
   },
   {
    "duration": 665,
    "start_time": "2022-01-31T14:55:14.464Z"
   },
   {
    "duration": 719,
    "start_time": "2022-01-31T14:55:17.237Z"
   },
   {
    "duration": 612,
    "start_time": "2022-01-31T14:55:47.203Z"
   },
   {
    "duration": 608,
    "start_time": "2022-01-31T14:56:31.534Z"
   },
   {
    "duration": 913,
    "start_time": "2022-01-31T14:56:46.628Z"
   },
   {
    "duration": 619,
    "start_time": "2022-01-31T14:57:17.326Z"
   },
   {
    "duration": 609,
    "start_time": "2022-01-31T14:57:41.420Z"
   },
   {
    "duration": 759,
    "start_time": "2022-01-31T14:58:33.451Z"
   },
   {
    "duration": 587,
    "start_time": "2022-01-31T14:58:47.127Z"
   },
   {
    "duration": 576,
    "start_time": "2022-01-31T14:59:33.932Z"
   },
   {
    "duration": 582,
    "start_time": "2022-01-31T14:59:37.935Z"
   },
   {
    "duration": 974,
    "start_time": "2022-01-31T15:00:24.014Z"
   },
   {
    "duration": 935,
    "start_time": "2022-01-31T15:00:30.207Z"
   },
   {
    "duration": 608,
    "start_time": "2022-01-31T15:02:57.585Z"
   },
   {
    "duration": 603,
    "start_time": "2022-01-31T15:03:23.041Z"
   },
   {
    "duration": 756,
    "start_time": "2022-01-31T15:03:47.213Z"
   },
   {
    "duration": 605,
    "start_time": "2022-01-31T15:03:57.642Z"
   },
   {
    "duration": 546,
    "start_time": "2022-01-31T15:05:47.859Z"
   },
   {
    "duration": 584,
    "start_time": "2022-01-31T15:06:09.196Z"
   },
   {
    "duration": 774,
    "start_time": "2022-01-31T15:06:22.146Z"
   },
   {
    "duration": 887,
    "start_time": "2022-01-31T15:06:58.778Z"
   },
   {
    "duration": 891,
    "start_time": "2022-01-31T15:07:08.298Z"
   },
   {
    "duration": 757,
    "start_time": "2022-01-31T15:08:03.638Z"
   },
   {
    "duration": 911,
    "start_time": "2022-01-31T15:10:02.216Z"
   },
   {
    "duration": 1028,
    "start_time": "2022-01-31T15:10:07.423Z"
   },
   {
    "duration": 589,
    "start_time": "2022-01-31T15:10:15.974Z"
   },
   {
    "duration": 580,
    "start_time": "2022-01-31T15:10:25.966Z"
   },
   {
    "duration": 586,
    "start_time": "2022-01-31T15:10:29.861Z"
   },
   {
    "duration": 744,
    "start_time": "2022-01-31T15:10:40.082Z"
   },
   {
    "duration": 724,
    "start_time": "2022-01-31T15:10:43.788Z"
   },
   {
    "duration": 581,
    "start_time": "2022-01-31T15:10:50.010Z"
   },
   {
    "duration": 577,
    "start_time": "2022-01-31T15:10:54.264Z"
   },
   {
    "duration": 606,
    "start_time": "2022-01-31T15:10:59.180Z"
   },
   {
    "duration": 730,
    "start_time": "2022-01-31T15:12:02.472Z"
   },
   {
    "duration": 607,
    "start_time": "2022-01-31T15:12:50.634Z"
   },
   {
    "duration": 689,
    "start_time": "2022-01-31T15:14:19.975Z"
   },
   {
    "duration": 1100,
    "start_time": "2022-01-31T15:16:48.698Z"
   },
   {
    "duration": 898,
    "start_time": "2022-01-31T15:16:52.883Z"
   },
   {
    "duration": 922,
    "start_time": "2022-01-31T15:16:56.825Z"
   },
   {
    "duration": 729,
    "start_time": "2022-01-31T15:17:02.404Z"
   },
   {
    "duration": 639,
    "start_time": "2022-01-31T15:17:40.637Z"
   },
   {
    "duration": 733,
    "start_time": "2022-01-31T15:17:54.866Z"
   },
   {
    "duration": 936,
    "start_time": "2022-01-31T15:18:21.955Z"
   },
   {
    "duration": 791,
    "start_time": "2022-01-31T15:18:25.993Z"
   },
   {
    "duration": 751,
    "start_time": "2022-01-31T15:19:29.244Z"
   },
   {
    "duration": 711,
    "start_time": "2022-01-31T15:19:59.015Z"
   },
   {
    "duration": 644,
    "start_time": "2022-01-31T15:20:15.166Z"
   },
   {
    "duration": 636,
    "start_time": "2022-01-31T15:20:21.053Z"
   },
   {
    "duration": 653,
    "start_time": "2022-01-31T15:24:14.822Z"
   },
   {
    "duration": 690,
    "start_time": "2022-01-31T15:24:55.336Z"
   },
   {
    "duration": 732,
    "start_time": "2022-01-31T15:25:21.997Z"
   },
   {
    "duration": 930,
    "start_time": "2022-01-31T15:34:58.720Z"
   },
   {
    "duration": 14,
    "start_time": "2022-01-31T15:35:11.521Z"
   },
   {
    "duration": 685,
    "start_time": "2022-01-31T15:35:34.709Z"
   },
   {
    "duration": 13,
    "start_time": "2022-01-31T15:35:40.034Z"
   },
   {
    "duration": 715,
    "start_time": "2022-01-31T15:36:14.760Z"
   },
   {
    "duration": 53,
    "start_time": "2022-01-31T15:36:43.604Z"
   },
   {
    "duration": 668,
    "start_time": "2022-01-31T15:37:02.341Z"
   },
   {
    "duration": 676,
    "start_time": "2022-01-31T15:38:21.496Z"
   },
   {
    "duration": 329,
    "start_time": "2022-01-31T15:38:33.281Z"
   },
   {
    "duration": 1128,
    "start_time": "2022-01-31T15:39:02.226Z"
   },
   {
    "duration": 47,
    "start_time": "2022-01-31T15:39:22.622Z"
   },
   {
    "duration": 47,
    "start_time": "2022-01-31T15:39:29.078Z"
   },
   {
    "duration": 55,
    "start_time": "2022-01-31T15:39:35.365Z"
   },
   {
    "duration": 323,
    "start_time": "2022-01-31T18:03:30.115Z"
   },
   {
    "duration": 2569,
    "start_time": "2022-01-31T18:04:08.763Z"
   },
   {
    "duration": 46,
    "start_time": "2022-01-31T18:04:11.335Z"
   },
   {
    "duration": 87,
    "start_time": "2022-01-31T18:04:11.384Z"
   },
   {
    "duration": 8,
    "start_time": "2022-01-31T18:04:11.474Z"
   },
   {
    "duration": 23,
    "start_time": "2022-01-31T18:04:11.484Z"
   },
   {
    "duration": 39,
    "start_time": "2022-01-31T18:04:11.533Z"
   },
   {
    "duration": 10,
    "start_time": "2022-01-31T18:04:11.574Z"
   },
   {
    "duration": 7,
    "start_time": "2022-01-31T18:04:11.589Z"
   },
   {
    "duration": 66,
    "start_time": "2022-01-31T18:04:11.599Z"
   },
   {
    "duration": 31,
    "start_time": "2022-01-31T18:04:11.668Z"
   },
   {
    "duration": 79,
    "start_time": "2022-01-31T18:04:11.702Z"
   },
   {
    "duration": 25,
    "start_time": "2022-01-31T18:04:11.783Z"
   },
   {
    "duration": 84,
    "start_time": "2022-01-31T18:04:11.810Z"
   },
   {
    "duration": 1189,
    "start_time": "2022-01-31T18:04:11.897Z"
   },
   {
    "duration": 12,
    "start_time": "2022-01-31T18:04:13.089Z"
   },
   {
    "duration": 45,
    "start_time": "2022-01-31T18:04:13.104Z"
   },
   {
    "duration": 25,
    "start_time": "2022-01-31T18:04:13.152Z"
   },
   {
    "duration": 11322,
    "start_time": "2022-01-31T18:04:13.180Z"
   },
   {
    "duration": 56,
    "start_time": "2022-01-31T18:04:24.505Z"
   },
   {
    "duration": 10,
    "start_time": "2022-01-31T18:04:24.564Z"
   },
   {
    "duration": 30,
    "start_time": "2022-01-31T18:04:24.576Z"
   },
   {
    "duration": 26,
    "start_time": "2022-01-31T18:04:24.608Z"
   },
   {
    "duration": 562,
    "start_time": "2022-01-31T18:04:24.641Z"
   },
   {
    "duration": 10,
    "start_time": "2022-01-31T18:04:25.207Z"
   },
   {
    "duration": 10,
    "start_time": "2022-01-31T18:04:25.233Z"
   },
   {
    "duration": 111,
    "start_time": "2022-01-31T18:04:25.245Z"
   },
   {
    "duration": 6,
    "start_time": "2022-01-31T18:04:25.359Z"
   },
   {
    "duration": 41,
    "start_time": "2022-01-31T18:04:25.368Z"
   },
   {
    "duration": 69,
    "start_time": "2022-01-31T18:04:25.412Z"
   },
   {
    "duration": 8,
    "start_time": "2022-01-31T18:04:25.484Z"
   },
   {
    "duration": 25422,
    "start_time": "2022-01-31T18:04:25.495Z"
   },
   {
    "duration": 34,
    "start_time": "2022-01-31T18:04:50.920Z"
   },
   {
    "duration": 31,
    "start_time": "2022-01-31T18:04:50.957Z"
   },
   {
    "duration": 67,
    "start_time": "2022-01-31T18:04:50.991Z"
   },
   {
    "duration": 38,
    "start_time": "2022-01-31T18:04:51.061Z"
   },
   {
    "duration": 50,
    "start_time": "2022-01-31T18:04:51.102Z"
   },
   {
    "duration": 2422,
    "start_time": "2022-01-31T18:04:51.155Z"
   },
   {
    "duration": 54,
    "start_time": "2022-01-31T18:04:53.580Z"
   },
   {
    "duration": 33,
    "start_time": "2022-01-31T18:04:53.637Z"
   },
   {
    "duration": 609,
    "start_time": "2022-01-31T18:04:53.673Z"
   },
   {
    "duration": 83,
    "start_time": "2022-01-31T18:04:54.285Z"
   },
   {
    "duration": 29,
    "start_time": "2022-01-31T18:04:54.370Z"
   },
   {
    "duration": 52,
    "start_time": "2022-01-31T18:04:54.402Z"
   },
   {
    "duration": 51,
    "start_time": "2022-01-31T18:04:54.457Z"
   },
   {
    "duration": 14,
    "start_time": "2022-01-31T18:04:54.532Z"
   },
   {
    "duration": 49,
    "start_time": "2022-01-31T18:04:54.549Z"
   },
   {
    "duration": 31,
    "start_time": "2022-01-31T18:04:54.601Z"
   },
   {
    "duration": 494,
    "start_time": "2022-01-31T18:04:54.638Z"
   },
   {
    "duration": 10,
    "start_time": "2022-01-31T18:04:55.134Z"
   },
   {
    "duration": 55,
    "start_time": "2022-01-31T18:04:55.147Z"
   },
   {
    "duration": 4400,
    "start_time": "2022-01-31T18:04:55.204Z"
   },
   {
    "duration": 62,
    "start_time": "2022-01-31T18:04:59.607Z"
   },
   {
    "duration": 618,
    "start_time": "2022-01-31T18:04:59.672Z"
   },
   {
    "duration": 1685,
    "start_time": "2022-01-31T18:05:00.293Z"
   },
   {
    "duration": 13,
    "start_time": "2022-01-31T18:05:01.981Z"
   },
   {
    "duration": 1727,
    "start_time": "2022-01-31T18:05:01.997Z"
   },
   {
    "duration": 14,
    "start_time": "2022-01-31T18:05:03.727Z"
   },
   {
    "duration": 233,
    "start_time": "2022-01-31T18:05:03.745Z"
   },
   {
    "duration": 222,
    "start_time": "2022-01-31T18:05:03.981Z"
   },
   {
    "duration": 736,
    "start_time": "2022-01-31T18:05:04.205Z"
   },
   {
    "duration": 711,
    "start_time": "2022-01-31T18:05:04.943Z"
   },
   {
    "duration": 587,
    "start_time": "2022-01-31T18:05:05.657Z"
   },
   {
    "duration": 1980,
    "start_time": "2022-01-31T18:05:04.266Z"
   },
   {
    "duration": 1975,
    "start_time": "2022-01-31T18:05:04.273Z"
   },
   {
    "duration": 1966,
    "start_time": "2022-01-31T18:05:04.284Z"
   },
   {
    "duration": 1963,
    "start_time": "2022-01-31T18:05:04.289Z"
   },
   {
    "duration": 1960,
    "start_time": "2022-01-31T18:05:04.293Z"
   },
   {
    "duration": 1957,
    "start_time": "2022-01-31T18:05:04.297Z"
   },
   {
    "duration": 1954,
    "start_time": "2022-01-31T18:05:04.301Z"
   },
   {
    "duration": 1951,
    "start_time": "2022-01-31T18:05:04.305Z"
   },
   {
    "duration": 1948,
    "start_time": "2022-01-31T18:05:04.309Z"
   },
   {
    "duration": 1945,
    "start_time": "2022-01-31T18:05:04.313Z"
   },
   {
    "duration": 891,
    "start_time": "2022-01-31T18:05:56.550Z"
   },
   {
    "duration": 73,
    "start_time": "2022-01-31T18:06:01.275Z"
   },
   {
    "duration": 52,
    "start_time": "2022-01-31T18:06:12.649Z"
   },
   {
    "duration": 66,
    "start_time": "2022-01-31T18:06:22.271Z"
   },
   {
    "duration": 90,
    "start_time": "2022-01-31T18:08:33.863Z"
   },
   {
    "duration": 1493,
    "start_time": "2022-01-31T18:08:54.853Z"
   },
   {
    "duration": 48,
    "start_time": "2022-01-31T18:08:56.349Z"
   },
   {
    "duration": 83,
    "start_time": "2022-01-31T18:08:56.400Z"
   },
   {
    "duration": 9,
    "start_time": "2022-01-31T18:08:56.486Z"
   },
   {
    "duration": 49,
    "start_time": "2022-01-31T18:08:56.498Z"
   },
   {
    "duration": 28,
    "start_time": "2022-01-31T18:08:56.550Z"
   },
   {
    "duration": 13,
    "start_time": "2022-01-31T18:08:56.581Z"
   },
   {
    "duration": 36,
    "start_time": "2022-01-31T18:08:56.597Z"
   },
   {
    "duration": 33,
    "start_time": "2022-01-31T18:08:56.636Z"
   },
   {
    "duration": 31,
    "start_time": "2022-01-31T18:08:56.672Z"
   },
   {
    "duration": 35,
    "start_time": "2022-01-31T18:08:56.733Z"
   },
   {
    "duration": 20,
    "start_time": "2022-01-31T18:08:56.771Z"
   },
   {
    "duration": 83,
    "start_time": "2022-01-31T18:08:56.794Z"
   },
   {
    "duration": 870,
    "start_time": "2022-01-31T18:08:56.880Z"
   },
   {
    "duration": 11,
    "start_time": "2022-01-31T18:08:57.753Z"
   },
   {
    "duration": 24,
    "start_time": "2022-01-31T18:08:57.766Z"
   },
   {
    "duration": 53,
    "start_time": "2022-01-31T18:08:57.792Z"
   },
   {
    "duration": 10062,
    "start_time": "2022-01-31T18:08:57.847Z"
   },
   {
    "duration": 55,
    "start_time": "2022-01-31T18:09:07.912Z"
   },
   {
    "duration": 9,
    "start_time": "2022-01-31T18:09:07.969Z"
   },
   {
    "duration": 26,
    "start_time": "2022-01-31T18:09:07.981Z"
   },
   {
    "duration": 30,
    "start_time": "2022-01-31T18:09:08.009Z"
   },
   {
    "duration": 573,
    "start_time": "2022-01-31T18:09:08.046Z"
   },
   {
    "duration": 10,
    "start_time": "2022-01-31T18:09:08.633Z"
   },
   {
    "duration": 15,
    "start_time": "2022-01-31T18:09:08.646Z"
   },
   {
    "duration": 100,
    "start_time": "2022-01-31T18:09:08.664Z"
   },
   {
    "duration": 7,
    "start_time": "2022-01-31T18:09:08.767Z"
   },
   {
    "duration": 58,
    "start_time": "2022-01-31T18:09:08.776Z"
   },
   {
    "duration": 50,
    "start_time": "2022-01-31T18:09:08.837Z"
   },
   {
    "duration": 6,
    "start_time": "2022-01-31T18:09:08.889Z"
   },
   {
    "duration": 20351,
    "start_time": "2022-01-31T18:09:08.897Z"
   },
   {
    "duration": 32,
    "start_time": "2022-01-31T18:09:29.250Z"
   },
   {
    "duration": 47,
    "start_time": "2022-01-31T18:09:29.285Z"
   },
   {
    "duration": 35,
    "start_time": "2022-01-31T18:09:29.335Z"
   },
   {
    "duration": 77,
    "start_time": "2022-01-31T18:09:29.372Z"
   },
   {
    "duration": 39,
    "start_time": "2022-01-31T18:09:29.452Z"
   },
   {
    "duration": 2086,
    "start_time": "2022-01-31T18:09:29.494Z"
   },
   {
    "duration": 29,
    "start_time": "2022-01-31T18:09:31.582Z"
   },
   {
    "duration": 38,
    "start_time": "2022-01-31T18:09:31.634Z"
   },
   {
    "duration": 607,
    "start_time": "2022-01-31T18:09:31.675Z"
   },
   {
    "duration": 84,
    "start_time": "2022-01-31T18:09:32.285Z"
   },
   {
    "duration": 29,
    "start_time": "2022-01-31T18:09:32.372Z"
   },
   {
    "duration": 48,
    "start_time": "2022-01-31T18:09:32.404Z"
   },
   {
    "duration": 84,
    "start_time": "2022-01-31T18:09:32.455Z"
   },
   {
    "duration": 13,
    "start_time": "2022-01-31T18:09:32.542Z"
   },
   {
    "duration": 80,
    "start_time": "2022-01-31T18:09:32.558Z"
   },
   {
    "duration": 3,
    "start_time": "2022-01-31T18:09:32.641Z"
   },
   {
    "duration": 558,
    "start_time": "2022-01-31T18:09:32.646Z"
   },
   {
    "duration": 10,
    "start_time": "2022-01-31T18:09:33.207Z"
   },
   {
    "duration": 33,
    "start_time": "2022-01-31T18:09:33.233Z"
   },
   {
    "duration": 5306,
    "start_time": "2022-01-31T18:09:33.269Z"
   },
   {
    "duration": 36,
    "start_time": "2022-01-31T18:09:38.578Z"
   },
   {
    "duration": 511,
    "start_time": "2022-01-31T18:09:38.633Z"
   },
   {
    "duration": 1409,
    "start_time": "2022-01-31T18:09:39.146Z"
   },
   {
    "duration": 16,
    "start_time": "2022-01-31T18:09:40.558Z"
   },
   {
    "duration": 1816,
    "start_time": "2022-01-31T18:09:40.576Z"
   },
   {
    "duration": 16,
    "start_time": "2022-01-31T18:09:42.394Z"
   },
   {
    "duration": 214,
    "start_time": "2022-01-31T18:09:42.434Z"
   },
   {
    "duration": 228,
    "start_time": "2022-01-31T18:09:42.651Z"
   },
   {
    "duration": 792,
    "start_time": "2022-01-31T18:09:42.884Z"
   },
   {
    "duration": 905,
    "start_time": "2022-01-31T18:09:43.679Z"
   },
   {
    "duration": 870,
    "start_time": "2022-01-31T18:09:44.588Z"
   },
   {
    "duration": 93,
    "start_time": "2022-01-31T18:09:45.461Z"
   },
   {
    "duration": 722,
    "start_time": "2022-01-31T18:09:45.560Z"
   },
   {
    "duration": 1200,
    "start_time": "2022-01-31T18:09:46.285Z"
   },
   {
    "duration": 583,
    "start_time": "2022-01-31T18:09:47.487Z"
   },
   {
    "duration": 18,
    "start_time": "2022-01-31T18:09:48.074Z"
   },
   {
    "duration": 30,
    "start_time": "2022-01-31T18:09:48.104Z"
   },
   {
    "duration": 30,
    "start_time": "2022-01-31T18:09:48.137Z"
   },
   {
    "duration": 23,
    "start_time": "2022-01-31T18:09:48.170Z"
   },
   {
    "duration": 19,
    "start_time": "2022-01-31T18:09:48.196Z"
   },
   {
    "duration": 11,
    "start_time": "2022-01-31T18:09:48.235Z"
   },
   {
    "duration": 10,
    "start_time": "2022-01-31T18:15:18.456Z"
   },
   {
    "duration": 513,
    "start_time": "2022-01-31T18:15:33.853Z"
   },
   {
    "duration": 15,
    "start_time": "2022-01-31T18:15:38.823Z"
   },
   {
    "duration": 7,
    "start_time": "2022-01-31T18:16:42.912Z"
   },
   {
    "duration": 13,
    "start_time": "2022-01-31T18:16:49.214Z"
   },
   {
    "duration": 505,
    "start_time": "2022-01-31T18:28:57.545Z"
   },
   {
    "duration": 93,
    "start_time": "2022-01-31T18:37:13.317Z"
   },
   {
    "duration": 1518,
    "start_time": "2022-01-31T18:47:03.535Z"
   },
   {
    "duration": 47,
    "start_time": "2022-01-31T18:47:05.056Z"
   },
   {
    "duration": 83,
    "start_time": "2022-01-31T18:47:05.106Z"
   },
   {
    "duration": 10,
    "start_time": "2022-01-31T18:47:05.193Z"
   },
   {
    "duration": 45,
    "start_time": "2022-01-31T18:47:05.205Z"
   },
   {
    "duration": 25,
    "start_time": "2022-01-31T18:47:05.253Z"
   },
   {
    "duration": 11,
    "start_time": "2022-01-31T18:47:05.281Z"
   },
   {
    "duration": 38,
    "start_time": "2022-01-31T18:47:05.296Z"
   },
   {
    "duration": 35,
    "start_time": "2022-01-31T18:47:05.337Z"
   },
   {
    "duration": 32,
    "start_time": "2022-01-31T18:47:05.374Z"
   },
   {
    "duration": 58,
    "start_time": "2022-01-31T18:47:05.409Z"
   },
   {
    "duration": 28,
    "start_time": "2022-01-31T18:47:05.470Z"
   },
   {
    "duration": 77,
    "start_time": "2022-01-31T18:47:05.501Z"
   },
   {
    "duration": 705,
    "start_time": "2022-01-31T18:47:05.580Z"
   },
   {
    "duration": 11,
    "start_time": "2022-01-31T18:47:06.288Z"
   },
   {
    "duration": 43,
    "start_time": "2022-01-31T18:47:06.301Z"
   },
   {
    "duration": 22,
    "start_time": "2022-01-31T18:47:06.347Z"
   },
   {
    "duration": 10320,
    "start_time": "2022-01-31T18:47:06.372Z"
   },
   {
    "duration": 52,
    "start_time": "2022-01-31T18:47:16.695Z"
   },
   {
    "duration": 8,
    "start_time": "2022-01-31T18:47:16.750Z"
   },
   {
    "duration": 27,
    "start_time": "2022-01-31T18:47:16.760Z"
   },
   {
    "duration": 4,
    "start_time": "2022-01-31T18:47:16.789Z"
   },
   {
    "duration": 534,
    "start_time": "2022-01-31T18:47:16.833Z"
   },
   {
    "duration": 10,
    "start_time": "2022-01-31T18:47:17.372Z"
   },
   {
    "duration": 16,
    "start_time": "2022-01-31T18:47:17.385Z"
   },
   {
    "duration": 81,
    "start_time": "2022-01-31T18:47:17.403Z"
   },
   {
    "duration": 7,
    "start_time": "2022-01-31T18:47:17.487Z"
   },
   {
    "duration": 63,
    "start_time": "2022-01-31T18:47:17.497Z"
   },
   {
    "duration": 47,
    "start_time": "2022-01-31T18:47:17.563Z"
   },
   {
    "duration": 24,
    "start_time": "2022-01-31T18:47:17.612Z"
   },
   {
    "duration": 20995,
    "start_time": "2022-01-31T18:47:17.639Z"
   },
   {
    "duration": 25,
    "start_time": "2022-01-31T18:47:38.636Z"
   },
   {
    "duration": 23,
    "start_time": "2022-01-31T18:47:38.664Z"
   },
   {
    "duration": 54,
    "start_time": "2022-01-31T18:47:38.689Z"
   },
   {
    "duration": 35,
    "start_time": "2022-01-31T18:47:38.745Z"
   },
   {
    "duration": 51,
    "start_time": "2022-01-31T18:47:38.782Z"
   },
   {
    "duration": 1868,
    "start_time": "2022-01-31T18:47:38.836Z"
   },
   {
    "duration": 42,
    "start_time": "2022-01-31T18:47:40.707Z"
   },
   {
    "duration": 28,
    "start_time": "2022-01-31T18:47:40.751Z"
   },
   {
    "duration": 715,
    "start_time": "2022-01-31T18:47:40.781Z"
   },
   {
    "duration": 73,
    "start_time": "2022-01-31T18:47:41.498Z"
   },
   {
    "duration": 23,
    "start_time": "2022-01-31T18:47:41.573Z"
   },
   {
    "duration": 42,
    "start_time": "2022-01-31T18:47:41.598Z"
   },
   {
    "duration": 47,
    "start_time": "2022-01-31T18:47:41.642Z"
   },
   {
    "duration": 74,
    "start_time": "2022-01-31T18:47:41.692Z"
   },
   {
    "duration": 1864,
    "start_time": "2022-01-31T18:47:39.906Z"
   },
   {
    "duration": 1860,
    "start_time": "2022-01-31T18:47:39.911Z"
   },
   {
    "duration": 1857,
    "start_time": "2022-01-31T18:47:39.916Z"
   },
   {
    "duration": 1854,
    "start_time": "2022-01-31T18:47:39.921Z"
   },
   {
    "duration": 1851,
    "start_time": "2022-01-31T18:47:39.926Z"
   },
   {
    "duration": 1847,
    "start_time": "2022-01-31T18:47:39.931Z"
   },
   {
    "duration": 1844,
    "start_time": "2022-01-31T18:47:39.936Z"
   },
   {
    "duration": 1841,
    "start_time": "2022-01-31T18:47:39.940Z"
   },
   {
    "duration": 1837,
    "start_time": "2022-01-31T18:47:39.945Z"
   },
   {
    "duration": 1834,
    "start_time": "2022-01-31T18:47:39.950Z"
   },
   {
    "duration": 1830,
    "start_time": "2022-01-31T18:47:39.955Z"
   },
   {
    "duration": 1828,
    "start_time": "2022-01-31T18:47:39.959Z"
   },
   {
    "duration": 1823,
    "start_time": "2022-01-31T18:47:39.965Z"
   },
   {
    "duration": 1821,
    "start_time": "2022-01-31T18:47:39.969Z"
   },
   {
    "duration": 1818,
    "start_time": "2022-01-31T18:47:39.974Z"
   },
   {
    "duration": 1814,
    "start_time": "2022-01-31T18:47:39.979Z"
   },
   {
    "duration": 1571,
    "start_time": "2022-01-31T18:47:40.226Z"
   },
   {
    "duration": 1567,
    "start_time": "2022-01-31T18:47:40.231Z"
   },
   {
    "duration": 1542,
    "start_time": "2022-01-31T18:47:40.258Z"
   },
   {
    "duration": 1537,
    "start_time": "2022-01-31T18:47:40.264Z"
   },
   {
    "duration": 1531,
    "start_time": "2022-01-31T18:47:40.272Z"
   },
   {
    "duration": 1528,
    "start_time": "2022-01-31T18:47:40.276Z"
   },
   {
    "duration": 1523,
    "start_time": "2022-01-31T18:47:40.282Z"
   },
   {
    "duration": 1521,
    "start_time": "2022-01-31T18:47:40.286Z"
   },
   {
    "duration": 1541,
    "start_time": "2022-01-31T18:47:40.291Z"
   },
   {
    "duration": 1538,
    "start_time": "2022-01-31T18:47:40.296Z"
   },
   {
    "duration": 1536,
    "start_time": "2022-01-31T18:47:40.300Z"
   },
   {
    "duration": 1531,
    "start_time": "2022-01-31T18:47:40.306Z"
   },
   {
    "duration": 91,
    "start_time": "2022-01-31T18:49:08.550Z"
   },
   {
    "duration": 1765,
    "start_time": "2022-01-31T18:49:16.637Z"
   },
   {
    "duration": 46,
    "start_time": "2022-01-31T18:49:18.405Z"
   },
   {
    "duration": 89,
    "start_time": "2022-01-31T18:49:18.455Z"
   },
   {
    "duration": 9,
    "start_time": "2022-01-31T18:49:18.548Z"
   },
   {
    "duration": 20,
    "start_time": "2022-01-31T18:49:18.560Z"
   },
   {
    "duration": 60,
    "start_time": "2022-01-31T18:49:18.583Z"
   },
   {
    "duration": 15,
    "start_time": "2022-01-31T18:49:18.646Z"
   },
   {
    "duration": 8,
    "start_time": "2022-01-31T18:49:18.666Z"
   },
   {
    "duration": 66,
    "start_time": "2022-01-31T18:49:18.677Z"
   },
   {
    "duration": 47,
    "start_time": "2022-01-31T18:49:18.745Z"
   },
   {
    "duration": 77,
    "start_time": "2022-01-31T18:49:18.795Z"
   },
   {
    "duration": 17,
    "start_time": "2022-01-31T18:49:18.875Z"
   },
   {
    "duration": 74,
    "start_time": "2022-01-31T18:49:18.895Z"
   },
   {
    "duration": 690,
    "start_time": "2022-01-31T18:49:18.971Z"
   },
   {
    "duration": 11,
    "start_time": "2022-01-31T18:49:19.665Z"
   },
   {
    "duration": 25,
    "start_time": "2022-01-31T18:49:19.679Z"
   },
   {
    "duration": 36,
    "start_time": "2022-01-31T18:49:19.733Z"
   },
   {
    "duration": 10234,
    "start_time": "2022-01-31T18:49:19.771Z"
   },
   {
    "duration": 56,
    "start_time": "2022-01-31T18:49:30.007Z"
   },
   {
    "duration": 10,
    "start_time": "2022-01-31T18:49:30.065Z"
   },
   {
    "duration": 39,
    "start_time": "2022-01-31T18:49:30.077Z"
   },
   {
    "duration": 18,
    "start_time": "2022-01-31T18:49:30.118Z"
   },
   {
    "duration": 612,
    "start_time": "2022-01-31T18:49:30.143Z"
   },
   {
    "duration": 11,
    "start_time": "2022-01-31T18:49:30.759Z"
   },
   {
    "duration": 20,
    "start_time": "2022-01-31T18:49:30.773Z"
   },
   {
    "duration": 93,
    "start_time": "2022-01-31T18:49:30.796Z"
   },
   {
    "duration": 9,
    "start_time": "2022-01-31T18:49:30.892Z"
   },
   {
    "duration": 39,
    "start_time": "2022-01-31T18:49:30.903Z"
   },
   {
    "duration": 49,
    "start_time": "2022-01-31T18:49:30.945Z"
   },
   {
    "duration": 8,
    "start_time": "2022-01-31T18:49:30.996Z"
   },
   {
    "duration": 21349,
    "start_time": "2022-01-31T18:49:31.006Z"
   },
   {
    "duration": 26,
    "start_time": "2022-01-31T18:49:52.358Z"
   },
   {
    "duration": 49,
    "start_time": "2022-01-31T18:49:52.386Z"
   },
   {
    "duration": 27,
    "start_time": "2022-01-31T18:49:52.438Z"
   },
   {
    "duration": 69,
    "start_time": "2022-01-31T18:49:52.468Z"
   },
   {
    "duration": 27,
    "start_time": "2022-01-31T18:49:52.540Z"
   },
   {
    "duration": 1926,
    "start_time": "2022-01-31T18:49:52.570Z"
   },
   {
    "duration": 48,
    "start_time": "2022-01-31T18:49:54.500Z"
   },
   {
    "duration": 39,
    "start_time": "2022-01-31T18:49:54.551Z"
   },
   {
    "duration": 954,
    "start_time": "2022-01-31T18:49:54.594Z"
   },
   {
    "duration": 106,
    "start_time": "2022-01-31T18:49:55.552Z"
   },
   {
    "duration": 33,
    "start_time": "2022-01-31T18:49:55.661Z"
   },
   {
    "duration": 42,
    "start_time": "2022-01-31T18:49:55.697Z"
   },
   {
    "duration": 47,
    "start_time": "2022-01-31T18:49:55.741Z"
   },
   {
    "duration": 42,
    "start_time": "2022-01-31T18:49:55.790Z"
   },
   {
    "duration": 38,
    "start_time": "2022-01-31T18:49:55.835Z"
   },
   {
    "duration": 4,
    "start_time": "2022-01-31T18:49:55.875Z"
   },
   {
    "duration": 502,
    "start_time": "2022-01-31T18:49:55.881Z"
   },
   {
    "duration": 8,
    "start_time": "2022-01-31T18:49:56.386Z"
   },
   {
    "duration": 44,
    "start_time": "2022-01-31T18:49:56.396Z"
   },
   {
    "duration": 3959,
    "start_time": "2022-01-31T18:49:56.442Z"
   },
   {
    "duration": 55,
    "start_time": "2022-01-31T18:50:00.403Z"
   },
   {
    "duration": 807,
    "start_time": "2022-01-31T18:50:00.461Z"
   },
   {
    "duration": 1723,
    "start_time": "2022-01-31T18:50:01.272Z"
   },
   {
    "duration": 13,
    "start_time": "2022-01-31T18:50:02.998Z"
   },
   {
    "duration": 1671,
    "start_time": "2022-01-31T18:50:03.032Z"
   },
   {
    "duration": 29,
    "start_time": "2022-01-31T18:50:04.705Z"
   },
   {
    "duration": 206,
    "start_time": "2022-01-31T18:50:04.737Z"
   },
   {
    "duration": 211,
    "start_time": "2022-01-31T18:50:04.945Z"
   },
   {
    "duration": 811,
    "start_time": "2022-01-31T18:50:05.158Z"
   },
   {
    "duration": 673,
    "start_time": "2022-01-31T18:50:05.972Z"
   },
   {
    "duration": 717,
    "start_time": "2022-01-31T18:50:06.648Z"
   },
   {
    "duration": 75,
    "start_time": "2022-01-31T18:50:07.369Z"
   },
   {
    "duration": 739,
    "start_time": "2022-01-31T18:50:07.447Z"
   },
   {
    "duration": 1036,
    "start_time": "2022-01-31T18:50:08.189Z"
   },
   {
    "duration": 507,
    "start_time": "2022-01-31T18:50:09.228Z"
   },
   {
    "duration": 14,
    "start_time": "2022-01-31T18:50:09.737Z"
   },
   {
    "duration": 8,
    "start_time": "2022-01-31T18:50:09.760Z"
   },
   {
    "duration": 12,
    "start_time": "2022-01-31T18:50:09.771Z"
   },
   {
    "duration": 54,
    "start_time": "2022-01-31T18:50:09.786Z"
   },
   {
    "duration": 7,
    "start_time": "2022-01-31T18:50:09.843Z"
   },
   {
    "duration": 11,
    "start_time": "2022-01-31T18:50:09.853Z"
   },
   {
    "duration": 403,
    "start_time": "2022-02-01T07:10:22.493Z"
   },
   {
    "duration": 1715,
    "start_time": "2022-02-01T07:10:39.286Z"
   },
   {
    "duration": 45,
    "start_time": "2022-02-01T07:10:41.003Z"
   },
   {
    "duration": 82,
    "start_time": "2022-02-01T07:10:41.051Z"
   },
   {
    "duration": 8,
    "start_time": "2022-02-01T07:10:41.136Z"
   },
   {
    "duration": 19,
    "start_time": "2022-02-01T07:10:41.147Z"
   },
   {
    "duration": 22,
    "start_time": "2022-02-01T07:10:41.168Z"
   },
   {
    "duration": 11,
    "start_time": "2022-02-01T07:10:41.224Z"
   },
   {
    "duration": 6,
    "start_time": "2022-02-01T07:10:41.241Z"
   },
   {
    "duration": 31,
    "start_time": "2022-02-01T07:10:41.251Z"
   },
   {
    "duration": 68,
    "start_time": "2022-02-01T07:10:41.284Z"
   },
   {
    "duration": 35,
    "start_time": "2022-02-01T07:10:41.354Z"
   },
   {
    "duration": 42,
    "start_time": "2022-02-01T07:10:41.392Z"
   },
   {
    "duration": 50,
    "start_time": "2022-02-01T07:10:41.437Z"
   },
   {
    "duration": 698,
    "start_time": "2022-02-01T07:10:41.489Z"
   },
   {
    "duration": 11,
    "start_time": "2022-02-01T07:10:42.189Z"
   },
   {
    "duration": 39,
    "start_time": "2022-02-01T07:10:42.202Z"
   },
   {
    "duration": 22,
    "start_time": "2022-02-01T07:10:42.244Z"
   },
   {
    "duration": 10090,
    "start_time": "2022-02-01T07:10:42.268Z"
   },
   {
    "duration": 41,
    "start_time": "2022-02-01T07:10:52.361Z"
   },
   {
    "duration": 26,
    "start_time": "2022-02-01T07:10:52.404Z"
   },
   {
    "duration": 25,
    "start_time": "2022-02-01T07:10:52.432Z"
   },
   {
    "duration": 5,
    "start_time": "2022-02-01T07:10:52.459Z"
   },
   {
    "duration": 527,
    "start_time": "2022-02-01T07:10:52.470Z"
   },
   {
    "duration": 9,
    "start_time": "2022-02-01T07:10:53.001Z"
   },
   {
    "duration": 10,
    "start_time": "2022-02-01T07:10:53.023Z"
   },
   {
    "duration": 88,
    "start_time": "2022-02-01T07:10:53.036Z"
   },
   {
    "duration": 7,
    "start_time": "2022-02-01T07:10:53.126Z"
   },
   {
    "duration": 34,
    "start_time": "2022-02-01T07:10:53.135Z"
   },
   {
    "duration": 75,
    "start_time": "2022-02-01T07:10:53.172Z"
   },
   {
    "duration": 9,
    "start_time": "2022-02-01T07:10:53.250Z"
   },
   {
    "duration": 19155,
    "start_time": "2022-02-01T07:10:53.261Z"
   },
   {
    "duration": 25,
    "start_time": "2022-02-01T07:11:12.419Z"
   },
   {
    "duration": 24,
    "start_time": "2022-02-01T07:11:12.446Z"
   },
   {
    "duration": 56,
    "start_time": "2022-02-01T07:11:12.472Z"
   },
   {
    "duration": 35,
    "start_time": "2022-02-01T07:11:12.531Z"
   },
   {
    "duration": 26,
    "start_time": "2022-02-01T07:11:12.568Z"
   },
   {
    "duration": 1729,
    "start_time": "2022-02-01T07:11:12.597Z"
   },
   {
    "duration": 26,
    "start_time": "2022-02-01T07:11:14.328Z"
   },
   {
    "duration": 30,
    "start_time": "2022-02-01T07:11:14.357Z"
   },
   {
    "duration": 570,
    "start_time": "2022-02-01T07:11:14.391Z"
   },
   {
    "duration": 70,
    "start_time": "2022-02-01T07:11:14.964Z"
   },
   {
    "duration": 23,
    "start_time": "2022-02-01T07:11:15.036Z"
   },
   {
    "duration": 29,
    "start_time": "2022-02-01T07:11:15.061Z"
   },
   {
    "duration": 69,
    "start_time": "2022-02-01T07:11:15.092Z"
   },
   {
    "duration": 13,
    "start_time": "2022-02-01T07:11:15.163Z"
   },
   {
    "duration": 74,
    "start_time": "2022-02-01T07:11:15.178Z"
   },
   {
    "duration": 3,
    "start_time": "2022-02-01T07:11:15.254Z"
   },
   {
    "duration": 471,
    "start_time": "2022-02-01T07:11:15.260Z"
   },
   {
    "duration": 8,
    "start_time": "2022-02-01T07:11:15.733Z"
   },
   {
    "duration": 24,
    "start_time": "2022-02-01T07:11:15.744Z"
   },
   {
    "duration": 3579,
    "start_time": "2022-02-01T07:11:15.770Z"
   },
   {
    "duration": 35,
    "start_time": "2022-02-01T07:11:19.352Z"
   },
   {
    "duration": 470,
    "start_time": "2022-02-01T07:11:19.390Z"
   },
   {
    "duration": 1256,
    "start_time": "2022-02-01T07:11:19.863Z"
   },
   {
    "duration": 11,
    "start_time": "2022-02-01T07:11:21.121Z"
   },
   {
    "duration": 1572,
    "start_time": "2022-02-01T07:11:21.134Z"
   },
   {
    "duration": 22,
    "start_time": "2022-02-01T07:11:22.709Z"
   },
   {
    "duration": 200,
    "start_time": "2022-02-01T07:11:22.733Z"
   },
   {
    "duration": 204,
    "start_time": "2022-02-01T07:11:22.935Z"
   },
   {
    "duration": 727,
    "start_time": "2022-02-01T07:11:23.142Z"
   },
   {
    "duration": 640,
    "start_time": "2022-02-01T07:11:23.872Z"
   },
   {
    "duration": 656,
    "start_time": "2022-02-01T07:11:24.514Z"
   },
   {
    "duration": 93,
    "start_time": "2022-02-01T07:11:25.173Z"
   },
   {
    "duration": 771,
    "start_time": "2022-02-01T07:11:25.269Z"
   },
   {
    "duration": 973,
    "start_time": "2022-02-01T07:11:26.042Z"
   },
   {
    "duration": 469,
    "start_time": "2022-02-01T07:11:27.017Z"
   },
   {
    "duration": 9,
    "start_time": "2022-02-01T07:11:27.488Z"
   },
   {
    "duration": 14,
    "start_time": "2022-02-01T07:11:27.522Z"
   },
   {
    "duration": 8,
    "start_time": "2022-02-01T07:11:27.539Z"
   },
   {
    "duration": 9,
    "start_time": "2022-02-01T07:11:27.549Z"
   },
   {
    "duration": 13,
    "start_time": "2022-02-01T07:11:27.561Z"
   },
   {
    "duration": 53,
    "start_time": "2022-02-01T07:11:27.576Z"
   },
   {
    "duration": 11,
    "start_time": "2022-02-01T07:11:27.631Z"
   },
   {
    "duration": 434,
    "start_time": "2022-02-01T07:12:48.652Z"
   },
   {
    "duration": 401,
    "start_time": "2022-02-01T07:12:53.629Z"
   },
   {
    "duration": 32,
    "start_time": "2022-02-01T07:13:18.009Z"
   }
  ],
  "kernelspec": {
   "display_name": "Python 3 (ipykernel)",
   "language": "python",
   "name": "python3"
  },
  "language_info": {
   "codemirror_mode": {
    "name": "ipython",
    "version": 3
   },
   "file_extension": ".py",
   "mimetype": "text/x-python",
   "name": "python",
   "nbconvert_exporter": "python",
   "pygments_lexer": "ipython3",
   "version": "3.9.7"
  },
  "toc": {
   "base_numbering": 1,
   "nav_menu": {},
   "number_sections": true,
   "sideBar": true,
   "skip_h1_title": true,
   "title_cell": "Table of Contents",
   "title_sidebar": "Contents",
   "toc_cell": false,
   "toc_position": {
    "height": "calc(100% - 180px)",
    "left": "10px",
    "top": "150px",
    "width": "165px"
   },
   "toc_section_display": true,
   "toc_window_display": true
  }
 },
 "nbformat": 4,
 "nbformat_minor": 5
}
