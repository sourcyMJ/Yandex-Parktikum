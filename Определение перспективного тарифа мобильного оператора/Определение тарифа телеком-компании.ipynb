{
 "cells": [
  {
   "cell_type": "markdown",
   "id": "03f405cd",
   "metadata": {},
   "source": [
    "# Determining the most favorable tariff for a mobile operator"
   ]
  },
  {
   "cell_type": "markdown",
   "id": "609751d5",
   "metadata": {},
   "source": [
    "## Project Description"
   ]
  },
  {
   "cell_type": "markdown",
   "id": "2602c018",
   "metadata": {},
   "source": [
    "Telecom companiy offers two tariff plans to customers: "Smart" and "Ultra". To adjust the advertising budget, the commercial department wants to understand which tariff brings more money.\n",
    "\n",
    "As a part of the study, it is necessary to conduct a preliminary analysis of tariffs on a small sample of customers. The data on the activity of 500 users of the operator for 2018 is available. It is necessary to analyze the behavior of customers and make a conclusion — which tariff is better.\n",
    "\n",
    "As part of the introductory information, there is also a description of 2 tariffs of the company:\n",
    "\n",
    "**Description of tariffs**\n",
    "\n",
    "*«Smart» tariff*\n",
    " - Monthly fee: 550 rubles\n",
    " - 500 minutes of conversation, 50 messages and 15 GB of Internet traffic are included\n",
    " - The cost of services in excess of the tariff package: 1. minute of conversation: 3 rubles (the operator always rounds up the values of minutes and megabytes. If the user spoke for only 1 second, the whole minute is counted in the tariff); 2. message: 3 rubles; 3. 1 GB of Internet traffic: 200 rubles.\n",
    "\n",
    "\n",
    "*«Ultra» tariff*\n",
    " - Monthly fee: 1950 rubles\n",
    " - 3000 minutes of conversation, 1000 messages and 30 GB of Internet traffic are included\n",
    " - The cost of services in excess of the tariff package: 1. minute of conversation: 1 ruble; 2. Message: 1 ruble; 3. 1 GB of Internet traffic: 150 rubles."
   ]
  },
  {
   "cell_type": "markdown",
   "id": "e0b71b97",
   "metadata": {},
   "source": [
    "**The purpose of the study**\n",
    "\n",
    "It is necessary to analyze the behavior of customers and conclude which tariff is more profitable. It is also necessary to answer a number of questions:\n",
    "- what is the number of calls made and minutes of conversation spent by month for each user?\n",
    "- what is the number of messages sent by month for each user?\n",
    "- what is the amount of internet traffic consumed by month for each user?\n",
    "- how much is the monthly revenue from each user?\n",
    "- how many minutes of conversation, how many messages and how much Internet traffic is required by users of each tariff per month?\n",
    "- does the average revenue of users of the "Ultra" and "Smart" tariffs differ?\n",
    "- does the average revenue of users from Moscow differ from the revenue of users from other regions?"
   ]
  },
  {
   "cell_type": "markdown",
   "id": "b4704f7f",
   "metadata": {},
   "source": [
    "**Research plan**\n",
    "\n",
    "User data is grouped in several files. Nothing is known about the quality of the data. Therefore, before testing hypotheses, we will need to review the data. The data will be checked for errors and their impact on the study will be assessed. Then, at the preprocessing stage, the most critical data errors will be corrected.\n",
    "Thus, the study will take place in three stages: \n",
    " - Data overview. \n",
    " - Data preprocessing.\n",
    " - Hypothesis testing."
   ]
  },
  {
   "cell_type": "markdown",
   "id": "06ebf589",
   "metadata": {},
   "source": [
    "___\n",
    "## 1 Обзор данных\n",
    "___\n",
    "\n",
    "Let's make a first idea of the data and import all the necessary libraries"
   ]
  },
  {
   "cell_type": "code",
   "execution_count": 88,
   "id": "f97ddc3c",
   "metadata": {},
   "outputs": [],
   "source": [
    "import pandas as pd;\n",
    "import numpy as np;\n",
    "import seaborn as sns;\n",
    "import matplotlib.pyplot as plt;\n",
    "import math\n",
    "from scipy import stats as st"
   ]
  },
  {
   "cell_type": "markdown",
   "id": "c0adc8d9",
   "metadata": {},
   "source": [
    "Let's read the data files from the /datasets folder and save them in variables:"
   ]
  },
  {
   "cell_type": "code",
   "execution_count": 89,
   "id": "d5c65f89",
   "metadata": {},
   "outputs": [],
   "source": [
    "name_df=['calls','internet','messages','tariffs','users']"
   ]
  },
  {
   "cell_type": "code",
   "execution_count": 90,
   "id": "14bebfe9",
   "metadata": {},
   "outputs": [],
   "source": [
    "try:\n",
    "    for i in name_df:\n",
    "        globals()[\"df_\"+i]=pd.read_csv('/Users/vladislav/Documents/datasets/'+i+'.csv',sep=',')\n",
    "except:\n",
    "    for i in name_df:\n",
    "        globals()[\"df_\"+i]=pd.read_csv('/datasets/'+i+'.csv',sep=',')"
   ]
  },
  {
   "cell_type": "markdown",
   "id": "39d6e47e",
   "metadata": {},
   "source": [
    "According to the terms of the study, the telecom operator has 2 tariffs in the sample. Their conditions are listed below:"
   ]
  },
  {
   "cell_type": "code",
   "execution_count": 91,
   "id": "d08544eb",
   "metadata": {},
   "outputs": [],
   "source": [
    "#Tariff conditions\n",
    "\n",
    "#Smart:\n",
    "S_minutes_limit = 500 #number of minutes included in the package\n",
    "S_messages_limit = 50 #number of messages included in the package\n",
    "S_internet_limit = 15 #the amount of traffic included in the package\n",
    "S_extra_minute = 3 #the cost of a minute over the package, rub.\n",
    "S_extra_message = 3 #the cost of a message over a package, rub.\n",
    "S_extra_gb = 200 #the cost of a gigabyte of Internet over a package, rub.\n",
    "S_monthly_fee = 550 #subscription fee for the tariff\n",
    "\n",
    "#Ultra\n",
    "U_minutes_limit = 3000 #количество минут включенных в пакет\n",
    "U_messages_limit = 1000 #количество сообщений включенных в пакет\n",
    "U_internet_limit = 30 #объем траффика включенного в пакет\n",
    "U_extra_minute = 1 #стоимость минуты свыше пакета, руб.\n",
    "U_extra_message = 1 #стоимость сообщения свыше пакета, руб.\n",
    "U_extra_gb = 150 #стоимость гигабайта интернета свыше пакета, руб.\n",
    "U_monthly_fee = 1950 #абонентная плата за тариф"
   ]
  },
  {
   "cell_type": "markdown",
   "id": "a57191a3",
   "metadata": {},
   "source": [
    "Можно начать изучение данных с файла с данными пользователей *df_users*. "
   ]
  },
  {
   "cell_type": "markdown",
   "id": "f866cc1b",
   "metadata": {},
   "source": [
    "Согласно документации к данным:\n",
    "Таблица *users* (информация о пользователях):\n",
    "        \n",
    "* user_id — уникальный идентификатор пользователя\n",
    "* first_name — имя пользователя\n",
    "* last_name — фамилия пользователя\n",
    "* age — возраст пользователя (годы)\n",
    "* reg_date — дата подключения тарифа (день, месяц, год)\n",
    "* churn_date — дата прекращения пользования тарифом (если значение пропущено, то тариф ещё действовал на момент выгрузки данных)\n",
    "* city — город проживания пользователя\n",
    "* tarif — название тарифного плана"
   ]
  },
  {
   "cell_type": "markdown",
   "id": "b551384d",
   "metadata": {},
   "source": [
    "Так как потребуется изучить еще несколько файлов лучше написать функцию описывающую датафрейм."
   ]
  },
  {
   "cell_type": "code",
   "execution_count": 92,
   "id": "2f825ae9",
   "metadata": {},
   "outputs": [],
   "source": [
    "def df_describe (df):\n",
    "    display('Первые 5 строк таблицы', df.head())\n",
    "    display('Описание численных данных:', df.describe())\n",
    "    display(df.info())\n",
    "    display('Количество пропусков', df.isna().sum())"
   ]
  },
  {
   "cell_type": "code",
   "execution_count": 93,
   "id": "65832fe6",
   "metadata": {},
   "outputs": [
    {
     "data": {
      "text/plain": [
       "'Первые 5 строк таблицы'"
      ]
     },
     "metadata": {},
     "output_type": "display_data"
    },
    {
     "data": {
      "text/html": [
       "<div>\n",
       "<style scoped>\n",
       "    .dataframe tbody tr th:only-of-type {\n",
       "        vertical-align: middle;\n",
       "    }\n",
       "\n",
       "    .dataframe tbody tr th {\n",
       "        vertical-align: top;\n",
       "    }\n",
       "\n",
       "    .dataframe thead th {\n",
       "        text-align: right;\n",
       "    }\n",
       "</style>\n",
       "<table border=\"1\" class=\"dataframe\">\n",
       "  <thead>\n",
       "    <tr style=\"text-align: right;\">\n",
       "      <th></th>\n",
       "      <th>user_id</th>\n",
       "      <th>age</th>\n",
       "      <th>churn_date</th>\n",
       "      <th>city</th>\n",
       "      <th>first_name</th>\n",
       "      <th>last_name</th>\n",
       "      <th>reg_date</th>\n",
       "      <th>tariff</th>\n",
       "    </tr>\n",
       "  </thead>\n",
       "  <tbody>\n",
       "    <tr>\n",
       "      <th>0</th>\n",
       "      <td>1000</td>\n",
       "      <td>52</td>\n",
       "      <td>NaN</td>\n",
       "      <td>Краснодар</td>\n",
       "      <td>Рафаил</td>\n",
       "      <td>Верещагин</td>\n",
       "      <td>2018-05-25</td>\n",
       "      <td>ultra</td>\n",
       "    </tr>\n",
       "    <tr>\n",
       "      <th>1</th>\n",
       "      <td>1001</td>\n",
       "      <td>41</td>\n",
       "      <td>NaN</td>\n",
       "      <td>Москва</td>\n",
       "      <td>Иван</td>\n",
       "      <td>Ежов</td>\n",
       "      <td>2018-11-01</td>\n",
       "      <td>smart</td>\n",
       "    </tr>\n",
       "    <tr>\n",
       "      <th>2</th>\n",
       "      <td>1002</td>\n",
       "      <td>59</td>\n",
       "      <td>NaN</td>\n",
       "      <td>Стерлитамак</td>\n",
       "      <td>Евгений</td>\n",
       "      <td>Абрамович</td>\n",
       "      <td>2018-06-17</td>\n",
       "      <td>smart</td>\n",
       "    </tr>\n",
       "    <tr>\n",
       "      <th>3</th>\n",
       "      <td>1003</td>\n",
       "      <td>23</td>\n",
       "      <td>NaN</td>\n",
       "      <td>Москва</td>\n",
       "      <td>Белла</td>\n",
       "      <td>Белякова</td>\n",
       "      <td>2018-08-17</td>\n",
       "      <td>ultra</td>\n",
       "    </tr>\n",
       "    <tr>\n",
       "      <th>4</th>\n",
       "      <td>1004</td>\n",
       "      <td>68</td>\n",
       "      <td>NaN</td>\n",
       "      <td>Новокузнецк</td>\n",
       "      <td>Татьяна</td>\n",
       "      <td>Авдеенко</td>\n",
       "      <td>2018-05-14</td>\n",
       "      <td>ultra</td>\n",
       "    </tr>\n",
       "  </tbody>\n",
       "</table>\n",
       "</div>"
      ],
      "text/plain": [
       "   user_id  age churn_date         city first_name  last_name    reg_date  \\\n",
       "0     1000   52        NaN    Краснодар     Рафаил  Верещагин  2018-05-25   \n",
       "1     1001   41        NaN       Москва       Иван       Ежов  2018-11-01   \n",
       "2     1002   59        NaN  Стерлитамак    Евгений  Абрамович  2018-06-17   \n",
       "3     1003   23        NaN       Москва      Белла   Белякова  2018-08-17   \n",
       "4     1004   68        NaN  Новокузнецк    Татьяна   Авдеенко  2018-05-14   \n",
       "\n",
       "  tariff  \n",
       "0  ultra  \n",
       "1  smart  \n",
       "2  smart  \n",
       "3  ultra  \n",
       "4  ultra  "
      ]
     },
     "metadata": {},
     "output_type": "display_data"
    },
    {
     "data": {
      "text/plain": [
       "'Описание численных данных:'"
      ]
     },
     "metadata": {},
     "output_type": "display_data"
    },
    {
     "data": {
      "text/html": [
       "<div>\n",
       "<style scoped>\n",
       "    .dataframe tbody tr th:only-of-type {\n",
       "        vertical-align: middle;\n",
       "    }\n",
       "\n",
       "    .dataframe tbody tr th {\n",
       "        vertical-align: top;\n",
       "    }\n",
       "\n",
       "    .dataframe thead th {\n",
       "        text-align: right;\n",
       "    }\n",
       "</style>\n",
       "<table border=\"1\" class=\"dataframe\">\n",
       "  <thead>\n",
       "    <tr style=\"text-align: right;\">\n",
       "      <th></th>\n",
       "      <th>user_id</th>\n",
       "      <th>age</th>\n",
       "    </tr>\n",
       "  </thead>\n",
       "  <tbody>\n",
       "    <tr>\n",
       "      <th>count</th>\n",
       "      <td>500.000000</td>\n",
       "      <td>500.00000</td>\n",
       "    </tr>\n",
       "    <tr>\n",
       "      <th>mean</th>\n",
       "      <td>1249.500000</td>\n",
       "      <td>46.58800</td>\n",
       "    </tr>\n",
       "    <tr>\n",
       "      <th>std</th>\n",
       "      <td>144.481833</td>\n",
       "      <td>16.66763</td>\n",
       "    </tr>\n",
       "    <tr>\n",
       "      <th>min</th>\n",
       "      <td>1000.000000</td>\n",
       "      <td>18.00000</td>\n",
       "    </tr>\n",
       "    <tr>\n",
       "      <th>25%</th>\n",
       "      <td>1124.750000</td>\n",
       "      <td>32.00000</td>\n",
       "    </tr>\n",
       "    <tr>\n",
       "      <th>50%</th>\n",
       "      <td>1249.500000</td>\n",
       "      <td>46.00000</td>\n",
       "    </tr>\n",
       "    <tr>\n",
       "      <th>75%</th>\n",
       "      <td>1374.250000</td>\n",
       "      <td>62.00000</td>\n",
       "    </tr>\n",
       "    <tr>\n",
       "      <th>max</th>\n",
       "      <td>1499.000000</td>\n",
       "      <td>75.00000</td>\n",
       "    </tr>\n",
       "  </tbody>\n",
       "</table>\n",
       "</div>"
      ],
      "text/plain": [
       "           user_id        age\n",
       "count   500.000000  500.00000\n",
       "mean   1249.500000   46.58800\n",
       "std     144.481833   16.66763\n",
       "min    1000.000000   18.00000\n",
       "25%    1124.750000   32.00000\n",
       "50%    1249.500000   46.00000\n",
       "75%    1374.250000   62.00000\n",
       "max    1499.000000   75.00000"
      ]
     },
     "metadata": {},
     "output_type": "display_data"
    },
    {
     "name": "stdout",
     "output_type": "stream",
     "text": [
      "<class 'pandas.core.frame.DataFrame'>\n",
      "RangeIndex: 500 entries, 0 to 499\n",
      "Data columns (total 8 columns):\n",
      " #   Column      Non-Null Count  Dtype \n",
      "---  ------      --------------  ----- \n",
      " 0   user_id     500 non-null    int64 \n",
      " 1   age         500 non-null    int64 \n",
      " 2   churn_date  38 non-null     object\n",
      " 3   city        500 non-null    object\n",
      " 4   first_name  500 non-null    object\n",
      " 5   last_name   500 non-null    object\n",
      " 6   reg_date    500 non-null    object\n",
      " 7   tariff      500 non-null    object\n",
      "dtypes: int64(2), object(6)\n",
      "memory usage: 31.4+ KB\n"
     ]
    },
    {
     "data": {
      "text/plain": [
       "None"
      ]
     },
     "metadata": {},
     "output_type": "display_data"
    },
    {
     "data": {
      "text/plain": [
       "'Количество пропусков'"
      ]
     },
     "metadata": {},
     "output_type": "display_data"
    },
    {
     "data": {
      "text/plain": [
       "user_id         0\n",
       "age             0\n",
       "churn_date    462\n",
       "city            0\n",
       "first_name      0\n",
       "last_name       0\n",
       "reg_date        0\n",
       "tariff          0\n",
       "dtype: int64"
      ]
     },
     "metadata": {},
     "output_type": "display_data"
    }
   ],
   "source": [
    "df_describe(df_users)"
   ]
  },
  {
   "cell_type": "markdown",
   "id": "e11a3643",
   "metadata": {},
   "source": [
    "Можно отметить, что в таблице нет пропущенных данных кроме столбца **churn_date**, значения в котором означают дату прекращения пользования тарифом. Пропуски соответственно подразумевают, что тариф действовал на момент выгрузки и не являются ошибками."
   ]
  },
  {
   "cell_type": "code",
   "execution_count": 94,
   "id": "28457b1e",
   "metadata": {},
   "outputs": [
    {
     "data": {
      "text/plain": [
       "user_id  churn_date\n",
       "1019     2018-10-05    1\n",
       "1020     2018-12-18    1\n",
       "1034     2018-11-21    1\n",
       "1050     2018-10-03    1\n",
       "1051     2018-10-14    1\n",
       "1056     2018-10-14    1\n",
       "1062     2018-12-09    1\n",
       "1063     2018-12-11    1\n",
       "1064     2018-12-26    1\n",
       "1065     2018-12-09    1\n",
       "1071     2018-08-31    1\n",
       "1090     2018-12-03    1\n",
       "1128     2018-12-23    1\n",
       "1161     2018-11-07    1\n",
       "1163     2018-12-16    1\n",
       "1191     2018-10-03    1\n",
       "1201     2018-12-03    1\n",
       "1206     2018-12-20    1\n",
       "1232     2018-11-30    1\n",
       "1242     2018-12-21    1\n",
       "1254     2018-08-17    1\n",
       "1255     2018-09-02    1\n",
       "1265     2018-10-04    1\n",
       "1271     2018-11-13    1\n",
       "1293     2018-11-22    1\n",
       "1343     2018-10-28    1\n",
       "1353     2018-11-26    1\n",
       "1355     2018-11-27    1\n",
       "1367     2018-11-16    1\n",
       "1370     2018-10-27    1\n",
       "1371     2018-12-30    1\n",
       "1392     2018-09-27    1\n",
       "1399     2018-12-25    1\n",
       "1416     2018-12-14    1\n",
       "1422     2018-12-21    1\n",
       "1438     2018-12-24    1\n",
       "1480     2018-09-26    1\n",
       "1498     2018-10-25    1\n",
       "Name: churn_date, dtype: int64"
      ]
     },
     "execution_count": 94,
     "metadata": {},
     "output_type": "execute_result"
    }
   ],
   "source": [
    "df_users.groupby(by='user_id')['churn_date'].value_counts()"
   ]
  },
  {
   "cell_type": "markdown",
   "id": "9c678681",
   "metadata": {},
   "source": [
    "По данной группировке видно, что 38 значений в столбце **churn_date** приходятся на разных пользователей, что означает, что в датафрейме нет пользователей, которые бы меняли тариф более 1 раза внутри оператора. \n",
    "\n",
    "В данных по возрасту нет значений похожих на выбросы."
   ]
  },
  {
   "cell_type": "code",
   "execution_count": 95,
   "id": "e62efc02",
   "metadata": {},
   "outputs": [
    {
     "data": {
      "text/plain": [
       "1000    1\n",
       "1329    1\n",
       "1342    1\n",
       "1341    1\n",
       "1340    1\n",
       "       ..\n",
       "1161    1\n",
       "1160    1\n",
       "1159    1\n",
       "1158    1\n",
       "1499    1\n",
       "Name: user_id, Length: 500, dtype: int64"
      ]
     },
     "execution_count": 95,
     "metadata": {},
     "output_type": "execute_result"
    }
   ],
   "source": [
    "df_users['user_id'].value_counts()"
   ]
  },
  {
   "cell_type": "markdown",
   "id": "0f3a9d80",
   "metadata": {},
   "source": [
    "Также видно, данные в столбце **user_id** действительно уникальны и не дублируются для разных пользователей."
   ]
  },
  {
   "cell_type": "code",
   "execution_count": 96,
   "id": "365b06cd",
   "metadata": {},
   "outputs": [
    {
     "data": {
      "text/plain": [
       "array(['Краснодар', 'Москва', 'Стерлитамак', 'Новокузнецк',\n",
       "       'Набережные Челны', 'Ульяновск', 'Челябинск', 'Пермь', 'Тюмень',\n",
       "       'Самара', 'Санкт-Петербург', 'Иваново', 'Чебоксары', 'Омск', 'Уфа',\n",
       "       'Томск', 'Чита', 'Мурманск', 'Петрозаводск', 'Тверь',\n",
       "       'Екатеринбург', 'Махачкала', 'Вологда', 'Череповец', 'Ярославль',\n",
       "       'Сочи', 'Хабаровск', 'Ставрополь', 'Рязань', 'Улан-Удэ', 'Тула',\n",
       "       'Саратов', 'Ростов-на-Дону', 'Казань', 'Иркутск', 'Курск',\n",
       "       'Калуга', 'Якутск', 'Астрахань', 'Химки', 'Владикавказ',\n",
       "       'Волгоград', 'Саранск', 'Ижевск', 'Новосибирск', 'Брянск',\n",
       "       'Тольятти', 'Нижний Тагил', 'Орёл', 'Белгород', 'Воронеж',\n",
       "       'Волжский', 'Курган', 'Барнаул', 'Красноярск', 'Архангельск',\n",
       "       'Липецк', 'Кемерово', 'Киров', 'Сургут', 'Пенза', 'Магнитогорск',\n",
       "       'Нижний Новгород', 'Кострома', 'Владивосток', 'Тамбов', 'Балашиха',\n",
       "       'Севастополь', 'Калининград', 'Оренбург', 'Смоленск',\n",
       "       'Нижневартовск', 'Владимир', 'Новороссийск', 'Грозный', 'Подольск'],\n",
       "      dtype=object)"
      ]
     },
     "execution_count": 96,
     "metadata": {},
     "output_type": "execute_result"
    }
   ],
   "source": [
    "df_users['city'].unique()"
   ]
  },
  {
   "cell_type": "markdown",
   "id": "fe7e5168",
   "metadata": {},
   "source": [
    "По названию городов также не найдено скрытых дубликатов."
   ]
  },
  {
   "cell_type": "code",
   "execution_count": 97,
   "id": "40a0f0c9",
   "metadata": {},
   "outputs": [
    {
     "name": "stdout",
     "output_type": "stream",
     "text": [
      "Requirement already satisfied: pandas in /Users/vladislav/opt/anaconda3/lib/python3.9/site-packages (1.5.2)\n",
      "Requirement already satisfied: pytz>=2020.1 in /Users/vladislav/opt/anaconda3/lib/python3.9/site-packages (from pandas) (2022.1)\n",
      "Requirement already satisfied: python-dateutil>=2.8.1 in /Users/vladislav/opt/anaconda3/lib/python3.9/site-packages (from pandas) (2.8.2)\n",
      "Requirement already satisfied: numpy>=1.20.3 in /Users/vladislav/opt/anaconda3/lib/python3.9/site-packages (from pandas) (1.21.5)\n",
      "Requirement already satisfied: six>=1.5 in /Users/vladislav/opt/anaconda3/lib/python3.9/site-packages (from python-dateutil>=2.8.1->pandas) (1.16.0)\n",
      "Note: you may need to restart the kernel to use updated packages.\n"
     ]
    }
   ],
   "source": [
    "pip install pandas --upgrade"
   ]
  },
  {
   "cell_type": "code",
   "execution_count": 98,
   "id": "e66ec0d3",
   "metadata": {},
   "outputs": [
    {
     "name": "stderr",
     "output_type": "stream",
     "text": [
      "/var/folders/l7/5cd_m6hn1rl9r89zycsz4t400000gn/T/ipykernel_10322/2820314453.py:3: FutureWarning: Treating datetime data as categorical rather than numeric in `.describe` is deprecated and will be removed in a future version of pandas. Specify `datetime_is_numeric=True` to silence this warning and adopt the future behavior now.\n",
      "  df_users['reg_date'].describe()\n"
     ]
    },
    {
     "data": {
      "text/plain": [
       "count                     500\n",
       "unique                    270\n",
       "top       2018-05-28 00:00:00\n",
       "freq                        8\n",
       "first     2018-01-01 00:00:00\n",
       "last      2018-12-31 00:00:00\n",
       "Name: reg_date, dtype: object"
      ]
     },
     "execution_count": 98,
     "metadata": {},
     "output_type": "execute_result"
    }
   ],
   "source": [
    "df_users['reg_date'] = pd.to_datetime(df_users['reg_date'], format = '%Y %m %d')\n",
    "df_users['reg_date'].describe(datetime_is_numeric=True)\n",
    "df_users['reg_date'].describe()"
   ]
  },
  {
   "cell_type": "markdown",
   "id": "313bd7f4",
   "metadata": {},
   "source": [
    "В столбце *reg_date* изменен формат со строкового на формат дат для более удобной работы."
   ]
  },
  {
   "cell_type": "code",
   "execution_count": 99,
   "id": "767fb02f",
   "metadata": {},
   "outputs": [
    {
     "data": {
      "text/plain": [
       "smart    351\n",
       "ultra    149\n",
       "Name: tariff, dtype: int64"
      ]
     },
     "execution_count": 99,
     "metadata": {},
     "output_type": "execute_result"
    }
   ],
   "source": [
    "df_users['tariff'].value_counts()"
   ]
  },
  {
   "cell_type": "markdown",
   "id": "450b4d31",
   "metadata": {},
   "source": [
    "По данным срезам видно дата регистрации не имеет выбросов и пропусков, ограничивается только 2018 годом. В данных по выбраному тарифу тоже указаны только верные значения. Далее проанализируем файл со звонками.\n",
    "___"
   ]
  },
  {
   "cell_type": "code",
   "execution_count": 100,
   "id": "2a485f8a",
   "metadata": {},
   "outputs": [
    {
     "data": {
      "text/plain": [
       "'Первые 5 строк таблицы'"
      ]
     },
     "metadata": {},
     "output_type": "display_data"
    },
    {
     "data": {
      "text/html": [
       "<div>\n",
       "<style scoped>\n",
       "    .dataframe tbody tr th:only-of-type {\n",
       "        vertical-align: middle;\n",
       "    }\n",
       "\n",
       "    .dataframe tbody tr th {\n",
       "        vertical-align: top;\n",
       "    }\n",
       "\n",
       "    .dataframe thead th {\n",
       "        text-align: right;\n",
       "    }\n",
       "</style>\n",
       "<table border=\"1\" class=\"dataframe\">\n",
       "  <thead>\n",
       "    <tr style=\"text-align: right;\">\n",
       "      <th></th>\n",
       "      <th>id</th>\n",
       "      <th>call_date</th>\n",
       "      <th>duration</th>\n",
       "      <th>user_id</th>\n",
       "    </tr>\n",
       "  </thead>\n",
       "  <tbody>\n",
       "    <tr>\n",
       "      <th>0</th>\n",
       "      <td>1000_0</td>\n",
       "      <td>2018-07-25</td>\n",
       "      <td>0.00</td>\n",
       "      <td>1000</td>\n",
       "    </tr>\n",
       "    <tr>\n",
       "      <th>1</th>\n",
       "      <td>1000_1</td>\n",
       "      <td>2018-08-17</td>\n",
       "      <td>0.00</td>\n",
       "      <td>1000</td>\n",
       "    </tr>\n",
       "    <tr>\n",
       "      <th>2</th>\n",
       "      <td>1000_2</td>\n",
       "      <td>2018-06-11</td>\n",
       "      <td>2.85</td>\n",
       "      <td>1000</td>\n",
       "    </tr>\n",
       "    <tr>\n",
       "      <th>3</th>\n",
       "      <td>1000_3</td>\n",
       "      <td>2018-09-21</td>\n",
       "      <td>13.80</td>\n",
       "      <td>1000</td>\n",
       "    </tr>\n",
       "    <tr>\n",
       "      <th>4</th>\n",
       "      <td>1000_4</td>\n",
       "      <td>2018-12-15</td>\n",
       "      <td>5.18</td>\n",
       "      <td>1000</td>\n",
       "    </tr>\n",
       "  </tbody>\n",
       "</table>\n",
       "</div>"
      ],
      "text/plain": [
       "       id   call_date  duration  user_id\n",
       "0  1000_0  2018-07-25      0.00     1000\n",
       "1  1000_1  2018-08-17      0.00     1000\n",
       "2  1000_2  2018-06-11      2.85     1000\n",
       "3  1000_3  2018-09-21     13.80     1000\n",
       "4  1000_4  2018-12-15      5.18     1000"
      ]
     },
     "metadata": {},
     "output_type": "display_data"
    },
    {
     "data": {
      "text/plain": [
       "'Описание численных данных:'"
      ]
     },
     "metadata": {},
     "output_type": "display_data"
    },
    {
     "data": {
      "text/html": [
       "<div>\n",
       "<style scoped>\n",
       "    .dataframe tbody tr th:only-of-type {\n",
       "        vertical-align: middle;\n",
       "    }\n",
       "\n",
       "    .dataframe tbody tr th {\n",
       "        vertical-align: top;\n",
       "    }\n",
       "\n",
       "    .dataframe thead th {\n",
       "        text-align: right;\n",
       "    }\n",
       "</style>\n",
       "<table border=\"1\" class=\"dataframe\">\n",
       "  <thead>\n",
       "    <tr style=\"text-align: right;\">\n",
       "      <th></th>\n",
       "      <th>duration</th>\n",
       "      <th>user_id</th>\n",
       "    </tr>\n",
       "  </thead>\n",
       "  <tbody>\n",
       "    <tr>\n",
       "      <th>count</th>\n",
       "      <td>202607.000000</td>\n",
       "      <td>202607.000000</td>\n",
       "    </tr>\n",
       "    <tr>\n",
       "      <th>mean</th>\n",
       "      <td>6.755887</td>\n",
       "      <td>1253.940619</td>\n",
       "    </tr>\n",
       "    <tr>\n",
       "      <th>std</th>\n",
       "      <td>5.843365</td>\n",
       "      <td>144.722751</td>\n",
       "    </tr>\n",
       "    <tr>\n",
       "      <th>min</th>\n",
       "      <td>0.000000</td>\n",
       "      <td>1000.000000</td>\n",
       "    </tr>\n",
       "    <tr>\n",
       "      <th>25%</th>\n",
       "      <td>1.300000</td>\n",
       "      <td>1126.000000</td>\n",
       "    </tr>\n",
       "    <tr>\n",
       "      <th>50%</th>\n",
       "      <td>6.000000</td>\n",
       "      <td>1260.000000</td>\n",
       "    </tr>\n",
       "    <tr>\n",
       "      <th>75%</th>\n",
       "      <td>10.700000</td>\n",
       "      <td>1379.000000</td>\n",
       "    </tr>\n",
       "    <tr>\n",
       "      <th>max</th>\n",
       "      <td>38.000000</td>\n",
       "      <td>1499.000000</td>\n",
       "    </tr>\n",
       "  </tbody>\n",
       "</table>\n",
       "</div>"
      ],
      "text/plain": [
       "            duration        user_id\n",
       "count  202607.000000  202607.000000\n",
       "mean        6.755887    1253.940619\n",
       "std         5.843365     144.722751\n",
       "min         0.000000    1000.000000\n",
       "25%         1.300000    1126.000000\n",
       "50%         6.000000    1260.000000\n",
       "75%        10.700000    1379.000000\n",
       "max        38.000000    1499.000000"
      ]
     },
     "metadata": {},
     "output_type": "display_data"
    },
    {
     "name": "stdout",
     "output_type": "stream",
     "text": [
      "<class 'pandas.core.frame.DataFrame'>\n",
      "RangeIndex: 202607 entries, 0 to 202606\n",
      "Data columns (total 4 columns):\n",
      " #   Column     Non-Null Count   Dtype  \n",
      "---  ------     --------------   -----  \n",
      " 0   id         202607 non-null  object \n",
      " 1   call_date  202607 non-null  object \n",
      " 2   duration   202607 non-null  float64\n",
      " 3   user_id    202607 non-null  int64  \n",
      "dtypes: float64(1), int64(1), object(2)\n",
      "memory usage: 6.2+ MB\n"
     ]
    },
    {
     "data": {
      "text/plain": [
       "None"
      ]
     },
     "metadata": {},
     "output_type": "display_data"
    },
    {
     "data": {
      "text/plain": [
       "'Количество пропусков'"
      ]
     },
     "metadata": {},
     "output_type": "display_data"
    },
    {
     "data": {
      "text/plain": [
       "id           0\n",
       "call_date    0\n",
       "duration     0\n",
       "user_id      0\n",
       "dtype: int64"
      ]
     },
     "metadata": {},
     "output_type": "display_data"
    }
   ],
   "source": [
    "df_describe(df_calls)"
   ]
  },
  {
   "cell_type": "markdown",
   "id": "6ab4ccb1",
   "metadata": {},
   "source": [
    "Согласно документации к данным:"
   ]
  },
  {
   "cell_type": "markdown",
   "id": "a0154d28",
   "metadata": {},
   "source": [
    "Таблица *calls* (информация о звонках):\n",
    "\n",
    "* id — уникальный номер звонка\n",
    "* call_date — дата звонка\n",
    "* duration — длительность звонка в минутах\n",
    "* user_id — идентификатор пользователя, сделавшего звонок"
   ]
  },
  {
   "cell_type": "markdown",
   "id": "9cb206d7",
   "metadata": {},
   "source": [
    "По полученному анализу можно отметить:\n",
    " - В датафрейме с данными о звонках нет пропусков.\n",
    " - По длительности разговоров также нет выбросов - самый долгий звонок длился 38 минут, но необходимо округлить значения до минут в большую сторону (согласно правилам оператора).\n",
    " - В описании данных столбца *user_id* можно заметить, что медианный Id смещен - 1260 (вместо 1249,5), значит были абоненты, не совершившие ни одного звонка за год. \n",
    " - В столбце с датой звонка необходимо изменить формат для дальнейшей работы с object на datetime."
   ]
  },
  {
   "cell_type": "markdown",
   "id": "ffcb4525",
   "metadata": {},
   "source": [
    "Изучим данные по продолжительности звонков построим гистограмму."
   ]
  },
  {
   "cell_type": "code",
   "execution_count": 101,
   "id": "7a870175",
   "metadata": {
    "scrolled": true
   },
   "outputs": [
    {
     "data": {
      "image/png": "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\n",
      "text/plain": [
       "<Figure size 640x480 with 1 Axes>"
      ]
     },
     "metadata": {},
     "output_type": "display_data"
    }
   ],
   "source": [
    "df_calls['duration'].plot(kind='hist',bins=50,  color=\"#70AD47\", edgecolor=\"black\")\n",
    "plt.title(\"Распределение по длительности звонков\")\n",
    "plt.xlabel(\"Продолжительность, мин.\")\n",
    "plt.ylabel(\"Количество, ед.\")\n",
    "plt.show()"
   ]
  },
  {
   "cell_type": "markdown",
   "id": "fb7643d5",
   "metadata": {},
   "source": [
    "По данному распределению виден пик в районе 0 минут, по вводным условиям исследования сказано, что эти данные - пропущенные звонки, а не ошибки. \n",
    "В остальном распределение не вызывает вопросов."
   ]
  },
  {
   "cell_type": "code",
   "execution_count": 102,
   "id": "8e8df557",
   "metadata": {
    "scrolled": true
   },
   "outputs": [
    {
     "data": {
      "text/html": [
       "<div>\n",
       "<style scoped>\n",
       "    .dataframe tbody tr th:only-of-type {\n",
       "        vertical-align: middle;\n",
       "    }\n",
       "\n",
       "    .dataframe tbody tr th {\n",
       "        vertical-align: top;\n",
       "    }\n",
       "\n",
       "    .dataframe thead th {\n",
       "        text-align: right;\n",
       "    }\n",
       "</style>\n",
       "<table border=\"1\" class=\"dataframe\">\n",
       "  <thead>\n",
       "    <tr style=\"text-align: right;\">\n",
       "      <th></th>\n",
       "      <th>duration</th>\n",
       "      <th>user_id</th>\n",
       "    </tr>\n",
       "  </thead>\n",
       "  <tbody>\n",
       "    <tr>\n",
       "      <th>count</th>\n",
       "      <td>202607.000000</td>\n",
       "      <td>202607.000000</td>\n",
       "    </tr>\n",
       "    <tr>\n",
       "      <th>mean</th>\n",
       "      <td>7.158198</td>\n",
       "      <td>1253.940619</td>\n",
       "    </tr>\n",
       "    <tr>\n",
       "      <th>std</th>\n",
       "      <td>5.959173</td>\n",
       "      <td>144.722751</td>\n",
       "    </tr>\n",
       "    <tr>\n",
       "      <th>min</th>\n",
       "      <td>0.000000</td>\n",
       "      <td>1000.000000</td>\n",
       "    </tr>\n",
       "    <tr>\n",
       "      <th>25%</th>\n",
       "      <td>2.000000</td>\n",
       "      <td>1126.000000</td>\n",
       "    </tr>\n",
       "    <tr>\n",
       "      <th>50%</th>\n",
       "      <td>6.000000</td>\n",
       "      <td>1260.000000</td>\n",
       "    </tr>\n",
       "    <tr>\n",
       "      <th>75%</th>\n",
       "      <td>11.000000</td>\n",
       "      <td>1379.000000</td>\n",
       "    </tr>\n",
       "    <tr>\n",
       "      <th>max</th>\n",
       "      <td>38.000000</td>\n",
       "      <td>1499.000000</td>\n",
       "    </tr>\n",
       "  </tbody>\n",
       "</table>\n",
       "</div>"
      ],
      "text/plain": [
       "            duration        user_id\n",
       "count  202607.000000  202607.000000\n",
       "mean        7.158198    1253.940619\n",
       "std         5.959173     144.722751\n",
       "min         0.000000    1000.000000\n",
       "25%         2.000000    1126.000000\n",
       "50%         6.000000    1260.000000\n",
       "75%        11.000000    1379.000000\n",
       "max        38.000000    1499.000000"
      ]
     },
     "execution_count": 102,
     "metadata": {},
     "output_type": "execute_result"
    }
   ],
   "source": [
    "df_calls['call_date'] = pd.to_datetime(df_calls['call_date'], format = '%Y %m %d')\n",
    "df_calls['duration'] = df_calls['duration'].apply(np.ceil).astype('int64')\n",
    "df_calls.describe()"
   ]
  },
  {
   "cell_type": "markdown",
   "id": "3ad14040",
   "metadata": {},
   "source": [
    "Продолжительность звонка округлена до минут в большую сторону. Далее изучим данные по сообщениям из датафрейма **df_messages**\n",
    "___"
   ]
  },
  {
   "cell_type": "code",
   "execution_count": 103,
   "id": "82b70012",
   "metadata": {
    "scrolled": false
   },
   "outputs": [
    {
     "data": {
      "text/plain": [
       "'Первые 5 строк таблицы'"
      ]
     },
     "metadata": {},
     "output_type": "display_data"
    },
    {
     "data": {
      "text/html": [
       "<div>\n",
       "<style scoped>\n",
       "    .dataframe tbody tr th:only-of-type {\n",
       "        vertical-align: middle;\n",
       "    }\n",
       "\n",
       "    .dataframe tbody tr th {\n",
       "        vertical-align: top;\n",
       "    }\n",
       "\n",
       "    .dataframe thead th {\n",
       "        text-align: right;\n",
       "    }\n",
       "</style>\n",
       "<table border=\"1\" class=\"dataframe\">\n",
       "  <thead>\n",
       "    <tr style=\"text-align: right;\">\n",
       "      <th></th>\n",
       "      <th>id</th>\n",
       "      <th>message_date</th>\n",
       "      <th>user_id</th>\n",
       "    </tr>\n",
       "  </thead>\n",
       "  <tbody>\n",
       "    <tr>\n",
       "      <th>0</th>\n",
       "      <td>1000_0</td>\n",
       "      <td>2018-06-27</td>\n",
       "      <td>1000</td>\n",
       "    </tr>\n",
       "    <tr>\n",
       "      <th>1</th>\n",
       "      <td>1000_1</td>\n",
       "      <td>2018-10-08</td>\n",
       "      <td>1000</td>\n",
       "    </tr>\n",
       "    <tr>\n",
       "      <th>2</th>\n",
       "      <td>1000_2</td>\n",
       "      <td>2018-08-04</td>\n",
       "      <td>1000</td>\n",
       "    </tr>\n",
       "    <tr>\n",
       "      <th>3</th>\n",
       "      <td>1000_3</td>\n",
       "      <td>2018-06-16</td>\n",
       "      <td>1000</td>\n",
       "    </tr>\n",
       "    <tr>\n",
       "      <th>4</th>\n",
       "      <td>1000_4</td>\n",
       "      <td>2018-12-05</td>\n",
       "      <td>1000</td>\n",
       "    </tr>\n",
       "  </tbody>\n",
       "</table>\n",
       "</div>"
      ],
      "text/plain": [
       "       id message_date  user_id\n",
       "0  1000_0   2018-06-27     1000\n",
       "1  1000_1   2018-10-08     1000\n",
       "2  1000_2   2018-08-04     1000\n",
       "3  1000_3   2018-06-16     1000\n",
       "4  1000_4   2018-12-05     1000"
      ]
     },
     "metadata": {},
     "output_type": "display_data"
    },
    {
     "data": {
      "text/plain": [
       "'Описание численных данных:'"
      ]
     },
     "metadata": {},
     "output_type": "display_data"
    },
    {
     "data": {
      "text/html": [
       "<div>\n",
       "<style scoped>\n",
       "    .dataframe tbody tr th:only-of-type {\n",
       "        vertical-align: middle;\n",
       "    }\n",
       "\n",
       "    .dataframe tbody tr th {\n",
       "        vertical-align: top;\n",
       "    }\n",
       "\n",
       "    .dataframe thead th {\n",
       "        text-align: right;\n",
       "    }\n",
       "</style>\n",
       "<table border=\"1\" class=\"dataframe\">\n",
       "  <thead>\n",
       "    <tr style=\"text-align: right;\">\n",
       "      <th></th>\n",
       "      <th>user_id</th>\n",
       "    </tr>\n",
       "  </thead>\n",
       "  <tbody>\n",
       "    <tr>\n",
       "      <th>count</th>\n",
       "      <td>123036.000000</td>\n",
       "    </tr>\n",
       "    <tr>\n",
       "      <th>mean</th>\n",
       "      <td>1256.989410</td>\n",
       "    </tr>\n",
       "    <tr>\n",
       "      <th>std</th>\n",
       "      <td>143.523967</td>\n",
       "    </tr>\n",
       "    <tr>\n",
       "      <th>min</th>\n",
       "      <td>1000.000000</td>\n",
       "    </tr>\n",
       "    <tr>\n",
       "      <th>25%</th>\n",
       "      <td>1134.000000</td>\n",
       "    </tr>\n",
       "    <tr>\n",
       "      <th>50%</th>\n",
       "      <td>1271.000000</td>\n",
       "    </tr>\n",
       "    <tr>\n",
       "      <th>75%</th>\n",
       "      <td>1381.000000</td>\n",
       "    </tr>\n",
       "    <tr>\n",
       "      <th>max</th>\n",
       "      <td>1499.000000</td>\n",
       "    </tr>\n",
       "  </tbody>\n",
       "</table>\n",
       "</div>"
      ],
      "text/plain": [
       "             user_id\n",
       "count  123036.000000\n",
       "mean     1256.989410\n",
       "std       143.523967\n",
       "min      1000.000000\n",
       "25%      1134.000000\n",
       "50%      1271.000000\n",
       "75%      1381.000000\n",
       "max      1499.000000"
      ]
     },
     "metadata": {},
     "output_type": "display_data"
    },
    {
     "name": "stdout",
     "output_type": "stream",
     "text": [
      "<class 'pandas.core.frame.DataFrame'>\n",
      "RangeIndex: 123036 entries, 0 to 123035\n",
      "Data columns (total 3 columns):\n",
      " #   Column        Non-Null Count   Dtype \n",
      "---  ------        --------------   ----- \n",
      " 0   id            123036 non-null  object\n",
      " 1   message_date  123036 non-null  object\n",
      " 2   user_id       123036 non-null  int64 \n",
      "dtypes: int64(1), object(2)\n",
      "memory usage: 2.8+ MB\n"
     ]
    },
    {
     "data": {
      "text/plain": [
       "None"
      ]
     },
     "metadata": {},
     "output_type": "display_data"
    },
    {
     "data": {
      "text/plain": [
       "'Количество пропусков'"
      ]
     },
     "metadata": {},
     "output_type": "display_data"
    },
    {
     "data": {
      "text/plain": [
       "id              0\n",
       "message_date    0\n",
       "user_id         0\n",
       "dtype: int64"
      ]
     },
     "metadata": {},
     "output_type": "display_data"
    }
   ],
   "source": [
    "df_describe(df_messages)"
   ]
  },
  {
   "cell_type": "markdown",
   "id": "d2d718ad",
   "metadata": {},
   "source": [
    "По документации к данным:\n",
    "    \n",
    "Таблица *messages* (информация о сообщениях):\n",
    "* id — уникальный номер сообщения\n",
    "* message_date — дата сообщения\n",
    "* user_id — идентификатор пользователя, отправившего сообщение"
   ]
  },
  {
   "cell_type": "markdown",
   "id": "abce93fb",
   "metadata": {},
   "source": [
    "По полученному анализу можно отметить:\n",
    "- В датафрейме с данными о сообщениях нет пропусков.\n",
    "- В описании данных столбца user_id можно заметить, что медианный Id смещен - 1271 (вместо 1249,5), значит были абоненты, не отправившие ни одного сообщения за год.\n",
    "- В столбце с датой сообщения необходимо изменить формат для дальнейшей работы с object на datetime."
   ]
  },
  {
   "cell_type": "code",
   "execution_count": 104,
   "id": "21a7ff62",
   "metadata": {},
   "outputs": [],
   "source": [
    "df_messages['message_date'] = pd.to_datetime(df_messages['message_date'], format = '%Y %m %d')"
   ]
  },
  {
   "cell_type": "markdown",
   "id": "6d7c59ab",
   "metadata": {},
   "source": [
    "___\n",
    "Далее изучим данные по сообщениям из датафрейма df_tariffs"
   ]
  },
  {
   "cell_type": "code",
   "execution_count": 105,
   "id": "6da86eb7",
   "metadata": {},
   "outputs": [
    {
     "data": {
      "text/plain": [
       "'Первые 5 строк таблицы'"
      ]
     },
     "metadata": {},
     "output_type": "display_data"
    },
    {
     "data": {
      "text/html": [
       "<div>\n",
       "<style scoped>\n",
       "    .dataframe tbody tr th:only-of-type {\n",
       "        vertical-align: middle;\n",
       "    }\n",
       "\n",
       "    .dataframe tbody tr th {\n",
       "        vertical-align: top;\n",
       "    }\n",
       "\n",
       "    .dataframe thead th {\n",
       "        text-align: right;\n",
       "    }\n",
       "</style>\n",
       "<table border=\"1\" class=\"dataframe\">\n",
       "  <thead>\n",
       "    <tr style=\"text-align: right;\">\n",
       "      <th></th>\n",
       "      <th>messages_included</th>\n",
       "      <th>mb_per_month_included</th>\n",
       "      <th>minutes_included</th>\n",
       "      <th>rub_monthly_fee</th>\n",
       "      <th>rub_per_gb</th>\n",
       "      <th>rub_per_message</th>\n",
       "      <th>rub_per_minute</th>\n",
       "      <th>tariff_name</th>\n",
       "    </tr>\n",
       "  </thead>\n",
       "  <tbody>\n",
       "    <tr>\n",
       "      <th>0</th>\n",
       "      <td>50</td>\n",
       "      <td>15360</td>\n",
       "      <td>500</td>\n",
       "      <td>550</td>\n",
       "      <td>200</td>\n",
       "      <td>3</td>\n",
       "      <td>3</td>\n",
       "      <td>smart</td>\n",
       "    </tr>\n",
       "    <tr>\n",
       "      <th>1</th>\n",
       "      <td>1000</td>\n",
       "      <td>30720</td>\n",
       "      <td>3000</td>\n",
       "      <td>1950</td>\n",
       "      <td>150</td>\n",
       "      <td>1</td>\n",
       "      <td>1</td>\n",
       "      <td>ultra</td>\n",
       "    </tr>\n",
       "  </tbody>\n",
       "</table>\n",
       "</div>"
      ],
      "text/plain": [
       "   messages_included  mb_per_month_included  minutes_included  \\\n",
       "0                 50                  15360               500   \n",
       "1               1000                  30720              3000   \n",
       "\n",
       "   rub_monthly_fee  rub_per_gb  rub_per_message  rub_per_minute tariff_name  \n",
       "0              550         200                3               3       smart  \n",
       "1             1950         150                1               1       ultra  "
      ]
     },
     "metadata": {},
     "output_type": "display_data"
    },
    {
     "data": {
      "text/plain": [
       "'Описание численных данных:'"
      ]
     },
     "metadata": {},
     "output_type": "display_data"
    },
    {
     "data": {
      "text/html": [
       "<div>\n",
       "<style scoped>\n",
       "    .dataframe tbody tr th:only-of-type {\n",
       "        vertical-align: middle;\n",
       "    }\n",
       "\n",
       "    .dataframe tbody tr th {\n",
       "        vertical-align: top;\n",
       "    }\n",
       "\n",
       "    .dataframe thead th {\n",
       "        text-align: right;\n",
       "    }\n",
       "</style>\n",
       "<table border=\"1\" class=\"dataframe\">\n",
       "  <thead>\n",
       "    <tr style=\"text-align: right;\">\n",
       "      <th></th>\n",
       "      <th>messages_included</th>\n",
       "      <th>mb_per_month_included</th>\n",
       "      <th>minutes_included</th>\n",
       "      <th>rub_monthly_fee</th>\n",
       "      <th>rub_per_gb</th>\n",
       "      <th>rub_per_message</th>\n",
       "      <th>rub_per_minute</th>\n",
       "    </tr>\n",
       "  </thead>\n",
       "  <tbody>\n",
       "    <tr>\n",
       "      <th>count</th>\n",
       "      <td>2.000000</td>\n",
       "      <td>2.000000</td>\n",
       "      <td>2.000000</td>\n",
       "      <td>2.000000</td>\n",
       "      <td>2.000000</td>\n",
       "      <td>2.000000</td>\n",
       "      <td>2.000000</td>\n",
       "    </tr>\n",
       "    <tr>\n",
       "      <th>mean</th>\n",
       "      <td>525.000000</td>\n",
       "      <td>23040.000000</td>\n",
       "      <td>1750.000000</td>\n",
       "      <td>1250.000000</td>\n",
       "      <td>175.000000</td>\n",
       "      <td>2.000000</td>\n",
       "      <td>2.000000</td>\n",
       "    </tr>\n",
       "    <tr>\n",
       "      <th>std</th>\n",
       "      <td>671.751442</td>\n",
       "      <td>10861.160159</td>\n",
       "      <td>1767.766953</td>\n",
       "      <td>989.949494</td>\n",
       "      <td>35.355339</td>\n",
       "      <td>1.414214</td>\n",
       "      <td>1.414214</td>\n",
       "    </tr>\n",
       "    <tr>\n",
       "      <th>min</th>\n",
       "      <td>50.000000</td>\n",
       "      <td>15360.000000</td>\n",
       "      <td>500.000000</td>\n",
       "      <td>550.000000</td>\n",
       "      <td>150.000000</td>\n",
       "      <td>1.000000</td>\n",
       "      <td>1.000000</td>\n",
       "    </tr>\n",
       "    <tr>\n",
       "      <th>25%</th>\n",
       "      <td>287.500000</td>\n",
       "      <td>19200.000000</td>\n",
       "      <td>1125.000000</td>\n",
       "      <td>900.000000</td>\n",
       "      <td>162.500000</td>\n",
       "      <td>1.500000</td>\n",
       "      <td>1.500000</td>\n",
       "    </tr>\n",
       "    <tr>\n",
       "      <th>50%</th>\n",
       "      <td>525.000000</td>\n",
       "      <td>23040.000000</td>\n",
       "      <td>1750.000000</td>\n",
       "      <td>1250.000000</td>\n",
       "      <td>175.000000</td>\n",
       "      <td>2.000000</td>\n",
       "      <td>2.000000</td>\n",
       "    </tr>\n",
       "    <tr>\n",
       "      <th>75%</th>\n",
       "      <td>762.500000</td>\n",
       "      <td>26880.000000</td>\n",
       "      <td>2375.000000</td>\n",
       "      <td>1600.000000</td>\n",
       "      <td>187.500000</td>\n",
       "      <td>2.500000</td>\n",
       "      <td>2.500000</td>\n",
       "    </tr>\n",
       "    <tr>\n",
       "      <th>max</th>\n",
       "      <td>1000.000000</td>\n",
       "      <td>30720.000000</td>\n",
       "      <td>3000.000000</td>\n",
       "      <td>1950.000000</td>\n",
       "      <td>200.000000</td>\n",
       "      <td>3.000000</td>\n",
       "      <td>3.000000</td>\n",
       "    </tr>\n",
       "  </tbody>\n",
       "</table>\n",
       "</div>"
      ],
      "text/plain": [
       "       messages_included  mb_per_month_included  minutes_included  \\\n",
       "count           2.000000               2.000000          2.000000   \n",
       "mean          525.000000           23040.000000       1750.000000   \n",
       "std           671.751442           10861.160159       1767.766953   \n",
       "min            50.000000           15360.000000        500.000000   \n",
       "25%           287.500000           19200.000000       1125.000000   \n",
       "50%           525.000000           23040.000000       1750.000000   \n",
       "75%           762.500000           26880.000000       2375.000000   \n",
       "max          1000.000000           30720.000000       3000.000000   \n",
       "\n",
       "       rub_monthly_fee  rub_per_gb  rub_per_message  rub_per_minute  \n",
       "count         2.000000    2.000000         2.000000        2.000000  \n",
       "mean       1250.000000  175.000000         2.000000        2.000000  \n",
       "std         989.949494   35.355339         1.414214        1.414214  \n",
       "min         550.000000  150.000000         1.000000        1.000000  \n",
       "25%         900.000000  162.500000         1.500000        1.500000  \n",
       "50%        1250.000000  175.000000         2.000000        2.000000  \n",
       "75%        1600.000000  187.500000         2.500000        2.500000  \n",
       "max        1950.000000  200.000000         3.000000        3.000000  "
      ]
     },
     "metadata": {},
     "output_type": "display_data"
    },
    {
     "name": "stdout",
     "output_type": "stream",
     "text": [
      "<class 'pandas.core.frame.DataFrame'>\n",
      "RangeIndex: 2 entries, 0 to 1\n",
      "Data columns (total 8 columns):\n",
      " #   Column                 Non-Null Count  Dtype \n",
      "---  ------                 --------------  ----- \n",
      " 0   messages_included      2 non-null      int64 \n",
      " 1   mb_per_month_included  2 non-null      int64 \n",
      " 2   minutes_included       2 non-null      int64 \n",
      " 3   rub_monthly_fee        2 non-null      int64 \n",
      " 4   rub_per_gb             2 non-null      int64 \n",
      " 5   rub_per_message        2 non-null      int64 \n",
      " 6   rub_per_minute         2 non-null      int64 \n",
      " 7   tariff_name            2 non-null      object\n",
      "dtypes: int64(7), object(1)\n",
      "memory usage: 256.0+ bytes\n"
     ]
    },
    {
     "data": {
      "text/plain": [
       "None"
      ]
     },
     "metadata": {},
     "output_type": "display_data"
    },
    {
     "data": {
      "text/plain": [
       "'Количество пропусков'"
      ]
     },
     "metadata": {},
     "output_type": "display_data"
    },
    {
     "data": {
      "text/plain": [
       "messages_included        0\n",
       "mb_per_month_included    0\n",
       "minutes_included         0\n",
       "rub_monthly_fee          0\n",
       "rub_per_gb               0\n",
       "rub_per_message          0\n",
       "rub_per_minute           0\n",
       "tariff_name              0\n",
       "dtype: int64"
      ]
     },
     "metadata": {},
     "output_type": "display_data"
    }
   ],
   "source": [
    "df_describe(df_tariffs)"
   ]
  },
  {
   "cell_type": "markdown",
   "id": "cb5548bb",
   "metadata": {},
   "source": [
    "В данном датафрейме нет пропусков и ошибок в данных. Далее необходимо изучить данные из файла **df_internet**\n",
    "___"
   ]
  },
  {
   "cell_type": "code",
   "execution_count": 106,
   "id": "64df4b2f",
   "metadata": {
    "scrolled": true
   },
   "outputs": [
    {
     "data": {
      "text/plain": [
       "'Первые 5 строк таблицы'"
      ]
     },
     "metadata": {},
     "output_type": "display_data"
    },
    {
     "data": {
      "text/html": [
       "<div>\n",
       "<style scoped>\n",
       "    .dataframe tbody tr th:only-of-type {\n",
       "        vertical-align: middle;\n",
       "    }\n",
       "\n",
       "    .dataframe tbody tr th {\n",
       "        vertical-align: top;\n",
       "    }\n",
       "\n",
       "    .dataframe thead th {\n",
       "        text-align: right;\n",
       "    }\n",
       "</style>\n",
       "<table border=\"1\" class=\"dataframe\">\n",
       "  <thead>\n",
       "    <tr style=\"text-align: right;\">\n",
       "      <th></th>\n",
       "      <th>Unnamed: 0</th>\n",
       "      <th>id</th>\n",
       "      <th>mb_used</th>\n",
       "      <th>session_date</th>\n",
       "      <th>user_id</th>\n",
       "    </tr>\n",
       "  </thead>\n",
       "  <tbody>\n",
       "    <tr>\n",
       "      <th>0</th>\n",
       "      <td>0</td>\n",
       "      <td>1000_0</td>\n",
       "      <td>112.95</td>\n",
       "      <td>2018-11-25</td>\n",
       "      <td>1000</td>\n",
       "    </tr>\n",
       "    <tr>\n",
       "      <th>1</th>\n",
       "      <td>1</td>\n",
       "      <td>1000_1</td>\n",
       "      <td>1052.81</td>\n",
       "      <td>2018-09-07</td>\n",
       "      <td>1000</td>\n",
       "    </tr>\n",
       "    <tr>\n",
       "      <th>2</th>\n",
       "      <td>2</td>\n",
       "      <td>1000_2</td>\n",
       "      <td>1197.26</td>\n",
       "      <td>2018-06-25</td>\n",
       "      <td>1000</td>\n",
       "    </tr>\n",
       "    <tr>\n",
       "      <th>3</th>\n",
       "      <td>3</td>\n",
       "      <td>1000_3</td>\n",
       "      <td>550.27</td>\n",
       "      <td>2018-08-22</td>\n",
       "      <td>1000</td>\n",
       "    </tr>\n",
       "    <tr>\n",
       "      <th>4</th>\n",
       "      <td>4</td>\n",
       "      <td>1000_4</td>\n",
       "      <td>302.56</td>\n",
       "      <td>2018-09-24</td>\n",
       "      <td>1000</td>\n",
       "    </tr>\n",
       "  </tbody>\n",
       "</table>\n",
       "</div>"
      ],
      "text/plain": [
       "   Unnamed: 0      id  mb_used session_date  user_id\n",
       "0           0  1000_0   112.95   2018-11-25     1000\n",
       "1           1  1000_1  1052.81   2018-09-07     1000\n",
       "2           2  1000_2  1197.26   2018-06-25     1000\n",
       "3           3  1000_3   550.27   2018-08-22     1000\n",
       "4           4  1000_4   302.56   2018-09-24     1000"
      ]
     },
     "metadata": {},
     "output_type": "display_data"
    },
    {
     "data": {
      "text/plain": [
       "'Описание численных данных:'"
      ]
     },
     "metadata": {},
     "output_type": "display_data"
    },
    {
     "data": {
      "text/html": [
       "<div>\n",
       "<style scoped>\n",
       "    .dataframe tbody tr th:only-of-type {\n",
       "        vertical-align: middle;\n",
       "    }\n",
       "\n",
       "    .dataframe tbody tr th {\n",
       "        vertical-align: top;\n",
       "    }\n",
       "\n",
       "    .dataframe thead th {\n",
       "        text-align: right;\n",
       "    }\n",
       "</style>\n",
       "<table border=\"1\" class=\"dataframe\">\n",
       "  <thead>\n",
       "    <tr style=\"text-align: right;\">\n",
       "      <th></th>\n",
       "      <th>Unnamed: 0</th>\n",
       "      <th>mb_used</th>\n",
       "      <th>user_id</th>\n",
       "    </tr>\n",
       "  </thead>\n",
       "  <tbody>\n",
       "    <tr>\n",
       "      <th>count</th>\n",
       "      <td>149396.000000</td>\n",
       "      <td>149396.000000</td>\n",
       "      <td>149396.000000</td>\n",
       "    </tr>\n",
       "    <tr>\n",
       "      <th>mean</th>\n",
       "      <td>74697.500000</td>\n",
       "      <td>370.192426</td>\n",
       "      <td>1252.099842</td>\n",
       "    </tr>\n",
       "    <tr>\n",
       "      <th>std</th>\n",
       "      <td>43127.054745</td>\n",
       "      <td>278.300951</td>\n",
       "      <td>144.050823</td>\n",
       "    </tr>\n",
       "    <tr>\n",
       "      <th>min</th>\n",
       "      <td>0.000000</td>\n",
       "      <td>0.000000</td>\n",
       "      <td>1000.000000</td>\n",
       "    </tr>\n",
       "    <tr>\n",
       "      <th>25%</th>\n",
       "      <td>37348.750000</td>\n",
       "      <td>138.187500</td>\n",
       "      <td>1130.000000</td>\n",
       "    </tr>\n",
       "    <tr>\n",
       "      <th>50%</th>\n",
       "      <td>74697.500000</td>\n",
       "      <td>348.015000</td>\n",
       "      <td>1251.000000</td>\n",
       "    </tr>\n",
       "    <tr>\n",
       "      <th>75%</th>\n",
       "      <td>112046.250000</td>\n",
       "      <td>559.552500</td>\n",
       "      <td>1380.000000</td>\n",
       "    </tr>\n",
       "    <tr>\n",
       "      <th>max</th>\n",
       "      <td>149395.000000</td>\n",
       "      <td>1724.830000</td>\n",
       "      <td>1499.000000</td>\n",
       "    </tr>\n",
       "  </tbody>\n",
       "</table>\n",
       "</div>"
      ],
      "text/plain": [
       "          Unnamed: 0        mb_used        user_id\n",
       "count  149396.000000  149396.000000  149396.000000\n",
       "mean    74697.500000     370.192426    1252.099842\n",
       "std     43127.054745     278.300951     144.050823\n",
       "min         0.000000       0.000000    1000.000000\n",
       "25%     37348.750000     138.187500    1130.000000\n",
       "50%     74697.500000     348.015000    1251.000000\n",
       "75%    112046.250000     559.552500    1380.000000\n",
       "max    149395.000000    1724.830000    1499.000000"
      ]
     },
     "metadata": {},
     "output_type": "display_data"
    },
    {
     "name": "stdout",
     "output_type": "stream",
     "text": [
      "<class 'pandas.core.frame.DataFrame'>\n",
      "RangeIndex: 149396 entries, 0 to 149395\n",
      "Data columns (total 5 columns):\n",
      " #   Column        Non-Null Count   Dtype  \n",
      "---  ------        --------------   -----  \n",
      " 0   Unnamed: 0    149396 non-null  int64  \n",
      " 1   id            149396 non-null  object \n",
      " 2   mb_used       149396 non-null  float64\n",
      " 3   session_date  149396 non-null  object \n",
      " 4   user_id       149396 non-null  int64  \n",
      "dtypes: float64(1), int64(2), object(2)\n",
      "memory usage: 5.7+ MB\n"
     ]
    },
    {
     "data": {
      "text/plain": [
       "None"
      ]
     },
     "metadata": {},
     "output_type": "display_data"
    },
    {
     "data": {
      "text/plain": [
       "'Количество пропусков'"
      ]
     },
     "metadata": {},
     "output_type": "display_data"
    },
    {
     "data": {
      "text/plain": [
       "Unnamed: 0      0\n",
       "id              0\n",
       "mb_used         0\n",
       "session_date    0\n",
       "user_id         0\n",
       "dtype: int64"
      ]
     },
     "metadata": {},
     "output_type": "display_data"
    }
   ],
   "source": [
    "df_describe(df_internet)"
   ]
  },
  {
   "cell_type": "markdown",
   "id": "80b851b0",
   "metadata": {},
   "source": [
    "Изучим данные по интернет-сессиям и построим гистограмму."
   ]
  },
  {
   "cell_type": "code",
   "execution_count": 107,
   "id": "0509bbbf",
   "metadata": {
    "scrolled": true
   },
   "outputs": [
    {
     "data": {
      "image/png": "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\n",
      "text/plain": [
       "<Figure size 640x480 with 1 Axes>"
      ]
     },
     "metadata": {},
     "output_type": "display_data"
    }
   ],
   "source": [
    "df_internet['mb_used'].plot(kind='hist',bins=100,  color=\"#70AD47\", edgecolor=\"black\")\n",
    "plt.title(\"Распределение по объему траффика сессии\")\n",
    "plt.xlabel(\"Объем траффика, мегабайт.\")\n",
    "plt.ylabel(\"Количество, ед.\")\n",
    "plt.show()"
   ]
  },
  {
   "cell_type": "markdown",
   "id": "c3b8854d",
   "metadata": {},
   "source": [
    "По распределению трафика также виден пик в районе нулевой отметки. По аналогии с нулевыми значениями в продолжительности звонков можно предположить, что это была активация сим-карты, либо операции с минимально необходимым объемом трафика (прим. фоновое обновление мессенджера). В условиях учебного проекта отсутствует возможность уточнить природу появления этих данных.\n",
    "Так как их наличие не повлияет на изучение зависимости расходов от объема потраченного траффика (объем попадет в лимит предоплаченного пакета интернета) данные можно оставить."
   ]
  },
  {
   "cell_type": "markdown",
   "id": "6410582e",
   "metadata": {},
   "source": [
    "По аналогии с другими файлами также необходимо изменить формат столбца **session_date** в формат datetime."
   ]
  },
  {
   "cell_type": "code",
   "execution_count": 108,
   "id": "6f09b084",
   "metadata": {},
   "outputs": [
    {
     "data": {
      "text/html": [
       "<div>\n",
       "<style scoped>\n",
       "    .dataframe tbody tr th:only-of-type {\n",
       "        vertical-align: middle;\n",
       "    }\n",
       "\n",
       "    .dataframe tbody tr th {\n",
       "        vertical-align: top;\n",
       "    }\n",
       "\n",
       "    .dataframe thead th {\n",
       "        text-align: right;\n",
       "    }\n",
       "</style>\n",
       "<table border=\"1\" class=\"dataframe\">\n",
       "  <thead>\n",
       "    <tr style=\"text-align: right;\">\n",
       "      <th></th>\n",
       "      <th>Unnamed: 0</th>\n",
       "      <th>id</th>\n",
       "      <th>mb_used</th>\n",
       "      <th>session_date</th>\n",
       "      <th>user_id</th>\n",
       "    </tr>\n",
       "  </thead>\n",
       "  <tbody>\n",
       "    <tr>\n",
       "      <th>0</th>\n",
       "      <td>0</td>\n",
       "      <td>1000_0</td>\n",
       "      <td>112.95</td>\n",
       "      <td>2018-11-25</td>\n",
       "      <td>1000</td>\n",
       "    </tr>\n",
       "    <tr>\n",
       "      <th>1</th>\n",
       "      <td>1</td>\n",
       "      <td>1000_1</td>\n",
       "      <td>1052.81</td>\n",
       "      <td>2018-09-07</td>\n",
       "      <td>1000</td>\n",
       "    </tr>\n",
       "    <tr>\n",
       "      <th>2</th>\n",
       "      <td>2</td>\n",
       "      <td>1000_2</td>\n",
       "      <td>1197.26</td>\n",
       "      <td>2018-06-25</td>\n",
       "      <td>1000</td>\n",
       "    </tr>\n",
       "    <tr>\n",
       "      <th>3</th>\n",
       "      <td>3</td>\n",
       "      <td>1000_3</td>\n",
       "      <td>550.27</td>\n",
       "      <td>2018-08-22</td>\n",
       "      <td>1000</td>\n",
       "    </tr>\n",
       "    <tr>\n",
       "      <th>4</th>\n",
       "      <td>4</td>\n",
       "      <td>1000_4</td>\n",
       "      <td>302.56</td>\n",
       "      <td>2018-09-24</td>\n",
       "      <td>1000</td>\n",
       "    </tr>\n",
       "  </tbody>\n",
       "</table>\n",
       "</div>"
      ],
      "text/plain": [
       "   Unnamed: 0      id  mb_used session_date  user_id\n",
       "0           0  1000_0   112.95   2018-11-25     1000\n",
       "1           1  1000_1  1052.81   2018-09-07     1000\n",
       "2           2  1000_2  1197.26   2018-06-25     1000\n",
       "3           3  1000_3   550.27   2018-08-22     1000\n",
       "4           4  1000_4   302.56   2018-09-24     1000"
      ]
     },
     "execution_count": 108,
     "metadata": {},
     "output_type": "execute_result"
    }
   ],
   "source": [
    "df_internet['session_date'] = pd.to_datetime(df_internet['session_date'],format='%Y %m %d')\n",
    "df_internet.head()"
   ]
  },
  {
   "cell_type": "markdown",
   "id": "d757975a",
   "metadata": {},
   "source": [
    "На данном этапе можно перейти к подготовке данных.\n",
    "___"
   ]
  },
  {
   "cell_type": "markdown",
   "id": "4a9c32f8",
   "metadata": {},
   "source": [
    "### Подготовка данных"
   ]
  },
  {
   "cell_type": "markdown",
   "id": "8f3434e4",
   "metadata": {},
   "source": [
    "Согласно задачам исследования нам необходимо определить:\n",
    "- какой объем сделанных звонков и израсходованных минут разговора по месяцам для каждого пользователя?\n",
    "- какое количество отправленных сообщений по месяцам для каждого пользователя?\n",
    "- какой объем израсходованного интернет-трафика по месяцам для каждого пользователя?\n",
    "- сколько составляет помесячная выручка с каждого пользователя?"
   ]
  },
  {
   "cell_type": "markdown",
   "id": "e13774db",
   "metadata": {},
   "source": [
    "Для ответов на вопросы в вышеперечисленных пунктах потребуются данные в разбивке по месяцам."
   ]
  },
  {
   "cell_type": "code",
   "execution_count": 109,
   "id": "254b4e64",
   "metadata": {
    "scrolled": true
   },
   "outputs": [
    {
     "data": {
      "text/html": [
       "<div>\n",
       "<style scoped>\n",
       "    .dataframe tbody tr th:only-of-type {\n",
       "        vertical-align: middle;\n",
       "    }\n",
       "\n",
       "    .dataframe tbody tr th {\n",
       "        vertical-align: top;\n",
       "    }\n",
       "\n",
       "    .dataframe thead th {\n",
       "        text-align: right;\n",
       "    }\n",
       "</style>\n",
       "<table border=\"1\" class=\"dataframe\">\n",
       "  <thead>\n",
       "    <tr style=\"text-align: right;\">\n",
       "      <th></th>\n",
       "      <th>id</th>\n",
       "      <th>message_date</th>\n",
       "      <th>user_id</th>\n",
       "      <th>date_month</th>\n",
       "    </tr>\n",
       "  </thead>\n",
       "  <tbody>\n",
       "    <tr>\n",
       "      <th>0</th>\n",
       "      <td>1000_0</td>\n",
       "      <td>2018-06-27</td>\n",
       "      <td>1000</td>\n",
       "      <td>6</td>\n",
       "    </tr>\n",
       "    <tr>\n",
       "      <th>1</th>\n",
       "      <td>1000_1</td>\n",
       "      <td>2018-10-08</td>\n",
       "      <td>1000</td>\n",
       "      <td>10</td>\n",
       "    </tr>\n",
       "    <tr>\n",
       "      <th>2</th>\n",
       "      <td>1000_2</td>\n",
       "      <td>2018-08-04</td>\n",
       "      <td>1000</td>\n",
       "      <td>8</td>\n",
       "    </tr>\n",
       "    <tr>\n",
       "      <th>3</th>\n",
       "      <td>1000_3</td>\n",
       "      <td>2018-06-16</td>\n",
       "      <td>1000</td>\n",
       "      <td>6</td>\n",
       "    </tr>\n",
       "    <tr>\n",
       "      <th>4</th>\n",
       "      <td>1000_4</td>\n",
       "      <td>2018-12-05</td>\n",
       "      <td>1000</td>\n",
       "      <td>12</td>\n",
       "    </tr>\n",
       "  </tbody>\n",
       "</table>\n",
       "</div>"
      ],
      "text/plain": [
       "       id message_date  user_id  date_month\n",
       "0  1000_0   2018-06-27     1000           6\n",
       "1  1000_1   2018-10-08     1000          10\n",
       "2  1000_2   2018-08-04     1000           8\n",
       "3  1000_3   2018-06-16     1000           6\n",
       "4  1000_4   2018-12-05     1000          12"
      ]
     },
     "execution_count": 109,
     "metadata": {},
     "output_type": "execute_result"
    }
   ],
   "source": [
    "df_calls['date_month'] = pd.DatetimeIndex(df_calls['call_date']).month\n",
    "df_messages['date_month'] = pd.DatetimeIndex(df_messages['message_date']).month\n",
    "df_internet['date_month'] = pd.DatetimeIndex(df_internet['session_date']).month\n",
    "df_messages.head()"
   ]
  },
  {
   "cell_type": "markdown",
   "id": "3a8fcd44",
   "metadata": {},
   "source": [
    "Таким образом в распоряжении имеются 3 таблицы со звонками, сообщениями и интернет-сессиями, но объединять их в единый датафрейм в текущем виде нельзя, так как в строках каждой из таблиц имеются повторы с аналогичными значениями **user_id** и **date_month**, так как абоненты совершали более 1 звонка(сообщ и т.д.) за месяц. Таким образом данные предварительно надо сгруппировать."
   ]
  },
  {
   "cell_type": "code",
   "execution_count": 110,
   "id": "86814d26",
   "metadata": {
    "scrolled": false
   },
   "outputs": [
    {
     "data": {
      "text/html": [
       "<div>\n",
       "<style scoped>\n",
       "    .dataframe tbody tr th:only-of-type {\n",
       "        vertical-align: middle;\n",
       "    }\n",
       "\n",
       "    .dataframe tbody tr th {\n",
       "        vertical-align: top;\n",
       "    }\n",
       "\n",
       "    .dataframe thead th {\n",
       "        text-align: right;\n",
       "    }\n",
       "</style>\n",
       "<table border=\"1\" class=\"dataframe\">\n",
       "  <thead>\n",
       "    <tr style=\"text-align: right;\">\n",
       "      <th></th>\n",
       "      <th>user_id</th>\n",
       "      <th>date_month</th>\n",
       "      <th>calls_per_month</th>\n",
       "      <th>calls_dur_per_month</th>\n",
       "    </tr>\n",
       "  </thead>\n",
       "  <tbody>\n",
       "    <tr>\n",
       "      <th>0</th>\n",
       "      <td>1000</td>\n",
       "      <td>5</td>\n",
       "      <td>22</td>\n",
       "      <td>159</td>\n",
       "    </tr>\n",
       "    <tr>\n",
       "      <th>1</th>\n",
       "      <td>1000</td>\n",
       "      <td>6</td>\n",
       "      <td>43</td>\n",
       "      <td>172</td>\n",
       "    </tr>\n",
       "    <tr>\n",
       "      <th>2</th>\n",
       "      <td>1000</td>\n",
       "      <td>7</td>\n",
       "      <td>47</td>\n",
       "      <td>340</td>\n",
       "    </tr>\n",
       "    <tr>\n",
       "      <th>3</th>\n",
       "      <td>1000</td>\n",
       "      <td>8</td>\n",
       "      <td>52</td>\n",
       "      <td>408</td>\n",
       "    </tr>\n",
       "    <tr>\n",
       "      <th>4</th>\n",
       "      <td>1000</td>\n",
       "      <td>9</td>\n",
       "      <td>58</td>\n",
       "      <td>466</td>\n",
       "    </tr>\n",
       "    <tr>\n",
       "      <th>...</th>\n",
       "      <td>...</td>\n",
       "      <td>...</td>\n",
       "      <td>...</td>\n",
       "      <td>...</td>\n",
       "    </tr>\n",
       "    <tr>\n",
       "      <th>3169</th>\n",
       "      <td>1498</td>\n",
       "      <td>10</td>\n",
       "      <td>41</td>\n",
       "      <td>247</td>\n",
       "    </tr>\n",
       "    <tr>\n",
       "      <th>3170</th>\n",
       "      <td>1499</td>\n",
       "      <td>9</td>\n",
       "      <td>9</td>\n",
       "      <td>70</td>\n",
       "    </tr>\n",
       "    <tr>\n",
       "      <th>3171</th>\n",
       "      <td>1499</td>\n",
       "      <td>10</td>\n",
       "      <td>68</td>\n",
       "      <td>449</td>\n",
       "    </tr>\n",
       "    <tr>\n",
       "      <th>3172</th>\n",
       "      <td>1499</td>\n",
       "      <td>11</td>\n",
       "      <td>74</td>\n",
       "      <td>612</td>\n",
       "    </tr>\n",
       "    <tr>\n",
       "      <th>3173</th>\n",
       "      <td>1499</td>\n",
       "      <td>12</td>\n",
       "      <td>69</td>\n",
       "      <td>492</td>\n",
       "    </tr>\n",
       "  </tbody>\n",
       "</table>\n",
       "<p>3174 rows × 4 columns</p>\n",
       "</div>"
      ],
      "text/plain": [
       "      user_id  date_month  calls_per_month  calls_dur_per_month\n",
       "0        1000           5               22                  159\n",
       "1        1000           6               43                  172\n",
       "2        1000           7               47                  340\n",
       "3        1000           8               52                  408\n",
       "4        1000           9               58                  466\n",
       "...       ...         ...              ...                  ...\n",
       "3169     1498          10               41                  247\n",
       "3170     1499           9                9                   70\n",
       "3171     1499          10               68                  449\n",
       "3172     1499          11               74                  612\n",
       "3173     1499          12               69                  492\n",
       "\n",
       "[3174 rows x 4 columns]"
      ]
     },
     "execution_count": 110,
     "metadata": {},
     "output_type": "execute_result"
    }
   ],
   "source": [
    "calls_grouped = df_calls.groupby(['user_id','date_month'])['duration'].agg(['count','sum']).reset_index()\n",
    "calls_grouped.columns = ['user_id','date_month','calls_per_month','calls_dur_per_month']\n",
    "calls_grouped"
   ]
  },
  {
   "cell_type": "code",
   "execution_count": 111,
   "id": "45ef7175",
   "metadata": {},
   "outputs": [
    {
     "data": {
      "text/html": [
       "<div>\n",
       "<style scoped>\n",
       "    .dataframe tbody tr th:only-of-type {\n",
       "        vertical-align: middle;\n",
       "    }\n",
       "\n",
       "    .dataframe tbody tr th {\n",
       "        vertical-align: top;\n",
       "    }\n",
       "\n",
       "    .dataframe thead th {\n",
       "        text-align: right;\n",
       "    }\n",
       "</style>\n",
       "<table border=\"1\" class=\"dataframe\">\n",
       "  <thead>\n",
       "    <tr style=\"text-align: right;\">\n",
       "      <th></th>\n",
       "      <th>user_id</th>\n",
       "      <th>date_month</th>\n",
       "      <th>messages_per_month</th>\n",
       "    </tr>\n",
       "  </thead>\n",
       "  <tbody>\n",
       "    <tr>\n",
       "      <th>0</th>\n",
       "      <td>1000</td>\n",
       "      <td>5</td>\n",
       "      <td>22</td>\n",
       "    </tr>\n",
       "    <tr>\n",
       "      <th>1</th>\n",
       "      <td>1000</td>\n",
       "      <td>6</td>\n",
       "      <td>60</td>\n",
       "    </tr>\n",
       "    <tr>\n",
       "      <th>2</th>\n",
       "      <td>1000</td>\n",
       "      <td>7</td>\n",
       "      <td>75</td>\n",
       "    </tr>\n",
       "    <tr>\n",
       "      <th>3</th>\n",
       "      <td>1000</td>\n",
       "      <td>8</td>\n",
       "      <td>81</td>\n",
       "    </tr>\n",
       "    <tr>\n",
       "      <th>4</th>\n",
       "      <td>1000</td>\n",
       "      <td>9</td>\n",
       "      <td>57</td>\n",
       "    </tr>\n",
       "    <tr>\n",
       "      <th>...</th>\n",
       "      <td>...</td>\n",
       "      <td>...</td>\n",
       "      <td>...</td>\n",
       "    </tr>\n",
       "    <tr>\n",
       "      <th>2712</th>\n",
       "      <td>1498</td>\n",
       "      <td>10</td>\n",
       "      <td>42</td>\n",
       "    </tr>\n",
       "    <tr>\n",
       "      <th>2713</th>\n",
       "      <td>1499</td>\n",
       "      <td>9</td>\n",
       "      <td>11</td>\n",
       "    </tr>\n",
       "    <tr>\n",
       "      <th>2714</th>\n",
       "      <td>1499</td>\n",
       "      <td>10</td>\n",
       "      <td>48</td>\n",
       "    </tr>\n",
       "    <tr>\n",
       "      <th>2715</th>\n",
       "      <td>1499</td>\n",
       "      <td>11</td>\n",
       "      <td>59</td>\n",
       "    </tr>\n",
       "    <tr>\n",
       "      <th>2716</th>\n",
       "      <td>1499</td>\n",
       "      <td>12</td>\n",
       "      <td>66</td>\n",
       "    </tr>\n",
       "  </tbody>\n",
       "</table>\n",
       "<p>2717 rows × 3 columns</p>\n",
       "</div>"
      ],
      "text/plain": [
       "      user_id  date_month  messages_per_month\n",
       "0        1000           5                  22\n",
       "1        1000           6                  60\n",
       "2        1000           7                  75\n",
       "3        1000           8                  81\n",
       "4        1000           9                  57\n",
       "...       ...         ...                 ...\n",
       "2712     1498          10                  42\n",
       "2713     1499           9                  11\n",
       "2714     1499          10                  48\n",
       "2715     1499          11                  59\n",
       "2716     1499          12                  66\n",
       "\n",
       "[2717 rows x 3 columns]"
      ]
     },
     "execution_count": 111,
     "metadata": {},
     "output_type": "execute_result"
    }
   ],
   "source": [
    "messages_grouped = df_messages.groupby(['user_id','date_month'])['id'].agg('count').reset_index()\n",
    "messages_grouped.columns = ['user_id','date_month','messages_per_month']\n",
    "messages_grouped"
   ]
  },
  {
   "cell_type": "code",
   "execution_count": 112,
   "id": "3d6214d1",
   "metadata": {
    "scrolled": true
   },
   "outputs": [
    {
     "data": {
      "text/html": [
       "<div>\n",
       "<style scoped>\n",
       "    .dataframe tbody tr th:only-of-type {\n",
       "        vertical-align: middle;\n",
       "    }\n",
       "\n",
       "    .dataframe tbody tr th {\n",
       "        vertical-align: top;\n",
       "    }\n",
       "\n",
       "    .dataframe thead th {\n",
       "        text-align: right;\n",
       "    }\n",
       "</style>\n",
       "<table border=\"1\" class=\"dataframe\">\n",
       "  <thead>\n",
       "    <tr style=\"text-align: right;\">\n",
       "      <th></th>\n",
       "      <th>user_id</th>\n",
       "      <th>date_month</th>\n",
       "      <th>gb_per_month</th>\n",
       "    </tr>\n",
       "  </thead>\n",
       "  <tbody>\n",
       "    <tr>\n",
       "      <th>0</th>\n",
       "      <td>1000</td>\n",
       "      <td>5</td>\n",
       "      <td>3</td>\n",
       "    </tr>\n",
       "    <tr>\n",
       "      <th>1</th>\n",
       "      <td>1000</td>\n",
       "      <td>6</td>\n",
       "      <td>23</td>\n",
       "    </tr>\n",
       "    <tr>\n",
       "      <th>2</th>\n",
       "      <td>1000</td>\n",
       "      <td>7</td>\n",
       "      <td>14</td>\n",
       "    </tr>\n",
       "    <tr>\n",
       "      <th>3</th>\n",
       "      <td>1000</td>\n",
       "      <td>8</td>\n",
       "      <td>14</td>\n",
       "    </tr>\n",
       "    <tr>\n",
       "      <th>4</th>\n",
       "      <td>1000</td>\n",
       "      <td>9</td>\n",
       "      <td>15</td>\n",
       "    </tr>\n",
       "    <tr>\n",
       "      <th>...</th>\n",
       "      <td>...</td>\n",
       "      <td>...</td>\n",
       "      <td>...</td>\n",
       "    </tr>\n",
       "    <tr>\n",
       "      <th>3198</th>\n",
       "      <td>1498</td>\n",
       "      <td>10</td>\n",
       "      <td>21</td>\n",
       "    </tr>\n",
       "    <tr>\n",
       "      <th>3199</th>\n",
       "      <td>1499</td>\n",
       "      <td>9</td>\n",
       "      <td>2</td>\n",
       "    </tr>\n",
       "    <tr>\n",
       "      <th>3200</th>\n",
       "      <td>1499</td>\n",
       "      <td>10</td>\n",
       "      <td>18</td>\n",
       "    </tr>\n",
       "    <tr>\n",
       "      <th>3201</th>\n",
       "      <td>1499</td>\n",
       "      <td>11</td>\n",
       "      <td>18</td>\n",
       "    </tr>\n",
       "    <tr>\n",
       "      <th>3202</th>\n",
       "      <td>1499</td>\n",
       "      <td>12</td>\n",
       "      <td>13</td>\n",
       "    </tr>\n",
       "  </tbody>\n",
       "</table>\n",
       "<p>3203 rows × 3 columns</p>\n",
       "</div>"
      ],
      "text/plain": [
       "      user_id  date_month  gb_per_month\n",
       "0        1000           5             3\n",
       "1        1000           6            23\n",
       "2        1000           7            14\n",
       "3        1000           8            14\n",
       "4        1000           9            15\n",
       "...       ...         ...           ...\n",
       "3198     1498          10            21\n",
       "3199     1499           9             2\n",
       "3200     1499          10            18\n",
       "3201     1499          11            18\n",
       "3202     1499          12            13\n",
       "\n",
       "[3203 rows x 3 columns]"
      ]
     },
     "execution_count": 112,
     "metadata": {},
     "output_type": "execute_result"
    }
   ],
   "source": [
    "internet_grouped = df_internet.groupby(['user_id','date_month'])['mb_used'].agg('sum').reset_index()\n",
    "internet_grouped['mb_used'] = (internet_grouped['mb_used']/1024).apply(np.ceil).astype('int64')\n",
    "internet_grouped.columns = ['user_id','date_month','gb_per_month']\n",
    "internet_grouped"
   ]
  },
  {
   "cell_type": "markdown",
   "id": "1eb200b8",
   "metadata": {},
   "source": [
    "Теперь данные сгруппированы надлежащим образом и готовы к объединению. Объединение необходимо провести по столбцам с уникальным **id** абонента и номером месяца, в котором была совершено действие. В параметре **how** лучше указать *outer*, так как кто-то из абонентов мог не пользоваться определенным видом услуг, и такие строки могут потеряться при объединении, если указать иное значение."
   ]
  },
  {
   "cell_type": "code",
   "execution_count": 113,
   "id": "57ac0021",
   "metadata": {},
   "outputs": [
    {
     "data": {
      "text/html": [
       "<div>\n",
       "<style scoped>\n",
       "    .dataframe tbody tr th:only-of-type {\n",
       "        vertical-align: middle;\n",
       "    }\n",
       "\n",
       "    .dataframe tbody tr th {\n",
       "        vertical-align: top;\n",
       "    }\n",
       "\n",
       "    .dataframe thead th {\n",
       "        text-align: right;\n",
       "    }\n",
       "</style>\n",
       "<table border=\"1\" class=\"dataframe\">\n",
       "  <thead>\n",
       "    <tr style=\"text-align: right;\">\n",
       "      <th></th>\n",
       "      <th>user_id</th>\n",
       "      <th>date_month</th>\n",
       "      <th>calls_per_month</th>\n",
       "      <th>calls_dur_per_month</th>\n",
       "      <th>messages_per_month</th>\n",
       "    </tr>\n",
       "  </thead>\n",
       "  <tbody>\n",
       "    <tr>\n",
       "      <th>0</th>\n",
       "      <td>1000</td>\n",
       "      <td>5</td>\n",
       "      <td>22.0</td>\n",
       "      <td>159.0</td>\n",
       "      <td>22.0</td>\n",
       "    </tr>\n",
       "    <tr>\n",
       "      <th>1</th>\n",
       "      <td>1000</td>\n",
       "      <td>6</td>\n",
       "      <td>43.0</td>\n",
       "      <td>172.0</td>\n",
       "      <td>60.0</td>\n",
       "    </tr>\n",
       "    <tr>\n",
       "      <th>2</th>\n",
       "      <td>1000</td>\n",
       "      <td>7</td>\n",
       "      <td>47.0</td>\n",
       "      <td>340.0</td>\n",
       "      <td>75.0</td>\n",
       "    </tr>\n",
       "    <tr>\n",
       "      <th>3</th>\n",
       "      <td>1000</td>\n",
       "      <td>8</td>\n",
       "      <td>52.0</td>\n",
       "      <td>408.0</td>\n",
       "      <td>81.0</td>\n",
       "    </tr>\n",
       "    <tr>\n",
       "      <th>4</th>\n",
       "      <td>1000</td>\n",
       "      <td>9</td>\n",
       "      <td>58.0</td>\n",
       "      <td>466.0</td>\n",
       "      <td>57.0</td>\n",
       "    </tr>\n",
       "    <tr>\n",
       "      <th>...</th>\n",
       "      <td>...</td>\n",
       "      <td>...</td>\n",
       "      <td>...</td>\n",
       "      <td>...</td>\n",
       "      <td>...</td>\n",
       "    </tr>\n",
       "    <tr>\n",
       "      <th>3208</th>\n",
       "      <td>1489</td>\n",
       "      <td>8</td>\n",
       "      <td>NaN</td>\n",
       "      <td>NaN</td>\n",
       "      <td>17.0</td>\n",
       "    </tr>\n",
       "    <tr>\n",
       "      <th>3209</th>\n",
       "      <td>1489</td>\n",
       "      <td>9</td>\n",
       "      <td>NaN</td>\n",
       "      <td>NaN</td>\n",
       "      <td>32.0</td>\n",
       "    </tr>\n",
       "    <tr>\n",
       "      <th>3210</th>\n",
       "      <td>1489</td>\n",
       "      <td>10</td>\n",
       "      <td>NaN</td>\n",
       "      <td>NaN</td>\n",
       "      <td>21.0</td>\n",
       "    </tr>\n",
       "    <tr>\n",
       "      <th>3211</th>\n",
       "      <td>1489</td>\n",
       "      <td>11</td>\n",
       "      <td>NaN</td>\n",
       "      <td>NaN</td>\n",
       "      <td>20.0</td>\n",
       "    </tr>\n",
       "    <tr>\n",
       "      <th>3212</th>\n",
       "      <td>1489</td>\n",
       "      <td>12</td>\n",
       "      <td>NaN</td>\n",
       "      <td>NaN</td>\n",
       "      <td>35.0</td>\n",
       "    </tr>\n",
       "  </tbody>\n",
       "</table>\n",
       "<p>3213 rows × 5 columns</p>\n",
       "</div>"
      ],
      "text/plain": [
       "      user_id  date_month  calls_per_month  calls_dur_per_month  \\\n",
       "0        1000           5             22.0                159.0   \n",
       "1        1000           6             43.0                172.0   \n",
       "2        1000           7             47.0                340.0   \n",
       "3        1000           8             52.0                408.0   \n",
       "4        1000           9             58.0                466.0   \n",
       "...       ...         ...              ...                  ...   \n",
       "3208     1489           8              NaN                  NaN   \n",
       "3209     1489           9              NaN                  NaN   \n",
       "3210     1489          10              NaN                  NaN   \n",
       "3211     1489          11              NaN                  NaN   \n",
       "3212     1489          12              NaN                  NaN   \n",
       "\n",
       "      messages_per_month  \n",
       "0                   22.0  \n",
       "1                   60.0  \n",
       "2                   75.0  \n",
       "3                   81.0  \n",
       "4                   57.0  \n",
       "...                  ...  \n",
       "3208                17.0  \n",
       "3209                32.0  \n",
       "3210                21.0  \n",
       "3211                20.0  \n",
       "3212                35.0  \n",
       "\n",
       "[3213 rows x 5 columns]"
      ]
     },
     "execution_count": 113,
     "metadata": {},
     "output_type": "execute_result"
    }
   ],
   "source": [
    "merged = pd.merge(calls_grouped,messages_grouped, on=['user_id','date_month'], how='outer')\n",
    "merged"
   ]
  },
  {
   "cell_type": "code",
   "execution_count": 114,
   "id": "ca5cf380",
   "metadata": {
    "scrolled": true
   },
   "outputs": [
    {
     "data": {
      "text/html": [
       "<div>\n",
       "<style scoped>\n",
       "    .dataframe tbody tr th:only-of-type {\n",
       "        vertical-align: middle;\n",
       "    }\n",
       "\n",
       "    .dataframe tbody tr th {\n",
       "        vertical-align: top;\n",
       "    }\n",
       "\n",
       "    .dataframe thead th {\n",
       "        text-align: right;\n",
       "    }\n",
       "</style>\n",
       "<table border=\"1\" class=\"dataframe\">\n",
       "  <thead>\n",
       "    <tr style=\"text-align: right;\">\n",
       "      <th></th>\n",
       "      <th>user_id</th>\n",
       "      <th>date_month</th>\n",
       "      <th>calls_per_month</th>\n",
       "      <th>calls_dur_per_month</th>\n",
       "      <th>messages_per_month</th>\n",
       "      <th>gb_per_month</th>\n",
       "    </tr>\n",
       "  </thead>\n",
       "  <tbody>\n",
       "    <tr>\n",
       "      <th>0</th>\n",
       "      <td>1000</td>\n",
       "      <td>5</td>\n",
       "      <td>22.0</td>\n",
       "      <td>159.0</td>\n",
       "      <td>22.0</td>\n",
       "      <td>3.0</td>\n",
       "    </tr>\n",
       "    <tr>\n",
       "      <th>1</th>\n",
       "      <td>1000</td>\n",
       "      <td>6</td>\n",
       "      <td>43.0</td>\n",
       "      <td>172.0</td>\n",
       "      <td>60.0</td>\n",
       "      <td>23.0</td>\n",
       "    </tr>\n",
       "    <tr>\n",
       "      <th>2</th>\n",
       "      <td>1000</td>\n",
       "      <td>7</td>\n",
       "      <td>47.0</td>\n",
       "      <td>340.0</td>\n",
       "      <td>75.0</td>\n",
       "      <td>14.0</td>\n",
       "    </tr>\n",
       "    <tr>\n",
       "      <th>3</th>\n",
       "      <td>1000</td>\n",
       "      <td>8</td>\n",
       "      <td>52.0</td>\n",
       "      <td>408.0</td>\n",
       "      <td>81.0</td>\n",
       "      <td>14.0</td>\n",
       "    </tr>\n",
       "    <tr>\n",
       "      <th>4</th>\n",
       "      <td>1000</td>\n",
       "      <td>9</td>\n",
       "      <td>58.0</td>\n",
       "      <td>466.0</td>\n",
       "      <td>57.0</td>\n",
       "      <td>15.0</td>\n",
       "    </tr>\n",
       "    <tr>\n",
       "      <th>...</th>\n",
       "      <td>...</td>\n",
       "      <td>...</td>\n",
       "      <td>...</td>\n",
       "      <td>...</td>\n",
       "      <td>...</td>\n",
       "      <td>...</td>\n",
       "    </tr>\n",
       "    <tr>\n",
       "      <th>3209</th>\n",
       "      <td>1489</td>\n",
       "      <td>9</td>\n",
       "      <td>NaN</td>\n",
       "      <td>NaN</td>\n",
       "      <td>32.0</td>\n",
       "      <td>17.0</td>\n",
       "    </tr>\n",
       "    <tr>\n",
       "      <th>3210</th>\n",
       "      <td>1489</td>\n",
       "      <td>10</td>\n",
       "      <td>NaN</td>\n",
       "      <td>NaN</td>\n",
       "      <td>21.0</td>\n",
       "      <td>20.0</td>\n",
       "    </tr>\n",
       "    <tr>\n",
       "      <th>3211</th>\n",
       "      <td>1489</td>\n",
       "      <td>11</td>\n",
       "      <td>NaN</td>\n",
       "      <td>NaN</td>\n",
       "      <td>20.0</td>\n",
       "      <td>18.0</td>\n",
       "    </tr>\n",
       "    <tr>\n",
       "      <th>3212</th>\n",
       "      <td>1489</td>\n",
       "      <td>12</td>\n",
       "      <td>NaN</td>\n",
       "      <td>NaN</td>\n",
       "      <td>35.0</td>\n",
       "      <td>17.0</td>\n",
       "    </tr>\n",
       "    <tr>\n",
       "      <th>3213</th>\n",
       "      <td>1476</td>\n",
       "      <td>4</td>\n",
       "      <td>NaN</td>\n",
       "      <td>NaN</td>\n",
       "      <td>NaN</td>\n",
       "      <td>1.0</td>\n",
       "    </tr>\n",
       "  </tbody>\n",
       "</table>\n",
       "<p>3214 rows × 6 columns</p>\n",
       "</div>"
      ],
      "text/plain": [
       "      user_id  date_month  calls_per_month  calls_dur_per_month  \\\n",
       "0        1000           5             22.0                159.0   \n",
       "1        1000           6             43.0                172.0   \n",
       "2        1000           7             47.0                340.0   \n",
       "3        1000           8             52.0                408.0   \n",
       "4        1000           9             58.0                466.0   \n",
       "...       ...         ...              ...                  ...   \n",
       "3209     1489           9              NaN                  NaN   \n",
       "3210     1489          10              NaN                  NaN   \n",
       "3211     1489          11              NaN                  NaN   \n",
       "3212     1489          12              NaN                  NaN   \n",
       "3213     1476           4              NaN                  NaN   \n",
       "\n",
       "      messages_per_month  gb_per_month  \n",
       "0                   22.0           3.0  \n",
       "1                   60.0          23.0  \n",
       "2                   75.0          14.0  \n",
       "3                   81.0          14.0  \n",
       "4                   57.0          15.0  \n",
       "...                  ...           ...  \n",
       "3209                32.0          17.0  \n",
       "3210                21.0          20.0  \n",
       "3211                20.0          18.0  \n",
       "3212                35.0          17.0  \n",
       "3213                 NaN           1.0  \n",
       "\n",
       "[3214 rows x 6 columns]"
      ]
     },
     "execution_count": 114,
     "metadata": {},
     "output_type": "execute_result"
    }
   ],
   "source": [
    "merged = pd.merge(merged,internet_grouped, on=['user_id','date_month'], how='outer')\n",
    "merged"
   ]
  },
  {
   "cell_type": "code",
   "execution_count": 115,
   "id": "c40739ca",
   "metadata": {},
   "outputs": [
    {
     "data": {
      "text/plain": [
       "1"
      ]
     },
     "execution_count": 115,
     "metadata": {},
     "output_type": "execute_result"
    }
   ],
   "source": [
    "df_users.groupby('user_id')['tariff'].value_counts().max()"
   ]
  },
  {
   "cell_type": "markdown",
   "id": "c56ab303",
   "metadata": {},
   "source": [
    "Максимальное значение по количеству имеющихся тарифов для кажлого абонента - 1, значит в данной выборке не было абонентов сменивших тариф \"Ультра\" на \"Смарт\" или наоборот.\n",
    "\n",
    "Теперь добавим столбец с названием тарифа для каждого абонента."
   ]
  },
  {
   "cell_type": "code",
   "execution_count": 116,
   "id": "1d51c54b",
   "metadata": {},
   "outputs": [
    {
     "name": "stderr",
     "output_type": "stream",
     "text": [
      "/var/folders/l7/5cd_m6hn1rl9r89zycsz4t400000gn/T/ipykernel_10322/2641364452.py:1: FutureWarning: Indexing with multiple keys (implicitly converted to a tuple of keys) will be deprecated, use a list instead.\n",
      "  tariffs_and_city_grouped = df_users.groupby('user_id')['city','tariff'].first().reset_index()\n"
     ]
    },
    {
     "data": {
      "text/html": [
       "<div>\n",
       "<style scoped>\n",
       "    .dataframe tbody tr th:only-of-type {\n",
       "        vertical-align: middle;\n",
       "    }\n",
       "\n",
       "    .dataframe tbody tr th {\n",
       "        vertical-align: top;\n",
       "    }\n",
       "\n",
       "    .dataframe thead th {\n",
       "        text-align: right;\n",
       "    }\n",
       "</style>\n",
       "<table border=\"1\" class=\"dataframe\">\n",
       "  <thead>\n",
       "    <tr style=\"text-align: right;\">\n",
       "      <th></th>\n",
       "      <th>user_id</th>\n",
       "      <th>city</th>\n",
       "      <th>tariff</th>\n",
       "    </tr>\n",
       "  </thead>\n",
       "  <tbody>\n",
       "    <tr>\n",
       "      <th>0</th>\n",
       "      <td>1000</td>\n",
       "      <td>Краснодар</td>\n",
       "      <td>ultra</td>\n",
       "    </tr>\n",
       "    <tr>\n",
       "      <th>1</th>\n",
       "      <td>1001</td>\n",
       "      <td>Москва</td>\n",
       "      <td>smart</td>\n",
       "    </tr>\n",
       "    <tr>\n",
       "      <th>2</th>\n",
       "      <td>1002</td>\n",
       "      <td>Стерлитамак</td>\n",
       "      <td>smart</td>\n",
       "    </tr>\n",
       "    <tr>\n",
       "      <th>3</th>\n",
       "      <td>1003</td>\n",
       "      <td>Москва</td>\n",
       "      <td>ultra</td>\n",
       "    </tr>\n",
       "    <tr>\n",
       "      <th>4</th>\n",
       "      <td>1004</td>\n",
       "      <td>Новокузнецк</td>\n",
       "      <td>ultra</td>\n",
       "    </tr>\n",
       "    <tr>\n",
       "      <th>...</th>\n",
       "      <td>...</td>\n",
       "      <td>...</td>\n",
       "      <td>...</td>\n",
       "    </tr>\n",
       "    <tr>\n",
       "      <th>495</th>\n",
       "      <td>1495</td>\n",
       "      <td>Иркутск</td>\n",
       "      <td>ultra</td>\n",
       "    </tr>\n",
       "    <tr>\n",
       "      <th>496</th>\n",
       "      <td>1496</td>\n",
       "      <td>Вологда</td>\n",
       "      <td>smart</td>\n",
       "    </tr>\n",
       "    <tr>\n",
       "      <th>497</th>\n",
       "      <td>1497</td>\n",
       "      <td>Челябинск</td>\n",
       "      <td>smart</td>\n",
       "    </tr>\n",
       "    <tr>\n",
       "      <th>498</th>\n",
       "      <td>1498</td>\n",
       "      <td>Владикавказ</td>\n",
       "      <td>smart</td>\n",
       "    </tr>\n",
       "    <tr>\n",
       "      <th>499</th>\n",
       "      <td>1499</td>\n",
       "      <td>Пермь</td>\n",
       "      <td>smart</td>\n",
       "    </tr>\n",
       "  </tbody>\n",
       "</table>\n",
       "<p>500 rows × 3 columns</p>\n",
       "</div>"
      ],
      "text/plain": [
       "     user_id         city tariff\n",
       "0       1000    Краснодар  ultra\n",
       "1       1001       Москва  smart\n",
       "2       1002  Стерлитамак  smart\n",
       "3       1003       Москва  ultra\n",
       "4       1004  Новокузнецк  ultra\n",
       "..       ...          ...    ...\n",
       "495     1495      Иркутск  ultra\n",
       "496     1496      Вологда  smart\n",
       "497     1497    Челябинск  smart\n",
       "498     1498  Владикавказ  smart\n",
       "499     1499        Пермь  smart\n",
       "\n",
       "[500 rows x 3 columns]"
      ]
     },
     "execution_count": 116,
     "metadata": {},
     "output_type": "execute_result"
    }
   ],
   "source": [
    "tariffs_and_city_grouped = df_users.groupby('user_id')['city','tariff'].first().reset_index()\n",
    "tariffs_and_city_grouped = pd.DataFrame(tariffs_and_city_grouped)\n",
    "tariffs_and_city_grouped"
   ]
  },
  {
   "cell_type": "code",
   "execution_count": 117,
   "id": "b4500b94",
   "metadata": {
    "scrolled": true
   },
   "outputs": [
    {
     "data": {
      "text/html": [
       "<div>\n",
       "<style scoped>\n",
       "    .dataframe tbody tr th:only-of-type {\n",
       "        vertical-align: middle;\n",
       "    }\n",
       "\n",
       "    .dataframe tbody tr th {\n",
       "        vertical-align: top;\n",
       "    }\n",
       "\n",
       "    .dataframe thead th {\n",
       "        text-align: right;\n",
       "    }\n",
       "</style>\n",
       "<table border=\"1\" class=\"dataframe\">\n",
       "  <thead>\n",
       "    <tr style=\"text-align: right;\">\n",
       "      <th></th>\n",
       "      <th>user_id</th>\n",
       "      <th>date_month</th>\n",
       "      <th>calls_per_month</th>\n",
       "      <th>calls_dur_per_month</th>\n",
       "      <th>messages_per_month</th>\n",
       "      <th>gb_per_month</th>\n",
       "      <th>city</th>\n",
       "      <th>tariff</th>\n",
       "    </tr>\n",
       "  </thead>\n",
       "  <tbody>\n",
       "    <tr>\n",
       "      <th>0</th>\n",
       "      <td>1000</td>\n",
       "      <td>5.0</td>\n",
       "      <td>22.0</td>\n",
       "      <td>159.0</td>\n",
       "      <td>22.0</td>\n",
       "      <td>3.0</td>\n",
       "      <td>Краснодар</td>\n",
       "      <td>ultra</td>\n",
       "    </tr>\n",
       "    <tr>\n",
       "      <th>1</th>\n",
       "      <td>1000</td>\n",
       "      <td>6.0</td>\n",
       "      <td>43.0</td>\n",
       "      <td>172.0</td>\n",
       "      <td>60.0</td>\n",
       "      <td>23.0</td>\n",
       "      <td>Краснодар</td>\n",
       "      <td>ultra</td>\n",
       "    </tr>\n",
       "    <tr>\n",
       "      <th>2</th>\n",
       "      <td>1000</td>\n",
       "      <td>7.0</td>\n",
       "      <td>47.0</td>\n",
       "      <td>340.0</td>\n",
       "      <td>75.0</td>\n",
       "      <td>14.0</td>\n",
       "      <td>Краснодар</td>\n",
       "      <td>ultra</td>\n",
       "    </tr>\n",
       "    <tr>\n",
       "      <th>3</th>\n",
       "      <td>1000</td>\n",
       "      <td>8.0</td>\n",
       "      <td>52.0</td>\n",
       "      <td>408.0</td>\n",
       "      <td>81.0</td>\n",
       "      <td>14.0</td>\n",
       "      <td>Краснодар</td>\n",
       "      <td>ultra</td>\n",
       "    </tr>\n",
       "    <tr>\n",
       "      <th>4</th>\n",
       "      <td>1000</td>\n",
       "      <td>9.0</td>\n",
       "      <td>58.0</td>\n",
       "      <td>466.0</td>\n",
       "      <td>57.0</td>\n",
       "      <td>15.0</td>\n",
       "      <td>Краснодар</td>\n",
       "      <td>ultra</td>\n",
       "    </tr>\n",
       "    <tr>\n",
       "      <th>5</th>\n",
       "      <td>1000</td>\n",
       "      <td>10.0</td>\n",
       "      <td>57.0</td>\n",
       "      <td>350.0</td>\n",
       "      <td>73.0</td>\n",
       "      <td>15.0</td>\n",
       "      <td>Краснодар</td>\n",
       "      <td>ultra</td>\n",
       "    </tr>\n",
       "    <tr>\n",
       "      <th>6</th>\n",
       "      <td>1000</td>\n",
       "      <td>11.0</td>\n",
       "      <td>43.0</td>\n",
       "      <td>338.0</td>\n",
       "      <td>58.0</td>\n",
       "      <td>15.0</td>\n",
       "      <td>Краснодар</td>\n",
       "      <td>ultra</td>\n",
       "    </tr>\n",
       "    <tr>\n",
       "      <th>7</th>\n",
       "      <td>1000</td>\n",
       "      <td>12.0</td>\n",
       "      <td>46.0</td>\n",
       "      <td>333.0</td>\n",
       "      <td>70.0</td>\n",
       "      <td>10.0</td>\n",
       "      <td>Краснодар</td>\n",
       "      <td>ultra</td>\n",
       "    </tr>\n",
       "    <tr>\n",
       "      <th>8</th>\n",
       "      <td>1001</td>\n",
       "      <td>11.0</td>\n",
       "      <td>59.0</td>\n",
       "      <td>430.0</td>\n",
       "      <td>NaN</td>\n",
       "      <td>18.0</td>\n",
       "      <td>Москва</td>\n",
       "      <td>smart</td>\n",
       "    </tr>\n",
       "    <tr>\n",
       "      <th>9</th>\n",
       "      <td>1001</td>\n",
       "      <td>12.0</td>\n",
       "      <td>63.0</td>\n",
       "      <td>414.0</td>\n",
       "      <td>NaN</td>\n",
       "      <td>14.0</td>\n",
       "      <td>Москва</td>\n",
       "      <td>smart</td>\n",
       "    </tr>\n",
       "    <tr>\n",
       "      <th>10</th>\n",
       "      <td>1002</td>\n",
       "      <td>6.0</td>\n",
       "      <td>15.0</td>\n",
       "      <td>117.0</td>\n",
       "      <td>4.0</td>\n",
       "      <td>11.0</td>\n",
       "      <td>Стерлитамак</td>\n",
       "      <td>smart</td>\n",
       "    </tr>\n",
       "    <tr>\n",
       "      <th>11</th>\n",
       "      <td>1002</td>\n",
       "      <td>7.0</td>\n",
       "      <td>26.0</td>\n",
       "      <td>214.0</td>\n",
       "      <td>11.0</td>\n",
       "      <td>18.0</td>\n",
       "      <td>Стерлитамак</td>\n",
       "      <td>smart</td>\n",
       "    </tr>\n",
       "    <tr>\n",
       "      <th>12</th>\n",
       "      <td>1002</td>\n",
       "      <td>8.0</td>\n",
       "      <td>42.0</td>\n",
       "      <td>289.0</td>\n",
       "      <td>13.0</td>\n",
       "      <td>20.0</td>\n",
       "      <td>Стерлитамак</td>\n",
       "      <td>smart</td>\n",
       "    </tr>\n",
       "    <tr>\n",
       "      <th>13</th>\n",
       "      <td>1002</td>\n",
       "      <td>9.0</td>\n",
       "      <td>36.0</td>\n",
       "      <td>206.0</td>\n",
       "      <td>4.0</td>\n",
       "      <td>17.0</td>\n",
       "      <td>Стерлитамак</td>\n",
       "      <td>smart</td>\n",
       "    </tr>\n",
       "    <tr>\n",
       "      <th>14</th>\n",
       "      <td>1002</td>\n",
       "      <td>10.0</td>\n",
       "      <td>33.0</td>\n",
       "      <td>212.0</td>\n",
       "      <td>10.0</td>\n",
       "      <td>14.0</td>\n",
       "      <td>Стерлитамак</td>\n",
       "      <td>smart</td>\n",
       "    </tr>\n",
       "  </tbody>\n",
       "</table>\n",
       "</div>"
      ],
      "text/plain": [
       "    user_id  date_month  calls_per_month  calls_dur_per_month  \\\n",
       "0      1000         5.0             22.0                159.0   \n",
       "1      1000         6.0             43.0                172.0   \n",
       "2      1000         7.0             47.0                340.0   \n",
       "3      1000         8.0             52.0                408.0   \n",
       "4      1000         9.0             58.0                466.0   \n",
       "5      1000        10.0             57.0                350.0   \n",
       "6      1000        11.0             43.0                338.0   \n",
       "7      1000        12.0             46.0                333.0   \n",
       "8      1001        11.0             59.0                430.0   \n",
       "9      1001        12.0             63.0                414.0   \n",
       "10     1002         6.0             15.0                117.0   \n",
       "11     1002         7.0             26.0                214.0   \n",
       "12     1002         8.0             42.0                289.0   \n",
       "13     1002         9.0             36.0                206.0   \n",
       "14     1002        10.0             33.0                212.0   \n",
       "\n",
       "    messages_per_month  gb_per_month         city tariff  \n",
       "0                 22.0           3.0    Краснодар  ultra  \n",
       "1                 60.0          23.0    Краснодар  ultra  \n",
       "2                 75.0          14.0    Краснодар  ultra  \n",
       "3                 81.0          14.0    Краснодар  ultra  \n",
       "4                 57.0          15.0    Краснодар  ultra  \n",
       "5                 73.0          15.0    Краснодар  ultra  \n",
       "6                 58.0          15.0    Краснодар  ultra  \n",
       "7                 70.0          10.0    Краснодар  ultra  \n",
       "8                  NaN          18.0       Москва  smart  \n",
       "9                  NaN          14.0       Москва  smart  \n",
       "10                 4.0          11.0  Стерлитамак  smart  \n",
       "11                11.0          18.0  Стерлитамак  smart  \n",
       "12                13.0          20.0  Стерлитамак  smart  \n",
       "13                 4.0          17.0  Стерлитамак  smart  \n",
       "14                10.0          14.0  Стерлитамак  smart  "
      ]
     },
     "execution_count": 117,
     "metadata": {},
     "output_type": "execute_result"
    }
   ],
   "source": [
    "merged = pd.merge(merged,tariffs_and_city_grouped, on=['user_id'], how='outer')\n",
    "merged.head(15)"
   ]
  },
  {
   "cell_type": "markdown",
   "id": "5a714cea",
   "metadata": {},
   "source": [
    "Теперь по полученным сводным данным с тратами лимитов по месяцам можно рассчитать помесячную выручку с каждого пользователя. Для этого напишем функцию используя условия тарифов приведенных в начале исследования."
   ]
  },
  {
   "cell_type": "code",
   "execution_count": 118,
   "id": "7359849f",
   "metadata": {},
   "outputs": [],
   "source": [
    "def revenue (calls_dur_per_month, messages_per_month, gb_per_month, tariff):\n",
    "\n",
    "    calls_overrun = 0\n",
    "    messages_overrun = 0\n",
    "    internet_overrun = 0\n",
    "    \n",
    "    if tariff == 'smart':\n",
    "        \n",
    "        if (calls_dur_per_month - S_minutes_limit) > 0:\n",
    "            calls_overrun = (calls_dur_per_month - S_minutes_limit)* S_extra_minute\n",
    "        if (messages_per_month - S_messages_limit) > 0:\n",
    "            messages_overrun = (messages_per_month - S_messages_limit) * S_extra_message\n",
    "        if (gb_per_month - S_internet_limit) > 0:\n",
    "            internet_overrun = (gb_per_month - S_internet_limit) * S_extra_gb\n",
    "            \n",
    "        return calls_overrun + messages_overrun + internet_overrun + S_monthly_fee\n",
    "\n",
    "    if tariff == 'ultra':\n",
    "        \n",
    "        if (calls_dur_per_month - U_minutes_limit) > 0:\n",
    "            calls_overrun = (calls_dur_per_month - U_minutes_limit)* U_extra_minute\n",
    "        if (messages_per_month - U_messages_limit) > 0:\n",
    "            messages_overrun = (messages_per_month - U_messages_limit) * U_extra_message\n",
    "        if (gb_per_month - U_internet_limit) > 0:\n",
    "            internet_overrun = (gb_per_month - U_internet_limit) * U_extra_gb\n",
    "            \n",
    "        return calls_overrun + messages_overrun + internet_overrun + U_monthly_fee"
   ]
  },
  {
   "cell_type": "code",
   "execution_count": 119,
   "id": "c39b44dc",
   "metadata": {},
   "outputs": [],
   "source": [
    "merged['revenue'] = (merged.apply(lambda x: revenue (\n",
    "    x.calls_dur_per_month, x.messages_per_month, x.gb_per_month, x.tariff),axis=1))"
   ]
  },
  {
   "cell_type": "markdown",
   "id": "ed3f9776",
   "metadata": {},
   "source": [
    "Проверим, как отработала функция."
   ]
  },
  {
   "cell_type": "code",
   "execution_count": 120,
   "id": "f744654c",
   "metadata": {},
   "outputs": [
    {
     "data": {
      "text/html": [
       "<div>\n",
       "<style scoped>\n",
       "    .dataframe tbody tr th:only-of-type {\n",
       "        vertical-align: middle;\n",
       "    }\n",
       "\n",
       "    .dataframe tbody tr th {\n",
       "        vertical-align: top;\n",
       "    }\n",
       "\n",
       "    .dataframe thead th {\n",
       "        text-align: right;\n",
       "    }\n",
       "</style>\n",
       "<table border=\"1\" class=\"dataframe\">\n",
       "  <thead>\n",
       "    <tr style=\"text-align: right;\">\n",
       "      <th></th>\n",
       "      <th>user_id</th>\n",
       "      <th>date_month</th>\n",
       "      <th>calls_per_month</th>\n",
       "      <th>calls_dur_per_month</th>\n",
       "      <th>messages_per_month</th>\n",
       "      <th>gb_per_month</th>\n",
       "      <th>city</th>\n",
       "      <th>tariff</th>\n",
       "      <th>revenue</th>\n",
       "    </tr>\n",
       "  </thead>\n",
       "  <tbody>\n",
       "    <tr>\n",
       "      <th>32</th>\n",
       "      <td>1005</td>\n",
       "      <td>3.0</td>\n",
       "      <td>77.0</td>\n",
       "      <td>606.0</td>\n",
       "      <td>56.0</td>\n",
       "      <td>11.0</td>\n",
       "      <td>Набережные Челны</td>\n",
       "      <td>smart</td>\n",
       "      <td>886.0</td>\n",
       "    </tr>\n",
       "    <tr>\n",
       "      <th>33</th>\n",
       "      <td>1005</td>\n",
       "      <td>4.0</td>\n",
       "      <td>101.0</td>\n",
       "      <td>712.0</td>\n",
       "      <td>41.0</td>\n",
       "      <td>10.0</td>\n",
       "      <td>Набережные Челны</td>\n",
       "      <td>smart</td>\n",
       "      <td>1186.0</td>\n",
       "    </tr>\n",
       "    <tr>\n",
       "      <th>34</th>\n",
       "      <td>1005</td>\n",
       "      <td>5.0</td>\n",
       "      <td>73.0</td>\n",
       "      <td>595.0</td>\n",
       "      <td>42.0</td>\n",
       "      <td>8.0</td>\n",
       "      <td>Набережные Челны</td>\n",
       "      <td>smart</td>\n",
       "      <td>835.0</td>\n",
       "    </tr>\n",
       "    <tr>\n",
       "      <th>35</th>\n",
       "      <td>1005</td>\n",
       "      <td>6.0</td>\n",
       "      <td>80.0</td>\n",
       "      <td>612.0</td>\n",
       "      <td>47.0</td>\n",
       "      <td>10.0</td>\n",
       "      <td>Набережные Челны</td>\n",
       "      <td>smart</td>\n",
       "      <td>886.0</td>\n",
       "    </tr>\n",
       "    <tr>\n",
       "      <th>36</th>\n",
       "      <td>1005</td>\n",
       "      <td>7.0</td>\n",
       "      <td>77.0</td>\n",
       "      <td>569.0</td>\n",
       "      <td>56.0</td>\n",
       "      <td>8.0</td>\n",
       "      <td>Набережные Челны</td>\n",
       "      <td>smart</td>\n",
       "      <td>775.0</td>\n",
       "    </tr>\n",
       "  </tbody>\n",
       "</table>\n",
       "</div>"
      ],
      "text/plain": [
       "    user_id  date_month  calls_per_month  calls_dur_per_month  \\\n",
       "32     1005         3.0             77.0                606.0   \n",
       "33     1005         4.0            101.0                712.0   \n",
       "34     1005         5.0             73.0                595.0   \n",
       "35     1005         6.0             80.0                612.0   \n",
       "36     1005         7.0             77.0                569.0   \n",
       "\n",
       "    messages_per_month  gb_per_month              city tariff  revenue  \n",
       "32                56.0          11.0  Набережные Челны  smart    886.0  \n",
       "33                41.0          10.0  Набережные Челны  smart   1186.0  \n",
       "34                42.0           8.0  Набережные Челны  smart    835.0  \n",
       "35                47.0          10.0  Набережные Челны  smart    886.0  \n",
       "36                56.0           8.0  Набережные Челны  smart    775.0  "
      ]
     },
     "execution_count": 120,
     "metadata": {},
     "output_type": "execute_result"
    }
   ],
   "source": [
    "merged.query('tariff == \"smart\" and calls_dur_per_month > 500').head()"
   ]
  },
  {
   "cell_type": "code",
   "execution_count": 121,
   "id": "302788ad",
   "metadata": {},
   "outputs": [
    {
     "data": {
      "text/html": [
       "<div>\n",
       "<style scoped>\n",
       "    .dataframe tbody tr th:only-of-type {\n",
       "        vertical-align: middle;\n",
       "    }\n",
       "\n",
       "    .dataframe tbody tr th {\n",
       "        vertical-align: top;\n",
       "    }\n",
       "\n",
       "    .dataframe thead th {\n",
       "        text-align: right;\n",
       "    }\n",
       "</style>\n",
       "<table border=\"1\" class=\"dataframe\">\n",
       "  <thead>\n",
       "    <tr style=\"text-align: right;\">\n",
       "      <th></th>\n",
       "      <th>user_id</th>\n",
       "      <th>date_month</th>\n",
       "      <th>calls_per_month</th>\n",
       "      <th>calls_dur_per_month</th>\n",
       "      <th>messages_per_month</th>\n",
       "      <th>gb_per_month</th>\n",
       "      <th>city</th>\n",
       "      <th>tariff</th>\n",
       "      <th>revenue</th>\n",
       "    </tr>\n",
       "  </thead>\n",
       "  <tbody>\n",
       "    <tr>\n",
       "      <th>159</th>\n",
       "      <td>1024</td>\n",
       "      <td>11.0</td>\n",
       "      <td>157.0</td>\n",
       "      <td>1146.0</td>\n",
       "      <td>NaN</td>\n",
       "      <td>43.0</td>\n",
       "      <td>Санкт-Петербург</td>\n",
       "      <td>ultra</td>\n",
       "      <td>3900.0</td>\n",
       "    </tr>\n",
       "    <tr>\n",
       "      <th>160</th>\n",
       "      <td>1024</td>\n",
       "      <td>12.0</td>\n",
       "      <td>136.0</td>\n",
       "      <td>949.0</td>\n",
       "      <td>NaN</td>\n",
       "      <td>36.0</td>\n",
       "      <td>Санкт-Петербург</td>\n",
       "      <td>ultra</td>\n",
       "      <td>2850.0</td>\n",
       "    </tr>\n",
       "    <tr>\n",
       "      <th>311</th>\n",
       "      <td>1050</td>\n",
       "      <td>7.0</td>\n",
       "      <td>35.0</td>\n",
       "      <td>209.0</td>\n",
       "      <td>52.0</td>\n",
       "      <td>35.0</td>\n",
       "      <td>Тюмень</td>\n",
       "      <td>ultra</td>\n",
       "      <td>2700.0</td>\n",
       "    </tr>\n",
       "    <tr>\n",
       "      <th>383</th>\n",
       "      <td>1060</td>\n",
       "      <td>12.0</td>\n",
       "      <td>184.0</td>\n",
       "      <td>1233.0</td>\n",
       "      <td>52.0</td>\n",
       "      <td>43.0</td>\n",
       "      <td>Калуга</td>\n",
       "      <td>ultra</td>\n",
       "      <td>3900.0</td>\n",
       "    </tr>\n",
       "    <tr>\n",
       "      <th>782</th>\n",
       "      <td>1124</td>\n",
       "      <td>10.0</td>\n",
       "      <td>152.0</td>\n",
       "      <td>1225.0</td>\n",
       "      <td>121.0</td>\n",
       "      <td>49.0</td>\n",
       "      <td>Махачкала</td>\n",
       "      <td>ultra</td>\n",
       "      <td>4800.0</td>\n",
       "    </tr>\n",
       "  </tbody>\n",
       "</table>\n",
       "</div>"
      ],
      "text/plain": [
       "     user_id  date_month  calls_per_month  calls_dur_per_month  \\\n",
       "159     1024        11.0            157.0               1146.0   \n",
       "160     1024        12.0            136.0                949.0   \n",
       "311     1050         7.0             35.0                209.0   \n",
       "383     1060        12.0            184.0               1233.0   \n",
       "782     1124        10.0            152.0               1225.0   \n",
       "\n",
       "     messages_per_month  gb_per_month             city tariff  revenue  \n",
       "159                 NaN          43.0  Санкт-Петербург  ultra   3900.0  \n",
       "160                 NaN          36.0  Санкт-Петербург  ultra   2850.0  \n",
       "311                52.0          35.0           Тюмень  ultra   2700.0  \n",
       "383                52.0          43.0           Калуга  ultra   3900.0  \n",
       "782               121.0          49.0        Махачкала  ultra   4800.0  "
      ]
     },
     "execution_count": 121,
     "metadata": {},
     "output_type": "execute_result"
    }
   ],
   "source": [
    "merged.query('tariff == \"ultra\" and gb_per_month > 30').head()"
   ]
  },
  {
   "cell_type": "markdown",
   "id": "9d009e5c",
   "metadata": {},
   "source": [
    "Полученная прибыль в столбце **revenue** соответствует условиям тарифов оператора. Функция отработала корректно. При этом, если абонент не пользовался каким-либо видом услуг (прим. не отправлял сообщения) в столбце указано Nan. Лучше заменить их нулевыми значениями."
   ]
  },
  {
   "cell_type": "code",
   "execution_count": 122,
   "id": "7e793291",
   "metadata": {},
   "outputs": [],
   "source": [
    "merged = merged.fillna(0)"
   ]
  },
  {
   "cell_type": "markdown",
   "id": "059b7c26",
   "metadata": {},
   "source": [
    "Далее необходимо посчитать сколько в среднем каждому пользователю требовалось минут, сообщений и интернет-трафика. Используем для этих целей медианное значение. "
   ]
  },
  {
   "cell_type": "code",
   "execution_count": 123,
   "id": "b910e817",
   "metadata": {
    "scrolled": true
   },
   "outputs": [
    {
     "data": {
      "text/html": [
       "<div>\n",
       "<style scoped>\n",
       "    .dataframe tbody tr th:only-of-type {\n",
       "        vertical-align: middle;\n",
       "    }\n",
       "\n",
       "    .dataframe tbody tr th {\n",
       "        vertical-align: top;\n",
       "    }\n",
       "\n",
       "    .dataframe thead th {\n",
       "        text-align: right;\n",
       "    }\n",
       "</style>\n",
       "<table border=\"1\" class=\"dataframe\">\n",
       "  <thead>\n",
       "    <tr style=\"text-align: right;\">\n",
       "      <th></th>\n",
       "      <th>user_id</th>\n",
       "      <th>calls_dur_per_month</th>\n",
       "      <th>gb_per_month</th>\n",
       "      <th>messages_per_month</th>\n",
       "      <th>revenue</th>\n",
       "      <th>city</th>\n",
       "      <th>tariff</th>\n",
       "    </tr>\n",
       "  </thead>\n",
       "  <tbody>\n",
       "    <tr>\n",
       "      <th>0</th>\n",
       "      <td>1000</td>\n",
       "      <td>339.0</td>\n",
       "      <td>14.5</td>\n",
       "      <td>65.0</td>\n",
       "      <td>1950.0</td>\n",
       "      <td>Краснодар</td>\n",
       "      <td>ultra</td>\n",
       "    </tr>\n",
       "    <tr>\n",
       "      <th>1</th>\n",
       "      <td>1001</td>\n",
       "      <td>422.0</td>\n",
       "      <td>16.0</td>\n",
       "      <td>0.0</td>\n",
       "      <td>850.0</td>\n",
       "      <td>Москва</td>\n",
       "      <td>smart</td>\n",
       "    </tr>\n",
       "    <tr>\n",
       "      <th>2</th>\n",
       "      <td>1002</td>\n",
       "      <td>214.0</td>\n",
       "      <td>18.0</td>\n",
       "      <td>11.0</td>\n",
       "      <td>1150.0</td>\n",
       "      <td>Стерлитамак</td>\n",
       "      <td>smart</td>\n",
       "    </tr>\n",
       "    <tr>\n",
       "      <th>3</th>\n",
       "      <td>1003</td>\n",
       "      <td>824.0</td>\n",
       "      <td>12.0</td>\n",
       "      <td>83.0</td>\n",
       "      <td>1950.0</td>\n",
       "      <td>Москва</td>\n",
       "      <td>ultra</td>\n",
       "    </tr>\n",
       "    <tr>\n",
       "      <th>4</th>\n",
       "      <td>1004</td>\n",
       "      <td>132.5</td>\n",
       "      <td>18.0</td>\n",
       "      <td>154.5</td>\n",
       "      <td>1950.0</td>\n",
       "      <td>Новокузнецк</td>\n",
       "      <td>ultra</td>\n",
       "    </tr>\n",
       "  </tbody>\n",
       "</table>\n",
       "</div>"
      ],
      "text/plain": [
       "   user_id  calls_dur_per_month  gb_per_month  messages_per_month  revenue  \\\n",
       "0     1000                339.0          14.5                65.0   1950.0   \n",
       "1     1001                422.0          16.0                 0.0    850.0   \n",
       "2     1002                214.0          18.0                11.0   1150.0   \n",
       "3     1003                824.0          12.0                83.0   1950.0   \n",
       "4     1004                132.5          18.0               154.5   1950.0   \n",
       "\n",
       "          city tariff  \n",
       "0    Краснодар  ultra  \n",
       "1       Москва  smart  \n",
       "2  Стерлитамак  smart  \n",
       "3       Москва  ultra  \n",
       "4  Новокузнецк  ultra  "
      ]
     },
     "execution_count": 123,
     "metadata": {},
     "output_type": "execute_result"
    }
   ],
   "source": [
    "median_per_user = merged.pivot_table(\n",
    "    index='user_id', values=['calls_dur_per_month','messages_per_month','gb_per_month','revenue'], aggfunc='median')\n",
    "median_per_user = pd.merge(median_per_user,tariffs_and_city_grouped, on=['user_id'], how='outer')\n",
    "median_per_user.head()"
   ]
  },
  {
   "cell_type": "markdown",
   "id": "0de8d070",
   "metadata": {},
   "source": [
    "На данном этапе можно перейти к анализу данных.\n",
    "___"
   ]
  },
  {
   "cell_type": "markdown",
   "id": "ccee68f1",
   "metadata": {},
   "source": [
    "### Анализ данных"
   ]
  },
  {
   "cell_type": "code",
   "execution_count": 124,
   "id": "36cffafd",
   "metadata": {
    "scrolled": true
   },
   "outputs": [
    {
     "data": {
      "text/html": [
       "<div>\n",
       "<style scoped>\n",
       "    .dataframe tbody tr th:only-of-type {\n",
       "        vertical-align: middle;\n",
       "    }\n",
       "\n",
       "    .dataframe tbody tr th {\n",
       "        vertical-align: top;\n",
       "    }\n",
       "\n",
       "    .dataframe thead tr th {\n",
       "        text-align: left;\n",
       "    }\n",
       "</style>\n",
       "<table border=\"1\" class=\"dataframe\">\n",
       "  <thead>\n",
       "    <tr>\n",
       "      <th>tariff</th>\n",
       "      <th colspan=\"3\" halign=\"left\">smart</th>\n",
       "      <th colspan=\"3\" halign=\"left\">ultra</th>\n",
       "    </tr>\n",
       "    <tr>\n",
       "      <th></th>\n",
       "      <th>calls_dur_per_month</th>\n",
       "      <th>gb_per_month</th>\n",
       "      <th>messages_per_month</th>\n",
       "      <th>calls_dur_per_month</th>\n",
       "      <th>gb_per_month</th>\n",
       "      <th>messages_per_month</th>\n",
       "    </tr>\n",
       "  </thead>\n",
       "  <tbody>\n",
       "    <tr>\n",
       "      <th>mean</th>\n",
       "      <td>436.222222</td>\n",
       "      <td>16.878917</td>\n",
       "      <td>33.673789</td>\n",
       "      <td>553.761745</td>\n",
       "      <td>20.181208</td>\n",
       "      <td>56.600671</td>\n",
       "    </tr>\n",
       "    <tr>\n",
       "      <th>median</th>\n",
       "      <td>439.500000</td>\n",
       "      <td>17.000000</td>\n",
       "      <td>28.500000</td>\n",
       "      <td>533.500000</td>\n",
       "      <td>20.000000</td>\n",
       "      <td>47.500000</td>\n",
       "    </tr>\n",
       "    <tr>\n",
       "      <th>var</th>\n",
       "      <td>26157.241905</td>\n",
       "      <td>17.337440</td>\n",
       "      <td>785.603997</td>\n",
       "      <td>93752.964810</td>\n",
       "      <td>78.098699</td>\n",
       "      <td>2429.675608</td>\n",
       "    </tr>\n",
       "    <tr>\n",
       "      <th>std</th>\n",
       "      <td>161.732006</td>\n",
       "      <td>4.163825</td>\n",
       "      <td>28.028628</td>\n",
       "      <td>306.191059</td>\n",
       "      <td>8.837347</td>\n",
       "      <td>49.291740</td>\n",
       "    </tr>\n",
       "  </tbody>\n",
       "</table>\n",
       "</div>"
      ],
      "text/plain": [
       "tariff               smart                                  \\\n",
       "       calls_dur_per_month gb_per_month messages_per_month   \n",
       "mean            436.222222    16.878917          33.673789   \n",
       "median          439.500000    17.000000          28.500000   \n",
       "var           26157.241905    17.337440         785.603997   \n",
       "std             161.732006     4.163825          28.028628   \n",
       "\n",
       "tariff               ultra                                  \n",
       "       calls_dur_per_month gb_per_month messages_per_month  \n",
       "mean            553.761745    20.181208          56.600671  \n",
       "median          533.500000    20.000000          47.500000  \n",
       "var           93752.964810    78.098699        2429.675608  \n",
       "std             306.191059     8.837347          49.291740  "
      ]
     },
     "execution_count": 124,
     "metadata": {},
     "output_type": "execute_result"
    }
   ],
   "source": [
    "median_per_user.pivot_table(\n",
    "    index='tariff', \n",
    "    values=['calls_dur_per_month', 'messages_per_month', 'gb_per_month'],\n",
    "    aggfunc=['mean','median','var','std']).T.unstack()"
   ]
  },
  {
   "cell_type": "markdown",
   "id": "fa751909",
   "metadata": {},
   "source": [
    "* Примечательно, что в среднем пользователи тарифа **\"Ультра\"** разговаривали всего на 118 минут дольше, чем пользователи тарифа **\"Смарт\"**, при том, что лимиты у них отличаются в 6 раз.\n",
    "\n",
    "* Медианные значения продолжительности разговоров близки к средним в обоих тарифах.\n",
    "\n",
    "* Продолжительность разговора, объем трафика и количество отправленных сообщений имеют большую дисперсию по тарифу \"Ультра\".\n",
    "\n",
    "* По среднему объему израсходованного интернет трафика также отмечается небольшая разница между тарифами (17 гб и 20 гб в \"Смарт\" и \"Ультра\" соответственно, несмотря на то, что лимиты также отличаются существенно в пользу более дорогого тарифа.\n",
    "\n",
    "* По объему отправленных сообщений в абсолютном выражении разница также минимальна между тарифами, но в относительном выражении получается, что пользователи тарифа \"Смарт\" используют около 2/3 своего лимита, в то время как пользователи тарифа \"Ультра\" используют порядка 6% от общего предоплаченного объема. Очевидно, что для тарифа \"Ультра\" пакет на 1000 сообщений несет больше маркетинговую функцию, но по факту практически не используется абонентами."
   ]
  },
  {
   "cell_type": "code",
   "execution_count": 125,
   "id": "f8db177e",
   "metadata": {
    "scrolled": true
   },
   "outputs": [
    {
     "data": {
      "image/png": "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\n",
      "text/plain": [
       "<Figure size 640x480 with 1 Axes>"
      ]
     },
     "metadata": {},
     "output_type": "display_data"
    }
   ],
   "source": [
    "for tariff in ['smart','ultra']:\n",
    "    median_per_user.query('tariff == @tariff')['calls_dur_per_month'].plot(kind='hist', alpha = 0.5, bins=30)\n",
    "    plt.legend(['smart','ultra'])\n",
    "    plt.title(\"Гистограмма по продолжительности разговоров за месяц\")\n",
    "    plt.ylabel(\"Частота\")\n",
    "    plt.xlabel(\"Продолжительность разговоров за месяц, мин.\")\n",
    "    plt.show"
   ]
  },
  {
   "cell_type": "markdown",
   "id": "647ffdf2",
   "metadata": {},
   "source": [
    "По гистограмме продолжительности разговоров за месяц можно отметить пики в диапазоне 300-500 минут для абонентов \"Смарт\", распределение продолждительности разговооров абонентов тарифа \"Ультра\" более равномерно, также с небольшим пиком в районе 500 минут."
   ]
  },
  {
   "cell_type": "code",
   "execution_count": 126,
   "id": "4295a507",
   "metadata": {
    "scrolled": true
   },
   "outputs": [
    {
     "data": {
      "image/png": "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\n",
      "text/plain": [
       "<Figure size 640x480 with 1 Axes>"
      ]
     },
     "metadata": {},
     "output_type": "display_data"
    }
   ],
   "source": [
    "for tariff in ['smart','ultra']:\n",
    "    median_per_user.query('tariff == @tariff')['messages_per_month'].plot(kind='hist', alpha = 0.5, bins=30)\n",
    "    plt.legend(['smart','ultra'])\n",
    "    plt.title(\"Гистограмма по количеству сообщений за месяц\")\n",
    "    plt.ylabel(\"Частота\")\n",
    "    plt.xlabel(\"Число сообщений за месяц, ед.\")\n",
    "    plt.show"
   ]
  },
  {
   "cell_type": "markdown",
   "id": "108055f5",
   "metadata": {},
   "source": [
    "По гистограмме числа сообщений за месяц видно, что выдающееся значение около нуля, что означает, что значительная часть абонентов обоих тарифов не использует сообщения. В среднем пользователи тарифа \"Смарт\" все же чаще отправляли сообщения, чем абоненты более дорого тарифа (в т.ч. превышая лимит предоплаченных сообщений)."
   ]
  },
  {
   "cell_type": "code",
   "execution_count": 127,
   "id": "60e6b20c",
   "metadata": {},
   "outputs": [
    {
     "data": {
      "image/png": "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\n",
      "text/plain": [
       "<Figure size 640x480 with 1 Axes>"
      ]
     },
     "metadata": {},
     "output_type": "display_data"
    }
   ],
   "source": [
    "for tariff in ['smart','ultra']:\n",
    "    median_per_user.query('tariff == @tariff')['gb_per_month'].plot(kind='hist', alpha = 0.5, bins=30)\n",
    "    plt.legend(['smart','ultra'])\n",
    "    plt.title(\"Гистограмма по объему интернет трафика за месяц\")\n",
    "    plt.ylabel(\"Частота\")\n",
    "    plt.xlabel(\"Объем интернет трафика за месяц, гигабайт\")\n",
    "    plt.show"
   ]
  },
  {
   "cell_type": "markdown",
   "id": "906603d9",
   "metadata": {},
   "source": [
    "По гистограмме объема использованного интернет трафика по обоим тарифам заметно пиковое значение в районе 17-19 гб/мес. По данным абонентов тарифа \"Смарт\" видно, что они чаще выходят за пределы пакета в рамках своего тарифа."
   ]
  },
  {
   "cell_type": "code",
   "execution_count": 128,
   "id": "65020b4f",
   "metadata": {
    "scrolled": false
   },
   "outputs": [
    {
     "data": {
      "text/plain": [
       "<function matplotlib.pyplot.show(close=None, block=None)>"
      ]
     },
     "execution_count": 128,
     "metadata": {},
     "output_type": "execute_result"
    },
    {
     "data": {
      "image/png": "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\n",
      "text/plain": [
       "<Figure size 1000x1000 with 16 Axes>"
      ]
     },
     "metadata": {},
     "output_type": "display_data"
    }
   ],
   "source": [
    "pd.plotting.scatter_matrix(\n",
    "    median_per_user[['revenue','calls_dur_per_month', 'messages_per_month', 'gb_per_month']], alpha = 0.3, figsize = (10,10))\n",
    "plt.show"
   ]
  },
  {
   "cell_type": "markdown",
   "id": "a659bf2b",
   "metadata": {},
   "source": [
    "По матрице рассеяния можно наблюдать зависимость между выручкой и продолжительностью разговоров, а также между выручкой и объем израсходованного интернет-трафика. При этом коэффициент корреляции Пирсона между продолжительностью разговора и выручкой показывает слабую зависимость."
   ]
  },
  {
   "cell_type": "code",
   "execution_count": 129,
   "id": "6bd0a66f",
   "metadata": {
    "scrolled": true
   },
   "outputs": [
    {
     "data": {
      "text/plain": [
       "0.33353615993895197"
      ]
     },
     "execution_count": 129,
     "metadata": {},
     "output_type": "execute_result"
    }
   ],
   "source": [
    "median_per_user['revenue'].corr(median_per_user['calls_dur_per_month'])"
   ]
  },
  {
   "cell_type": "markdown",
   "id": "8e8aec6d",
   "metadata": {},
   "source": [
    "В тоже время корреляция между объемом интернет-трафика и выручкой значительно сильнее."
   ]
  },
  {
   "cell_type": "code",
   "execution_count": 130,
   "id": "b8a48d73",
   "metadata": {},
   "outputs": [
    {
     "data": {
      "text/plain": [
       "0.6285115579814572"
      ]
     },
     "execution_count": 130,
     "metadata": {},
     "output_type": "execute_result"
    }
   ],
   "source": [
    "median_per_user['revenue'].corr(median_per_user['gb_per_month'])"
   ]
  },
  {
   "cell_type": "markdown",
   "id": "1c92f89e",
   "metadata": {},
   "source": [
    "Следующим этапом необходимо проверить гипотезы\n",
    "___"
   ]
  },
  {
   "cell_type": "markdown",
   "id": "60c53c51",
   "metadata": {},
   "source": [
    "### Проверка гипотез"
   ]
  },
  {
   "cell_type": "markdown",
   "id": "272e35b4",
   "metadata": {},
   "source": [
    "**Нулевая гипотеза** - средняя выручка пользователей тарифов «Ультра» и «Смарт» равны\n",
    "\n",
    "**Альтернативная гипотеза** - средняя выручка пользователей тарифов «Ультра» и «Смарт» не равны\n",
    "\n",
    "alpha = 5%"
   ]
  },
  {
   "cell_type": "code",
   "execution_count": 131,
   "id": "a87e4199",
   "metadata": {},
   "outputs": [],
   "source": [
    "alpha = .05"
   ]
  },
  {
   "cell_type": "code",
   "execution_count": 132,
   "id": "bcbbd3c3",
   "metadata": {},
   "outputs": [],
   "source": [
    "ultra = merged.query('tariff == \"ultra\"')['revenue']\n",
    "smart = merged.query('tariff == \"smart\"')['revenue']"
   ]
  },
  {
   "cell_type": "markdown",
   "id": "e022a6c9",
   "metadata": {},
   "source": [
    "В идеале следующим этапом для выбора статистического теста необходимо было определить поддаются ли выборки нормальному распределению, и ,в случае нормального распределения, провести Двухвыборочный t-тест, а в случае ненормального распределения - тест Манна-Уитни. Но в качестве дополнительной итерации можно провести оба теста и сравнить их результаты, так как на практике нормальное распределение попадается далеко не всегда."
   ]
  },
  {
   "cell_type": "markdown",
   "id": "d335e3fa",
   "metadata": {},
   "source": [
    "Для собственного понимания о характере распределения проведем предварительно тест Шапиро-Уилка:"
   ]
  },
  {
   "cell_type": "code",
   "execution_count": 144,
   "id": "2e0ed02c",
   "metadata": {
    "scrolled": true
   },
   "outputs": [
    {
     "name": "stdout",
     "output_type": "stream",
     "text": [
      "Отклоняем гипотезу,что выручка по тарифу Ультра имеет нормальное распределение,при alpha =0.05 и pvalue = 0.000\n"
     ]
    }
   ],
   "source": [
    "res = st.shapiro(ultra)\n",
    "if res[1]<alpha:\n",
    "    print(f'Отклоняем гипотезу,что выручка по тарифу Ультра имеет нормальное распределение,при alpha ={alpha} и pvalue = {res[1]:.3f}')"
   ]
  },
  {
   "cell_type": "markdown",
   "id": "0d348d8e",
   "metadata": {},
   "source": [
    "Проверять на нормальность распределения выборку по тарифу \"Смарт\" нет необходимости, достаточно того, что по тарифу \"Ультра\" распределение не нормальное. Проведем тест Манна-Уитни:"
   ]
  },
  {
   "cell_type": "code",
   "execution_count": 134,
   "id": "74de2373",
   "metadata": {
    "scrolled": true
   },
   "outputs": [
    {
     "name": "stdout",
     "output_type": "stream",
     "text": [
      "1.138004347167131e-187\n",
      "Отвергаем H0 и принимаем H1\n"
     ]
    }
   ],
   "source": [
    "res_man = st.mannwhitneyu(ultra,smart)\n",
    "print(res_man.pvalue)\n",
    "if res_man[1]<alpha:\n",
    "    print(\"Отвергаем H0 и принимаем H1\")\n",
    "else: \n",
    "    print(\"Отвергаем H1 и принимаем H0\")"
   ]
  },
  {
   "cell_type": "markdown",
   "id": "a481f9da",
   "metadata": {},
   "source": [
    "Таким образом, мы отвергаем гипотезу  что \"средняя выручка пользователей тарифов «Ультра» и «Смарт» равна\", причем тесты дали бы те же результаты и при alpha=0.01\n",
    "\n",
    "Теперь для сравнения можно провести t-тест."
   ]
  },
  {
   "cell_type": "markdown",
   "id": "10b31b0b",
   "metadata": {},
   "source": [
    "Перед проведением статитистического теста проведем тест Барлетта, чтобы определить равны ли дисперсии выборок."
   ]
  },
  {
   "cell_type": "code",
   "execution_count": 135,
   "id": "50234626",
   "metadata": {
    "scrolled": false
   },
   "outputs": [
    {
     "data": {
      "text/plain": [
       "1.0829918779018596e-141"
      ]
     },
     "execution_count": 135,
     "metadata": {},
     "output_type": "execute_result"
    }
   ],
   "source": [
    "stat, p = st.bartlett(ultra, smart)\n",
    "p"
   ]
  },
  {
   "cell_type": "markdown",
   "id": "1f629ed7",
   "metadata": {},
   "source": [
    "Поскольку p-value менее 5%, при расчете статистического теста можно указать, что дисперсии выборок не равны."
   ]
  },
  {
   "cell_type": "code",
   "execution_count": 136,
   "id": "6895fafa",
   "metadata": {},
   "outputs": [
    {
     "name": "stdout",
     "output_type": "stream",
     "text": [
      "p-значение: 1.927011394420941e-250\n",
      "Отвергаем H0 и принимаем H1\n"
     ]
    }
   ],
   "source": [
    "res_t = st.ttest_ind(\n",
    "    ultra, \n",
    "    smart, \n",
    "    equal_var=False)\n",
    "\n",
    "print('p-значение:', res_t.pvalue)\n",
    "\n",
    "if (res_t.pvalue < alpha):\n",
    "    print(\"Отвергаем H0 и принимаем H1\")\n",
    "else:\n",
    "    print(\"Отвергаем H1 и принимаем H0\")"
   ]
  },
  {
   "cell_type": "code",
   "execution_count": 137,
   "id": "0274dbef",
   "metadata": {
    "scrolled": false
   },
   "outputs": [
    {
     "data": {
      "text/plain": [
       "1950.0"
      ]
     },
     "metadata": {},
     "output_type": "display_data"
    },
    {
     "data": {
      "text/plain": [
       "1021.0"
      ]
     },
     "metadata": {},
     "output_type": "display_data"
    }
   ],
   "source": [
    "display(ultra.median())\n",
    "display(smart.median())"
   ]
  },
  {
   "cell_type": "markdown",
   "id": "55bfd65b",
   "metadata": {},
   "source": [
    "Не смотря на то, что изначально стоимость тарифов различается почти в 4 раза (550 руб и 1950 руб.). По факту в среднем выручка по тарифам различаются лишь в 2 раза. Так как абоненты тарифа \"Смарт\" из-за нехватки пакета минут и интернет-трафика доплачивают за фактический перерасход.\n",
    "___"
   ]
  },
  {
   "cell_type": "markdown",
   "id": "bded8935",
   "metadata": {},
   "source": [
    "**Нулевая гипотеза** - средняя выручка пользователей из Москвы равна средней выручке пользователей из других регионов\n",
    "\n",
    "**Альтернативная гипотеза** - средняя выручка пользователей из Москвы отличается от выручки пользователей из других регионов\n",
    "\n",
    "alpha = 5%"
   ]
  },
  {
   "cell_type": "markdown",
   "id": "6f34e57b",
   "metadata": {},
   "source": [
    "В данном случае, рассуждения можно выстроить аналогичным образом - определить присутствует ли нормальность распределения, но провести оба теста."
   ]
  },
  {
   "cell_type": "code",
   "execution_count": 138,
   "id": "25b99cf2",
   "metadata": {},
   "outputs": [],
   "source": [
    "Moscow = merged.query('city == \"Москва\"')['revenue']\n",
    "regions = merged.query('city != \"Москва\"')['revenue']"
   ]
  },
  {
   "cell_type": "markdown",
   "id": "335da042",
   "metadata": {},
   "source": [
    "Перед проведением статитистического теста проведем тест Барлетта, чтобы определить равны ли дисперсии выборок."
   ]
  },
  {
   "cell_type": "code",
   "execution_count": 139,
   "id": "4c6d218d",
   "metadata": {
    "scrolled": true
   },
   "outputs": [
    {
     "name": "stdout",
     "output_type": "stream",
     "text": [
      "Отклоняем гипотезу, что выручка пользователей из Москвы имеет нормальное распределение при alpha=0.05 и p-value=0.000\n"
     ]
    }
   ],
   "source": [
    "res = shapiro(Moscow)\n",
    "if res[1]<alpha:\n",
    "    print(f'Отклоняем гипотезу, что выручка пользователей из Москвы имеет нормальное распределение при alpha={alpha} и p-value={res[1]:.3f}')"
   ]
  },
  {
   "cell_type": "markdown",
   "id": "8ad8030c",
   "metadata": {},
   "source": [
    "Проведем тест Манна-Уитни:"
   ]
  },
  {
   "cell_type": "code",
   "execution_count": 140,
   "id": "792a0f9f",
   "metadata": {
    "scrolled": true
   },
   "outputs": [
    {
     "name": "stdout",
     "output_type": "stream",
     "text": [
      "0.37084065724894977\n",
      "Отклоняем H1 и принимаем H0\n"
     ]
    }
   ],
   "source": [
    "res_man = st.mannwhitneyu(Moscow,regions)\n",
    "print(res_man.pvalue)\n",
    "if res_man.pvalue<alpha:\n",
    "    print('Отклоняем H0 и принимаем H1')\n",
    "else:\n",
    "    print('Отклоняем H1 и принимаем H0')"
   ]
  },
  {
   "cell_type": "markdown",
   "id": "c6c9c92d",
   "metadata": {},
   "source": [
    "Дополнительно проведем t-тест, предварительно проверив выборки на гомогенность дисперсий:"
   ]
  },
  {
   "cell_type": "code",
   "execution_count": 141,
   "id": "09261655",
   "metadata": {},
   "outputs": [
    {
     "data": {
      "text/plain": [
       "0.02454560808639366"
      ]
     },
     "execution_count": 141,
     "metadata": {},
     "output_type": "execute_result"
    }
   ],
   "source": [
    "stat, p = bartlett(Moscow, regions)\n",
    "p"
   ]
  },
  {
   "cell_type": "markdown",
   "id": "08984291",
   "metadata": {},
   "source": [
    "Поскольку p-value также менее 5%, при расчете статистического теста можно указать, что дисперсии выборок не равны."
   ]
  },
  {
   "cell_type": "code",
   "execution_count": 142,
   "id": "a8d223e2",
   "metadata": {},
   "outputs": [
    {
     "name": "stdout",
     "output_type": "stream",
     "text": [
      "p-значение: 0.5216952110000279\n",
      "Отвергаем H1 и принимаем H0\n"
     ]
    }
   ],
   "source": [
    "res_t = st.ttest_ind(\n",
    "    Moscow, \n",
    "    regions, \n",
    "    equal_var=False)\n",
    "\n",
    "print('p-значение:', res_t.pvalue)\n",
    "\n",
    "if (res_t.pvalue < alpha):\n",
    "    print(\"Отвергаем H0 и принимаем H1\")\n",
    "else:\n",
    "    print(\"Отвергаем H1 и принимаем H0\")"
   ]
  },
  {
   "cell_type": "code",
   "execution_count": 143,
   "id": "1d4f29d0",
   "metadata": {},
   "outputs": [
    {
     "data": {
      "text/plain": [
       "1750.0"
      ]
     },
     "metadata": {},
     "output_type": "display_data"
    },
    {
     "data": {
      "text/plain": [
       "1583.0"
      ]
     },
     "metadata": {},
     "output_type": "display_data"
    }
   ],
   "source": [
    "display(Moscow.median())\n",
    "display(regions.median())"
   ]
  },
  {
   "cell_type": "markdown",
   "id": "4feefb69",
   "metadata": {},
   "source": [
    "По итогам данного статистического теста не удалось опровергнуть гипотезу о том, что выручка от клиентов в Москве и других городах равны. Медианные значения по выборке также близки.\n",
    "Если бы гипотеза была отвергнута с вероятностью 52% данное решение могло бы быть ошибочным."
   ]
  },
  {
   "cell_type": "markdown",
   "id": "05566bd6",
   "metadata": {},
   "source": [
    "### Вывод"
   ]
  },
  {
   "cell_type": "markdown",
   "id": "7083dba6",
   "metadata": {},
   "source": [
    "По результатам статистических тестов можно утверждать, что с вероятностью 99% средняя выручка по тарифу \"Ультра\"  отличаются от средней выручки от тарифа \"Смарт\".\n",
    "Также по результатам статистических тестов не удалось отвергнуть гипотезу, что выручка в Москве и в других городах равна.\n",
    "\n",
    "Дополнительно в рамках исследования установлено:\n",
    "* В среднем пользователи тарифа \"Смарт\" платят практически в 2 раза больше фиксированной абонентской платы 1021 руб (вместо 550 руб.)\n",
    "* Переплата обусловлена нехваткой пакета услуг предоставляемого в рамках тарифа - в частности по объему минут (порядка трети абонентов(33%) не укладываются в рамки пакета 500 минут), а также по объему интернет трафика (лишь 30% пользователей укладываются в рамки пакета в 15 гигабайт)\n",
    "* Пользователи тарифа \"Ультра\" напротив редко выходят за рамки предоплаченного пакета услуг, вследствии чего выручка от данных пользователей в среднем не превышает абонентской платы - 1950 руб.\n",
    "* В среднем пользователи тарифа \"Ультра\" тратили не более - 534 минут на разговоры, и не более 20 гигабайт в интернете.\n",
    "* Значительная часть абонентов обоих тарифов не использует сообщения."
   ]
  }
 ],
 "metadata": {
  "ExecuteTimeLog": [
   {
    "duration": 1784,
    "start_time": "2022-01-21T09:08:52.364Z"
   },
   {
    "duration": 562,
    "start_time": "2022-01-21T09:08:54.152Z"
   },
   {
    "duration": 6,
    "start_time": "2022-01-21T09:08:54.718Z"
   },
   {
    "duration": 8,
    "start_time": "2022-01-21T09:08:54.726Z"
   },
   {
    "duration": 56,
    "start_time": "2022-01-21T09:08:54.736Z"
   },
   {
    "duration": 11,
    "start_time": "2022-01-21T09:08:54.794Z"
   },
   {
    "duration": 14,
    "start_time": "2022-01-21T09:08:54.807Z"
   },
   {
    "duration": 46,
    "start_time": "2022-01-21T09:08:54.823Z"
   },
   {
    "duration": 683,
    "start_time": "2022-01-21T09:08:54.873Z"
   },
   {
    "duration": -109,
    "start_time": "2022-01-21T09:08:55.669Z"
   },
   {
    "duration": -113,
    "start_time": "2022-01-21T09:08:55.674Z"
   },
   {
    "duration": -117,
    "start_time": "2022-01-21T09:08:55.680Z"
   },
   {
    "duration": -118,
    "start_time": "2022-01-21T09:08:55.683Z"
   },
   {
    "duration": -121,
    "start_time": "2022-01-21T09:08:55.688Z"
   },
   {
    "duration": -122,
    "start_time": "2022-01-21T09:08:55.692Z"
   },
   {
    "duration": -124,
    "start_time": "2022-01-21T09:08:55.696Z"
   },
   {
    "duration": -126,
    "start_time": "2022-01-21T09:08:55.700Z"
   },
   {
    "duration": -132,
    "start_time": "2022-01-21T09:08:55.708Z"
   },
   {
    "duration": -134,
    "start_time": "2022-01-21T09:08:55.713Z"
   },
   {
    "duration": -136,
    "start_time": "2022-01-21T09:08:55.717Z"
   },
   {
    "duration": -138,
    "start_time": "2022-01-21T09:08:55.721Z"
   },
   {
    "duration": -139,
    "start_time": "2022-01-21T09:08:55.724Z"
   },
   {
    "duration": -141,
    "start_time": "2022-01-21T09:08:55.728Z"
   },
   {
    "duration": -143,
    "start_time": "2022-01-21T09:08:55.732Z"
   },
   {
    "duration": -154,
    "start_time": "2022-01-21T09:08:55.745Z"
   },
   {
    "duration": -157,
    "start_time": "2022-01-21T09:08:55.749Z"
   },
   {
    "duration": -159,
    "start_time": "2022-01-21T09:08:55.753Z"
   },
   {
    "duration": -162,
    "start_time": "2022-01-21T09:08:55.758Z"
   },
   {
    "duration": -165,
    "start_time": "2022-01-21T09:08:55.762Z"
   },
   {
    "duration": -167,
    "start_time": "2022-01-21T09:08:55.766Z"
   },
   {
    "duration": -170,
    "start_time": "2022-01-21T09:08:55.770Z"
   },
   {
    "duration": -173,
    "start_time": "2022-01-21T09:08:55.774Z"
   },
   {
    "duration": -175,
    "start_time": "2022-01-21T09:08:55.778Z"
   },
   {
    "duration": -177,
    "start_time": "2022-01-21T09:08:55.782Z"
   },
   {
    "duration": -180,
    "start_time": "2022-01-21T09:08:55.786Z"
   },
   {
    "duration": -183,
    "start_time": "2022-01-21T09:08:55.790Z"
   },
   {
    "duration": -184,
    "start_time": "2022-01-21T09:08:55.793Z"
   },
   {
    "duration": -187,
    "start_time": "2022-01-21T09:08:55.797Z"
   },
   {
    "duration": -190,
    "start_time": "2022-01-21T09:08:55.801Z"
   },
   {
    "duration": -136,
    "start_time": "2022-01-21T09:08:55.805Z"
   },
   {
    "duration": -137,
    "start_time": "2022-01-21T09:08:55.808Z"
   },
   {
    "duration": -139,
    "start_time": "2022-01-21T09:08:55.812Z"
   },
   {
    "duration": -142,
    "start_time": "2022-01-21T09:08:55.816Z"
   },
   {
    "duration": 1624,
    "start_time": "2022-01-21T09:30:45.335Z"
   },
   {
    "duration": 533,
    "start_time": "2022-01-21T09:30:46.962Z"
   },
   {
    "duration": 6,
    "start_time": "2022-01-21T09:30:47.499Z"
   },
   {
    "duration": 34,
    "start_time": "2022-01-21T09:30:47.509Z"
   },
   {
    "duration": 58,
    "start_time": "2022-01-21T09:30:47.546Z"
   },
   {
    "duration": 12,
    "start_time": "2022-01-21T09:30:47.607Z"
   },
   {
    "duration": 17,
    "start_time": "2022-01-21T09:30:47.621Z"
   },
   {
    "duration": 33,
    "start_time": "2022-01-21T09:30:47.642Z"
   },
   {
    "duration": 1500,
    "start_time": "2022-01-21T09:34:18.642Z"
   },
   {
    "duration": 509,
    "start_time": "2022-01-21T09:34:20.145Z"
   },
   {
    "duration": 5,
    "start_time": "2022-01-21T09:34:20.657Z"
   },
   {
    "duration": 14,
    "start_time": "2022-01-21T09:34:20.664Z"
   },
   {
    "duration": 58,
    "start_time": "2022-01-21T09:34:20.681Z"
   },
   {
    "duration": 28,
    "start_time": "2022-01-21T09:34:20.742Z"
   },
   {
    "duration": 17,
    "start_time": "2022-01-21T09:34:20.772Z"
   },
   {
    "duration": 8,
    "start_time": "2022-01-21T09:34:20.794Z"
   },
   {
    "duration": 489,
    "start_time": "2022-01-21T09:34:20.806Z"
   },
   {
    "duration": -153,
    "start_time": "2022-01-21T09:34:21.451Z"
   },
   {
    "duration": -156,
    "start_time": "2022-01-21T09:34:21.456Z"
   },
   {
    "duration": -160,
    "start_time": "2022-01-21T09:34:21.461Z"
   },
   {
    "duration": -165,
    "start_time": "2022-01-21T09:34:21.468Z"
   },
   {
    "duration": -173,
    "start_time": "2022-01-21T09:34:21.477Z"
   },
   {
    "duration": -176,
    "start_time": "2022-01-21T09:34:21.482Z"
   },
   {
    "duration": -180,
    "start_time": "2022-01-21T09:34:21.487Z"
   },
   {
    "duration": -184,
    "start_time": "2022-01-21T09:34:21.492Z"
   },
   {
    "duration": -187,
    "start_time": "2022-01-21T09:34:21.497Z"
   },
   {
    "duration": -191,
    "start_time": "2022-01-21T09:34:21.502Z"
   },
   {
    "duration": -194,
    "start_time": "2022-01-21T09:34:21.507Z"
   },
   {
    "duration": -198,
    "start_time": "2022-01-21T09:34:21.512Z"
   },
   {
    "duration": -211,
    "start_time": "2022-01-21T09:34:21.527Z"
   },
   {
    "duration": -214,
    "start_time": "2022-01-21T09:34:21.532Z"
   },
   {
    "duration": -219,
    "start_time": "2022-01-21T09:34:21.538Z"
   },
   {
    "duration": -223,
    "start_time": "2022-01-21T09:34:21.543Z"
   },
   {
    "duration": -226,
    "start_time": "2022-01-21T09:34:21.548Z"
   },
   {
    "duration": -230,
    "start_time": "2022-01-21T09:34:21.553Z"
   },
   {
    "duration": -234,
    "start_time": "2022-01-21T09:34:21.558Z"
   },
   {
    "duration": -238,
    "start_time": "2022-01-21T09:34:21.563Z"
   },
   {
    "duration": -241,
    "start_time": "2022-01-21T09:34:21.568Z"
   },
   {
    "duration": -245,
    "start_time": "2022-01-21T09:34:21.573Z"
   },
   {
    "duration": -249,
    "start_time": "2022-01-21T09:34:21.578Z"
   },
   {
    "duration": -253,
    "start_time": "2022-01-21T09:34:21.583Z"
   },
   {
    "duration": -257,
    "start_time": "2022-01-21T09:34:21.589Z"
   },
   {
    "duration": -262,
    "start_time": "2022-01-21T09:34:21.595Z"
   },
   {
    "duration": -265,
    "start_time": "2022-01-21T09:34:21.600Z"
   },
   {
    "duration": -237,
    "start_time": "2022-01-21T09:34:21.605Z"
   },
   {
    "duration": -240,
    "start_time": "2022-01-21T09:34:21.610Z"
   },
   {
    "duration": -244,
    "start_time": "2022-01-21T09:34:21.615Z"
   },
   {
    "duration": -247,
    "start_time": "2022-01-21T09:34:21.620Z"
   },
   {
    "duration": -249,
    "start_time": "2022-01-21T09:34:21.624Z"
   },
   {
    "duration": -263,
    "start_time": "2022-01-21T09:34:21.639Z"
   },
   {
    "duration": -266,
    "start_time": "2022-01-21T09:34:21.644Z"
   },
   {
    "duration": 1847,
    "start_time": "2022-01-21T09:35:12.103Z"
   },
   {
    "duration": 508,
    "start_time": "2022-01-21T09:35:13.953Z"
   },
   {
    "duration": 5,
    "start_time": "2022-01-21T09:35:14.464Z"
   },
   {
    "duration": 9,
    "start_time": "2022-01-21T09:35:14.471Z"
   },
   {
    "duration": 88,
    "start_time": "2022-01-21T09:35:14.483Z"
   },
   {
    "duration": 14,
    "start_time": "2022-01-21T09:35:14.574Z"
   },
   {
    "duration": 8,
    "start_time": "2022-01-21T09:35:14.591Z"
   },
   {
    "duration": 7,
    "start_time": "2022-01-21T09:35:14.603Z"
   },
   {
    "duration": 26766,
    "start_time": "2022-01-21T09:35:14.614Z"
   },
   {
    "duration": 1534,
    "start_time": "2022-01-21T09:35:41.382Z"
   },
   {
    "duration": -147,
    "start_time": "2022-01-21T09:35:43.066Z"
   },
   {
    "duration": -150,
    "start_time": "2022-01-21T09:35:43.070Z"
   },
   {
    "duration": -165,
    "start_time": "2022-01-21T09:35:43.086Z"
   },
   {
    "duration": -177,
    "start_time": "2022-01-21T09:35:43.100Z"
   },
   {
    "duration": -181,
    "start_time": "2022-01-21T09:35:43.105Z"
   },
   {
    "duration": -186,
    "start_time": "2022-01-21T09:35:43.111Z"
   },
   {
    "duration": -190,
    "start_time": "2022-01-21T09:35:43.117Z"
   },
   {
    "duration": -194,
    "start_time": "2022-01-21T09:35:43.122Z"
   },
   {
    "duration": -198,
    "start_time": "2022-01-21T09:35:43.127Z"
   },
   {
    "duration": -201,
    "start_time": "2022-01-21T09:35:43.131Z"
   },
   {
    "duration": -206,
    "start_time": "2022-01-21T09:35:43.137Z"
   },
   {
    "duration": -208,
    "start_time": "2022-01-21T09:35:43.141Z"
   },
   {
    "duration": -212,
    "start_time": "2022-01-21T09:35:43.146Z"
   },
   {
    "duration": -214,
    "start_time": "2022-01-21T09:35:43.149Z"
   },
   {
    "duration": -219,
    "start_time": "2022-01-21T09:35:43.155Z"
   },
   {
    "duration": -222,
    "start_time": "2022-01-21T09:35:43.159Z"
   },
   {
    "duration": -224,
    "start_time": "2022-01-21T09:35:43.163Z"
   },
   {
    "duration": -228,
    "start_time": "2022-01-21T09:35:43.168Z"
   },
   {
    "duration": -231,
    "start_time": "2022-01-21T09:35:43.173Z"
   },
   {
    "duration": -234,
    "start_time": "2022-01-21T09:35:43.177Z"
   },
   {
    "duration": -239,
    "start_time": "2022-01-21T09:35:43.183Z"
   },
   {
    "duration": -242,
    "start_time": "2022-01-21T09:35:43.188Z"
   },
   {
    "duration": -258,
    "start_time": "2022-01-21T09:35:43.205Z"
   },
   {
    "duration": -261,
    "start_time": "2022-01-21T09:35:43.209Z"
   },
   {
    "duration": -265,
    "start_time": "2022-01-21T09:35:43.214Z"
   },
   {
    "duration": -268,
    "start_time": "2022-01-21T09:35:43.219Z"
   },
   {
    "duration": -272,
    "start_time": "2022-01-21T09:35:43.224Z"
   },
   {
    "duration": -275,
    "start_time": "2022-01-21T09:35:43.228Z"
   },
   {
    "duration": -279,
    "start_time": "2022-01-21T09:35:43.234Z"
   },
   {
    "duration": -283,
    "start_time": "2022-01-21T09:35:43.239Z"
   },
   {
    "duration": -275,
    "start_time": "2022-01-21T09:35:43.244Z"
   },
   {
    "duration": -278,
    "start_time": "2022-01-21T09:35:43.249Z"
   },
   {
    "duration": -282,
    "start_time": "2022-01-21T09:35:43.254Z"
   },
   {
    "duration": -285,
    "start_time": "2022-01-21T09:35:43.259Z"
   },
   {
    "duration": 1805,
    "start_time": "2022-01-21T09:35:54.689Z"
   },
   {
    "duration": 544,
    "start_time": "2022-01-21T09:35:56.497Z"
   },
   {
    "duration": 5,
    "start_time": "2022-01-21T09:35:57.044Z"
   },
   {
    "duration": 456,
    "start_time": "2022-01-21T09:35:57.051Z"
   },
   {
    "duration": 388,
    "start_time": "2022-01-21T09:35:57.509Z"
   },
   {
    "duration": 10,
    "start_time": "2022-01-21T09:35:57.899Z"
   },
   {
    "duration": 10,
    "start_time": "2022-01-21T09:35:57.912Z"
   },
   {
    "duration": 8,
    "start_time": "2022-01-21T09:35:57.968Z"
   },
   {
    "duration": 12932,
    "start_time": "2022-01-21T09:35:57.979Z"
   },
   {
    "duration": 15,
    "start_time": "2022-01-21T09:36:10.914Z"
   },
   {
    "duration": 8,
    "start_time": "2022-01-21T09:36:10.931Z"
   },
   {
    "duration": 112,
    "start_time": "2022-01-21T09:36:10.942Z"
   },
   {
    "duration": 73,
    "start_time": "2022-01-21T09:36:11.069Z"
   },
   {
    "duration": 84,
    "start_time": "2022-01-21T09:36:11.145Z"
   },
   {
    "duration": 50,
    "start_time": "2022-01-21T09:36:11.231Z"
   },
   {
    "duration": 89,
    "start_time": "2022-01-21T09:36:11.284Z"
   },
   {
    "duration": 121,
    "start_time": "2022-01-21T09:36:11.375Z"
   },
   {
    "duration": 70,
    "start_time": "2022-01-21T09:36:11.499Z"
   },
   {
    "duration": 79,
    "start_time": "2022-01-21T09:36:11.571Z"
   },
   {
    "duration": 55,
    "start_time": "2022-01-21T09:36:11.652Z"
   },
   {
    "duration": 34,
    "start_time": "2022-01-21T09:36:11.709Z"
   },
   {
    "duration": 49,
    "start_time": "2022-01-21T09:36:11.745Z"
   },
   {
    "duration": 26,
    "start_time": "2022-01-21T09:36:11.799Z"
   },
   {
    "duration": 55,
    "start_time": "2022-01-21T09:36:11.828Z"
   },
   {
    "duration": 7,
    "start_time": "2022-01-21T09:36:11.885Z"
   },
   {
    "duration": 25,
    "start_time": "2022-01-21T09:36:11.894Z"
   },
   {
    "duration": 56,
    "start_time": "2022-01-21T09:36:11.922Z"
   },
   {
    "duration": 7,
    "start_time": "2022-01-21T09:36:11.980Z"
   },
   {
    "duration": 182,
    "start_time": "2022-01-21T09:36:11.989Z"
   },
   {
    "duration": 24,
    "start_time": "2022-01-21T09:36:12.173Z"
   },
   {
    "duration": 24,
    "start_time": "2022-01-21T09:36:12.199Z"
   },
   {
    "duration": 5,
    "start_time": "2022-01-21T09:36:12.225Z"
   },
   {
    "duration": 60,
    "start_time": "2022-01-21T09:36:12.233Z"
   },
   {
    "duration": 50,
    "start_time": "2022-01-21T09:36:12.295Z"
   },
   {
    "duration": 13962,
    "start_time": "2022-01-21T09:36:12.348Z"
   },
   {
    "duration": 576,
    "start_time": "2022-01-21T09:36:26.312Z"
   },
   {
    "duration": 645,
    "start_time": "2022-01-21T09:36:26.890Z"
   },
   {
    "duration": 2267,
    "start_time": "2022-01-21T09:36:27.538Z"
   },
   {
    "duration": 7,
    "start_time": "2022-01-21T09:36:29.808Z"
   },
   {
    "duration": 9,
    "start_time": "2022-01-21T09:36:29.817Z"
   },
   {
    "duration": 46,
    "start_time": "2022-01-21T09:36:29.828Z"
   },
   {
    "duration": 14,
    "start_time": "2022-01-21T09:36:29.877Z"
   },
   {
    "duration": 15,
    "start_time": "2022-01-21T09:36:29.894Z"
   },
   {
    "duration": 12,
    "start_time": "2022-01-21T09:36:29.911Z"
   },
   {
    "duration": 21,
    "start_time": "2022-01-21T09:40:03.878Z"
   },
   {
    "duration": 1149,
    "start_time": "2022-01-22T06:55:21.980Z"
   },
   {
    "duration": 365,
    "start_time": "2022-01-22T06:55:23.131Z"
   },
   {
    "duration": 3,
    "start_time": "2022-01-22T06:55:23.498Z"
   },
   {
    "duration": 7,
    "start_time": "2022-01-22T06:55:23.502Z"
   },
   {
    "duration": 30,
    "start_time": "2022-01-22T06:55:23.510Z"
   },
   {
    "duration": 6,
    "start_time": "2022-01-22T06:55:23.542Z"
   },
   {
    "duration": 6,
    "start_time": "2022-01-22T06:55:23.549Z"
   },
   {
    "duration": 4,
    "start_time": "2022-01-22T06:55:23.556Z"
   },
   {
    "duration": 7231,
    "start_time": "2022-01-22T06:55:23.562Z"
   },
   {
    "duration": 480,
    "start_time": "2022-01-22T06:55:30.795Z"
   },
   {
    "duration": -70,
    "start_time": "2022-01-22T06:55:31.348Z"
   },
   {
    "duration": -72,
    "start_time": "2022-01-22T06:55:31.352Z"
   },
   {
    "duration": -136,
    "start_time": "2022-01-22T06:55:31.417Z"
   },
   {
    "duration": -138,
    "start_time": "2022-01-22T06:55:31.420Z"
   },
   {
    "duration": -139,
    "start_time": "2022-01-22T06:55:31.423Z"
   },
   {
    "duration": -147,
    "start_time": "2022-01-22T06:55:31.432Z"
   },
   {
    "duration": -150,
    "start_time": "2022-01-22T06:55:31.436Z"
   },
   {
    "duration": -159,
    "start_time": "2022-01-22T06:55:31.446Z"
   },
   {
    "duration": -162,
    "start_time": "2022-01-22T06:55:31.451Z"
   },
   {
    "duration": -163,
    "start_time": "2022-01-22T06:55:31.453Z"
   },
   {
    "duration": -166,
    "start_time": "2022-01-22T06:55:31.457Z"
   },
   {
    "duration": -170,
    "start_time": "2022-01-22T06:55:31.463Z"
   },
   {
    "duration": -172,
    "start_time": "2022-01-22T06:55:31.466Z"
   },
   {
    "duration": -174,
    "start_time": "2022-01-22T06:55:31.469Z"
   },
   {
    "duration": -176,
    "start_time": "2022-01-22T06:55:31.472Z"
   },
   {
    "duration": -180,
    "start_time": "2022-01-22T06:55:31.478Z"
   },
   {
    "duration": -182,
    "start_time": "2022-01-22T06:55:31.481Z"
   },
   {
    "duration": -184,
    "start_time": "2022-01-22T06:55:31.484Z"
   },
   {
    "duration": -185,
    "start_time": "2022-01-22T06:55:31.487Z"
   },
   {
    "duration": -187,
    "start_time": "2022-01-22T06:55:31.490Z"
   },
   {
    "duration": -188,
    "start_time": "2022-01-22T06:55:31.492Z"
   },
   {
    "duration": -190,
    "start_time": "2022-01-22T06:55:31.495Z"
   },
   {
    "duration": -191,
    "start_time": "2022-01-22T06:55:31.498Z"
   },
   {
    "duration": -194,
    "start_time": "2022-01-22T06:55:31.502Z"
   },
   {
    "duration": -196,
    "start_time": "2022-01-22T06:55:31.505Z"
   },
   {
    "duration": -200,
    "start_time": "2022-01-22T06:55:31.510Z"
   },
   {
    "duration": -201,
    "start_time": "2022-01-22T06:55:31.513Z"
   },
   {
    "duration": -203,
    "start_time": "2022-01-22T06:55:31.516Z"
   },
   {
    "duration": -205,
    "start_time": "2022-01-22T06:55:31.519Z"
   },
   {
    "duration": -207,
    "start_time": "2022-01-22T06:55:31.523Z"
   },
   {
    "duration": -212,
    "start_time": "2022-01-22T06:55:31.529Z"
   },
   {
    "duration": -205,
    "start_time": "2022-01-22T06:55:31.532Z"
   },
   {
    "duration": -209,
    "start_time": "2022-01-22T06:55:31.537Z"
   },
   {
    "duration": -211,
    "start_time": "2022-01-22T06:55:31.540Z"
   },
   {
    "duration": 102,
    "start_time": "2022-01-22T06:58:43.866Z"
   },
   {
    "duration": 2,
    "start_time": "2022-01-22T06:59:19.662Z"
   },
   {
    "duration": 386,
    "start_time": "2022-01-22T06:59:19.666Z"
   },
   {
    "duration": 4,
    "start_time": "2022-01-22T06:59:20.054Z"
   },
   {
    "duration": 15,
    "start_time": "2022-01-22T06:59:20.059Z"
   },
   {
    "duration": 34,
    "start_time": "2022-01-22T06:59:20.075Z"
   },
   {
    "duration": 6,
    "start_time": "2022-01-22T06:59:20.110Z"
   },
   {
    "duration": 9,
    "start_time": "2022-01-22T06:59:20.118Z"
   },
   {
    "duration": 4,
    "start_time": "2022-01-22T06:59:20.129Z"
   },
   {
    "duration": 2581,
    "start_time": "2022-01-22T06:59:20.136Z"
   },
   {
    "duration": 374,
    "start_time": "2022-01-22T06:59:22.720Z"
   },
   {
    "duration": -71,
    "start_time": "2022-01-22T06:59:23.168Z"
   },
   {
    "duration": -74,
    "start_time": "2022-01-22T06:59:23.172Z"
   },
   {
    "duration": -76,
    "start_time": "2022-01-22T06:59:23.175Z"
   },
   {
    "duration": -77,
    "start_time": "2022-01-22T06:59:23.178Z"
   },
   {
    "duration": -90,
    "start_time": "2022-01-22T06:59:23.192Z"
   },
   {
    "duration": -92,
    "start_time": "2022-01-22T06:59:23.195Z"
   },
   {
    "duration": -95,
    "start_time": "2022-01-22T06:59:23.199Z"
   },
   {
    "duration": -96,
    "start_time": "2022-01-22T06:59:23.202Z"
   },
   {
    "duration": -98,
    "start_time": "2022-01-22T06:59:23.205Z"
   },
   {
    "duration": -100,
    "start_time": "2022-01-22T06:59:23.208Z"
   },
   {
    "duration": -101,
    "start_time": "2022-01-22T06:59:23.211Z"
   },
   {
    "duration": -103,
    "start_time": "2022-01-22T06:59:23.214Z"
   },
   {
    "duration": -105,
    "start_time": "2022-01-22T06:59:23.217Z"
   },
   {
    "duration": -107,
    "start_time": "2022-01-22T06:59:23.220Z"
   },
   {
    "duration": -108,
    "start_time": "2022-01-22T06:59:23.223Z"
   },
   {
    "duration": -109,
    "start_time": "2022-01-22T06:59:23.225Z"
   },
   {
    "duration": -112,
    "start_time": "2022-01-22T06:59:23.229Z"
   },
   {
    "duration": -114,
    "start_time": "2022-01-22T06:59:23.232Z"
   },
   {
    "duration": -115,
    "start_time": "2022-01-22T06:59:23.235Z"
   },
   {
    "duration": -116,
    "start_time": "2022-01-22T06:59:23.237Z"
   },
   {
    "duration": -118,
    "start_time": "2022-01-22T06:59:23.240Z"
   },
   {
    "duration": -118,
    "start_time": "2022-01-22T06:59:23.242Z"
   },
   {
    "duration": -121,
    "start_time": "2022-01-22T06:59:23.246Z"
   },
   {
    "duration": -123,
    "start_time": "2022-01-22T06:59:23.249Z"
   },
   {
    "duration": -125,
    "start_time": "2022-01-22T06:59:23.252Z"
   },
   {
    "duration": -126,
    "start_time": "2022-01-22T06:59:23.255Z"
   },
   {
    "duration": -128,
    "start_time": "2022-01-22T06:59:23.258Z"
   },
   {
    "duration": -129,
    "start_time": "2022-01-22T06:59:23.260Z"
   },
   {
    "duration": -131,
    "start_time": "2022-01-22T06:59:23.264Z"
   },
   {
    "duration": -133,
    "start_time": "2022-01-22T06:59:23.267Z"
   },
   {
    "duration": -135,
    "start_time": "2022-01-22T06:59:23.270Z"
   },
   {
    "duration": -135,
    "start_time": "2022-01-22T06:59:23.272Z"
   },
   {
    "duration": -137,
    "start_time": "2022-01-22T06:59:23.275Z"
   },
   {
    "duration": -139,
    "start_time": "2022-01-22T06:59:23.278Z"
   },
   {
    "duration": 7,
    "start_time": "2022-01-22T07:07:55.449Z"
   },
   {
    "duration": 177,
    "start_time": "2022-01-22T07:08:15.095Z"
   },
   {
    "duration": 289,
    "start_time": "2022-01-22T07:08:22.876Z"
   },
   {
    "duration": 211,
    "start_time": "2022-01-22T07:08:27.688Z"
   },
   {
    "duration": 229,
    "start_time": "2022-01-22T07:10:05.201Z"
   },
   {
    "duration": 241,
    "start_time": "2022-01-22T07:11:20.800Z"
   },
   {
    "duration": 3,
    "start_time": "2022-01-22T07:14:57.004Z"
   },
   {
    "duration": 384,
    "start_time": "2022-01-22T07:14:57.117Z"
   },
   {
    "duration": 3,
    "start_time": "2022-01-22T07:14:57.503Z"
   },
   {
    "duration": 7,
    "start_time": "2022-01-22T07:14:57.508Z"
   },
   {
    "duration": 31,
    "start_time": "2022-01-22T07:14:57.516Z"
   },
   {
    "duration": 85,
    "start_time": "2022-01-22T07:14:57.548Z"
   },
   {
    "duration": 5,
    "start_time": "2022-01-22T07:14:57.634Z"
   },
   {
    "duration": 5,
    "start_time": "2022-01-22T07:14:57.641Z"
   },
   {
    "duration": 2539,
    "start_time": "2022-01-22T07:14:57.647Z"
   },
   {
    "duration": 383,
    "start_time": "2022-01-22T07:15:00.189Z"
   },
   {
    "duration": -123,
    "start_time": "2022-01-22T07:15:00.698Z"
   },
   {
    "duration": -128,
    "start_time": "2022-01-22T07:15:00.704Z"
   },
   {
    "duration": -130,
    "start_time": "2022-01-22T07:15:00.707Z"
   },
   {
    "duration": -132,
    "start_time": "2022-01-22T07:15:00.710Z"
   },
   {
    "duration": -134,
    "start_time": "2022-01-22T07:15:00.713Z"
   },
   {
    "duration": -138,
    "start_time": "2022-01-22T07:15:00.718Z"
   },
   {
    "duration": -141,
    "start_time": "2022-01-22T07:15:00.721Z"
   },
   {
    "duration": -144,
    "start_time": "2022-01-22T07:15:00.725Z"
   },
   {
    "duration": -147,
    "start_time": "2022-01-22T07:15:00.729Z"
   },
   {
    "duration": -153,
    "start_time": "2022-01-22T07:15:00.736Z"
   },
   {
    "duration": -156,
    "start_time": "2022-01-22T07:15:00.740Z"
   },
   {
    "duration": -159,
    "start_time": "2022-01-22T07:15:00.744Z"
   },
   {
    "duration": -162,
    "start_time": "2022-01-22T07:15:00.747Z"
   },
   {
    "duration": -166,
    "start_time": "2022-01-22T07:15:00.752Z"
   },
   {
    "duration": -168,
    "start_time": "2022-01-22T07:15:00.755Z"
   },
   {
    "duration": -170,
    "start_time": "2022-01-22T07:15:00.758Z"
   },
   {
    "duration": -172,
    "start_time": "2022-01-22T07:15:00.761Z"
   },
   {
    "duration": -175,
    "start_time": "2022-01-22T07:15:00.765Z"
   },
   {
    "duration": -179,
    "start_time": "2022-01-22T07:15:00.769Z"
   },
   {
    "duration": -182,
    "start_time": "2022-01-22T07:15:00.773Z"
   },
   {
    "duration": -185,
    "start_time": "2022-01-22T07:15:00.777Z"
   },
   {
    "duration": -190,
    "start_time": "2022-01-22T07:15:00.783Z"
   },
   {
    "duration": -193,
    "start_time": "2022-01-22T07:15:00.787Z"
   },
   {
    "duration": -198,
    "start_time": "2022-01-22T07:15:00.792Z"
   },
   {
    "duration": -201,
    "start_time": "2022-01-22T07:15:00.796Z"
   },
   {
    "duration": -261,
    "start_time": "2022-01-22T07:15:00.857Z"
   },
   {
    "duration": -264,
    "start_time": "2022-01-22T07:15:00.861Z"
   },
   {
    "duration": -267,
    "start_time": "2022-01-22T07:15:00.865Z"
   },
   {
    "duration": -268,
    "start_time": "2022-01-22T07:15:00.867Z"
   },
   {
    "duration": -271,
    "start_time": "2022-01-22T07:15:00.871Z"
   },
   {
    "duration": -274,
    "start_time": "2022-01-22T07:15:00.874Z"
   },
   {
    "duration": -276,
    "start_time": "2022-01-22T07:15:00.877Z"
   },
   {
    "duration": -295,
    "start_time": "2022-01-22T07:15:00.897Z"
   },
   {
    "duration": -298,
    "start_time": "2022-01-22T07:15:00.901Z"
   },
   {
    "duration": -299,
    "start_time": "2022-01-22T07:15:00.903Z"
   },
   {
    "duration": 9,
    "start_time": "2022-01-22T07:19:28.220Z"
   },
   {
    "duration": 3,
    "start_time": "2022-01-22T07:20:08.993Z"
   },
   {
    "duration": 420,
    "start_time": "2022-01-22T07:20:09.003Z"
   },
   {
    "duration": 4,
    "start_time": "2022-01-22T07:20:09.425Z"
   },
   {
    "duration": 9,
    "start_time": "2022-01-22T07:20:09.430Z"
   },
   {
    "duration": 32,
    "start_time": "2022-01-22T07:20:09.440Z"
   },
   {
    "duration": 6,
    "start_time": "2022-01-22T07:20:09.473Z"
   },
   {
    "duration": 4,
    "start_time": "2022-01-22T07:20:09.481Z"
   },
   {
    "duration": 5,
    "start_time": "2022-01-22T07:20:09.487Z"
   },
   {
    "duration": 5636,
    "start_time": "2022-01-22T07:20:09.494Z"
   },
   {
    "duration": 12,
    "start_time": "2022-01-22T07:20:15.133Z"
   },
   {
    "duration": 19,
    "start_time": "2022-01-22T07:20:15.147Z"
   },
   {
    "duration": 83,
    "start_time": "2022-01-22T07:20:15.168Z"
   },
   {
    "duration": 253,
    "start_time": "2022-01-22T07:20:15.252Z"
   },
   {
    "duration": 57,
    "start_time": "2022-01-22T07:20:15.507Z"
   },
   {
    "duration": 65,
    "start_time": "2022-01-22T07:20:15.566Z"
   },
   {
    "duration": 17,
    "start_time": "2022-01-22T07:20:15.632Z"
   },
   {
    "duration": 36,
    "start_time": "2022-01-22T07:20:15.650Z"
   },
   {
    "duration": 87,
    "start_time": "2022-01-22T07:20:15.687Z"
   },
   {
    "duration": 25,
    "start_time": "2022-01-22T07:20:15.776Z"
   },
   {
    "duration": 71,
    "start_time": "2022-01-22T07:20:15.802Z"
   },
   {
    "duration": 26,
    "start_time": "2022-01-22T07:20:15.874Z"
   },
   {
    "duration": 36,
    "start_time": "2022-01-22T07:20:15.902Z"
   },
   {
    "duration": 21,
    "start_time": "2022-01-22T07:20:15.939Z"
   },
   {
    "duration": 14,
    "start_time": "2022-01-22T07:20:15.963Z"
   },
   {
    "duration": 15,
    "start_time": "2022-01-22T07:20:15.979Z"
   },
   {
    "duration": 33,
    "start_time": "2022-01-22T07:20:15.995Z"
   },
   {
    "duration": 12,
    "start_time": "2022-01-22T07:20:16.029Z"
   },
   {
    "duration": 15,
    "start_time": "2022-01-22T07:20:16.042Z"
   },
   {
    "duration": 6,
    "start_time": "2022-01-22T07:20:16.058Z"
   },
   {
    "duration": 145,
    "start_time": "2022-01-22T07:20:16.065Z"
   },
   {
    "duration": 22,
    "start_time": "2022-01-22T07:20:16.212Z"
   },
   {
    "duration": 14,
    "start_time": "2022-01-22T07:20:16.236Z"
   },
   {
    "duration": 8,
    "start_time": "2022-01-22T07:20:16.251Z"
   },
   {
    "duration": 36,
    "start_time": "2022-01-22T07:20:16.260Z"
   },
   {
    "duration": 32,
    "start_time": "2022-01-22T07:20:16.298Z"
   },
   {
    "duration": 291,
    "start_time": "2022-01-22T07:20:16.332Z"
   },
   {
    "duration": 286,
    "start_time": "2022-01-22T07:20:16.627Z"
   },
   {
    "duration": 299,
    "start_time": "2022-01-22T07:20:16.915Z"
   },
   {
    "duration": 1441,
    "start_time": "2022-01-22T07:20:17.216Z"
   },
   {
    "duration": 5,
    "start_time": "2022-01-22T07:20:18.658Z"
   },
   {
    "duration": 4,
    "start_time": "2022-01-22T07:20:18.665Z"
   },
   {
    "duration": 11,
    "start_time": "2022-01-22T07:20:18.671Z"
   },
   {
    "duration": 5,
    "start_time": "2022-01-22T07:20:18.683Z"
   },
   {
    "duration": 37,
    "start_time": "2022-01-22T07:20:18.690Z"
   },
   {
    "duration": 5,
    "start_time": "2022-01-22T07:20:18.728Z"
   },
   {
    "duration": 1226,
    "start_time": "2022-01-22T07:23:51.053Z"
   },
   {
    "duration": 377,
    "start_time": "2022-01-22T07:23:52.281Z"
   },
   {
    "duration": 4,
    "start_time": "2022-01-22T07:23:52.659Z"
   },
   {
    "duration": 5,
    "start_time": "2022-01-22T07:23:52.665Z"
   },
   {
    "duration": 33,
    "start_time": "2022-01-22T07:23:52.671Z"
   },
   {
    "duration": 5,
    "start_time": "2022-01-22T07:23:52.706Z"
   },
   {
    "duration": 5,
    "start_time": "2022-01-22T07:23:52.713Z"
   },
   {
    "duration": 10,
    "start_time": "2022-01-22T07:23:52.720Z"
   },
   {
    "duration": 2574,
    "start_time": "2022-01-22T07:23:52.732Z"
   },
   {
    "duration": 13,
    "start_time": "2022-01-22T07:23:55.308Z"
   },
   {
    "duration": 4,
    "start_time": "2022-01-22T07:23:55.323Z"
   },
   {
    "duration": 74,
    "start_time": "2022-01-22T07:23:55.329Z"
   },
   {
    "duration": 857,
    "start_time": "2022-01-22T07:23:55.405Z"
   },
   {
    "duration": 48,
    "start_time": "2022-01-22T07:23:56.264Z"
   },
   {
    "duration": 54,
    "start_time": "2022-01-22T07:23:56.314Z"
   },
   {
    "duration": 16,
    "start_time": "2022-01-22T07:23:56.370Z"
   },
   {
    "duration": 63,
    "start_time": "2022-01-22T07:23:56.387Z"
   },
   {
    "duration": 82,
    "start_time": "2022-01-22T07:23:56.452Z"
   },
   {
    "duration": 26,
    "start_time": "2022-01-22T07:23:56.536Z"
   },
   {
    "duration": 67,
    "start_time": "2022-01-22T07:23:56.563Z"
   },
   {
    "duration": 34,
    "start_time": "2022-01-22T07:23:56.632Z"
   },
   {
    "duration": 21,
    "start_time": "2022-01-22T07:23:56.668Z"
   },
   {
    "duration": 44,
    "start_time": "2022-01-22T07:23:56.693Z"
   },
   {
    "duration": 15,
    "start_time": "2022-01-22T07:23:56.740Z"
   },
   {
    "duration": 15,
    "start_time": "2022-01-22T07:23:56.757Z"
   },
   {
    "duration": 6,
    "start_time": "2022-01-22T07:23:56.774Z"
   },
   {
    "duration": 45,
    "start_time": "2022-01-22T07:23:56.782Z"
   },
   {
    "duration": 16,
    "start_time": "2022-01-22T07:23:56.828Z"
   },
   {
    "duration": 4,
    "start_time": "2022-01-22T07:23:56.846Z"
   },
   {
    "duration": 99,
    "start_time": "2022-01-22T07:23:56.851Z"
   },
   {
    "duration": 14,
    "start_time": "2022-01-22T07:23:56.951Z"
   },
   {
    "duration": 12,
    "start_time": "2022-01-22T07:23:56.967Z"
   },
   {
    "duration": 5,
    "start_time": "2022-01-22T07:23:56.981Z"
   },
   {
    "duration": 20,
    "start_time": "2022-01-22T07:23:56.987Z"
   },
   {
    "duration": 45,
    "start_time": "2022-01-22T07:23:57.009Z"
   },
   {
    "duration": 300,
    "start_time": "2022-01-22T07:23:57.056Z"
   },
   {
    "duration": 361,
    "start_time": "2022-01-22T07:23:57.357Z"
   },
   {
    "duration": 289,
    "start_time": "2022-01-22T07:23:57.719Z"
   },
   {
    "duration": 1269,
    "start_time": "2022-01-22T07:23:58.009Z"
   },
   {
    "duration": 4,
    "start_time": "2022-01-22T07:23:59.279Z"
   },
   {
    "duration": 5,
    "start_time": "2022-01-22T07:23:59.285Z"
   },
   {
    "duration": 13,
    "start_time": "2022-01-22T07:23:59.291Z"
   },
   {
    "duration": 23,
    "start_time": "2022-01-22T07:23:59.306Z"
   },
   {
    "duration": 9,
    "start_time": "2022-01-22T07:23:59.330Z"
   },
   {
    "duration": 7,
    "start_time": "2022-01-22T07:23:59.340Z"
   },
   {
    "duration": 241,
    "start_time": "2022-01-22T07:28:09.542Z"
   },
   {
    "duration": 410,
    "start_time": "2022-01-22T07:28:24.542Z"
   },
   {
    "duration": 305,
    "start_time": "2022-01-22T07:29:38.782Z"
   },
   {
    "duration": 317,
    "start_time": "2022-01-22T07:30:26.398Z"
   },
   {
    "duration": 304,
    "start_time": "2022-01-22T07:30:33.597Z"
   },
   {
    "duration": 303,
    "start_time": "2022-01-22T07:30:38.644Z"
   },
   {
    "duration": 394,
    "start_time": "2022-01-22T07:30:45.854Z"
   },
   {
    "duration": 317,
    "start_time": "2022-01-22T07:30:51.033Z"
   },
   {
    "duration": 311,
    "start_time": "2022-01-22T07:46:29.766Z"
   },
   {
    "duration": 20,
    "start_time": "2022-01-22T07:59:32.517Z"
   },
   {
    "duration": 122,
    "start_time": "2022-01-22T08:07:09.064Z"
   },
   {
    "duration": 109,
    "start_time": "2022-01-22T08:08:37.317Z"
   },
   {
    "duration": 130,
    "start_time": "2022-01-22T08:11:43.050Z"
   },
   {
    "duration": 106,
    "start_time": "2022-01-22T08:13:51.731Z"
   },
   {
    "duration": 119,
    "start_time": "2022-01-22T08:14:09.461Z"
   },
   {
    "duration": 103,
    "start_time": "2022-01-22T08:14:49.752Z"
   },
   {
    "duration": 499,
    "start_time": "2022-01-22T08:20:18.010Z"
   },
   {
    "duration": 132,
    "start_time": "2022-01-22T08:20:52.980Z"
   },
   {
    "duration": 3,
    "start_time": "2022-01-22T08:28:21.168Z"
   },
   {
    "duration": 116,
    "start_time": "2022-01-22T08:29:19.628Z"
   },
   {
    "duration": 10,
    "start_time": "2022-01-22T08:29:25.768Z"
   },
   {
    "duration": 9,
    "start_time": "2022-01-22T08:40:20.920Z"
   },
   {
    "duration": 3,
    "start_time": "2022-01-22T08:41:26.124Z"
   },
   {
    "duration": 368,
    "start_time": "2022-01-22T08:41:26.130Z"
   },
   {
    "duration": 3,
    "start_time": "2022-01-22T08:41:26.500Z"
   },
   {
    "duration": 6,
    "start_time": "2022-01-22T08:41:26.505Z"
   },
   {
    "duration": 32,
    "start_time": "2022-01-22T08:41:26.513Z"
   },
   {
    "duration": 6,
    "start_time": "2022-01-22T08:41:26.547Z"
   },
   {
    "duration": 5,
    "start_time": "2022-01-22T08:41:26.555Z"
   },
   {
    "duration": 5,
    "start_time": "2022-01-22T08:41:26.561Z"
   },
   {
    "duration": 2693,
    "start_time": "2022-01-22T08:41:26.569Z"
   },
   {
    "duration": 13,
    "start_time": "2022-01-22T08:41:29.264Z"
   },
   {
    "duration": 6,
    "start_time": "2022-01-22T08:41:29.279Z"
   },
   {
    "duration": 71,
    "start_time": "2022-01-22T08:41:29.287Z"
   },
   {
    "duration": 240,
    "start_time": "2022-01-22T08:41:29.360Z"
   },
   {
    "duration": 57,
    "start_time": "2022-01-22T08:41:29.601Z"
   },
   {
    "duration": 44,
    "start_time": "2022-01-22T08:41:29.660Z"
   },
   {
    "duration": 37,
    "start_time": "2022-01-22T08:41:29.706Z"
   },
   {
    "duration": 39,
    "start_time": "2022-01-22T08:41:29.744Z"
   },
   {
    "duration": 93,
    "start_time": "2022-01-22T08:41:29.785Z"
   },
   {
    "duration": 333,
    "start_time": "2022-01-22T08:41:29.880Z"
   },
   {
    "duration": 30,
    "start_time": "2022-01-22T08:41:30.215Z"
   },
   {
    "duration": 52,
    "start_time": "2022-01-22T08:41:30.247Z"
   },
   {
    "duration": 46,
    "start_time": "2022-01-22T08:41:30.300Z"
   },
   {
    "duration": 21,
    "start_time": "2022-01-22T08:41:30.348Z"
   },
   {
    "duration": 17,
    "start_time": "2022-01-22T08:41:30.370Z"
   },
   {
    "duration": 14,
    "start_time": "2022-01-22T08:41:30.389Z"
   },
   {
    "duration": 35,
    "start_time": "2022-01-22T08:41:30.405Z"
   },
   {
    "duration": 6,
    "start_time": "2022-01-22T08:41:30.443Z"
   },
   {
    "duration": 23,
    "start_time": "2022-01-22T08:41:30.451Z"
   },
   {
    "duration": 17,
    "start_time": "2022-01-22T08:41:30.476Z"
   },
   {
    "duration": 5,
    "start_time": "2022-01-22T08:41:30.494Z"
   },
   {
    "duration": 106,
    "start_time": "2022-01-22T08:41:30.500Z"
   },
   {
    "duration": 23,
    "start_time": "2022-01-22T08:41:30.608Z"
   },
   {
    "duration": 15,
    "start_time": "2022-01-22T08:41:30.632Z"
   },
   {
    "duration": 6,
    "start_time": "2022-01-22T08:41:30.648Z"
   },
   {
    "duration": 20,
    "start_time": "2022-01-22T08:41:30.656Z"
   },
   {
    "duration": 35,
    "start_time": "2022-01-22T08:41:30.677Z"
   },
   {
    "duration": 295,
    "start_time": "2022-01-22T08:41:30.713Z"
   },
   {
    "duration": 402,
    "start_time": "2022-01-22T08:41:31.010Z"
   },
   {
    "duration": 294,
    "start_time": "2022-01-22T08:41:31.414Z"
   },
   {
    "duration": 1257,
    "start_time": "2022-01-22T08:41:31.710Z"
   },
   {
    "duration": 5,
    "start_time": "2022-01-22T08:41:32.968Z"
   },
   {
    "duration": 5,
    "start_time": "2022-01-22T08:41:32.974Z"
   },
   {
    "duration": 8,
    "start_time": "2022-01-22T08:41:32.981Z"
   },
   {
    "duration": 4,
    "start_time": "2022-01-22T08:41:32.991Z"
   },
   {
    "duration": 32,
    "start_time": "2022-01-22T08:41:32.996Z"
   },
   {
    "duration": 9,
    "start_time": "2022-01-22T08:41:33.029Z"
   },
   {
    "duration": 4,
    "start_time": "2022-01-22T08:41:33.039Z"
   },
   {
    "duration": 9,
    "start_time": "2022-01-22T08:41:33.045Z"
   },
   {
    "duration": 109,
    "start_time": "2022-01-22T08:45:04.373Z"
   },
   {
    "duration": 113,
    "start_time": "2022-01-22T08:45:07.417Z"
   }
  ],
  "kernelspec": {
   "display_name": "Python 3 (ipykernel)",
   "language": "python",
   "name": "python3"
  },
  "language_info": {
   "codemirror_mode": {
    "name": "ipython",
    "version": 3
   },
   "file_extension": ".py",
   "mimetype": "text/x-python",
   "name": "python",
   "nbconvert_exporter": "python",
   "pygments_lexer": "ipython3",
   "version": "3.9.7"
  },
  "toc": {
   "base_numbering": 1,
   "nav_menu": {},
   "number_sections": true,
   "sideBar": true,
   "skip_h1_title": true,
   "title_cell": "Table of Contents",
   "title_sidebar": "Contents",
   "toc_cell": false,
   "toc_position": {
    "height": "calc(100% - 180px)",
    "left": "10px",
    "top": "150px",
    "width": "338.8235168457031px"
   },
   "toc_section_display": true,
   "toc_window_display": true
  }
 },
 "nbformat": 4,
 "nbformat_minor": 5
}
